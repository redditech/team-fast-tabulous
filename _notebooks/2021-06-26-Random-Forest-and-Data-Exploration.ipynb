{
  "nbformat": 4,
  "nbformat_minor": 0,
  "metadata": {
    "colab": {
      "name": "Tabular-Project.ipynb",
      "provenance": [],
      "collapsed_sections": []
    },
    "kernelspec": {
      "name": "python3",
      "display_name": "Python 3"
    },
    "language_info": {
      "name": "python"
    },
    "widgets": {
      "application/vnd.jupyter.widget-state+json": {
        "dc36d1c8d8f244ff913614df36acf338": {
          "model_module": "@jupyter-widgets/controls",
          "model_name": "LabelModel",
          "state": {
            "_view_name": "LabelView",
            "style": "IPY_MODEL_b797c129f82f40b79fe1f7689f961c18",
            "_dom_classes": [],
            "description": "",
            "_model_name": "LabelModel",
            "placeholder": "​",
            "_view_module": "@jupyter-widgets/controls",
            "_model_module_version": "1.5.0",
            "value": "Upload 'kaggle.json'",
            "_view_count": null,
            "_view_module_version": "1.5.0",
            "description_tooltip": null,
            "_model_module": "@jupyter-widgets/controls",
            "layout": "IPY_MODEL_747df60a7e1f4f0ba54a572816d72f02"
          }
        },
        "b797c129f82f40b79fe1f7689f961c18": {
          "model_module": "@jupyter-widgets/controls",
          "model_name": "DescriptionStyleModel",
          "state": {
            "_view_name": "StyleView",
            "_model_name": "DescriptionStyleModel",
            "description_width": "",
            "_view_module": "@jupyter-widgets/base",
            "_model_module_version": "1.5.0",
            "_view_count": null,
            "_view_module_version": "1.2.0",
            "_model_module": "@jupyter-widgets/controls"
          }
        },
        "747df60a7e1f4f0ba54a572816d72f02": {
          "model_module": "@jupyter-widgets/base",
          "model_name": "LayoutModel",
          "state": {
            "_view_name": "LayoutView",
            "grid_template_rows": null,
            "right": null,
            "justify_content": null,
            "_view_module": "@jupyter-widgets/base",
            "overflow": null,
            "_model_module_version": "1.2.0",
            "_view_count": null,
            "flex_flow": null,
            "width": null,
            "min_width": null,
            "border": null,
            "align_items": null,
            "bottom": null,
            "_model_module": "@jupyter-widgets/base",
            "top": null,
            "grid_column": null,
            "overflow_y": null,
            "overflow_x": null,
            "grid_auto_flow": null,
            "grid_area": null,
            "grid_template_columns": null,
            "flex": null,
            "_model_name": "LayoutModel",
            "justify_items": null,
            "grid_row": null,
            "max_height": null,
            "align_content": null,
            "visibility": null,
            "align_self": null,
            "height": null,
            "min_height": null,
            "padding": null,
            "grid_auto_rows": null,
            "grid_gap": null,
            "max_width": null,
            "order": null,
            "_view_module_version": "1.2.0",
            "grid_template_areas": null,
            "object_position": null,
            "object_fit": null,
            "grid_auto_columns": null,
            "margin": null,
            "display": null,
            "left": null
          }
        },
        "a6cca9259bed416f966e93289f080c3c": {
          "model_module": "@jupyter-widgets/controls",
          "model_name": "FileUploadModel",
          "state": {
            "_view_name": "FileUploadView",
            "_counter": 1,
            "style": "IPY_MODEL_d4457dda69494fa09b16e9fbb8b60125",
            "_dom_classes": [],
            "description": "Upload",
            "multiple": false,
            "_model_name": "FileUploadModel",
            "data": [
              null
            ],
            "button_style": "",
            "_view_module": "@jupyter-widgets/controls",
            "_model_module_version": "1.5.0",
            "accept": ".json",
            "_view_count": null,
            "disabled": false,
            "_view_module_version": "1.5.0",
            "error": "",
            "description_tooltip": null,
            "metadata": [
              {
                "name": "kaggle.json",
                "type": "application/json",
                "size": 72,
                "lastModified": 1624677945906
              }
            ],
            "_model_module": "@jupyter-widgets/controls",
            "layout": "IPY_MODEL_6015206e6ab24fbb8adc7e5fcc1a506c",
            "icon": "upload"
          }
        },
        "d4457dda69494fa09b16e9fbb8b60125": {
          "model_module": "@jupyter-widgets/controls",
          "model_name": "ButtonStyleModel",
          "state": {
            "_view_name": "StyleView",
            "_model_name": "ButtonStyleModel",
            "_view_module": "@jupyter-widgets/base",
            "_model_module_version": "1.5.0",
            "_view_count": null,
            "button_color": null,
            "font_weight": "",
            "_view_module_version": "1.2.0",
            "_model_module": "@jupyter-widgets/controls"
          }
        },
        "6015206e6ab24fbb8adc7e5fcc1a506c": {
          "model_module": "@jupyter-widgets/base",
          "model_name": "LayoutModel",
          "state": {
            "_view_name": "LayoutView",
            "grid_template_rows": null,
            "right": null,
            "justify_content": null,
            "_view_module": "@jupyter-widgets/base",
            "overflow": null,
            "_model_module_version": "1.2.0",
            "_view_count": null,
            "flex_flow": null,
            "width": null,
            "min_width": null,
            "border": null,
            "align_items": null,
            "bottom": null,
            "_model_module": "@jupyter-widgets/base",
            "top": null,
            "grid_column": null,
            "overflow_y": null,
            "overflow_x": null,
            "grid_auto_flow": null,
            "grid_area": null,
            "grid_template_columns": null,
            "flex": null,
            "_model_name": "LayoutModel",
            "justify_items": null,
            "grid_row": null,
            "max_height": null,
            "align_content": null,
            "visibility": null,
            "align_self": null,
            "height": null,
            "min_height": null,
            "padding": null,
            "grid_auto_rows": null,
            "grid_gap": null,
            "max_width": null,
            "order": null,
            "_view_module_version": "1.2.0",
            "grid_template_areas": null,
            "object_position": null,
            "object_fit": null,
            "grid_auto_columns": null,
            "margin": null,
            "display": null,
            "left": null
          }
        }
      }
    }
  },
  "cells": [
    {
      "cell_type": "markdown",
      "metadata": {
        "id": "HQcYAw-L2faq"
      },
      "source": [
        "# Random Forest Baseline\n",
        "This is a basic random forest model for the purposes of data exploration and\n",
        "establishing a basline performance which can be references when more\n",
        "advanced models are used."
      ]
    },
    {
      "cell_type": "markdown",
      "metadata": {
        "id": "MvzHGp88QL6x"
      },
      "source": [
        "# Load Kaggle API Key and Libraries"
      ]
    },
    {
      "cell_type": "code",
      "metadata": {
        "colab": {
          "base_uri": "https://localhost:8080/",
          "height": 81,
          "referenced_widgets": [
            "dc36d1c8d8f244ff913614df36acf338",
            "b797c129f82f40b79fe1f7689f961c18",
            "747df60a7e1f4f0ba54a572816d72f02",
            "a6cca9259bed416f966e93289f080c3c",
            "d4457dda69494fa09b16e9fbb8b60125",
            "6015206e6ab24fbb8adc7e5fcc1a506c"
          ]
        },
        "id": "S6h7lsxbE6ZX",
        "outputId": "53836da0-d37b-44c1-bb6a-10b9f517d3fb"
      },
      "source": [
        "#Initialise Kaggle API Key\n",
        "!pip install -Uqq ipywidgets #This is already included in fastai but ah well\n",
        "import ipywidgets as widgets\n",
        "import os\n",
        "\n",
        "def on_file_upload(change):\n",
        "  if not os.path.exists(\"../root/.kaggle\"):\n",
        "    os.mkdir(\"../root/.kaggle\")\n",
        "\n",
        "  with open(\"../root/.kaggle/kaggle.json\", \"w\") as file:\n",
        "    file.write(str(btn_upload.data[-1])[2:-1])\n",
        "\n",
        "  !chmod 600 \"../root/.kaggle/kaggle.json\"\n",
        "\n",
        "btn_upload = widgets.FileUpload(accept='.json', multiple=False)\n",
        "btn_upload.observe(on_file_upload, names='data')\n",
        "\n",
        "display(widgets.Label('Upload \\'kaggle.json\\''), btn_upload)"
      ],
      "execution_count": 1,
      "outputs": [
        {
          "output_type": "display_data",
          "data": {
            "application/vnd.jupyter.widget-view+json": {
              "model_id": "dc36d1c8d8f244ff913614df36acf338",
              "version_minor": 0,
              "version_major": 2
            },
            "text/plain": [
              "Label(value=\"Upload 'kaggle.json'\")"
            ]
          },
          "metadata": {
            "tags": []
          }
        },
        {
          "output_type": "display_data",
          "data": {
            "application/vnd.jupyter.widget-view+json": {
              "model_id": "a6cca9259bed416f966e93289f080c3c",
              "version_minor": 0,
              "version_major": 2
            },
            "text/plain": [
              "FileUpload(value={}, accept='.json', description='Upload')"
            ]
          },
          "metadata": {
            "tags": []
          }
        }
      ]
    },
    {
      "cell_type": "code",
      "metadata": {
        "id": "QWtRsjSuE4qs",
        "colab": {
          "base_uri": "https://localhost:8080/"
        },
        "outputId": "6c347542-6917-400c-bb77-3213e42d7a7a"
      },
      "source": [
        "#Imports\n",
        "!pip install -Uqq fastai\n",
        "!pip install -Uqq kaggle\n",
        "\n",
        "import pandas as pd\n",
        "import numpy as np\n",
        "\n",
        "from fastai.tabular.all import *\n",
        "from google.colab import files\n",
        "from kaggle import api\n",
        "from sklearn.model_selection import train_test_split\n",
        "from sklearn.compose import ColumnTransformer\n",
        "from sklearn.pipeline import Pipeline\n",
        "from sklearn.impute import SimpleImputer\n",
        "from sklearn.preprocessing import OneHotEncoder\n",
        "from sklearn.ensemble import RandomForestRegressor\n",
        "from sklearn.ensemble import RandomForestClassifier\n",
        "from sklearn.metrics import mean_absolute_error\n",
        "from sklearn.metrics import roc_auc_score\n",
        "from sklearn.metrics import plot_roc_curve\n",
        "from sklearn.metrics import accuracy_score\n",
        "from sklearn.metrics import plot_confusion_matrix"
      ],
      "execution_count": 2,
      "outputs": [
        {
          "output_type": "stream",
          "text": [
            "\u001b[K     |████████████████████████████████| 194kB 4.4MB/s \n",
            "\u001b[K     |████████████████████████████████| 61kB 4.9MB/s \n",
            "\u001b[?25h"
          ],
          "name": "stdout"
        }
      ]
    },
    {
      "cell_type": "markdown",
      "metadata": {
        "id": "nbQrVZKXQmVe"
      },
      "source": [
        "# Load and Clean Data"
      ]
    },
    {
      "cell_type": "code",
      "metadata": {
        "id": "KJNqV2NxcV0Q",
        "colab": {
          "base_uri": "https://localhost:8080/"
        },
        "outputId": "38de36c4-88c6-4fd4-91ff-360787c3f549"
      },
      "source": [
        "#Download and extract kaggle data\n",
        "api.competition_download_cli(\"homesite-quote-conversion\")\n",
        "file_extract(\"homesite-quote-conversion.zip\")\n",
        "\n",
        "#Extract all sub-directories and delete .zip files\n",
        "for item in os.listdir():\n",
        "  if item.endswith(\".zip\"): file_extract(item)\n",
        "for item in os.listdir():\n",
        "  if item.endswith(\".zip\"): os.remove(item)"
      ],
      "execution_count": 3,
      "outputs": [
        {
          "output_type": "stream",
          "text": [
            "  8%|▊         | 5.00M/62.0M [00:00<00:01, 49.2MB/s]"
          ],
          "name": "stderr"
        },
        {
          "output_type": "stream",
          "text": [
            "Downloading homesite-quote-conversion.zip to /content\n"
          ],
          "name": "stdout"
        },
        {
          "output_type": "stream",
          "text": [
            "100%|██████████| 62.0M/62.0M [00:00<00:00, 138MB/s] \n"
          ],
          "name": "stderr"
        },
        {
          "output_type": "stream",
          "text": [
            "\n"
          ],
          "name": "stdout"
        }
      ]
    },
    {
      "cell_type": "code",
      "metadata": {
        "id": "8oKqygJuwoZu"
      },
      "source": [
        "#Load csv files\n",
        "X_full = pd.read_csv(\"train.csv\", parse_dates=['Original_Quote_Date'])\n",
        "X_test_full = pd.read_csv(\"test.csv\", parse_dates=['Original_Quote_Date'])\n",
        "\n",
        "#Remove rows with missing target data (QuoteConversion_Flag)\n",
        "X_full.dropna(axis=0, subset=['QuoteConversion_Flag'], inplace=True)\n",
        "\n",
        "#Format dates\n",
        "#This model actually performs better if dates are just dropped\n",
        "#but I've included them just to demonstrate how this would be done\n",
        "X_full[\"Year\"] = X_full[\"Original_Quote_Date\"].dt.year\n",
        "X_full[\"Month\"] = X_full[\"Original_Quote_Date\"].dt.month\n",
        "X_full[\"Day\"] = X_full[\"Original_Quote_Date\"].dt.day\n",
        "X_test_full[\"Year\"] = X_test_full[\"Original_Quote_Date\"].dt.year\n",
        "X_test_full[\"Month\"] = X_test_full[\"Original_Quote_Date\"].dt.month\n",
        "X_test_full[\"Day\"] = X_test_full[\"Original_Quote_Date\"].dt.day\n",
        "X_full = X_full.drop(\"Original_Quote_Date\", axis=1)\n",
        "X_test_full = X_test_full.drop(\"Original_Quote_Date\", axis=1)\n",
        "\n",
        "#Seperate target column from the rest of the data (seperate X from Y)\n",
        "y = X_full.QuoteConversion_Flag\n",
        "X_full.drop(['QuoteConversion_Flag'], axis=1, inplace=True)\n",
        "\n",
        "#Split data for training\n",
        "X_train_full, X_valid_full, y_train, y_valid = train_test_split(X_full, y, train_size=0.8, test_size=0.2, random_state=42)\n",
        "\n",
        "#Select numrical columns\n",
        "numerical_cols = [col for col in X_train_full.columns if X_train_full[col].dtype in ['int64', 'float64']]\n",
        "\n",
        "#Select categorical columns (must have cardinality < 10)\n",
        "categorical_cols = [col for col in X_train_full.columns if X_train_full[col].dtype == 'object' and X_train_full[col].nunique() < 10]\n",
        "\n",
        "#Combine together to get all columns\n",
        "selected_cols = numerical_cols + categorical_cols\n",
        "X_train = X_train_full[selected_cols].copy()\n",
        "X_valid = X_valid_full[selected_cols].copy()\n",
        "X_test = X_test_full[selected_cols].copy()"
      ],
      "execution_count": 4,
      "outputs": []
    },
    {
      "cell_type": "code",
      "metadata": {
        "id": "Fm437erTwzs2"
      },
      "source": [
        "#Preprocessing for numerical data\n",
        "numerical_transformer = SimpleImputer(strategy='mean')\n",
        "\n",
        "#Preprocessing for categorical data\n",
        "categorical_transformer = Pipeline(steps=[\n",
        "    ('imputer', SimpleImputer(strategy='most_frequent')),\n",
        "    ('onehot', OneHotEncoder(handle_unknown='ignore'))\n",
        "])\n",
        "\n",
        "#Bundle preprocessing for numerical and categorical data\n",
        "preprocessor = ColumnTransformer(\n",
        "    transformers=[\n",
        "        ('num', numerical_transformer, numerical_cols),\n",
        "        ('cat', categorical_transformer, categorical_cols)\n",
        "    ])\n",
        "\n",
        "#Define model\n",
        "model = RandomForestClassifier(n_estimators=100, random_state=0)\n",
        "\n",
        "#Bundle preprocessing and modeling code in a pipeline\n",
        "clf = Pipeline(steps=[\n",
        "                      ('preprocessor', preprocessor),\n",
        "                      ('model', model)\n",
        "                      ])"
      ],
      "execution_count": 5,
      "outputs": []
    },
    {
      "cell_type": "markdown",
      "metadata": {
        "id": "L9bN0Ny6RO7r"
      },
      "source": [
        "# Fit and Predict"
      ]
    },
    {
      "cell_type": "code",
      "metadata": {
        "id": "UC0drIoDyZ1z"
      },
      "source": [
        "#Preprocessing of training data, fit model \n",
        "clf.fit(X_train, y_train)\n",
        "\n",
        "#Preprocessing of validation data, get predictions\n",
        "preds = clf.predict(X_valid)"
      ],
      "execution_count": 6,
      "outputs": []
    },
    {
      "cell_type": "code",
      "metadata": {
        "id": "blcvuuJrzcsj"
      },
      "source": [
        "#Predict test csv for an 'official' kaggle submission\n",
        "preds_final = clf.predict(X_test)\n",
        "\n",
        "#Format and output to csv file\n",
        "df_final = pd.DataFrame({\n",
        "    \"QuoteNumber\": X_test.QuoteNumber,\n",
        "    \"QuoteConversion_Flag\": preds_final\n",
        "})\n",
        "\n",
        "df_final.to_csv(\"submission.csv\", index=False)"
      ],
      "execution_count": 7,
      "outputs": []
    },
    {
      "cell_type": "markdown",
      "metadata": {
        "id": "f4H1dr4kSqjC"
      },
      "source": [
        "# Visualisations"
      ]
    },
    {
      "cell_type": "code",
      "metadata": {
        "colab": {
          "base_uri": "https://localhost:8080/"
        },
        "id": "-IO7ZxQlIG9U",
        "outputId": "6cfea882-9325-4cf4-b627-1a74eee44c33"
      },
      "source": [
        "#Compute Area Under the Receiver Operating Characteristic Curve\n",
        "print(\"ROC AUC Score: \" + str(roc_auc_score(y_valid, preds)))"
      ],
      "execution_count": 8,
      "outputs": [
        {
          "output_type": "stream",
          "text": [
            "ROC AUC Score: 0.80549992883288\n"
          ],
          "name": "stdout"
        }
      ]
    },
    {
      "cell_type": "code",
      "metadata": {
        "colab": {
          "base_uri": "https://localhost:8080/",
          "height": 297
        },
        "id": "LPhZjcIPIZXo",
        "outputId": "9565b71b-c97c-492a-dc02-293dac633e8e"
      },
      "source": [
        "#Plot receiver operating characteristic curve\n",
        "plot_roc_curve(clf, X_valid, y_valid)"
      ],
      "execution_count": 9,
      "outputs": [
        {
          "output_type": "execute_result",
          "data": {
            "text/plain": [
              "<sklearn.metrics._plot.roc_curve.RocCurveDisplay at 0x7f9556139a50>"
            ]
          },
          "metadata": {
            "tags": []
          },
          "execution_count": 9
        },
        {
          "output_type": "display_data",
          "data": {
            "image/png": "[encoded data removed]",
            "text/plain": [
              "<Figure size 432x288 with 1 Axes>"
            ]
          },
          "metadata": {
            "tags": [],
            "needs_background": "light"
          }
        }
      ]
    },
    {
      "cell_type": "code",
      "metadata": {
        "colab": {
          "base_uri": "https://localhost:8080/",
          "height": 297
        },
        "id": "QbjAFeDSIMNQ",
        "outputId": "16c3b0ae-3a72-48c6-ffd1-fc63c6df3b75"
      },
      "source": [
        "plot_confusion_matrix(clf, X_valid, y_valid, values_format='d')"
      ],
      "execution_count": 10,
      "outputs": [
        {
          "output_type": "execute_result",
          "data": {
            "text/plain": [
              "<sklearn.metrics._plot.confusion_matrix.ConfusionMatrixDisplay at 0x7f9555d7fc10>"
            ]
          },
          "metadata": {
            "tags": []
          },
          "execution_count": 10
        },
        {
          "output_type": "display_data",
          "data": {
            "image/png": "[encoded data removed]",
            "text/plain": [
              "<Figure size 432x288 with 2 Axes>"
            ]
          },
          "metadata": {
            "tags": [],
            "needs_background": "light"
          }
        }
      ]
    },
    {
      "cell_type": "code",
      "metadata": {
        "id": "gVM4IqaYJdI-"
      },
      "source": [
        ""
      ],
      "execution_count": 10,
      "outputs": []
    }
  ]
}