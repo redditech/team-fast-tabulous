{
 "cells": [
  {
   "cell_type": "markdown",
   "id": "2c7e2183",
   "metadata": {},
   "source": [
    "# Deploying App in Voila\n",
    "> App was deployed on an Amazon AWS spot instance. Final app source code available at [https://github.com/timcu/fast-tabulous-app/blob/main/fast-tabulous-with-db.ipynb](https://github.com/timcu/fast-tabulous-app/blob/main/fast-tabulous-with-db.ipynb) . Final app can be used at [https://tabulous.pythonator.com](https://tabulous.pythonator.com)\n",
    "\n",
    "- toc: true \n",
    "- badges: true\n",
    "- comments: true\n",
    "- categories: [Deployment, ipywidgets, TabularLearner, CPU, Sensitivity Analysis, Voila, Ubuntu, nginx]\n",
    "- author: Tim Cummings"
   ]
  },
  {
   "cell_type": "markdown",
   "id": "6983b645",
   "metadata": {},
   "source": [
    "## Issues influencing deployment\n",
    "\n",
    "- Early trials were showing memory problems in 16GB of RAM (app not loading properly) so 32GB RAM chosen\n",
    "- Voila not showing ipywidgets properly when deployed through apache2 so nginx chosen for easier proxying of web sockets\n",
    "- App was considered to be not mission critical so Amazon Spot Instance would be adequate giving 70% saving over Amazon On Demand Instance. \n",
    "- Deploy in Sydney data centre so most economic 32GB spot instance type available is t3.2xlarge (set max cost $0.20 per hour)\n",
    "- Choose latest LTS Ubuntu 20.04"
   ]
  },
  {
   "cell_type": "markdown",
   "id": "7d2d42a8",
   "metadata": {},
   "source": [
    "## Configure Ubuntu\n",
    "\n",
    "After starting instance we get an IP address. We have a domain name for this instance `tabulous.pythonator.com` which we register with our DNS provider.\n",
    "\n",
    "Now we can connect to the server using \n",
    "\n",
    "    ssh ubuntu@tabulous.pythonator.com\n",
    "   \n",
    "Install required packages\n",
    "\n",
    "    sudo apt install python3.8-venv mc nginx python3-certbot-nginx mongodb\n",
    "\n",
    "- Python `venv` to create python virtual environments\n",
    "- Midnight Commander `mc` for ease of file operations\n",
    "- Web server `nginx` for ease of web socket proxying\n",
    "- Let's encrypt `certbot` to create https certificate\n",
    "- Database `mongodb` to improve app load times rather than loading all data from csv to DataFrame every app load"
   ]
  },
  {
   "cell_type": "markdown",
   "id": "cb521929",
   "metadata": {},
   "source": [
    "## Configure Voila/Jupyter\n",
    "\n",
    "Create a directory called jupyter from which will run jupyter and voila. Install a python virtual environment so not to pollute system python.\n",
    "\n",
    "    mkdir -p jupyter/homesite-quote\n",
    "    cd jupyter\n",
    "    python3 -m venv venv\n",
    "    source venv/bin/activate"
   ]
  },
  {
   "cell_type": "markdown",
   "id": "65521269",
   "metadata": {},
   "source": [
    "### Configure python virtual environment for fastai, jupyter, ipywidgets, voila, kaggle and pymongo\n",
    "    \n",
    "    nano requirements.txt\n",
    "        # jupyter/requirements.txt\n",
    "        fastai==2.4.1\n",
    "        fastbook==0.0.16\n",
    "        fastcore==1.3.20\n",
    "        fastprogress==1.0.0\n",
    "        fastrelease==0.1.11\n",
    "        ipykernel==5.5.5\n",
    "        ipython==7.24.1\n",
    "        ipython-genutils==0.2.0\n",
    "        ipywidgets==7.6.3\n",
    "        jupyter==1.0.0\n",
    "        jupyter-client==6.1.12\n",
    "        jupyter-console==6.4.0\n",
    "        jupyter-core==4.7.1\n",
    "        jupyter-server==1.10.1\n",
    "        notebook==6.4.0\n",
    "        numpy==1.20.3\n",
    "        pandas==1.2.4\n",
    "        scikit-learn==0.24.2\n",
    "        scipy==1.6.3\n",
    "        torch==1.8.1\n",
    "        torchvision==0.9.1\n",
    "        voila==0.2.10\n",
    "        kaggle\n",
    "        pymongo\n",
    "    \n",
    "    pip install -r requirements.txt\n",
    "    \n",
    "Installing these python libraries will give an incompatibility with fastai requiring nbconvert<6 and voila requiring nbconvert>=6. Although not ideal, it seems we can ignore this for now."
   ]
  },
  {
   "cell_type": "markdown",
   "id": "9178ed1e",
   "metadata": {},
   "source": [
    "### Copy model to server from GPU computer\n",
    "\n",
    "    scp learn_empty_dls_0708.pkl ubuntu@tabulous.pythonator.com:jupyter/homesite-quote/"
   ]
  },
  {
   "cell_type": "markdown",
   "id": "a8ac388c",
   "metadata": {},
   "source": [
    "### Set up kaggle api\n",
    "\n",
    "    mkdir ~/.kaggle\n",
    "    nano ~/.kaggle/kaggle.json\n",
    "        {\"username\":\"yourusername\",\"key\":\"yourkey\"}"
   ]
  },
  {
   "cell_type": "markdown",
   "id": "1c98178e",
   "metadata": {},
   "source": [
    "### Install app in jupyter folder\n",
    "\n",
    "    cd ~/jupyter\n",
    "    git clone https://github.com/timcu/fast-tabulous-app.git"
   ]
  },
  {
   "cell_type": "markdown",
   "id": "7577415a",
   "metadata": {},
   "source": [
    "### Configure Voila as a service and start\n",
    "\n",
    "    sudo nano /etc/systemd/system/voila.service\n",
    "        [Unit]\n",
    "        Description=Voila\n",
    "        [Service]\n",
    "        Type=simple\n",
    "        PIDFile=/run/voila.pid\n",
    "        ExecStart=/home/ubuntu/jupyter/venv/bin/voila --no-browser --show_tracebacks=True fast-tabulous-app/fast-tabulous-with-db.ipynb\n",
    "        User=ubuntu\n",
    "        WorkingDirectory=/home/ubuntu/jupyter\n",
    "        Restart=always\n",
    "        RestartSec=10\n",
    "        [Install]\n",
    "        WantedBy=multi-user.target\n",
    "        \n",
    "    sudo systemctl daemon-reload\n",
    "    sudo systemctl start voila  # start now\n",
    "    sudo systemctl enable voila  # start after every reboot or failure"
   ]
  },
  {
   "cell_type": "markdown",
   "id": "f37d0e98",
   "metadata": {},
   "source": [
    "## Configure nginx\n",
    "\n",
    "    sudo nano /etc/nginx/sites-available/tabulous.pythonator.com\n",
    "        server {\n",
    "            server_name tabulous.pythonator.com;\n",
    "            root /var/www/tabulous.pythonator.com;\n",
    "            proxy_buffering off;\n",
    "            location / {\n",
    "                    proxy_pass http://localhost:8866;\n",
    "                    proxy_set_header Host $host;\n",
    "                    proxy_set_header X-Real-IP $remote_addr;\n",
    "                    proxy_set_header X-Forwarded-For $proxy_add_x_forwarded_for;\n",
    "\n",
    "                    proxy_http_version 1.1;\n",
    "                    proxy_set_header Upgrade $http_upgrade;\n",
    "                    proxy_set_header Connection \"upgrade\";\n",
    "                    proxy_read_timeout 86400;\n",
    "            }\n",
    "            client_max_body_size 100M;\n",
    "            error_log /var/log/nginx/error.log;\n",
    "            listen 80;\n",
    "            listen [::]:80;\n",
    "        }"
   ]
  },
  {
   "cell_type": "markdown",
   "id": "c913b0aa",
   "metadata": {},
   "source": [
    "    cd /etc/nginx/sites-enabled\n",
    "    sudo ln -s ../sites-available/tabulous.pythonator.com\n",
    "    \n",
    "Now create a certificate for the site choosing redirect when asked the question\n",
    "\n",
    "    sudo certbot --nginx -d tabulous.pythonator.com  # 2 - redirect\n",
    "\n",
    "It may be necessary to move all the proxy lines from 80 to 443 after reconfigured"
   ]
  },
  {
   "cell_type": "markdown",
   "id": "91f7ebf4",
   "metadata": {},
   "source": [
    "## Visit the site and check it all works\n",
    "\n",
    "[https://tabulous.pythonator.com](https://tabulous.pythonator.com)"
   ]
  },
  {
   "cell_type": "markdown",
   "id": "56bf1587",
   "metadata": {},
   "source": [
    "## Troubleshooting jupyter\n",
    "\n",
    "Connect to server tunnelling port 8888\n",
    "\n",
    "    ssh -L 8888:localhost:8888 ubuntu@tabulous.pythonator.com\n",
    "    cd jupyter\n",
    "    source venv/bin/activate\n",
    "    jupyter notebook\n",
    "\n",
    "Then enter URL into browser on local computer. Running notebook should show log messages in console."
   ]
  },
  {
   "cell_type": "markdown",
   "id": "721f4287",
   "metadata": {},
   "source": [
    "## Troubleshooting voila\n",
    "\n",
    "Connect to server tunnelling port 8866\n",
    "\n",
    "    ssh -L 8866:localhost:8866 ubuntu@tabulous.pythonator.com\n",
    "    cd jupyter\n",
    "    source venv/bin/activate\n",
    "    voila\n",
    "\n",
    "Then enter URL into browser on local computer. Running notebook should show log messages in console."
   ]
  },
  {
   "cell_type": "markdown",
   "id": "70e3130b",
   "metadata": {},
   "source": [
    "## Trougbleshooting voila service\n",
    "\n",
    "    sudo systemctl status voila"
   ]
  },
  {
   "cell_type": "markdown",
   "id": "065461d8",
   "metadata": {},
   "source": [
    "## Troubleshooting nginx\n",
    "\n",
    "Check logs in /var/log/nginx"
   ]
  },
  {
   "cell_type": "code",
   "execution_count": null,
   "id": "3f3ca4c2",
   "metadata": {},
   "outputs": [],
   "source": []
  }
 ],
 "metadata": {
  "kernelspec": {
   "display_name": "Python 3",
   "language": "python",
   "name": "python3"
  },
  "language_info": {
   "codemirror_mode": {
    "name": "ipython",
    "version": 3
   },
   "file_extension": ".py",
   "mimetype": "text/x-python",
   "name": "python",
   "nbconvert_exporter": "python",
   "pygments_lexer": "ipython3",
   "version": "3.9.6"
  }
 },
 "nbformat": 4,
 "nbformat_minor": 5
}
