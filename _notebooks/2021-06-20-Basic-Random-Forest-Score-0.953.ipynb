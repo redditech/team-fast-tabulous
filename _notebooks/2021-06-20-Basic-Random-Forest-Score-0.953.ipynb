{
 "cells": [
  {
   "cell_type": "markdown",
   "metadata": {
    "id": "60nxKx6GOk1w"
   },
   "source": [
    "# Basic Random Forest Model Kaggle Score 0.953\n",
    "> Some code referenced directly from other Kaggle workbooks\n",
    "\n",
    "- toc: true \n",
    "- badges: true\n",
    "- comments: true\n",
    "- categories: [jupyter]\n",
    "- image: images/chart-preview.png\n",
    "- author: Tracy Dinh"
   ]
  },
  {
   "cell_type": "markdown",
   "metadata": {
    "id": "Nu4O3x1tOzIf"
   },
   "source": [
    "This is a Colab notebook. Basic Random Forest Model without any hyperparameter tuning and feature engineering. Kaggle Score 0.953. This can be a baseline model"
   ]
  },
  {
   "cell_type": "code",
   "execution_count": 1,
   "metadata": {
    "colab": {
     "base_uri": "https://localhost:8080/"
    },
    "executionInfo": {
     "elapsed": 48242,
     "status": "ok",
     "timestamp": 1624189120406,
     "user": {
      "displayName": "Nissan Dookeran",
      "photoUrl": "https://lh3.googleusercontent.com/a-/AOh14GjX7TWnLkg-K8TmlLAPixO8NhfoICak-b5lZGGqXeU=s64",
      "userId": "10969188591745969823"
     },
     "user_tz": -600
    },
    "id": "epwKt0Fp3eAK",
    "outputId": "8510b993-193b-412e-d9d9-d5d5fcb61577"
   },
   "outputs": [
    {
     "name": "stdout",
     "output_type": "stream",
     "text": [
      "\u001b[K     |████████████████████████████████| 727kB 30.8MB/s \n",
      "\u001b[K     |████████████████████████████████| 61kB 8.4MB/s \n",
      "\u001b[K     |████████████████████████████████| 51kB 7.9MB/s \n",
      "\u001b[K     |████████████████████████████████| 194kB 45.1MB/s \n",
      "\u001b[K     |████████████████████████████████| 1.2MB 44.8MB/s \n",
      "\u001b[K     |████████████████████████████████| 61kB 9.6MB/s \n",
      "\u001b[K     |████████████████████████████████| 61kB 8.9MB/s \n",
      "\u001b[?25h  Building wheel for waterfallcharts (setup.py) ... \u001b[?25l\u001b[?25hdone\n",
      "  Building wheel for dtreeviz (setup.py) ... \u001b[?25l\u001b[?25hdone\n",
      "Mounted at /content/gdrive\n"
     ]
    }
   ],
   "source": [
    "#hide\n",
    "!pip install -Uqq fastbook kaggle waterfallcharts treeinterpreter dtreeviz\n",
    "import fastbook\n",
    "fastbook.setup_book()"
   ]
  },
  {
   "cell_type": "code",
   "execution_count": 2,
   "metadata": {
    "executionInfo": {
     "elapsed": 308,
     "status": "ok",
     "timestamp": 1624189151992,
     "user": {
      "displayName": "Nissan Dookeran",
      "photoUrl": "https://lh3.googleusercontent.com/a-/AOh14GjX7TWnLkg-K8TmlLAPixO8NhfoICak-b5lZGGqXeU=s64",
      "userId": "10969188591745969823"
     },
     "user_tz": -600
    },
    "id": "q8Q7ZajT21Og"
   },
   "outputs": [],
   "source": [
    "import pandas as pd\n",
    "import numpy as np\n",
    "\n",
    "\n",
    "from sklearn.ensemble import RandomForestClassifier\n",
    "from sklearn.tree import DecisionTreeClassifier\n",
    "\n",
    "\n",
    "from sklearn.model_selection import train_test_split\n",
    "\n",
    "from sklearn.metrics import accuracy_score\n",
    "from sklearn.metrics import mean_squared_error\n",
    "from sklearn.metrics import plot_roc_curve\n",
    "from sklearn.metrics import plot_confusion_matrix\n",
    "from sklearn.metrics import roc_auc_score\n",
    "\n",
    "\n",
    "import matplotlib.pyplot as plt\n",
    "\n",
    "from fastbook import *\n",
    "from fastai.tabular.all import *\n",
    "from dtreeviz.trees import *\n",
    "from IPython.display import Image, display_svg, SVG\n",
    "import random as rd\n",
    "\n",
    "\n",
    "pd.options.display.max_rows = 20\n",
    "pd.options.display.max_columns = 8"
   ]
  },
  {
   "cell_type": "markdown",
   "metadata": {
    "id": "awex9kRM47UD"
   },
   "source": [
    "## Download Data From Kaggle"
   ]
  },
  {
   "cell_type": "code",
   "execution_count": 4,
   "metadata": {
    "executionInfo": {
     "elapsed": 1052,
     "status": "ok",
     "timestamp": 1624189254333,
     "user": {
      "displayName": "Nissan Dookeran",
      "photoUrl": "https://lh3.googleusercontent.com/a-/AOh14GjX7TWnLkg-K8TmlLAPixO8NhfoICak-b5lZGGqXeU=s64",
      "userId": "10969188591745969823"
     },
     "user_tz": -600
    },
    "id": "Z4EPr--G3mWx"
   },
   "outputs": [],
   "source": [
    "!mkdir -p ~/.kaggle\n",
    "!cp /content/gdrive/MyDrive/Kaggle/kaggle.json ~/.kaggle/\n",
    "!chmod 600 ~/.kaggle/kaggle.json"
   ]
  },
  {
   "cell_type": "code",
   "execution_count": 5,
   "metadata": {
    "colab": {
     "base_uri": "https://localhost:8080/"
    },
    "executionInfo": {
     "elapsed": 281,
     "status": "ok",
     "timestamp": 1624189259467,
     "user": {
      "displayName": "Nissan Dookeran",
      "photoUrl": "https://lh3.googleusercontent.com/a-/AOh14GjX7TWnLkg-K8TmlLAPixO8NhfoICak-b5lZGGqXeU=s64",
      "userId": "10969188591745969823"
     },
     "user_tz": -600
    },
    "id": "GzVlOfVn3n4r",
    "outputId": "49955ecc-d3ca-4542-c009-ea8b42d01e9d"
   },
   "outputs": [
    {
     "data": {
      "text/plain": [
       "Path('/content/gdrive/MyDrive/Kaggle/data/homesite-quote')"
      ]
     },
     "execution_count": 5,
     "metadata": {
      "tags": []
     },
     "output_type": "execute_result"
    }
   ],
   "source": [
    "path = Path('/content/gdrive/MyDrive/Kaggle/' + 'data/homesite-quote')\n",
    "path.mkdir(parents=True, exist_ok=True)\n",
    "path\n"
   ]
  },
  {
   "cell_type": "code",
   "execution_count": 6,
   "metadata": {
    "colab": {
     "base_uri": "https://localhost:8080/"
    },
    "executionInfo": {
     "elapsed": 2489,
     "status": "ok",
     "timestamp": 1624189268209,
     "user": {
      "displayName": "Nissan Dookeran",
      "photoUrl": "https://lh3.googleusercontent.com/a-/AOh14GjX7TWnLkg-K8TmlLAPixO8NhfoICak-b5lZGGqXeU=s64",
      "userId": "10969188591745969823"
     },
     "user_tz": -600
    },
    "id": "YPFd9nwG3xQX",
    "outputId": "195fc411-defc-4095-cccf-df282db0e2df"
   },
   "outputs": [
    {
     "name": "stdout",
     "output_type": "stream",
     "text": [
      "Warning: Looks like you're using an outdated API Version, please consider updating (server 1.5.12 / client 1.5.4)\n",
      "Downloading train.csv.zip to /content/gdrive/MyDrive/Kaggle/data/homesite-quote\n",
      " 89% 33.0M/37.1M [00:00<00:00, 63.7MB/s]\n",
      "100% 37.1M/37.1M [00:00<00:00, 83.8MB/s]\n",
      "Downloading sample_submission.csv.zip to /content/gdrive/MyDrive/Kaggle/data/homesite-quote\n",
      "  0% 0.00/258k [00:00<?, ?B/s]\n",
      "100% 258k/258k [00:00<00:00, 36.1MB/s]\n",
      "Downloading test.csv.zip to /content/gdrive/MyDrive/Kaggle/data/homesite-quote\n",
      " 53% 13.0M/24.7M [00:00<00:00, 68.0MB/s]\n",
      "100% 24.7M/24.7M [00:00<00:00, 82.5MB/s]\n"
     ]
    }
   ],
   "source": [
    "!kaggle competitions download -c homesite-quote-conversion -p /content/gdrive/MyDrive/Kaggle/data/homesite-quote\n"
   ]
  },
  {
   "cell_type": "code",
   "execution_count": 7,
   "metadata": {
    "executionInfo": {
     "elapsed": 4372,
     "status": "ok",
     "timestamp": 1624189284076,
     "user": {
      "displayName": "Nissan Dookeran",
      "photoUrl": "https://lh3.googleusercontent.com/a-/AOh14GjX7TWnLkg-K8TmlLAPixO8NhfoICak-b5lZGGqXeU=s64",
      "userId": "10969188591745969823"
     },
     "user_tz": -600
    },
    "id": "-MnaSfZ_5P4m"
   },
   "outputs": [],
   "source": [
    "! unzip -q -n '{path}/train.csv.zip' -d '{path}'\n",
    "! unzip -q -n '{path}/test.csv.zip' -d '{path}'"
   ]
  },
  {
   "cell_type": "markdown",
   "metadata": {
    "id": "HFjx7nbRH2Wn"
   },
   "source": [
    "## Import Data"
   ]
  },
  {
   "cell_type": "code",
   "execution_count": 8,
   "metadata": {
    "executionInfo": {
     "elapsed": 19516,
     "status": "ok",
     "timestamp": 1624189313261,
     "user": {
      "displayName": "Nissan Dookeran",
      "photoUrl": "https://lh3.googleusercontent.com/a-/AOh14GjX7TWnLkg-K8TmlLAPixO8NhfoICak-b5lZGGqXeU=s64",
      "userId": "10969188591745969823"
     },
     "user_tz": -600
    },
    "id": "MtwrxoLz5GJe"
   },
   "outputs": [],
   "source": [
    "#data import\n",
    "df = pd.read_csv(path/'train.csv', low_memory=False)\n",
    "test_df = pd.read_csv(path/'test.csv', low_memory=False)"
   ]
  },
  {
   "cell_type": "markdown",
   "metadata": {
    "id": "opbz2mL6544H"
   },
   "source": [
    "##Data Prep"
   ]
  },
  {
   "cell_type": "code",
   "execution_count": 9,
   "metadata": {
    "executionInfo": {
     "elapsed": 285,
     "status": "ok",
     "timestamp": 1624189415140,
     "user": {
      "displayName": "Nissan Dookeran",
      "photoUrl": "https://lh3.googleusercontent.com/a-/AOh14GjX7TWnLkg-K8TmlLAPixO8NhfoICak-b5lZGGqXeU=s64",
      "userId": "10969188591745969823"
     },
     "user_tz": -600
    },
    "id": "Yf1DCcTE5y9_"
   },
   "outputs": [],
   "source": [
    "# ## Dropping Original_quote_date\n",
    "def drop_cols(df):\n",
    "    df.drop(['Original_Quote_Date'],axis=1,inplace=True)\n",
    "    return df\n",
    "train_df=df\n",
    "train_df = drop_cols(train_df)\n",
    "test_df = drop_cols(test_df)\n"
   ]
  },
  {
   "cell_type": "code",
   "execution_count": 10,
   "metadata": {
    "executionInfo": {
     "elapsed": 1428,
     "status": "ok",
     "timestamp": 1624189422650,
     "user": {
      "displayName": "Nissan Dookeran",
      "photoUrl": "https://lh3.googleusercontent.com/a-/AOh14GjX7TWnLkg-K8TmlLAPixO8NhfoICak-b5lZGGqXeU=s64",
      "userId": "10969188591745969823"
     },
     "user_tz": -600
    },
    "id": "k6SrMNG-59U3"
   },
   "outputs": [],
   "source": [
    "# ## Removing columns with na values\n",
    "cols_to_delete = train_df.isna().sum()[train_df.isna().sum() > 0].index\n",
    "\n",
    "def drop_cols_from_list(df,cols_to_delete):\n",
    "    df.drop(cols_to_delete,axis=1,inplace=True)\n",
    "    return df\n",
    "\n",
    "train_df = drop_cols_from_list(train_df,cols_to_delete)\n",
    "test_df = drop_cols_from_list(test_df,cols_to_delete)"
   ]
  },
  {
   "cell_type": "code",
   "execution_count": 11,
   "metadata": {
    "executionInfo": {
     "elapsed": 787,
     "status": "ok",
     "timestamp": 1624189427544,
     "user": {
      "displayName": "Nissan Dookeran",
      "photoUrl": "https://lh3.googleusercontent.com/a-/AOh14GjX7TWnLkg-K8TmlLAPixO8NhfoICak-b5lZGGqXeU=s64",
      "userId": "10969188591745969823"
     },
     "user_tz": -600
    },
    "id": "3Wuz5UwT5_n7"
   },
   "outputs": [],
   "source": [
    "#dropping categorical columns with nunique > 2\n",
    "cols_to_drop = []\n",
    "\n",
    "for i in set(train_df.columns) - set(train_df._get_numeric_data().columns):\n",
    "    if (train_df.loc[:,i].nunique() >= 3):\n",
    "        cols_to_drop.append(i)\n",
    "        \n",
    "train_df = drop_cols_from_list(train_df,cols_to_drop)\n",
    "test_df = drop_cols_from_list(test_df,cols_to_drop)"
   ]
  },
  {
   "cell_type": "code",
   "execution_count": 12,
   "metadata": {
    "executionInfo": {
     "elapsed": 768,
     "status": "ok",
     "timestamp": 1624189430715,
     "user": {
      "displayName": "Nissan Dookeran",
      "photoUrl": "https://lh3.googleusercontent.com/a-/AOh14GjX7TWnLkg-K8TmlLAPixO8NhfoICak-b5lZGGqXeU=s64",
      "userId": "10969188591745969823"
     },
     "user_tz": -600
    },
    "id": "_zynxARV6CTq"
   },
   "outputs": [],
   "source": [
    "#one hot encoding:\n",
    "cls_to_encode = set(train_df.columns) - set(train_df._get_numeric_data().columns)\n",
    "\n",
    "def ohe(df,cls_to_encode):\n",
    "    df = pd.get_dummies(df,columns=cls_to_encode,drop_first=True)\n",
    "    return df\n",
    "\n",
    "train_df = ohe(train_df,cls_to_encode)\n",
    "test_df = ohe(test_df,cls_to_encode)\n"
   ]
  },
  {
   "cell_type": "code",
   "execution_count": 13,
   "metadata": {
    "executionInfo": {
     "elapsed": 466,
     "status": "ok",
     "timestamp": 1624189433178,
     "user": {
      "displayName": "Nissan Dookeran",
      "photoUrl": "https://lh3.googleusercontent.com/a-/AOh14GjX7TWnLkg-K8TmlLAPixO8NhfoICak-b5lZGGqXeU=s64",
      "userId": "10969188591745969823"
     },
     "user_tz": -600
    },
    "id": "aBEm46b16C6q"
   },
   "outputs": [],
   "source": [
    "#dropping any extra columns in test set that are not present in train set\n",
    "test_df.drop(list(set(test_df.columns) - set(train_df.columns)),axis=1,inplace=True)\n"
   ]
  },
  {
   "cell_type": "markdown",
   "metadata": {
    "id": "YcTqVrE16Hw7"
   },
   "source": [
    "## Model"
   ]
  },
  {
   "cell_type": "code",
   "execution_count": 14,
   "metadata": {
    "executionInfo": {
     "elapsed": 769,
     "status": "ok",
     "timestamp": 1624189442221,
     "user": {
      "displayName": "Nissan Dookeran",
      "photoUrl": "https://lh3.googleusercontent.com/a-/AOh14GjX7TWnLkg-K8TmlLAPixO8NhfoICak-b5lZGGqXeU=s64",
      "userId": "10969188591745969823"
     },
     "user_tz": -600
    },
    "id": "CKNJpNSP6EIO"
   },
   "outputs": [],
   "source": [
    "#Assigning dependent and independent variables\n",
    "X = train_df.drop('QuoteConversion_Flag',axis=1)\n",
    "y = train_df.QuoteConversion_Flag\n"
   ]
  },
  {
   "cell_type": "code",
   "execution_count": 15,
   "metadata": {
    "executionInfo": {
     "elapsed": 744,
     "status": "ok",
     "timestamp": 1624189447114,
     "user": {
      "displayName": "Nissan Dookeran",
      "photoUrl": "https://lh3.googleusercontent.com/a-/AOh14GjX7TWnLkg-K8TmlLAPixO8NhfoICak-b5lZGGqXeU=s64",
      "userId": "10969188591745969823"
     },
     "user_tz": -600
    },
    "id": "sUugF5dF6GW_"
   },
   "outputs": [],
   "source": [
    "#Split\n",
    "X_train, X_test, y_train, y_test = train_test_split(X, y, test_size=0.2, stratify = y, random_state=42)\n"
   ]
  },
  {
   "cell_type": "code",
   "execution_count": 16,
   "metadata": {
    "executionInfo": {
     "elapsed": 3,
     "status": "ok",
     "timestamp": 1624189448881,
     "user": {
      "displayName": "Nissan Dookeran",
      "photoUrl": "https://lh3.googleusercontent.com/a-/AOh14GjX7TWnLkg-K8TmlLAPixO8NhfoICak-b5lZGGqXeU=s64",
      "userId": "10969188591745969823"
     },
     "user_tz": -600
    },
    "id": "LRwhz1gokaIO"
   },
   "outputs": [],
   "source": [
    "train_idx=pd.DataFrame(X_train.index)\n",
    "valid_idx=pd.DataFrame(X_test.index)"
   ]
  },
  {
   "cell_type": "code",
   "execution_count": 17,
   "metadata": {
    "executionInfo": {
     "elapsed": 359,
     "status": "ok",
     "timestamp": 1624189450808,
     "user": {
      "displayName": "Nissan Dookeran",
      "photoUrl": "https://lh3.googleusercontent.com/a-/AOh14GjX7TWnLkg-K8TmlLAPixO8NhfoICak-b5lZGGqXeU=s64",
      "userId": "10969188591745969823"
     },
     "user_tz": -600
    },
    "id": "s9Vt5amkmLCv"
   },
   "outputs": [],
   "source": [
    "train_idx.to_csv(path/'train_idx.csv',index=False)\n",
    "valid_idx.to_csv(path/'valid_idx.csv',index=False)"
   ]
  },
  {
   "cell_type": "code",
   "execution_count": 18,
   "metadata": {
    "colab": {
     "base_uri": "https://localhost:8080/"
    },
    "executionInfo": {
     "elapsed": 74925,
     "status": "ok",
     "timestamp": 1624189527414,
     "user": {
      "displayName": "Nissan Dookeran",
      "photoUrl": "https://lh3.googleusercontent.com/a-/AOh14GjX7TWnLkg-K8TmlLAPixO8NhfoICak-b5lZGGqXeU=s64",
      "userId": "10969188591745969823"
     },
     "user_tz": -600
    },
    "id": "pt4hSBdS6NLz",
    "outputId": "1be803d7-c453-4679-84d6-8c4067fb57e9"
   },
   "outputs": [
    {
     "data": {
      "text/plain": [
       "RandomForestClassifier(bootstrap=True, ccp_alpha=0.0, class_weight=None,\n",
       "                       criterion='gini', max_depth=None, max_features='auto',\n",
       "                       max_leaf_nodes=None, max_samples=None,\n",
       "                       min_impurity_decrease=0.0, min_impurity_split=None,\n",
       "                       min_samples_leaf=1, min_samples_split=2,\n",
       "                       min_weight_fraction_leaf=0.0, n_estimators=100,\n",
       "                       n_jobs=-1, oob_score=False, random_state=None, verbose=0,\n",
       "                       warm_start=False)"
      ]
     },
     "execution_count": 18,
     "metadata": {
      "tags": []
     },
     "output_type": "execute_result"
    }
   ],
   "source": [
    "#training Randomforest\n",
    "\n",
    "rfc = RandomForestClassifier(n_jobs=-1)\n",
    "rfc.fit(X_train,y_train)"
   ]
  },
  {
   "cell_type": "code",
   "execution_count": 19,
   "metadata": {
    "colab": {
     "base_uri": "https://localhost:8080/"
    },
    "executionInfo": {
     "elapsed": 7132,
     "status": "ok",
     "timestamp": 1624189584672,
     "user": {
      "displayName": "Nissan Dookeran",
      "photoUrl": "https://lh3.googleusercontent.com/a-/AOh14GjX7TWnLkg-K8TmlLAPixO8NhfoICak-b5lZGGqXeU=s64",
      "userId": "10969188591745969823"
     },
     "user_tz": -600
    },
    "id": "GIvxUUvT6Pnj",
    "outputId": "775209a1-c545-487d-fe70-5e70bef515ce"
   },
   "outputs": [
    {
     "name": "stdout",
     "output_type": "stream",
     "text": [
      "train accuracy score =  0.9999952061821076\n",
      "test accuracy score =  0.9162623919004429\n"
     ]
    }
   ],
   "source": [
    "#Print Accuracy Score\n",
    "print(\"train accuracy score = \", accuracy_score(y_train,rfc.predict(X_train)))\n",
    "print(\"test accuracy score = \", accuracy_score(y_test,rfc.predict(X_test)))\n"
   ]
  },
  {
   "cell_type": "code",
   "execution_count": 20,
   "metadata": {
    "colab": {
     "base_uri": "https://localhost:8080/"
    },
    "executionInfo": {
     "elapsed": 7141,
     "status": "ok",
     "timestamp": 1624189593947,
     "user": {
      "displayName": "Nissan Dookeran",
      "photoUrl": "https://lh3.googleusercontent.com/a-/AOh14GjX7TWnLkg-K8TmlLAPixO8NhfoICak-b5lZGGqXeU=s64",
      "userId": "10969188591745969823"
     },
     "user_tz": -600
    },
    "id": "tcBZol3Lf3fK",
    "outputId": "10ed0b35-4502-4f97-9b75-5a587dec3d91"
   },
   "outputs": [
    {
     "data": {
      "text/plain": [
       "(0.9999872171801099, 0.8078645543138884)"
      ]
     },
     "execution_count": 20,
     "metadata": {
      "tags": []
     },
     "output_type": "execute_result"
    }
   ],
   "source": [
    "#Print ROC AUC Score\n",
    "roc_auc_score(y_train,rfc.predict(X_train)),roc_auc_score(y_test,rfc.predict(X_test))"
   ]
  },
  {
   "cell_type": "code",
   "execution_count": 21,
   "metadata": {
    "colab": {
     "base_uri": "https://localhost:8080/",
     "height": 279
    },
    "executionInfo": {
     "elapsed": 1975,
     "status": "ok",
     "timestamp": 1624189601019,
     "user": {
      "displayName": "Nissan Dookeran",
      "photoUrl": "https://lh3.googleusercontent.com/a-/AOh14GjX7TWnLkg-K8TmlLAPixO8NhfoICak-b5lZGGqXeU=s64",
      "userId": "10969188591745969823"
     },
     "user_tz": -600
    },
    "id": "yQHfzMhQ6RI8",
    "outputId": "99c145b9-8ad7-4196-e306-1f00e3c154f2"
   },
   "outputs": [
    {
     "data": {
      "image/png": "[encoded data removed]",
      "text/plain": [
       "<Figure size 432x288 with 1 Axes>"
      ]
     },
     "metadata": {
      "needs_background": "light",
      "tags": []
     },
     "output_type": "display_data"
    }
   ],
   "source": [
    "plot_roc_curve(rfc, X_test, y_test)\n",
    "plt.show()"
   ]
  },
  {
   "cell_type": "code",
   "execution_count": 22,
   "metadata": {
    "colab": {
     "base_uri": "https://localhost:8080/",
     "height": 279
    },
    "executionInfo": {
     "elapsed": 1911,
     "status": "ok",
     "timestamp": 1624189608656,
     "user": {
      "displayName": "Nissan Dookeran",
      "photoUrl": "https://lh3.googleusercontent.com/a-/AOh14GjX7TWnLkg-K8TmlLAPixO8NhfoICak-b5lZGGqXeU=s64",
      "userId": "10969188591745969823"
     },
     "user_tz": -600
    },
    "id": "tU6o4rG86Sr8",
    "outputId": "820ba381-fee0-44e7-f071-ec9c4a647904"
   },
   "outputs": [
    {
     "data": {
      "image/png": "[encoded data removed]",
      "text/plain": [
       "<Figure size 432x288 with 2 Axes>"
      ]
     },
     "metadata": {
      "needs_background": "light",
      "tags": []
     },
     "output_type": "display_data"
    }
   ],
   "source": [
    "plot_confusion_matrix(rfc, X_test, y_test,values_format='d')\n",
    "plt.show()"
   ]
  },
  {
   "cell_type": "code",
   "execution_count": 23,
   "metadata": {
    "executionInfo": {
     "elapsed": 5210,
     "status": "ok",
     "timestamp": 1624189961991,
     "user": {
      "displayName": "Nissan Dookeran",
      "photoUrl": "https://lh3.googleusercontent.com/a-/AOh14GjX7TWnLkg-K8TmlLAPixO8NhfoICak-b5lZGGqXeU=s64",
      "userId": "10969188591745969823"
     },
     "user_tz": -600
    },
    "id": "ryehliX-6Tws"
   },
   "outputs": [],
   "source": [
    "#submitting output\n",
    "output_submission = pd.DataFrame(zip(test_df.QuoteNumber,rfc.predict_proba(test_df)[:,1]), columns = ['QuoteNumber','QuoteConversion_Flag'])\n",
    "output_submission.to_csv(path/'output_submission.csv',index=False)"
   ]
  },
  {
   "cell_type": "code",
   "execution_count": null,
   "metadata": {
    "id": "w8NotjzUQ_DA"
   },
   "outputs": [],
   "source": []
  }
 ],
 "metadata": {
  "accelerator": "GPU",
  "colab": {
   "collapsed_sections": [],
   "name": "2021-06-20-Basic-Random-Forest-Score-0.953.ipynb",
   "provenance": [],
   "toc_visible": true
  },
  "kernelspec": {
   "display_name": "Python 3",
   "language": "python",
   "name": "python3"
  },
  "language_info": {
   "codemirror_mode": {
    "name": "ipython",
    "version": 3
   },
   "file_extension": ".py",
   "mimetype": "text/x-python",
   "name": "python",
   "nbconvert_exporter": "python",
   "pygments_lexer": "ipython3",
   "version": "3.8.10"
  }
 },
 "nbformat": 4,
 "nbformat_minor": 4
}
