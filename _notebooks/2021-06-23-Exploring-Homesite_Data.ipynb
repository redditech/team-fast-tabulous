{
  "nbformat": 4,
  "nbformat_minor": 0,
  "metadata": {
    "colab": {
      "name": "2021-06-23-Exploring-Homesite-Data.ipynb",
      "provenance": [],
      "collapsed_sections": [
        "xdjWKKWaPyBb",
        "SIohCjWZQAta",
        "blJJadPOQNtL",
        "r2YPH48oMyb2",
        "aIbppdfruwZ8",
        "8ST6siiuytxW",
        "5ladtVTb36Xc",
        "0_qBrRVg4QI-",
        "atjwfhZcApps",
        "0bsRj_WXynJc"
      ]
    },
    "kernelspec": {
      "name": "python3",
      "display_name": "Python 3"
    },
    "language_info": {
      "name": "python"
    }
  },
  "cells": [
    {
      "cell_type": "markdown",
      "metadata": {
        "id": "HrgdjN3n-Y-S"
      },
      "source": [
        "# Exploring Homesite Data (WORK IN PROGRESS)\n",
        "> Exploring Homesite Data in Collab\n",
        "\n",
        "- toc: true \n",
        "- badges: true\n",
        "- comments: true\n",
        "- categories: [kaggle]\n",
        "- author: Nissan Dookeran\n",
        "- image: images/chart-preview.png"
      ]
    },
    {
      "cell_type": "markdown",
      "metadata": {
        "id": "1BhumH9q-wau"
      },
      "source": [
        "## Introduction\n",
        "\n",
        "Here I will do some exploratory data analysis of Homesite Data from the Kaggle Competition using Google Colab"
      ]
    },
    {
      "cell_type": "markdown",
      "metadata": {
        "id": "xdjWKKWaPyBb"
      },
      "source": [
        "## Setup fastai and Google drive"
      ]
    },
    {
      "cell_type": "code",
      "metadata": {
        "id": "QcCBkFgv-mz9"
      },
      "source": [
        "!pip install -Uqq fastai\n"
      ],
      "execution_count": 1,
      "outputs": []
    },
    {
      "cell_type": "code",
      "metadata": {
        "id": "q-yyiRar-2TT"
      },
      "source": [
        "from fastai.tabular.all import *"
      ],
      "execution_count": 2,
      "outputs": []
    },
    {
      "cell_type": "markdown",
      "metadata": {
        "id": "xopJdciB-9y5"
      },
      "source": [
        "The snippet below is only useful in Colab for accessing my Google Drive and is straight out the [fastbook source code in Github](https://github.com/fastai/course20/blob/master/fastbook/__init__.py) "
      ]
    },
    {
      "cell_type": "code",
      "metadata": {
        "id": "Cv-4u253-5PY"
      },
      "source": [
        "global gdrive\n",
        "gdrive = Path('/content/gdrive/My Drive')\n",
        "from google.colab import drive\n",
        "if not gdrive.exists(): drive.mount(str(gdrive.parent))"
      ],
      "execution_count": 3,
      "outputs": []
    },
    {
      "cell_type": "markdown",
      "metadata": {
        "id": "kmWD_ER0_fYW"
      },
      "source": [
        "> Add the Kaggle bits"
      ]
    },
    {
      "cell_type": "code",
      "metadata": {
        "colab": {
          "base_uri": "https://localhost:8080/"
        },
        "id": "MJROzqXT_j5M",
        "outputId": "ecdf1bb6-f723-477a-83ad-099b1531bbd9"
      },
      "source": [
        "!pip install kaggle"
      ],
      "execution_count": 4,
      "outputs": [
        {
          "output_type": "stream",
          "text": [
            "Requirement already satisfied: kaggle in /usr/local/lib/python3.7/dist-packages (1.5.12)\n",
            "Requirement already satisfied: python-slugify in /usr/local/lib/python3.7/dist-packages (from kaggle) (5.0.2)\n",
            "Requirement already satisfied: tqdm in /usr/local/lib/python3.7/dist-packages (from kaggle) (4.41.1)\n",
            "Requirement already satisfied: requests in /usr/local/lib/python3.7/dist-packages (from kaggle) (2.23.0)\n",
            "Requirement already satisfied: python-dateutil in /usr/local/lib/python3.7/dist-packages (from kaggle) (2.8.1)\n",
            "Requirement already satisfied: urllib3 in /usr/local/lib/python3.7/dist-packages (from kaggle) (1.24.3)\n",
            "Requirement already satisfied: certifi in /usr/local/lib/python3.7/dist-packages (from kaggle) (2021.5.30)\n",
            "Requirement already satisfied: six>=1.10 in /usr/local/lib/python3.7/dist-packages (from kaggle) (1.15.0)\n",
            "Requirement already satisfied: text-unidecode>=1.3 in /usr/local/lib/python3.7/dist-packages (from python-slugify->kaggle) (1.3)\n",
            "Requirement already satisfied: chardet<4,>=3.0.2 in /usr/local/lib/python3.7/dist-packages (from requests->kaggle) (3.0.4)\n",
            "Requirement already satisfied: idna<3,>=2.5 in /usr/local/lib/python3.7/dist-packages (from requests->kaggle) (2.10)\n"
          ],
          "name": "stdout"
        }
      ]
    },
    {
      "cell_type": "code",
      "metadata": {
        "colab": {
          "base_uri": "https://localhost:8080/"
        },
        "id": "tdI47Ci1AAMu",
        "outputId": "3e218d43-e0cf-4ad4-9c74-6c5eeedb43d0"
      },
      "source": [
        "!ls /content/gdrive/MyDrive/Kaggle/kaggle.json"
      ],
      "execution_count": 5,
      "outputs": [
        {
          "output_type": "stream",
          "text": [
            "/content/gdrive/MyDrive/Kaggle/kaggle.json\n"
          ],
          "name": "stdout"
        }
      ]
    },
    {
      "cell_type": "markdown",
      "metadata": {
        "id": "2pVlBEhtC_hw"
      },
      "source": [
        "Useful links here:\n",
        "- Documentation on [Path library](https://docs.python.org/3/library/pathlib.html#basic-use)\n",
        "- Documentation on [fastai extensions to Path library](https://fastcore.fast.ai/xtras.html#Extensions-to-Pathlib.Path)"
      ]
    },
    {
      "cell_type": "code",
      "metadata": {
        "colab": {
          "base_uri": "https://localhost:8080/"
        },
        "id": "7UuQ_iUgA36I",
        "outputId": "08945de9-6683-45fe-8c37-a756ebf0751a"
      },
      "source": [
        "Path.cwd()"
      ],
      "execution_count": 6,
      "outputs": [
        {
          "output_type": "execute_result",
          "data": {
            "text/plain": [
              "Path('/content')"
            ]
          },
          "metadata": {
            "tags": []
          },
          "execution_count": 6
        }
      ]
    },
    {
      "cell_type": "markdown",
      "metadata": {
        "id": "SIohCjWZQAta"
      },
      "source": [
        "## Setup kaggle environment"
      ]
    },
    {
      "cell_type": "code",
      "metadata": {
        "id": "9FDNl1HSAmK8"
      },
      "source": [
        "!mkdir -p ~/.kaggle\n",
        "!cp /content/gdrive/MyDrive/Kaggle/kaggle.json ~/.kaggle/\n",
        "!chmod 600 ~/.kaggle/kaggle.json"
      ],
      "execution_count": 7,
      "outputs": []
    },
    {
      "cell_type": "code",
      "metadata": {
        "id": "GWNTnLtf_CDU"
      },
      "source": [
        "from kaggle import api"
      ],
      "execution_count": 8,
      "outputs": []
    },
    {
      "cell_type": "code",
      "metadata": {
        "colab": {
          "base_uri": "https://localhost:8080/"
        },
        "id": "tME3KRxkA-B0",
        "outputId": "bbe4bc7e-a3fd-4d45-b3f3-b978df54dd64"
      },
      "source": [
        "path = Path.cwd()\n",
        "path.ls()"
      ],
      "execution_count": 9,
      "outputs": [
        {
          "output_type": "execute_result",
          "data": {
            "text/plain": [
              "(#3) [Path('/content/.config'),Path('/content/sample_data'),Path('/content/gdrive')]"
            ]
          },
          "metadata": {
            "tags": []
          },
          "execution_count": 9
        }
      ]
    },
    {
      "cell_type": "code",
      "metadata": {
        "colab": {
          "base_uri": "https://localhost:8080/"
        },
        "id": "k0_R0AtX_aSd",
        "outputId": "428ab5a7-8803-41f9-f95a-eb72a11571f9"
      },
      "source": [
        "path = path/\"gdrive/MyDrive/Kaggle/homesite_data\"\n",
        "path.mkdir(exist_ok=True)\n",
        "Path.BASE_PATH = path\n",
        "api.competition_download_cli('homesite-quote-conversion', path=path)\n",
        "file_extract(path/\"homesite-quote-conversion.zip\")\n",
        "file_extract(path/\"train.csv.zip\")\n",
        "file_extract(path/\"test.csv.zip\")"
      ],
      "execution_count": 10,
      "outputs": [
        {
          "output_type": "stream",
          "text": [
            "homesite-quote-conversion.zip: Skipping, found more recently modified local copy (use --force to force download)\n"
          ],
          "name": "stdout"
        }
      ]
    },
    {
      "cell_type": "code",
      "metadata": {
        "colab": {
          "base_uri": "https://localhost:8080/"
        },
        "id": "hO2LhV7qBM07",
        "outputId": "7fa442c7-6e99-4e83-91cf-0c4fadb3f995"
      },
      "source": [
        "path"
      ],
      "execution_count": 11,
      "outputs": [
        {
          "output_type": "execute_result",
          "data": {
            "text/plain": [
              "Path('.')"
            ]
          },
          "metadata": {
            "tags": []
          },
          "execution_count": 11
        }
      ]
    },
    {
      "cell_type": "code",
      "metadata": {
        "colab": {
          "base_uri": "https://localhost:8080/"
        },
        "id": "cT6hXHhsB3AU",
        "outputId": "7efa9903-bcc0-4fb9-be15-6259172cda08"
      },
      "source": [
        "path.ls()"
      ],
      "execution_count": 12,
      "outputs": [
        {
          "output_type": "execute_result",
          "data": {
            "text/plain": [
              "(#6) [Path('homesite-quote-conversion.zip'),Path('sample_submission.csv.zip'),Path('test.csv.zip'),Path('train.csv.zip'),Path('train.csv'),Path('test.csv')]"
            ]
          },
          "metadata": {
            "tags": []
          },
          "execution_count": 12
        }
      ]
    },
    {
      "cell_type": "markdown",
      "metadata": {
        "id": "blJJadPOQNtL"
      },
      "source": [
        "## Exploring the Homesite data"
      ]
    },
    {
      "cell_type": "code",
      "metadata": {
        "colab": {
          "base_uri": "https://localhost:8080/",
          "height": 253
        },
        "id": "AMscLNhPB4ar",
        "outputId": "a4b1ab66-39ea-418d-ad3b-0e5db8d03bed"
      },
      "source": [
        "df_train = pd.read_csv(path/\"train.csv\", low_memory=False)\n",
        "df_train.head()"
      ],
      "execution_count": 13,
      "outputs": [
        {
          "output_type": "execute_result",
          "data": {
            "text/html": [
              "<div>\n",
              "<style scoped>\n",
              "    .dataframe tbody tr th:only-of-type {\n",
              "        vertical-align: middle;\n",
              "    }\n",
              "\n",
              "    .dataframe tbody tr th {\n",
              "        vertical-align: top;\n",
              "    }\n",
              "\n",
              "    .dataframe thead th {\n",
              "        text-align: right;\n",
              "    }\n",
              "</style>\n",
              "<table border=\"1\" class=\"dataframe\">\n",
              "  <thead>\n",
              "    <tr style=\"text-align: right;\">\n",
              "      <th></th>\n",
              "      <th>QuoteNumber</th>\n",
              "      <th>Original_Quote_Date</th>\n",
              "      <th>QuoteConversion_Flag</th>\n",
              "      <th>Field6</th>\n",
              "      <th>Field7</th>\n",
              "      <th>Field8</th>\n",
              "      <th>Field9</th>\n",
              "      <th>Field10</th>\n",
              "      <th>Field11</th>\n",
              "      <th>Field12</th>\n",
              "      <th>CoverageField1A</th>\n",
              "      <th>CoverageField1B</th>\n",
              "      <th>CoverageField2A</th>\n",
              "      <th>CoverageField2B</th>\n",
              "      <th>CoverageField3A</th>\n",
              "      <th>CoverageField3B</th>\n",
              "      <th>CoverageField4A</th>\n",
              "      <th>CoverageField4B</th>\n",
              "      <th>CoverageField5A</th>\n",
              "      <th>CoverageField5B</th>\n",
              "      <th>CoverageField6A</th>\n",
              "      <th>CoverageField6B</th>\n",
              "      <th>CoverageField8</th>\n",
              "      <th>CoverageField9</th>\n",
              "      <th>CoverageField11A</th>\n",
              "      <th>CoverageField11B</th>\n",
              "      <th>SalesField1A</th>\n",
              "      <th>SalesField1B</th>\n",
              "      <th>SalesField2A</th>\n",
              "      <th>SalesField2B</th>\n",
              "      <th>SalesField3</th>\n",
              "      <th>SalesField4</th>\n",
              "      <th>SalesField5</th>\n",
              "      <th>SalesField6</th>\n",
              "      <th>SalesField7</th>\n",
              "      <th>SalesField8</th>\n",
              "      <th>SalesField9</th>\n",
              "      <th>SalesField10</th>\n",
              "      <th>SalesField11</th>\n",
              "      <th>SalesField12</th>\n",
              "      <th>...</th>\n",
              "      <th>GeographicField44A</th>\n",
              "      <th>GeographicField44B</th>\n",
              "      <th>GeographicField45A</th>\n",
              "      <th>GeographicField45B</th>\n",
              "      <th>GeographicField46A</th>\n",
              "      <th>GeographicField46B</th>\n",
              "      <th>GeographicField47A</th>\n",
              "      <th>GeographicField47B</th>\n",
              "      <th>GeographicField48A</th>\n",
              "      <th>GeographicField48B</th>\n",
              "      <th>GeographicField49A</th>\n",
              "      <th>GeographicField49B</th>\n",
              "      <th>GeographicField50A</th>\n",
              "      <th>GeographicField50B</th>\n",
              "      <th>GeographicField51A</th>\n",
              "      <th>GeographicField51B</th>\n",
              "      <th>GeographicField52A</th>\n",
              "      <th>GeographicField52B</th>\n",
              "      <th>GeographicField53A</th>\n",
              "      <th>GeographicField53B</th>\n",
              "      <th>GeographicField54A</th>\n",
              "      <th>GeographicField54B</th>\n",
              "      <th>GeographicField55A</th>\n",
              "      <th>GeographicField55B</th>\n",
              "      <th>GeographicField56A</th>\n",
              "      <th>GeographicField56B</th>\n",
              "      <th>GeographicField57A</th>\n",
              "      <th>GeographicField57B</th>\n",
              "      <th>GeographicField58A</th>\n",
              "      <th>GeographicField58B</th>\n",
              "      <th>GeographicField59A</th>\n",
              "      <th>GeographicField59B</th>\n",
              "      <th>GeographicField60A</th>\n",
              "      <th>GeographicField60B</th>\n",
              "      <th>GeographicField61A</th>\n",
              "      <th>GeographicField61B</th>\n",
              "      <th>GeographicField62A</th>\n",
              "      <th>GeographicField62B</th>\n",
              "      <th>GeographicField63</th>\n",
              "      <th>GeographicField64</th>\n",
              "    </tr>\n",
              "  </thead>\n",
              "  <tbody>\n",
              "    <tr>\n",
              "      <th>0</th>\n",
              "      <td>1</td>\n",
              "      <td>2013-08-16</td>\n",
              "      <td>0</td>\n",
              "      <td>B</td>\n",
              "      <td>23</td>\n",
              "      <td>0.9403</td>\n",
              "      <td>0.0006</td>\n",
              "      <td>965</td>\n",
              "      <td>1.0200</td>\n",
              "      <td>N</td>\n",
              "      <td>17</td>\n",
              "      <td>23</td>\n",
              "      <td>17</td>\n",
              "      <td>23</td>\n",
              "      <td>15</td>\n",
              "      <td>22</td>\n",
              "      <td>16</td>\n",
              "      <td>22</td>\n",
              "      <td>13</td>\n",
              "      <td>22</td>\n",
              "      <td>13</td>\n",
              "      <td>23</td>\n",
              "      <td>T</td>\n",
              "      <td>D</td>\n",
              "      <td>2</td>\n",
              "      <td>1</td>\n",
              "      <td>7</td>\n",
              "      <td>18</td>\n",
              "      <td>3</td>\n",
              "      <td>8</td>\n",
              "      <td>0</td>\n",
              "      <td>5</td>\n",
              "      <td>5</td>\n",
              "      <td>24</td>\n",
              "      <td>V</td>\n",
              "      <td>48649</td>\n",
              "      <td>0</td>\n",
              "      <td>0</td>\n",
              "      <td>0</td>\n",
              "      <td>0</td>\n",
              "      <td>...</td>\n",
              "      <td>8</td>\n",
              "      <td>4</td>\n",
              "      <td>20</td>\n",
              "      <td>22</td>\n",
              "      <td>10</td>\n",
              "      <td>8</td>\n",
              "      <td>6</td>\n",
              "      <td>5</td>\n",
              "      <td>15</td>\n",
              "      <td>13</td>\n",
              "      <td>19</td>\n",
              "      <td>18</td>\n",
              "      <td>16</td>\n",
              "      <td>14</td>\n",
              "      <td>21</td>\n",
              "      <td>23</td>\n",
              "      <td>21</td>\n",
              "      <td>23</td>\n",
              "      <td>16</td>\n",
              "      <td>11</td>\n",
              "      <td>22</td>\n",
              "      <td>24</td>\n",
              "      <td>7</td>\n",
              "      <td>14</td>\n",
              "      <td>-1</td>\n",
              "      <td>17</td>\n",
              "      <td>15</td>\n",
              "      <td>17</td>\n",
              "      <td>14</td>\n",
              "      <td>18</td>\n",
              "      <td>9</td>\n",
              "      <td>9</td>\n",
              "      <td>-1</td>\n",
              "      <td>8</td>\n",
              "      <td>-1</td>\n",
              "      <td>18</td>\n",
              "      <td>-1</td>\n",
              "      <td>10</td>\n",
              "      <td>N</td>\n",
              "      <td>CA</td>\n",
              "    </tr>\n",
              "    <tr>\n",
              "      <th>1</th>\n",
              "      <td>2</td>\n",
              "      <td>2014-04-22</td>\n",
              "      <td>0</td>\n",
              "      <td>F</td>\n",
              "      <td>7</td>\n",
              "      <td>1.0006</td>\n",
              "      <td>0.0040</td>\n",
              "      <td>548</td>\n",
              "      <td>1.2433</td>\n",
              "      <td>N</td>\n",
              "      <td>6</td>\n",
              "      <td>8</td>\n",
              "      <td>6</td>\n",
              "      <td>8</td>\n",
              "      <td>5</td>\n",
              "      <td>7</td>\n",
              "      <td>5</td>\n",
              "      <td>8</td>\n",
              "      <td>13</td>\n",
              "      <td>22</td>\n",
              "      <td>13</td>\n",
              "      <td>23</td>\n",
              "      <td>T</td>\n",
              "      <td>E</td>\n",
              "      <td>5</td>\n",
              "      <td>9</td>\n",
              "      <td>5</td>\n",
              "      <td>14</td>\n",
              "      <td>6</td>\n",
              "      <td>18</td>\n",
              "      <td>1</td>\n",
              "      <td>5</td>\n",
              "      <td>5</td>\n",
              "      <td>11</td>\n",
              "      <td>P</td>\n",
              "      <td>26778</td>\n",
              "      <td>0</td>\n",
              "      <td>0</td>\n",
              "      <td>1</td>\n",
              "      <td>1</td>\n",
              "      <td>...</td>\n",
              "      <td>23</td>\n",
              "      <td>24</td>\n",
              "      <td>11</td>\n",
              "      <td>15</td>\n",
              "      <td>21</td>\n",
              "      <td>24</td>\n",
              "      <td>6</td>\n",
              "      <td>11</td>\n",
              "      <td>21</td>\n",
              "      <td>21</td>\n",
              "      <td>18</td>\n",
              "      <td>15</td>\n",
              "      <td>20</td>\n",
              "      <td>20</td>\n",
              "      <td>13</td>\n",
              "      <td>12</td>\n",
              "      <td>12</td>\n",
              "      <td>12</td>\n",
              "      <td>15</td>\n",
              "      <td>9</td>\n",
              "      <td>13</td>\n",
              "      <td>11</td>\n",
              "      <td>11</td>\n",
              "      <td>20</td>\n",
              "      <td>-1</td>\n",
              "      <td>9</td>\n",
              "      <td>18</td>\n",
              "      <td>21</td>\n",
              "      <td>8</td>\n",
              "      <td>7</td>\n",
              "      <td>10</td>\n",
              "      <td>10</td>\n",
              "      <td>-1</td>\n",
              "      <td>11</td>\n",
              "      <td>-1</td>\n",
              "      <td>17</td>\n",
              "      <td>-1</td>\n",
              "      <td>20</td>\n",
              "      <td>N</td>\n",
              "      <td>NJ</td>\n",
              "    </tr>\n",
              "    <tr>\n",
              "      <th>2</th>\n",
              "      <td>4</td>\n",
              "      <td>2014-08-25</td>\n",
              "      <td>0</td>\n",
              "      <td>F</td>\n",
              "      <td>7</td>\n",
              "      <td>1.0006</td>\n",
              "      <td>0.0040</td>\n",
              "      <td>548</td>\n",
              "      <td>1.2433</td>\n",
              "      <td>N</td>\n",
              "      <td>7</td>\n",
              "      <td>12</td>\n",
              "      <td>7</td>\n",
              "      <td>12</td>\n",
              "      <td>6</td>\n",
              "      <td>10</td>\n",
              "      <td>7</td>\n",
              "      <td>11</td>\n",
              "      <td>25</td>\n",
              "      <td>25</td>\n",
              "      <td>13</td>\n",
              "      <td>23</td>\n",
              "      <td>T</td>\n",
              "      <td>J</td>\n",
              "      <td>4</td>\n",
              "      <td>6</td>\n",
              "      <td>3</td>\n",
              "      <td>10</td>\n",
              "      <td>4</td>\n",
              "      <td>11</td>\n",
              "      <td>1</td>\n",
              "      <td>5</td>\n",
              "      <td>5</td>\n",
              "      <td>11</td>\n",
              "      <td>K</td>\n",
              "      <td>8751</td>\n",
              "      <td>0</td>\n",
              "      <td>0</td>\n",
              "      <td>2</td>\n",
              "      <td>2</td>\n",
              "      <td>...</td>\n",
              "      <td>21</td>\n",
              "      <td>22</td>\n",
              "      <td>24</td>\n",
              "      <td>25</td>\n",
              "      <td>20</td>\n",
              "      <td>22</td>\n",
              "      <td>7</td>\n",
              "      <td>13</td>\n",
              "      <td>23</td>\n",
              "      <td>23</td>\n",
              "      <td>20</td>\n",
              "      <td>19</td>\n",
              "      <td>20</td>\n",
              "      <td>20</td>\n",
              "      <td>18</td>\n",
              "      <td>20</td>\n",
              "      <td>19</td>\n",
              "      <td>21</td>\n",
              "      <td>20</td>\n",
              "      <td>19</td>\n",
              "      <td>11</td>\n",
              "      <td>8</td>\n",
              "      <td>3</td>\n",
              "      <td>3</td>\n",
              "      <td>-1</td>\n",
              "      <td>5</td>\n",
              "      <td>21</td>\n",
              "      <td>24</td>\n",
              "      <td>12</td>\n",
              "      <td>15</td>\n",
              "      <td>15</td>\n",
              "      <td>18</td>\n",
              "      <td>-1</td>\n",
              "      <td>21</td>\n",
              "      <td>-1</td>\n",
              "      <td>11</td>\n",
              "      <td>-1</td>\n",
              "      <td>8</td>\n",
              "      <td>N</td>\n",
              "      <td>NJ</td>\n",
              "    </tr>\n",
              "    <tr>\n",
              "      <th>3</th>\n",
              "      <td>6</td>\n",
              "      <td>2013-04-15</td>\n",
              "      <td>0</td>\n",
              "      <td>J</td>\n",
              "      <td>10</td>\n",
              "      <td>0.9769</td>\n",
              "      <td>0.0004</td>\n",
              "      <td>1,165</td>\n",
              "      <td>1.2665</td>\n",
              "      <td>N</td>\n",
              "      <td>3</td>\n",
              "      <td>2</td>\n",
              "      <td>3</td>\n",
              "      <td>2</td>\n",
              "      <td>2</td>\n",
              "      <td>2</td>\n",
              "      <td>3</td>\n",
              "      <td>2</td>\n",
              "      <td>13</td>\n",
              "      <td>22</td>\n",
              "      <td>13</td>\n",
              "      <td>23</td>\n",
              "      <td>Y</td>\n",
              "      <td>F</td>\n",
              "      <td>15</td>\n",
              "      <td>23</td>\n",
              "      <td>8</td>\n",
              "      <td>19</td>\n",
              "      <td>14</td>\n",
              "      <td>24</td>\n",
              "      <td>0</td>\n",
              "      <td>5</td>\n",
              "      <td>5</td>\n",
              "      <td>23</td>\n",
              "      <td>V</td>\n",
              "      <td>43854</td>\n",
              "      <td>0</td>\n",
              "      <td>0</td>\n",
              "      <td>0</td>\n",
              "      <td>0</td>\n",
              "      <td>...</td>\n",
              "      <td>3</td>\n",
              "      <td>1</td>\n",
              "      <td>14</td>\n",
              "      <td>22</td>\n",
              "      <td>6</td>\n",
              "      <td>2</td>\n",
              "      <td>7</td>\n",
              "      <td>14</td>\n",
              "      <td>11</td>\n",
              "      <td>8</td>\n",
              "      <td>19</td>\n",
              "      <td>18</td>\n",
              "      <td>18</td>\n",
              "      <td>16</td>\n",
              "      <td>13</td>\n",
              "      <td>12</td>\n",
              "      <td>13</td>\n",
              "      <td>12</td>\n",
              "      <td>17</td>\n",
              "      <td>13</td>\n",
              "      <td>5</td>\n",
              "      <td>2</td>\n",
              "      <td>3</td>\n",
              "      <td>4</td>\n",
              "      <td>-1</td>\n",
              "      <td>7</td>\n",
              "      <td>14</td>\n",
              "      <td>14</td>\n",
              "      <td>14</td>\n",
              "      <td>18</td>\n",
              "      <td>6</td>\n",
              "      <td>5</td>\n",
              "      <td>-1</td>\n",
              "      <td>10</td>\n",
              "      <td>-1</td>\n",
              "      <td>9</td>\n",
              "      <td>-1</td>\n",
              "      <td>21</td>\n",
              "      <td>N</td>\n",
              "      <td>TX</td>\n",
              "    </tr>\n",
              "    <tr>\n",
              "      <th>4</th>\n",
              "      <td>8</td>\n",
              "      <td>2014-01-25</td>\n",
              "      <td>0</td>\n",
              "      <td>E</td>\n",
              "      <td>23</td>\n",
              "      <td>0.9472</td>\n",
              "      <td>0.0006</td>\n",
              "      <td>1,487</td>\n",
              "      <td>1.3045</td>\n",
              "      <td>N</td>\n",
              "      <td>8</td>\n",
              "      <td>13</td>\n",
              "      <td>8</td>\n",
              "      <td>13</td>\n",
              "      <td>7</td>\n",
              "      <td>11</td>\n",
              "      <td>7</td>\n",
              "      <td>13</td>\n",
              "      <td>13</td>\n",
              "      <td>22</td>\n",
              "      <td>13</td>\n",
              "      <td>23</td>\n",
              "      <td>T</td>\n",
              "      <td>F</td>\n",
              "      <td>4</td>\n",
              "      <td>6</td>\n",
              "      <td>3</td>\n",
              "      <td>6</td>\n",
              "      <td>3</td>\n",
              "      <td>6</td>\n",
              "      <td>1</td>\n",
              "      <td>5</td>\n",
              "      <td>5</td>\n",
              "      <td>7</td>\n",
              "      <td>R</td>\n",
              "      <td>12505</td>\n",
              "      <td>1</td>\n",
              "      <td>0</td>\n",
              "      <td>0</td>\n",
              "      <td>0</td>\n",
              "      <td>...</td>\n",
              "      <td>24</td>\n",
              "      <td>25</td>\n",
              "      <td>9</td>\n",
              "      <td>11</td>\n",
              "      <td>25</td>\n",
              "      <td>25</td>\n",
              "      <td>5</td>\n",
              "      <td>3</td>\n",
              "      <td>22</td>\n",
              "      <td>22</td>\n",
              "      <td>21</td>\n",
              "      <td>21</td>\n",
              "      <td>17</td>\n",
              "      <td>15</td>\n",
              "      <td>25</td>\n",
              "      <td>25</td>\n",
              "      <td>25</td>\n",
              "      <td>25</td>\n",
              "      <td>17</td>\n",
              "      <td>13</td>\n",
              "      <td>13</td>\n",
              "      <td>11</td>\n",
              "      <td>3</td>\n",
              "      <td>4</td>\n",
              "      <td>-1</td>\n",
              "      <td>7</td>\n",
              "      <td>11</td>\n",
              "      <td>9</td>\n",
              "      <td>10</td>\n",
              "      <td>10</td>\n",
              "      <td>18</td>\n",
              "      <td>22</td>\n",
              "      <td>-1</td>\n",
              "      <td>10</td>\n",
              "      <td>-1</td>\n",
              "      <td>11</td>\n",
              "      <td>-1</td>\n",
              "      <td>12</td>\n",
              "      <td>N</td>\n",
              "      <td>IL</td>\n",
              "    </tr>\n",
              "  </tbody>\n",
              "</table>\n",
              "<p>5 rows × 299 columns</p>\n",
              "</div>"
            ],
            "text/plain": [
              "   QuoteNumber Original_Quote_Date  ...  GeographicField63 GeographicField64\n",
              "0            1          2013-08-16  ...                  N                CA\n",
              "1            2          2014-04-22  ...                  N                NJ\n",
              "2            4          2014-08-25  ...                  N                NJ\n",
              "3            6          2013-04-15  ...                  N                TX\n",
              "4            8          2014-01-25  ...                  N                IL\n",
              "\n",
              "[5 rows x 299 columns]"
            ]
          },
          "metadata": {
            "tags": []
          },
          "execution_count": 13
        }
      ]
    },
    {
      "cell_type": "code",
      "metadata": {
        "colab": {
          "base_uri": "https://localhost:8080/",
          "height": 253
        },
        "id": "rc-uoNSrGT37",
        "outputId": "bc83c170-82bc-41a5-c27b-d841cf1278ad"
      },
      "source": [
        "df_test = pd.read_csv(path/\"test.csv\", low_memory=False)\n",
        "df_test.head()"
      ],
      "execution_count": 14,
      "outputs": [
        {
          "output_type": "execute_result",
          "data": {
            "text/html": [
              "<div>\n",
              "<style scoped>\n",
              "    .dataframe tbody tr th:only-of-type {\n",
              "        vertical-align: middle;\n",
              "    }\n",
              "\n",
              "    .dataframe tbody tr th {\n",
              "        vertical-align: top;\n",
              "    }\n",
              "\n",
              "    .dataframe thead th {\n",
              "        text-align: right;\n",
              "    }\n",
              "</style>\n",
              "<table border=\"1\" class=\"dataframe\">\n",
              "  <thead>\n",
              "    <tr style=\"text-align: right;\">\n",
              "      <th></th>\n",
              "      <th>QuoteNumber</th>\n",
              "      <th>Original_Quote_Date</th>\n",
              "      <th>Field6</th>\n",
              "      <th>Field7</th>\n",
              "      <th>Field8</th>\n",
              "      <th>Field9</th>\n",
              "      <th>Field10</th>\n",
              "      <th>Field11</th>\n",
              "      <th>Field12</th>\n",
              "      <th>CoverageField1A</th>\n",
              "      <th>CoverageField1B</th>\n",
              "      <th>CoverageField2A</th>\n",
              "      <th>CoverageField2B</th>\n",
              "      <th>CoverageField3A</th>\n",
              "      <th>CoverageField3B</th>\n",
              "      <th>CoverageField4A</th>\n",
              "      <th>CoverageField4B</th>\n",
              "      <th>CoverageField5A</th>\n",
              "      <th>CoverageField5B</th>\n",
              "      <th>CoverageField6A</th>\n",
              "      <th>CoverageField6B</th>\n",
              "      <th>CoverageField8</th>\n",
              "      <th>CoverageField9</th>\n",
              "      <th>CoverageField11A</th>\n",
              "      <th>CoverageField11B</th>\n",
              "      <th>SalesField1A</th>\n",
              "      <th>SalesField1B</th>\n",
              "      <th>SalesField2A</th>\n",
              "      <th>SalesField2B</th>\n",
              "      <th>SalesField3</th>\n",
              "      <th>SalesField4</th>\n",
              "      <th>SalesField5</th>\n",
              "      <th>SalesField6</th>\n",
              "      <th>SalesField7</th>\n",
              "      <th>SalesField8</th>\n",
              "      <th>SalesField9</th>\n",
              "      <th>SalesField10</th>\n",
              "      <th>SalesField11</th>\n",
              "      <th>SalesField12</th>\n",
              "      <th>SalesField13</th>\n",
              "      <th>...</th>\n",
              "      <th>GeographicField44A</th>\n",
              "      <th>GeographicField44B</th>\n",
              "      <th>GeographicField45A</th>\n",
              "      <th>GeographicField45B</th>\n",
              "      <th>GeographicField46A</th>\n",
              "      <th>GeographicField46B</th>\n",
              "      <th>GeographicField47A</th>\n",
              "      <th>GeographicField47B</th>\n",
              "      <th>GeographicField48A</th>\n",
              "      <th>GeographicField48B</th>\n",
              "      <th>GeographicField49A</th>\n",
              "      <th>GeographicField49B</th>\n",
              "      <th>GeographicField50A</th>\n",
              "      <th>GeographicField50B</th>\n",
              "      <th>GeographicField51A</th>\n",
              "      <th>GeographicField51B</th>\n",
              "      <th>GeographicField52A</th>\n",
              "      <th>GeographicField52B</th>\n",
              "      <th>GeographicField53A</th>\n",
              "      <th>GeographicField53B</th>\n",
              "      <th>GeographicField54A</th>\n",
              "      <th>GeographicField54B</th>\n",
              "      <th>GeographicField55A</th>\n",
              "      <th>GeographicField55B</th>\n",
              "      <th>GeographicField56A</th>\n",
              "      <th>GeographicField56B</th>\n",
              "      <th>GeographicField57A</th>\n",
              "      <th>GeographicField57B</th>\n",
              "      <th>GeographicField58A</th>\n",
              "      <th>GeographicField58B</th>\n",
              "      <th>GeographicField59A</th>\n",
              "      <th>GeographicField59B</th>\n",
              "      <th>GeographicField60A</th>\n",
              "      <th>GeographicField60B</th>\n",
              "      <th>GeographicField61A</th>\n",
              "      <th>GeographicField61B</th>\n",
              "      <th>GeographicField62A</th>\n",
              "      <th>GeographicField62B</th>\n",
              "      <th>GeographicField63</th>\n",
              "      <th>GeographicField64</th>\n",
              "    </tr>\n",
              "  </thead>\n",
              "  <tbody>\n",
              "    <tr>\n",
              "      <th>0</th>\n",
              "      <td>3</td>\n",
              "      <td>2014-08-12</td>\n",
              "      <td>E</td>\n",
              "      <td>16</td>\n",
              "      <td>0.9364</td>\n",
              "      <td>0.0006</td>\n",
              "      <td>1,487</td>\n",
              "      <td>1.3045</td>\n",
              "      <td>N</td>\n",
              "      <td>4</td>\n",
              "      <td>4</td>\n",
              "      <td>4</td>\n",
              "      <td>4</td>\n",
              "      <td>3</td>\n",
              "      <td>3</td>\n",
              "      <td>3</td>\n",
              "      <td>4</td>\n",
              "      <td>13</td>\n",
              "      <td>22</td>\n",
              "      <td>13</td>\n",
              "      <td>23</td>\n",
              "      <td>Y</td>\n",
              "      <td>K</td>\n",
              "      <td>13</td>\n",
              "      <td>22</td>\n",
              "      <td>6</td>\n",
              "      <td>16</td>\n",
              "      <td>9</td>\n",
              "      <td>21</td>\n",
              "      <td>0</td>\n",
              "      <td>5</td>\n",
              "      <td>5</td>\n",
              "      <td>11</td>\n",
              "      <td>P</td>\n",
              "      <td>67052</td>\n",
              "      <td>0</td>\n",
              "      <td>0</td>\n",
              "      <td>0</td>\n",
              "      <td>0</td>\n",
              "      <td>0</td>\n",
              "      <td>...</td>\n",
              "      <td>22</td>\n",
              "      <td>23</td>\n",
              "      <td>9</td>\n",
              "      <td>12</td>\n",
              "      <td>25</td>\n",
              "      <td>25</td>\n",
              "      <td>6</td>\n",
              "      <td>9</td>\n",
              "      <td>4</td>\n",
              "      <td>2</td>\n",
              "      <td>16</td>\n",
              "      <td>12</td>\n",
              "      <td>20</td>\n",
              "      <td>20</td>\n",
              "      <td>2</td>\n",
              "      <td>2</td>\n",
              "      <td>2</td>\n",
              "      <td>1</td>\n",
              "      <td>1</td>\n",
              "      <td>1</td>\n",
              "      <td>10</td>\n",
              "      <td>7</td>\n",
              "      <td>25</td>\n",
              "      <td>25</td>\n",
              "      <td>-1</td>\n",
              "      <td>19</td>\n",
              "      <td>19</td>\n",
              "      <td>22</td>\n",
              "      <td>12</td>\n",
              "      <td>15</td>\n",
              "      <td>1</td>\n",
              "      <td>1</td>\n",
              "      <td>-1</td>\n",
              "      <td>1</td>\n",
              "      <td>-1</td>\n",
              "      <td>20</td>\n",
              "      <td>-1</td>\n",
              "      <td>25</td>\n",
              "      <td>Y</td>\n",
              "      <td>IL</td>\n",
              "    </tr>\n",
              "    <tr>\n",
              "      <th>1</th>\n",
              "      <td>5</td>\n",
              "      <td>2013-09-07</td>\n",
              "      <td>F</td>\n",
              "      <td>11</td>\n",
              "      <td>0.9919</td>\n",
              "      <td>0.0038</td>\n",
              "      <td>564</td>\n",
              "      <td>1.1886</td>\n",
              "      <td>N</td>\n",
              "      <td>8</td>\n",
              "      <td>14</td>\n",
              "      <td>8</td>\n",
              "      <td>14</td>\n",
              "      <td>7</td>\n",
              "      <td>12</td>\n",
              "      <td>8</td>\n",
              "      <td>13</td>\n",
              "      <td>13</td>\n",
              "      <td>22</td>\n",
              "      <td>13</td>\n",
              "      <td>23</td>\n",
              "      <td>T</td>\n",
              "      <td>E</td>\n",
              "      <td>4</td>\n",
              "      <td>5</td>\n",
              "      <td>3</td>\n",
              "      <td>6</td>\n",
              "      <td>3</td>\n",
              "      <td>6</td>\n",
              "      <td>1</td>\n",
              "      <td>5</td>\n",
              "      <td>5</td>\n",
              "      <td>4</td>\n",
              "      <td>R</td>\n",
              "      <td>27288</td>\n",
              "      <td>1</td>\n",
              "      <td>0</td>\n",
              "      <td>0</td>\n",
              "      <td>0</td>\n",
              "      <td>0</td>\n",
              "      <td>...</td>\n",
              "      <td>23</td>\n",
              "      <td>24</td>\n",
              "      <td>12</td>\n",
              "      <td>21</td>\n",
              "      <td>23</td>\n",
              "      <td>25</td>\n",
              "      <td>7</td>\n",
              "      <td>11</td>\n",
              "      <td>16</td>\n",
              "      <td>14</td>\n",
              "      <td>13</td>\n",
              "      <td>6</td>\n",
              "      <td>17</td>\n",
              "      <td>15</td>\n",
              "      <td>7</td>\n",
              "      <td>5</td>\n",
              "      <td>7</td>\n",
              "      <td>5</td>\n",
              "      <td>13</td>\n",
              "      <td>7</td>\n",
              "      <td>14</td>\n",
              "      <td>14</td>\n",
              "      <td>7</td>\n",
              "      <td>14</td>\n",
              "      <td>-1</td>\n",
              "      <td>4</td>\n",
              "      <td>1</td>\n",
              "      <td>1</td>\n",
              "      <td>5</td>\n",
              "      <td>3</td>\n",
              "      <td>10</td>\n",
              "      <td>10</td>\n",
              "      <td>-1</td>\n",
              "      <td>5</td>\n",
              "      <td>-1</td>\n",
              "      <td>5</td>\n",
              "      <td>-1</td>\n",
              "      <td>21</td>\n",
              "      <td>N</td>\n",
              "      <td>NJ</td>\n",
              "    </tr>\n",
              "    <tr>\n",
              "      <th>2</th>\n",
              "      <td>7</td>\n",
              "      <td>2013-03-29</td>\n",
              "      <td>F</td>\n",
              "      <td>15</td>\n",
              "      <td>0.8945</td>\n",
              "      <td>0.0038</td>\n",
              "      <td>564</td>\n",
              "      <td>1.0670</td>\n",
              "      <td>N</td>\n",
              "      <td>11</td>\n",
              "      <td>18</td>\n",
              "      <td>11</td>\n",
              "      <td>18</td>\n",
              "      <td>10</td>\n",
              "      <td>16</td>\n",
              "      <td>10</td>\n",
              "      <td>18</td>\n",
              "      <td>13</td>\n",
              "      <td>22</td>\n",
              "      <td>13</td>\n",
              "      <td>23</td>\n",
              "      <td>T</td>\n",
              "      <td>E</td>\n",
              "      <td>3</td>\n",
              "      <td>3</td>\n",
              "      <td>5</td>\n",
              "      <td>14</td>\n",
              "      <td>3</td>\n",
              "      <td>9</td>\n",
              "      <td>1</td>\n",
              "      <td>5</td>\n",
              "      <td>5</td>\n",
              "      <td>23</td>\n",
              "      <td>V</td>\n",
              "      <td>65264</td>\n",
              "      <td>0</td>\n",
              "      <td>1</td>\n",
              "      <td>2</td>\n",
              "      <td>2</td>\n",
              "      <td>0</td>\n",
              "      <td>...</td>\n",
              "      <td>16</td>\n",
              "      <td>18</td>\n",
              "      <td>9</td>\n",
              "      <td>10</td>\n",
              "      <td>14</td>\n",
              "      <td>16</td>\n",
              "      <td>6</td>\n",
              "      <td>8</td>\n",
              "      <td>20</td>\n",
              "      <td>19</td>\n",
              "      <td>17</td>\n",
              "      <td>14</td>\n",
              "      <td>16</td>\n",
              "      <td>13</td>\n",
              "      <td>20</td>\n",
              "      <td>22</td>\n",
              "      <td>20</td>\n",
              "      <td>22</td>\n",
              "      <td>20</td>\n",
              "      <td>18</td>\n",
              "      <td>10</td>\n",
              "      <td>7</td>\n",
              "      <td>4</td>\n",
              "      <td>7</td>\n",
              "      <td>-1</td>\n",
              "      <td>11</td>\n",
              "      <td>13</td>\n",
              "      <td>12</td>\n",
              "      <td>18</td>\n",
              "      <td>22</td>\n",
              "      <td>10</td>\n",
              "      <td>11</td>\n",
              "      <td>-1</td>\n",
              "      <td>20</td>\n",
              "      <td>-1</td>\n",
              "      <td>22</td>\n",
              "      <td>-1</td>\n",
              "      <td>11</td>\n",
              "      <td>N</td>\n",
              "      <td>NJ</td>\n",
              "    </tr>\n",
              "    <tr>\n",
              "      <th>3</th>\n",
              "      <td>9</td>\n",
              "      <td>2015-03-21</td>\n",
              "      <td>K</td>\n",
              "      <td>21</td>\n",
              "      <td>0.8870</td>\n",
              "      <td>0.0004</td>\n",
              "      <td>1,113</td>\n",
              "      <td>1.2665</td>\n",
              "      <td>Y</td>\n",
              "      <td>14</td>\n",
              "      <td>22</td>\n",
              "      <td>15</td>\n",
              "      <td>22</td>\n",
              "      <td>13</td>\n",
              "      <td>20</td>\n",
              "      <td>22</td>\n",
              "      <td>25</td>\n",
              "      <td>13</td>\n",
              "      <td>22</td>\n",
              "      <td>13</td>\n",
              "      <td>23</td>\n",
              "      <td>Y</td>\n",
              "      <td>F</td>\n",
              "      <td>5</td>\n",
              "      <td>9</td>\n",
              "      <td>9</td>\n",
              "      <td>20</td>\n",
              "      <td>5</td>\n",
              "      <td>16</td>\n",
              "      <td>1</td>\n",
              "      <td>5</td>\n",
              "      <td>5</td>\n",
              "      <td>11</td>\n",
              "      <td>R</td>\n",
              "      <td>32725</td>\n",
              "      <td>1</td>\n",
              "      <td>1</td>\n",
              "      <td>1</td>\n",
              "      <td>1</td>\n",
              "      <td>0</td>\n",
              "      <td>...</td>\n",
              "      <td>11</td>\n",
              "      <td>11</td>\n",
              "      <td>9</td>\n",
              "      <td>10</td>\n",
              "      <td>11</td>\n",
              "      <td>13</td>\n",
              "      <td>15</td>\n",
              "      <td>21</td>\n",
              "      <td>14</td>\n",
              "      <td>12</td>\n",
              "      <td>17</td>\n",
              "      <td>13</td>\n",
              "      <td>10</td>\n",
              "      <td>6</td>\n",
              "      <td>20</td>\n",
              "      <td>22</td>\n",
              "      <td>20</td>\n",
              "      <td>22</td>\n",
              "      <td>19</td>\n",
              "      <td>16</td>\n",
              "      <td>12</td>\n",
              "      <td>11</td>\n",
              "      <td>4</td>\n",
              "      <td>6</td>\n",
              "      <td>-1</td>\n",
              "      <td>13</td>\n",
              "      <td>10</td>\n",
              "      <td>8</td>\n",
              "      <td>5</td>\n",
              "      <td>3</td>\n",
              "      <td>8</td>\n",
              "      <td>8</td>\n",
              "      <td>-1</td>\n",
              "      <td>13</td>\n",
              "      <td>-1</td>\n",
              "      <td>8</td>\n",
              "      <td>-1</td>\n",
              "      <td>21</td>\n",
              "      <td>N</td>\n",
              "      <td>TX</td>\n",
              "    </tr>\n",
              "    <tr>\n",
              "      <th>4</th>\n",
              "      <td>10</td>\n",
              "      <td>2014-12-10</td>\n",
              "      <td>B</td>\n",
              "      <td>25</td>\n",
              "      <td>0.9153</td>\n",
              "      <td>0.0007</td>\n",
              "      <td>935</td>\n",
              "      <td>1.0200</td>\n",
              "      <td>N</td>\n",
              "      <td>4</td>\n",
              "      <td>5</td>\n",
              "      <td>4</td>\n",
              "      <td>5</td>\n",
              "      <td>4</td>\n",
              "      <td>4</td>\n",
              "      <td>4</td>\n",
              "      <td>5</td>\n",
              "      <td>13</td>\n",
              "      <td>22</td>\n",
              "      <td>13</td>\n",
              "      <td>23</td>\n",
              "      <td>Y</td>\n",
              "      <td>D</td>\n",
              "      <td>12</td>\n",
              "      <td>21</td>\n",
              "      <td>1</td>\n",
              "      <td>1</td>\n",
              "      <td>3</td>\n",
              "      <td>6</td>\n",
              "      <td>0</td>\n",
              "      <td>5</td>\n",
              "      <td>5</td>\n",
              "      <td>11</td>\n",
              "      <td>T</td>\n",
              "      <td>56025</td>\n",
              "      <td>0</td>\n",
              "      <td>1</td>\n",
              "      <td>1</td>\n",
              "      <td>1</td>\n",
              "      <td>0</td>\n",
              "      <td>...</td>\n",
              "      <td>9</td>\n",
              "      <td>8</td>\n",
              "      <td>25</td>\n",
              "      <td>25</td>\n",
              "      <td>9</td>\n",
              "      <td>3</td>\n",
              "      <td>9</td>\n",
              "      <td>18</td>\n",
              "      <td>7</td>\n",
              "      <td>4</td>\n",
              "      <td>16</td>\n",
              "      <td>12</td>\n",
              "      <td>13</td>\n",
              "      <td>9</td>\n",
              "      <td>8</td>\n",
              "      <td>6</td>\n",
              "      <td>8</td>\n",
              "      <td>6</td>\n",
              "      <td>11</td>\n",
              "      <td>5</td>\n",
              "      <td>19</td>\n",
              "      <td>21</td>\n",
              "      <td>13</td>\n",
              "      <td>21</td>\n",
              "      <td>-1</td>\n",
              "      <td>23</td>\n",
              "      <td>11</td>\n",
              "      <td>8</td>\n",
              "      <td>5</td>\n",
              "      <td>3</td>\n",
              "      <td>7</td>\n",
              "      <td>7</td>\n",
              "      <td>-1</td>\n",
              "      <td>3</td>\n",
              "      <td>-1</td>\n",
              "      <td>22</td>\n",
              "      <td>-1</td>\n",
              "      <td>21</td>\n",
              "      <td>N</td>\n",
              "      <td>CA</td>\n",
              "    </tr>\n",
              "  </tbody>\n",
              "</table>\n",
              "<p>5 rows × 298 columns</p>\n",
              "</div>"
            ],
            "text/plain": [
              "   QuoteNumber Original_Quote_Date  ... GeographicField63  GeographicField64\n",
              "0            3          2014-08-12  ...                 Y                 IL\n",
              "1            5          2013-09-07  ...                 N                 NJ\n",
              "2            7          2013-03-29  ...                 N                 NJ\n",
              "3            9          2015-03-21  ...                 N                 TX\n",
              "4           10          2014-12-10  ...                 N                 CA\n",
              "\n",
              "[5 rows x 298 columns]"
            ]
          },
          "metadata": {
            "tags": []
          },
          "execution_count": 14
        }
      ]
    },
    {
      "cell_type": "code",
      "metadata": {
        "id": "UGebuidxTOXk"
      },
      "source": [
        "y_column = df_train.columns.difference(df_test.columns)"
      ],
      "execution_count": 15,
      "outputs": []
    },
    {
      "cell_type": "code",
      "metadata": {
        "colab": {
          "base_uri": "https://localhost:8080/"
        },
        "id": "W-L9o1GuVTYj",
        "outputId": "410189f9-d3d0-4511-b39c-bf26c624b5f4"
      },
      "source": [
        "y_column"
      ],
      "execution_count": 16,
      "outputs": [
        {
          "output_type": "execute_result",
          "data": {
            "text/plain": [
              "Index(['QuoteConversion_Flag'], dtype='object')"
            ]
          },
          "metadata": {
            "tags": []
          },
          "execution_count": 16
        }
      ]
    },
    {
      "cell_type": "markdown",
      "metadata": {
        "id": "Gn_QCmpIGvD-"
      },
      "source": [
        "From this it looks like `QuoteConversion_Flag` is the value we want to predict. Let's take a look at this"
      ]
    },
    {
      "cell_type": "code",
      "metadata": {
        "colab": {
          "base_uri": "https://localhost:8080/"
        },
        "id": "4jA_JGN9FGmz",
        "outputId": "f6cbdc3a-8f2f-4a5e-c8ac-82f4a0f990f2"
      },
      "source": [
        "type(df_train.QuoteConversion_Flag)"
      ],
      "execution_count": 17,
      "outputs": [
        {
          "output_type": "execute_result",
          "data": {
            "text/plain": [
              "pandas.core.series.Series"
            ]
          },
          "metadata": {
            "tags": []
          },
          "execution_count": 17
        }
      ]
    },
    {
      "cell_type": "code",
      "metadata": {
        "colab": {
          "base_uri": "https://localhost:8080/"
        },
        "id": "kdl_hdNyEk5n",
        "outputId": "096fb5da-7f6e-4890-ee99-051fccc355d2"
      },
      "source": [
        "df_train.QuoteConversion_Flag.unique()"
      ],
      "execution_count": 18,
      "outputs": [
        {
          "output_type": "execute_result",
          "data": {
            "text/plain": [
              "array([0, 1])"
            ]
          },
          "metadata": {
            "tags": []
          },
          "execution_count": 18
        }
      ]
    },
    {
      "cell_type": "code",
      "metadata": {
        "colab": {
          "base_uri": "https://localhost:8080/"
        },
        "id": "VyFyvYKzQzZw",
        "outputId": "b576c3f9-72f0-40e4-96d6-ca78f1c98098"
      },
      "source": [
        "type(df_train.QuoteConversion_Flag.unique()[0])"
      ],
      "execution_count": 19,
      "outputs": [
        {
          "output_type": "execute_result",
          "data": {
            "text/plain": [
              "numpy.int64"
            ]
          },
          "metadata": {
            "tags": []
          },
          "execution_count": 19
        }
      ]
    },
    {
      "cell_type": "markdown",
      "metadata": {
        "id": "yBKlVbW0RMjS"
      },
      "source": [
        "What's interesting here is that the training data outcomes that we want to generate predictions on seems to just be a binary classification, either there's a sale (1) or there's no sale (0). \n",
        "With maths and rounding up and down, predictions above 50% will be rounded up to a sale and predictions less than 50% will be classified as predicting no sale if we keep this field as an integer. \n",
        "\n",
        "In reality, 50% might not be a good threshold to keep and we may want to vary this rounding value of confidence.\n",
        "If we convert it to a floating point, we can have more control over this threshold, and thus the final prediction, so we can predict a sale if there's say, more than 90% confidence in the prediction."
      ]
    },
    {
      "cell_type": "code",
      "metadata": {
        "id": "nChaxE9bVuJP"
      },
      "source": [
        "df_train.QuoteConversion_Flag = df_train.QuoteConversion_Flag.astype(dtype='float64')"
      ],
      "execution_count": 20,
      "outputs": []
    },
    {
      "cell_type": "markdown",
      "metadata": {
        "id": "r2YPH48oMyb2"
      },
      "source": [
        "## First things first \n",
        "Learning from [my collague Tim's work](https://redditech.github.io/team-fast-tabulous/jupyter/2021/06/20/Identify-problem-type.html) already we know:\n",
        "- `Quotenumber` is unique so make it the index\n",
        "- `Original_Quote_Date` should be made into a date\n",
        "\n",
        "Additionally, we should make sure to apply any changes to data types to both train and test data so predictions don't fail later on\n"
      ]
    },
    {
      "cell_type": "code",
      "metadata": {
        "id": "73vK91dbZBgr"
      },
      "source": [
        "df_train = df_train.set_index('QuoteNumber')\n",
        "df_test = df_test.set_index('QuoteNumber')"
      ],
      "execution_count": 21,
      "outputs": []
    },
    {
      "cell_type": "code",
      "metadata": {
        "id": "aoTdl6KAKokD"
      },
      "source": [
        "df_train['Original_Quote_Date'] = pd.to_datetime(df_train['Original_Quote_Date'])\n",
        "df_test['Original_Quote_Date'] = pd.to_datetime(df_train['Original_Quote_Date'])"
      ],
      "execution_count": 22,
      "outputs": []
    },
    {
      "cell_type": "markdown",
      "metadata": {
        "id": "z88q3HA9gM4S"
      },
      "source": [
        "## Goal: Identifying our categorical and continuous data columns"
      ]
    },
    {
      "cell_type": "code",
      "metadata": {
        "id": "1kwJDRMhzlQa"
      },
      "source": [
        "categorical=L()\n",
        "continuous=L()\n",
        "notused =L()"
      ],
      "execution_count": 23,
      "outputs": []
    },
    {
      "cell_type": "markdown",
      "metadata": {
        "id": "-EzZo0ccf5sp"
      },
      "source": [
        "### Dividing up the data into manageable chunks for exploration"
      ]
    },
    {
      "cell_type": "markdown",
      "metadata": {
        "id": "_nhlhmArHS-8"
      },
      "source": [
        "Let's now see how many columns we are working with"
      ]
    },
    {
      "cell_type": "code",
      "metadata": {
        "colab": {
          "base_uri": "https://localhost:8080/"
        },
        "id": "mVbZBWUuD-ln",
        "outputId": "4206f435-be1a-4ec0-ecd4-4765118ea307"
      },
      "source": [
        "df_train.columns"
      ],
      "execution_count": 24,
      "outputs": [
        {
          "output_type": "execute_result",
          "data": {
            "text/plain": [
              "Index(['Original_Quote_Date', 'QuoteConversion_Flag', 'Field6', 'Field7',\n",
              "       'Field8', 'Field9', 'Field10', 'Field11', 'Field12', 'CoverageField1A',\n",
              "       ...\n",
              "       'GeographicField59A', 'GeographicField59B', 'GeographicField60A',\n",
              "       'GeographicField60B', 'GeographicField61A', 'GeographicField61B',\n",
              "       'GeographicField62A', 'GeographicField62B', 'GeographicField63',\n",
              "       'GeographicField64'],\n",
              "      dtype='object', length=298)"
            ]
          },
          "metadata": {
            "tags": []
          },
          "execution_count": 24
        }
      ]
    },
    {
      "cell_type": "code",
      "metadata": {
        "colab": {
          "base_uri": "https://localhost:8080/"
        },
        "id": "O6p-hZgXEwzZ",
        "outputId": "40cda093-47af-41ac-8fb2-c700d503b8e6"
      },
      "source": [
        "df_train.info()"
      ],
      "execution_count": 25,
      "outputs": [
        {
          "output_type": "stream",
          "text": [
            "<class 'pandas.core.frame.DataFrame'>\n",
            "Int64Index: 260753 entries, 1 to 434588\n",
            "Columns: 298 entries, Original_Quote_Date to GeographicField64\n",
            "dtypes: datetime64[ns](1), float64(7), int64(263), object(27)\n",
            "memory usage: 604.8+ MB\n"
          ],
          "name": "stdout"
        }
      ]
    },
    {
      "cell_type": "markdown",
      "metadata": {
        "id": "-9fsHauZHX8Z"
      },
      "source": [
        "298 columns is alot, let's split these by type"
      ]
    },
    {
      "cell_type": "code",
      "metadata": {
        "colab": {
          "base_uri": "https://localhost:8080/"
        },
        "id": "rhMXvJX2IGTd",
        "outputId": "fd9b0281-f43b-4549-f2df-acadfc4919ff"
      },
      "source": [
        "df_train.dtypes.unique()"
      ],
      "execution_count": 26,
      "outputs": [
        {
          "output_type": "execute_result",
          "data": {
            "text/plain": [
              "array([dtype('<M8[ns]'), dtype('float64'), dtype('O'), dtype('int64')],\n",
              "      dtype=object)"
            ]
          },
          "metadata": {
            "tags": []
          },
          "execution_count": 26
        }
      ]
    },
    {
      "cell_type": "markdown",
      "metadata": {
        "id": "aTDNUso4fzGQ"
      },
      "source": [
        "### Exploring the float64 data"
      ]
    },
    {
      "cell_type": "markdown",
      "metadata": {
        "id": "Ca42PjVCIMAe"
      },
      "source": [
        "Let's take a look at the smallest subset, the floating point columns, to see if there's anything interesting about them"
      ]
    },
    {
      "cell_type": "code",
      "metadata": {
        "colab": {
          "base_uri": "https://localhost:8080/",
          "height": 235
        },
        "id": "unrfGLTXImnl",
        "outputId": "94dccd2d-e252-4683-9e65-27a0f3130f42"
      },
      "source": [
        "(df_train[df_train.columns[df_train.dtypes=='float64']].drop(columns=['QuoteConversion_Flag'])).head()"
      ],
      "execution_count": 27,
      "outputs": [
        {
          "output_type": "execute_result",
          "data": {
            "text/html": [
              "<div>\n",
              "<style scoped>\n",
              "    .dataframe tbody tr th:only-of-type {\n",
              "        vertical-align: middle;\n",
              "    }\n",
              "\n",
              "    .dataframe tbody tr th {\n",
              "        vertical-align: top;\n",
              "    }\n",
              "\n",
              "    .dataframe thead th {\n",
              "        text-align: right;\n",
              "    }\n",
              "</style>\n",
              "<table border=\"1\" class=\"dataframe\">\n",
              "  <thead>\n",
              "    <tr style=\"text-align: right;\">\n",
              "      <th></th>\n",
              "      <th>Field8</th>\n",
              "      <th>Field9</th>\n",
              "      <th>Field11</th>\n",
              "      <th>PersonalField84</th>\n",
              "      <th>PropertyField25</th>\n",
              "      <th>PropertyField29</th>\n",
              "    </tr>\n",
              "    <tr>\n",
              "      <th>QuoteNumber</th>\n",
              "      <th></th>\n",
              "      <th></th>\n",
              "      <th></th>\n",
              "      <th></th>\n",
              "      <th></th>\n",
              "      <th></th>\n",
              "    </tr>\n",
              "  </thead>\n",
              "  <tbody>\n",
              "    <tr>\n",
              "      <th>1</th>\n",
              "      <td>0.9403</td>\n",
              "      <td>0.0006</td>\n",
              "      <td>1.0200</td>\n",
              "      <td>2.0</td>\n",
              "      <td>3.0</td>\n",
              "      <td>0.0</td>\n",
              "    </tr>\n",
              "    <tr>\n",
              "      <th>2</th>\n",
              "      <td>1.0006</td>\n",
              "      <td>0.0040</td>\n",
              "      <td>1.2433</td>\n",
              "      <td>NaN</td>\n",
              "      <td>2.0</td>\n",
              "      <td>NaN</td>\n",
              "    </tr>\n",
              "    <tr>\n",
              "      <th>4</th>\n",
              "      <td>1.0006</td>\n",
              "      <td>0.0040</td>\n",
              "      <td>1.2433</td>\n",
              "      <td>NaN</td>\n",
              "      <td>1.5</td>\n",
              "      <td>NaN</td>\n",
              "    </tr>\n",
              "    <tr>\n",
              "      <th>6</th>\n",
              "      <td>0.9769</td>\n",
              "      <td>0.0004</td>\n",
              "      <td>1.2665</td>\n",
              "      <td>NaN</td>\n",
              "      <td>1.0</td>\n",
              "      <td>NaN</td>\n",
              "    </tr>\n",
              "    <tr>\n",
              "      <th>8</th>\n",
              "      <td>0.9472</td>\n",
              "      <td>0.0006</td>\n",
              "      <td>1.3045</td>\n",
              "      <td>2.0</td>\n",
              "      <td>3.0</td>\n",
              "      <td>0.0</td>\n",
              "    </tr>\n",
              "  </tbody>\n",
              "</table>\n",
              "</div>"
            ],
            "text/plain": [
              "             Field8  Field9  ...  PropertyField25  PropertyField29\n",
              "QuoteNumber                  ...                                  \n",
              "1            0.9403  0.0006  ...              3.0              0.0\n",
              "2            1.0006  0.0040  ...              2.0              NaN\n",
              "4            1.0006  0.0040  ...              1.5              NaN\n",
              "6            0.9769  0.0004  ...              1.0              NaN\n",
              "8            0.9472  0.0006  ...              3.0              0.0\n",
              "\n",
              "[5 rows x 6 columns]"
            ]
          },
          "metadata": {
            "tags": []
          },
          "execution_count": 27
        }
      ]
    },
    {
      "cell_type": "markdown",
      "metadata": {
        "id": "Y77Ep4t4oaRA"
      },
      "source": [
        "Referencing [this article](https://towardsdatascience.com/exploratory-data-analysis-eda-visualization-using-pandas-ca5a04271607) for some good tips on EDA (Exploratory Data Analysis)"
      ]
    },
    {
      "cell_type": "code",
      "metadata": {
        "colab": {
          "base_uri": "https://localhost:8080/",
          "height": 297
        },
        "id": "9MRYtckFoSr4",
        "outputId": "ce0f69ed-4838-4b6a-e088-0e50827469bb"
      },
      "source": [
        "(df_train[df_train.columns[df_train.dtypes=='float64']].drop(columns=['QuoteConversion_Flag'])).describe()"
      ],
      "execution_count": 28,
      "outputs": [
        {
          "output_type": "execute_result",
          "data": {
            "text/html": [
              "<div>\n",
              "<style scoped>\n",
              "    .dataframe tbody tr th:only-of-type {\n",
              "        vertical-align: middle;\n",
              "    }\n",
              "\n",
              "    .dataframe tbody tr th {\n",
              "        vertical-align: top;\n",
              "    }\n",
              "\n",
              "    .dataframe thead th {\n",
              "        text-align: right;\n",
              "    }\n",
              "</style>\n",
              "<table border=\"1\" class=\"dataframe\">\n",
              "  <thead>\n",
              "    <tr style=\"text-align: right;\">\n",
              "      <th></th>\n",
              "      <th>Field8</th>\n",
              "      <th>Field9</th>\n",
              "      <th>Field11</th>\n",
              "      <th>PersonalField84</th>\n",
              "      <th>PropertyField25</th>\n",
              "      <th>PropertyField29</th>\n",
              "    </tr>\n",
              "  </thead>\n",
              "  <tbody>\n",
              "    <tr>\n",
              "      <th>count</th>\n",
              "      <td>260753.000000</td>\n",
              "      <td>260753.000000</td>\n",
              "      <td>260753.000000</td>\n",
              "      <td>136545.000000</td>\n",
              "      <td>260753.000000</td>\n",
              "      <td>60068.000000</td>\n",
              "    </tr>\n",
              "    <tr>\n",
              "      <th>mean</th>\n",
              "      <td>0.938346</td>\n",
              "      <td>0.001451</td>\n",
              "      <td>1.162718</td>\n",
              "      <td>1.990142</td>\n",
              "      <td>1.632422</td>\n",
              "      <td>0.000200</td>\n",
              "    </tr>\n",
              "    <tr>\n",
              "      <th>std</th>\n",
              "      <td>0.037086</td>\n",
              "      <td>0.001486</td>\n",
              "      <td>0.116833</td>\n",
              "      <td>0.127931</td>\n",
              "      <td>0.717064</td>\n",
              "      <td>0.014133</td>\n",
              "    </tr>\n",
              "    <tr>\n",
              "      <th>min</th>\n",
              "      <td>0.874600</td>\n",
              "      <td>0.000400</td>\n",
              "      <td>1.000000</td>\n",
              "      <td>1.000000</td>\n",
              "      <td>0.000000</td>\n",
              "      <td>0.000000</td>\n",
              "    </tr>\n",
              "    <tr>\n",
              "      <th>25%</th>\n",
              "      <td>0.915300</td>\n",
              "      <td>0.000600</td>\n",
              "      <td>1.020000</td>\n",
              "      <td>2.000000</td>\n",
              "      <td>1.000000</td>\n",
              "      <td>0.000000</td>\n",
              "    </tr>\n",
              "    <tr>\n",
              "      <th>50%</th>\n",
              "      <td>0.940300</td>\n",
              "      <td>0.000600</td>\n",
              "      <td>1.188600</td>\n",
              "      <td>2.000000</td>\n",
              "      <td>1.500000</td>\n",
              "      <td>0.000000</td>\n",
              "    </tr>\n",
              "    <tr>\n",
              "      <th>75%</th>\n",
              "      <td>0.968500</td>\n",
              "      <td>0.003800</td>\n",
              "      <td>1.266500</td>\n",
              "      <td>2.000000</td>\n",
              "      <td>2.000000</td>\n",
              "      <td>0.000000</td>\n",
              "    </tr>\n",
              "    <tr>\n",
              "      <th>max</th>\n",
              "      <td>1.010100</td>\n",
              "      <td>0.004000</td>\n",
              "      <td>1.304500</td>\n",
              "      <td>8.000000</td>\n",
              "      <td>7.000000</td>\n",
              "      <td>1.000000</td>\n",
              "    </tr>\n",
              "  </tbody>\n",
              "</table>\n",
              "</div>"
            ],
            "text/plain": [
              "              Field8         Field9  ...  PropertyField25  PropertyField29\n",
              "count  260753.000000  260753.000000  ...    260753.000000     60068.000000\n",
              "mean        0.938346       0.001451  ...         1.632422         0.000200\n",
              "std         0.037086       0.001486  ...         0.717064         0.014133\n",
              "min         0.874600       0.000400  ...         0.000000         0.000000\n",
              "25%         0.915300       0.000600  ...         1.000000         0.000000\n",
              "50%         0.940300       0.000600  ...         1.500000         0.000000\n",
              "75%         0.968500       0.003800  ...         2.000000         0.000000\n",
              "max         1.010100       0.004000  ...         7.000000         1.000000\n",
              "\n",
              "[8 rows x 6 columns]"
            ]
          },
          "metadata": {
            "tags": []
          },
          "execution_count": 28
        }
      ]
    },
    {
      "cell_type": "markdown",
      "metadata": {
        "id": "aIbppdfruwZ8"
      },
      "source": [
        "#### Field8 analysis"
      ]
    },
    {
      "cell_type": "code",
      "metadata": {
        "colab": {
          "base_uri": "https://localhost:8080/"
        },
        "id": "-hew3vPUy-eP",
        "outputId": "1a04f29f-c59c-4351-81c0-c990f4a746d4"
      },
      "source": [
        "df_train['Field8'].value_counts()"
      ],
      "execution_count": 29,
      "outputs": [
        {
          "output_type": "execute_result",
          "data": {
            "text/plain": [
              "0.9403    48161\n",
              "0.9153    44198\n",
              "0.8870    18476\n",
              "1.0006    18371\n",
              "0.9919    16845\n",
              "0.8928    13945\n",
              "0.8922    10982\n",
              "0.9691     8237\n",
              "0.9392     7235\n",
              "1.0101     6927\n",
              "0.9838     5178\n",
              "0.9108     4827\n",
              "0.9313     4816\n",
              "1.0005     3436\n",
              "0.9769     3329\n",
              "0.9497     3241\n",
              "0.9472     3175\n",
              "0.9566     3065\n",
              "0.9559     2824\n",
              "0.8793     2697\n",
              "0.9685     2558\n",
              "0.9219     2366\n",
              "0.9368     2238\n",
              "0.9223     2210\n",
              "0.8945     2166\n",
              "0.9023     2036\n",
              "0.9487     2012\n",
              "0.9525     1972\n",
              "0.9482     1835\n",
              "0.8746     1806\n",
              "0.9893     1685\n",
              "0.9258     1280\n",
              "0.8930     1213\n",
              "0.9194     1205\n",
              "0.9364     1189\n",
              "0.9375     1108\n",
              "0.9485      969\n",
              "0.9489      940\n",
              "Name: Field8, dtype: int64"
            ]
          },
          "metadata": {
            "tags": []
          },
          "execution_count": 29
        }
      ]
    },
    {
      "cell_type": "code",
      "metadata": {
        "colab": {
          "base_uri": "https://localhost:8080/"
        },
        "id": "Bia-pKUJzJbe",
        "outputId": "9eaa65b3-2f5c-4a85-d38f-8b102a48900a"
      },
      "source": [
        "df_train['Field8'].isna().sum()"
      ],
      "execution_count": 30,
      "outputs": [
        {
          "output_type": "execute_result",
          "data": {
            "text/plain": [
              "0"
            ]
          },
          "metadata": {
            "tags": []
          },
          "execution_count": 30
        }
      ]
    },
    {
      "cell_type": "code",
      "metadata": {
        "colab": {
          "base_uri": "https://localhost:8080/",
          "height": 284
        },
        "id": "pr72QNAce24i",
        "outputId": "bba235e6-14de-4cc9-8b45-284d0c271796"
      },
      "source": [
        "df_train[\"Field8\"].plot.hist(bins=200)"
      ],
      "execution_count": 31,
      "outputs": [
        {
          "output_type": "execute_result",
          "data": {
            "text/plain": [
              "<matplotlib.axes._subplots.AxesSubplot at 0x7fe5588c0510>"
            ]
          },
          "metadata": {
            "tags": []
          },
          "execution_count": 31
        },
        {
          "output_type": "display_data",
          "data": {
            "image/png": "[encoded data removed]",
            "text/plain": [
              "<Figure size 432x288 with 1 Axes>"
            ]
          },
          "metadata": {
            "tags": [],
            "needs_background": "light"
          }
        }
      ]
    },
    {
      "cell_type": "markdown",
      "metadata": {
        "id": "XzSxcpsFzarK"
      },
      "source": [
        "`Field8` looks like a good candidate as a continuous field. Let's add it to that list"
      ]
    },
    {
      "cell_type": "code",
      "metadata": {
        "id": "9BskwM32zxc-"
      },
      "source": [
        "continuous.append('Field8')"
      ],
      "execution_count": 32,
      "outputs": []
    },
    {
      "cell_type": "code",
      "metadata": {
        "colab": {
          "base_uri": "https://localhost:8080/"
        },
        "id": "yWPhK5cQ0WLm",
        "outputId": "51055ee3-7524-492a-9ad1-4e1a9a6f7654"
      },
      "source": [
        "continuous"
      ],
      "execution_count": 33,
      "outputs": [
        {
          "output_type": "execute_result",
          "data": {
            "text/plain": [
              "(#1) ['Field8']"
            ]
          },
          "metadata": {
            "tags": []
          },
          "execution_count": 33
        }
      ]
    },
    {
      "cell_type": "markdown",
      "metadata": {
        "id": "8ST6siiuytxW"
      },
      "source": [
        "#### Field 9 analysis"
      ]
    },
    {
      "cell_type": "code",
      "metadata": {
        "colab": {
          "base_uri": "https://localhost:8080/"
        },
        "id": "pBP7aRzhazxB",
        "outputId": "ff236847-93ec-45fa-898c-7a98cb16c731"
      },
      "source": [
        "df_train[\"Field9\"].value_counts()"
      ],
      "execution_count": 34,
      "outputs": [
        {
          "output_type": "execute_result",
          "data": {
            "text/plain": [
              "0.0006    74096\n",
              "0.0004    65011\n",
              "0.0007    52353\n",
              "0.0040    39065\n",
              "0.0038    30228\n",
              "Name: Field9, dtype: int64"
            ]
          },
          "metadata": {
            "tags": []
          },
          "execution_count": 34
        }
      ]
    },
    {
      "cell_type": "code",
      "metadata": {
        "colab": {
          "base_uri": "https://localhost:8080/"
        },
        "id": "NXRdddJT0sq5",
        "outputId": "3928026e-cebf-4118-e97a-126bb4e84fbb"
      },
      "source": [
        "df_train[\"Field9\"].isna().sum()"
      ],
      "execution_count": 35,
      "outputs": [
        {
          "output_type": "execute_result",
          "data": {
            "text/plain": [
              "0"
            ]
          },
          "metadata": {
            "tags": []
          },
          "execution_count": 35
        }
      ]
    },
    {
      "cell_type": "code",
      "metadata": {
        "colab": {
          "base_uri": "https://localhost:8080/",
          "height": 282
        },
        "id": "njROC824eF4x",
        "outputId": "16e9dfd1-8ce5-4cce-ad3d-d7800a460ccb"
      },
      "source": [
        "df_train[\"Field9\"].plot.hist(bins=50)"
      ],
      "execution_count": 36,
      "outputs": [
        {
          "output_type": "execute_result",
          "data": {
            "text/plain": [
              "<matplotlib.axes._subplots.AxesSubplot at 0x7fe558603b50>"
            ]
          },
          "metadata": {
            "tags": []
          },
          "execution_count": 36
        },
        {
          "output_type": "display_data",
          "data": {
            "image/png": "[encoded data removed]",
            "text/plain": [
              "<Figure size 432x288 with 1 Axes>"
            ]
          },
          "metadata": {
            "tags": [],
            "needs_background": "light"
          }
        }
      ]
    },
    {
      "cell_type": "markdown",
      "metadata": {
        "id": "xxkYLWX11Roq"
      },
      "source": [
        "Even though it is a floating point field, it looks very categorical in nature rather than continuous. We *could* peak at the test dataset to confirm this"
      ]
    },
    {
      "cell_type": "code",
      "metadata": {
        "colab": {
          "base_uri": "https://localhost:8080/"
        },
        "id": "HD94M9Yp1fLj",
        "outputId": "3c524bde-b4ad-4885-ca3d-5e826af52a1c"
      },
      "source": [
        "df_test[~df_test[\"Field9\"].isin(df_train[\"Field9\"].unique())].value_counts()"
      ],
      "execution_count": 37,
      "outputs": [
        {
          "output_type": "execute_result",
          "data": {
            "text/plain": [
              "Series([], dtype: int64)"
            ]
          },
          "metadata": {
            "tags": []
          },
          "execution_count": 37
        }
      ]
    },
    {
      "cell_type": "markdown",
      "metadata": {
        "id": "A6HoBxek3OM7"
      },
      "source": [
        "So this hypothesis holds true, so we're going with the assumption that `Field9` is categorical not continuous"
      ]
    },
    {
      "cell_type": "code",
      "metadata": {
        "id": "m2b804bc3VyN"
      },
      "source": [
        "categorical.append(\"Field9\")"
      ],
      "execution_count": 38,
      "outputs": []
    },
    {
      "cell_type": "markdown",
      "metadata": {
        "id": "_IeISL-e1eBn"
      },
      "source": [
        ""
      ]
    },
    {
      "cell_type": "code",
      "metadata": {
        "colab": {
          "base_uri": "https://localhost:8080/"
        },
        "id": "7l6_ZEUlfDqt",
        "outputId": "e7283074-1163-4d1f-f611-6e7ccab0194a"
      },
      "source": [
        "df_train[\"Field9\"].unique()"
      ],
      "execution_count": 39,
      "outputs": [
        {
          "output_type": "execute_result",
          "data": {
            "text/plain": [
              "array([0.0006, 0.004 , 0.0004, 0.0007, 0.0038])"
            ]
          },
          "metadata": {
            "tags": []
          },
          "execution_count": 39
        }
      ]
    },
    {
      "cell_type": "markdown",
      "metadata": {
        "id": "5ladtVTb36Xc"
      },
      "source": [
        "#### Field11"
      ]
    },
    {
      "cell_type": "code",
      "metadata": {
        "colab": {
          "base_uri": "https://localhost:8080/"
        },
        "id": "krsPb5M35MP-",
        "outputId": "f0d714aa-b08f-4bf3-95ff-aa767e468ab2"
      },
      "source": [
        "df_train[\"Field11\"].value_counts()"
      ],
      "execution_count": 40,
      "outputs": [
        {
          "output_type": "execute_result",
          "data": {
            "text/plain": [
              "1.0200    92359\n",
              "1.2665    62187\n",
              "1.3045    28378\n",
              "1.1886    27646\n",
              "1.2433    23492\n",
              "1.2694     6927\n",
              "1.0670     6412\n",
              "1.1161     4816\n",
              "1.2714     3346\n",
              "1.2392     2824\n",
              "1.0000     2366\n",
              "Name: Field11, dtype: int64"
            ]
          },
          "metadata": {
            "tags": []
          },
          "execution_count": 40
        }
      ]
    },
    {
      "cell_type": "code",
      "metadata": {
        "colab": {
          "base_uri": "https://localhost:8080/"
        },
        "id": "17dqeOeP5RzS",
        "outputId": "b3ab3972-03d9-4376-8d63-2ff7b4ff8692"
      },
      "source": [
        "df_train[\"Field11\"].isna().sum()"
      ],
      "execution_count": 41,
      "outputs": [
        {
          "output_type": "execute_result",
          "data": {
            "text/plain": [
              "0"
            ]
          },
          "metadata": {
            "tags": []
          },
          "execution_count": 41
        }
      ]
    },
    {
      "cell_type": "code",
      "metadata": {
        "colab": {
          "base_uri": "https://localhost:8080/",
          "height": 282
        },
        "id": "DGrHaXkWfMD3",
        "outputId": "926deacd-cb0f-4ce2-82f1-fd281d7e71d4"
      },
      "source": [
        "df_train[\"Field11\"].plot.hist(bins=200)"
      ],
      "execution_count": 42,
      "outputs": [
        {
          "output_type": "execute_result",
          "data": {
            "text/plain": [
              "<matplotlib.axes._subplots.AxesSubplot at 0x7fe557ffedd0>"
            ]
          },
          "metadata": {
            "tags": []
          },
          "execution_count": 42
        },
        {
          "output_type": "display_data",
          "data": {
            "image/png": "[encoded data removed]",
            "text/plain": [
              "<Figure size 432x288 with 1 Axes>"
            ]
          },
          "metadata": {
            "tags": [],
            "needs_background": "light"
          }
        }
      ]
    },
    {
      "cell_type": "markdown",
      "metadata": {
        "id": "4lGRMK3W5fHZ"
      },
      "source": [
        "Like `Field9` this too also looks more categorical than continuous in nature. We can help reassure this hypothesis by again \"peeking\" to see if any test data values don't confirm to this theory"
      ]
    },
    {
      "cell_type": "code",
      "metadata": {
        "colab": {
          "base_uri": "https://localhost:8080/"
        },
        "id": "tV-mw1Ct6Udl",
        "outputId": "71c92982-d4e4-4a28-eb46-4e5a937fdc1f"
      },
      "source": [
        "df_test[~df_test[\"Field11\"].isin(df_train[\"Field11\"].unique())].value_counts()"
      ],
      "execution_count": 43,
      "outputs": [
        {
          "output_type": "execute_result",
          "data": {
            "text/plain": [
              "Series([], dtype: int64)"
            ]
          },
          "metadata": {
            "tags": []
          },
          "execution_count": 43
        }
      ]
    },
    {
      "cell_type": "markdown",
      "metadata": {
        "id": "cj10QZVW6ysD"
      },
      "source": [
        "Once again, the hypothesis holds true, so let's add `Field11` to our list of categorical fields"
      ]
    },
    {
      "cell_type": "code",
      "metadata": {
        "id": "4ZhXtdN-693X"
      },
      "source": [
        "categorical.append(\"Field11\")"
      ],
      "execution_count": 44,
      "outputs": []
    },
    {
      "cell_type": "markdown",
      "metadata": {
        "id": "Ud_SXF1x3_Vs"
      },
      "source": [
        "#### PersonalField84"
      ]
    },
    {
      "cell_type": "code",
      "metadata": {
        "colab": {
          "base_uri": "https://localhost:8080/"
        },
        "id": "vz2F9n8p7M1H",
        "outputId": "a7a7588d-c20d-41af-ff64-59f329fd3c6d"
      },
      "source": [
        "df_train[\"PersonalField84\"].value_counts()"
      ],
      "execution_count": 45,
      "outputs": [
        {
          "output_type": "execute_result",
          "data": {
            "text/plain": [
              "2.0    134906\n",
              "1.0      1564\n",
              "5.0        62\n",
              "3.0         7\n",
              "7.0         3\n",
              "4.0         2\n",
              "8.0         1\n",
              "Name: PersonalField84, dtype: int64"
            ]
          },
          "metadata": {
            "tags": []
          },
          "execution_count": 45
        }
      ]
    },
    {
      "cell_type": "code",
      "metadata": {
        "colab": {
          "base_uri": "https://localhost:8080/"
        },
        "id": "r5HpLQAZ8MqG",
        "outputId": "35f28335-c426-4cbe-a2cb-a6cf1654695d"
      },
      "source": [
        "df_train[\"PersonalField84\"].isna().sum()"
      ],
      "execution_count": 46,
      "outputs": [
        {
          "output_type": "execute_result",
          "data": {
            "text/plain": [
              "124208"
            ]
          },
          "metadata": {
            "tags": []
          },
          "execution_count": 46
        }
      ]
    },
    {
      "cell_type": "code",
      "metadata": {
        "colab": {
          "base_uri": "https://localhost:8080/",
          "height": 284
        },
        "id": "yGLaLVw78S-n",
        "outputId": "051bf0a8-5af1-459a-d713-807634bacfde"
      },
      "source": [
        "df_train[\"PersonalField84\"].plot.hist(bins=100)"
      ],
      "execution_count": 47,
      "outputs": [
        {
          "output_type": "execute_result",
          "data": {
            "text/plain": [
              "<matplotlib.axes._subplots.AxesSubplot at 0x7fe557d29990>"
            ]
          },
          "metadata": {
            "tags": []
          },
          "execution_count": 47
        },
        {
          "output_type": "display_data",
          "data": {
            "image/png": "[encoded data removed]",
            "text/plain": [
              "<Figure size 432x288 with 1 Axes>"
            ]
          },
          "metadata": {
            "tags": [],
            "needs_background": "light"
          }
        }
      ]
    },
    {
      "cell_type": "markdown",
      "metadata": {
        "id": "u0Xx49we8JAc"
      },
      "source": [
        "This one also seems a bit categorical. But there are quite a few NA values. We have a few choices here.\n",
        "- Given the heavy skewing towards one value, it would arguably be a good assumption to fill this with the `mode` value and not a `mean` value.\n",
        "- Given that a significant number of NA is present, we could ignore it totally as part of our model, and revisit it after if we're looking to fine tune our input dataset\n",
        "- For now, let's ignore it"
      ]
    },
    {
      "cell_type": "code",
      "metadata": {
        "id": "LOki9KCG--Ie"
      },
      "source": [
        "notused.append(\"PersonalField84\")"
      ],
      "execution_count": 48,
      "outputs": []
    },
    {
      "cell_type": "markdown",
      "metadata": {
        "id": "0_qBrRVg4QI-"
      },
      "source": [
        "#### PropertyField25"
      ]
    },
    {
      "cell_type": "code",
      "metadata": {
        "colab": {
          "base_uri": "https://localhost:8080/"
        },
        "id": "ozzAolwG_TCb",
        "outputId": "234b77a5-eeb4-4738-a877-4de43e220be9"
      },
      "source": [
        "df_train[\"PropertyField25\"].value_counts()"
      ],
      "execution_count": 49,
      "outputs": [
        {
          "output_type": "execute_result",
          "data": {
            "text/plain": [
              "1.0    121563\n",
              "2.0     91666\n",
              "3.0     27427\n",
              "1.5     16003\n",
              "2.5      2173\n",
              "5.0      1045\n",
              "4.0       531\n",
              "3.5       156\n",
              "7.0       119\n",
              "6.0        53\n",
              "0.0        17\n",
              "Name: PropertyField25, dtype: int64"
            ]
          },
          "metadata": {
            "tags": []
          },
          "execution_count": 49
        }
      ]
    },
    {
      "cell_type": "code",
      "metadata": {
        "colab": {
          "base_uri": "https://localhost:8080/"
        },
        "id": "1UW0W4N7_bJA",
        "outputId": "548abee9-1b20-4390-abb1-64b35f76f8e1"
      },
      "source": [
        "df_train[\"PropertyField25\"].isna().sum()"
      ],
      "execution_count": 50,
      "outputs": [
        {
          "output_type": "execute_result",
          "data": {
            "text/plain": [
              "0"
            ]
          },
          "metadata": {
            "tags": []
          },
          "execution_count": 50
        }
      ]
    },
    {
      "cell_type": "code",
      "metadata": {
        "colab": {
          "base_uri": "https://localhost:8080/",
          "height": 282
        },
        "id": "MQxOm7vS_j-V",
        "outputId": "b7a4f917-8aa2-4b0a-d137-f8768e08e344"
      },
      "source": [
        "df_train[\"PropertyField25\"].plot.hist(bins=100)"
      ],
      "execution_count": 51,
      "outputs": [
        {
          "output_type": "execute_result",
          "data": {
            "text/plain": [
              "<matplotlib.axes._subplots.AxesSubplot at 0x7fe557d2b910>"
            ]
          },
          "metadata": {
            "tags": []
          },
          "execution_count": 51
        },
        {
          "output_type": "display_data",
          "data": {
            "image/png": "[encoded data removed]",
            "text/plain": [
              "<Figure size 432x288 with 1 Axes>"
            ]
          },
          "metadata": {
            "tags": [],
            "needs_background": "light"
          }
        }
      ]
    },
    {
      "cell_type": "markdown",
      "metadata": {
        "id": "4aGkdmG7_q57"
      },
      "source": [
        "This also looks very much like a categorical field and not a continuous field. \"Peeking\" once more at our test data to help the belief we're not making a bad assumption here"
      ]
    },
    {
      "cell_type": "code",
      "metadata": {
        "colab": {
          "base_uri": "https://localhost:8080/"
        },
        "id": "ZMb5NJV5_6eH",
        "outputId": "035096b5-aec4-427d-8f9d-f14ac2527f36"
      },
      "source": [
        "df_test[~df_test[\"PropertyField25\"].isin(df_train[\"PropertyField25\"].unique())].value_counts()"
      ],
      "execution_count": 52,
      "outputs": [
        {
          "output_type": "execute_result",
          "data": {
            "text/plain": [
              "Series([], dtype: int64)"
            ]
          },
          "metadata": {
            "tags": []
          },
          "execution_count": 52
        }
      ]
    },
    {
      "cell_type": "markdown",
      "metadata": {
        "id": "jblRcX6iAJDk"
      },
      "source": [
        "Once again, the hypothesis holds true, so let's add `PropertyField25` to our list of categorical fields"
      ]
    },
    {
      "cell_type": "code",
      "metadata": {
        "id": "JIJWEGi1AMKF"
      },
      "source": [
        "categorical.append(\"PropertyField25\")"
      ],
      "execution_count": 53,
      "outputs": []
    },
    {
      "cell_type": "markdown",
      "metadata": {
        "id": "p-bXCYLXurnm"
      },
      "source": [
        "#### PropertyField29"
      ]
    },
    {
      "cell_type": "markdown",
      "metadata": {
        "id": "jxTgEwg4spBT"
      },
      "source": [
        "`PropertyField29` looks like it might be a boolean. Let's test this"
      ]
    },
    {
      "cell_type": "code",
      "metadata": {
        "colab": {
          "base_uri": "https://localhost:8080/"
        },
        "id": "f1EZpUDRsEeD",
        "outputId": "8e6037be-113a-4e3e-d254-c9bcddfb4dbc"
      },
      "source": [
        "df_train['PropertyField29'].value_counts()"
      ],
      "execution_count": 54,
      "outputs": [
        {
          "output_type": "execute_result",
          "data": {
            "text/plain": [
              "0.0    60056\n",
              "1.0       12\n",
              "Name: PropertyField29, dtype: int64"
            ]
          },
          "metadata": {
            "tags": []
          },
          "execution_count": 54
        }
      ]
    },
    {
      "cell_type": "code",
      "metadata": {
        "colab": {
          "base_uri": "https://localhost:8080/"
        },
        "id": "dYyVxJqms0FM",
        "outputId": "2a4a970b-b56f-4b5d-cbbb-523b3ec83a39"
      },
      "source": [
        "df_train['PropertyField29'].isna().sum()"
      ],
      "execution_count": 55,
      "outputs": [
        {
          "output_type": "execute_result",
          "data": {
            "text/plain": [
              "200685"
            ]
          },
          "metadata": {
            "tags": []
          },
          "execution_count": 55
        }
      ]
    },
    {
      "cell_type": "markdown",
      "metadata": {
        "id": "wPSGZIy-AkJi"
      },
      "source": [
        "This one also seems a bit categorical. But there are quite a few NA values. We have a few choices here.\n",
        "- Given the heavy skewing towards one value, it would arguably be a good assumption to fill this with the `mode` value and not a `mean` value.\n",
        "- Given that a significant number of NA is present, we could ignore it totally as part of our model, and revisit it after if we're looking to fine tune our input dataset\n",
        "- For now, let's ignore it"
      ]
    },
    {
      "cell_type": "code",
      "metadata": {
        "id": "DZlmx-J_AldO"
      },
      "source": [
        "notused.append(\"PropertyField29\")"
      ],
      "execution_count": 56,
      "outputs": []
    },
    {
      "cell_type": "markdown",
      "metadata": {
        "id": "atjwfhZcApps"
      },
      "source": [
        "##### Experimenting with correlation bits"
      ]
    },
    {
      "cell_type": "markdown",
      "metadata": {
        "id": "wmTZ1DextkTX"
      },
      "source": [
        "What if we decided instead we wanted to include this data, with assumptions for values in NA, as part of our model? \n",
        "\n",
        "How do we fill the NA values? \n",
        "\n",
        "Should we use 0 or should we use 1? \n",
        "\n",
        "Let's first look at if it correlates with any other field that might give us insight about how to treat with it"
      ]
    },
    {
      "cell_type": "markdown",
      "metadata": {
        "id": "pEgd7jawa9jV"
      },
      "source": [
        "Let's have a look at the ranges in each of these columns, to identify if they're continuous or categorical in nature. [Reference](https://stackoverflow.com/questions/34896455/how-to-do-pearson-correlation-of-selected-columns-of-a-pandas-data-frame)"
      ]
    },
    {
      "cell_type": "code",
      "metadata": {
        "colab": {
          "base_uri": "https://localhost:8080/"
        },
        "id": "zLKGLEVGu1cT",
        "outputId": "ede1c403-813c-4559-c095-26a84c6226e3"
      },
      "source": [
        "correlations = df_train.corr()['PropertyField29'][:-1].sort_values(kind=\"quicksort\")\n",
        "print(correlations)"
      ],
      "execution_count": 60,
      "outputs": [
        {
          "output_type": "stream",
          "text": [
            "Field7               -0.739375\n",
            "PersonalField15      -0.041584\n",
            "PersonalField33      -0.033010\n",
            "PersonalField32      -0.025723\n",
            "SalesField4          -0.023916\n",
            "                        ...   \n",
            "PersonalField72            NaN\n",
            "PersonalField73            NaN\n",
            "PropertyField6             NaN\n",
            "GeographicField10A         NaN\n",
            "GeographicField10B         NaN\n",
            "Name: PropertyField29, Length: 269, dtype: float64\n"
          ],
          "name": "stdout"
        }
      ]
    },
    {
      "cell_type": "code",
      "metadata": {
        "colab": {
          "base_uri": "https://localhost:8080/",
          "height": 235
        },
        "id": "7yUpTAXWwuPp",
        "outputId": "2fc801ad-cb80-4bf8-ff3e-ab09ddff8d85"
      },
      "source": [
        "df_train[['PropertyField29','Field7']].head()"
      ],
      "execution_count": 61,
      "outputs": [
        {
          "output_type": "execute_result",
          "data": {
            "text/html": [
              "<div>\n",
              "<style scoped>\n",
              "    .dataframe tbody tr th:only-of-type {\n",
              "        vertical-align: middle;\n",
              "    }\n",
              "\n",
              "    .dataframe tbody tr th {\n",
              "        vertical-align: top;\n",
              "    }\n",
              "\n",
              "    .dataframe thead th {\n",
              "        text-align: right;\n",
              "    }\n",
              "</style>\n",
              "<table border=\"1\" class=\"dataframe\">\n",
              "  <thead>\n",
              "    <tr style=\"text-align: right;\">\n",
              "      <th></th>\n",
              "      <th>PropertyField29</th>\n",
              "      <th>Field7</th>\n",
              "    </tr>\n",
              "    <tr>\n",
              "      <th>QuoteNumber</th>\n",
              "      <th></th>\n",
              "      <th></th>\n",
              "    </tr>\n",
              "  </thead>\n",
              "  <tbody>\n",
              "    <tr>\n",
              "      <th>1</th>\n",
              "      <td>0.0</td>\n",
              "      <td>23</td>\n",
              "    </tr>\n",
              "    <tr>\n",
              "      <th>2</th>\n",
              "      <td>NaN</td>\n",
              "      <td>7</td>\n",
              "    </tr>\n",
              "    <tr>\n",
              "      <th>4</th>\n",
              "      <td>NaN</td>\n",
              "      <td>7</td>\n",
              "    </tr>\n",
              "    <tr>\n",
              "      <th>6</th>\n",
              "      <td>NaN</td>\n",
              "      <td>10</td>\n",
              "    </tr>\n",
              "    <tr>\n",
              "      <th>8</th>\n",
              "      <td>0.0</td>\n",
              "      <td>23</td>\n",
              "    </tr>\n",
              "  </tbody>\n",
              "</table>\n",
              "</div>"
            ],
            "text/plain": [
              "             PropertyField29  Field7\n",
              "QuoteNumber                         \n",
              "1                        0.0      23\n",
              "2                        NaN       7\n",
              "4                        NaN       7\n",
              "6                        NaN      10\n",
              "8                        0.0      23"
            ]
          },
          "metadata": {
            "tags": []
          },
          "execution_count": 61
        }
      ]
    },
    {
      "cell_type": "code",
      "metadata": {
        "colab": {
          "base_uri": "https://localhost:8080/",
          "height": 296
        },
        "id": "Gw5DKXH_xMUA",
        "outputId": "1589512c-e0a5-4d86-b1e6-32c4ce7aa81c"
      },
      "source": [
        "df_train[['PropertyField29','Field7']].plot.scatter(x='Field7',\n",
        "...                       y='PropertyField29',\n",
        "...                       c='DarkBlue')"
      ],
      "execution_count": 62,
      "outputs": [
        {
          "output_type": "execute_result",
          "data": {
            "text/plain": [
              "<matplotlib.axes._subplots.AxesSubplot at 0x7f526fa0b990>"
            ]
          },
          "metadata": {
            "tags": []
          },
          "execution_count": 62
        },
        {
          "output_type": "display_data",
          "data": {
            "image/png": "[encoded data removed]",
            "text/plain": [
              "<Figure size 432x288 with 1 Axes>"
            ]
          },
          "metadata": {
            "tags": [],
            "needs_background": "light"
          }
        }
      ]
    },
    {
      "cell_type": "markdown",
      "metadata": {
        "id": "NYdZQG4a71-v"
      },
      "source": [
        "### Status check"
      ]
    },
    {
      "cell_type": "code",
      "metadata": {
        "colab": {
          "base_uri": "https://localhost:8080/"
        },
        "id": "s4KjotaU7A7G",
        "outputId": "89b9637f-a008-43b4-829a-03eed6df5e8e"
      },
      "source": [
        "categorical, continuous, notused"
      ],
      "execution_count": 57,
      "outputs": [
        {
          "output_type": "execute_result",
          "data": {
            "text/plain": [
              "((#3) ['Field9','Field11','PropertyField25'],\n",
              " (#1) ['Field8'],\n",
              " (#2) ['PersonalField84','PropertyField29'])"
            ]
          },
          "metadata": {
            "tags": []
          },
          "execution_count": 57
        }
      ]
    },
    {
      "cell_type": "markdown",
      "metadata": {
        "id": "-sRSIK3Uye4s"
      },
      "source": [
        "### Int64 analysis"
      ]
    },
    {
      "cell_type": "code",
      "metadata": {
        "colab": {
          "base_uri": "https://localhost:8080/",
          "height": 284
        },
        "id": "SaSMrQXsJgSf",
        "outputId": "284724b3-e4a1-460c-b93d-7ba6470e3e2f"
      },
      "source": [
        "df_train[df_train.columns[df_train.dtypes=='int64']].head()"
      ],
      "execution_count": 108,
      "outputs": [
        {
          "output_type": "execute_result",
          "data": {
            "text/html": [
              "<div>\n",
              "<style scoped>\n",
              "    .dataframe tbody tr th:only-of-type {\n",
              "        vertical-align: middle;\n",
              "    }\n",
              "\n",
              "    .dataframe tbody tr th {\n",
              "        vertical-align: top;\n",
              "    }\n",
              "\n",
              "    .dataframe thead th {\n",
              "        text-align: right;\n",
              "    }\n",
              "</style>\n",
              "<table border=\"1\" class=\"dataframe\">\n",
              "  <thead>\n",
              "    <tr style=\"text-align: right;\">\n",
              "      <th></th>\n",
              "      <th>Field7</th>\n",
              "      <th>CoverageField1A</th>\n",
              "      <th>CoverageField1B</th>\n",
              "      <th>CoverageField2A</th>\n",
              "      <th>CoverageField2B</th>\n",
              "      <th>CoverageField3A</th>\n",
              "      <th>CoverageField3B</th>\n",
              "      <th>CoverageField4A</th>\n",
              "      <th>CoverageField4B</th>\n",
              "      <th>CoverageField5A</th>\n",
              "      <th>CoverageField5B</th>\n",
              "      <th>CoverageField6A</th>\n",
              "      <th>CoverageField6B</th>\n",
              "      <th>CoverageField11A</th>\n",
              "      <th>CoverageField11B</th>\n",
              "      <th>SalesField1A</th>\n",
              "      <th>SalesField1B</th>\n",
              "      <th>SalesField2A</th>\n",
              "      <th>SalesField2B</th>\n",
              "      <th>SalesField3</th>\n",
              "      <th>SalesField4</th>\n",
              "      <th>SalesField5</th>\n",
              "      <th>SalesField6</th>\n",
              "      <th>SalesField8</th>\n",
              "      <th>SalesField9</th>\n",
              "      <th>SalesField10</th>\n",
              "      <th>SalesField11</th>\n",
              "      <th>SalesField12</th>\n",
              "      <th>SalesField13</th>\n",
              "      <th>SalesField14</th>\n",
              "      <th>SalesField15</th>\n",
              "      <th>PersonalField1</th>\n",
              "      <th>PersonalField2</th>\n",
              "      <th>PersonalField4A</th>\n",
              "      <th>PersonalField4B</th>\n",
              "      <th>PersonalField5</th>\n",
              "      <th>PersonalField6</th>\n",
              "      <th>PersonalField8</th>\n",
              "      <th>PersonalField9</th>\n",
              "      <th>PersonalField10A</th>\n",
              "      <th>...</th>\n",
              "      <th>GeographicField43A</th>\n",
              "      <th>GeographicField43B</th>\n",
              "      <th>GeographicField44A</th>\n",
              "      <th>GeographicField44B</th>\n",
              "      <th>GeographicField45A</th>\n",
              "      <th>GeographicField45B</th>\n",
              "      <th>GeographicField46A</th>\n",
              "      <th>GeographicField46B</th>\n",
              "      <th>GeographicField47A</th>\n",
              "      <th>GeographicField47B</th>\n",
              "      <th>GeographicField48A</th>\n",
              "      <th>GeographicField48B</th>\n",
              "      <th>GeographicField49A</th>\n",
              "      <th>GeographicField49B</th>\n",
              "      <th>GeographicField50A</th>\n",
              "      <th>GeographicField50B</th>\n",
              "      <th>GeographicField51A</th>\n",
              "      <th>GeographicField51B</th>\n",
              "      <th>GeographicField52A</th>\n",
              "      <th>GeographicField52B</th>\n",
              "      <th>GeographicField53A</th>\n",
              "      <th>GeographicField53B</th>\n",
              "      <th>GeographicField54A</th>\n",
              "      <th>GeographicField54B</th>\n",
              "      <th>GeographicField55A</th>\n",
              "      <th>GeographicField55B</th>\n",
              "      <th>GeographicField56A</th>\n",
              "      <th>GeographicField56B</th>\n",
              "      <th>GeographicField57A</th>\n",
              "      <th>GeographicField57B</th>\n",
              "      <th>GeographicField58A</th>\n",
              "      <th>GeographicField58B</th>\n",
              "      <th>GeographicField59A</th>\n",
              "      <th>GeographicField59B</th>\n",
              "      <th>GeographicField60A</th>\n",
              "      <th>GeographicField60B</th>\n",
              "      <th>GeographicField61A</th>\n",
              "      <th>GeographicField61B</th>\n",
              "      <th>GeographicField62A</th>\n",
              "      <th>GeographicField62B</th>\n",
              "    </tr>\n",
              "    <tr>\n",
              "      <th>QuoteNumber</th>\n",
              "      <th></th>\n",
              "      <th></th>\n",
              "      <th></th>\n",
              "      <th></th>\n",
              "      <th></th>\n",
              "      <th></th>\n",
              "      <th></th>\n",
              "      <th></th>\n",
              "      <th></th>\n",
              "      <th></th>\n",
              "      <th></th>\n",
              "      <th></th>\n",
              "      <th></th>\n",
              "      <th></th>\n",
              "      <th></th>\n",
              "      <th></th>\n",
              "      <th></th>\n",
              "      <th></th>\n",
              "      <th></th>\n",
              "      <th></th>\n",
              "      <th></th>\n",
              "      <th></th>\n",
              "      <th></th>\n",
              "      <th></th>\n",
              "      <th></th>\n",
              "      <th></th>\n",
              "      <th></th>\n",
              "      <th></th>\n",
              "      <th></th>\n",
              "      <th></th>\n",
              "      <th></th>\n",
              "      <th></th>\n",
              "      <th></th>\n",
              "      <th></th>\n",
              "      <th></th>\n",
              "      <th></th>\n",
              "      <th></th>\n",
              "      <th></th>\n",
              "      <th></th>\n",
              "      <th></th>\n",
              "      <th></th>\n",
              "      <th></th>\n",
              "      <th></th>\n",
              "      <th></th>\n",
              "      <th></th>\n",
              "      <th></th>\n",
              "      <th></th>\n",
              "      <th></th>\n",
              "      <th></th>\n",
              "      <th></th>\n",
              "      <th></th>\n",
              "      <th></th>\n",
              "      <th></th>\n",
              "      <th></th>\n",
              "      <th></th>\n",
              "      <th></th>\n",
              "      <th></th>\n",
              "      <th></th>\n",
              "      <th></th>\n",
              "      <th></th>\n",
              "      <th></th>\n",
              "      <th></th>\n",
              "      <th></th>\n",
              "      <th></th>\n",
              "      <th></th>\n",
              "      <th></th>\n",
              "      <th></th>\n",
              "      <th></th>\n",
              "      <th></th>\n",
              "      <th></th>\n",
              "      <th></th>\n",
              "      <th></th>\n",
              "      <th></th>\n",
              "      <th></th>\n",
              "      <th></th>\n",
              "      <th></th>\n",
              "      <th></th>\n",
              "      <th></th>\n",
              "      <th></th>\n",
              "      <th></th>\n",
              "      <th></th>\n",
              "    </tr>\n",
              "  </thead>\n",
              "  <tbody>\n",
              "    <tr>\n",
              "      <th>1</th>\n",
              "      <td>23</td>\n",
              "      <td>17</td>\n",
              "      <td>23</td>\n",
              "      <td>17</td>\n",
              "      <td>23</td>\n",
              "      <td>15</td>\n",
              "      <td>22</td>\n",
              "      <td>16</td>\n",
              "      <td>22</td>\n",
              "      <td>13</td>\n",
              "      <td>22</td>\n",
              "      <td>13</td>\n",
              "      <td>23</td>\n",
              "      <td>2</td>\n",
              "      <td>1</td>\n",
              "      <td>7</td>\n",
              "      <td>18</td>\n",
              "      <td>3</td>\n",
              "      <td>8</td>\n",
              "      <td>0</td>\n",
              "      <td>5</td>\n",
              "      <td>5</td>\n",
              "      <td>24</td>\n",
              "      <td>48649</td>\n",
              "      <td>0</td>\n",
              "      <td>0</td>\n",
              "      <td>0</td>\n",
              "      <td>0</td>\n",
              "      <td>0</td>\n",
              "      <td>0</td>\n",
              "      <td>0</td>\n",
              "      <td>0</td>\n",
              "      <td>0</td>\n",
              "      <td>-1</td>\n",
              "      <td>-1</td>\n",
              "      <td>7</td>\n",
              "      <td>0</td>\n",
              "      <td>1</td>\n",
              "      <td>2</td>\n",
              "      <td>5</td>\n",
              "      <td>...</td>\n",
              "      <td>2</td>\n",
              "      <td>2</td>\n",
              "      <td>8</td>\n",
              "      <td>4</td>\n",
              "      <td>20</td>\n",
              "      <td>22</td>\n",
              "      <td>10</td>\n",
              "      <td>8</td>\n",
              "      <td>6</td>\n",
              "      <td>5</td>\n",
              "      <td>15</td>\n",
              "      <td>13</td>\n",
              "      <td>19</td>\n",
              "      <td>18</td>\n",
              "      <td>16</td>\n",
              "      <td>14</td>\n",
              "      <td>21</td>\n",
              "      <td>23</td>\n",
              "      <td>21</td>\n",
              "      <td>23</td>\n",
              "      <td>16</td>\n",
              "      <td>11</td>\n",
              "      <td>22</td>\n",
              "      <td>24</td>\n",
              "      <td>7</td>\n",
              "      <td>14</td>\n",
              "      <td>-1</td>\n",
              "      <td>17</td>\n",
              "      <td>15</td>\n",
              "      <td>17</td>\n",
              "      <td>14</td>\n",
              "      <td>18</td>\n",
              "      <td>9</td>\n",
              "      <td>9</td>\n",
              "      <td>-1</td>\n",
              "      <td>8</td>\n",
              "      <td>-1</td>\n",
              "      <td>18</td>\n",
              "      <td>-1</td>\n",
              "      <td>10</td>\n",
              "    </tr>\n",
              "    <tr>\n",
              "      <th>2</th>\n",
              "      <td>7</td>\n",
              "      <td>6</td>\n",
              "      <td>8</td>\n",
              "      <td>6</td>\n",
              "      <td>8</td>\n",
              "      <td>5</td>\n",
              "      <td>7</td>\n",
              "      <td>5</td>\n",
              "      <td>8</td>\n",
              "      <td>13</td>\n",
              "      <td>22</td>\n",
              "      <td>13</td>\n",
              "      <td>23</td>\n",
              "      <td>5</td>\n",
              "      <td>9</td>\n",
              "      <td>5</td>\n",
              "      <td>14</td>\n",
              "      <td>6</td>\n",
              "      <td>18</td>\n",
              "      <td>1</td>\n",
              "      <td>5</td>\n",
              "      <td>5</td>\n",
              "      <td>11</td>\n",
              "      <td>26778</td>\n",
              "      <td>0</td>\n",
              "      <td>0</td>\n",
              "      <td>1</td>\n",
              "      <td>1</td>\n",
              "      <td>0</td>\n",
              "      <td>0</td>\n",
              "      <td>0</td>\n",
              "      <td>1</td>\n",
              "      <td>1</td>\n",
              "      <td>14</td>\n",
              "      <td>19</td>\n",
              "      <td>7</td>\n",
              "      <td>0</td>\n",
              "      <td>1</td>\n",
              "      <td>2</td>\n",
              "      <td>24</td>\n",
              "      <td>...</td>\n",
              "      <td>10</td>\n",
              "      <td>13</td>\n",
              "      <td>23</td>\n",
              "      <td>24</td>\n",
              "      <td>11</td>\n",
              "      <td>15</td>\n",
              "      <td>21</td>\n",
              "      <td>24</td>\n",
              "      <td>6</td>\n",
              "      <td>11</td>\n",
              "      <td>21</td>\n",
              "      <td>21</td>\n",
              "      <td>18</td>\n",
              "      <td>15</td>\n",
              "      <td>20</td>\n",
              "      <td>20</td>\n",
              "      <td>13</td>\n",
              "      <td>12</td>\n",
              "      <td>12</td>\n",
              "      <td>12</td>\n",
              "      <td>15</td>\n",
              "      <td>9</td>\n",
              "      <td>13</td>\n",
              "      <td>11</td>\n",
              "      <td>11</td>\n",
              "      <td>20</td>\n",
              "      <td>-1</td>\n",
              "      <td>9</td>\n",
              "      <td>18</td>\n",
              "      <td>21</td>\n",
              "      <td>8</td>\n",
              "      <td>7</td>\n",
              "      <td>10</td>\n",
              "      <td>10</td>\n",
              "      <td>-1</td>\n",
              "      <td>11</td>\n",
              "      <td>-1</td>\n",
              "      <td>17</td>\n",
              "      <td>-1</td>\n",
              "      <td>20</td>\n",
              "    </tr>\n",
              "    <tr>\n",
              "      <th>4</th>\n",
              "      <td>7</td>\n",
              "      <td>7</td>\n",
              "      <td>12</td>\n",
              "      <td>7</td>\n",
              "      <td>12</td>\n",
              "      <td>6</td>\n",
              "      <td>10</td>\n",
              "      <td>7</td>\n",
              "      <td>11</td>\n",
              "      <td>25</td>\n",
              "      <td>25</td>\n",
              "      <td>13</td>\n",
              "      <td>23</td>\n",
              "      <td>4</td>\n",
              "      <td>6</td>\n",
              "      <td>3</td>\n",
              "      <td>10</td>\n",
              "      <td>4</td>\n",
              "      <td>11</td>\n",
              "      <td>1</td>\n",
              "      <td>5</td>\n",
              "      <td>5</td>\n",
              "      <td>11</td>\n",
              "      <td>8751</td>\n",
              "      <td>0</td>\n",
              "      <td>0</td>\n",
              "      <td>2</td>\n",
              "      <td>2</td>\n",
              "      <td>0</td>\n",
              "      <td>0</td>\n",
              "      <td>0</td>\n",
              "      <td>1</td>\n",
              "      <td>1</td>\n",
              "      <td>16</td>\n",
              "      <td>21</td>\n",
              "      <td>7</td>\n",
              "      <td>0</td>\n",
              "      <td>1</td>\n",
              "      <td>2</td>\n",
              "      <td>7</td>\n",
              "      <td>...</td>\n",
              "      <td>12</td>\n",
              "      <td>20</td>\n",
              "      <td>21</td>\n",
              "      <td>22</td>\n",
              "      <td>24</td>\n",
              "      <td>25</td>\n",
              "      <td>20</td>\n",
              "      <td>22</td>\n",
              "      <td>7</td>\n",
              "      <td>13</td>\n",
              "      <td>23</td>\n",
              "      <td>23</td>\n",
              "      <td>20</td>\n",
              "      <td>19</td>\n",
              "      <td>20</td>\n",
              "      <td>20</td>\n",
              "      <td>18</td>\n",
              "      <td>20</td>\n",
              "      <td>19</td>\n",
              "      <td>21</td>\n",
              "      <td>20</td>\n",
              "      <td>19</td>\n",
              "      <td>11</td>\n",
              "      <td>8</td>\n",
              "      <td>3</td>\n",
              "      <td>3</td>\n",
              "      <td>-1</td>\n",
              "      <td>5</td>\n",
              "      <td>21</td>\n",
              "      <td>24</td>\n",
              "      <td>12</td>\n",
              "      <td>15</td>\n",
              "      <td>15</td>\n",
              "      <td>18</td>\n",
              "      <td>-1</td>\n",
              "      <td>21</td>\n",
              "      <td>-1</td>\n",
              "      <td>11</td>\n",
              "      <td>-1</td>\n",
              "      <td>8</td>\n",
              "    </tr>\n",
              "    <tr>\n",
              "      <th>6</th>\n",
              "      <td>10</td>\n",
              "      <td>3</td>\n",
              "      <td>2</td>\n",
              "      <td>3</td>\n",
              "      <td>2</td>\n",
              "      <td>2</td>\n",
              "      <td>2</td>\n",
              "      <td>3</td>\n",
              "      <td>2</td>\n",
              "      <td>13</td>\n",
              "      <td>22</td>\n",
              "      <td>13</td>\n",
              "      <td>23</td>\n",
              "      <td>15</td>\n",
              "      <td>23</td>\n",
              "      <td>8</td>\n",
              "      <td>19</td>\n",
              "      <td>14</td>\n",
              "      <td>24</td>\n",
              "      <td>0</td>\n",
              "      <td>5</td>\n",
              "      <td>5</td>\n",
              "      <td>23</td>\n",
              "      <td>43854</td>\n",
              "      <td>0</td>\n",
              "      <td>0</td>\n",
              "      <td>0</td>\n",
              "      <td>0</td>\n",
              "      <td>0</td>\n",
              "      <td>0</td>\n",
              "      <td>0</td>\n",
              "      <td>1</td>\n",
              "      <td>1</td>\n",
              "      <td>2</td>\n",
              "      <td>2</td>\n",
              "      <td>6</td>\n",
              "      <td>1</td>\n",
              "      <td>1</td>\n",
              "      <td>3</td>\n",
              "      <td>-1</td>\n",
              "      <td>...</td>\n",
              "      <td>25</td>\n",
              "      <td>25</td>\n",
              "      <td>3</td>\n",
              "      <td>1</td>\n",
              "      <td>14</td>\n",
              "      <td>22</td>\n",
              "      <td>6</td>\n",
              "      <td>2</td>\n",
              "      <td>7</td>\n",
              "      <td>14</td>\n",
              "      <td>11</td>\n",
              "      <td>8</td>\n",
              "      <td>19</td>\n",
              "      <td>18</td>\n",
              "      <td>18</td>\n",
              "      <td>16</td>\n",
              "      <td>13</td>\n",
              "      <td>12</td>\n",
              "      <td>13</td>\n",
              "      <td>12</td>\n",
              "      <td>17</td>\n",
              "      <td>13</td>\n",
              "      <td>5</td>\n",
              "      <td>2</td>\n",
              "      <td>3</td>\n",
              "      <td>4</td>\n",
              "      <td>-1</td>\n",
              "      <td>7</td>\n",
              "      <td>14</td>\n",
              "      <td>14</td>\n",
              "      <td>14</td>\n",
              "      <td>18</td>\n",
              "      <td>6</td>\n",
              "      <td>5</td>\n",
              "      <td>-1</td>\n",
              "      <td>10</td>\n",
              "      <td>-1</td>\n",
              "      <td>9</td>\n",
              "      <td>-1</td>\n",
              "      <td>21</td>\n",
              "    </tr>\n",
              "    <tr>\n",
              "      <th>8</th>\n",
              "      <td>23</td>\n",
              "      <td>8</td>\n",
              "      <td>13</td>\n",
              "      <td>8</td>\n",
              "      <td>13</td>\n",
              "      <td>7</td>\n",
              "      <td>11</td>\n",
              "      <td>7</td>\n",
              "      <td>13</td>\n",
              "      <td>13</td>\n",
              "      <td>22</td>\n",
              "      <td>13</td>\n",
              "      <td>23</td>\n",
              "      <td>4</td>\n",
              "      <td>6</td>\n",
              "      <td>3</td>\n",
              "      <td>6</td>\n",
              "      <td>3</td>\n",
              "      <td>6</td>\n",
              "      <td>1</td>\n",
              "      <td>5</td>\n",
              "      <td>5</td>\n",
              "      <td>7</td>\n",
              "      <td>12505</td>\n",
              "      <td>1</td>\n",
              "      <td>0</td>\n",
              "      <td>0</td>\n",
              "      <td>0</td>\n",
              "      <td>0</td>\n",
              "      <td>0</td>\n",
              "      <td>0</td>\n",
              "      <td>1</td>\n",
              "      <td>1</td>\n",
              "      <td>20</td>\n",
              "      <td>24</td>\n",
              "      <td>7</td>\n",
              "      <td>0</td>\n",
              "      <td>1</td>\n",
              "      <td>2</td>\n",
              "      <td>5</td>\n",
              "      <td>...</td>\n",
              "      <td>10</td>\n",
              "      <td>12</td>\n",
              "      <td>24</td>\n",
              "      <td>25</td>\n",
              "      <td>9</td>\n",
              "      <td>11</td>\n",
              "      <td>25</td>\n",
              "      <td>25</td>\n",
              "      <td>5</td>\n",
              "      <td>3</td>\n",
              "      <td>22</td>\n",
              "      <td>22</td>\n",
              "      <td>21</td>\n",
              "      <td>21</td>\n",
              "      <td>17</td>\n",
              "      <td>15</td>\n",
              "      <td>25</td>\n",
              "      <td>25</td>\n",
              "      <td>25</td>\n",
              "      <td>25</td>\n",
              "      <td>17</td>\n",
              "      <td>13</td>\n",
              "      <td>13</td>\n",
              "      <td>11</td>\n",
              "      <td>3</td>\n",
              "      <td>4</td>\n",
              "      <td>-1</td>\n",
              "      <td>7</td>\n",
              "      <td>11</td>\n",
              "      <td>9</td>\n",
              "      <td>10</td>\n",
              "      <td>10</td>\n",
              "      <td>18</td>\n",
              "      <td>22</td>\n",
              "      <td>-1</td>\n",
              "      <td>10</td>\n",
              "      <td>-1</td>\n",
              "      <td>11</td>\n",
              "      <td>-1</td>\n",
              "      <td>12</td>\n",
              "    </tr>\n",
              "  </tbody>\n",
              "</table>\n",
              "<p>5 rows × 263 columns</p>\n",
              "</div>"
            ],
            "text/plain": [
              "             Field7  CoverageField1A  ...  GeographicField62A  GeographicField62B\n",
              "QuoteNumber                           ...                                        \n",
              "1                23               17  ...                  -1                  10\n",
              "2                 7                6  ...                  -1                  20\n",
              "4                 7                7  ...                  -1                   8\n",
              "6                10                3  ...                  -1                  21\n",
              "8                23                8  ...                  -1                  12\n",
              "\n",
              "[5 rows x 263 columns]"
            ]
          },
          "metadata": {
            "tags": []
          },
          "execution_count": 108
        }
      ]
    },
    {
      "cell_type": "markdown",
      "metadata": {
        "id": "0bsRj_WXynJc"
      },
      "source": [
        "### Object analysis"
      ]
    },
    {
      "cell_type": "code",
      "metadata": {
        "colab": {
          "base_uri": "https://localhost:8080/",
          "height": 224
        },
        "id": "URjbb0-wJAuS",
        "outputId": "0e663830-2db6-485c-b771-248ac04503d5"
      },
      "source": [
        "df[df.columns[df.dtypes=='object']].head()"
      ],
      "execution_count": 42,
      "outputs": [
        {
          "output_type": "execute_result",
          "data": {
            "text/html": [
              "<div>\n",
              "<style scoped>\n",
              "    .dataframe tbody tr th:only-of-type {\n",
              "        vertical-align: middle;\n",
              "    }\n",
              "\n",
              "    .dataframe tbody tr th {\n",
              "        vertical-align: top;\n",
              "    }\n",
              "\n",
              "    .dataframe thead th {\n",
              "        text-align: right;\n",
              "    }\n",
              "</style>\n",
              "<table border=\"1\" class=\"dataframe\">\n",
              "  <thead>\n",
              "    <tr style=\"text-align: right;\">\n",
              "      <th></th>\n",
              "      <th>Field6</th>\n",
              "      <th>Field10</th>\n",
              "      <th>Field12</th>\n",
              "      <th>CoverageField8</th>\n",
              "      <th>CoverageField9</th>\n",
              "      <th>SalesField7</th>\n",
              "      <th>PersonalField7</th>\n",
              "      <th>PersonalField16</th>\n",
              "      <th>PersonalField17</th>\n",
              "      <th>PersonalField18</th>\n",
              "      <th>PersonalField19</th>\n",
              "      <th>PropertyField3</th>\n",
              "      <th>PropertyField4</th>\n",
              "      <th>PropertyField5</th>\n",
              "      <th>PropertyField7</th>\n",
              "      <th>PropertyField14</th>\n",
              "      <th>PropertyField28</th>\n",
              "      <th>PropertyField30</th>\n",
              "      <th>PropertyField31</th>\n",
              "      <th>PropertyField32</th>\n",
              "      <th>PropertyField33</th>\n",
              "      <th>PropertyField34</th>\n",
              "      <th>PropertyField36</th>\n",
              "      <th>PropertyField37</th>\n",
              "      <th>PropertyField38</th>\n",
              "      <th>GeographicField63</th>\n",
              "      <th>GeographicField64</th>\n",
              "    </tr>\n",
              "  </thead>\n",
              "  <tbody>\n",
              "    <tr>\n",
              "      <th>0</th>\n",
              "      <td>B</td>\n",
              "      <td>965</td>\n",
              "      <td>N</td>\n",
              "      <td>T</td>\n",
              "      <td>D</td>\n",
              "      <td>V</td>\n",
              "      <td>N</td>\n",
              "      <td>ZA</td>\n",
              "      <td>ZE</td>\n",
              "      <td>XR</td>\n",
              "      <td>XD</td>\n",
              "      <td>N</td>\n",
              "      <td>N</td>\n",
              "      <td>Y</td>\n",
              "      <td>O</td>\n",
              "      <td>C</td>\n",
              "      <td>B</td>\n",
              "      <td>N</td>\n",
              "      <td>N</td>\n",
              "      <td>Y</td>\n",
              "      <td>G</td>\n",
              "      <td>Y</td>\n",
              "      <td>N</td>\n",
              "      <td>N</td>\n",
              "      <td>N</td>\n",
              "      <td>N</td>\n",
              "      <td>CA</td>\n",
              "    </tr>\n",
              "    <tr>\n",
              "      <th>1</th>\n",
              "      <td>F</td>\n",
              "      <td>548</td>\n",
              "      <td>N</td>\n",
              "      <td>T</td>\n",
              "      <td>E</td>\n",
              "      <td>P</td>\n",
              "      <td>N</td>\n",
              "      <td>XB</td>\n",
              "      <td>YJ</td>\n",
              "      <td>YE</td>\n",
              "      <td>XT</td>\n",
              "      <td>N</td>\n",
              "      <td>N</td>\n",
              "      <td>Y</td>\n",
              "      <td>N</td>\n",
              "      <td>B</td>\n",
              "      <td>B</td>\n",
              "      <td>N</td>\n",
              "      <td>O</td>\n",
              "      <td>N</td>\n",
              "      <td>H</td>\n",
              "      <td>Y</td>\n",
              "      <td>N</td>\n",
              "      <td>N</td>\n",
              "      <td>N</td>\n",
              "      <td>N</td>\n",
              "      <td>NJ</td>\n",
              "    </tr>\n",
              "    <tr>\n",
              "      <th>2</th>\n",
              "      <td>F</td>\n",
              "      <td>548</td>\n",
              "      <td>N</td>\n",
              "      <td>T</td>\n",
              "      <td>J</td>\n",
              "      <td>K</td>\n",
              "      <td>N</td>\n",
              "      <td>ZH</td>\n",
              "      <td>XS</td>\n",
              "      <td>YP</td>\n",
              "      <td>XC</td>\n",
              "      <td>Y</td>\n",
              "      <td>Y</td>\n",
              "      <td>Y</td>\n",
              "      <td>R</td>\n",
              "      <td>C</td>\n",
              "      <td>B</td>\n",
              "      <td>N</td>\n",
              "      <td>K</td>\n",
              "      <td>Y</td>\n",
              "      <td>H</td>\n",
              "      <td>Y</td>\n",
              "      <td>N</td>\n",
              "      <td>N</td>\n",
              "      <td>N</td>\n",
              "      <td>N</td>\n",
              "      <td>NJ</td>\n",
              "    </tr>\n",
              "    <tr>\n",
              "      <th>3</th>\n",
              "      <td>J</td>\n",
              "      <td>1,165</td>\n",
              "      <td>N</td>\n",
              "      <td>Y</td>\n",
              "      <td>F</td>\n",
              "      <td>V</td>\n",
              "      <td>N</td>\n",
              "      <td>XO</td>\n",
              "      <td>XE</td>\n",
              "      <td>YI</td>\n",
              "      <td>XX</td>\n",
              "      <td>N</td>\n",
              "      <td>N</td>\n",
              "      <td>Y</td>\n",
              "      <td>R</td>\n",
              "      <td>C</td>\n",
              "      <td>B</td>\n",
              "      <td>N</td>\n",
              "      <td>O</td>\n",
              "      <td>Y</td>\n",
              "      <td>G</td>\n",
              "      <td>N</td>\n",
              "      <td>N</td>\n",
              "      <td>Y</td>\n",
              "      <td>N</td>\n",
              "      <td>N</td>\n",
              "      <td>TX</td>\n",
              "    </tr>\n",
              "    <tr>\n",
              "      <th>4</th>\n",
              "      <td>E</td>\n",
              "      <td>1,487</td>\n",
              "      <td>N</td>\n",
              "      <td>T</td>\n",
              "      <td>F</td>\n",
              "      <td>R</td>\n",
              "      <td>N</td>\n",
              "      <td>ZA</td>\n",
              "      <td>ZE</td>\n",
              "      <td>XR</td>\n",
              "      <td>XD</td>\n",
              "      <td>Y</td>\n",
              "      <td>Y</td>\n",
              "      <td>Y</td>\n",
              "      <td>D</td>\n",
              "      <td>A</td>\n",
              "      <td>B</td>\n",
              "      <td>N</td>\n",
              "      <td>O</td>\n",
              "      <td>N</td>\n",
              "      <td>H</td>\n",
              "      <td>N</td>\n",
              "      <td>N</td>\n",
              "      <td>N</td>\n",
              "      <td>N</td>\n",
              "      <td>N</td>\n",
              "      <td>IL</td>\n",
              "    </tr>\n",
              "  </tbody>\n",
              "</table>\n",
              "</div>"
            ],
            "text/plain": [
              "  Field6 Field10 Field12  ... PropertyField38 GeographicField63 GeographicField64\n",
              "0      B     965       N  ...               N                 N                CA\n",
              "1      F     548       N  ...               N                 N                NJ\n",
              "2      F     548       N  ...               N                 N                NJ\n",
              "3      J   1,165       N  ...               N                 N                TX\n",
              "4      E   1,487       N  ...               N                 N                IL\n",
              "\n",
              "[5 rows x 27 columns]"
            ]
          },
          "metadata": {
            "tags": []
          },
          "execution_count": 42
        }
      ]
    },
    {
      "cell_type": "markdown",
      "metadata": {
        "id": "cyp6seoYfmI6"
      },
      "source": [
        "There are a lot of fields, let's make sure those that look like they should be boolean columns are set as boolean data types"
      ]
    },
    {
      "cell_type": "code",
      "metadata": {
        "id": "Ga8tJlkoflwQ"
      },
      "source": [
        ""
      ],
      "execution_count": null,
      "outputs": []
    },
    {
      "cell_type": "code",
      "metadata": {
        "id": "Ryxs-4h8MsVa"
      },
      "source": [
        ""
      ],
      "execution_count": null,
      "outputs": []
    },
    {
      "cell_type": "markdown",
      "metadata": {
        "id": "M1DJsQqEyY2r"
      },
      "source": [
        ""
      ]
    },
    {
      "cell_type": "markdown",
      "metadata": {
        "id": "mMoBHApDl5eW"
      },
      "source": [
        "### Experiment with correlation (Work In Progress)"
      ]
    },
    {
      "cell_type": "markdown",
      "metadata": {
        "id": "gfFHZ8klhGUo"
      },
      "source": [
        "Using this [article about correlation](https://towardsdatascience.com/correlation-is-simple-with-seaborn-and-pandas-28c28e92701e), let's see if there's any obvious correlations in our data columns"
      ]
    },
    {
      "cell_type": "code",
      "metadata": {
        "colab": {
          "base_uri": "https://localhost:8080/"
        },
        "id": "3VmuR0U1hEti",
        "outputId": "b3f794fc-4bb4-4524-957d-8ce5f8e099c7"
      },
      "source": [
        "correlations = df_train.corr()\n",
        "print(correlations)"
      ],
      "execution_count": 26,
      "outputs": [
        {
          "output_type": "stream",
          "text": [
            "                      QuoteConversion_Flag  ...  GeographicField62B\n",
            "QuoteConversion_Flag              1.000000  ...           -0.017524\n",
            "Field7                           -0.137532  ...            0.077039\n",
            "Field8                            0.127039  ...           -0.092827\n",
            "Field9                            0.179569  ...           -0.126171\n",
            "Field11                          -0.100376  ...            0.000361\n",
            "...                                    ...  ...                 ...\n",
            "GeographicField60B                0.012505  ...           -0.185878\n",
            "GeographicField61A                0.004799  ...            0.083706\n",
            "GeographicField61B                0.038513  ...            0.112729\n",
            "GeographicField62A               -0.003142  ...            0.300912\n",
            "GeographicField62B               -0.017524  ...            1.000000\n",
            "\n",
            "[270 rows x 270 columns]\n"
          ],
          "name": "stdout"
        }
      ]
    },
    {
      "cell_type": "markdown",
      "metadata": {
        "id": "EWk0lOLzi667"
      },
      "source": [
        "Need to filter this a little better. Borrowing from [StackOverflow article](https://stackoverflow.com/questions/17778394/list-highest-correlation-pairs-from-a-large-correlation-matrix-in-pandas) to get the highest correlated values"
      ]
    },
    {
      "cell_type": "code",
      "metadata": {
        "colab": {
          "base_uri": "https://localhost:8080/"
        },
        "id": "AXjssEbhlEN-",
        "outputId": "0345a3d0-d979-4706-97e5-4b52700e86d8"
      },
      "source": [
        "df_train.shape"
      ],
      "execution_count": 35,
      "outputs": [
        {
          "output_type": "execute_result",
          "data": {
            "text/plain": [
              "(260753, 298)"
            ]
          },
          "metadata": {
            "tags": []
          },
          "execution_count": 35
        }
      ]
    },
    {
      "cell_type": "code",
      "metadata": {
        "colab": {
          "base_uri": "https://localhost:8080/"
        },
        "id": "g1OwF8kti6LA",
        "outputId": "959e0381-5f01-4e60-93d2-64efc9c3fe2c"
      },
      "source": [
        "c = correlations.abs()\n",
        "\n",
        "s = c.unstack()\n",
        "so = s.sort_values(kind=\"quicksort\")\n",
        "\n",
        "print(so[0:10])"
      ],
      "execution_count": 39,
      "outputs": [
        {
          "output_type": "stream",
          "text": [
            "GeographicField35A  PropertyField20       1.279033e-07\n",
            "PropertyField20     GeographicField35A    1.279033e-07\n",
            "GeographicField13A  PropertyField20       8.859665e-07\n",
            "PropertyField20     GeographicField13A    8.859665e-07\n",
            "PersonalField63     GeographicField51A    1.474951e-06\n",
            "GeographicField51A  PersonalField63       1.474951e-06\n",
            "PersonalField22     GeographicField17B    1.733656e-06\n",
            "GeographicField17B  PersonalField22       1.733656e-06\n",
            "PersonalField30     PersonalField38       1.945838e-06\n",
            "PersonalField38     PersonalField30       1.945838e-06\n",
            "dtype: float64\n"
          ],
          "name": "stdout"
        }
      ]
    },
    {
      "cell_type": "code",
      "metadata": {
        "colab": {
          "base_uri": "https://localhost:8080/"
        },
        "id": "3m3zW2wBkzD9",
        "outputId": "a880adb9-d68b-4bcf-dbf2-054a1585d3ea"
      },
      "source": [
        ""
      ],
      "execution_count": 32,
      "outputs": [
        {
          "output_type": "execute_result",
          "data": {
            "text/plain": [
              "72900"
            ]
          },
          "metadata": {
            "tags": []
          },
          "execution_count": 32
        }
      ]
    },
    {
      "cell_type": "markdown",
      "metadata": {
        "id": "aB1_H8cEwLym"
      },
      "source": [
        "Need to filter this a little better. Borrowing from [StackOverflow article](https://stackoverflow.com/questions/17778394/list-highest-correlation-pairs-from-a-large-correlation-matrix-in-pandas) to get the highest correlated values"
      ]
    },
    {
      "cell_type": "code",
      "metadata": {
        "id": "7YuGPMUSwO0U"
      },
      "source": [
        "#TODO restore code here"
      ],
      "execution_count": 59,
      "outputs": []
    },
    {
      "cell_type": "markdown",
      "metadata": {
        "id": "7fEIJX2NiEaa"
      },
      "source": [
        "Borrowing from [seaborn documentation](https://seaborn.pydata.org/examples/many_pairwise_correlations.html) to make this a little more visual"
      ]
    },
    {
      "cell_type": "code",
      "metadata": {
        "id": "SrJA0saLiBB8"
      },
      "source": [
        "from string import ascii_letters\n",
        "import numpy as np\n",
        "import pandas as pd\n",
        "import seaborn as sns\n",
        "import matplotlib.pyplot as plt\n",
        "\n",
        "sns.set_theme(style=\"white\")\n",
        "\n",
        "# Generate a mask for the upper triangle\n",
        "mask = np.triu(np.ones_like(so, dtype=bool))\n",
        "\n",
        "# Set up the matplotlib figure\n",
        "f, ax = plt.subplots(figsize=(11, 9))\n",
        "\n",
        "# Generate a custom diverging colormap\n",
        "cmap = sns.diverging_palette(230, 20, as_cmap=True)\n",
        "\n",
        "# Draw the heatmap with the mask and correct aspect ratio\n",
        "sns.heatmap(so, mask=mask, cmap=cmap, vmax=.3, center=0,\n",
        "            square=True, linewidths=.5, cbar_kws={\"shrink\": .5})"
      ],
      "execution_count": null,
      "outputs": []
    }
  ]
}