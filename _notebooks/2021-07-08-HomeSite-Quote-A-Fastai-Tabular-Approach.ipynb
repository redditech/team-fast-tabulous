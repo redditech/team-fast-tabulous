{
  "nbformat": 4,
  "nbformat_minor": 5,
  "metadata": {
    "accelerator": "GPU",
    "colab": {
      "name": "HomeSite Quote - A Fastai Tabular Approach.ipynb",
      "provenance": [],
      "collapsed_sections": [],
      "toc_visible": true,
      "machine_shape": "hm"
    },
    "kernelspec": {
      "display_name": "Python 3",
      "language": "python",
      "name": "python3"
    },
    "language_info": {
      "codemirror_mode": {
        "name": "ipython",
        "version": 3
      },
      "file_extension": ".py",
      "mimetype": "text/x-python",
      "name": "python",
      "nbconvert_exporter": "python",
      "pygments_lexer": "ipython3",
      "version": "3.9.5"
    }
  },
  "cells": [
    {
      "cell_type": "markdown",
      "metadata": {
        "id": "fdf913c3-50ef-44f3-b56c-54e1f3986f23"
      },
      "source": [
        "# HomeSite Quote Conversion A Fastai Tabular Approach\n",
        "> We used Fastai Tabular libary and WalkWithFastai functions to build our Deep Learning model for HomeSite Quote Conversion competition in Kaggle. The techniques used in this notebook include Permutation Importance Analysis, Model Ensembling, Bayesian Optimisation for hyperparameter tuning and Entity Embddings.\n",
        "\n",
        "- toc: true to apply his techniques for permutation importance and ensemble learning to the Homesite Competition problem set\n",
        "- badges: true\n",
        "- comments: true\n",
        "- categories: [kaggle, fastai]\n",
        "- author: Nissan Dookeran and Tracy Dinh\n",
        "- image: images/chart-preview.png"
      ],
      "id": "fdf913c3-50ef-44f3-b56c-54e1f3986f23"
    },
    {
      "cell_type": "markdown",
      "metadata": {
        "id": "14f77051-ab42-4628-9296-9ee5e52bad52"
      },
      "source": [
        "## Setup"
      ],
      "id": "14f77051-ab42-4628-9296-9ee5e52bad52"
    },
    {
      "cell_type": "code",
      "metadata": {
        "id": "d0b39462-753e-4d30-8b46-cc4019836b07",
        "colab": {
          "base_uri": "https://localhost:8080/"
        },
        "outputId": "42b75017-12d2-47e9-ff55-00a7adf99709"
      },
      "source": [
        "!pip install -Uqq fastai fastbook\n",
        "import fastbook\n",
        "fastbook.setup_book()"
      ],
      "id": "d0b39462-753e-4d30-8b46-cc4019836b07",
      "execution_count": null,
      "outputs": [
        {
          "output_type": "stream",
          "text": [
            "\u001b[K     |████████████████████████████████| 194kB 14.5MB/s \n",
            "\u001b[K     |████████████████████████████████| 727kB 27.0MB/s \n",
            "\u001b[K     |████████████████████████████████| 61kB 7.5MB/s \n",
            "\u001b[K     |████████████████████████████████| 1.2MB 49.6MB/s \n",
            "\u001b[K     |████████████████████████████████| 51kB 7.2MB/s \n",
            "\u001b[K     |████████████████████████████████| 61kB 7.1MB/s \n",
            "\u001b[?25h"
          ],
          "name": "stdout"
        }
      ]
    },
    {
      "cell_type": "code",
      "metadata": {
        "id": "5551bc70-de2c-4150-a3ae-c6c1f46987d1"
      },
      "source": [
        "from fastai.tabular.all import *\n",
        "import pandas as pd\n",
        "import numpy as np\n",
        "pd.options.mode.chained_assignment = None  # default='warn'\n",
        "\n",
        "from sklearn.metrics import roc_auc_score\n"
      ],
      "id": "5551bc70-de2c-4150-a3ae-c6c1f46987d1",
      "execution_count": null,
      "outputs": []
    },
    {
      "cell_type": "markdown",
      "metadata": {
        "id": "awex9kRM47UD"
      },
      "source": [
        "## Download Data"
      ],
      "id": "awex9kRM47UD"
    },
    {
      "cell_type": "markdown",
      "metadata": {
        "id": "mKPd28LlqzGp"
      },
      "source": [
        "Download your Kaggle KPI, store it in a folder in Google Drive and run the below codes"
      ],
      "id": "mKPd28LlqzGp"
    },
    {
      "cell_type": "code",
      "metadata": {
        "id": "IZ-mEYY7qjMe"
      },
      "source": [
        "!mkdir -p ~/.kaggle\n",
        "!cp /content/gdrive/MyDrive/Kaggle/kaggle.json ~/.kaggle/\n",
        "!chmod 600 ~/.kaggle/kaggle.json"
      ],
      "id": "IZ-mEYY7qjMe",
      "execution_count": null,
      "outputs": []
    },
    {
      "cell_type": "markdown",
      "metadata": {
        "id": "JPL0_PhtrApt"
      },
      "source": [
        "Assign the folder where to want to store the data to path"
      ],
      "id": "JPL0_PhtrApt"
    },
    {
      "cell_type": "code",
      "metadata": {
        "colab": {
          "base_uri": "https://localhost:8080/"
        },
        "id": "cAZot9OEqk41",
        "outputId": "68510c28-a486-462b-8ca0-6ef8ef4e2517"
      },
      "source": [
        "path = Path('/content/gdrive/MyDrive/Kaggle/' + 'data/homesite-quote')\n",
        "path.mkdir(parents=True, exist_ok=True)\n",
        "path"
      ],
      "id": "cAZot9OEqk41",
      "execution_count": null,
      "outputs": [
        {
          "output_type": "execute_result",
          "data": {
            "text/plain": [
              "Path('/content/gdrive/MyDrive/Kaggle/data/homesite-quote')"
            ]
          },
          "metadata": {
            "tags": []
          },
          "execution_count": 5
        }
      ]
    },
    {
      "cell_type": "markdown",
      "metadata": {
        "id": "TeBLN9WlYySG"
      },
      "source": [
        "Download your data into that folder"
      ],
      "id": "TeBLN9WlYySG"
    },
    {
      "cell_type": "code",
      "metadata": {
        "id": "SVzSXAv3qmZm"
      },
      "source": [
        "!kaggle competitions download -c homesite-quote-conversion -p /content/gdrive/MyDrive/Kaggle/data/homesite-quote\n"
      ],
      "id": "SVzSXAv3qmZm",
      "execution_count": null,
      "outputs": []
    },
    {
      "cell_type": "markdown",
      "metadata": {
        "id": "pZXE6STorOze"
      },
      "source": [
        "Unzip your data"
      ],
      "id": "pZXE6STorOze"
    },
    {
      "cell_type": "code",
      "metadata": {
        "id": "qDdlZsuJrQbl"
      },
      "source": [
        "! unzip -q -n '{path}/train.csv.zip' -d '{path}'\n",
        "! unzip -q -n '{path}/test.csv.zip' -d '{path}'\n"
      ],
      "id": "qDdlZsuJrQbl",
      "execution_count": null,
      "outputs": []
    },
    {
      "cell_type": "markdown",
      "metadata": {
        "id": "53FeyqQ_ZOMy"
      },
      "source": [
        "Import data and store it as a dataframe "
      ],
      "id": "53FeyqQ_ZOMy"
    },
    {
      "cell_type": "code",
      "metadata": {
        "id": "MtwrxoLz5GJe"
      },
      "source": [
        "df = pd.read_csv(path/'train.csv', low_memory=False, parse_dates=['Original_Quote_Date'])\n",
        "test_df=pd.read_csv(path/'test.csv', low_memory=False, parse_dates=['Original_Quote_Date'])"
      ],
      "id": "MtwrxoLz5GJe",
      "execution_count": null,
      "outputs": []
    },
    {
      "cell_type": "markdown",
      "metadata": {
        "id": "Vj9iH50OG8dn"
      },
      "source": [
        "## EDA"
      ],
      "id": "Vj9iH50OG8dn"
    },
    {
      "cell_type": "code",
      "metadata": {
        "id": "8b6abafa-86f5-4f0d-8a65-561b6eb58fc0"
      },
      "source": [
        "df_train = df.copy()\n",
        "df_test = test_df.copy()\n"
      ],
      "id": "8b6abafa-86f5-4f0d-8a65-561b6eb58fc0",
      "execution_count": null,
      "outputs": []
    },
    {
      "cell_type": "code",
      "metadata": {
        "id": "afb0dfa6-b624-4b5c-9faf-221850dd0a97"
      },
      "source": [
        "df_train.QuoteConversion_Flag = df_train.QuoteConversion_Flag.astype(dtype='boolean')"
      ],
      "id": "afb0dfa6-b624-4b5c-9faf-221850dd0a97",
      "execution_count": null,
      "outputs": []
    },
    {
      "cell_type": "code",
      "metadata": {
        "id": "4bc7647d-5cfc-4c11-94df-2072c2d54d24"
      },
      "source": [
        "df_train = df_train.set_index('QuoteNumber')\n",
        "df_test = df_test.set_index('QuoteNumber')\n"
      ],
      "id": "4bc7647d-5cfc-4c11-94df-2072c2d54d24",
      "execution_count": null,
      "outputs": []
    },
    {
      "cell_type": "code",
      "metadata": {
        "id": "87c412ee-be27-439a-83e1-e18b8370d27c"
      },
      "source": [
        "df_train = add_datepart(df_train, 'Original_Quote_Date')\n",
        "df_test = add_datepart(df_test, 'Original_Quote_Date')"
      ],
      "id": "87c412ee-be27-439a-83e1-e18b8370d27c",
      "execution_count": null,
      "outputs": []
    },
    {
      "cell_type": "code",
      "metadata": {
        "colab": {
          "base_uri": "https://localhost:8080/"
        },
        "id": "cc0ae7e5-98e4-49b6-8cd8-4fc2aabb7bb7",
        "outputId": "cf8fc5a5-cff4-4274-a913-0cf34e75a2d4"
      },
      "source": [
        "y_names = 'QuoteConversion_Flag'\n",
        "cont_names, cat_names = cont_cat_split(df_train, dep_var=y_names)\n",
        "len(cont_names), len(cat_names)"
      ],
      "id": "cc0ae7e5-98e4-49b6-8cd8-4fc2aabb7bb7",
      "execution_count": null,
      "outputs": [
        {
          "output_type": "execute_result",
          "data": {
            "text/plain": [
              "(155, 154)"
            ]
          },
          "metadata": {
            "tags": []
          },
          "execution_count": 56
        }
      ]
    },
    {
      "cell_type": "markdown",
      "metadata": {
        "id": "SRvLWdfyHBgu"
      },
      "source": [
        "## Deep Learning Model"
      ],
      "id": "SRvLWdfyHBgu"
    },
    {
      "cell_type": "markdown",
      "metadata": {
        "id": "tX78hBmmtQ27"
      },
      "source": [
        "Set up hyperparameters"
      ],
      "id": "tX78hBmmtQ27"
    },
    {
      "cell_type": "code",
      "metadata": {
        "id": "y3mbgg9vtL18"
      },
      "source": [
        "random_seed = 42 \n",
        "bs = 4096\n",
        "val_bs = 512\n",
        "test_size = 0.3\n",
        "epochs = 5\n",
        "lr = 1e-2\n",
        "wd=0.002\n",
        "layers = [10000,500]\n",
        "dropout = [0.001, 0.01]\n",
        "y_block=CategoryBlock()\n",
        "emb_dropout=0.02\n",
        "set_seed(42)\n",
        "roc_auc_binary = RocAucBinary()"
      ],
      "id": "y3mbgg9vtL18",
      "execution_count": null,
      "outputs": []
    },
    {
      "cell_type": "code",
      "metadata": {
        "id": "09c0c5e7-f5e1-475f-bebc-207d401a9206"
      },
      "source": [
        "procs = [Categorify, FillMissing, Normalize]\n",
        "splits = TrainTestSplitter(test_size=test_size, stratify=df_train[y_names])(df_train)"
      ],
      "id": "09c0c5e7-f5e1-475f-bebc-207d401a9206",
      "execution_count": null,
      "outputs": []
    },
    {
      "cell_type": "code",
      "metadata": {
        "id": "83baf2dd-a534-48de-991b-99bbc0de46f6",
        "colab": {
          "base_uri": "https://localhost:8080/",
          "height": 375
        },
        "outputId": "8bc0ae7a-2609-46f0-fc8f-b93b8ab276fb"
      },
      "source": [
        "to = TabularPandas(df=df_train, procs=procs, cat_names=cat_names, \n",
        "                   cont_names=cont_names, y_names=y_names,splits=splits,\n",
        "                  y_block=y_block)\n",
        "dls = to.dataloaders(bs=bs, val_bs=val_bs, layers=layers, embed_ps=emb_dropout, ps=dropout)\n",
        "dls.valid.show_batch()"
      ],
      "id": "83baf2dd-a534-48de-991b-99bbc0de46f6",
      "execution_count": null,
      "outputs": [
        {
          "output_type": "display_data",
          "data": {
            "text/html": [
              "<table border=\"1\" class=\"dataframe\">\n",
              "  <thead>\n",
              "    <tr style=\"text-align: right;\">\n",
              "      <th></th>\n",
              "      <th>Field6</th>\n",
              "      <th>Field10</th>\n",
              "      <th>Field12</th>\n",
              "      <th>CoverageField5A</th>\n",
              "      <th>CoverageField5B</th>\n",
              "      <th>CoverageField6A</th>\n",
              "      <th>CoverageField6B</th>\n",
              "      <th>CoverageField8</th>\n",
              "      <th>CoverageField9</th>\n",
              "      <th>SalesField3</th>\n",
              "      <th>SalesField4</th>\n",
              "      <th>SalesField5</th>\n",
              "      <th>SalesField7</th>\n",
              "      <th>SalesField9</th>\n",
              "      <th>SalesField10</th>\n",
              "      <th>SalesField11</th>\n",
              "      <th>SalesField13</th>\n",
              "      <th>SalesField14</th>\n",
              "      <th>SalesField15</th>\n",
              "      <th>PersonalField1</th>\n",
              "      <th>PersonalField2</th>\n",
              "      <th>PersonalField5</th>\n",
              "      <th>PersonalField6</th>\n",
              "      <th>PersonalField7</th>\n",
              "      <th>PersonalField8</th>\n",
              "      <th>PersonalField9</th>\n",
              "      <th>PersonalField11</th>\n",
              "      <th>PersonalField12</th>\n",
              "      <th>PersonalField13</th>\n",
              "      <th>PersonalField16</th>\n",
              "      <th>PersonalField17</th>\n",
              "      <th>PersonalField18</th>\n",
              "      <th>PersonalField19</th>\n",
              "      <th>PersonalField22</th>\n",
              "      <th>PersonalField23</th>\n",
              "      <th>PersonalField24</th>\n",
              "      <th>PersonalField25</th>\n",
              "      <th>PersonalField26</th>\n",
              "      <th>PersonalField27</th>\n",
              "      <th>PersonalField28</th>\n",
              "      <th>PersonalField29</th>\n",
              "      <th>PersonalField30</th>\n",
              "      <th>PersonalField31</th>\n",
              "      <th>PersonalField32</th>\n",
              "      <th>PersonalField33</th>\n",
              "      <th>PersonalField34</th>\n",
              "      <th>PersonalField35</th>\n",
              "      <th>PersonalField36</th>\n",
              "      <th>PersonalField37</th>\n",
              "      <th>PersonalField38</th>\n",
              "      <th>PersonalField39</th>\n",
              "      <th>PersonalField40</th>\n",
              "      <th>PersonalField41</th>\n",
              "      <th>PersonalField42</th>\n",
              "      <th>PersonalField43</th>\n",
              "      <th>PersonalField44</th>\n",
              "      <th>PersonalField45</th>\n",
              "      <th>PersonalField46</th>\n",
              "      <th>PersonalField47</th>\n",
              "      <th>PersonalField48</th>\n",
              "      <th>PersonalField49</th>\n",
              "      <th>PersonalField50</th>\n",
              "      <th>PersonalField51</th>\n",
              "      <th>PersonalField52</th>\n",
              "      <th>PersonalField53</th>\n",
              "      <th>PersonalField54</th>\n",
              "      <th>PersonalField55</th>\n",
              "      <th>PersonalField56</th>\n",
              "      <th>PersonalField57</th>\n",
              "      <th>PersonalField58</th>\n",
              "      <th>PersonalField59</th>\n",
              "      <th>PersonalField60</th>\n",
              "      <th>PersonalField61</th>\n",
              "      <th>PersonalField62</th>\n",
              "      <th>PersonalField63</th>\n",
              "      <th>PersonalField64</th>\n",
              "      <th>PersonalField65</th>\n",
              "      <th>PersonalField66</th>\n",
              "      <th>PersonalField67</th>\n",
              "      <th>PersonalField68</th>\n",
              "      <th>PersonalField69</th>\n",
              "      <th>PersonalField70</th>\n",
              "      <th>PersonalField71</th>\n",
              "      <th>PersonalField72</th>\n",
              "      <th>PersonalField73</th>\n",
              "      <th>PersonalField74</th>\n",
              "      <th>PersonalField75</th>\n",
              "      <th>PersonalField76</th>\n",
              "      <th>PersonalField77</th>\n",
              "      <th>PersonalField78</th>\n",
              "      <th>PersonalField79</th>\n",
              "      <th>PersonalField80</th>\n",
              "      <th>PersonalField81</th>\n",
              "      <th>PersonalField82</th>\n",
              "      <th>PersonalField83</th>\n",
              "      <th>PropertyField2A</th>\n",
              "      <th>PropertyField3</th>\n",
              "      <th>PropertyField4</th>\n",
              "      <th>PropertyField5</th>\n",
              "      <th>PropertyField6</th>\n",
              "      <th>PropertyField7</th>\n",
              "      <th>PropertyField8</th>\n",
              "      <th>PropertyField9</th>\n",
              "      <th>PropertyField10</th>\n",
              "      <th>PropertyField11A</th>\n",
              "      <th>PropertyField11B</th>\n",
              "      <th>PropertyField12</th>\n",
              "      <th>PropertyField13</th>\n",
              "      <th>PropertyField14</th>\n",
              "      <th>PropertyField15</th>\n",
              "      <th>PropertyField17</th>\n",
              "      <th>PropertyField18</th>\n",
              "      <th>PropertyField19</th>\n",
              "      <th>PropertyField20</th>\n",
              "      <th>PropertyField22</th>\n",
              "      <th>PropertyField23</th>\n",
              "      <th>PropertyField27</th>\n",
              "      <th>PropertyField28</th>\n",
              "      <th>PropertyField30</th>\n",
              "      <th>PropertyField31</th>\n",
              "      <th>PropertyField32</th>\n",
              "      <th>PropertyField33</th>\n",
              "      <th>PropertyField34</th>\n",
              "      <th>PropertyField35</th>\n",
              "      <th>PropertyField36</th>\n",
              "      <th>PropertyField37</th>\n",
              "      <th>PropertyField38</th>\n",
              "      <th>GeographicField5A</th>\n",
              "      <th>GeographicField5B</th>\n",
              "      <th>GeographicField10A</th>\n",
              "      <th>GeographicField10B</th>\n",
              "      <th>GeographicField14A</th>\n",
              "      <th>GeographicField14B</th>\n",
              "      <th>GeographicField18A</th>\n",
              "      <th>GeographicField21A</th>\n",
              "      <th>GeographicField22A</th>\n",
              "      <th>GeographicField22B</th>\n",
              "      <th>GeographicField23A</th>\n",
              "      <th>GeographicField56A</th>\n",
              "      <th>GeographicField60A</th>\n",
              "      <th>GeographicField61A</th>\n",
              "      <th>GeographicField62A</th>\n",
              "      <th>GeographicField62B</th>\n",
              "      <th>GeographicField63</th>\n",
              "      <th>GeographicField64</th>\n",
              "      <th>Original_Quote_Year</th>\n",
              "      <th>Original_Quote_Month</th>\n",
              "      <th>Original_Quote_Dayofweek</th>\n",
              "      <th>Original_Quote_Is_month_end</th>\n",
              "      <th>Original_Quote_Is_month_start</th>\n",
              "      <th>Original_Quote_Is_quarter_end</th>\n",
              "      <th>Original_Quote_Is_quarter_start</th>\n",
              "      <th>Original_Quote_Is_year_end</th>\n",
              "      <th>Original_Quote_Is_year_start</th>\n",
              "      <th>PersonalField84_na</th>\n",
              "      <th>PropertyField29_na</th>\n",
              "      <th>Field7</th>\n",
              "      <th>Field8</th>\n",
              "      <th>Field9</th>\n",
              "      <th>Field11</th>\n",
              "      <th>CoverageField1A</th>\n",
              "      <th>CoverageField1B</th>\n",
              "      <th>CoverageField2A</th>\n",
              "      <th>CoverageField2B</th>\n",
              "      <th>CoverageField3A</th>\n",
              "      <th>CoverageField3B</th>\n",
              "      <th>CoverageField4A</th>\n",
              "      <th>CoverageField4B</th>\n",
              "      <th>CoverageField11A</th>\n",
              "      <th>CoverageField11B</th>\n",
              "      <th>SalesField1A</th>\n",
              "      <th>SalesField1B</th>\n",
              "      <th>SalesField2A</th>\n",
              "      <th>SalesField2B</th>\n",
              "      <th>SalesField6</th>\n",
              "      <th>SalesField8</th>\n",
              "      <th>SalesField12</th>\n",
              "      <th>PersonalField4A</th>\n",
              "      <th>PersonalField4B</th>\n",
              "      <th>PersonalField10A</th>\n",
              "      <th>PersonalField10B</th>\n",
              "      <th>PersonalField14</th>\n",
              "      <th>PersonalField15</th>\n",
              "      <th>PersonalField84</th>\n",
              "      <th>PropertyField1A</th>\n",
              "      <th>PropertyField1B</th>\n",
              "      <th>PropertyField2B</th>\n",
              "      <th>PropertyField16A</th>\n",
              "      <th>PropertyField16B</th>\n",
              "      <th>PropertyField21A</th>\n",
              "      <th>PropertyField21B</th>\n",
              "      <th>PropertyField24A</th>\n",
              "      <th>PropertyField24B</th>\n",
              "      <th>PropertyField25</th>\n",
              "      <th>PropertyField26A</th>\n",
              "      <th>PropertyField26B</th>\n",
              "      <th>PropertyField29</th>\n",
              "      <th>PropertyField39A</th>\n",
              "      <th>PropertyField39B</th>\n",
              "      <th>GeographicField1A</th>\n",
              "      <th>GeographicField1B</th>\n",
              "      <th>GeographicField2A</th>\n",
              "      <th>GeographicField2B</th>\n",
              "      <th>GeographicField3A</th>\n",
              "      <th>GeographicField3B</th>\n",
              "      <th>GeographicField4A</th>\n",
              "      <th>GeographicField4B</th>\n",
              "      <th>GeographicField6A</th>\n",
              "      <th>GeographicField6B</th>\n",
              "      <th>GeographicField7A</th>\n",
              "      <th>GeographicField7B</th>\n",
              "      <th>GeographicField8A</th>\n",
              "      <th>GeographicField8B</th>\n",
              "      <th>GeographicField9A</th>\n",
              "      <th>GeographicField9B</th>\n",
              "      <th>GeographicField11A</th>\n",
              "      <th>GeographicField11B</th>\n",
              "      <th>GeographicField12A</th>\n",
              "      <th>GeographicField12B</th>\n",
              "      <th>GeographicField13A</th>\n",
              "      <th>GeographicField13B</th>\n",
              "      <th>GeographicField15A</th>\n",
              "      <th>GeographicField15B</th>\n",
              "      <th>GeographicField16A</th>\n",
              "      <th>GeographicField16B</th>\n",
              "      <th>GeographicField17A</th>\n",
              "      <th>GeographicField17B</th>\n",
              "      <th>GeographicField18B</th>\n",
              "      <th>GeographicField19A</th>\n",
              "      <th>GeographicField19B</th>\n",
              "      <th>GeographicField20A</th>\n",
              "      <th>GeographicField20B</th>\n",
              "      <th>GeographicField21B</th>\n",
              "      <th>GeographicField23B</th>\n",
              "      <th>GeographicField24A</th>\n",
              "      <th>GeographicField24B</th>\n",
              "      <th>GeographicField25A</th>\n",
              "      <th>GeographicField25B</th>\n",
              "      <th>GeographicField26A</th>\n",
              "      <th>GeographicField26B</th>\n",
              "      <th>GeographicField27A</th>\n",
              "      <th>GeographicField27B</th>\n",
              "      <th>GeographicField28A</th>\n",
              "      <th>GeographicField28B</th>\n",
              "      <th>GeographicField29A</th>\n",
              "      <th>GeographicField29B</th>\n",
              "      <th>GeographicField30A</th>\n",
              "      <th>GeographicField30B</th>\n",
              "      <th>GeographicField31A</th>\n",
              "      <th>GeographicField31B</th>\n",
              "      <th>GeographicField32A</th>\n",
              "      <th>GeographicField32B</th>\n",
              "      <th>GeographicField33A</th>\n",
              "      <th>GeographicField33B</th>\n",
              "      <th>GeographicField34A</th>\n",
              "      <th>GeographicField34B</th>\n",
              "      <th>GeographicField35A</th>\n",
              "      <th>GeographicField35B</th>\n",
              "      <th>GeographicField36A</th>\n",
              "      <th>GeographicField36B</th>\n",
              "      <th>GeographicField37A</th>\n",
              "      <th>GeographicField37B</th>\n",
              "      <th>GeographicField38A</th>\n",
              "      <th>GeographicField38B</th>\n",
              "      <th>GeographicField39A</th>\n",
              "      <th>GeographicField39B</th>\n",
              "      <th>GeographicField40A</th>\n",
              "      <th>GeographicField40B</th>\n",
              "      <th>GeographicField41A</th>\n",
              "      <th>GeographicField41B</th>\n",
              "      <th>GeographicField42A</th>\n",
              "      <th>GeographicField42B</th>\n",
              "      <th>GeographicField43A</th>\n",
              "      <th>GeographicField43B</th>\n",
              "      <th>GeographicField44A</th>\n",
              "      <th>GeographicField44B</th>\n",
              "      <th>GeographicField45A</th>\n",
              "      <th>GeographicField45B</th>\n",
              "      <th>GeographicField46A</th>\n",
              "      <th>GeographicField46B</th>\n",
              "      <th>GeographicField47A</th>\n",
              "      <th>GeographicField47B</th>\n",
              "      <th>GeographicField48A</th>\n",
              "      <th>GeographicField48B</th>\n",
              "      <th>GeographicField49A</th>\n",
              "      <th>GeographicField49B</th>\n",
              "      <th>GeographicField50A</th>\n",
              "      <th>GeographicField50B</th>\n",
              "      <th>GeographicField51A</th>\n",
              "      <th>GeographicField51B</th>\n",
              "      <th>GeographicField52A</th>\n",
              "      <th>GeographicField52B</th>\n",
              "      <th>GeographicField53A</th>\n",
              "      <th>GeographicField53B</th>\n",
              "      <th>GeographicField54A</th>\n",
              "      <th>GeographicField54B</th>\n",
              "      <th>GeographicField55A</th>\n",
              "      <th>GeographicField55B</th>\n",
              "      <th>GeographicField56B</th>\n",
              "      <th>GeographicField57A</th>\n",
              "      <th>GeographicField57B</th>\n",
              "      <th>GeographicField58A</th>\n",
              "      <th>GeographicField58B</th>\n",
              "      <th>GeographicField59A</th>\n",
              "      <th>GeographicField59B</th>\n",
              "      <th>GeographicField60B</th>\n",
              "      <th>GeographicField61B</th>\n",
              "      <th>Original_Quote_Week</th>\n",
              "      <th>Original_Quote_Day</th>\n",
              "      <th>Original_Quote_Dayofyear</th>\n",
              "      <th>Original_Quote_Elapsed</th>\n",
              "      <th>QuoteConversion_Flag</th>\n",
              "    </tr>\n",
              "  </thead>\n",
              "  <tbody>\n",
              "    <tr>\n",
              "      <th>0</th>\n",
              "      <td>B</td>\n",
              "      <td>935</td>\n",
              "      <td>N</td>\n",
              "      <td>13</td>\n",
              "      <td>22</td>\n",
              "      <td>13</td>\n",
              "      <td>23</td>\n",
              "      <td>T</td>\n",
              "      <td>D</td>\n",
              "      <td>1</td>\n",
              "      <td>5</td>\n",
              "      <td>5</td>\n",
              "      <td>M</td>\n",
              "      <td>1</td>\n",
              "      <td>0</td>\n",
              "      <td>0</td>\n",
              "      <td>0</td>\n",
              "      <td>0</td>\n",
              "      <td>0</td>\n",
              "      <td>1</td>\n",
              "      <td>1</td>\n",
              "      <td>6</td>\n",
              "      <td>1</td>\n",
              "      <td>N</td>\n",
              "      <td>1</td>\n",
              "      <td>2</td>\n",
              "      <td>0</td>\n",
              "      <td>1</td>\n",
              "      <td>2</td>\n",
              "      <td>ZA</td>\n",
              "      <td>ZE</td>\n",
              "      <td>XR</td>\n",
              "      <td>XD</td>\n",
              "      <td>1</td>\n",
              "      <td>0</td>\n",
              "      <td>0</td>\n",
              "      <td>0</td>\n",
              "      <td>0</td>\n",
              "      <td>1</td>\n",
              "      <td>2</td>\n",
              "      <td>2</td>\n",
              "      <td>0</td>\n",
              "      <td>1</td>\n",
              "      <td>1</td>\n",
              "      <td>1</td>\n",
              "      <td>1</td>\n",
              "      <td>0</td>\n",
              "      <td>0</td>\n",
              "      <td>0</td>\n",
              "      <td>0</td>\n",
              "      <td>0</td>\n",
              "      <td>0</td>\n",
              "      <td>0</td>\n",
              "      <td>0</td>\n",
              "      <td>1</td>\n",
              "      <td>0</td>\n",
              "      <td>1</td>\n",
              "      <td>1</td>\n",
              "      <td>1</td>\n",
              "      <td>2</td>\n",
              "      <td>0</td>\n",
              "      <td>0</td>\n",
              "      <td>0</td>\n",
              "      <td>0</td>\n",
              "      <td>1</td>\n",
              "      <td>0</td>\n",
              "      <td>0</td>\n",
              "      <td>0</td>\n",
              "      <td>0</td>\n",
              "      <td>1</td>\n",
              "      <td>0</td>\n",
              "      <td>0</td>\n",
              "      <td>0</td>\n",
              "      <td>0</td>\n",
              "      <td>1</td>\n",
              "      <td>0</td>\n",
              "      <td>0</td>\n",
              "      <td>0</td>\n",
              "      <td>0</td>\n",
              "      <td>1</td>\n",
              "      <td>0</td>\n",
              "      <td>0</td>\n",
              "      <td>0</td>\n",
              "      <td>0</td>\n",
              "      <td>1</td>\n",
              "      <td>0</td>\n",
              "      <td>1</td>\n",
              "      <td>1</td>\n",
              "      <td>1</td>\n",
              "      <td>2</td>\n",
              "      <td>0</td>\n",
              "      <td>0</td>\n",
              "      <td>0</td>\n",
              "      <td>0</td>\n",
              "      <td>1</td>\n",
              "      <td>-1</td>\n",
              "      <td>N</td>\n",
              "      <td>N</td>\n",
              "      <td>Y</td>\n",
              "      <td>0</td>\n",
              "      <td>O</td>\n",
              "      <td>1</td>\n",
              "      <td>0</td>\n",
              "      <td>1</td>\n",
              "      <td>-1</td>\n",
              "      <td>21</td>\n",
              "      <td>4</td>\n",
              "      <td>2</td>\n",
              "      <td>C</td>\n",
              "      <td>1</td>\n",
              "      <td>1</td>\n",
              "      <td>2</td>\n",
              "      <td>0</td>\n",
              "      <td>0</td>\n",
              "      <td>2</td>\n",
              "      <td>4</td>\n",
              "      <td>4</td>\n",
              "      <td>B</td>\n",
              "      <td>N</td>\n",
              "      <td>K</td>\n",
              "      <td>Y</td>\n",
              "      <td>G</td>\n",
              "      <td>N</td>\n",
              "      <td>2</td>\n",
              "      <td>N</td>\n",
              "      <td>N</td>\n",
              "      <td>N</td>\n",
              "      <td>-1</td>\n",
              "      <td>13</td>\n",
              "      <td>-1</td>\n",
              "      <td>25</td>\n",
              "      <td>-1</td>\n",
              "      <td>7</td>\n",
              "      <td>-1</td>\n",
              "      <td>-1</td>\n",
              "      <td>-1</td>\n",
              "      <td>15</td>\n",
              "      <td>-1</td>\n",
              "      <td>-1</td>\n",
              "      <td>-1</td>\n",
              "      <td>-1</td>\n",
              "      <td>-1</td>\n",
              "      <td>9</td>\n",
              "      <td>N</td>\n",
              "      <td>CA</td>\n",
              "      <td>2014</td>\n",
              "      <td>2</td>\n",
              "      <td>6</td>\n",
              "      <td>False</td>\n",
              "      <td>False</td>\n",
              "      <td>False</td>\n",
              "      <td>False</td>\n",
              "      <td>False</td>\n",
              "      <td>False</td>\n",
              "      <td>False</td>\n",
              "      <td>True</td>\n",
              "      <td>25.0</td>\n",
              "      <td>0.9403</td>\n",
              "      <td>0.0007</td>\n",
              "      <td>1.0200</td>\n",
              "      <td>9.0</td>\n",
              "      <td>15.0</td>\n",
              "      <td>9.0</td>\n",
              "      <td>15.0</td>\n",
              "      <td>8.0</td>\n",
              "      <td>13.0</td>\n",
              "      <td>8.0</td>\n",
              "      <td>14.0</td>\n",
              "      <td>3.000000</td>\n",
              "      <td>5.0</td>\n",
              "      <td>4.0</td>\n",
              "      <td>11.0</td>\n",
              "      <td>3.0</td>\n",
              "      <td>10.0</td>\n",
              "      <td>11.0</td>\n",
              "      <td>61662.999557</td>\n",
              "      <td>-2.965073e-08</td>\n",
              "      <td>4.0</td>\n",
              "      <td>5.0</td>\n",
              "      <td>14.0</td>\n",
              "      <td>21.0</td>\n",
              "      <td>2.0</td>\n",
              "      <td>24.0</td>\n",
              "      <td>2.0</td>\n",
              "      <td>7.0</td>\n",
              "      <td>10.0</td>\n",
              "      <td>23.0</td>\n",
              "      <td>3.0</td>\n",
              "      <td>6.0</td>\n",
              "      <td>9.0</td>\n",
              "      <td>15.0</td>\n",
              "      <td>8.0</td>\n",
              "      <td>11.0</td>\n",
              "      <td>1.0</td>\n",
              "      <td>14.0</td>\n",
              "      <td>20.0</td>\n",
              "      <td>-3.456605e-13</td>\n",
              "      <td>8.0</td>\n",
              "      <td>7.0</td>\n",
              "      <td>7.0</td>\n",
              "      <td>15.0</td>\n",
              "      <td>11.0</td>\n",
              "      <td>10.0</td>\n",
              "      <td>5.0</td>\n",
              "      <td>4.0</td>\n",
              "      <td>13.0</td>\n",
              "      <td>13.0</td>\n",
              "      <td>2.0</td>\n",
              "      <td>5.0</td>\n",
              "      <td>6.0</td>\n",
              "      <td>7.0</td>\n",
              "      <td>2.0</td>\n",
              "      <td>7.0</td>\n",
              "      <td>2.0</td>\n",
              "      <td>2.0</td>\n",
              "      <td>2.0</td>\n",
              "      <td>7.0</td>\n",
              "      <td>4.0</td>\n",
              "      <td>7.0</td>\n",
              "      <td>2.0</td>\n",
              "      <td>7.0</td>\n",
              "      <td>9.0</td>\n",
              "      <td>8.0</td>\n",
              "      <td>3.0</td>\n",
              "      <td>7.0</td>\n",
              "      <td>2.000000</td>\n",
              "      <td>18.0</td>\n",
              "      <td>2.0</td>\n",
              "      <td>2.0</td>\n",
              "      <td>4.0</td>\n",
              "      <td>3.0</td>\n",
              "      <td>7.0</td>\n",
              "      <td>8.0</td>\n",
              "      <td>8.0</td>\n",
              "      <td>16.0</td>\n",
              "      <td>14.0</td>\n",
              "      <td>18.0</td>\n",
              "      <td>18.0</td>\n",
              "      <td>20.0</td>\n",
              "      <td>22.0</td>\n",
              "      <td>15.0</td>\n",
              "      <td>11.0</td>\n",
              "      <td>10.0</td>\n",
              "      <td>17.0</td>\n",
              "      <td>14.0</td>\n",
              "      <td>21.0</td>\n",
              "      <td>5.0</td>\n",
              "      <td>6.0</td>\n",
              "      <td>10.0</td>\n",
              "      <td>15.0</td>\n",
              "      <td>11.0</td>\n",
              "      <td>18.0</td>\n",
              "      <td>7.0</td>\n",
              "      <td>9.0</td>\n",
              "      <td>16.0</td>\n",
              "      <td>21.0</td>\n",
              "      <td>3.0</td>\n",
              "      <td>3.0</td>\n",
              "      <td>6.0</td>\n",
              "      <td>5.0</td>\n",
              "      <td>2.0</td>\n",
              "      <td>3.0</td>\n",
              "      <td>7.0</td>\n",
              "      <td>10.0</td>\n",
              "      <td>7.0</td>\n",
              "      <td>15.0</td>\n",
              "      <td>3.000000</td>\n",
              "      <td>8.0</td>\n",
              "      <td>18.0</td>\n",
              "      <td>16.0</td>\n",
              "      <td>7.0</td>\n",
              "      <td>7.0</td>\n",
              "      <td>1.0</td>\n",
              "      <td>1.0</td>\n",
              "      <td>7.0</td>\n",
              "      <td>2.0</td>\n",
              "      <td>7.0</td>\n",
              "      <td>7.0</td>\n",
              "      <td>13.0</td>\n",
              "      <td>15.0</td>\n",
              "      <td>1.0</td>\n",
              "      <td>1.0</td>\n",
              "      <td>10.0</td>\n",
              "      <td>7.0</td>\n",
              "      <td>12.0</td>\n",
              "      <td>6.0</td>\n",
              "      <td>8.0</td>\n",
              "      <td>4.0</td>\n",
              "      <td>9.0</td>\n",
              "      <td>7.0</td>\n",
              "      <td>9.0</td>\n",
              "      <td>7.0</td>\n",
              "      <td>13.0</td>\n",
              "      <td>7.0</td>\n",
              "      <td>13.0</td>\n",
              "      <td>12.0</td>\n",
              "      <td>14.0</td>\n",
              "      <td>22.0</td>\n",
              "      <td>18.0</td>\n",
              "      <td>9.0</td>\n",
              "      <td>6.0</td>\n",
              "      <td>15.0</td>\n",
              "      <td>20.0</td>\n",
              "      <td>10.0</td>\n",
              "      <td>10.0</td>\n",
              "      <td>3.0</td>\n",
              "      <td>23.0</td>\n",
              "      <td>6.000001</td>\n",
              "      <td>9.000000</td>\n",
              "      <td>40.000002</td>\n",
              "      <td>1.391904e+09</td>\n",
              "      <td>False</td>\n",
              "    </tr>\n",
              "    <tr>\n",
              "      <th>1</th>\n",
              "      <td>E</td>\n",
              "      <td>1,480</td>\n",
              "      <td>N</td>\n",
              "      <td>13</td>\n",
              "      <td>22</td>\n",
              "      <td>13</td>\n",
              "      <td>23</td>\n",
              "      <td>T</td>\n",
              "      <td>F</td>\n",
              "      <td>0</td>\n",
              "      <td>5</td>\n",
              "      <td>5</td>\n",
              "      <td>R</td>\n",
              "      <td>1</td>\n",
              "      <td>0</td>\n",
              "      <td>0</td>\n",
              "      <td>0</td>\n",
              "      <td>0</td>\n",
              "      <td>0</td>\n",
              "      <td>1</td>\n",
              "      <td>1</td>\n",
              "      <td>7</td>\n",
              "      <td>0</td>\n",
              "      <td>N</td>\n",
              "      <td>1</td>\n",
              "      <td>2</td>\n",
              "      <td>0</td>\n",
              "      <td>1</td>\n",
              "      <td>2</td>\n",
              "      <td>YF</td>\n",
              "      <td>ZK</td>\n",
              "      <td>XK</td>\n",
              "      <td>XC</td>\n",
              "      <td>1</td>\n",
              "      <td>0</td>\n",
              "      <td>0</td>\n",
              "      <td>0</td>\n",
              "      <td>0</td>\n",
              "      <td>0</td>\n",
              "      <td>1</td>\n",
              "      <td>1</td>\n",
              "      <td>0</td>\n",
              "      <td>0</td>\n",
              "      <td>0</td>\n",
              "      <td>0</td>\n",
              "      <td>1</td>\n",
              "      <td>0</td>\n",
              "      <td>0</td>\n",
              "      <td>0</td>\n",
              "      <td>0</td>\n",
              "      <td>0</td>\n",
              "      <td>0</td>\n",
              "      <td>0</td>\n",
              "      <td>0</td>\n",
              "      <td>1</td>\n",
              "      <td>0</td>\n",
              "      <td>0</td>\n",
              "      <td>0</td>\n",
              "      <td>0</td>\n",
              "      <td>1</td>\n",
              "      <td>0</td>\n",
              "      <td>0</td>\n",
              "      <td>0</td>\n",
              "      <td>0</td>\n",
              "      <td>1</td>\n",
              "      <td>0</td>\n",
              "      <td>0</td>\n",
              "      <td>0</td>\n",
              "      <td>0</td>\n",
              "      <td>1</td>\n",
              "      <td>0</td>\n",
              "      <td>0</td>\n",
              "      <td>0</td>\n",
              "      <td>0</td>\n",
              "      <td>1</td>\n",
              "      <td>0</td>\n",
              "      <td>0</td>\n",
              "      <td>0</td>\n",
              "      <td>0</td>\n",
              "      <td>1</td>\n",
              "      <td>0</td>\n",
              "      <td>0</td>\n",
              "      <td>0</td>\n",
              "      <td>0</td>\n",
              "      <td>1</td>\n",
              "      <td>0</td>\n",
              "      <td>0</td>\n",
              "      <td>0</td>\n",
              "      <td>0</td>\n",
              "      <td>1</td>\n",
              "      <td>0</td>\n",
              "      <td>0</td>\n",
              "      <td>0</td>\n",
              "      <td>0</td>\n",
              "      <td>1</td>\n",
              "      <td>-1</td>\n",
              "      <td>Y</td>\n",
              "      <td>Y</td>\n",
              "      <td>Y</td>\n",
              "      <td>0</td>\n",
              "      <td>R</td>\n",
              "      <td>1</td>\n",
              "      <td>0</td>\n",
              "      <td>1</td>\n",
              "      <td>-1</td>\n",
              "      <td>21</td>\n",
              "      <td>2</td>\n",
              "      <td>2</td>\n",
              "      <td>C</td>\n",
              "      <td>4</td>\n",
              "      <td>1</td>\n",
              "      <td>2</td>\n",
              "      <td>0</td>\n",
              "      <td>0</td>\n",
              "      <td>2</td>\n",
              "      <td>1</td>\n",
              "      <td>10</td>\n",
              "      <td>B</td>\n",
              "      <td>N</td>\n",
              "      <td>O</td>\n",
              "      <td>Y</td>\n",
              "      <td>H</td>\n",
              "      <td>N</td>\n",
              "      <td>2</td>\n",
              "      <td>N</td>\n",
              "      <td>N</td>\n",
              "      <td>N</td>\n",
              "      <td>-1</td>\n",
              "      <td>13</td>\n",
              "      <td>-1</td>\n",
              "      <td>25</td>\n",
              "      <td>-1</td>\n",
              "      <td>23</td>\n",
              "      <td>-1</td>\n",
              "      <td>-1</td>\n",
              "      <td>-1</td>\n",
              "      <td>17</td>\n",
              "      <td>-1</td>\n",
              "      <td>-1</td>\n",
              "      <td>-1</td>\n",
              "      <td>-1</td>\n",
              "      <td>-1</td>\n",
              "      <td>8</td>\n",
              "      <td>N</td>\n",
              "      <td>IL</td>\n",
              "      <td>2013</td>\n",
              "      <td>8</td>\n",
              "      <td>5</td>\n",
              "      <td>True</td>\n",
              "      <td>False</td>\n",
              "      <td>False</td>\n",
              "      <td>False</td>\n",
              "      <td>False</td>\n",
              "      <td>False</td>\n",
              "      <td>True</td>\n",
              "      <td>True</td>\n",
              "      <td>14.0</td>\n",
              "      <td>0.9487</td>\n",
              "      <td>0.0006</td>\n",
              "      <td>1.3045</td>\n",
              "      <td>6.0</td>\n",
              "      <td>9.0</td>\n",
              "      <td>6.0</td>\n",
              "      <td>9.0</td>\n",
              "      <td>5.0</td>\n",
              "      <td>8.0</td>\n",
              "      <td>6.0</td>\n",
              "      <td>9.0</td>\n",
              "      <td>4.000000</td>\n",
              "      <td>8.0</td>\n",
              "      <td>3.0</td>\n",
              "      <td>8.0</td>\n",
              "      <td>4.0</td>\n",
              "      <td>12.0</td>\n",
              "      <td>4.0</td>\n",
              "      <td>1129.999604</td>\n",
              "      <td>-2.965073e-08</td>\n",
              "      <td>19.0</td>\n",
              "      <td>22.0</td>\n",
              "      <td>6.0</td>\n",
              "      <td>12.0</td>\n",
              "      <td>2.0</td>\n",
              "      <td>7.0</td>\n",
              "      <td>2.0</td>\n",
              "      <td>6.0</td>\n",
              "      <td>9.0</td>\n",
              "      <td>3.0</td>\n",
              "      <td>4.0</td>\n",
              "      <td>8.0</td>\n",
              "      <td>6.0</td>\n",
              "      <td>9.0</td>\n",
              "      <td>10.0</td>\n",
              "      <td>15.0</td>\n",
              "      <td>1.0</td>\n",
              "      <td>17.0</td>\n",
              "      <td>23.0</td>\n",
              "      <td>-3.456605e-13</td>\n",
              "      <td>18.0</td>\n",
              "      <td>22.0</td>\n",
              "      <td>6.0</td>\n",
              "      <td>13.0</td>\n",
              "      <td>14.0</td>\n",
              "      <td>13.0</td>\n",
              "      <td>13.0</td>\n",
              "      <td>16.0</td>\n",
              "      <td>9.0</td>\n",
              "      <td>7.0</td>\n",
              "      <td>13.0</td>\n",
              "      <td>22.0</td>\n",
              "      <td>16.0</td>\n",
              "      <td>19.0</td>\n",
              "      <td>13.0</td>\n",
              "      <td>20.0</td>\n",
              "      <td>25.0</td>\n",
              "      <td>25.0</td>\n",
              "      <td>11.0</td>\n",
              "      <td>19.0</td>\n",
              "      <td>16.0</td>\n",
              "      <td>19.0</td>\n",
              "      <td>11.0</td>\n",
              "      <td>19.0</td>\n",
              "      <td>15.0</td>\n",
              "      <td>19.0</td>\n",
              "      <td>15.0</td>\n",
              "      <td>23.0</td>\n",
              "      <td>3.000000</td>\n",
              "      <td>18.0</td>\n",
              "      <td>18.0</td>\n",
              "      <td>15.0</td>\n",
              "      <td>16.0</td>\n",
              "      <td>2.0</td>\n",
              "      <td>5.0</td>\n",
              "      <td>24.0</td>\n",
              "      <td>19.0</td>\n",
              "      <td>2.0</td>\n",
              "      <td>1.0</td>\n",
              "      <td>2.0</td>\n",
              "      <td>2.0</td>\n",
              "      <td>2.0</td>\n",
              "      <td>2.0</td>\n",
              "      <td>2.0</td>\n",
              "      <td>1.0</td>\n",
              "      <td>6.0</td>\n",
              "      <td>8.0</td>\n",
              "      <td>6.0</td>\n",
              "      <td>6.0</td>\n",
              "      <td>8.0</td>\n",
              "      <td>15.0</td>\n",
              "      <td>12.0</td>\n",
              "      <td>20.0</td>\n",
              "      <td>7.0</td>\n",
              "      <td>11.0</td>\n",
              "      <td>5.0</td>\n",
              "      <td>5.0</td>\n",
              "      <td>21.0</td>\n",
              "      <td>24.0</td>\n",
              "      <td>21.0</td>\n",
              "      <td>24.0</td>\n",
              "      <td>7.0</td>\n",
              "      <td>8.0</td>\n",
              "      <td>4.0</td>\n",
              "      <td>9.0</td>\n",
              "      <td>11.0</td>\n",
              "      <td>18.0</td>\n",
              "      <td>14.0</td>\n",
              "      <td>23.0</td>\n",
              "      <td>24.999999</td>\n",
              "      <td>25.0</td>\n",
              "      <td>15.0</td>\n",
              "      <td>13.0</td>\n",
              "      <td>25.0</td>\n",
              "      <td>25.0</td>\n",
              "      <td>12.0</td>\n",
              "      <td>20.0</td>\n",
              "      <td>13.0</td>\n",
              "      <td>13.0</td>\n",
              "      <td>7.0</td>\n",
              "      <td>7.0</td>\n",
              "      <td>21.0</td>\n",
              "      <td>23.0</td>\n",
              "      <td>5.0</td>\n",
              "      <td>3.0</td>\n",
              "      <td>18.0</td>\n",
              "      <td>18.0</td>\n",
              "      <td>17.0</td>\n",
              "      <td>13.0</td>\n",
              "      <td>13.0</td>\n",
              "      <td>9.0</td>\n",
              "      <td>17.0</td>\n",
              "      <td>18.0</td>\n",
              "      <td>17.0</td>\n",
              "      <td>19.0</td>\n",
              "      <td>20.0</td>\n",
              "      <td>18.0</td>\n",
              "      <td>8.0</td>\n",
              "      <td>5.0</td>\n",
              "      <td>4.0</td>\n",
              "      <td>6.0</td>\n",
              "      <td>12.0</td>\n",
              "      <td>10.0</td>\n",
              "      <td>8.0</td>\n",
              "      <td>12.0</td>\n",
              "      <td>14.0</td>\n",
              "      <td>18.0</td>\n",
              "      <td>22.0</td>\n",
              "      <td>16.0</td>\n",
              "      <td>24.0</td>\n",
              "      <td>35.000000</td>\n",
              "      <td>31.000001</td>\n",
              "      <td>242.999997</td>\n",
              "      <td>1.377907e+09</td>\n",
              "      <td>False</td>\n",
              "    </tr>\n",
              "    <tr>\n",
              "      <th>2</th>\n",
              "      <td>F</td>\n",
              "      <td>548</td>\n",
              "      <td>N</td>\n",
              "      <td>13</td>\n",
              "      <td>22</td>\n",
              "      <td>25</td>\n",
              "      <td>25</td>\n",
              "      <td>Y</td>\n",
              "      <td>E</td>\n",
              "      <td>1</td>\n",
              "      <td>5</td>\n",
              "      <td>5</td>\n",
              "      <td>P</td>\n",
              "      <td>0</td>\n",
              "      <td>0</td>\n",
              "      <td>1</td>\n",
              "      <td>0</td>\n",
              "      <td>1</td>\n",
              "      <td>1</td>\n",
              "      <td>1</td>\n",
              "      <td>1</td>\n",
              "      <td>7</td>\n",
              "      <td>0</td>\n",
              "      <td>N</td>\n",
              "      <td>1</td>\n",
              "      <td>2</td>\n",
              "      <td>0</td>\n",
              "      <td>1</td>\n",
              "      <td>2</td>\n",
              "      <td>ZH</td>\n",
              "      <td>XV</td>\n",
              "      <td>YF</td>\n",
              "      <td>XX</td>\n",
              "      <td>1</td>\n",
              "      <td>0</td>\n",
              "      <td>0</td>\n",
              "      <td>0</td>\n",
              "      <td>0</td>\n",
              "      <td>0</td>\n",
              "      <td>1</td>\n",
              "      <td>1</td>\n",
              "      <td>0</td>\n",
              "      <td>0</td>\n",
              "      <td>0</td>\n",
              "      <td>0</td>\n",
              "      <td>1</td>\n",
              "      <td>0</td>\n",
              "      <td>0</td>\n",
              "      <td>0</td>\n",
              "      <td>0</td>\n",
              "      <td>0</td>\n",
              "      <td>0</td>\n",
              "      <td>0</td>\n",
              "      <td>0</td>\n",
              "      <td>1</td>\n",
              "      <td>0</td>\n",
              "      <td>0</td>\n",
              "      <td>0</td>\n",
              "      <td>0</td>\n",
              "      <td>1</td>\n",
              "      <td>0</td>\n",
              "      <td>0</td>\n",
              "      <td>0</td>\n",
              "      <td>0</td>\n",
              "      <td>1</td>\n",
              "      <td>0</td>\n",
              "      <td>0</td>\n",
              "      <td>0</td>\n",
              "      <td>0</td>\n",
              "      <td>1</td>\n",
              "      <td>0</td>\n",
              "      <td>0</td>\n",
              "      <td>0</td>\n",
              "      <td>0</td>\n",
              "      <td>1</td>\n",
              "      <td>0</td>\n",
              "      <td>0</td>\n",
              "      <td>0</td>\n",
              "      <td>0</td>\n",
              "      <td>1</td>\n",
              "      <td>0</td>\n",
              "      <td>0</td>\n",
              "      <td>0</td>\n",
              "      <td>0</td>\n",
              "      <td>1</td>\n",
              "      <td>0</td>\n",
              "      <td>0</td>\n",
              "      <td>0</td>\n",
              "      <td>0</td>\n",
              "      <td>1</td>\n",
              "      <td>0</td>\n",
              "      <td>0</td>\n",
              "      <td>0</td>\n",
              "      <td>0</td>\n",
              "      <td>1</td>\n",
              "      <td>-1</td>\n",
              "      <td>N</td>\n",
              "      <td>N</td>\n",
              "      <td>Y</td>\n",
              "      <td>0</td>\n",
              "      <td>A</td>\n",
              "      <td>1</td>\n",
              "      <td>0</td>\n",
              "      <td>1</td>\n",
              "      <td>-1</td>\n",
              "      <td>21</td>\n",
              "      <td>1</td>\n",
              "      <td>2</td>\n",
              "      <td>A</td>\n",
              "      <td>1</td>\n",
              "      <td>1</td>\n",
              "      <td>1</td>\n",
              "      <td>1</td>\n",
              "      <td>0</td>\n",
              "      <td>2</td>\n",
              "      <td>1</td>\n",
              "      <td>4</td>\n",
              "      <td>B</td>\n",
              "      <td>N</td>\n",
              "      <td>O</td>\n",
              "      <td>Y</td>\n",
              "      <td>H</td>\n",
              "      <td>Y</td>\n",
              "      <td>2</td>\n",
              "      <td>N</td>\n",
              "      <td>Y</td>\n",
              "      <td>N</td>\n",
              "      <td>-1</td>\n",
              "      <td>18</td>\n",
              "      <td>-1</td>\n",
              "      <td>25</td>\n",
              "      <td>-1</td>\n",
              "      <td>17</td>\n",
              "      <td>-1</td>\n",
              "      <td>-1</td>\n",
              "      <td>-1</td>\n",
              "      <td>18</td>\n",
              "      <td>-1</td>\n",
              "      <td>-1</td>\n",
              "      <td>-1</td>\n",
              "      <td>-1</td>\n",
              "      <td>-1</td>\n",
              "      <td>8</td>\n",
              "      <td>N</td>\n",
              "      <td>NJ</td>\n",
              "      <td>2015</td>\n",
              "      <td>2</td>\n",
              "      <td>3</td>\n",
              "      <td>False</td>\n",
              "      <td>False</td>\n",
              "      <td>False</td>\n",
              "      <td>False</td>\n",
              "      <td>False</td>\n",
              "      <td>False</td>\n",
              "      <td>True</td>\n",
              "      <td>True</td>\n",
              "      <td>22.0</td>\n",
              "      <td>0.9893</td>\n",
              "      <td>0.0040</td>\n",
              "      <td>1.2433</td>\n",
              "      <td>7.0</td>\n",
              "      <td>12.0</td>\n",
              "      <td>7.0</td>\n",
              "      <td>12.0</td>\n",
              "      <td>10.0</td>\n",
              "      <td>17.0</td>\n",
              "      <td>7.0</td>\n",
              "      <td>11.0</td>\n",
              "      <td>8.000000</td>\n",
              "      <td>17.0</td>\n",
              "      <td>4.0</td>\n",
              "      <td>10.0</td>\n",
              "      <td>4.0</td>\n",
              "      <td>12.0</td>\n",
              "      <td>11.0</td>\n",
              "      <td>30835.999977</td>\n",
              "      <td>1.000000e+00</td>\n",
              "      <td>3.0</td>\n",
              "      <td>3.0</td>\n",
              "      <td>6.0</td>\n",
              "      <td>13.0</td>\n",
              "      <td>1.0</td>\n",
              "      <td>10.0</td>\n",
              "      <td>2.0</td>\n",
              "      <td>24.0</td>\n",
              "      <td>25.0</td>\n",
              "      <td>12.0</td>\n",
              "      <td>3.0</td>\n",
              "      <td>6.0</td>\n",
              "      <td>7.0</td>\n",
              "      <td>12.0</td>\n",
              "      <td>9.0</td>\n",
              "      <td>13.0</td>\n",
              "      <td>2.0</td>\n",
              "      <td>6.0</td>\n",
              "      <td>7.0</td>\n",
              "      <td>-3.456605e-13</td>\n",
              "      <td>13.0</td>\n",
              "      <td>15.0</td>\n",
              "      <td>8.0</td>\n",
              "      <td>17.0</td>\n",
              "      <td>14.0</td>\n",
              "      <td>13.0</td>\n",
              "      <td>7.0</td>\n",
              "      <td>6.0</td>\n",
              "      <td>13.0</td>\n",
              "      <td>13.0</td>\n",
              "      <td>5.0</td>\n",
              "      <td>16.0</td>\n",
              "      <td>10.0</td>\n",
              "      <td>16.0</td>\n",
              "      <td>6.0</td>\n",
              "      <td>16.0</td>\n",
              "      <td>6.0</td>\n",
              "      <td>14.0</td>\n",
              "      <td>4.0</td>\n",
              "      <td>13.0</td>\n",
              "      <td>10.0</td>\n",
              "      <td>16.0</td>\n",
              "      <td>5.0</td>\n",
              "      <td>16.0</td>\n",
              "      <td>11.0</td>\n",
              "      <td>17.0</td>\n",
              "      <td>7.0</td>\n",
              "      <td>16.0</td>\n",
              "      <td>2.000000</td>\n",
              "      <td>13.0</td>\n",
              "      <td>16.0</td>\n",
              "      <td>25.0</td>\n",
              "      <td>25.0</td>\n",
              "      <td>25.0</td>\n",
              "      <td>25.0</td>\n",
              "      <td>18.0</td>\n",
              "      <td>17.0</td>\n",
              "      <td>21.0</td>\n",
              "      <td>22.0</td>\n",
              "      <td>18.0</td>\n",
              "      <td>19.0</td>\n",
              "      <td>13.0</td>\n",
              "      <td>17.0</td>\n",
              "      <td>22.0</td>\n",
              "      <td>21.0</td>\n",
              "      <td>8.0</td>\n",
              "      <td>14.0</td>\n",
              "      <td>8.0</td>\n",
              "      <td>12.0</td>\n",
              "      <td>10.0</td>\n",
              "      <td>20.0</td>\n",
              "      <td>8.0</td>\n",
              "      <td>11.0</td>\n",
              "      <td>12.0</td>\n",
              "      <td>19.0</td>\n",
              "      <td>5.0</td>\n",
              "      <td>5.0</td>\n",
              "      <td>11.0</td>\n",
              "      <td>13.0</td>\n",
              "      <td>14.0</td>\n",
              "      <td>22.0</td>\n",
              "      <td>12.0</td>\n",
              "      <td>20.0</td>\n",
              "      <td>4.0</td>\n",
              "      <td>7.0</td>\n",
              "      <td>12.0</td>\n",
              "      <td>20.0</td>\n",
              "      <td>14.0</td>\n",
              "      <td>22.0</td>\n",
              "      <td>10.000000</td>\n",
              "      <td>17.0</td>\n",
              "      <td>23.0</td>\n",
              "      <td>20.0</td>\n",
              "      <td>14.0</td>\n",
              "      <td>18.0</td>\n",
              "      <td>9.0</td>\n",
              "      <td>11.0</td>\n",
              "      <td>20.0</td>\n",
              "      <td>21.0</td>\n",
              "      <td>9.0</td>\n",
              "      <td>12.0</td>\n",
              "      <td>20.0</td>\n",
              "      <td>22.0</td>\n",
              "      <td>6.0</td>\n",
              "      <td>7.0</td>\n",
              "      <td>17.0</td>\n",
              "      <td>16.0</td>\n",
              "      <td>14.0</td>\n",
              "      <td>8.0</td>\n",
              "      <td>14.0</td>\n",
              "      <td>10.0</td>\n",
              "      <td>17.0</td>\n",
              "      <td>19.0</td>\n",
              "      <td>17.0</td>\n",
              "      <td>18.0</td>\n",
              "      <td>17.0</td>\n",
              "      <td>13.0</td>\n",
              "      <td>9.0</td>\n",
              "      <td>6.0</td>\n",
              "      <td>7.0</td>\n",
              "      <td>14.0</td>\n",
              "      <td>2.0</td>\n",
              "      <td>15.0</td>\n",
              "      <td>17.0</td>\n",
              "      <td>17.0</td>\n",
              "      <td>22.0</td>\n",
              "      <td>16.0</td>\n",
              "      <td>20.0</td>\n",
              "      <td>8.0</td>\n",
              "      <td>24.0</td>\n",
              "      <td>9.000000</td>\n",
              "      <td>26.000000</td>\n",
              "      <td>56.999998</td>\n",
              "      <td>1.424909e+09</td>\n",
              "      <td>True</td>\n",
              "    </tr>\n",
              "    <tr>\n",
              "      <th>3</th>\n",
              "      <td>B</td>\n",
              "      <td>935</td>\n",
              "      <td>N</td>\n",
              "      <td>13</td>\n",
              "      <td>22</td>\n",
              "      <td>13</td>\n",
              "      <td>23</td>\n",
              "      <td>Y</td>\n",
              "      <td>D</td>\n",
              "      <td>1</td>\n",
              "      <td>5</td>\n",
              "      <td>5</td>\n",
              "      <td>T</td>\n",
              "      <td>0</td>\n",
              "      <td>0</td>\n",
              "      <td>0</td>\n",
              "      <td>0</td>\n",
              "      <td>0</td>\n",
              "      <td>0</td>\n",
              "      <td>1</td>\n",
              "      <td>1</td>\n",
              "      <td>7</td>\n",
              "      <td>0</td>\n",
              "      <td>N</td>\n",
              "      <td>1</td>\n",
              "      <td>1</td>\n",
              "      <td>1</td>\n",
              "      <td>4</td>\n",
              "      <td>2</td>\n",
              "      <td>ZA</td>\n",
              "      <td>ZE</td>\n",
              "      <td>XR</td>\n",
              "      <td>XD</td>\n",
              "      <td>1</td>\n",
              "      <td>0</td>\n",
              "      <td>0</td>\n",
              "      <td>0</td>\n",
              "      <td>0</td>\n",
              "      <td>1</td>\n",
              "      <td>2</td>\n",
              "      <td>2</td>\n",
              "      <td>0</td>\n",
              "      <td>0</td>\n",
              "      <td>1</td>\n",
              "      <td>1</td>\n",
              "      <td>1</td>\n",
              "      <td>0</td>\n",
              "      <td>0</td>\n",
              "      <td>0</td>\n",
              "      <td>0</td>\n",
              "      <td>0</td>\n",
              "      <td>0</td>\n",
              "      <td>0</td>\n",
              "      <td>0</td>\n",
              "      <td>1</td>\n",
              "      <td>0</td>\n",
              "      <td>0</td>\n",
              "      <td>1</td>\n",
              "      <td>1</td>\n",
              "      <td>2</td>\n",
              "      <td>0</td>\n",
              "      <td>0</td>\n",
              "      <td>0</td>\n",
              "      <td>0</td>\n",
              "      <td>1</td>\n",
              "      <td>0</td>\n",
              "      <td>0</td>\n",
              "      <td>0</td>\n",
              "      <td>0</td>\n",
              "      <td>1</td>\n",
              "      <td>0</td>\n",
              "      <td>0</td>\n",
              "      <td>0</td>\n",
              "      <td>0</td>\n",
              "      <td>1</td>\n",
              "      <td>0</td>\n",
              "      <td>0</td>\n",
              "      <td>0</td>\n",
              "      <td>0</td>\n",
              "      <td>1</td>\n",
              "      <td>0</td>\n",
              "      <td>0</td>\n",
              "      <td>0</td>\n",
              "      <td>0</td>\n",
              "      <td>1</td>\n",
              "      <td>0</td>\n",
              "      <td>0</td>\n",
              "      <td>1</td>\n",
              "      <td>1</td>\n",
              "      <td>2</td>\n",
              "      <td>0</td>\n",
              "      <td>0</td>\n",
              "      <td>0</td>\n",
              "      <td>0</td>\n",
              "      <td>1</td>\n",
              "      <td>-1</td>\n",
              "      <td>N</td>\n",
              "      <td>N</td>\n",
              "      <td>Y</td>\n",
              "      <td>0</td>\n",
              "      <td>O</td>\n",
              "      <td>1</td>\n",
              "      <td>0</td>\n",
              "      <td>1</td>\n",
              "      <td>-1</td>\n",
              "      <td>21</td>\n",
              "      <td>4</td>\n",
              "      <td>2</td>\n",
              "      <td>C</td>\n",
              "      <td>1</td>\n",
              "      <td>1</td>\n",
              "      <td>2</td>\n",
              "      <td>0</td>\n",
              "      <td>0</td>\n",
              "      <td>2</td>\n",
              "      <td>1</td>\n",
              "      <td>10</td>\n",
              "      <td>B</td>\n",
              "      <td>N</td>\n",
              "      <td>O</td>\n",
              "      <td>Y</td>\n",
              "      <td>H</td>\n",
              "      <td>Y</td>\n",
              "      <td>2</td>\n",
              "      <td>N</td>\n",
              "      <td>N</td>\n",
              "      <td>N</td>\n",
              "      <td>-1</td>\n",
              "      <td>13</td>\n",
              "      <td>-1</td>\n",
              "      <td>25</td>\n",
              "      <td>-1</td>\n",
              "      <td>7</td>\n",
              "      <td>-1</td>\n",
              "      <td>-1</td>\n",
              "      <td>-1</td>\n",
              "      <td>15</td>\n",
              "      <td>-1</td>\n",
              "      <td>-1</td>\n",
              "      <td>-1</td>\n",
              "      <td>-1</td>\n",
              "      <td>-1</td>\n",
              "      <td>21</td>\n",
              "      <td>N</td>\n",
              "      <td>CA</td>\n",
              "      <td>2014</td>\n",
              "      <td>11</td>\n",
              "      <td>2</td>\n",
              "      <td>False</td>\n",
              "      <td>False</td>\n",
              "      <td>False</td>\n",
              "      <td>False</td>\n",
              "      <td>False</td>\n",
              "      <td>False</td>\n",
              "      <td>False</td>\n",
              "      <td>True</td>\n",
              "      <td>25.0</td>\n",
              "      <td>0.9153</td>\n",
              "      <td>0.0007</td>\n",
              "      <td>1.0200</td>\n",
              "      <td>3.0</td>\n",
              "      <td>3.0</td>\n",
              "      <td>3.0</td>\n",
              "      <td>3.0</td>\n",
              "      <td>3.0</td>\n",
              "      <td>3.0</td>\n",
              "      <td>3.0</td>\n",
              "      <td>3.0</td>\n",
              "      <td>14.000000</td>\n",
              "      <td>23.0</td>\n",
              "      <td>2.0</td>\n",
              "      <td>1.0</td>\n",
              "      <td>3.0</td>\n",
              "      <td>10.0</td>\n",
              "      <td>11.0</td>\n",
              "      <td>21377.999465</td>\n",
              "      <td>-2.965073e-08</td>\n",
              "      <td>20.0</td>\n",
              "      <td>24.0</td>\n",
              "      <td>3.0</td>\n",
              "      <td>1.0</td>\n",
              "      <td>2.0</td>\n",
              "      <td>24.0</td>\n",
              "      <td>2.0</td>\n",
              "      <td>12.0</td>\n",
              "      <td>17.0</td>\n",
              "      <td>25.0</td>\n",
              "      <td>3.0</td>\n",
              "      <td>4.0</td>\n",
              "      <td>3.0</td>\n",
              "      <td>3.0</td>\n",
              "      <td>3.0</td>\n",
              "      <td>3.0</td>\n",
              "      <td>1.0</td>\n",
              "      <td>8.0</td>\n",
              "      <td>10.0</td>\n",
              "      <td>-3.456605e-13</td>\n",
              "      <td>12.0</td>\n",
              "      <td>15.0</td>\n",
              "      <td>14.0</td>\n",
              "      <td>23.0</td>\n",
              "      <td>11.0</td>\n",
              "      <td>10.0</td>\n",
              "      <td>5.0</td>\n",
              "      <td>4.0</td>\n",
              "      <td>20.0</td>\n",
              "      <td>22.0</td>\n",
              "      <td>2.0</td>\n",
              "      <td>4.0</td>\n",
              "      <td>8.0</td>\n",
              "      <td>10.0</td>\n",
              "      <td>2.0</td>\n",
              "      <td>10.0</td>\n",
              "      <td>1.0</td>\n",
              "      <td>1.0</td>\n",
              "      <td>2.0</td>\n",
              "      <td>7.0</td>\n",
              "      <td>6.0</td>\n",
              "      <td>10.0</td>\n",
              "      <td>2.0</td>\n",
              "      <td>10.0</td>\n",
              "      <td>11.0</td>\n",
              "      <td>18.0</td>\n",
              "      <td>3.0</td>\n",
              "      <td>10.0</td>\n",
              "      <td>2.000000</td>\n",
              "      <td>17.0</td>\n",
              "      <td>14.0</td>\n",
              "      <td>3.0</td>\n",
              "      <td>5.0</td>\n",
              "      <td>3.0</td>\n",
              "      <td>7.0</td>\n",
              "      <td>9.0</td>\n",
              "      <td>8.0</td>\n",
              "      <td>22.0</td>\n",
              "      <td>23.0</td>\n",
              "      <td>25.0</td>\n",
              "      <td>25.0</td>\n",
              "      <td>25.0</td>\n",
              "      <td>25.0</td>\n",
              "      <td>24.0</td>\n",
              "      <td>23.0</td>\n",
              "      <td>11.0</td>\n",
              "      <td>18.0</td>\n",
              "      <td>7.0</td>\n",
              "      <td>9.0</td>\n",
              "      <td>11.0</td>\n",
              "      <td>21.0</td>\n",
              "      <td>2.0</td>\n",
              "      <td>1.0</td>\n",
              "      <td>6.0</td>\n",
              "      <td>10.0</td>\n",
              "      <td>4.0</td>\n",
              "      <td>4.0</td>\n",
              "      <td>16.0</td>\n",
              "      <td>21.0</td>\n",
              "      <td>9.0</td>\n",
              "      <td>16.0</td>\n",
              "      <td>14.0</td>\n",
              "      <td>21.0</td>\n",
              "      <td>19.0</td>\n",
              "      <td>24.0</td>\n",
              "      <td>13.0</td>\n",
              "      <td>20.0</td>\n",
              "      <td>3.0</td>\n",
              "      <td>3.0</td>\n",
              "      <td>2.000000</td>\n",
              "      <td>2.0</td>\n",
              "      <td>1.0</td>\n",
              "      <td>1.0</td>\n",
              "      <td>6.0</td>\n",
              "      <td>6.0</td>\n",
              "      <td>1.0</td>\n",
              "      <td>1.0</td>\n",
              "      <td>8.0</td>\n",
              "      <td>3.0</td>\n",
              "      <td>9.0</td>\n",
              "      <td>9.0</td>\n",
              "      <td>16.0</td>\n",
              "      <td>17.0</td>\n",
              "      <td>1.0</td>\n",
              "      <td>1.0</td>\n",
              "      <td>10.0</td>\n",
              "      <td>7.0</td>\n",
              "      <td>15.0</td>\n",
              "      <td>10.0</td>\n",
              "      <td>12.0</td>\n",
              "      <td>8.0</td>\n",
              "      <td>9.0</td>\n",
              "      <td>6.0</td>\n",
              "      <td>8.0</td>\n",
              "      <td>6.0</td>\n",
              "      <td>11.0</td>\n",
              "      <td>5.0</td>\n",
              "      <td>13.0</td>\n",
              "      <td>12.0</td>\n",
              "      <td>15.0</td>\n",
              "      <td>22.0</td>\n",
              "      <td>19.0</td>\n",
              "      <td>9.0</td>\n",
              "      <td>6.0</td>\n",
              "      <td>5.0</td>\n",
              "      <td>3.0</td>\n",
              "      <td>4.0</td>\n",
              "      <td>2.0</td>\n",
              "      <td>6.0</td>\n",
              "      <td>24.0</td>\n",
              "      <td>47.000000</td>\n",
              "      <td>19.000000</td>\n",
              "      <td>322.999999</td>\n",
              "      <td>1.416355e+09</td>\n",
              "      <td>False</td>\n",
              "    </tr>\n",
              "    <tr>\n",
              "      <th>4</th>\n",
              "      <td>J</td>\n",
              "      <td>1,113</td>\n",
              "      <td>N</td>\n",
              "      <td>13</td>\n",
              "      <td>22</td>\n",
              "      <td>1</td>\n",
              "      <td>6</td>\n",
              "      <td>X</td>\n",
              "      <td>G</td>\n",
              "      <td>0</td>\n",
              "      <td>5</td>\n",
              "      <td>5</td>\n",
              "      <td>T</td>\n",
              "      <td>0</td>\n",
              "      <td>1</td>\n",
              "      <td>1</td>\n",
              "      <td>0</td>\n",
              "      <td>0</td>\n",
              "      <td>0</td>\n",
              "      <td>1</td>\n",
              "      <td>1</td>\n",
              "      <td>6</td>\n",
              "      <td>1</td>\n",
              "      <td>N</td>\n",
              "      <td>1</td>\n",
              "      <td>2</td>\n",
              "      <td>0</td>\n",
              "      <td>1</td>\n",
              "      <td>2</td>\n",
              "      <td>YF</td>\n",
              "      <td>ZK</td>\n",
              "      <td>XN</td>\n",
              "      <td>XC</td>\n",
              "      <td>1</td>\n",
              "      <td>0</td>\n",
              "      <td>0</td>\n",
              "      <td>0</td>\n",
              "      <td>0</td>\n",
              "      <td>0</td>\n",
              "      <td>1</td>\n",
              "      <td>1</td>\n",
              "      <td>0</td>\n",
              "      <td>0</td>\n",
              "      <td>0</td>\n",
              "      <td>0</td>\n",
              "      <td>1</td>\n",
              "      <td>0</td>\n",
              "      <td>0</td>\n",
              "      <td>0</td>\n",
              "      <td>0</td>\n",
              "      <td>0</td>\n",
              "      <td>0</td>\n",
              "      <td>0</td>\n",
              "      <td>0</td>\n",
              "      <td>1</td>\n",
              "      <td>0</td>\n",
              "      <td>0</td>\n",
              "      <td>0</td>\n",
              "      <td>0</td>\n",
              "      <td>1</td>\n",
              "      <td>0</td>\n",
              "      <td>0</td>\n",
              "      <td>0</td>\n",
              "      <td>0</td>\n",
              "      <td>1</td>\n",
              "      <td>0</td>\n",
              "      <td>0</td>\n",
              "      <td>0</td>\n",
              "      <td>0</td>\n",
              "      <td>1</td>\n",
              "      <td>0</td>\n",
              "      <td>0</td>\n",
              "      <td>0</td>\n",
              "      <td>0</td>\n",
              "      <td>1</td>\n",
              "      <td>0</td>\n",
              "      <td>0</td>\n",
              "      <td>0</td>\n",
              "      <td>0</td>\n",
              "      <td>1</td>\n",
              "      <td>0</td>\n",
              "      <td>0</td>\n",
              "      <td>0</td>\n",
              "      <td>0</td>\n",
              "      <td>1</td>\n",
              "      <td>0</td>\n",
              "      <td>0</td>\n",
              "      <td>0</td>\n",
              "      <td>0</td>\n",
              "      <td>1</td>\n",
              "      <td>0</td>\n",
              "      <td>0</td>\n",
              "      <td>0</td>\n",
              "      <td>0</td>\n",
              "      <td>1</td>\n",
              "      <td>-1</td>\n",
              "      <td>Y</td>\n",
              "      <td>Y</td>\n",
              "      <td>Y</td>\n",
              "      <td>0</td>\n",
              "      <td>J</td>\n",
              "      <td>1</td>\n",
              "      <td>0</td>\n",
              "      <td>1</td>\n",
              "      <td>-1</td>\n",
              "      <td>21</td>\n",
              "      <td>4</td>\n",
              "      <td>2</td>\n",
              "      <td>C</td>\n",
              "      <td>1</td>\n",
              "      <td>1</td>\n",
              "      <td>2</td>\n",
              "      <td>1</td>\n",
              "      <td>0</td>\n",
              "      <td>2</td>\n",
              "      <td>4</td>\n",
              "      <td>10</td>\n",
              "      <td>B</td>\n",
              "      <td>N</td>\n",
              "      <td>O</td>\n",
              "      <td>N</td>\n",
              "      <td>G</td>\n",
              "      <td>N</td>\n",
              "      <td>0</td>\n",
              "      <td>N</td>\n",
              "      <td>N</td>\n",
              "      <td>N</td>\n",
              "      <td>25</td>\n",
              "      <td>25</td>\n",
              "      <td>-1</td>\n",
              "      <td>25</td>\n",
              "      <td>-1</td>\n",
              "      <td>17</td>\n",
              "      <td>-1</td>\n",
              "      <td>-1</td>\n",
              "      <td>-1</td>\n",
              "      <td>15</td>\n",
              "      <td>-1</td>\n",
              "      <td>-1</td>\n",
              "      <td>-1</td>\n",
              "      <td>-1</td>\n",
              "      <td>-1</td>\n",
              "      <td>8</td>\n",
              "      <td>N</td>\n",
              "      <td>TX</td>\n",
              "      <td>2014</td>\n",
              "      <td>11</td>\n",
              "      <td>1</td>\n",
              "      <td>False</td>\n",
              "      <td>False</td>\n",
              "      <td>False</td>\n",
              "      <td>False</td>\n",
              "      <td>False</td>\n",
              "      <td>False</td>\n",
              "      <td>True</td>\n",
              "      <td>True</td>\n",
              "      <td>26.0</td>\n",
              "      <td>0.8870</td>\n",
              "      <td>0.0004</td>\n",
              "      <td>1.2665</td>\n",
              "      <td>10.0</td>\n",
              "      <td>16.0</td>\n",
              "      <td>10.0</td>\n",
              "      <td>16.0</td>\n",
              "      <td>8.0</td>\n",
              "      <td>14.0</td>\n",
              "      <td>9.0</td>\n",
              "      <td>16.0</td>\n",
              "      <td>18.000000</td>\n",
              "      <td>24.0</td>\n",
              "      <td>17.0</td>\n",
              "      <td>24.0</td>\n",
              "      <td>14.0</td>\n",
              "      <td>24.0</td>\n",
              "      <td>22.0</td>\n",
              "      <td>29808.999885</td>\n",
              "      <td>1.000000e+00</td>\n",
              "      <td>17.0</td>\n",
              "      <td>21.0</td>\n",
              "      <td>15.0</td>\n",
              "      <td>21.0</td>\n",
              "      <td>2.0</td>\n",
              "      <td>7.0</td>\n",
              "      <td>2.0</td>\n",
              "      <td>10.0</td>\n",
              "      <td>14.0</td>\n",
              "      <td>8.0</td>\n",
              "      <td>5.0</td>\n",
              "      <td>10.0</td>\n",
              "      <td>10.0</td>\n",
              "      <td>16.0</td>\n",
              "      <td>11.0</td>\n",
              "      <td>16.0</td>\n",
              "      <td>1.0</td>\n",
              "      <td>18.0</td>\n",
              "      <td>23.0</td>\n",
              "      <td>-3.456605e-13</td>\n",
              "      <td>11.0</td>\n",
              "      <td>12.0</td>\n",
              "      <td>2.0</td>\n",
              "      <td>2.0</td>\n",
              "      <td>10.0</td>\n",
              "      <td>8.0</td>\n",
              "      <td>2.0</td>\n",
              "      <td>2.0</td>\n",
              "      <td>14.0</td>\n",
              "      <td>15.0</td>\n",
              "      <td>11.0</td>\n",
              "      <td>19.0</td>\n",
              "      <td>21.0</td>\n",
              "      <td>20.0</td>\n",
              "      <td>12.0</td>\n",
              "      <td>19.0</td>\n",
              "      <td>17.0</td>\n",
              "      <td>20.0</td>\n",
              "      <td>12.0</td>\n",
              "      <td>20.0</td>\n",
              "      <td>19.0</td>\n",
              "      <td>19.0</td>\n",
              "      <td>13.0</td>\n",
              "      <td>20.0</td>\n",
              "      <td>23.0</td>\n",
              "      <td>22.0</td>\n",
              "      <td>10.0</td>\n",
              "      <td>19.0</td>\n",
              "      <td>2.000000</td>\n",
              "      <td>6.0</td>\n",
              "      <td>3.0</td>\n",
              "      <td>7.0</td>\n",
              "      <td>9.0</td>\n",
              "      <td>3.0</td>\n",
              "      <td>5.0</td>\n",
              "      <td>5.0</td>\n",
              "      <td>19.0</td>\n",
              "      <td>20.0</td>\n",
              "      <td>21.0</td>\n",
              "      <td>14.0</td>\n",
              "      <td>11.0</td>\n",
              "      <td>7.0</td>\n",
              "      <td>8.0</td>\n",
              "      <td>18.0</td>\n",
              "      <td>17.0</td>\n",
              "      <td>4.0</td>\n",
              "      <td>4.0</td>\n",
              "      <td>9.0</td>\n",
              "      <td>12.0</td>\n",
              "      <td>5.0</td>\n",
              "      <td>5.0</td>\n",
              "      <td>5.0</td>\n",
              "      <td>5.0</td>\n",
              "      <td>4.0</td>\n",
              "      <td>4.0</td>\n",
              "      <td>6.0</td>\n",
              "      <td>7.0</td>\n",
              "      <td>3.0</td>\n",
              "      <td>2.0</td>\n",
              "      <td>4.0</td>\n",
              "      <td>5.0</td>\n",
              "      <td>5.0</td>\n",
              "      <td>4.0</td>\n",
              "      <td>4.0</td>\n",
              "      <td>9.0</td>\n",
              "      <td>5.0</td>\n",
              "      <td>5.0</td>\n",
              "      <td>6.0</td>\n",
              "      <td>10.0</td>\n",
              "      <td>8.000000</td>\n",
              "      <td>13.0</td>\n",
              "      <td>14.0</td>\n",
              "      <td>10.0</td>\n",
              "      <td>14.0</td>\n",
              "      <td>18.0</td>\n",
              "      <td>25.0</td>\n",
              "      <td>25.0</td>\n",
              "      <td>8.0</td>\n",
              "      <td>4.0</td>\n",
              "      <td>12.0</td>\n",
              "      <td>20.0</td>\n",
              "      <td>13.0</td>\n",
              "      <td>15.0</td>\n",
              "      <td>8.0</td>\n",
              "      <td>15.0</td>\n",
              "      <td>13.0</td>\n",
              "      <td>10.0</td>\n",
              "      <td>18.0</td>\n",
              "      <td>16.0</td>\n",
              "      <td>16.0</td>\n",
              "      <td>14.0</td>\n",
              "      <td>13.0</td>\n",
              "      <td>12.0</td>\n",
              "      <td>12.0</td>\n",
              "      <td>12.0</td>\n",
              "      <td>17.0</td>\n",
              "      <td>12.0</td>\n",
              "      <td>8.0</td>\n",
              "      <td>5.0</td>\n",
              "      <td>4.0</td>\n",
              "      <td>8.0</td>\n",
              "      <td>15.0</td>\n",
              "      <td>18.0</td>\n",
              "      <td>22.0</td>\n",
              "      <td>1.0</td>\n",
              "      <td>1.0</td>\n",
              "      <td>7.0</td>\n",
              "      <td>6.0</td>\n",
              "      <td>1.0</td>\n",
              "      <td>10.0</td>\n",
              "      <td>44.999999</td>\n",
              "      <td>4.000000</td>\n",
              "      <td>307.999995</td>\n",
              "      <td>1.415059e+09</td>\n",
              "      <td>False</td>\n",
              "    </tr>\n",
              "    <tr>\n",
              "      <th>5</th>\n",
              "      <td>B</td>\n",
              "      <td>935</td>\n",
              "      <td>N</td>\n",
              "      <td>13</td>\n",
              "      <td>22</td>\n",
              "      <td>13</td>\n",
              "      <td>23</td>\n",
              "      <td>Y</td>\n",
              "      <td>E</td>\n",
              "      <td>1</td>\n",
              "      <td>5</td>\n",
              "      <td>4</td>\n",
              "      <td>T</td>\n",
              "      <td>0</td>\n",
              "      <td>0</td>\n",
              "      <td>0</td>\n",
              "      <td>0</td>\n",
              "      <td>0</td>\n",
              "      <td>0</td>\n",
              "      <td>1</td>\n",
              "      <td>1</td>\n",
              "      <td>7</td>\n",
              "      <td>0</td>\n",
              "      <td>N</td>\n",
              "      <td>1</td>\n",
              "      <td>2</td>\n",
              "      <td>0</td>\n",
              "      <td>3</td>\n",
              "      <td>2</td>\n",
              "      <td>ZA</td>\n",
              "      <td>ZE</td>\n",
              "      <td>XR</td>\n",
              "      <td>XD</td>\n",
              "      <td>1</td>\n",
              "      <td>0</td>\n",
              "      <td>0</td>\n",
              "      <td>0</td>\n",
              "      <td>0</td>\n",
              "      <td>1</td>\n",
              "      <td>2</td>\n",
              "      <td>2</td>\n",
              "      <td>0</td>\n",
              "      <td>0</td>\n",
              "      <td>1</td>\n",
              "      <td>1</td>\n",
              "      <td>1</td>\n",
              "      <td>0</td>\n",
              "      <td>0</td>\n",
              "      <td>0</td>\n",
              "      <td>0</td>\n",
              "      <td>0</td>\n",
              "      <td>0</td>\n",
              "      <td>0</td>\n",
              "      <td>0</td>\n",
              "      <td>1</td>\n",
              "      <td>0</td>\n",
              "      <td>0</td>\n",
              "      <td>1</td>\n",
              "      <td>1</td>\n",
              "      <td>2</td>\n",
              "      <td>0</td>\n",
              "      <td>0</td>\n",
              "      <td>0</td>\n",
              "      <td>0</td>\n",
              "      <td>1</td>\n",
              "      <td>0</td>\n",
              "      <td>0</td>\n",
              "      <td>0</td>\n",
              "      <td>0</td>\n",
              "      <td>1</td>\n",
              "      <td>0</td>\n",
              "      <td>0</td>\n",
              "      <td>0</td>\n",
              "      <td>0</td>\n",
              "      <td>1</td>\n",
              "      <td>0</td>\n",
              "      <td>0</td>\n",
              "      <td>0</td>\n",
              "      <td>0</td>\n",
              "      <td>1</td>\n",
              "      <td>0</td>\n",
              "      <td>0</td>\n",
              "      <td>0</td>\n",
              "      <td>0</td>\n",
              "      <td>1</td>\n",
              "      <td>0</td>\n",
              "      <td>0</td>\n",
              "      <td>1</td>\n",
              "      <td>1</td>\n",
              "      <td>2</td>\n",
              "      <td>0</td>\n",
              "      <td>0</td>\n",
              "      <td>0</td>\n",
              "      <td>0</td>\n",
              "      <td>1</td>\n",
              "      <td>-1</td>\n",
              "      <td>N</td>\n",
              "      <td>N</td>\n",
              "      <td>Y</td>\n",
              "      <td>0</td>\n",
              "      <td>O</td>\n",
              "      <td>0</td>\n",
              "      <td>0</td>\n",
              "      <td>1</td>\n",
              "      <td>-1</td>\n",
              "      <td>21</td>\n",
              "      <td>2</td>\n",
              "      <td>1</td>\n",
              "      <td>C</td>\n",
              "      <td>2</td>\n",
              "      <td>1</td>\n",
              "      <td>2</td>\n",
              "      <td>0</td>\n",
              "      <td>0</td>\n",
              "      <td>2</td>\n",
              "      <td>1</td>\n",
              "      <td>10</td>\n",
              "      <td>D</td>\n",
              "      <td>N</td>\n",
              "      <td>O</td>\n",
              "      <td>Y</td>\n",
              "      <td>G</td>\n",
              "      <td>Y</td>\n",
              "      <td>2</td>\n",
              "      <td>N</td>\n",
              "      <td>Y</td>\n",
              "      <td>N</td>\n",
              "      <td>-1</td>\n",
              "      <td>13</td>\n",
              "      <td>-1</td>\n",
              "      <td>25</td>\n",
              "      <td>-1</td>\n",
              "      <td>7</td>\n",
              "      <td>-1</td>\n",
              "      <td>-1</td>\n",
              "      <td>-1</td>\n",
              "      <td>15</td>\n",
              "      <td>-1</td>\n",
              "      <td>-1</td>\n",
              "      <td>-1</td>\n",
              "      <td>-1</td>\n",
              "      <td>-1</td>\n",
              "      <td>21</td>\n",
              "      <td>N</td>\n",
              "      <td>CA</td>\n",
              "      <td>2014</td>\n",
              "      <td>9</td>\n",
              "      <td>1</td>\n",
              "      <td>False</td>\n",
              "      <td>False</td>\n",
              "      <td>False</td>\n",
              "      <td>False</td>\n",
              "      <td>False</td>\n",
              "      <td>False</td>\n",
              "      <td>False</td>\n",
              "      <td>True</td>\n",
              "      <td>25.0</td>\n",
              "      <td>0.9153</td>\n",
              "      <td>0.0007</td>\n",
              "      <td>1.0200</td>\n",
              "      <td>9.0</td>\n",
              "      <td>15.0</td>\n",
              "      <td>9.0</td>\n",
              "      <td>15.0</td>\n",
              "      <td>8.0</td>\n",
              "      <td>13.0</td>\n",
              "      <td>8.0</td>\n",
              "      <td>15.0</td>\n",
              "      <td>7.000000</td>\n",
              "      <td>15.0</td>\n",
              "      <td>5.0</td>\n",
              "      <td>14.0</td>\n",
              "      <td>4.0</td>\n",
              "      <td>13.0</td>\n",
              "      <td>11.0</td>\n",
              "      <td>20190.000282</td>\n",
              "      <td>-2.965073e-08</td>\n",
              "      <td>4.0</td>\n",
              "      <td>5.0</td>\n",
              "      <td>5.0</td>\n",
              "      <td>4.0</td>\n",
              "      <td>4.0</td>\n",
              "      <td>24.0</td>\n",
              "      <td>2.0</td>\n",
              "      <td>17.0</td>\n",
              "      <td>21.0</td>\n",
              "      <td>22.0</td>\n",
              "      <td>14.0</td>\n",
              "      <td>22.0</td>\n",
              "      <td>9.0</td>\n",
              "      <td>15.0</td>\n",
              "      <td>9.0</td>\n",
              "      <td>13.0</td>\n",
              "      <td>1.0</td>\n",
              "      <td>16.0</td>\n",
              "      <td>21.0</td>\n",
              "      <td>-3.456605e-13</td>\n",
              "      <td>10.0</td>\n",
              "      <td>10.0</td>\n",
              "      <td>11.0</td>\n",
              "      <td>21.0</td>\n",
              "      <td>15.0</td>\n",
              "      <td>14.0</td>\n",
              "      <td>14.0</td>\n",
              "      <td>16.0</td>\n",
              "      <td>6.0</td>\n",
              "      <td>3.0</td>\n",
              "      <td>2.0</td>\n",
              "      <td>6.0</td>\n",
              "      <td>4.0</td>\n",
              "      <td>6.0</td>\n",
              "      <td>2.0</td>\n",
              "      <td>6.0</td>\n",
              "      <td>2.0</td>\n",
              "      <td>8.0</td>\n",
              "      <td>2.0</td>\n",
              "      <td>4.0</td>\n",
              "      <td>3.0</td>\n",
              "      <td>5.0</td>\n",
              "      <td>2.0</td>\n",
              "      <td>5.0</td>\n",
              "      <td>6.0</td>\n",
              "      <td>6.0</td>\n",
              "      <td>2.0</td>\n",
              "      <td>6.0</td>\n",
              "      <td>21.999999</td>\n",
              "      <td>25.0</td>\n",
              "      <td>24.0</td>\n",
              "      <td>4.0</td>\n",
              "      <td>8.0</td>\n",
              "      <td>6.0</td>\n",
              "      <td>17.0</td>\n",
              "      <td>8.0</td>\n",
              "      <td>6.0</td>\n",
              "      <td>17.0</td>\n",
              "      <td>16.0</td>\n",
              "      <td>19.0</td>\n",
              "      <td>22.0</td>\n",
              "      <td>16.0</td>\n",
              "      <td>19.0</td>\n",
              "      <td>21.0</td>\n",
              "      <td>20.0</td>\n",
              "      <td>9.0</td>\n",
              "      <td>15.0</td>\n",
              "      <td>17.0</td>\n",
              "      <td>23.0</td>\n",
              "      <td>11.0</td>\n",
              "      <td>21.0</td>\n",
              "      <td>21.0</td>\n",
              "      <td>24.0</td>\n",
              "      <td>4.0</td>\n",
              "      <td>5.0</td>\n",
              "      <td>12.0</td>\n",
              "      <td>19.0</td>\n",
              "      <td>10.0</td>\n",
              "      <td>11.0</td>\n",
              "      <td>12.0</td>\n",
              "      <td>20.0</td>\n",
              "      <td>13.0</td>\n",
              "      <td>20.0</td>\n",
              "      <td>4.0</td>\n",
              "      <td>7.0</td>\n",
              "      <td>4.0</td>\n",
              "      <td>3.0</td>\n",
              "      <td>9.0</td>\n",
              "      <td>17.0</td>\n",
              "      <td>2.000000</td>\n",
              "      <td>4.0</td>\n",
              "      <td>14.0</td>\n",
              "      <td>11.0</td>\n",
              "      <td>4.0</td>\n",
              "      <td>3.0</td>\n",
              "      <td>2.0</td>\n",
              "      <td>2.0</td>\n",
              "      <td>9.0</td>\n",
              "      <td>7.0</td>\n",
              "      <td>20.0</td>\n",
              "      <td>22.0</td>\n",
              "      <td>9.0</td>\n",
              "      <td>5.0</td>\n",
              "      <td>9.0</td>\n",
              "      <td>18.0</td>\n",
              "      <td>13.0</td>\n",
              "      <td>10.0</td>\n",
              "      <td>15.0</td>\n",
              "      <td>10.0</td>\n",
              "      <td>16.0</td>\n",
              "      <td>14.0</td>\n",
              "      <td>13.0</td>\n",
              "      <td>12.0</td>\n",
              "      <td>12.0</td>\n",
              "      <td>11.0</td>\n",
              "      <td>15.0</td>\n",
              "      <td>9.0</td>\n",
              "      <td>19.0</td>\n",
              "      <td>21.0</td>\n",
              "      <td>11.0</td>\n",
              "      <td>19.0</td>\n",
              "      <td>20.0</td>\n",
              "      <td>11.0</td>\n",
              "      <td>8.0</td>\n",
              "      <td>8.0</td>\n",
              "      <td>7.0</td>\n",
              "      <td>10.0</td>\n",
              "      <td>10.0</td>\n",
              "      <td>19.0</td>\n",
              "      <td>24.0</td>\n",
              "      <td>36.000000</td>\n",
              "      <td>2.000000</td>\n",
              "      <td>245.000000</td>\n",
              "      <td>1.409616e+09</td>\n",
              "      <td>True</td>\n",
              "    </tr>\n",
              "    <tr>\n",
              "      <th>6</th>\n",
              "      <td>F</td>\n",
              "      <td>564</td>\n",
              "      <td>N</td>\n",
              "      <td>13</td>\n",
              "      <td>22</td>\n",
              "      <td>13</td>\n",
              "      <td>23</td>\n",
              "      <td>Y</td>\n",
              "      <td>E</td>\n",
              "      <td>1</td>\n",
              "      <td>4</td>\n",
              "      <td>3</td>\n",
              "      <td>V</td>\n",
              "      <td>1</td>\n",
              "      <td>0</td>\n",
              "      <td>1</td>\n",
              "      <td>0</td>\n",
              "      <td>0</td>\n",
              "      <td>0</td>\n",
              "      <td>1</td>\n",
              "      <td>1</td>\n",
              "      <td>6</td>\n",
              "      <td>1</td>\n",
              "      <td>N</td>\n",
              "      <td>1</td>\n",
              "      <td>2</td>\n",
              "      <td>0</td>\n",
              "      <td>1</td>\n",
              "      <td>2</td>\n",
              "      <td>XM</td>\n",
              "      <td>ZF</td>\n",
              "      <td>XZ</td>\n",
              "      <td>YF</td>\n",
              "      <td>1</td>\n",
              "      <td>0</td>\n",
              "      <td>0</td>\n",
              "      <td>0</td>\n",
              "      <td>0</td>\n",
              "      <td>0</td>\n",
              "      <td>1</td>\n",
              "      <td>1</td>\n",
              "      <td>0</td>\n",
              "      <td>0</td>\n",
              "      <td>0</td>\n",
              "      <td>0</td>\n",
              "      <td>1</td>\n",
              "      <td>0</td>\n",
              "      <td>0</td>\n",
              "      <td>0</td>\n",
              "      <td>0</td>\n",
              "      <td>0</td>\n",
              "      <td>0</td>\n",
              "      <td>0</td>\n",
              "      <td>0</td>\n",
              "      <td>1</td>\n",
              "      <td>0</td>\n",
              "      <td>0</td>\n",
              "      <td>0</td>\n",
              "      <td>0</td>\n",
              "      <td>1</td>\n",
              "      <td>0</td>\n",
              "      <td>0</td>\n",
              "      <td>0</td>\n",
              "      <td>0</td>\n",
              "      <td>1</td>\n",
              "      <td>0</td>\n",
              "      <td>0</td>\n",
              "      <td>0</td>\n",
              "      <td>0</td>\n",
              "      <td>1</td>\n",
              "      <td>0</td>\n",
              "      <td>0</td>\n",
              "      <td>0</td>\n",
              "      <td>0</td>\n",
              "      <td>1</td>\n",
              "      <td>0</td>\n",
              "      <td>0</td>\n",
              "      <td>0</td>\n",
              "      <td>0</td>\n",
              "      <td>1</td>\n",
              "      <td>0</td>\n",
              "      <td>0</td>\n",
              "      <td>0</td>\n",
              "      <td>0</td>\n",
              "      <td>1</td>\n",
              "      <td>0</td>\n",
              "      <td>0</td>\n",
              "      <td>0</td>\n",
              "      <td>0</td>\n",
              "      <td>1</td>\n",
              "      <td>0</td>\n",
              "      <td>0</td>\n",
              "      <td>0</td>\n",
              "      <td>0</td>\n",
              "      <td>1</td>\n",
              "      <td>-1</td>\n",
              "      <td>N</td>\n",
              "      <td>N</td>\n",
              "      <td>Y</td>\n",
              "      <td>0</td>\n",
              "      <td>R</td>\n",
              "      <td>0</td>\n",
              "      <td>0</td>\n",
              "      <td>1</td>\n",
              "      <td>-1</td>\n",
              "      <td>21</td>\n",
              "      <td>2</td>\n",
              "      <td>0</td>\n",
              "      <td>B</td>\n",
              "      <td>2</td>\n",
              "      <td>0</td>\n",
              "      <td>1</td>\n",
              "      <td>0</td>\n",
              "      <td>0</td>\n",
              "      <td>2</td>\n",
              "      <td>1</td>\n",
              "      <td>10</td>\n",
              "      <td>B</td>\n",
              "      <td>N</td>\n",
              "      <td>N</td>\n",
              "      <td>Y</td>\n",
              "      <td>G</td>\n",
              "      <td>Y</td>\n",
              "      <td>2</td>\n",
              "      <td>N</td>\n",
              "      <td>Y</td>\n",
              "      <td>N</td>\n",
              "      <td>-1</td>\n",
              "      <td>21</td>\n",
              "      <td>-1</td>\n",
              "      <td>25</td>\n",
              "      <td>-1</td>\n",
              "      <td>16</td>\n",
              "      <td>-1</td>\n",
              "      <td>-1</td>\n",
              "      <td>-1</td>\n",
              "      <td>16</td>\n",
              "      <td>-1</td>\n",
              "      <td>-1</td>\n",
              "      <td>-1</td>\n",
              "      <td>-1</td>\n",
              "      <td>-1</td>\n",
              "      <td>8</td>\n",
              "      <td>N</td>\n",
              "      <td>NJ</td>\n",
              "      <td>2013</td>\n",
              "      <td>11</td>\n",
              "      <td>4</td>\n",
              "      <td>False</td>\n",
              "      <td>False</td>\n",
              "      <td>False</td>\n",
              "      <td>False</td>\n",
              "      <td>False</td>\n",
              "      <td>False</td>\n",
              "      <td>True</td>\n",
              "      <td>True</td>\n",
              "      <td>11.0</td>\n",
              "      <td>0.9919</td>\n",
              "      <td>0.0038</td>\n",
              "      <td>1.1886</td>\n",
              "      <td>1.0</td>\n",
              "      <td>1.0</td>\n",
              "      <td>1.0</td>\n",
              "      <td>1.0</td>\n",
              "      <td>2.0</td>\n",
              "      <td>1.0</td>\n",
              "      <td>1.0</td>\n",
              "      <td>1.0</td>\n",
              "      <td>24.000001</td>\n",
              "      <td>25.0</td>\n",
              "      <td>1.0</td>\n",
              "      <td>1.0</td>\n",
              "      <td>6.0</td>\n",
              "      <td>18.0</td>\n",
              "      <td>16.0</td>\n",
              "      <td>50545.000349</td>\n",
              "      <td>2.000000e+00</td>\n",
              "      <td>1.0</td>\n",
              "      <td>1.0</td>\n",
              "      <td>6.0</td>\n",
              "      <td>9.0</td>\n",
              "      <td>1.0</td>\n",
              "      <td>10.0</td>\n",
              "      <td>2.0</td>\n",
              "      <td>13.0</td>\n",
              "      <td>17.0</td>\n",
              "      <td>23.0</td>\n",
              "      <td>2.0</td>\n",
              "      <td>2.0</td>\n",
              "      <td>1.0</td>\n",
              "      <td>1.0</td>\n",
              "      <td>2.0</td>\n",
              "      <td>2.0</td>\n",
              "      <td>1.0</td>\n",
              "      <td>7.0</td>\n",
              "      <td>8.0</td>\n",
              "      <td>-3.456605e-13</td>\n",
              "      <td>24.0</td>\n",
              "      <td>25.0</td>\n",
              "      <td>2.0</td>\n",
              "      <td>4.0</td>\n",
              "      <td>11.0</td>\n",
              "      <td>9.0</td>\n",
              "      <td>4.0</td>\n",
              "      <td>4.0</td>\n",
              "      <td>17.0</td>\n",
              "      <td>19.0</td>\n",
              "      <td>5.0</td>\n",
              "      <td>16.0</td>\n",
              "      <td>10.0</td>\n",
              "      <td>15.0</td>\n",
              "      <td>5.0</td>\n",
              "      <td>16.0</td>\n",
              "      <td>7.0</td>\n",
              "      <td>16.0</td>\n",
              "      <td>4.0</td>\n",
              "      <td>12.0</td>\n",
              "      <td>9.0</td>\n",
              "      <td>14.0</td>\n",
              "      <td>5.0</td>\n",
              "      <td>14.0</td>\n",
              "      <td>11.0</td>\n",
              "      <td>17.0</td>\n",
              "      <td>7.0</td>\n",
              "      <td>16.0</td>\n",
              "      <td>2.000000</td>\n",
              "      <td>9.0</td>\n",
              "      <td>13.0</td>\n",
              "      <td>19.0</td>\n",
              "      <td>18.0</td>\n",
              "      <td>20.0</td>\n",
              "      <td>22.0</td>\n",
              "      <td>16.0</td>\n",
              "      <td>19.0</td>\n",
              "      <td>18.0</td>\n",
              "      <td>17.0</td>\n",
              "      <td>14.0</td>\n",
              "      <td>13.0</td>\n",
              "      <td>7.0</td>\n",
              "      <td>10.0</td>\n",
              "      <td>19.0</td>\n",
              "      <td>18.0</td>\n",
              "      <td>8.0</td>\n",
              "      <td>13.0</td>\n",
              "      <td>11.0</td>\n",
              "      <td>16.0</td>\n",
              "      <td>12.0</td>\n",
              "      <td>22.0</td>\n",
              "      <td>4.0</td>\n",
              "      <td>4.0</td>\n",
              "      <td>6.0</td>\n",
              "      <td>10.0</td>\n",
              "      <td>6.0</td>\n",
              "      <td>7.0</td>\n",
              "      <td>10.0</td>\n",
              "      <td>12.0</td>\n",
              "      <td>12.0</td>\n",
              "      <td>20.0</td>\n",
              "      <td>17.0</td>\n",
              "      <td>23.0</td>\n",
              "      <td>6.0</td>\n",
              "      <td>15.0</td>\n",
              "      <td>12.0</td>\n",
              "      <td>20.0</td>\n",
              "      <td>9.0</td>\n",
              "      <td>18.0</td>\n",
              "      <td>10.000000</td>\n",
              "      <td>16.0</td>\n",
              "      <td>23.0</td>\n",
              "      <td>20.0</td>\n",
              "      <td>12.0</td>\n",
              "      <td>15.0</td>\n",
              "      <td>9.0</td>\n",
              "      <td>10.0</td>\n",
              "      <td>16.0</td>\n",
              "      <td>17.0</td>\n",
              "      <td>6.0</td>\n",
              "      <td>7.0</td>\n",
              "      <td>17.0</td>\n",
              "      <td>19.0</td>\n",
              "      <td>6.0</td>\n",
              "      <td>7.0</td>\n",
              "      <td>13.0</td>\n",
              "      <td>11.0</td>\n",
              "      <td>8.0</td>\n",
              "      <td>2.0</td>\n",
              "      <td>9.0</td>\n",
              "      <td>5.0</td>\n",
              "      <td>14.0</td>\n",
              "      <td>15.0</td>\n",
              "      <td>14.0</td>\n",
              "      <td>13.0</td>\n",
              "      <td>12.0</td>\n",
              "      <td>7.0</td>\n",
              "      <td>12.0</td>\n",
              "      <td>11.0</td>\n",
              "      <td>6.0</td>\n",
              "      <td>11.0</td>\n",
              "      <td>21.0</td>\n",
              "      <td>1.0</td>\n",
              "      <td>1.0</td>\n",
              "      <td>5.0</td>\n",
              "      <td>3.0</td>\n",
              "      <td>13.0</td>\n",
              "      <td>15.0</td>\n",
              "      <td>2.0</td>\n",
              "      <td>5.0</td>\n",
              "      <td>48.000001</td>\n",
              "      <td>29.000000</td>\n",
              "      <td>332.999998</td>\n",
              "      <td>1.385683e+09</td>\n",
              "      <td>True</td>\n",
              "    </tr>\n",
              "    <tr>\n",
              "      <th>7</th>\n",
              "      <td>F</td>\n",
              "      <td>548</td>\n",
              "      <td>N</td>\n",
              "      <td>13</td>\n",
              "      <td>22</td>\n",
              "      <td>13</td>\n",
              "      <td>23</td>\n",
              "      <td>T</td>\n",
              "      <td>E</td>\n",
              "      <td>1</td>\n",
              "      <td>5</td>\n",
              "      <td>5</td>\n",
              "      <td>Q</td>\n",
              "      <td>0</td>\n",
              "      <td>0</td>\n",
              "      <td>0</td>\n",
              "      <td>0</td>\n",
              "      <td>0</td>\n",
              "      <td>0</td>\n",
              "      <td>1</td>\n",
              "      <td>1</td>\n",
              "      <td>6</td>\n",
              "      <td>1</td>\n",
              "      <td>N</td>\n",
              "      <td>1</td>\n",
              "      <td>3</td>\n",
              "      <td>0</td>\n",
              "      <td>5</td>\n",
              "      <td>2</td>\n",
              "      <td>XM</td>\n",
              "      <td>YV</td>\n",
              "      <td>ZW</td>\n",
              "      <td>XC</td>\n",
              "      <td>1</td>\n",
              "      <td>0</td>\n",
              "      <td>0</td>\n",
              "      <td>0</td>\n",
              "      <td>0</td>\n",
              "      <td>0</td>\n",
              "      <td>1</td>\n",
              "      <td>1</td>\n",
              "      <td>0</td>\n",
              "      <td>0</td>\n",
              "      <td>0</td>\n",
              "      <td>0</td>\n",
              "      <td>1</td>\n",
              "      <td>0</td>\n",
              "      <td>0</td>\n",
              "      <td>0</td>\n",
              "      <td>0</td>\n",
              "      <td>0</td>\n",
              "      <td>0</td>\n",
              "      <td>0</td>\n",
              "      <td>0</td>\n",
              "      <td>1</td>\n",
              "      <td>0</td>\n",
              "      <td>0</td>\n",
              "      <td>0</td>\n",
              "      <td>0</td>\n",
              "      <td>1</td>\n",
              "      <td>0</td>\n",
              "      <td>0</td>\n",
              "      <td>0</td>\n",
              "      <td>0</td>\n",
              "      <td>1</td>\n",
              "      <td>0</td>\n",
              "      <td>0</td>\n",
              "      <td>0</td>\n",
              "      <td>0</td>\n",
              "      <td>1</td>\n",
              "      <td>0</td>\n",
              "      <td>0</td>\n",
              "      <td>0</td>\n",
              "      <td>0</td>\n",
              "      <td>1</td>\n",
              "      <td>0</td>\n",
              "      <td>0</td>\n",
              "      <td>0</td>\n",
              "      <td>0</td>\n",
              "      <td>1</td>\n",
              "      <td>0</td>\n",
              "      <td>0</td>\n",
              "      <td>0</td>\n",
              "      <td>0</td>\n",
              "      <td>1</td>\n",
              "      <td>0</td>\n",
              "      <td>0</td>\n",
              "      <td>0</td>\n",
              "      <td>0</td>\n",
              "      <td>1</td>\n",
              "      <td>0</td>\n",
              "      <td>0</td>\n",
              "      <td>0</td>\n",
              "      <td>0</td>\n",
              "      <td>1</td>\n",
              "      <td>-1</td>\n",
              "      <td>N</td>\n",
              "      <td>N</td>\n",
              "      <td>Y</td>\n",
              "      <td>0</td>\n",
              "      <td>R</td>\n",
              "      <td>0</td>\n",
              "      <td>0</td>\n",
              "      <td>1</td>\n",
              "      <td>-1</td>\n",
              "      <td>21</td>\n",
              "      <td>3</td>\n",
              "      <td>0</td>\n",
              "      <td>B</td>\n",
              "      <td>8</td>\n",
              "      <td>0</td>\n",
              "      <td>1</td>\n",
              "      <td>1</td>\n",
              "      <td>0</td>\n",
              "      <td>2</td>\n",
              "      <td>8</td>\n",
              "      <td>4</td>\n",
              "      <td>B</td>\n",
              "      <td>N</td>\n",
              "      <td>O</td>\n",
              "      <td>Y</td>\n",
              "      <td>H</td>\n",
              "      <td>N</td>\n",
              "      <td>2</td>\n",
              "      <td>N</td>\n",
              "      <td>Y</td>\n",
              "      <td>N</td>\n",
              "      <td>-1</td>\n",
              "      <td>15</td>\n",
              "      <td>-1</td>\n",
              "      <td>25</td>\n",
              "      <td>-1</td>\n",
              "      <td>14</td>\n",
              "      <td>-1</td>\n",
              "      <td>-1</td>\n",
              "      <td>-1</td>\n",
              "      <td>22</td>\n",
              "      <td>-1</td>\n",
              "      <td>-1</td>\n",
              "      <td>-1</td>\n",
              "      <td>-1</td>\n",
              "      <td>25</td>\n",
              "      <td>25</td>\n",
              "      <td>N</td>\n",
              "      <td>NJ</td>\n",
              "      <td>2014</td>\n",
              "      <td>4</td>\n",
              "      <td>3</td>\n",
              "      <td>False</td>\n",
              "      <td>False</td>\n",
              "      <td>False</td>\n",
              "      <td>False</td>\n",
              "      <td>False</td>\n",
              "      <td>False</td>\n",
              "      <td>True</td>\n",
              "      <td>True</td>\n",
              "      <td>7.0</td>\n",
              "      <td>1.0006</td>\n",
              "      <td>0.0040</td>\n",
              "      <td>1.2433</td>\n",
              "      <td>8.0</td>\n",
              "      <td>14.0</td>\n",
              "      <td>8.0</td>\n",
              "      <td>14.0</td>\n",
              "      <td>7.0</td>\n",
              "      <td>12.0</td>\n",
              "      <td>8.0</td>\n",
              "      <td>14.0</td>\n",
              "      <td>3.000000</td>\n",
              "      <td>5.0</td>\n",
              "      <td>4.0</td>\n",
              "      <td>13.0</td>\n",
              "      <td>4.0</td>\n",
              "      <td>13.0</td>\n",
              "      <td>11.0</td>\n",
              "      <td>34038.000009</td>\n",
              "      <td>-2.965073e-08</td>\n",
              "      <td>5.0</td>\n",
              "      <td>5.0</td>\n",
              "      <td>-1.0</td>\n",
              "      <td>-1.0</td>\n",
              "      <td>3.0</td>\n",
              "      <td>7.0</td>\n",
              "      <td>2.0</td>\n",
              "      <td>20.0</td>\n",
              "      <td>23.0</td>\n",
              "      <td>19.0</td>\n",
              "      <td>3.0</td>\n",
              "      <td>3.0</td>\n",
              "      <td>8.0</td>\n",
              "      <td>14.0</td>\n",
              "      <td>10.0</td>\n",
              "      <td>15.0</td>\n",
              "      <td>2.0</td>\n",
              "      <td>6.0</td>\n",
              "      <td>8.0</td>\n",
              "      <td>-3.456605e-13</td>\n",
              "      <td>12.0</td>\n",
              "      <td>13.0</td>\n",
              "      <td>2.0</td>\n",
              "      <td>1.0</td>\n",
              "      <td>16.0</td>\n",
              "      <td>16.0</td>\n",
              "      <td>8.0</td>\n",
              "      <td>8.0</td>\n",
              "      <td>7.0</td>\n",
              "      <td>4.0</td>\n",
              "      <td>5.0</td>\n",
              "      <td>16.0</td>\n",
              "      <td>8.0</td>\n",
              "      <td>10.0</td>\n",
              "      <td>5.0</td>\n",
              "      <td>15.0</td>\n",
              "      <td>8.0</td>\n",
              "      <td>16.0</td>\n",
              "      <td>5.0</td>\n",
              "      <td>16.0</td>\n",
              "      <td>8.0</td>\n",
              "      <td>10.0</td>\n",
              "      <td>5.0</td>\n",
              "      <td>16.0</td>\n",
              "      <td>9.0</td>\n",
              "      <td>8.0</td>\n",
              "      <td>5.0</td>\n",
              "      <td>10.0</td>\n",
              "      <td>2.000000</td>\n",
              "      <td>9.0</td>\n",
              "      <td>5.0</td>\n",
              "      <td>22.0</td>\n",
              "      <td>21.0</td>\n",
              "      <td>18.0</td>\n",
              "      <td>20.0</td>\n",
              "      <td>21.0</td>\n",
              "      <td>17.0</td>\n",
              "      <td>11.0</td>\n",
              "      <td>5.0</td>\n",
              "      <td>8.0</td>\n",
              "      <td>3.0</td>\n",
              "      <td>4.0</td>\n",
              "      <td>3.0</td>\n",
              "      <td>11.0</td>\n",
              "      <td>3.0</td>\n",
              "      <td>5.0</td>\n",
              "      <td>5.0</td>\n",
              "      <td>2.0</td>\n",
              "      <td>1.0</td>\n",
              "      <td>10.0</td>\n",
              "      <td>19.0</td>\n",
              "      <td>3.0</td>\n",
              "      <td>3.0</td>\n",
              "      <td>6.0</td>\n",
              "      <td>9.0</td>\n",
              "      <td>3.0</td>\n",
              "      <td>2.0</td>\n",
              "      <td>12.0</td>\n",
              "      <td>16.0</td>\n",
              "      <td>5.0</td>\n",
              "      <td>5.0</td>\n",
              "      <td>9.0</td>\n",
              "      <td>14.0</td>\n",
              "      <td>7.0</td>\n",
              "      <td>16.0</td>\n",
              "      <td>12.0</td>\n",
              "      <td>19.0</td>\n",
              "      <td>10.0</td>\n",
              "      <td>19.0</td>\n",
              "      <td>11.000000</td>\n",
              "      <td>18.0</td>\n",
              "      <td>22.0</td>\n",
              "      <td>19.0</td>\n",
              "      <td>13.0</td>\n",
              "      <td>17.0</td>\n",
              "      <td>10.0</td>\n",
              "      <td>13.0</td>\n",
              "      <td>21.0</td>\n",
              "      <td>22.0</td>\n",
              "      <td>10.0</td>\n",
              "      <td>14.0</td>\n",
              "      <td>20.0</td>\n",
              "      <td>22.0</td>\n",
              "      <td>6.0</td>\n",
              "      <td>6.0</td>\n",
              "      <td>18.0</td>\n",
              "      <td>18.0</td>\n",
              "      <td>15.0</td>\n",
              "      <td>10.0</td>\n",
              "      <td>14.0</td>\n",
              "      <td>10.0</td>\n",
              "      <td>14.0</td>\n",
              "      <td>14.0</td>\n",
              "      <td>14.0</td>\n",
              "      <td>14.0</td>\n",
              "      <td>17.0</td>\n",
              "      <td>13.0</td>\n",
              "      <td>11.0</td>\n",
              "      <td>9.0</td>\n",
              "      <td>9.0</td>\n",
              "      <td>17.0</td>\n",
              "      <td>14.0</td>\n",
              "      <td>17.0</td>\n",
              "      <td>20.0</td>\n",
              "      <td>1.0</td>\n",
              "      <td>1.0</td>\n",
              "      <td>23.0</td>\n",
              "      <td>25.0</td>\n",
              "      <td>10.0</td>\n",
              "      <td>2.0</td>\n",
              "      <td>16.000000</td>\n",
              "      <td>17.000000</td>\n",
              "      <td>107.000001</td>\n",
              "      <td>1.397693e+09</td>\n",
              "      <td>False</td>\n",
              "    </tr>\n",
              "    <tr>\n",
              "      <th>8</th>\n",
              "      <td>B</td>\n",
              "      <td>965</td>\n",
              "      <td>N</td>\n",
              "      <td>13</td>\n",
              "      <td>22</td>\n",
              "      <td>1</td>\n",
              "      <td>6</td>\n",
              "      <td>Y</td>\n",
              "      <td>E</td>\n",
              "      <td>0</td>\n",
              "      <td>4</td>\n",
              "      <td>3</td>\n",
              "      <td>P</td>\n",
              "      <td>0</td>\n",
              "      <td>0</td>\n",
              "      <td>0</td>\n",
              "      <td>0</td>\n",
              "      <td>0</td>\n",
              "      <td>0</td>\n",
              "      <td>0</td>\n",
              "      <td>0</td>\n",
              "      <td>7</td>\n",
              "      <td>0</td>\n",
              "      <td>N</td>\n",
              "      <td>1</td>\n",
              "      <td>2</td>\n",
              "      <td>0</td>\n",
              "      <td>1</td>\n",
              "      <td>2</td>\n",
              "      <td>ZA</td>\n",
              "      <td>ZE</td>\n",
              "      <td>XR</td>\n",
              "      <td>XD</td>\n",
              "      <td>1</td>\n",
              "      <td>0</td>\n",
              "      <td>0</td>\n",
              "      <td>0</td>\n",
              "      <td>0</td>\n",
              "      <td>1</td>\n",
              "      <td>2</td>\n",
              "      <td>3</td>\n",
              "      <td>1</td>\n",
              "      <td>1</td>\n",
              "      <td>1</td>\n",
              "      <td>1</td>\n",
              "      <td>1</td>\n",
              "      <td>0</td>\n",
              "      <td>0</td>\n",
              "      <td>0</td>\n",
              "      <td>0</td>\n",
              "      <td>0</td>\n",
              "      <td>0</td>\n",
              "      <td>0</td>\n",
              "      <td>0</td>\n",
              "      <td>1</td>\n",
              "      <td>1</td>\n",
              "      <td>1</td>\n",
              "      <td>1</td>\n",
              "      <td>1</td>\n",
              "      <td>3</td>\n",
              "      <td>0</td>\n",
              "      <td>0</td>\n",
              "      <td>0</td>\n",
              "      <td>0</td>\n",
              "      <td>1</td>\n",
              "      <td>0</td>\n",
              "      <td>0</td>\n",
              "      <td>0</td>\n",
              "      <td>0</td>\n",
              "      <td>1</td>\n",
              "      <td>0</td>\n",
              "      <td>0</td>\n",
              "      <td>0</td>\n",
              "      <td>0</td>\n",
              "      <td>1</td>\n",
              "      <td>0</td>\n",
              "      <td>0</td>\n",
              "      <td>0</td>\n",
              "      <td>0</td>\n",
              "      <td>1</td>\n",
              "      <td>0</td>\n",
              "      <td>0</td>\n",
              "      <td>0</td>\n",
              "      <td>0</td>\n",
              "      <td>1</td>\n",
              "      <td>1</td>\n",
              "      <td>1</td>\n",
              "      <td>1</td>\n",
              "      <td>1</td>\n",
              "      <td>3</td>\n",
              "      <td>0</td>\n",
              "      <td>0</td>\n",
              "      <td>0</td>\n",
              "      <td>0</td>\n",
              "      <td>1</td>\n",
              "      <td>-1</td>\n",
              "      <td>N</td>\n",
              "      <td>N</td>\n",
              "      <td>Y</td>\n",
              "      <td>0</td>\n",
              "      <td>O</td>\n",
              "      <td>0</td>\n",
              "      <td>0</td>\n",
              "      <td>1</td>\n",
              "      <td>-1</td>\n",
              "      <td>21</td>\n",
              "      <td>2</td>\n",
              "      <td>2</td>\n",
              "      <td>C</td>\n",
              "      <td>4</td>\n",
              "      <td>1</td>\n",
              "      <td>2</td>\n",
              "      <td>0</td>\n",
              "      <td>0</td>\n",
              "      <td>2</td>\n",
              "      <td>1</td>\n",
              "      <td>10</td>\n",
              "      <td>B</td>\n",
              "      <td>N</td>\n",
              "      <td>O</td>\n",
              "      <td>Y</td>\n",
              "      <td>H</td>\n",
              "      <td>Y</td>\n",
              "      <td>2</td>\n",
              "      <td>N</td>\n",
              "      <td>N</td>\n",
              "      <td>N</td>\n",
              "      <td>-1</td>\n",
              "      <td>13</td>\n",
              "      <td>-1</td>\n",
              "      <td>25</td>\n",
              "      <td>-1</td>\n",
              "      <td>9</td>\n",
              "      <td>-1</td>\n",
              "      <td>-1</td>\n",
              "      <td>-1</td>\n",
              "      <td>15</td>\n",
              "      <td>-1</td>\n",
              "      <td>-1</td>\n",
              "      <td>-1</td>\n",
              "      <td>-1</td>\n",
              "      <td>-1</td>\n",
              "      <td>18</td>\n",
              "      <td>N</td>\n",
              "      <td>CA</td>\n",
              "      <td>2013</td>\n",
              "      <td>3</td>\n",
              "      <td>1</td>\n",
              "      <td>False</td>\n",
              "      <td>False</td>\n",
              "      <td>False</td>\n",
              "      <td>False</td>\n",
              "      <td>False</td>\n",
              "      <td>False</td>\n",
              "      <td>False</td>\n",
              "      <td>True</td>\n",
              "      <td>19.0</td>\n",
              "      <td>0.9403</td>\n",
              "      <td>0.0006</td>\n",
              "      <td>1.0200</td>\n",
              "      <td>7.0</td>\n",
              "      <td>12.0</td>\n",
              "      <td>7.0</td>\n",
              "      <td>12.0</td>\n",
              "      <td>10.0</td>\n",
              "      <td>18.0</td>\n",
              "      <td>7.0</td>\n",
              "      <td>12.0</td>\n",
              "      <td>8.000000</td>\n",
              "      <td>17.0</td>\n",
              "      <td>3.0</td>\n",
              "      <td>5.0</td>\n",
              "      <td>3.0</td>\n",
              "      <td>6.0</td>\n",
              "      <td>14.0</td>\n",
              "      <td>33851.000000</td>\n",
              "      <td>-2.965073e-08</td>\n",
              "      <td>25.0</td>\n",
              "      <td>25.0</td>\n",
              "      <td>6.0</td>\n",
              "      <td>13.0</td>\n",
              "      <td>1.0</td>\n",
              "      <td>24.0</td>\n",
              "      <td>2.0</td>\n",
              "      <td>16.0</td>\n",
              "      <td>21.0</td>\n",
              "      <td>9.0</td>\n",
              "      <td>16.0</td>\n",
              "      <td>23.0</td>\n",
              "      <td>7.0</td>\n",
              "      <td>12.0</td>\n",
              "      <td>7.0</td>\n",
              "      <td>9.0</td>\n",
              "      <td>1.0</td>\n",
              "      <td>13.0</td>\n",
              "      <td>18.0</td>\n",
              "      <td>-3.456605e-13</td>\n",
              "      <td>9.0</td>\n",
              "      <td>8.0</td>\n",
              "      <td>11.0</td>\n",
              "      <td>21.0</td>\n",
              "      <td>18.0</td>\n",
              "      <td>18.0</td>\n",
              "      <td>16.0</td>\n",
              "      <td>19.0</td>\n",
              "      <td>10.0</td>\n",
              "      <td>8.0</td>\n",
              "      <td>2.0</td>\n",
              "      <td>7.0</td>\n",
              "      <td>8.0</td>\n",
              "      <td>10.0</td>\n",
              "      <td>2.0</td>\n",
              "      <td>10.0</td>\n",
              "      <td>2.0</td>\n",
              "      <td>3.0</td>\n",
              "      <td>2.0</td>\n",
              "      <td>8.0</td>\n",
              "      <td>6.0</td>\n",
              "      <td>9.0</td>\n",
              "      <td>2.0</td>\n",
              "      <td>9.0</td>\n",
              "      <td>11.0</td>\n",
              "      <td>19.0</td>\n",
              "      <td>3.0</td>\n",
              "      <td>10.0</td>\n",
              "      <td>5.000000</td>\n",
              "      <td>20.0</td>\n",
              "      <td>20.0</td>\n",
              "      <td>5.0</td>\n",
              "      <td>9.0</td>\n",
              "      <td>8.0</td>\n",
              "      <td>18.0</td>\n",
              "      <td>4.0</td>\n",
              "      <td>4.0</td>\n",
              "      <td>13.0</td>\n",
              "      <td>8.0</td>\n",
              "      <td>14.0</td>\n",
              "      <td>11.0</td>\n",
              "      <td>11.0</td>\n",
              "      <td>16.0</td>\n",
              "      <td>14.0</td>\n",
              "      <td>9.0</td>\n",
              "      <td>5.0</td>\n",
              "      <td>6.0</td>\n",
              "      <td>17.0</td>\n",
              "      <td>23.0</td>\n",
              "      <td>7.0</td>\n",
              "      <td>10.0</td>\n",
              "      <td>16.0</td>\n",
              "      <td>23.0</td>\n",
              "      <td>10.0</td>\n",
              "      <td>16.0</td>\n",
              "      <td>17.0</td>\n",
              "      <td>23.0</td>\n",
              "      <td>7.0</td>\n",
              "      <td>5.0</td>\n",
              "      <td>25.0</td>\n",
              "      <td>25.0</td>\n",
              "      <td>15.0</td>\n",
              "      <td>22.0</td>\n",
              "      <td>8.0</td>\n",
              "      <td>18.0</td>\n",
              "      <td>13.0</td>\n",
              "      <td>20.0</td>\n",
              "      <td>2.0</td>\n",
              "      <td>2.0</td>\n",
              "      <td>3.000000</td>\n",
              "      <td>6.0</td>\n",
              "      <td>2.0</td>\n",
              "      <td>4.0</td>\n",
              "      <td>7.0</td>\n",
              "      <td>8.0</td>\n",
              "      <td>11.0</td>\n",
              "      <td>16.0</td>\n",
              "      <td>15.0</td>\n",
              "      <td>17.0</td>\n",
              "      <td>2.0</td>\n",
              "      <td>3.0</td>\n",
              "      <td>10.0</td>\n",
              "      <td>11.0</td>\n",
              "      <td>21.0</td>\n",
              "      <td>23.0</td>\n",
              "      <td>18.0</td>\n",
              "      <td>18.0</td>\n",
              "      <td>18.0</td>\n",
              "      <td>15.0</td>\n",
              "      <td>19.0</td>\n",
              "      <td>19.0</td>\n",
              "      <td>19.0</td>\n",
              "      <td>21.0</td>\n",
              "      <td>19.0</td>\n",
              "      <td>21.0</td>\n",
              "      <td>20.0</td>\n",
              "      <td>18.0</td>\n",
              "      <td>21.0</td>\n",
              "      <td>23.0</td>\n",
              "      <td>5.0</td>\n",
              "      <td>10.0</td>\n",
              "      <td>2.0</td>\n",
              "      <td>16.0</td>\n",
              "      <td>18.0</td>\n",
              "      <td>4.0</td>\n",
              "      <td>3.0</td>\n",
              "      <td>16.0</td>\n",
              "      <td>20.0</td>\n",
              "      <td>23.0</td>\n",
              "      <td>9.0</td>\n",
              "      <td>10.000000</td>\n",
              "      <td>5.000000</td>\n",
              "      <td>64.000001</td>\n",
              "      <td>1.362442e+09</td>\n",
              "      <td>True</td>\n",
              "    </tr>\n",
              "    <tr>\n",
              "      <th>9</th>\n",
              "      <td>J</td>\n",
              "      <td>1,113</td>\n",
              "      <td>N</td>\n",
              "      <td>1</td>\n",
              "      <td>2</td>\n",
              "      <td>1</td>\n",
              "      <td>6</td>\n",
              "      <td>T</td>\n",
              "      <td>I</td>\n",
              "      <td>1</td>\n",
              "      <td>5</td>\n",
              "      <td>5</td>\n",
              "      <td>T</td>\n",
              "      <td>0</td>\n",
              "      <td>0</td>\n",
              "      <td>0</td>\n",
              "      <td>0</td>\n",
              "      <td>0</td>\n",
              "      <td>0</td>\n",
              "      <td>1</td>\n",
              "      <td>1</td>\n",
              "      <td>7</td>\n",
              "      <td>0</td>\n",
              "      <td>N</td>\n",
              "      <td>1</td>\n",
              "      <td>3</td>\n",
              "      <td>0</td>\n",
              "      <td>5</td>\n",
              "      <td>2</td>\n",
              "      <td>ZD</td>\n",
              "      <td>XE</td>\n",
              "      <td>ZN</td>\n",
              "      <td>YF</td>\n",
              "      <td>1</td>\n",
              "      <td>0</td>\n",
              "      <td>0</td>\n",
              "      <td>0</td>\n",
              "      <td>0</td>\n",
              "      <td>0</td>\n",
              "      <td>1</td>\n",
              "      <td>1</td>\n",
              "      <td>0</td>\n",
              "      <td>0</td>\n",
              "      <td>0</td>\n",
              "      <td>0</td>\n",
              "      <td>1</td>\n",
              "      <td>0</td>\n",
              "      <td>0</td>\n",
              "      <td>0</td>\n",
              "      <td>0</td>\n",
              "      <td>0</td>\n",
              "      <td>0</td>\n",
              "      <td>0</td>\n",
              "      <td>0</td>\n",
              "      <td>1</td>\n",
              "      <td>0</td>\n",
              "      <td>0</td>\n",
              "      <td>0</td>\n",
              "      <td>0</td>\n",
              "      <td>1</td>\n",
              "      <td>0</td>\n",
              "      <td>0</td>\n",
              "      <td>0</td>\n",
              "      <td>0</td>\n",
              "      <td>1</td>\n",
              "      <td>0</td>\n",
              "      <td>0</td>\n",
              "      <td>0</td>\n",
              "      <td>0</td>\n",
              "      <td>1</td>\n",
              "      <td>0</td>\n",
              "      <td>0</td>\n",
              "      <td>0</td>\n",
              "      <td>0</td>\n",
              "      <td>1</td>\n",
              "      <td>0</td>\n",
              "      <td>0</td>\n",
              "      <td>0</td>\n",
              "      <td>0</td>\n",
              "      <td>1</td>\n",
              "      <td>0</td>\n",
              "      <td>0</td>\n",
              "      <td>0</td>\n",
              "      <td>0</td>\n",
              "      <td>1</td>\n",
              "      <td>0</td>\n",
              "      <td>0</td>\n",
              "      <td>0</td>\n",
              "      <td>0</td>\n",
              "      <td>1</td>\n",
              "      <td>0</td>\n",
              "      <td>0</td>\n",
              "      <td>0</td>\n",
              "      <td>0</td>\n",
              "      <td>1</td>\n",
              "      <td>-1</td>\n",
              "      <td>N</td>\n",
              "      <td>N</td>\n",
              "      <td>Y</td>\n",
              "      <td>0</td>\n",
              "      <td>R</td>\n",
              "      <td>1</td>\n",
              "      <td>0</td>\n",
              "      <td>1</td>\n",
              "      <td>-1</td>\n",
              "      <td>21</td>\n",
              "      <td>4</td>\n",
              "      <td>2</td>\n",
              "      <td>C</td>\n",
              "      <td>4</td>\n",
              "      <td>0</td>\n",
              "      <td>2</td>\n",
              "      <td>1</td>\n",
              "      <td>0</td>\n",
              "      <td>2</td>\n",
              "      <td>1</td>\n",
              "      <td>6</td>\n",
              "      <td>B</td>\n",
              "      <td>N</td>\n",
              "      <td>M</td>\n",
              "      <td>Y</td>\n",
              "      <td>F</td>\n",
              "      <td>N</td>\n",
              "      <td>2</td>\n",
              "      <td>N</td>\n",
              "      <td>Y</td>\n",
              "      <td>N</td>\n",
              "      <td>25</td>\n",
              "      <td>25</td>\n",
              "      <td>-1</td>\n",
              "      <td>25</td>\n",
              "      <td>-1</td>\n",
              "      <td>22</td>\n",
              "      <td>-1</td>\n",
              "      <td>-1</td>\n",
              "      <td>-1</td>\n",
              "      <td>15</td>\n",
              "      <td>-1</td>\n",
              "      <td>-1</td>\n",
              "      <td>-1</td>\n",
              "      <td>-1</td>\n",
              "      <td>-1</td>\n",
              "      <td>9</td>\n",
              "      <td>N</td>\n",
              "      <td>TX</td>\n",
              "      <td>2014</td>\n",
              "      <td>9</td>\n",
              "      <td>2</td>\n",
              "      <td>False</td>\n",
              "      <td>False</td>\n",
              "      <td>False</td>\n",
              "      <td>False</td>\n",
              "      <td>False</td>\n",
              "      <td>False</td>\n",
              "      <td>True</td>\n",
              "      <td>True</td>\n",
              "      <td>26.0</td>\n",
              "      <td>0.8928</td>\n",
              "      <td>0.0004</td>\n",
              "      <td>1.2665</td>\n",
              "      <td>5.0</td>\n",
              "      <td>6.0</td>\n",
              "      <td>5.0</td>\n",
              "      <td>6.0</td>\n",
              "      <td>4.0</td>\n",
              "      <td>5.0</td>\n",
              "      <td>4.0</td>\n",
              "      <td>6.0</td>\n",
              "      <td>5.000000</td>\n",
              "      <td>10.0</td>\n",
              "      <td>12.0</td>\n",
              "      <td>23.0</td>\n",
              "      <td>16.0</td>\n",
              "      <td>24.0</td>\n",
              "      <td>11.0</td>\n",
              "      <td>23712.000008</td>\n",
              "      <td>-2.965073e-08</td>\n",
              "      <td>3.0</td>\n",
              "      <td>3.0</td>\n",
              "      <td>-1.0</td>\n",
              "      <td>-1.0</td>\n",
              "      <td>4.0</td>\n",
              "      <td>13.0</td>\n",
              "      <td>2.0</td>\n",
              "      <td>3.0</td>\n",
              "      <td>4.0</td>\n",
              "      <td>13.0</td>\n",
              "      <td>3.0</td>\n",
              "      <td>4.0</td>\n",
              "      <td>5.0</td>\n",
              "      <td>6.0</td>\n",
              "      <td>12.0</td>\n",
              "      <td>18.0</td>\n",
              "      <td>2.0</td>\n",
              "      <td>8.0</td>\n",
              "      <td>10.0</td>\n",
              "      <td>-3.456605e-13</td>\n",
              "      <td>25.0</td>\n",
              "      <td>25.0</td>\n",
              "      <td>2.0</td>\n",
              "      <td>3.0</td>\n",
              "      <td>6.0</td>\n",
              "      <td>4.0</td>\n",
              "      <td>8.0</td>\n",
              "      <td>8.0</td>\n",
              "      <td>16.0</td>\n",
              "      <td>18.0</td>\n",
              "      <td>13.0</td>\n",
              "      <td>21.0</td>\n",
              "      <td>20.0</td>\n",
              "      <td>19.0</td>\n",
              "      <td>14.0</td>\n",
              "      <td>20.0</td>\n",
              "      <td>21.0</td>\n",
              "      <td>23.0</td>\n",
              "      <td>11.0</td>\n",
              "      <td>20.0</td>\n",
              "      <td>19.0</td>\n",
              "      <td>19.0</td>\n",
              "      <td>12.0</td>\n",
              "      <td>20.0</td>\n",
              "      <td>23.0</td>\n",
              "      <td>20.0</td>\n",
              "      <td>15.0</td>\n",
              "      <td>23.0</td>\n",
              "      <td>2.000000</td>\n",
              "      <td>6.0</td>\n",
              "      <td>5.0</td>\n",
              "      <td>10.0</td>\n",
              "      <td>12.0</td>\n",
              "      <td>8.0</td>\n",
              "      <td>18.0</td>\n",
              "      <td>10.0</td>\n",
              "      <td>19.0</td>\n",
              "      <td>20.0</td>\n",
              "      <td>21.0</td>\n",
              "      <td>13.0</td>\n",
              "      <td>11.0</td>\n",
              "      <td>10.0</td>\n",
              "      <td>15.0</td>\n",
              "      <td>15.0</td>\n",
              "      <td>9.0</td>\n",
              "      <td>5.0</td>\n",
              "      <td>5.0</td>\n",
              "      <td>8.0</td>\n",
              "      <td>11.0</td>\n",
              "      <td>3.0</td>\n",
              "      <td>2.0</td>\n",
              "      <td>11.0</td>\n",
              "      <td>17.0</td>\n",
              "      <td>5.0</td>\n",
              "      <td>7.0</td>\n",
              "      <td>6.0</td>\n",
              "      <td>7.0</td>\n",
              "      <td>2.0</td>\n",
              "      <td>2.0</td>\n",
              "      <td>7.0</td>\n",
              "      <td>12.0</td>\n",
              "      <td>2.0</td>\n",
              "      <td>2.0</td>\n",
              "      <td>5.0</td>\n",
              "      <td>11.0</td>\n",
              "      <td>2.0</td>\n",
              "      <td>1.0</td>\n",
              "      <td>5.0</td>\n",
              "      <td>9.0</td>\n",
              "      <td>1.000000</td>\n",
              "      <td>1.0</td>\n",
              "      <td>14.0</td>\n",
              "      <td>12.0</td>\n",
              "      <td>7.0</td>\n",
              "      <td>7.0</td>\n",
              "      <td>18.0</td>\n",
              "      <td>23.0</td>\n",
              "      <td>8.0</td>\n",
              "      <td>5.0</td>\n",
              "      <td>12.0</td>\n",
              "      <td>20.0</td>\n",
              "      <td>5.0</td>\n",
              "      <td>2.0</td>\n",
              "      <td>8.0</td>\n",
              "      <td>15.0</td>\n",
              "      <td>7.0</td>\n",
              "      <td>4.0</td>\n",
              "      <td>19.0</td>\n",
              "      <td>17.0</td>\n",
              "      <td>18.0</td>\n",
              "      <td>18.0</td>\n",
              "      <td>9.0</td>\n",
              "      <td>6.0</td>\n",
              "      <td>9.0</td>\n",
              "      <td>7.0</td>\n",
              "      <td>18.0</td>\n",
              "      <td>15.0</td>\n",
              "      <td>5.0</td>\n",
              "      <td>2.0</td>\n",
              "      <td>5.0</td>\n",
              "      <td>10.0</td>\n",
              "      <td>18.0</td>\n",
              "      <td>17.0</td>\n",
              "      <td>20.0</td>\n",
              "      <td>13.0</td>\n",
              "      <td>16.0</td>\n",
              "      <td>5.0</td>\n",
              "      <td>4.0</td>\n",
              "      <td>4.0</td>\n",
              "      <td>11.0</td>\n",
              "      <td>37.000000</td>\n",
              "      <td>10.000000</td>\n",
              "      <td>253.000002</td>\n",
              "      <td>1.410307e+09</td>\n",
              "      <td>False</td>\n",
              "    </tr>\n",
              "  </tbody>\n",
              "</table>"
            ],
            "text/plain": [
              "<IPython.core.display.HTML object>"
            ]
          },
          "metadata": {
            "tags": []
          }
        }
      ]
    },
    {
      "cell_type": "code",
      "metadata": {
        "id": "TVh0csB_tiDm"
      },
      "source": [
        "learn = tabular_learner(dls, metrics=roc_auc_binary)"
      ],
      "id": "TVh0csB_tiDm",
      "execution_count": null,
      "outputs": []
    },
    {
      "cell_type": "code",
      "metadata": {
        "colab": {
          "base_uri": "https://localhost:8080/",
          "height": 306
        },
        "id": "VPDKfQ8CtiDm",
        "outputId": "ba54c6dc-217c-444d-e469-051853829bb0"
      },
      "source": [
        "learn.lr_find(start_lr=1e-07, end_lr=1000,suggest_funcs=(valley, slide, minimum, steep))"
      ],
      "id": "VPDKfQ8CtiDm",
      "execution_count": null,
      "outputs": [
        {
          "output_type": "display_data",
          "data": {
            "text/html": [
              ""
            ],
            "text/plain": [
              "<IPython.core.display.HTML object>"
            ]
          },
          "metadata": {
            "tags": []
          }
        },
        {
          "output_type": "execute_result",
          "data": {
            "text/plain": [
              "SuggestedLRs(valley=tensor(0.0006), slide=tensor(0.0158), minimum=0.05011872053146362, steep=0.05011872202157974)"
            ]
          },
          "metadata": {
            "tags": []
          },
          "execution_count": 93
        },
        {
          "output_type": "display_data",
          "data": {
            "image/png": "[encoded data removed]",
            "text/plain": [
              "<Figure size 432x288 with 1 Axes>"
            ]
          },
          "metadata": {
            "tags": [],
            "needs_background": "light"
          }
        }
      ]
    },
    {
      "cell_type": "code",
      "metadata": {
        "colab": {
          "base_uri": "https://localhost:8080/",
          "height": 202
        },
        "id": "3tKNC4OBtiDn",
        "outputId": "f501358c-fb57-4558-a09d-2c96d13f9006"
      },
      "source": [
        "learn.fit_one_cycle(epochs,lr, wd=wd)"
      ],
      "id": "3tKNC4OBtiDn",
      "execution_count": null,
      "outputs": [
        {
          "output_type": "display_data",
          "data": {
            "text/html": [
              "<table border=\"1\" class=\"dataframe\">\n",
              "  <thead>\n",
              "    <tr style=\"text-align: left;\">\n",
              "      <th>epoch</th>\n",
              "      <th>train_loss</th>\n",
              "      <th>valid_loss</th>\n",
              "      <th>roc_auc_score</th>\n",
              "      <th>time</th>\n",
              "    </tr>\n",
              "  </thead>\n",
              "  <tbody>\n",
              "    <tr>\n",
              "      <td>0</td>\n",
              "      <td>0.456341</td>\n",
              "      <td>0.247990</td>\n",
              "      <td>0.941812</td>\n",
              "      <td>00:06</td>\n",
              "    </tr>\n",
              "    <tr>\n",
              "      <td>1</td>\n",
              "      <td>0.267133</td>\n",
              "      <td>0.186897</td>\n",
              "      <td>0.959354</td>\n",
              "      <td>00:05</td>\n",
              "    </tr>\n",
              "    <tr>\n",
              "      <td>2</td>\n",
              "      <td>0.210462</td>\n",
              "      <td>0.183059</td>\n",
              "      <td>0.959837</td>\n",
              "      <td>00:06</td>\n",
              "    </tr>\n",
              "    <tr>\n",
              "      <td>3</td>\n",
              "      <td>0.185436</td>\n",
              "      <td>0.177092</td>\n",
              "      <td>0.962110</td>\n",
              "      <td>00:06</td>\n",
              "    </tr>\n",
              "    <tr>\n",
              "      <td>4</td>\n",
              "      <td>0.171974</td>\n",
              "      <td>0.176068</td>\n",
              "      <td>0.962788</td>\n",
              "      <td>00:06</td>\n",
              "    </tr>\n",
              "  </tbody>\n",
              "</table>"
            ],
            "text/plain": [
              "<IPython.core.display.HTML object>"
            ]
          },
          "metadata": {
            "tags": []
          }
        }
      ]
    },
    {
      "cell_type": "code",
      "metadata": {
        "id": "6Fc8ItWE4MCo"
      },
      "source": [
        "preds, targs = learn.get_preds()\n"
      ],
      "id": "6Fc8ItWE4MCo",
      "execution_count": null,
      "outputs": []
    },
    {
      "cell_type": "code",
      "metadata": {
        "id": "LYqy7-ZI4BP-"
      },
      "source": [
        "dl_roc_auc_score=roc_auc_score(to_np(targs), to_np(preds[:,1]))"
      ],
      "id": "LYqy7-ZI4BP-",
      "execution_count": null,
      "outputs": []
    },
    {
      "cell_type": "markdown",
      "metadata": {
        "id": "-st5EELUHGCm"
      },
      "source": [
        "## DL Permutation Importance"
      ],
      "id": "-st5EELUHGCm"
    },
    {
      "cell_type": "code",
      "metadata": {
        "id": "c0e2f60a-0d7d-448b-b4fd-daa6848b7348"
      },
      "source": [
        "class PermutationImportance():\n",
        "  \"Calculate and plot the permutation importance\"\n",
        "  def __init__(self, learn:Learner, df=None, bs=None):\n",
        "    \"Initialize with a test dataframe, a learner, and a metric\"\n",
        "    self.learn = learn\n",
        "    self.df = df if df is not None else None\n",
        "    bs = bs if bs is not None else learn.dls.bs\n",
        "    self.dl = learn.dls.test_dl(self.df, bs=bs) if self.df is not None else learn.dls[1]\n",
        "    self.x_names = learn.dls.x_names.filter(lambda x: '_na' not in x)\n",
        "    self.na = learn.dls.x_names.filter(lambda x: '_na' in x)\n",
        "    self.y = dls.y_names\n",
        "    self.results = self.calc_feat_importance()\n",
        "    self.plot_importance(self.ord_dic_to_df(self.results))\n",
        "\n",
        "  def measure_col(self, name:str):\n",
        "    \"Measures change after column shuffle\"\n",
        "    col = [name]\n",
        "    if f'{name}_na' in self.na: col.append(name)\n",
        "    orig = self.dl.items[col].values\n",
        "    perm = np.random.permutation(len(orig))\n",
        "    self.dl.items[col] = self.dl.items[col].values[perm]\n",
        "    metric = learn.validate(dl=self.dl)[1]\n",
        "    self.dl.items[col] = orig\n",
        "    return metric\n",
        "\n",
        "  def calc_feat_importance(self):\n",
        "    \"Calculates permutation importance by shuffling a column on a percentage scale\"\n",
        "    print('Getting base error')\n",
        "    base_error = self.learn.validate(dl=self.dl)[1]\n",
        "    self.importance = {}\n",
        "    pbar = progress_bar(self.x_names)\n",
        "    print('Calculating Permutation Importance')\n",
        "    for col in pbar:\n",
        "      self.importance[col] = self.measure_col(col)\n",
        "    for key, value in self.importance.items():\n",
        "      self.importance[key] = (base_error-value)/base_error #this can be adjusted\n",
        "    return OrderedDict(sorted(self.importance.items(), key=lambda kv: kv[1], reverse=True))\n",
        "\n",
        "  def ord_dic_to_df(self, dict:OrderedDict):\n",
        "    return pd.DataFrame([[k, v] for k, v in dict.items()], columns=['feature', 'importance'])\n",
        "\n",
        "  def plot_importance(self, df:pd.DataFrame, limit=30, asc=False, **kwargs):\n",
        "    \"Plot importance with an optional limit to how many variables shown\"\n",
        "    df_copy = df.copy()\n",
        "    df_copy['feature'] = df_copy['feature'].str.slice(0,25)\n",
        "    df_copy = df_copy.sort_values(by='importance', ascending=asc)[:limit].sort_values(by='importance', ascending=not(asc))\n",
        "    ax = df_copy.plot.barh(x='feature', y='importance', sort_columns=True, **kwargs)\n",
        "    for p in ax.patches:\n",
        "      ax.annotate(f'{p.get_width():.4f}', ((p.get_width() * 1.005), p.get_y()  * 1.005))"
      ],
      "id": "c0e2f60a-0d7d-448b-b4fd-daa6848b7348",
      "execution_count": null,
      "outputs": []
    },
    {
      "cell_type": "code",
      "metadata": {
        "id": "0cc0efb7-7e49-40cf-8696-4f8fd3f2b8de",
        "colab": {
          "base_uri": "https://localhost:8080/"
        },
        "outputId": "043848e9-b1bf-42b7-b229-7495e8136e88"
      },
      "source": [
        "imp = PermutationImportance(learn)"
      ],
      "id": "0cc0efb7-7e49-40cf-8696-4f8fd3f2b8de",
      "execution_count": null,
      "outputs": [
        {
          "output_type": "stream",
          "text": [
            "Getting base error\n"
          ],
          "name": "stdout"
        },
        {
          "output_type": "display_data",
          "data": {
            "text/html": [
              ""
            ],
            "text/plain": [
              "<IPython.core.display.HTML object>"
            ]
          },
          "metadata": {
            "tags": []
          }
        },
        {
          "output_type": "stream",
          "text": [
            "Calculating Permutation Importance\n"
          ],
          "name": "stdout"
        },
        {
          "output_type": "display_data",
          "data": {
            "text/html": [
              "\n",
              "    <div>\n",
              "        <style>\n",
              "            /* Turns off some styling */\n",
              "            progress {\n",
              "                /* gets rid of default border in Firefox and Opera. */\n",
              "                border: none;\n",
              "                /* Needs to be in here for Safari polyfill so background images work as expected. */\n",
              "                background-size: auto;\n",
              "            }\n",
              "            .progress-bar-interrupted, .progress-bar-interrupted::-webkit-progress-bar {\n",
              "                background: #F44336;\n",
              "            }\n",
              "        </style>\n",
              "      <progress value='309' class='' max='309' style='width:300px; height:20px; vertical-align: middle;'></progress>\n",
              "      100.00% [309/309 09:06<00:00]\n",
              "    </div>\n",
              "    "
            ],
            "text/plain": [
              "<IPython.core.display.HTML object>"
            ]
          },
          "metadata": {
            "tags": []
          }
        },
        {
          "output_type": "display_data",
          "data": {
            "text/html": [
              ""
            ],
            "text/plain": [
              "<IPython.core.display.HTML object>"
            ]
          },
          "metadata": {
            "tags": []
          }
        },
        {
          "output_type": "display_data",
          "data": {
            "text/html": [
              ""
            ],
            "text/plain": [
              "<IPython.core.display.HTML object>"
            ]
          },
          "metadata": {
            "tags": []
          }
        },
        {
          "output_type": "display_data",
          "data": {
            "text/html": [
              ""
            ],
            "text/plain": [
              "<IPython.core.display.HTML object>"
            ]
          },
          "metadata": {
            "tags": []
          }
        },
        {
          "output_type": "display_data",
          "data": {
            "text/html": [
              ""
            ],
            "text/plain": [
              "<IPython.core.display.HTML object>"
            ]
          },
          "metadata": {
            "tags": []
          }
        },
        {
          "output_type": "display_data",
          "data": {
            "text/html": [
              ""
            ],
            "text/plain": [
              "<IPython.core.display.HTML object>"
            ]
          },
          "metadata": {
            "tags": []
          }
        },
        {
          "output_type": "display_data",
          "data": {
            "text/html": [
              ""
            ],
            "text/plain": [
              "<IPython.core.display.HTML object>"
            ]
          },
          "metadata": {
            "tags": []
          }
        },
        {
          "output_type": "display_data",
          "data": {
            "text/html": [
              ""
            ],
            "text/plain": [
              "<IPython.core.display.HTML object>"
            ]
          },
          "metadata": {
            "tags": []
          }
        },
        {
          "output_type": "display_data",
          "data": {
            "text/html": [
              ""
            ],
            "text/plain": [
              "<IPython.core.display.HTML object>"
            ]
          },
          "metadata": {
            "tags": []
          }
        },
        {
          "output_type": "display_data",
          "data": {
            "text/html": [
              ""
            ],
            "text/plain": [
              "<IPython.core.display.HTML object>"
            ]
          },
          "metadata": {
            "tags": []
          }
        },
        {
          "output_type": "display_data",
          "data": {
            "text/html": [
              ""
            ],
            "text/plain": [
              "<IPython.core.display.HTML object>"
            ]
          },
          "metadata": {
            "tags": []
          }
        },
        {
          "output_type": "display_data",
          "data": {
            "text/html": [
              ""
            ],
            "text/plain": [
              "<IPython.core.display.HTML object>"
            ]
          },
          "metadata": {
            "tags": []
          }
        },
        {
          "output_type": "display_data",
          "data": {
            "text/html": [
              ""
            ],
            "text/plain": [
              "<IPython.core.display.HTML object>"
            ]
          },
          "metadata": {
            "tags": []
          }
        },
        {
          "output_type": "display_data",
          "data": {
            "text/html": [
              ""
            ],
            "text/plain": [
              "<IPython.core.display.HTML object>"
            ]
          },
          "metadata": {
            "tags": []
          }
        },
        {
          "output_type": "display_data",
          "data": {
            "text/html": [
              ""
            ],
            "text/plain": [
              "<IPython.core.display.HTML object>"
            ]
          },
          "metadata": {
            "tags": []
          }
        },
        {
          "output_type": "display_data",
          "data": {
            "text/html": [
              ""
            ],
            "text/plain": [
              "<IPython.core.display.HTML object>"
            ]
          },
          "metadata": {
            "tags": []
          }
        },
        {
          "output_type": "display_data",
          "data": {
            "text/html": [
              ""
            ],
            "text/plain": [
              "<IPython.core.display.HTML object>"
            ]
          },
          "metadata": {
            "tags": []
          }
        },
        {
          "output_type": "display_data",
          "data": {
            "text/html": [
              ""
            ],
            "text/plain": [
              "<IPython.core.display.HTML object>"
            ]
          },
          "metadata": {
            "tags": []
          }
        },
        {
          "output_type": "display_data",
          "data": {
            "text/html": [
              ""
            ],
            "text/plain": [
              "<IPython.core.display.HTML object>"
            ]
          },
          "metadata": {
            "tags": []
          }
        },
        {
          "output_type": "display_data",
          "data": {
            "text/html": [
              ""
            ],
            "text/plain": [
              "<IPython.core.display.HTML object>"
            ]
          },
          "metadata": {
            "tags": []
          }
        },
        {
          "output_type": "display_data",
          "data": {
            "text/html": [
              ""
            ],
            "text/plain": [
              "<IPython.core.display.HTML object>"
            ]
          },
          "metadata": {
            "tags": []
          }
        },
        {
          "output_type": "display_data",
          "data": {
            "text/html": [
              ""
            ],
            "text/plain": [
              "<IPython.core.display.HTML object>"
            ]
          },
          "metadata": {
            "tags": []
          }
        },
        {
          "output_type": "display_data",
          "data": {
            "text/html": [
              ""
            ],
            "text/plain": [
              "<IPython.core.display.HTML object>"
            ]
          },
          "metadata": {
            "tags": []
          }
        },
        {
          "output_type": "display_data",
          "data": {
            "text/html": [
              ""
            ],
            "text/plain": [
              "<IPython.core.display.HTML object>"
            ]
          },
          "metadata": {
            "tags": []
          }
        },
        {
          "output_type": "display_data",
          "data": {
            "text/html": [
              ""
            ],
            "text/plain": [
              "<IPython.core.display.HTML object>"
            ]
          },
          "metadata": {
            "tags": []
          }
        },
        {
          "output_type": "display_data",
          "data": {
            "text/html": [
              ""
            ],
            "text/plain": [
              "<IPython.core.display.HTML object>"
            ]
          },
          "metadata": {
            "tags": []
          }
        },
        {
          "output_type": "display_data",
          "data": {
            "text/html": [
              ""
            ],
            "text/plain": [
              "<IPython.core.display.HTML object>"
            ]
          },
          "metadata": {
            "tags": []
          }
        },
        {
          "output_type": "display_data",
          "data": {
            "text/html": [
              ""
            ],
            "text/plain": [
              "<IPython.core.display.HTML object>"
            ]
          },
          "metadata": {
            "tags": []
          }
        },
        {
          "output_type": "display_data",
          "data": {
            "text/html": [
              ""
            ],
            "text/plain": [
              "<IPython.core.display.HTML object>"
            ]
          },
          "metadata": {
            "tags": []
          }
        },
        {
          "output_type": "display_data",
          "data": {
            "text/html": [
              ""
            ],
            "text/plain": [
              "<IPython.core.display.HTML object>"
            ]
          },
          "metadata": {
            "tags": []
          }
        },
        {
          "output_type": "display_data",
          "data": {
            "text/html": [
              ""
            ],
            "text/plain": [
              "<IPython.core.display.HTML object>"
            ]
          },
          "metadata": {
            "tags": []
          }
        },
        {
          "output_type": "display_data",
          "data": {
            "text/html": [
              ""
            ],
            "text/plain": [
              "<IPython.core.display.HTML object>"
            ]
          },
          "metadata": {
            "tags": []
          }
        },
        {
          "output_type": "display_data",
          "data": {
            "text/html": [
              ""
            ],
            "text/plain": [
              "<IPython.core.display.HTML object>"
            ]
          },
          "metadata": {
            "tags": []
          }
        },
        {
          "output_type": "display_data",
          "data": {
            "text/html": [
              ""
            ],
            "text/plain": [
              "<IPython.core.display.HTML object>"
            ]
          },
          "metadata": {
            "tags": []
          }
        },
        {
          "output_type": "display_data",
          "data": {
            "text/html": [
              ""
            ],
            "text/plain": [
              "<IPython.core.display.HTML object>"
            ]
          },
          "metadata": {
            "tags": []
          }
        },
        {
          "output_type": "display_data",
          "data": {
            "text/html": [
              ""
            ],
            "text/plain": [
              "<IPython.core.display.HTML object>"
            ]
          },
          "metadata": {
            "tags": []
          }
        },
        {
          "output_type": "display_data",
          "data": {
            "text/html": [
              ""
            ],
            "text/plain": [
              "<IPython.core.display.HTML object>"
            ]
          },
          "metadata": {
            "tags": []
          }
        },
        {
          "output_type": "display_data",
          "data": {
            "text/html": [
              ""
            ],
            "text/plain": [
              "<IPython.core.display.HTML object>"
            ]
          },
          "metadata": {
            "tags": []
          }
        },
        {
          "output_type": "display_data",
          "data": {
            "text/html": [
              ""
            ],
            "text/plain": [
              "<IPython.core.display.HTML object>"
            ]
          },
          "metadata": {
            "tags": []
          }
        },
        {
          "output_type": "display_data",
          "data": {
            "text/html": [
              ""
            ],
            "text/plain": [
              "<IPython.core.display.HTML object>"
            ]
          },
          "metadata": {
            "tags": []
          }
        },
        {
          "output_type": "display_data",
          "data": {
            "text/html": [
              ""
            ],
            "text/plain": [
              "<IPython.core.display.HTML object>"
            ]
          },
          "metadata": {
            "tags": []
          }
        },
        {
          "output_type": "display_data",
          "data": {
            "text/html": [
              ""
            ],
            "text/plain": [
              "<IPython.core.display.HTML object>"
            ]
          },
          "metadata": {
            "tags": []
          }
        },
        {
          "output_type": "display_data",
          "data": {
            "text/html": [
              ""
            ],
            "text/plain": [
              "<IPython.core.display.HTML object>"
            ]
          },
          "metadata": {
            "tags": []
          }
        },
        {
          "output_type": "display_data",
          "data": {
            "text/html": [
              ""
            ],
            "text/plain": [
              "<IPython.core.display.HTML object>"
            ]
          },
          "metadata": {
            "tags": []
          }
        },
        {
          "output_type": "display_data",
          "data": {
            "text/html": [
              ""
            ],
            "text/plain": [
              "<IPython.core.display.HTML object>"
            ]
          },
          "metadata": {
            "tags": []
          }
        },
        {
          "output_type": "display_data",
          "data": {
            "text/html": [
              ""
            ],
            "text/plain": [
              "<IPython.core.display.HTML object>"
            ]
          },
          "metadata": {
            "tags": []
          }
        },
        {
          "output_type": "display_data",
          "data": {
            "text/html": [
              ""
            ],
            "text/plain": [
              "<IPython.core.display.HTML object>"
            ]
          },
          "metadata": {
            "tags": []
          }
        },
        {
          "output_type": "display_data",
          "data": {
            "text/html": [
              ""
            ],
            "text/plain": [
              "<IPython.core.display.HTML object>"
            ]
          },
          "metadata": {
            "tags": []
          }
        },
        {
          "output_type": "display_data",
          "data": {
            "text/html": [
              ""
            ],
            "text/plain": [
              "<IPython.core.display.HTML object>"
            ]
          },
          "metadata": {
            "tags": []
          }
        },
        {
          "output_type": "display_data",
          "data": {
            "text/html": [
              ""
            ],
            "text/plain": [
              "<IPython.core.display.HTML object>"
            ]
          },
          "metadata": {
            "tags": []
          }
        },
        {
          "output_type": "display_data",
          "data": {
            "text/html": [
              ""
            ],
            "text/plain": [
              "<IPython.core.display.HTML object>"
            ]
          },
          "metadata": {
            "tags": []
          }
        },
        {
          "output_type": "display_data",
          "data": {
            "text/html": [
              ""
            ],
            "text/plain": [
              "<IPython.core.display.HTML object>"
            ]
          },
          "metadata": {
            "tags": []
          }
        },
        {
          "output_type": "display_data",
          "data": {
            "text/html": [
              ""
            ],
            "text/plain": [
              "<IPython.core.display.HTML object>"
            ]
          },
          "metadata": {
            "tags": []
          }
        },
        {
          "output_type": "display_data",
          "data": {
            "text/html": [
              ""
            ],
            "text/plain": [
              "<IPython.core.display.HTML object>"
            ]
          },
          "metadata": {
            "tags": []
          }
        },
        {
          "output_type": "display_data",
          "data": {
            "text/html": [
              ""
            ],
            "text/plain": [
              "<IPython.core.display.HTML object>"
            ]
          },
          "metadata": {
            "tags": []
          }
        },
        {
          "output_type": "display_data",
          "data": {
            "text/html": [
              ""
            ],
            "text/plain": [
              "<IPython.core.display.HTML object>"
            ]
          },
          "metadata": {
            "tags": []
          }
        },
        {
          "output_type": "display_data",
          "data": {
            "text/html": [
              ""
            ],
            "text/plain": [
              "<IPython.core.display.HTML object>"
            ]
          },
          "metadata": {
            "tags": []
          }
        },
        {
          "output_type": "display_data",
          "data": {
            "text/html": [
              ""
            ],
            "text/plain": [
              "<IPython.core.display.HTML object>"
            ]
          },
          "metadata": {
            "tags": []
          }
        },
        {
          "output_type": "display_data",
          "data": {
            "text/html": [
              ""
            ],
            "text/plain": [
              "<IPython.core.display.HTML object>"
            ]
          },
          "metadata": {
            "tags": []
          }
        },
        {
          "output_type": "display_data",
          "data": {
            "text/html": [
              ""
            ],
            "text/plain": [
              "<IPython.core.display.HTML object>"
            ]
          },
          "metadata": {
            "tags": []
          }
        },
        {
          "output_type": "display_data",
          "data": {
            "text/html": [
              ""
            ],
            "text/plain": [
              "<IPython.core.display.HTML object>"
            ]
          },
          "metadata": {
            "tags": []
          }
        },
        {
          "output_type": "display_data",
          "data": {
            "text/html": [
              ""
            ],
            "text/plain": [
              "<IPython.core.display.HTML object>"
            ]
          },
          "metadata": {
            "tags": []
          }
        },
        {
          "output_type": "display_data",
          "data": {
            "text/html": [
              ""
            ],
            "text/plain": [
              "<IPython.core.display.HTML object>"
            ]
          },
          "metadata": {
            "tags": []
          }
        },
        {
          "output_type": "display_data",
          "data": {
            "text/html": [
              ""
            ],
            "text/plain": [
              "<IPython.core.display.HTML object>"
            ]
          },
          "metadata": {
            "tags": []
          }
        },
        {
          "output_type": "display_data",
          "data": {
            "text/html": [
              ""
            ],
            "text/plain": [
              "<IPython.core.display.HTML object>"
            ]
          },
          "metadata": {
            "tags": []
          }
        },
        {
          "output_type": "display_data",
          "data": {
            "text/html": [
              ""
            ],
            "text/plain": [
              "<IPython.core.display.HTML object>"
            ]
          },
          "metadata": {
            "tags": []
          }
        },
        {
          "output_type": "display_data",
          "data": {
            "text/html": [
              ""
            ],
            "text/plain": [
              "<IPython.core.display.HTML object>"
            ]
          },
          "metadata": {
            "tags": []
          }
        },
        {
          "output_type": "display_data",
          "data": {
            "text/html": [
              ""
            ],
            "text/plain": [
              "<IPython.core.display.HTML object>"
            ]
          },
          "metadata": {
            "tags": []
          }
        },
        {
          "output_type": "display_data",
          "data": {
            "text/html": [
              ""
            ],
            "text/plain": [
              "<IPython.core.display.HTML object>"
            ]
          },
          "metadata": {
            "tags": []
          }
        },
        {
          "output_type": "display_data",
          "data": {
            "text/html": [
              ""
            ],
            "text/plain": [
              "<IPython.core.display.HTML object>"
            ]
          },
          "metadata": {
            "tags": []
          }
        },
        {
          "output_type": "display_data",
          "data": {
            "text/html": [
              ""
            ],
            "text/plain": [
              "<IPython.core.display.HTML object>"
            ]
          },
          "metadata": {
            "tags": []
          }
        },
        {
          "output_type": "display_data",
          "data": {
            "text/html": [
              ""
            ],
            "text/plain": [
              "<IPython.core.display.HTML object>"
            ]
          },
          "metadata": {
            "tags": []
          }
        },
        {
          "output_type": "display_data",
          "data": {
            "text/html": [
              ""
            ],
            "text/plain": [
              "<IPython.core.display.HTML object>"
            ]
          },
          "metadata": {
            "tags": []
          }
        },
        {
          "output_type": "display_data",
          "data": {
            "text/html": [
              ""
            ],
            "text/plain": [
              "<IPython.core.display.HTML object>"
            ]
          },
          "metadata": {
            "tags": []
          }
        },
        {
          "output_type": "display_data",
          "data": {
            "text/html": [
              ""
            ],
            "text/plain": [
              "<IPython.core.display.HTML object>"
            ]
          },
          "metadata": {
            "tags": []
          }
        },
        {
          "output_type": "display_data",
          "data": {
            "text/html": [
              ""
            ],
            "text/plain": [
              "<IPython.core.display.HTML object>"
            ]
          },
          "metadata": {
            "tags": []
          }
        },
        {
          "output_type": "display_data",
          "data": {
            "text/html": [
              ""
            ],
            "text/plain": [
              "<IPython.core.display.HTML object>"
            ]
          },
          "metadata": {
            "tags": []
          }
        },
        {
          "output_type": "display_data",
          "data": {
            "text/html": [
              ""
            ],
            "text/plain": [
              "<IPython.core.display.HTML object>"
            ]
          },
          "metadata": {
            "tags": []
          }
        },
        {
          "output_type": "display_data",
          "data": {
            "text/html": [
              ""
            ],
            "text/plain": [
              "<IPython.core.display.HTML object>"
            ]
          },
          "metadata": {
            "tags": []
          }
        },
        {
          "output_type": "display_data",
          "data": {
            "text/html": [
              ""
            ],
            "text/plain": [
              "<IPython.core.display.HTML object>"
            ]
          },
          "metadata": {
            "tags": []
          }
        },
        {
          "output_type": "display_data",
          "data": {
            "text/html": [
              ""
            ],
            "text/plain": [
              "<IPython.core.display.HTML object>"
            ]
          },
          "metadata": {
            "tags": []
          }
        },
        {
          "output_type": "display_data",
          "data": {
            "text/html": [
              ""
            ],
            "text/plain": [
              "<IPython.core.display.HTML object>"
            ]
          },
          "metadata": {
            "tags": []
          }
        },
        {
          "output_type": "display_data",
          "data": {
            "text/html": [
              ""
            ],
            "text/plain": [
              "<IPython.core.display.HTML object>"
            ]
          },
          "metadata": {
            "tags": []
          }
        },
        {
          "output_type": "display_data",
          "data": {
            "text/html": [
              ""
            ],
            "text/plain": [
              "<IPython.core.display.HTML object>"
            ]
          },
          "metadata": {
            "tags": []
          }
        },
        {
          "output_type": "display_data",
          "data": {
            "text/html": [
              ""
            ],
            "text/plain": [
              "<IPython.core.display.HTML object>"
            ]
          },
          "metadata": {
            "tags": []
          }
        },
        {
          "output_type": "display_data",
          "data": {
            "text/html": [
              ""
            ],
            "text/plain": [
              "<IPython.core.display.HTML object>"
            ]
          },
          "metadata": {
            "tags": []
          }
        },
        {
          "output_type": "display_data",
          "data": {
            "text/html": [
              ""
            ],
            "text/plain": [
              "<IPython.core.display.HTML object>"
            ]
          },
          "metadata": {
            "tags": []
          }
        },
        {
          "output_type": "display_data",
          "data": {
            "text/html": [
              ""
            ],
            "text/plain": [
              "<IPython.core.display.HTML object>"
            ]
          },
          "metadata": {
            "tags": []
          }
        },
        {
          "output_type": "display_data",
          "data": {
            "text/html": [
              ""
            ],
            "text/plain": [
              "<IPython.core.display.HTML object>"
            ]
          },
          "metadata": {
            "tags": []
          }
        },
        {
          "output_type": "display_data",
          "data": {
            "text/html": [
              ""
            ],
            "text/plain": [
              "<IPython.core.display.HTML object>"
            ]
          },
          "metadata": {
            "tags": []
          }
        },
        {
          "output_type": "display_data",
          "data": {
            "text/html": [
              ""
            ],
            "text/plain": [
              "<IPython.core.display.HTML object>"
            ]
          },
          "metadata": {
            "tags": []
          }
        },
        {
          "output_type": "display_data",
          "data": {
            "text/html": [
              ""
            ],
            "text/plain": [
              "<IPython.core.display.HTML object>"
            ]
          },
          "metadata": {
            "tags": []
          }
        },
        {
          "output_type": "display_data",
          "data": {
            "text/html": [
              ""
            ],
            "text/plain": [
              "<IPython.core.display.HTML object>"
            ]
          },
          "metadata": {
            "tags": []
          }
        },
        {
          "output_type": "display_data",
          "data": {
            "text/html": [
              ""
            ],
            "text/plain": [
              "<IPython.core.display.HTML object>"
            ]
          },
          "metadata": {
            "tags": []
          }
        },
        {
          "output_type": "display_data",
          "data": {
            "text/html": [
              ""
            ],
            "text/plain": [
              "<IPython.core.display.HTML object>"
            ]
          },
          "metadata": {
            "tags": []
          }
        },
        {
          "output_type": "display_data",
          "data": {
            "text/html": [
              ""
            ],
            "text/plain": [
              "<IPython.core.display.HTML object>"
            ]
          },
          "metadata": {
            "tags": []
          }
        },
        {
          "output_type": "display_data",
          "data": {
            "text/html": [
              ""
            ],
            "text/plain": [
              "<IPython.core.display.HTML object>"
            ]
          },
          "metadata": {
            "tags": []
          }
        },
        {
          "output_type": "display_data",
          "data": {
            "text/html": [
              ""
            ],
            "text/plain": [
              "<IPython.core.display.HTML object>"
            ]
          },
          "metadata": {
            "tags": []
          }
        },
        {
          "output_type": "display_data",
          "data": {
            "text/html": [
              ""
            ],
            "text/plain": [
              "<IPython.core.display.HTML object>"
            ]
          },
          "metadata": {
            "tags": []
          }
        },
        {
          "output_type": "display_data",
          "data": {
            "text/html": [
              ""
            ],
            "text/plain": [
              "<IPython.core.display.HTML object>"
            ]
          },
          "metadata": {
            "tags": []
          }
        },
        {
          "output_type": "display_data",
          "data": {
            "text/html": [
              ""
            ],
            "text/plain": [
              "<IPython.core.display.HTML object>"
            ]
          },
          "metadata": {
            "tags": []
          }
        },
        {
          "output_type": "display_data",
          "data": {
            "text/html": [
              ""
            ],
            "text/plain": [
              "<IPython.core.display.HTML object>"
            ]
          },
          "metadata": {
            "tags": []
          }
        },
        {
          "output_type": "display_data",
          "data": {
            "text/html": [
              ""
            ],
            "text/plain": [
              "<IPython.core.display.HTML object>"
            ]
          },
          "metadata": {
            "tags": []
          }
        },
        {
          "output_type": "display_data",
          "data": {
            "text/html": [
              ""
            ],
            "text/plain": [
              "<IPython.core.display.HTML object>"
            ]
          },
          "metadata": {
            "tags": []
          }
        },
        {
          "output_type": "display_data",
          "data": {
            "text/html": [
              ""
            ],
            "text/plain": [
              "<IPython.core.display.HTML object>"
            ]
          },
          "metadata": {
            "tags": []
          }
        },
        {
          "output_type": "display_data",
          "data": {
            "text/html": [
              ""
            ],
            "text/plain": [
              "<IPython.core.display.HTML object>"
            ]
          },
          "metadata": {
            "tags": []
          }
        },
        {
          "output_type": "display_data",
          "data": {
            "text/html": [
              ""
            ],
            "text/plain": [
              "<IPython.core.display.HTML object>"
            ]
          },
          "metadata": {
            "tags": []
          }
        },
        {
          "output_type": "display_data",
          "data": {
            "text/html": [
              ""
            ],
            "text/plain": [
              "<IPython.core.display.HTML object>"
            ]
          },
          "metadata": {
            "tags": []
          }
        },
        {
          "output_type": "display_data",
          "data": {
            "text/html": [
              ""
            ],
            "text/plain": [
              "<IPython.core.display.HTML object>"
            ]
          },
          "metadata": {
            "tags": []
          }
        },
        {
          "output_type": "display_data",
          "data": {
            "text/html": [
              ""
            ],
            "text/plain": [
              "<IPython.core.display.HTML object>"
            ]
          },
          "metadata": {
            "tags": []
          }
        },
        {
          "output_type": "display_data",
          "data": {
            "text/html": [
              ""
            ],
            "text/plain": [
              "<IPython.core.display.HTML object>"
            ]
          },
          "metadata": {
            "tags": []
          }
        },
        {
          "output_type": "display_data",
          "data": {
            "text/html": [
              ""
            ],
            "text/plain": [
              "<IPython.core.display.HTML object>"
            ]
          },
          "metadata": {
            "tags": []
          }
        },
        {
          "output_type": "display_data",
          "data": {
            "text/html": [
              ""
            ],
            "text/plain": [
              "<IPython.core.display.HTML object>"
            ]
          },
          "metadata": {
            "tags": []
          }
        },
        {
          "output_type": "display_data",
          "data": {
            "text/html": [
              ""
            ],
            "text/plain": [
              "<IPython.core.display.HTML object>"
            ]
          },
          "metadata": {
            "tags": []
          }
        },
        {
          "output_type": "display_data",
          "data": {
            "text/html": [
              ""
            ],
            "text/plain": [
              "<IPython.core.display.HTML object>"
            ]
          },
          "metadata": {
            "tags": []
          }
        },
        {
          "output_type": "display_data",
          "data": {
            "text/html": [
              ""
            ],
            "text/plain": [
              "<IPython.core.display.HTML object>"
            ]
          },
          "metadata": {
            "tags": []
          }
        },
        {
          "output_type": "display_data",
          "data": {
            "text/html": [
              ""
            ],
            "text/plain": [
              "<IPython.core.display.HTML object>"
            ]
          },
          "metadata": {
            "tags": []
          }
        },
        {
          "output_type": "display_data",
          "data": {
            "text/html": [
              ""
            ],
            "text/plain": [
              "<IPython.core.display.HTML object>"
            ]
          },
          "metadata": {
            "tags": []
          }
        },
        {
          "output_type": "display_data",
          "data": {
            "text/html": [
              ""
            ],
            "text/plain": [
              "<IPython.core.display.HTML object>"
            ]
          },
          "metadata": {
            "tags": []
          }
        },
        {
          "output_type": "display_data",
          "data": {
            "text/html": [
              ""
            ],
            "text/plain": [
              "<IPython.core.display.HTML object>"
            ]
          },
          "metadata": {
            "tags": []
          }
        },
        {
          "output_type": "display_data",
          "data": {
            "text/html": [
              ""
            ],
            "text/plain": [
              "<IPython.core.display.HTML object>"
            ]
          },
          "metadata": {
            "tags": []
          }
        },
        {
          "output_type": "display_data",
          "data": {
            "text/html": [
              ""
            ],
            "text/plain": [
              "<IPython.core.display.HTML object>"
            ]
          },
          "metadata": {
            "tags": []
          }
        },
        {
          "output_type": "display_data",
          "data": {
            "text/html": [
              ""
            ],
            "text/plain": [
              "<IPython.core.display.HTML object>"
            ]
          },
          "metadata": {
            "tags": []
          }
        },
        {
          "output_type": "display_data",
          "data": {
            "text/html": [
              ""
            ],
            "text/plain": [
              "<IPython.core.display.HTML object>"
            ]
          },
          "metadata": {
            "tags": []
          }
        },
        {
          "output_type": "display_data",
          "data": {
            "text/html": [
              ""
            ],
            "text/plain": [
              "<IPython.core.display.HTML object>"
            ]
          },
          "metadata": {
            "tags": []
          }
        },
        {
          "output_type": "display_data",
          "data": {
            "text/html": [
              ""
            ],
            "text/plain": [
              "<IPython.core.display.HTML object>"
            ]
          },
          "metadata": {
            "tags": []
          }
        },
        {
          "output_type": "display_data",
          "data": {
            "text/html": [
              ""
            ],
            "text/plain": [
              "<IPython.core.display.HTML object>"
            ]
          },
          "metadata": {
            "tags": []
          }
        },
        {
          "output_type": "display_data",
          "data": {
            "text/html": [
              ""
            ],
            "text/plain": [
              "<IPython.core.display.HTML object>"
            ]
          },
          "metadata": {
            "tags": []
          }
        },
        {
          "output_type": "display_data",
          "data": {
            "text/html": [
              ""
            ],
            "text/plain": [
              "<IPython.core.display.HTML object>"
            ]
          },
          "metadata": {
            "tags": []
          }
        },
        {
          "output_type": "display_data",
          "data": {
            "text/html": [
              ""
            ],
            "text/plain": [
              "<IPython.core.display.HTML object>"
            ]
          },
          "metadata": {
            "tags": []
          }
        },
        {
          "output_type": "display_data",
          "data": {
            "text/html": [
              ""
            ],
            "text/plain": [
              "<IPython.core.display.HTML object>"
            ]
          },
          "metadata": {
            "tags": []
          }
        },
        {
          "output_type": "display_data",
          "data": {
            "text/html": [
              ""
            ],
            "text/plain": [
              "<IPython.core.display.HTML object>"
            ]
          },
          "metadata": {
            "tags": []
          }
        },
        {
          "output_type": "display_data",
          "data": {
            "text/html": [
              ""
            ],
            "text/plain": [
              "<IPython.core.display.HTML object>"
            ]
          },
          "metadata": {
            "tags": []
          }
        },
        {
          "output_type": "display_data",
          "data": {
            "text/html": [
              ""
            ],
            "text/plain": [
              "<IPython.core.display.HTML object>"
            ]
          },
          "metadata": {
            "tags": []
          }
        },
        {
          "output_type": "display_data",
          "data": {
            "text/html": [
              ""
            ],
            "text/plain": [
              "<IPython.core.display.HTML object>"
            ]
          },
          "metadata": {
            "tags": []
          }
        },
        {
          "output_type": "display_data",
          "data": {
            "text/html": [
              ""
            ],
            "text/plain": [
              "<IPython.core.display.HTML object>"
            ]
          },
          "metadata": {
            "tags": []
          }
        },
        {
          "output_type": "display_data",
          "data": {
            "text/html": [
              ""
            ],
            "text/plain": [
              "<IPython.core.display.HTML object>"
            ]
          },
          "metadata": {
            "tags": []
          }
        },
        {
          "output_type": "display_data",
          "data": {
            "text/html": [
              ""
            ],
            "text/plain": [
              "<IPython.core.display.HTML object>"
            ]
          },
          "metadata": {
            "tags": []
          }
        },
        {
          "output_type": "display_data",
          "data": {
            "text/html": [
              ""
            ],
            "text/plain": [
              "<IPython.core.display.HTML object>"
            ]
          },
          "metadata": {
            "tags": []
          }
        },
        {
          "output_type": "display_data",
          "data": {
            "text/html": [
              ""
            ],
            "text/plain": [
              "<IPython.core.display.HTML object>"
            ]
          },
          "metadata": {
            "tags": []
          }
        },
        {
          "output_type": "display_data",
          "data": {
            "text/html": [
              ""
            ],
            "text/plain": [
              "<IPython.core.display.HTML object>"
            ]
          },
          "metadata": {
            "tags": []
          }
        },
        {
          "output_type": "display_data",
          "data": {
            "text/html": [
              ""
            ],
            "text/plain": [
              "<IPython.core.display.HTML object>"
            ]
          },
          "metadata": {
            "tags": []
          }
        },
        {
          "output_type": "display_data",
          "data": {
            "text/html": [
              ""
            ],
            "text/plain": [
              "<IPython.core.display.HTML object>"
            ]
          },
          "metadata": {
            "tags": []
          }
        },
        {
          "output_type": "display_data",
          "data": {
            "text/html": [
              ""
            ],
            "text/plain": [
              "<IPython.core.display.HTML object>"
            ]
          },
          "metadata": {
            "tags": []
          }
        },
        {
          "output_type": "display_data",
          "data": {
            "text/html": [
              ""
            ],
            "text/plain": [
              "<IPython.core.display.HTML object>"
            ]
          },
          "metadata": {
            "tags": []
          }
        },
        {
          "output_type": "display_data",
          "data": {
            "text/html": [
              ""
            ],
            "text/plain": [
              "<IPython.core.display.HTML object>"
            ]
          },
          "metadata": {
            "tags": []
          }
        },
        {
          "output_type": "display_data",
          "data": {
            "text/html": [
              ""
            ],
            "text/plain": [
              "<IPython.core.display.HTML object>"
            ]
          },
          "metadata": {
            "tags": []
          }
        },
        {
          "output_type": "display_data",
          "data": {
            "text/html": [
              ""
            ],
            "text/plain": [
              "<IPython.core.display.HTML object>"
            ]
          },
          "metadata": {
            "tags": []
          }
        },
        {
          "output_type": "display_data",
          "data": {
            "text/html": [
              ""
            ],
            "text/plain": [
              "<IPython.core.display.HTML object>"
            ]
          },
          "metadata": {
            "tags": []
          }
        },
        {
          "output_type": "display_data",
          "data": {
            "text/html": [
              ""
            ],
            "text/plain": [
              "<IPython.core.display.HTML object>"
            ]
          },
          "metadata": {
            "tags": []
          }
        },
        {
          "output_type": "display_data",
          "data": {
            "text/html": [
              ""
            ],
            "text/plain": [
              "<IPython.core.display.HTML object>"
            ]
          },
          "metadata": {
            "tags": []
          }
        },
        {
          "output_type": "display_data",
          "data": {
            "text/html": [
              ""
            ],
            "text/plain": [
              "<IPython.core.display.HTML object>"
            ]
          },
          "metadata": {
            "tags": []
          }
        },
        {
          "output_type": "display_data",
          "data": {
            "text/html": [
              ""
            ],
            "text/plain": [
              "<IPython.core.display.HTML object>"
            ]
          },
          "metadata": {
            "tags": []
          }
        },
        {
          "output_type": "display_data",
          "data": {
            "text/html": [
              ""
            ],
            "text/plain": [
              "<IPython.core.display.HTML object>"
            ]
          },
          "metadata": {
            "tags": []
          }
        },
        {
          "output_type": "display_data",
          "data": {
            "text/html": [
              ""
            ],
            "text/plain": [
              "<IPython.core.display.HTML object>"
            ]
          },
          "metadata": {
            "tags": []
          }
        },
        {
          "output_type": "display_data",
          "data": {
            "text/html": [
              ""
            ],
            "text/plain": [
              "<IPython.core.display.HTML object>"
            ]
          },
          "metadata": {
            "tags": []
          }
        },
        {
          "output_type": "display_data",
          "data": {
            "text/html": [
              ""
            ],
            "text/plain": [
              "<IPython.core.display.HTML object>"
            ]
          },
          "metadata": {
            "tags": []
          }
        },
        {
          "output_type": "display_data",
          "data": {
            "text/html": [
              ""
            ],
            "text/plain": [
              "<IPython.core.display.HTML object>"
            ]
          },
          "metadata": {
            "tags": []
          }
        },
        {
          "output_type": "display_data",
          "data": {
            "text/html": [
              ""
            ],
            "text/plain": [
              "<IPython.core.display.HTML object>"
            ]
          },
          "metadata": {
            "tags": []
          }
        },
        {
          "output_type": "display_data",
          "data": {
            "text/html": [
              ""
            ],
            "text/plain": [
              "<IPython.core.display.HTML object>"
            ]
          },
          "metadata": {
            "tags": []
          }
        },
        {
          "output_type": "display_data",
          "data": {
            "text/html": [
              ""
            ],
            "text/plain": [
              "<IPython.core.display.HTML object>"
            ]
          },
          "metadata": {
            "tags": []
          }
        },
        {
          "output_type": "display_data",
          "data": {
            "text/html": [
              ""
            ],
            "text/plain": [
              "<IPython.core.display.HTML object>"
            ]
          },
          "metadata": {
            "tags": []
          }
        },
        {
          "output_type": "display_data",
          "data": {
            "text/html": [
              ""
            ],
            "text/plain": [
              "<IPython.core.display.HTML object>"
            ]
          },
          "metadata": {
            "tags": []
          }
        },
        {
          "output_type": "display_data",
          "data": {
            "text/html": [
              ""
            ],
            "text/plain": [
              "<IPython.core.display.HTML object>"
            ]
          },
          "metadata": {
            "tags": []
          }
        },
        {
          "output_type": "display_data",
          "data": {
            "text/html": [
              ""
            ],
            "text/plain": [
              "<IPython.core.display.HTML object>"
            ]
          },
          "metadata": {
            "tags": []
          }
        },
        {
          "output_type": "display_data",
          "data": {
            "text/html": [
              ""
            ],
            "text/plain": [
              "<IPython.core.display.HTML object>"
            ]
          },
          "metadata": {
            "tags": []
          }
        },
        {
          "output_type": "display_data",
          "data": {
            "text/html": [
              ""
            ],
            "text/plain": [
              "<IPython.core.display.HTML object>"
            ]
          },
          "metadata": {
            "tags": []
          }
        },
        {
          "output_type": "display_data",
          "data": {
            "text/html": [
              ""
            ],
            "text/plain": [
              "<IPython.core.display.HTML object>"
            ]
          },
          "metadata": {
            "tags": []
          }
        },
        {
          "output_type": "display_data",
          "data": {
            "text/html": [
              ""
            ],
            "text/plain": [
              "<IPython.core.display.HTML object>"
            ]
          },
          "metadata": {
            "tags": []
          }
        },
        {
          "output_type": "display_data",
          "data": {
            "text/html": [
              ""
            ],
            "text/plain": [
              "<IPython.core.display.HTML object>"
            ]
          },
          "metadata": {
            "tags": []
          }
        },
        {
          "output_type": "display_data",
          "data": {
            "text/html": [
              ""
            ],
            "text/plain": [
              "<IPython.core.display.HTML object>"
            ]
          },
          "metadata": {
            "tags": []
          }
        },
        {
          "output_type": "display_data",
          "data": {
            "text/html": [
              ""
            ],
            "text/plain": [
              "<IPython.core.display.HTML object>"
            ]
          },
          "metadata": {
            "tags": []
          }
        },
        {
          "output_type": "display_data",
          "data": {
            "text/html": [
              ""
            ],
            "text/plain": [
              "<IPython.core.display.HTML object>"
            ]
          },
          "metadata": {
            "tags": []
          }
        },
        {
          "output_type": "display_data",
          "data": {
            "text/html": [
              ""
            ],
            "text/plain": [
              "<IPython.core.display.HTML object>"
            ]
          },
          "metadata": {
            "tags": []
          }
        },
        {
          "output_type": "display_data",
          "data": {
            "text/html": [
              ""
            ],
            "text/plain": [
              "<IPython.core.display.HTML object>"
            ]
          },
          "metadata": {
            "tags": []
          }
        },
        {
          "output_type": "display_data",
          "data": {
            "text/html": [
              ""
            ],
            "text/plain": [
              "<IPython.core.display.HTML object>"
            ]
          },
          "metadata": {
            "tags": []
          }
        },
        {
          "output_type": "display_data",
          "data": {
            "text/html": [
              ""
            ],
            "text/plain": [
              "<IPython.core.display.HTML object>"
            ]
          },
          "metadata": {
            "tags": []
          }
        },
        {
          "output_type": "display_data",
          "data": {
            "text/html": [
              ""
            ],
            "text/plain": [
              "<IPython.core.display.HTML object>"
            ]
          },
          "metadata": {
            "tags": []
          }
        },
        {
          "output_type": "display_data",
          "data": {
            "text/html": [
              ""
            ],
            "text/plain": [
              "<IPython.core.display.HTML object>"
            ]
          },
          "metadata": {
            "tags": []
          }
        },
        {
          "output_type": "display_data",
          "data": {
            "text/html": [
              ""
            ],
            "text/plain": [
              "<IPython.core.display.HTML object>"
            ]
          },
          "metadata": {
            "tags": []
          }
        },
        {
          "output_type": "display_data",
          "data": {
            "text/html": [
              ""
            ],
            "text/plain": [
              "<IPython.core.display.HTML object>"
            ]
          },
          "metadata": {
            "tags": []
          }
        },
        {
          "output_type": "display_data",
          "data": {
            "text/html": [
              ""
            ],
            "text/plain": [
              "<IPython.core.display.HTML object>"
            ]
          },
          "metadata": {
            "tags": []
          }
        },
        {
          "output_type": "display_data",
          "data": {
            "text/html": [
              ""
            ],
            "text/plain": [
              "<IPython.core.display.HTML object>"
            ]
          },
          "metadata": {
            "tags": []
          }
        },
        {
          "output_type": "display_data",
          "data": {
            "text/html": [
              ""
            ],
            "text/plain": [
              "<IPython.core.display.HTML object>"
            ]
          },
          "metadata": {
            "tags": []
          }
        },
        {
          "output_type": "display_data",
          "data": {
            "text/html": [
              ""
            ],
            "text/plain": [
              "<IPython.core.display.HTML object>"
            ]
          },
          "metadata": {
            "tags": []
          }
        },
        {
          "output_type": "display_data",
          "data": {
            "text/html": [
              ""
            ],
            "text/plain": [
              "<IPython.core.display.HTML object>"
            ]
          },
          "metadata": {
            "tags": []
          }
        },
        {
          "output_type": "display_data",
          "data": {
            "text/html": [
              ""
            ],
            "text/plain": [
              "<IPython.core.display.HTML object>"
            ]
          },
          "metadata": {
            "tags": []
          }
        },
        {
          "output_type": "display_data",
          "data": {
            "text/html": [
              ""
            ],
            "text/plain": [
              "<IPython.core.display.HTML object>"
            ]
          },
          "metadata": {
            "tags": []
          }
        },
        {
          "output_type": "display_data",
          "data": {
            "text/html": [
              ""
            ],
            "text/plain": [
              "<IPython.core.display.HTML object>"
            ]
          },
          "metadata": {
            "tags": []
          }
        },
        {
          "output_type": "display_data",
          "data": {
            "text/html": [
              ""
            ],
            "text/plain": [
              "<IPython.core.display.HTML object>"
            ]
          },
          "metadata": {
            "tags": []
          }
        },
        {
          "output_type": "display_data",
          "data": {
            "text/html": [
              ""
            ],
            "text/plain": [
              "<IPython.core.display.HTML object>"
            ]
          },
          "metadata": {
            "tags": []
          }
        },
        {
          "output_type": "display_data",
          "data": {
            "text/html": [
              ""
            ],
            "text/plain": [
              "<IPython.core.display.HTML object>"
            ]
          },
          "metadata": {
            "tags": []
          }
        },
        {
          "output_type": "display_data",
          "data": {
            "text/html": [
              ""
            ],
            "text/plain": [
              "<IPython.core.display.HTML object>"
            ]
          },
          "metadata": {
            "tags": []
          }
        },
        {
          "output_type": "display_data",
          "data": {
            "text/html": [
              ""
            ],
            "text/plain": [
              "<IPython.core.display.HTML object>"
            ]
          },
          "metadata": {
            "tags": []
          }
        },
        {
          "output_type": "display_data",
          "data": {
            "text/html": [
              ""
            ],
            "text/plain": [
              "<IPython.core.display.HTML object>"
            ]
          },
          "metadata": {
            "tags": []
          }
        },
        {
          "output_type": "display_data",
          "data": {
            "text/html": [
              ""
            ],
            "text/plain": [
              "<IPython.core.display.HTML object>"
            ]
          },
          "metadata": {
            "tags": []
          }
        },
        {
          "output_type": "display_data",
          "data": {
            "text/html": [
              ""
            ],
            "text/plain": [
              "<IPython.core.display.HTML object>"
            ]
          },
          "metadata": {
            "tags": []
          }
        },
        {
          "output_type": "display_data",
          "data": {
            "text/html": [
              ""
            ],
            "text/plain": [
              "<IPython.core.display.HTML object>"
            ]
          },
          "metadata": {
            "tags": []
          }
        },
        {
          "output_type": "display_data",
          "data": {
            "text/html": [
              ""
            ],
            "text/plain": [
              "<IPython.core.display.HTML object>"
            ]
          },
          "metadata": {
            "tags": []
          }
        },
        {
          "output_type": "display_data",
          "data": {
            "text/html": [
              ""
            ],
            "text/plain": [
              "<IPython.core.display.HTML object>"
            ]
          },
          "metadata": {
            "tags": []
          }
        },
        {
          "output_type": "display_data",
          "data": {
            "text/html": [
              ""
            ],
            "text/plain": [
              "<IPython.core.display.HTML object>"
            ]
          },
          "metadata": {
            "tags": []
          }
        },
        {
          "output_type": "display_data",
          "data": {
            "text/html": [
              ""
            ],
            "text/plain": [
              "<IPython.core.display.HTML object>"
            ]
          },
          "metadata": {
            "tags": []
          }
        },
        {
          "output_type": "display_data",
          "data": {
            "text/html": [
              ""
            ],
            "text/plain": [
              "<IPython.core.display.HTML object>"
            ]
          },
          "metadata": {
            "tags": []
          }
        },
        {
          "output_type": "display_data",
          "data": {
            "text/html": [
              ""
            ],
            "text/plain": [
              "<IPython.core.display.HTML object>"
            ]
          },
          "metadata": {
            "tags": []
          }
        },
        {
          "output_type": "display_data",
          "data": {
            "text/html": [
              ""
            ],
            "text/plain": [
              "<IPython.core.display.HTML object>"
            ]
          },
          "metadata": {
            "tags": []
          }
        },
        {
          "output_type": "display_data",
          "data": {
            "text/html": [
              ""
            ],
            "text/plain": [
              "<IPython.core.display.HTML object>"
            ]
          },
          "metadata": {
            "tags": []
          }
        },
        {
          "output_type": "display_data",
          "data": {
            "text/html": [
              ""
            ],
            "text/plain": [
              "<IPython.core.display.HTML object>"
            ]
          },
          "metadata": {
            "tags": []
          }
        },
        {
          "output_type": "display_data",
          "data": {
            "text/html": [
              ""
            ],
            "text/plain": [
              "<IPython.core.display.HTML object>"
            ]
          },
          "metadata": {
            "tags": []
          }
        },
        {
          "output_type": "display_data",
          "data": {
            "text/html": [
              ""
            ],
            "text/plain": [
              "<IPython.core.display.HTML object>"
            ]
          },
          "metadata": {
            "tags": []
          }
        },
        {
          "output_type": "display_data",
          "data": {
            "text/html": [
              ""
            ],
            "text/plain": [
              "<IPython.core.display.HTML object>"
            ]
          },
          "metadata": {
            "tags": []
          }
        },
        {
          "output_type": "display_data",
          "data": {
            "text/html": [
              ""
            ],
            "text/plain": [
              "<IPython.core.display.HTML object>"
            ]
          },
          "metadata": {
            "tags": []
          }
        },
        {
          "output_type": "display_data",
          "data": {
            "text/html": [
              ""
            ],
            "text/plain": [
              "<IPython.core.display.HTML object>"
            ]
          },
          "metadata": {
            "tags": []
          }
        },
        {
          "output_type": "display_data",
          "data": {
            "text/html": [
              ""
            ],
            "text/plain": [
              "<IPython.core.display.HTML object>"
            ]
          },
          "metadata": {
            "tags": []
          }
        },
        {
          "output_type": "display_data",
          "data": {
            "text/html": [
              ""
            ],
            "text/plain": [
              "<IPython.core.display.HTML object>"
            ]
          },
          "metadata": {
            "tags": []
          }
        },
        {
          "output_type": "display_data",
          "data": {
            "text/html": [
              ""
            ],
            "text/plain": [
              "<IPython.core.display.HTML object>"
            ]
          },
          "metadata": {
            "tags": []
          }
        },
        {
          "output_type": "display_data",
          "data": {
            "text/html": [
              ""
            ],
            "text/plain": [
              "<IPython.core.display.HTML object>"
            ]
          },
          "metadata": {
            "tags": []
          }
        },
        {
          "output_type": "display_data",
          "data": {
            "text/html": [
              ""
            ],
            "text/plain": [
              "<IPython.core.display.HTML object>"
            ]
          },
          "metadata": {
            "tags": []
          }
        },
        {
          "output_type": "display_data",
          "data": {
            "text/html": [
              ""
            ],
            "text/plain": [
              "<IPython.core.display.HTML object>"
            ]
          },
          "metadata": {
            "tags": []
          }
        },
        {
          "output_type": "display_data",
          "data": {
            "text/html": [
              ""
            ],
            "text/plain": [
              "<IPython.core.display.HTML object>"
            ]
          },
          "metadata": {
            "tags": []
          }
        },
        {
          "output_type": "display_data",
          "data": {
            "text/html": [
              ""
            ],
            "text/plain": [
              "<IPython.core.display.HTML object>"
            ]
          },
          "metadata": {
            "tags": []
          }
        },
        {
          "output_type": "display_data",
          "data": {
            "text/html": [
              ""
            ],
            "text/plain": [
              "<IPython.core.display.HTML object>"
            ]
          },
          "metadata": {
            "tags": []
          }
        },
        {
          "output_type": "display_data",
          "data": {
            "text/html": [
              ""
            ],
            "text/plain": [
              "<IPython.core.display.HTML object>"
            ]
          },
          "metadata": {
            "tags": []
          }
        },
        {
          "output_type": "display_data",
          "data": {
            "text/html": [
              ""
            ],
            "text/plain": [
              "<IPython.core.display.HTML object>"
            ]
          },
          "metadata": {
            "tags": []
          }
        },
        {
          "output_type": "display_data",
          "data": {
            "text/html": [
              ""
            ],
            "text/plain": [
              "<IPython.core.display.HTML object>"
            ]
          },
          "metadata": {
            "tags": []
          }
        },
        {
          "output_type": "display_data",
          "data": {
            "text/html": [
              ""
            ],
            "text/plain": [
              "<IPython.core.display.HTML object>"
            ]
          },
          "metadata": {
            "tags": []
          }
        },
        {
          "output_type": "display_data",
          "data": {
            "text/html": [
              ""
            ],
            "text/plain": [
              "<IPython.core.display.HTML object>"
            ]
          },
          "metadata": {
            "tags": []
          }
        },
        {
          "output_type": "display_data",
          "data": {
            "text/html": [
              ""
            ],
            "text/plain": [
              "<IPython.core.display.HTML object>"
            ]
          },
          "metadata": {
            "tags": []
          }
        },
        {
          "output_type": "display_data",
          "data": {
            "text/html": [
              ""
            ],
            "text/plain": [
              "<IPython.core.display.HTML object>"
            ]
          },
          "metadata": {
            "tags": []
          }
        },
        {
          "output_type": "display_data",
          "data": {
            "text/html": [
              ""
            ],
            "text/plain": [
              "<IPython.core.display.HTML object>"
            ]
          },
          "metadata": {
            "tags": []
          }
        },
        {
          "output_type": "display_data",
          "data": {
            "text/html": [
              ""
            ],
            "text/plain": [
              "<IPython.core.display.HTML object>"
            ]
          },
          "metadata": {
            "tags": []
          }
        },
        {
          "output_type": "display_data",
          "data": {
            "text/html": [
              ""
            ],
            "text/plain": [
              "<IPython.core.display.HTML object>"
            ]
          },
          "metadata": {
            "tags": []
          }
        },
        {
          "output_type": "display_data",
          "data": {
            "text/html": [
              ""
            ],
            "text/plain": [
              "<IPython.core.display.HTML object>"
            ]
          },
          "metadata": {
            "tags": []
          }
        },
        {
          "output_type": "display_data",
          "data": {
            "text/html": [
              ""
            ],
            "text/plain": [
              "<IPython.core.display.HTML object>"
            ]
          },
          "metadata": {
            "tags": []
          }
        },
        {
          "output_type": "display_data",
          "data": {
            "text/html": [
              ""
            ],
            "text/plain": [
              "<IPython.core.display.HTML object>"
            ]
          },
          "metadata": {
            "tags": []
          }
        },
        {
          "output_type": "display_data",
          "data": {
            "text/html": [
              ""
            ],
            "text/plain": [
              "<IPython.core.display.HTML object>"
            ]
          },
          "metadata": {
            "tags": []
          }
        },
        {
          "output_type": "display_data",
          "data": {
            "text/html": [
              ""
            ],
            "text/plain": [
              "<IPython.core.display.HTML object>"
            ]
          },
          "metadata": {
            "tags": []
          }
        },
        {
          "output_type": "display_data",
          "data": {
            "text/html": [
              ""
            ],
            "text/plain": [
              "<IPython.core.display.HTML object>"
            ]
          },
          "metadata": {
            "tags": []
          }
        },
        {
          "output_type": "display_data",
          "data": {
            "text/html": [
              ""
            ],
            "text/plain": [
              "<IPython.core.display.HTML object>"
            ]
          },
          "metadata": {
            "tags": []
          }
        },
        {
          "output_type": "display_data",
          "data": {
            "text/html": [
              ""
            ],
            "text/plain": [
              "<IPython.core.display.HTML object>"
            ]
          },
          "metadata": {
            "tags": []
          }
        },
        {
          "output_type": "display_data",
          "data": {
            "text/html": [
              ""
            ],
            "text/plain": [
              "<IPython.core.display.HTML object>"
            ]
          },
          "metadata": {
            "tags": []
          }
        },
        {
          "output_type": "display_data",
          "data": {
            "text/html": [
              ""
            ],
            "text/plain": [
              "<IPython.core.display.HTML object>"
            ]
          },
          "metadata": {
            "tags": []
          }
        },
        {
          "output_type": "display_data",
          "data": {
            "text/html": [
              ""
            ],
            "text/plain": [
              "<IPython.core.display.HTML object>"
            ]
          },
          "metadata": {
            "tags": []
          }
        },
        {
          "output_type": "display_data",
          "data": {
            "text/html": [
              ""
            ],
            "text/plain": [
              "<IPython.core.display.HTML object>"
            ]
          },
          "metadata": {
            "tags": []
          }
        },
        {
          "output_type": "display_data",
          "data": {
            "text/html": [
              ""
            ],
            "text/plain": [
              "<IPython.core.display.HTML object>"
            ]
          },
          "metadata": {
            "tags": []
          }
        },
        {
          "output_type": "display_data",
          "data": {
            "text/html": [
              ""
            ],
            "text/plain": [
              "<IPython.core.display.HTML object>"
            ]
          },
          "metadata": {
            "tags": []
          }
        },
        {
          "output_type": "display_data",
          "data": {
            "text/html": [
              ""
            ],
            "text/plain": [
              "<IPython.core.display.HTML object>"
            ]
          },
          "metadata": {
            "tags": []
          }
        },
        {
          "output_type": "display_data",
          "data": {
            "text/html": [
              ""
            ],
            "text/plain": [
              "<IPython.core.display.HTML object>"
            ]
          },
          "metadata": {
            "tags": []
          }
        },
        {
          "output_type": "display_data",
          "data": {
            "text/html": [
              ""
            ],
            "text/plain": [
              "<IPython.core.display.HTML object>"
            ]
          },
          "metadata": {
            "tags": []
          }
        },
        {
          "output_type": "display_data",
          "data": {
            "text/html": [
              ""
            ],
            "text/plain": [
              "<IPython.core.display.HTML object>"
            ]
          },
          "metadata": {
            "tags": []
          }
        },
        {
          "output_type": "display_data",
          "data": {
            "text/html": [
              ""
            ],
            "text/plain": [
              "<IPython.core.display.HTML object>"
            ]
          },
          "metadata": {
            "tags": []
          }
        },
        {
          "output_type": "display_data",
          "data": {
            "text/html": [
              ""
            ],
            "text/plain": [
              "<IPython.core.display.HTML object>"
            ]
          },
          "metadata": {
            "tags": []
          }
        },
        {
          "output_type": "display_data",
          "data": {
            "text/html": [
              ""
            ],
            "text/plain": [
              "<IPython.core.display.HTML object>"
            ]
          },
          "metadata": {
            "tags": []
          }
        },
        {
          "output_type": "display_data",
          "data": {
            "text/html": [
              ""
            ],
            "text/plain": [
              "<IPython.core.display.HTML object>"
            ]
          },
          "metadata": {
            "tags": []
          }
        },
        {
          "output_type": "display_data",
          "data": {
            "text/html": [
              ""
            ],
            "text/plain": [
              "<IPython.core.display.HTML object>"
            ]
          },
          "metadata": {
            "tags": []
          }
        },
        {
          "output_type": "display_data",
          "data": {
            "text/html": [
              ""
            ],
            "text/plain": [
              "<IPython.core.display.HTML object>"
            ]
          },
          "metadata": {
            "tags": []
          }
        },
        {
          "output_type": "display_data",
          "data": {
            "text/html": [
              ""
            ],
            "text/plain": [
              "<IPython.core.display.HTML object>"
            ]
          },
          "metadata": {
            "tags": []
          }
        },
        {
          "output_type": "display_data",
          "data": {
            "text/html": [
              ""
            ],
            "text/plain": [
              "<IPython.core.display.HTML object>"
            ]
          },
          "metadata": {
            "tags": []
          }
        },
        {
          "output_type": "display_data",
          "data": {
            "text/html": [
              ""
            ],
            "text/plain": [
              "<IPython.core.display.HTML object>"
            ]
          },
          "metadata": {
            "tags": []
          }
        },
        {
          "output_type": "display_data",
          "data": {
            "text/html": [
              ""
            ],
            "text/plain": [
              "<IPython.core.display.HTML object>"
            ]
          },
          "metadata": {
            "tags": []
          }
        },
        {
          "output_type": "display_data",
          "data": {
            "text/html": [
              ""
            ],
            "text/plain": [
              "<IPython.core.display.HTML object>"
            ]
          },
          "metadata": {
            "tags": []
          }
        },
        {
          "output_type": "display_data",
          "data": {
            "text/html": [
              ""
            ],
            "text/plain": [
              "<IPython.core.display.HTML object>"
            ]
          },
          "metadata": {
            "tags": []
          }
        },
        {
          "output_type": "display_data",
          "data": {
            "text/html": [
              ""
            ],
            "text/plain": [
              "<IPython.core.display.HTML object>"
            ]
          },
          "metadata": {
            "tags": []
          }
        },
        {
          "output_type": "display_data",
          "data": {
            "text/html": [
              ""
            ],
            "text/plain": [
              "<IPython.core.display.HTML object>"
            ]
          },
          "metadata": {
            "tags": []
          }
        },
        {
          "output_type": "display_data",
          "data": {
            "text/html": [
              ""
            ],
            "text/plain": [
              "<IPython.core.display.HTML object>"
            ]
          },
          "metadata": {
            "tags": []
          }
        },
        {
          "output_type": "display_data",
          "data": {
            "text/html": [
              ""
            ],
            "text/plain": [
              "<IPython.core.display.HTML object>"
            ]
          },
          "metadata": {
            "tags": []
          }
        },
        {
          "output_type": "display_data",
          "data": {
            "text/html": [
              ""
            ],
            "text/plain": [
              "<IPython.core.display.HTML object>"
            ]
          },
          "metadata": {
            "tags": []
          }
        },
        {
          "output_type": "display_data",
          "data": {
            "text/html": [
              ""
            ],
            "text/plain": [
              "<IPython.core.display.HTML object>"
            ]
          },
          "metadata": {
            "tags": []
          }
        },
        {
          "output_type": "display_data",
          "data": {
            "text/html": [
              ""
            ],
            "text/plain": [
              "<IPython.core.display.HTML object>"
            ]
          },
          "metadata": {
            "tags": []
          }
        },
        {
          "output_type": "display_data",
          "data": {
            "text/html": [
              ""
            ],
            "text/plain": [
              "<IPython.core.display.HTML object>"
            ]
          },
          "metadata": {
            "tags": []
          }
        },
        {
          "output_type": "display_data",
          "data": {
            "text/html": [
              ""
            ],
            "text/plain": [
              "<IPython.core.display.HTML object>"
            ]
          },
          "metadata": {
            "tags": []
          }
        },
        {
          "output_type": "display_data",
          "data": {
            "text/html": [
              ""
            ],
            "text/plain": [
              "<IPython.core.display.HTML object>"
            ]
          },
          "metadata": {
            "tags": []
          }
        },
        {
          "output_type": "display_data",
          "data": {
            "text/html": [
              ""
            ],
            "text/plain": [
              "<IPython.core.display.HTML object>"
            ]
          },
          "metadata": {
            "tags": []
          }
        },
        {
          "output_type": "display_data",
          "data": {
            "text/html": [
              ""
            ],
            "text/plain": [
              "<IPython.core.display.HTML object>"
            ]
          },
          "metadata": {
            "tags": []
          }
        },
        {
          "output_type": "display_data",
          "data": {
            "text/html": [
              ""
            ],
            "text/plain": [
              "<IPython.core.display.HTML object>"
            ]
          },
          "metadata": {
            "tags": []
          }
        },
        {
          "output_type": "display_data",
          "data": {
            "text/html": [
              ""
            ],
            "text/plain": [
              "<IPython.core.display.HTML object>"
            ]
          },
          "metadata": {
            "tags": []
          }
        },
        {
          "output_type": "display_data",
          "data": {
            "text/html": [
              ""
            ],
            "text/plain": [
              "<IPython.core.display.HTML object>"
            ]
          },
          "metadata": {
            "tags": []
          }
        },
        {
          "output_type": "display_data",
          "data": {
            "text/html": [
              ""
            ],
            "text/plain": [
              "<IPython.core.display.HTML object>"
            ]
          },
          "metadata": {
            "tags": []
          }
        },
        {
          "output_type": "display_data",
          "data": {
            "text/html": [
              ""
            ],
            "text/plain": [
              "<IPython.core.display.HTML object>"
            ]
          },
          "metadata": {
            "tags": []
          }
        },
        {
          "output_type": "display_data",
          "data": {
            "text/html": [
              ""
            ],
            "text/plain": [
              "<IPython.core.display.HTML object>"
            ]
          },
          "metadata": {
            "tags": []
          }
        },
        {
          "output_type": "display_data",
          "data": {
            "text/html": [
              ""
            ],
            "text/plain": [
              "<IPython.core.display.HTML object>"
            ]
          },
          "metadata": {
            "tags": []
          }
        },
        {
          "output_type": "display_data",
          "data": {
            "text/html": [
              ""
            ],
            "text/plain": [
              "<IPython.core.display.HTML object>"
            ]
          },
          "metadata": {
            "tags": []
          }
        },
        {
          "output_type": "display_data",
          "data": {
            "text/html": [
              ""
            ],
            "text/plain": [
              "<IPython.core.display.HTML object>"
            ]
          },
          "metadata": {
            "tags": []
          }
        },
        {
          "output_type": "display_data",
          "data": {
            "text/html": [
              ""
            ],
            "text/plain": [
              "<IPython.core.display.HTML object>"
            ]
          },
          "metadata": {
            "tags": []
          }
        },
        {
          "output_type": "display_data",
          "data": {
            "text/html": [
              ""
            ],
            "text/plain": [
              "<IPython.core.display.HTML object>"
            ]
          },
          "metadata": {
            "tags": []
          }
        },
        {
          "output_type": "display_data",
          "data": {
            "text/html": [
              ""
            ],
            "text/plain": [
              "<IPython.core.display.HTML object>"
            ]
          },
          "metadata": {
            "tags": []
          }
        },
        {
          "output_type": "display_data",
          "data": {
            "text/html": [
              ""
            ],
            "text/plain": [
              "<IPython.core.display.HTML object>"
            ]
          },
          "metadata": {
            "tags": []
          }
        },
        {
          "output_type": "display_data",
          "data": {
            "text/html": [
              ""
            ],
            "text/plain": [
              "<IPython.core.display.HTML object>"
            ]
          },
          "metadata": {
            "tags": []
          }
        },
        {
          "output_type": "display_data",
          "data": {
            "text/html": [
              ""
            ],
            "text/plain": [
              "<IPython.core.display.HTML object>"
            ]
          },
          "metadata": {
            "tags": []
          }
        },
        {
          "output_type": "display_data",
          "data": {
            "text/html": [
              ""
            ],
            "text/plain": [
              "<IPython.core.display.HTML object>"
            ]
          },
          "metadata": {
            "tags": []
          }
        },
        {
          "output_type": "display_data",
          "data": {
            "text/html": [
              ""
            ],
            "text/plain": [
              "<IPython.core.display.HTML object>"
            ]
          },
          "metadata": {
            "tags": []
          }
        },
        {
          "output_type": "display_data",
          "data": {
            "text/html": [
              ""
            ],
            "text/plain": [
              "<IPython.core.display.HTML object>"
            ]
          },
          "metadata": {
            "tags": []
          }
        },
        {
          "output_type": "display_data",
          "data": {
            "text/html": [
              ""
            ],
            "text/plain": [
              "<IPython.core.display.HTML object>"
            ]
          },
          "metadata": {
            "tags": []
          }
        },
        {
          "output_type": "display_data",
          "data": {
            "text/html": [
              ""
            ],
            "text/plain": [
              "<IPython.core.display.HTML object>"
            ]
          },
          "metadata": {
            "tags": []
          }
        },
        {
          "output_type": "display_data",
          "data": {
            "text/html": [
              ""
            ],
            "text/plain": [
              "<IPython.core.display.HTML object>"
            ]
          },
          "metadata": {
            "tags": []
          }
        },
        {
          "output_type": "display_data",
          "data": {
            "text/html": [
              ""
            ],
            "text/plain": [
              "<IPython.core.display.HTML object>"
            ]
          },
          "metadata": {
            "tags": []
          }
        },
        {
          "output_type": "display_data",
          "data": {
            "text/html": [
              ""
            ],
            "text/plain": [
              "<IPython.core.display.HTML object>"
            ]
          },
          "metadata": {
            "tags": []
          }
        },
        {
          "output_type": "display_data",
          "data": {
            "text/html": [
              ""
            ],
            "text/plain": [
              "<IPython.core.display.HTML object>"
            ]
          },
          "metadata": {
            "tags": []
          }
        },
        {
          "output_type": "display_data",
          "data": {
            "text/html": [
              ""
            ],
            "text/plain": [
              "<IPython.core.display.HTML object>"
            ]
          },
          "metadata": {
            "tags": []
          }
        },
        {
          "output_type": "display_data",
          "data": {
            "text/html": [
              ""
            ],
            "text/plain": [
              "<IPython.core.display.HTML object>"
            ]
          },
          "metadata": {
            "tags": []
          }
        },
        {
          "output_type": "display_data",
          "data": {
            "text/html": [
              ""
            ],
            "text/plain": [
              "<IPython.core.display.HTML object>"
            ]
          },
          "metadata": {
            "tags": []
          }
        },
        {
          "output_type": "display_data",
          "data": {
            "text/html": [
              ""
            ],
            "text/plain": [
              "<IPython.core.display.HTML object>"
            ]
          },
          "metadata": {
            "tags": []
          }
        },
        {
          "output_type": "display_data",
          "data": {
            "text/html": [
              ""
            ],
            "text/plain": [
              "<IPython.core.display.HTML object>"
            ]
          },
          "metadata": {
            "tags": []
          }
        },
        {
          "output_type": "display_data",
          "data": {
            "text/html": [
              ""
            ],
            "text/plain": [
              "<IPython.core.display.HTML object>"
            ]
          },
          "metadata": {
            "tags": []
          }
        },
        {
          "output_type": "display_data",
          "data": {
            "text/html": [
              ""
            ],
            "text/plain": [
              "<IPython.core.display.HTML object>"
            ]
          },
          "metadata": {
            "tags": []
          }
        },
        {
          "output_type": "display_data",
          "data": {
            "text/html": [
              ""
            ],
            "text/plain": [
              "<IPython.core.display.HTML object>"
            ]
          },
          "metadata": {
            "tags": []
          }
        },
        {
          "output_type": "display_data",
          "data": {
            "text/html": [
              ""
            ],
            "text/plain": [
              "<IPython.core.display.HTML object>"
            ]
          },
          "metadata": {
            "tags": []
          }
        },
        {
          "output_type": "display_data",
          "data": {
            "text/html": [
              ""
            ],
            "text/plain": [
              "<IPython.core.display.HTML object>"
            ]
          },
          "metadata": {
            "tags": []
          }
        },
        {
          "output_type": "display_data",
          "data": {
            "text/html": [
              ""
            ],
            "text/plain": [
              "<IPython.core.display.HTML object>"
            ]
          },
          "metadata": {
            "tags": []
          }
        },
        {
          "output_type": "display_data",
          "data": {
            "text/html": [
              ""
            ],
            "text/plain": [
              "<IPython.core.display.HTML object>"
            ]
          },
          "metadata": {
            "tags": []
          }
        },
        {
          "output_type": "display_data",
          "data": {
            "text/html": [
              ""
            ],
            "text/plain": [
              "<IPython.core.display.HTML object>"
            ]
          },
          "metadata": {
            "tags": []
          }
        },
        {
          "output_type": "display_data",
          "data": {
            "image/png": "[encoded data removed]",
            "text/plain": [
              "<Figure size 432x288 with 1 Axes>"
            ]
          },
          "metadata": {
            "tags": [],
            "needs_background": "light"
          }
        }
      ]
    },
    {
      "cell_type": "markdown",
      "metadata": {
        "id": "4441165e-c9bd-4347-a657-3c50f9904080"
      },
      "source": [
        "From this most important fields are `PropertyField37`, `PersonalField2`, `PersonalField1`, `SalesField5`"
      ],
      "id": "4441165e-c9bd-4347-a657-3c50f9904080"
    },
    {
      "cell_type": "markdown",
      "metadata": {
        "id": "Lw63NYpM0oRw"
      },
      "source": [
        "## Ensembling with Other Models"
      ],
      "id": "Lw63NYpM0oRw"
    },
    {
      "cell_type": "markdown",
      "metadata": {
        "id": "1038914c-f3aa-4161-a9fe-2cf1e1cbfa5d"
      },
      "source": [
        "### Adding in XGBoost"
      ],
      "id": "1038914c-f3aa-4161-a9fe-2cf1e1cbfa5d"
    },
    {
      "cell_type": "code",
      "metadata": {
        "id": "kuEaMDi06Hzx"
      },
      "source": [
        "import xgboost as xgb\n"
      ],
      "id": "kuEaMDi06Hzx",
      "execution_count": null,
      "outputs": []
    },
    {
      "cell_type": "code",
      "metadata": {
        "id": "c793a416-5d8e-4ed7-b017-10357c8c5280"
      },
      "source": [
        "n_estimators = 100\n",
        "max_depth = 8\n",
        "learning_rate = 0.1\n",
        "subsample = 0.5"
      ],
      "id": "c793a416-5d8e-4ed7-b017-10357c8c5280",
      "execution_count": null,
      "outputs": []
    },
    {
      "cell_type": "code",
      "metadata": {
        "id": "26789443-f814-4a99-bf69-5dfc1aea6033"
      },
      "source": [
        "X_train, y_train = to.train.xs, to.train.ys.values.ravel()\n",
        "X_valid, y_valid = to.valid.xs, to.valid.ys.values.ravel()"
      ],
      "id": "26789443-f814-4a99-bf69-5dfc1aea6033",
      "execution_count": null,
      "outputs": []
    },
    {
      "cell_type": "code",
      "metadata": {
        "id": "6e23cc25-4647-4e60-84e5-87aa00b6416c"
      },
      "source": [
        "model = xgb.XGBClassifier(n_estimators = n_estimators, max_depth=max_depth, learning_rate=0.1, subsample=subsample, tree_method='gpu_hist')"
      ],
      "id": "6e23cc25-4647-4e60-84e5-87aa00b6416c",
      "execution_count": null,
      "outputs": []
    },
    {
      "cell_type": "code",
      "metadata": {
        "id": "bd1cf4e1-ba9b-4357-98e4-a2ba1c9491da"
      },
      "source": [
        "xgb_model = model.fit(X_train, y_train)"
      ],
      "id": "bd1cf4e1-ba9b-4357-98e4-a2ba1c9491da",
      "execution_count": null,
      "outputs": []
    },
    {
      "cell_type": "code",
      "metadata": {
        "id": "55417326-f810-471c-9b0a-12f62b4c8a1f"
      },
      "source": [
        "xgb_preds = xgb_model.predict_proba(X_valid)"
      ],
      "id": "55417326-f810-471c-9b0a-12f62b4c8a1f",
      "execution_count": null,
      "outputs": []
    },
    {
      "cell_type": "code",
      "metadata": {
        "id": "f8a927bb-1e6d-44bc-b5cb-babeabea5f14"
      },
      "source": [
        "xg_roc_auc_score=roc_auc_score(y_valid, xgb_preds[:,1])"
      ],
      "id": "f8a927bb-1e6d-44bc-b5cb-babeabea5f14",
      "execution_count": null,
      "outputs": []
    },
    {
      "cell_type": "code",
      "metadata": {
        "id": "93fb7f6b-0fd3-45d9-ad83-441c21e78627"
      },
      "source": [
        "from xgboost import plot_importance"
      ],
      "id": "93fb7f6b-0fd3-45d9-ad83-441c21e78627",
      "execution_count": null,
      "outputs": []
    },
    {
      "cell_type": "code",
      "metadata": {
        "id": "8881f0f7-1562-48f0-ad80-6d272117b11a",
        "colab": {
          "base_uri": "https://localhost:8080/",
          "height": 320
        },
        "outputId": "95ebde3e-4016-446e-d88e-0024698a1035"
      },
      "source": [
        "plot_importance(xgb_model, height=1,max_num_features=20,)"
      ],
      "id": "8881f0f7-1562-48f0-ad80-6d272117b11a",
      "execution_count": null,
      "outputs": [
        {
          "output_type": "execute_result",
          "data": {
            "text/plain": [
              "<matplotlib.axes._subplots.AxesSubplot at 0x7f4356116ed0>"
            ]
          },
          "metadata": {
            "tags": []
          },
          "execution_count": 103
        },
        {
          "output_type": "display_data",
          "data": {
            "image/png": "[encoded data removed]",
            "text/plain": [
              "<Figure size 432x288 with 1 Axes>"
            ]
          },
          "metadata": {
            "tags": [],
            "needs_background": "light"
          }
        }
      ]
    },
    {
      "cell_type": "markdown",
      "metadata": {
        "id": "6138121f-ac06-42e3-9763-94b44229c676"
      },
      "source": [
        "From this most important fields were `SalesField1A`, `PersonalField9`, `Original_Quote_Elapsed`, `PersonalField10A`, `PersonalField10B`, `PropertyField37`"
      ],
      "id": "6138121f-ac06-42e3-9763-94b44229c676"
    },
    {
      "cell_type": "markdown",
      "metadata": {
        "id": "fc497872-c94d-45e9-b8d0-2dc6f926c7fc"
      },
      "source": [
        "### Doing Ensemble"
      ],
      "id": "fc497872-c94d-45e9-b8d0-2dc6f926c7fc"
    },
    {
      "cell_type": "code",
      "metadata": {
        "id": "93ece899-ea95-4a68-994d-da27d2984a30"
      },
      "source": [
        "avgs = (preds + xgb_preds) / 2"
      ],
      "id": "93ece899-ea95-4a68-994d-da27d2984a30",
      "execution_count": null,
      "outputs": []
    },
    {
      "cell_type": "code",
      "metadata": {
        "id": "40ca334c-134c-44b7-abb2-c6e4a86470f0",
        "colab": {
          "base_uri": "https://localhost:8080/"
        },
        "outputId": "8c367274-d94e-4811-a361-f0f04670e892"
      },
      "source": [
        "dl_roc_auc_score"
      ],
      "id": "40ca334c-134c-44b7-abb2-c6e4a86470f0",
      "execution_count": null,
      "outputs": [
        {
          "output_type": "execute_result",
          "data": {
            "text/plain": [
              "0.9627875189173991"
            ]
          },
          "metadata": {
            "tags": []
          },
          "execution_count": 113
        }
      ]
    },
    {
      "cell_type": "code",
      "metadata": {
        "colab": {
          "base_uri": "https://localhost:8080/"
        },
        "id": "j0n_fMGq5uSq",
        "outputId": "4e9e209d-3180-43fb-c9f3-801ff52caa52"
      },
      "source": [
        "xg_roc_auc_score"
      ],
      "id": "j0n_fMGq5uSq",
      "execution_count": null,
      "outputs": [
        {
          "output_type": "execute_result",
          "data": {
            "text/plain": [
              "0.9641320936530293"
            ]
          },
          "metadata": {
            "tags": []
          },
          "execution_count": 114
        }
      ]
    },
    {
      "cell_type": "code",
      "metadata": {
        "id": "66fc2bf1-12af-4cef-bbf0-c593f02f8edc",
        "colab": {
          "base_uri": "https://localhost:8080/"
        },
        "outputId": "6c900f79-6932-4f70-b2a5-e76ac247e943"
      },
      "source": [
        "dlxg_roc_auc_score=roc_auc_score(y_valid, avgs[:,1])\n",
        "dlxg_roc_auc_score"
      ],
      "id": "66fc2bf1-12af-4cef-bbf0-c593f02f8edc",
      "execution_count": null,
      "outputs": [
        {
          "output_type": "execute_result",
          "data": {
            "text/plain": [
              "0.9649714149378368"
            ]
          },
          "metadata": {
            "tags": []
          },
          "execution_count": 116
        }
      ]
    },
    {
      "cell_type": "markdown",
      "metadata": {
        "id": "03a9c6e8-e34c-4c14-b6d6-efa389f37ee2"
      },
      "source": [
        "So we have a slightly better performance with ensembling these two"
      ],
      "id": "03a9c6e8-e34c-4c14-b6d6-efa389f37ee2"
    },
    {
      "cell_type": "markdown",
      "metadata": {
        "id": "87bdd11f-dc4b-4da9-9720-81807e394b70"
      },
      "source": [
        "### Adding Random Forest"
      ],
      "id": "87bdd11f-dc4b-4da9-9720-81807e394b70"
    },
    {
      "cell_type": "code",
      "metadata": {
        "id": "c4b4e92b-ad95-448b-bf22-c9e7414dd169"
      },
      "source": [
        "from sklearn.ensemble import RandomForestClassifier"
      ],
      "id": "c4b4e92b-ad95-448b-bf22-c9e7414dd169",
      "execution_count": null,
      "outputs": []
    },
    {
      "cell_type": "code",
      "metadata": {
        "id": "3d82ffdc-02ae-4975-8b3c-7d97164d9671"
      },
      "source": [
        "tree = RandomForestClassifier(n_estimators=100)"
      ],
      "id": "3d82ffdc-02ae-4975-8b3c-7d97164d9671",
      "execution_count": null,
      "outputs": []
    },
    {
      "cell_type": "code",
      "metadata": {
        "id": "86a57683-64ca-4888-89bd-bd94c755d61e",
        "colab": {
          "base_uri": "https://localhost:8080/"
        },
        "outputId": "41da1df2-b2cd-4858-8385-87a856b11f6a"
      },
      "source": [
        "tree.fit(X_train, y_train)"
      ],
      "id": "86a57683-64ca-4888-89bd-bd94c755d61e",
      "execution_count": null,
      "outputs": [
        {
          "output_type": "execute_result",
          "data": {
            "text/plain": [
              "RandomForestClassifier(bootstrap=True, ccp_alpha=0.0, class_weight=None,\n",
              "                       criterion='gini', max_depth=None, max_features='auto',\n",
              "                       max_leaf_nodes=None, max_samples=None,\n",
              "                       min_impurity_decrease=0.0, min_impurity_split=None,\n",
              "                       min_samples_leaf=1, min_samples_split=2,\n",
              "                       min_weight_fraction_leaf=0.0, n_estimators=100,\n",
              "                       n_jobs=None, oob_score=False, random_state=None,\n",
              "                       verbose=0, warm_start=False)"
            ]
          },
          "metadata": {
            "tags": []
          },
          "execution_count": 121
        }
      ]
    },
    {
      "cell_type": "code",
      "metadata": {
        "id": "289439ab-1733-4f9c-870c-f43f90d00405"
      },
      "source": [
        "!pip install rfpimp\n",
        "from rfpimp import *"
      ],
      "id": "289439ab-1733-4f9c-870c-f43f90d00405",
      "execution_count": null,
      "outputs": []
    },
    {
      "cell_type": "code",
      "metadata": {
        "id": "7c4d6299-9a46-42e1-8541-7f7f2bd6517f"
      },
      "source": [
        "impTree = importances(tree, X_valid, to.valid.ys)"
      ],
      "id": "7c4d6299-9a46-42e1-8541-7f7f2bd6517f",
      "execution_count": null,
      "outputs": []
    },
    {
      "cell_type": "code",
      "metadata": {
        "id": "42fbb806-56f8-4fb3-b3e2-c3c28f76b2ce",
        "colab": {
          "base_uri": "https://localhost:8080/",
          "height": 1000
        },
        "outputId": "ffd8290a-b85d-4168-8e0d-cecded58e563"
      },
      "source": [
        "plot_importances(impTree)"
      ],
      "id": "42fbb806-56f8-4fb3-b3e2-c3c28f76b2ce",
      "execution_count": null,
      "outputs": [
        {
          "output_type": "execute_result",
          "data": {
            "text/plain": [
              "<rfpimp.PimpViz at 0x7f42ef464150>"
            ],
            "image/svg+xml": "<?xml version=\"1.0\" encoding=\"utf-8\" standalone=\"no\"?>\n<!DOCTYPE svg PUBLIC \"-//W3C//DTD SVG 1.1//EN\"\n  \"http://www.w3.org/Graphics/SVG/1.1/DTD/svg11.dtd\">\n<!-- Created with matplotlib (https://matplotlib.org/) -->\n<svg height=\"4901.438125pt\" version=\"1.1\" viewBox=\"0 0 262.178438 4901.438125\" width=\"262.178438pt\" xmlns=\"http://www.w3.org/2000/svg\" xmlns:xlink=\"http://www.w3.org/1999/xlink\">\n <defs>\n  <style type=\"text/css\">\n*{stroke-linecap:butt;stroke-linejoin:round;}\n  </style>\n </defs>\n <g id=\"figure_1\">\n  <g id=\"patch_1\">\n   <path d=\"M 0 4901.438125 \nL 262.178438 4901.438125 \nL 262.178438 0 \nL 0 0 \nz\n\" style=\"fill:#ffffff;\"/>\n  </g>\n  <g id=\"axes_1\">\n   <g id=\"patch_2\">\n    <path d=\"M 165.090625 4884.76 \nL 251.045625 4884.76 \nL 251.045625 0 \nL 165.090625 0 \nz\n\" style=\"fill:#ffffff;\"/>\n   </g>\n   <g id=\"patch_3\">\n    <path clip-path=\"url(#pf657e1e3ca)\" d=\"M 167.431812 1.427458 \nL 220.498712 1.427458 \nL 220.498712 15.702034 \nL 167.431812 15.702034 \nz\n\" style=\"fill:#d9e6f5;stroke:#444443;stroke-linejoin:miter;stroke-width:0.5;\"/>\n   </g>\n   <g id=\"patch_4\">\n    <path clip-path=\"url(#pf657e1e3ca)\" d=\"M 167.431812 17.129492 \nL 174.678342 17.129492 \nL 174.678342 31.404068 \nL 167.431812 31.404068 \nz\n\" style=\"fill:#d9e6f5;stroke:#444443;stroke-linejoin:miter;stroke-width:0.5;\"/>\n   </g>\n   <g id=\"patch_5\">\n    <path clip-path=\"url(#pf657e1e3ca)\" d=\"M 167.431812 32.831525 \nL 174.343887 32.831525 \nL 174.343887 47.106102 \nL 167.431812 47.106102 \nz\n\" style=\"fill:#d9e6f5;stroke:#444443;stroke-linejoin:miter;stroke-width:0.5;\"/>\n   </g>\n   <g id=\"patch_6\">\n    <path clip-path=\"url(#pf657e1e3ca)\" d=\"M 167.431812 48.533559 \nL 173.563491 48.533559 \nL 173.563491 62.808136 \nL 167.431812 62.808136 \nz\n\" style=\"fill:#d9e6f5;stroke:#444443;stroke-linejoin:miter;stroke-width:0.5;\"/>\n   </g>\n   <g id=\"patch_7\">\n    <path clip-path=\"url(#pf657e1e3ca)\" d=\"M 167.431812 64.235593 \nL 172.448641 64.235593 \nL 172.448641 78.510169 \nL 167.431812 78.510169 \nz\n\" style=\"fill:#d9e6f5;stroke:#444443;stroke-linejoin:miter;stroke-width:0.5;\"/>\n   </g>\n   <g id=\"patch_8\">\n    <path clip-path=\"url(#pf657e1e3ca)\" d=\"M 167.431812 79.937627 \nL 170.887849 79.937627 \nL 170.887849 94.212203 \nL 167.431812 94.212203 \nz\n\" style=\"fill:#d9e6f5;stroke:#444443;stroke-linejoin:miter;stroke-width:0.5;\"/>\n   </g>\n   <g id=\"patch_9\">\n    <path clip-path=\"url(#pf657e1e3ca)\" d=\"M 167.431812 95.639661 \nL 170.887849 95.639661 \nL 170.887849 109.914237 \nL 167.431812 109.914237 \nz\n\" style=\"fill:#d9e6f5;stroke:#444443;stroke-linejoin:miter;stroke-width:0.5;\"/>\n   </g>\n   <g id=\"patch_10\">\n    <path clip-path=\"url(#pf657e1e3ca)\" d=\"M 167.431812 111.341695 \nL 170.107454 111.341695 \nL 170.107454 125.616271 \nL 167.431812 125.616271 \nz\n\" style=\"fill:#d9e6f5;stroke:#444443;stroke-linejoin:miter;stroke-width:0.5;\"/>\n   </g>\n   <g id=\"patch_11\">\n    <path clip-path=\"url(#pf657e1e3ca)\" d=\"M 167.431812 127.043729 \nL 169.884484 127.043729 \nL 169.884484 141.318305 \nL 167.431812 141.318305 \nz\n\" style=\"fill:#d9e6f5;stroke:#444443;stroke-linejoin:miter;stroke-width:0.5;\"/>\n   </g>\n   <g id=\"patch_12\">\n    <path clip-path=\"url(#pf657e1e3ca)\" d=\"M 167.431812 142.745763 \nL 169.772999 142.745763 \nL 169.772999 157.020339 \nL 167.431812 157.020339 \nz\n\" style=\"fill:#d9e6f5;stroke:#444443;stroke-linejoin:miter;stroke-width:0.5;\"/>\n   </g>\n   <g id=\"patch_13\">\n    <path clip-path=\"url(#pf657e1e3ca)\" d=\"M 167.431812 158.447797 \nL 169.772999 158.447797 \nL 169.772999 172.722373 \nL 167.431812 172.722373 \nz\n\" style=\"fill:#d9e6f5;stroke:#444443;stroke-linejoin:miter;stroke-width:0.5;\"/>\n   </g>\n   <g id=\"patch_14\">\n    <path clip-path=\"url(#pf657e1e3ca)\" d=\"M 167.431812 174.149831 \nL 169.104088 174.149831 \nL 169.104088 188.424407 \nL 167.431812 188.424407 \nz\n\" style=\"fill:#d9e6f5;stroke:#444443;stroke-linejoin:miter;stroke-width:0.5;\"/>\n   </g>\n   <g id=\"patch_15\">\n    <path clip-path=\"url(#pf657e1e3ca)\" d=\"M 167.431812 189.851864 \nL 168.881118 189.851864 \nL 168.881118 204.126441 \nL 167.431812 204.126441 \nz\n\" style=\"fill:#d9e6f5;stroke:#444443;stroke-linejoin:miter;stroke-width:0.5;\"/>\n   </g>\n   <g id=\"patch_16\">\n    <path clip-path=\"url(#pf657e1e3ca)\" d=\"M 167.431812 205.553898 \nL 168.769633 205.553898 \nL 168.769633 219.828475 \nL 167.431812 219.828475 \nz\n\" style=\"fill:#d9e6f5;stroke:#444443;stroke-linejoin:miter;stroke-width:0.5;\"/>\n   </g>\n   <g id=\"patch_17\">\n    <path clip-path=\"url(#pf657e1e3ca)\" d=\"M 167.431812 221.255932 \nL 168.769633 221.255932 \nL 168.769633 235.530508 \nL 167.431812 235.530508 \nz\n\" style=\"fill:#d9e6f5;stroke:#444443;stroke-linejoin:miter;stroke-width:0.5;\"/>\n   </g>\n   <g id=\"patch_18\">\n    <path clip-path=\"url(#pf657e1e3ca)\" d=\"M 167.431812 236.957966 \nL 168.769633 236.957966 \nL 168.769633 251.232542 \nL 167.431812 251.232542 \nz\n\" style=\"fill:#d9e6f5;stroke:#444443;stroke-linejoin:miter;stroke-width:0.5;\"/>\n   </g>\n   <g id=\"patch_19\">\n    <path clip-path=\"url(#pf657e1e3ca)\" d=\"M 167.431812 252.66 \nL 168.658148 252.66 \nL 168.658148 266.934576 \nL 167.431812 266.934576 \nz\n\" style=\"fill:#d9e6f5;stroke:#444443;stroke-linejoin:miter;stroke-width:0.5;\"/>\n   </g>\n   <g id=\"patch_20\">\n    <path clip-path=\"url(#pf657e1e3ca)\" d=\"M 167.431812 268.362034 \nL 168.435178 268.362034 \nL 168.435178 282.63661 \nL 167.431812 282.63661 \nz\n\" style=\"fill:#d9e6f5;stroke:#444443;stroke-linejoin:miter;stroke-width:0.5;\"/>\n   </g>\n   <g id=\"patch_21\">\n    <path clip-path=\"url(#pf657e1e3ca)\" d=\"M 167.431812 284.064068 \nL 168.435178 284.064068 \nL 168.435178 298.338644 \nL 167.431812 298.338644 \nz\n\" style=\"fill:#d9e6f5;stroke:#444443;stroke-linejoin:miter;stroke-width:0.5;\"/>\n   </g>\n   <g id=\"patch_22\">\n    <path clip-path=\"url(#pf657e1e3ca)\" d=\"M 167.431812 299.766102 \nL 168.323692 299.766102 \nL 168.323692 314.040678 \nL 167.431812 314.040678 \nz\n\" style=\"fill:#d9e6f5;stroke:#444443;stroke-linejoin:miter;stroke-width:0.5;\"/>\n   </g>\n   <g id=\"patch_23\">\n    <path clip-path=\"url(#pf657e1e3ca)\" d=\"M 167.431812 315.468136 \nL 168.212207 315.468136 \nL 168.212207 329.742712 \nL 167.431812 329.742712 \nz\n\" style=\"fill:#d9e6f5;stroke:#444443;stroke-linejoin:miter;stroke-width:0.5;\"/>\n   </g>\n   <g id=\"patch_24\">\n    <path clip-path=\"url(#pf657e1e3ca)\" d=\"M 167.431812 331.170169 \nL 168.212207 331.170169 \nL 168.212207 345.444746 \nL 167.431812 345.444746 \nz\n\" style=\"fill:#d9e6f5;stroke:#444443;stroke-linejoin:miter;stroke-width:0.5;\"/>\n   </g>\n   <g id=\"patch_25\">\n    <path clip-path=\"url(#pf657e1e3ca)\" d=\"M 167.431812 346.872203 \nL 168.100722 346.872203 \nL 168.100722 361.14678 \nL 167.431812 361.14678 \nz\n\" style=\"fill:#d9e6f5;stroke:#444443;stroke-linejoin:miter;stroke-width:0.5;\"/>\n   </g>\n   <g id=\"patch_26\">\n    <path clip-path=\"url(#pf657e1e3ca)\" d=\"M 167.431812 362.574237 \nL 168.100722 362.574237 \nL 168.100722 376.848814 \nL 167.431812 376.848814 \nz\n\" style=\"fill:#d9e6f5;stroke:#444443;stroke-linejoin:miter;stroke-width:0.5;\"/>\n   </g>\n   <g id=\"patch_27\">\n    <path clip-path=\"url(#pf657e1e3ca)\" d=\"M 167.431812 378.276271 \nL 168.100722 378.276271 \nL 168.100722 392.550847 \nL 167.431812 392.550847 \nz\n\" style=\"fill:#d9e6f5;stroke:#444443;stroke-linejoin:miter;stroke-width:0.5;\"/>\n   </g>\n   <g id=\"patch_28\">\n    <path clip-path=\"url(#pf657e1e3ca)\" d=\"M 167.431812 393.978305 \nL 168.100722 393.978305 \nL 168.100722 408.252881 \nL 167.431812 408.252881 \nz\n\" style=\"fill:#d9e6f5;stroke:#444443;stroke-linejoin:miter;stroke-width:0.5;\"/>\n   </g>\n   <g id=\"patch_29\">\n    <path clip-path=\"url(#pf657e1e3ca)\" d=\"M 167.431812 409.680339 \nL 168.100722 409.680339 \nL 168.100722 423.954915 \nL 167.431812 423.954915 \nz\n\" style=\"fill:#d9e6f5;stroke:#444443;stroke-linejoin:miter;stroke-width:0.5;\"/>\n   </g>\n   <g id=\"patch_30\">\n    <path clip-path=\"url(#pf657e1e3ca)\" d=\"M 167.431812 425.382373 \nL 167.989237 425.382373 \nL 167.989237 439.656949 \nL 167.431812 439.656949 \nz\n\" style=\"fill:#d9e6f5;stroke:#444443;stroke-linejoin:miter;stroke-width:0.5;\"/>\n   </g>\n   <g id=\"patch_31\">\n    <path clip-path=\"url(#pf657e1e3ca)\" d=\"M 167.431812 441.084407 \nL 167.989237 441.084407 \nL 167.989237 455.358983 \nL 167.431812 455.358983 \nz\n\" style=\"fill:#d9e6f5;stroke:#444443;stroke-linejoin:miter;stroke-width:0.5;\"/>\n   </g>\n   <g id=\"patch_32\">\n    <path clip-path=\"url(#pf657e1e3ca)\" d=\"M 167.431812 456.786441 \nL 167.877752 456.786441 \nL 167.877752 471.061017 \nL 167.431812 471.061017 \nz\n\" style=\"fill:#d9e6f5;stroke:#444443;stroke-linejoin:miter;stroke-width:0.5;\"/>\n   </g>\n   <g id=\"patch_33\">\n    <path clip-path=\"url(#pf657e1e3ca)\" d=\"M 167.431812 472.488475 \nL 167.877752 472.488475 \nL 167.877752 486.763051 \nL 167.431812 486.763051 \nz\n\" style=\"fill:#d9e6f5;stroke:#444443;stroke-linejoin:miter;stroke-width:0.5;\"/>\n   </g>\n   <g id=\"patch_34\">\n    <path clip-path=\"url(#pf657e1e3ca)\" d=\"M 167.431812 488.190508 \nL 167.877752 488.190508 \nL 167.877752 502.465085 \nL 167.431812 502.465085 \nz\n\" style=\"fill:#d9e6f5;stroke:#444443;stroke-linejoin:miter;stroke-width:0.5;\"/>\n   </g>\n   <g id=\"patch_35\">\n    <path clip-path=\"url(#pf657e1e3ca)\" d=\"M 167.431812 503.892542 \nL 167.877752 503.892542 \nL 167.877752 518.167119 \nL 167.431812 518.167119 \nz\n\" style=\"fill:#d9e6f5;stroke:#444443;stroke-linejoin:miter;stroke-width:0.5;\"/>\n   </g>\n   <g id=\"patch_36\">\n    <path clip-path=\"url(#pf657e1e3ca)\" d=\"M 167.431812 519.594576 \nL 167.877752 519.594576 \nL 167.877752 533.869153 \nL 167.431812 533.869153 \nz\n\" style=\"fill:#d9e6f5;stroke:#444443;stroke-linejoin:miter;stroke-width:0.5;\"/>\n   </g>\n   <g id=\"patch_37\">\n    <path clip-path=\"url(#pf657e1e3ca)\" d=\"M 167.431812 535.29661 \nL 167.877752 535.29661 \nL 167.877752 549.571186 \nL 167.431812 549.571186 \nz\n\" style=\"fill:#d9e6f5;stroke:#444443;stroke-linejoin:miter;stroke-width:0.5;\"/>\n   </g>\n   <g id=\"patch_38\">\n    <path clip-path=\"url(#pf657e1e3ca)\" d=\"M 167.431812 550.998644 \nL 167.877752 550.998644 \nL 167.877752 565.27322 \nL 167.431812 565.27322 \nz\n\" style=\"fill:#d9e6f5;stroke:#444443;stroke-linejoin:miter;stroke-width:0.5;\"/>\n   </g>\n   <g id=\"patch_39\">\n    <path clip-path=\"url(#pf657e1e3ca)\" d=\"M 167.431812 566.700678 \nL 167.877752 566.700678 \nL 167.877752 580.975254 \nL 167.431812 580.975254 \nz\n\" style=\"fill:#d9e6f5;stroke:#444443;stroke-linejoin:miter;stroke-width:0.5;\"/>\n   </g>\n   <g id=\"patch_40\">\n    <path clip-path=\"url(#pf657e1e3ca)\" d=\"M 167.431812 582.402712 \nL 167.877752 582.402712 \nL 167.877752 596.677288 \nL 167.431812 596.677288 \nz\n\" style=\"fill:#d9e6f5;stroke:#444443;stroke-linejoin:miter;stroke-width:0.5;\"/>\n   </g>\n   <g id=\"patch_41\">\n    <path clip-path=\"url(#pf657e1e3ca)\" d=\"M 167.431812 598.104746 \nL 167.766267 598.104746 \nL 167.766267 612.379322 \nL 167.431812 612.379322 \nz\n\" style=\"fill:#d9e6f5;stroke:#444443;stroke-linejoin:miter;stroke-width:0.5;\"/>\n   </g>\n   <g id=\"patch_42\">\n    <path clip-path=\"url(#pf657e1e3ca)\" d=\"M 167.431812 613.80678 \nL 167.766267 613.80678 \nL 167.766267 628.081356 \nL 167.431812 628.081356 \nz\n\" style=\"fill:#d9e6f5;stroke:#444443;stroke-linejoin:miter;stroke-width:0.5;\"/>\n   </g>\n   <g id=\"patch_43\">\n    <path clip-path=\"url(#pf657e1e3ca)\" d=\"M 167.431812 629.508814 \nL 167.766267 629.508814 \nL 167.766267 643.78339 \nL 167.431812 643.78339 \nz\n\" style=\"fill:#d9e6f5;stroke:#444443;stroke-linejoin:miter;stroke-width:0.5;\"/>\n   </g>\n   <g id=\"patch_44\">\n    <path clip-path=\"url(#pf657e1e3ca)\" d=\"M 167.431812 645.210847 \nL 167.766267 645.210847 \nL 167.766267 659.485424 \nL 167.431812 659.485424 \nz\n\" style=\"fill:#d9e6f5;stroke:#444443;stroke-linejoin:miter;stroke-width:0.5;\"/>\n   </g>\n   <g id=\"patch_45\">\n    <path clip-path=\"url(#pf657e1e3ca)\" d=\"M 167.431812 660.912881 \nL 167.766267 660.912881 \nL 167.766267 675.187458 \nL 167.431812 675.187458 \nz\n\" style=\"fill:#d9e6f5;stroke:#444443;stroke-linejoin:miter;stroke-width:0.5;\"/>\n   </g>\n   <g id=\"patch_46\">\n    <path clip-path=\"url(#pf657e1e3ca)\" d=\"M 167.431812 676.614915 \nL 167.766267 676.614915 \nL 167.766267 690.889492 \nL 167.431812 690.889492 \nz\n\" style=\"fill:#d9e6f5;stroke:#444443;stroke-linejoin:miter;stroke-width:0.5;\"/>\n   </g>\n   <g id=\"patch_47\">\n    <path clip-path=\"url(#pf657e1e3ca)\" d=\"M 167.431812 692.316949 \nL 167.766267 692.316949 \nL 167.766267 706.591525 \nL 167.431812 706.591525 \nz\n\" style=\"fill:#d9e6f5;stroke:#444443;stroke-linejoin:miter;stroke-width:0.5;\"/>\n   </g>\n   <g id=\"patch_48\">\n    <path clip-path=\"url(#pf657e1e3ca)\" d=\"M 167.431812 708.018983 \nL 167.766267 708.018983 \nL 167.766267 722.293559 \nL 167.431812 722.293559 \nz\n\" style=\"fill:#d9e6f5;stroke:#444443;stroke-linejoin:miter;stroke-width:0.5;\"/>\n   </g>\n   <g id=\"patch_49\">\n    <path clip-path=\"url(#pf657e1e3ca)\" d=\"M 167.431812 723.721017 \nL 167.766267 723.721017 \nL 167.766267 737.995593 \nL 167.431812 737.995593 \nz\n\" style=\"fill:#d9e6f5;stroke:#444443;stroke-linejoin:miter;stroke-width:0.5;\"/>\n   </g>\n   <g id=\"patch_50\">\n    <path clip-path=\"url(#pf657e1e3ca)\" d=\"M 167.431812 739.423051 \nL 167.766267 739.423051 \nL 167.766267 753.697627 \nL 167.431812 753.697627 \nz\n\" style=\"fill:#d9e6f5;stroke:#444443;stroke-linejoin:miter;stroke-width:0.5;\"/>\n   </g>\n   <g id=\"patch_51\">\n    <path clip-path=\"url(#pf657e1e3ca)\" d=\"M 167.431812 755.125085 \nL 167.766267 755.125085 \nL 167.766267 769.399661 \nL 167.431812 769.399661 \nz\n\" style=\"fill:#d9e6f5;stroke:#444443;stroke-linejoin:miter;stroke-width:0.5;\"/>\n   </g>\n   <g id=\"patch_52\">\n    <path clip-path=\"url(#pf657e1e3ca)\" d=\"M 167.431812 770.827119 \nL 167.766267 770.827119 \nL 167.766267 785.101695 \nL 167.431812 785.101695 \nz\n\" style=\"fill:#d9e6f5;stroke:#444443;stroke-linejoin:miter;stroke-width:0.5;\"/>\n   </g>\n   <g id=\"patch_53\">\n    <path clip-path=\"url(#pf657e1e3ca)\" d=\"M 167.431812 786.529153 \nL 167.766267 786.529153 \nL 167.766267 800.803729 \nL 167.431812 800.803729 \nz\n\" style=\"fill:#d9e6f5;stroke:#444443;stroke-linejoin:miter;stroke-width:0.5;\"/>\n   </g>\n   <g id=\"patch_54\">\n    <path clip-path=\"url(#pf657e1e3ca)\" d=\"M 167.431812 802.231186 \nL 167.654782 802.231186 \nL 167.654782 816.505763 \nL 167.431812 816.505763 \nz\n\" style=\"fill:#d9e6f5;stroke:#444443;stroke-linejoin:miter;stroke-width:0.5;\"/>\n   </g>\n   <g id=\"patch_55\">\n    <path clip-path=\"url(#pf657e1e3ca)\" d=\"M 167.431812 817.93322 \nL 167.654782 817.93322 \nL 167.654782 832.207797 \nL 167.431812 832.207797 \nz\n\" style=\"fill:#d9e6f5;stroke:#444443;stroke-linejoin:miter;stroke-width:0.5;\"/>\n   </g>\n   <g id=\"patch_56\">\n    <path clip-path=\"url(#pf657e1e3ca)\" d=\"M 167.431812 833.635254 \nL 167.654782 833.635254 \nL 167.654782 847.909831 \nL 167.431812 847.909831 \nz\n\" style=\"fill:#d9e6f5;stroke:#444443;stroke-linejoin:miter;stroke-width:0.5;\"/>\n   </g>\n   <g id=\"patch_57\">\n    <path clip-path=\"url(#pf657e1e3ca)\" d=\"M 167.431812 849.337288 \nL 167.654782 849.337288 \nL 167.654782 863.611864 \nL 167.431812 863.611864 \nz\n\" style=\"fill:#d9e6f5;stroke:#444443;stroke-linejoin:miter;stroke-width:0.5;\"/>\n   </g>\n   <g id=\"patch_58\">\n    <path clip-path=\"url(#pf657e1e3ca)\" d=\"M 167.431812 865.039322 \nL 167.654782 865.039322 \nL 167.654782 879.313898 \nL 167.431812 879.313898 \nz\n\" style=\"fill:#d9e6f5;stroke:#444443;stroke-linejoin:miter;stroke-width:0.5;\"/>\n   </g>\n   <g id=\"patch_59\">\n    <path clip-path=\"url(#pf657e1e3ca)\" d=\"M 167.431812 880.741356 \nL 167.654782 880.741356 \nL 167.654782 895.015932 \nL 167.431812 895.015932 \nz\n\" style=\"fill:#d9e6f5;stroke:#444443;stroke-linejoin:miter;stroke-width:0.5;\"/>\n   </g>\n   <g id=\"patch_60\">\n    <path clip-path=\"url(#pf657e1e3ca)\" d=\"M 167.431812 896.44339 \nL 167.654782 896.44339 \nL 167.654782 910.717966 \nL 167.431812 910.717966 \nz\n\" style=\"fill:#d9e6f5;stroke:#444443;stroke-linejoin:miter;stroke-width:0.5;\"/>\n   </g>\n   <g id=\"patch_61\">\n    <path clip-path=\"url(#pf657e1e3ca)\" d=\"M 167.431812 912.145424 \nL 167.654782 912.145424 \nL 167.654782 926.42 \nL 167.431812 926.42 \nz\n\" style=\"fill:#d9e6f5;stroke:#444443;stroke-linejoin:miter;stroke-width:0.5;\"/>\n   </g>\n   <g id=\"patch_62\">\n    <path clip-path=\"url(#pf657e1e3ca)\" d=\"M 167.431812 927.847458 \nL 167.654782 927.847458 \nL 167.654782 942.122034 \nL 167.431812 942.122034 \nz\n\" style=\"fill:#d9e6f5;stroke:#444443;stroke-linejoin:miter;stroke-width:0.5;\"/>\n   </g>\n   <g id=\"patch_63\">\n    <path clip-path=\"url(#pf657e1e3ca)\" d=\"M 167.431812 943.549492 \nL 167.654782 943.549492 \nL 167.654782 957.824068 \nL 167.431812 957.824068 \nz\n\" style=\"fill:#d9e6f5;stroke:#444443;stroke-linejoin:miter;stroke-width:0.5;\"/>\n   </g>\n   <g id=\"patch_64\">\n    <path clip-path=\"url(#pf657e1e3ca)\" d=\"M 167.431812 959.251525 \nL 167.654782 959.251525 \nL 167.654782 973.526102 \nL 167.431812 973.526102 \nz\n\" style=\"fill:#d9e6f5;stroke:#444443;stroke-linejoin:miter;stroke-width:0.5;\"/>\n   </g>\n   <g id=\"patch_65\">\n    <path clip-path=\"url(#pf657e1e3ca)\" d=\"M 167.431812 974.953559 \nL 167.654782 974.953559 \nL 167.654782 989.228136 \nL 167.431812 989.228136 \nz\n\" style=\"fill:#d9e6f5;stroke:#444443;stroke-linejoin:miter;stroke-width:0.5;\"/>\n   </g>\n   <g id=\"patch_66\">\n    <path clip-path=\"url(#pf657e1e3ca)\" d=\"M 167.431812 990.655593 \nL 167.654782 990.655593 \nL 167.654782 1004.930169 \nL 167.431812 1004.930169 \nz\n\" style=\"fill:#d9e6f5;stroke:#444443;stroke-linejoin:miter;stroke-width:0.5;\"/>\n   </g>\n   <g id=\"patch_67\">\n    <path clip-path=\"url(#pf657e1e3ca)\" d=\"M 167.431812 1006.357627 \nL 167.654782 1006.357627 \nL 167.654782 1020.632203 \nL 167.431812 1020.632203 \nz\n\" style=\"fill:#d9e6f5;stroke:#444443;stroke-linejoin:miter;stroke-width:0.5;\"/>\n   </g>\n   <g id=\"patch_68\">\n    <path clip-path=\"url(#pf657e1e3ca)\" d=\"M 167.431812 1022.059661 \nL 167.654782 1022.059661 \nL 167.654782 1036.334237 \nL 167.431812 1036.334237 \nz\n\" style=\"fill:#d9e6f5;stroke:#444443;stroke-linejoin:miter;stroke-width:0.5;\"/>\n   </g>\n   <g id=\"patch_69\">\n    <path clip-path=\"url(#pf657e1e3ca)\" d=\"M 167.431812 1037.761695 \nL 167.654782 1037.761695 \nL 167.654782 1052.036271 \nL 167.431812 1052.036271 \nz\n\" style=\"fill:#d9e6f5;stroke:#444443;stroke-linejoin:miter;stroke-width:0.5;\"/>\n   </g>\n   <g id=\"patch_70\">\n    <path clip-path=\"url(#pf657e1e3ca)\" d=\"M 167.431812 1053.463729 \nL 167.654782 1053.463729 \nL 167.654782 1067.738305 \nL 167.431812 1067.738305 \nz\n\" style=\"fill:#d9e6f5;stroke:#444443;stroke-linejoin:miter;stroke-width:0.5;\"/>\n   </g>\n   <g id=\"patch_71\">\n    <path clip-path=\"url(#pf657e1e3ca)\" d=\"M 167.431812 1069.165763 \nL 167.654782 1069.165763 \nL 167.654782 1083.440339 \nL 167.431812 1083.440339 \nz\n\" style=\"fill:#d9e6f5;stroke:#444443;stroke-linejoin:miter;stroke-width:0.5;\"/>\n   </g>\n   <g id=\"patch_72\">\n    <path clip-path=\"url(#pf657e1e3ca)\" d=\"M 167.431812 1084.867797 \nL 167.543297 1084.867797 \nL 167.543297 1099.142373 \nL 167.431812 1099.142373 \nz\n\" style=\"fill:#d9e6f5;stroke:#444443;stroke-linejoin:miter;stroke-width:0.5;\"/>\n   </g>\n   <g id=\"patch_73\">\n    <path clip-path=\"url(#pf657e1e3ca)\" d=\"M 167.431812 1100.569831 \nL 167.543297 1100.569831 \nL 167.543297 1114.844407 \nL 167.431812 1114.844407 \nz\n\" style=\"fill:#d9e6f5;stroke:#444443;stroke-linejoin:miter;stroke-width:0.5;\"/>\n   </g>\n   <g id=\"patch_74\">\n    <path clip-path=\"url(#pf657e1e3ca)\" d=\"M 167.431812 1116.271864 \nL 167.543297 1116.271864 \nL 167.543297 1130.546441 \nL 167.431812 1130.546441 \nz\n\" style=\"fill:#d9e6f5;stroke:#444443;stroke-linejoin:miter;stroke-width:0.5;\"/>\n   </g>\n   <g id=\"patch_75\">\n    <path clip-path=\"url(#pf657e1e3ca)\" d=\"M 167.431812 1131.973898 \nL 167.543297 1131.973898 \nL 167.543297 1146.248475 \nL 167.431812 1146.248475 \nz\n\" style=\"fill:#d9e6f5;stroke:#444443;stroke-linejoin:miter;stroke-width:0.5;\"/>\n   </g>\n   <g id=\"patch_76\">\n    <path clip-path=\"url(#pf657e1e3ca)\" d=\"M 167.431812 1147.675932 \nL 167.543297 1147.675932 \nL 167.543297 1161.950508 \nL 167.431812 1161.950508 \nz\n\" style=\"fill:#d9e6f5;stroke:#444443;stroke-linejoin:miter;stroke-width:0.5;\"/>\n   </g>\n   <g id=\"patch_77\">\n    <path clip-path=\"url(#pf657e1e3ca)\" d=\"M 167.431812 1163.377966 \nL 167.543297 1163.377966 \nL 167.543297 1177.652542 \nL 167.431812 1177.652542 \nz\n\" style=\"fill:#d9e6f5;stroke:#444443;stroke-linejoin:miter;stroke-width:0.5;\"/>\n   </g>\n   <g id=\"patch_78\">\n    <path clip-path=\"url(#pf657e1e3ca)\" d=\"M 167.431812 1179.08 \nL 167.543297 1179.08 \nL 167.543297 1193.354576 \nL 167.431812 1193.354576 \nz\n\" style=\"fill:#d9e6f5;stroke:#444443;stroke-linejoin:miter;stroke-width:0.5;\"/>\n   </g>\n   <g id=\"patch_79\">\n    <path clip-path=\"url(#pf657e1e3ca)\" d=\"M 167.431812 1194.782034 \nL 167.543297 1194.782034 \nL 167.543297 1209.05661 \nL 167.431812 1209.05661 \nz\n\" style=\"fill:#d9e6f5;stroke:#444443;stroke-linejoin:miter;stroke-width:0.5;\"/>\n   </g>\n   <g id=\"patch_80\">\n    <path clip-path=\"url(#pf657e1e3ca)\" d=\"M 167.431812 1210.484068 \nL 167.543297 1210.484068 \nL 167.543297 1224.758644 \nL 167.431812 1224.758644 \nz\n\" style=\"fill:#d9e6f5;stroke:#444443;stroke-linejoin:miter;stroke-width:0.5;\"/>\n   </g>\n   <g id=\"patch_81\">\n    <path clip-path=\"url(#pf657e1e3ca)\" d=\"M 167.431812 1226.186102 \nL 167.543297 1226.186102 \nL 167.543297 1240.460678 \nL 167.431812 1240.460678 \nz\n\" style=\"fill:#d9e6f5;stroke:#444443;stroke-linejoin:miter;stroke-width:0.5;\"/>\n   </g>\n   <g id=\"patch_82\">\n    <path clip-path=\"url(#pf657e1e3ca)\" d=\"M 167.431812 1241.888136 \nL 167.543297 1241.888136 \nL 167.543297 1256.162712 \nL 167.431812 1256.162712 \nz\n\" style=\"fill:#d9e6f5;stroke:#444443;stroke-linejoin:miter;stroke-width:0.5;\"/>\n   </g>\n   <g id=\"patch_83\">\n    <path clip-path=\"url(#pf657e1e3ca)\" d=\"M 167.431812 1257.590169 \nL 167.543297 1257.590169 \nL 167.543297 1271.864746 \nL 167.431812 1271.864746 \nz\n\" style=\"fill:#d9e6f5;stroke:#444443;stroke-linejoin:miter;stroke-width:0.5;\"/>\n   </g>\n   <g id=\"patch_84\">\n    <path clip-path=\"url(#pf657e1e3ca)\" d=\"M 167.431812 1273.292203 \nL 167.543297 1273.292203 \nL 167.543297 1287.56678 \nL 167.431812 1287.56678 \nz\n\" style=\"fill:#d9e6f5;stroke:#444443;stroke-linejoin:miter;stroke-width:0.5;\"/>\n   </g>\n   <g id=\"patch_85\">\n    <path clip-path=\"url(#pf657e1e3ca)\" d=\"M 167.431812 1288.994237 \nL 167.543297 1288.994237 \nL 167.543297 1303.268814 \nL 167.431812 1303.268814 \nz\n\" style=\"fill:#d9e6f5;stroke:#444443;stroke-linejoin:miter;stroke-width:0.5;\"/>\n   </g>\n   <g id=\"patch_86\">\n    <path clip-path=\"url(#pf657e1e3ca)\" d=\"M 167.431812 1304.696271 \nL 167.543297 1304.696271 \nL 167.543297 1318.970847 \nL 167.431812 1318.970847 \nz\n\" style=\"fill:#d9e6f5;stroke:#444443;stroke-linejoin:miter;stroke-width:0.5;\"/>\n   </g>\n   <g id=\"patch_87\">\n    <path clip-path=\"url(#pf657e1e3ca)\" d=\"M 167.431812 1320.398305 \nL 167.543297 1320.398305 \nL 167.543297 1334.672881 \nL 167.431812 1334.672881 \nz\n\" style=\"fill:#d9e6f5;stroke:#444443;stroke-linejoin:miter;stroke-width:0.5;\"/>\n   </g>\n   <g id=\"patch_88\">\n    <path clip-path=\"url(#pf657e1e3ca)\" d=\"M 167.431812 1336.100339 \nL 167.543297 1336.100339 \nL 167.543297 1350.374915 \nL 167.431812 1350.374915 \nz\n\" style=\"fill:#d9e6f5;stroke:#444443;stroke-linejoin:miter;stroke-width:0.5;\"/>\n   </g>\n   <g id=\"patch_89\">\n    <path clip-path=\"url(#pf657e1e3ca)\" d=\"M 167.431812 1351.802373 \nL 167.543297 1351.802373 \nL 167.543297 1366.076949 \nL 167.431812 1366.076949 \nz\n\" style=\"fill:#d9e6f5;stroke:#444443;stroke-linejoin:miter;stroke-width:0.5;\"/>\n   </g>\n   <g id=\"patch_90\">\n    <path clip-path=\"url(#pf657e1e3ca)\" d=\"M 167.431812 1367.504407 \nL 167.543297 1367.504407 \nL 167.543297 1381.778983 \nL 167.431812 1381.778983 \nz\n\" style=\"fill:#d9e6f5;stroke:#444443;stroke-linejoin:miter;stroke-width:0.5;\"/>\n   </g>\n   <g id=\"patch_91\">\n    <path clip-path=\"url(#pf657e1e3ca)\" d=\"M 167.431812 1383.206441 \nL 167.543297 1383.206441 \nL 167.543297 1397.481017 \nL 167.431812 1397.481017 \nz\n\" style=\"fill:#d9e6f5;stroke:#444443;stroke-linejoin:miter;stroke-width:0.5;\"/>\n   </g>\n   <g id=\"patch_92\">\n    <path clip-path=\"url(#pf657e1e3ca)\" d=\"M 167.431812 1398.908475 \nL 167.543297 1398.908475 \nL 167.543297 1413.183051 \nL 167.431812 1413.183051 \nz\n\" style=\"fill:#d9e6f5;stroke:#444443;stroke-linejoin:miter;stroke-width:0.5;\"/>\n   </g>\n   <g id=\"patch_93\">\n    <path clip-path=\"url(#pf657e1e3ca)\" d=\"M 167.431812 1414.610508 \nL 167.543297 1414.610508 \nL 167.543297 1428.885085 \nL 167.431812 1428.885085 \nz\n\" style=\"fill:#d9e6f5;stroke:#444443;stroke-linejoin:miter;stroke-width:0.5;\"/>\n   </g>\n   <g id=\"patch_94\">\n    <path clip-path=\"url(#pf657e1e3ca)\" d=\"M 167.431812 1430.312542 \nL 167.543297 1430.312542 \nL 167.543297 1444.587119 \nL 167.431812 1444.587119 \nz\n\" style=\"fill:#d9e6f5;stroke:#444443;stroke-linejoin:miter;stroke-width:0.5;\"/>\n   </g>\n   <g id=\"patch_95\">\n    <path clip-path=\"url(#pf657e1e3ca)\" d=\"M 167.431812 1446.014576 \nL 167.543297 1446.014576 \nL 167.543297 1460.289153 \nL 167.431812 1460.289153 \nz\n\" style=\"fill:#d9e6f5;stroke:#444443;stroke-linejoin:miter;stroke-width:0.5;\"/>\n   </g>\n   <g id=\"patch_96\">\n    <path clip-path=\"url(#pf657e1e3ca)\" d=\"M 167.431812 1461.71661 \nL 167.543297 1461.71661 \nL 167.543297 1475.991186 \nL 167.431812 1475.991186 \nz\n\" style=\"fill:#d9e6f5;stroke:#444443;stroke-linejoin:miter;stroke-width:0.5;\"/>\n   </g>\n   <g id=\"patch_97\">\n    <path clip-path=\"url(#pf657e1e3ca)\" d=\"M 167.431812 1477.418644 \nL 167.431812 1477.418644 \nL 167.431812 1491.69322 \nL 167.431812 1491.69322 \nz\n\" style=\"fill:#d9e6f5;stroke:#444443;stroke-linejoin:miter;stroke-width:0.5;\"/>\n   </g>\n   <g id=\"patch_98\">\n    <path clip-path=\"url(#pf657e1e3ca)\" d=\"M 167.431812 1493.120678 \nL 167.431812 1493.120678 \nL 167.431812 1507.395254 \nL 167.431812 1507.395254 \nz\n\" style=\"fill:#d9e6f5;stroke:#444443;stroke-linejoin:miter;stroke-width:0.5;\"/>\n   </g>\n   <g id=\"patch_99\">\n    <path clip-path=\"url(#pf657e1e3ca)\" d=\"M 167.431812 1508.822712 \nL 167.431812 1508.822712 \nL 167.431812 1523.097288 \nL 167.431812 1523.097288 \nz\n\" style=\"fill:#d9e6f5;stroke:#444443;stroke-linejoin:miter;stroke-width:0.5;\"/>\n   </g>\n   <g id=\"patch_100\">\n    <path clip-path=\"url(#pf657e1e3ca)\" d=\"M 167.431812 1524.524746 \nL 167.431812 1524.524746 \nL 167.431812 1538.799322 \nL 167.431812 1538.799322 \nz\n\" style=\"fill:#d9e6f5;stroke:#444443;stroke-linejoin:miter;stroke-width:0.5;\"/>\n   </g>\n   <g id=\"patch_101\">\n    <path clip-path=\"url(#pf657e1e3ca)\" d=\"M 167.431812 1540.22678 \nL 167.431812 1540.22678 \nL 167.431812 1554.501356 \nL 167.431812 1554.501356 \nz\n\" style=\"fill:#d9e6f5;stroke:#444443;stroke-linejoin:miter;stroke-width:0.5;\"/>\n   </g>\n   <g id=\"patch_102\">\n    <path clip-path=\"url(#pf657e1e3ca)\" d=\"M 167.431812 1555.928814 \nL 167.431812 1555.928814 \nL 167.431812 1570.20339 \nL 167.431812 1570.20339 \nz\n\" style=\"fill:#d9e6f5;stroke:#444443;stroke-linejoin:miter;stroke-width:0.5;\"/>\n   </g>\n   <g id=\"patch_103\">\n    <path clip-path=\"url(#pf657e1e3ca)\" d=\"M 167.431812 1571.630847 \nL 167.431812 1571.630847 \nL 167.431812 1585.905424 \nL 167.431812 1585.905424 \nz\n\" style=\"fill:#d9e6f5;stroke:#444443;stroke-linejoin:miter;stroke-width:0.5;\"/>\n   </g>\n   <g id=\"patch_104\">\n    <path clip-path=\"url(#pf657e1e3ca)\" d=\"M 167.431812 1587.332881 \nL 167.431812 1587.332881 \nL 167.431812 1601.607458 \nL 167.431812 1601.607458 \nz\n\" style=\"fill:#d9e6f5;stroke:#444443;stroke-linejoin:miter;stroke-width:0.5;\"/>\n   </g>\n   <g id=\"patch_105\">\n    <path clip-path=\"url(#pf657e1e3ca)\" d=\"M 167.431812 1603.034915 \nL 167.431812 1603.034915 \nL 167.431812 1617.309492 \nL 167.431812 1617.309492 \nz\n\" style=\"fill:#d9e6f5;stroke:#444443;stroke-linejoin:miter;stroke-width:0.5;\"/>\n   </g>\n   <g id=\"patch_106\">\n    <path clip-path=\"url(#pf657e1e3ca)\" d=\"M 167.431812 1618.736949 \nL 167.431812 1618.736949 \nL 167.431812 1633.011525 \nL 167.431812 1633.011525 \nz\n\" style=\"fill:#d9e6f5;stroke:#444443;stroke-linejoin:miter;stroke-width:0.5;\"/>\n   </g>\n   <g id=\"patch_107\">\n    <path clip-path=\"url(#pf657e1e3ca)\" d=\"M 167.431812 1634.438983 \nL 167.431812 1634.438983 \nL 167.431812 1648.713559 \nL 167.431812 1648.713559 \nz\n\" style=\"fill:#d9e6f5;stroke:#444443;stroke-linejoin:miter;stroke-width:0.5;\"/>\n   </g>\n   <g id=\"patch_108\">\n    <path clip-path=\"url(#pf657e1e3ca)\" d=\"M 167.431812 1650.141017 \nL 167.431812 1650.141017 \nL 167.431812 1664.415593 \nL 167.431812 1664.415593 \nz\n\" style=\"fill:#d9e6f5;stroke:#444443;stroke-linejoin:miter;stroke-width:0.5;\"/>\n   </g>\n   <g id=\"patch_109\">\n    <path clip-path=\"url(#pf657e1e3ca)\" d=\"M 167.431812 1665.843051 \nL 167.431812 1665.843051 \nL 167.431812 1680.117627 \nL 167.431812 1680.117627 \nz\n\" style=\"fill:#d9e6f5;stroke:#444443;stroke-linejoin:miter;stroke-width:0.5;\"/>\n   </g>\n   <g id=\"patch_110\">\n    <path clip-path=\"url(#pf657e1e3ca)\" d=\"M 167.431812 1681.545085 \nL 167.431812 1681.545085 \nL 167.431812 1695.819661 \nL 167.431812 1695.819661 \nz\n\" style=\"fill:#d9e6f5;stroke:#444443;stroke-linejoin:miter;stroke-width:0.5;\"/>\n   </g>\n   <g id=\"patch_111\">\n    <path clip-path=\"url(#pf657e1e3ca)\" d=\"M 167.431812 1697.247119 \nL 167.431812 1697.247119 \nL 167.431812 1711.521695 \nL 167.431812 1711.521695 \nz\n\" style=\"fill:#d9e6f5;stroke:#444443;stroke-linejoin:miter;stroke-width:0.5;\"/>\n   </g>\n   <g id=\"patch_112\">\n    <path clip-path=\"url(#pf657e1e3ca)\" d=\"M 167.431812 1712.949153 \nL 167.431812 1712.949153 \nL 167.431812 1727.223729 \nL 167.431812 1727.223729 \nz\n\" style=\"fill:#d9e6f5;stroke:#444443;stroke-linejoin:miter;stroke-width:0.5;\"/>\n   </g>\n   <g id=\"patch_113\">\n    <path clip-path=\"url(#pf657e1e3ca)\" d=\"M 167.431812 1728.651186 \nL 167.431812 1728.651186 \nL 167.431812 1742.925763 \nL 167.431812 1742.925763 \nz\n\" style=\"fill:#d9e6f5;stroke:#444443;stroke-linejoin:miter;stroke-width:0.5;\"/>\n   </g>\n   <g id=\"patch_114\">\n    <path clip-path=\"url(#pf657e1e3ca)\" d=\"M 167.431812 1744.35322 \nL 167.431812 1744.35322 \nL 167.431812 1758.627797 \nL 167.431812 1758.627797 \nz\n\" style=\"fill:#d9e6f5;stroke:#444443;stroke-linejoin:miter;stroke-width:0.5;\"/>\n   </g>\n   <g id=\"patch_115\">\n    <path clip-path=\"url(#pf657e1e3ca)\" d=\"M 167.431812 1760.055254 \nL 167.431812 1760.055254 \nL 167.431812 1774.329831 \nL 167.431812 1774.329831 \nz\n\" style=\"fill:#d9e6f5;stroke:#444443;stroke-linejoin:miter;stroke-width:0.5;\"/>\n   </g>\n   <g id=\"patch_116\">\n    <path clip-path=\"url(#pf657e1e3ca)\" d=\"M 167.431812 1775.757288 \nL 167.431812 1775.757288 \nL 167.431812 1790.031864 \nL 167.431812 1790.031864 \nz\n\" style=\"fill:#d9e6f5;stroke:#444443;stroke-linejoin:miter;stroke-width:0.5;\"/>\n   </g>\n   <g id=\"patch_117\">\n    <path clip-path=\"url(#pf657e1e3ca)\" d=\"M 167.431812 1791.459322 \nL 167.431812 1791.459322 \nL 167.431812 1805.733898 \nL 167.431812 1805.733898 \nz\n\" style=\"fill:#d9e6f5;stroke:#444443;stroke-linejoin:miter;stroke-width:0.5;\"/>\n   </g>\n   <g id=\"patch_118\">\n    <path clip-path=\"url(#pf657e1e3ca)\" d=\"M 167.431812 1807.161356 \nL 167.431812 1807.161356 \nL 167.431812 1821.435932 \nL 167.431812 1821.435932 \nz\n\" style=\"fill:#d9e6f5;stroke:#444443;stroke-linejoin:miter;stroke-width:0.5;\"/>\n   </g>\n   <g id=\"patch_119\">\n    <path clip-path=\"url(#pf657e1e3ca)\" d=\"M 167.431812 1822.86339 \nL 167.431812 1822.86339 \nL 167.431812 1837.137966 \nL 167.431812 1837.137966 \nz\n\" style=\"fill:#d9e6f5;stroke:#444443;stroke-linejoin:miter;stroke-width:0.5;\"/>\n   </g>\n   <g id=\"patch_120\">\n    <path clip-path=\"url(#pf657e1e3ca)\" d=\"M 167.431812 1838.565424 \nL 167.431812 1838.565424 \nL 167.431812 1852.84 \nL 167.431812 1852.84 \nz\n\" style=\"fill:#d9e6f5;stroke:#444443;stroke-linejoin:miter;stroke-width:0.5;\"/>\n   </g>\n   <g id=\"patch_121\">\n    <path clip-path=\"url(#pf657e1e3ca)\" d=\"M 167.431812 1854.267458 \nL 167.431812 1854.267458 \nL 167.431812 1868.542034 \nL 167.431812 1868.542034 \nz\n\" style=\"fill:#d9e6f5;stroke:#444443;stroke-linejoin:miter;stroke-width:0.5;\"/>\n   </g>\n   <g id=\"patch_122\">\n    <path clip-path=\"url(#pf657e1e3ca)\" d=\"M 167.431812 1869.969492 \nL 167.431812 1869.969492 \nL 167.431812 1884.244068 \nL 167.431812 1884.244068 \nz\n\" style=\"fill:#d9e6f5;stroke:#444443;stroke-linejoin:miter;stroke-width:0.5;\"/>\n   </g>\n   <g id=\"patch_123\">\n    <path clip-path=\"url(#pf657e1e3ca)\" d=\"M 167.431812 1885.671525 \nL 167.431812 1885.671525 \nL 167.431812 1899.946102 \nL 167.431812 1899.946102 \nz\n\" style=\"fill:#d9e6f5;stroke:#444443;stroke-linejoin:miter;stroke-width:0.5;\"/>\n   </g>\n   <g id=\"patch_124\">\n    <path clip-path=\"url(#pf657e1e3ca)\" d=\"M 167.431812 1901.373559 \nL 167.431812 1901.373559 \nL 167.431812 1915.648136 \nL 167.431812 1915.648136 \nz\n\" style=\"fill:#d9e6f5;stroke:#444443;stroke-linejoin:miter;stroke-width:0.5;\"/>\n   </g>\n   <g id=\"patch_125\">\n    <path clip-path=\"url(#pf657e1e3ca)\" d=\"M 167.431812 1917.075593 \nL 167.431812 1917.075593 \nL 167.431812 1931.350169 \nL 167.431812 1931.350169 \nz\n\" style=\"fill:#d9e6f5;stroke:#444443;stroke-linejoin:miter;stroke-width:0.5;\"/>\n   </g>\n   <g id=\"patch_126\">\n    <path clip-path=\"url(#pf657e1e3ca)\" d=\"M 167.431812 1932.777627 \nL 167.431812 1932.777627 \nL 167.431812 1947.052203 \nL 167.431812 1947.052203 \nz\n\" style=\"fill:#d9e6f5;stroke:#444443;stroke-linejoin:miter;stroke-width:0.5;\"/>\n   </g>\n   <g id=\"patch_127\">\n    <path clip-path=\"url(#pf657e1e3ca)\" d=\"M 167.431812 1948.479661 \nL 167.431812 1948.479661 \nL 167.431812 1962.754237 \nL 167.431812 1962.754237 \nz\n\" style=\"fill:#d9e6f5;stroke:#444443;stroke-linejoin:miter;stroke-width:0.5;\"/>\n   </g>\n   <g id=\"patch_128\">\n    <path clip-path=\"url(#pf657e1e3ca)\" d=\"M 167.431812 1964.181695 \nL 167.431812 1964.181695 \nL 167.431812 1978.456271 \nL 167.431812 1978.456271 \nz\n\" style=\"fill:#d9e6f5;stroke:#444443;stroke-linejoin:miter;stroke-width:0.5;\"/>\n   </g>\n   <g id=\"patch_129\">\n    <path clip-path=\"url(#pf657e1e3ca)\" d=\"M 167.431812 1979.883729 \nL 167.431812 1979.883729 \nL 167.431812 1994.158305 \nL 167.431812 1994.158305 \nz\n\" style=\"fill:#d9e6f5;stroke:#444443;stroke-linejoin:miter;stroke-width:0.5;\"/>\n   </g>\n   <g id=\"patch_130\">\n    <path clip-path=\"url(#pf657e1e3ca)\" d=\"M 167.431812 1995.585763 \nL 167.431812 1995.585763 \nL 167.431812 2009.860339 \nL 167.431812 2009.860339 \nz\n\" style=\"fill:#d9e6f5;stroke:#444443;stroke-linejoin:miter;stroke-width:0.5;\"/>\n   </g>\n   <g id=\"patch_131\">\n    <path clip-path=\"url(#pf657e1e3ca)\" d=\"M 167.431812 2011.287797 \nL 167.431812 2011.287797 \nL 167.431812 2025.562373 \nL 167.431812 2025.562373 \nz\n\" style=\"fill:#d9e6f5;stroke:#444443;stroke-linejoin:miter;stroke-width:0.5;\"/>\n   </g>\n   <g id=\"patch_132\">\n    <path clip-path=\"url(#pf657e1e3ca)\" d=\"M 167.431812 2026.989831 \nL 167.431812 2026.989831 \nL 167.431812 2041.264407 \nL 167.431812 2041.264407 \nz\n\" style=\"fill:#d9e6f5;stroke:#444443;stroke-linejoin:miter;stroke-width:0.5;\"/>\n   </g>\n   <g id=\"patch_133\">\n    <path clip-path=\"url(#pf657e1e3ca)\" d=\"M 167.431812 2042.691864 \nL 167.431812 2042.691864 \nL 167.431812 2056.966441 \nL 167.431812 2056.966441 \nz\n\" style=\"fill:#d9e6f5;stroke:#444443;stroke-linejoin:miter;stroke-width:0.5;\"/>\n   </g>\n   <g id=\"patch_134\">\n    <path clip-path=\"url(#pf657e1e3ca)\" d=\"M 167.431812 2058.393898 \nL 167.431812 2058.393898 \nL 167.431812 2072.668475 \nL 167.431812 2072.668475 \nz\n\" style=\"fill:#d9e6f5;stroke:#444443;stroke-linejoin:miter;stroke-width:0.5;\"/>\n   </g>\n   <g id=\"patch_135\">\n    <path clip-path=\"url(#pf657e1e3ca)\" d=\"M 167.431812 2074.095932 \nL 167.431812 2074.095932 \nL 167.431812 2088.370508 \nL 167.431812 2088.370508 \nz\n\" style=\"fill:#d9e6f5;stroke:#444443;stroke-linejoin:miter;stroke-width:0.5;\"/>\n   </g>\n   <g id=\"patch_136\">\n    <path clip-path=\"url(#pf657e1e3ca)\" d=\"M 167.431812 2089.797966 \nL 167.431812 2089.797966 \nL 167.431812 2104.072542 \nL 167.431812 2104.072542 \nz\n\" style=\"fill:#d9e6f5;stroke:#444443;stroke-linejoin:miter;stroke-width:0.5;\"/>\n   </g>\n   <g id=\"patch_137\">\n    <path clip-path=\"url(#pf657e1e3ca)\" d=\"M 167.431812 2105.5 \nL 167.431812 2105.5 \nL 167.431812 2119.774576 \nL 167.431812 2119.774576 \nz\n\" style=\"fill:#d9e6f5;stroke:#444443;stroke-linejoin:miter;stroke-width:0.5;\"/>\n   </g>\n   <g id=\"patch_138\">\n    <path clip-path=\"url(#pf657e1e3ca)\" d=\"M 167.431812 2121.202034 \nL 167.431812 2121.202034 \nL 167.431812 2135.47661 \nL 167.431812 2135.47661 \nz\n\" style=\"fill:#d9e6f5;stroke:#444443;stroke-linejoin:miter;stroke-width:0.5;\"/>\n   </g>\n   <g id=\"patch_139\">\n    <path clip-path=\"url(#pf657e1e3ca)\" d=\"M 167.431812 2136.904068 \nL 167.431812 2136.904068 \nL 167.431812 2151.178644 \nL 167.431812 2151.178644 \nz\n\" style=\"fill:#d9e6f5;stroke:#444443;stroke-linejoin:miter;stroke-width:0.5;\"/>\n   </g>\n   <g id=\"patch_140\">\n    <path clip-path=\"url(#pf657e1e3ca)\" d=\"M 167.431812 2152.606102 \nL 167.431812 2152.606102 \nL 167.431812 2166.880678 \nL 167.431812 2166.880678 \nz\n\" style=\"fill:#d9e6f5;stroke:#444443;stroke-linejoin:miter;stroke-width:0.5;\"/>\n   </g>\n   <g id=\"patch_141\">\n    <path clip-path=\"url(#pf657e1e3ca)\" d=\"M 167.431812 2168.308136 \nL 167.431812 2168.308136 \nL 167.431812 2182.582712 \nL 167.431812 2182.582712 \nz\n\" style=\"fill:#d9e6f5;stroke:#444443;stroke-linejoin:miter;stroke-width:0.5;\"/>\n   </g>\n   <g id=\"patch_142\">\n    <path clip-path=\"url(#pf657e1e3ca)\" d=\"M 167.431812 2184.010169 \nL 167.431812 2184.010169 \nL 167.431812 2198.284746 \nL 167.431812 2198.284746 \nz\n\" style=\"fill:#d9e6f5;stroke:#444443;stroke-linejoin:miter;stroke-width:0.5;\"/>\n   </g>\n   <g id=\"patch_143\">\n    <path clip-path=\"url(#pf657e1e3ca)\" d=\"M 167.431812 2199.712203 \nL 167.431812 2199.712203 \nL 167.431812 2213.98678 \nL 167.431812 2213.98678 \nz\n\" style=\"fill:#d9e6f5;stroke:#444443;stroke-linejoin:miter;stroke-width:0.5;\"/>\n   </g>\n   <g id=\"patch_144\">\n    <path clip-path=\"url(#pf657e1e3ca)\" d=\"M 167.431812 2215.414237 \nL 167.431812 2215.414237 \nL 167.431812 2229.688814 \nL 167.431812 2229.688814 \nz\n\" style=\"fill:#d9e6f5;stroke:#444443;stroke-linejoin:miter;stroke-width:0.5;\"/>\n   </g>\n   <g id=\"patch_145\">\n    <path clip-path=\"url(#pf657e1e3ca)\" d=\"M 167.431812 2231.116271 \nL 167.431812 2231.116271 \nL 167.431812 2245.390847 \nL 167.431812 2245.390847 \nz\n\" style=\"fill:#d9e6f5;stroke:#444443;stroke-linejoin:miter;stroke-width:0.5;\"/>\n   </g>\n   <g id=\"patch_146\">\n    <path clip-path=\"url(#pf657e1e3ca)\" d=\"M 167.431812 2246.818305 \nL 167.431812 2246.818305 \nL 167.431812 2261.092881 \nL 167.431812 2261.092881 \nz\n\" style=\"fill:#d9e6f5;stroke:#444443;stroke-linejoin:miter;stroke-width:0.5;\"/>\n   </g>\n   <g id=\"patch_147\">\n    <path clip-path=\"url(#pf657e1e3ca)\" d=\"M 167.431812 2262.520339 \nL 167.431812 2262.520339 \nL 167.431812 2276.794915 \nL 167.431812 2276.794915 \nz\n\" style=\"fill:#d9e6f5;stroke:#444443;stroke-linejoin:miter;stroke-width:0.5;\"/>\n   </g>\n   <g id=\"patch_148\">\n    <path clip-path=\"url(#pf657e1e3ca)\" d=\"M 167.431812 2278.222373 \nL 167.431812 2278.222373 \nL 167.431812 2292.496949 \nL 167.431812 2292.496949 \nz\n\" style=\"fill:#d9e6f5;stroke:#444443;stroke-linejoin:miter;stroke-width:0.5;\"/>\n   </g>\n   <g id=\"patch_149\">\n    <path clip-path=\"url(#pf657e1e3ca)\" d=\"M 167.431812 2293.924407 \nL 167.431812 2293.924407 \nL 167.431812 2308.198983 \nL 167.431812 2308.198983 \nz\n\" style=\"fill:#d9e6f5;stroke:#444443;stroke-linejoin:miter;stroke-width:0.5;\"/>\n   </g>\n   <g id=\"patch_150\">\n    <path clip-path=\"url(#pf657e1e3ca)\" d=\"M 167.431812 2309.626441 \nL 167.431812 2309.626441 \nL 167.431812 2323.901017 \nL 167.431812 2323.901017 \nz\n\" style=\"fill:#d9e6f5;stroke:#444443;stroke-linejoin:miter;stroke-width:0.5;\"/>\n   </g>\n   <g id=\"patch_151\">\n    <path clip-path=\"url(#pf657e1e3ca)\" d=\"M 167.431812 2325.328475 \nL 167.431812 2325.328475 \nL 167.431812 2339.603051 \nL 167.431812 2339.603051 \nz\n\" style=\"fill:#d9e6f5;stroke:#444443;stroke-linejoin:miter;stroke-width:0.5;\"/>\n   </g>\n   <g id=\"patch_152\">\n    <path clip-path=\"url(#pf657e1e3ca)\" d=\"M 167.431812 2341.030508 \nL 167.431812 2341.030508 \nL 167.431812 2355.305085 \nL 167.431812 2355.305085 \nz\n\" style=\"fill:#d9e6f5;stroke:#444443;stroke-linejoin:miter;stroke-width:0.5;\"/>\n   </g>\n   <g id=\"patch_153\">\n    <path clip-path=\"url(#pf657e1e3ca)\" d=\"M 167.431812 2356.732542 \nL 167.431812 2356.732542 \nL 167.431812 2371.007119 \nL 167.431812 2371.007119 \nz\n\" style=\"fill:#d9e6f5;stroke:#444443;stroke-linejoin:miter;stroke-width:0.5;\"/>\n   </g>\n   <g id=\"patch_154\">\n    <path clip-path=\"url(#pf657e1e3ca)\" d=\"M 167.431812 2372.434576 \nL 167.431812 2372.434576 \nL 167.431812 2386.709153 \nL 167.431812 2386.709153 \nz\n\" style=\"fill:#d9e6f5;stroke:#444443;stroke-linejoin:miter;stroke-width:0.5;\"/>\n   </g>\n   <g id=\"patch_155\">\n    <path clip-path=\"url(#pf657e1e3ca)\" d=\"M 167.431812 2388.13661 \nL 167.431812 2388.13661 \nL 167.431812 2402.411186 \nL 167.431812 2402.411186 \nz\n\" style=\"fill:#d9e6f5;stroke:#444443;stroke-linejoin:miter;stroke-width:0.5;\"/>\n   </g>\n   <g id=\"patch_156\">\n    <path clip-path=\"url(#pf657e1e3ca)\" d=\"M 167.431812 2403.838644 \nL 167.431812 2403.838644 \nL 167.431812 2418.11322 \nL 167.431812 2418.11322 \nz\n\" style=\"fill:#d9e6f5;stroke:#444443;stroke-linejoin:miter;stroke-width:0.5;\"/>\n   </g>\n   <g id=\"patch_157\">\n    <path clip-path=\"url(#pf657e1e3ca)\" d=\"M 167.431812 2419.540678 \nL 167.431812 2419.540678 \nL 167.431812 2433.815254 \nL 167.431812 2433.815254 \nz\n\" style=\"fill:#d9e6f5;stroke:#444443;stroke-linejoin:miter;stroke-width:0.5;\"/>\n   </g>\n   <g id=\"patch_158\">\n    <path clip-path=\"url(#pf657e1e3ca)\" d=\"M 167.431812 2435.242712 \nL 167.431812 2435.242712 \nL 167.431812 2449.517288 \nL 167.431812 2449.517288 \nz\n\" style=\"fill:#d9e6f5;stroke:#444443;stroke-linejoin:miter;stroke-width:0.5;\"/>\n   </g>\n   <g id=\"patch_159\">\n    <path clip-path=\"url(#pf657e1e3ca)\" d=\"M 167.431812 2450.944746 \nL 167.431812 2450.944746 \nL 167.431812 2465.219322 \nL 167.431812 2465.219322 \nz\n\" style=\"fill:#d9e6f5;stroke:#444443;stroke-linejoin:miter;stroke-width:0.5;\"/>\n   </g>\n   <g id=\"patch_160\">\n    <path clip-path=\"url(#pf657e1e3ca)\" d=\"M 167.431812 2466.64678 \nL 167.431812 2466.64678 \nL 167.431812 2480.921356 \nL 167.431812 2480.921356 \nz\n\" style=\"fill:#d9e6f5;stroke:#444443;stroke-linejoin:miter;stroke-width:0.5;\"/>\n   </g>\n   <g id=\"patch_161\">\n    <path clip-path=\"url(#pf657e1e3ca)\" d=\"M 167.431812 2482.348814 \nL 167.431812 2482.348814 \nL 167.431812 2496.62339 \nL 167.431812 2496.62339 \nz\n\" style=\"fill:#d9e6f5;stroke:#444443;stroke-linejoin:miter;stroke-width:0.5;\"/>\n   </g>\n   <g id=\"patch_162\">\n    <path clip-path=\"url(#pf657e1e3ca)\" d=\"M 167.431812 2498.050847 \nL 167.431812 2498.050847 \nL 167.431812 2512.325424 \nL 167.431812 2512.325424 \nz\n\" style=\"fill:#d9e6f5;stroke:#444443;stroke-linejoin:miter;stroke-width:0.5;\"/>\n   </g>\n   <g id=\"patch_163\">\n    <path clip-path=\"url(#pf657e1e3ca)\" d=\"M 167.431812 2513.752881 \nL 167.431812 2513.752881 \nL 167.431812 2528.027458 \nL 167.431812 2528.027458 \nz\n\" style=\"fill:#d9e6f5;stroke:#444443;stroke-linejoin:miter;stroke-width:0.5;\"/>\n   </g>\n   <g id=\"patch_164\">\n    <path clip-path=\"url(#pf657e1e3ca)\" d=\"M 167.431812 2529.454915 \nL 167.431812 2529.454915 \nL 167.431812 2543.729492 \nL 167.431812 2543.729492 \nz\n\" style=\"fill:#d9e6f5;stroke:#444443;stroke-linejoin:miter;stroke-width:0.5;\"/>\n   </g>\n   <g id=\"patch_165\">\n    <path clip-path=\"url(#pf657e1e3ca)\" d=\"M 167.431812 2545.156949 \nL 167.431812 2545.156949 \nL 167.431812 2559.431525 \nL 167.431812 2559.431525 \nz\n\" style=\"fill:#d9e6f5;stroke:#444443;stroke-linejoin:miter;stroke-width:0.5;\"/>\n   </g>\n   <g id=\"patch_166\">\n    <path clip-path=\"url(#pf657e1e3ca)\" d=\"M 167.431812 2560.858983 \nL 167.431812 2560.858983 \nL 167.431812 2575.133559 \nL 167.431812 2575.133559 \nz\n\" style=\"fill:#d9e6f5;stroke:#444443;stroke-linejoin:miter;stroke-width:0.5;\"/>\n   </g>\n   <g id=\"patch_167\">\n    <path clip-path=\"url(#pf657e1e3ca)\" d=\"M 167.431812 2576.561017 \nL 167.431812 2576.561017 \nL 167.431812 2590.835593 \nL 167.431812 2590.835593 \nz\n\" style=\"fill:#d9e6f5;stroke:#444443;stroke-linejoin:miter;stroke-width:0.5;\"/>\n   </g>\n   <g id=\"patch_168\">\n    <path clip-path=\"url(#pf657e1e3ca)\" d=\"M 167.431812 2592.263051 \nL 167.431812 2592.263051 \nL 167.431812 2606.537627 \nL 167.431812 2606.537627 \nz\n\" style=\"fill:#d9e6f5;stroke:#444443;stroke-linejoin:miter;stroke-width:0.5;\"/>\n   </g>\n   <g id=\"patch_169\">\n    <path clip-path=\"url(#pf657e1e3ca)\" d=\"M 167.431812 2607.965085 \nL 167.431812 2607.965085 \nL 167.431812 2622.239661 \nL 167.431812 2622.239661 \nz\n\" style=\"fill:#d9e6f5;stroke:#444443;stroke-linejoin:miter;stroke-width:0.5;\"/>\n   </g>\n   <g id=\"patch_170\">\n    <path clip-path=\"url(#pf657e1e3ca)\" d=\"M 167.431812 2623.667119 \nL 167.431812 2623.667119 \nL 167.431812 2637.941695 \nL 167.431812 2637.941695 \nz\n\" style=\"fill:#d9e6f5;stroke:#444443;stroke-linejoin:miter;stroke-width:0.5;\"/>\n   </g>\n   <g id=\"patch_171\">\n    <path clip-path=\"url(#pf657e1e3ca)\" d=\"M 167.431812 2639.369153 \nL 167.431812 2639.369153 \nL 167.431812 2653.643729 \nL 167.431812 2653.643729 \nz\n\" style=\"fill:#d9e6f5;stroke:#444443;stroke-linejoin:miter;stroke-width:0.5;\"/>\n   </g>\n   <g id=\"patch_172\">\n    <path clip-path=\"url(#pf657e1e3ca)\" d=\"M 167.431812 2655.071186 \nL 167.431812 2655.071186 \nL 167.431812 2669.345763 \nL 167.431812 2669.345763 \nz\n\" style=\"fill:#d9e6f5;stroke:#444443;stroke-linejoin:miter;stroke-width:0.5;\"/>\n   </g>\n   <g id=\"patch_173\">\n    <path clip-path=\"url(#pf657e1e3ca)\" d=\"M 167.431812 2670.77322 \nL 167.431812 2670.77322 \nL 167.431812 2685.047797 \nL 167.431812 2685.047797 \nz\n\" style=\"fill:#d9e6f5;stroke:#444443;stroke-linejoin:miter;stroke-width:0.5;\"/>\n   </g>\n   <g id=\"patch_174\">\n    <path clip-path=\"url(#pf657e1e3ca)\" d=\"M 167.431812 2686.475254 \nL 167.431812 2686.475254 \nL 167.431812 2700.749831 \nL 167.431812 2700.749831 \nz\n\" style=\"fill:#d9e6f5;stroke:#444443;stroke-linejoin:miter;stroke-width:0.5;\"/>\n   </g>\n   <g id=\"patch_175\">\n    <path clip-path=\"url(#pf657e1e3ca)\" d=\"M 167.431812 2702.177288 \nL 167.431812 2702.177288 \nL 167.431812 2716.451864 \nL 167.431812 2716.451864 \nz\n\" style=\"fill:#d9e6f5;stroke:#444443;stroke-linejoin:miter;stroke-width:0.5;\"/>\n   </g>\n   <g id=\"patch_176\">\n    <path clip-path=\"url(#pf657e1e3ca)\" d=\"M 167.431812 2717.879322 \nL 167.431812 2717.879322 \nL 167.431812 2732.153898 \nL 167.431812 2732.153898 \nz\n\" style=\"fill:#d9e6f5;stroke:#444443;stroke-linejoin:miter;stroke-width:0.5;\"/>\n   </g>\n   <g id=\"patch_177\">\n    <path clip-path=\"url(#pf657e1e3ca)\" d=\"M 167.431812 2733.581356 \nL 167.431812 2733.581356 \nL 167.431812 2747.855932 \nL 167.431812 2747.855932 \nz\n\" style=\"fill:#d9e6f5;stroke:#444443;stroke-linejoin:miter;stroke-width:0.5;\"/>\n   </g>\n   <g id=\"patch_178\">\n    <path clip-path=\"url(#pf657e1e3ca)\" d=\"M 167.431812 2749.28339 \nL 167.431812 2749.28339 \nL 167.431812 2763.557966 \nL 167.431812 2763.557966 \nz\n\" style=\"fill:#d9e6f5;stroke:#444443;stroke-linejoin:miter;stroke-width:0.5;\"/>\n   </g>\n   <g id=\"patch_179\">\n    <path clip-path=\"url(#pf657e1e3ca)\" d=\"M 167.431812 2764.985424 \nL 167.431812 2764.985424 \nL 167.431812 2779.26 \nL 167.431812 2779.26 \nz\n\" style=\"fill:#d9e6f5;stroke:#444443;stroke-linejoin:miter;stroke-width:0.5;\"/>\n   </g>\n   <g id=\"patch_180\">\n    <path clip-path=\"url(#pf657e1e3ca)\" d=\"M 167.431812 2780.687458 \nL 167.431812 2780.687458 \nL 167.431812 2794.962034 \nL 167.431812 2794.962034 \nz\n\" style=\"fill:#d9e6f5;stroke:#444443;stroke-linejoin:miter;stroke-width:0.5;\"/>\n   </g>\n   <g id=\"patch_181\">\n    <path clip-path=\"url(#pf657e1e3ca)\" d=\"M 167.431812 2796.389492 \nL 167.431812 2796.389492 \nL 167.431812 2810.664068 \nL 167.431812 2810.664068 \nz\n\" style=\"fill:#d9e6f5;stroke:#444443;stroke-linejoin:miter;stroke-width:0.5;\"/>\n   </g>\n   <g id=\"patch_182\">\n    <path clip-path=\"url(#pf657e1e3ca)\" d=\"M 167.431812 2812.091525 \nL 167.431812 2812.091525 \nL 167.431812 2826.366102 \nL 167.431812 2826.366102 \nz\n\" style=\"fill:#d9e6f5;stroke:#444443;stroke-linejoin:miter;stroke-width:0.5;\"/>\n   </g>\n   <g id=\"patch_183\">\n    <path clip-path=\"url(#pf657e1e3ca)\" d=\"M 167.431812 2827.793559 \nL 167.431812 2827.793559 \nL 167.431812 2842.068136 \nL 167.431812 2842.068136 \nz\n\" style=\"fill:#d9e6f5;stroke:#444443;stroke-linejoin:miter;stroke-width:0.5;\"/>\n   </g>\n   <g id=\"patch_184\">\n    <path clip-path=\"url(#pf657e1e3ca)\" d=\"M 167.431812 2843.495593 \nL 167.431812 2843.495593 \nL 167.431812 2857.770169 \nL 167.431812 2857.770169 \nz\n\" style=\"fill:#d9e6f5;stroke:#444443;stroke-linejoin:miter;stroke-width:0.5;\"/>\n   </g>\n   <g id=\"patch_185\">\n    <path clip-path=\"url(#pf657e1e3ca)\" d=\"M 167.431812 2859.197627 \nL 167.431812 2859.197627 \nL 167.431812 2873.472203 \nL 167.431812 2873.472203 \nz\n\" style=\"fill:#d9e6f5;stroke:#444443;stroke-linejoin:miter;stroke-width:0.5;\"/>\n   </g>\n   <g id=\"patch_186\">\n    <path clip-path=\"url(#pf657e1e3ca)\" d=\"M 167.431812 2874.899661 \nL 167.431812 2874.899661 \nL 167.431812 2889.174237 \nL 167.431812 2889.174237 \nz\n\" style=\"fill:#d9e6f5;stroke:#444443;stroke-linejoin:miter;stroke-width:0.5;\"/>\n   </g>\n   <g id=\"patch_187\">\n    <path clip-path=\"url(#pf657e1e3ca)\" d=\"M 167.431812 2890.601695 \nL 167.431812 2890.601695 \nL 167.431812 2904.876271 \nL 167.431812 2904.876271 \nz\n\" style=\"fill:#d9e6f5;stroke:#444443;stroke-linejoin:miter;stroke-width:0.5;\"/>\n   </g>\n   <g id=\"patch_188\">\n    <path clip-path=\"url(#pf657e1e3ca)\" d=\"M 167.431812 2906.303729 \nL 167.431812 2906.303729 \nL 167.431812 2920.578305 \nL 167.431812 2920.578305 \nz\n\" style=\"fill:#d9e6f5;stroke:#444443;stroke-linejoin:miter;stroke-width:0.5;\"/>\n   </g>\n   <g id=\"patch_189\">\n    <path clip-path=\"url(#pf657e1e3ca)\" d=\"M 167.431812 2922.005763 \nL 167.431812 2922.005763 \nL 167.431812 2936.280339 \nL 167.431812 2936.280339 \nz\n\" style=\"fill:#d9e6f5;stroke:#444443;stroke-linejoin:miter;stroke-width:0.5;\"/>\n   </g>\n   <g id=\"patch_190\">\n    <path clip-path=\"url(#pf657e1e3ca)\" d=\"M 167.431812 2937.707797 \nL 167.431812 2937.707797 \nL 167.431812 2951.982373 \nL 167.431812 2951.982373 \nz\n\" style=\"fill:#d9e6f5;stroke:#444443;stroke-linejoin:miter;stroke-width:0.5;\"/>\n   </g>\n   <g id=\"patch_191\">\n    <path clip-path=\"url(#pf657e1e3ca)\" d=\"M 167.431812 2953.409831 \nL 167.431812 2953.409831 \nL 167.431812 2967.684407 \nL 167.431812 2967.684407 \nz\n\" style=\"fill:#d9e6f5;stroke:#444443;stroke-linejoin:miter;stroke-width:0.5;\"/>\n   </g>\n   <g id=\"patch_192\">\n    <path clip-path=\"url(#pf657e1e3ca)\" d=\"M 167.431812 2969.111864 \nL 167.431812 2969.111864 \nL 167.431812 2983.386441 \nL 167.431812 2983.386441 \nz\n\" style=\"fill:#d9e6f5;stroke:#444443;stroke-linejoin:miter;stroke-width:0.5;\"/>\n   </g>\n   <g id=\"patch_193\">\n    <path clip-path=\"url(#pf657e1e3ca)\" d=\"M 167.431812 2984.813898 \nL 167.431812 2984.813898 \nL 167.431812 2999.088475 \nL 167.431812 2999.088475 \nz\n\" style=\"fill:#d9e6f5;stroke:#444443;stroke-linejoin:miter;stroke-width:0.5;\"/>\n   </g>\n   <g id=\"patch_194\">\n    <path clip-path=\"url(#pf657e1e3ca)\" d=\"M 167.431812 3000.515932 \nL 167.320327 3000.515932 \nL 167.320327 3014.790508 \nL 167.431812 3014.790508 \nz\n\" style=\"fill:#d9e6f5;stroke:#444443;stroke-linejoin:miter;stroke-width:0.5;\"/>\n   </g>\n   <g id=\"patch_195\">\n    <path clip-path=\"url(#pf657e1e3ca)\" d=\"M 167.431812 3016.217966 \nL 167.320327 3016.217966 \nL 167.320327 3030.492542 \nL 167.431812 3030.492542 \nz\n\" style=\"fill:#d9e6f5;stroke:#444443;stroke-linejoin:miter;stroke-width:0.5;\"/>\n   </g>\n   <g id=\"patch_196\">\n    <path clip-path=\"url(#pf657e1e3ca)\" d=\"M 167.431812 3031.92 \nL 167.320327 3031.92 \nL 167.320327 3046.194576 \nL 167.431812 3046.194576 \nz\n\" style=\"fill:#d9e6f5;stroke:#444443;stroke-linejoin:miter;stroke-width:0.5;\"/>\n   </g>\n   <g id=\"patch_197\">\n    <path clip-path=\"url(#pf657e1e3ca)\" d=\"M 167.431812 3047.622034 \nL 167.320327 3047.622034 \nL 167.320327 3061.89661 \nL 167.431812 3061.89661 \nz\n\" style=\"fill:#d9e6f5;stroke:#444443;stroke-linejoin:miter;stroke-width:0.5;\"/>\n   </g>\n   <g id=\"patch_198\">\n    <path clip-path=\"url(#pf657e1e3ca)\" d=\"M 167.431812 3063.324068 \nL 167.320327 3063.324068 \nL 167.320327 3077.598644 \nL 167.431812 3077.598644 \nz\n\" style=\"fill:#d9e6f5;stroke:#444443;stroke-linejoin:miter;stroke-width:0.5;\"/>\n   </g>\n   <g id=\"patch_199\">\n    <path clip-path=\"url(#pf657e1e3ca)\" d=\"M 167.431812 3079.026102 \nL 167.320327 3079.026102 \nL 167.320327 3093.300678 \nL 167.431812 3093.300678 \nz\n\" style=\"fill:#d9e6f5;stroke:#444443;stroke-linejoin:miter;stroke-width:0.5;\"/>\n   </g>\n   <g id=\"patch_200\">\n    <path clip-path=\"url(#pf657e1e3ca)\" d=\"M 167.431812 3094.728136 \nL 167.320327 3094.728136 \nL 167.320327 3109.002712 \nL 167.431812 3109.002712 \nz\n\" style=\"fill:#d9e6f5;stroke:#444443;stroke-linejoin:miter;stroke-width:0.5;\"/>\n   </g>\n   <g id=\"patch_201\">\n    <path clip-path=\"url(#pf657e1e3ca)\" d=\"M 167.431812 3110.430169 \nL 167.320327 3110.430169 \nL 167.320327 3124.704746 \nL 167.431812 3124.704746 \nz\n\" style=\"fill:#d9e6f5;stroke:#444443;stroke-linejoin:miter;stroke-width:0.5;\"/>\n   </g>\n   <g id=\"patch_202\">\n    <path clip-path=\"url(#pf657e1e3ca)\" d=\"M 167.431812 3126.132203 \nL 167.320327 3126.132203 \nL 167.320327 3140.40678 \nL 167.431812 3140.40678 \nz\n\" style=\"fill:#d9e6f5;stroke:#444443;stroke-linejoin:miter;stroke-width:0.5;\"/>\n   </g>\n   <g id=\"patch_203\">\n    <path clip-path=\"url(#pf657e1e3ca)\" d=\"M 167.431812 3141.834237 \nL 167.320327 3141.834237 \nL 167.320327 3156.108814 \nL 167.431812 3156.108814 \nz\n\" style=\"fill:#d9e6f5;stroke:#444443;stroke-linejoin:miter;stroke-width:0.5;\"/>\n   </g>\n   <g id=\"patch_204\">\n    <path clip-path=\"url(#pf657e1e3ca)\" d=\"M 167.431812 3157.536271 \nL 167.320327 3157.536271 \nL 167.320327 3171.810847 \nL 167.431812 3171.810847 \nz\n\" style=\"fill:#d9e6f5;stroke:#444443;stroke-linejoin:miter;stroke-width:0.5;\"/>\n   </g>\n   <g id=\"patch_205\">\n    <path clip-path=\"url(#pf657e1e3ca)\" d=\"M 167.431812 3173.238305 \nL 167.320327 3173.238305 \nL 167.320327 3187.512881 \nL 167.431812 3187.512881 \nz\n\" style=\"fill:#d9e6f5;stroke:#444443;stroke-linejoin:miter;stroke-width:0.5;\"/>\n   </g>\n   <g id=\"patch_206\">\n    <path clip-path=\"url(#pf657e1e3ca)\" d=\"M 167.431812 3188.940339 \nL 167.320327 3188.940339 \nL 167.320327 3203.214915 \nL 167.431812 3203.214915 \nz\n\" style=\"fill:#d9e6f5;stroke:#444443;stroke-linejoin:miter;stroke-width:0.5;\"/>\n   </g>\n   <g id=\"patch_207\">\n    <path clip-path=\"url(#pf657e1e3ca)\" d=\"M 167.431812 3204.642373 \nL 167.320327 3204.642373 \nL 167.320327 3218.916949 \nL 167.431812 3218.916949 \nz\n\" style=\"fill:#d9e6f5;stroke:#444443;stroke-linejoin:miter;stroke-width:0.5;\"/>\n   </g>\n   <g id=\"patch_208\">\n    <path clip-path=\"url(#pf657e1e3ca)\" d=\"M 167.431812 3220.344407 \nL 167.320327 3220.344407 \nL 167.320327 3234.618983 \nL 167.431812 3234.618983 \nz\n\" style=\"fill:#d9e6f5;stroke:#444443;stroke-linejoin:miter;stroke-width:0.5;\"/>\n   </g>\n   <g id=\"patch_209\">\n    <path clip-path=\"url(#pf657e1e3ca)\" d=\"M 167.431812 3236.046441 \nL 167.320327 3236.046441 \nL 167.320327 3250.321017 \nL 167.431812 3250.321017 \nz\n\" style=\"fill:#d9e6f5;stroke:#444443;stroke-linejoin:miter;stroke-width:0.5;\"/>\n   </g>\n   <g id=\"patch_210\">\n    <path clip-path=\"url(#pf657e1e3ca)\" d=\"M 167.431812 3251.748475 \nL 167.320327 3251.748475 \nL 167.320327 3266.023051 \nL 167.431812 3266.023051 \nz\n\" style=\"fill:#d9e6f5;stroke:#444443;stroke-linejoin:miter;stroke-width:0.5;\"/>\n   </g>\n   <g id=\"patch_211\">\n    <path clip-path=\"url(#pf657e1e3ca)\" d=\"M 167.431812 3267.450508 \nL 167.320327 3267.450508 \nL 167.320327 3281.725085 \nL 167.431812 3281.725085 \nz\n\" style=\"fill:#d9e6f5;stroke:#444443;stroke-linejoin:miter;stroke-width:0.5;\"/>\n   </g>\n   <g id=\"patch_212\">\n    <path clip-path=\"url(#pf657e1e3ca)\" d=\"M 167.431812 3283.152542 \nL 167.320327 3283.152542 \nL 167.320327 3297.427119 \nL 167.431812 3297.427119 \nz\n\" style=\"fill:#d9e6f5;stroke:#444443;stroke-linejoin:miter;stroke-width:0.5;\"/>\n   </g>\n   <g id=\"patch_213\">\n    <path clip-path=\"url(#pf657e1e3ca)\" d=\"M 167.431812 3298.854576 \nL 167.320327 3298.854576 \nL 167.320327 3313.129153 \nL 167.431812 3313.129153 \nz\n\" style=\"fill:#d9e6f5;stroke:#444443;stroke-linejoin:miter;stroke-width:0.5;\"/>\n   </g>\n   <g id=\"patch_214\">\n    <path clip-path=\"url(#pf657e1e3ca)\" d=\"M 167.431812 3314.55661 \nL 167.320327 3314.55661 \nL 167.320327 3328.831186 \nL 167.431812 3328.831186 \nz\n\" style=\"fill:#d9e6f5;stroke:#444443;stroke-linejoin:miter;stroke-width:0.5;\"/>\n   </g>\n   <g id=\"patch_215\">\n    <path clip-path=\"url(#pf657e1e3ca)\" d=\"M 167.431812 3330.258644 \nL 167.320327 3330.258644 \nL 167.320327 3344.53322 \nL 167.431812 3344.53322 \nz\n\" style=\"fill:#d9e6f5;stroke:#444443;stroke-linejoin:miter;stroke-width:0.5;\"/>\n   </g>\n   <g id=\"patch_216\">\n    <path clip-path=\"url(#pf657e1e3ca)\" d=\"M 167.431812 3345.960678 \nL 167.320327 3345.960678 \nL 167.320327 3360.235254 \nL 167.431812 3360.235254 \nz\n\" style=\"fill:#d9e6f5;stroke:#444443;stroke-linejoin:miter;stroke-width:0.5;\"/>\n   </g>\n   <g id=\"patch_217\">\n    <path clip-path=\"url(#pf657e1e3ca)\" d=\"M 167.431812 3361.662712 \nL 167.320327 3361.662712 \nL 167.320327 3375.937288 \nL 167.431812 3375.937288 \nz\n\" style=\"fill:#d9e6f5;stroke:#444443;stroke-linejoin:miter;stroke-width:0.5;\"/>\n   </g>\n   <g id=\"patch_218\">\n    <path clip-path=\"url(#pf657e1e3ca)\" d=\"M 167.431812 3377.364746 \nL 167.320327 3377.364746 \nL 167.320327 3391.639322 \nL 167.431812 3391.639322 \nz\n\" style=\"fill:#d9e6f5;stroke:#444443;stroke-linejoin:miter;stroke-width:0.5;\"/>\n   </g>\n   <g id=\"patch_219\">\n    <path clip-path=\"url(#pf657e1e3ca)\" d=\"M 167.431812 3393.06678 \nL 167.320327 3393.06678 \nL 167.320327 3407.341356 \nL 167.431812 3407.341356 \nz\n\" style=\"fill:#d9e6f5;stroke:#444443;stroke-linejoin:miter;stroke-width:0.5;\"/>\n   </g>\n   <g id=\"patch_220\">\n    <path clip-path=\"url(#pf657e1e3ca)\" d=\"M 167.431812 3408.768814 \nL 167.320327 3408.768814 \nL 167.320327 3423.04339 \nL 167.431812 3423.04339 \nz\n\" style=\"fill:#d9e6f5;stroke:#444443;stroke-linejoin:miter;stroke-width:0.5;\"/>\n   </g>\n   <g id=\"patch_221\">\n    <path clip-path=\"url(#pf657e1e3ca)\" d=\"M 167.431812 3424.470847 \nL 167.320327 3424.470847 \nL 167.320327 3438.745424 \nL 167.431812 3438.745424 \nz\n\" style=\"fill:#d9e6f5;stroke:#444443;stroke-linejoin:miter;stroke-width:0.5;\"/>\n   </g>\n   <g id=\"patch_222\">\n    <path clip-path=\"url(#pf657e1e3ca)\" d=\"M 167.431812 3440.172881 \nL 167.320327 3440.172881 \nL 167.320327 3454.447458 \nL 167.431812 3454.447458 \nz\n\" style=\"fill:#d9e6f5;stroke:#444443;stroke-linejoin:miter;stroke-width:0.5;\"/>\n   </g>\n   <g id=\"patch_223\">\n    <path clip-path=\"url(#pf657e1e3ca)\" d=\"M 167.431812 3455.874915 \nL 167.320327 3455.874915 \nL 167.320327 3470.149492 \nL 167.431812 3470.149492 \nz\n\" style=\"fill:#d9e6f5;stroke:#444443;stroke-linejoin:miter;stroke-width:0.5;\"/>\n   </g>\n   <g id=\"patch_224\">\n    <path clip-path=\"url(#pf657e1e3ca)\" d=\"M 167.431812 3471.576949 \nL 167.320327 3471.576949 \nL 167.320327 3485.851525 \nL 167.431812 3485.851525 \nz\n\" style=\"fill:#d9e6f5;stroke:#444443;stroke-linejoin:miter;stroke-width:0.5;\"/>\n   </g>\n   <g id=\"patch_225\">\n    <path clip-path=\"url(#pf657e1e3ca)\" d=\"M 167.431812 3487.278983 \nL 167.320327 3487.278983 \nL 167.320327 3501.553559 \nL 167.431812 3501.553559 \nz\n\" style=\"fill:#d9e6f5;stroke:#444443;stroke-linejoin:miter;stroke-width:0.5;\"/>\n   </g>\n   <g id=\"patch_226\">\n    <path clip-path=\"url(#pf657e1e3ca)\" d=\"M 167.431812 3502.981017 \nL 167.320327 3502.981017 \nL 167.320327 3517.255593 \nL 167.431812 3517.255593 \nz\n\" style=\"fill:#d9e6f5;stroke:#444443;stroke-linejoin:miter;stroke-width:0.5;\"/>\n   </g>\n   <g id=\"patch_227\">\n    <path clip-path=\"url(#pf657e1e3ca)\" d=\"M 167.431812 3518.683051 \nL 167.208842 3518.683051 \nL 167.208842 3532.957627 \nL 167.431812 3532.957627 \nz\n\" style=\"fill:#d9e6f5;stroke:#444443;stroke-linejoin:miter;stroke-width:0.5;\"/>\n   </g>\n   <g id=\"patch_228\">\n    <path clip-path=\"url(#pf657e1e3ca)\" d=\"M 167.431812 3534.385085 \nL 167.208842 3534.385085 \nL 167.208842 3548.659661 \nL 167.431812 3548.659661 \nz\n\" style=\"fill:#d9e6f5;stroke:#444443;stroke-linejoin:miter;stroke-width:0.5;\"/>\n   </g>\n   <g id=\"patch_229\">\n    <path clip-path=\"url(#pf657e1e3ca)\" d=\"M 167.431812 3550.087119 \nL 167.208842 3550.087119 \nL 167.208842 3564.361695 \nL 167.431812 3564.361695 \nz\n\" style=\"fill:#d9e6f5;stroke:#444443;stroke-linejoin:miter;stroke-width:0.5;\"/>\n   </g>\n   <g id=\"patch_230\">\n    <path clip-path=\"url(#pf657e1e3ca)\" d=\"M 167.431812 3565.789153 \nL 167.208842 3565.789153 \nL 167.208842 3580.063729 \nL 167.431812 3580.063729 \nz\n\" style=\"fill:#d9e6f5;stroke:#444443;stroke-linejoin:miter;stroke-width:0.5;\"/>\n   </g>\n   <g id=\"patch_231\">\n    <path clip-path=\"url(#pf657e1e3ca)\" d=\"M 167.431812 3581.491186 \nL 167.208842 3581.491186 \nL 167.208842 3595.765763 \nL 167.431812 3595.765763 \nz\n\" style=\"fill:#d9e6f5;stroke:#444443;stroke-linejoin:miter;stroke-width:0.5;\"/>\n   </g>\n   <g id=\"patch_232\">\n    <path clip-path=\"url(#pf657e1e3ca)\" d=\"M 167.431812 3597.19322 \nL 167.208842 3597.19322 \nL 167.208842 3611.467797 \nL 167.431812 3611.467797 \nz\n\" style=\"fill:#d9e6f5;stroke:#444443;stroke-linejoin:miter;stroke-width:0.5;\"/>\n   </g>\n   <g id=\"patch_233\">\n    <path clip-path=\"url(#pf657e1e3ca)\" d=\"M 167.431812 3612.895254 \nL 167.208842 3612.895254 \nL 167.208842 3627.169831 \nL 167.431812 3627.169831 \nz\n\" style=\"fill:#d9e6f5;stroke:#444443;stroke-linejoin:miter;stroke-width:0.5;\"/>\n   </g>\n   <g id=\"patch_234\">\n    <path clip-path=\"url(#pf657e1e3ca)\" d=\"M 167.431812 3628.597288 \nL 167.208842 3628.597288 \nL 167.208842 3642.871864 \nL 167.431812 3642.871864 \nz\n\" style=\"fill:#d9e6f5;stroke:#444443;stroke-linejoin:miter;stroke-width:0.5;\"/>\n   </g>\n   <g id=\"patch_235\">\n    <path clip-path=\"url(#pf657e1e3ca)\" d=\"M 167.431812 3644.299322 \nL 167.208842 3644.299322 \nL 167.208842 3658.573898 \nL 167.431812 3658.573898 \nz\n\" style=\"fill:#d9e6f5;stroke:#444443;stroke-linejoin:miter;stroke-width:0.5;\"/>\n   </g>\n   <g id=\"patch_236\">\n    <path clip-path=\"url(#pf657e1e3ca)\" d=\"M 167.431812 3660.001356 \nL 167.208842 3660.001356 \nL 167.208842 3674.275932 \nL 167.431812 3674.275932 \nz\n\" style=\"fill:#d9e6f5;stroke:#444443;stroke-linejoin:miter;stroke-width:0.5;\"/>\n   </g>\n   <g id=\"patch_237\">\n    <path clip-path=\"url(#pf657e1e3ca)\" d=\"M 167.431812 3675.70339 \nL 167.208842 3675.70339 \nL 167.208842 3689.977966 \nL 167.431812 3689.977966 \nz\n\" style=\"fill:#d9e6f5;stroke:#444443;stroke-linejoin:miter;stroke-width:0.5;\"/>\n   </g>\n   <g id=\"patch_238\">\n    <path clip-path=\"url(#pf657e1e3ca)\" d=\"M 167.431812 3691.405424 \nL 167.208842 3691.405424 \nL 167.208842 3705.68 \nL 167.431812 3705.68 \nz\n\" style=\"fill:#d9e6f5;stroke:#444443;stroke-linejoin:miter;stroke-width:0.5;\"/>\n   </g>\n   <g id=\"patch_239\">\n    <path clip-path=\"url(#pf657e1e3ca)\" d=\"M 167.431812 3707.107458 \nL 167.208842 3707.107458 \nL 167.208842 3721.382034 \nL 167.431812 3721.382034 \nz\n\" style=\"fill:#d9e6f5;stroke:#444443;stroke-linejoin:miter;stroke-width:0.5;\"/>\n   </g>\n   <g id=\"patch_240\">\n    <path clip-path=\"url(#pf657e1e3ca)\" d=\"M 167.431812 3722.809492 \nL 167.208842 3722.809492 \nL 167.208842 3737.084068 \nL 167.431812 3737.084068 \nz\n\" style=\"fill:#d9e6f5;stroke:#444443;stroke-linejoin:miter;stroke-width:0.5;\"/>\n   </g>\n   <g id=\"patch_241\">\n    <path clip-path=\"url(#pf657e1e3ca)\" d=\"M 167.431812 3738.511525 \nL 167.208842 3738.511525 \nL 167.208842 3752.786102 \nL 167.431812 3752.786102 \nz\n\" style=\"fill:#d9e6f5;stroke:#444443;stroke-linejoin:miter;stroke-width:0.5;\"/>\n   </g>\n   <g id=\"patch_242\">\n    <path clip-path=\"url(#pf657e1e3ca)\" d=\"M 167.431812 3754.213559 \nL 167.208842 3754.213559 \nL 167.208842 3768.488136 \nL 167.431812 3768.488136 \nz\n\" style=\"fill:#d9e6f5;stroke:#444443;stroke-linejoin:miter;stroke-width:0.5;\"/>\n   </g>\n   <g id=\"patch_243\">\n    <path clip-path=\"url(#pf657e1e3ca)\" d=\"M 167.431812 3769.915593 \nL 167.208842 3769.915593 \nL 167.208842 3784.190169 \nL 167.431812 3784.190169 \nz\n\" style=\"fill:#d9e6f5;stroke:#444443;stroke-linejoin:miter;stroke-width:0.5;\"/>\n   </g>\n   <g id=\"patch_244\">\n    <path clip-path=\"url(#pf657e1e3ca)\" d=\"M 167.431812 3785.617627 \nL 167.208842 3785.617627 \nL 167.208842 3799.892203 \nL 167.431812 3799.892203 \nz\n\" style=\"fill:#d9e6f5;stroke:#444443;stroke-linejoin:miter;stroke-width:0.5;\"/>\n   </g>\n   <g id=\"patch_245\">\n    <path clip-path=\"url(#pf657e1e3ca)\" d=\"M 167.431812 3801.319661 \nL 167.208842 3801.319661 \nL 167.208842 3815.594237 \nL 167.431812 3815.594237 \nz\n\" style=\"fill:#d9e6f5;stroke:#444443;stroke-linejoin:miter;stroke-width:0.5;\"/>\n   </g>\n   <g id=\"patch_246\">\n    <path clip-path=\"url(#pf657e1e3ca)\" d=\"M 167.431812 3817.021695 \nL 167.208842 3817.021695 \nL 167.208842 3831.296271 \nL 167.431812 3831.296271 \nz\n\" style=\"fill:#d9e6f5;stroke:#444443;stroke-linejoin:miter;stroke-width:0.5;\"/>\n   </g>\n   <g id=\"patch_247\">\n    <path clip-path=\"url(#pf657e1e3ca)\" d=\"M 167.431812 3832.723729 \nL 167.208842 3832.723729 \nL 167.208842 3846.998305 \nL 167.431812 3846.998305 \nz\n\" style=\"fill:#d9e6f5;stroke:#444443;stroke-linejoin:miter;stroke-width:0.5;\"/>\n   </g>\n   <g id=\"patch_248\">\n    <path clip-path=\"url(#pf657e1e3ca)\" d=\"M 167.431812 3848.425763 \nL 167.097357 3848.425763 \nL 167.097357 3862.700339 \nL 167.431812 3862.700339 \nz\n\" style=\"fill:#d9e6f5;stroke:#444443;stroke-linejoin:miter;stroke-width:0.5;\"/>\n   </g>\n   <g id=\"patch_249\">\n    <path clip-path=\"url(#pf657e1e3ca)\" d=\"M 167.431812 3864.127797 \nL 167.097357 3864.127797 \nL 167.097357 3878.402373 \nL 167.431812 3878.402373 \nz\n\" style=\"fill:#d9e6f5;stroke:#444443;stroke-linejoin:miter;stroke-width:0.5;\"/>\n   </g>\n   <g id=\"patch_250\">\n    <path clip-path=\"url(#pf657e1e3ca)\" d=\"M 167.431812 3879.829831 \nL 167.097357 3879.829831 \nL 167.097357 3894.104407 \nL 167.431812 3894.104407 \nz\n\" style=\"fill:#d9e6f5;stroke:#444443;stroke-linejoin:miter;stroke-width:0.5;\"/>\n   </g>\n   <g id=\"patch_251\">\n    <path clip-path=\"url(#pf657e1e3ca)\" d=\"M 167.431812 3895.531864 \nL 167.097357 3895.531864 \nL 167.097357 3909.806441 \nL 167.431812 3909.806441 \nz\n\" style=\"fill:#d9e6f5;stroke:#444443;stroke-linejoin:miter;stroke-width:0.5;\"/>\n   </g>\n   <g id=\"patch_252\">\n    <path clip-path=\"url(#pf657e1e3ca)\" d=\"M 167.431812 3911.233898 \nL 167.097357 3911.233898 \nL 167.097357 3925.508475 \nL 167.431812 3925.508475 \nz\n\" style=\"fill:#d9e6f5;stroke:#444443;stroke-linejoin:miter;stroke-width:0.5;\"/>\n   </g>\n   <g id=\"patch_253\">\n    <path clip-path=\"url(#pf657e1e3ca)\" d=\"M 167.431812 3926.935932 \nL 167.097357 3926.935932 \nL 167.097357 3941.210508 \nL 167.431812 3941.210508 \nz\n\" style=\"fill:#d9e6f5;stroke:#444443;stroke-linejoin:miter;stroke-width:0.5;\"/>\n   </g>\n   <g id=\"patch_254\">\n    <path clip-path=\"url(#pf657e1e3ca)\" d=\"M 167.431812 3942.637966 \nL 167.097357 3942.637966 \nL 167.097357 3956.912542 \nL 167.431812 3956.912542 \nz\n\" style=\"fill:#d9e6f5;stroke:#444443;stroke-linejoin:miter;stroke-width:0.5;\"/>\n   </g>\n   <g id=\"patch_255\">\n    <path clip-path=\"url(#pf657e1e3ca)\" d=\"M 167.431812 3958.34 \nL 167.097357 3958.34 \nL 167.097357 3972.614576 \nL 167.431812 3972.614576 \nz\n\" style=\"fill:#d9e6f5;stroke:#444443;stroke-linejoin:miter;stroke-width:0.5;\"/>\n   </g>\n   <g id=\"patch_256\">\n    <path clip-path=\"url(#pf657e1e3ca)\" d=\"M 167.431812 3974.042034 \nL 167.097357 3974.042034 \nL 167.097357 3988.31661 \nL 167.431812 3988.31661 \nz\n\" style=\"fill:#d9e6f5;stroke:#444443;stroke-linejoin:miter;stroke-width:0.5;\"/>\n   </g>\n   <g id=\"patch_257\">\n    <path clip-path=\"url(#pf657e1e3ca)\" d=\"M 167.431812 3989.744068 \nL 167.097357 3989.744068 \nL 167.097357 4004.018644 \nL 167.431812 4004.018644 \nz\n\" style=\"fill:#d9e6f5;stroke:#444443;stroke-linejoin:miter;stroke-width:0.5;\"/>\n   </g>\n   <g id=\"patch_258\">\n    <path clip-path=\"url(#pf657e1e3ca)\" d=\"M 167.431812 4005.446102 \nL 167.097357 4005.446102 \nL 167.097357 4019.720678 \nL 167.431812 4019.720678 \nz\n\" style=\"fill:#d9e6f5;stroke:#444443;stroke-linejoin:miter;stroke-width:0.5;\"/>\n   </g>\n   <g id=\"patch_259\">\n    <path clip-path=\"url(#pf657e1e3ca)\" d=\"M 167.431812 4021.148136 \nL 167.097357 4021.148136 \nL 167.097357 4035.422712 \nL 167.431812 4035.422712 \nz\n\" style=\"fill:#d9e6f5;stroke:#444443;stroke-linejoin:miter;stroke-width:0.5;\"/>\n   </g>\n   <g id=\"patch_260\">\n    <path clip-path=\"url(#pf657e1e3ca)\" d=\"M 167.431812 4036.850169 \nL 167.097357 4036.850169 \nL 167.097357 4051.124746 \nL 167.431812 4051.124746 \nz\n\" style=\"fill:#d9e6f5;stroke:#444443;stroke-linejoin:miter;stroke-width:0.5;\"/>\n   </g>\n   <g id=\"patch_261\">\n    <path clip-path=\"url(#pf657e1e3ca)\" d=\"M 167.431812 4052.552203 \nL 167.097357 4052.552203 \nL 167.097357 4066.82678 \nL 167.431812 4066.82678 \nz\n\" style=\"fill:#d9e6f5;stroke:#444443;stroke-linejoin:miter;stroke-width:0.5;\"/>\n   </g>\n   <g id=\"patch_262\">\n    <path clip-path=\"url(#pf657e1e3ca)\" d=\"M 167.431812 4068.254237 \nL 167.097357 4068.254237 \nL 167.097357 4082.528814 \nL 167.431812 4082.528814 \nz\n\" style=\"fill:#d9e6f5;stroke:#444443;stroke-linejoin:miter;stroke-width:0.5;\"/>\n   </g>\n   <g id=\"patch_263\">\n    <path clip-path=\"url(#pf657e1e3ca)\" d=\"M 167.431812 4083.956271 \nL 167.097357 4083.956271 \nL 167.097357 4098.230847 \nL 167.431812 4098.230847 \nz\n\" style=\"fill:#d9e6f5;stroke:#444443;stroke-linejoin:miter;stroke-width:0.5;\"/>\n   </g>\n   <g id=\"patch_264\">\n    <path clip-path=\"url(#pf657e1e3ca)\" d=\"M 167.431812 4099.658305 \nL 167.097357 4099.658305 \nL 167.097357 4113.932881 \nL 167.431812 4113.932881 \nz\n\" style=\"fill:#d9e6f5;stroke:#444443;stroke-linejoin:miter;stroke-width:0.5;\"/>\n   </g>\n   <g id=\"patch_265\">\n    <path clip-path=\"url(#pf657e1e3ca)\" d=\"M 167.431812 4115.360339 \nL 166.985871 4115.360339 \nL 166.985871 4129.634915 \nL 167.431812 4129.634915 \nz\n\" style=\"fill:#d9e6f5;stroke:#444443;stroke-linejoin:miter;stroke-width:0.5;\"/>\n   </g>\n   <g id=\"patch_266\">\n    <path clip-path=\"url(#pf657e1e3ca)\" d=\"M 167.431812 4131.062373 \nL 166.985871 4131.062373 \nL 166.985871 4145.336949 \nL 167.431812 4145.336949 \nz\n\" style=\"fill:#d9e6f5;stroke:#444443;stroke-linejoin:miter;stroke-width:0.5;\"/>\n   </g>\n   <g id=\"patch_267\">\n    <path clip-path=\"url(#pf657e1e3ca)\" d=\"M 167.431812 4146.764407 \nL 166.985871 4146.764407 \nL 166.985871 4161.038983 \nL 167.431812 4161.038983 \nz\n\" style=\"fill:#d9e6f5;stroke:#444443;stroke-linejoin:miter;stroke-width:0.5;\"/>\n   </g>\n   <g id=\"patch_268\">\n    <path clip-path=\"url(#pf657e1e3ca)\" d=\"M 167.431812 4162.466441 \nL 166.985871 4162.466441 \nL 166.985871 4176.741017 \nL 167.431812 4176.741017 \nz\n\" style=\"fill:#d9e6f5;stroke:#444443;stroke-linejoin:miter;stroke-width:0.5;\"/>\n   </g>\n   <g id=\"patch_269\">\n    <path clip-path=\"url(#pf657e1e3ca)\" d=\"M 167.431812 4178.168475 \nL 166.985871 4178.168475 \nL 166.985871 4192.443051 \nL 167.431812 4192.443051 \nz\n\" style=\"fill:#d9e6f5;stroke:#444443;stroke-linejoin:miter;stroke-width:0.5;\"/>\n   </g>\n   <g id=\"patch_270\">\n    <path clip-path=\"url(#pf657e1e3ca)\" d=\"M 167.431812 4193.870508 \nL 166.985871 4193.870508 \nL 166.985871 4208.145085 \nL 167.431812 4208.145085 \nz\n\" style=\"fill:#d9e6f5;stroke:#444443;stroke-linejoin:miter;stroke-width:0.5;\"/>\n   </g>\n   <g id=\"patch_271\">\n    <path clip-path=\"url(#pf657e1e3ca)\" d=\"M 167.431812 4209.572542 \nL 166.985871 4209.572542 \nL 166.985871 4223.847119 \nL 167.431812 4223.847119 \nz\n\" style=\"fill:#d9e6f5;stroke:#444443;stroke-linejoin:miter;stroke-width:0.5;\"/>\n   </g>\n   <g id=\"patch_272\">\n    <path clip-path=\"url(#pf657e1e3ca)\" d=\"M 167.431812 4225.274576 \nL 166.985871 4225.274576 \nL 166.985871 4239.549153 \nL 167.431812 4239.549153 \nz\n\" style=\"fill:#d9e6f5;stroke:#444443;stroke-linejoin:miter;stroke-width:0.5;\"/>\n   </g>\n   <g id=\"patch_273\">\n    <path clip-path=\"url(#pf657e1e3ca)\" d=\"M 167.431812 4240.97661 \nL 166.985871 4240.97661 \nL 166.985871 4255.251186 \nL 167.431812 4255.251186 \nz\n\" style=\"fill:#d9e6f5;stroke:#444443;stroke-linejoin:miter;stroke-width:0.5;\"/>\n   </g>\n   <g id=\"patch_274\">\n    <path clip-path=\"url(#pf657e1e3ca)\" d=\"M 167.431812 4256.678644 \nL 166.985871 4256.678644 \nL 166.985871 4270.95322 \nL 167.431812 4270.95322 \nz\n\" style=\"fill:#d9e6f5;stroke:#444443;stroke-linejoin:miter;stroke-width:0.5;\"/>\n   </g>\n   <g id=\"patch_275\">\n    <path clip-path=\"url(#pf657e1e3ca)\" d=\"M 167.431812 4272.380678 \nL 166.985871 4272.380678 \nL 166.985871 4286.655254 \nL 167.431812 4286.655254 \nz\n\" style=\"fill:#d9e6f5;stroke:#444443;stroke-linejoin:miter;stroke-width:0.5;\"/>\n   </g>\n   <g id=\"patch_276\">\n    <path clip-path=\"url(#pf657e1e3ca)\" d=\"M 167.431812 4288.082712 \nL 166.985871 4288.082712 \nL 166.985871 4302.357288 \nL 167.431812 4302.357288 \nz\n\" style=\"fill:#d9e6f5;stroke:#444443;stroke-linejoin:miter;stroke-width:0.5;\"/>\n   </g>\n   <g id=\"patch_277\">\n    <path clip-path=\"url(#pf657e1e3ca)\" d=\"M 167.431812 4303.784746 \nL 166.985871 4303.784746 \nL 166.985871 4318.059322 \nL 167.431812 4318.059322 \nz\n\" style=\"fill:#d9e6f5;stroke:#444443;stroke-linejoin:miter;stroke-width:0.5;\"/>\n   </g>\n   <g id=\"patch_278\">\n    <path clip-path=\"url(#pf657e1e3ca)\" d=\"M 167.431812 4319.48678 \nL 166.985871 4319.48678 \nL 166.985871 4333.761356 \nL 167.431812 4333.761356 \nz\n\" style=\"fill:#d9e6f5;stroke:#444443;stroke-linejoin:miter;stroke-width:0.5;\"/>\n   </g>\n   <g id=\"patch_279\">\n    <path clip-path=\"url(#pf657e1e3ca)\" d=\"M 167.431812 4335.188814 \nL 166.985871 4335.188814 \nL 166.985871 4349.46339 \nL 167.431812 4349.46339 \nz\n\" style=\"fill:#d9e6f5;stroke:#444443;stroke-linejoin:miter;stroke-width:0.5;\"/>\n   </g>\n   <g id=\"patch_280\">\n    <path clip-path=\"url(#pf657e1e3ca)\" d=\"M 167.431812 4350.890847 \nL 166.985871 4350.890847 \nL 166.985871 4365.165424 \nL 167.431812 4365.165424 \nz\n\" style=\"fill:#d9e6f5;stroke:#444443;stroke-linejoin:miter;stroke-width:0.5;\"/>\n   </g>\n   <g id=\"patch_281\">\n    <path clip-path=\"url(#pf657e1e3ca)\" d=\"M 167.431812 4366.592881 \nL 166.985871 4366.592881 \nL 166.985871 4380.867458 \nL 167.431812 4380.867458 \nz\n\" style=\"fill:#d9e6f5;stroke:#444443;stroke-linejoin:miter;stroke-width:0.5;\"/>\n   </g>\n   <g id=\"patch_282\">\n    <path clip-path=\"url(#pf657e1e3ca)\" d=\"M 167.431812 4382.294915 \nL 166.985871 4382.294915 \nL 166.985871 4396.569492 \nL 167.431812 4396.569492 \nz\n\" style=\"fill:#d9e6f5;stroke:#444443;stroke-linejoin:miter;stroke-width:0.5;\"/>\n   </g>\n   <g id=\"patch_283\">\n    <path clip-path=\"url(#pf657e1e3ca)\" d=\"M 167.431812 4397.996949 \nL 166.985871 4397.996949 \nL 166.985871 4412.271525 \nL 167.431812 4412.271525 \nz\n\" style=\"fill:#d9e6f5;stroke:#444443;stroke-linejoin:miter;stroke-width:0.5;\"/>\n   </g>\n   <g id=\"patch_284\">\n    <path clip-path=\"url(#pf657e1e3ca)\" d=\"M 167.431812 4413.698983 \nL 166.874386 4413.698983 \nL 166.874386 4427.973559 \nL 167.431812 4427.973559 \nz\n\" style=\"fill:#d9e6f5;stroke:#444443;stroke-linejoin:miter;stroke-width:0.5;\"/>\n   </g>\n   <g id=\"patch_285\">\n    <path clip-path=\"url(#pf657e1e3ca)\" d=\"M 167.431812 4429.401017 \nL 166.874386 4429.401017 \nL 166.874386 4443.675593 \nL 167.431812 4443.675593 \nz\n\" style=\"fill:#d9e6f5;stroke:#444443;stroke-linejoin:miter;stroke-width:0.5;\"/>\n   </g>\n   <g id=\"patch_286\">\n    <path clip-path=\"url(#pf657e1e3ca)\" d=\"M 167.431812 4445.103051 \nL 166.874386 4445.103051 \nL 166.874386 4459.377627 \nL 167.431812 4459.377627 \nz\n\" style=\"fill:#d9e6f5;stroke:#444443;stroke-linejoin:miter;stroke-width:0.5;\"/>\n   </g>\n   <g id=\"patch_287\">\n    <path clip-path=\"url(#pf657e1e3ca)\" d=\"M 167.431812 4460.805085 \nL 166.874386 4460.805085 \nL 166.874386 4475.079661 \nL 167.431812 4475.079661 \nz\n\" style=\"fill:#d9e6f5;stroke:#444443;stroke-linejoin:miter;stroke-width:0.5;\"/>\n   </g>\n   <g id=\"patch_288\">\n    <path clip-path=\"url(#pf657e1e3ca)\" d=\"M 167.431812 4476.507119 \nL 166.874386 4476.507119 \nL 166.874386 4490.781695 \nL 167.431812 4490.781695 \nz\n\" style=\"fill:#d9e6f5;stroke:#444443;stroke-linejoin:miter;stroke-width:0.5;\"/>\n   </g>\n   <g id=\"patch_289\">\n    <path clip-path=\"url(#pf657e1e3ca)\" d=\"M 167.431812 4492.209153 \nL 166.874386 4492.209153 \nL 166.874386 4506.483729 \nL 167.431812 4506.483729 \nz\n\" style=\"fill:#d9e6f5;stroke:#444443;stroke-linejoin:miter;stroke-width:0.5;\"/>\n   </g>\n   <g id=\"patch_290\">\n    <path clip-path=\"url(#pf657e1e3ca)\" d=\"M 167.431812 4507.911186 \nL 166.874386 4507.911186 \nL 166.874386 4522.185763 \nL 167.431812 4522.185763 \nz\n\" style=\"fill:#d9e6f5;stroke:#444443;stroke-linejoin:miter;stroke-width:0.5;\"/>\n   </g>\n   <g id=\"patch_291\">\n    <path clip-path=\"url(#pf657e1e3ca)\" d=\"M 167.431812 4523.61322 \nL 166.874386 4523.61322 \nL 166.874386 4537.887797 \nL 167.431812 4537.887797 \nz\n\" style=\"fill:#d9e6f5;stroke:#444443;stroke-linejoin:miter;stroke-width:0.5;\"/>\n   </g>\n   <g id=\"patch_292\">\n    <path clip-path=\"url(#pf657e1e3ca)\" d=\"M 167.431812 4539.315254 \nL 166.874386 4539.315254 \nL 166.874386 4553.589831 \nL 167.431812 4553.589831 \nz\n\" style=\"fill:#d9e6f5;stroke:#444443;stroke-linejoin:miter;stroke-width:0.5;\"/>\n   </g>\n   <g id=\"patch_293\">\n    <path clip-path=\"url(#pf657e1e3ca)\" d=\"M 167.431812 4555.017288 \nL 166.762901 4555.017288 \nL 166.762901 4569.291864 \nL 167.431812 4569.291864 \nz\n\" style=\"fill:#d9e6f5;stroke:#444443;stroke-linejoin:miter;stroke-width:0.5;\"/>\n   </g>\n   <g id=\"patch_294\">\n    <path clip-path=\"url(#pf657e1e3ca)\" d=\"M 167.431812 4570.719322 \nL 166.762901 4570.719322 \nL 166.762901 4584.993898 \nL 167.431812 4584.993898 \nz\n\" style=\"fill:#d9e6f5;stroke:#444443;stroke-linejoin:miter;stroke-width:0.5;\"/>\n   </g>\n   <g id=\"patch_295\">\n    <path clip-path=\"url(#pf657e1e3ca)\" d=\"M 167.431812 4586.421356 \nL 166.762901 4586.421356 \nL 166.762901 4600.695932 \nL 167.431812 4600.695932 \nz\n\" style=\"fill:#d9e6f5;stroke:#444443;stroke-linejoin:miter;stroke-width:0.5;\"/>\n   </g>\n   <g id=\"patch_296\">\n    <path clip-path=\"url(#pf657e1e3ca)\" d=\"M 167.431812 4602.12339 \nL 166.762901 4602.12339 \nL 166.762901 4616.397966 \nL 167.431812 4616.397966 \nz\n\" style=\"fill:#d9e6f5;stroke:#444443;stroke-linejoin:miter;stroke-width:0.5;\"/>\n   </g>\n   <g id=\"patch_297\">\n    <path clip-path=\"url(#pf657e1e3ca)\" d=\"M 167.431812 4617.825424 \nL 166.762901 4617.825424 \nL 166.762901 4632.1 \nL 167.431812 4632.1 \nz\n\" style=\"fill:#d9e6f5;stroke:#444443;stroke-linejoin:miter;stroke-width:0.5;\"/>\n   </g>\n   <g id=\"patch_298\">\n    <path clip-path=\"url(#pf657e1e3ca)\" d=\"M 167.431812 4633.527458 \nL 166.762901 4633.527458 \nL 166.762901 4647.802034 \nL 167.431812 4647.802034 \nz\n\" style=\"fill:#d9e6f5;stroke:#444443;stroke-linejoin:miter;stroke-width:0.5;\"/>\n   </g>\n   <g id=\"patch_299\">\n    <path clip-path=\"url(#pf657e1e3ca)\" d=\"M 167.431812 4649.229492 \nL 166.762901 4649.229492 \nL 166.762901 4663.504068 \nL 167.431812 4663.504068 \nz\n\" style=\"fill:#d9e6f5;stroke:#444443;stroke-linejoin:miter;stroke-width:0.5;\"/>\n   </g>\n   <g id=\"patch_300\">\n    <path clip-path=\"url(#pf657e1e3ca)\" d=\"M 167.431812 4664.931525 \nL 166.762901 4664.931525 \nL 166.762901 4679.206102 \nL 167.431812 4679.206102 \nz\n\" style=\"fill:#d9e6f5;stroke:#444443;stroke-linejoin:miter;stroke-width:0.5;\"/>\n   </g>\n   <g id=\"patch_301\">\n    <path clip-path=\"url(#pf657e1e3ca)\" d=\"M 167.431812 4680.633559 \nL 166.762901 4680.633559 \nL 166.762901 4694.908136 \nL 167.431812 4694.908136 \nz\n\" style=\"fill:#d9e6f5;stroke:#444443;stroke-linejoin:miter;stroke-width:0.5;\"/>\n   </g>\n   <g id=\"patch_302\">\n    <path clip-path=\"url(#pf657e1e3ca)\" d=\"M 167.431812 4696.335593 \nL 166.762901 4696.335593 \nL 166.762901 4710.610169 \nL 167.431812 4710.610169 \nz\n\" style=\"fill:#d9e6f5;stroke:#444443;stroke-linejoin:miter;stroke-width:0.5;\"/>\n   </g>\n   <g id=\"patch_303\">\n    <path clip-path=\"url(#pf657e1e3ca)\" d=\"M 167.431812 4712.037627 \nL 166.762901 4712.037627 \nL 166.762901 4726.312203 \nL 167.431812 4726.312203 \nz\n\" style=\"fill:#d9e6f5;stroke:#444443;stroke-linejoin:miter;stroke-width:0.5;\"/>\n   </g>\n   <g id=\"patch_304\">\n    <path clip-path=\"url(#pf657e1e3ca)\" d=\"M 167.431812 4727.739661 \nL 166.651416 4727.739661 \nL 166.651416 4742.014237 \nL 167.431812 4742.014237 \nz\n\" style=\"fill:#d9e6f5;stroke:#444443;stroke-linejoin:miter;stroke-width:0.5;\"/>\n   </g>\n   <g id=\"patch_305\">\n    <path clip-path=\"url(#pf657e1e3ca)\" d=\"M 167.431812 4743.441695 \nL 166.651416 4743.441695 \nL 166.651416 4757.716271 \nL 167.431812 4757.716271 \nz\n\" style=\"fill:#d9e6f5;stroke:#444443;stroke-linejoin:miter;stroke-width:0.5;\"/>\n   </g>\n   <g id=\"patch_306\">\n    <path clip-path=\"url(#pf657e1e3ca)\" d=\"M 167.431812 4759.143729 \nL 166.651416 4759.143729 \nL 166.651416 4773.418305 \nL 167.431812 4773.418305 \nz\n\" style=\"fill:#d9e6f5;stroke:#444443;stroke-linejoin:miter;stroke-width:0.5;\"/>\n   </g>\n   <g id=\"patch_307\">\n    <path clip-path=\"url(#pf657e1e3ca)\" d=\"M 167.431812 4774.845763 \nL 166.539931 4774.845763 \nL 166.539931 4789.120339 \nL 167.431812 4789.120339 \nz\n\" style=\"fill:#d9e6f5;stroke:#444443;stroke-linejoin:miter;stroke-width:0.5;\"/>\n   </g>\n   <g id=\"patch_308\">\n    <path clip-path=\"url(#pf657e1e3ca)\" d=\"M 167.431812 4790.547797 \nL 166.539931 4790.547797 \nL 166.539931 4804.822373 \nL 167.431812 4804.822373 \nz\n\" style=\"fill:#d9e6f5;stroke:#444443;stroke-linejoin:miter;stroke-width:0.5;\"/>\n   </g>\n   <g id=\"patch_309\">\n    <path clip-path=\"url(#pf657e1e3ca)\" d=\"M 167.431812 4806.249831 \nL 166.539931 4806.249831 \nL 166.539931 4820.524407 \nL 167.431812 4820.524407 \nz\n\" style=\"fill:#d9e6f5;stroke:#444443;stroke-linejoin:miter;stroke-width:0.5;\"/>\n   </g>\n   <g id=\"patch_310\">\n    <path clip-path=\"url(#pf657e1e3ca)\" d=\"M 167.431812 4821.951864 \nL 166.428446 4821.951864 \nL 166.428446 4836.226441 \nL 167.431812 4836.226441 \nz\n\" style=\"fill:#d9e6f5;stroke:#444443;stroke-linejoin:miter;stroke-width:0.5;\"/>\n   </g>\n   <g id=\"patch_311\">\n    <path clip-path=\"url(#pf657e1e3ca)\" d=\"M 167.431812 4837.653898 \nL 166.428446 4837.653898 \nL 166.428446 4851.928475 \nL 167.431812 4851.928475 \nz\n\" style=\"fill:#d9e6f5;stroke:#444443;stroke-linejoin:miter;stroke-width:0.5;\"/>\n   </g>\n   <g id=\"patch_312\">\n    <path clip-path=\"url(#pf657e1e3ca)\" d=\"M 167.431812 4853.355932 \nL 166.428446 4853.355932 \nL 166.428446 4867.630508 \nL 167.431812 4867.630508 \nz\n\" style=\"fill:#d9e6f5;stroke:#444443;stroke-linejoin:miter;stroke-width:0.5;\"/>\n   </g>\n   <g id=\"patch_313\">\n    <path clip-path=\"url(#pf657e1e3ca)\" d=\"M 167.431812 4869.057966 \nL 166.205476 4869.057966 \nL 166.205476 4883.332542 \nL 167.431812 4883.332542 \nz\n\" style=\"fill:#d9e6f5;stroke:#444443;stroke-linejoin:miter;stroke-width:0.5;\"/>\n   </g>\n   <g id=\"matplotlib.axis_1\">\n    <g id=\"xtick_1\">\n     <g id=\"line2d_1\">\n      <defs>\n       <path d=\"M 0 0 \nL 0 3.5 \n\" id=\"mc6ad03c2ec\" style=\"stroke:#000000;stroke-width:0.8;\"/>\n      </defs>\n      <g>\n       <use style=\"stroke:#000000;stroke-width:0.8;\" x=\"167.431812\" xlink:href=\"#mc6ad03c2ec\" y=\"4884.76\"/>\n      </g>\n     </g>\n     <g id=\"text_1\">\n      <!-- 0.00 -->\n      <defs>\n       <path d=\"M 31.78125 66.40625 \nQ 24.171875 66.40625 20.328125 58.90625 \nQ 16.5 51.421875 16.5 36.375 \nQ 16.5 21.390625 20.328125 13.890625 \nQ 24.171875 6.390625 31.78125 6.390625 \nQ 39.453125 6.390625 43.28125 13.890625 \nQ 47.125 21.390625 47.125 36.375 \nQ 47.125 51.421875 43.28125 58.90625 \nQ 39.453125 66.40625 31.78125 66.40625 \nz\nM 31.78125 74.21875 \nQ 44.046875 74.21875 50.515625 64.515625 \nQ 56.984375 54.828125 56.984375 36.375 \nQ 56.984375 17.96875 50.515625 8.265625 \nQ 44.046875 -1.421875 31.78125 -1.421875 \nQ 19.53125 -1.421875 13.0625 8.265625 \nQ 6.59375 17.96875 6.59375 36.375 \nQ 6.59375 54.828125 13.0625 64.515625 \nQ 19.53125 74.21875 31.78125 74.21875 \nz\n\" id=\"DejaVuSans-48\"/>\n       <path d=\"M 10.6875 12.40625 \nL 21 12.40625 \nL 21 0 \nL 10.6875 0 \nz\n\" id=\"DejaVuSans-46\"/>\n      </defs>\n      <g style=\"fill:#444443;\" transform=\"translate(156.298999 4899.358438)scale(0.1 -0.1)\">\n       <use xlink:href=\"#DejaVuSans-48\"/>\n       <use x=\"63.623047\" xlink:href=\"#DejaVuSans-46\"/>\n       <use x=\"95.410156\" xlink:href=\"#DejaVuSans-48\"/>\n       <use x=\"159.033203\" xlink:href=\"#DejaVuSans-48\"/>\n      </g>\n     </g>\n    </g>\n    <g id=\"xtick_2\">\n     <g id=\"line2d_2\">\n      <g>\n       <use style=\"stroke:#000000;stroke-width:0.8;\" x=\"220.498712\" xlink:href=\"#mc6ad03c2ec\" y=\"4884.76\"/>\n      </g>\n     </g>\n     <g id=\"text_2\">\n      <!-- 0.10 -->\n      <defs>\n       <path d=\"M 12.40625 8.296875 \nL 28.515625 8.296875 \nL 28.515625 63.921875 \nL 10.984375 60.40625 \nL 10.984375 69.390625 \nL 28.421875 72.90625 \nL 38.28125 72.90625 \nL 38.28125 8.296875 \nL 54.390625 8.296875 \nL 54.390625 0 \nL 12.40625 0 \nz\n\" id=\"DejaVuSans-49\"/>\n      </defs>\n      <g style=\"fill:#444443;\" transform=\"translate(209.365899 4899.358438)scale(0.1 -0.1)\">\n       <use xlink:href=\"#DejaVuSans-48\"/>\n       <use x=\"63.623047\" xlink:href=\"#DejaVuSans-46\"/>\n       <use x=\"95.410156\" xlink:href=\"#DejaVuSans-49\"/>\n       <use x=\"159.033203\" xlink:href=\"#DejaVuSans-48\"/>\n      </g>\n     </g>\n    </g>\n    <g id=\"xtick_3\">\n     <g id=\"line2d_3\">\n      <g>\n       <use style=\"stroke:#000000;stroke-width:0.8;\" x=\"251.045625\" xlink:href=\"#mc6ad03c2ec\" y=\"4884.76\"/>\n      </g>\n     </g>\n     <g id=\"text_3\">\n      <!-- 0.15 -->\n      <defs>\n       <path d=\"M 10.796875 72.90625 \nL 49.515625 72.90625 \nL 49.515625 64.59375 \nL 19.828125 64.59375 \nL 19.828125 46.734375 \nQ 21.96875 47.46875 24.109375 47.828125 \nQ 26.265625 48.1875 28.421875 48.1875 \nQ 40.625 48.1875 47.75 41.5 \nQ 54.890625 34.8125 54.890625 23.390625 \nQ 54.890625 11.625 47.5625 5.09375 \nQ 40.234375 -1.421875 26.90625 -1.421875 \nQ 22.3125 -1.421875 17.546875 -0.640625 \nQ 12.796875 0.140625 7.71875 1.703125 \nL 7.71875 11.625 \nQ 12.109375 9.234375 16.796875 8.0625 \nQ 21.484375 6.890625 26.703125 6.890625 \nQ 35.15625 6.890625 40.078125 11.328125 \nQ 45.015625 15.765625 45.015625 23.390625 \nQ 45.015625 31 40.078125 35.4375 \nQ 35.15625 39.890625 26.703125 39.890625 \nQ 22.75 39.890625 18.8125 39.015625 \nQ 14.890625 38.140625 10.796875 36.28125 \nz\n\" id=\"DejaVuSans-53\"/>\n      </defs>\n      <g style=\"fill:#444443;\" transform=\"translate(239.912813 4899.358438)scale(0.1 -0.1)\">\n       <use xlink:href=\"#DejaVuSans-48\"/>\n       <use x=\"63.623047\" xlink:href=\"#DejaVuSans-46\"/>\n       <use x=\"95.410156\" xlink:href=\"#DejaVuSans-49\"/>\n       <use x=\"159.033203\" xlink:href=\"#DejaVuSans-53\"/>\n      </g>\n     </g>\n    </g>\n   </g>\n   <g id=\"matplotlib.axis_2\">\n    <g id=\"ytick_1\">\n     <g id=\"line2d_4\">\n      <defs>\n       <path d=\"M 0 0 \nL -3.5 0 \n\" id=\"m85187e86d9\" style=\"stroke:#000000;stroke-width:0.8;\"/>\n      </defs>\n      <g>\n       <use style=\"stroke:#000000;stroke-width:0.8;\" x=\"165.090625\" xlink:href=\"#m85187e86d9\" y=\"8.564746\"/>\n      </g>\n     </g>\n     <g id=\"text_4\">\n      <!-- PropertyField37 -->\n      <defs>\n       <path d=\"M 19.671875 64.796875 \nL 19.671875 37.40625 \nL 32.078125 37.40625 \nQ 38.96875 37.40625 42.71875 40.96875 \nQ 46.484375 44.53125 46.484375 51.125 \nQ 46.484375 57.671875 42.71875 61.234375 \nQ 38.96875 64.796875 32.078125 64.796875 \nz\nM 9.8125 72.90625 \nL 32.078125 72.90625 \nQ 44.34375 72.90625 50.609375 67.359375 \nQ 56.890625 61.8125 56.890625 51.125 \nQ 56.890625 40.328125 50.609375 34.8125 \nQ 44.34375 29.296875 32.078125 29.296875 \nL 19.671875 29.296875 \nL 19.671875 0 \nL 9.8125 0 \nz\n\" id=\"DejaVuSans-80\"/>\n       <path d=\"M 41.109375 46.296875 \nQ 39.59375 47.171875 37.8125 47.578125 \nQ 36.03125 48 33.890625 48 \nQ 26.265625 48 22.1875 43.046875 \nQ 18.109375 38.09375 18.109375 28.8125 \nL 18.109375 0 \nL 9.078125 0 \nL 9.078125 54.6875 \nL 18.109375 54.6875 \nL 18.109375 46.1875 \nQ 20.953125 51.171875 25.484375 53.578125 \nQ 30.03125 56 36.53125 56 \nQ 37.453125 56 38.578125 55.875 \nQ 39.703125 55.765625 41.0625 55.515625 \nz\n\" id=\"DejaVuSans-114\"/>\n       <path d=\"M 30.609375 48.390625 \nQ 23.390625 48.390625 19.1875 42.75 \nQ 14.984375 37.109375 14.984375 27.296875 \nQ 14.984375 17.484375 19.15625 11.84375 \nQ 23.34375 6.203125 30.609375 6.203125 \nQ 37.796875 6.203125 41.984375 11.859375 \nQ 46.1875 17.53125 46.1875 27.296875 \nQ 46.1875 37.015625 41.984375 42.703125 \nQ 37.796875 48.390625 30.609375 48.390625 \nz\nM 30.609375 56 \nQ 42.328125 56 49.015625 48.375 \nQ 55.71875 40.765625 55.71875 27.296875 \nQ 55.71875 13.875 49.015625 6.21875 \nQ 42.328125 -1.421875 30.609375 -1.421875 \nQ 18.84375 -1.421875 12.171875 6.21875 \nQ 5.515625 13.875 5.515625 27.296875 \nQ 5.515625 40.765625 12.171875 48.375 \nQ 18.84375 56 30.609375 56 \nz\n\" id=\"DejaVuSans-111\"/>\n       <path d=\"M 18.109375 8.203125 \nL 18.109375 -20.796875 \nL 9.078125 -20.796875 \nL 9.078125 54.6875 \nL 18.109375 54.6875 \nL 18.109375 46.390625 \nQ 20.953125 51.265625 25.265625 53.625 \nQ 29.59375 56 35.59375 56 \nQ 45.5625 56 51.78125 48.09375 \nQ 58.015625 40.1875 58.015625 27.296875 \nQ 58.015625 14.40625 51.78125 6.484375 \nQ 45.5625 -1.421875 35.59375 -1.421875 \nQ 29.59375 -1.421875 25.265625 0.953125 \nQ 20.953125 3.328125 18.109375 8.203125 \nz\nM 48.6875 27.296875 \nQ 48.6875 37.203125 44.609375 42.84375 \nQ 40.53125 48.484375 33.40625 48.484375 \nQ 26.265625 48.484375 22.1875 42.84375 \nQ 18.109375 37.203125 18.109375 27.296875 \nQ 18.109375 17.390625 22.1875 11.75 \nQ 26.265625 6.109375 33.40625 6.109375 \nQ 40.53125 6.109375 44.609375 11.75 \nQ 48.6875 17.390625 48.6875 27.296875 \nz\n\" id=\"DejaVuSans-112\"/>\n       <path d=\"M 56.203125 29.59375 \nL 56.203125 25.203125 \nL 14.890625 25.203125 \nQ 15.484375 15.921875 20.484375 11.0625 \nQ 25.484375 6.203125 34.421875 6.203125 \nQ 39.59375 6.203125 44.453125 7.46875 \nQ 49.3125 8.734375 54.109375 11.28125 \nL 54.109375 2.78125 \nQ 49.265625 0.734375 44.1875 -0.34375 \nQ 39.109375 -1.421875 33.890625 -1.421875 \nQ 20.796875 -1.421875 13.15625 6.1875 \nQ 5.515625 13.8125 5.515625 26.8125 \nQ 5.515625 40.234375 12.765625 48.109375 \nQ 20.015625 56 32.328125 56 \nQ 43.359375 56 49.78125 48.890625 \nQ 56.203125 41.796875 56.203125 29.59375 \nz\nM 47.21875 32.234375 \nQ 47.125 39.59375 43.09375 43.984375 \nQ 39.0625 48.390625 32.421875 48.390625 \nQ 24.90625 48.390625 20.390625 44.140625 \nQ 15.875 39.890625 15.1875 32.171875 \nz\n\" id=\"DejaVuSans-101\"/>\n       <path d=\"M 18.3125 70.21875 \nL 18.3125 54.6875 \nL 36.8125 54.6875 \nL 36.8125 47.703125 \nL 18.3125 47.703125 \nL 18.3125 18.015625 \nQ 18.3125 11.328125 20.140625 9.421875 \nQ 21.96875 7.515625 27.59375 7.515625 \nL 36.8125 7.515625 \nL 36.8125 0 \nL 27.59375 0 \nQ 17.1875 0 13.234375 3.875 \nQ 9.28125 7.765625 9.28125 18.015625 \nL 9.28125 47.703125 \nL 2.6875 47.703125 \nL 2.6875 54.6875 \nL 9.28125 54.6875 \nL 9.28125 70.21875 \nz\n\" id=\"DejaVuSans-116\"/>\n       <path d=\"M 32.171875 -5.078125 \nQ 28.375 -14.84375 24.75 -17.8125 \nQ 21.140625 -20.796875 15.09375 -20.796875 \nL 7.90625 -20.796875 \nL 7.90625 -13.28125 \nL 13.1875 -13.28125 \nQ 16.890625 -13.28125 18.9375 -11.515625 \nQ 21 -9.765625 23.484375 -3.21875 \nL 25.09375 0.875 \nL 2.984375 54.6875 \nL 12.5 54.6875 \nL 29.59375 11.921875 \nL 46.6875 54.6875 \nL 56.203125 54.6875 \nz\n\" id=\"DejaVuSans-121\"/>\n       <path d=\"M 9.8125 72.90625 \nL 51.703125 72.90625 \nL 51.703125 64.59375 \nL 19.671875 64.59375 \nL 19.671875 43.109375 \nL 48.578125 43.109375 \nL 48.578125 34.8125 \nL 19.671875 34.8125 \nL 19.671875 0 \nL 9.8125 0 \nz\n\" id=\"DejaVuSans-70\"/>\n       <path d=\"M 9.421875 54.6875 \nL 18.40625 54.6875 \nL 18.40625 0 \nL 9.421875 0 \nz\nM 9.421875 75.984375 \nL 18.40625 75.984375 \nL 18.40625 64.59375 \nL 9.421875 64.59375 \nz\n\" id=\"DejaVuSans-105\"/>\n       <path d=\"M 9.421875 75.984375 \nL 18.40625 75.984375 \nL 18.40625 0 \nL 9.421875 0 \nz\n\" id=\"DejaVuSans-108\"/>\n       <path d=\"M 45.40625 46.390625 \nL 45.40625 75.984375 \nL 54.390625 75.984375 \nL 54.390625 0 \nL 45.40625 0 \nL 45.40625 8.203125 \nQ 42.578125 3.328125 38.25 0.953125 \nQ 33.9375 -1.421875 27.875 -1.421875 \nQ 17.96875 -1.421875 11.734375 6.484375 \nQ 5.515625 14.40625 5.515625 27.296875 \nQ 5.515625 40.1875 11.734375 48.09375 \nQ 17.96875 56 27.875 56 \nQ 33.9375 56 38.25 53.625 \nQ 42.578125 51.265625 45.40625 46.390625 \nz\nM 14.796875 27.296875 \nQ 14.796875 17.390625 18.875 11.75 \nQ 22.953125 6.109375 30.078125 6.109375 \nQ 37.203125 6.109375 41.296875 11.75 \nQ 45.40625 17.390625 45.40625 27.296875 \nQ 45.40625 37.203125 41.296875 42.84375 \nQ 37.203125 48.484375 30.078125 48.484375 \nQ 22.953125 48.484375 18.875 42.84375 \nQ 14.796875 37.203125 14.796875 27.296875 \nz\n\" id=\"DejaVuSans-100\"/>\n       <path d=\"M 40.578125 39.3125 \nQ 47.65625 37.796875 51.625 33 \nQ 55.609375 28.21875 55.609375 21.1875 \nQ 55.609375 10.40625 48.1875 4.484375 \nQ 40.765625 -1.421875 27.09375 -1.421875 \nQ 22.515625 -1.421875 17.65625 -0.515625 \nQ 12.796875 0.390625 7.625 2.203125 \nL 7.625 11.71875 \nQ 11.71875 9.328125 16.59375 8.109375 \nQ 21.484375 6.890625 26.8125 6.890625 \nQ 36.078125 6.890625 40.9375 10.546875 \nQ 45.796875 14.203125 45.796875 21.1875 \nQ 45.796875 27.640625 41.28125 31.265625 \nQ 36.765625 34.90625 28.71875 34.90625 \nL 20.21875 34.90625 \nL 20.21875 43.015625 \nL 29.109375 43.015625 \nQ 36.375 43.015625 40.234375 45.921875 \nQ 44.09375 48.828125 44.09375 54.296875 \nQ 44.09375 59.90625 40.109375 62.90625 \nQ 36.140625 65.921875 28.71875 65.921875 \nQ 24.65625 65.921875 20.015625 65.03125 \nQ 15.375 64.15625 9.8125 62.3125 \nL 9.8125 71.09375 \nQ 15.4375 72.65625 20.34375 73.4375 \nQ 25.25 74.21875 29.59375 74.21875 \nQ 40.828125 74.21875 47.359375 69.109375 \nQ 53.90625 64.015625 53.90625 55.328125 \nQ 53.90625 49.265625 50.4375 45.09375 \nQ 46.96875 40.921875 40.578125 39.3125 \nz\n\" id=\"DejaVuSans-51\"/>\n       <path d=\"M 8.203125 72.90625 \nL 55.078125 72.90625 \nL 55.078125 68.703125 \nL 28.609375 0 \nL 18.3125 0 \nL 43.21875 64.59375 \nL 8.203125 64.59375 \nz\n\" id=\"DejaVuSans-55\"/>\n      </defs>\n      <g style=\"fill:#444443;\" transform=\"translate(79.970313 12.363965)scale(0.1 -0.1)\">\n       <use xlink:href=\"#DejaVuSans-80\"/>\n       <use x=\"58.552734\" xlink:href=\"#DejaVuSans-114\"/>\n       <use x=\"97.416016\" xlink:href=\"#DejaVuSans-111\"/>\n       <use x=\"158.597656\" xlink:href=\"#DejaVuSans-112\"/>\n       <use x=\"222.074219\" xlink:href=\"#DejaVuSans-101\"/>\n       <use x=\"283.597656\" xlink:href=\"#DejaVuSans-114\"/>\n       <use x=\"324.710938\" xlink:href=\"#DejaVuSans-116\"/>\n       <use x=\"363.919922\" xlink:href=\"#DejaVuSans-121\"/>\n       <use x=\"423.099609\" xlink:href=\"#DejaVuSans-70\"/>\n       <use x=\"473.369141\" xlink:href=\"#DejaVuSans-105\"/>\n       <use x=\"501.152344\" xlink:href=\"#DejaVuSans-101\"/>\n       <use x=\"562.675781\" xlink:href=\"#DejaVuSans-108\"/>\n       <use x=\"590.458984\" xlink:href=\"#DejaVuSans-100\"/>\n       <use x=\"653.935547\" xlink:href=\"#DejaVuSans-51\"/>\n       <use x=\"717.558594\" xlink:href=\"#DejaVuSans-55\"/>\n      </g>\n     </g>\n    </g>\n    <g id=\"ytick_2\">\n     <g id=\"line2d_5\">\n      <g>\n       <use style=\"stroke:#000000;stroke-width:0.8;\" x=\"165.090625\" xlink:href=\"#m85187e86d9\" y=\"24.26678\"/>\n      </g>\n     </g>\n     <g id=\"text_5\">\n      <!-- PropertyField29_na -->\n      <defs>\n       <path d=\"M 19.1875 8.296875 \nL 53.609375 8.296875 \nL 53.609375 0 \nL 7.328125 0 \nL 7.328125 8.296875 \nQ 12.9375 14.109375 22.625 23.890625 \nQ 32.328125 33.6875 34.8125 36.53125 \nQ 39.546875 41.84375 41.421875 45.53125 \nQ 43.3125 49.21875 43.3125 52.78125 \nQ 43.3125 58.59375 39.234375 62.25 \nQ 35.15625 65.921875 28.609375 65.921875 \nQ 23.96875 65.921875 18.8125 64.3125 \nQ 13.671875 62.703125 7.8125 59.421875 \nL 7.8125 69.390625 \nQ 13.765625 71.78125 18.9375 73 \nQ 24.125 74.21875 28.421875 74.21875 \nQ 39.75 74.21875 46.484375 68.546875 \nQ 53.21875 62.890625 53.21875 53.421875 \nQ 53.21875 48.921875 51.53125 44.890625 \nQ 49.859375 40.875 45.40625 35.40625 \nQ 44.1875 33.984375 37.640625 27.21875 \nQ 31.109375 20.453125 19.1875 8.296875 \nz\n\" id=\"DejaVuSans-50\"/>\n       <path d=\"M 10.984375 1.515625 \nL 10.984375 10.5 \nQ 14.703125 8.734375 18.5 7.8125 \nQ 22.3125 6.890625 25.984375 6.890625 \nQ 35.75 6.890625 40.890625 13.453125 \nQ 46.046875 20.015625 46.78125 33.40625 \nQ 43.953125 29.203125 39.59375 26.953125 \nQ 35.25 24.703125 29.984375 24.703125 \nQ 19.046875 24.703125 12.671875 31.3125 \nQ 6.296875 37.9375 6.296875 49.421875 \nQ 6.296875 60.640625 12.9375 67.421875 \nQ 19.578125 74.21875 30.609375 74.21875 \nQ 43.265625 74.21875 49.921875 64.515625 \nQ 56.59375 54.828125 56.59375 36.375 \nQ 56.59375 19.140625 48.40625 8.859375 \nQ 40.234375 -1.421875 26.421875 -1.421875 \nQ 22.703125 -1.421875 18.890625 -0.6875 \nQ 15.09375 0.046875 10.984375 1.515625 \nz\nM 30.609375 32.421875 \nQ 37.25 32.421875 41.125 36.953125 \nQ 45.015625 41.5 45.015625 49.421875 \nQ 45.015625 57.28125 41.125 61.84375 \nQ 37.25 66.40625 30.609375 66.40625 \nQ 23.96875 66.40625 20.09375 61.84375 \nQ 16.21875 57.28125 16.21875 49.421875 \nQ 16.21875 41.5 20.09375 36.953125 \nQ 23.96875 32.421875 30.609375 32.421875 \nz\n\" id=\"DejaVuSans-57\"/>\n       <path d=\"M 50.984375 -16.609375 \nL 50.984375 -23.578125 \nL -0.984375 -23.578125 \nL -0.984375 -16.609375 \nz\n\" id=\"DejaVuSans-95\"/>\n       <path d=\"M 54.890625 33.015625 \nL 54.890625 0 \nL 45.90625 0 \nL 45.90625 32.71875 \nQ 45.90625 40.484375 42.875 44.328125 \nQ 39.84375 48.1875 33.796875 48.1875 \nQ 26.515625 48.1875 22.3125 43.546875 \nQ 18.109375 38.921875 18.109375 30.90625 \nL 18.109375 0 \nL 9.078125 0 \nL 9.078125 54.6875 \nL 18.109375 54.6875 \nL 18.109375 46.1875 \nQ 21.34375 51.125 25.703125 53.5625 \nQ 30.078125 56 35.796875 56 \nQ 45.21875 56 50.046875 50.171875 \nQ 54.890625 44.34375 54.890625 33.015625 \nz\n\" id=\"DejaVuSans-110\"/>\n       <path d=\"M 34.28125 27.484375 \nQ 23.390625 27.484375 19.1875 25 \nQ 14.984375 22.515625 14.984375 16.5 \nQ 14.984375 11.71875 18.140625 8.90625 \nQ 21.296875 6.109375 26.703125 6.109375 \nQ 34.1875 6.109375 38.703125 11.40625 \nQ 43.21875 16.703125 43.21875 25.484375 \nL 43.21875 27.484375 \nz\nM 52.203125 31.203125 \nL 52.203125 0 \nL 43.21875 0 \nL 43.21875 8.296875 \nQ 40.140625 3.328125 35.546875 0.953125 \nQ 30.953125 -1.421875 24.3125 -1.421875 \nQ 15.921875 -1.421875 10.953125 3.296875 \nQ 6 8.015625 6 15.921875 \nQ 6 25.140625 12.171875 29.828125 \nQ 18.359375 34.515625 30.609375 34.515625 \nL 43.21875 34.515625 \nL 43.21875 35.40625 \nQ 43.21875 41.609375 39.140625 45 \nQ 35.0625 48.390625 27.6875 48.390625 \nQ 23 48.390625 18.546875 47.265625 \nQ 14.109375 46.140625 10.015625 43.890625 \nL 10.015625 52.203125 \nQ 14.9375 54.109375 19.578125 55.046875 \nQ 24.21875 56 28.609375 56 \nQ 40.484375 56 46.34375 49.84375 \nQ 52.203125 43.703125 52.203125 31.203125 \nz\n\" id=\"DejaVuSans-97\"/>\n      </defs>\n      <g style=\"fill:#444443;\" transform=\"translate(62.504688 28.065998)scale(0.1 -0.1)\">\n       <use xlink:href=\"#DejaVuSans-80\"/>\n       <use x=\"58.552734\" xlink:href=\"#DejaVuSans-114\"/>\n       <use x=\"97.416016\" xlink:href=\"#DejaVuSans-111\"/>\n       <use x=\"158.597656\" xlink:href=\"#DejaVuSans-112\"/>\n       <use x=\"222.074219\" xlink:href=\"#DejaVuSans-101\"/>\n       <use x=\"283.597656\" xlink:href=\"#DejaVuSans-114\"/>\n       <use x=\"324.710938\" xlink:href=\"#DejaVuSans-116\"/>\n       <use x=\"363.919922\" xlink:href=\"#DejaVuSans-121\"/>\n       <use x=\"423.099609\" xlink:href=\"#DejaVuSans-70\"/>\n       <use x=\"473.369141\" xlink:href=\"#DejaVuSans-105\"/>\n       <use x=\"501.152344\" xlink:href=\"#DejaVuSans-101\"/>\n       <use x=\"562.675781\" xlink:href=\"#DejaVuSans-108\"/>\n       <use x=\"590.458984\" xlink:href=\"#DejaVuSans-100\"/>\n       <use x=\"653.935547\" xlink:href=\"#DejaVuSans-50\"/>\n       <use x=\"717.558594\" xlink:href=\"#DejaVuSans-57\"/>\n       <use x=\"781.181641\" xlink:href=\"#DejaVuSans-95\"/>\n       <use x=\"831.181641\" xlink:href=\"#DejaVuSans-110\"/>\n       <use x=\"894.560547\" xlink:href=\"#DejaVuSans-97\"/>\n      </g>\n     </g>\n    </g>\n    <g id=\"ytick_3\">\n     <g id=\"line2d_6\">\n      <g>\n       <use style=\"stroke:#000000;stroke-width:0.8;\" x=\"165.090625\" xlink:href=\"#m85187e86d9\" y=\"39.968814\"/>\n      </g>\n     </g>\n     <g id=\"text_6\">\n      <!-- PersonalField1 -->\n      <defs>\n       <path d=\"M 44.28125 53.078125 \nL 44.28125 44.578125 \nQ 40.484375 46.53125 36.375 47.5 \nQ 32.28125 48.484375 27.875 48.484375 \nQ 21.1875 48.484375 17.84375 46.4375 \nQ 14.5 44.390625 14.5 40.28125 \nQ 14.5 37.15625 16.890625 35.375 \nQ 19.28125 33.59375 26.515625 31.984375 \nL 29.59375 31.296875 \nQ 39.15625 29.25 43.1875 25.515625 \nQ 47.21875 21.78125 47.21875 15.09375 \nQ 47.21875 7.46875 41.1875 3.015625 \nQ 35.15625 -1.421875 24.609375 -1.421875 \nQ 20.21875 -1.421875 15.453125 -0.5625 \nQ 10.6875 0.296875 5.421875 2 \nL 5.421875 11.28125 \nQ 10.40625 8.6875 15.234375 7.390625 \nQ 20.0625 6.109375 24.8125 6.109375 \nQ 31.15625 6.109375 34.5625 8.28125 \nQ 37.984375 10.453125 37.984375 14.40625 \nQ 37.984375 18.0625 35.515625 20.015625 \nQ 33.0625 21.96875 24.703125 23.78125 \nL 21.578125 24.515625 \nQ 13.234375 26.265625 9.515625 29.90625 \nQ 5.8125 33.546875 5.8125 39.890625 \nQ 5.8125 47.609375 11.28125 51.796875 \nQ 16.75 56 26.8125 56 \nQ 31.78125 56 36.171875 55.265625 \nQ 40.578125 54.546875 44.28125 53.078125 \nz\n\" id=\"DejaVuSans-115\"/>\n      </defs>\n      <g style=\"fill:#444443;\" transform=\"translate(86.140625 43.768032)scale(0.1 -0.1)\">\n       <use xlink:href=\"#DejaVuSans-80\"/>\n       <use x=\"56.677734\" xlink:href=\"#DejaVuSans-101\"/>\n       <use x=\"118.201172\" xlink:href=\"#DejaVuSans-114\"/>\n       <use x=\"159.314453\" xlink:href=\"#DejaVuSans-115\"/>\n       <use x=\"211.414062\" xlink:href=\"#DejaVuSans-111\"/>\n       <use x=\"272.595703\" xlink:href=\"#DejaVuSans-110\"/>\n       <use x=\"335.974609\" xlink:href=\"#DejaVuSans-97\"/>\n       <use x=\"397.253906\" xlink:href=\"#DejaVuSans-108\"/>\n       <use x=\"425.037109\" xlink:href=\"#DejaVuSans-70\"/>\n       <use x=\"475.306641\" xlink:href=\"#DejaVuSans-105\"/>\n       <use x=\"503.089844\" xlink:href=\"#DejaVuSans-101\"/>\n       <use x=\"564.613281\" xlink:href=\"#DejaVuSans-108\"/>\n       <use x=\"592.396484\" xlink:href=\"#DejaVuSans-100\"/>\n       <use x=\"655.873047\" xlink:href=\"#DejaVuSans-49\"/>\n      </g>\n     </g>\n    </g>\n    <g id=\"ytick_4\">\n     <g id=\"line2d_7\">\n      <g>\n       <use style=\"stroke:#000000;stroke-width:0.8;\" x=\"165.090625\" xlink:href=\"#m85187e86d9\" y=\"55.670847\"/>\n      </g>\n     </g>\n     <g id=\"text_7\">\n      <!-- SalesField5 -->\n      <defs>\n       <path d=\"M 53.515625 70.515625 \nL 53.515625 60.890625 \nQ 47.90625 63.578125 42.921875 64.890625 \nQ 37.9375 66.21875 33.296875 66.21875 \nQ 25.25 66.21875 20.875 63.09375 \nQ 16.5 59.96875 16.5 54.203125 \nQ 16.5 49.359375 19.40625 46.890625 \nQ 22.3125 44.4375 30.421875 42.921875 \nL 36.375 41.703125 \nQ 47.40625 39.59375 52.65625 34.296875 \nQ 57.90625 29 57.90625 20.125 \nQ 57.90625 9.515625 50.796875 4.046875 \nQ 43.703125 -1.421875 29.984375 -1.421875 \nQ 24.8125 -1.421875 18.96875 -0.25 \nQ 13.140625 0.921875 6.890625 3.21875 \nL 6.890625 13.375 \nQ 12.890625 10.015625 18.65625 8.296875 \nQ 24.421875 6.59375 29.984375 6.59375 \nQ 38.421875 6.59375 43.015625 9.90625 \nQ 47.609375 13.234375 47.609375 19.390625 \nQ 47.609375 24.75 44.3125 27.78125 \nQ 41.015625 30.8125 33.5 32.328125 \nL 27.484375 33.5 \nQ 16.453125 35.6875 11.515625 40.375 \nQ 6.59375 45.0625 6.59375 53.421875 \nQ 6.59375 63.09375 13.40625 68.65625 \nQ 20.21875 74.21875 32.171875 74.21875 \nQ 37.3125 74.21875 42.625 73.28125 \nQ 47.953125 72.359375 53.515625 70.515625 \nz\n\" id=\"DejaVuSans-83\"/>\n      </defs>\n      <g style=\"fill:#444443;\" transform=\"translate(102.026563 59.470066)scale(0.1 -0.1)\">\n       <use xlink:href=\"#DejaVuSans-83\"/>\n       <use x=\"63.476562\" xlink:href=\"#DejaVuSans-97\"/>\n       <use x=\"124.755859\" xlink:href=\"#DejaVuSans-108\"/>\n       <use x=\"152.539062\" xlink:href=\"#DejaVuSans-101\"/>\n       <use x=\"214.0625\" xlink:href=\"#DejaVuSans-115\"/>\n       <use x=\"266.162109\" xlink:href=\"#DejaVuSans-70\"/>\n       <use x=\"316.431641\" xlink:href=\"#DejaVuSans-105\"/>\n       <use x=\"344.214844\" xlink:href=\"#DejaVuSans-101\"/>\n       <use x=\"405.738281\" xlink:href=\"#DejaVuSans-108\"/>\n       <use x=\"433.521484\" xlink:href=\"#DejaVuSans-100\"/>\n       <use x=\"496.998047\" xlink:href=\"#DejaVuSans-53\"/>\n      </g>\n     </g>\n    </g>\n    <g id=\"ytick_5\">\n     <g id=\"line2d_8\">\n      <g>\n       <use style=\"stroke:#000000;stroke-width:0.8;\" x=\"165.090625\" xlink:href=\"#m85187e86d9\" y=\"71.372881\"/>\n      </g>\n     </g>\n     <g id=\"text_8\">\n      <!-- PersonalField9 -->\n      <g style=\"fill:#444443;\" transform=\"translate(86.140625 75.1721)scale(0.1 -0.1)\">\n       <use xlink:href=\"#DejaVuSans-80\"/>\n       <use x=\"56.677734\" xlink:href=\"#DejaVuSans-101\"/>\n       <use x=\"118.201172\" xlink:href=\"#DejaVuSans-114\"/>\n       <use x=\"159.314453\" xlink:href=\"#DejaVuSans-115\"/>\n       <use x=\"211.414062\" xlink:href=\"#DejaVuSans-111\"/>\n       <use x=\"272.595703\" xlink:href=\"#DejaVuSans-110\"/>\n       <use x=\"335.974609\" xlink:href=\"#DejaVuSans-97\"/>\n       <use x=\"397.253906\" xlink:href=\"#DejaVuSans-108\"/>\n       <use x=\"425.037109\" xlink:href=\"#DejaVuSans-70\"/>\n       <use x=\"475.306641\" xlink:href=\"#DejaVuSans-105\"/>\n       <use x=\"503.089844\" xlink:href=\"#DejaVuSans-101\"/>\n       <use x=\"564.613281\" xlink:href=\"#DejaVuSans-108\"/>\n       <use x=\"592.396484\" xlink:href=\"#DejaVuSans-100\"/>\n       <use x=\"655.873047\" xlink:href=\"#DejaVuSans-57\"/>\n      </g>\n     </g>\n    </g>\n    <g id=\"ytick_6\">\n     <g id=\"line2d_9\">\n      <g>\n       <use style=\"stroke:#000000;stroke-width:0.8;\" x=\"165.090625\" xlink:href=\"#m85187e86d9\" y=\"87.074915\"/>\n      </g>\n     </g>\n     <g id=\"text_9\">\n      <!-- PersonalField10B -->\n      <defs>\n       <path d=\"M 19.671875 34.8125 \nL 19.671875 8.109375 \nL 35.5 8.109375 \nQ 43.453125 8.109375 47.28125 11.40625 \nQ 51.125 14.703125 51.125 21.484375 \nQ 51.125 28.328125 47.28125 31.5625 \nQ 43.453125 34.8125 35.5 34.8125 \nz\nM 19.671875 64.796875 \nL 19.671875 42.828125 \nL 34.28125 42.828125 \nQ 41.5 42.828125 45.03125 45.53125 \nQ 48.578125 48.25 48.578125 53.8125 \nQ 48.578125 59.328125 45.03125 62.0625 \nQ 41.5 64.796875 34.28125 64.796875 \nz\nM 9.8125 72.90625 \nL 35.015625 72.90625 \nQ 46.296875 72.90625 52.390625 68.21875 \nQ 58.5 63.53125 58.5 54.890625 \nQ 58.5 48.1875 55.375 44.234375 \nQ 52.25 40.28125 46.1875 39.3125 \nQ 53.46875 37.75 57.5 32.78125 \nQ 61.53125 27.828125 61.53125 20.40625 \nQ 61.53125 10.640625 54.890625 5.3125 \nQ 48.25 0 35.984375 0 \nL 9.8125 0 \nz\n\" id=\"DejaVuSans-66\"/>\n      </defs>\n      <g style=\"fill:#444443;\" transform=\"translate(72.917188 90.874134)scale(0.1 -0.1)\">\n       <use xlink:href=\"#DejaVuSans-80\"/>\n       <use x=\"56.677734\" xlink:href=\"#DejaVuSans-101\"/>\n       <use x=\"118.201172\" xlink:href=\"#DejaVuSans-114\"/>\n       <use x=\"159.314453\" xlink:href=\"#DejaVuSans-115\"/>\n       <use x=\"211.414062\" xlink:href=\"#DejaVuSans-111\"/>\n       <use x=\"272.595703\" xlink:href=\"#DejaVuSans-110\"/>\n       <use x=\"335.974609\" xlink:href=\"#DejaVuSans-97\"/>\n       <use x=\"397.253906\" xlink:href=\"#DejaVuSans-108\"/>\n       <use x=\"425.037109\" xlink:href=\"#DejaVuSans-70\"/>\n       <use x=\"475.306641\" xlink:href=\"#DejaVuSans-105\"/>\n       <use x=\"503.089844\" xlink:href=\"#DejaVuSans-101\"/>\n       <use x=\"564.613281\" xlink:href=\"#DejaVuSans-108\"/>\n       <use x=\"592.396484\" xlink:href=\"#DejaVuSans-100\"/>\n       <use x=\"655.873047\" xlink:href=\"#DejaVuSans-49\"/>\n       <use x=\"719.496094\" xlink:href=\"#DejaVuSans-48\"/>\n       <use x=\"783.119141\" xlink:href=\"#DejaVuSans-66\"/>\n      </g>\n     </g>\n    </g>\n    <g id=\"ytick_7\">\n     <g id=\"line2d_10\">\n      <g>\n       <use style=\"stroke:#000000;stroke-width:0.8;\" x=\"165.090625\" xlink:href=\"#m85187e86d9\" y=\"102.776949\"/>\n      </g>\n     </g>\n     <g id=\"text_10\">\n      <!-- PersonalField12 -->\n      <g style=\"fill:#444443;\" transform=\"translate(79.778125 106.576168)scale(0.1 -0.1)\">\n       <use xlink:href=\"#DejaVuSans-80\"/>\n       <use x=\"56.677734\" xlink:href=\"#DejaVuSans-101\"/>\n       <use x=\"118.201172\" xlink:href=\"#DejaVuSans-114\"/>\n       <use x=\"159.314453\" xlink:href=\"#DejaVuSans-115\"/>\n       <use x=\"211.414062\" xlink:href=\"#DejaVuSans-111\"/>\n       <use x=\"272.595703\" xlink:href=\"#DejaVuSans-110\"/>\n       <use x=\"335.974609\" xlink:href=\"#DejaVuSans-97\"/>\n       <use x=\"397.253906\" xlink:href=\"#DejaVuSans-108\"/>\n       <use x=\"425.037109\" xlink:href=\"#DejaVuSans-70\"/>\n       <use x=\"475.306641\" xlink:href=\"#DejaVuSans-105\"/>\n       <use x=\"503.089844\" xlink:href=\"#DejaVuSans-101\"/>\n       <use x=\"564.613281\" xlink:href=\"#DejaVuSans-108\"/>\n       <use x=\"592.396484\" xlink:href=\"#DejaVuSans-100\"/>\n       <use x=\"655.873047\" xlink:href=\"#DejaVuSans-49\"/>\n       <use x=\"719.496094\" xlink:href=\"#DejaVuSans-50\"/>\n      </g>\n     </g>\n    </g>\n    <g id=\"ytick_8\">\n     <g id=\"line2d_11\">\n      <g>\n       <use style=\"stroke:#000000;stroke-width:0.8;\" x=\"165.090625\" xlink:href=\"#m85187e86d9\" y=\"118.478983\"/>\n      </g>\n     </g>\n     <g id=\"text_11\">\n      <!-- PersonalField10A -->\n      <defs>\n       <path d=\"M 34.1875 63.1875 \nL 20.796875 26.90625 \nL 47.609375 26.90625 \nz\nM 28.609375 72.90625 \nL 39.796875 72.90625 \nL 67.578125 0 \nL 57.328125 0 \nL 50.6875 18.703125 \nL 17.828125 18.703125 \nL 11.1875 0 \nL 0.78125 0 \nz\n\" id=\"DejaVuSans-65\"/>\n      </defs>\n      <g style=\"fill:#444443;\" transform=\"translate(72.9375 122.278202)scale(0.1 -0.1)\">\n       <use xlink:href=\"#DejaVuSans-80\"/>\n       <use x=\"56.677734\" xlink:href=\"#DejaVuSans-101\"/>\n       <use x=\"118.201172\" xlink:href=\"#DejaVuSans-114\"/>\n       <use x=\"159.314453\" xlink:href=\"#DejaVuSans-115\"/>\n       <use x=\"211.414062\" xlink:href=\"#DejaVuSans-111\"/>\n       <use x=\"272.595703\" xlink:href=\"#DejaVuSans-110\"/>\n       <use x=\"335.974609\" xlink:href=\"#DejaVuSans-97\"/>\n       <use x=\"397.253906\" xlink:href=\"#DejaVuSans-108\"/>\n       <use x=\"425.037109\" xlink:href=\"#DejaVuSans-70\"/>\n       <use x=\"475.306641\" xlink:href=\"#DejaVuSans-105\"/>\n       <use x=\"503.089844\" xlink:href=\"#DejaVuSans-101\"/>\n       <use x=\"564.613281\" xlink:href=\"#DejaVuSans-108\"/>\n       <use x=\"592.396484\" xlink:href=\"#DejaVuSans-100\"/>\n       <use x=\"655.873047\" xlink:href=\"#DejaVuSans-49\"/>\n       <use x=\"719.496094\" xlink:href=\"#DejaVuSans-48\"/>\n       <use x=\"783.119141\" xlink:href=\"#DejaVuSans-65\"/>\n      </g>\n     </g>\n    </g>\n    <g id=\"ytick_9\">\n     <g id=\"line2d_12\">\n      <g>\n       <use style=\"stroke:#000000;stroke-width:0.8;\" x=\"165.090625\" xlink:href=\"#m85187e86d9\" y=\"134.181017\"/>\n      </g>\n     </g>\n     <g id=\"text_12\">\n      <!-- PersonalField2 -->\n      <g style=\"fill:#444443;\" transform=\"translate(86.140625 137.980236)scale(0.1 -0.1)\">\n       <use xlink:href=\"#DejaVuSans-80\"/>\n       <use x=\"56.677734\" xlink:href=\"#DejaVuSans-101\"/>\n       <use x=\"118.201172\" xlink:href=\"#DejaVuSans-114\"/>\n       <use x=\"159.314453\" xlink:href=\"#DejaVuSans-115\"/>\n       <use x=\"211.414062\" xlink:href=\"#DejaVuSans-111\"/>\n       <use x=\"272.595703\" xlink:href=\"#DejaVuSans-110\"/>\n       <use x=\"335.974609\" xlink:href=\"#DejaVuSans-97\"/>\n       <use x=\"397.253906\" xlink:href=\"#DejaVuSans-108\"/>\n       <use x=\"425.037109\" xlink:href=\"#DejaVuSans-70\"/>\n       <use x=\"475.306641\" xlink:href=\"#DejaVuSans-105\"/>\n       <use x=\"503.089844\" xlink:href=\"#DejaVuSans-101\"/>\n       <use x=\"564.613281\" xlink:href=\"#DejaVuSans-108\"/>\n       <use x=\"592.396484\" xlink:href=\"#DejaVuSans-100\"/>\n       <use x=\"655.873047\" xlink:href=\"#DejaVuSans-50\"/>\n      </g>\n     </g>\n    </g>\n    <g id=\"ytick_10\">\n     <g id=\"line2d_13\">\n      <g>\n       <use style=\"stroke:#000000;stroke-width:0.8;\" x=\"165.090625\" xlink:href=\"#m85187e86d9\" y=\"149.883051\"/>\n      </g>\n     </g>\n     <g id=\"text_13\">\n      <!-- Field7 -->\n      <g style=\"fill:#444443;\" transform=\"translate(128.64375 153.68227)scale(0.1 -0.1)\">\n       <use xlink:href=\"#DejaVuSans-70\"/>\n       <use x=\"50.269531\" xlink:href=\"#DejaVuSans-105\"/>\n       <use x=\"78.052734\" xlink:href=\"#DejaVuSans-101\"/>\n       <use x=\"139.576172\" xlink:href=\"#DejaVuSans-108\"/>\n       <use x=\"167.359375\" xlink:href=\"#DejaVuSans-100\"/>\n       <use x=\"230.835938\" xlink:href=\"#DejaVuSans-55\"/>\n      </g>\n     </g>\n    </g>\n    <g id=\"ytick_11\">\n     <g id=\"line2d_14\">\n      <g>\n       <use style=\"stroke:#000000;stroke-width:0.8;\" x=\"165.090625\" xlink:href=\"#m85187e86d9\" y=\"165.585085\"/>\n      </g>\n     </g>\n     <g id=\"text_14\">\n      <!-- SalesField1A -->\n      <g style=\"fill:#444443;\" transform=\"translate(95.185938 169.384303)scale(0.1 -0.1)\">\n       <use xlink:href=\"#DejaVuSans-83\"/>\n       <use x=\"63.476562\" xlink:href=\"#DejaVuSans-97\"/>\n       <use x=\"124.755859\" xlink:href=\"#DejaVuSans-108\"/>\n       <use x=\"152.539062\" xlink:href=\"#DejaVuSans-101\"/>\n       <use x=\"214.0625\" xlink:href=\"#DejaVuSans-115\"/>\n       <use x=\"266.162109\" xlink:href=\"#DejaVuSans-70\"/>\n       <use x=\"316.431641\" xlink:href=\"#DejaVuSans-105\"/>\n       <use x=\"344.214844\" xlink:href=\"#DejaVuSans-101\"/>\n       <use x=\"405.738281\" xlink:href=\"#DejaVuSans-108\"/>\n       <use x=\"433.521484\" xlink:href=\"#DejaVuSans-100\"/>\n       <use x=\"496.998047\" xlink:href=\"#DejaVuSans-49\"/>\n       <use x=\"560.621094\" xlink:href=\"#DejaVuSans-65\"/>\n      </g>\n     </g>\n    </g>\n    <g id=\"ytick_12\">\n     <g id=\"line2d_15\">\n      <g>\n       <use style=\"stroke:#000000;stroke-width:0.8;\" x=\"165.090625\" xlink:href=\"#m85187e86d9\" y=\"181.287119\"/>\n      </g>\n     </g>\n     <g id=\"text_15\">\n      <!-- PropertyField34 -->\n      <defs>\n       <path d=\"M 37.796875 64.3125 \nL 12.890625 25.390625 \nL 37.796875 25.390625 \nz\nM 35.203125 72.90625 \nL 47.609375 72.90625 \nL 47.609375 25.390625 \nL 58.015625 25.390625 \nL 58.015625 17.1875 \nL 47.609375 17.1875 \nL 47.609375 0 \nL 37.796875 0 \nL 37.796875 17.1875 \nL 4.890625 17.1875 \nL 4.890625 26.703125 \nz\n\" id=\"DejaVuSans-52\"/>\n      </defs>\n      <g style=\"fill:#444443;\" transform=\"translate(79.970313 185.086337)scale(0.1 -0.1)\">\n       <use xlink:href=\"#DejaVuSans-80\"/>\n       <use x=\"58.552734\" xlink:href=\"#DejaVuSans-114\"/>\n       <use x=\"97.416016\" xlink:href=\"#DejaVuSans-111\"/>\n       <use x=\"158.597656\" xlink:href=\"#DejaVuSans-112\"/>\n       <use x=\"222.074219\" xlink:href=\"#DejaVuSans-101\"/>\n       <use x=\"283.597656\" xlink:href=\"#DejaVuSans-114\"/>\n       <use x=\"324.710938\" xlink:href=\"#DejaVuSans-116\"/>\n       <use x=\"363.919922\" xlink:href=\"#DejaVuSans-121\"/>\n       <use x=\"423.099609\" xlink:href=\"#DejaVuSans-70\"/>\n       <use x=\"473.369141\" xlink:href=\"#DejaVuSans-105\"/>\n       <use x=\"501.152344\" xlink:href=\"#DejaVuSans-101\"/>\n       <use x=\"562.675781\" xlink:href=\"#DejaVuSans-108\"/>\n       <use x=\"590.458984\" xlink:href=\"#DejaVuSans-100\"/>\n       <use x=\"653.935547\" xlink:href=\"#DejaVuSans-51\"/>\n       <use x=\"717.558594\" xlink:href=\"#DejaVuSans-52\"/>\n      </g>\n     </g>\n    </g>\n    <g id=\"ytick_13\">\n     <g id=\"line2d_16\">\n      <g>\n       <use style=\"stroke:#000000;stroke-width:0.8;\" x=\"165.090625\" xlink:href=\"#m85187e86d9\" y=\"196.989153\"/>\n      </g>\n     </g>\n     <g id=\"text_16\">\n      <!-- SalesField6 -->\n      <defs>\n       <path d=\"M 33.015625 40.375 \nQ 26.375 40.375 22.484375 35.828125 \nQ 18.609375 31.296875 18.609375 23.390625 \nQ 18.609375 15.53125 22.484375 10.953125 \nQ 26.375 6.390625 33.015625 6.390625 \nQ 39.65625 6.390625 43.53125 10.953125 \nQ 47.40625 15.53125 47.40625 23.390625 \nQ 47.40625 31.296875 43.53125 35.828125 \nQ 39.65625 40.375 33.015625 40.375 \nz\nM 52.59375 71.296875 \nL 52.59375 62.3125 \nQ 48.875 64.0625 45.09375 64.984375 \nQ 41.3125 65.921875 37.59375 65.921875 \nQ 27.828125 65.921875 22.671875 59.328125 \nQ 17.53125 52.734375 16.796875 39.40625 \nQ 19.671875 43.65625 24.015625 45.921875 \nQ 28.375 48.1875 33.59375 48.1875 \nQ 44.578125 48.1875 50.953125 41.515625 \nQ 57.328125 34.859375 57.328125 23.390625 \nQ 57.328125 12.15625 50.6875 5.359375 \nQ 44.046875 -1.421875 33.015625 -1.421875 \nQ 20.359375 -1.421875 13.671875 8.265625 \nQ 6.984375 17.96875 6.984375 36.375 \nQ 6.984375 53.65625 15.1875 63.9375 \nQ 23.390625 74.21875 37.203125 74.21875 \nQ 40.921875 74.21875 44.703125 73.484375 \nQ 48.484375 72.75 52.59375 71.296875 \nz\n\" id=\"DejaVuSans-54\"/>\n      </defs>\n      <g style=\"fill:#444443;\" transform=\"translate(102.026563 200.788371)scale(0.1 -0.1)\">\n       <use xlink:href=\"#DejaVuSans-83\"/>\n       <use x=\"63.476562\" xlink:href=\"#DejaVuSans-97\"/>\n       <use x=\"124.755859\" xlink:href=\"#DejaVuSans-108\"/>\n       <use x=\"152.539062\" xlink:href=\"#DejaVuSans-101\"/>\n       <use x=\"214.0625\" xlink:href=\"#DejaVuSans-115\"/>\n       <use x=\"266.162109\" xlink:href=\"#DejaVuSans-70\"/>\n       <use x=\"316.431641\" xlink:href=\"#DejaVuSans-105\"/>\n       <use x=\"344.214844\" xlink:href=\"#DejaVuSans-101\"/>\n       <use x=\"405.738281\" xlink:href=\"#DejaVuSans-108\"/>\n       <use x=\"433.521484\" xlink:href=\"#DejaVuSans-100\"/>\n       <use x=\"496.998047\" xlink:href=\"#DejaVuSans-54\"/>\n      </g>\n     </g>\n    </g>\n    <g id=\"ytick_14\">\n     <g id=\"line2d_17\">\n      <g>\n       <use style=\"stroke:#000000;stroke-width:0.8;\" x=\"165.090625\" xlink:href=\"#m85187e86d9\" y=\"212.691186\"/>\n      </g>\n     </g>\n     <g id=\"text_17\">\n      <!-- PersonalField4B -->\n      <g style=\"fill:#444443;\" transform=\"translate(79.279688 216.490405)scale(0.1 -0.1)\">\n       <use xlink:href=\"#DejaVuSans-80\"/>\n       <use x=\"56.677734\" xlink:href=\"#DejaVuSans-101\"/>\n       <use x=\"118.201172\" xlink:href=\"#DejaVuSans-114\"/>\n       <use x=\"159.314453\" xlink:href=\"#DejaVuSans-115\"/>\n       <use x=\"211.414062\" xlink:href=\"#DejaVuSans-111\"/>\n       <use x=\"272.595703\" xlink:href=\"#DejaVuSans-110\"/>\n       <use x=\"335.974609\" xlink:href=\"#DejaVuSans-97\"/>\n       <use x=\"397.253906\" xlink:href=\"#DejaVuSans-108\"/>\n       <use x=\"425.037109\" xlink:href=\"#DejaVuSans-70\"/>\n       <use x=\"475.306641\" xlink:href=\"#DejaVuSans-105\"/>\n       <use x=\"503.089844\" xlink:href=\"#DejaVuSans-101\"/>\n       <use x=\"564.613281\" xlink:href=\"#DejaVuSans-108\"/>\n       <use x=\"592.396484\" xlink:href=\"#DejaVuSans-100\"/>\n       <use x=\"655.873047\" xlink:href=\"#DejaVuSans-52\"/>\n       <use x=\"719.496094\" xlink:href=\"#DejaVuSans-66\"/>\n      </g>\n     </g>\n    </g>\n    <g id=\"ytick_15\">\n     <g id=\"line2d_18\">\n      <g>\n       <use style=\"stroke:#000000;stroke-width:0.8;\" x=\"165.090625\" xlink:href=\"#m85187e86d9\" y=\"228.39322\"/>\n      </g>\n     </g>\n     <g id=\"text_18\">\n      <!-- SalesField1B -->\n      <g style=\"fill:#444443;\" transform=\"translate(95.165625 232.192439)scale(0.1 -0.1)\">\n       <use xlink:href=\"#DejaVuSans-83\"/>\n       <use x=\"63.476562\" xlink:href=\"#DejaVuSans-97\"/>\n       <use x=\"124.755859\" xlink:href=\"#DejaVuSans-108\"/>\n       <use x=\"152.539062\" xlink:href=\"#DejaVuSans-101\"/>\n       <use x=\"214.0625\" xlink:href=\"#DejaVuSans-115\"/>\n       <use x=\"266.162109\" xlink:href=\"#DejaVuSans-70\"/>\n       <use x=\"316.431641\" xlink:href=\"#DejaVuSans-105\"/>\n       <use x=\"344.214844\" xlink:href=\"#DejaVuSans-101\"/>\n       <use x=\"405.738281\" xlink:href=\"#DejaVuSans-108\"/>\n       <use x=\"433.521484\" xlink:href=\"#DejaVuSans-100\"/>\n       <use x=\"496.998047\" xlink:href=\"#DejaVuSans-49\"/>\n       <use x=\"560.621094\" xlink:href=\"#DejaVuSans-66\"/>\n      </g>\n     </g>\n    </g>\n    <g id=\"ytick_16\">\n     <g id=\"line2d_19\">\n      <g>\n       <use style=\"stroke:#000000;stroke-width:0.8;\" x=\"165.090625\" xlink:href=\"#m85187e86d9\" y=\"244.095254\"/>\n      </g>\n     </g>\n     <g id=\"text_19\">\n      <!-- PersonalField13 -->\n      <g style=\"fill:#444443;\" transform=\"translate(79.778125 247.894473)scale(0.1 -0.1)\">\n       <use xlink:href=\"#DejaVuSans-80\"/>\n       <use x=\"56.677734\" xlink:href=\"#DejaVuSans-101\"/>\n       <use x=\"118.201172\" xlink:href=\"#DejaVuSans-114\"/>\n       <use x=\"159.314453\" xlink:href=\"#DejaVuSans-115\"/>\n       <use x=\"211.414062\" xlink:href=\"#DejaVuSans-111\"/>\n       <use x=\"272.595703\" xlink:href=\"#DejaVuSans-110\"/>\n       <use x=\"335.974609\" xlink:href=\"#DejaVuSans-97\"/>\n       <use x=\"397.253906\" xlink:href=\"#DejaVuSans-108\"/>\n       <use x=\"425.037109\" xlink:href=\"#DejaVuSans-70\"/>\n       <use x=\"475.306641\" xlink:href=\"#DejaVuSans-105\"/>\n       <use x=\"503.089844\" xlink:href=\"#DejaVuSans-101\"/>\n       <use x=\"564.613281\" xlink:href=\"#DejaVuSans-108\"/>\n       <use x=\"592.396484\" xlink:href=\"#DejaVuSans-100\"/>\n       <use x=\"655.873047\" xlink:href=\"#DejaVuSans-49\"/>\n       <use x=\"719.496094\" xlink:href=\"#DejaVuSans-51\"/>\n      </g>\n     </g>\n    </g>\n    <g id=\"ytick_17\">\n     <g id=\"line2d_20\">\n      <g>\n       <use style=\"stroke:#000000;stroke-width:0.8;\" x=\"165.090625\" xlink:href=\"#m85187e86d9\" y=\"259.797288\"/>\n      </g>\n     </g>\n     <g id=\"text_20\">\n      <!-- SalesField2A -->\n      <g style=\"fill:#444443;\" transform=\"translate(95.185938 263.596507)scale(0.1 -0.1)\">\n       <use xlink:href=\"#DejaVuSans-83\"/>\n       <use x=\"63.476562\" xlink:href=\"#DejaVuSans-97\"/>\n       <use x=\"124.755859\" xlink:href=\"#DejaVuSans-108\"/>\n       <use x=\"152.539062\" xlink:href=\"#DejaVuSans-101\"/>\n       <use x=\"214.0625\" xlink:href=\"#DejaVuSans-115\"/>\n       <use x=\"266.162109\" xlink:href=\"#DejaVuSans-70\"/>\n       <use x=\"316.431641\" xlink:href=\"#DejaVuSans-105\"/>\n       <use x=\"344.214844\" xlink:href=\"#DejaVuSans-101\"/>\n       <use x=\"405.738281\" xlink:href=\"#DejaVuSans-108\"/>\n       <use x=\"433.521484\" xlink:href=\"#DejaVuSans-100\"/>\n       <use x=\"496.998047\" xlink:href=\"#DejaVuSans-50\"/>\n       <use x=\"560.621094\" xlink:href=\"#DejaVuSans-65\"/>\n      </g>\n     </g>\n    </g>\n    <g id=\"ytick_18\">\n     <g id=\"line2d_21\">\n      <g>\n       <use style=\"stroke:#000000;stroke-width:0.8;\" x=\"165.090625\" xlink:href=\"#m85187e86d9\" y=\"275.499322\"/>\n      </g>\n     </g>\n     <g id=\"text_21\">\n      <!-- CoverageField11A -->\n      <defs>\n       <path d=\"M 64.40625 67.28125 \nL 64.40625 56.890625 \nQ 59.421875 61.53125 53.78125 63.8125 \nQ 48.140625 66.109375 41.796875 66.109375 \nQ 29.296875 66.109375 22.65625 58.46875 \nQ 16.015625 50.828125 16.015625 36.375 \nQ 16.015625 21.96875 22.65625 14.328125 \nQ 29.296875 6.6875 41.796875 6.6875 \nQ 48.140625 6.6875 53.78125 8.984375 \nQ 59.421875 11.28125 64.40625 15.921875 \nL 64.40625 5.609375 \nQ 59.234375 2.09375 53.4375 0.328125 \nQ 47.65625 -1.421875 41.21875 -1.421875 \nQ 24.65625 -1.421875 15.125 8.703125 \nQ 5.609375 18.84375 5.609375 36.375 \nQ 5.609375 53.953125 15.125 64.078125 \nQ 24.65625 74.21875 41.21875 74.21875 \nQ 47.75 74.21875 53.53125 72.484375 \nQ 59.328125 70.75 64.40625 67.28125 \nz\n\" id=\"DejaVuSans-67\"/>\n       <path d=\"M 2.984375 54.6875 \nL 12.5 54.6875 \nL 29.59375 8.796875 \nL 46.6875 54.6875 \nL 56.203125 54.6875 \nL 35.6875 0 \nL 23.484375 0 \nz\n\" id=\"DejaVuSans-118\"/>\n       <path d=\"M 45.40625 27.984375 \nQ 45.40625 37.75 41.375 43.109375 \nQ 37.359375 48.484375 30.078125 48.484375 \nQ 22.859375 48.484375 18.828125 43.109375 \nQ 14.796875 37.75 14.796875 27.984375 \nQ 14.796875 18.265625 18.828125 12.890625 \nQ 22.859375 7.515625 30.078125 7.515625 \nQ 37.359375 7.515625 41.375 12.890625 \nQ 45.40625 18.265625 45.40625 27.984375 \nz\nM 54.390625 6.78125 \nQ 54.390625 -7.171875 48.1875 -13.984375 \nQ 42 -20.796875 29.203125 -20.796875 \nQ 24.46875 -20.796875 20.265625 -20.09375 \nQ 16.0625 -19.390625 12.109375 -17.921875 \nL 12.109375 -9.1875 \nQ 16.0625 -11.328125 19.921875 -12.34375 \nQ 23.78125 -13.375 27.78125 -13.375 \nQ 36.625 -13.375 41.015625 -8.765625 \nQ 45.40625 -4.15625 45.40625 5.171875 \nL 45.40625 9.625 \nQ 42.625 4.78125 38.28125 2.390625 \nQ 33.9375 0 27.875 0 \nQ 17.828125 0 11.671875 7.65625 \nQ 5.515625 15.328125 5.515625 27.984375 \nQ 5.515625 40.671875 11.671875 48.328125 \nQ 17.828125 56 27.875 56 \nQ 33.9375 56 38.28125 53.609375 \nQ 42.625 51.21875 45.40625 46.390625 \nL 45.40625 54.6875 \nL 54.390625 54.6875 \nz\n\" id=\"DejaVuSans-103\"/>\n      </defs>\n      <g style=\"fill:#444443;\" transform=\"translate(67.526563 279.298541)scale(0.1 -0.1)\">\n       <use xlink:href=\"#DejaVuSans-67\"/>\n       <use x=\"69.824219\" xlink:href=\"#DejaVuSans-111\"/>\n       <use x=\"131.005859\" xlink:href=\"#DejaVuSans-118\"/>\n       <use x=\"190.185547\" xlink:href=\"#DejaVuSans-101\"/>\n       <use x=\"251.708984\" xlink:href=\"#DejaVuSans-114\"/>\n       <use x=\"292.822266\" xlink:href=\"#DejaVuSans-97\"/>\n       <use x=\"354.101562\" xlink:href=\"#DejaVuSans-103\"/>\n       <use x=\"417.578125\" xlink:href=\"#DejaVuSans-101\"/>\n       <use x=\"479.101562\" xlink:href=\"#DejaVuSans-70\"/>\n       <use x=\"529.371094\" xlink:href=\"#DejaVuSans-105\"/>\n       <use x=\"557.154297\" xlink:href=\"#DejaVuSans-101\"/>\n       <use x=\"618.677734\" xlink:href=\"#DejaVuSans-108\"/>\n       <use x=\"646.460938\" xlink:href=\"#DejaVuSans-100\"/>\n       <use x=\"709.9375\" xlink:href=\"#DejaVuSans-49\"/>\n       <use x=\"773.560547\" xlink:href=\"#DejaVuSans-49\"/>\n       <use x=\"837.183594\" xlink:href=\"#DejaVuSans-65\"/>\n      </g>\n     </g>\n    </g>\n    <g id=\"ytick_19\">\n     <g id=\"line2d_22\">\n      <g>\n       <use style=\"stroke:#000000;stroke-width:0.8;\" x=\"165.090625\" xlink:href=\"#m85187e86d9\" y=\"291.201356\"/>\n      </g>\n     </g>\n     <g id=\"text_22\">\n      <!-- GeographicField7A -->\n      <defs>\n       <path d=\"M 59.515625 10.40625 \nL 59.515625 29.984375 \nL 43.40625 29.984375 \nL 43.40625 38.09375 \nL 69.28125 38.09375 \nL 69.28125 6.78125 \nQ 63.578125 2.734375 56.6875 0.65625 \nQ 49.8125 -1.421875 42 -1.421875 \nQ 24.90625 -1.421875 15.25 8.5625 \nQ 5.609375 18.5625 5.609375 36.375 \nQ 5.609375 54.25 15.25 64.234375 \nQ 24.90625 74.21875 42 74.21875 \nQ 49.125 74.21875 55.546875 72.453125 \nQ 61.96875 70.703125 67.390625 67.28125 \nL 67.390625 56.78125 \nQ 61.921875 61.421875 55.765625 63.765625 \nQ 49.609375 66.109375 42.828125 66.109375 \nQ 29.4375 66.109375 22.71875 58.640625 \nQ 16.015625 51.171875 16.015625 36.375 \nQ 16.015625 21.625 22.71875 14.15625 \nQ 29.4375 6.6875 42.828125 6.6875 \nQ 48.046875 6.6875 52.140625 7.59375 \nQ 56.25 8.5 59.515625 10.40625 \nz\n\" id=\"DejaVuSans-71\"/>\n       <path d=\"M 54.890625 33.015625 \nL 54.890625 0 \nL 45.90625 0 \nL 45.90625 32.71875 \nQ 45.90625 40.484375 42.875 44.328125 \nQ 39.84375 48.1875 33.796875 48.1875 \nQ 26.515625 48.1875 22.3125 43.546875 \nQ 18.109375 38.921875 18.109375 30.90625 \nL 18.109375 0 \nL 9.078125 0 \nL 9.078125 75.984375 \nL 18.109375 75.984375 \nL 18.109375 46.1875 \nQ 21.34375 51.125 25.703125 53.5625 \nQ 30.078125 56 35.796875 56 \nQ 45.21875 56 50.046875 50.171875 \nQ 54.890625 44.34375 54.890625 33.015625 \nz\n\" id=\"DejaVuSans-104\"/>\n       <path d=\"M 48.78125 52.59375 \nL 48.78125 44.1875 \nQ 44.96875 46.296875 41.140625 47.34375 \nQ 37.3125 48.390625 33.40625 48.390625 \nQ 24.65625 48.390625 19.8125 42.84375 \nQ 14.984375 37.3125 14.984375 27.296875 \nQ 14.984375 17.28125 19.8125 11.734375 \nQ 24.65625 6.203125 33.40625 6.203125 \nQ 37.3125 6.203125 41.140625 7.25 \nQ 44.96875 8.296875 48.78125 10.40625 \nL 48.78125 2.09375 \nQ 45.015625 0.34375 40.984375 -0.53125 \nQ 36.96875 -1.421875 32.421875 -1.421875 \nQ 20.0625 -1.421875 12.78125 6.34375 \nQ 5.515625 14.109375 5.515625 27.296875 \nQ 5.515625 40.671875 12.859375 48.328125 \nQ 20.21875 56 33.015625 56 \nQ 37.15625 56 41.109375 55.140625 \nQ 45.0625 54.296875 48.78125 52.59375 \nz\n\" id=\"DejaVuSans-99\"/>\n      </defs>\n      <g style=\"fill:#444443;\" transform=\"translate(64.232813 295.000575)scale(0.1 -0.1)\">\n       <use xlink:href=\"#DejaVuSans-71\"/>\n       <use x=\"77.490234\" xlink:href=\"#DejaVuSans-101\"/>\n       <use x=\"139.013672\" xlink:href=\"#DejaVuSans-111\"/>\n       <use x=\"200.195312\" xlink:href=\"#DejaVuSans-103\"/>\n       <use x=\"263.671875\" xlink:href=\"#DejaVuSans-114\"/>\n       <use x=\"304.785156\" xlink:href=\"#DejaVuSans-97\"/>\n       <use x=\"366.064453\" xlink:href=\"#DejaVuSans-112\"/>\n       <use x=\"429.541016\" xlink:href=\"#DejaVuSans-104\"/>\n       <use x=\"492.919922\" xlink:href=\"#DejaVuSans-105\"/>\n       <use x=\"520.703125\" xlink:href=\"#DejaVuSans-99\"/>\n       <use x=\"575.683594\" xlink:href=\"#DejaVuSans-70\"/>\n       <use x=\"625.953125\" xlink:href=\"#DejaVuSans-105\"/>\n       <use x=\"653.736328\" xlink:href=\"#DejaVuSans-101\"/>\n       <use x=\"715.259766\" xlink:href=\"#DejaVuSans-108\"/>\n       <use x=\"743.042969\" xlink:href=\"#DejaVuSans-100\"/>\n       <use x=\"806.519531\" xlink:href=\"#DejaVuSans-55\"/>\n       <use x=\"870.142578\" xlink:href=\"#DejaVuSans-65\"/>\n      </g>\n     </g>\n    </g>\n    <g id=\"ytick_20\">\n     <g id=\"line2d_23\">\n      <g>\n       <use style=\"stroke:#000000;stroke-width:0.8;\" x=\"165.090625\" xlink:href=\"#m85187e86d9\" y=\"306.90339\"/>\n      </g>\n     </g>\n     <g id=\"text_23\">\n      <!-- CoverageField2A -->\n      <g style=\"fill:#444443;\" transform=\"translate(73.889063 310.702609)scale(0.1 -0.1)\">\n       <use xlink:href=\"#DejaVuSans-67\"/>\n       <use x=\"69.824219\" xlink:href=\"#DejaVuSans-111\"/>\n       <use x=\"131.005859\" xlink:href=\"#DejaVuSans-118\"/>\n       <use x=\"190.185547\" xlink:href=\"#DejaVuSans-101\"/>\n       <use x=\"251.708984\" xlink:href=\"#DejaVuSans-114\"/>\n       <use x=\"292.822266\" xlink:href=\"#DejaVuSans-97\"/>\n       <use x=\"354.101562\" xlink:href=\"#DejaVuSans-103\"/>\n       <use x=\"417.578125\" xlink:href=\"#DejaVuSans-101\"/>\n       <use x=\"479.101562\" xlink:href=\"#DejaVuSans-70\"/>\n       <use x=\"529.371094\" xlink:href=\"#DejaVuSans-105\"/>\n       <use x=\"557.154297\" xlink:href=\"#DejaVuSans-101\"/>\n       <use x=\"618.677734\" xlink:href=\"#DejaVuSans-108\"/>\n       <use x=\"646.460938\" xlink:href=\"#DejaVuSans-100\"/>\n       <use x=\"709.9375\" xlink:href=\"#DejaVuSans-50\"/>\n       <use x=\"773.560547\" xlink:href=\"#DejaVuSans-65\"/>\n      </g>\n     </g>\n    </g>\n    <g id=\"ytick_21\">\n     <g id=\"line2d_24\">\n      <g>\n       <use style=\"stroke:#000000;stroke-width:0.8;\" x=\"165.090625\" xlink:href=\"#m85187e86d9\" y=\"322.605424\"/>\n      </g>\n     </g>\n     <g id=\"text_24\">\n      <!-- GeographicField20A -->\n      <g style=\"fill:#444443;\" transform=\"translate(57.870313 326.404642)scale(0.1 -0.1)\">\n       <use xlink:href=\"#DejaVuSans-71\"/>\n       <use x=\"77.490234\" xlink:href=\"#DejaVuSans-101\"/>\n       <use x=\"139.013672\" xlink:href=\"#DejaVuSans-111\"/>\n       <use x=\"200.195312\" xlink:href=\"#DejaVuSans-103\"/>\n       <use x=\"263.671875\" xlink:href=\"#DejaVuSans-114\"/>\n       <use x=\"304.785156\" xlink:href=\"#DejaVuSans-97\"/>\n       <use x=\"366.064453\" xlink:href=\"#DejaVuSans-112\"/>\n       <use x=\"429.541016\" xlink:href=\"#DejaVuSans-104\"/>\n       <use x=\"492.919922\" xlink:href=\"#DejaVuSans-105\"/>\n       <use x=\"520.703125\" xlink:href=\"#DejaVuSans-99\"/>\n       <use x=\"575.683594\" xlink:href=\"#DejaVuSans-70\"/>\n       <use x=\"625.953125\" xlink:href=\"#DejaVuSans-105\"/>\n       <use x=\"653.736328\" xlink:href=\"#DejaVuSans-101\"/>\n       <use x=\"715.259766\" xlink:href=\"#DejaVuSans-108\"/>\n       <use x=\"743.042969\" xlink:href=\"#DejaVuSans-100\"/>\n       <use x=\"806.519531\" xlink:href=\"#DejaVuSans-50\"/>\n       <use x=\"870.142578\" xlink:href=\"#DejaVuSans-48\"/>\n       <use x=\"933.765625\" xlink:href=\"#DejaVuSans-65\"/>\n      </g>\n     </g>\n    </g>\n    <g id=\"ytick_22\">\n     <g id=\"line2d_25\">\n      <g>\n       <use style=\"stroke:#000000;stroke-width:0.8;\" x=\"165.090625\" xlink:href=\"#m85187e86d9\" y=\"338.307458\"/>\n      </g>\n     </g>\n     <g id=\"text_25\">\n      <!-- GeographicField9A -->\n      <g style=\"fill:#444443;\" transform=\"translate(64.232813 342.106676)scale(0.1 -0.1)\">\n       <use xlink:href=\"#DejaVuSans-71\"/>\n       <use x=\"77.490234\" xlink:href=\"#DejaVuSans-101\"/>\n       <use x=\"139.013672\" xlink:href=\"#DejaVuSans-111\"/>\n       <use x=\"200.195312\" xlink:href=\"#DejaVuSans-103\"/>\n       <use x=\"263.671875\" xlink:href=\"#DejaVuSans-114\"/>\n       <use x=\"304.785156\" xlink:href=\"#DejaVuSans-97\"/>\n       <use x=\"366.064453\" xlink:href=\"#DejaVuSans-112\"/>\n       <use x=\"429.541016\" xlink:href=\"#DejaVuSans-104\"/>\n       <use x=\"492.919922\" xlink:href=\"#DejaVuSans-105\"/>\n       <use x=\"520.703125\" xlink:href=\"#DejaVuSans-99\"/>\n       <use x=\"575.683594\" xlink:href=\"#DejaVuSans-70\"/>\n       <use x=\"625.953125\" xlink:href=\"#DejaVuSans-105\"/>\n       <use x=\"653.736328\" xlink:href=\"#DejaVuSans-101\"/>\n       <use x=\"715.259766\" xlink:href=\"#DejaVuSans-108\"/>\n       <use x=\"743.042969\" xlink:href=\"#DejaVuSans-100\"/>\n       <use x=\"806.519531\" xlink:href=\"#DejaVuSans-57\"/>\n       <use x=\"870.142578\" xlink:href=\"#DejaVuSans-65\"/>\n      </g>\n     </g>\n    </g>\n    <g id=\"ytick_23\">\n     <g id=\"line2d_26\">\n      <g>\n       <use style=\"stroke:#000000;stroke-width:0.8;\" x=\"165.090625\" xlink:href=\"#m85187e86d9\" y=\"354.009492\"/>\n      </g>\n     </g>\n     <g id=\"text_26\">\n      <!-- GeographicField45B -->\n      <g style=\"fill:#444443;\" transform=\"translate(57.85 357.80871)scale(0.1 -0.1)\">\n       <use xlink:href=\"#DejaVuSans-71\"/>\n       <use x=\"77.490234\" xlink:href=\"#DejaVuSans-101\"/>\n       <use x=\"139.013672\" xlink:href=\"#DejaVuSans-111\"/>\n       <use x=\"200.195312\" xlink:href=\"#DejaVuSans-103\"/>\n       <use x=\"263.671875\" xlink:href=\"#DejaVuSans-114\"/>\n       <use x=\"304.785156\" xlink:href=\"#DejaVuSans-97\"/>\n       <use x=\"366.064453\" xlink:href=\"#DejaVuSans-112\"/>\n       <use x=\"429.541016\" xlink:href=\"#DejaVuSans-104\"/>\n       <use x=\"492.919922\" xlink:href=\"#DejaVuSans-105\"/>\n       <use x=\"520.703125\" xlink:href=\"#DejaVuSans-99\"/>\n       <use x=\"575.683594\" xlink:href=\"#DejaVuSans-70\"/>\n       <use x=\"625.953125\" xlink:href=\"#DejaVuSans-105\"/>\n       <use x=\"653.736328\" xlink:href=\"#DejaVuSans-101\"/>\n       <use x=\"715.259766\" xlink:href=\"#DejaVuSans-108\"/>\n       <use x=\"743.042969\" xlink:href=\"#DejaVuSans-100\"/>\n       <use x=\"806.519531\" xlink:href=\"#DejaVuSans-52\"/>\n       <use x=\"870.142578\" xlink:href=\"#DejaVuSans-53\"/>\n       <use x=\"933.765625\" xlink:href=\"#DejaVuSans-66\"/>\n      </g>\n     </g>\n    </g>\n    <g id=\"ytick_24\">\n     <g id=\"line2d_27\">\n      <g>\n       <use style=\"stroke:#000000;stroke-width:0.8;\" x=\"165.090625\" xlink:href=\"#m85187e86d9\" y=\"369.711525\"/>\n      </g>\n     </g>\n     <g id=\"text_27\">\n      <!-- CoverageField1B -->\n      <g style=\"fill:#444443;\" transform=\"translate(73.86875 373.510744)scale(0.1 -0.1)\">\n       <use xlink:href=\"#DejaVuSans-67\"/>\n       <use x=\"69.824219\" xlink:href=\"#DejaVuSans-111\"/>\n       <use x=\"131.005859\" xlink:href=\"#DejaVuSans-118\"/>\n       <use x=\"190.185547\" xlink:href=\"#DejaVuSans-101\"/>\n       <use x=\"251.708984\" xlink:href=\"#DejaVuSans-114\"/>\n       <use x=\"292.822266\" xlink:href=\"#DejaVuSans-97\"/>\n       <use x=\"354.101562\" xlink:href=\"#DejaVuSans-103\"/>\n       <use x=\"417.578125\" xlink:href=\"#DejaVuSans-101\"/>\n       <use x=\"479.101562\" xlink:href=\"#DejaVuSans-70\"/>\n       <use x=\"529.371094\" xlink:href=\"#DejaVuSans-105\"/>\n       <use x=\"557.154297\" xlink:href=\"#DejaVuSans-101\"/>\n       <use x=\"618.677734\" xlink:href=\"#DejaVuSans-108\"/>\n       <use x=\"646.460938\" xlink:href=\"#DejaVuSans-100\"/>\n       <use x=\"709.9375\" xlink:href=\"#DejaVuSans-49\"/>\n       <use x=\"773.560547\" xlink:href=\"#DejaVuSans-66\"/>\n      </g>\n     </g>\n    </g>\n    <g id=\"ytick_25\">\n     <g id=\"line2d_28\">\n      <g>\n       <use style=\"stroke:#000000;stroke-width:0.8;\" x=\"165.090625\" xlink:href=\"#m85187e86d9\" y=\"385.413559\"/>\n      </g>\n     </g>\n     <g id=\"text_28\">\n      <!-- PropertyField32 -->\n      <g style=\"fill:#444443;\" transform=\"translate(79.970313 389.212778)scale(0.1 -0.1)\">\n       <use xlink:href=\"#DejaVuSans-80\"/>\n       <use x=\"58.552734\" xlink:href=\"#DejaVuSans-114\"/>\n       <use x=\"97.416016\" xlink:href=\"#DejaVuSans-111\"/>\n       <use x=\"158.597656\" xlink:href=\"#DejaVuSans-112\"/>\n       <use x=\"222.074219\" xlink:href=\"#DejaVuSans-101\"/>\n       <use x=\"283.597656\" xlink:href=\"#DejaVuSans-114\"/>\n       <use x=\"324.710938\" xlink:href=\"#DejaVuSans-116\"/>\n       <use x=\"363.919922\" xlink:href=\"#DejaVuSans-121\"/>\n       <use x=\"423.099609\" xlink:href=\"#DejaVuSans-70\"/>\n       <use x=\"473.369141\" xlink:href=\"#DejaVuSans-105\"/>\n       <use x=\"501.152344\" xlink:href=\"#DejaVuSans-101\"/>\n       <use x=\"562.675781\" xlink:href=\"#DejaVuSans-108\"/>\n       <use x=\"590.458984\" xlink:href=\"#DejaVuSans-100\"/>\n       <use x=\"653.935547\" xlink:href=\"#DejaVuSans-51\"/>\n       <use x=\"717.558594\" xlink:href=\"#DejaVuSans-50\"/>\n      </g>\n     </g>\n    </g>\n    <g id=\"ytick_26\">\n     <g id=\"line2d_29\">\n      <g>\n       <use style=\"stroke:#000000;stroke-width:0.8;\" x=\"165.090625\" xlink:href=\"#m85187e86d9\" y=\"401.115593\"/>\n      </g>\n     </g>\n     <g id=\"text_29\">\n      <!-- GeographicField40B -->\n      <g style=\"fill:#444443;\" transform=\"translate(57.85 404.914812)scale(0.1 -0.1)\">\n       <use xlink:href=\"#DejaVuSans-71\"/>\n       <use x=\"77.490234\" xlink:href=\"#DejaVuSans-101\"/>\n       <use x=\"139.013672\" xlink:href=\"#DejaVuSans-111\"/>\n       <use x=\"200.195312\" xlink:href=\"#DejaVuSans-103\"/>\n       <use x=\"263.671875\" xlink:href=\"#DejaVuSans-114\"/>\n       <use x=\"304.785156\" xlink:href=\"#DejaVuSans-97\"/>\n       <use x=\"366.064453\" xlink:href=\"#DejaVuSans-112\"/>\n       <use x=\"429.541016\" xlink:href=\"#DejaVuSans-104\"/>\n       <use x=\"492.919922\" xlink:href=\"#DejaVuSans-105\"/>\n       <use x=\"520.703125\" xlink:href=\"#DejaVuSans-99\"/>\n       <use x=\"575.683594\" xlink:href=\"#DejaVuSans-70\"/>\n       <use x=\"625.953125\" xlink:href=\"#DejaVuSans-105\"/>\n       <use x=\"653.736328\" xlink:href=\"#DejaVuSans-101\"/>\n       <use x=\"715.259766\" xlink:href=\"#DejaVuSans-108\"/>\n       <use x=\"743.042969\" xlink:href=\"#DejaVuSans-100\"/>\n       <use x=\"806.519531\" xlink:href=\"#DejaVuSans-52\"/>\n       <use x=\"870.142578\" xlink:href=\"#DejaVuSans-48\"/>\n       <use x=\"933.765625\" xlink:href=\"#DejaVuSans-66\"/>\n      </g>\n     </g>\n    </g>\n    <g id=\"ytick_27\">\n     <g id=\"line2d_30\">\n      <g>\n       <use style=\"stroke:#000000;stroke-width:0.8;\" x=\"165.090625\" xlink:href=\"#m85187e86d9\" y=\"416.817627\"/>\n      </g>\n     </g>\n     <g id=\"text_30\">\n      <!-- PersonalField46 -->\n      <g style=\"fill:#444443;\" transform=\"translate(79.778125 420.616846)scale(0.1 -0.1)\">\n       <use xlink:href=\"#DejaVuSans-80\"/>\n       <use x=\"56.677734\" xlink:href=\"#DejaVuSans-101\"/>\n       <use x=\"118.201172\" xlink:href=\"#DejaVuSans-114\"/>\n       <use x=\"159.314453\" xlink:href=\"#DejaVuSans-115\"/>\n       <use x=\"211.414062\" xlink:href=\"#DejaVuSans-111\"/>\n       <use x=\"272.595703\" xlink:href=\"#DejaVuSans-110\"/>\n       <use x=\"335.974609\" xlink:href=\"#DejaVuSans-97\"/>\n       <use x=\"397.253906\" xlink:href=\"#DejaVuSans-108\"/>\n       <use x=\"425.037109\" xlink:href=\"#DejaVuSans-70\"/>\n       <use x=\"475.306641\" xlink:href=\"#DejaVuSans-105\"/>\n       <use x=\"503.089844\" xlink:href=\"#DejaVuSans-101\"/>\n       <use x=\"564.613281\" xlink:href=\"#DejaVuSans-108\"/>\n       <use x=\"592.396484\" xlink:href=\"#DejaVuSans-100\"/>\n       <use x=\"655.873047\" xlink:href=\"#DejaVuSans-52\"/>\n       <use x=\"719.496094\" xlink:href=\"#DejaVuSans-54\"/>\n      </g>\n     </g>\n    </g>\n    <g id=\"ytick_28\">\n     <g id=\"line2d_31\">\n      <g>\n       <use style=\"stroke:#000000;stroke-width:0.8;\" x=\"165.090625\" xlink:href=\"#m85187e86d9\" y=\"432.519661\"/>\n      </g>\n     </g>\n     <g id=\"text_31\">\n      <!-- CoverageField9 -->\n      <g style=\"fill:#444443;\" transform=\"translate(80.729688 436.31888)scale(0.1 -0.1)\">\n       <use xlink:href=\"#DejaVuSans-67\"/>\n       <use x=\"69.824219\" xlink:href=\"#DejaVuSans-111\"/>\n       <use x=\"131.005859\" xlink:href=\"#DejaVuSans-118\"/>\n       <use x=\"190.185547\" xlink:href=\"#DejaVuSans-101\"/>\n       <use x=\"251.708984\" xlink:href=\"#DejaVuSans-114\"/>\n       <use x=\"292.822266\" xlink:href=\"#DejaVuSans-97\"/>\n       <use x=\"354.101562\" xlink:href=\"#DejaVuSans-103\"/>\n       <use x=\"417.578125\" xlink:href=\"#DejaVuSans-101\"/>\n       <use x=\"479.101562\" xlink:href=\"#DejaVuSans-70\"/>\n       <use x=\"529.371094\" xlink:href=\"#DejaVuSans-105\"/>\n       <use x=\"557.154297\" xlink:href=\"#DejaVuSans-101\"/>\n       <use x=\"618.677734\" xlink:href=\"#DejaVuSans-108\"/>\n       <use x=\"646.460938\" xlink:href=\"#DejaVuSans-100\"/>\n       <use x=\"709.9375\" xlink:href=\"#DejaVuSans-57\"/>\n      </g>\n     </g>\n    </g>\n    <g id=\"ytick_29\">\n     <g id=\"line2d_32\">\n      <g>\n       <use style=\"stroke:#000000;stroke-width:0.8;\" x=\"165.090625\" xlink:href=\"#m85187e86d9\" y=\"448.221695\"/>\n      </g>\n     </g>\n     <g id=\"text_32\">\n      <!-- GeographicField35B -->\n      <g style=\"fill:#444443;\" transform=\"translate(57.85 452.020914)scale(0.1 -0.1)\">\n       <use xlink:href=\"#DejaVuSans-71\"/>\n       <use x=\"77.490234\" xlink:href=\"#DejaVuSans-101\"/>\n       <use x=\"139.013672\" xlink:href=\"#DejaVuSans-111\"/>\n       <use x=\"200.195312\" xlink:href=\"#DejaVuSans-103\"/>\n       <use x=\"263.671875\" xlink:href=\"#DejaVuSans-114\"/>\n       <use x=\"304.785156\" xlink:href=\"#DejaVuSans-97\"/>\n       <use x=\"366.064453\" xlink:href=\"#DejaVuSans-112\"/>\n       <use x=\"429.541016\" xlink:href=\"#DejaVuSans-104\"/>\n       <use x=\"492.919922\" xlink:href=\"#DejaVuSans-105\"/>\n       <use x=\"520.703125\" xlink:href=\"#DejaVuSans-99\"/>\n       <use x=\"575.683594\" xlink:href=\"#DejaVuSans-70\"/>\n       <use x=\"625.953125\" xlink:href=\"#DejaVuSans-105\"/>\n       <use x=\"653.736328\" xlink:href=\"#DejaVuSans-101\"/>\n       <use x=\"715.259766\" xlink:href=\"#DejaVuSans-108\"/>\n       <use x=\"743.042969\" xlink:href=\"#DejaVuSans-100\"/>\n       <use x=\"806.519531\" xlink:href=\"#DejaVuSans-51\"/>\n       <use x=\"870.142578\" xlink:href=\"#DejaVuSans-53\"/>\n       <use x=\"933.765625\" xlink:href=\"#DejaVuSans-66\"/>\n      </g>\n     </g>\n    </g>\n    <g id=\"ytick_30\">\n     <g id=\"line2d_33\">\n      <g>\n       <use style=\"stroke:#000000;stroke-width:0.8;\" x=\"165.090625\" xlink:href=\"#m85187e86d9\" y=\"463.923729\"/>\n      </g>\n     </g>\n     <g id=\"text_33\">\n      <!-- Field9 -->\n      <g style=\"fill:#444443;\" transform=\"translate(128.64375 467.722948)scale(0.1 -0.1)\">\n       <use xlink:href=\"#DejaVuSans-70\"/>\n       <use x=\"50.269531\" xlink:href=\"#DejaVuSans-105\"/>\n       <use x=\"78.052734\" xlink:href=\"#DejaVuSans-101\"/>\n       <use x=\"139.576172\" xlink:href=\"#DejaVuSans-108\"/>\n       <use x=\"167.359375\" xlink:href=\"#DejaVuSans-100\"/>\n       <use x=\"230.835938\" xlink:href=\"#DejaVuSans-57\"/>\n      </g>\n     </g>\n    </g>\n    <g id=\"ytick_31\">\n     <g id=\"line2d_34\">\n      <g>\n       <use style=\"stroke:#000000;stroke-width:0.8;\" x=\"165.090625\" xlink:href=\"#m85187e86d9\" y=\"479.625763\"/>\n      </g>\n     </g>\n     <g id=\"text_34\">\n      <!-- GeographicField37A -->\n      <g style=\"fill:#444443;\" transform=\"translate(57.870313 483.424981)scale(0.1 -0.1)\">\n       <use xlink:href=\"#DejaVuSans-71\"/>\n       <use x=\"77.490234\" xlink:href=\"#DejaVuSans-101\"/>\n       <use x=\"139.013672\" xlink:href=\"#DejaVuSans-111\"/>\n       <use x=\"200.195312\" xlink:href=\"#DejaVuSans-103\"/>\n       <use x=\"263.671875\" xlink:href=\"#DejaVuSans-114\"/>\n       <use x=\"304.785156\" xlink:href=\"#DejaVuSans-97\"/>\n       <use x=\"366.064453\" xlink:href=\"#DejaVuSans-112\"/>\n       <use x=\"429.541016\" xlink:href=\"#DejaVuSans-104\"/>\n       <use x=\"492.919922\" xlink:href=\"#DejaVuSans-105\"/>\n       <use x=\"520.703125\" xlink:href=\"#DejaVuSans-99\"/>\n       <use x=\"575.683594\" xlink:href=\"#DejaVuSans-70\"/>\n       <use x=\"625.953125\" xlink:href=\"#DejaVuSans-105\"/>\n       <use x=\"653.736328\" xlink:href=\"#DejaVuSans-101\"/>\n       <use x=\"715.259766\" xlink:href=\"#DejaVuSans-108\"/>\n       <use x=\"743.042969\" xlink:href=\"#DejaVuSans-100\"/>\n       <use x=\"806.519531\" xlink:href=\"#DejaVuSans-51\"/>\n       <use x=\"870.142578\" xlink:href=\"#DejaVuSans-55\"/>\n       <use x=\"933.765625\" xlink:href=\"#DejaVuSans-65\"/>\n      </g>\n     </g>\n    </g>\n    <g id=\"ytick_32\">\n     <g id=\"line2d_35\">\n      <g>\n       <use style=\"stroke:#000000;stroke-width:0.8;\" x=\"165.090625\" xlink:href=\"#m85187e86d9\" y=\"495.327797\"/>\n      </g>\n     </g>\n     <g id=\"text_35\">\n      <!-- GeographicField38B -->\n      <defs>\n       <path d=\"M 31.78125 34.625 \nQ 24.75 34.625 20.71875 30.859375 \nQ 16.703125 27.09375 16.703125 20.515625 \nQ 16.703125 13.921875 20.71875 10.15625 \nQ 24.75 6.390625 31.78125 6.390625 \nQ 38.8125 6.390625 42.859375 10.171875 \nQ 46.921875 13.96875 46.921875 20.515625 \nQ 46.921875 27.09375 42.890625 30.859375 \nQ 38.875 34.625 31.78125 34.625 \nz\nM 21.921875 38.8125 \nQ 15.578125 40.375 12.03125 44.71875 \nQ 8.5 49.078125 8.5 55.328125 \nQ 8.5 64.0625 14.71875 69.140625 \nQ 20.953125 74.21875 31.78125 74.21875 \nQ 42.671875 74.21875 48.875 69.140625 \nQ 55.078125 64.0625 55.078125 55.328125 \nQ 55.078125 49.078125 51.53125 44.71875 \nQ 48 40.375 41.703125 38.8125 \nQ 48.828125 37.15625 52.796875 32.3125 \nQ 56.78125 27.484375 56.78125 20.515625 \nQ 56.78125 9.90625 50.3125 4.234375 \nQ 43.84375 -1.421875 31.78125 -1.421875 \nQ 19.734375 -1.421875 13.25 4.234375 \nQ 6.78125 9.90625 6.78125 20.515625 \nQ 6.78125 27.484375 10.78125 32.3125 \nQ 14.796875 37.15625 21.921875 38.8125 \nz\nM 18.3125 54.390625 \nQ 18.3125 48.734375 21.84375 45.5625 \nQ 25.390625 42.390625 31.78125 42.390625 \nQ 38.140625 42.390625 41.71875 45.5625 \nQ 45.3125 48.734375 45.3125 54.390625 \nQ 45.3125 60.0625 41.71875 63.234375 \nQ 38.140625 66.40625 31.78125 66.40625 \nQ 25.390625 66.40625 21.84375 63.234375 \nQ 18.3125 60.0625 18.3125 54.390625 \nz\n\" id=\"DejaVuSans-56\"/>\n      </defs>\n      <g style=\"fill:#444443;\" transform=\"translate(57.85 499.127015)scale(0.1 -0.1)\">\n       <use xlink:href=\"#DejaVuSans-71\"/>\n       <use x=\"77.490234\" xlink:href=\"#DejaVuSans-101\"/>\n       <use x=\"139.013672\" xlink:href=\"#DejaVuSans-111\"/>\n       <use x=\"200.195312\" xlink:href=\"#DejaVuSans-103\"/>\n       <use x=\"263.671875\" xlink:href=\"#DejaVuSans-114\"/>\n       <use x=\"304.785156\" xlink:href=\"#DejaVuSans-97\"/>\n       <use x=\"366.064453\" xlink:href=\"#DejaVuSans-112\"/>\n       <use x=\"429.541016\" xlink:href=\"#DejaVuSans-104\"/>\n       <use x=\"492.919922\" xlink:href=\"#DejaVuSans-105\"/>\n       <use x=\"520.703125\" xlink:href=\"#DejaVuSans-99\"/>\n       <use x=\"575.683594\" xlink:href=\"#DejaVuSans-70\"/>\n       <use x=\"625.953125\" xlink:href=\"#DejaVuSans-105\"/>\n       <use x=\"653.736328\" xlink:href=\"#DejaVuSans-101\"/>\n       <use x=\"715.259766\" xlink:href=\"#DejaVuSans-108\"/>\n       <use x=\"743.042969\" xlink:href=\"#DejaVuSans-100\"/>\n       <use x=\"806.519531\" xlink:href=\"#DejaVuSans-51\"/>\n       <use x=\"870.142578\" xlink:href=\"#DejaVuSans-56\"/>\n       <use x=\"933.765625\" xlink:href=\"#DejaVuSans-66\"/>\n      </g>\n     </g>\n    </g>\n    <g id=\"ytick_33\">\n     <g id=\"line2d_36\">\n      <g>\n       <use style=\"stroke:#000000;stroke-width:0.8;\" x=\"165.090625\" xlink:href=\"#m85187e86d9\" y=\"511.029831\"/>\n      </g>\n     </g>\n     <g id=\"text_36\">\n      <!-- Field11 -->\n      <g style=\"fill:#444443;\" transform=\"translate(122.28125 514.829049)scale(0.1 -0.1)\">\n       <use xlink:href=\"#DejaVuSans-70\"/>\n       <use x=\"50.269531\" xlink:href=\"#DejaVuSans-105\"/>\n       <use x=\"78.052734\" xlink:href=\"#DejaVuSans-101\"/>\n       <use x=\"139.576172\" xlink:href=\"#DejaVuSans-108\"/>\n       <use x=\"167.359375\" xlink:href=\"#DejaVuSans-100\"/>\n       <use x=\"230.835938\" xlink:href=\"#DejaVuSans-49\"/>\n       <use x=\"294.458984\" xlink:href=\"#DejaVuSans-49\"/>\n      </g>\n     </g>\n    </g>\n    <g id=\"ytick_34\">\n     <g id=\"line2d_37\">\n      <g>\n       <use style=\"stroke:#000000;stroke-width:0.8;\" x=\"165.090625\" xlink:href=\"#m85187e86d9\" y=\"526.731864\"/>\n      </g>\n     </g>\n     <g id=\"text_37\">\n      <!-- GeographicField49B -->\n      <g style=\"fill:#444443;\" transform=\"translate(57.85 530.531083)scale(0.1 -0.1)\">\n       <use xlink:href=\"#DejaVuSans-71\"/>\n       <use x=\"77.490234\" xlink:href=\"#DejaVuSans-101\"/>\n       <use x=\"139.013672\" xlink:href=\"#DejaVuSans-111\"/>\n       <use x=\"200.195312\" xlink:href=\"#DejaVuSans-103\"/>\n       <use x=\"263.671875\" xlink:href=\"#DejaVuSans-114\"/>\n       <use x=\"304.785156\" xlink:href=\"#DejaVuSans-97\"/>\n       <use x=\"366.064453\" xlink:href=\"#DejaVuSans-112\"/>\n       <use x=\"429.541016\" xlink:href=\"#DejaVuSans-104\"/>\n       <use x=\"492.919922\" xlink:href=\"#DejaVuSans-105\"/>\n       <use x=\"520.703125\" xlink:href=\"#DejaVuSans-99\"/>\n       <use x=\"575.683594\" xlink:href=\"#DejaVuSans-70\"/>\n       <use x=\"625.953125\" xlink:href=\"#DejaVuSans-105\"/>\n       <use x=\"653.736328\" xlink:href=\"#DejaVuSans-101\"/>\n       <use x=\"715.259766\" xlink:href=\"#DejaVuSans-108\"/>\n       <use x=\"743.042969\" xlink:href=\"#DejaVuSans-100\"/>\n       <use x=\"806.519531\" xlink:href=\"#DejaVuSans-52\"/>\n       <use x=\"870.142578\" xlink:href=\"#DejaVuSans-57\"/>\n       <use x=\"933.765625\" xlink:href=\"#DejaVuSans-66\"/>\n      </g>\n     </g>\n    </g>\n    <g id=\"ytick_35\">\n     <g id=\"line2d_38\">\n      <g>\n       <use style=\"stroke:#000000;stroke-width:0.8;\" x=\"165.090625\" xlink:href=\"#m85187e86d9\" y=\"542.433898\"/>\n      </g>\n     </g>\n     <g id=\"text_38\">\n      <!-- GeographicField12B -->\n      <g style=\"fill:#444443;\" transform=\"translate(57.85 546.233117)scale(0.1 -0.1)\">\n       <use xlink:href=\"#DejaVuSans-71\"/>\n       <use x=\"77.490234\" xlink:href=\"#DejaVuSans-101\"/>\n       <use x=\"139.013672\" xlink:href=\"#DejaVuSans-111\"/>\n       <use x=\"200.195312\" xlink:href=\"#DejaVuSans-103\"/>\n       <use x=\"263.671875\" xlink:href=\"#DejaVuSans-114\"/>\n       <use x=\"304.785156\" xlink:href=\"#DejaVuSans-97\"/>\n       <use x=\"366.064453\" xlink:href=\"#DejaVuSans-112\"/>\n       <use x=\"429.541016\" xlink:href=\"#DejaVuSans-104\"/>\n       <use x=\"492.919922\" xlink:href=\"#DejaVuSans-105\"/>\n       <use x=\"520.703125\" xlink:href=\"#DejaVuSans-99\"/>\n       <use x=\"575.683594\" xlink:href=\"#DejaVuSans-70\"/>\n       <use x=\"625.953125\" xlink:href=\"#DejaVuSans-105\"/>\n       <use x=\"653.736328\" xlink:href=\"#DejaVuSans-101\"/>\n       <use x=\"715.259766\" xlink:href=\"#DejaVuSans-108\"/>\n       <use x=\"743.042969\" xlink:href=\"#DejaVuSans-100\"/>\n       <use x=\"806.519531\" xlink:href=\"#DejaVuSans-49\"/>\n       <use x=\"870.142578\" xlink:href=\"#DejaVuSans-50\"/>\n       <use x=\"933.765625\" xlink:href=\"#DejaVuSans-66\"/>\n      </g>\n     </g>\n    </g>\n    <g id=\"ytick_36\">\n     <g id=\"line2d_39\">\n      <g>\n       <use style=\"stroke:#000000;stroke-width:0.8;\" x=\"165.090625\" xlink:href=\"#m85187e86d9\" y=\"558.135932\"/>\n      </g>\n     </g>\n     <g id=\"text_39\">\n      <!-- PersonalField18 -->\n      <g style=\"fill:#444443;\" transform=\"translate(79.778125 561.935151)scale(0.1 -0.1)\">\n       <use xlink:href=\"#DejaVuSans-80\"/>\n       <use x=\"56.677734\" xlink:href=\"#DejaVuSans-101\"/>\n       <use x=\"118.201172\" xlink:href=\"#DejaVuSans-114\"/>\n       <use x=\"159.314453\" xlink:href=\"#DejaVuSans-115\"/>\n       <use x=\"211.414062\" xlink:href=\"#DejaVuSans-111\"/>\n       <use x=\"272.595703\" xlink:href=\"#DejaVuSans-110\"/>\n       <use x=\"335.974609\" xlink:href=\"#DejaVuSans-97\"/>\n       <use x=\"397.253906\" xlink:href=\"#DejaVuSans-108\"/>\n       <use x=\"425.037109\" xlink:href=\"#DejaVuSans-70\"/>\n       <use x=\"475.306641\" xlink:href=\"#DejaVuSans-105\"/>\n       <use x=\"503.089844\" xlink:href=\"#DejaVuSans-101\"/>\n       <use x=\"564.613281\" xlink:href=\"#DejaVuSans-108\"/>\n       <use x=\"592.396484\" xlink:href=\"#DejaVuSans-100\"/>\n       <use x=\"655.873047\" xlink:href=\"#DejaVuSans-49\"/>\n       <use x=\"719.496094\" xlink:href=\"#DejaVuSans-56\"/>\n      </g>\n     </g>\n    </g>\n    <g id=\"ytick_37\">\n     <g id=\"line2d_40\">\n      <g>\n       <use style=\"stroke:#000000;stroke-width:0.8;\" x=\"165.090625\" xlink:href=\"#m85187e86d9\" y=\"573.837966\"/>\n      </g>\n     </g>\n     <g id=\"text_40\">\n      <!-- GeographicField7B -->\n      <g style=\"fill:#444443;\" transform=\"translate(64.2125 577.637185)scale(0.1 -0.1)\">\n       <use xlink:href=\"#DejaVuSans-71\"/>\n       <use x=\"77.490234\" xlink:href=\"#DejaVuSans-101\"/>\n       <use x=\"139.013672\" xlink:href=\"#DejaVuSans-111\"/>\n       <use x=\"200.195312\" xlink:href=\"#DejaVuSans-103\"/>\n       <use x=\"263.671875\" xlink:href=\"#DejaVuSans-114\"/>\n       <use x=\"304.785156\" xlink:href=\"#DejaVuSans-97\"/>\n       <use x=\"366.064453\" xlink:href=\"#DejaVuSans-112\"/>\n       <use x=\"429.541016\" xlink:href=\"#DejaVuSans-104\"/>\n       <use x=\"492.919922\" xlink:href=\"#DejaVuSans-105\"/>\n       <use x=\"520.703125\" xlink:href=\"#DejaVuSans-99\"/>\n       <use x=\"575.683594\" xlink:href=\"#DejaVuSans-70\"/>\n       <use x=\"625.953125\" xlink:href=\"#DejaVuSans-105\"/>\n       <use x=\"653.736328\" xlink:href=\"#DejaVuSans-101\"/>\n       <use x=\"715.259766\" xlink:href=\"#DejaVuSans-108\"/>\n       <use x=\"743.042969\" xlink:href=\"#DejaVuSans-100\"/>\n       <use x=\"806.519531\" xlink:href=\"#DejaVuSans-55\"/>\n       <use x=\"870.142578\" xlink:href=\"#DejaVuSans-66\"/>\n      </g>\n     </g>\n    </g>\n    <g id=\"ytick_38\">\n     <g id=\"line2d_41\">\n      <g>\n       <use style=\"stroke:#000000;stroke-width:0.8;\" x=\"165.090625\" xlink:href=\"#m85187e86d9\" y=\"589.54\"/>\n      </g>\n     </g>\n     <g id=\"text_41\">\n      <!-- SalesField8 -->\n      <g style=\"fill:#444443;\" transform=\"translate(102.026563 593.339219)scale(0.1 -0.1)\">\n       <use xlink:href=\"#DejaVuSans-83\"/>\n       <use x=\"63.476562\" xlink:href=\"#DejaVuSans-97\"/>\n       <use x=\"124.755859\" xlink:href=\"#DejaVuSans-108\"/>\n       <use x=\"152.539062\" xlink:href=\"#DejaVuSans-101\"/>\n       <use x=\"214.0625\" xlink:href=\"#DejaVuSans-115\"/>\n       <use x=\"266.162109\" xlink:href=\"#DejaVuSans-70\"/>\n       <use x=\"316.431641\" xlink:href=\"#DejaVuSans-105\"/>\n       <use x=\"344.214844\" xlink:href=\"#DejaVuSans-101\"/>\n       <use x=\"405.738281\" xlink:href=\"#DejaVuSans-108\"/>\n       <use x=\"433.521484\" xlink:href=\"#DejaVuSans-100\"/>\n       <use x=\"496.998047\" xlink:href=\"#DejaVuSans-56\"/>\n      </g>\n     </g>\n    </g>\n    <g id=\"ytick_39\">\n     <g id=\"line2d_42\">\n      <g>\n       <use style=\"stroke:#000000;stroke-width:0.8;\" x=\"165.090625\" xlink:href=\"#m85187e86d9\" y=\"605.242034\"/>\n      </g>\n     </g>\n     <g id=\"text_42\">\n      <!-- PersonalField22 -->\n      <g style=\"fill:#444443;\" transform=\"translate(79.778125 609.041253)scale(0.1 -0.1)\">\n       <use xlink:href=\"#DejaVuSans-80\"/>\n       <use x=\"56.677734\" xlink:href=\"#DejaVuSans-101\"/>\n       <use x=\"118.201172\" xlink:href=\"#DejaVuSans-114\"/>\n       <use x=\"159.314453\" xlink:href=\"#DejaVuSans-115\"/>\n       <use x=\"211.414062\" xlink:href=\"#DejaVuSans-111\"/>\n       <use x=\"272.595703\" xlink:href=\"#DejaVuSans-110\"/>\n       <use x=\"335.974609\" xlink:href=\"#DejaVuSans-97\"/>\n       <use x=\"397.253906\" xlink:href=\"#DejaVuSans-108\"/>\n       <use x=\"425.037109\" xlink:href=\"#DejaVuSans-70\"/>\n       <use x=\"475.306641\" xlink:href=\"#DejaVuSans-105\"/>\n       <use x=\"503.089844\" xlink:href=\"#DejaVuSans-101\"/>\n       <use x=\"564.613281\" xlink:href=\"#DejaVuSans-108\"/>\n       <use x=\"592.396484\" xlink:href=\"#DejaVuSans-100\"/>\n       <use x=\"655.873047\" xlink:href=\"#DejaVuSans-50\"/>\n       <use x=\"719.496094\" xlink:href=\"#DejaVuSans-50\"/>\n      </g>\n     </g>\n    </g>\n    <g id=\"ytick_40\">\n     <g id=\"line2d_43\">\n      <g>\n       <use style=\"stroke:#000000;stroke-width:0.8;\" x=\"165.090625\" xlink:href=\"#m85187e86d9\" y=\"620.944068\"/>\n      </g>\n     </g>\n     <g id=\"text_43\">\n      <!-- SalesField10 -->\n      <g style=\"fill:#444443;\" transform=\"translate(95.664063 624.743287)scale(0.1 -0.1)\">\n       <use xlink:href=\"#DejaVuSans-83\"/>\n       <use x=\"63.476562\" xlink:href=\"#DejaVuSans-97\"/>\n       <use x=\"124.755859\" xlink:href=\"#DejaVuSans-108\"/>\n       <use x=\"152.539062\" xlink:href=\"#DejaVuSans-101\"/>\n       <use x=\"214.0625\" xlink:href=\"#DejaVuSans-115\"/>\n       <use x=\"266.162109\" xlink:href=\"#DejaVuSans-70\"/>\n       <use x=\"316.431641\" xlink:href=\"#DejaVuSans-105\"/>\n       <use x=\"344.214844\" xlink:href=\"#DejaVuSans-101\"/>\n       <use x=\"405.738281\" xlink:href=\"#DejaVuSans-108\"/>\n       <use x=\"433.521484\" xlink:href=\"#DejaVuSans-100\"/>\n       <use x=\"496.998047\" xlink:href=\"#DejaVuSans-49\"/>\n       <use x=\"560.621094\" xlink:href=\"#DejaVuSans-48\"/>\n      </g>\n     </g>\n    </g>\n    <g id=\"ytick_41\">\n     <g id=\"line2d_44\">\n      <g>\n       <use style=\"stroke:#000000;stroke-width:0.8;\" x=\"165.090625\" xlink:href=\"#m85187e86d9\" y=\"636.646102\"/>\n      </g>\n     </g>\n     <g id=\"text_44\">\n      <!-- Original_Quote_Day -->\n      <defs>\n       <path d=\"M 39.40625 66.21875 \nQ 28.65625 66.21875 22.328125 58.203125 \nQ 16.015625 50.203125 16.015625 36.375 \nQ 16.015625 22.609375 22.328125 14.59375 \nQ 28.65625 6.59375 39.40625 6.59375 \nQ 50.140625 6.59375 56.421875 14.59375 \nQ 62.703125 22.609375 62.703125 36.375 \nQ 62.703125 50.203125 56.421875 58.203125 \nQ 50.140625 66.21875 39.40625 66.21875 \nz\nM 39.40625 74.21875 \nQ 54.734375 74.21875 63.90625 63.9375 \nQ 73.09375 53.65625 73.09375 36.375 \nQ 73.09375 19.140625 63.90625 8.859375 \nQ 54.734375 -1.421875 39.40625 -1.421875 \nQ 24.03125 -1.421875 14.8125 8.828125 \nQ 5.609375 19.09375 5.609375 36.375 \nQ 5.609375 53.65625 14.8125 63.9375 \nQ 24.03125 74.21875 39.40625 74.21875 \nz\n\" id=\"DejaVuSans-79\"/>\n       <path d=\"M 39.40625 66.21875 \nQ 28.65625 66.21875 22.328125 58.203125 \nQ 16.015625 50.203125 16.015625 36.375 \nQ 16.015625 22.609375 22.328125 14.59375 \nQ 28.65625 6.59375 39.40625 6.59375 \nQ 50.140625 6.59375 56.421875 14.59375 \nQ 62.703125 22.609375 62.703125 36.375 \nQ 62.703125 50.203125 56.421875 58.203125 \nQ 50.140625 66.21875 39.40625 66.21875 \nz\nM 53.21875 1.3125 \nL 66.21875 -12.890625 \nL 54.296875 -12.890625 \nL 43.5 -1.21875 \nQ 41.890625 -1.3125 41.03125 -1.359375 \nQ 40.1875 -1.421875 39.40625 -1.421875 \nQ 24.03125 -1.421875 14.8125 8.859375 \nQ 5.609375 19.140625 5.609375 36.375 \nQ 5.609375 53.65625 14.8125 63.9375 \nQ 24.03125 74.21875 39.40625 74.21875 \nQ 54.734375 74.21875 63.90625 63.9375 \nQ 73.09375 53.65625 73.09375 36.375 \nQ 73.09375 23.6875 67.984375 14.640625 \nQ 62.890625 5.609375 53.21875 1.3125 \nz\n\" id=\"DejaVuSans-81\"/>\n       <path d=\"M 8.5 21.578125 \nL 8.5 54.6875 \nL 17.484375 54.6875 \nL 17.484375 21.921875 \nQ 17.484375 14.15625 20.5 10.265625 \nQ 23.53125 6.390625 29.59375 6.390625 \nQ 36.859375 6.390625 41.078125 11.03125 \nQ 45.3125 15.671875 45.3125 23.6875 \nL 45.3125 54.6875 \nL 54.296875 54.6875 \nL 54.296875 0 \nL 45.3125 0 \nL 45.3125 8.40625 \nQ 42.046875 3.421875 37.71875 1 \nQ 33.40625 -1.421875 27.6875 -1.421875 \nQ 18.265625 -1.421875 13.375 4.4375 \nQ 8.5 10.296875 8.5 21.578125 \nz\nM 31.109375 56 \nz\n\" id=\"DejaVuSans-117\"/>\n       <path d=\"M 19.671875 64.796875 \nL 19.671875 8.109375 \nL 31.59375 8.109375 \nQ 46.6875 8.109375 53.6875 14.9375 \nQ 60.6875 21.78125 60.6875 36.53125 \nQ 60.6875 51.171875 53.6875 57.984375 \nQ 46.6875 64.796875 31.59375 64.796875 \nz\nM 9.8125 72.90625 \nL 30.078125 72.90625 \nQ 51.265625 72.90625 61.171875 64.09375 \nQ 71.09375 55.28125 71.09375 36.53125 \nQ 71.09375 17.671875 61.125 8.828125 \nQ 51.171875 0 30.078125 0 \nL 9.8125 0 \nz\n\" id=\"DejaVuSans-68\"/>\n      </defs>\n      <g style=\"fill:#444443;\" transform=\"translate(58.810938 640.44532)scale(0.1 -0.1)\">\n       <use xlink:href=\"#DejaVuSans-79\"/>\n       <use x=\"78.710938\" xlink:href=\"#DejaVuSans-114\"/>\n       <use x=\"119.824219\" xlink:href=\"#DejaVuSans-105\"/>\n       <use x=\"147.607422\" xlink:href=\"#DejaVuSans-103\"/>\n       <use x=\"211.083984\" xlink:href=\"#DejaVuSans-105\"/>\n       <use x=\"238.867188\" xlink:href=\"#DejaVuSans-110\"/>\n       <use x=\"302.246094\" xlink:href=\"#DejaVuSans-97\"/>\n       <use x=\"363.525391\" xlink:href=\"#DejaVuSans-108\"/>\n       <use x=\"391.308594\" xlink:href=\"#DejaVuSans-95\"/>\n       <use x=\"441.308594\" xlink:href=\"#DejaVuSans-81\"/>\n       <use x=\"520.019531\" xlink:href=\"#DejaVuSans-117\"/>\n       <use x=\"583.398438\" xlink:href=\"#DejaVuSans-111\"/>\n       <use x=\"644.580078\" xlink:href=\"#DejaVuSans-116\"/>\n       <use x=\"683.789062\" xlink:href=\"#DejaVuSans-101\"/>\n       <use x=\"745.3125\" xlink:href=\"#DejaVuSans-95\"/>\n       <use x=\"795.3125\" xlink:href=\"#DejaVuSans-68\"/>\n       <use x=\"872.314453\" xlink:href=\"#DejaVuSans-97\"/>\n       <use x=\"933.59375\" xlink:href=\"#DejaVuSans-121\"/>\n      </g>\n     </g>\n    </g>\n    <g id=\"ytick_42\">\n     <g id=\"line2d_45\">\n      <g>\n       <use style=\"stroke:#000000;stroke-width:0.8;\" x=\"165.090625\" xlink:href=\"#m85187e86d9\" y=\"652.348136\"/>\n      </g>\n     </g>\n     <g id=\"text_45\">\n      <!-- CoverageField8 -->\n      <g style=\"fill:#444443;\" transform=\"translate(80.729688 656.147354)scale(0.1 -0.1)\">\n       <use xlink:href=\"#DejaVuSans-67\"/>\n       <use x=\"69.824219\" xlink:href=\"#DejaVuSans-111\"/>\n       <use x=\"131.005859\" xlink:href=\"#DejaVuSans-118\"/>\n       <use x=\"190.185547\" xlink:href=\"#DejaVuSans-101\"/>\n       <use x=\"251.708984\" xlink:href=\"#DejaVuSans-114\"/>\n       <use x=\"292.822266\" xlink:href=\"#DejaVuSans-97\"/>\n       <use x=\"354.101562\" xlink:href=\"#DejaVuSans-103\"/>\n       <use x=\"417.578125\" xlink:href=\"#DejaVuSans-101\"/>\n       <use x=\"479.101562\" xlink:href=\"#DejaVuSans-70\"/>\n       <use x=\"529.371094\" xlink:href=\"#DejaVuSans-105\"/>\n       <use x=\"557.154297\" xlink:href=\"#DejaVuSans-101\"/>\n       <use x=\"618.677734\" xlink:href=\"#DejaVuSans-108\"/>\n       <use x=\"646.460938\" xlink:href=\"#DejaVuSans-100\"/>\n       <use x=\"709.9375\" xlink:href=\"#DejaVuSans-56\"/>\n      </g>\n     </g>\n    </g>\n    <g id=\"ytick_43\">\n     <g id=\"line2d_46\">\n      <g>\n       <use style=\"stroke:#000000;stroke-width:0.8;\" x=\"165.090625\" xlink:href=\"#m85187e86d9\" y=\"668.050169\"/>\n      </g>\n     </g>\n     <g id=\"text_46\">\n      <!-- PropertyField15 -->\n      <g style=\"fill:#444443;\" transform=\"translate(79.970313 671.849388)scale(0.1 -0.1)\">\n       <use xlink:href=\"#DejaVuSans-80\"/>\n       <use x=\"58.552734\" xlink:href=\"#DejaVuSans-114\"/>\n       <use x=\"97.416016\" xlink:href=\"#DejaVuSans-111\"/>\n       <use x=\"158.597656\" xlink:href=\"#DejaVuSans-112\"/>\n       <use x=\"222.074219\" xlink:href=\"#DejaVuSans-101\"/>\n       <use x=\"283.597656\" xlink:href=\"#DejaVuSans-114\"/>\n       <use x=\"324.710938\" xlink:href=\"#DejaVuSans-116\"/>\n       <use x=\"363.919922\" xlink:href=\"#DejaVuSans-121\"/>\n       <use x=\"423.099609\" xlink:href=\"#DejaVuSans-70\"/>\n       <use x=\"473.369141\" xlink:href=\"#DejaVuSans-105\"/>\n       <use x=\"501.152344\" xlink:href=\"#DejaVuSans-101\"/>\n       <use x=\"562.675781\" xlink:href=\"#DejaVuSans-108\"/>\n       <use x=\"590.458984\" xlink:href=\"#DejaVuSans-100\"/>\n       <use x=\"653.935547\" xlink:href=\"#DejaVuSans-49\"/>\n       <use x=\"717.558594\" xlink:href=\"#DejaVuSans-53\"/>\n      </g>\n     </g>\n    </g>\n    <g id=\"ytick_44\">\n     <g id=\"line2d_47\">\n      <g>\n       <use style=\"stroke:#000000;stroke-width:0.8;\" x=\"165.090625\" xlink:href=\"#m85187e86d9\" y=\"683.752203\"/>\n      </g>\n     </g>\n     <g id=\"text_47\">\n      <!-- GeographicField30A -->\n      <g style=\"fill:#444443;\" transform=\"translate(57.870313 687.551422)scale(0.1 -0.1)\">\n       <use xlink:href=\"#DejaVuSans-71\"/>\n       <use x=\"77.490234\" xlink:href=\"#DejaVuSans-101\"/>\n       <use x=\"139.013672\" xlink:href=\"#DejaVuSans-111\"/>\n       <use x=\"200.195312\" xlink:href=\"#DejaVuSans-103\"/>\n       <use x=\"263.671875\" xlink:href=\"#DejaVuSans-114\"/>\n       <use x=\"304.785156\" xlink:href=\"#DejaVuSans-97\"/>\n       <use x=\"366.064453\" xlink:href=\"#DejaVuSans-112\"/>\n       <use x=\"429.541016\" xlink:href=\"#DejaVuSans-104\"/>\n       <use x=\"492.919922\" xlink:href=\"#DejaVuSans-105\"/>\n       <use x=\"520.703125\" xlink:href=\"#DejaVuSans-99\"/>\n       <use x=\"575.683594\" xlink:href=\"#DejaVuSans-70\"/>\n       <use x=\"625.953125\" xlink:href=\"#DejaVuSans-105\"/>\n       <use x=\"653.736328\" xlink:href=\"#DejaVuSans-101\"/>\n       <use x=\"715.259766\" xlink:href=\"#DejaVuSans-108\"/>\n       <use x=\"743.042969\" xlink:href=\"#DejaVuSans-100\"/>\n       <use x=\"806.519531\" xlink:href=\"#DejaVuSans-51\"/>\n       <use x=\"870.142578\" xlink:href=\"#DejaVuSans-48\"/>\n       <use x=\"933.765625\" xlink:href=\"#DejaVuSans-65\"/>\n      </g>\n     </g>\n    </g>\n    <g id=\"ytick_45\">\n     <g id=\"line2d_48\">\n      <g>\n       <use style=\"stroke:#000000;stroke-width:0.8;\" x=\"165.090625\" xlink:href=\"#m85187e86d9\" y=\"699.454237\"/>\n      </g>\n     </g>\n     <g id=\"text_48\">\n      <!-- PersonalField25 -->\n      <g style=\"fill:#444443;\" transform=\"translate(79.778125 703.253456)scale(0.1 -0.1)\">\n       <use xlink:href=\"#DejaVuSans-80\"/>\n       <use x=\"56.677734\" xlink:href=\"#DejaVuSans-101\"/>\n       <use x=\"118.201172\" xlink:href=\"#DejaVuSans-114\"/>\n       <use x=\"159.314453\" xlink:href=\"#DejaVuSans-115\"/>\n       <use x=\"211.414062\" xlink:href=\"#DejaVuSans-111\"/>\n       <use x=\"272.595703\" xlink:href=\"#DejaVuSans-110\"/>\n       <use x=\"335.974609\" xlink:href=\"#DejaVuSans-97\"/>\n       <use x=\"397.253906\" xlink:href=\"#DejaVuSans-108\"/>\n       <use x=\"425.037109\" xlink:href=\"#DejaVuSans-70\"/>\n       <use x=\"475.306641\" xlink:href=\"#DejaVuSans-105\"/>\n       <use x=\"503.089844\" xlink:href=\"#DejaVuSans-101\"/>\n       <use x=\"564.613281\" xlink:href=\"#DejaVuSans-108\"/>\n       <use x=\"592.396484\" xlink:href=\"#DejaVuSans-100\"/>\n       <use x=\"655.873047\" xlink:href=\"#DejaVuSans-50\"/>\n       <use x=\"719.496094\" xlink:href=\"#DejaVuSans-53\"/>\n      </g>\n     </g>\n    </g>\n    <g id=\"ytick_46\">\n     <g id=\"line2d_49\">\n      <g>\n       <use style=\"stroke:#000000;stroke-width:0.8;\" x=\"165.090625\" xlink:href=\"#m85187e86d9\" y=\"715.156271\"/>\n      </g>\n     </g>\n     <g id=\"text_49\">\n      <!-- PersonalField15 -->\n      <g style=\"fill:#444443;\" transform=\"translate(79.778125 718.95549)scale(0.1 -0.1)\">\n       <use xlink:href=\"#DejaVuSans-80\"/>\n       <use x=\"56.677734\" xlink:href=\"#DejaVuSans-101\"/>\n       <use x=\"118.201172\" xlink:href=\"#DejaVuSans-114\"/>\n       <use x=\"159.314453\" xlink:href=\"#DejaVuSans-115\"/>\n       <use x=\"211.414062\" xlink:href=\"#DejaVuSans-111\"/>\n       <use x=\"272.595703\" xlink:href=\"#DejaVuSans-110\"/>\n       <use x=\"335.974609\" xlink:href=\"#DejaVuSans-97\"/>\n       <use x=\"397.253906\" xlink:href=\"#DejaVuSans-108\"/>\n       <use x=\"425.037109\" xlink:href=\"#DejaVuSans-70\"/>\n       <use x=\"475.306641\" xlink:href=\"#DejaVuSans-105\"/>\n       <use x=\"503.089844\" xlink:href=\"#DejaVuSans-101\"/>\n       <use x=\"564.613281\" xlink:href=\"#DejaVuSans-108\"/>\n       <use x=\"592.396484\" xlink:href=\"#DejaVuSans-100\"/>\n       <use x=\"655.873047\" xlink:href=\"#DejaVuSans-49\"/>\n       <use x=\"719.496094\" xlink:href=\"#DejaVuSans-53\"/>\n      </g>\n     </g>\n    </g>\n    <g id=\"ytick_47\">\n     <g id=\"line2d_50\">\n      <g>\n       <use style=\"stroke:#000000;stroke-width:0.8;\" x=\"165.090625\" xlink:href=\"#m85187e86d9\" y=\"730.858305\"/>\n      </g>\n     </g>\n     <g id=\"text_50\">\n      <!-- GeographicField24A -->\n      <g style=\"fill:#444443;\" transform=\"translate(57.870313 734.657524)scale(0.1 -0.1)\">\n       <use xlink:href=\"#DejaVuSans-71\"/>\n       <use x=\"77.490234\" xlink:href=\"#DejaVuSans-101\"/>\n       <use x=\"139.013672\" xlink:href=\"#DejaVuSans-111\"/>\n       <use x=\"200.195312\" xlink:href=\"#DejaVuSans-103\"/>\n       <use x=\"263.671875\" xlink:href=\"#DejaVuSans-114\"/>\n       <use x=\"304.785156\" xlink:href=\"#DejaVuSans-97\"/>\n       <use x=\"366.064453\" xlink:href=\"#DejaVuSans-112\"/>\n       <use x=\"429.541016\" xlink:href=\"#DejaVuSans-104\"/>\n       <use x=\"492.919922\" xlink:href=\"#DejaVuSans-105\"/>\n       <use x=\"520.703125\" xlink:href=\"#DejaVuSans-99\"/>\n       <use x=\"575.683594\" xlink:href=\"#DejaVuSans-70\"/>\n       <use x=\"625.953125\" xlink:href=\"#DejaVuSans-105\"/>\n       <use x=\"653.736328\" xlink:href=\"#DejaVuSans-101\"/>\n       <use x=\"715.259766\" xlink:href=\"#DejaVuSans-108\"/>\n       <use x=\"743.042969\" xlink:href=\"#DejaVuSans-100\"/>\n       <use x=\"806.519531\" xlink:href=\"#DejaVuSans-50\"/>\n       <use x=\"870.142578\" xlink:href=\"#DejaVuSans-52\"/>\n       <use x=\"933.765625\" xlink:href=\"#DejaVuSans-65\"/>\n      </g>\n     </g>\n    </g>\n    <g id=\"ytick_48\">\n     <g id=\"line2d_51\">\n      <g>\n       <use style=\"stroke:#000000;stroke-width:0.8;\" x=\"165.090625\" xlink:href=\"#m85187e86d9\" y=\"746.560339\"/>\n      </g>\n     </g>\n     <g id=\"text_51\">\n      <!-- GeographicField22B -->\n      <g style=\"fill:#444443;\" transform=\"translate(57.85 750.359558)scale(0.1 -0.1)\">\n       <use xlink:href=\"#DejaVuSans-71\"/>\n       <use x=\"77.490234\" xlink:href=\"#DejaVuSans-101\"/>\n       <use x=\"139.013672\" xlink:href=\"#DejaVuSans-111\"/>\n       <use x=\"200.195312\" xlink:href=\"#DejaVuSans-103\"/>\n       <use x=\"263.671875\" xlink:href=\"#DejaVuSans-114\"/>\n       <use x=\"304.785156\" xlink:href=\"#DejaVuSans-97\"/>\n       <use x=\"366.064453\" xlink:href=\"#DejaVuSans-112\"/>\n       <use x=\"429.541016\" xlink:href=\"#DejaVuSans-104\"/>\n       <use x=\"492.919922\" xlink:href=\"#DejaVuSans-105\"/>\n       <use x=\"520.703125\" xlink:href=\"#DejaVuSans-99\"/>\n       <use x=\"575.683594\" xlink:href=\"#DejaVuSans-70\"/>\n       <use x=\"625.953125\" xlink:href=\"#DejaVuSans-105\"/>\n       <use x=\"653.736328\" xlink:href=\"#DejaVuSans-101\"/>\n       <use x=\"715.259766\" xlink:href=\"#DejaVuSans-108\"/>\n       <use x=\"743.042969\" xlink:href=\"#DejaVuSans-100\"/>\n       <use x=\"806.519531\" xlink:href=\"#DejaVuSans-50\"/>\n       <use x=\"870.142578\" xlink:href=\"#DejaVuSans-50\"/>\n       <use x=\"933.765625\" xlink:href=\"#DejaVuSans-66\"/>\n      </g>\n     </g>\n    </g>\n    <g id=\"ytick_49\">\n     <g id=\"line2d_52\">\n      <g>\n       <use style=\"stroke:#000000;stroke-width:0.8;\" x=\"165.090625\" xlink:href=\"#m85187e86d9\" y=\"762.262373\"/>\n      </g>\n     </g>\n     <g id=\"text_52\">\n      <!-- GeographicField21B -->\n      <g style=\"fill:#444443;\" transform=\"translate(57.85 766.061592)scale(0.1 -0.1)\">\n       <use xlink:href=\"#DejaVuSans-71\"/>\n       <use x=\"77.490234\" xlink:href=\"#DejaVuSans-101\"/>\n       <use x=\"139.013672\" xlink:href=\"#DejaVuSans-111\"/>\n       <use x=\"200.195312\" xlink:href=\"#DejaVuSans-103\"/>\n       <use x=\"263.671875\" xlink:href=\"#DejaVuSans-114\"/>\n       <use x=\"304.785156\" xlink:href=\"#DejaVuSans-97\"/>\n       <use x=\"366.064453\" xlink:href=\"#DejaVuSans-112\"/>\n       <use x=\"429.541016\" xlink:href=\"#DejaVuSans-104\"/>\n       <use x=\"492.919922\" xlink:href=\"#DejaVuSans-105\"/>\n       <use x=\"520.703125\" xlink:href=\"#DejaVuSans-99\"/>\n       <use x=\"575.683594\" xlink:href=\"#DejaVuSans-70\"/>\n       <use x=\"625.953125\" xlink:href=\"#DejaVuSans-105\"/>\n       <use x=\"653.736328\" xlink:href=\"#DejaVuSans-101\"/>\n       <use x=\"715.259766\" xlink:href=\"#DejaVuSans-108\"/>\n       <use x=\"743.042969\" xlink:href=\"#DejaVuSans-100\"/>\n       <use x=\"806.519531\" xlink:href=\"#DejaVuSans-50\"/>\n       <use x=\"870.142578\" xlink:href=\"#DejaVuSans-49\"/>\n       <use x=\"933.765625\" xlink:href=\"#DejaVuSans-66\"/>\n      </g>\n     </g>\n    </g>\n    <g id=\"ytick_50\">\n     <g id=\"line2d_53\">\n      <g>\n       <use style=\"stroke:#000000;stroke-width:0.8;\" x=\"165.090625\" xlink:href=\"#m85187e86d9\" y=\"777.964407\"/>\n      </g>\n     </g>\n     <g id=\"text_53\">\n      <!-- GeographicField58A -->\n      <g style=\"fill:#444443;\" transform=\"translate(57.870313 781.763626)scale(0.1 -0.1)\">\n       <use xlink:href=\"#DejaVuSans-71\"/>\n       <use x=\"77.490234\" xlink:href=\"#DejaVuSans-101\"/>\n       <use x=\"139.013672\" xlink:href=\"#DejaVuSans-111\"/>\n       <use x=\"200.195312\" xlink:href=\"#DejaVuSans-103\"/>\n       <use x=\"263.671875\" xlink:href=\"#DejaVuSans-114\"/>\n       <use x=\"304.785156\" xlink:href=\"#DejaVuSans-97\"/>\n       <use x=\"366.064453\" xlink:href=\"#DejaVuSans-112\"/>\n       <use x=\"429.541016\" xlink:href=\"#DejaVuSans-104\"/>\n       <use x=\"492.919922\" xlink:href=\"#DejaVuSans-105\"/>\n       <use x=\"520.703125\" xlink:href=\"#DejaVuSans-99\"/>\n       <use x=\"575.683594\" xlink:href=\"#DejaVuSans-70\"/>\n       <use x=\"625.953125\" xlink:href=\"#DejaVuSans-105\"/>\n       <use x=\"653.736328\" xlink:href=\"#DejaVuSans-101\"/>\n       <use x=\"715.259766\" xlink:href=\"#DejaVuSans-108\"/>\n       <use x=\"743.042969\" xlink:href=\"#DejaVuSans-100\"/>\n       <use x=\"806.519531\" xlink:href=\"#DejaVuSans-53\"/>\n       <use x=\"870.142578\" xlink:href=\"#DejaVuSans-56\"/>\n       <use x=\"933.765625\" xlink:href=\"#DejaVuSans-65\"/>\n      </g>\n     </g>\n    </g>\n    <g id=\"ytick_51\">\n     <g id=\"line2d_54\">\n      <g>\n       <use style=\"stroke:#000000;stroke-width:0.8;\" x=\"165.090625\" xlink:href=\"#m85187e86d9\" y=\"793.666441\"/>\n      </g>\n     </g>\n     <g id=\"text_54\">\n      <!-- SalesField2B -->\n      <g style=\"fill:#444443;\" transform=\"translate(95.165625 797.465659)scale(0.1 -0.1)\">\n       <use xlink:href=\"#DejaVuSans-83\"/>\n       <use x=\"63.476562\" xlink:href=\"#DejaVuSans-97\"/>\n       <use x=\"124.755859\" xlink:href=\"#DejaVuSans-108\"/>\n       <use x=\"152.539062\" xlink:href=\"#DejaVuSans-101\"/>\n       <use x=\"214.0625\" xlink:href=\"#DejaVuSans-115\"/>\n       <use x=\"266.162109\" xlink:href=\"#DejaVuSans-70\"/>\n       <use x=\"316.431641\" xlink:href=\"#DejaVuSans-105\"/>\n       <use x=\"344.214844\" xlink:href=\"#DejaVuSans-101\"/>\n       <use x=\"405.738281\" xlink:href=\"#DejaVuSans-108\"/>\n       <use x=\"433.521484\" xlink:href=\"#DejaVuSans-100\"/>\n       <use x=\"496.998047\" xlink:href=\"#DejaVuSans-50\"/>\n       <use x=\"560.621094\" xlink:href=\"#DejaVuSans-66\"/>\n      </g>\n     </g>\n    </g>\n    <g id=\"ytick_52\">\n     <g id=\"line2d_55\">\n      <g>\n       <use style=\"stroke:#000000;stroke-width:0.8;\" x=\"165.090625\" xlink:href=\"#m85187e86d9\" y=\"809.368475\"/>\n      </g>\n     </g>\n     <g id=\"text_55\">\n      <!-- PersonalField84 -->\n      <g style=\"fill:#444443;\" transform=\"translate(79.778125 813.167693)scale(0.1 -0.1)\">\n       <use xlink:href=\"#DejaVuSans-80\"/>\n       <use x=\"56.677734\" xlink:href=\"#DejaVuSans-101\"/>\n       <use x=\"118.201172\" xlink:href=\"#DejaVuSans-114\"/>\n       <use x=\"159.314453\" xlink:href=\"#DejaVuSans-115\"/>\n       <use x=\"211.414062\" xlink:href=\"#DejaVuSans-111\"/>\n       <use x=\"272.595703\" xlink:href=\"#DejaVuSans-110\"/>\n       <use x=\"335.974609\" xlink:href=\"#DejaVuSans-97\"/>\n       <use x=\"397.253906\" xlink:href=\"#DejaVuSans-108\"/>\n       <use x=\"425.037109\" xlink:href=\"#DejaVuSans-70\"/>\n       <use x=\"475.306641\" xlink:href=\"#DejaVuSans-105\"/>\n       <use x=\"503.089844\" xlink:href=\"#DejaVuSans-101\"/>\n       <use x=\"564.613281\" xlink:href=\"#DejaVuSans-108\"/>\n       <use x=\"592.396484\" xlink:href=\"#DejaVuSans-100\"/>\n       <use x=\"655.873047\" xlink:href=\"#DejaVuSans-56\"/>\n       <use x=\"719.496094\" xlink:href=\"#DejaVuSans-52\"/>\n      </g>\n     </g>\n    </g>\n    <g id=\"ytick_53\">\n     <g id=\"line2d_56\">\n      <g>\n       <use style=\"stroke:#000000;stroke-width:0.8;\" x=\"165.090625\" xlink:href=\"#m85187e86d9\" y=\"825.070508\"/>\n      </g>\n     </g>\n     <g id=\"text_56\">\n      <!-- GeographicField32B -->\n      <g style=\"fill:#444443;\" transform=\"translate(57.85 828.869727)scale(0.1 -0.1)\">\n       <use xlink:href=\"#DejaVuSans-71\"/>\n       <use x=\"77.490234\" xlink:href=\"#DejaVuSans-101\"/>\n       <use x=\"139.013672\" xlink:href=\"#DejaVuSans-111\"/>\n       <use x=\"200.195312\" xlink:href=\"#DejaVuSans-103\"/>\n       <use x=\"263.671875\" xlink:href=\"#DejaVuSans-114\"/>\n       <use x=\"304.785156\" xlink:href=\"#DejaVuSans-97\"/>\n       <use x=\"366.064453\" xlink:href=\"#DejaVuSans-112\"/>\n       <use x=\"429.541016\" xlink:href=\"#DejaVuSans-104\"/>\n       <use x=\"492.919922\" xlink:href=\"#DejaVuSans-105\"/>\n       <use x=\"520.703125\" xlink:href=\"#DejaVuSans-99\"/>\n       <use x=\"575.683594\" xlink:href=\"#DejaVuSans-70\"/>\n       <use x=\"625.953125\" xlink:href=\"#DejaVuSans-105\"/>\n       <use x=\"653.736328\" xlink:href=\"#DejaVuSans-101\"/>\n       <use x=\"715.259766\" xlink:href=\"#DejaVuSans-108\"/>\n       <use x=\"743.042969\" xlink:href=\"#DejaVuSans-100\"/>\n       <use x=\"806.519531\" xlink:href=\"#DejaVuSans-51\"/>\n       <use x=\"870.142578\" xlink:href=\"#DejaVuSans-50\"/>\n       <use x=\"933.765625\" xlink:href=\"#DejaVuSans-66\"/>\n      </g>\n     </g>\n    </g>\n    <g id=\"ytick_54\">\n     <g id=\"line2d_57\">\n      <g>\n       <use style=\"stroke:#000000;stroke-width:0.8;\" x=\"165.090625\" xlink:href=\"#m85187e86d9\" y=\"840.772542\"/>\n      </g>\n     </g>\n     <g id=\"text_57\">\n      <!-- GeographicField35A -->\n      <g style=\"fill:#444443;\" transform=\"translate(57.870313 844.571761)scale(0.1 -0.1)\">\n       <use xlink:href=\"#DejaVuSans-71\"/>\n       <use x=\"77.490234\" xlink:href=\"#DejaVuSans-101\"/>\n       <use x=\"139.013672\" xlink:href=\"#DejaVuSans-111\"/>\n       <use x=\"200.195312\" xlink:href=\"#DejaVuSans-103\"/>\n       <use x=\"263.671875\" xlink:href=\"#DejaVuSans-114\"/>\n       <use x=\"304.785156\" xlink:href=\"#DejaVuSans-97\"/>\n       <use x=\"366.064453\" xlink:href=\"#DejaVuSans-112\"/>\n       <use x=\"429.541016\" xlink:href=\"#DejaVuSans-104\"/>\n       <use x=\"492.919922\" xlink:href=\"#DejaVuSans-105\"/>\n       <use x=\"520.703125\" xlink:href=\"#DejaVuSans-99\"/>\n       <use x=\"575.683594\" xlink:href=\"#DejaVuSans-70\"/>\n       <use x=\"625.953125\" xlink:href=\"#DejaVuSans-105\"/>\n       <use x=\"653.736328\" xlink:href=\"#DejaVuSans-101\"/>\n       <use x=\"715.259766\" xlink:href=\"#DejaVuSans-108\"/>\n       <use x=\"743.042969\" xlink:href=\"#DejaVuSans-100\"/>\n       <use x=\"806.519531\" xlink:href=\"#DejaVuSans-51\"/>\n       <use x=\"870.142578\" xlink:href=\"#DejaVuSans-53\"/>\n       <use x=\"933.765625\" xlink:href=\"#DejaVuSans-65\"/>\n      </g>\n     </g>\n    </g>\n    <g id=\"ytick_55\">\n     <g id=\"line2d_58\">\n      <g>\n       <use style=\"stroke:#000000;stroke-width:0.8;\" x=\"165.090625\" xlink:href=\"#m85187e86d9\" y=\"856.474576\"/>\n      </g>\n     </g>\n     <g id=\"text_58\">\n      <!-- GeographicField20B -->\n      <g style=\"fill:#444443;\" transform=\"translate(57.85 860.273795)scale(0.1 -0.1)\">\n       <use xlink:href=\"#DejaVuSans-71\"/>\n       <use x=\"77.490234\" xlink:href=\"#DejaVuSans-101\"/>\n       <use x=\"139.013672\" xlink:href=\"#DejaVuSans-111\"/>\n       <use x=\"200.195312\" xlink:href=\"#DejaVuSans-103\"/>\n       <use x=\"263.671875\" xlink:href=\"#DejaVuSans-114\"/>\n       <use x=\"304.785156\" xlink:href=\"#DejaVuSans-97\"/>\n       <use x=\"366.064453\" xlink:href=\"#DejaVuSans-112\"/>\n       <use x=\"429.541016\" xlink:href=\"#DejaVuSans-104\"/>\n       <use x=\"492.919922\" xlink:href=\"#DejaVuSans-105\"/>\n       <use x=\"520.703125\" xlink:href=\"#DejaVuSans-99\"/>\n       <use x=\"575.683594\" xlink:href=\"#DejaVuSans-70\"/>\n       <use x=\"625.953125\" xlink:href=\"#DejaVuSans-105\"/>\n       <use x=\"653.736328\" xlink:href=\"#DejaVuSans-101\"/>\n       <use x=\"715.259766\" xlink:href=\"#DejaVuSans-108\"/>\n       <use x=\"743.042969\" xlink:href=\"#DejaVuSans-100\"/>\n       <use x=\"806.519531\" xlink:href=\"#DejaVuSans-50\"/>\n       <use x=\"870.142578\" xlink:href=\"#DejaVuSans-48\"/>\n       <use x=\"933.765625\" xlink:href=\"#DejaVuSans-66\"/>\n      </g>\n     </g>\n    </g>\n    <g id=\"ytick_56\">\n     <g id=\"line2d_59\">\n      <g>\n       <use style=\"stroke:#000000;stroke-width:0.8;\" x=\"165.090625\" xlink:href=\"#m85187e86d9\" y=\"872.17661\"/>\n      </g>\n     </g>\n     <g id=\"text_59\">\n      <!-- PropertyField25 -->\n      <g style=\"fill:#444443;\" transform=\"translate(79.970313 875.975829)scale(0.1 -0.1)\">\n       <use xlink:href=\"#DejaVuSans-80\"/>\n       <use x=\"58.552734\" xlink:href=\"#DejaVuSans-114\"/>\n       <use x=\"97.416016\" xlink:href=\"#DejaVuSans-111\"/>\n       <use x=\"158.597656\" xlink:href=\"#DejaVuSans-112\"/>\n       <use x=\"222.074219\" xlink:href=\"#DejaVuSans-101\"/>\n       <use x=\"283.597656\" xlink:href=\"#DejaVuSans-114\"/>\n       <use x=\"324.710938\" xlink:href=\"#DejaVuSans-116\"/>\n       <use x=\"363.919922\" xlink:href=\"#DejaVuSans-121\"/>\n       <use x=\"423.099609\" xlink:href=\"#DejaVuSans-70\"/>\n       <use x=\"473.369141\" xlink:href=\"#DejaVuSans-105\"/>\n       <use x=\"501.152344\" xlink:href=\"#DejaVuSans-101\"/>\n       <use x=\"562.675781\" xlink:href=\"#DejaVuSans-108\"/>\n       <use x=\"590.458984\" xlink:href=\"#DejaVuSans-100\"/>\n       <use x=\"653.935547\" xlink:href=\"#DejaVuSans-50\"/>\n       <use x=\"717.558594\" xlink:href=\"#DejaVuSans-53\"/>\n      </g>\n     </g>\n    </g>\n    <g id=\"ytick_57\">\n     <g id=\"line2d_60\">\n      <g>\n       <use style=\"stroke:#000000;stroke-width:0.8;\" x=\"165.090625\" xlink:href=\"#m85187e86d9\" y=\"887.878644\"/>\n      </g>\n     </g>\n     <g id=\"text_60\">\n      <!-- PropertyField39A -->\n      <g style=\"fill:#444443;\" transform=\"translate(73.129688 891.677863)scale(0.1 -0.1)\">\n       <use xlink:href=\"#DejaVuSans-80\"/>\n       <use x=\"58.552734\" xlink:href=\"#DejaVuSans-114\"/>\n       <use x=\"97.416016\" xlink:href=\"#DejaVuSans-111\"/>\n       <use x=\"158.597656\" xlink:href=\"#DejaVuSans-112\"/>\n       <use x=\"222.074219\" xlink:href=\"#DejaVuSans-101\"/>\n       <use x=\"283.597656\" xlink:href=\"#DejaVuSans-114\"/>\n       <use x=\"324.710938\" xlink:href=\"#DejaVuSans-116\"/>\n       <use x=\"363.919922\" xlink:href=\"#DejaVuSans-121\"/>\n       <use x=\"423.099609\" xlink:href=\"#DejaVuSans-70\"/>\n       <use x=\"473.369141\" xlink:href=\"#DejaVuSans-105\"/>\n       <use x=\"501.152344\" xlink:href=\"#DejaVuSans-101\"/>\n       <use x=\"562.675781\" xlink:href=\"#DejaVuSans-108\"/>\n       <use x=\"590.458984\" xlink:href=\"#DejaVuSans-100\"/>\n       <use x=\"653.935547\" xlink:href=\"#DejaVuSans-51\"/>\n       <use x=\"717.558594\" xlink:href=\"#DejaVuSans-57\"/>\n       <use x=\"781.181641\" xlink:href=\"#DejaVuSans-65\"/>\n      </g>\n     </g>\n    </g>\n    <g id=\"ytick_58\">\n     <g id=\"line2d_61\">\n      <g>\n       <use style=\"stroke:#000000;stroke-width:0.8;\" x=\"165.090625\" xlink:href=\"#m85187e86d9\" y=\"903.580678\"/>\n      </g>\n     </g>\n     <g id=\"text_61\">\n      <!-- GeographicField17B -->\n      <g style=\"fill:#444443;\" transform=\"translate(57.85 907.379897)scale(0.1 -0.1)\">\n       <use xlink:href=\"#DejaVuSans-71\"/>\n       <use x=\"77.490234\" xlink:href=\"#DejaVuSans-101\"/>\n       <use x=\"139.013672\" xlink:href=\"#DejaVuSans-111\"/>\n       <use x=\"200.195312\" xlink:href=\"#DejaVuSans-103\"/>\n       <use x=\"263.671875\" xlink:href=\"#DejaVuSans-114\"/>\n       <use x=\"304.785156\" xlink:href=\"#DejaVuSans-97\"/>\n       <use x=\"366.064453\" xlink:href=\"#DejaVuSans-112\"/>\n       <use x=\"429.541016\" xlink:href=\"#DejaVuSans-104\"/>\n       <use x=\"492.919922\" xlink:href=\"#DejaVuSans-105\"/>\n       <use x=\"520.703125\" xlink:href=\"#DejaVuSans-99\"/>\n       <use x=\"575.683594\" xlink:href=\"#DejaVuSans-70\"/>\n       <use x=\"625.953125\" xlink:href=\"#DejaVuSans-105\"/>\n       <use x=\"653.736328\" xlink:href=\"#DejaVuSans-101\"/>\n       <use x=\"715.259766\" xlink:href=\"#DejaVuSans-108\"/>\n       <use x=\"743.042969\" xlink:href=\"#DejaVuSans-100\"/>\n       <use x=\"806.519531\" xlink:href=\"#DejaVuSans-49\"/>\n       <use x=\"870.142578\" xlink:href=\"#DejaVuSans-55\"/>\n       <use x=\"933.765625\" xlink:href=\"#DejaVuSans-66\"/>\n      </g>\n     </g>\n    </g>\n    <g id=\"ytick_59\">\n     <g id=\"line2d_62\">\n      <g>\n       <use style=\"stroke:#000000;stroke-width:0.8;\" x=\"165.090625\" xlink:href=\"#m85187e86d9\" y=\"919.282712\"/>\n      </g>\n     </g>\n     <g id=\"text_62\">\n      <!-- PersonalField76 -->\n      <g style=\"fill:#444443;\" transform=\"translate(79.778125 923.081931)scale(0.1 -0.1)\">\n       <use xlink:href=\"#DejaVuSans-80\"/>\n       <use x=\"56.677734\" xlink:href=\"#DejaVuSans-101\"/>\n       <use x=\"118.201172\" xlink:href=\"#DejaVuSans-114\"/>\n       <use x=\"159.314453\" xlink:href=\"#DejaVuSans-115\"/>\n       <use x=\"211.414062\" xlink:href=\"#DejaVuSans-111\"/>\n       <use x=\"272.595703\" xlink:href=\"#DejaVuSans-110\"/>\n       <use x=\"335.974609\" xlink:href=\"#DejaVuSans-97\"/>\n       <use x=\"397.253906\" xlink:href=\"#DejaVuSans-108\"/>\n       <use x=\"425.037109\" xlink:href=\"#DejaVuSans-70\"/>\n       <use x=\"475.306641\" xlink:href=\"#DejaVuSans-105\"/>\n       <use x=\"503.089844\" xlink:href=\"#DejaVuSans-101\"/>\n       <use x=\"564.613281\" xlink:href=\"#DejaVuSans-108\"/>\n       <use x=\"592.396484\" xlink:href=\"#DejaVuSans-100\"/>\n       <use x=\"655.873047\" xlink:href=\"#DejaVuSans-55\"/>\n       <use x=\"719.496094\" xlink:href=\"#DejaVuSans-54\"/>\n      </g>\n     </g>\n    </g>\n    <g id=\"ytick_60\">\n     <g id=\"line2d_63\">\n      <g>\n       <use style=\"stroke:#000000;stroke-width:0.8;\" x=\"165.090625\" xlink:href=\"#m85187e86d9\" y=\"934.984746\"/>\n      </g>\n     </g>\n     <g id=\"text_63\">\n      <!-- GeographicField2B -->\n      <g style=\"fill:#444443;\" transform=\"translate(64.2125 938.783965)scale(0.1 -0.1)\">\n       <use xlink:href=\"#DejaVuSans-71\"/>\n       <use x=\"77.490234\" xlink:href=\"#DejaVuSans-101\"/>\n       <use x=\"139.013672\" xlink:href=\"#DejaVuSans-111\"/>\n       <use x=\"200.195312\" xlink:href=\"#DejaVuSans-103\"/>\n       <use x=\"263.671875\" xlink:href=\"#DejaVuSans-114\"/>\n       <use x=\"304.785156\" xlink:href=\"#DejaVuSans-97\"/>\n       <use x=\"366.064453\" xlink:href=\"#DejaVuSans-112\"/>\n       <use x=\"429.541016\" xlink:href=\"#DejaVuSans-104\"/>\n       <use x=\"492.919922\" xlink:href=\"#DejaVuSans-105\"/>\n       <use x=\"520.703125\" xlink:href=\"#DejaVuSans-99\"/>\n       <use x=\"575.683594\" xlink:href=\"#DejaVuSans-70\"/>\n       <use x=\"625.953125\" xlink:href=\"#DejaVuSans-105\"/>\n       <use x=\"653.736328\" xlink:href=\"#DejaVuSans-101\"/>\n       <use x=\"715.259766\" xlink:href=\"#DejaVuSans-108\"/>\n       <use x=\"743.042969\" xlink:href=\"#DejaVuSans-100\"/>\n       <use x=\"806.519531\" xlink:href=\"#DejaVuSans-50\"/>\n       <use x=\"870.142578\" xlink:href=\"#DejaVuSans-66\"/>\n      </g>\n     </g>\n    </g>\n    <g id=\"ytick_61\">\n     <g id=\"line2d_64\">\n      <g>\n       <use style=\"stroke:#000000;stroke-width:0.8;\" x=\"165.090625\" xlink:href=\"#m85187e86d9\" y=\"950.68678\"/>\n      </g>\n     </g>\n     <g id=\"text_64\">\n      <!-- GeographicField54B -->\n      <g style=\"fill:#444443;\" transform=\"translate(57.85 954.485998)scale(0.1 -0.1)\">\n       <use xlink:href=\"#DejaVuSans-71\"/>\n       <use x=\"77.490234\" xlink:href=\"#DejaVuSans-101\"/>\n       <use x=\"139.013672\" xlink:href=\"#DejaVuSans-111\"/>\n       <use x=\"200.195312\" xlink:href=\"#DejaVuSans-103\"/>\n       <use x=\"263.671875\" xlink:href=\"#DejaVuSans-114\"/>\n       <use x=\"304.785156\" xlink:href=\"#DejaVuSans-97\"/>\n       <use x=\"366.064453\" xlink:href=\"#DejaVuSans-112\"/>\n       <use x=\"429.541016\" xlink:href=\"#DejaVuSans-104\"/>\n       <use x=\"492.919922\" xlink:href=\"#DejaVuSans-105\"/>\n       <use x=\"520.703125\" xlink:href=\"#DejaVuSans-99\"/>\n       <use x=\"575.683594\" xlink:href=\"#DejaVuSans-70\"/>\n       <use x=\"625.953125\" xlink:href=\"#DejaVuSans-105\"/>\n       <use x=\"653.736328\" xlink:href=\"#DejaVuSans-101\"/>\n       <use x=\"715.259766\" xlink:href=\"#DejaVuSans-108\"/>\n       <use x=\"743.042969\" xlink:href=\"#DejaVuSans-100\"/>\n       <use x=\"806.519531\" xlink:href=\"#DejaVuSans-53\"/>\n       <use x=\"870.142578\" xlink:href=\"#DejaVuSans-52\"/>\n       <use x=\"933.765625\" xlink:href=\"#DejaVuSans-66\"/>\n      </g>\n     </g>\n    </g>\n    <g id=\"ytick_62\">\n     <g id=\"line2d_65\">\n      <g>\n       <use style=\"stroke:#000000;stroke-width:0.8;\" x=\"165.090625\" xlink:href=\"#m85187e86d9\" y=\"966.388814\"/>\n      </g>\n     </g>\n     <g id=\"text_65\">\n      <!-- PersonalField19 -->\n      <g style=\"fill:#444443;\" transform=\"translate(79.778125 970.188032)scale(0.1 -0.1)\">\n       <use xlink:href=\"#DejaVuSans-80\"/>\n       <use x=\"56.677734\" xlink:href=\"#DejaVuSans-101\"/>\n       <use x=\"118.201172\" xlink:href=\"#DejaVuSans-114\"/>\n       <use x=\"159.314453\" xlink:href=\"#DejaVuSans-115\"/>\n       <use x=\"211.414062\" xlink:href=\"#DejaVuSans-111\"/>\n       <use x=\"272.595703\" xlink:href=\"#DejaVuSans-110\"/>\n       <use x=\"335.974609\" xlink:href=\"#DejaVuSans-97\"/>\n       <use x=\"397.253906\" xlink:href=\"#DejaVuSans-108\"/>\n       <use x=\"425.037109\" xlink:href=\"#DejaVuSans-70\"/>\n       <use x=\"475.306641\" xlink:href=\"#DejaVuSans-105\"/>\n       <use x=\"503.089844\" xlink:href=\"#DejaVuSans-101\"/>\n       <use x=\"564.613281\" xlink:href=\"#DejaVuSans-108\"/>\n       <use x=\"592.396484\" xlink:href=\"#DejaVuSans-100\"/>\n       <use x=\"655.873047\" xlink:href=\"#DejaVuSans-49\"/>\n       <use x=\"719.496094\" xlink:href=\"#DejaVuSans-57\"/>\n      </g>\n     </g>\n    </g>\n    <g id=\"ytick_63\">\n     <g id=\"line2d_66\">\n      <g>\n       <use style=\"stroke:#000000;stroke-width:0.8;\" x=\"165.090625\" xlink:href=\"#m85187e86d9\" y=\"982.090847\"/>\n      </g>\n     </g>\n     <g id=\"text_66\">\n      <!-- SalesField3 -->\n      <g style=\"fill:#444443;\" transform=\"translate(102.026563 985.890066)scale(0.1 -0.1)\">\n       <use xlink:href=\"#DejaVuSans-83\"/>\n       <use x=\"63.476562\" xlink:href=\"#DejaVuSans-97\"/>\n       <use x=\"124.755859\" xlink:href=\"#DejaVuSans-108\"/>\n       <use x=\"152.539062\" xlink:href=\"#DejaVuSans-101\"/>\n       <use x=\"214.0625\" xlink:href=\"#DejaVuSans-115\"/>\n       <use x=\"266.162109\" xlink:href=\"#DejaVuSans-70\"/>\n       <use x=\"316.431641\" xlink:href=\"#DejaVuSans-105\"/>\n       <use x=\"344.214844\" xlink:href=\"#DejaVuSans-101\"/>\n       <use x=\"405.738281\" xlink:href=\"#DejaVuSans-108\"/>\n       <use x=\"433.521484\" xlink:href=\"#DejaVuSans-100\"/>\n       <use x=\"496.998047\" xlink:href=\"#DejaVuSans-51\"/>\n      </g>\n     </g>\n    </g>\n    <g id=\"ytick_64\">\n     <g id=\"line2d_67\">\n      <g>\n       <use style=\"stroke:#000000;stroke-width:0.8;\" x=\"165.090625\" xlink:href=\"#m85187e86d9\" y=\"997.792881\"/>\n      </g>\n     </g>\n     <g id=\"text_67\">\n      <!-- GeographicField57B -->\n      <g style=\"fill:#444443;\" transform=\"translate(57.85 1001.5921)scale(0.1 -0.1)\">\n       <use xlink:href=\"#DejaVuSans-71\"/>\n       <use x=\"77.490234\" xlink:href=\"#DejaVuSans-101\"/>\n       <use x=\"139.013672\" xlink:href=\"#DejaVuSans-111\"/>\n       <use x=\"200.195312\" xlink:href=\"#DejaVuSans-103\"/>\n       <use x=\"263.671875\" xlink:href=\"#DejaVuSans-114\"/>\n       <use x=\"304.785156\" xlink:href=\"#DejaVuSans-97\"/>\n       <use x=\"366.064453\" xlink:href=\"#DejaVuSans-112\"/>\n       <use x=\"429.541016\" xlink:href=\"#DejaVuSans-104\"/>\n       <use x=\"492.919922\" xlink:href=\"#DejaVuSans-105\"/>\n       <use x=\"520.703125\" xlink:href=\"#DejaVuSans-99\"/>\n       <use x=\"575.683594\" xlink:href=\"#DejaVuSans-70\"/>\n       <use x=\"625.953125\" xlink:href=\"#DejaVuSans-105\"/>\n       <use x=\"653.736328\" xlink:href=\"#DejaVuSans-101\"/>\n       <use x=\"715.259766\" xlink:href=\"#DejaVuSans-108\"/>\n       <use x=\"743.042969\" xlink:href=\"#DejaVuSans-100\"/>\n       <use x=\"806.519531\" xlink:href=\"#DejaVuSans-53\"/>\n       <use x=\"870.142578\" xlink:href=\"#DejaVuSans-55\"/>\n       <use x=\"933.765625\" xlink:href=\"#DejaVuSans-66\"/>\n      </g>\n     </g>\n    </g>\n    <g id=\"ytick_65\">\n     <g id=\"line2d_68\">\n      <g>\n       <use style=\"stroke:#000000;stroke-width:0.8;\" x=\"165.090625\" xlink:href=\"#m85187e86d9\" y=\"1013.494915\"/>\n      </g>\n     </g>\n     <g id=\"text_68\">\n      <!-- GeographicField50A -->\n      <g style=\"fill:#444443;\" transform=\"translate(57.870313 1017.294134)scale(0.1 -0.1)\">\n       <use xlink:href=\"#DejaVuSans-71\"/>\n       <use x=\"77.490234\" xlink:href=\"#DejaVuSans-101\"/>\n       <use x=\"139.013672\" xlink:href=\"#DejaVuSans-111\"/>\n       <use x=\"200.195312\" xlink:href=\"#DejaVuSans-103\"/>\n       <use x=\"263.671875\" xlink:href=\"#DejaVuSans-114\"/>\n       <use x=\"304.785156\" xlink:href=\"#DejaVuSans-97\"/>\n       <use x=\"366.064453\" xlink:href=\"#DejaVuSans-112\"/>\n       <use x=\"429.541016\" xlink:href=\"#DejaVuSans-104\"/>\n       <use x=\"492.919922\" xlink:href=\"#DejaVuSans-105\"/>\n       <use x=\"520.703125\" xlink:href=\"#DejaVuSans-99\"/>\n       <use x=\"575.683594\" xlink:href=\"#DejaVuSans-70\"/>\n       <use x=\"625.953125\" xlink:href=\"#DejaVuSans-105\"/>\n       <use x=\"653.736328\" xlink:href=\"#DejaVuSans-101\"/>\n       <use x=\"715.259766\" xlink:href=\"#DejaVuSans-108\"/>\n       <use x=\"743.042969\" xlink:href=\"#DejaVuSans-100\"/>\n       <use x=\"806.519531\" xlink:href=\"#DejaVuSans-53\"/>\n       <use x=\"870.142578\" xlink:href=\"#DejaVuSans-48\"/>\n       <use x=\"933.765625\" xlink:href=\"#DejaVuSans-65\"/>\n      </g>\n     </g>\n    </g>\n    <g id=\"ytick_66\">\n     <g id=\"line2d_69\">\n      <g>\n       <use style=\"stroke:#000000;stroke-width:0.8;\" x=\"165.090625\" xlink:href=\"#m85187e86d9\" y=\"1029.196949\"/>\n      </g>\n     </g>\n     <g id=\"text_69\">\n      <!-- SalesField11 -->\n      <g style=\"fill:#444443;\" transform=\"translate(95.664063 1032.996168)scale(0.1 -0.1)\">\n       <use xlink:href=\"#DejaVuSans-83\"/>\n       <use x=\"63.476562\" xlink:href=\"#DejaVuSans-97\"/>\n       <use x=\"124.755859\" xlink:href=\"#DejaVuSans-108\"/>\n       <use x=\"152.539062\" xlink:href=\"#DejaVuSans-101\"/>\n       <use x=\"214.0625\" xlink:href=\"#DejaVuSans-115\"/>\n       <use x=\"266.162109\" xlink:href=\"#DejaVuSans-70\"/>\n       <use x=\"316.431641\" xlink:href=\"#DejaVuSans-105\"/>\n       <use x=\"344.214844\" xlink:href=\"#DejaVuSans-101\"/>\n       <use x=\"405.738281\" xlink:href=\"#DejaVuSans-108\"/>\n       <use x=\"433.521484\" xlink:href=\"#DejaVuSans-100\"/>\n       <use x=\"496.998047\" xlink:href=\"#DejaVuSans-49\"/>\n       <use x=\"560.621094\" xlink:href=\"#DejaVuSans-49\"/>\n      </g>\n     </g>\n    </g>\n    <g id=\"ytick_67\">\n     <g id=\"line2d_70\">\n      <g>\n       <use style=\"stroke:#000000;stroke-width:0.8;\" x=\"165.090625\" xlink:href=\"#m85187e86d9\" y=\"1044.898983\"/>\n      </g>\n     </g>\n     <g id=\"text_70\">\n      <!-- GeographicField51A -->\n      <g style=\"fill:#444443;\" transform=\"translate(57.870313 1048.698202)scale(0.1 -0.1)\">\n       <use xlink:href=\"#DejaVuSans-71\"/>\n       <use x=\"77.490234\" xlink:href=\"#DejaVuSans-101\"/>\n       <use x=\"139.013672\" xlink:href=\"#DejaVuSans-111\"/>\n       <use x=\"200.195312\" xlink:href=\"#DejaVuSans-103\"/>\n       <use x=\"263.671875\" xlink:href=\"#DejaVuSans-114\"/>\n       <use x=\"304.785156\" xlink:href=\"#DejaVuSans-97\"/>\n       <use x=\"366.064453\" xlink:href=\"#DejaVuSans-112\"/>\n       <use x=\"429.541016\" xlink:href=\"#DejaVuSans-104\"/>\n       <use x=\"492.919922\" xlink:href=\"#DejaVuSans-105\"/>\n       <use x=\"520.703125\" xlink:href=\"#DejaVuSans-99\"/>\n       <use x=\"575.683594\" xlink:href=\"#DejaVuSans-70\"/>\n       <use x=\"625.953125\" xlink:href=\"#DejaVuSans-105\"/>\n       <use x=\"653.736328\" xlink:href=\"#DejaVuSans-101\"/>\n       <use x=\"715.259766\" xlink:href=\"#DejaVuSans-108\"/>\n       <use x=\"743.042969\" xlink:href=\"#DejaVuSans-100\"/>\n       <use x=\"806.519531\" xlink:href=\"#DejaVuSans-53\"/>\n       <use x=\"870.142578\" xlink:href=\"#DejaVuSans-49\"/>\n       <use x=\"933.765625\" xlink:href=\"#DejaVuSans-65\"/>\n      </g>\n     </g>\n    </g>\n    <g id=\"ytick_68\">\n     <g id=\"line2d_71\">\n      <g>\n       <use style=\"stroke:#000000;stroke-width:0.8;\" x=\"165.090625\" xlink:href=\"#m85187e86d9\" y=\"1060.601017\"/>\n      </g>\n     </g>\n     <g id=\"text_71\">\n      <!-- PersonalField26 -->\n      <g style=\"fill:#444443;\" transform=\"translate(79.778125 1064.400236)scale(0.1 -0.1)\">\n       <use xlink:href=\"#DejaVuSans-80\"/>\n       <use x=\"56.677734\" xlink:href=\"#DejaVuSans-101\"/>\n       <use x=\"118.201172\" xlink:href=\"#DejaVuSans-114\"/>\n       <use x=\"159.314453\" xlink:href=\"#DejaVuSans-115\"/>\n       <use x=\"211.414062\" xlink:href=\"#DejaVuSans-111\"/>\n       <use x=\"272.595703\" xlink:href=\"#DejaVuSans-110\"/>\n       <use x=\"335.974609\" xlink:href=\"#DejaVuSans-97\"/>\n       <use x=\"397.253906\" xlink:href=\"#DejaVuSans-108\"/>\n       <use x=\"425.037109\" xlink:href=\"#DejaVuSans-70\"/>\n       <use x=\"475.306641\" xlink:href=\"#DejaVuSans-105\"/>\n       <use x=\"503.089844\" xlink:href=\"#DejaVuSans-101\"/>\n       <use x=\"564.613281\" xlink:href=\"#DejaVuSans-108\"/>\n       <use x=\"592.396484\" xlink:href=\"#DejaVuSans-100\"/>\n       <use x=\"655.873047\" xlink:href=\"#DejaVuSans-50\"/>\n       <use x=\"719.496094\" xlink:href=\"#DejaVuSans-54\"/>\n      </g>\n     </g>\n    </g>\n    <g id=\"ytick_69\">\n     <g id=\"line2d_72\">\n      <g>\n       <use style=\"stroke:#000000;stroke-width:0.8;\" x=\"165.090625\" xlink:href=\"#m85187e86d9\" y=\"1076.303051\"/>\n      </g>\n     </g>\n     <g id=\"text_72\">\n      <!-- PersonalField28 -->\n      <g style=\"fill:#444443;\" transform=\"translate(79.778125 1080.10227)scale(0.1 -0.1)\">\n       <use xlink:href=\"#DejaVuSans-80\"/>\n       <use x=\"56.677734\" xlink:href=\"#DejaVuSans-101\"/>\n       <use x=\"118.201172\" xlink:href=\"#DejaVuSans-114\"/>\n       <use x=\"159.314453\" xlink:href=\"#DejaVuSans-115\"/>\n       <use x=\"211.414062\" xlink:href=\"#DejaVuSans-111\"/>\n       <use x=\"272.595703\" xlink:href=\"#DejaVuSans-110\"/>\n       <use x=\"335.974609\" xlink:href=\"#DejaVuSans-97\"/>\n       <use x=\"397.253906\" xlink:href=\"#DejaVuSans-108\"/>\n       <use x=\"425.037109\" xlink:href=\"#DejaVuSans-70\"/>\n       <use x=\"475.306641\" xlink:href=\"#DejaVuSans-105\"/>\n       <use x=\"503.089844\" xlink:href=\"#DejaVuSans-101\"/>\n       <use x=\"564.613281\" xlink:href=\"#DejaVuSans-108\"/>\n       <use x=\"592.396484\" xlink:href=\"#DejaVuSans-100\"/>\n       <use x=\"655.873047\" xlink:href=\"#DejaVuSans-50\"/>\n       <use x=\"719.496094\" xlink:href=\"#DejaVuSans-56\"/>\n      </g>\n     </g>\n    </g>\n    <g id=\"ytick_70\">\n     <g id=\"line2d_73\">\n      <g>\n       <use style=\"stroke:#000000;stroke-width:0.8;\" x=\"165.090625\" xlink:href=\"#m85187e86d9\" y=\"1092.005085\"/>\n      </g>\n     </g>\n     <g id=\"text_73\">\n      <!-- GeographicField3A -->\n      <g style=\"fill:#444443;\" transform=\"translate(64.232813 1095.804303)scale(0.1 -0.1)\">\n       <use xlink:href=\"#DejaVuSans-71\"/>\n       <use x=\"77.490234\" xlink:href=\"#DejaVuSans-101\"/>\n       <use x=\"139.013672\" xlink:href=\"#DejaVuSans-111\"/>\n       <use x=\"200.195312\" xlink:href=\"#DejaVuSans-103\"/>\n       <use x=\"263.671875\" xlink:href=\"#DejaVuSans-114\"/>\n       <use x=\"304.785156\" xlink:href=\"#DejaVuSans-97\"/>\n       <use x=\"366.064453\" xlink:href=\"#DejaVuSans-112\"/>\n       <use x=\"429.541016\" xlink:href=\"#DejaVuSans-104\"/>\n       <use x=\"492.919922\" xlink:href=\"#DejaVuSans-105\"/>\n       <use x=\"520.703125\" xlink:href=\"#DejaVuSans-99\"/>\n       <use x=\"575.683594\" xlink:href=\"#DejaVuSans-70\"/>\n       <use x=\"625.953125\" xlink:href=\"#DejaVuSans-105\"/>\n       <use x=\"653.736328\" xlink:href=\"#DejaVuSans-101\"/>\n       <use x=\"715.259766\" xlink:href=\"#DejaVuSans-108\"/>\n       <use x=\"743.042969\" xlink:href=\"#DejaVuSans-100\"/>\n       <use x=\"806.519531\" xlink:href=\"#DejaVuSans-51\"/>\n       <use x=\"870.142578\" xlink:href=\"#DejaVuSans-65\"/>\n      </g>\n     </g>\n    </g>\n    <g id=\"ytick_71\">\n     <g id=\"line2d_74\">\n      <g>\n       <use style=\"stroke:#000000;stroke-width:0.8;\" x=\"165.090625\" xlink:href=\"#m85187e86d9\" y=\"1107.707119\"/>\n      </g>\n     </g>\n     <g id=\"text_74\">\n      <!-- PersonalField23 -->\n      <g style=\"fill:#444443;\" transform=\"translate(79.778125 1111.506337)scale(0.1 -0.1)\">\n       <use xlink:href=\"#DejaVuSans-80\"/>\n       <use x=\"56.677734\" xlink:href=\"#DejaVuSans-101\"/>\n       <use x=\"118.201172\" xlink:href=\"#DejaVuSans-114\"/>\n       <use x=\"159.314453\" xlink:href=\"#DejaVuSans-115\"/>\n       <use x=\"211.414062\" xlink:href=\"#DejaVuSans-111\"/>\n       <use x=\"272.595703\" xlink:href=\"#DejaVuSans-110\"/>\n       <use x=\"335.974609\" xlink:href=\"#DejaVuSans-97\"/>\n       <use x=\"397.253906\" xlink:href=\"#DejaVuSans-108\"/>\n       <use x=\"425.037109\" xlink:href=\"#DejaVuSans-70\"/>\n       <use x=\"475.306641\" xlink:href=\"#DejaVuSans-105\"/>\n       <use x=\"503.089844\" xlink:href=\"#DejaVuSans-101\"/>\n       <use x=\"564.613281\" xlink:href=\"#DejaVuSans-108\"/>\n       <use x=\"592.396484\" xlink:href=\"#DejaVuSans-100\"/>\n       <use x=\"655.873047\" xlink:href=\"#DejaVuSans-50\"/>\n       <use x=\"719.496094\" xlink:href=\"#DejaVuSans-51\"/>\n      </g>\n     </g>\n    </g>\n    <g id=\"ytick_72\">\n     <g id=\"line2d_75\">\n      <g>\n       <use style=\"stroke:#000000;stroke-width:0.8;\" x=\"165.090625\" xlink:href=\"#m85187e86d9\" y=\"1123.409153\"/>\n      </g>\n     </g>\n     <g id=\"text_75\">\n      <!-- GeographicField31A -->\n      <g style=\"fill:#444443;\" transform=\"translate(57.870313 1127.208371)scale(0.1 -0.1)\">\n       <use xlink:href=\"#DejaVuSans-71\"/>\n       <use x=\"77.490234\" xlink:href=\"#DejaVuSans-101\"/>\n       <use x=\"139.013672\" xlink:href=\"#DejaVuSans-111\"/>\n       <use x=\"200.195312\" xlink:href=\"#DejaVuSans-103\"/>\n       <use x=\"263.671875\" xlink:href=\"#DejaVuSans-114\"/>\n       <use x=\"304.785156\" xlink:href=\"#DejaVuSans-97\"/>\n       <use x=\"366.064453\" xlink:href=\"#DejaVuSans-112\"/>\n       <use x=\"429.541016\" xlink:href=\"#DejaVuSans-104\"/>\n       <use x=\"492.919922\" xlink:href=\"#DejaVuSans-105\"/>\n       <use x=\"520.703125\" xlink:href=\"#DejaVuSans-99\"/>\n       <use x=\"575.683594\" xlink:href=\"#DejaVuSans-70\"/>\n       <use x=\"625.953125\" xlink:href=\"#DejaVuSans-105\"/>\n       <use x=\"653.736328\" xlink:href=\"#DejaVuSans-101\"/>\n       <use x=\"715.259766\" xlink:href=\"#DejaVuSans-108\"/>\n       <use x=\"743.042969\" xlink:href=\"#DejaVuSans-100\"/>\n       <use x=\"806.519531\" xlink:href=\"#DejaVuSans-51\"/>\n       <use x=\"870.142578\" xlink:href=\"#DejaVuSans-49\"/>\n       <use x=\"933.765625\" xlink:href=\"#DejaVuSans-65\"/>\n      </g>\n     </g>\n    </g>\n    <g id=\"ytick_73\">\n     <g id=\"line2d_76\">\n      <g>\n       <use style=\"stroke:#000000;stroke-width:0.8;\" x=\"165.090625\" xlink:href=\"#m85187e86d9\" y=\"1139.111186\"/>\n      </g>\n     </g>\n     <g id=\"text_76\">\n      <!-- SalesField9 -->\n      <g style=\"fill:#444443;\" transform=\"translate(102.026563 1142.910405)scale(0.1 -0.1)\">\n       <use xlink:href=\"#DejaVuSans-83\"/>\n       <use x=\"63.476562\" xlink:href=\"#DejaVuSans-97\"/>\n       <use x=\"124.755859\" xlink:href=\"#DejaVuSans-108\"/>\n       <use x=\"152.539062\" xlink:href=\"#DejaVuSans-101\"/>\n       <use x=\"214.0625\" xlink:href=\"#DejaVuSans-115\"/>\n       <use x=\"266.162109\" xlink:href=\"#DejaVuSans-70\"/>\n       <use x=\"316.431641\" xlink:href=\"#DejaVuSans-105\"/>\n       <use x=\"344.214844\" xlink:href=\"#DejaVuSans-101\"/>\n       <use x=\"405.738281\" xlink:href=\"#DejaVuSans-108\"/>\n       <use x=\"433.521484\" xlink:href=\"#DejaVuSans-100\"/>\n       <use x=\"496.998047\" xlink:href=\"#DejaVuSans-57\"/>\n      </g>\n     </g>\n    </g>\n    <g id=\"ytick_74\">\n     <g id=\"line2d_77\">\n      <g>\n       <use style=\"stroke:#000000;stroke-width:0.8;\" x=\"165.090625\" xlink:href=\"#m85187e86d9\" y=\"1154.81322\"/>\n      </g>\n     </g>\n     <g id=\"text_77\">\n      <!-- Original_Quote_Month -->\n      <defs>\n       <path d=\"M 9.8125 72.90625 \nL 24.515625 72.90625 \nL 43.109375 23.296875 \nL 61.8125 72.90625 \nL 76.515625 72.90625 \nL 76.515625 0 \nL 66.890625 0 \nL 66.890625 64.015625 \nL 48.09375 14.015625 \nL 38.1875 14.015625 \nL 19.390625 64.015625 \nL 19.390625 0 \nL 9.8125 0 \nz\n\" id=\"DejaVuSans-77\"/>\n      </defs>\n      <g style=\"fill:#444443;\" transform=\"translate(47.215625 1158.612439)scale(0.1 -0.1)\">\n       <use xlink:href=\"#DejaVuSans-79\"/>\n       <use x=\"78.710938\" xlink:href=\"#DejaVuSans-114\"/>\n       <use x=\"119.824219\" xlink:href=\"#DejaVuSans-105\"/>\n       <use x=\"147.607422\" xlink:href=\"#DejaVuSans-103\"/>\n       <use x=\"211.083984\" xlink:href=\"#DejaVuSans-105\"/>\n       <use x=\"238.867188\" xlink:href=\"#DejaVuSans-110\"/>\n       <use x=\"302.246094\" xlink:href=\"#DejaVuSans-97\"/>\n       <use x=\"363.525391\" xlink:href=\"#DejaVuSans-108\"/>\n       <use x=\"391.308594\" xlink:href=\"#DejaVuSans-95\"/>\n       <use x=\"441.308594\" xlink:href=\"#DejaVuSans-81\"/>\n       <use x=\"520.019531\" xlink:href=\"#DejaVuSans-117\"/>\n       <use x=\"583.398438\" xlink:href=\"#DejaVuSans-111\"/>\n       <use x=\"644.580078\" xlink:href=\"#DejaVuSans-116\"/>\n       <use x=\"683.789062\" xlink:href=\"#DejaVuSans-101\"/>\n       <use x=\"745.3125\" xlink:href=\"#DejaVuSans-95\"/>\n       <use x=\"795.3125\" xlink:href=\"#DejaVuSans-77\"/>\n       <use x=\"881.591797\" xlink:href=\"#DejaVuSans-111\"/>\n       <use x=\"942.773438\" xlink:href=\"#DejaVuSans-110\"/>\n       <use x=\"1006.152344\" xlink:href=\"#DejaVuSans-116\"/>\n       <use x=\"1045.361328\" xlink:href=\"#DejaVuSans-104\"/>\n      </g>\n     </g>\n    </g>\n    <g id=\"ytick_75\">\n     <g id=\"line2d_78\">\n      <g>\n       <use style=\"stroke:#000000;stroke-width:0.8;\" x=\"165.090625\" xlink:href=\"#m85187e86d9\" y=\"1170.515254\"/>\n      </g>\n     </g>\n     <g id=\"text_78\">\n      <!-- GeographicField40A -->\n      <g style=\"fill:#444443;\" transform=\"translate(57.870313 1174.314473)scale(0.1 -0.1)\">\n       <use xlink:href=\"#DejaVuSans-71\"/>\n       <use x=\"77.490234\" xlink:href=\"#DejaVuSans-101\"/>\n       <use x=\"139.013672\" xlink:href=\"#DejaVuSans-111\"/>\n       <use x=\"200.195312\" xlink:href=\"#DejaVuSans-103\"/>\n       <use x=\"263.671875\" xlink:href=\"#DejaVuSans-114\"/>\n       <use x=\"304.785156\" xlink:href=\"#DejaVuSans-97\"/>\n       <use x=\"366.064453\" xlink:href=\"#DejaVuSans-112\"/>\n       <use x=\"429.541016\" xlink:href=\"#DejaVuSans-104\"/>\n       <use x=\"492.919922\" xlink:href=\"#DejaVuSans-105\"/>\n       <use x=\"520.703125\" xlink:href=\"#DejaVuSans-99\"/>\n       <use x=\"575.683594\" xlink:href=\"#DejaVuSans-70\"/>\n       <use x=\"625.953125\" xlink:href=\"#DejaVuSans-105\"/>\n       <use x=\"653.736328\" xlink:href=\"#DejaVuSans-101\"/>\n       <use x=\"715.259766\" xlink:href=\"#DejaVuSans-108\"/>\n       <use x=\"743.042969\" xlink:href=\"#DejaVuSans-100\"/>\n       <use x=\"806.519531\" xlink:href=\"#DejaVuSans-52\"/>\n       <use x=\"870.142578\" xlink:href=\"#DejaVuSans-48\"/>\n       <use x=\"933.765625\" xlink:href=\"#DejaVuSans-65\"/>\n      </g>\n     </g>\n    </g>\n    <g id=\"ytick_76\">\n     <g id=\"line2d_79\">\n      <g>\n       <use style=\"stroke:#000000;stroke-width:0.8;\" x=\"165.090625\" xlink:href=\"#m85187e86d9\" y=\"1186.217288\"/>\n      </g>\n     </g>\n     <g id=\"text_79\">\n      <!-- PropertyField11B -->\n      <g style=\"fill:#444443;\" transform=\"translate(73.109375 1190.016507)scale(0.1 -0.1)\">\n       <use xlink:href=\"#DejaVuSans-80\"/>\n       <use x=\"58.552734\" xlink:href=\"#DejaVuSans-114\"/>\n       <use x=\"97.416016\" xlink:href=\"#DejaVuSans-111\"/>\n       <use x=\"158.597656\" xlink:href=\"#DejaVuSans-112\"/>\n       <use x=\"222.074219\" xlink:href=\"#DejaVuSans-101\"/>\n       <use x=\"283.597656\" xlink:href=\"#DejaVuSans-114\"/>\n       <use x=\"324.710938\" xlink:href=\"#DejaVuSans-116\"/>\n       <use x=\"363.919922\" xlink:href=\"#DejaVuSans-121\"/>\n       <use x=\"423.099609\" xlink:href=\"#DejaVuSans-70\"/>\n       <use x=\"473.369141\" xlink:href=\"#DejaVuSans-105\"/>\n       <use x=\"501.152344\" xlink:href=\"#DejaVuSans-101\"/>\n       <use x=\"562.675781\" xlink:href=\"#DejaVuSans-108\"/>\n       <use x=\"590.458984\" xlink:href=\"#DejaVuSans-100\"/>\n       <use x=\"653.935547\" xlink:href=\"#DejaVuSans-49\"/>\n       <use x=\"717.558594\" xlink:href=\"#DejaVuSans-49\"/>\n       <use x=\"781.181641\" xlink:href=\"#DejaVuSans-66\"/>\n      </g>\n     </g>\n    </g>\n    <g id=\"ytick_77\">\n     <g id=\"line2d_80\">\n      <g>\n       <use style=\"stroke:#000000;stroke-width:0.8;\" x=\"165.090625\" xlink:href=\"#m85187e86d9\" y=\"1201.919322\"/>\n      </g>\n     </g>\n     <g id=\"text_80\">\n      <!-- GeographicField48A -->\n      <g style=\"fill:#444443;\" transform=\"translate(57.870313 1205.718541)scale(0.1 -0.1)\">\n       <use xlink:href=\"#DejaVuSans-71\"/>\n       <use x=\"77.490234\" xlink:href=\"#DejaVuSans-101\"/>\n       <use x=\"139.013672\" xlink:href=\"#DejaVuSans-111\"/>\n       <use x=\"200.195312\" xlink:href=\"#DejaVuSans-103\"/>\n       <use x=\"263.671875\" xlink:href=\"#DejaVuSans-114\"/>\n       <use x=\"304.785156\" xlink:href=\"#DejaVuSans-97\"/>\n       <use x=\"366.064453\" xlink:href=\"#DejaVuSans-112\"/>\n       <use x=\"429.541016\" xlink:href=\"#DejaVuSans-104\"/>\n       <use x=\"492.919922\" xlink:href=\"#DejaVuSans-105\"/>\n       <use x=\"520.703125\" xlink:href=\"#DejaVuSans-99\"/>\n       <use x=\"575.683594\" xlink:href=\"#DejaVuSans-70\"/>\n       <use x=\"625.953125\" xlink:href=\"#DejaVuSans-105\"/>\n       <use x=\"653.736328\" xlink:href=\"#DejaVuSans-101\"/>\n       <use x=\"715.259766\" xlink:href=\"#DejaVuSans-108\"/>\n       <use x=\"743.042969\" xlink:href=\"#DejaVuSans-100\"/>\n       <use x=\"806.519531\" xlink:href=\"#DejaVuSans-52\"/>\n       <use x=\"870.142578\" xlink:href=\"#DejaVuSans-56\"/>\n       <use x=\"933.765625\" xlink:href=\"#DejaVuSans-65\"/>\n      </g>\n     </g>\n    </g>\n    <g id=\"ytick_78\">\n     <g id=\"line2d_81\">\n      <g>\n       <use style=\"stroke:#000000;stroke-width:0.8;\" x=\"165.090625\" xlink:href=\"#m85187e86d9\" y=\"1217.621356\"/>\n      </g>\n     </g>\n     <g id=\"text_81\">\n      <!-- GeographicField43A -->\n      <g style=\"fill:#444443;\" transform=\"translate(57.870313 1221.420575)scale(0.1 -0.1)\">\n       <use xlink:href=\"#DejaVuSans-71\"/>\n       <use x=\"77.490234\" xlink:href=\"#DejaVuSans-101\"/>\n       <use x=\"139.013672\" xlink:href=\"#DejaVuSans-111\"/>\n       <use x=\"200.195312\" xlink:href=\"#DejaVuSans-103\"/>\n       <use x=\"263.671875\" xlink:href=\"#DejaVuSans-114\"/>\n       <use x=\"304.785156\" xlink:href=\"#DejaVuSans-97\"/>\n       <use x=\"366.064453\" xlink:href=\"#DejaVuSans-112\"/>\n       <use x=\"429.541016\" xlink:href=\"#DejaVuSans-104\"/>\n       <use x=\"492.919922\" xlink:href=\"#DejaVuSans-105\"/>\n       <use x=\"520.703125\" xlink:href=\"#DejaVuSans-99\"/>\n       <use x=\"575.683594\" xlink:href=\"#DejaVuSans-70\"/>\n       <use x=\"625.953125\" xlink:href=\"#DejaVuSans-105\"/>\n       <use x=\"653.736328\" xlink:href=\"#DejaVuSans-101\"/>\n       <use x=\"715.259766\" xlink:href=\"#DejaVuSans-108\"/>\n       <use x=\"743.042969\" xlink:href=\"#DejaVuSans-100\"/>\n       <use x=\"806.519531\" xlink:href=\"#DejaVuSans-52\"/>\n       <use x=\"870.142578\" xlink:href=\"#DejaVuSans-51\"/>\n       <use x=\"933.765625\" xlink:href=\"#DejaVuSans-65\"/>\n      </g>\n     </g>\n    </g>\n    <g id=\"ytick_79\">\n     <g id=\"line2d_82\">\n      <g>\n       <use style=\"stroke:#000000;stroke-width:0.8;\" x=\"165.090625\" xlink:href=\"#m85187e86d9\" y=\"1233.32339\"/>\n      </g>\n     </g>\n     <g id=\"text_82\">\n      <!-- GeographicField12A -->\n      <g style=\"fill:#444443;\" transform=\"translate(57.870313 1237.122609)scale(0.1 -0.1)\">\n       <use xlink:href=\"#DejaVuSans-71\"/>\n       <use x=\"77.490234\" xlink:href=\"#DejaVuSans-101\"/>\n       <use x=\"139.013672\" xlink:href=\"#DejaVuSans-111\"/>\n       <use x=\"200.195312\" xlink:href=\"#DejaVuSans-103\"/>\n       <use x=\"263.671875\" xlink:href=\"#DejaVuSans-114\"/>\n       <use x=\"304.785156\" xlink:href=\"#DejaVuSans-97\"/>\n       <use x=\"366.064453\" xlink:href=\"#DejaVuSans-112\"/>\n       <use x=\"429.541016\" xlink:href=\"#DejaVuSans-104\"/>\n       <use x=\"492.919922\" xlink:href=\"#DejaVuSans-105\"/>\n       <use x=\"520.703125\" xlink:href=\"#DejaVuSans-99\"/>\n       <use x=\"575.683594\" xlink:href=\"#DejaVuSans-70\"/>\n       <use x=\"625.953125\" xlink:href=\"#DejaVuSans-105\"/>\n       <use x=\"653.736328\" xlink:href=\"#DejaVuSans-101\"/>\n       <use x=\"715.259766\" xlink:href=\"#DejaVuSans-108\"/>\n       <use x=\"743.042969\" xlink:href=\"#DejaVuSans-100\"/>\n       <use x=\"806.519531\" xlink:href=\"#DejaVuSans-49\"/>\n       <use x=\"870.142578\" xlink:href=\"#DejaVuSans-50\"/>\n       <use x=\"933.765625\" xlink:href=\"#DejaVuSans-65\"/>\n      </g>\n     </g>\n    </g>\n    <g id=\"ytick_80\">\n     <g id=\"line2d_83\">\n      <g>\n       <use style=\"stroke:#000000;stroke-width:0.8;\" x=\"165.090625\" xlink:href=\"#m85187e86d9\" y=\"1249.025424\"/>\n      </g>\n     </g>\n     <g id=\"text_83\">\n      <!-- SalesField13 -->\n      <g style=\"fill:#444443;\" transform=\"translate(95.664063 1252.824642)scale(0.1 -0.1)\">\n       <use xlink:href=\"#DejaVuSans-83\"/>\n       <use x=\"63.476562\" xlink:href=\"#DejaVuSans-97\"/>\n       <use x=\"124.755859\" xlink:href=\"#DejaVuSans-108\"/>\n       <use x=\"152.539062\" xlink:href=\"#DejaVuSans-101\"/>\n       <use x=\"214.0625\" xlink:href=\"#DejaVuSans-115\"/>\n       <use x=\"266.162109\" xlink:href=\"#DejaVuSans-70\"/>\n       <use x=\"316.431641\" xlink:href=\"#DejaVuSans-105\"/>\n       <use x=\"344.214844\" xlink:href=\"#DejaVuSans-101\"/>\n       <use x=\"405.738281\" xlink:href=\"#DejaVuSans-108\"/>\n       <use x=\"433.521484\" xlink:href=\"#DejaVuSans-100\"/>\n       <use x=\"496.998047\" xlink:href=\"#DejaVuSans-49\"/>\n       <use x=\"560.621094\" xlink:href=\"#DejaVuSans-51\"/>\n      </g>\n     </g>\n    </g>\n    <g id=\"ytick_81\">\n     <g id=\"line2d_84\">\n      <g>\n       <use style=\"stroke:#000000;stroke-width:0.8;\" x=\"165.090625\" xlink:href=\"#m85187e86d9\" y=\"1264.727458\"/>\n      </g>\n     </g>\n     <g id=\"text_84\">\n      <!-- PersonalField83 -->\n      <g style=\"fill:#444443;\" transform=\"translate(79.778125 1268.526676)scale(0.1 -0.1)\">\n       <use xlink:href=\"#DejaVuSans-80\"/>\n       <use x=\"56.677734\" xlink:href=\"#DejaVuSans-101\"/>\n       <use x=\"118.201172\" xlink:href=\"#DejaVuSans-114\"/>\n       <use x=\"159.314453\" xlink:href=\"#DejaVuSans-115\"/>\n       <use x=\"211.414062\" xlink:href=\"#DejaVuSans-111\"/>\n       <use x=\"272.595703\" xlink:href=\"#DejaVuSans-110\"/>\n       <use x=\"335.974609\" xlink:href=\"#DejaVuSans-97\"/>\n       <use x=\"397.253906\" xlink:href=\"#DejaVuSans-108\"/>\n       <use x=\"425.037109\" xlink:href=\"#DejaVuSans-70\"/>\n       <use x=\"475.306641\" xlink:href=\"#DejaVuSans-105\"/>\n       <use x=\"503.089844\" xlink:href=\"#DejaVuSans-101\"/>\n       <use x=\"564.613281\" xlink:href=\"#DejaVuSans-108\"/>\n       <use x=\"592.396484\" xlink:href=\"#DejaVuSans-100\"/>\n       <use x=\"655.873047\" xlink:href=\"#DejaVuSans-56\"/>\n       <use x=\"719.496094\" xlink:href=\"#DejaVuSans-51\"/>\n      </g>\n     </g>\n    </g>\n    <g id=\"ytick_82\">\n     <g id=\"line2d_85\">\n      <g>\n       <use style=\"stroke:#000000;stroke-width:0.8;\" x=\"165.090625\" xlink:href=\"#m85187e86d9\" y=\"1280.429492\"/>\n      </g>\n     </g>\n     <g id=\"text_85\">\n      <!-- SalesField12 -->\n      <g style=\"fill:#444443;\" transform=\"translate(95.664063 1284.22871)scale(0.1 -0.1)\">\n       <use xlink:href=\"#DejaVuSans-83\"/>\n       <use x=\"63.476562\" xlink:href=\"#DejaVuSans-97\"/>\n       <use x=\"124.755859\" xlink:href=\"#DejaVuSans-108\"/>\n       <use x=\"152.539062\" xlink:href=\"#DejaVuSans-101\"/>\n       <use x=\"214.0625\" xlink:href=\"#DejaVuSans-115\"/>\n       <use x=\"266.162109\" xlink:href=\"#DejaVuSans-70\"/>\n       <use x=\"316.431641\" xlink:href=\"#DejaVuSans-105\"/>\n       <use x=\"344.214844\" xlink:href=\"#DejaVuSans-101\"/>\n       <use x=\"405.738281\" xlink:href=\"#DejaVuSans-108\"/>\n       <use x=\"433.521484\" xlink:href=\"#DejaVuSans-100\"/>\n       <use x=\"496.998047\" xlink:href=\"#DejaVuSans-49\"/>\n       <use x=\"560.621094\" xlink:href=\"#DejaVuSans-50\"/>\n      </g>\n     </g>\n    </g>\n    <g id=\"ytick_83\">\n     <g id=\"line2d_86\">\n      <g>\n       <use style=\"stroke:#000000;stroke-width:0.8;\" x=\"165.090625\" xlink:href=\"#m85187e86d9\" y=\"1296.131525\"/>\n      </g>\n     </g>\n     <g id=\"text_86\">\n      <!-- GeographicField11B -->\n      <g style=\"fill:#444443;\" transform=\"translate(57.85 1299.930744)scale(0.1 -0.1)\">\n       <use xlink:href=\"#DejaVuSans-71\"/>\n       <use x=\"77.490234\" xlink:href=\"#DejaVuSans-101\"/>\n       <use x=\"139.013672\" xlink:href=\"#DejaVuSans-111\"/>\n       <use x=\"200.195312\" xlink:href=\"#DejaVuSans-103\"/>\n       <use x=\"263.671875\" xlink:href=\"#DejaVuSans-114\"/>\n       <use x=\"304.785156\" xlink:href=\"#DejaVuSans-97\"/>\n       <use x=\"366.064453\" xlink:href=\"#DejaVuSans-112\"/>\n       <use x=\"429.541016\" xlink:href=\"#DejaVuSans-104\"/>\n       <use x=\"492.919922\" xlink:href=\"#DejaVuSans-105\"/>\n       <use x=\"520.703125\" xlink:href=\"#DejaVuSans-99\"/>\n       <use x=\"575.683594\" xlink:href=\"#DejaVuSans-70\"/>\n       <use x=\"625.953125\" xlink:href=\"#DejaVuSans-105\"/>\n       <use x=\"653.736328\" xlink:href=\"#DejaVuSans-101\"/>\n       <use x=\"715.259766\" xlink:href=\"#DejaVuSans-108\"/>\n       <use x=\"743.042969\" xlink:href=\"#DejaVuSans-100\"/>\n       <use x=\"806.519531\" xlink:href=\"#DejaVuSans-49\"/>\n       <use x=\"870.142578\" xlink:href=\"#DejaVuSans-49\"/>\n       <use x=\"933.765625\" xlink:href=\"#DejaVuSans-66\"/>\n      </g>\n     </g>\n    </g>\n    <g id=\"ytick_84\">\n     <g id=\"line2d_87\">\n      <g>\n       <use style=\"stroke:#000000;stroke-width:0.8;\" x=\"165.090625\" xlink:href=\"#m85187e86d9\" y=\"1311.833559\"/>\n      </g>\n     </g>\n     <g id=\"text_87\">\n      <!-- CoverageField6A -->\n      <g style=\"fill:#444443;\" transform=\"translate(73.889063 1315.632778)scale(0.1 -0.1)\">\n       <use xlink:href=\"#DejaVuSans-67\"/>\n       <use x=\"69.824219\" xlink:href=\"#DejaVuSans-111\"/>\n       <use x=\"131.005859\" xlink:href=\"#DejaVuSans-118\"/>\n       <use x=\"190.185547\" xlink:href=\"#DejaVuSans-101\"/>\n       <use x=\"251.708984\" xlink:href=\"#DejaVuSans-114\"/>\n       <use x=\"292.822266\" xlink:href=\"#DejaVuSans-97\"/>\n       <use x=\"354.101562\" xlink:href=\"#DejaVuSans-103\"/>\n       <use x=\"417.578125\" xlink:href=\"#DejaVuSans-101\"/>\n       <use x=\"479.101562\" xlink:href=\"#DejaVuSans-70\"/>\n       <use x=\"529.371094\" xlink:href=\"#DejaVuSans-105\"/>\n       <use x=\"557.154297\" xlink:href=\"#DejaVuSans-101\"/>\n       <use x=\"618.677734\" xlink:href=\"#DejaVuSans-108\"/>\n       <use x=\"646.460938\" xlink:href=\"#DejaVuSans-100\"/>\n       <use x=\"709.9375\" xlink:href=\"#DejaVuSans-54\"/>\n       <use x=\"773.560547\" xlink:href=\"#DejaVuSans-65\"/>\n      </g>\n     </g>\n    </g>\n    <g id=\"ytick_85\">\n     <g id=\"line2d_88\">\n      <g>\n       <use style=\"stroke:#000000;stroke-width:0.8;\" x=\"165.090625\" xlink:href=\"#m85187e86d9\" y=\"1327.535593\"/>\n      </g>\n     </g>\n     <g id=\"text_88\">\n      <!-- GeographicField49A -->\n      <g style=\"fill:#444443;\" transform=\"translate(57.870313 1331.334812)scale(0.1 -0.1)\">\n       <use xlink:href=\"#DejaVuSans-71\"/>\n       <use x=\"77.490234\" xlink:href=\"#DejaVuSans-101\"/>\n       <use x=\"139.013672\" xlink:href=\"#DejaVuSans-111\"/>\n       <use x=\"200.195312\" xlink:href=\"#DejaVuSans-103\"/>\n       <use x=\"263.671875\" xlink:href=\"#DejaVuSans-114\"/>\n       <use x=\"304.785156\" xlink:href=\"#DejaVuSans-97\"/>\n       <use x=\"366.064453\" xlink:href=\"#DejaVuSans-112\"/>\n       <use x=\"429.541016\" xlink:href=\"#DejaVuSans-104\"/>\n       <use x=\"492.919922\" xlink:href=\"#DejaVuSans-105\"/>\n       <use x=\"520.703125\" xlink:href=\"#DejaVuSans-99\"/>\n       <use x=\"575.683594\" xlink:href=\"#DejaVuSans-70\"/>\n       <use x=\"625.953125\" xlink:href=\"#DejaVuSans-105\"/>\n       <use x=\"653.736328\" xlink:href=\"#DejaVuSans-101\"/>\n       <use x=\"715.259766\" xlink:href=\"#DejaVuSans-108\"/>\n       <use x=\"743.042969\" xlink:href=\"#DejaVuSans-100\"/>\n       <use x=\"806.519531\" xlink:href=\"#DejaVuSans-52\"/>\n       <use x=\"870.142578\" xlink:href=\"#DejaVuSans-57\"/>\n       <use x=\"933.765625\" xlink:href=\"#DejaVuSans-65\"/>\n      </g>\n     </g>\n    </g>\n    <g id=\"ytick_86\">\n     <g id=\"line2d_89\">\n      <g>\n       <use style=\"stroke:#000000;stroke-width:0.8;\" x=\"165.090625\" xlink:href=\"#m85187e86d9\" y=\"1343.237627\"/>\n      </g>\n     </g>\n     <g id=\"text_89\">\n      <!-- PersonalField32 -->\n      <g style=\"fill:#444443;\" transform=\"translate(79.778125 1347.036846)scale(0.1 -0.1)\">\n       <use xlink:href=\"#DejaVuSans-80\"/>\n       <use x=\"56.677734\" xlink:href=\"#DejaVuSans-101\"/>\n       <use x=\"118.201172\" xlink:href=\"#DejaVuSans-114\"/>\n       <use x=\"159.314453\" xlink:href=\"#DejaVuSans-115\"/>\n       <use x=\"211.414062\" xlink:href=\"#DejaVuSans-111\"/>\n       <use x=\"272.595703\" xlink:href=\"#DejaVuSans-110\"/>\n       <use x=\"335.974609\" xlink:href=\"#DejaVuSans-97\"/>\n       <use x=\"397.253906\" xlink:href=\"#DejaVuSans-108\"/>\n       <use x=\"425.037109\" xlink:href=\"#DejaVuSans-70\"/>\n       <use x=\"475.306641\" xlink:href=\"#DejaVuSans-105\"/>\n       <use x=\"503.089844\" xlink:href=\"#DejaVuSans-101\"/>\n       <use x=\"564.613281\" xlink:href=\"#DejaVuSans-108\"/>\n       <use x=\"592.396484\" xlink:href=\"#DejaVuSans-100\"/>\n       <use x=\"655.873047\" xlink:href=\"#DejaVuSans-51\"/>\n       <use x=\"719.496094\" xlink:href=\"#DejaVuSans-50\"/>\n      </g>\n     </g>\n    </g>\n    <g id=\"ytick_87\">\n     <g id=\"line2d_90\">\n      <g>\n       <use style=\"stroke:#000000;stroke-width:0.8;\" x=\"165.090625\" xlink:href=\"#m85187e86d9\" y=\"1358.939661\"/>\n      </g>\n     </g>\n     <g id=\"text_90\">\n      <!-- GeographicField6A -->\n      <g style=\"fill:#444443;\" transform=\"translate(64.232813 1362.73888)scale(0.1 -0.1)\">\n       <use xlink:href=\"#DejaVuSans-71\"/>\n       <use x=\"77.490234\" xlink:href=\"#DejaVuSans-101\"/>\n       <use x=\"139.013672\" xlink:href=\"#DejaVuSans-111\"/>\n       <use x=\"200.195312\" xlink:href=\"#DejaVuSans-103\"/>\n       <use x=\"263.671875\" xlink:href=\"#DejaVuSans-114\"/>\n       <use x=\"304.785156\" xlink:href=\"#DejaVuSans-97\"/>\n       <use x=\"366.064453\" xlink:href=\"#DejaVuSans-112\"/>\n       <use x=\"429.541016\" xlink:href=\"#DejaVuSans-104\"/>\n       <use x=\"492.919922\" xlink:href=\"#DejaVuSans-105\"/>\n       <use x=\"520.703125\" xlink:href=\"#DejaVuSans-99\"/>\n       <use x=\"575.683594\" xlink:href=\"#DejaVuSans-70\"/>\n       <use x=\"625.953125\" xlink:href=\"#DejaVuSans-105\"/>\n       <use x=\"653.736328\" xlink:href=\"#DejaVuSans-101\"/>\n       <use x=\"715.259766\" xlink:href=\"#DejaVuSans-108\"/>\n       <use x=\"743.042969\" xlink:href=\"#DejaVuSans-100\"/>\n       <use x=\"806.519531\" xlink:href=\"#DejaVuSans-54\"/>\n       <use x=\"870.142578\" xlink:href=\"#DejaVuSans-65\"/>\n      </g>\n     </g>\n    </g>\n    <g id=\"ytick_88\">\n     <g id=\"line2d_91\">\n      <g>\n       <use style=\"stroke:#000000;stroke-width:0.8;\" x=\"165.090625\" xlink:href=\"#m85187e86d9\" y=\"1374.641695\"/>\n      </g>\n     </g>\n     <g id=\"text_91\">\n      <!-- PersonalField54 -->\n      <g style=\"fill:#444443;\" transform=\"translate(79.778125 1378.440914)scale(0.1 -0.1)\">\n       <use xlink:href=\"#DejaVuSans-80\"/>\n       <use x=\"56.677734\" xlink:href=\"#DejaVuSans-101\"/>\n       <use x=\"118.201172\" xlink:href=\"#DejaVuSans-114\"/>\n       <use x=\"159.314453\" xlink:href=\"#DejaVuSans-115\"/>\n       <use x=\"211.414062\" xlink:href=\"#DejaVuSans-111\"/>\n       <use x=\"272.595703\" xlink:href=\"#DejaVuSans-110\"/>\n       <use x=\"335.974609\" xlink:href=\"#DejaVuSans-97\"/>\n       <use x=\"397.253906\" xlink:href=\"#DejaVuSans-108\"/>\n       <use x=\"425.037109\" xlink:href=\"#DejaVuSans-70\"/>\n       <use x=\"475.306641\" xlink:href=\"#DejaVuSans-105\"/>\n       <use x=\"503.089844\" xlink:href=\"#DejaVuSans-101\"/>\n       <use x=\"564.613281\" xlink:href=\"#DejaVuSans-108\"/>\n       <use x=\"592.396484\" xlink:href=\"#DejaVuSans-100\"/>\n       <use x=\"655.873047\" xlink:href=\"#DejaVuSans-53\"/>\n       <use x=\"719.496094\" xlink:href=\"#DejaVuSans-52\"/>\n      </g>\n     </g>\n    </g>\n    <g id=\"ytick_89\">\n     <g id=\"line2d_92\">\n      <g>\n       <use style=\"stroke:#000000;stroke-width:0.8;\" x=\"165.090625\" xlink:href=\"#m85187e86d9\" y=\"1390.343729\"/>\n      </g>\n     </g>\n     <g id=\"text_92\">\n      <!-- PropertyField24B -->\n      <g style=\"fill:#444443;\" transform=\"translate(73.109375 1394.142948)scale(0.1 -0.1)\">\n       <use xlink:href=\"#DejaVuSans-80\"/>\n       <use x=\"58.552734\" xlink:href=\"#DejaVuSans-114\"/>\n       <use x=\"97.416016\" xlink:href=\"#DejaVuSans-111\"/>\n       <use x=\"158.597656\" xlink:href=\"#DejaVuSans-112\"/>\n       <use x=\"222.074219\" xlink:href=\"#DejaVuSans-101\"/>\n       <use x=\"283.597656\" xlink:href=\"#DejaVuSans-114\"/>\n       <use x=\"324.710938\" xlink:href=\"#DejaVuSans-116\"/>\n       <use x=\"363.919922\" xlink:href=\"#DejaVuSans-121\"/>\n       <use x=\"423.099609\" xlink:href=\"#DejaVuSans-70\"/>\n       <use x=\"473.369141\" xlink:href=\"#DejaVuSans-105\"/>\n       <use x=\"501.152344\" xlink:href=\"#DejaVuSans-101\"/>\n       <use x=\"562.675781\" xlink:href=\"#DejaVuSans-108\"/>\n       <use x=\"590.458984\" xlink:href=\"#DejaVuSans-100\"/>\n       <use x=\"653.935547\" xlink:href=\"#DejaVuSans-50\"/>\n       <use x=\"717.558594\" xlink:href=\"#DejaVuSans-52\"/>\n       <use x=\"781.181641\" xlink:href=\"#DejaVuSans-66\"/>\n      </g>\n     </g>\n    </g>\n    <g id=\"ytick_90\">\n     <g id=\"line2d_93\">\n      <g>\n       <use style=\"stroke:#000000;stroke-width:0.8;\" x=\"165.090625\" xlink:href=\"#m85187e86d9\" y=\"1406.045763\"/>\n      </g>\n     </g>\n     <g id=\"text_93\">\n      <!-- GeographicField1A -->\n      <g style=\"fill:#444443;\" transform=\"translate(64.232813 1409.844981)scale(0.1 -0.1)\">\n       <use xlink:href=\"#DejaVuSans-71\"/>\n       <use x=\"77.490234\" xlink:href=\"#DejaVuSans-101\"/>\n       <use x=\"139.013672\" xlink:href=\"#DejaVuSans-111\"/>\n       <use x=\"200.195312\" xlink:href=\"#DejaVuSans-103\"/>\n       <use x=\"263.671875\" xlink:href=\"#DejaVuSans-114\"/>\n       <use x=\"304.785156\" xlink:href=\"#DejaVuSans-97\"/>\n       <use x=\"366.064453\" xlink:href=\"#DejaVuSans-112\"/>\n       <use x=\"429.541016\" xlink:href=\"#DejaVuSans-104\"/>\n       <use x=\"492.919922\" xlink:href=\"#DejaVuSans-105\"/>\n       <use x=\"520.703125\" xlink:href=\"#DejaVuSans-99\"/>\n       <use x=\"575.683594\" xlink:href=\"#DejaVuSans-70\"/>\n       <use x=\"625.953125\" xlink:href=\"#DejaVuSans-105\"/>\n       <use x=\"653.736328\" xlink:href=\"#DejaVuSans-101\"/>\n       <use x=\"715.259766\" xlink:href=\"#DejaVuSans-108\"/>\n       <use x=\"743.042969\" xlink:href=\"#DejaVuSans-100\"/>\n       <use x=\"806.519531\" xlink:href=\"#DejaVuSans-49\"/>\n       <use x=\"870.142578\" xlink:href=\"#DejaVuSans-65\"/>\n      </g>\n     </g>\n    </g>\n    <g id=\"ytick_91\">\n     <g id=\"line2d_94\">\n      <g>\n       <use style=\"stroke:#000000;stroke-width:0.8;\" x=\"165.090625\" xlink:href=\"#m85187e86d9\" y=\"1421.747797\"/>\n      </g>\n     </g>\n     <g id=\"text_94\">\n      <!-- PropertyField21A -->\n      <g style=\"fill:#444443;\" transform=\"translate(73.129688 1425.547015)scale(0.1 -0.1)\">\n       <use xlink:href=\"#DejaVuSans-80\"/>\n       <use x=\"58.552734\" xlink:href=\"#DejaVuSans-114\"/>\n       <use x=\"97.416016\" xlink:href=\"#DejaVuSans-111\"/>\n       <use x=\"158.597656\" xlink:href=\"#DejaVuSans-112\"/>\n       <use x=\"222.074219\" xlink:href=\"#DejaVuSans-101\"/>\n       <use x=\"283.597656\" xlink:href=\"#DejaVuSans-114\"/>\n       <use x=\"324.710938\" xlink:href=\"#DejaVuSans-116\"/>\n       <use x=\"363.919922\" xlink:href=\"#DejaVuSans-121\"/>\n       <use x=\"423.099609\" xlink:href=\"#DejaVuSans-70\"/>\n       <use x=\"473.369141\" xlink:href=\"#DejaVuSans-105\"/>\n       <use x=\"501.152344\" xlink:href=\"#DejaVuSans-101\"/>\n       <use x=\"562.675781\" xlink:href=\"#DejaVuSans-108\"/>\n       <use x=\"590.458984\" xlink:href=\"#DejaVuSans-100\"/>\n       <use x=\"653.935547\" xlink:href=\"#DejaVuSans-50\"/>\n       <use x=\"717.558594\" xlink:href=\"#DejaVuSans-49\"/>\n       <use x=\"781.181641\" xlink:href=\"#DejaVuSans-65\"/>\n      </g>\n     </g>\n    </g>\n    <g id=\"ytick_92\">\n     <g id=\"line2d_95\">\n      <g>\n       <use style=\"stroke:#000000;stroke-width:0.8;\" x=\"165.090625\" xlink:href=\"#m85187e86d9\" y=\"1437.449831\"/>\n      </g>\n     </g>\n     <g id=\"text_95\">\n      <!-- GeographicField11A -->\n      <g style=\"fill:#444443;\" transform=\"translate(57.870313 1441.249049)scale(0.1 -0.1)\">\n       <use xlink:href=\"#DejaVuSans-71\"/>\n       <use x=\"77.490234\" xlink:href=\"#DejaVuSans-101\"/>\n       <use x=\"139.013672\" xlink:href=\"#DejaVuSans-111\"/>\n       <use x=\"200.195312\" xlink:href=\"#DejaVuSans-103\"/>\n       <use x=\"263.671875\" xlink:href=\"#DejaVuSans-114\"/>\n       <use x=\"304.785156\" xlink:href=\"#DejaVuSans-97\"/>\n       <use x=\"366.064453\" xlink:href=\"#DejaVuSans-112\"/>\n       <use x=\"429.541016\" xlink:href=\"#DejaVuSans-104\"/>\n       <use x=\"492.919922\" xlink:href=\"#DejaVuSans-105\"/>\n       <use x=\"520.703125\" xlink:href=\"#DejaVuSans-99\"/>\n       <use x=\"575.683594\" xlink:href=\"#DejaVuSans-70\"/>\n       <use x=\"625.953125\" xlink:href=\"#DejaVuSans-105\"/>\n       <use x=\"653.736328\" xlink:href=\"#DejaVuSans-101\"/>\n       <use x=\"715.259766\" xlink:href=\"#DejaVuSans-108\"/>\n       <use x=\"743.042969\" xlink:href=\"#DejaVuSans-100\"/>\n       <use x=\"806.519531\" xlink:href=\"#DejaVuSans-49\"/>\n       <use x=\"870.142578\" xlink:href=\"#DejaVuSans-49\"/>\n       <use x=\"933.765625\" xlink:href=\"#DejaVuSans-65\"/>\n      </g>\n     </g>\n    </g>\n    <g id=\"ytick_93\">\n     <g id=\"line2d_96\">\n      <g>\n       <use style=\"stroke:#000000;stroke-width:0.8;\" x=\"165.090625\" xlink:href=\"#m85187e86d9\" y=\"1453.151864\"/>\n      </g>\n     </g>\n     <g id=\"text_96\">\n      <!-- GeographicField2A -->\n      <g style=\"fill:#444443;\" transform=\"translate(64.232813 1456.951083)scale(0.1 -0.1)\">\n       <use xlink:href=\"#DejaVuSans-71\"/>\n       <use x=\"77.490234\" xlink:href=\"#DejaVuSans-101\"/>\n       <use x=\"139.013672\" xlink:href=\"#DejaVuSans-111\"/>\n       <use x=\"200.195312\" xlink:href=\"#DejaVuSans-103\"/>\n       <use x=\"263.671875\" xlink:href=\"#DejaVuSans-114\"/>\n       <use x=\"304.785156\" xlink:href=\"#DejaVuSans-97\"/>\n       <use x=\"366.064453\" xlink:href=\"#DejaVuSans-112\"/>\n       <use x=\"429.541016\" xlink:href=\"#DejaVuSans-104\"/>\n       <use x=\"492.919922\" xlink:href=\"#DejaVuSans-105\"/>\n       <use x=\"520.703125\" xlink:href=\"#DejaVuSans-99\"/>\n       <use x=\"575.683594\" xlink:href=\"#DejaVuSans-70\"/>\n       <use x=\"625.953125\" xlink:href=\"#DejaVuSans-105\"/>\n       <use x=\"653.736328\" xlink:href=\"#DejaVuSans-101\"/>\n       <use x=\"715.259766\" xlink:href=\"#DejaVuSans-108\"/>\n       <use x=\"743.042969\" xlink:href=\"#DejaVuSans-100\"/>\n       <use x=\"806.519531\" xlink:href=\"#DejaVuSans-50\"/>\n       <use x=\"870.142578\" xlink:href=\"#DejaVuSans-65\"/>\n      </g>\n     </g>\n    </g>\n    <g id=\"ytick_94\">\n     <g id=\"line2d_97\">\n      <g>\n       <use style=\"stroke:#000000;stroke-width:0.8;\" x=\"165.090625\" xlink:href=\"#m85187e86d9\" y=\"1468.853898\"/>\n      </g>\n     </g>\n     <g id=\"text_97\">\n      <!-- CoverageField5A -->\n      <g style=\"fill:#444443;\" transform=\"translate(73.889063 1472.653117)scale(0.1 -0.1)\">\n       <use xlink:href=\"#DejaVuSans-67\"/>\n       <use x=\"69.824219\" xlink:href=\"#DejaVuSans-111\"/>\n       <use x=\"131.005859\" xlink:href=\"#DejaVuSans-118\"/>\n       <use x=\"190.185547\" xlink:href=\"#DejaVuSans-101\"/>\n       <use x=\"251.708984\" xlink:href=\"#DejaVuSans-114\"/>\n       <use x=\"292.822266\" xlink:href=\"#DejaVuSans-97\"/>\n       <use x=\"354.101562\" xlink:href=\"#DejaVuSans-103\"/>\n       <use x=\"417.578125\" xlink:href=\"#DejaVuSans-101\"/>\n       <use x=\"479.101562\" xlink:href=\"#DejaVuSans-70\"/>\n       <use x=\"529.371094\" xlink:href=\"#DejaVuSans-105\"/>\n       <use x=\"557.154297\" xlink:href=\"#DejaVuSans-101\"/>\n       <use x=\"618.677734\" xlink:href=\"#DejaVuSans-108\"/>\n       <use x=\"646.460938\" xlink:href=\"#DejaVuSans-100\"/>\n       <use x=\"709.9375\" xlink:href=\"#DejaVuSans-53\"/>\n       <use x=\"773.560547\" xlink:href=\"#DejaVuSans-65\"/>\n      </g>\n     </g>\n    </g>\n    <g id=\"ytick_95\">\n     <g id=\"line2d_98\">\n      <g>\n       <use style=\"stroke:#000000;stroke-width:0.8;\" x=\"165.090625\" xlink:href=\"#m85187e86d9\" y=\"1484.555932\"/>\n      </g>\n     </g>\n     <g id=\"text_98\">\n      <!-- Original_Quote_Is_month_start -->\n      <defs>\n       <path d=\"M 9.8125 72.90625 \nL 19.671875 72.90625 \nL 19.671875 0 \nL 9.8125 0 \nz\n\" id=\"DejaVuSans-73\"/>\n       <path d=\"M 52 44.1875 \nQ 55.375 50.25 60.0625 53.125 \nQ 64.75 56 71.09375 56 \nQ 79.640625 56 84.28125 50.015625 \nQ 88.921875 44.046875 88.921875 33.015625 \nL 88.921875 0 \nL 79.890625 0 \nL 79.890625 32.71875 \nQ 79.890625 40.578125 77.09375 44.375 \nQ 74.3125 48.1875 68.609375 48.1875 \nQ 61.625 48.1875 57.5625 43.546875 \nQ 53.515625 38.921875 53.515625 30.90625 \nL 53.515625 0 \nL 44.484375 0 \nL 44.484375 32.71875 \nQ 44.484375 40.625 41.703125 44.40625 \nQ 38.921875 48.1875 33.109375 48.1875 \nQ 26.21875 48.1875 22.15625 43.53125 \nQ 18.109375 38.875 18.109375 30.90625 \nL 18.109375 0 \nL 9.078125 0 \nL 9.078125 54.6875 \nL 18.109375 54.6875 \nL 18.109375 46.1875 \nQ 21.1875 51.21875 25.484375 53.609375 \nQ 29.78125 56 35.6875 56 \nQ 41.65625 56 45.828125 52.96875 \nQ 50 49.953125 52 44.1875 \nz\n\" id=\"DejaVuSans-109\"/>\n      </defs>\n      <g style=\"fill:#444443;\" transform=\"translate(4.654688 1488.355151)scale(0.1 -0.1)\">\n       <use xlink:href=\"#DejaVuSans-79\"/>\n       <use x=\"78.710938\" xlink:href=\"#DejaVuSans-114\"/>\n       <use x=\"119.824219\" xlink:href=\"#DejaVuSans-105\"/>\n       <use x=\"147.607422\" xlink:href=\"#DejaVuSans-103\"/>\n       <use x=\"211.083984\" xlink:href=\"#DejaVuSans-105\"/>\n       <use x=\"238.867188\" xlink:href=\"#DejaVuSans-110\"/>\n       <use x=\"302.246094\" xlink:href=\"#DejaVuSans-97\"/>\n       <use x=\"363.525391\" xlink:href=\"#DejaVuSans-108\"/>\n       <use x=\"391.308594\" xlink:href=\"#DejaVuSans-95\"/>\n       <use x=\"441.308594\" xlink:href=\"#DejaVuSans-81\"/>\n       <use x=\"520.019531\" xlink:href=\"#DejaVuSans-117\"/>\n       <use x=\"583.398438\" xlink:href=\"#DejaVuSans-111\"/>\n       <use x=\"644.580078\" xlink:href=\"#DejaVuSans-116\"/>\n       <use x=\"683.789062\" xlink:href=\"#DejaVuSans-101\"/>\n       <use x=\"745.3125\" xlink:href=\"#DejaVuSans-95\"/>\n       <use x=\"795.3125\" xlink:href=\"#DejaVuSans-73\"/>\n       <use x=\"824.804688\" xlink:href=\"#DejaVuSans-115\"/>\n       <use x=\"876.904297\" xlink:href=\"#DejaVuSans-95\"/>\n       <use x=\"926.904297\" xlink:href=\"#DejaVuSans-109\"/>\n       <use x=\"1024.316406\" xlink:href=\"#DejaVuSans-111\"/>\n       <use x=\"1085.498047\" xlink:href=\"#DejaVuSans-110\"/>\n       <use x=\"1148.876953\" xlink:href=\"#DejaVuSans-116\"/>\n       <use x=\"1188.085938\" xlink:href=\"#DejaVuSans-104\"/>\n       <use x=\"1251.464844\" xlink:href=\"#DejaVuSans-95\"/>\n       <use x=\"1301.464844\" xlink:href=\"#DejaVuSans-115\"/>\n       <use x=\"1353.564453\" xlink:href=\"#DejaVuSans-116\"/>\n       <use x=\"1392.773438\" xlink:href=\"#DejaVuSans-97\"/>\n       <use x=\"1454.052734\" xlink:href=\"#DejaVuSans-114\"/>\n       <use x=\"1495.166016\" xlink:href=\"#DejaVuSans-116\"/>\n      </g>\n     </g>\n    </g>\n    <g id=\"ytick_96\">\n     <g id=\"line2d_99\">\n      <g>\n       <use style=\"stroke:#000000;stroke-width:0.8;\" x=\"165.090625\" xlink:href=\"#m85187e86d9\" y=\"1500.257966\"/>\n      </g>\n     </g>\n     <g id=\"text_99\">\n      <!-- Original_Quote_Is_quarter_end -->\n      <defs>\n       <path d=\"M 14.796875 27.296875 \nQ 14.796875 17.390625 18.875 11.75 \nQ 22.953125 6.109375 30.078125 6.109375 \nQ 37.203125 6.109375 41.296875 11.75 \nQ 45.40625 17.390625 45.40625 27.296875 \nQ 45.40625 37.203125 41.296875 42.84375 \nQ 37.203125 48.484375 30.078125 48.484375 \nQ 22.953125 48.484375 18.875 42.84375 \nQ 14.796875 37.203125 14.796875 27.296875 \nz\nM 45.40625 8.203125 \nQ 42.578125 3.328125 38.25 0.953125 \nQ 33.9375 -1.421875 27.875 -1.421875 \nQ 17.96875 -1.421875 11.734375 6.484375 \nQ 5.515625 14.40625 5.515625 27.296875 \nQ 5.515625 40.1875 11.734375 48.09375 \nQ 17.96875 56 27.875 56 \nQ 33.9375 56 38.25 53.625 \nQ 42.578125 51.265625 45.40625 46.390625 \nL 45.40625 54.6875 \nL 54.390625 54.6875 \nL 54.390625 -20.796875 \nL 45.40625 -20.796875 \nz\n\" id=\"DejaVuSans-113\"/>\n      </defs>\n      <g style=\"fill:#444443;\" transform=\"translate(4.45 1504.057185)scale(0.1 -0.1)\">\n       <use xlink:href=\"#DejaVuSans-79\"/>\n       <use x=\"78.710938\" xlink:href=\"#DejaVuSans-114\"/>\n       <use x=\"119.824219\" xlink:href=\"#DejaVuSans-105\"/>\n       <use x=\"147.607422\" xlink:href=\"#DejaVuSans-103\"/>\n       <use x=\"211.083984\" xlink:href=\"#DejaVuSans-105\"/>\n       <use x=\"238.867188\" xlink:href=\"#DejaVuSans-110\"/>\n       <use x=\"302.246094\" xlink:href=\"#DejaVuSans-97\"/>\n       <use x=\"363.525391\" xlink:href=\"#DejaVuSans-108\"/>\n       <use x=\"391.308594\" xlink:href=\"#DejaVuSans-95\"/>\n       <use x=\"441.308594\" xlink:href=\"#DejaVuSans-81\"/>\n       <use x=\"520.019531\" xlink:href=\"#DejaVuSans-117\"/>\n       <use x=\"583.398438\" xlink:href=\"#DejaVuSans-111\"/>\n       <use x=\"644.580078\" xlink:href=\"#DejaVuSans-116\"/>\n       <use x=\"683.789062\" xlink:href=\"#DejaVuSans-101\"/>\n       <use x=\"745.3125\" xlink:href=\"#DejaVuSans-95\"/>\n       <use x=\"795.3125\" xlink:href=\"#DejaVuSans-73\"/>\n       <use x=\"824.804688\" xlink:href=\"#DejaVuSans-115\"/>\n       <use x=\"876.904297\" xlink:href=\"#DejaVuSans-95\"/>\n       <use x=\"926.904297\" xlink:href=\"#DejaVuSans-113\"/>\n       <use x=\"990.380859\" xlink:href=\"#DejaVuSans-117\"/>\n       <use x=\"1053.759766\" xlink:href=\"#DejaVuSans-97\"/>\n       <use x=\"1115.039062\" xlink:href=\"#DejaVuSans-114\"/>\n       <use x=\"1156.152344\" xlink:href=\"#DejaVuSans-116\"/>\n       <use x=\"1195.361328\" xlink:href=\"#DejaVuSans-101\"/>\n       <use x=\"1256.884766\" xlink:href=\"#DejaVuSans-114\"/>\n       <use x=\"1297.998047\" xlink:href=\"#DejaVuSans-95\"/>\n       <use x=\"1347.998047\" xlink:href=\"#DejaVuSans-101\"/>\n       <use x=\"1409.521484\" xlink:href=\"#DejaVuSans-110\"/>\n       <use x=\"1472.900391\" xlink:href=\"#DejaVuSans-100\"/>\n      </g>\n     </g>\n    </g>\n    <g id=\"ytick_97\">\n     <g id=\"line2d_100\">\n      <g>\n       <use style=\"stroke:#000000;stroke-width:0.8;\" x=\"165.090625\" xlink:href=\"#m85187e86d9\" y=\"1515.96\"/>\n      </g>\n     </g>\n     <g id=\"text_100\">\n      <!-- PersonalField34 -->\n      <g style=\"fill:#444443;\" transform=\"translate(79.778125 1519.759219)scale(0.1 -0.1)\">\n       <use xlink:href=\"#DejaVuSans-80\"/>\n       <use x=\"56.677734\" xlink:href=\"#DejaVuSans-101\"/>\n       <use x=\"118.201172\" xlink:href=\"#DejaVuSans-114\"/>\n       <use x=\"159.314453\" xlink:href=\"#DejaVuSans-115\"/>\n       <use x=\"211.414062\" xlink:href=\"#DejaVuSans-111\"/>\n       <use x=\"272.595703\" xlink:href=\"#DejaVuSans-110\"/>\n       <use x=\"335.974609\" xlink:href=\"#DejaVuSans-97\"/>\n       <use x=\"397.253906\" xlink:href=\"#DejaVuSans-108\"/>\n       <use x=\"425.037109\" xlink:href=\"#DejaVuSans-70\"/>\n       <use x=\"475.306641\" xlink:href=\"#DejaVuSans-105\"/>\n       <use x=\"503.089844\" xlink:href=\"#DejaVuSans-101\"/>\n       <use x=\"564.613281\" xlink:href=\"#DejaVuSans-108\"/>\n       <use x=\"592.396484\" xlink:href=\"#DejaVuSans-100\"/>\n       <use x=\"655.873047\" xlink:href=\"#DejaVuSans-51\"/>\n       <use x=\"719.496094\" xlink:href=\"#DejaVuSans-52\"/>\n      </g>\n     </g>\n    </g>\n    <g id=\"ytick_98\">\n     <g id=\"line2d_101\">\n      <g>\n       <use style=\"stroke:#000000;stroke-width:0.8;\" x=\"165.090625\" xlink:href=\"#m85187e86d9\" y=\"1531.662034\"/>\n      </g>\n     </g>\n     <g id=\"text_101\">\n      <!-- Original_Quote_Is_quarter_start -->\n      <g style=\"fill:#444443;\" transform=\"translate(0 1535.461253)scale(0.1 -0.1)\">\n       <use xlink:href=\"#DejaVuSans-79\"/>\n       <use x=\"78.710938\" xlink:href=\"#DejaVuSans-114\"/>\n       <use x=\"119.824219\" xlink:href=\"#DejaVuSans-105\"/>\n       <use x=\"147.607422\" xlink:href=\"#DejaVuSans-103\"/>\n       <use x=\"211.083984\" xlink:href=\"#DejaVuSans-105\"/>\n       <use x=\"238.867188\" xlink:href=\"#DejaVuSans-110\"/>\n       <use x=\"302.246094\" xlink:href=\"#DejaVuSans-97\"/>\n       <use x=\"363.525391\" xlink:href=\"#DejaVuSans-108\"/>\n       <use x=\"391.308594\" xlink:href=\"#DejaVuSans-95\"/>\n       <use x=\"441.308594\" xlink:href=\"#DejaVuSans-81\"/>\n       <use x=\"520.019531\" xlink:href=\"#DejaVuSans-117\"/>\n       <use x=\"583.398438\" xlink:href=\"#DejaVuSans-111\"/>\n       <use x=\"644.580078\" xlink:href=\"#DejaVuSans-116\"/>\n       <use x=\"683.789062\" xlink:href=\"#DejaVuSans-101\"/>\n       <use x=\"745.3125\" xlink:href=\"#DejaVuSans-95\"/>\n       <use x=\"795.3125\" xlink:href=\"#DejaVuSans-73\"/>\n       <use x=\"824.804688\" xlink:href=\"#DejaVuSans-115\"/>\n       <use x=\"876.904297\" xlink:href=\"#DejaVuSans-95\"/>\n       <use x=\"926.904297\" xlink:href=\"#DejaVuSans-113\"/>\n       <use x=\"990.380859\" xlink:href=\"#DejaVuSans-117\"/>\n       <use x=\"1053.759766\" xlink:href=\"#DejaVuSans-97\"/>\n       <use x=\"1115.039062\" xlink:href=\"#DejaVuSans-114\"/>\n       <use x=\"1156.152344\" xlink:href=\"#DejaVuSans-116\"/>\n       <use x=\"1195.361328\" xlink:href=\"#DejaVuSans-101\"/>\n       <use x=\"1256.884766\" xlink:href=\"#DejaVuSans-114\"/>\n       <use x=\"1297.998047\" xlink:href=\"#DejaVuSans-95\"/>\n       <use x=\"1347.998047\" xlink:href=\"#DejaVuSans-115\"/>\n       <use x=\"1400.097656\" xlink:href=\"#DejaVuSans-116\"/>\n       <use x=\"1439.306641\" xlink:href=\"#DejaVuSans-97\"/>\n       <use x=\"1500.585938\" xlink:href=\"#DejaVuSans-114\"/>\n       <use x=\"1541.699219\" xlink:href=\"#DejaVuSans-116\"/>\n      </g>\n     </g>\n    </g>\n    <g id=\"ytick_99\">\n     <g id=\"line2d_102\">\n      <g>\n       <use style=\"stroke:#000000;stroke-width:0.8;\" x=\"165.090625\" xlink:href=\"#m85187e86d9\" y=\"1547.364068\"/>\n      </g>\n     </g>\n     <g id=\"text_102\">\n      <!-- Original_Quote_Is_year_end -->\n      <g style=\"fill:#444443;\" transform=\"translate(19.248438 1551.163287)scale(0.1 -0.1)\">\n       <use xlink:href=\"#DejaVuSans-79\"/>\n       <use x=\"78.710938\" xlink:href=\"#DejaVuSans-114\"/>\n       <use x=\"119.824219\" xlink:href=\"#DejaVuSans-105\"/>\n       <use x=\"147.607422\" xlink:href=\"#DejaVuSans-103\"/>\n       <use x=\"211.083984\" xlink:href=\"#DejaVuSans-105\"/>\n       <use x=\"238.867188\" xlink:href=\"#DejaVuSans-110\"/>\n       <use x=\"302.246094\" xlink:href=\"#DejaVuSans-97\"/>\n       <use x=\"363.525391\" xlink:href=\"#DejaVuSans-108\"/>\n       <use x=\"391.308594\" xlink:href=\"#DejaVuSans-95\"/>\n       <use x=\"441.308594\" xlink:href=\"#DejaVuSans-81\"/>\n       <use x=\"520.019531\" xlink:href=\"#DejaVuSans-117\"/>\n       <use x=\"583.398438\" xlink:href=\"#DejaVuSans-111\"/>\n       <use x=\"644.580078\" xlink:href=\"#DejaVuSans-116\"/>\n       <use x=\"683.789062\" xlink:href=\"#DejaVuSans-101\"/>\n       <use x=\"745.3125\" xlink:href=\"#DejaVuSans-95\"/>\n       <use x=\"795.3125\" xlink:href=\"#DejaVuSans-73\"/>\n       <use x=\"824.804688\" xlink:href=\"#DejaVuSans-115\"/>\n       <use x=\"876.904297\" xlink:href=\"#DejaVuSans-95\"/>\n       <use x=\"926.904297\" xlink:href=\"#DejaVuSans-121\"/>\n       <use x=\"986.083984\" xlink:href=\"#DejaVuSans-101\"/>\n       <use x=\"1047.607422\" xlink:href=\"#DejaVuSans-97\"/>\n       <use x=\"1108.886719\" xlink:href=\"#DejaVuSans-114\"/>\n       <use x=\"1150\" xlink:href=\"#DejaVuSans-95\"/>\n       <use x=\"1200\" xlink:href=\"#DejaVuSans-101\"/>\n       <use x=\"1261.523438\" xlink:href=\"#DejaVuSans-110\"/>\n       <use x=\"1324.902344\" xlink:href=\"#DejaVuSans-100\"/>\n      </g>\n     </g>\n    </g>\n    <g id=\"ytick_100\">\n     <g id=\"line2d_103\">\n      <g>\n       <use style=\"stroke:#000000;stroke-width:0.8;\" x=\"165.090625\" xlink:href=\"#m85187e86d9\" y=\"1563.066102\"/>\n      </g>\n     </g>\n     <g id=\"text_103\">\n      <!-- Original_Quote_Dayofweek -->\n      <defs>\n       <path d=\"M 37.109375 75.984375 \nL 37.109375 68.5 \nL 28.515625 68.5 \nQ 23.6875 68.5 21.796875 66.546875 \nQ 19.921875 64.59375 19.921875 59.515625 \nL 19.921875 54.6875 \nL 34.71875 54.6875 \nL 34.71875 47.703125 \nL 19.921875 47.703125 \nL 19.921875 0 \nL 10.890625 0 \nL 10.890625 47.703125 \nL 2.296875 47.703125 \nL 2.296875 54.6875 \nL 10.890625 54.6875 \nL 10.890625 58.5 \nQ 10.890625 67.625 15.140625 71.796875 \nQ 19.390625 75.984375 28.609375 75.984375 \nz\n\" id=\"DejaVuSans-102\"/>\n       <path d=\"M 4.203125 54.6875 \nL 13.1875 54.6875 \nL 24.421875 12.015625 \nL 35.59375 54.6875 \nL 46.1875 54.6875 \nL 57.421875 12.015625 \nL 68.609375 54.6875 \nL 77.59375 54.6875 \nL 63.28125 0 \nL 52.6875 0 \nL 40.921875 44.828125 \nL 29.109375 0 \nL 18.5 0 \nz\n\" id=\"DejaVuSans-119\"/>\n       <path d=\"M 9.078125 75.984375 \nL 18.109375 75.984375 \nL 18.109375 31.109375 \nL 44.921875 54.6875 \nL 56.390625 54.6875 \nL 27.390625 29.109375 \nL 57.625 0 \nL 45.90625 0 \nL 18.109375 26.703125 \nL 18.109375 0 \nL 9.078125 0 \nz\n\" id=\"DejaVuSans-107\"/>\n      </defs>\n      <g style=\"fill:#444443;\" transform=\"translate(23.071875 1566.86532)scale(0.1 -0.1)\">\n       <use xlink:href=\"#DejaVuSans-79\"/>\n       <use x=\"78.710938\" xlink:href=\"#DejaVuSans-114\"/>\n       <use x=\"119.824219\" xlink:href=\"#DejaVuSans-105\"/>\n       <use x=\"147.607422\" xlink:href=\"#DejaVuSans-103\"/>\n       <use x=\"211.083984\" xlink:href=\"#DejaVuSans-105\"/>\n       <use x=\"238.867188\" xlink:href=\"#DejaVuSans-110\"/>\n       <use x=\"302.246094\" xlink:href=\"#DejaVuSans-97\"/>\n       <use x=\"363.525391\" xlink:href=\"#DejaVuSans-108\"/>\n       <use x=\"391.308594\" xlink:href=\"#DejaVuSans-95\"/>\n       <use x=\"441.308594\" xlink:href=\"#DejaVuSans-81\"/>\n       <use x=\"520.019531\" xlink:href=\"#DejaVuSans-117\"/>\n       <use x=\"583.398438\" xlink:href=\"#DejaVuSans-111\"/>\n       <use x=\"644.580078\" xlink:href=\"#DejaVuSans-116\"/>\n       <use x=\"683.789062\" xlink:href=\"#DejaVuSans-101\"/>\n       <use x=\"745.3125\" xlink:href=\"#DejaVuSans-95\"/>\n       <use x=\"795.3125\" xlink:href=\"#DejaVuSans-68\"/>\n       <use x=\"872.314453\" xlink:href=\"#DejaVuSans-97\"/>\n       <use x=\"933.59375\" xlink:href=\"#DejaVuSans-121\"/>\n       <use x=\"992.773438\" xlink:href=\"#DejaVuSans-111\"/>\n       <use x=\"1053.955078\" xlink:href=\"#DejaVuSans-102\"/>\n       <use x=\"1087.410156\" xlink:href=\"#DejaVuSans-119\"/>\n       <use x=\"1169.197266\" xlink:href=\"#DejaVuSans-101\"/>\n       <use x=\"1230.720703\" xlink:href=\"#DejaVuSans-101\"/>\n       <use x=\"1292.244141\" xlink:href=\"#DejaVuSans-107\"/>\n      </g>\n     </g>\n    </g>\n    <g id=\"ytick_101\">\n     <g id=\"line2d_104\">\n      <g>\n       <use style=\"stroke:#000000;stroke-width:0.8;\" x=\"165.090625\" xlink:href=\"#m85187e86d9\" y=\"1578.768136\"/>\n      </g>\n     </g>\n     <g id=\"text_104\">\n      <!-- GeographicField23A -->\n      <g style=\"fill:#444443;\" transform=\"translate(57.870313 1582.567354)scale(0.1 -0.1)\">\n       <use xlink:href=\"#DejaVuSans-71\"/>\n       <use x=\"77.490234\" xlink:href=\"#DejaVuSans-101\"/>\n       <use x=\"139.013672\" xlink:href=\"#DejaVuSans-111\"/>\n       <use x=\"200.195312\" xlink:href=\"#DejaVuSans-103\"/>\n       <use x=\"263.671875\" xlink:href=\"#DejaVuSans-114\"/>\n       <use x=\"304.785156\" xlink:href=\"#DejaVuSans-97\"/>\n       <use x=\"366.064453\" xlink:href=\"#DejaVuSans-112\"/>\n       <use x=\"429.541016\" xlink:href=\"#DejaVuSans-104\"/>\n       <use x=\"492.919922\" xlink:href=\"#DejaVuSans-105\"/>\n       <use x=\"520.703125\" xlink:href=\"#DejaVuSans-99\"/>\n       <use x=\"575.683594\" xlink:href=\"#DejaVuSans-70\"/>\n       <use x=\"625.953125\" xlink:href=\"#DejaVuSans-105\"/>\n       <use x=\"653.736328\" xlink:href=\"#DejaVuSans-101\"/>\n       <use x=\"715.259766\" xlink:href=\"#DejaVuSans-108\"/>\n       <use x=\"743.042969\" xlink:href=\"#DejaVuSans-100\"/>\n       <use x=\"806.519531\" xlink:href=\"#DejaVuSans-50\"/>\n       <use x=\"870.142578\" xlink:href=\"#DejaVuSans-51\"/>\n       <use x=\"933.765625\" xlink:href=\"#DejaVuSans-65\"/>\n      </g>\n     </g>\n    </g>\n    <g id=\"ytick_102\">\n     <g id=\"line2d_105\">\n      <g>\n       <use style=\"stroke:#000000;stroke-width:0.8;\" x=\"165.090625\" xlink:href=\"#m85187e86d9\" y=\"1594.470169\"/>\n      </g>\n     </g>\n     <g id=\"text_105\">\n      <!-- Original_Quote_Is_month_end -->\n      <g style=\"fill:#444443;\" transform=\"translate(9.104688 1598.269388)scale(0.1 -0.1)\">\n       <use xlink:href=\"#DejaVuSans-79\"/>\n       <use x=\"78.710938\" xlink:href=\"#DejaVuSans-114\"/>\n       <use x=\"119.824219\" xlink:href=\"#DejaVuSans-105\"/>\n       <use x=\"147.607422\" xlink:href=\"#DejaVuSans-103\"/>\n       <use x=\"211.083984\" xlink:href=\"#DejaVuSans-105\"/>\n       <use x=\"238.867188\" xlink:href=\"#DejaVuSans-110\"/>\n       <use x=\"302.246094\" xlink:href=\"#DejaVuSans-97\"/>\n       <use x=\"363.525391\" xlink:href=\"#DejaVuSans-108\"/>\n       <use x=\"391.308594\" xlink:href=\"#DejaVuSans-95\"/>\n       <use x=\"441.308594\" xlink:href=\"#DejaVuSans-81\"/>\n       <use x=\"520.019531\" xlink:href=\"#DejaVuSans-117\"/>\n       <use x=\"583.398438\" xlink:href=\"#DejaVuSans-111\"/>\n       <use x=\"644.580078\" xlink:href=\"#DejaVuSans-116\"/>\n       <use x=\"683.789062\" xlink:href=\"#DejaVuSans-101\"/>\n       <use x=\"745.3125\" xlink:href=\"#DejaVuSans-95\"/>\n       <use x=\"795.3125\" xlink:href=\"#DejaVuSans-73\"/>\n       <use x=\"824.804688\" xlink:href=\"#DejaVuSans-115\"/>\n       <use x=\"876.904297\" xlink:href=\"#DejaVuSans-95\"/>\n       <use x=\"926.904297\" xlink:href=\"#DejaVuSans-109\"/>\n       <use x=\"1024.316406\" xlink:href=\"#DejaVuSans-111\"/>\n       <use x=\"1085.498047\" xlink:href=\"#DejaVuSans-110\"/>\n       <use x=\"1148.876953\" xlink:href=\"#DejaVuSans-116\"/>\n       <use x=\"1188.085938\" xlink:href=\"#DejaVuSans-104\"/>\n       <use x=\"1251.464844\" xlink:href=\"#DejaVuSans-95\"/>\n       <use x=\"1301.464844\" xlink:href=\"#DejaVuSans-101\"/>\n       <use x=\"1362.988281\" xlink:href=\"#DejaVuSans-110\"/>\n       <use x=\"1426.367188\" xlink:href=\"#DejaVuSans-100\"/>\n      </g>\n     </g>\n    </g>\n    <g id=\"ytick_103\">\n     <g id=\"line2d_106\">\n      <g>\n       <use style=\"stroke:#000000;stroke-width:0.8;\" x=\"165.090625\" xlink:href=\"#m85187e86d9\" y=\"1610.172203\"/>\n      </g>\n     </g>\n     <g id=\"text_106\">\n      <!-- GeographicField56A -->\n      <g style=\"fill:#444443;\" transform=\"translate(57.870313 1613.971422)scale(0.1 -0.1)\">\n       <use xlink:href=\"#DejaVuSans-71\"/>\n       <use x=\"77.490234\" xlink:href=\"#DejaVuSans-101\"/>\n       <use x=\"139.013672\" xlink:href=\"#DejaVuSans-111\"/>\n       <use x=\"200.195312\" xlink:href=\"#DejaVuSans-103\"/>\n       <use x=\"263.671875\" xlink:href=\"#DejaVuSans-114\"/>\n       <use x=\"304.785156\" xlink:href=\"#DejaVuSans-97\"/>\n       <use x=\"366.064453\" xlink:href=\"#DejaVuSans-112\"/>\n       <use x=\"429.541016\" xlink:href=\"#DejaVuSans-104\"/>\n       <use x=\"492.919922\" xlink:href=\"#DejaVuSans-105\"/>\n       <use x=\"520.703125\" xlink:href=\"#DejaVuSans-99\"/>\n       <use x=\"575.683594\" xlink:href=\"#DejaVuSans-70\"/>\n       <use x=\"625.953125\" xlink:href=\"#DejaVuSans-105\"/>\n       <use x=\"653.736328\" xlink:href=\"#DejaVuSans-101\"/>\n       <use x=\"715.259766\" xlink:href=\"#DejaVuSans-108\"/>\n       <use x=\"743.042969\" xlink:href=\"#DejaVuSans-100\"/>\n       <use x=\"806.519531\" xlink:href=\"#DejaVuSans-53\"/>\n       <use x=\"870.142578\" xlink:href=\"#DejaVuSans-54\"/>\n       <use x=\"933.765625\" xlink:href=\"#DejaVuSans-65\"/>\n      </g>\n     </g>\n    </g>\n    <g id=\"ytick_104\">\n     <g id=\"line2d_107\">\n      <g>\n       <use style=\"stroke:#000000;stroke-width:0.8;\" x=\"165.090625\" xlink:href=\"#m85187e86d9\" y=\"1625.874237\"/>\n      </g>\n     </g>\n     <g id=\"text_107\">\n      <!-- GeographicField60A -->\n      <g style=\"fill:#444443;\" transform=\"translate(57.870313 1629.673456)scale(0.1 -0.1)\">\n       <use xlink:href=\"#DejaVuSans-71\"/>\n       <use x=\"77.490234\" xlink:href=\"#DejaVuSans-101\"/>\n       <use x=\"139.013672\" xlink:href=\"#DejaVuSans-111\"/>\n       <use x=\"200.195312\" xlink:href=\"#DejaVuSans-103\"/>\n       <use x=\"263.671875\" xlink:href=\"#DejaVuSans-114\"/>\n       <use x=\"304.785156\" xlink:href=\"#DejaVuSans-97\"/>\n       <use x=\"366.064453\" xlink:href=\"#DejaVuSans-112\"/>\n       <use x=\"429.541016\" xlink:href=\"#DejaVuSans-104\"/>\n       <use x=\"492.919922\" xlink:href=\"#DejaVuSans-105\"/>\n       <use x=\"520.703125\" xlink:href=\"#DejaVuSans-99\"/>\n       <use x=\"575.683594\" xlink:href=\"#DejaVuSans-70\"/>\n       <use x=\"625.953125\" xlink:href=\"#DejaVuSans-105\"/>\n       <use x=\"653.736328\" xlink:href=\"#DejaVuSans-101\"/>\n       <use x=\"715.259766\" xlink:href=\"#DejaVuSans-108\"/>\n       <use x=\"743.042969\" xlink:href=\"#DejaVuSans-100\"/>\n       <use x=\"806.519531\" xlink:href=\"#DejaVuSans-54\"/>\n       <use x=\"870.142578\" xlink:href=\"#DejaVuSans-48\"/>\n       <use x=\"933.765625\" xlink:href=\"#DejaVuSans-65\"/>\n      </g>\n     </g>\n    </g>\n    <g id=\"ytick_105\">\n     <g id=\"line2d_108\">\n      <g>\n       <use style=\"stroke:#000000;stroke-width:0.8;\" x=\"165.090625\" xlink:href=\"#m85187e86d9\" y=\"1641.576271\"/>\n      </g>\n     </g>\n     <g id=\"text_108\">\n      <!-- GeographicField61A -->\n      <g style=\"fill:#444443;\" transform=\"translate(57.870313 1645.37549)scale(0.1 -0.1)\">\n       <use xlink:href=\"#DejaVuSans-71\"/>\n       <use x=\"77.490234\" xlink:href=\"#DejaVuSans-101\"/>\n       <use x=\"139.013672\" xlink:href=\"#DejaVuSans-111\"/>\n       <use x=\"200.195312\" xlink:href=\"#DejaVuSans-103\"/>\n       <use x=\"263.671875\" xlink:href=\"#DejaVuSans-114\"/>\n       <use x=\"304.785156\" xlink:href=\"#DejaVuSans-97\"/>\n       <use x=\"366.064453\" xlink:href=\"#DejaVuSans-112\"/>\n       <use x=\"429.541016\" xlink:href=\"#DejaVuSans-104\"/>\n       <use x=\"492.919922\" xlink:href=\"#DejaVuSans-105\"/>\n       <use x=\"520.703125\" xlink:href=\"#DejaVuSans-99\"/>\n       <use x=\"575.683594\" xlink:href=\"#DejaVuSans-70\"/>\n       <use x=\"625.953125\" xlink:href=\"#DejaVuSans-105\"/>\n       <use x=\"653.736328\" xlink:href=\"#DejaVuSans-101\"/>\n       <use x=\"715.259766\" xlink:href=\"#DejaVuSans-108\"/>\n       <use x=\"743.042969\" xlink:href=\"#DejaVuSans-100\"/>\n       <use x=\"806.519531\" xlink:href=\"#DejaVuSans-54\"/>\n       <use x=\"870.142578\" xlink:href=\"#DejaVuSans-49\"/>\n       <use x=\"933.765625\" xlink:href=\"#DejaVuSans-65\"/>\n      </g>\n     </g>\n    </g>\n    <g id=\"ytick_106\">\n     <g id=\"line2d_109\">\n      <g>\n       <use style=\"stroke:#000000;stroke-width:0.8;\" x=\"165.090625\" xlink:href=\"#m85187e86d9\" y=\"1657.278305\"/>\n      </g>\n     </g>\n     <g id=\"text_109\">\n      <!-- GeographicField64 -->\n      <g style=\"fill:#444443;\" transform=\"translate(64.710938 1661.077524)scale(0.1 -0.1)\">\n       <use xlink:href=\"#DejaVuSans-71\"/>\n       <use x=\"77.490234\" xlink:href=\"#DejaVuSans-101\"/>\n       <use x=\"139.013672\" xlink:href=\"#DejaVuSans-111\"/>\n       <use x=\"200.195312\" xlink:href=\"#DejaVuSans-103\"/>\n       <use x=\"263.671875\" xlink:href=\"#DejaVuSans-114\"/>\n       <use x=\"304.785156\" xlink:href=\"#DejaVuSans-97\"/>\n       <use x=\"366.064453\" xlink:href=\"#DejaVuSans-112\"/>\n       <use x=\"429.541016\" xlink:href=\"#DejaVuSans-104\"/>\n       <use x=\"492.919922\" xlink:href=\"#DejaVuSans-105\"/>\n       <use x=\"520.703125\" xlink:href=\"#DejaVuSans-99\"/>\n       <use x=\"575.683594\" xlink:href=\"#DejaVuSans-70\"/>\n       <use x=\"625.953125\" xlink:href=\"#DejaVuSans-105\"/>\n       <use x=\"653.736328\" xlink:href=\"#DejaVuSans-101\"/>\n       <use x=\"715.259766\" xlink:href=\"#DejaVuSans-108\"/>\n       <use x=\"743.042969\" xlink:href=\"#DejaVuSans-100\"/>\n       <use x=\"806.519531\" xlink:href=\"#DejaVuSans-54\"/>\n       <use x=\"870.142578\" xlink:href=\"#DejaVuSans-52\"/>\n      </g>\n     </g>\n    </g>\n    <g id=\"ytick_107\">\n     <g id=\"line2d_110\">\n      <g>\n       <use style=\"stroke:#000000;stroke-width:0.8;\" x=\"165.090625\" xlink:href=\"#m85187e86d9\" y=\"1672.980339\"/>\n      </g>\n     </g>\n     <g id=\"text_110\">\n      <!-- GeographicField63 -->\n      <g style=\"fill:#444443;\" transform=\"translate(64.710938 1676.779558)scale(0.1 -0.1)\">\n       <use xlink:href=\"#DejaVuSans-71\"/>\n       <use x=\"77.490234\" xlink:href=\"#DejaVuSans-101\"/>\n       <use x=\"139.013672\" xlink:href=\"#DejaVuSans-111\"/>\n       <use x=\"200.195312\" xlink:href=\"#DejaVuSans-103\"/>\n       <use x=\"263.671875\" xlink:href=\"#DejaVuSans-114\"/>\n       <use x=\"304.785156\" xlink:href=\"#DejaVuSans-97\"/>\n       <use x=\"366.064453\" xlink:href=\"#DejaVuSans-112\"/>\n       <use x=\"429.541016\" xlink:href=\"#DejaVuSans-104\"/>\n       <use x=\"492.919922\" xlink:href=\"#DejaVuSans-105\"/>\n       <use x=\"520.703125\" xlink:href=\"#DejaVuSans-99\"/>\n       <use x=\"575.683594\" xlink:href=\"#DejaVuSans-70\"/>\n       <use x=\"625.953125\" xlink:href=\"#DejaVuSans-105\"/>\n       <use x=\"653.736328\" xlink:href=\"#DejaVuSans-101\"/>\n       <use x=\"715.259766\" xlink:href=\"#DejaVuSans-108\"/>\n       <use x=\"743.042969\" xlink:href=\"#DejaVuSans-100\"/>\n       <use x=\"806.519531\" xlink:href=\"#DejaVuSans-54\"/>\n       <use x=\"870.142578\" xlink:href=\"#DejaVuSans-51\"/>\n      </g>\n     </g>\n    </g>\n    <g id=\"ytick_108\">\n     <g id=\"line2d_111\">\n      <g>\n       <use style=\"stroke:#000000;stroke-width:0.8;\" x=\"165.090625\" xlink:href=\"#m85187e86d9\" y=\"1688.682373\"/>\n      </g>\n     </g>\n     <g id=\"text_111\">\n      <!-- PersonalField84_na -->\n      <g style=\"fill:#444443;\" transform=\"translate(62.3125 1692.481592)scale(0.1 -0.1)\">\n       <use xlink:href=\"#DejaVuSans-80\"/>\n       <use x=\"56.677734\" xlink:href=\"#DejaVuSans-101\"/>\n       <use x=\"118.201172\" xlink:href=\"#DejaVuSans-114\"/>\n       <use x=\"159.314453\" xlink:href=\"#DejaVuSans-115\"/>\n       <use x=\"211.414062\" xlink:href=\"#DejaVuSans-111\"/>\n       <use x=\"272.595703\" xlink:href=\"#DejaVuSans-110\"/>\n       <use x=\"335.974609\" xlink:href=\"#DejaVuSans-97\"/>\n       <use x=\"397.253906\" xlink:href=\"#DejaVuSans-108\"/>\n       <use x=\"425.037109\" xlink:href=\"#DejaVuSans-70\"/>\n       <use x=\"475.306641\" xlink:href=\"#DejaVuSans-105\"/>\n       <use x=\"503.089844\" xlink:href=\"#DejaVuSans-101\"/>\n       <use x=\"564.613281\" xlink:href=\"#DejaVuSans-108\"/>\n       <use x=\"592.396484\" xlink:href=\"#DejaVuSans-100\"/>\n       <use x=\"655.873047\" xlink:href=\"#DejaVuSans-56\"/>\n       <use x=\"719.496094\" xlink:href=\"#DejaVuSans-52\"/>\n       <use x=\"783.119141\" xlink:href=\"#DejaVuSans-95\"/>\n       <use x=\"833.119141\" xlink:href=\"#DejaVuSans-110\"/>\n       <use x=\"896.498047\" xlink:href=\"#DejaVuSans-97\"/>\n      </g>\n     </g>\n    </g>\n    <g id=\"ytick_109\">\n     <g id=\"line2d_112\">\n      <g>\n       <use style=\"stroke:#000000;stroke-width:0.8;\" x=\"165.090625\" xlink:href=\"#m85187e86d9\" y=\"1704.384407\"/>\n      </g>\n     </g>\n     <g id=\"text_112\">\n      <!-- GeographicField62A -->\n      <g style=\"fill:#444443;\" transform=\"translate(57.870313 1708.183626)scale(0.1 -0.1)\">\n       <use xlink:href=\"#DejaVuSans-71\"/>\n       <use x=\"77.490234\" xlink:href=\"#DejaVuSans-101\"/>\n       <use x=\"139.013672\" xlink:href=\"#DejaVuSans-111\"/>\n       <use x=\"200.195312\" xlink:href=\"#DejaVuSans-103\"/>\n       <use x=\"263.671875\" xlink:href=\"#DejaVuSans-114\"/>\n       <use x=\"304.785156\" xlink:href=\"#DejaVuSans-97\"/>\n       <use x=\"366.064453\" xlink:href=\"#DejaVuSans-112\"/>\n       <use x=\"429.541016\" xlink:href=\"#DejaVuSans-104\"/>\n       <use x=\"492.919922\" xlink:href=\"#DejaVuSans-105\"/>\n       <use x=\"520.703125\" xlink:href=\"#DejaVuSans-99\"/>\n       <use x=\"575.683594\" xlink:href=\"#DejaVuSans-70\"/>\n       <use x=\"625.953125\" xlink:href=\"#DejaVuSans-105\"/>\n       <use x=\"653.736328\" xlink:href=\"#DejaVuSans-101\"/>\n       <use x=\"715.259766\" xlink:href=\"#DejaVuSans-108\"/>\n       <use x=\"743.042969\" xlink:href=\"#DejaVuSans-100\"/>\n       <use x=\"806.519531\" xlink:href=\"#DejaVuSans-54\"/>\n       <use x=\"870.142578\" xlink:href=\"#DejaVuSans-50\"/>\n       <use x=\"933.765625\" xlink:href=\"#DejaVuSans-65\"/>\n      </g>\n     </g>\n    </g>\n    <g id=\"ytick_110\">\n     <g id=\"line2d_113\">\n      <g>\n       <use style=\"stroke:#000000;stroke-width:0.8;\" x=\"165.090625\" xlink:href=\"#m85187e86d9\" y=\"1720.086441\"/>\n      </g>\n     </g>\n     <g id=\"text_113\">\n      <!-- Original_Quote_Is_year_start -->\n      <g style=\"fill:#444443;\" transform=\"translate(14.798438 1723.885659)scale(0.1 -0.1)\">\n       <use xlink:href=\"#DejaVuSans-79\"/>\n       <use x=\"78.710938\" xlink:href=\"#DejaVuSans-114\"/>\n       <use x=\"119.824219\" xlink:href=\"#DejaVuSans-105\"/>\n       <use x=\"147.607422\" xlink:href=\"#DejaVuSans-103\"/>\n       <use x=\"211.083984\" xlink:href=\"#DejaVuSans-105\"/>\n       <use x=\"238.867188\" xlink:href=\"#DejaVuSans-110\"/>\n       <use x=\"302.246094\" xlink:href=\"#DejaVuSans-97\"/>\n       <use x=\"363.525391\" xlink:href=\"#DejaVuSans-108\"/>\n       <use x=\"391.308594\" xlink:href=\"#DejaVuSans-95\"/>\n       <use x=\"441.308594\" xlink:href=\"#DejaVuSans-81\"/>\n       <use x=\"520.019531\" xlink:href=\"#DejaVuSans-117\"/>\n       <use x=\"583.398438\" xlink:href=\"#DejaVuSans-111\"/>\n       <use x=\"644.580078\" xlink:href=\"#DejaVuSans-116\"/>\n       <use x=\"683.789062\" xlink:href=\"#DejaVuSans-101\"/>\n       <use x=\"745.3125\" xlink:href=\"#DejaVuSans-95\"/>\n       <use x=\"795.3125\" xlink:href=\"#DejaVuSans-73\"/>\n       <use x=\"824.804688\" xlink:href=\"#DejaVuSans-115\"/>\n       <use x=\"876.904297\" xlink:href=\"#DejaVuSans-95\"/>\n       <use x=\"926.904297\" xlink:href=\"#DejaVuSans-121\"/>\n       <use x=\"986.083984\" xlink:href=\"#DejaVuSans-101\"/>\n       <use x=\"1047.607422\" xlink:href=\"#DejaVuSans-97\"/>\n       <use x=\"1108.886719\" xlink:href=\"#DejaVuSans-114\"/>\n       <use x=\"1150\" xlink:href=\"#DejaVuSans-95\"/>\n       <use x=\"1200\" xlink:href=\"#DejaVuSans-115\"/>\n       <use x=\"1252.099609\" xlink:href=\"#DejaVuSans-116\"/>\n       <use x=\"1291.308594\" xlink:href=\"#DejaVuSans-97\"/>\n       <use x=\"1352.587891\" xlink:href=\"#DejaVuSans-114\"/>\n       <use x=\"1393.701172\" xlink:href=\"#DejaVuSans-116\"/>\n      </g>\n     </g>\n    </g>\n    <g id=\"ytick_111\">\n     <g id=\"line2d_114\">\n      <g>\n       <use style=\"stroke:#000000;stroke-width:0.8;\" x=\"165.090625\" xlink:href=\"#m85187e86d9\" y=\"1735.788475\"/>\n      </g>\n     </g>\n     <g id=\"text_114\">\n      <!-- PersonalField49 -->\n      <g style=\"fill:#444443;\" transform=\"translate(79.778125 1739.587693)scale(0.1 -0.1)\">\n       <use xlink:href=\"#DejaVuSans-80\"/>\n       <use x=\"56.677734\" xlink:href=\"#DejaVuSans-101\"/>\n       <use x=\"118.201172\" xlink:href=\"#DejaVuSans-114\"/>\n       <use x=\"159.314453\" xlink:href=\"#DejaVuSans-115\"/>\n       <use x=\"211.414062\" xlink:href=\"#DejaVuSans-111\"/>\n       <use x=\"272.595703\" xlink:href=\"#DejaVuSans-110\"/>\n       <use x=\"335.974609\" xlink:href=\"#DejaVuSans-97\"/>\n       <use x=\"397.253906\" xlink:href=\"#DejaVuSans-108\"/>\n       <use x=\"425.037109\" xlink:href=\"#DejaVuSans-70\"/>\n       <use x=\"475.306641\" xlink:href=\"#DejaVuSans-105\"/>\n       <use x=\"503.089844\" xlink:href=\"#DejaVuSans-101\"/>\n       <use x=\"564.613281\" xlink:href=\"#DejaVuSans-108\"/>\n       <use x=\"592.396484\" xlink:href=\"#DejaVuSans-100\"/>\n       <use x=\"655.873047\" xlink:href=\"#DejaVuSans-52\"/>\n       <use x=\"719.496094\" xlink:href=\"#DejaVuSans-57\"/>\n      </g>\n     </g>\n    </g>\n    <g id=\"ytick_112\">\n     <g id=\"line2d_115\">\n      <g>\n       <use style=\"stroke:#000000;stroke-width:0.8;\" x=\"165.090625\" xlink:href=\"#m85187e86d9\" y=\"1751.490508\"/>\n      </g>\n     </g>\n     <g id=\"text_115\">\n      <!-- Field10 -->\n      <g style=\"fill:#444443;\" transform=\"translate(122.28125 1755.289727)scale(0.1 -0.1)\">\n       <use xlink:href=\"#DejaVuSans-70\"/>\n       <use x=\"50.269531\" xlink:href=\"#DejaVuSans-105\"/>\n       <use x=\"78.052734\" xlink:href=\"#DejaVuSans-101\"/>\n       <use x=\"139.576172\" xlink:href=\"#DejaVuSans-108\"/>\n       <use x=\"167.359375\" xlink:href=\"#DejaVuSans-100\"/>\n       <use x=\"230.835938\" xlink:href=\"#DejaVuSans-49\"/>\n       <use x=\"294.458984\" xlink:href=\"#DejaVuSans-48\"/>\n      </g>\n     </g>\n    </g>\n    <g id=\"ytick_113\">\n     <g id=\"line2d_116\">\n      <g>\n       <use style=\"stroke:#000000;stroke-width:0.8;\" x=\"165.090625\" xlink:href=\"#m85187e86d9\" y=\"1767.192542\"/>\n      </g>\n     </g>\n     <g id=\"text_116\">\n      <!-- SalesField14 -->\n      <g style=\"fill:#444443;\" transform=\"translate(95.664063 1770.991761)scale(0.1 -0.1)\">\n       <use xlink:href=\"#DejaVuSans-83\"/>\n       <use x=\"63.476562\" xlink:href=\"#DejaVuSans-97\"/>\n       <use x=\"124.755859\" xlink:href=\"#DejaVuSans-108\"/>\n       <use x=\"152.539062\" xlink:href=\"#DejaVuSans-101\"/>\n       <use x=\"214.0625\" xlink:href=\"#DejaVuSans-115\"/>\n       <use x=\"266.162109\" xlink:href=\"#DejaVuSans-70\"/>\n       <use x=\"316.431641\" xlink:href=\"#DejaVuSans-105\"/>\n       <use x=\"344.214844\" xlink:href=\"#DejaVuSans-101\"/>\n       <use x=\"405.738281\" xlink:href=\"#DejaVuSans-108\"/>\n       <use x=\"433.521484\" xlink:href=\"#DejaVuSans-100\"/>\n       <use x=\"496.998047\" xlink:href=\"#DejaVuSans-49\"/>\n       <use x=\"560.621094\" xlink:href=\"#DejaVuSans-52\"/>\n      </g>\n     </g>\n    </g>\n    <g id=\"ytick_114\">\n     <g id=\"line2d_117\">\n      <g>\n       <use style=\"stroke:#000000;stroke-width:0.8;\" x=\"165.090625\" xlink:href=\"#m85187e86d9\" y=\"1782.894576\"/>\n      </g>\n     </g>\n     <g id=\"text_117\">\n      <!-- GeographicField1B -->\n      <g style=\"fill:#444443;\" transform=\"translate(64.2125 1786.693795)scale(0.1 -0.1)\">\n       <use xlink:href=\"#DejaVuSans-71\"/>\n       <use x=\"77.490234\" xlink:href=\"#DejaVuSans-101\"/>\n       <use x=\"139.013672\" xlink:href=\"#DejaVuSans-111\"/>\n       <use x=\"200.195312\" xlink:href=\"#DejaVuSans-103\"/>\n       <use x=\"263.671875\" xlink:href=\"#DejaVuSans-114\"/>\n       <use x=\"304.785156\" xlink:href=\"#DejaVuSans-97\"/>\n       <use x=\"366.064453\" xlink:href=\"#DejaVuSans-112\"/>\n       <use x=\"429.541016\" xlink:href=\"#DejaVuSans-104\"/>\n       <use x=\"492.919922\" xlink:href=\"#DejaVuSans-105\"/>\n       <use x=\"520.703125\" xlink:href=\"#DejaVuSans-99\"/>\n       <use x=\"575.683594\" xlink:href=\"#DejaVuSans-70\"/>\n       <use x=\"625.953125\" xlink:href=\"#DejaVuSans-105\"/>\n       <use x=\"653.736328\" xlink:href=\"#DejaVuSans-101\"/>\n       <use x=\"715.259766\" xlink:href=\"#DejaVuSans-108\"/>\n       <use x=\"743.042969\" xlink:href=\"#DejaVuSans-100\"/>\n       <use x=\"806.519531\" xlink:href=\"#DejaVuSans-49\"/>\n       <use x=\"870.142578\" xlink:href=\"#DejaVuSans-66\"/>\n      </g>\n     </g>\n    </g>\n    <g id=\"ytick_115\">\n     <g id=\"line2d_118\">\n      <g>\n       <use style=\"stroke:#000000;stroke-width:0.8;\" x=\"165.090625\" xlink:href=\"#m85187e86d9\" y=\"1798.59661\"/>\n      </g>\n     </g>\n     <g id=\"text_118\">\n      <!-- PropertyField39B -->\n      <g style=\"fill:#444443;\" transform=\"translate(73.109375 1802.395829)scale(0.1 -0.1)\">\n       <use xlink:href=\"#DejaVuSans-80\"/>\n       <use x=\"58.552734\" xlink:href=\"#DejaVuSans-114\"/>\n       <use x=\"97.416016\" xlink:href=\"#DejaVuSans-111\"/>\n       <use x=\"158.597656\" xlink:href=\"#DejaVuSans-112\"/>\n       <use x=\"222.074219\" xlink:href=\"#DejaVuSans-101\"/>\n       <use x=\"283.597656\" xlink:href=\"#DejaVuSans-114\"/>\n       <use x=\"324.710938\" xlink:href=\"#DejaVuSans-116\"/>\n       <use x=\"363.919922\" xlink:href=\"#DejaVuSans-121\"/>\n       <use x=\"423.099609\" xlink:href=\"#DejaVuSans-70\"/>\n       <use x=\"473.369141\" xlink:href=\"#DejaVuSans-105\"/>\n       <use x=\"501.152344\" xlink:href=\"#DejaVuSans-101\"/>\n       <use x=\"562.675781\" xlink:href=\"#DejaVuSans-108\"/>\n       <use x=\"590.458984\" xlink:href=\"#DejaVuSans-100\"/>\n       <use x=\"653.935547\" xlink:href=\"#DejaVuSans-51\"/>\n       <use x=\"717.558594\" xlink:href=\"#DejaVuSans-57\"/>\n       <use x=\"781.181641\" xlink:href=\"#DejaVuSans-66\"/>\n      </g>\n     </g>\n    </g>\n    <g id=\"ytick_116\">\n     <g id=\"line2d_119\">\n      <g>\n       <use style=\"stroke:#000000;stroke-width:0.8;\" x=\"165.090625\" xlink:href=\"#m85187e86d9\" y=\"1814.298644\"/>\n      </g>\n     </g>\n     <g id=\"text_119\">\n      <!-- PropertyField29 -->\n      <g style=\"fill:#444443;\" transform=\"translate(79.970313 1818.097863)scale(0.1 -0.1)\">\n       <use xlink:href=\"#DejaVuSans-80\"/>\n       <use x=\"58.552734\" xlink:href=\"#DejaVuSans-114\"/>\n       <use x=\"97.416016\" xlink:href=\"#DejaVuSans-111\"/>\n       <use x=\"158.597656\" xlink:href=\"#DejaVuSans-112\"/>\n       <use x=\"222.074219\" xlink:href=\"#DejaVuSans-101\"/>\n       <use x=\"283.597656\" xlink:href=\"#DejaVuSans-114\"/>\n       <use x=\"324.710938\" xlink:href=\"#DejaVuSans-116\"/>\n       <use x=\"363.919922\" xlink:href=\"#DejaVuSans-121\"/>\n       <use x=\"423.099609\" xlink:href=\"#DejaVuSans-70\"/>\n       <use x=\"473.369141\" xlink:href=\"#DejaVuSans-105\"/>\n       <use x=\"501.152344\" xlink:href=\"#DejaVuSans-101\"/>\n       <use x=\"562.675781\" xlink:href=\"#DejaVuSans-108\"/>\n       <use x=\"590.458984\" xlink:href=\"#DejaVuSans-100\"/>\n       <use x=\"653.935547\" xlink:href=\"#DejaVuSans-50\"/>\n       <use x=\"717.558594\" xlink:href=\"#DejaVuSans-57\"/>\n      </g>\n     </g>\n    </g>\n    <g id=\"ytick_117\">\n     <g id=\"line2d_120\">\n      <g>\n       <use style=\"stroke:#000000;stroke-width:0.8;\" x=\"165.090625\" xlink:href=\"#m85187e86d9\" y=\"1830.000678\"/>\n      </g>\n     </g>\n     <g id=\"text_120\">\n      <!-- GeographicField61B -->\n      <g style=\"fill:#444443;\" transform=\"translate(57.85 1833.799897)scale(0.1 -0.1)\">\n       <use xlink:href=\"#DejaVuSans-71\"/>\n       <use x=\"77.490234\" xlink:href=\"#DejaVuSans-101\"/>\n       <use x=\"139.013672\" xlink:href=\"#DejaVuSans-111\"/>\n       <use x=\"200.195312\" xlink:href=\"#DejaVuSans-103\"/>\n       <use x=\"263.671875\" xlink:href=\"#DejaVuSans-114\"/>\n       <use x=\"304.785156\" xlink:href=\"#DejaVuSans-97\"/>\n       <use x=\"366.064453\" xlink:href=\"#DejaVuSans-112\"/>\n       <use x=\"429.541016\" xlink:href=\"#DejaVuSans-104\"/>\n       <use x=\"492.919922\" xlink:href=\"#DejaVuSans-105\"/>\n       <use x=\"520.703125\" xlink:href=\"#DejaVuSans-99\"/>\n       <use x=\"575.683594\" xlink:href=\"#DejaVuSans-70\"/>\n       <use x=\"625.953125\" xlink:href=\"#DejaVuSans-105\"/>\n       <use x=\"653.736328\" xlink:href=\"#DejaVuSans-101\"/>\n       <use x=\"715.259766\" xlink:href=\"#DejaVuSans-108\"/>\n       <use x=\"743.042969\" xlink:href=\"#DejaVuSans-100\"/>\n       <use x=\"806.519531\" xlink:href=\"#DejaVuSans-54\"/>\n       <use x=\"870.142578\" xlink:href=\"#DejaVuSans-49\"/>\n       <use x=\"933.765625\" xlink:href=\"#DejaVuSans-66\"/>\n      </g>\n     </g>\n    </g>\n    <g id=\"ytick_118\">\n     <g id=\"line2d_121\">\n      <g>\n       <use style=\"stroke:#000000;stroke-width:0.8;\" x=\"165.090625\" xlink:href=\"#m85187e86d9\" y=\"1845.702712\"/>\n      </g>\n     </g>\n     <g id=\"text_121\">\n      <!-- PropertyField24A -->\n      <g style=\"fill:#444443;\" transform=\"translate(73.129688 1849.501931)scale(0.1 -0.1)\">\n       <use xlink:href=\"#DejaVuSans-80\"/>\n       <use x=\"58.552734\" xlink:href=\"#DejaVuSans-114\"/>\n       <use x=\"97.416016\" xlink:href=\"#DejaVuSans-111\"/>\n       <use x=\"158.597656\" xlink:href=\"#DejaVuSans-112\"/>\n       <use x=\"222.074219\" xlink:href=\"#DejaVuSans-101\"/>\n       <use x=\"283.597656\" xlink:href=\"#DejaVuSans-114\"/>\n       <use x=\"324.710938\" xlink:href=\"#DejaVuSans-116\"/>\n       <use x=\"363.919922\" xlink:href=\"#DejaVuSans-121\"/>\n       <use x=\"423.099609\" xlink:href=\"#DejaVuSans-70\"/>\n       <use x=\"473.369141\" xlink:href=\"#DejaVuSans-105\"/>\n       <use x=\"501.152344\" xlink:href=\"#DejaVuSans-101\"/>\n       <use x=\"562.675781\" xlink:href=\"#DejaVuSans-108\"/>\n       <use x=\"590.458984\" xlink:href=\"#DejaVuSans-100\"/>\n       <use x=\"653.935547\" xlink:href=\"#DejaVuSans-50\"/>\n       <use x=\"717.558594\" xlink:href=\"#DejaVuSans-52\"/>\n       <use x=\"781.181641\" xlink:href=\"#DejaVuSans-65\"/>\n      </g>\n     </g>\n    </g>\n    <g id=\"ytick_119\">\n     <g id=\"line2d_122\">\n      <g>\n       <use style=\"stroke:#000000;stroke-width:0.8;\" x=\"165.090625\" xlink:href=\"#m85187e86d9\" y=\"1861.404746\"/>\n      </g>\n     </g>\n     <g id=\"text_122\">\n      <!-- GeographicField9B -->\n      <g style=\"fill:#444443;\" transform=\"translate(64.2125 1865.203965)scale(0.1 -0.1)\">\n       <use xlink:href=\"#DejaVuSans-71\"/>\n       <use x=\"77.490234\" xlink:href=\"#DejaVuSans-101\"/>\n       <use x=\"139.013672\" xlink:href=\"#DejaVuSans-111\"/>\n       <use x=\"200.195312\" xlink:href=\"#DejaVuSans-103\"/>\n       <use x=\"263.671875\" xlink:href=\"#DejaVuSans-114\"/>\n       <use x=\"304.785156\" xlink:href=\"#DejaVuSans-97\"/>\n       <use x=\"366.064453\" xlink:href=\"#DejaVuSans-112\"/>\n       <use x=\"429.541016\" xlink:href=\"#DejaVuSans-104\"/>\n       <use x=\"492.919922\" xlink:href=\"#DejaVuSans-105\"/>\n       <use x=\"520.703125\" xlink:href=\"#DejaVuSans-99\"/>\n       <use x=\"575.683594\" xlink:href=\"#DejaVuSans-70\"/>\n       <use x=\"625.953125\" xlink:href=\"#DejaVuSans-105\"/>\n       <use x=\"653.736328\" xlink:href=\"#DejaVuSans-101\"/>\n       <use x=\"715.259766\" xlink:href=\"#DejaVuSans-108\"/>\n       <use x=\"743.042969\" xlink:href=\"#DejaVuSans-100\"/>\n       <use x=\"806.519531\" xlink:href=\"#DejaVuSans-57\"/>\n       <use x=\"870.142578\" xlink:href=\"#DejaVuSans-66\"/>\n      </g>\n     </g>\n    </g>\n    <g id=\"ytick_120\">\n     <g id=\"line2d_123\">\n      <g>\n       <use style=\"stroke:#000000;stroke-width:0.8;\" x=\"165.090625\" xlink:href=\"#m85187e86d9\" y=\"1877.10678\"/>\n      </g>\n     </g>\n     <g id=\"text_123\">\n      <!-- SalesField4 -->\n      <g style=\"fill:#444443;\" transform=\"translate(102.026563 1880.905998)scale(0.1 -0.1)\">\n       <use xlink:href=\"#DejaVuSans-83\"/>\n       <use x=\"63.476562\" xlink:href=\"#DejaVuSans-97\"/>\n       <use x=\"124.755859\" xlink:href=\"#DejaVuSans-108\"/>\n       <use x=\"152.539062\" xlink:href=\"#DejaVuSans-101\"/>\n       <use x=\"214.0625\" xlink:href=\"#DejaVuSans-115\"/>\n       <use x=\"266.162109\" xlink:href=\"#DejaVuSans-70\"/>\n       <use x=\"316.431641\" xlink:href=\"#DejaVuSans-105\"/>\n       <use x=\"344.214844\" xlink:href=\"#DejaVuSans-101\"/>\n       <use x=\"405.738281\" xlink:href=\"#DejaVuSans-108\"/>\n       <use x=\"433.521484\" xlink:href=\"#DejaVuSans-100\"/>\n       <use x=\"496.998047\" xlink:href=\"#DejaVuSans-52\"/>\n      </g>\n     </g>\n    </g>\n    <g id=\"ytick_121\">\n     <g id=\"line2d_124\">\n      <g>\n       <use style=\"stroke:#000000;stroke-width:0.8;\" x=\"165.090625\" xlink:href=\"#m85187e86d9\" y=\"1892.808814\"/>\n      </g>\n     </g>\n     <g id=\"text_124\">\n      <!-- GeographicField59A -->\n      <g style=\"fill:#444443;\" transform=\"translate(57.870313 1896.608032)scale(0.1 -0.1)\">\n       <use xlink:href=\"#DejaVuSans-71\"/>\n       <use x=\"77.490234\" xlink:href=\"#DejaVuSans-101\"/>\n       <use x=\"139.013672\" xlink:href=\"#DejaVuSans-111\"/>\n       <use x=\"200.195312\" xlink:href=\"#DejaVuSans-103\"/>\n       <use x=\"263.671875\" xlink:href=\"#DejaVuSans-114\"/>\n       <use x=\"304.785156\" xlink:href=\"#DejaVuSans-97\"/>\n       <use x=\"366.064453\" xlink:href=\"#DejaVuSans-112\"/>\n       <use x=\"429.541016\" xlink:href=\"#DejaVuSans-104\"/>\n       <use x=\"492.919922\" xlink:href=\"#DejaVuSans-105\"/>\n       <use x=\"520.703125\" xlink:href=\"#DejaVuSans-99\"/>\n       <use x=\"575.683594\" xlink:href=\"#DejaVuSans-70\"/>\n       <use x=\"625.953125\" xlink:href=\"#DejaVuSans-105\"/>\n       <use x=\"653.736328\" xlink:href=\"#DejaVuSans-101\"/>\n       <use x=\"715.259766\" xlink:href=\"#DejaVuSans-108\"/>\n       <use x=\"743.042969\" xlink:href=\"#DejaVuSans-100\"/>\n       <use x=\"806.519531\" xlink:href=\"#DejaVuSans-53\"/>\n       <use x=\"870.142578\" xlink:href=\"#DejaVuSans-57\"/>\n       <use x=\"933.765625\" xlink:href=\"#DejaVuSans-65\"/>\n      </g>\n     </g>\n    </g>\n    <g id=\"ytick_122\">\n     <g id=\"line2d_125\">\n      <g>\n       <use style=\"stroke:#000000;stroke-width:0.8;\" x=\"165.090625\" xlink:href=\"#m85187e86d9\" y=\"1908.510847\"/>\n      </g>\n     </g>\n     <g id=\"text_125\">\n      <!-- SalesField15 -->\n      <g style=\"fill:#444443;\" transform=\"translate(95.664063 1912.310066)scale(0.1 -0.1)\">\n       <use xlink:href=\"#DejaVuSans-83\"/>\n       <use x=\"63.476562\" xlink:href=\"#DejaVuSans-97\"/>\n       <use x=\"124.755859\" xlink:href=\"#DejaVuSans-108\"/>\n       <use x=\"152.539062\" xlink:href=\"#DejaVuSans-101\"/>\n       <use x=\"214.0625\" xlink:href=\"#DejaVuSans-115\"/>\n       <use x=\"266.162109\" xlink:href=\"#DejaVuSans-70\"/>\n       <use x=\"316.431641\" xlink:href=\"#DejaVuSans-105\"/>\n       <use x=\"344.214844\" xlink:href=\"#DejaVuSans-101\"/>\n       <use x=\"405.738281\" xlink:href=\"#DejaVuSans-108\"/>\n       <use x=\"433.521484\" xlink:href=\"#DejaVuSans-100\"/>\n       <use x=\"496.998047\" xlink:href=\"#DejaVuSans-49\"/>\n       <use x=\"560.621094\" xlink:href=\"#DejaVuSans-53\"/>\n      </g>\n     </g>\n    </g>\n    <g id=\"ytick_123\">\n     <g id=\"line2d_126\">\n      <g>\n       <use style=\"stroke:#000000;stroke-width:0.8;\" x=\"165.090625\" xlink:href=\"#m85187e86d9\" y=\"1924.212881\"/>\n      </g>\n     </g>\n     <g id=\"text_126\">\n      <!-- PersonalField29 -->\n      <g style=\"fill:#444443;\" transform=\"translate(79.778125 1928.0121)scale(0.1 -0.1)\">\n       <use xlink:href=\"#DejaVuSans-80\"/>\n       <use x=\"56.677734\" xlink:href=\"#DejaVuSans-101\"/>\n       <use x=\"118.201172\" xlink:href=\"#DejaVuSans-114\"/>\n       <use x=\"159.314453\" xlink:href=\"#DejaVuSans-115\"/>\n       <use x=\"211.414062\" xlink:href=\"#DejaVuSans-111\"/>\n       <use x=\"272.595703\" xlink:href=\"#DejaVuSans-110\"/>\n       <use x=\"335.974609\" xlink:href=\"#DejaVuSans-97\"/>\n       <use x=\"397.253906\" xlink:href=\"#DejaVuSans-108\"/>\n       <use x=\"425.037109\" xlink:href=\"#DejaVuSans-70\"/>\n       <use x=\"475.306641\" xlink:href=\"#DejaVuSans-105\"/>\n       <use x=\"503.089844\" xlink:href=\"#DejaVuSans-101\"/>\n       <use x=\"564.613281\" xlink:href=\"#DejaVuSans-108\"/>\n       <use x=\"592.396484\" xlink:href=\"#DejaVuSans-100\"/>\n       <use x=\"655.873047\" xlink:href=\"#DejaVuSans-50\"/>\n       <use x=\"719.496094\" xlink:href=\"#DejaVuSans-57\"/>\n      </g>\n     </g>\n    </g>\n    <g id=\"ytick_124\">\n     <g id=\"line2d_127\">\n      <g>\n       <use style=\"stroke:#000000;stroke-width:0.8;\" x=\"165.090625\" xlink:href=\"#m85187e86d9\" y=\"1939.914915\"/>\n      </g>\n     </g>\n     <g id=\"text_127\">\n      <!-- PersonalField7 -->\n      <g style=\"fill:#444443;\" transform=\"translate(86.140625 1943.714134)scale(0.1 -0.1)\">\n       <use xlink:href=\"#DejaVuSans-80\"/>\n       <use x=\"56.677734\" xlink:href=\"#DejaVuSans-101\"/>\n       <use x=\"118.201172\" xlink:href=\"#DejaVuSans-114\"/>\n       <use x=\"159.314453\" xlink:href=\"#DejaVuSans-115\"/>\n       <use x=\"211.414062\" xlink:href=\"#DejaVuSans-111\"/>\n       <use x=\"272.595703\" xlink:href=\"#DejaVuSans-110\"/>\n       <use x=\"335.974609\" xlink:href=\"#DejaVuSans-97\"/>\n       <use x=\"397.253906\" xlink:href=\"#DejaVuSans-108\"/>\n       <use x=\"425.037109\" xlink:href=\"#DejaVuSans-70\"/>\n       <use x=\"475.306641\" xlink:href=\"#DejaVuSans-105\"/>\n       <use x=\"503.089844\" xlink:href=\"#DejaVuSans-101\"/>\n       <use x=\"564.613281\" xlink:href=\"#DejaVuSans-108\"/>\n       <use x=\"592.396484\" xlink:href=\"#DejaVuSans-100\"/>\n       <use x=\"655.873047\" xlink:href=\"#DejaVuSans-55\"/>\n      </g>\n     </g>\n    </g>\n    <g id=\"ytick_125\">\n     <g id=\"line2d_128\">\n      <g>\n       <use style=\"stroke:#000000;stroke-width:0.8;\" x=\"165.090625\" xlink:href=\"#m85187e86d9\" y=\"1955.616949\"/>\n      </g>\n     </g>\n     <g id=\"text_128\">\n      <!-- PersonalField8 -->\n      <g style=\"fill:#444443;\" transform=\"translate(86.140625 1959.416168)scale(0.1 -0.1)\">\n       <use xlink:href=\"#DejaVuSans-80\"/>\n       <use x=\"56.677734\" xlink:href=\"#DejaVuSans-101\"/>\n       <use x=\"118.201172\" xlink:href=\"#DejaVuSans-114\"/>\n       <use x=\"159.314453\" xlink:href=\"#DejaVuSans-115\"/>\n       <use x=\"211.414062\" xlink:href=\"#DejaVuSans-111\"/>\n       <use x=\"272.595703\" xlink:href=\"#DejaVuSans-110\"/>\n       <use x=\"335.974609\" xlink:href=\"#DejaVuSans-97\"/>\n       <use x=\"397.253906\" xlink:href=\"#DejaVuSans-108\"/>\n       <use x=\"425.037109\" xlink:href=\"#DejaVuSans-70\"/>\n       <use x=\"475.306641\" xlink:href=\"#DejaVuSans-105\"/>\n       <use x=\"503.089844\" xlink:href=\"#DejaVuSans-101\"/>\n       <use x=\"564.613281\" xlink:href=\"#DejaVuSans-108\"/>\n       <use x=\"592.396484\" xlink:href=\"#DejaVuSans-100\"/>\n       <use x=\"655.873047\" xlink:href=\"#DejaVuSans-56\"/>\n      </g>\n     </g>\n    </g>\n    <g id=\"ytick_126\">\n     <g id=\"line2d_129\">\n      <g>\n       <use style=\"stroke:#000000;stroke-width:0.8;\" x=\"165.090625\" xlink:href=\"#m85187e86d9\" y=\"1971.318983\"/>\n      </g>\n     </g>\n     <g id=\"text_129\">\n      <!-- GeographicField56B -->\n      <g style=\"fill:#444443;\" transform=\"translate(57.85 1975.118202)scale(0.1 -0.1)\">\n       <use xlink:href=\"#DejaVuSans-71\"/>\n       <use x=\"77.490234\" xlink:href=\"#DejaVuSans-101\"/>\n       <use x=\"139.013672\" xlink:href=\"#DejaVuSans-111\"/>\n       <use x=\"200.195312\" xlink:href=\"#DejaVuSans-103\"/>\n       <use x=\"263.671875\" xlink:href=\"#DejaVuSans-114\"/>\n       <use x=\"304.785156\" xlink:href=\"#DejaVuSans-97\"/>\n       <use x=\"366.064453\" xlink:href=\"#DejaVuSans-112\"/>\n       <use x=\"429.541016\" xlink:href=\"#DejaVuSans-104\"/>\n       <use x=\"492.919922\" xlink:href=\"#DejaVuSans-105\"/>\n       <use x=\"520.703125\" xlink:href=\"#DejaVuSans-99\"/>\n       <use x=\"575.683594\" xlink:href=\"#DejaVuSans-70\"/>\n       <use x=\"625.953125\" xlink:href=\"#DejaVuSans-105\"/>\n       <use x=\"653.736328\" xlink:href=\"#DejaVuSans-101\"/>\n       <use x=\"715.259766\" xlink:href=\"#DejaVuSans-108\"/>\n       <use x=\"743.042969\" xlink:href=\"#DejaVuSans-100\"/>\n       <use x=\"806.519531\" xlink:href=\"#DejaVuSans-53\"/>\n       <use x=\"870.142578\" xlink:href=\"#DejaVuSans-54\"/>\n       <use x=\"933.765625\" xlink:href=\"#DejaVuSans-66\"/>\n      </g>\n     </g>\n    </g>\n    <g id=\"ytick_127\">\n     <g id=\"line2d_130\">\n      <g>\n       <use style=\"stroke:#000000;stroke-width:0.8;\" x=\"165.090625\" xlink:href=\"#m85187e86d9\" y=\"1987.021017\"/>\n      </g>\n     </g>\n     <g id=\"text_130\">\n      <!-- GeographicField18A -->\n      <g style=\"fill:#444443;\" transform=\"translate(57.870313 1990.820236)scale(0.1 -0.1)\">\n       <use xlink:href=\"#DejaVuSans-71\"/>\n       <use x=\"77.490234\" xlink:href=\"#DejaVuSans-101\"/>\n       <use x=\"139.013672\" xlink:href=\"#DejaVuSans-111\"/>\n       <use x=\"200.195312\" xlink:href=\"#DejaVuSans-103\"/>\n       <use x=\"263.671875\" xlink:href=\"#DejaVuSans-114\"/>\n       <use x=\"304.785156\" xlink:href=\"#DejaVuSans-97\"/>\n       <use x=\"366.064453\" xlink:href=\"#DejaVuSans-112\"/>\n       <use x=\"429.541016\" xlink:href=\"#DejaVuSans-104\"/>\n       <use x=\"492.919922\" xlink:href=\"#DejaVuSans-105\"/>\n       <use x=\"520.703125\" xlink:href=\"#DejaVuSans-99\"/>\n       <use x=\"575.683594\" xlink:href=\"#DejaVuSans-70\"/>\n       <use x=\"625.953125\" xlink:href=\"#DejaVuSans-105\"/>\n       <use x=\"653.736328\" xlink:href=\"#DejaVuSans-101\"/>\n       <use x=\"715.259766\" xlink:href=\"#DejaVuSans-108\"/>\n       <use x=\"743.042969\" xlink:href=\"#DejaVuSans-100\"/>\n       <use x=\"806.519531\" xlink:href=\"#DejaVuSans-49\"/>\n       <use x=\"870.142578\" xlink:href=\"#DejaVuSans-56\"/>\n       <use x=\"933.765625\" xlink:href=\"#DejaVuSans-65\"/>\n      </g>\n     </g>\n    </g>\n    <g id=\"ytick_128\">\n     <g id=\"line2d_131\">\n      <g>\n       <use style=\"stroke:#000000;stroke-width:0.8;\" x=\"165.090625\" xlink:href=\"#m85187e86d9\" y=\"2002.723051\"/>\n      </g>\n     </g>\n     <g id=\"text_131\">\n      <!-- GeographicField15A -->\n      <g style=\"fill:#444443;\" transform=\"translate(57.870313 2006.52227)scale(0.1 -0.1)\">\n       <use xlink:href=\"#DejaVuSans-71\"/>\n       <use x=\"77.490234\" xlink:href=\"#DejaVuSans-101\"/>\n       <use x=\"139.013672\" xlink:href=\"#DejaVuSans-111\"/>\n       <use x=\"200.195312\" xlink:href=\"#DejaVuSans-103\"/>\n       <use x=\"263.671875\" xlink:href=\"#DejaVuSans-114\"/>\n       <use x=\"304.785156\" xlink:href=\"#DejaVuSans-97\"/>\n       <use x=\"366.064453\" xlink:href=\"#DejaVuSans-112\"/>\n       <use x=\"429.541016\" xlink:href=\"#DejaVuSans-104\"/>\n       <use x=\"492.919922\" xlink:href=\"#DejaVuSans-105\"/>\n       <use x=\"520.703125\" xlink:href=\"#DejaVuSans-99\"/>\n       <use x=\"575.683594\" xlink:href=\"#DejaVuSans-70\"/>\n       <use x=\"625.953125\" xlink:href=\"#DejaVuSans-105\"/>\n       <use x=\"653.736328\" xlink:href=\"#DejaVuSans-101\"/>\n       <use x=\"715.259766\" xlink:href=\"#DejaVuSans-108\"/>\n       <use x=\"743.042969\" xlink:href=\"#DejaVuSans-100\"/>\n       <use x=\"806.519531\" xlink:href=\"#DejaVuSans-49\"/>\n       <use x=\"870.142578\" xlink:href=\"#DejaVuSans-53\"/>\n       <use x=\"933.765625\" xlink:href=\"#DejaVuSans-65\"/>\n      </g>\n     </g>\n    </g>\n    <g id=\"ytick_129\">\n     <g id=\"line2d_132\">\n      <g>\n       <use style=\"stroke:#000000;stroke-width:0.8;\" x=\"165.090625\" xlink:href=\"#m85187e86d9\" y=\"2018.425085\"/>\n      </g>\n     </g>\n     <g id=\"text_132\">\n      <!-- GeographicField18B -->\n      <g style=\"fill:#444443;\" transform=\"translate(57.85 2022.224303)scale(0.1 -0.1)\">\n       <use xlink:href=\"#DejaVuSans-71\"/>\n       <use x=\"77.490234\" xlink:href=\"#DejaVuSans-101\"/>\n       <use x=\"139.013672\" xlink:href=\"#DejaVuSans-111\"/>\n       <use x=\"200.195312\" xlink:href=\"#DejaVuSans-103\"/>\n       <use x=\"263.671875\" xlink:href=\"#DejaVuSans-114\"/>\n       <use x=\"304.785156\" xlink:href=\"#DejaVuSans-97\"/>\n       <use x=\"366.064453\" xlink:href=\"#DejaVuSans-112\"/>\n       <use x=\"429.541016\" xlink:href=\"#DejaVuSans-104\"/>\n       <use x=\"492.919922\" xlink:href=\"#DejaVuSans-105\"/>\n       <use x=\"520.703125\" xlink:href=\"#DejaVuSans-99\"/>\n       <use x=\"575.683594\" xlink:href=\"#DejaVuSans-70\"/>\n       <use x=\"625.953125\" xlink:href=\"#DejaVuSans-105\"/>\n       <use x=\"653.736328\" xlink:href=\"#DejaVuSans-101\"/>\n       <use x=\"715.259766\" xlink:href=\"#DejaVuSans-108\"/>\n       <use x=\"743.042969\" xlink:href=\"#DejaVuSans-100\"/>\n       <use x=\"806.519531\" xlink:href=\"#DejaVuSans-49\"/>\n       <use x=\"870.142578\" xlink:href=\"#DejaVuSans-56\"/>\n       <use x=\"933.765625\" xlink:href=\"#DejaVuSans-66\"/>\n      </g>\n     </g>\n    </g>\n    <g id=\"ytick_130\">\n     <g id=\"line2d_133\">\n      <g>\n       <use style=\"stroke:#000000;stroke-width:0.8;\" x=\"165.090625\" xlink:href=\"#m85187e86d9\" y=\"2034.127119\"/>\n      </g>\n     </g>\n     <g id=\"text_133\">\n      <!-- PersonalField27 -->\n      <g style=\"fill:#444443;\" transform=\"translate(79.778125 2037.926337)scale(0.1 -0.1)\">\n       <use xlink:href=\"#DejaVuSans-80\"/>\n       <use x=\"56.677734\" xlink:href=\"#DejaVuSans-101\"/>\n       <use x=\"118.201172\" xlink:href=\"#DejaVuSans-114\"/>\n       <use x=\"159.314453\" xlink:href=\"#DejaVuSans-115\"/>\n       <use x=\"211.414062\" xlink:href=\"#DejaVuSans-111\"/>\n       <use x=\"272.595703\" xlink:href=\"#DejaVuSans-110\"/>\n       <use x=\"335.974609\" xlink:href=\"#DejaVuSans-97\"/>\n       <use x=\"397.253906\" xlink:href=\"#DejaVuSans-108\"/>\n       <use x=\"425.037109\" xlink:href=\"#DejaVuSans-70\"/>\n       <use x=\"475.306641\" xlink:href=\"#DejaVuSans-105\"/>\n       <use x=\"503.089844\" xlink:href=\"#DejaVuSans-101\"/>\n       <use x=\"564.613281\" xlink:href=\"#DejaVuSans-108\"/>\n       <use x=\"592.396484\" xlink:href=\"#DejaVuSans-100\"/>\n       <use x=\"655.873047\" xlink:href=\"#DejaVuSans-50\"/>\n       <use x=\"719.496094\" xlink:href=\"#DejaVuSans-55\"/>\n      </g>\n     </g>\n    </g>\n    <g id=\"ytick_131\">\n     <g id=\"line2d_134\">\n      <g>\n       <use style=\"stroke:#000000;stroke-width:0.8;\" x=\"165.090625\" xlink:href=\"#m85187e86d9\" y=\"2049.829153\"/>\n      </g>\n     </g>\n     <g id=\"text_134\">\n      <!-- Field8 -->\n      <g style=\"fill:#444443;\" transform=\"translate(128.64375 2053.628371)scale(0.1 -0.1)\">\n       <use xlink:href=\"#DejaVuSans-70\"/>\n       <use x=\"50.269531\" xlink:href=\"#DejaVuSans-105\"/>\n       <use x=\"78.052734\" xlink:href=\"#DejaVuSans-101\"/>\n       <use x=\"139.576172\" xlink:href=\"#DejaVuSans-108\"/>\n       <use x=\"167.359375\" xlink:href=\"#DejaVuSans-100\"/>\n       <use x=\"230.835938\" xlink:href=\"#DejaVuSans-56\"/>\n      </g>\n     </g>\n    </g>\n    <g id=\"ytick_132\">\n     <g id=\"line2d_135\">\n      <g>\n       <use style=\"stroke:#000000;stroke-width:0.8;\" x=\"165.090625\" xlink:href=\"#m85187e86d9\" y=\"2065.531186\"/>\n      </g>\n     </g>\n     <g id=\"text_135\">\n      <!-- GeographicField21A -->\n      <g style=\"fill:#444443;\" transform=\"translate(57.870313 2069.330405)scale(0.1 -0.1)\">\n       <use xlink:href=\"#DejaVuSans-71\"/>\n       <use x=\"77.490234\" xlink:href=\"#DejaVuSans-101\"/>\n       <use x=\"139.013672\" xlink:href=\"#DejaVuSans-111\"/>\n       <use x=\"200.195312\" xlink:href=\"#DejaVuSans-103\"/>\n       <use x=\"263.671875\" xlink:href=\"#DejaVuSans-114\"/>\n       <use x=\"304.785156\" xlink:href=\"#DejaVuSans-97\"/>\n       <use x=\"366.064453\" xlink:href=\"#DejaVuSans-112\"/>\n       <use x=\"429.541016\" xlink:href=\"#DejaVuSans-104\"/>\n       <use x=\"492.919922\" xlink:href=\"#DejaVuSans-105\"/>\n       <use x=\"520.703125\" xlink:href=\"#DejaVuSans-99\"/>\n       <use x=\"575.683594\" xlink:href=\"#DejaVuSans-70\"/>\n       <use x=\"625.953125\" xlink:href=\"#DejaVuSans-105\"/>\n       <use x=\"653.736328\" xlink:href=\"#DejaVuSans-101\"/>\n       <use x=\"715.259766\" xlink:href=\"#DejaVuSans-108\"/>\n       <use x=\"743.042969\" xlink:href=\"#DejaVuSans-100\"/>\n       <use x=\"806.519531\" xlink:href=\"#DejaVuSans-50\"/>\n       <use x=\"870.142578\" xlink:href=\"#DejaVuSans-49\"/>\n       <use x=\"933.765625\" xlink:href=\"#DejaVuSans-65\"/>\n      </g>\n     </g>\n    </g>\n    <g id=\"ytick_133\">\n     <g id=\"line2d_136\">\n      <g>\n       <use style=\"stroke:#000000;stroke-width:0.8;\" x=\"165.090625\" xlink:href=\"#m85187e86d9\" y=\"2081.23322\"/>\n      </g>\n     </g>\n     <g id=\"text_136\">\n      <!-- GeographicField14A -->\n      <g style=\"fill:#444443;\" transform=\"translate(57.870313 2085.032439)scale(0.1 -0.1)\">\n       <use xlink:href=\"#DejaVuSans-71\"/>\n       <use x=\"77.490234\" xlink:href=\"#DejaVuSans-101\"/>\n       <use x=\"139.013672\" xlink:href=\"#DejaVuSans-111\"/>\n       <use x=\"200.195312\" xlink:href=\"#DejaVuSans-103\"/>\n       <use x=\"263.671875\" xlink:href=\"#DejaVuSans-114\"/>\n       <use x=\"304.785156\" xlink:href=\"#DejaVuSans-97\"/>\n       <use x=\"366.064453\" xlink:href=\"#DejaVuSans-112\"/>\n       <use x=\"429.541016\" xlink:href=\"#DejaVuSans-104\"/>\n       <use x=\"492.919922\" xlink:href=\"#DejaVuSans-105\"/>\n       <use x=\"520.703125\" xlink:href=\"#DejaVuSans-99\"/>\n       <use x=\"575.683594\" xlink:href=\"#DejaVuSans-70\"/>\n       <use x=\"625.953125\" xlink:href=\"#DejaVuSans-105\"/>\n       <use x=\"653.736328\" xlink:href=\"#DejaVuSans-101\"/>\n       <use x=\"715.259766\" xlink:href=\"#DejaVuSans-108\"/>\n       <use x=\"743.042969\" xlink:href=\"#DejaVuSans-100\"/>\n       <use x=\"806.519531\" xlink:href=\"#DejaVuSans-49\"/>\n       <use x=\"870.142578\" xlink:href=\"#DejaVuSans-52\"/>\n       <use x=\"933.765625\" xlink:href=\"#DejaVuSans-65\"/>\n      </g>\n     </g>\n    </g>\n    <g id=\"ytick_134\">\n     <g id=\"line2d_137\">\n      <g>\n       <use style=\"stroke:#000000;stroke-width:0.8;\" x=\"165.090625\" xlink:href=\"#m85187e86d9\" y=\"2096.935254\"/>\n      </g>\n     </g>\n     <g id=\"text_137\">\n      <!-- GeographicField25B -->\n      <g style=\"fill:#444443;\" transform=\"translate(57.85 2100.734473)scale(0.1 -0.1)\">\n       <use xlink:href=\"#DejaVuSans-71\"/>\n       <use x=\"77.490234\" xlink:href=\"#DejaVuSans-101\"/>\n       <use x=\"139.013672\" xlink:href=\"#DejaVuSans-111\"/>\n       <use x=\"200.195312\" xlink:href=\"#DejaVuSans-103\"/>\n       <use x=\"263.671875\" xlink:href=\"#DejaVuSans-114\"/>\n       <use x=\"304.785156\" xlink:href=\"#DejaVuSans-97\"/>\n       <use x=\"366.064453\" xlink:href=\"#DejaVuSans-112\"/>\n       <use x=\"429.541016\" xlink:href=\"#DejaVuSans-104\"/>\n       <use x=\"492.919922\" xlink:href=\"#DejaVuSans-105\"/>\n       <use x=\"520.703125\" xlink:href=\"#DejaVuSans-99\"/>\n       <use x=\"575.683594\" xlink:href=\"#DejaVuSans-70\"/>\n       <use x=\"625.953125\" xlink:href=\"#DejaVuSans-105\"/>\n       <use x=\"653.736328\" xlink:href=\"#DejaVuSans-101\"/>\n       <use x=\"715.259766\" xlink:href=\"#DejaVuSans-108\"/>\n       <use x=\"743.042969\" xlink:href=\"#DejaVuSans-100\"/>\n       <use x=\"806.519531\" xlink:href=\"#DejaVuSans-50\"/>\n       <use x=\"870.142578\" xlink:href=\"#DejaVuSans-53\"/>\n       <use x=\"933.765625\" xlink:href=\"#DejaVuSans-66\"/>\n      </g>\n     </g>\n    </g>\n    <g id=\"ytick_135\">\n     <g id=\"line2d_138\">\n      <g>\n       <use style=\"stroke:#000000;stroke-width:0.8;\" x=\"165.090625\" xlink:href=\"#m85187e86d9\" y=\"2112.637288\"/>\n      </g>\n     </g>\n     <g id=\"text_138\">\n      <!-- PersonalField66 -->\n      <g style=\"fill:#444443;\" transform=\"translate(79.778125 2116.436507)scale(0.1 -0.1)\">\n       <use xlink:href=\"#DejaVuSans-80\"/>\n       <use x=\"56.677734\" xlink:href=\"#DejaVuSans-101\"/>\n       <use x=\"118.201172\" xlink:href=\"#DejaVuSans-114\"/>\n       <use x=\"159.314453\" xlink:href=\"#DejaVuSans-115\"/>\n       <use x=\"211.414062\" xlink:href=\"#DejaVuSans-111\"/>\n       <use x=\"272.595703\" xlink:href=\"#DejaVuSans-110\"/>\n       <use x=\"335.974609\" xlink:href=\"#DejaVuSans-97\"/>\n       <use x=\"397.253906\" xlink:href=\"#DejaVuSans-108\"/>\n       <use x=\"425.037109\" xlink:href=\"#DejaVuSans-70\"/>\n       <use x=\"475.306641\" xlink:href=\"#DejaVuSans-105\"/>\n       <use x=\"503.089844\" xlink:href=\"#DejaVuSans-101\"/>\n       <use x=\"564.613281\" xlink:href=\"#DejaVuSans-108\"/>\n       <use x=\"592.396484\" xlink:href=\"#DejaVuSans-100\"/>\n       <use x=\"655.873047\" xlink:href=\"#DejaVuSans-54\"/>\n       <use x=\"719.496094\" xlink:href=\"#DejaVuSans-54\"/>\n      </g>\n     </g>\n    </g>\n    <g id=\"ytick_136\">\n     <g id=\"line2d_139\">\n      <g>\n       <use style=\"stroke:#000000;stroke-width:0.8;\" x=\"165.090625\" xlink:href=\"#m85187e86d9\" y=\"2128.339322\"/>\n      </g>\n     </g>\n     <g id=\"text_139\">\n      <!-- PersonalField50 -->\n      <g style=\"fill:#444443;\" transform=\"translate(79.778125 2132.138541)scale(0.1 -0.1)\">\n       <use xlink:href=\"#DejaVuSans-80\"/>\n       <use x=\"56.677734\" xlink:href=\"#DejaVuSans-101\"/>\n       <use x=\"118.201172\" xlink:href=\"#DejaVuSans-114\"/>\n       <use x=\"159.314453\" xlink:href=\"#DejaVuSans-115\"/>\n       <use x=\"211.414062\" xlink:href=\"#DejaVuSans-111\"/>\n       <use x=\"272.595703\" xlink:href=\"#DejaVuSans-110\"/>\n       <use x=\"335.974609\" xlink:href=\"#DejaVuSans-97\"/>\n       <use x=\"397.253906\" xlink:href=\"#DejaVuSans-108\"/>\n       <use x=\"425.037109\" xlink:href=\"#DejaVuSans-70\"/>\n       <use x=\"475.306641\" xlink:href=\"#DejaVuSans-105\"/>\n       <use x=\"503.089844\" xlink:href=\"#DejaVuSans-101\"/>\n       <use x=\"564.613281\" xlink:href=\"#DejaVuSans-108\"/>\n       <use x=\"592.396484\" xlink:href=\"#DejaVuSans-100\"/>\n       <use x=\"655.873047\" xlink:href=\"#DejaVuSans-53\"/>\n       <use x=\"719.496094\" xlink:href=\"#DejaVuSans-48\"/>\n      </g>\n     </g>\n    </g>\n    <g id=\"ytick_137\">\n     <g id=\"line2d_140\">\n      <g>\n       <use style=\"stroke:#000000;stroke-width:0.8;\" x=\"165.090625\" xlink:href=\"#m85187e86d9\" y=\"2144.041356\"/>\n      </g>\n     </g>\n     <g id=\"text_140\">\n      <!-- PersonalField44 -->\n      <g style=\"fill:#444443;\" transform=\"translate(79.778125 2147.840575)scale(0.1 -0.1)\">\n       <use xlink:href=\"#DejaVuSans-80\"/>\n       <use x=\"56.677734\" xlink:href=\"#DejaVuSans-101\"/>\n       <use x=\"118.201172\" xlink:href=\"#DejaVuSans-114\"/>\n       <use x=\"159.314453\" xlink:href=\"#DejaVuSans-115\"/>\n       <use x=\"211.414062\" xlink:href=\"#DejaVuSans-111\"/>\n       <use x=\"272.595703\" xlink:href=\"#DejaVuSans-110\"/>\n       <use x=\"335.974609\" xlink:href=\"#DejaVuSans-97\"/>\n       <use x=\"397.253906\" xlink:href=\"#DejaVuSans-108\"/>\n       <use x=\"425.037109\" xlink:href=\"#DejaVuSans-70\"/>\n       <use x=\"475.306641\" xlink:href=\"#DejaVuSans-105\"/>\n       <use x=\"503.089844\" xlink:href=\"#DejaVuSans-101\"/>\n       <use x=\"564.613281\" xlink:href=\"#DejaVuSans-108\"/>\n       <use x=\"592.396484\" xlink:href=\"#DejaVuSans-100\"/>\n       <use x=\"655.873047\" xlink:href=\"#DejaVuSans-52\"/>\n       <use x=\"719.496094\" xlink:href=\"#DejaVuSans-52\"/>\n      </g>\n     </g>\n    </g>\n    <g id=\"ytick_138\">\n     <g id=\"line2d_141\">\n      <g>\n       <use style=\"stroke:#000000;stroke-width:0.8;\" x=\"165.090625\" xlink:href=\"#m85187e86d9\" y=\"2159.74339\"/>\n      </g>\n     </g>\n     <g id=\"text_141\">\n      <!-- PropertyField2A -->\n      <g style=\"fill:#444443;\" transform=\"translate(79.492188 2163.542609)scale(0.1 -0.1)\">\n       <use xlink:href=\"#DejaVuSans-80\"/>\n       <use x=\"58.552734\" xlink:href=\"#DejaVuSans-114\"/>\n       <use x=\"97.416016\" xlink:href=\"#DejaVuSans-111\"/>\n       <use x=\"158.597656\" xlink:href=\"#DejaVuSans-112\"/>\n       <use x=\"222.074219\" xlink:href=\"#DejaVuSans-101\"/>\n       <use x=\"283.597656\" xlink:href=\"#DejaVuSans-114\"/>\n       <use x=\"324.710938\" xlink:href=\"#DejaVuSans-116\"/>\n       <use x=\"363.919922\" xlink:href=\"#DejaVuSans-121\"/>\n       <use x=\"423.099609\" xlink:href=\"#DejaVuSans-70\"/>\n       <use x=\"473.369141\" xlink:href=\"#DejaVuSans-105\"/>\n       <use x=\"501.152344\" xlink:href=\"#DejaVuSans-101\"/>\n       <use x=\"562.675781\" xlink:href=\"#DejaVuSans-108\"/>\n       <use x=\"590.458984\" xlink:href=\"#DejaVuSans-100\"/>\n       <use x=\"653.935547\" xlink:href=\"#DejaVuSans-50\"/>\n       <use x=\"717.558594\" xlink:href=\"#DejaVuSans-65\"/>\n      </g>\n     </g>\n    </g>\n    <g id=\"ytick_139\">\n     <g id=\"line2d_142\">\n      <g>\n       <use style=\"stroke:#000000;stroke-width:0.8;\" x=\"165.090625\" xlink:href=\"#m85187e86d9\" y=\"2175.445424\"/>\n      </g>\n     </g>\n     <g id=\"text_142\">\n      <!-- PersonalField81 -->\n      <g style=\"fill:#444443;\" transform=\"translate(79.778125 2179.244642)scale(0.1 -0.1)\">\n       <use xlink:href=\"#DejaVuSans-80\"/>\n       <use x=\"56.677734\" xlink:href=\"#DejaVuSans-101\"/>\n       <use x=\"118.201172\" xlink:href=\"#DejaVuSans-114\"/>\n       <use x=\"159.314453\" xlink:href=\"#DejaVuSans-115\"/>\n       <use x=\"211.414062\" xlink:href=\"#DejaVuSans-111\"/>\n       <use x=\"272.595703\" xlink:href=\"#DejaVuSans-110\"/>\n       <use x=\"335.974609\" xlink:href=\"#DejaVuSans-97\"/>\n       <use x=\"397.253906\" xlink:href=\"#DejaVuSans-108\"/>\n       <use x=\"425.037109\" xlink:href=\"#DejaVuSans-70\"/>\n       <use x=\"475.306641\" xlink:href=\"#DejaVuSans-105\"/>\n       <use x=\"503.089844\" xlink:href=\"#DejaVuSans-101\"/>\n       <use x=\"564.613281\" xlink:href=\"#DejaVuSans-108\"/>\n       <use x=\"592.396484\" xlink:href=\"#DejaVuSans-100\"/>\n       <use x=\"655.873047\" xlink:href=\"#DejaVuSans-56\"/>\n       <use x=\"719.496094\" xlink:href=\"#DejaVuSans-49\"/>\n      </g>\n     </g>\n    </g>\n    <g id=\"ytick_140\">\n     <g id=\"line2d_143\">\n      <g>\n       <use style=\"stroke:#000000;stroke-width:0.8;\" x=\"165.090625\" xlink:href=\"#m85187e86d9\" y=\"2191.147458\"/>\n      </g>\n     </g>\n     <g id=\"text_143\">\n      <!-- PersonalField79 -->\n      <g style=\"fill:#444443;\" transform=\"translate(79.778125 2194.946676)scale(0.1 -0.1)\">\n       <use xlink:href=\"#DejaVuSans-80\"/>\n       <use x=\"56.677734\" xlink:href=\"#DejaVuSans-101\"/>\n       <use x=\"118.201172\" xlink:href=\"#DejaVuSans-114\"/>\n       <use x=\"159.314453\" xlink:href=\"#DejaVuSans-115\"/>\n       <use x=\"211.414062\" xlink:href=\"#DejaVuSans-111\"/>\n       <use x=\"272.595703\" xlink:href=\"#DejaVuSans-110\"/>\n       <use x=\"335.974609\" xlink:href=\"#DejaVuSans-97\"/>\n       <use x=\"397.253906\" xlink:href=\"#DejaVuSans-108\"/>\n       <use x=\"425.037109\" xlink:href=\"#DejaVuSans-70\"/>\n       <use x=\"475.306641\" xlink:href=\"#DejaVuSans-105\"/>\n       <use x=\"503.089844\" xlink:href=\"#DejaVuSans-101\"/>\n       <use x=\"564.613281\" xlink:href=\"#DejaVuSans-108\"/>\n       <use x=\"592.396484\" xlink:href=\"#DejaVuSans-100\"/>\n       <use x=\"655.873047\" xlink:href=\"#DejaVuSans-55\"/>\n       <use x=\"719.496094\" xlink:href=\"#DejaVuSans-57\"/>\n      </g>\n     </g>\n    </g>\n    <g id=\"ytick_141\">\n     <g id=\"line2d_144\">\n      <g>\n       <use style=\"stroke:#000000;stroke-width:0.8;\" x=\"165.090625\" xlink:href=\"#m85187e86d9\" y=\"2206.849492\"/>\n      </g>\n     </g>\n     <g id=\"text_144\">\n      <!-- GeographicField44B -->\n      <g style=\"fill:#444443;\" transform=\"translate(57.85 2210.64871)scale(0.1 -0.1)\">\n       <use xlink:href=\"#DejaVuSans-71\"/>\n       <use x=\"77.490234\" xlink:href=\"#DejaVuSans-101\"/>\n       <use x=\"139.013672\" xlink:href=\"#DejaVuSans-111\"/>\n       <use x=\"200.195312\" xlink:href=\"#DejaVuSans-103\"/>\n       <use x=\"263.671875\" xlink:href=\"#DejaVuSans-114\"/>\n       <use x=\"304.785156\" xlink:href=\"#DejaVuSans-97\"/>\n       <use x=\"366.064453\" xlink:href=\"#DejaVuSans-112\"/>\n       <use x=\"429.541016\" xlink:href=\"#DejaVuSans-104\"/>\n       <use x=\"492.919922\" xlink:href=\"#DejaVuSans-105\"/>\n       <use x=\"520.703125\" xlink:href=\"#DejaVuSans-99\"/>\n       <use x=\"575.683594\" xlink:href=\"#DejaVuSans-70\"/>\n       <use x=\"625.953125\" xlink:href=\"#DejaVuSans-105\"/>\n       <use x=\"653.736328\" xlink:href=\"#DejaVuSans-101\"/>\n       <use x=\"715.259766\" xlink:href=\"#DejaVuSans-108\"/>\n       <use x=\"743.042969\" xlink:href=\"#DejaVuSans-100\"/>\n       <use x=\"806.519531\" xlink:href=\"#DejaVuSans-52\"/>\n       <use x=\"870.142578\" xlink:href=\"#DejaVuSans-52\"/>\n       <use x=\"933.765625\" xlink:href=\"#DejaVuSans-66\"/>\n      </g>\n     </g>\n    </g>\n    <g id=\"ytick_142\">\n     <g id=\"line2d_145\">\n      <g>\n       <use style=\"stroke:#000000;stroke-width:0.8;\" x=\"165.090625\" xlink:href=\"#m85187e86d9\" y=\"2222.551525\"/>\n      </g>\n     </g>\n     <g id=\"text_145\">\n      <!-- PersonalField73 -->\n      <g style=\"fill:#444443;\" transform=\"translate(79.778125 2226.350744)scale(0.1 -0.1)\">\n       <use xlink:href=\"#DejaVuSans-80\"/>\n       <use x=\"56.677734\" xlink:href=\"#DejaVuSans-101\"/>\n       <use x=\"118.201172\" xlink:href=\"#DejaVuSans-114\"/>\n       <use x=\"159.314453\" xlink:href=\"#DejaVuSans-115\"/>\n       <use x=\"211.414062\" xlink:href=\"#DejaVuSans-111\"/>\n       <use x=\"272.595703\" xlink:href=\"#DejaVuSans-110\"/>\n       <use x=\"335.974609\" xlink:href=\"#DejaVuSans-97\"/>\n       <use x=\"397.253906\" xlink:href=\"#DejaVuSans-108\"/>\n       <use x=\"425.037109\" xlink:href=\"#DejaVuSans-70\"/>\n       <use x=\"475.306641\" xlink:href=\"#DejaVuSans-105\"/>\n       <use x=\"503.089844\" xlink:href=\"#DejaVuSans-101\"/>\n       <use x=\"564.613281\" xlink:href=\"#DejaVuSans-108\"/>\n       <use x=\"592.396484\" xlink:href=\"#DejaVuSans-100\"/>\n       <use x=\"655.873047\" xlink:href=\"#DejaVuSans-55\"/>\n       <use x=\"719.496094\" xlink:href=\"#DejaVuSans-51\"/>\n      </g>\n     </g>\n    </g>\n    <g id=\"ytick_143\">\n     <g id=\"line2d_146\">\n      <g>\n       <use style=\"stroke:#000000;stroke-width:0.8;\" x=\"165.090625\" xlink:href=\"#m85187e86d9\" y=\"2238.253559\"/>\n      </g>\n     </g>\n     <g id=\"text_146\">\n      <!-- PersonalField72 -->\n      <g style=\"fill:#444443;\" transform=\"translate(79.778125 2242.052778)scale(0.1 -0.1)\">\n       <use xlink:href=\"#DejaVuSans-80\"/>\n       <use x=\"56.677734\" xlink:href=\"#DejaVuSans-101\"/>\n       <use x=\"118.201172\" xlink:href=\"#DejaVuSans-114\"/>\n       <use x=\"159.314453\" xlink:href=\"#DejaVuSans-115\"/>\n       <use x=\"211.414062\" xlink:href=\"#DejaVuSans-111\"/>\n       <use x=\"272.595703\" xlink:href=\"#DejaVuSans-110\"/>\n       <use x=\"335.974609\" xlink:href=\"#DejaVuSans-97\"/>\n       <use x=\"397.253906\" xlink:href=\"#DejaVuSans-108\"/>\n       <use x=\"425.037109\" xlink:href=\"#DejaVuSans-70\"/>\n       <use x=\"475.306641\" xlink:href=\"#DejaVuSans-105\"/>\n       <use x=\"503.089844\" xlink:href=\"#DejaVuSans-101\"/>\n       <use x=\"564.613281\" xlink:href=\"#DejaVuSans-108\"/>\n       <use x=\"592.396484\" xlink:href=\"#DejaVuSans-100\"/>\n       <use x=\"655.873047\" xlink:href=\"#DejaVuSans-55\"/>\n       <use x=\"719.496094\" xlink:href=\"#DejaVuSans-50\"/>\n      </g>\n     </g>\n    </g>\n    <g id=\"ytick_144\">\n     <g id=\"line2d_147\">\n      <g>\n       <use style=\"stroke:#000000;stroke-width:0.8;\" x=\"165.090625\" xlink:href=\"#m85187e86d9\" y=\"2253.955593\"/>\n      </g>\n     </g>\n     <g id=\"text_147\">\n      <!-- PersonalField71 -->\n      <g style=\"fill:#444443;\" transform=\"translate(79.778125 2257.754812)scale(0.1 -0.1)\">\n       <use xlink:href=\"#DejaVuSans-80\"/>\n       <use x=\"56.677734\" xlink:href=\"#DejaVuSans-101\"/>\n       <use x=\"118.201172\" xlink:href=\"#DejaVuSans-114\"/>\n       <use x=\"159.314453\" xlink:href=\"#DejaVuSans-115\"/>\n       <use x=\"211.414062\" xlink:href=\"#DejaVuSans-111\"/>\n       <use x=\"272.595703\" xlink:href=\"#DejaVuSans-110\"/>\n       <use x=\"335.974609\" xlink:href=\"#DejaVuSans-97\"/>\n       <use x=\"397.253906\" xlink:href=\"#DejaVuSans-108\"/>\n       <use x=\"425.037109\" xlink:href=\"#DejaVuSans-70\"/>\n       <use x=\"475.306641\" xlink:href=\"#DejaVuSans-105\"/>\n       <use x=\"503.089844\" xlink:href=\"#DejaVuSans-101\"/>\n       <use x=\"564.613281\" xlink:href=\"#DejaVuSans-108\"/>\n       <use x=\"592.396484\" xlink:href=\"#DejaVuSans-100\"/>\n       <use x=\"655.873047\" xlink:href=\"#DejaVuSans-55\"/>\n       <use x=\"719.496094\" xlink:href=\"#DejaVuSans-49\"/>\n      </g>\n     </g>\n    </g>\n    <g id=\"ytick_145\">\n     <g id=\"line2d_148\">\n      <g>\n       <use style=\"stroke:#000000;stroke-width:0.8;\" x=\"165.090625\" xlink:href=\"#m85187e86d9\" y=\"2269.657627\"/>\n      </g>\n     </g>\n     <g id=\"text_148\">\n      <!-- PersonalField70 -->\n      <g style=\"fill:#444443;\" transform=\"translate(79.778125 2273.456846)scale(0.1 -0.1)\">\n       <use xlink:href=\"#DejaVuSans-80\"/>\n       <use x=\"56.677734\" xlink:href=\"#DejaVuSans-101\"/>\n       <use x=\"118.201172\" xlink:href=\"#DejaVuSans-114\"/>\n       <use x=\"159.314453\" xlink:href=\"#DejaVuSans-115\"/>\n       <use x=\"211.414062\" xlink:href=\"#DejaVuSans-111\"/>\n       <use x=\"272.595703\" xlink:href=\"#DejaVuSans-110\"/>\n       <use x=\"335.974609\" xlink:href=\"#DejaVuSans-97\"/>\n       <use x=\"397.253906\" xlink:href=\"#DejaVuSans-108\"/>\n       <use x=\"425.037109\" xlink:href=\"#DejaVuSans-70\"/>\n       <use x=\"475.306641\" xlink:href=\"#DejaVuSans-105\"/>\n       <use x=\"503.089844\" xlink:href=\"#DejaVuSans-101\"/>\n       <use x=\"564.613281\" xlink:href=\"#DejaVuSans-108\"/>\n       <use x=\"592.396484\" xlink:href=\"#DejaVuSans-100\"/>\n       <use x=\"655.873047\" xlink:href=\"#DejaVuSans-55\"/>\n       <use x=\"719.496094\" xlink:href=\"#DejaVuSans-48\"/>\n      </g>\n     </g>\n    </g>\n    <g id=\"ytick_146\">\n     <g id=\"line2d_149\">\n      <g>\n       <use style=\"stroke:#000000;stroke-width:0.8;\" x=\"165.090625\" xlink:href=\"#m85187e86d9\" y=\"2285.359661\"/>\n      </g>\n     </g>\n     <g id=\"text_149\">\n      <!-- PersonalField69 -->\n      <g style=\"fill:#444443;\" transform=\"translate(79.778125 2289.15888)scale(0.1 -0.1)\">\n       <use xlink:href=\"#DejaVuSans-80\"/>\n       <use x=\"56.677734\" xlink:href=\"#DejaVuSans-101\"/>\n       <use x=\"118.201172\" xlink:href=\"#DejaVuSans-114\"/>\n       <use x=\"159.314453\" xlink:href=\"#DejaVuSans-115\"/>\n       <use x=\"211.414062\" xlink:href=\"#DejaVuSans-111\"/>\n       <use x=\"272.595703\" xlink:href=\"#DejaVuSans-110\"/>\n       <use x=\"335.974609\" xlink:href=\"#DejaVuSans-97\"/>\n       <use x=\"397.253906\" xlink:href=\"#DejaVuSans-108\"/>\n       <use x=\"425.037109\" xlink:href=\"#DejaVuSans-70\"/>\n       <use x=\"475.306641\" xlink:href=\"#DejaVuSans-105\"/>\n       <use x=\"503.089844\" xlink:href=\"#DejaVuSans-101\"/>\n       <use x=\"564.613281\" xlink:href=\"#DejaVuSans-108\"/>\n       <use x=\"592.396484\" xlink:href=\"#DejaVuSans-100\"/>\n       <use x=\"655.873047\" xlink:href=\"#DejaVuSans-54\"/>\n       <use x=\"719.496094\" xlink:href=\"#DejaVuSans-57\"/>\n      </g>\n     </g>\n    </g>\n    <g id=\"ytick_147\">\n     <g id=\"line2d_150\">\n      <g>\n       <use style=\"stroke:#000000;stroke-width:0.8;\" x=\"165.090625\" xlink:href=\"#m85187e86d9\" y=\"2301.061695\"/>\n      </g>\n     </g>\n     <g id=\"text_150\">\n      <!-- PersonalField68 -->\n      <g style=\"fill:#444443;\" transform=\"translate(79.778125 2304.860914)scale(0.1 -0.1)\">\n       <use xlink:href=\"#DejaVuSans-80\"/>\n       <use x=\"56.677734\" xlink:href=\"#DejaVuSans-101\"/>\n       <use x=\"118.201172\" xlink:href=\"#DejaVuSans-114\"/>\n       <use x=\"159.314453\" xlink:href=\"#DejaVuSans-115\"/>\n       <use x=\"211.414062\" xlink:href=\"#DejaVuSans-111\"/>\n       <use x=\"272.595703\" xlink:href=\"#DejaVuSans-110\"/>\n       <use x=\"335.974609\" xlink:href=\"#DejaVuSans-97\"/>\n       <use x=\"397.253906\" xlink:href=\"#DejaVuSans-108\"/>\n       <use x=\"425.037109\" xlink:href=\"#DejaVuSans-70\"/>\n       <use x=\"475.306641\" xlink:href=\"#DejaVuSans-105\"/>\n       <use x=\"503.089844\" xlink:href=\"#DejaVuSans-101\"/>\n       <use x=\"564.613281\" xlink:href=\"#DejaVuSans-108\"/>\n       <use x=\"592.396484\" xlink:href=\"#DejaVuSans-100\"/>\n       <use x=\"655.873047\" xlink:href=\"#DejaVuSans-54\"/>\n       <use x=\"719.496094\" xlink:href=\"#DejaVuSans-56\"/>\n      </g>\n     </g>\n    </g>\n    <g id=\"ytick_148\">\n     <g id=\"line2d_151\">\n      <g>\n       <use style=\"stroke:#000000;stroke-width:0.8;\" x=\"165.090625\" xlink:href=\"#m85187e86d9\" y=\"2316.763729\"/>\n      </g>\n     </g>\n     <g id=\"text_151\">\n      <!-- PersonalField67 -->\n      <g style=\"fill:#444443;\" transform=\"translate(79.778125 2320.562948)scale(0.1 -0.1)\">\n       <use xlink:href=\"#DejaVuSans-80\"/>\n       <use x=\"56.677734\" xlink:href=\"#DejaVuSans-101\"/>\n       <use x=\"118.201172\" xlink:href=\"#DejaVuSans-114\"/>\n       <use x=\"159.314453\" xlink:href=\"#DejaVuSans-115\"/>\n       <use x=\"211.414062\" xlink:href=\"#DejaVuSans-111\"/>\n       <use x=\"272.595703\" xlink:href=\"#DejaVuSans-110\"/>\n       <use x=\"335.974609\" xlink:href=\"#DejaVuSans-97\"/>\n       <use x=\"397.253906\" xlink:href=\"#DejaVuSans-108\"/>\n       <use x=\"425.037109\" xlink:href=\"#DejaVuSans-70\"/>\n       <use x=\"475.306641\" xlink:href=\"#DejaVuSans-105\"/>\n       <use x=\"503.089844\" xlink:href=\"#DejaVuSans-101\"/>\n       <use x=\"564.613281\" xlink:href=\"#DejaVuSans-108\"/>\n       <use x=\"592.396484\" xlink:href=\"#DejaVuSans-100\"/>\n       <use x=\"655.873047\" xlink:href=\"#DejaVuSans-54\"/>\n       <use x=\"719.496094\" xlink:href=\"#DejaVuSans-55\"/>\n      </g>\n     </g>\n    </g>\n    <g id=\"ytick_149\">\n     <g id=\"line2d_152\">\n      <g>\n       <use style=\"stroke:#000000;stroke-width:0.8;\" x=\"165.090625\" xlink:href=\"#m85187e86d9\" y=\"2332.465763\"/>\n      </g>\n     </g>\n     <g id=\"text_152\">\n      <!-- PersonalField65 -->\n      <g style=\"fill:#444443;\" transform=\"translate(79.778125 2336.264981)scale(0.1 -0.1)\">\n       <use xlink:href=\"#DejaVuSans-80\"/>\n       <use x=\"56.677734\" xlink:href=\"#DejaVuSans-101\"/>\n       <use x=\"118.201172\" xlink:href=\"#DejaVuSans-114\"/>\n       <use x=\"159.314453\" xlink:href=\"#DejaVuSans-115\"/>\n       <use x=\"211.414062\" xlink:href=\"#DejaVuSans-111\"/>\n       <use x=\"272.595703\" xlink:href=\"#DejaVuSans-110\"/>\n       <use x=\"335.974609\" xlink:href=\"#DejaVuSans-97\"/>\n       <use x=\"397.253906\" xlink:href=\"#DejaVuSans-108\"/>\n       <use x=\"425.037109\" xlink:href=\"#DejaVuSans-70\"/>\n       <use x=\"475.306641\" xlink:href=\"#DejaVuSans-105\"/>\n       <use x=\"503.089844\" xlink:href=\"#DejaVuSans-101\"/>\n       <use x=\"564.613281\" xlink:href=\"#DejaVuSans-108\"/>\n       <use x=\"592.396484\" xlink:href=\"#DejaVuSans-100\"/>\n       <use x=\"655.873047\" xlink:href=\"#DejaVuSans-54\"/>\n       <use x=\"719.496094\" xlink:href=\"#DejaVuSans-53\"/>\n      </g>\n     </g>\n    </g>\n    <g id=\"ytick_150\">\n     <g id=\"line2d_153\">\n      <g>\n       <use style=\"stroke:#000000;stroke-width:0.8;\" x=\"165.090625\" xlink:href=\"#m85187e86d9\" y=\"2348.167797\"/>\n      </g>\n     </g>\n     <g id=\"text_153\">\n      <!-- PropertyField5 -->\n      <g style=\"fill:#444443;\" transform=\"translate(86.332813 2351.967015)scale(0.1 -0.1)\">\n       <use xlink:href=\"#DejaVuSans-80\"/>\n       <use x=\"58.552734\" xlink:href=\"#DejaVuSans-114\"/>\n       <use x=\"97.416016\" xlink:href=\"#DejaVuSans-111\"/>\n       <use x=\"158.597656\" xlink:href=\"#DejaVuSans-112\"/>\n       <use x=\"222.074219\" xlink:href=\"#DejaVuSans-101\"/>\n       <use x=\"283.597656\" xlink:href=\"#DejaVuSans-114\"/>\n       <use x=\"324.710938\" xlink:href=\"#DejaVuSans-116\"/>\n       <use x=\"363.919922\" xlink:href=\"#DejaVuSans-121\"/>\n       <use x=\"423.099609\" xlink:href=\"#DejaVuSans-70\"/>\n       <use x=\"473.369141\" xlink:href=\"#DejaVuSans-105\"/>\n       <use x=\"501.152344\" xlink:href=\"#DejaVuSans-101\"/>\n       <use x=\"562.675781\" xlink:href=\"#DejaVuSans-108\"/>\n       <use x=\"590.458984\" xlink:href=\"#DejaVuSans-100\"/>\n       <use x=\"653.935547\" xlink:href=\"#DejaVuSans-53\"/>\n      </g>\n     </g>\n    </g>\n    <g id=\"ytick_151\">\n     <g id=\"line2d_154\">\n      <g>\n       <use style=\"stroke:#000000;stroke-width:0.8;\" x=\"165.090625\" xlink:href=\"#m85187e86d9\" y=\"2363.869831\"/>\n      </g>\n     </g>\n     <g id=\"text_154\">\n      <!-- PersonalField64 -->\n      <g style=\"fill:#444443;\" transform=\"translate(79.778125 2367.669049)scale(0.1 -0.1)\">\n       <use xlink:href=\"#DejaVuSans-80\"/>\n       <use x=\"56.677734\" xlink:href=\"#DejaVuSans-101\"/>\n       <use x=\"118.201172\" xlink:href=\"#DejaVuSans-114\"/>\n       <use x=\"159.314453\" xlink:href=\"#DejaVuSans-115\"/>\n       <use x=\"211.414062\" xlink:href=\"#DejaVuSans-111\"/>\n       <use x=\"272.595703\" xlink:href=\"#DejaVuSans-110\"/>\n       <use x=\"335.974609\" xlink:href=\"#DejaVuSans-97\"/>\n       <use x=\"397.253906\" xlink:href=\"#DejaVuSans-108\"/>\n       <use x=\"425.037109\" xlink:href=\"#DejaVuSans-70\"/>\n       <use x=\"475.306641\" xlink:href=\"#DejaVuSans-105\"/>\n       <use x=\"503.089844\" xlink:href=\"#DejaVuSans-101\"/>\n       <use x=\"564.613281\" xlink:href=\"#DejaVuSans-108\"/>\n       <use x=\"592.396484\" xlink:href=\"#DejaVuSans-100\"/>\n       <use x=\"655.873047\" xlink:href=\"#DejaVuSans-54\"/>\n       <use x=\"719.496094\" xlink:href=\"#DejaVuSans-52\"/>\n      </g>\n     </g>\n    </g>\n    <g id=\"ytick_152\">\n     <g id=\"line2d_155\">\n      <g>\n       <use style=\"stroke:#000000;stroke-width:0.8;\" x=\"165.090625\" xlink:href=\"#m85187e86d9\" y=\"2379.571864\"/>\n      </g>\n     </g>\n     <g id=\"text_155\">\n      <!-- PersonalField63 -->\n      <g style=\"fill:#444443;\" transform=\"translate(79.778125 2383.371083)scale(0.1 -0.1)\">\n       <use xlink:href=\"#DejaVuSans-80\"/>\n       <use x=\"56.677734\" xlink:href=\"#DejaVuSans-101\"/>\n       <use x=\"118.201172\" xlink:href=\"#DejaVuSans-114\"/>\n       <use x=\"159.314453\" xlink:href=\"#DejaVuSans-115\"/>\n       <use x=\"211.414062\" xlink:href=\"#DejaVuSans-111\"/>\n       <use x=\"272.595703\" xlink:href=\"#DejaVuSans-110\"/>\n       <use x=\"335.974609\" xlink:href=\"#DejaVuSans-97\"/>\n       <use x=\"397.253906\" xlink:href=\"#DejaVuSans-108\"/>\n       <use x=\"425.037109\" xlink:href=\"#DejaVuSans-70\"/>\n       <use x=\"475.306641\" xlink:href=\"#DejaVuSans-105\"/>\n       <use x=\"503.089844\" xlink:href=\"#DejaVuSans-101\"/>\n       <use x=\"564.613281\" xlink:href=\"#DejaVuSans-108\"/>\n       <use x=\"592.396484\" xlink:href=\"#DejaVuSans-100\"/>\n       <use x=\"655.873047\" xlink:href=\"#DejaVuSans-54\"/>\n       <use x=\"719.496094\" xlink:href=\"#DejaVuSans-51\"/>\n      </g>\n     </g>\n    </g>\n    <g id=\"ytick_153\">\n     <g id=\"line2d_156\">\n      <g>\n       <use style=\"stroke:#000000;stroke-width:0.8;\" x=\"165.090625\" xlink:href=\"#m85187e86d9\" y=\"2395.273898\"/>\n      </g>\n     </g>\n     <g id=\"text_156\">\n      <!-- PersonalField62 -->\n      <g style=\"fill:#444443;\" transform=\"translate(79.778125 2399.073117)scale(0.1 -0.1)\">\n       <use xlink:href=\"#DejaVuSans-80\"/>\n       <use x=\"56.677734\" xlink:href=\"#DejaVuSans-101\"/>\n       <use x=\"118.201172\" xlink:href=\"#DejaVuSans-114\"/>\n       <use x=\"159.314453\" xlink:href=\"#DejaVuSans-115\"/>\n       <use x=\"211.414062\" xlink:href=\"#DejaVuSans-111\"/>\n       <use x=\"272.595703\" xlink:href=\"#DejaVuSans-110\"/>\n       <use x=\"335.974609\" xlink:href=\"#DejaVuSans-97\"/>\n       <use x=\"397.253906\" xlink:href=\"#DejaVuSans-108\"/>\n       <use x=\"425.037109\" xlink:href=\"#DejaVuSans-70\"/>\n       <use x=\"475.306641\" xlink:href=\"#DejaVuSans-105\"/>\n       <use x=\"503.089844\" xlink:href=\"#DejaVuSans-101\"/>\n       <use x=\"564.613281\" xlink:href=\"#DejaVuSans-108\"/>\n       <use x=\"592.396484\" xlink:href=\"#DejaVuSans-100\"/>\n       <use x=\"655.873047\" xlink:href=\"#DejaVuSans-54\"/>\n       <use x=\"719.496094\" xlink:href=\"#DejaVuSans-50\"/>\n      </g>\n     </g>\n    </g>\n    <g id=\"ytick_154\">\n     <g id=\"line2d_157\">\n      <g>\n       <use style=\"stroke:#000000;stroke-width:0.8;\" x=\"165.090625\" xlink:href=\"#m85187e86d9\" y=\"2410.975932\"/>\n      </g>\n     </g>\n     <g id=\"text_157\">\n      <!-- PersonalField61 -->\n      <g style=\"fill:#444443;\" transform=\"translate(79.778125 2414.775151)scale(0.1 -0.1)\">\n       <use xlink:href=\"#DejaVuSans-80\"/>\n       <use x=\"56.677734\" xlink:href=\"#DejaVuSans-101\"/>\n       <use x=\"118.201172\" xlink:href=\"#DejaVuSans-114\"/>\n       <use x=\"159.314453\" xlink:href=\"#DejaVuSans-115\"/>\n       <use x=\"211.414062\" xlink:href=\"#DejaVuSans-111\"/>\n       <use x=\"272.595703\" xlink:href=\"#DejaVuSans-110\"/>\n       <use x=\"335.974609\" xlink:href=\"#DejaVuSans-97\"/>\n       <use x=\"397.253906\" xlink:href=\"#DejaVuSans-108\"/>\n       <use x=\"425.037109\" xlink:href=\"#DejaVuSans-70\"/>\n       <use x=\"475.306641\" xlink:href=\"#DejaVuSans-105\"/>\n       <use x=\"503.089844\" xlink:href=\"#DejaVuSans-101\"/>\n       <use x=\"564.613281\" xlink:href=\"#DejaVuSans-108\"/>\n       <use x=\"592.396484\" xlink:href=\"#DejaVuSans-100\"/>\n       <use x=\"655.873047\" xlink:href=\"#DejaVuSans-54\"/>\n       <use x=\"719.496094\" xlink:href=\"#DejaVuSans-49\"/>\n      </g>\n     </g>\n    </g>\n    <g id=\"ytick_155\">\n     <g id=\"line2d_158\">\n      <g>\n       <use style=\"stroke:#000000;stroke-width:0.8;\" x=\"165.090625\" xlink:href=\"#m85187e86d9\" y=\"2426.677966\"/>\n      </g>\n     </g>\n     <g id=\"text_158\">\n      <!-- PersonalField60 -->\n      <g style=\"fill:#444443;\" transform=\"translate(79.778125 2430.477185)scale(0.1 -0.1)\">\n       <use xlink:href=\"#DejaVuSans-80\"/>\n       <use x=\"56.677734\" xlink:href=\"#DejaVuSans-101\"/>\n       <use x=\"118.201172\" xlink:href=\"#DejaVuSans-114\"/>\n       <use x=\"159.314453\" xlink:href=\"#DejaVuSans-115\"/>\n       <use x=\"211.414062\" xlink:href=\"#DejaVuSans-111\"/>\n       <use x=\"272.595703\" xlink:href=\"#DejaVuSans-110\"/>\n       <use x=\"335.974609\" xlink:href=\"#DejaVuSans-97\"/>\n       <use x=\"397.253906\" xlink:href=\"#DejaVuSans-108\"/>\n       <use x=\"425.037109\" xlink:href=\"#DejaVuSans-70\"/>\n       <use x=\"475.306641\" xlink:href=\"#DejaVuSans-105\"/>\n       <use x=\"503.089844\" xlink:href=\"#DejaVuSans-101\"/>\n       <use x=\"564.613281\" xlink:href=\"#DejaVuSans-108\"/>\n       <use x=\"592.396484\" xlink:href=\"#DejaVuSans-100\"/>\n       <use x=\"655.873047\" xlink:href=\"#DejaVuSans-54\"/>\n       <use x=\"719.496094\" xlink:href=\"#DejaVuSans-48\"/>\n      </g>\n     </g>\n    </g>\n    <g id=\"ytick_156\">\n     <g id=\"line2d_159\">\n      <g>\n       <use style=\"stroke:#000000;stroke-width:0.8;\" x=\"165.090625\" xlink:href=\"#m85187e86d9\" y=\"2442.38\"/>\n      </g>\n     </g>\n     <g id=\"text_159\">\n      <!-- PersonalField59 -->\n      <g style=\"fill:#444443;\" transform=\"translate(79.778125 2446.179219)scale(0.1 -0.1)\">\n       <use xlink:href=\"#DejaVuSans-80\"/>\n       <use x=\"56.677734\" xlink:href=\"#DejaVuSans-101\"/>\n       <use x=\"118.201172\" xlink:href=\"#DejaVuSans-114\"/>\n       <use x=\"159.314453\" xlink:href=\"#DejaVuSans-115\"/>\n       <use x=\"211.414062\" xlink:href=\"#DejaVuSans-111\"/>\n       <use x=\"272.595703\" xlink:href=\"#DejaVuSans-110\"/>\n       <use x=\"335.974609\" xlink:href=\"#DejaVuSans-97\"/>\n       <use x=\"397.253906\" xlink:href=\"#DejaVuSans-108\"/>\n       <use x=\"425.037109\" xlink:href=\"#DejaVuSans-70\"/>\n       <use x=\"475.306641\" xlink:href=\"#DejaVuSans-105\"/>\n       <use x=\"503.089844\" xlink:href=\"#DejaVuSans-101\"/>\n       <use x=\"564.613281\" xlink:href=\"#DejaVuSans-108\"/>\n       <use x=\"592.396484\" xlink:href=\"#DejaVuSans-100\"/>\n       <use x=\"655.873047\" xlink:href=\"#DejaVuSans-53\"/>\n       <use x=\"719.496094\" xlink:href=\"#DejaVuSans-57\"/>\n      </g>\n     </g>\n    </g>\n    <g id=\"ytick_157\">\n     <g id=\"line2d_160\">\n      <g>\n       <use style=\"stroke:#000000;stroke-width:0.8;\" x=\"165.090625\" xlink:href=\"#m85187e86d9\" y=\"2458.082034\"/>\n      </g>\n     </g>\n     <g id=\"text_160\">\n      <!-- PersonalField58 -->\n      <g style=\"fill:#444443;\" transform=\"translate(79.778125 2461.881253)scale(0.1 -0.1)\">\n       <use xlink:href=\"#DejaVuSans-80\"/>\n       <use x=\"56.677734\" xlink:href=\"#DejaVuSans-101\"/>\n       <use x=\"118.201172\" xlink:href=\"#DejaVuSans-114\"/>\n       <use x=\"159.314453\" xlink:href=\"#DejaVuSans-115\"/>\n       <use x=\"211.414062\" xlink:href=\"#DejaVuSans-111\"/>\n       <use x=\"272.595703\" xlink:href=\"#DejaVuSans-110\"/>\n       <use x=\"335.974609\" xlink:href=\"#DejaVuSans-97\"/>\n       <use x=\"397.253906\" xlink:href=\"#DejaVuSans-108\"/>\n       <use x=\"425.037109\" xlink:href=\"#DejaVuSans-70\"/>\n       <use x=\"475.306641\" xlink:href=\"#DejaVuSans-105\"/>\n       <use x=\"503.089844\" xlink:href=\"#DejaVuSans-101\"/>\n       <use x=\"564.613281\" xlink:href=\"#DejaVuSans-108\"/>\n       <use x=\"592.396484\" xlink:href=\"#DejaVuSans-100\"/>\n       <use x=\"655.873047\" xlink:href=\"#DejaVuSans-53\"/>\n       <use x=\"719.496094\" xlink:href=\"#DejaVuSans-56\"/>\n      </g>\n     </g>\n    </g>\n    <g id=\"ytick_158\">\n     <g id=\"line2d_161\">\n      <g>\n       <use style=\"stroke:#000000;stroke-width:0.8;\" x=\"165.090625\" xlink:href=\"#m85187e86d9\" y=\"2473.784068\"/>\n      </g>\n     </g>\n     <g id=\"text_161\">\n      <!-- PersonalField57 -->\n      <g style=\"fill:#444443;\" transform=\"translate(79.778125 2477.583287)scale(0.1 -0.1)\">\n       <use xlink:href=\"#DejaVuSans-80\"/>\n       <use x=\"56.677734\" xlink:href=\"#DejaVuSans-101\"/>\n       <use x=\"118.201172\" xlink:href=\"#DejaVuSans-114\"/>\n       <use x=\"159.314453\" xlink:href=\"#DejaVuSans-115\"/>\n       <use x=\"211.414062\" xlink:href=\"#DejaVuSans-111\"/>\n       <use x=\"272.595703\" xlink:href=\"#DejaVuSans-110\"/>\n       <use x=\"335.974609\" xlink:href=\"#DejaVuSans-97\"/>\n       <use x=\"397.253906\" xlink:href=\"#DejaVuSans-108\"/>\n       <use x=\"425.037109\" xlink:href=\"#DejaVuSans-70\"/>\n       <use x=\"475.306641\" xlink:href=\"#DejaVuSans-105\"/>\n       <use x=\"503.089844\" xlink:href=\"#DejaVuSans-101\"/>\n       <use x=\"564.613281\" xlink:href=\"#DejaVuSans-108\"/>\n       <use x=\"592.396484\" xlink:href=\"#DejaVuSans-100\"/>\n       <use x=\"655.873047\" xlink:href=\"#DejaVuSans-53\"/>\n       <use x=\"719.496094\" xlink:href=\"#DejaVuSans-55\"/>\n      </g>\n     </g>\n    </g>\n    <g id=\"ytick_159\">\n     <g id=\"line2d_162\">\n      <g>\n       <use style=\"stroke:#000000;stroke-width:0.8;\" x=\"165.090625\" xlink:href=\"#m85187e86d9\" y=\"2489.486102\"/>\n      </g>\n     </g>\n     <g id=\"text_162\">\n      <!-- PersonalField56 -->\n      <g style=\"fill:#444443;\" transform=\"translate(79.778125 2493.28532)scale(0.1 -0.1)\">\n       <use xlink:href=\"#DejaVuSans-80\"/>\n       <use x=\"56.677734\" xlink:href=\"#DejaVuSans-101\"/>\n       <use x=\"118.201172\" xlink:href=\"#DejaVuSans-114\"/>\n       <use x=\"159.314453\" xlink:href=\"#DejaVuSans-115\"/>\n       <use x=\"211.414062\" xlink:href=\"#DejaVuSans-111\"/>\n       <use x=\"272.595703\" xlink:href=\"#DejaVuSans-110\"/>\n       <use x=\"335.974609\" xlink:href=\"#DejaVuSans-97\"/>\n       <use x=\"397.253906\" xlink:href=\"#DejaVuSans-108\"/>\n       <use x=\"425.037109\" xlink:href=\"#DejaVuSans-70\"/>\n       <use x=\"475.306641\" xlink:href=\"#DejaVuSans-105\"/>\n       <use x=\"503.089844\" xlink:href=\"#DejaVuSans-101\"/>\n       <use x=\"564.613281\" xlink:href=\"#DejaVuSans-108\"/>\n       <use x=\"592.396484\" xlink:href=\"#DejaVuSans-100\"/>\n       <use x=\"655.873047\" xlink:href=\"#DejaVuSans-53\"/>\n       <use x=\"719.496094\" xlink:href=\"#DejaVuSans-54\"/>\n      </g>\n     </g>\n    </g>\n    <g id=\"ytick_160\">\n     <g id=\"line2d_163\">\n      <g>\n       <use style=\"stroke:#000000;stroke-width:0.8;\" x=\"165.090625\" xlink:href=\"#m85187e86d9\" y=\"2505.188136\"/>\n      </g>\n     </g>\n     <g id=\"text_163\">\n      <!-- PersonalField55 -->\n      <g style=\"fill:#444443;\" transform=\"translate(79.778125 2508.987354)scale(0.1 -0.1)\">\n       <use xlink:href=\"#DejaVuSans-80\"/>\n       <use x=\"56.677734\" xlink:href=\"#DejaVuSans-101\"/>\n       <use x=\"118.201172\" xlink:href=\"#DejaVuSans-114\"/>\n       <use x=\"159.314453\" xlink:href=\"#DejaVuSans-115\"/>\n       <use x=\"211.414062\" xlink:href=\"#DejaVuSans-111\"/>\n       <use x=\"272.595703\" xlink:href=\"#DejaVuSans-110\"/>\n       <use x=\"335.974609\" xlink:href=\"#DejaVuSans-97\"/>\n       <use x=\"397.253906\" xlink:href=\"#DejaVuSans-108\"/>\n       <use x=\"425.037109\" xlink:href=\"#DejaVuSans-70\"/>\n       <use x=\"475.306641\" xlink:href=\"#DejaVuSans-105\"/>\n       <use x=\"503.089844\" xlink:href=\"#DejaVuSans-101\"/>\n       <use x=\"564.613281\" xlink:href=\"#DejaVuSans-108\"/>\n       <use x=\"592.396484\" xlink:href=\"#DejaVuSans-100\"/>\n       <use x=\"655.873047\" xlink:href=\"#DejaVuSans-53\"/>\n       <use x=\"719.496094\" xlink:href=\"#DejaVuSans-53\"/>\n      </g>\n     </g>\n    </g>\n    <g id=\"ytick_161\">\n     <g id=\"line2d_164\">\n      <g>\n       <use style=\"stroke:#000000;stroke-width:0.8;\" x=\"165.090625\" xlink:href=\"#m85187e86d9\" y=\"2520.890169\"/>\n      </g>\n     </g>\n     <g id=\"text_164\">\n      <!-- PersonalField53 -->\n      <g style=\"fill:#444443;\" transform=\"translate(79.778125 2524.689388)scale(0.1 -0.1)\">\n       <use xlink:href=\"#DejaVuSans-80\"/>\n       <use x=\"56.677734\" xlink:href=\"#DejaVuSans-101\"/>\n       <use x=\"118.201172\" xlink:href=\"#DejaVuSans-114\"/>\n       <use x=\"159.314453\" xlink:href=\"#DejaVuSans-115\"/>\n       <use x=\"211.414062\" xlink:href=\"#DejaVuSans-111\"/>\n       <use x=\"272.595703\" xlink:href=\"#DejaVuSans-110\"/>\n       <use x=\"335.974609\" xlink:href=\"#DejaVuSans-97\"/>\n       <use x=\"397.253906\" xlink:href=\"#DejaVuSans-108\"/>\n       <use x=\"425.037109\" xlink:href=\"#DejaVuSans-70\"/>\n       <use x=\"475.306641\" xlink:href=\"#DejaVuSans-105\"/>\n       <use x=\"503.089844\" xlink:href=\"#DejaVuSans-101\"/>\n       <use x=\"564.613281\" xlink:href=\"#DejaVuSans-108\"/>\n       <use x=\"592.396484\" xlink:href=\"#DejaVuSans-100\"/>\n       <use x=\"655.873047\" xlink:href=\"#DejaVuSans-53\"/>\n       <use x=\"719.496094\" xlink:href=\"#DejaVuSans-51\"/>\n      </g>\n     </g>\n    </g>\n    <g id=\"ytick_162\">\n     <g id=\"line2d_165\">\n      <g>\n       <use style=\"stroke:#000000;stroke-width:0.8;\" x=\"165.090625\" xlink:href=\"#m85187e86d9\" y=\"2536.592203\"/>\n      </g>\n     </g>\n     <g id=\"text_165\">\n      <!-- PersonalField52 -->\n      <g style=\"fill:#444443;\" transform=\"translate(79.778125 2540.391422)scale(0.1 -0.1)\">\n       <use xlink:href=\"#DejaVuSans-80\"/>\n       <use x=\"56.677734\" xlink:href=\"#DejaVuSans-101\"/>\n       <use x=\"118.201172\" xlink:href=\"#DejaVuSans-114\"/>\n       <use x=\"159.314453\" xlink:href=\"#DejaVuSans-115\"/>\n       <use x=\"211.414062\" xlink:href=\"#DejaVuSans-111\"/>\n       <use x=\"272.595703\" xlink:href=\"#DejaVuSans-110\"/>\n       <use x=\"335.974609\" xlink:href=\"#DejaVuSans-97\"/>\n       <use x=\"397.253906\" xlink:href=\"#DejaVuSans-108\"/>\n       <use x=\"425.037109\" xlink:href=\"#DejaVuSans-70\"/>\n       <use x=\"475.306641\" xlink:href=\"#DejaVuSans-105\"/>\n       <use x=\"503.089844\" xlink:href=\"#DejaVuSans-101\"/>\n       <use x=\"564.613281\" xlink:href=\"#DejaVuSans-108\"/>\n       <use x=\"592.396484\" xlink:href=\"#DejaVuSans-100\"/>\n       <use x=\"655.873047\" xlink:href=\"#DejaVuSans-53\"/>\n       <use x=\"719.496094\" xlink:href=\"#DejaVuSans-50\"/>\n      </g>\n     </g>\n    </g>\n    <g id=\"ytick_163\">\n     <g id=\"line2d_166\">\n      <g>\n       <use style=\"stroke:#000000;stroke-width:0.8;\" x=\"165.090625\" xlink:href=\"#m85187e86d9\" y=\"2552.294237\"/>\n      </g>\n     </g>\n     <g id=\"text_166\">\n      <!-- PersonalField51 -->\n      <g style=\"fill:#444443;\" transform=\"translate(79.778125 2556.093456)scale(0.1 -0.1)\">\n       <use xlink:href=\"#DejaVuSans-80\"/>\n       <use x=\"56.677734\" xlink:href=\"#DejaVuSans-101\"/>\n       <use x=\"118.201172\" xlink:href=\"#DejaVuSans-114\"/>\n       <use x=\"159.314453\" xlink:href=\"#DejaVuSans-115\"/>\n       <use x=\"211.414062\" xlink:href=\"#DejaVuSans-111\"/>\n       <use x=\"272.595703\" xlink:href=\"#DejaVuSans-110\"/>\n       <use x=\"335.974609\" xlink:href=\"#DejaVuSans-97\"/>\n       <use x=\"397.253906\" xlink:href=\"#DejaVuSans-108\"/>\n       <use x=\"425.037109\" xlink:href=\"#DejaVuSans-70\"/>\n       <use x=\"475.306641\" xlink:href=\"#DejaVuSans-105\"/>\n       <use x=\"503.089844\" xlink:href=\"#DejaVuSans-101\"/>\n       <use x=\"564.613281\" xlink:href=\"#DejaVuSans-108\"/>\n       <use x=\"592.396484\" xlink:href=\"#DejaVuSans-100\"/>\n       <use x=\"655.873047\" xlink:href=\"#DejaVuSans-53\"/>\n       <use x=\"719.496094\" xlink:href=\"#DejaVuSans-49\"/>\n      </g>\n     </g>\n    </g>\n    <g id=\"ytick_164\">\n     <g id=\"line2d_167\">\n      <g>\n       <use style=\"stroke:#000000;stroke-width:0.8;\" x=\"165.090625\" xlink:href=\"#m85187e86d9\" y=\"2567.996271\"/>\n      </g>\n     </g>\n     <g id=\"text_167\">\n      <!-- PersonalField43 -->\n      <g style=\"fill:#444443;\" transform=\"translate(79.778125 2571.79549)scale(0.1 -0.1)\">\n       <use xlink:href=\"#DejaVuSans-80\"/>\n       <use x=\"56.677734\" xlink:href=\"#DejaVuSans-101\"/>\n       <use x=\"118.201172\" xlink:href=\"#DejaVuSans-114\"/>\n       <use x=\"159.314453\" xlink:href=\"#DejaVuSans-115\"/>\n       <use x=\"211.414062\" xlink:href=\"#DejaVuSans-111\"/>\n       <use x=\"272.595703\" xlink:href=\"#DejaVuSans-110\"/>\n       <use x=\"335.974609\" xlink:href=\"#DejaVuSans-97\"/>\n       <use x=\"397.253906\" xlink:href=\"#DejaVuSans-108\"/>\n       <use x=\"425.037109\" xlink:href=\"#DejaVuSans-70\"/>\n       <use x=\"475.306641\" xlink:href=\"#DejaVuSans-105\"/>\n       <use x=\"503.089844\" xlink:href=\"#DejaVuSans-101\"/>\n       <use x=\"564.613281\" xlink:href=\"#DejaVuSans-108\"/>\n       <use x=\"592.396484\" xlink:href=\"#DejaVuSans-100\"/>\n       <use x=\"655.873047\" xlink:href=\"#DejaVuSans-52\"/>\n       <use x=\"719.496094\" xlink:href=\"#DejaVuSans-51\"/>\n      </g>\n     </g>\n    </g>\n    <g id=\"ytick_165\">\n     <g id=\"line2d_168\">\n      <g>\n       <use style=\"stroke:#000000;stroke-width:0.8;\" x=\"165.090625\" xlink:href=\"#m85187e86d9\" y=\"2583.698305\"/>\n      </g>\n     </g>\n     <g id=\"text_168\">\n      <!-- PropertyField8 -->\n      <g style=\"fill:#444443;\" transform=\"translate(86.332813 2587.497524)scale(0.1 -0.1)\">\n       <use xlink:href=\"#DejaVuSans-80\"/>\n       <use x=\"58.552734\" xlink:href=\"#DejaVuSans-114\"/>\n       <use x=\"97.416016\" xlink:href=\"#DejaVuSans-111\"/>\n       <use x=\"158.597656\" xlink:href=\"#DejaVuSans-112\"/>\n       <use x=\"222.074219\" xlink:href=\"#DejaVuSans-101\"/>\n       <use x=\"283.597656\" xlink:href=\"#DejaVuSans-114\"/>\n       <use x=\"324.710938\" xlink:href=\"#DejaVuSans-116\"/>\n       <use x=\"363.919922\" xlink:href=\"#DejaVuSans-121\"/>\n       <use x=\"423.099609\" xlink:href=\"#DejaVuSans-70\"/>\n       <use x=\"473.369141\" xlink:href=\"#DejaVuSans-105\"/>\n       <use x=\"501.152344\" xlink:href=\"#DejaVuSans-101\"/>\n       <use x=\"562.675781\" xlink:href=\"#DejaVuSans-108\"/>\n       <use x=\"590.458984\" xlink:href=\"#DejaVuSans-100\"/>\n       <use x=\"653.935547\" xlink:href=\"#DejaVuSans-56\"/>\n      </g>\n     </g>\n    </g>\n    <g id=\"ytick_166\">\n     <g id=\"line2d_169\">\n      <g>\n       <use style=\"stroke:#000000;stroke-width:0.8;\" x=\"165.090625\" xlink:href=\"#m85187e86d9\" y=\"2599.400339\"/>\n      </g>\n     </g>\n     <g id=\"text_169\">\n      <!-- PersonalField39 -->\n      <g style=\"fill:#444443;\" transform=\"translate(79.778125 2603.199558)scale(0.1 -0.1)\">\n       <use xlink:href=\"#DejaVuSans-80\"/>\n       <use x=\"56.677734\" xlink:href=\"#DejaVuSans-101\"/>\n       <use x=\"118.201172\" xlink:href=\"#DejaVuSans-114\"/>\n       <use x=\"159.314453\" xlink:href=\"#DejaVuSans-115\"/>\n       <use x=\"211.414062\" xlink:href=\"#DejaVuSans-111\"/>\n       <use x=\"272.595703\" xlink:href=\"#DejaVuSans-110\"/>\n       <use x=\"335.974609\" xlink:href=\"#DejaVuSans-97\"/>\n       <use x=\"397.253906\" xlink:href=\"#DejaVuSans-108\"/>\n       <use x=\"425.037109\" xlink:href=\"#DejaVuSans-70\"/>\n       <use x=\"475.306641\" xlink:href=\"#DejaVuSans-105\"/>\n       <use x=\"503.089844\" xlink:href=\"#DejaVuSans-101\"/>\n       <use x=\"564.613281\" xlink:href=\"#DejaVuSans-108\"/>\n       <use x=\"592.396484\" xlink:href=\"#DejaVuSans-100\"/>\n       <use x=\"655.873047\" xlink:href=\"#DejaVuSans-51\"/>\n       <use x=\"719.496094\" xlink:href=\"#DejaVuSans-57\"/>\n      </g>\n     </g>\n    </g>\n    <g id=\"ytick_167\">\n     <g id=\"line2d_170\">\n      <g>\n       <use style=\"stroke:#000000;stroke-width:0.8;\" x=\"165.090625\" xlink:href=\"#m85187e86d9\" y=\"2615.102373\"/>\n      </g>\n     </g>\n     <g id=\"text_170\">\n      <!-- PersonalField41 -->\n      <g style=\"fill:#444443;\" transform=\"translate(79.778125 2618.901592)scale(0.1 -0.1)\">\n       <use xlink:href=\"#DejaVuSans-80\"/>\n       <use x=\"56.677734\" xlink:href=\"#DejaVuSans-101\"/>\n       <use x=\"118.201172\" xlink:href=\"#DejaVuSans-114\"/>\n       <use x=\"159.314453\" xlink:href=\"#DejaVuSans-115\"/>\n       <use x=\"211.414062\" xlink:href=\"#DejaVuSans-111\"/>\n       <use x=\"272.595703\" xlink:href=\"#DejaVuSans-110\"/>\n       <use x=\"335.974609\" xlink:href=\"#DejaVuSans-97\"/>\n       <use x=\"397.253906\" xlink:href=\"#DejaVuSans-108\"/>\n       <use x=\"425.037109\" xlink:href=\"#DejaVuSans-70\"/>\n       <use x=\"475.306641\" xlink:href=\"#DejaVuSans-105\"/>\n       <use x=\"503.089844\" xlink:href=\"#DejaVuSans-101\"/>\n       <use x=\"564.613281\" xlink:href=\"#DejaVuSans-108\"/>\n       <use x=\"592.396484\" xlink:href=\"#DejaVuSans-100\"/>\n       <use x=\"655.873047\" xlink:href=\"#DejaVuSans-52\"/>\n       <use x=\"719.496094\" xlink:href=\"#DejaVuSans-49\"/>\n      </g>\n     </g>\n    </g>\n    <g id=\"ytick_168\">\n     <g id=\"line2d_171\">\n      <g>\n       <use style=\"stroke:#000000;stroke-width:0.8;\" x=\"165.090625\" xlink:href=\"#m85187e86d9\" y=\"2630.804407\"/>\n      </g>\n     </g>\n     <g id=\"text_171\">\n      <!-- PersonalField37 -->\n      <g style=\"fill:#444443;\" transform=\"translate(79.778125 2634.603626)scale(0.1 -0.1)\">\n       <use xlink:href=\"#DejaVuSans-80\"/>\n       <use x=\"56.677734\" xlink:href=\"#DejaVuSans-101\"/>\n       <use x=\"118.201172\" xlink:href=\"#DejaVuSans-114\"/>\n       <use x=\"159.314453\" xlink:href=\"#DejaVuSans-115\"/>\n       <use x=\"211.414062\" xlink:href=\"#DejaVuSans-111\"/>\n       <use x=\"272.595703\" xlink:href=\"#DejaVuSans-110\"/>\n       <use x=\"335.974609\" xlink:href=\"#DejaVuSans-97\"/>\n       <use x=\"397.253906\" xlink:href=\"#DejaVuSans-108\"/>\n       <use x=\"425.037109\" xlink:href=\"#DejaVuSans-70\"/>\n       <use x=\"475.306641\" xlink:href=\"#DejaVuSans-105\"/>\n       <use x=\"503.089844\" xlink:href=\"#DejaVuSans-101\"/>\n       <use x=\"564.613281\" xlink:href=\"#DejaVuSans-108\"/>\n       <use x=\"592.396484\" xlink:href=\"#DejaVuSans-100\"/>\n       <use x=\"655.873047\" xlink:href=\"#DejaVuSans-51\"/>\n       <use x=\"719.496094\" xlink:href=\"#DejaVuSans-55\"/>\n      </g>\n     </g>\n    </g>\n    <g id=\"ytick_169\">\n     <g id=\"line2d_172\">\n      <g>\n       <use style=\"stroke:#000000;stroke-width:0.8;\" x=\"165.090625\" xlink:href=\"#m85187e86d9\" y=\"2646.506441\"/>\n      </g>\n     </g>\n     <g id=\"text_172\">\n      <!-- PersonalField38 -->\n      <g style=\"fill:#444443;\" transform=\"translate(79.778125 2650.305659)scale(0.1 -0.1)\">\n       <use xlink:href=\"#DejaVuSans-80\"/>\n       <use x=\"56.677734\" xlink:href=\"#DejaVuSans-101\"/>\n       <use x=\"118.201172\" xlink:href=\"#DejaVuSans-114\"/>\n       <use x=\"159.314453\" xlink:href=\"#DejaVuSans-115\"/>\n       <use x=\"211.414062\" xlink:href=\"#DejaVuSans-111\"/>\n       <use x=\"272.595703\" xlink:href=\"#DejaVuSans-110\"/>\n       <use x=\"335.974609\" xlink:href=\"#DejaVuSans-97\"/>\n       <use x=\"397.253906\" xlink:href=\"#DejaVuSans-108\"/>\n       <use x=\"425.037109\" xlink:href=\"#DejaVuSans-70\"/>\n       <use x=\"475.306641\" xlink:href=\"#DejaVuSans-105\"/>\n       <use x=\"503.089844\" xlink:href=\"#DejaVuSans-101\"/>\n       <use x=\"564.613281\" xlink:href=\"#DejaVuSans-108\"/>\n       <use x=\"592.396484\" xlink:href=\"#DejaVuSans-100\"/>\n       <use x=\"655.873047\" xlink:href=\"#DejaVuSans-51\"/>\n       <use x=\"719.496094\" xlink:href=\"#DejaVuSans-56\"/>\n      </g>\n     </g>\n    </g>\n    <g id=\"ytick_170\">\n     <g id=\"line2d_173\">\n      <g>\n       <use style=\"stroke:#000000;stroke-width:0.8;\" x=\"165.090625\" xlink:href=\"#m85187e86d9\" y=\"2662.208475\"/>\n      </g>\n     </g>\n     <g id=\"text_173\">\n      <!-- PropertyField31 -->\n      <g style=\"fill:#444443;\" transform=\"translate(79.970313 2666.007693)scale(0.1 -0.1)\">\n       <use xlink:href=\"#DejaVuSans-80\"/>\n       <use x=\"58.552734\" xlink:href=\"#DejaVuSans-114\"/>\n       <use x=\"97.416016\" xlink:href=\"#DejaVuSans-111\"/>\n       <use x=\"158.597656\" xlink:href=\"#DejaVuSans-112\"/>\n       <use x=\"222.074219\" xlink:href=\"#DejaVuSans-101\"/>\n       <use x=\"283.597656\" xlink:href=\"#DejaVuSans-114\"/>\n       <use x=\"324.710938\" xlink:href=\"#DejaVuSans-116\"/>\n       <use x=\"363.919922\" xlink:href=\"#DejaVuSans-121\"/>\n       <use x=\"423.099609\" xlink:href=\"#DejaVuSans-70\"/>\n       <use x=\"473.369141\" xlink:href=\"#DejaVuSans-105\"/>\n       <use x=\"501.152344\" xlink:href=\"#DejaVuSans-101\"/>\n       <use x=\"562.675781\" xlink:href=\"#DejaVuSans-108\"/>\n       <use x=\"590.458984\" xlink:href=\"#DejaVuSans-100\"/>\n       <use x=\"653.935547\" xlink:href=\"#DejaVuSans-51\"/>\n       <use x=\"717.558594\" xlink:href=\"#DejaVuSans-49\"/>\n      </g>\n     </g>\n    </g>\n    <g id=\"ytick_171\">\n     <g id=\"line2d_174\">\n      <g>\n       <use style=\"stroke:#000000;stroke-width:0.8;\" x=\"165.090625\" xlink:href=\"#m85187e86d9\" y=\"2677.910508\"/>\n      </g>\n     </g>\n     <g id=\"text_174\">\n      <!-- PropertyField36 -->\n      <g style=\"fill:#444443;\" transform=\"translate(79.970313 2681.709727)scale(0.1 -0.1)\">\n       <use xlink:href=\"#DejaVuSans-80\"/>\n       <use x=\"58.552734\" xlink:href=\"#DejaVuSans-114\"/>\n       <use x=\"97.416016\" xlink:href=\"#DejaVuSans-111\"/>\n       <use x=\"158.597656\" xlink:href=\"#DejaVuSans-112\"/>\n       <use x=\"222.074219\" xlink:href=\"#DejaVuSans-101\"/>\n       <use x=\"283.597656\" xlink:href=\"#DejaVuSans-114\"/>\n       <use x=\"324.710938\" xlink:href=\"#DejaVuSans-116\"/>\n       <use x=\"363.919922\" xlink:href=\"#DejaVuSans-121\"/>\n       <use x=\"423.099609\" xlink:href=\"#DejaVuSans-70\"/>\n       <use x=\"473.369141\" xlink:href=\"#DejaVuSans-105\"/>\n       <use x=\"501.152344\" xlink:href=\"#DejaVuSans-101\"/>\n       <use x=\"562.675781\" xlink:href=\"#DejaVuSans-108\"/>\n       <use x=\"590.458984\" xlink:href=\"#DejaVuSans-100\"/>\n       <use x=\"653.935547\" xlink:href=\"#DejaVuSans-51\"/>\n       <use x=\"717.558594\" xlink:href=\"#DejaVuSans-54\"/>\n      </g>\n     </g>\n    </g>\n    <g id=\"ytick_172\">\n     <g id=\"line2d_175\">\n      <g>\n       <use style=\"stroke:#000000;stroke-width:0.8;\" x=\"165.090625\" xlink:href=\"#m85187e86d9\" y=\"2693.612542\"/>\n      </g>\n     </g>\n     <g id=\"text_175\">\n      <!-- PropertyField28 -->\n      <g style=\"fill:#444443;\" transform=\"translate(79.970313 2697.411761)scale(0.1 -0.1)\">\n       <use xlink:href=\"#DejaVuSans-80\"/>\n       <use x=\"58.552734\" xlink:href=\"#DejaVuSans-114\"/>\n       <use x=\"97.416016\" xlink:href=\"#DejaVuSans-111\"/>\n       <use x=\"158.597656\" xlink:href=\"#DejaVuSans-112\"/>\n       <use x=\"222.074219\" xlink:href=\"#DejaVuSans-101\"/>\n       <use x=\"283.597656\" xlink:href=\"#DejaVuSans-114\"/>\n       <use x=\"324.710938\" xlink:href=\"#DejaVuSans-116\"/>\n       <use x=\"363.919922\" xlink:href=\"#DejaVuSans-121\"/>\n       <use x=\"423.099609\" xlink:href=\"#DejaVuSans-70\"/>\n       <use x=\"473.369141\" xlink:href=\"#DejaVuSans-105\"/>\n       <use x=\"501.152344\" xlink:href=\"#DejaVuSans-101\"/>\n       <use x=\"562.675781\" xlink:href=\"#DejaVuSans-108\"/>\n       <use x=\"590.458984\" xlink:href=\"#DejaVuSans-100\"/>\n       <use x=\"653.935547\" xlink:href=\"#DejaVuSans-50\"/>\n       <use x=\"717.558594\" xlink:href=\"#DejaVuSans-56\"/>\n      </g>\n     </g>\n    </g>\n    <g id=\"ytick_173\">\n     <g id=\"line2d_176\">\n      <g>\n       <use style=\"stroke:#000000;stroke-width:0.8;\" x=\"165.090625\" xlink:href=\"#m85187e86d9\" y=\"2709.314576\"/>\n      </g>\n     </g>\n     <g id=\"text_176\">\n      <!-- PersonalField35 -->\n      <g style=\"fill:#444443;\" transform=\"translate(79.778125 2713.113795)scale(0.1 -0.1)\">\n       <use xlink:href=\"#DejaVuSans-80\"/>\n       <use x=\"56.677734\" xlink:href=\"#DejaVuSans-101\"/>\n       <use x=\"118.201172\" xlink:href=\"#DejaVuSans-114\"/>\n       <use x=\"159.314453\" xlink:href=\"#DejaVuSans-115\"/>\n       <use x=\"211.414062\" xlink:href=\"#DejaVuSans-111\"/>\n       <use x=\"272.595703\" xlink:href=\"#DejaVuSans-110\"/>\n       <use x=\"335.974609\" xlink:href=\"#DejaVuSans-97\"/>\n       <use x=\"397.253906\" xlink:href=\"#DejaVuSans-108\"/>\n       <use x=\"425.037109\" xlink:href=\"#DejaVuSans-70\"/>\n       <use x=\"475.306641\" xlink:href=\"#DejaVuSans-105\"/>\n       <use x=\"503.089844\" xlink:href=\"#DejaVuSans-101\"/>\n       <use x=\"564.613281\" xlink:href=\"#DejaVuSans-108\"/>\n       <use x=\"592.396484\" xlink:href=\"#DejaVuSans-100\"/>\n       <use x=\"655.873047\" xlink:href=\"#DejaVuSans-51\"/>\n       <use x=\"719.496094\" xlink:href=\"#DejaVuSans-53\"/>\n      </g>\n     </g>\n    </g>\n    <g id=\"ytick_174\">\n     <g id=\"line2d_177\">\n      <g>\n       <use style=\"stroke:#000000;stroke-width:0.8;\" x=\"165.090625\" xlink:href=\"#m85187e86d9\" y=\"2725.01661\"/>\n      </g>\n     </g>\n     <g id=\"text_177\">\n      <!-- PropertyField38 -->\n      <g style=\"fill:#444443;\" transform=\"translate(79.970313 2728.815829)scale(0.1 -0.1)\">\n       <use xlink:href=\"#DejaVuSans-80\"/>\n       <use x=\"58.552734\" xlink:href=\"#DejaVuSans-114\"/>\n       <use x=\"97.416016\" xlink:href=\"#DejaVuSans-111\"/>\n       <use x=\"158.597656\" xlink:href=\"#DejaVuSans-112\"/>\n       <use x=\"222.074219\" xlink:href=\"#DejaVuSans-101\"/>\n       <use x=\"283.597656\" xlink:href=\"#DejaVuSans-114\"/>\n       <use x=\"324.710938\" xlink:href=\"#DejaVuSans-116\"/>\n       <use x=\"363.919922\" xlink:href=\"#DejaVuSans-121\"/>\n       <use x=\"423.099609\" xlink:href=\"#DejaVuSans-70\"/>\n       <use x=\"473.369141\" xlink:href=\"#DejaVuSans-105\"/>\n       <use x=\"501.152344\" xlink:href=\"#DejaVuSans-101\"/>\n       <use x=\"562.675781\" xlink:href=\"#DejaVuSans-108\"/>\n       <use x=\"590.458984\" xlink:href=\"#DejaVuSans-100\"/>\n       <use x=\"653.935547\" xlink:href=\"#DejaVuSans-51\"/>\n       <use x=\"717.558594\" xlink:href=\"#DejaVuSans-56\"/>\n      </g>\n     </g>\n    </g>\n    <g id=\"ytick_175\">\n     <g id=\"line2d_178\">\n      <g>\n       <use style=\"stroke:#000000;stroke-width:0.8;\" x=\"165.090625\" xlink:href=\"#m85187e86d9\" y=\"2740.718644\"/>\n      </g>\n     </g>\n     <g id=\"text_178\">\n      <!-- PropertyField22 -->\n      <g style=\"fill:#444443;\" transform=\"translate(79.970313 2744.517863)scale(0.1 -0.1)\">\n       <use xlink:href=\"#DejaVuSans-80\"/>\n       <use x=\"58.552734\" xlink:href=\"#DejaVuSans-114\"/>\n       <use x=\"97.416016\" xlink:href=\"#DejaVuSans-111\"/>\n       <use x=\"158.597656\" xlink:href=\"#DejaVuSans-112\"/>\n       <use x=\"222.074219\" xlink:href=\"#DejaVuSans-101\"/>\n       <use x=\"283.597656\" xlink:href=\"#DejaVuSans-114\"/>\n       <use x=\"324.710938\" xlink:href=\"#DejaVuSans-116\"/>\n       <use x=\"363.919922\" xlink:href=\"#DejaVuSans-121\"/>\n       <use x=\"423.099609\" xlink:href=\"#DejaVuSans-70\"/>\n       <use x=\"473.369141\" xlink:href=\"#DejaVuSans-105\"/>\n       <use x=\"501.152344\" xlink:href=\"#DejaVuSans-101\"/>\n       <use x=\"562.675781\" xlink:href=\"#DejaVuSans-108\"/>\n       <use x=\"590.458984\" xlink:href=\"#DejaVuSans-100\"/>\n       <use x=\"653.935547\" xlink:href=\"#DejaVuSans-50\"/>\n       <use x=\"717.558594\" xlink:href=\"#DejaVuSans-50\"/>\n      </g>\n     </g>\n    </g>\n    <g id=\"ytick_176\">\n     <g id=\"line2d_179\">\n      <g>\n       <use style=\"stroke:#000000;stroke-width:0.8;\" x=\"165.090625\" xlink:href=\"#m85187e86d9\" y=\"2756.420678\"/>\n      </g>\n     </g>\n     <g id=\"text_179\">\n      <!-- PropertyField20 -->\n      <g style=\"fill:#444443;\" transform=\"translate(79.970313 2760.219897)scale(0.1 -0.1)\">\n       <use xlink:href=\"#DejaVuSans-80\"/>\n       <use x=\"58.552734\" xlink:href=\"#DejaVuSans-114\"/>\n       <use x=\"97.416016\" xlink:href=\"#DejaVuSans-111\"/>\n       <use x=\"158.597656\" xlink:href=\"#DejaVuSans-112\"/>\n       <use x=\"222.074219\" xlink:href=\"#DejaVuSans-101\"/>\n       <use x=\"283.597656\" xlink:href=\"#DejaVuSans-114\"/>\n       <use x=\"324.710938\" xlink:href=\"#DejaVuSans-116\"/>\n       <use x=\"363.919922\" xlink:href=\"#DejaVuSans-121\"/>\n       <use x=\"423.099609\" xlink:href=\"#DejaVuSans-70\"/>\n       <use x=\"473.369141\" xlink:href=\"#DejaVuSans-105\"/>\n       <use x=\"501.152344\" xlink:href=\"#DejaVuSans-101\"/>\n       <use x=\"562.675781\" xlink:href=\"#DejaVuSans-108\"/>\n       <use x=\"590.458984\" xlink:href=\"#DejaVuSans-100\"/>\n       <use x=\"653.935547\" xlink:href=\"#DejaVuSans-50\"/>\n       <use x=\"717.558594\" xlink:href=\"#DejaVuSans-48\"/>\n      </g>\n     </g>\n    </g>\n    <g id=\"ytick_177\">\n     <g id=\"line2d_180\">\n      <g>\n       <use style=\"stroke:#000000;stroke-width:0.8;\" x=\"165.090625\" xlink:href=\"#m85187e86d9\" y=\"2772.122712\"/>\n      </g>\n     </g>\n     <g id=\"text_180\">\n      <!-- GeographicField33B -->\n      <g style=\"fill:#444443;\" transform=\"translate(57.85 2775.921931)scale(0.1 -0.1)\">\n       <use xlink:href=\"#DejaVuSans-71\"/>\n       <use x=\"77.490234\" xlink:href=\"#DejaVuSans-101\"/>\n       <use x=\"139.013672\" xlink:href=\"#DejaVuSans-111\"/>\n       <use x=\"200.195312\" xlink:href=\"#DejaVuSans-103\"/>\n       <use x=\"263.671875\" xlink:href=\"#DejaVuSans-114\"/>\n       <use x=\"304.785156\" xlink:href=\"#DejaVuSans-97\"/>\n       <use x=\"366.064453\" xlink:href=\"#DejaVuSans-112\"/>\n       <use x=\"429.541016\" xlink:href=\"#DejaVuSans-104\"/>\n       <use x=\"492.919922\" xlink:href=\"#DejaVuSans-105\"/>\n       <use x=\"520.703125\" xlink:href=\"#DejaVuSans-99\"/>\n       <use x=\"575.683594\" xlink:href=\"#DejaVuSans-70\"/>\n       <use x=\"625.953125\" xlink:href=\"#DejaVuSans-105\"/>\n       <use x=\"653.736328\" xlink:href=\"#DejaVuSans-101\"/>\n       <use x=\"715.259766\" xlink:href=\"#DejaVuSans-108\"/>\n       <use x=\"743.042969\" xlink:href=\"#DejaVuSans-100\"/>\n       <use x=\"806.519531\" xlink:href=\"#DejaVuSans-51\"/>\n       <use x=\"870.142578\" xlink:href=\"#DejaVuSans-51\"/>\n       <use x=\"933.765625\" xlink:href=\"#DejaVuSans-66\"/>\n      </g>\n     </g>\n    </g>\n    <g id=\"ytick_178\">\n     <g id=\"line2d_181\">\n      <g>\n       <use style=\"stroke:#000000;stroke-width:0.8;\" x=\"165.090625\" xlink:href=\"#m85187e86d9\" y=\"2787.824746\"/>\n      </g>\n     </g>\n     <g id=\"text_181\">\n      <!-- GeographicField5A -->\n      <g style=\"fill:#444443;\" transform=\"translate(64.232813 2791.623965)scale(0.1 -0.1)\">\n       <use xlink:href=\"#DejaVuSans-71\"/>\n       <use x=\"77.490234\" xlink:href=\"#DejaVuSans-101\"/>\n       <use x=\"139.013672\" xlink:href=\"#DejaVuSans-111\"/>\n       <use x=\"200.195312\" xlink:href=\"#DejaVuSans-103\"/>\n       <use x=\"263.671875\" xlink:href=\"#DejaVuSans-114\"/>\n       <use x=\"304.785156\" xlink:href=\"#DejaVuSans-97\"/>\n       <use x=\"366.064453\" xlink:href=\"#DejaVuSans-112\"/>\n       <use x=\"429.541016\" xlink:href=\"#DejaVuSans-104\"/>\n       <use x=\"492.919922\" xlink:href=\"#DejaVuSans-105\"/>\n       <use x=\"520.703125\" xlink:href=\"#DejaVuSans-99\"/>\n       <use x=\"575.683594\" xlink:href=\"#DejaVuSans-70\"/>\n       <use x=\"625.953125\" xlink:href=\"#DejaVuSans-105\"/>\n       <use x=\"653.736328\" xlink:href=\"#DejaVuSans-101\"/>\n       <use x=\"715.259766\" xlink:href=\"#DejaVuSans-108\"/>\n       <use x=\"743.042969\" xlink:href=\"#DejaVuSans-100\"/>\n       <use x=\"806.519531\" xlink:href=\"#DejaVuSans-53\"/>\n       <use x=\"870.142578\" xlink:href=\"#DejaVuSans-65\"/>\n      </g>\n     </g>\n    </g>\n    <g id=\"ytick_179\">\n     <g id=\"line2d_182\">\n      <g>\n       <use style=\"stroke:#000000;stroke-width:0.8;\" x=\"165.090625\" xlink:href=\"#m85187e86d9\" y=\"2803.52678\"/>\n      </g>\n     </g>\n     <g id=\"text_182\">\n      <!-- PersonalField40 -->\n      <g style=\"fill:#444443;\" transform=\"translate(79.778125 2807.325998)scale(0.1 -0.1)\">\n       <use xlink:href=\"#DejaVuSans-80\"/>\n       <use x=\"56.677734\" xlink:href=\"#DejaVuSans-101\"/>\n       <use x=\"118.201172\" xlink:href=\"#DejaVuSans-114\"/>\n       <use x=\"159.314453\" xlink:href=\"#DejaVuSans-115\"/>\n       <use x=\"211.414062\" xlink:href=\"#DejaVuSans-111\"/>\n       <use x=\"272.595703\" xlink:href=\"#DejaVuSans-110\"/>\n       <use x=\"335.974609\" xlink:href=\"#DejaVuSans-97\"/>\n       <use x=\"397.253906\" xlink:href=\"#DejaVuSans-108\"/>\n       <use x=\"425.037109\" xlink:href=\"#DejaVuSans-70\"/>\n       <use x=\"475.306641\" xlink:href=\"#DejaVuSans-105\"/>\n       <use x=\"503.089844\" xlink:href=\"#DejaVuSans-101\"/>\n       <use x=\"564.613281\" xlink:href=\"#DejaVuSans-108\"/>\n       <use x=\"592.396484\" xlink:href=\"#DejaVuSans-100\"/>\n       <use x=\"655.873047\" xlink:href=\"#DejaVuSans-52\"/>\n       <use x=\"719.496094\" xlink:href=\"#DejaVuSans-48\"/>\n      </g>\n     </g>\n    </g>\n    <g id=\"ytick_180\">\n     <g id=\"line2d_183\">\n      <g>\n       <use style=\"stroke:#000000;stroke-width:0.8;\" x=\"165.090625\" xlink:href=\"#m85187e86d9\" y=\"2819.228814\"/>\n      </g>\n     </g>\n     <g id=\"text_183\">\n      <!-- PersonalField42 -->\n      <g style=\"fill:#444443;\" transform=\"translate(79.778125 2823.028032)scale(0.1 -0.1)\">\n       <use xlink:href=\"#DejaVuSans-80\"/>\n       <use x=\"56.677734\" xlink:href=\"#DejaVuSans-101\"/>\n       <use x=\"118.201172\" xlink:href=\"#DejaVuSans-114\"/>\n       <use x=\"159.314453\" xlink:href=\"#DejaVuSans-115\"/>\n       <use x=\"211.414062\" xlink:href=\"#DejaVuSans-111\"/>\n       <use x=\"272.595703\" xlink:href=\"#DejaVuSans-110\"/>\n       <use x=\"335.974609\" xlink:href=\"#DejaVuSans-97\"/>\n       <use x=\"397.253906\" xlink:href=\"#DejaVuSans-108\"/>\n       <use x=\"425.037109\" xlink:href=\"#DejaVuSans-70\"/>\n       <use x=\"475.306641\" xlink:href=\"#DejaVuSans-105\"/>\n       <use x=\"503.089844\" xlink:href=\"#DejaVuSans-101\"/>\n       <use x=\"564.613281\" xlink:href=\"#DejaVuSans-108\"/>\n       <use x=\"592.396484\" xlink:href=\"#DejaVuSans-100\"/>\n       <use x=\"655.873047\" xlink:href=\"#DejaVuSans-52\"/>\n       <use x=\"719.496094\" xlink:href=\"#DejaVuSans-50\"/>\n      </g>\n     </g>\n    </g>\n    <g id=\"ytick_181\">\n     <g id=\"line2d_184\">\n      <g>\n       <use style=\"stroke:#000000;stroke-width:0.8;\" x=\"165.090625\" xlink:href=\"#m85187e86d9\" y=\"2834.930847\"/>\n      </g>\n     </g>\n     <g id=\"text_184\">\n      <!-- GeographicField5B -->\n      <g style=\"fill:#444443;\" transform=\"translate(64.2125 2838.730066)scale(0.1 -0.1)\">\n       <use xlink:href=\"#DejaVuSans-71\"/>\n       <use x=\"77.490234\" xlink:href=\"#DejaVuSans-101\"/>\n       <use x=\"139.013672\" xlink:href=\"#DejaVuSans-111\"/>\n       <use x=\"200.195312\" xlink:href=\"#DejaVuSans-103\"/>\n       <use x=\"263.671875\" xlink:href=\"#DejaVuSans-114\"/>\n       <use x=\"304.785156\" xlink:href=\"#DejaVuSans-97\"/>\n       <use x=\"366.064453\" xlink:href=\"#DejaVuSans-112\"/>\n       <use x=\"429.541016\" xlink:href=\"#DejaVuSans-104\"/>\n       <use x=\"492.919922\" xlink:href=\"#DejaVuSans-105\"/>\n       <use x=\"520.703125\" xlink:href=\"#DejaVuSans-99\"/>\n       <use x=\"575.683594\" xlink:href=\"#DejaVuSans-70\"/>\n       <use x=\"625.953125\" xlink:href=\"#DejaVuSans-105\"/>\n       <use x=\"653.736328\" xlink:href=\"#DejaVuSans-101\"/>\n       <use x=\"715.259766\" xlink:href=\"#DejaVuSans-108\"/>\n       <use x=\"743.042969\" xlink:href=\"#DejaVuSans-100\"/>\n       <use x=\"806.519531\" xlink:href=\"#DejaVuSans-53\"/>\n       <use x=\"870.142578\" xlink:href=\"#DejaVuSans-66\"/>\n      </g>\n     </g>\n    </g>\n    <g id=\"ytick_182\">\n     <g id=\"line2d_185\">\n      <g>\n       <use style=\"stroke:#000000;stroke-width:0.8;\" x=\"165.090625\" xlink:href=\"#m85187e86d9\" y=\"2850.632881\"/>\n      </g>\n     </g>\n     <g id=\"text_185\">\n      <!-- PropertyField13 -->\n      <g style=\"fill:#444443;\" transform=\"translate(79.970313 2854.4321)scale(0.1 -0.1)\">\n       <use xlink:href=\"#DejaVuSans-80\"/>\n       <use x=\"58.552734\" xlink:href=\"#DejaVuSans-114\"/>\n       <use x=\"97.416016\" xlink:href=\"#DejaVuSans-111\"/>\n       <use x=\"158.597656\" xlink:href=\"#DejaVuSans-112\"/>\n       <use x=\"222.074219\" xlink:href=\"#DejaVuSans-101\"/>\n       <use x=\"283.597656\" xlink:href=\"#DejaVuSans-114\"/>\n       <use x=\"324.710938\" xlink:href=\"#DejaVuSans-116\"/>\n       <use x=\"363.919922\" xlink:href=\"#DejaVuSans-121\"/>\n       <use x=\"423.099609\" xlink:href=\"#DejaVuSans-70\"/>\n       <use x=\"473.369141\" xlink:href=\"#DejaVuSans-105\"/>\n       <use x=\"501.152344\" xlink:href=\"#DejaVuSans-101\"/>\n       <use x=\"562.675781\" xlink:href=\"#DejaVuSans-108\"/>\n       <use x=\"590.458984\" xlink:href=\"#DejaVuSans-100\"/>\n       <use x=\"653.935547\" xlink:href=\"#DejaVuSans-49\"/>\n       <use x=\"717.558594\" xlink:href=\"#DejaVuSans-51\"/>\n      </g>\n     </g>\n    </g>\n    <g id=\"ytick_183\">\n     <g id=\"line2d_186\">\n      <g>\n       <use style=\"stroke:#000000;stroke-width:0.8;\" x=\"165.090625\" xlink:href=\"#m85187e86d9\" y=\"2866.334915\"/>\n      </g>\n     </g>\n     <g id=\"text_186\">\n      <!-- GeographicField10A -->\n      <g style=\"fill:#444443;\" transform=\"translate(57.870313 2870.134134)scale(0.1 -0.1)\">\n       <use xlink:href=\"#DejaVuSans-71\"/>\n       <use x=\"77.490234\" xlink:href=\"#DejaVuSans-101\"/>\n       <use x=\"139.013672\" xlink:href=\"#DejaVuSans-111\"/>\n       <use x=\"200.195312\" xlink:href=\"#DejaVuSans-103\"/>\n       <use x=\"263.671875\" xlink:href=\"#DejaVuSans-114\"/>\n       <use x=\"304.785156\" xlink:href=\"#DejaVuSans-97\"/>\n       <use x=\"366.064453\" xlink:href=\"#DejaVuSans-112\"/>\n       <use x=\"429.541016\" xlink:href=\"#DejaVuSans-104\"/>\n       <use x=\"492.919922\" xlink:href=\"#DejaVuSans-105\"/>\n       <use x=\"520.703125\" xlink:href=\"#DejaVuSans-99\"/>\n       <use x=\"575.683594\" xlink:href=\"#DejaVuSans-70\"/>\n       <use x=\"625.953125\" xlink:href=\"#DejaVuSans-105\"/>\n       <use x=\"653.736328\" xlink:href=\"#DejaVuSans-101\"/>\n       <use x=\"715.259766\" xlink:href=\"#DejaVuSans-108\"/>\n       <use x=\"743.042969\" xlink:href=\"#DejaVuSans-100\"/>\n       <use x=\"806.519531\" xlink:href=\"#DejaVuSans-49\"/>\n       <use x=\"870.142578\" xlink:href=\"#DejaVuSans-48\"/>\n       <use x=\"933.765625\" xlink:href=\"#DejaVuSans-65\"/>\n      </g>\n     </g>\n    </g>\n    <g id=\"ytick_184\">\n     <g id=\"line2d_187\">\n      <g>\n       <use style=\"stroke:#000000;stroke-width:0.8;\" x=\"165.090625\" xlink:href=\"#m85187e86d9\" y=\"2882.036949\"/>\n      </g>\n     </g>\n     <g id=\"text_187\">\n      <!-- PropertyField12 -->\n      <g style=\"fill:#444443;\" transform=\"translate(79.970313 2885.836168)scale(0.1 -0.1)\">\n       <use xlink:href=\"#DejaVuSans-80\"/>\n       <use x=\"58.552734\" xlink:href=\"#DejaVuSans-114\"/>\n       <use x=\"97.416016\" xlink:href=\"#DejaVuSans-111\"/>\n       <use x=\"158.597656\" xlink:href=\"#DejaVuSans-112\"/>\n       <use x=\"222.074219\" xlink:href=\"#DejaVuSans-101\"/>\n       <use x=\"283.597656\" xlink:href=\"#DejaVuSans-114\"/>\n       <use x=\"324.710938\" xlink:href=\"#DejaVuSans-116\"/>\n       <use x=\"363.919922\" xlink:href=\"#DejaVuSans-121\"/>\n       <use x=\"423.099609\" xlink:href=\"#DejaVuSans-70\"/>\n       <use x=\"473.369141\" xlink:href=\"#DejaVuSans-105\"/>\n       <use x=\"501.152344\" xlink:href=\"#DejaVuSans-101\"/>\n       <use x=\"562.675781\" xlink:href=\"#DejaVuSans-108\"/>\n       <use x=\"590.458984\" xlink:href=\"#DejaVuSans-100\"/>\n       <use x=\"653.935547\" xlink:href=\"#DejaVuSans-49\"/>\n       <use x=\"717.558594\" xlink:href=\"#DejaVuSans-50\"/>\n      </g>\n     </g>\n    </g>\n    <g id=\"ytick_185\">\n     <g id=\"line2d_188\">\n      <g>\n       <use style=\"stroke:#000000;stroke-width:0.8;\" x=\"165.090625\" xlink:href=\"#m85187e86d9\" y=\"2897.738983\"/>\n      </g>\n     </g>\n     <g id=\"text_188\">\n      <!-- PropertyField11A -->\n      <g style=\"fill:#444443;\" transform=\"translate(73.129688 2901.538202)scale(0.1 -0.1)\">\n       <use xlink:href=\"#DejaVuSans-80\"/>\n       <use x=\"58.552734\" xlink:href=\"#DejaVuSans-114\"/>\n       <use x=\"97.416016\" xlink:href=\"#DejaVuSans-111\"/>\n       <use x=\"158.597656\" xlink:href=\"#DejaVuSans-112\"/>\n       <use x=\"222.074219\" xlink:href=\"#DejaVuSans-101\"/>\n       <use x=\"283.597656\" xlink:href=\"#DejaVuSans-114\"/>\n       <use x=\"324.710938\" xlink:href=\"#DejaVuSans-116\"/>\n       <use x=\"363.919922\" xlink:href=\"#DejaVuSans-121\"/>\n       <use x=\"423.099609\" xlink:href=\"#DejaVuSans-70\"/>\n       <use x=\"473.369141\" xlink:href=\"#DejaVuSans-105\"/>\n       <use x=\"501.152344\" xlink:href=\"#DejaVuSans-101\"/>\n       <use x=\"562.675781\" xlink:href=\"#DejaVuSans-108\"/>\n       <use x=\"590.458984\" xlink:href=\"#DejaVuSans-100\"/>\n       <use x=\"653.935547\" xlink:href=\"#DejaVuSans-49\"/>\n       <use x=\"717.558594\" xlink:href=\"#DejaVuSans-49\"/>\n       <use x=\"781.181641\" xlink:href=\"#DejaVuSans-65\"/>\n      </g>\n     </g>\n    </g>\n    <g id=\"ytick_186\">\n     <g id=\"line2d_189\">\n      <g>\n       <use style=\"stroke:#000000;stroke-width:0.8;\" x=\"165.090625\" xlink:href=\"#m85187e86d9\" y=\"2913.441017\"/>\n      </g>\n     </g>\n     <g id=\"text_189\">\n      <!-- GeographicField10B -->\n      <g style=\"fill:#444443;\" transform=\"translate(57.85 2917.240236)scale(0.1 -0.1)\">\n       <use xlink:href=\"#DejaVuSans-71\"/>\n       <use x=\"77.490234\" xlink:href=\"#DejaVuSans-101\"/>\n       <use x=\"139.013672\" xlink:href=\"#DejaVuSans-111\"/>\n       <use x=\"200.195312\" xlink:href=\"#DejaVuSans-103\"/>\n       <use x=\"263.671875\" xlink:href=\"#DejaVuSans-114\"/>\n       <use x=\"304.785156\" xlink:href=\"#DejaVuSans-97\"/>\n       <use x=\"366.064453\" xlink:href=\"#DejaVuSans-112\"/>\n       <use x=\"429.541016\" xlink:href=\"#DejaVuSans-104\"/>\n       <use x=\"492.919922\" xlink:href=\"#DejaVuSans-105\"/>\n       <use x=\"520.703125\" xlink:href=\"#DejaVuSans-99\"/>\n       <use x=\"575.683594\" xlink:href=\"#DejaVuSans-70\"/>\n       <use x=\"625.953125\" xlink:href=\"#DejaVuSans-105\"/>\n       <use x=\"653.736328\" xlink:href=\"#DejaVuSans-101\"/>\n       <use x=\"715.259766\" xlink:href=\"#DejaVuSans-108\"/>\n       <use x=\"743.042969\" xlink:href=\"#DejaVuSans-100\"/>\n       <use x=\"806.519531\" xlink:href=\"#DejaVuSans-49\"/>\n       <use x=\"870.142578\" xlink:href=\"#DejaVuSans-48\"/>\n       <use x=\"933.765625\" xlink:href=\"#DejaVuSans-66\"/>\n      </g>\n     </g>\n    </g>\n    <g id=\"ytick_187\">\n     <g id=\"line2d_190\">\n      <g>\n       <use style=\"stroke:#000000;stroke-width:0.8;\" x=\"165.090625\" xlink:href=\"#m85187e86d9\" y=\"2929.143051\"/>\n      </g>\n     </g>\n     <g id=\"text_190\">\n      <!-- PropertyField10 -->\n      <g style=\"fill:#444443;\" transform=\"translate(79.970313 2932.94227)scale(0.1 -0.1)\">\n       <use xlink:href=\"#DejaVuSans-80\"/>\n       <use x=\"58.552734\" xlink:href=\"#DejaVuSans-114\"/>\n       <use x=\"97.416016\" xlink:href=\"#DejaVuSans-111\"/>\n       <use x=\"158.597656\" xlink:href=\"#DejaVuSans-112\"/>\n       <use x=\"222.074219\" xlink:href=\"#DejaVuSans-101\"/>\n       <use x=\"283.597656\" xlink:href=\"#DejaVuSans-114\"/>\n       <use x=\"324.710938\" xlink:href=\"#DejaVuSans-116\"/>\n       <use x=\"363.919922\" xlink:href=\"#DejaVuSans-121\"/>\n       <use x=\"423.099609\" xlink:href=\"#DejaVuSans-70\"/>\n       <use x=\"473.369141\" xlink:href=\"#DejaVuSans-105\"/>\n       <use x=\"501.152344\" xlink:href=\"#DejaVuSans-101\"/>\n       <use x=\"562.675781\" xlink:href=\"#DejaVuSans-108\"/>\n       <use x=\"590.458984\" xlink:href=\"#DejaVuSans-100\"/>\n       <use x=\"653.935547\" xlink:href=\"#DejaVuSans-49\"/>\n       <use x=\"717.558594\" xlink:href=\"#DejaVuSans-48\"/>\n      </g>\n     </g>\n    </g>\n    <g id=\"ytick_188\">\n     <g id=\"line2d_191\">\n      <g>\n       <use style=\"stroke:#000000;stroke-width:0.8;\" x=\"165.090625\" xlink:href=\"#m85187e86d9\" y=\"2944.845085\"/>\n      </g>\n     </g>\n     <g id=\"text_191\">\n      <!-- PropertyField9 -->\n      <g style=\"fill:#444443;\" transform=\"translate(86.332813 2948.644303)scale(0.1 -0.1)\">\n       <use xlink:href=\"#DejaVuSans-80\"/>\n       <use x=\"58.552734\" xlink:href=\"#DejaVuSans-114\"/>\n       <use x=\"97.416016\" xlink:href=\"#DejaVuSans-111\"/>\n       <use x=\"158.597656\" xlink:href=\"#DejaVuSans-112\"/>\n       <use x=\"222.074219\" xlink:href=\"#DejaVuSans-101\"/>\n       <use x=\"283.597656\" xlink:href=\"#DejaVuSans-114\"/>\n       <use x=\"324.710938\" xlink:href=\"#DejaVuSans-116\"/>\n       <use x=\"363.919922\" xlink:href=\"#DejaVuSans-121\"/>\n       <use x=\"423.099609\" xlink:href=\"#DejaVuSans-70\"/>\n       <use x=\"473.369141\" xlink:href=\"#DejaVuSans-105\"/>\n       <use x=\"501.152344\" xlink:href=\"#DejaVuSans-101\"/>\n       <use x=\"562.675781\" xlink:href=\"#DejaVuSans-108\"/>\n       <use x=\"590.458984\" xlink:href=\"#DejaVuSans-100\"/>\n       <use x=\"653.935547\" xlink:href=\"#DejaVuSans-57\"/>\n      </g>\n     </g>\n    </g>\n    <g id=\"ytick_189\">\n     <g id=\"line2d_192\">\n      <g>\n       <use style=\"stroke:#000000;stroke-width:0.8;\" x=\"165.090625\" xlink:href=\"#m85187e86d9\" y=\"2960.547119\"/>\n      </g>\n     </g>\n     <g id=\"text_192\">\n      <!-- GeographicField36A -->\n      <g style=\"fill:#444443;\" transform=\"translate(57.870313 2964.346337)scale(0.1 -0.1)\">\n       <use xlink:href=\"#DejaVuSans-71\"/>\n       <use x=\"77.490234\" xlink:href=\"#DejaVuSans-101\"/>\n       <use x=\"139.013672\" xlink:href=\"#DejaVuSans-111\"/>\n       <use x=\"200.195312\" xlink:href=\"#DejaVuSans-103\"/>\n       <use x=\"263.671875\" xlink:href=\"#DejaVuSans-114\"/>\n       <use x=\"304.785156\" xlink:href=\"#DejaVuSans-97\"/>\n       <use x=\"366.064453\" xlink:href=\"#DejaVuSans-112\"/>\n       <use x=\"429.541016\" xlink:href=\"#DejaVuSans-104\"/>\n       <use x=\"492.919922\" xlink:href=\"#DejaVuSans-105\"/>\n       <use x=\"520.703125\" xlink:href=\"#DejaVuSans-99\"/>\n       <use x=\"575.683594\" xlink:href=\"#DejaVuSans-70\"/>\n       <use x=\"625.953125\" xlink:href=\"#DejaVuSans-105\"/>\n       <use x=\"653.736328\" xlink:href=\"#DejaVuSans-101\"/>\n       <use x=\"715.259766\" xlink:href=\"#DejaVuSans-108\"/>\n       <use x=\"743.042969\" xlink:href=\"#DejaVuSans-100\"/>\n       <use x=\"806.519531\" xlink:href=\"#DejaVuSans-51\"/>\n       <use x=\"870.142578\" xlink:href=\"#DejaVuSans-54\"/>\n       <use x=\"933.765625\" xlink:href=\"#DejaVuSans-65\"/>\n      </g>\n     </g>\n    </g>\n    <g id=\"ytick_190\">\n     <g id=\"line2d_193\">\n      <g>\n       <use style=\"stroke:#000000;stroke-width:0.8;\" x=\"165.090625\" xlink:href=\"#m85187e86d9\" y=\"2976.249153\"/>\n      </g>\n     </g>\n     <g id=\"text_193\">\n      <!-- PropertyField6 -->\n      <g style=\"fill:#444443;\" transform=\"translate(86.332813 2980.048371)scale(0.1 -0.1)\">\n       <use xlink:href=\"#DejaVuSans-80\"/>\n       <use x=\"58.552734\" xlink:href=\"#DejaVuSans-114\"/>\n       <use x=\"97.416016\" xlink:href=\"#DejaVuSans-111\"/>\n       <use x=\"158.597656\" xlink:href=\"#DejaVuSans-112\"/>\n       <use x=\"222.074219\" xlink:href=\"#DejaVuSans-101\"/>\n       <use x=\"283.597656\" xlink:href=\"#DejaVuSans-114\"/>\n       <use x=\"324.710938\" xlink:href=\"#DejaVuSans-116\"/>\n       <use x=\"363.919922\" xlink:href=\"#DejaVuSans-121\"/>\n       <use x=\"423.099609\" xlink:href=\"#DejaVuSans-70\"/>\n       <use x=\"473.369141\" xlink:href=\"#DejaVuSans-105\"/>\n       <use x=\"501.152344\" xlink:href=\"#DejaVuSans-101\"/>\n       <use x=\"562.675781\" xlink:href=\"#DejaVuSans-108\"/>\n       <use x=\"590.458984\" xlink:href=\"#DejaVuSans-100\"/>\n       <use x=\"653.935547\" xlink:href=\"#DejaVuSans-54\"/>\n      </g>\n     </g>\n    </g>\n    <g id=\"ytick_191\">\n     <g id=\"line2d_194\">\n      <g>\n       <use style=\"stroke:#000000;stroke-width:0.8;\" x=\"165.090625\" xlink:href=\"#m85187e86d9\" y=\"2991.951186\"/>\n      </g>\n     </g>\n     <g id=\"text_194\">\n      <!-- PersonalField36 -->\n      <g style=\"fill:#444443;\" transform=\"translate(79.778125 2995.750405)scale(0.1 -0.1)\">\n       <use xlink:href=\"#DejaVuSans-80\"/>\n       <use x=\"56.677734\" xlink:href=\"#DejaVuSans-101\"/>\n       <use x=\"118.201172\" xlink:href=\"#DejaVuSans-114\"/>\n       <use x=\"159.314453\" xlink:href=\"#DejaVuSans-115\"/>\n       <use x=\"211.414062\" xlink:href=\"#DejaVuSans-111\"/>\n       <use x=\"272.595703\" xlink:href=\"#DejaVuSans-110\"/>\n       <use x=\"335.974609\" xlink:href=\"#DejaVuSans-97\"/>\n       <use x=\"397.253906\" xlink:href=\"#DejaVuSans-108\"/>\n       <use x=\"425.037109\" xlink:href=\"#DejaVuSans-70\"/>\n       <use x=\"475.306641\" xlink:href=\"#DejaVuSans-105\"/>\n       <use x=\"503.089844\" xlink:href=\"#DejaVuSans-101\"/>\n       <use x=\"564.613281\" xlink:href=\"#DejaVuSans-108\"/>\n       <use x=\"592.396484\" xlink:href=\"#DejaVuSans-100\"/>\n       <use x=\"655.873047\" xlink:href=\"#DejaVuSans-51\"/>\n       <use x=\"719.496094\" xlink:href=\"#DejaVuSans-54\"/>\n      </g>\n     </g>\n    </g>\n    <g id=\"ytick_192\">\n     <g id=\"line2d_195\">\n      <g>\n       <use style=\"stroke:#000000;stroke-width:0.8;\" x=\"165.090625\" xlink:href=\"#m85187e86d9\" y=\"3007.65322\"/>\n      </g>\n     </g>\n     <g id=\"text_195\">\n      <!-- GeographicField26B -->\n      <g style=\"fill:#444443;\" transform=\"translate(57.85 3011.452439)scale(0.1 -0.1)\">\n       <use xlink:href=\"#DejaVuSans-71\"/>\n       <use x=\"77.490234\" xlink:href=\"#DejaVuSans-101\"/>\n       <use x=\"139.013672\" xlink:href=\"#DejaVuSans-111\"/>\n       <use x=\"200.195312\" xlink:href=\"#DejaVuSans-103\"/>\n       <use x=\"263.671875\" xlink:href=\"#DejaVuSans-114\"/>\n       <use x=\"304.785156\" xlink:href=\"#DejaVuSans-97\"/>\n       <use x=\"366.064453\" xlink:href=\"#DejaVuSans-112\"/>\n       <use x=\"429.541016\" xlink:href=\"#DejaVuSans-104\"/>\n       <use x=\"492.919922\" xlink:href=\"#DejaVuSans-105\"/>\n       <use x=\"520.703125\" xlink:href=\"#DejaVuSans-99\"/>\n       <use x=\"575.683594\" xlink:href=\"#DejaVuSans-70\"/>\n       <use x=\"625.953125\" xlink:href=\"#DejaVuSans-105\"/>\n       <use x=\"653.736328\" xlink:href=\"#DejaVuSans-101\"/>\n       <use x=\"715.259766\" xlink:href=\"#DejaVuSans-108\"/>\n       <use x=\"743.042969\" xlink:href=\"#DejaVuSans-100\"/>\n       <use x=\"806.519531\" xlink:href=\"#DejaVuSans-50\"/>\n       <use x=\"870.142578\" xlink:href=\"#DejaVuSans-54\"/>\n       <use x=\"933.765625\" xlink:href=\"#DejaVuSans-66\"/>\n      </g>\n     </g>\n    </g>\n    <g id=\"ytick_193\">\n     <g id=\"line2d_196\">\n      <g>\n       <use style=\"stroke:#000000;stroke-width:0.8;\" x=\"165.090625\" xlink:href=\"#m85187e86d9\" y=\"3023.355254\"/>\n      </g>\n     </g>\n     <g id=\"text_196\">\n      <!-- GeographicField6B -->\n      <g style=\"fill:#444443;\" transform=\"translate(64.2125 3027.154473)scale(0.1 -0.1)\">\n       <use xlink:href=\"#DejaVuSans-71\"/>\n       <use x=\"77.490234\" xlink:href=\"#DejaVuSans-101\"/>\n       <use x=\"139.013672\" xlink:href=\"#DejaVuSans-111\"/>\n       <use x=\"200.195312\" xlink:href=\"#DejaVuSans-103\"/>\n       <use x=\"263.671875\" xlink:href=\"#DejaVuSans-114\"/>\n       <use x=\"304.785156\" xlink:href=\"#DejaVuSans-97\"/>\n       <use x=\"366.064453\" xlink:href=\"#DejaVuSans-112\"/>\n       <use x=\"429.541016\" xlink:href=\"#DejaVuSans-104\"/>\n       <use x=\"492.919922\" xlink:href=\"#DejaVuSans-105\"/>\n       <use x=\"520.703125\" xlink:href=\"#DejaVuSans-99\"/>\n       <use x=\"575.683594\" xlink:href=\"#DejaVuSans-70\"/>\n       <use x=\"625.953125\" xlink:href=\"#DejaVuSans-105\"/>\n       <use x=\"653.736328\" xlink:href=\"#DejaVuSans-101\"/>\n       <use x=\"715.259766\" xlink:href=\"#DejaVuSans-108\"/>\n       <use x=\"743.042969\" xlink:href=\"#DejaVuSans-100\"/>\n       <use x=\"806.519531\" xlink:href=\"#DejaVuSans-54\"/>\n       <use x=\"870.142578\" xlink:href=\"#DejaVuSans-66\"/>\n      </g>\n     </g>\n    </g>\n    <g id=\"ytick_194\">\n     <g id=\"line2d_197\">\n      <g>\n       <use style=\"stroke:#000000;stroke-width:0.8;\" x=\"165.090625\" xlink:href=\"#m85187e86d9\" y=\"3039.057288\"/>\n      </g>\n     </g>\n     <g id=\"text_197\">\n      <!-- GeographicField17A -->\n      <g style=\"fill:#444443;\" transform=\"translate(57.870313 3042.856507)scale(0.1 -0.1)\">\n       <use xlink:href=\"#DejaVuSans-71\"/>\n       <use x=\"77.490234\" xlink:href=\"#DejaVuSans-101\"/>\n       <use x=\"139.013672\" xlink:href=\"#DejaVuSans-111\"/>\n       <use x=\"200.195312\" xlink:href=\"#DejaVuSans-103\"/>\n       <use x=\"263.671875\" xlink:href=\"#DejaVuSans-114\"/>\n       <use x=\"304.785156\" xlink:href=\"#DejaVuSans-97\"/>\n       <use x=\"366.064453\" xlink:href=\"#DejaVuSans-112\"/>\n       <use x=\"429.541016\" xlink:href=\"#DejaVuSans-104\"/>\n       <use x=\"492.919922\" xlink:href=\"#DejaVuSans-105\"/>\n       <use x=\"520.703125\" xlink:href=\"#DejaVuSans-99\"/>\n       <use x=\"575.683594\" xlink:href=\"#DejaVuSans-70\"/>\n       <use x=\"625.953125\" xlink:href=\"#DejaVuSans-105\"/>\n       <use x=\"653.736328\" xlink:href=\"#DejaVuSans-101\"/>\n       <use x=\"715.259766\" xlink:href=\"#DejaVuSans-108\"/>\n       <use x=\"743.042969\" xlink:href=\"#DejaVuSans-100\"/>\n       <use x=\"806.519531\" xlink:href=\"#DejaVuSans-49\"/>\n       <use x=\"870.142578\" xlink:href=\"#DejaVuSans-55\"/>\n       <use x=\"933.765625\" xlink:href=\"#DejaVuSans-65\"/>\n      </g>\n     </g>\n    </g>\n    <g id=\"ytick_195\">\n     <g id=\"line2d_198\">\n      <g>\n       <use style=\"stroke:#000000;stroke-width:0.8;\" x=\"165.090625\" xlink:href=\"#m85187e86d9\" y=\"3054.759322\"/>\n      </g>\n     </g>\n     <g id=\"text_198\">\n      <!-- GeographicField60B -->\n      <g style=\"fill:#444443;\" transform=\"translate(57.85 3058.558541)scale(0.1 -0.1)\">\n       <use xlink:href=\"#DejaVuSans-71\"/>\n       <use x=\"77.490234\" xlink:href=\"#DejaVuSans-101\"/>\n       <use x=\"139.013672\" xlink:href=\"#DejaVuSans-111\"/>\n       <use x=\"200.195312\" xlink:href=\"#DejaVuSans-103\"/>\n       <use x=\"263.671875\" xlink:href=\"#DejaVuSans-114\"/>\n       <use x=\"304.785156\" xlink:href=\"#DejaVuSans-97\"/>\n       <use x=\"366.064453\" xlink:href=\"#DejaVuSans-112\"/>\n       <use x=\"429.541016\" xlink:href=\"#DejaVuSans-104\"/>\n       <use x=\"492.919922\" xlink:href=\"#DejaVuSans-105\"/>\n       <use x=\"520.703125\" xlink:href=\"#DejaVuSans-99\"/>\n       <use x=\"575.683594\" xlink:href=\"#DejaVuSans-70\"/>\n       <use x=\"625.953125\" xlink:href=\"#DejaVuSans-105\"/>\n       <use x=\"653.736328\" xlink:href=\"#DejaVuSans-101\"/>\n       <use x=\"715.259766\" xlink:href=\"#DejaVuSans-108\"/>\n       <use x=\"743.042969\" xlink:href=\"#DejaVuSans-100\"/>\n       <use x=\"806.519531\" xlink:href=\"#DejaVuSans-54\"/>\n       <use x=\"870.142578\" xlink:href=\"#DejaVuSans-48\"/>\n       <use x=\"933.765625\" xlink:href=\"#DejaVuSans-66\"/>\n      </g>\n     </g>\n    </g>\n    <g id=\"ytick_196\">\n     <g id=\"line2d_199\">\n      <g>\n       <use style=\"stroke:#000000;stroke-width:0.8;\" x=\"165.090625\" xlink:href=\"#m85187e86d9\" y=\"3070.461356\"/>\n      </g>\n     </g>\n     <g id=\"text_199\">\n      <!-- GeographicField8B -->\n      <g style=\"fill:#444443;\" transform=\"translate(64.2125 3074.260575)scale(0.1 -0.1)\">\n       <use xlink:href=\"#DejaVuSans-71\"/>\n       <use x=\"77.490234\" xlink:href=\"#DejaVuSans-101\"/>\n       <use x=\"139.013672\" xlink:href=\"#DejaVuSans-111\"/>\n       <use x=\"200.195312\" xlink:href=\"#DejaVuSans-103\"/>\n       <use x=\"263.671875\" xlink:href=\"#DejaVuSans-114\"/>\n       <use x=\"304.785156\" xlink:href=\"#DejaVuSans-97\"/>\n       <use x=\"366.064453\" xlink:href=\"#DejaVuSans-112\"/>\n       <use x=\"429.541016\" xlink:href=\"#DejaVuSans-104\"/>\n       <use x=\"492.919922\" xlink:href=\"#DejaVuSans-105\"/>\n       <use x=\"520.703125\" xlink:href=\"#DejaVuSans-99\"/>\n       <use x=\"575.683594\" xlink:href=\"#DejaVuSans-70\"/>\n       <use x=\"625.953125\" xlink:href=\"#DejaVuSans-105\"/>\n       <use x=\"653.736328\" xlink:href=\"#DejaVuSans-101\"/>\n       <use x=\"715.259766\" xlink:href=\"#DejaVuSans-108\"/>\n       <use x=\"743.042969\" xlink:href=\"#DejaVuSans-100\"/>\n       <use x=\"806.519531\" xlink:href=\"#DejaVuSans-56\"/>\n       <use x=\"870.142578\" xlink:href=\"#DejaVuSans-66\"/>\n      </g>\n     </g>\n    </g>\n    <g id=\"ytick_197\">\n     <g id=\"line2d_200\">\n      <g>\n       <use style=\"stroke:#000000;stroke-width:0.8;\" x=\"165.090625\" xlink:href=\"#m85187e86d9\" y=\"3086.16339\"/>\n      </g>\n     </g>\n     <g id=\"text_200\">\n      <!-- GeographicField31B -->\n      <g style=\"fill:#444443;\" transform=\"translate(57.85 3089.962609)scale(0.1 -0.1)\">\n       <use xlink:href=\"#DejaVuSans-71\"/>\n       <use x=\"77.490234\" xlink:href=\"#DejaVuSans-101\"/>\n       <use x=\"139.013672\" xlink:href=\"#DejaVuSans-111\"/>\n       <use x=\"200.195312\" xlink:href=\"#DejaVuSans-103\"/>\n       <use x=\"263.671875\" xlink:href=\"#DejaVuSans-114\"/>\n       <use x=\"304.785156\" xlink:href=\"#DejaVuSans-97\"/>\n       <use x=\"366.064453\" xlink:href=\"#DejaVuSans-112\"/>\n       <use x=\"429.541016\" xlink:href=\"#DejaVuSans-104\"/>\n       <use x=\"492.919922\" xlink:href=\"#DejaVuSans-105\"/>\n       <use x=\"520.703125\" xlink:href=\"#DejaVuSans-99\"/>\n       <use x=\"575.683594\" xlink:href=\"#DejaVuSans-70\"/>\n       <use x=\"625.953125\" xlink:href=\"#DejaVuSans-105\"/>\n       <use x=\"653.736328\" xlink:href=\"#DejaVuSans-101\"/>\n       <use x=\"715.259766\" xlink:href=\"#DejaVuSans-108\"/>\n       <use x=\"743.042969\" xlink:href=\"#DejaVuSans-100\"/>\n       <use x=\"806.519531\" xlink:href=\"#DejaVuSans-51\"/>\n       <use x=\"870.142578\" xlink:href=\"#DejaVuSans-49\"/>\n       <use x=\"933.765625\" xlink:href=\"#DejaVuSans-66\"/>\n      </g>\n     </g>\n    </g>\n    <g id=\"ytick_198\">\n     <g id=\"line2d_201\">\n      <g>\n       <use style=\"stroke:#000000;stroke-width:0.8;\" x=\"165.090625\" xlink:href=\"#m85187e86d9\" y=\"3101.865424\"/>\n      </g>\n     </g>\n     <g id=\"text_201\">\n      <!-- GeographicField16B -->\n      <g style=\"fill:#444443;\" transform=\"translate(57.85 3105.664642)scale(0.1 -0.1)\">\n       <use xlink:href=\"#DejaVuSans-71\"/>\n       <use x=\"77.490234\" xlink:href=\"#DejaVuSans-101\"/>\n       <use x=\"139.013672\" xlink:href=\"#DejaVuSans-111\"/>\n       <use x=\"200.195312\" xlink:href=\"#DejaVuSans-103\"/>\n       <use x=\"263.671875\" xlink:href=\"#DejaVuSans-114\"/>\n       <use x=\"304.785156\" xlink:href=\"#DejaVuSans-97\"/>\n       <use x=\"366.064453\" xlink:href=\"#DejaVuSans-112\"/>\n       <use x=\"429.541016\" xlink:href=\"#DejaVuSans-104\"/>\n       <use x=\"492.919922\" xlink:href=\"#DejaVuSans-105\"/>\n       <use x=\"520.703125\" xlink:href=\"#DejaVuSans-99\"/>\n       <use x=\"575.683594\" xlink:href=\"#DejaVuSans-70\"/>\n       <use x=\"625.953125\" xlink:href=\"#DejaVuSans-105\"/>\n       <use x=\"653.736328\" xlink:href=\"#DejaVuSans-101\"/>\n       <use x=\"715.259766\" xlink:href=\"#DejaVuSans-108\"/>\n       <use x=\"743.042969\" xlink:href=\"#DejaVuSans-100\"/>\n       <use x=\"806.519531\" xlink:href=\"#DejaVuSans-49\"/>\n       <use x=\"870.142578\" xlink:href=\"#DejaVuSans-54\"/>\n       <use x=\"933.765625\" xlink:href=\"#DejaVuSans-66\"/>\n      </g>\n     </g>\n    </g>\n    <g id=\"ytick_199\">\n     <g id=\"line2d_202\">\n      <g>\n       <use style=\"stroke:#000000;stroke-width:0.8;\" x=\"165.090625\" xlink:href=\"#m85187e86d9\" y=\"3117.567458\"/>\n      </g>\n     </g>\n     <g id=\"text_202\">\n      <!-- GeographicField34A -->\n      <g style=\"fill:#444443;\" transform=\"translate(57.870313 3121.366676)scale(0.1 -0.1)\">\n       <use xlink:href=\"#DejaVuSans-71\"/>\n       <use x=\"77.490234\" xlink:href=\"#DejaVuSans-101\"/>\n       <use x=\"139.013672\" xlink:href=\"#DejaVuSans-111\"/>\n       <use x=\"200.195312\" xlink:href=\"#DejaVuSans-103\"/>\n       <use x=\"263.671875\" xlink:href=\"#DejaVuSans-114\"/>\n       <use x=\"304.785156\" xlink:href=\"#DejaVuSans-97\"/>\n       <use x=\"366.064453\" xlink:href=\"#DejaVuSans-112\"/>\n       <use x=\"429.541016\" xlink:href=\"#DejaVuSans-104\"/>\n       <use x=\"492.919922\" xlink:href=\"#DejaVuSans-105\"/>\n       <use x=\"520.703125\" xlink:href=\"#DejaVuSans-99\"/>\n       <use x=\"575.683594\" xlink:href=\"#DejaVuSans-70\"/>\n       <use x=\"625.953125\" xlink:href=\"#DejaVuSans-105\"/>\n       <use x=\"653.736328\" xlink:href=\"#DejaVuSans-101\"/>\n       <use x=\"715.259766\" xlink:href=\"#DejaVuSans-108\"/>\n       <use x=\"743.042969\" xlink:href=\"#DejaVuSans-100\"/>\n       <use x=\"806.519531\" xlink:href=\"#DejaVuSans-51\"/>\n       <use x=\"870.142578\" xlink:href=\"#DejaVuSans-52\"/>\n       <use x=\"933.765625\" xlink:href=\"#DejaVuSans-65\"/>\n      </g>\n     </g>\n    </g>\n    <g id=\"ytick_200\">\n     <g id=\"line2d_203\">\n      <g>\n       <use style=\"stroke:#000000;stroke-width:0.8;\" x=\"165.090625\" xlink:href=\"#m85187e86d9\" y=\"3133.269492\"/>\n      </g>\n     </g>\n     <g id=\"text_203\">\n      <!-- GeographicField46A -->\n      <g style=\"fill:#444443;\" transform=\"translate(57.870313 3137.06871)scale(0.1 -0.1)\">\n       <use xlink:href=\"#DejaVuSans-71\"/>\n       <use x=\"77.490234\" xlink:href=\"#DejaVuSans-101\"/>\n       <use x=\"139.013672\" xlink:href=\"#DejaVuSans-111\"/>\n       <use x=\"200.195312\" xlink:href=\"#DejaVuSans-103\"/>\n       <use x=\"263.671875\" xlink:href=\"#DejaVuSans-114\"/>\n       <use x=\"304.785156\" xlink:href=\"#DejaVuSans-97\"/>\n       <use x=\"366.064453\" xlink:href=\"#DejaVuSans-112\"/>\n       <use x=\"429.541016\" xlink:href=\"#DejaVuSans-104\"/>\n       <use x=\"492.919922\" xlink:href=\"#DejaVuSans-105\"/>\n       <use x=\"520.703125\" xlink:href=\"#DejaVuSans-99\"/>\n       <use x=\"575.683594\" xlink:href=\"#DejaVuSans-70\"/>\n       <use x=\"625.953125\" xlink:href=\"#DejaVuSans-105\"/>\n       <use x=\"653.736328\" xlink:href=\"#DejaVuSans-101\"/>\n       <use x=\"715.259766\" xlink:href=\"#DejaVuSans-108\"/>\n       <use x=\"743.042969\" xlink:href=\"#DejaVuSans-100\"/>\n       <use x=\"806.519531\" xlink:href=\"#DejaVuSans-52\"/>\n       <use x=\"870.142578\" xlink:href=\"#DejaVuSans-54\"/>\n       <use x=\"933.765625\" xlink:href=\"#DejaVuSans-65\"/>\n      </g>\n     </g>\n    </g>\n    <g id=\"ytick_201\">\n     <g id=\"line2d_204\">\n      <g>\n       <use style=\"stroke:#000000;stroke-width:0.8;\" x=\"165.090625\" xlink:href=\"#m85187e86d9\" y=\"3148.971525\"/>\n      </g>\n     </g>\n     <g id=\"text_204\">\n      <!-- GeographicField46B -->\n      <g style=\"fill:#444443;\" transform=\"translate(57.85 3152.770744)scale(0.1 -0.1)\">\n       <use xlink:href=\"#DejaVuSans-71\"/>\n       <use x=\"77.490234\" xlink:href=\"#DejaVuSans-101\"/>\n       <use x=\"139.013672\" xlink:href=\"#DejaVuSans-111\"/>\n       <use x=\"200.195312\" xlink:href=\"#DejaVuSans-103\"/>\n       <use x=\"263.671875\" xlink:href=\"#DejaVuSans-114\"/>\n       <use x=\"304.785156\" xlink:href=\"#DejaVuSans-97\"/>\n       <use x=\"366.064453\" xlink:href=\"#DejaVuSans-112\"/>\n       <use x=\"429.541016\" xlink:href=\"#DejaVuSans-104\"/>\n       <use x=\"492.919922\" xlink:href=\"#DejaVuSans-105\"/>\n       <use x=\"520.703125\" xlink:href=\"#DejaVuSans-99\"/>\n       <use x=\"575.683594\" xlink:href=\"#DejaVuSans-70\"/>\n       <use x=\"625.953125\" xlink:href=\"#DejaVuSans-105\"/>\n       <use x=\"653.736328\" xlink:href=\"#DejaVuSans-101\"/>\n       <use x=\"715.259766\" xlink:href=\"#DejaVuSans-108\"/>\n       <use x=\"743.042969\" xlink:href=\"#DejaVuSans-100\"/>\n       <use x=\"806.519531\" xlink:href=\"#DejaVuSans-52\"/>\n       <use x=\"870.142578\" xlink:href=\"#DejaVuSans-54\"/>\n       <use x=\"933.765625\" xlink:href=\"#DejaVuSans-66\"/>\n      </g>\n     </g>\n    </g>\n    <g id=\"ytick_202\">\n     <g id=\"line2d_205\">\n      <g>\n       <use style=\"stroke:#000000;stroke-width:0.8;\" x=\"165.090625\" xlink:href=\"#m85187e86d9\" y=\"3164.673559\"/>\n      </g>\n     </g>\n     <g id=\"text_205\">\n      <!-- GeographicField39B -->\n      <g style=\"fill:#444443;\" transform=\"translate(57.85 3168.472778)scale(0.1 -0.1)\">\n       <use xlink:href=\"#DejaVuSans-71\"/>\n       <use x=\"77.490234\" xlink:href=\"#DejaVuSans-101\"/>\n       <use x=\"139.013672\" xlink:href=\"#DejaVuSans-111\"/>\n       <use x=\"200.195312\" xlink:href=\"#DejaVuSans-103\"/>\n       <use x=\"263.671875\" xlink:href=\"#DejaVuSans-114\"/>\n       <use x=\"304.785156\" xlink:href=\"#DejaVuSans-97\"/>\n       <use x=\"366.064453\" xlink:href=\"#DejaVuSans-112\"/>\n       <use x=\"429.541016\" xlink:href=\"#DejaVuSans-104\"/>\n       <use x=\"492.919922\" xlink:href=\"#DejaVuSans-105\"/>\n       <use x=\"520.703125\" xlink:href=\"#DejaVuSans-99\"/>\n       <use x=\"575.683594\" xlink:href=\"#DejaVuSans-70\"/>\n       <use x=\"625.953125\" xlink:href=\"#DejaVuSans-105\"/>\n       <use x=\"653.736328\" xlink:href=\"#DejaVuSans-101\"/>\n       <use x=\"715.259766\" xlink:href=\"#DejaVuSans-108\"/>\n       <use x=\"743.042969\" xlink:href=\"#DejaVuSans-100\"/>\n       <use x=\"806.519531\" xlink:href=\"#DejaVuSans-51\"/>\n       <use x=\"870.142578\" xlink:href=\"#DejaVuSans-57\"/>\n       <use x=\"933.765625\" xlink:href=\"#DejaVuSans-66\"/>\n      </g>\n     </g>\n    </g>\n    <g id=\"ytick_203\">\n     <g id=\"line2d_206\">\n      <g>\n       <use style=\"stroke:#000000;stroke-width:0.8;\" x=\"165.090625\" xlink:href=\"#m85187e86d9\" y=\"3180.375593\"/>\n      </g>\n     </g>\n     <g id=\"text_206\">\n      <!-- GeographicField54A -->\n      <g style=\"fill:#444443;\" transform=\"translate(57.870313 3184.174812)scale(0.1 -0.1)\">\n       <use xlink:href=\"#DejaVuSans-71\"/>\n       <use x=\"77.490234\" xlink:href=\"#DejaVuSans-101\"/>\n       <use x=\"139.013672\" xlink:href=\"#DejaVuSans-111\"/>\n       <use x=\"200.195312\" xlink:href=\"#DejaVuSans-103\"/>\n       <use x=\"263.671875\" xlink:href=\"#DejaVuSans-114\"/>\n       <use x=\"304.785156\" xlink:href=\"#DejaVuSans-97\"/>\n       <use x=\"366.064453\" xlink:href=\"#DejaVuSans-112\"/>\n       <use x=\"429.541016\" xlink:href=\"#DejaVuSans-104\"/>\n       <use x=\"492.919922\" xlink:href=\"#DejaVuSans-105\"/>\n       <use x=\"520.703125\" xlink:href=\"#DejaVuSans-99\"/>\n       <use x=\"575.683594\" xlink:href=\"#DejaVuSans-70\"/>\n       <use x=\"625.953125\" xlink:href=\"#DejaVuSans-105\"/>\n       <use x=\"653.736328\" xlink:href=\"#DejaVuSans-101\"/>\n       <use x=\"715.259766\" xlink:href=\"#DejaVuSans-108\"/>\n       <use x=\"743.042969\" xlink:href=\"#DejaVuSans-100\"/>\n       <use x=\"806.519531\" xlink:href=\"#DejaVuSans-53\"/>\n       <use x=\"870.142578\" xlink:href=\"#DejaVuSans-52\"/>\n       <use x=\"933.765625\" xlink:href=\"#DejaVuSans-65\"/>\n      </g>\n     </g>\n    </g>\n    <g id=\"ytick_204\">\n     <g id=\"line2d_207\">\n      <g>\n       <use style=\"stroke:#000000;stroke-width:0.8;\" x=\"165.090625\" xlink:href=\"#m85187e86d9\" y=\"3196.077627\"/>\n      </g>\n     </g>\n     <g id=\"text_207\">\n      <!-- Field6 -->\n      <g style=\"fill:#444443;\" transform=\"translate(128.64375 3199.876846)scale(0.1 -0.1)\">\n       <use xlink:href=\"#DejaVuSans-70\"/>\n       <use x=\"50.269531\" xlink:href=\"#DejaVuSans-105\"/>\n       <use x=\"78.052734\" xlink:href=\"#DejaVuSans-101\"/>\n       <use x=\"139.576172\" xlink:href=\"#DejaVuSans-108\"/>\n       <use x=\"167.359375\" xlink:href=\"#DejaVuSans-100\"/>\n       <use x=\"230.835938\" xlink:href=\"#DejaVuSans-54\"/>\n      </g>\n     </g>\n    </g>\n    <g id=\"ytick_205\">\n     <g id=\"line2d_208\">\n      <g>\n       <use style=\"stroke:#000000;stroke-width:0.8;\" x=\"165.090625\" xlink:href=\"#m85187e86d9\" y=\"3211.779661\"/>\n      </g>\n     </g>\n     <g id=\"text_208\">\n      <!-- PersonalField17 -->\n      <g style=\"fill:#444443;\" transform=\"translate(79.778125 3215.57888)scale(0.1 -0.1)\">\n       <use xlink:href=\"#DejaVuSans-80\"/>\n       <use x=\"56.677734\" xlink:href=\"#DejaVuSans-101\"/>\n       <use x=\"118.201172\" xlink:href=\"#DejaVuSans-114\"/>\n       <use x=\"159.314453\" xlink:href=\"#DejaVuSans-115\"/>\n       <use x=\"211.414062\" xlink:href=\"#DejaVuSans-111\"/>\n       <use x=\"272.595703\" xlink:href=\"#DejaVuSans-110\"/>\n       <use x=\"335.974609\" xlink:href=\"#DejaVuSans-97\"/>\n       <use x=\"397.253906\" xlink:href=\"#DejaVuSans-108\"/>\n       <use x=\"425.037109\" xlink:href=\"#DejaVuSans-70\"/>\n       <use x=\"475.306641\" xlink:href=\"#DejaVuSans-105\"/>\n       <use x=\"503.089844\" xlink:href=\"#DejaVuSans-101\"/>\n       <use x=\"564.613281\" xlink:href=\"#DejaVuSans-108\"/>\n       <use x=\"592.396484\" xlink:href=\"#DejaVuSans-100\"/>\n       <use x=\"655.873047\" xlink:href=\"#DejaVuSans-49\"/>\n       <use x=\"719.496094\" xlink:href=\"#DejaVuSans-55\"/>\n      </g>\n     </g>\n    </g>\n    <g id=\"ytick_206\">\n     <g id=\"line2d_209\">\n      <g>\n       <use style=\"stroke:#000000;stroke-width:0.8;\" x=\"165.090625\" xlink:href=\"#m85187e86d9\" y=\"3227.481695\"/>\n      </g>\n     </g>\n     <g id=\"text_209\">\n      <!-- PersonalField24 -->\n      <g style=\"fill:#444443;\" transform=\"translate(79.778125 3231.280914)scale(0.1 -0.1)\">\n       <use xlink:href=\"#DejaVuSans-80\"/>\n       <use x=\"56.677734\" xlink:href=\"#DejaVuSans-101\"/>\n       <use x=\"118.201172\" xlink:href=\"#DejaVuSans-114\"/>\n       <use x=\"159.314453\" xlink:href=\"#DejaVuSans-115\"/>\n       <use x=\"211.414062\" xlink:href=\"#DejaVuSans-111\"/>\n       <use x=\"272.595703\" xlink:href=\"#DejaVuSans-110\"/>\n       <use x=\"335.974609\" xlink:href=\"#DejaVuSans-97\"/>\n       <use x=\"397.253906\" xlink:href=\"#DejaVuSans-108\"/>\n       <use x=\"425.037109\" xlink:href=\"#DejaVuSans-70\"/>\n       <use x=\"475.306641\" xlink:href=\"#DejaVuSans-105\"/>\n       <use x=\"503.089844\" xlink:href=\"#DejaVuSans-101\"/>\n       <use x=\"564.613281\" xlink:href=\"#DejaVuSans-108\"/>\n       <use x=\"592.396484\" xlink:href=\"#DejaVuSans-100\"/>\n       <use x=\"655.873047\" xlink:href=\"#DejaVuSans-50\"/>\n       <use x=\"719.496094\" xlink:href=\"#DejaVuSans-52\"/>\n      </g>\n     </g>\n    </g>\n    <g id=\"ytick_207\">\n     <g id=\"line2d_210\">\n      <g>\n       <use style=\"stroke:#000000;stroke-width:0.8;\" x=\"165.090625\" xlink:href=\"#m85187e86d9\" y=\"3243.183729\"/>\n      </g>\n     </g>\n     <g id=\"text_210\">\n      <!-- PersonalField30 -->\n      <g style=\"fill:#444443;\" transform=\"translate(79.778125 3246.982948)scale(0.1 -0.1)\">\n       <use xlink:href=\"#DejaVuSans-80\"/>\n       <use x=\"56.677734\" xlink:href=\"#DejaVuSans-101\"/>\n       <use x=\"118.201172\" xlink:href=\"#DejaVuSans-114\"/>\n       <use x=\"159.314453\" xlink:href=\"#DejaVuSans-115\"/>\n       <use x=\"211.414062\" xlink:href=\"#DejaVuSans-111\"/>\n       <use x=\"272.595703\" xlink:href=\"#DejaVuSans-110\"/>\n       <use x=\"335.974609\" xlink:href=\"#DejaVuSans-97\"/>\n       <use x=\"397.253906\" xlink:href=\"#DejaVuSans-108\"/>\n       <use x=\"425.037109\" xlink:href=\"#DejaVuSans-70\"/>\n       <use x=\"475.306641\" xlink:href=\"#DejaVuSans-105\"/>\n       <use x=\"503.089844\" xlink:href=\"#DejaVuSans-101\"/>\n       <use x=\"564.613281\" xlink:href=\"#DejaVuSans-108\"/>\n       <use x=\"592.396484\" xlink:href=\"#DejaVuSans-100\"/>\n       <use x=\"655.873047\" xlink:href=\"#DejaVuSans-51\"/>\n       <use x=\"719.496094\" xlink:href=\"#DejaVuSans-48\"/>\n      </g>\n     </g>\n    </g>\n    <g id=\"ytick_208\">\n     <g id=\"line2d_211\">\n      <g>\n       <use style=\"stroke:#000000;stroke-width:0.8;\" x=\"165.090625\" xlink:href=\"#m85187e86d9\" y=\"3258.885763\"/>\n      </g>\n     </g>\n     <g id=\"text_211\">\n      <!-- PropertyField33 -->\n      <g style=\"fill:#444443;\" transform=\"translate(79.970313 3262.684981)scale(0.1 -0.1)\">\n       <use xlink:href=\"#DejaVuSans-80\"/>\n       <use x=\"58.552734\" xlink:href=\"#DejaVuSans-114\"/>\n       <use x=\"97.416016\" xlink:href=\"#DejaVuSans-111\"/>\n       <use x=\"158.597656\" xlink:href=\"#DejaVuSans-112\"/>\n       <use x=\"222.074219\" xlink:href=\"#DejaVuSans-101\"/>\n       <use x=\"283.597656\" xlink:href=\"#DejaVuSans-114\"/>\n       <use x=\"324.710938\" xlink:href=\"#DejaVuSans-116\"/>\n       <use x=\"363.919922\" xlink:href=\"#DejaVuSans-121\"/>\n       <use x=\"423.099609\" xlink:href=\"#DejaVuSans-70\"/>\n       <use x=\"473.369141\" xlink:href=\"#DejaVuSans-105\"/>\n       <use x=\"501.152344\" xlink:href=\"#DejaVuSans-101\"/>\n       <use x=\"562.675781\" xlink:href=\"#DejaVuSans-108\"/>\n       <use x=\"590.458984\" xlink:href=\"#DejaVuSans-100\"/>\n       <use x=\"653.935547\" xlink:href=\"#DejaVuSans-51\"/>\n       <use x=\"717.558594\" xlink:href=\"#DejaVuSans-51\"/>\n      </g>\n     </g>\n    </g>\n    <g id=\"ytick_209\">\n     <g id=\"line2d_212\">\n      <g>\n       <use style=\"stroke:#000000;stroke-width:0.8;\" x=\"165.090625\" xlink:href=\"#m85187e86d9\" y=\"3274.587797\"/>\n      </g>\n     </g>\n     <g id=\"text_212\">\n      <!-- PropertyField30 -->\n      <g style=\"fill:#444443;\" transform=\"translate(79.970313 3278.387015)scale(0.1 -0.1)\">\n       <use xlink:href=\"#DejaVuSans-80\"/>\n       <use x=\"58.552734\" xlink:href=\"#DejaVuSans-114\"/>\n       <use x=\"97.416016\" xlink:href=\"#DejaVuSans-111\"/>\n       <use x=\"158.597656\" xlink:href=\"#DejaVuSans-112\"/>\n       <use x=\"222.074219\" xlink:href=\"#DejaVuSans-101\"/>\n       <use x=\"283.597656\" xlink:href=\"#DejaVuSans-114\"/>\n       <use x=\"324.710938\" xlink:href=\"#DejaVuSans-116\"/>\n       <use x=\"363.919922\" xlink:href=\"#DejaVuSans-121\"/>\n       <use x=\"423.099609\" xlink:href=\"#DejaVuSans-70\"/>\n       <use x=\"473.369141\" xlink:href=\"#DejaVuSans-105\"/>\n       <use x=\"501.152344\" xlink:href=\"#DejaVuSans-101\"/>\n       <use x=\"562.675781\" xlink:href=\"#DejaVuSans-108\"/>\n       <use x=\"590.458984\" xlink:href=\"#DejaVuSans-100\"/>\n       <use x=\"653.935547\" xlink:href=\"#DejaVuSans-51\"/>\n       <use x=\"717.558594\" xlink:href=\"#DejaVuSans-48\"/>\n      </g>\n     </g>\n    </g>\n    <g id=\"ytick_210\">\n     <g id=\"line2d_213\">\n      <g>\n       <use style=\"stroke:#000000;stroke-width:0.8;\" x=\"165.090625\" xlink:href=\"#m85187e86d9\" y=\"3290.289831\"/>\n      </g>\n     </g>\n     <g id=\"text_213\">\n      <!-- PropertyField19 -->\n      <g style=\"fill:#444443;\" transform=\"translate(79.970313 3294.089049)scale(0.1 -0.1)\">\n       <use xlink:href=\"#DejaVuSans-80\"/>\n       <use x=\"58.552734\" xlink:href=\"#DejaVuSans-114\"/>\n       <use x=\"97.416016\" xlink:href=\"#DejaVuSans-111\"/>\n       <use x=\"158.597656\" xlink:href=\"#DejaVuSans-112\"/>\n       <use x=\"222.074219\" xlink:href=\"#DejaVuSans-101\"/>\n       <use x=\"283.597656\" xlink:href=\"#DejaVuSans-114\"/>\n       <use x=\"324.710938\" xlink:href=\"#DejaVuSans-116\"/>\n       <use x=\"363.919922\" xlink:href=\"#DejaVuSans-121\"/>\n       <use x=\"423.099609\" xlink:href=\"#DejaVuSans-70\"/>\n       <use x=\"473.369141\" xlink:href=\"#DejaVuSans-105\"/>\n       <use x=\"501.152344\" xlink:href=\"#DejaVuSans-101\"/>\n       <use x=\"562.675781\" xlink:href=\"#DejaVuSans-108\"/>\n       <use x=\"590.458984\" xlink:href=\"#DejaVuSans-100\"/>\n       <use x=\"653.935547\" xlink:href=\"#DejaVuSans-49\"/>\n       <use x=\"717.558594\" xlink:href=\"#DejaVuSans-57\"/>\n      </g>\n     </g>\n    </g>\n    <g id=\"ytick_211\">\n     <g id=\"line2d_214\">\n      <g>\n       <use style=\"stroke:#000000;stroke-width:0.8;\" x=\"165.090625\" xlink:href=\"#m85187e86d9\" y=\"3305.991864\"/>\n      </g>\n     </g>\n     <g id=\"text_214\">\n      <!-- PropertyField17 -->\n      <g style=\"fill:#444443;\" transform=\"translate(79.970313 3309.791083)scale(0.1 -0.1)\">\n       <use xlink:href=\"#DejaVuSans-80\"/>\n       <use x=\"58.552734\" xlink:href=\"#DejaVuSans-114\"/>\n       <use x=\"97.416016\" xlink:href=\"#DejaVuSans-111\"/>\n       <use x=\"158.597656\" xlink:href=\"#DejaVuSans-112\"/>\n       <use x=\"222.074219\" xlink:href=\"#DejaVuSans-101\"/>\n       <use x=\"283.597656\" xlink:href=\"#DejaVuSans-114\"/>\n       <use x=\"324.710938\" xlink:href=\"#DejaVuSans-116\"/>\n       <use x=\"363.919922\" xlink:href=\"#DejaVuSans-121\"/>\n       <use x=\"423.099609\" xlink:href=\"#DejaVuSans-70\"/>\n       <use x=\"473.369141\" xlink:href=\"#DejaVuSans-105\"/>\n       <use x=\"501.152344\" xlink:href=\"#DejaVuSans-101\"/>\n       <use x=\"562.675781\" xlink:href=\"#DejaVuSans-108\"/>\n       <use x=\"590.458984\" xlink:href=\"#DejaVuSans-100\"/>\n       <use x=\"653.935547\" xlink:href=\"#DejaVuSans-49\"/>\n       <use x=\"717.558594\" xlink:href=\"#DejaVuSans-55\"/>\n      </g>\n     </g>\n    </g>\n    <g id=\"ytick_212\">\n     <g id=\"line2d_215\">\n      <g>\n       <use style=\"stroke:#000000;stroke-width:0.8;\" x=\"165.090625\" xlink:href=\"#m85187e86d9\" y=\"3321.693898\"/>\n      </g>\n     </g>\n     <g id=\"text_215\">\n      <!-- GeographicField22A -->\n      <g style=\"fill:#444443;\" transform=\"translate(57.870313 3325.493117)scale(0.1 -0.1)\">\n       <use xlink:href=\"#DejaVuSans-71\"/>\n       <use x=\"77.490234\" xlink:href=\"#DejaVuSans-101\"/>\n       <use x=\"139.013672\" xlink:href=\"#DejaVuSans-111\"/>\n       <use x=\"200.195312\" xlink:href=\"#DejaVuSans-103\"/>\n       <use x=\"263.671875\" xlink:href=\"#DejaVuSans-114\"/>\n       <use x=\"304.785156\" xlink:href=\"#DejaVuSans-97\"/>\n       <use x=\"366.064453\" xlink:href=\"#DejaVuSans-112\"/>\n       <use x=\"429.541016\" xlink:href=\"#DejaVuSans-104\"/>\n       <use x=\"492.919922\" xlink:href=\"#DejaVuSans-105\"/>\n       <use x=\"520.703125\" xlink:href=\"#DejaVuSans-99\"/>\n       <use x=\"575.683594\" xlink:href=\"#DejaVuSans-70\"/>\n       <use x=\"625.953125\" xlink:href=\"#DejaVuSans-105\"/>\n       <use x=\"653.736328\" xlink:href=\"#DejaVuSans-101\"/>\n       <use x=\"715.259766\" xlink:href=\"#DejaVuSans-108\"/>\n       <use x=\"743.042969\" xlink:href=\"#DejaVuSans-100\"/>\n       <use x=\"806.519531\" xlink:href=\"#DejaVuSans-50\"/>\n       <use x=\"870.142578\" xlink:href=\"#DejaVuSans-50\"/>\n       <use x=\"933.765625\" xlink:href=\"#DejaVuSans-65\"/>\n      </g>\n     </g>\n    </g>\n    <g id=\"ytick_213\">\n     <g id=\"line2d_216\">\n      <g>\n       <use style=\"stroke:#000000;stroke-width:0.8;\" x=\"165.090625\" xlink:href=\"#m85187e86d9\" y=\"3337.395932\"/>\n      </g>\n     </g>\n     <g id=\"text_216\">\n      <!-- PropertyField35 -->\n      <g style=\"fill:#444443;\" transform=\"translate(79.970313 3341.195151)scale(0.1 -0.1)\">\n       <use xlink:href=\"#DejaVuSans-80\"/>\n       <use x=\"58.552734\" xlink:href=\"#DejaVuSans-114\"/>\n       <use x=\"97.416016\" xlink:href=\"#DejaVuSans-111\"/>\n       <use x=\"158.597656\" xlink:href=\"#DejaVuSans-112\"/>\n       <use x=\"222.074219\" xlink:href=\"#DejaVuSans-101\"/>\n       <use x=\"283.597656\" xlink:href=\"#DejaVuSans-114\"/>\n       <use x=\"324.710938\" xlink:href=\"#DejaVuSans-116\"/>\n       <use x=\"363.919922\" xlink:href=\"#DejaVuSans-121\"/>\n       <use x=\"423.099609\" xlink:href=\"#DejaVuSans-70\"/>\n       <use x=\"473.369141\" xlink:href=\"#DejaVuSans-105\"/>\n       <use x=\"501.152344\" xlink:href=\"#DejaVuSans-101\"/>\n       <use x=\"562.675781\" xlink:href=\"#DejaVuSans-108\"/>\n       <use x=\"590.458984\" xlink:href=\"#DejaVuSans-100\"/>\n       <use x=\"653.935547\" xlink:href=\"#DejaVuSans-51\"/>\n       <use x=\"717.558594\" xlink:href=\"#DejaVuSans-53\"/>\n      </g>\n     </g>\n    </g>\n    <g id=\"ytick_214\">\n     <g id=\"line2d_217\">\n      <g>\n       <use style=\"stroke:#000000;stroke-width:0.8;\" x=\"165.090625\" xlink:href=\"#m85187e86d9\" y=\"3353.097966\"/>\n      </g>\n     </g>\n     <g id=\"text_217\">\n      <!-- PropertyField4 -->\n      <g style=\"fill:#444443;\" transform=\"translate(86.332813 3356.897185)scale(0.1 -0.1)\">\n       <use xlink:href=\"#DejaVuSans-80\"/>\n       <use x=\"58.552734\" xlink:href=\"#DejaVuSans-114\"/>\n       <use x=\"97.416016\" xlink:href=\"#DejaVuSans-111\"/>\n       <use x=\"158.597656\" xlink:href=\"#DejaVuSans-112\"/>\n       <use x=\"222.074219\" xlink:href=\"#DejaVuSans-101\"/>\n       <use x=\"283.597656\" xlink:href=\"#DejaVuSans-114\"/>\n       <use x=\"324.710938\" xlink:href=\"#DejaVuSans-116\"/>\n       <use x=\"363.919922\" xlink:href=\"#DejaVuSans-121\"/>\n       <use x=\"423.099609\" xlink:href=\"#DejaVuSans-70\"/>\n       <use x=\"473.369141\" xlink:href=\"#DejaVuSans-105\"/>\n       <use x=\"501.152344\" xlink:href=\"#DejaVuSans-101\"/>\n       <use x=\"562.675781\" xlink:href=\"#DejaVuSans-108\"/>\n       <use x=\"590.458984\" xlink:href=\"#DejaVuSans-100\"/>\n       <use x=\"653.935547\" xlink:href=\"#DejaVuSans-52\"/>\n      </g>\n     </g>\n    </g>\n    <g id=\"ytick_215\">\n     <g id=\"line2d_218\">\n      <g>\n       <use style=\"stroke:#000000;stroke-width:0.8;\" x=\"165.090625\" xlink:href=\"#m85187e86d9\" y=\"3368.8\"/>\n      </g>\n     </g>\n     <g id=\"text_218\">\n      <!-- PropertyField1A -->\n      <g style=\"fill:#444443;\" transform=\"translate(79.492188 3372.599219)scale(0.1 -0.1)\">\n       <use xlink:href=\"#DejaVuSans-80\"/>\n       <use x=\"58.552734\" xlink:href=\"#DejaVuSans-114\"/>\n       <use x=\"97.416016\" xlink:href=\"#DejaVuSans-111\"/>\n       <use x=\"158.597656\" xlink:href=\"#DejaVuSans-112\"/>\n       <use x=\"222.074219\" xlink:href=\"#DejaVuSans-101\"/>\n       <use x=\"283.597656\" xlink:href=\"#DejaVuSans-114\"/>\n       <use x=\"324.710938\" xlink:href=\"#DejaVuSans-116\"/>\n       <use x=\"363.919922\" xlink:href=\"#DejaVuSans-121\"/>\n       <use x=\"423.099609\" xlink:href=\"#DejaVuSans-70\"/>\n       <use x=\"473.369141\" xlink:href=\"#DejaVuSans-105\"/>\n       <use x=\"501.152344\" xlink:href=\"#DejaVuSans-101\"/>\n       <use x=\"562.675781\" xlink:href=\"#DejaVuSans-108\"/>\n       <use x=\"590.458984\" xlink:href=\"#DejaVuSans-100\"/>\n       <use x=\"653.935547\" xlink:href=\"#DejaVuSans-49\"/>\n       <use x=\"717.558594\" xlink:href=\"#DejaVuSans-65\"/>\n      </g>\n     </g>\n    </g>\n    <g id=\"ytick_216\">\n     <g id=\"line2d_219\">\n      <g>\n       <use style=\"stroke:#000000;stroke-width:0.8;\" x=\"165.090625\" xlink:href=\"#m85187e86d9\" y=\"3384.502034\"/>\n      </g>\n     </g>\n     <g id=\"text_219\">\n      <!-- PropertyField1B -->\n      <g style=\"fill:#444443;\" transform=\"translate(79.471875 3388.301253)scale(0.1 -0.1)\">\n       <use xlink:href=\"#DejaVuSans-80\"/>\n       <use x=\"58.552734\" xlink:href=\"#DejaVuSans-114\"/>\n       <use x=\"97.416016\" xlink:href=\"#DejaVuSans-111\"/>\n       <use x=\"158.597656\" xlink:href=\"#DejaVuSans-112\"/>\n       <use x=\"222.074219\" xlink:href=\"#DejaVuSans-101\"/>\n       <use x=\"283.597656\" xlink:href=\"#DejaVuSans-114\"/>\n       <use x=\"324.710938\" xlink:href=\"#DejaVuSans-116\"/>\n       <use x=\"363.919922\" xlink:href=\"#DejaVuSans-121\"/>\n       <use x=\"423.099609\" xlink:href=\"#DejaVuSans-70\"/>\n       <use x=\"473.369141\" xlink:href=\"#DejaVuSans-105\"/>\n       <use x=\"501.152344\" xlink:href=\"#DejaVuSans-101\"/>\n       <use x=\"562.675781\" xlink:href=\"#DejaVuSans-108\"/>\n       <use x=\"590.458984\" xlink:href=\"#DejaVuSans-100\"/>\n       <use x=\"653.935547\" xlink:href=\"#DejaVuSans-49\"/>\n       <use x=\"717.558594\" xlink:href=\"#DejaVuSans-66\"/>\n      </g>\n     </g>\n    </g>\n    <g id=\"ytick_217\">\n     <g id=\"line2d_220\">\n      <g>\n       <use style=\"stroke:#000000;stroke-width:0.8;\" x=\"165.090625\" xlink:href=\"#m85187e86d9\" y=\"3400.204068\"/>\n      </g>\n     </g>\n     <g id=\"text_220\">\n      <!-- PropertyField2B -->\n      <g style=\"fill:#444443;\" transform=\"translate(79.471875 3404.003287)scale(0.1 -0.1)\">\n       <use xlink:href=\"#DejaVuSans-80\"/>\n       <use x=\"58.552734\" xlink:href=\"#DejaVuSans-114\"/>\n       <use x=\"97.416016\" xlink:href=\"#DejaVuSans-111\"/>\n       <use x=\"158.597656\" xlink:href=\"#DejaVuSans-112\"/>\n       <use x=\"222.074219\" xlink:href=\"#DejaVuSans-101\"/>\n       <use x=\"283.597656\" xlink:href=\"#DejaVuSans-114\"/>\n       <use x=\"324.710938\" xlink:href=\"#DejaVuSans-116\"/>\n       <use x=\"363.919922\" xlink:href=\"#DejaVuSans-121\"/>\n       <use x=\"423.099609\" xlink:href=\"#DejaVuSans-70\"/>\n       <use x=\"473.369141\" xlink:href=\"#DejaVuSans-105\"/>\n       <use x=\"501.152344\" xlink:href=\"#DejaVuSans-101\"/>\n       <use x=\"562.675781\" xlink:href=\"#DejaVuSans-108\"/>\n       <use x=\"590.458984\" xlink:href=\"#DejaVuSans-100\"/>\n       <use x=\"653.935547\" xlink:href=\"#DejaVuSans-50\"/>\n       <use x=\"717.558594\" xlink:href=\"#DejaVuSans-66\"/>\n      </g>\n     </g>\n    </g>\n    <g id=\"ytick_218\">\n     <g id=\"line2d_221\">\n      <g>\n       <use style=\"stroke:#000000;stroke-width:0.8;\" x=\"165.090625\" xlink:href=\"#m85187e86d9\" y=\"3415.906102\"/>\n      </g>\n     </g>\n     <g id=\"text_221\">\n      <!-- Field12 -->\n      <g style=\"fill:#444443;\" transform=\"translate(122.28125 3419.70532)scale(0.1 -0.1)\">\n       <use xlink:href=\"#DejaVuSans-70\"/>\n       <use x=\"50.269531\" xlink:href=\"#DejaVuSans-105\"/>\n       <use x=\"78.052734\" xlink:href=\"#DejaVuSans-101\"/>\n       <use x=\"139.576172\" xlink:href=\"#DejaVuSans-108\"/>\n       <use x=\"167.359375\" xlink:href=\"#DejaVuSans-100\"/>\n       <use x=\"230.835938\" xlink:href=\"#DejaVuSans-49\"/>\n       <use x=\"294.458984\" xlink:href=\"#DejaVuSans-50\"/>\n      </g>\n     </g>\n    </g>\n    <g id=\"ytick_219\">\n     <g id=\"line2d_222\">\n      <g>\n       <use style=\"stroke:#000000;stroke-width:0.8;\" x=\"165.090625\" xlink:href=\"#m85187e86d9\" y=\"3431.608136\"/>\n      </g>\n     </g>\n     <g id=\"text_222\">\n      <!-- PersonalField16 -->\n      <g style=\"fill:#444443;\" transform=\"translate(79.778125 3435.407354)scale(0.1 -0.1)\">\n       <use xlink:href=\"#DejaVuSans-80\"/>\n       <use x=\"56.677734\" xlink:href=\"#DejaVuSans-101\"/>\n       <use x=\"118.201172\" xlink:href=\"#DejaVuSans-114\"/>\n       <use x=\"159.314453\" xlink:href=\"#DejaVuSans-115\"/>\n       <use x=\"211.414062\" xlink:href=\"#DejaVuSans-111\"/>\n       <use x=\"272.595703\" xlink:href=\"#DejaVuSans-110\"/>\n       <use x=\"335.974609\" xlink:href=\"#DejaVuSans-97\"/>\n       <use x=\"397.253906\" xlink:href=\"#DejaVuSans-108\"/>\n       <use x=\"425.037109\" xlink:href=\"#DejaVuSans-70\"/>\n       <use x=\"475.306641\" xlink:href=\"#DejaVuSans-105\"/>\n       <use x=\"503.089844\" xlink:href=\"#DejaVuSans-101\"/>\n       <use x=\"564.613281\" xlink:href=\"#DejaVuSans-108\"/>\n       <use x=\"592.396484\" xlink:href=\"#DejaVuSans-100\"/>\n       <use x=\"655.873047\" xlink:href=\"#DejaVuSans-49\"/>\n       <use x=\"719.496094\" xlink:href=\"#DejaVuSans-54\"/>\n      </g>\n     </g>\n    </g>\n    <g id=\"ytick_220\">\n     <g id=\"line2d_223\">\n      <g>\n       <use style=\"stroke:#000000;stroke-width:0.8;\" x=\"165.090625\" xlink:href=\"#m85187e86d9\" y=\"3447.310169\"/>\n      </g>\n     </g>\n     <g id=\"text_223\">\n      <!-- PropertyField16B -->\n      <g style=\"fill:#444443;\" transform=\"translate(73.109375 3451.109388)scale(0.1 -0.1)\">\n       <use xlink:href=\"#DejaVuSans-80\"/>\n       <use x=\"58.552734\" xlink:href=\"#DejaVuSans-114\"/>\n       <use x=\"97.416016\" xlink:href=\"#DejaVuSans-111\"/>\n       <use x=\"158.597656\" xlink:href=\"#DejaVuSans-112\"/>\n       <use x=\"222.074219\" xlink:href=\"#DejaVuSans-101\"/>\n       <use x=\"283.597656\" xlink:href=\"#DejaVuSans-114\"/>\n       <use x=\"324.710938\" xlink:href=\"#DejaVuSans-116\"/>\n       <use x=\"363.919922\" xlink:href=\"#DejaVuSans-121\"/>\n       <use x=\"423.099609\" xlink:href=\"#DejaVuSans-70\"/>\n       <use x=\"473.369141\" xlink:href=\"#DejaVuSans-105\"/>\n       <use x=\"501.152344\" xlink:href=\"#DejaVuSans-101\"/>\n       <use x=\"562.675781\" xlink:href=\"#DejaVuSans-108\"/>\n       <use x=\"590.458984\" xlink:href=\"#DejaVuSans-100\"/>\n       <use x=\"653.935547\" xlink:href=\"#DejaVuSans-49\"/>\n       <use x=\"717.558594\" xlink:href=\"#DejaVuSans-54\"/>\n       <use x=\"781.181641\" xlink:href=\"#DejaVuSans-66\"/>\n      </g>\n     </g>\n    </g>\n    <g id=\"ytick_221\">\n     <g id=\"line2d_224\">\n      <g>\n       <use style=\"stroke:#000000;stroke-width:0.8;\" x=\"165.090625\" xlink:href=\"#m85187e86d9\" y=\"3463.012203\"/>\n      </g>\n     </g>\n     <g id=\"text_224\">\n      <!-- PersonalField74 -->\n      <g style=\"fill:#444443;\" transform=\"translate(79.778125 3466.811422)scale(0.1 -0.1)\">\n       <use xlink:href=\"#DejaVuSans-80\"/>\n       <use x=\"56.677734\" xlink:href=\"#DejaVuSans-101\"/>\n       <use x=\"118.201172\" xlink:href=\"#DejaVuSans-114\"/>\n       <use x=\"159.314453\" xlink:href=\"#DejaVuSans-115\"/>\n       <use x=\"211.414062\" xlink:href=\"#DejaVuSans-111\"/>\n       <use x=\"272.595703\" xlink:href=\"#DejaVuSans-110\"/>\n       <use x=\"335.974609\" xlink:href=\"#DejaVuSans-97\"/>\n       <use x=\"397.253906\" xlink:href=\"#DejaVuSans-108\"/>\n       <use x=\"425.037109\" xlink:href=\"#DejaVuSans-70\"/>\n       <use x=\"475.306641\" xlink:href=\"#DejaVuSans-105\"/>\n       <use x=\"503.089844\" xlink:href=\"#DejaVuSans-101\"/>\n       <use x=\"564.613281\" xlink:href=\"#DejaVuSans-108\"/>\n       <use x=\"592.396484\" xlink:href=\"#DejaVuSans-100\"/>\n       <use x=\"655.873047\" xlink:href=\"#DejaVuSans-55\"/>\n       <use x=\"719.496094\" xlink:href=\"#DejaVuSans-52\"/>\n      </g>\n     </g>\n    </g>\n    <g id=\"ytick_222\">\n     <g id=\"line2d_225\">\n      <g>\n       <use style=\"stroke:#000000;stroke-width:0.8;\" x=\"165.090625\" xlink:href=\"#m85187e86d9\" y=\"3478.714237\"/>\n      </g>\n     </g>\n     <g id=\"text_225\">\n      <!-- PersonalField77 -->\n      <g style=\"fill:#444443;\" transform=\"translate(79.778125 3482.513456)scale(0.1 -0.1)\">\n       <use xlink:href=\"#DejaVuSans-80\"/>\n       <use x=\"56.677734\" xlink:href=\"#DejaVuSans-101\"/>\n       <use x=\"118.201172\" xlink:href=\"#DejaVuSans-114\"/>\n       <use x=\"159.314453\" xlink:href=\"#DejaVuSans-115\"/>\n       <use x=\"211.414062\" xlink:href=\"#DejaVuSans-111\"/>\n       <use x=\"272.595703\" xlink:href=\"#DejaVuSans-110\"/>\n       <use x=\"335.974609\" xlink:href=\"#DejaVuSans-97\"/>\n       <use x=\"397.253906\" xlink:href=\"#DejaVuSans-108\"/>\n       <use x=\"425.037109\" xlink:href=\"#DejaVuSans-70\"/>\n       <use x=\"475.306641\" xlink:href=\"#DejaVuSans-105\"/>\n       <use x=\"503.089844\" xlink:href=\"#DejaVuSans-101\"/>\n       <use x=\"564.613281\" xlink:href=\"#DejaVuSans-108\"/>\n       <use x=\"592.396484\" xlink:href=\"#DejaVuSans-100\"/>\n       <use x=\"655.873047\" xlink:href=\"#DejaVuSans-55\"/>\n       <use x=\"719.496094\" xlink:href=\"#DejaVuSans-55\"/>\n      </g>\n     </g>\n    </g>\n    <g id=\"ytick_223\">\n     <g id=\"line2d_226\">\n      <g>\n       <use style=\"stroke:#000000;stroke-width:0.8;\" x=\"165.090625\" xlink:href=\"#m85187e86d9\" y=\"3494.416271\"/>\n      </g>\n     </g>\n     <g id=\"text_226\">\n      <!-- PersonalField82 -->\n      <g style=\"fill:#444443;\" transform=\"translate(79.778125 3498.21549)scale(0.1 -0.1)\">\n       <use xlink:href=\"#DejaVuSans-80\"/>\n       <use x=\"56.677734\" xlink:href=\"#DejaVuSans-101\"/>\n       <use x=\"118.201172\" xlink:href=\"#DejaVuSans-114\"/>\n       <use x=\"159.314453\" xlink:href=\"#DejaVuSans-115\"/>\n       <use x=\"211.414062\" xlink:href=\"#DejaVuSans-111\"/>\n       <use x=\"272.595703\" xlink:href=\"#DejaVuSans-110\"/>\n       <use x=\"335.974609\" xlink:href=\"#DejaVuSans-97\"/>\n       <use x=\"397.253906\" xlink:href=\"#DejaVuSans-108\"/>\n       <use x=\"425.037109\" xlink:href=\"#DejaVuSans-70\"/>\n       <use x=\"475.306641\" xlink:href=\"#DejaVuSans-105\"/>\n       <use x=\"503.089844\" xlink:href=\"#DejaVuSans-101\"/>\n       <use x=\"564.613281\" xlink:href=\"#DejaVuSans-108\"/>\n       <use x=\"592.396484\" xlink:href=\"#DejaVuSans-100\"/>\n       <use x=\"655.873047\" xlink:href=\"#DejaVuSans-56\"/>\n       <use x=\"719.496094\" xlink:href=\"#DejaVuSans-50\"/>\n      </g>\n     </g>\n    </g>\n    <g id=\"ytick_224\">\n     <g id=\"line2d_227\">\n      <g>\n       <use style=\"stroke:#000000;stroke-width:0.8;\" x=\"165.090625\" xlink:href=\"#m85187e86d9\" y=\"3510.118305\"/>\n      </g>\n     </g>\n     <g id=\"text_227\">\n      <!-- PersonalField80 -->\n      <g style=\"fill:#444443;\" transform=\"translate(79.778125 3513.917524)scale(0.1 -0.1)\">\n       <use xlink:href=\"#DejaVuSans-80\"/>\n       <use x=\"56.677734\" xlink:href=\"#DejaVuSans-101\"/>\n       <use x=\"118.201172\" xlink:href=\"#DejaVuSans-114\"/>\n       <use x=\"159.314453\" xlink:href=\"#DejaVuSans-115\"/>\n       <use x=\"211.414062\" xlink:href=\"#DejaVuSans-111\"/>\n       <use x=\"272.595703\" xlink:href=\"#DejaVuSans-110\"/>\n       <use x=\"335.974609\" xlink:href=\"#DejaVuSans-97\"/>\n       <use x=\"397.253906\" xlink:href=\"#DejaVuSans-108\"/>\n       <use x=\"425.037109\" xlink:href=\"#DejaVuSans-70\"/>\n       <use x=\"475.306641\" xlink:href=\"#DejaVuSans-105\"/>\n       <use x=\"503.089844\" xlink:href=\"#DejaVuSans-101\"/>\n       <use x=\"564.613281\" xlink:href=\"#DejaVuSans-108\"/>\n       <use x=\"592.396484\" xlink:href=\"#DejaVuSans-100\"/>\n       <use x=\"655.873047\" xlink:href=\"#DejaVuSans-56\"/>\n       <use x=\"719.496094\" xlink:href=\"#DejaVuSans-48\"/>\n      </g>\n     </g>\n    </g>\n    <g id=\"ytick_225\">\n     <g id=\"line2d_228\">\n      <g>\n       <use style=\"stroke:#000000;stroke-width:0.8;\" x=\"165.090625\" xlink:href=\"#m85187e86d9\" y=\"3525.820339\"/>\n      </g>\n     </g>\n     <g id=\"text_228\">\n      <!-- GeographicField26A -->\n      <g style=\"fill:#444443;\" transform=\"translate(57.870313 3529.619558)scale(0.1 -0.1)\">\n       <use xlink:href=\"#DejaVuSans-71\"/>\n       <use x=\"77.490234\" xlink:href=\"#DejaVuSans-101\"/>\n       <use x=\"139.013672\" xlink:href=\"#DejaVuSans-111\"/>\n       <use x=\"200.195312\" xlink:href=\"#DejaVuSans-103\"/>\n       <use x=\"263.671875\" xlink:href=\"#DejaVuSans-114\"/>\n       <use x=\"304.785156\" xlink:href=\"#DejaVuSans-97\"/>\n       <use x=\"366.064453\" xlink:href=\"#DejaVuSans-112\"/>\n       <use x=\"429.541016\" xlink:href=\"#DejaVuSans-104\"/>\n       <use x=\"492.919922\" xlink:href=\"#DejaVuSans-105\"/>\n       <use x=\"520.703125\" xlink:href=\"#DejaVuSans-99\"/>\n       <use x=\"575.683594\" xlink:href=\"#DejaVuSans-70\"/>\n       <use x=\"625.953125\" xlink:href=\"#DejaVuSans-105\"/>\n       <use x=\"653.736328\" xlink:href=\"#DejaVuSans-101\"/>\n       <use x=\"715.259766\" xlink:href=\"#DejaVuSans-108\"/>\n       <use x=\"743.042969\" xlink:href=\"#DejaVuSans-100\"/>\n       <use x=\"806.519531\" xlink:href=\"#DejaVuSans-50\"/>\n       <use x=\"870.142578\" xlink:href=\"#DejaVuSans-54\"/>\n       <use x=\"933.765625\" xlink:href=\"#DejaVuSans-65\"/>\n      </g>\n     </g>\n    </g>\n    <g id=\"ytick_226\">\n     <g id=\"line2d_229\">\n      <g>\n       <use style=\"stroke:#000000;stroke-width:0.8;\" x=\"165.090625\" xlink:href=\"#m85187e86d9\" y=\"3541.522373\"/>\n      </g>\n     </g>\n     <g id=\"text_229\">\n      <!-- GeographicField52B -->\n      <g style=\"fill:#444443;\" transform=\"translate(57.85 3545.321592)scale(0.1 -0.1)\">\n       <use xlink:href=\"#DejaVuSans-71\"/>\n       <use x=\"77.490234\" xlink:href=\"#DejaVuSans-101\"/>\n       <use x=\"139.013672\" xlink:href=\"#DejaVuSans-111\"/>\n       <use x=\"200.195312\" xlink:href=\"#DejaVuSans-103\"/>\n       <use x=\"263.671875\" xlink:href=\"#DejaVuSans-114\"/>\n       <use x=\"304.785156\" xlink:href=\"#DejaVuSans-97\"/>\n       <use x=\"366.064453\" xlink:href=\"#DejaVuSans-112\"/>\n       <use x=\"429.541016\" xlink:href=\"#DejaVuSans-104\"/>\n       <use x=\"492.919922\" xlink:href=\"#DejaVuSans-105\"/>\n       <use x=\"520.703125\" xlink:href=\"#DejaVuSans-99\"/>\n       <use x=\"575.683594\" xlink:href=\"#DejaVuSans-70\"/>\n       <use x=\"625.953125\" xlink:href=\"#DejaVuSans-105\"/>\n       <use x=\"653.736328\" xlink:href=\"#DejaVuSans-101\"/>\n       <use x=\"715.259766\" xlink:href=\"#DejaVuSans-108\"/>\n       <use x=\"743.042969\" xlink:href=\"#DejaVuSans-100\"/>\n       <use x=\"806.519531\" xlink:href=\"#DejaVuSans-53\"/>\n       <use x=\"870.142578\" xlink:href=\"#DejaVuSans-50\"/>\n       <use x=\"933.765625\" xlink:href=\"#DejaVuSans-66\"/>\n      </g>\n     </g>\n    </g>\n    <g id=\"ytick_227\">\n     <g id=\"line2d_230\">\n      <g>\n       <use style=\"stroke:#000000;stroke-width:0.8;\" x=\"165.090625\" xlink:href=\"#m85187e86d9\" y=\"3557.224407\"/>\n      </g>\n     </g>\n     <g id=\"text_230\">\n      <!-- GeographicField52A -->\n      <g style=\"fill:#444443;\" transform=\"translate(57.870313 3561.023626)scale(0.1 -0.1)\">\n       <use xlink:href=\"#DejaVuSans-71\"/>\n       <use x=\"77.490234\" xlink:href=\"#DejaVuSans-101\"/>\n       <use x=\"139.013672\" xlink:href=\"#DejaVuSans-111\"/>\n       <use x=\"200.195312\" xlink:href=\"#DejaVuSans-103\"/>\n       <use x=\"263.671875\" xlink:href=\"#DejaVuSans-114\"/>\n       <use x=\"304.785156\" xlink:href=\"#DejaVuSans-97\"/>\n       <use x=\"366.064453\" xlink:href=\"#DejaVuSans-112\"/>\n       <use x=\"429.541016\" xlink:href=\"#DejaVuSans-104\"/>\n       <use x=\"492.919922\" xlink:href=\"#DejaVuSans-105\"/>\n       <use x=\"520.703125\" xlink:href=\"#DejaVuSans-99\"/>\n       <use x=\"575.683594\" xlink:href=\"#DejaVuSans-70\"/>\n       <use x=\"625.953125\" xlink:href=\"#DejaVuSans-105\"/>\n       <use x=\"653.736328\" xlink:href=\"#DejaVuSans-101\"/>\n       <use x=\"715.259766\" xlink:href=\"#DejaVuSans-108\"/>\n       <use x=\"743.042969\" xlink:href=\"#DejaVuSans-100\"/>\n       <use x=\"806.519531\" xlink:href=\"#DejaVuSans-53\"/>\n       <use x=\"870.142578\" xlink:href=\"#DejaVuSans-50\"/>\n       <use x=\"933.765625\" xlink:href=\"#DejaVuSans-65\"/>\n      </g>\n     </g>\n    </g>\n    <g id=\"ytick_228\">\n     <g id=\"line2d_231\">\n      <g>\n       <use style=\"stroke:#000000;stroke-width:0.8;\" x=\"165.090625\" xlink:href=\"#m85187e86d9\" y=\"3572.926441\"/>\n      </g>\n     </g>\n     <g id=\"text_231\">\n      <!-- PropertyField14 -->\n      <g style=\"fill:#444443;\" transform=\"translate(79.970313 3576.725659)scale(0.1 -0.1)\">\n       <use xlink:href=\"#DejaVuSans-80\"/>\n       <use x=\"58.552734\" xlink:href=\"#DejaVuSans-114\"/>\n       <use x=\"97.416016\" xlink:href=\"#DejaVuSans-111\"/>\n       <use x=\"158.597656\" xlink:href=\"#DejaVuSans-112\"/>\n       <use x=\"222.074219\" xlink:href=\"#DejaVuSans-101\"/>\n       <use x=\"283.597656\" xlink:href=\"#DejaVuSans-114\"/>\n       <use x=\"324.710938\" xlink:href=\"#DejaVuSans-116\"/>\n       <use x=\"363.919922\" xlink:href=\"#DejaVuSans-121\"/>\n       <use x=\"423.099609\" xlink:href=\"#DejaVuSans-70\"/>\n       <use x=\"473.369141\" xlink:href=\"#DejaVuSans-105\"/>\n       <use x=\"501.152344\" xlink:href=\"#DejaVuSans-101\"/>\n       <use x=\"562.675781\" xlink:href=\"#DejaVuSans-108\"/>\n       <use x=\"590.458984\" xlink:href=\"#DejaVuSans-100\"/>\n       <use x=\"653.935547\" xlink:href=\"#DejaVuSans-49\"/>\n       <use x=\"717.558594\" xlink:href=\"#DejaVuSans-52\"/>\n      </g>\n     </g>\n    </g>\n    <g id=\"ytick_229\">\n     <g id=\"line2d_232\">\n      <g>\n       <use style=\"stroke:#000000;stroke-width:0.8;\" x=\"165.090625\" xlink:href=\"#m85187e86d9\" y=\"3588.628475\"/>\n      </g>\n     </g>\n     <g id=\"text_232\">\n      <!-- GeographicField29A -->\n      <g style=\"fill:#444443;\" transform=\"translate(57.870313 3592.427693)scale(0.1 -0.1)\">\n       <use xlink:href=\"#DejaVuSans-71\"/>\n       <use x=\"77.490234\" xlink:href=\"#DejaVuSans-101\"/>\n       <use x=\"139.013672\" xlink:href=\"#DejaVuSans-111\"/>\n       <use x=\"200.195312\" xlink:href=\"#DejaVuSans-103\"/>\n       <use x=\"263.671875\" xlink:href=\"#DejaVuSans-114\"/>\n       <use x=\"304.785156\" xlink:href=\"#DejaVuSans-97\"/>\n       <use x=\"366.064453\" xlink:href=\"#DejaVuSans-112\"/>\n       <use x=\"429.541016\" xlink:href=\"#DejaVuSans-104\"/>\n       <use x=\"492.919922\" xlink:href=\"#DejaVuSans-105\"/>\n       <use x=\"520.703125\" xlink:href=\"#DejaVuSans-99\"/>\n       <use x=\"575.683594\" xlink:href=\"#DejaVuSans-70\"/>\n       <use x=\"625.953125\" xlink:href=\"#DejaVuSans-105\"/>\n       <use x=\"653.736328\" xlink:href=\"#DejaVuSans-101\"/>\n       <use x=\"715.259766\" xlink:href=\"#DejaVuSans-108\"/>\n       <use x=\"743.042969\" xlink:href=\"#DejaVuSans-100\"/>\n       <use x=\"806.519531\" xlink:href=\"#DejaVuSans-50\"/>\n       <use x=\"870.142578\" xlink:href=\"#DejaVuSans-57\"/>\n       <use x=\"933.765625\" xlink:href=\"#DejaVuSans-65\"/>\n      </g>\n     </g>\n    </g>\n    <g id=\"ytick_230\">\n     <g id=\"line2d_233\">\n      <g>\n       <use style=\"stroke:#000000;stroke-width:0.8;\" x=\"165.090625\" xlink:href=\"#m85187e86d9\" y=\"3604.330508\"/>\n      </g>\n     </g>\n     <g id=\"text_233\">\n      <!-- GeographicField33A -->\n      <g style=\"fill:#444443;\" transform=\"translate(57.870313 3608.129727)scale(0.1 -0.1)\">\n       <use xlink:href=\"#DejaVuSans-71\"/>\n       <use x=\"77.490234\" xlink:href=\"#DejaVuSans-101\"/>\n       <use x=\"139.013672\" xlink:href=\"#DejaVuSans-111\"/>\n       <use x=\"200.195312\" xlink:href=\"#DejaVuSans-103\"/>\n       <use x=\"263.671875\" xlink:href=\"#DejaVuSans-114\"/>\n       <use x=\"304.785156\" xlink:href=\"#DejaVuSans-97\"/>\n       <use x=\"366.064453\" xlink:href=\"#DejaVuSans-112\"/>\n       <use x=\"429.541016\" xlink:href=\"#DejaVuSans-104\"/>\n       <use x=\"492.919922\" xlink:href=\"#DejaVuSans-105\"/>\n       <use x=\"520.703125\" xlink:href=\"#DejaVuSans-99\"/>\n       <use x=\"575.683594\" xlink:href=\"#DejaVuSans-70\"/>\n       <use x=\"625.953125\" xlink:href=\"#DejaVuSans-105\"/>\n       <use x=\"653.736328\" xlink:href=\"#DejaVuSans-101\"/>\n       <use x=\"715.259766\" xlink:href=\"#DejaVuSans-108\"/>\n       <use x=\"743.042969\" xlink:href=\"#DejaVuSans-100\"/>\n       <use x=\"806.519531\" xlink:href=\"#DejaVuSans-51\"/>\n       <use x=\"870.142578\" xlink:href=\"#DejaVuSans-51\"/>\n       <use x=\"933.765625\" xlink:href=\"#DejaVuSans-65\"/>\n      </g>\n     </g>\n    </g>\n    <g id=\"ytick_231\">\n     <g id=\"line2d_234\">\n      <g>\n       <use style=\"stroke:#000000;stroke-width:0.8;\" x=\"165.090625\" xlink:href=\"#m85187e86d9\" y=\"3620.032542\"/>\n      </g>\n     </g>\n     <g id=\"text_234\">\n      <!-- PersonalField47 -->\n      <g style=\"fill:#444443;\" transform=\"translate(79.778125 3623.831761)scale(0.1 -0.1)\">\n       <use xlink:href=\"#DejaVuSans-80\"/>\n       <use x=\"56.677734\" xlink:href=\"#DejaVuSans-101\"/>\n       <use x=\"118.201172\" xlink:href=\"#DejaVuSans-114\"/>\n       <use x=\"159.314453\" xlink:href=\"#DejaVuSans-115\"/>\n       <use x=\"211.414062\" xlink:href=\"#DejaVuSans-111\"/>\n       <use x=\"272.595703\" xlink:href=\"#DejaVuSans-110\"/>\n       <use x=\"335.974609\" xlink:href=\"#DejaVuSans-97\"/>\n       <use x=\"397.253906\" xlink:href=\"#DejaVuSans-108\"/>\n       <use x=\"425.037109\" xlink:href=\"#DejaVuSans-70\"/>\n       <use x=\"475.306641\" xlink:href=\"#DejaVuSans-105\"/>\n       <use x=\"503.089844\" xlink:href=\"#DejaVuSans-101\"/>\n       <use x=\"564.613281\" xlink:href=\"#DejaVuSans-108\"/>\n       <use x=\"592.396484\" xlink:href=\"#DejaVuSans-100\"/>\n       <use x=\"655.873047\" xlink:href=\"#DejaVuSans-52\"/>\n       <use x=\"719.496094\" xlink:href=\"#DejaVuSans-55\"/>\n      </g>\n     </g>\n    </g>\n    <g id=\"ytick_232\">\n     <g id=\"line2d_235\">\n      <g>\n       <use style=\"stroke:#000000;stroke-width:0.8;\" x=\"165.090625\" xlink:href=\"#m85187e86d9\" y=\"3635.734576\"/>\n      </g>\n     </g>\n     <g id=\"text_235\">\n      <!-- PersonalField48 -->\n      <g style=\"fill:#444443;\" transform=\"translate(79.778125 3639.533795)scale(0.1 -0.1)\">\n       <use xlink:href=\"#DejaVuSans-80\"/>\n       <use x=\"56.677734\" xlink:href=\"#DejaVuSans-101\"/>\n       <use x=\"118.201172\" xlink:href=\"#DejaVuSans-114\"/>\n       <use x=\"159.314453\" xlink:href=\"#DejaVuSans-115\"/>\n       <use x=\"211.414062\" xlink:href=\"#DejaVuSans-111\"/>\n       <use x=\"272.595703\" xlink:href=\"#DejaVuSans-110\"/>\n       <use x=\"335.974609\" xlink:href=\"#DejaVuSans-97\"/>\n       <use x=\"397.253906\" xlink:href=\"#DejaVuSans-108\"/>\n       <use x=\"425.037109\" xlink:href=\"#DejaVuSans-70\"/>\n       <use x=\"475.306641\" xlink:href=\"#DejaVuSans-105\"/>\n       <use x=\"503.089844\" xlink:href=\"#DejaVuSans-101\"/>\n       <use x=\"564.613281\" xlink:href=\"#DejaVuSans-108\"/>\n       <use x=\"592.396484\" xlink:href=\"#DejaVuSans-100\"/>\n       <use x=\"655.873047\" xlink:href=\"#DejaVuSans-52\"/>\n       <use x=\"719.496094\" xlink:href=\"#DejaVuSans-56\"/>\n      </g>\n     </g>\n    </g>\n    <g id=\"ytick_233\">\n     <g id=\"line2d_236\">\n      <g>\n       <use style=\"stroke:#000000;stroke-width:0.8;\" x=\"165.090625\" xlink:href=\"#m85187e86d9\" y=\"3651.43661\"/>\n      </g>\n     </g>\n     <g id=\"text_236\">\n      <!-- GeographicField37B -->\n      <g style=\"fill:#444443;\" transform=\"translate(57.85 3655.235829)scale(0.1 -0.1)\">\n       <use xlink:href=\"#DejaVuSans-71\"/>\n       <use x=\"77.490234\" xlink:href=\"#DejaVuSans-101\"/>\n       <use x=\"139.013672\" xlink:href=\"#DejaVuSans-111\"/>\n       <use x=\"200.195312\" xlink:href=\"#DejaVuSans-103\"/>\n       <use x=\"263.671875\" xlink:href=\"#DejaVuSans-114\"/>\n       <use x=\"304.785156\" xlink:href=\"#DejaVuSans-97\"/>\n       <use x=\"366.064453\" xlink:href=\"#DejaVuSans-112\"/>\n       <use x=\"429.541016\" xlink:href=\"#DejaVuSans-104\"/>\n       <use x=\"492.919922\" xlink:href=\"#DejaVuSans-105\"/>\n       <use x=\"520.703125\" xlink:href=\"#DejaVuSans-99\"/>\n       <use x=\"575.683594\" xlink:href=\"#DejaVuSans-70\"/>\n       <use x=\"625.953125\" xlink:href=\"#DejaVuSans-105\"/>\n       <use x=\"653.736328\" xlink:href=\"#DejaVuSans-101\"/>\n       <use x=\"715.259766\" xlink:href=\"#DejaVuSans-108\"/>\n       <use x=\"743.042969\" xlink:href=\"#DejaVuSans-100\"/>\n       <use x=\"806.519531\" xlink:href=\"#DejaVuSans-51\"/>\n       <use x=\"870.142578\" xlink:href=\"#DejaVuSans-55\"/>\n       <use x=\"933.765625\" xlink:href=\"#DejaVuSans-66\"/>\n      </g>\n     </g>\n    </g>\n    <g id=\"ytick_234\">\n     <g id=\"line2d_237\">\n      <g>\n       <use style=\"stroke:#000000;stroke-width:0.8;\" x=\"165.090625\" xlink:href=\"#m85187e86d9\" y=\"3667.138644\"/>\n      </g>\n     </g>\n     <g id=\"text_237\">\n      <!-- GeographicField47A -->\n      <g style=\"fill:#444443;\" transform=\"translate(57.870313 3670.937863)scale(0.1 -0.1)\">\n       <use xlink:href=\"#DejaVuSans-71\"/>\n       <use x=\"77.490234\" xlink:href=\"#DejaVuSans-101\"/>\n       <use x=\"139.013672\" xlink:href=\"#DejaVuSans-111\"/>\n       <use x=\"200.195312\" xlink:href=\"#DejaVuSans-103\"/>\n       <use x=\"263.671875\" xlink:href=\"#DejaVuSans-114\"/>\n       <use x=\"304.785156\" xlink:href=\"#DejaVuSans-97\"/>\n       <use x=\"366.064453\" xlink:href=\"#DejaVuSans-112\"/>\n       <use x=\"429.541016\" xlink:href=\"#DejaVuSans-104\"/>\n       <use x=\"492.919922\" xlink:href=\"#DejaVuSans-105\"/>\n       <use x=\"520.703125\" xlink:href=\"#DejaVuSans-99\"/>\n       <use x=\"575.683594\" xlink:href=\"#DejaVuSans-70\"/>\n       <use x=\"625.953125\" xlink:href=\"#DejaVuSans-105\"/>\n       <use x=\"653.736328\" xlink:href=\"#DejaVuSans-101\"/>\n       <use x=\"715.259766\" xlink:href=\"#DejaVuSans-108\"/>\n       <use x=\"743.042969\" xlink:href=\"#DejaVuSans-100\"/>\n       <use x=\"806.519531\" xlink:href=\"#DejaVuSans-52\"/>\n       <use x=\"870.142578\" xlink:href=\"#DejaVuSans-55\"/>\n       <use x=\"933.765625\" xlink:href=\"#DejaVuSans-65\"/>\n      </g>\n     </g>\n    </g>\n    <g id=\"ytick_235\">\n     <g id=\"line2d_238\">\n      <g>\n       <use style=\"stroke:#000000;stroke-width:0.8;\" x=\"165.090625\" xlink:href=\"#m85187e86d9\" y=\"3682.840678\"/>\n      </g>\n     </g>\n     <g id=\"text_238\">\n      <!-- GeographicField25A -->\n      <g style=\"fill:#444443;\" transform=\"translate(57.870313 3686.639897)scale(0.1 -0.1)\">\n       <use xlink:href=\"#DejaVuSans-71\"/>\n       <use x=\"77.490234\" xlink:href=\"#DejaVuSans-101\"/>\n       <use x=\"139.013672\" xlink:href=\"#DejaVuSans-111\"/>\n       <use x=\"200.195312\" xlink:href=\"#DejaVuSans-103\"/>\n       <use x=\"263.671875\" xlink:href=\"#DejaVuSans-114\"/>\n       <use x=\"304.785156\" xlink:href=\"#DejaVuSans-97\"/>\n       <use x=\"366.064453\" xlink:href=\"#DejaVuSans-112\"/>\n       <use x=\"429.541016\" xlink:href=\"#DejaVuSans-104\"/>\n       <use x=\"492.919922\" xlink:href=\"#DejaVuSans-105\"/>\n       <use x=\"520.703125\" xlink:href=\"#DejaVuSans-99\"/>\n       <use x=\"575.683594\" xlink:href=\"#DejaVuSans-70\"/>\n       <use x=\"625.953125\" xlink:href=\"#DejaVuSans-105\"/>\n       <use x=\"653.736328\" xlink:href=\"#DejaVuSans-101\"/>\n       <use x=\"715.259766\" xlink:href=\"#DejaVuSans-108\"/>\n       <use x=\"743.042969\" xlink:href=\"#DejaVuSans-100\"/>\n       <use x=\"806.519531\" xlink:href=\"#DejaVuSans-50\"/>\n       <use x=\"870.142578\" xlink:href=\"#DejaVuSans-53\"/>\n       <use x=\"933.765625\" xlink:href=\"#DejaVuSans-65\"/>\n      </g>\n     </g>\n    </g>\n    <g id=\"ytick_236\">\n     <g id=\"line2d_239\">\n      <g>\n       <use style=\"stroke:#000000;stroke-width:0.8;\" x=\"165.090625\" xlink:href=\"#m85187e86d9\" y=\"3698.542712\"/>\n      </g>\n     </g>\n     <g id=\"text_239\">\n      <!-- GeographicField42A -->\n      <g style=\"fill:#444443;\" transform=\"translate(57.870313 3702.341931)scale(0.1 -0.1)\">\n       <use xlink:href=\"#DejaVuSans-71\"/>\n       <use x=\"77.490234\" xlink:href=\"#DejaVuSans-101\"/>\n       <use x=\"139.013672\" xlink:href=\"#DejaVuSans-111\"/>\n       <use x=\"200.195312\" xlink:href=\"#DejaVuSans-103\"/>\n       <use x=\"263.671875\" xlink:href=\"#DejaVuSans-114\"/>\n       <use x=\"304.785156\" xlink:href=\"#DejaVuSans-97\"/>\n       <use x=\"366.064453\" xlink:href=\"#DejaVuSans-112\"/>\n       <use x=\"429.541016\" xlink:href=\"#DejaVuSans-104\"/>\n       <use x=\"492.919922\" xlink:href=\"#DejaVuSans-105\"/>\n       <use x=\"520.703125\" xlink:href=\"#DejaVuSans-99\"/>\n       <use x=\"575.683594\" xlink:href=\"#DejaVuSans-70\"/>\n       <use x=\"625.953125\" xlink:href=\"#DejaVuSans-105\"/>\n       <use x=\"653.736328\" xlink:href=\"#DejaVuSans-101\"/>\n       <use x=\"715.259766\" xlink:href=\"#DejaVuSans-108\"/>\n       <use x=\"743.042969\" xlink:href=\"#DejaVuSans-100\"/>\n       <use x=\"806.519531\" xlink:href=\"#DejaVuSans-52\"/>\n       <use x=\"870.142578\" xlink:href=\"#DejaVuSans-50\"/>\n       <use x=\"933.765625\" xlink:href=\"#DejaVuSans-65\"/>\n      </g>\n     </g>\n    </g>\n    <g id=\"ytick_237\">\n     <g id=\"line2d_240\">\n      <g>\n       <use style=\"stroke:#000000;stroke-width:0.8;\" x=\"165.090625\" xlink:href=\"#m85187e86d9\" y=\"3714.244746\"/>\n      </g>\n     </g>\n     <g id=\"text_240\">\n      <!-- PropertyField21B -->\n      <g style=\"fill:#444443;\" transform=\"translate(73.109375 3718.043965)scale(0.1 -0.1)\">\n       <use xlink:href=\"#DejaVuSans-80\"/>\n       <use x=\"58.552734\" xlink:href=\"#DejaVuSans-114\"/>\n       <use x=\"97.416016\" xlink:href=\"#DejaVuSans-111\"/>\n       <use x=\"158.597656\" xlink:href=\"#DejaVuSans-112\"/>\n       <use x=\"222.074219\" xlink:href=\"#DejaVuSans-101\"/>\n       <use x=\"283.597656\" xlink:href=\"#DejaVuSans-114\"/>\n       <use x=\"324.710938\" xlink:href=\"#DejaVuSans-116\"/>\n       <use x=\"363.919922\" xlink:href=\"#DejaVuSans-121\"/>\n       <use x=\"423.099609\" xlink:href=\"#DejaVuSans-70\"/>\n       <use x=\"473.369141\" xlink:href=\"#DejaVuSans-105\"/>\n       <use x=\"501.152344\" xlink:href=\"#DejaVuSans-101\"/>\n       <use x=\"562.675781\" xlink:href=\"#DejaVuSans-108\"/>\n       <use x=\"590.458984\" xlink:href=\"#DejaVuSans-100\"/>\n       <use x=\"653.935547\" xlink:href=\"#DejaVuSans-50\"/>\n       <use x=\"717.558594\" xlink:href=\"#DejaVuSans-49\"/>\n       <use x=\"781.181641\" xlink:href=\"#DejaVuSans-66\"/>\n      </g>\n     </g>\n    </g>\n    <g id=\"ytick_238\">\n     <g id=\"line2d_241\">\n      <g>\n       <use style=\"stroke:#000000;stroke-width:0.8;\" x=\"165.090625\" xlink:href=\"#m85187e86d9\" y=\"3729.94678\"/>\n      </g>\n     </g>\n     <g id=\"text_241\">\n      <!-- GeographicField13A -->\n      <g style=\"fill:#444443;\" transform=\"translate(57.870313 3733.745998)scale(0.1 -0.1)\">\n       <use xlink:href=\"#DejaVuSans-71\"/>\n       <use x=\"77.490234\" xlink:href=\"#DejaVuSans-101\"/>\n       <use x=\"139.013672\" xlink:href=\"#DejaVuSans-111\"/>\n       <use x=\"200.195312\" xlink:href=\"#DejaVuSans-103\"/>\n       <use x=\"263.671875\" xlink:href=\"#DejaVuSans-114\"/>\n       <use x=\"304.785156\" xlink:href=\"#DejaVuSans-97\"/>\n       <use x=\"366.064453\" xlink:href=\"#DejaVuSans-112\"/>\n       <use x=\"429.541016\" xlink:href=\"#DejaVuSans-104\"/>\n       <use x=\"492.919922\" xlink:href=\"#DejaVuSans-105\"/>\n       <use x=\"520.703125\" xlink:href=\"#DejaVuSans-99\"/>\n       <use x=\"575.683594\" xlink:href=\"#DejaVuSans-70\"/>\n       <use x=\"625.953125\" xlink:href=\"#DejaVuSans-105\"/>\n       <use x=\"653.736328\" xlink:href=\"#DejaVuSans-101\"/>\n       <use x=\"715.259766\" xlink:href=\"#DejaVuSans-108\"/>\n       <use x=\"743.042969\" xlink:href=\"#DejaVuSans-100\"/>\n       <use x=\"806.519531\" xlink:href=\"#DejaVuSans-49\"/>\n       <use x=\"870.142578\" xlink:href=\"#DejaVuSans-51\"/>\n       <use x=\"933.765625\" xlink:href=\"#DejaVuSans-65\"/>\n      </g>\n     </g>\n    </g>\n    <g id=\"ytick_239\">\n     <g id=\"line2d_242\">\n      <g>\n       <use style=\"stroke:#000000;stroke-width:0.8;\" x=\"165.090625\" xlink:href=\"#m85187e86d9\" y=\"3745.648814\"/>\n      </g>\n     </g>\n     <g id=\"text_242\">\n      <!-- CoverageField11B -->\n      <g style=\"fill:#444443;\" transform=\"translate(67.50625 3749.448032)scale(0.1 -0.1)\">\n       <use xlink:href=\"#DejaVuSans-67\"/>\n       <use x=\"69.824219\" xlink:href=\"#DejaVuSans-111\"/>\n       <use x=\"131.005859\" xlink:href=\"#DejaVuSans-118\"/>\n       <use x=\"190.185547\" xlink:href=\"#DejaVuSans-101\"/>\n       <use x=\"251.708984\" xlink:href=\"#DejaVuSans-114\"/>\n       <use x=\"292.822266\" xlink:href=\"#DejaVuSans-97\"/>\n       <use x=\"354.101562\" xlink:href=\"#DejaVuSans-103\"/>\n       <use x=\"417.578125\" xlink:href=\"#DejaVuSans-101\"/>\n       <use x=\"479.101562\" xlink:href=\"#DejaVuSans-70\"/>\n       <use x=\"529.371094\" xlink:href=\"#DejaVuSans-105\"/>\n       <use x=\"557.154297\" xlink:href=\"#DejaVuSans-101\"/>\n       <use x=\"618.677734\" xlink:href=\"#DejaVuSans-108\"/>\n       <use x=\"646.460938\" xlink:href=\"#DejaVuSans-100\"/>\n       <use x=\"709.9375\" xlink:href=\"#DejaVuSans-49\"/>\n       <use x=\"773.560547\" xlink:href=\"#DejaVuSans-49\"/>\n       <use x=\"837.183594\" xlink:href=\"#DejaVuSans-66\"/>\n      </g>\n     </g>\n    </g>\n    <g id=\"ytick_240\">\n     <g id=\"line2d_243\">\n      <g>\n       <use style=\"stroke:#000000;stroke-width:0.8;\" x=\"165.090625\" xlink:href=\"#m85187e86d9\" y=\"3761.350847\"/>\n      </g>\n     </g>\n     <g id=\"text_243\">\n      <!-- CoverageField3B -->\n      <g style=\"fill:#444443;\" transform=\"translate(73.86875 3765.150066)scale(0.1 -0.1)\">\n       <use xlink:href=\"#DejaVuSans-67\"/>\n       <use x=\"69.824219\" xlink:href=\"#DejaVuSans-111\"/>\n       <use x=\"131.005859\" xlink:href=\"#DejaVuSans-118\"/>\n       <use x=\"190.185547\" xlink:href=\"#DejaVuSans-101\"/>\n       <use x=\"251.708984\" xlink:href=\"#DejaVuSans-114\"/>\n       <use x=\"292.822266\" xlink:href=\"#DejaVuSans-97\"/>\n       <use x=\"354.101562\" xlink:href=\"#DejaVuSans-103\"/>\n       <use x=\"417.578125\" xlink:href=\"#DejaVuSans-101\"/>\n       <use x=\"479.101562\" xlink:href=\"#DejaVuSans-70\"/>\n       <use x=\"529.371094\" xlink:href=\"#DejaVuSans-105\"/>\n       <use x=\"557.154297\" xlink:href=\"#DejaVuSans-101\"/>\n       <use x=\"618.677734\" xlink:href=\"#DejaVuSans-108\"/>\n       <use x=\"646.460938\" xlink:href=\"#DejaVuSans-100\"/>\n       <use x=\"709.9375\" xlink:href=\"#DejaVuSans-51\"/>\n       <use x=\"773.560547\" xlink:href=\"#DejaVuSans-66\"/>\n      </g>\n     </g>\n    </g>\n    <g id=\"ytick_241\">\n     <g id=\"line2d_244\">\n      <g>\n       <use style=\"stroke:#000000;stroke-width:0.8;\" x=\"165.090625\" xlink:href=\"#m85187e86d9\" y=\"3777.052881\"/>\n      </g>\n     </g>\n     <g id=\"text_244\">\n      <!-- GeographicField8A -->\n      <g style=\"fill:#444443;\" transform=\"translate(64.232813 3780.8521)scale(0.1 -0.1)\">\n       <use xlink:href=\"#DejaVuSans-71\"/>\n       <use x=\"77.490234\" xlink:href=\"#DejaVuSans-101\"/>\n       <use x=\"139.013672\" xlink:href=\"#DejaVuSans-111\"/>\n       <use x=\"200.195312\" xlink:href=\"#DejaVuSans-103\"/>\n       <use x=\"263.671875\" xlink:href=\"#DejaVuSans-114\"/>\n       <use x=\"304.785156\" xlink:href=\"#DejaVuSans-97\"/>\n       <use x=\"366.064453\" xlink:href=\"#DejaVuSans-112\"/>\n       <use x=\"429.541016\" xlink:href=\"#DejaVuSans-104\"/>\n       <use x=\"492.919922\" xlink:href=\"#DejaVuSans-105\"/>\n       <use x=\"520.703125\" xlink:href=\"#DejaVuSans-99\"/>\n       <use x=\"575.683594\" xlink:href=\"#DejaVuSans-70\"/>\n       <use x=\"625.953125\" xlink:href=\"#DejaVuSans-105\"/>\n       <use x=\"653.736328\" xlink:href=\"#DejaVuSans-101\"/>\n       <use x=\"715.259766\" xlink:href=\"#DejaVuSans-108\"/>\n       <use x=\"743.042969\" xlink:href=\"#DejaVuSans-100\"/>\n       <use x=\"806.519531\" xlink:href=\"#DejaVuSans-56\"/>\n       <use x=\"870.142578\" xlink:href=\"#DejaVuSans-65\"/>\n      </g>\n     </g>\n    </g>\n    <g id=\"ytick_242\">\n     <g id=\"line2d_245\">\n      <g>\n       <use style=\"stroke:#000000;stroke-width:0.8;\" x=\"165.090625\" xlink:href=\"#m85187e86d9\" y=\"3792.754915\"/>\n      </g>\n     </g>\n     <g id=\"text_245\">\n      <!-- CoverageField3A -->\n      <g style=\"fill:#444443;\" transform=\"translate(73.889063 3796.554134)scale(0.1 -0.1)\">\n       <use xlink:href=\"#DejaVuSans-67\"/>\n       <use x=\"69.824219\" xlink:href=\"#DejaVuSans-111\"/>\n       <use x=\"131.005859\" xlink:href=\"#DejaVuSans-118\"/>\n       <use x=\"190.185547\" xlink:href=\"#DejaVuSans-101\"/>\n       <use x=\"251.708984\" xlink:href=\"#DejaVuSans-114\"/>\n       <use x=\"292.822266\" xlink:href=\"#DejaVuSans-97\"/>\n       <use x=\"354.101562\" xlink:href=\"#DejaVuSans-103\"/>\n       <use x=\"417.578125\" xlink:href=\"#DejaVuSans-101\"/>\n       <use x=\"479.101562\" xlink:href=\"#DejaVuSans-70\"/>\n       <use x=\"529.371094\" xlink:href=\"#DejaVuSans-105\"/>\n       <use x=\"557.154297\" xlink:href=\"#DejaVuSans-101\"/>\n       <use x=\"618.677734\" xlink:href=\"#DejaVuSans-108\"/>\n       <use x=\"646.460938\" xlink:href=\"#DejaVuSans-100\"/>\n       <use x=\"709.9375\" xlink:href=\"#DejaVuSans-51\"/>\n       <use x=\"773.560547\" xlink:href=\"#DejaVuSans-65\"/>\n      </g>\n     </g>\n    </g>\n    <g id=\"ytick_243\">\n     <g id=\"line2d_246\">\n      <g>\n       <use style=\"stroke:#000000;stroke-width:0.8;\" x=\"165.090625\" xlink:href=\"#m85187e86d9\" y=\"3808.456949\"/>\n      </g>\n     </g>\n     <g id=\"text_246\">\n      <!-- GeographicField55A -->\n      <g style=\"fill:#444443;\" transform=\"translate(57.870313 3812.256168)scale(0.1 -0.1)\">\n       <use xlink:href=\"#DejaVuSans-71\"/>\n       <use x=\"77.490234\" xlink:href=\"#DejaVuSans-101\"/>\n       <use x=\"139.013672\" xlink:href=\"#DejaVuSans-111\"/>\n       <use x=\"200.195312\" xlink:href=\"#DejaVuSans-103\"/>\n       <use x=\"263.671875\" xlink:href=\"#DejaVuSans-114\"/>\n       <use x=\"304.785156\" xlink:href=\"#DejaVuSans-97\"/>\n       <use x=\"366.064453\" xlink:href=\"#DejaVuSans-112\"/>\n       <use x=\"429.541016\" xlink:href=\"#DejaVuSans-104\"/>\n       <use x=\"492.919922\" xlink:href=\"#DejaVuSans-105\"/>\n       <use x=\"520.703125\" xlink:href=\"#DejaVuSans-99\"/>\n       <use x=\"575.683594\" xlink:href=\"#DejaVuSans-70\"/>\n       <use x=\"625.953125\" xlink:href=\"#DejaVuSans-105\"/>\n       <use x=\"653.736328\" xlink:href=\"#DejaVuSans-101\"/>\n       <use x=\"715.259766\" xlink:href=\"#DejaVuSans-108\"/>\n       <use x=\"743.042969\" xlink:href=\"#DejaVuSans-100\"/>\n       <use x=\"806.519531\" xlink:href=\"#DejaVuSans-53\"/>\n       <use x=\"870.142578\" xlink:href=\"#DejaVuSans-53\"/>\n       <use x=\"933.765625\" xlink:href=\"#DejaVuSans-65\"/>\n      </g>\n     </g>\n    </g>\n    <g id=\"ytick_244\">\n     <g id=\"line2d_247\">\n      <g>\n       <use style=\"stroke:#000000;stroke-width:0.8;\" x=\"165.090625\" xlink:href=\"#m85187e86d9\" y=\"3824.158983\"/>\n      </g>\n     </g>\n     <g id=\"text_247\">\n      <!-- GeographicField4B -->\n      <g style=\"fill:#444443;\" transform=\"translate(64.2125 3827.958202)scale(0.1 -0.1)\">\n       <use xlink:href=\"#DejaVuSans-71\"/>\n       <use x=\"77.490234\" xlink:href=\"#DejaVuSans-101\"/>\n       <use x=\"139.013672\" xlink:href=\"#DejaVuSans-111\"/>\n       <use x=\"200.195312\" xlink:href=\"#DejaVuSans-103\"/>\n       <use x=\"263.671875\" xlink:href=\"#DejaVuSans-114\"/>\n       <use x=\"304.785156\" xlink:href=\"#DejaVuSans-97\"/>\n       <use x=\"366.064453\" xlink:href=\"#DejaVuSans-112\"/>\n       <use x=\"429.541016\" xlink:href=\"#DejaVuSans-104\"/>\n       <use x=\"492.919922\" xlink:href=\"#DejaVuSans-105\"/>\n       <use x=\"520.703125\" xlink:href=\"#DejaVuSans-99\"/>\n       <use x=\"575.683594\" xlink:href=\"#DejaVuSans-70\"/>\n       <use x=\"625.953125\" xlink:href=\"#DejaVuSans-105\"/>\n       <use x=\"653.736328\" xlink:href=\"#DejaVuSans-101\"/>\n       <use x=\"715.259766\" xlink:href=\"#DejaVuSans-108\"/>\n       <use x=\"743.042969\" xlink:href=\"#DejaVuSans-100\"/>\n       <use x=\"806.519531\" xlink:href=\"#DejaVuSans-52\"/>\n       <use x=\"870.142578\" xlink:href=\"#DejaVuSans-66\"/>\n      </g>\n     </g>\n    </g>\n    <g id=\"ytick_245\">\n     <g id=\"line2d_248\">\n      <g>\n       <use style=\"stroke:#000000;stroke-width:0.8;\" x=\"165.090625\" xlink:href=\"#m85187e86d9\" y=\"3839.861017\"/>\n      </g>\n     </g>\n     <g id=\"text_248\">\n      <!-- CoverageField6B -->\n      <g style=\"fill:#444443;\" transform=\"translate(73.86875 3843.660236)scale(0.1 -0.1)\">\n       <use xlink:href=\"#DejaVuSans-67\"/>\n       <use x=\"69.824219\" xlink:href=\"#DejaVuSans-111\"/>\n       <use x=\"131.005859\" xlink:href=\"#DejaVuSans-118\"/>\n       <use x=\"190.185547\" xlink:href=\"#DejaVuSans-101\"/>\n       <use x=\"251.708984\" xlink:href=\"#DejaVuSans-114\"/>\n       <use x=\"292.822266\" xlink:href=\"#DejaVuSans-97\"/>\n       <use x=\"354.101562\" xlink:href=\"#DejaVuSans-103\"/>\n       <use x=\"417.578125\" xlink:href=\"#DejaVuSans-101\"/>\n       <use x=\"479.101562\" xlink:href=\"#DejaVuSans-70\"/>\n       <use x=\"529.371094\" xlink:href=\"#DejaVuSans-105\"/>\n       <use x=\"557.154297\" xlink:href=\"#DejaVuSans-101\"/>\n       <use x=\"618.677734\" xlink:href=\"#DejaVuSans-108\"/>\n       <use x=\"646.460938\" xlink:href=\"#DejaVuSans-100\"/>\n       <use x=\"709.9375\" xlink:href=\"#DejaVuSans-54\"/>\n       <use x=\"773.560547\" xlink:href=\"#DejaVuSans-66\"/>\n      </g>\n     </g>\n    </g>\n    <g id=\"ytick_246\">\n     <g id=\"line2d_249\">\n      <g>\n       <use style=\"stroke:#000000;stroke-width:0.8;\" x=\"165.090625\" xlink:href=\"#m85187e86d9\" y=\"3855.563051\"/>\n      </g>\n     </g>\n     <g id=\"text_249\">\n      <!-- GeographicField43B -->\n      <g style=\"fill:#444443;\" transform=\"translate(57.85 3859.36227)scale(0.1 -0.1)\">\n       <use xlink:href=\"#DejaVuSans-71\"/>\n       <use x=\"77.490234\" xlink:href=\"#DejaVuSans-101\"/>\n       <use x=\"139.013672\" xlink:href=\"#DejaVuSans-111\"/>\n       <use x=\"200.195312\" xlink:href=\"#DejaVuSans-103\"/>\n       <use x=\"263.671875\" xlink:href=\"#DejaVuSans-114\"/>\n       <use x=\"304.785156\" xlink:href=\"#DejaVuSans-97\"/>\n       <use x=\"366.064453\" xlink:href=\"#DejaVuSans-112\"/>\n       <use x=\"429.541016\" xlink:href=\"#DejaVuSans-104\"/>\n       <use x=\"492.919922\" xlink:href=\"#DejaVuSans-105\"/>\n       <use x=\"520.703125\" xlink:href=\"#DejaVuSans-99\"/>\n       <use x=\"575.683594\" xlink:href=\"#DejaVuSans-70\"/>\n       <use x=\"625.953125\" xlink:href=\"#DejaVuSans-105\"/>\n       <use x=\"653.736328\" xlink:href=\"#DejaVuSans-101\"/>\n       <use x=\"715.259766\" xlink:href=\"#DejaVuSans-108\"/>\n       <use x=\"743.042969\" xlink:href=\"#DejaVuSans-100\"/>\n       <use x=\"806.519531\" xlink:href=\"#DejaVuSans-52\"/>\n       <use x=\"870.142578\" xlink:href=\"#DejaVuSans-51\"/>\n       <use x=\"933.765625\" xlink:href=\"#DejaVuSans-66\"/>\n      </g>\n     </g>\n    </g>\n    <g id=\"ytick_247\">\n     <g id=\"line2d_250\">\n      <g>\n       <use style=\"stroke:#000000;stroke-width:0.8;\" x=\"165.090625\" xlink:href=\"#m85187e86d9\" y=\"3871.265085\"/>\n      </g>\n     </g>\n     <g id=\"text_250\">\n      <!-- PropertyField26A -->\n      <g style=\"fill:#444443;\" transform=\"translate(73.129688 3875.064303)scale(0.1 -0.1)\">\n       <use xlink:href=\"#DejaVuSans-80\"/>\n       <use x=\"58.552734\" xlink:href=\"#DejaVuSans-114\"/>\n       <use x=\"97.416016\" xlink:href=\"#DejaVuSans-111\"/>\n       <use x=\"158.597656\" xlink:href=\"#DejaVuSans-112\"/>\n       <use x=\"222.074219\" xlink:href=\"#DejaVuSans-101\"/>\n       <use x=\"283.597656\" xlink:href=\"#DejaVuSans-114\"/>\n       <use x=\"324.710938\" xlink:href=\"#DejaVuSans-116\"/>\n       <use x=\"363.919922\" xlink:href=\"#DejaVuSans-121\"/>\n       <use x=\"423.099609\" xlink:href=\"#DejaVuSans-70\"/>\n       <use x=\"473.369141\" xlink:href=\"#DejaVuSans-105\"/>\n       <use x=\"501.152344\" xlink:href=\"#DejaVuSans-101\"/>\n       <use x=\"562.675781\" xlink:href=\"#DejaVuSans-108\"/>\n       <use x=\"590.458984\" xlink:href=\"#DejaVuSans-100\"/>\n       <use x=\"653.935547\" xlink:href=\"#DejaVuSans-50\"/>\n       <use x=\"717.558594\" xlink:href=\"#DejaVuSans-54\"/>\n       <use x=\"781.181641\" xlink:href=\"#DejaVuSans-65\"/>\n      </g>\n     </g>\n    </g>\n    <g id=\"ytick_248\">\n     <g id=\"line2d_251\">\n      <g>\n       <use style=\"stroke:#000000;stroke-width:0.8;\" x=\"165.090625\" xlink:href=\"#m85187e86d9\" y=\"3886.967119\"/>\n      </g>\n     </g>\n     <g id=\"text_251\">\n      <!-- CoverageField4B -->\n      <g style=\"fill:#444443;\" transform=\"translate(73.86875 3890.766337)scale(0.1 -0.1)\">\n       <use xlink:href=\"#DejaVuSans-67\"/>\n       <use x=\"69.824219\" xlink:href=\"#DejaVuSans-111\"/>\n       <use x=\"131.005859\" xlink:href=\"#DejaVuSans-118\"/>\n       <use x=\"190.185547\" xlink:href=\"#DejaVuSans-101\"/>\n       <use x=\"251.708984\" xlink:href=\"#DejaVuSans-114\"/>\n       <use x=\"292.822266\" xlink:href=\"#DejaVuSans-97\"/>\n       <use x=\"354.101562\" xlink:href=\"#DejaVuSans-103\"/>\n       <use x=\"417.578125\" xlink:href=\"#DejaVuSans-101\"/>\n       <use x=\"479.101562\" xlink:href=\"#DejaVuSans-70\"/>\n       <use x=\"529.371094\" xlink:href=\"#DejaVuSans-105\"/>\n       <use x=\"557.154297\" xlink:href=\"#DejaVuSans-101\"/>\n       <use x=\"618.677734\" xlink:href=\"#DejaVuSans-108\"/>\n       <use x=\"646.460938\" xlink:href=\"#DejaVuSans-100\"/>\n       <use x=\"709.9375\" xlink:href=\"#DejaVuSans-52\"/>\n       <use x=\"773.560547\" xlink:href=\"#DejaVuSans-66\"/>\n      </g>\n     </g>\n    </g>\n    <g id=\"ytick_249\">\n     <g id=\"line2d_252\">\n      <g>\n       <use style=\"stroke:#000000;stroke-width:0.8;\" x=\"165.090625\" xlink:href=\"#m85187e86d9\" y=\"3902.669153\"/>\n      </g>\n     </g>\n     <g id=\"text_252\">\n      <!-- PropertyField26B -->\n      <g style=\"fill:#444443;\" transform=\"translate(73.109375 3906.468371)scale(0.1 -0.1)\">\n       <use xlink:href=\"#DejaVuSans-80\"/>\n       <use x=\"58.552734\" xlink:href=\"#DejaVuSans-114\"/>\n       <use x=\"97.416016\" xlink:href=\"#DejaVuSans-111\"/>\n       <use x=\"158.597656\" xlink:href=\"#DejaVuSans-112\"/>\n       <use x=\"222.074219\" xlink:href=\"#DejaVuSans-101\"/>\n       <use x=\"283.597656\" xlink:href=\"#DejaVuSans-114\"/>\n       <use x=\"324.710938\" xlink:href=\"#DejaVuSans-116\"/>\n       <use x=\"363.919922\" xlink:href=\"#DejaVuSans-121\"/>\n       <use x=\"423.099609\" xlink:href=\"#DejaVuSans-70\"/>\n       <use x=\"473.369141\" xlink:href=\"#DejaVuSans-105\"/>\n       <use x=\"501.152344\" xlink:href=\"#DejaVuSans-101\"/>\n       <use x=\"562.675781\" xlink:href=\"#DejaVuSans-108\"/>\n       <use x=\"590.458984\" xlink:href=\"#DejaVuSans-100\"/>\n       <use x=\"653.935547\" xlink:href=\"#DejaVuSans-50\"/>\n       <use x=\"717.558594\" xlink:href=\"#DejaVuSans-54\"/>\n       <use x=\"781.181641\" xlink:href=\"#DejaVuSans-66\"/>\n      </g>\n     </g>\n    </g>\n    <g id=\"ytick_250\">\n     <g id=\"line2d_253\">\n      <g>\n       <use style=\"stroke:#000000;stroke-width:0.8;\" x=\"165.090625\" xlink:href=\"#m85187e86d9\" y=\"3918.371186\"/>\n      </g>\n     </g>\n     <g id=\"text_253\">\n      <!-- PersonalField14 -->\n      <g style=\"fill:#444443;\" transform=\"translate(79.778125 3922.170405)scale(0.1 -0.1)\">\n       <use xlink:href=\"#DejaVuSans-80\"/>\n       <use x=\"56.677734\" xlink:href=\"#DejaVuSans-101\"/>\n       <use x=\"118.201172\" xlink:href=\"#DejaVuSans-114\"/>\n       <use x=\"159.314453\" xlink:href=\"#DejaVuSans-115\"/>\n       <use x=\"211.414062\" xlink:href=\"#DejaVuSans-111\"/>\n       <use x=\"272.595703\" xlink:href=\"#DejaVuSans-110\"/>\n       <use x=\"335.974609\" xlink:href=\"#DejaVuSans-97\"/>\n       <use x=\"397.253906\" xlink:href=\"#DejaVuSans-108\"/>\n       <use x=\"425.037109\" xlink:href=\"#DejaVuSans-70\"/>\n       <use x=\"475.306641\" xlink:href=\"#DejaVuSans-105\"/>\n       <use x=\"503.089844\" xlink:href=\"#DejaVuSans-101\"/>\n       <use x=\"564.613281\" xlink:href=\"#DejaVuSans-108\"/>\n       <use x=\"592.396484\" xlink:href=\"#DejaVuSans-100\"/>\n       <use x=\"655.873047\" xlink:href=\"#DejaVuSans-49\"/>\n       <use x=\"719.496094\" xlink:href=\"#DejaVuSans-52\"/>\n      </g>\n     </g>\n    </g>\n    <g id=\"ytick_251\">\n     <g id=\"line2d_254\">\n      <g>\n       <use style=\"stroke:#000000;stroke-width:0.8;\" x=\"165.090625\" xlink:href=\"#m85187e86d9\" y=\"3934.07322\"/>\n      </g>\n     </g>\n     <g id=\"text_254\">\n      <!-- CoverageField5B -->\n      <g style=\"fill:#444443;\" transform=\"translate(73.86875 3937.872439)scale(0.1 -0.1)\">\n       <use xlink:href=\"#DejaVuSans-67\"/>\n       <use x=\"69.824219\" xlink:href=\"#DejaVuSans-111\"/>\n       <use x=\"131.005859\" xlink:href=\"#DejaVuSans-118\"/>\n       <use x=\"190.185547\" xlink:href=\"#DejaVuSans-101\"/>\n       <use x=\"251.708984\" xlink:href=\"#DejaVuSans-114\"/>\n       <use x=\"292.822266\" xlink:href=\"#DejaVuSans-97\"/>\n       <use x=\"354.101562\" xlink:href=\"#DejaVuSans-103\"/>\n       <use x=\"417.578125\" xlink:href=\"#DejaVuSans-101\"/>\n       <use x=\"479.101562\" xlink:href=\"#DejaVuSans-70\"/>\n       <use x=\"529.371094\" xlink:href=\"#DejaVuSans-105\"/>\n       <use x=\"557.154297\" xlink:href=\"#DejaVuSans-101\"/>\n       <use x=\"618.677734\" xlink:href=\"#DejaVuSans-108\"/>\n       <use x=\"646.460938\" xlink:href=\"#DejaVuSans-100\"/>\n       <use x=\"709.9375\" xlink:href=\"#DejaVuSans-53\"/>\n       <use x=\"773.560547\" xlink:href=\"#DejaVuSans-66\"/>\n      </g>\n     </g>\n    </g>\n    <g id=\"ytick_252\">\n     <g id=\"line2d_255\">\n      <g>\n       <use style=\"stroke:#000000;stroke-width:0.8;\" x=\"165.090625\" xlink:href=\"#m85187e86d9\" y=\"3949.775254\"/>\n      </g>\n     </g>\n     <g id=\"text_255\">\n      <!-- GeographicField34B -->\n      <g style=\"fill:#444443;\" transform=\"translate(57.85 3953.574473)scale(0.1 -0.1)\">\n       <use xlink:href=\"#DejaVuSans-71\"/>\n       <use x=\"77.490234\" xlink:href=\"#DejaVuSans-101\"/>\n       <use x=\"139.013672\" xlink:href=\"#DejaVuSans-111\"/>\n       <use x=\"200.195312\" xlink:href=\"#DejaVuSans-103\"/>\n       <use x=\"263.671875\" xlink:href=\"#DejaVuSans-114\"/>\n       <use x=\"304.785156\" xlink:href=\"#DejaVuSans-97\"/>\n       <use x=\"366.064453\" xlink:href=\"#DejaVuSans-112\"/>\n       <use x=\"429.541016\" xlink:href=\"#DejaVuSans-104\"/>\n       <use x=\"492.919922\" xlink:href=\"#DejaVuSans-105\"/>\n       <use x=\"520.703125\" xlink:href=\"#DejaVuSans-99\"/>\n       <use x=\"575.683594\" xlink:href=\"#DejaVuSans-70\"/>\n       <use x=\"625.953125\" xlink:href=\"#DejaVuSans-105\"/>\n       <use x=\"653.736328\" xlink:href=\"#DejaVuSans-101\"/>\n       <use x=\"715.259766\" xlink:href=\"#DejaVuSans-108\"/>\n       <use x=\"743.042969\" xlink:href=\"#DejaVuSans-100\"/>\n       <use x=\"806.519531\" xlink:href=\"#DejaVuSans-51\"/>\n       <use x=\"870.142578\" xlink:href=\"#DejaVuSans-52\"/>\n       <use x=\"933.765625\" xlink:href=\"#DejaVuSans-66\"/>\n      </g>\n     </g>\n    </g>\n    <g id=\"ytick_253\">\n     <g id=\"line2d_256\">\n      <g>\n       <use style=\"stroke:#000000;stroke-width:0.8;\" x=\"165.090625\" xlink:href=\"#m85187e86d9\" y=\"3965.477288\"/>\n      </g>\n     </g>\n     <g id=\"text_256\">\n      <!-- PersonalField45 -->\n      <g style=\"fill:#444443;\" transform=\"translate(79.778125 3969.276507)scale(0.1 -0.1)\">\n       <use xlink:href=\"#DejaVuSans-80\"/>\n       <use x=\"56.677734\" xlink:href=\"#DejaVuSans-101\"/>\n       <use x=\"118.201172\" xlink:href=\"#DejaVuSans-114\"/>\n       <use x=\"159.314453\" xlink:href=\"#DejaVuSans-115\"/>\n       <use x=\"211.414062\" xlink:href=\"#DejaVuSans-111\"/>\n       <use x=\"272.595703\" xlink:href=\"#DejaVuSans-110\"/>\n       <use x=\"335.974609\" xlink:href=\"#DejaVuSans-97\"/>\n       <use x=\"397.253906\" xlink:href=\"#DejaVuSans-108\"/>\n       <use x=\"425.037109\" xlink:href=\"#DejaVuSans-70\"/>\n       <use x=\"475.306641\" xlink:href=\"#DejaVuSans-105\"/>\n       <use x=\"503.089844\" xlink:href=\"#DejaVuSans-101\"/>\n       <use x=\"564.613281\" xlink:href=\"#DejaVuSans-108\"/>\n       <use x=\"592.396484\" xlink:href=\"#DejaVuSans-100\"/>\n       <use x=\"655.873047\" xlink:href=\"#DejaVuSans-52\"/>\n       <use x=\"719.496094\" xlink:href=\"#DejaVuSans-53\"/>\n      </g>\n     </g>\n    </g>\n    <g id=\"ytick_254\">\n     <g id=\"line2d_257\">\n      <g>\n       <use style=\"stroke:#000000;stroke-width:0.8;\" x=\"165.090625\" xlink:href=\"#m85187e86d9\" y=\"3981.179322\"/>\n      </g>\n     </g>\n     <g id=\"text_257\">\n      <!-- PropertyField23 -->\n      <g style=\"fill:#444443;\" transform=\"translate(79.970313 3984.978541)scale(0.1 -0.1)\">\n       <use xlink:href=\"#DejaVuSans-80\"/>\n       <use x=\"58.552734\" xlink:href=\"#DejaVuSans-114\"/>\n       <use x=\"97.416016\" xlink:href=\"#DejaVuSans-111\"/>\n       <use x=\"158.597656\" xlink:href=\"#DejaVuSans-112\"/>\n       <use x=\"222.074219\" xlink:href=\"#DejaVuSans-101\"/>\n       <use x=\"283.597656\" xlink:href=\"#DejaVuSans-114\"/>\n       <use x=\"324.710938\" xlink:href=\"#DejaVuSans-116\"/>\n       <use x=\"363.919922\" xlink:href=\"#DejaVuSans-121\"/>\n       <use x=\"423.099609\" xlink:href=\"#DejaVuSans-70\"/>\n       <use x=\"473.369141\" xlink:href=\"#DejaVuSans-105\"/>\n       <use x=\"501.152344\" xlink:href=\"#DejaVuSans-101\"/>\n       <use x=\"562.675781\" xlink:href=\"#DejaVuSans-108\"/>\n       <use x=\"590.458984\" xlink:href=\"#DejaVuSans-100\"/>\n       <use x=\"653.935547\" xlink:href=\"#DejaVuSans-50\"/>\n       <use x=\"717.558594\" xlink:href=\"#DejaVuSans-51\"/>\n      </g>\n     </g>\n    </g>\n    <g id=\"ytick_255\">\n     <g id=\"line2d_258\">\n      <g>\n       <use style=\"stroke:#000000;stroke-width:0.8;\" x=\"165.090625\" xlink:href=\"#m85187e86d9\" y=\"3996.881356\"/>\n      </g>\n     </g>\n     <g id=\"text_258\">\n      <!-- GeographicField41B -->\n      <g style=\"fill:#444443;\" transform=\"translate(57.85 4000.680575)scale(0.1 -0.1)\">\n       <use xlink:href=\"#DejaVuSans-71\"/>\n       <use x=\"77.490234\" xlink:href=\"#DejaVuSans-101\"/>\n       <use x=\"139.013672\" xlink:href=\"#DejaVuSans-111\"/>\n       <use x=\"200.195312\" xlink:href=\"#DejaVuSans-103\"/>\n       <use x=\"263.671875\" xlink:href=\"#DejaVuSans-114\"/>\n       <use x=\"304.785156\" xlink:href=\"#DejaVuSans-97\"/>\n       <use x=\"366.064453\" xlink:href=\"#DejaVuSans-112\"/>\n       <use x=\"429.541016\" xlink:href=\"#DejaVuSans-104\"/>\n       <use x=\"492.919922\" xlink:href=\"#DejaVuSans-105\"/>\n       <use x=\"520.703125\" xlink:href=\"#DejaVuSans-99\"/>\n       <use x=\"575.683594\" xlink:href=\"#DejaVuSans-70\"/>\n       <use x=\"625.953125\" xlink:href=\"#DejaVuSans-105\"/>\n       <use x=\"653.736328\" xlink:href=\"#DejaVuSans-101\"/>\n       <use x=\"715.259766\" xlink:href=\"#DejaVuSans-108\"/>\n       <use x=\"743.042969\" xlink:href=\"#DejaVuSans-100\"/>\n       <use x=\"806.519531\" xlink:href=\"#DejaVuSans-52\"/>\n       <use x=\"870.142578\" xlink:href=\"#DejaVuSans-49\"/>\n       <use x=\"933.765625\" xlink:href=\"#DejaVuSans-66\"/>\n      </g>\n     </g>\n    </g>\n    <g id=\"ytick_256\">\n     <g id=\"line2d_259\">\n      <g>\n       <use style=\"stroke:#000000;stroke-width:0.8;\" x=\"165.090625\" xlink:href=\"#m85187e86d9\" y=\"4012.58339\"/>\n      </g>\n     </g>\n     <g id=\"text_259\">\n      <!-- PersonalField33 -->\n      <g style=\"fill:#444443;\" transform=\"translate(79.778125 4016.382609)scale(0.1 -0.1)\">\n       <use xlink:href=\"#DejaVuSans-80\"/>\n       <use x=\"56.677734\" xlink:href=\"#DejaVuSans-101\"/>\n       <use x=\"118.201172\" xlink:href=\"#DejaVuSans-114\"/>\n       <use x=\"159.314453\" xlink:href=\"#DejaVuSans-115\"/>\n       <use x=\"211.414062\" xlink:href=\"#DejaVuSans-111\"/>\n       <use x=\"272.595703\" xlink:href=\"#DejaVuSans-110\"/>\n       <use x=\"335.974609\" xlink:href=\"#DejaVuSans-97\"/>\n       <use x=\"397.253906\" xlink:href=\"#DejaVuSans-108\"/>\n       <use x=\"425.037109\" xlink:href=\"#DejaVuSans-70\"/>\n       <use x=\"475.306641\" xlink:href=\"#DejaVuSans-105\"/>\n       <use x=\"503.089844\" xlink:href=\"#DejaVuSans-101\"/>\n       <use x=\"564.613281\" xlink:href=\"#DejaVuSans-108\"/>\n       <use x=\"592.396484\" xlink:href=\"#DejaVuSans-100\"/>\n       <use x=\"655.873047\" xlink:href=\"#DejaVuSans-51\"/>\n       <use x=\"719.496094\" xlink:href=\"#DejaVuSans-51\"/>\n      </g>\n     </g>\n    </g>\n    <g id=\"ytick_257\">\n     <g id=\"line2d_260\">\n      <g>\n       <use style=\"stroke:#000000;stroke-width:0.8;\" x=\"165.090625\" xlink:href=\"#m85187e86d9\" y=\"4028.285424\"/>\n      </g>\n     </g>\n     <g id=\"text_260\">\n      <!-- PropertyField27 -->\n      <g style=\"fill:#444443;\" transform=\"translate(79.970313 4032.084642)scale(0.1 -0.1)\">\n       <use xlink:href=\"#DejaVuSans-80\"/>\n       <use x=\"58.552734\" xlink:href=\"#DejaVuSans-114\"/>\n       <use x=\"97.416016\" xlink:href=\"#DejaVuSans-111\"/>\n       <use x=\"158.597656\" xlink:href=\"#DejaVuSans-112\"/>\n       <use x=\"222.074219\" xlink:href=\"#DejaVuSans-101\"/>\n       <use x=\"283.597656\" xlink:href=\"#DejaVuSans-114\"/>\n       <use x=\"324.710938\" xlink:href=\"#DejaVuSans-116\"/>\n       <use x=\"363.919922\" xlink:href=\"#DejaVuSans-121\"/>\n       <use x=\"423.099609\" xlink:href=\"#DejaVuSans-70\"/>\n       <use x=\"473.369141\" xlink:href=\"#DejaVuSans-105\"/>\n       <use x=\"501.152344\" xlink:href=\"#DejaVuSans-101\"/>\n       <use x=\"562.675781\" xlink:href=\"#DejaVuSans-108\"/>\n       <use x=\"590.458984\" xlink:href=\"#DejaVuSans-100\"/>\n       <use x=\"653.935547\" xlink:href=\"#DejaVuSans-50\"/>\n       <use x=\"717.558594\" xlink:href=\"#DejaVuSans-55\"/>\n      </g>\n     </g>\n    </g>\n    <g id=\"ytick_258\">\n     <g id=\"line2d_261\">\n      <g>\n       <use style=\"stroke:#000000;stroke-width:0.8;\" x=\"165.090625\" xlink:href=\"#m85187e86d9\" y=\"4043.987458\"/>\n      </g>\n     </g>\n     <g id=\"text_261\">\n      <!-- GeographicField16A -->\n      <g style=\"fill:#444443;\" transform=\"translate(57.870313 4047.786676)scale(0.1 -0.1)\">\n       <use xlink:href=\"#DejaVuSans-71\"/>\n       <use x=\"77.490234\" xlink:href=\"#DejaVuSans-101\"/>\n       <use x=\"139.013672\" xlink:href=\"#DejaVuSans-111\"/>\n       <use x=\"200.195312\" xlink:href=\"#DejaVuSans-103\"/>\n       <use x=\"263.671875\" xlink:href=\"#DejaVuSans-114\"/>\n       <use x=\"304.785156\" xlink:href=\"#DejaVuSans-97\"/>\n       <use x=\"366.064453\" xlink:href=\"#DejaVuSans-112\"/>\n       <use x=\"429.541016\" xlink:href=\"#DejaVuSans-104\"/>\n       <use x=\"492.919922\" xlink:href=\"#DejaVuSans-105\"/>\n       <use x=\"520.703125\" xlink:href=\"#DejaVuSans-99\"/>\n       <use x=\"575.683594\" xlink:href=\"#DejaVuSans-70\"/>\n       <use x=\"625.953125\" xlink:href=\"#DejaVuSans-105\"/>\n       <use x=\"653.736328\" xlink:href=\"#DejaVuSans-101\"/>\n       <use x=\"715.259766\" xlink:href=\"#DejaVuSans-108\"/>\n       <use x=\"743.042969\" xlink:href=\"#DejaVuSans-100\"/>\n       <use x=\"806.519531\" xlink:href=\"#DejaVuSans-49\"/>\n       <use x=\"870.142578\" xlink:href=\"#DejaVuSans-54\"/>\n       <use x=\"933.765625\" xlink:href=\"#DejaVuSans-65\"/>\n      </g>\n     </g>\n    </g>\n    <g id=\"ytick_259\">\n     <g id=\"line2d_262\">\n      <g>\n       <use style=\"stroke:#000000;stroke-width:0.8;\" x=\"165.090625\" xlink:href=\"#m85187e86d9\" y=\"4059.689492\"/>\n      </g>\n     </g>\n     <g id=\"text_262\">\n      <!-- GeographicField30B -->\n      <g style=\"fill:#444443;\" transform=\"translate(57.85 4063.48871)scale(0.1 -0.1)\">\n       <use xlink:href=\"#DejaVuSans-71\"/>\n       <use x=\"77.490234\" xlink:href=\"#DejaVuSans-101\"/>\n       <use x=\"139.013672\" xlink:href=\"#DejaVuSans-111\"/>\n       <use x=\"200.195312\" xlink:href=\"#DejaVuSans-103\"/>\n       <use x=\"263.671875\" xlink:href=\"#DejaVuSans-114\"/>\n       <use x=\"304.785156\" xlink:href=\"#DejaVuSans-97\"/>\n       <use x=\"366.064453\" xlink:href=\"#DejaVuSans-112\"/>\n       <use x=\"429.541016\" xlink:href=\"#DejaVuSans-104\"/>\n       <use x=\"492.919922\" xlink:href=\"#DejaVuSans-105\"/>\n       <use x=\"520.703125\" xlink:href=\"#DejaVuSans-99\"/>\n       <use x=\"575.683594\" xlink:href=\"#DejaVuSans-70\"/>\n       <use x=\"625.953125\" xlink:href=\"#DejaVuSans-105\"/>\n       <use x=\"653.736328\" xlink:href=\"#DejaVuSans-101\"/>\n       <use x=\"715.259766\" xlink:href=\"#DejaVuSans-108\"/>\n       <use x=\"743.042969\" xlink:href=\"#DejaVuSans-100\"/>\n       <use x=\"806.519531\" xlink:href=\"#DejaVuSans-51\"/>\n       <use x=\"870.142578\" xlink:href=\"#DejaVuSans-48\"/>\n       <use x=\"933.765625\" xlink:href=\"#DejaVuSans-66\"/>\n      </g>\n     </g>\n    </g>\n    <g id=\"ytick_260\">\n     <g id=\"line2d_263\">\n      <g>\n       <use style=\"stroke:#000000;stroke-width:0.8;\" x=\"165.090625\" xlink:href=\"#m85187e86d9\" y=\"4075.391525\"/>\n      </g>\n     </g>\n     <g id=\"text_263\">\n      <!-- GeographicField28B -->\n      <g style=\"fill:#444443;\" transform=\"translate(57.85 4079.190744)scale(0.1 -0.1)\">\n       <use xlink:href=\"#DejaVuSans-71\"/>\n       <use x=\"77.490234\" xlink:href=\"#DejaVuSans-101\"/>\n       <use x=\"139.013672\" xlink:href=\"#DejaVuSans-111\"/>\n       <use x=\"200.195312\" xlink:href=\"#DejaVuSans-103\"/>\n       <use x=\"263.671875\" xlink:href=\"#DejaVuSans-114\"/>\n       <use x=\"304.785156\" xlink:href=\"#DejaVuSans-97\"/>\n       <use x=\"366.064453\" xlink:href=\"#DejaVuSans-112\"/>\n       <use x=\"429.541016\" xlink:href=\"#DejaVuSans-104\"/>\n       <use x=\"492.919922\" xlink:href=\"#DejaVuSans-105\"/>\n       <use x=\"520.703125\" xlink:href=\"#DejaVuSans-99\"/>\n       <use x=\"575.683594\" xlink:href=\"#DejaVuSans-70\"/>\n       <use x=\"625.953125\" xlink:href=\"#DejaVuSans-105\"/>\n       <use x=\"653.736328\" xlink:href=\"#DejaVuSans-101\"/>\n       <use x=\"715.259766\" xlink:href=\"#DejaVuSans-108\"/>\n       <use x=\"743.042969\" xlink:href=\"#DejaVuSans-100\"/>\n       <use x=\"806.519531\" xlink:href=\"#DejaVuSans-50\"/>\n       <use x=\"870.142578\" xlink:href=\"#DejaVuSans-56\"/>\n       <use x=\"933.765625\" xlink:href=\"#DejaVuSans-66\"/>\n      </g>\n     </g>\n    </g>\n    <g id=\"ytick_261\">\n     <g id=\"line2d_264\">\n      <g>\n       <use style=\"stroke:#000000;stroke-width:0.8;\" x=\"165.090625\" xlink:href=\"#m85187e86d9\" y=\"4091.093559\"/>\n      </g>\n     </g>\n     <g id=\"text_264\">\n      <!-- GeographicField58B -->\n      <g style=\"fill:#444443;\" transform=\"translate(57.85 4094.892778)scale(0.1 -0.1)\">\n       <use xlink:href=\"#DejaVuSans-71\"/>\n       <use x=\"77.490234\" xlink:href=\"#DejaVuSans-101\"/>\n       <use x=\"139.013672\" xlink:href=\"#DejaVuSans-111\"/>\n       <use x=\"200.195312\" xlink:href=\"#DejaVuSans-103\"/>\n       <use x=\"263.671875\" xlink:href=\"#DejaVuSans-114\"/>\n       <use x=\"304.785156\" xlink:href=\"#DejaVuSans-97\"/>\n       <use x=\"366.064453\" xlink:href=\"#DejaVuSans-112\"/>\n       <use x=\"429.541016\" xlink:href=\"#DejaVuSans-104\"/>\n       <use x=\"492.919922\" xlink:href=\"#DejaVuSans-105\"/>\n       <use x=\"520.703125\" xlink:href=\"#DejaVuSans-99\"/>\n       <use x=\"575.683594\" xlink:href=\"#DejaVuSans-70\"/>\n       <use x=\"625.953125\" xlink:href=\"#DejaVuSans-105\"/>\n       <use x=\"653.736328\" xlink:href=\"#DejaVuSans-101\"/>\n       <use x=\"715.259766\" xlink:href=\"#DejaVuSans-108\"/>\n       <use x=\"743.042969\" xlink:href=\"#DejaVuSans-100\"/>\n       <use x=\"806.519531\" xlink:href=\"#DejaVuSans-53\"/>\n       <use x=\"870.142578\" xlink:href=\"#DejaVuSans-56\"/>\n       <use x=\"933.765625\" xlink:href=\"#DejaVuSans-66\"/>\n      </g>\n     </g>\n    </g>\n    <g id=\"ytick_262\">\n     <g id=\"line2d_265\">\n      <g>\n       <use style=\"stroke:#000000;stroke-width:0.8;\" x=\"165.090625\" xlink:href=\"#m85187e86d9\" y=\"4106.795593\"/>\n      </g>\n     </g>\n     <g id=\"text_265\">\n      <!-- PersonalField6 -->\n      <g style=\"fill:#444443;\" transform=\"translate(86.140625 4110.594812)scale(0.1 -0.1)\">\n       <use xlink:href=\"#DejaVuSans-80\"/>\n       <use x=\"56.677734\" xlink:href=\"#DejaVuSans-101\"/>\n       <use x=\"118.201172\" xlink:href=\"#DejaVuSans-114\"/>\n       <use x=\"159.314453\" xlink:href=\"#DejaVuSans-115\"/>\n       <use x=\"211.414062\" xlink:href=\"#DejaVuSans-111\"/>\n       <use x=\"272.595703\" xlink:href=\"#DejaVuSans-110\"/>\n       <use x=\"335.974609\" xlink:href=\"#DejaVuSans-97\"/>\n       <use x=\"397.253906\" xlink:href=\"#DejaVuSans-108\"/>\n       <use x=\"425.037109\" xlink:href=\"#DejaVuSans-70\"/>\n       <use x=\"475.306641\" xlink:href=\"#DejaVuSans-105\"/>\n       <use x=\"503.089844\" xlink:href=\"#DejaVuSans-101\"/>\n       <use x=\"564.613281\" xlink:href=\"#DejaVuSans-108\"/>\n       <use x=\"592.396484\" xlink:href=\"#DejaVuSans-100\"/>\n       <use x=\"655.873047\" xlink:href=\"#DejaVuSans-54\"/>\n      </g>\n     </g>\n    </g>\n    <g id=\"ytick_263\">\n     <g id=\"line2d_266\">\n      <g>\n       <use style=\"stroke:#000000;stroke-width:0.8;\" x=\"165.090625\" xlink:href=\"#m85187e86d9\" y=\"4122.497627\"/>\n      </g>\n     </g>\n     <g id=\"text_266\">\n      <!-- Original_Quote_Week -->\n      <defs>\n       <path d=\"M 3.328125 72.90625 \nL 13.28125 72.90625 \nL 28.609375 11.28125 \nL 43.890625 72.90625 \nL 54.984375 72.90625 \nL 70.3125 11.28125 \nL 85.59375 72.90625 \nL 95.609375 72.90625 \nL 77.296875 0 \nL 64.890625 0 \nL 49.515625 63.28125 \nL 33.984375 0 \nL 21.578125 0 \nz\n\" id=\"DejaVuSans-87\"/>\n      </defs>\n      <g style=\"fill:#444443;\" transform=\"translate(51.160938 4126.296846)scale(0.1 -0.1)\">\n       <use xlink:href=\"#DejaVuSans-79\"/>\n       <use x=\"78.710938\" xlink:href=\"#DejaVuSans-114\"/>\n       <use x=\"119.824219\" xlink:href=\"#DejaVuSans-105\"/>\n       <use x=\"147.607422\" xlink:href=\"#DejaVuSans-103\"/>\n       <use x=\"211.083984\" xlink:href=\"#DejaVuSans-105\"/>\n       <use x=\"238.867188\" xlink:href=\"#DejaVuSans-110\"/>\n       <use x=\"302.246094\" xlink:href=\"#DejaVuSans-97\"/>\n       <use x=\"363.525391\" xlink:href=\"#DejaVuSans-108\"/>\n       <use x=\"391.308594\" xlink:href=\"#DejaVuSans-95\"/>\n       <use x=\"441.308594\" xlink:href=\"#DejaVuSans-81\"/>\n       <use x=\"520.019531\" xlink:href=\"#DejaVuSans-117\"/>\n       <use x=\"583.398438\" xlink:href=\"#DejaVuSans-111\"/>\n       <use x=\"644.580078\" xlink:href=\"#DejaVuSans-116\"/>\n       <use x=\"683.789062\" xlink:href=\"#DejaVuSans-101\"/>\n       <use x=\"745.3125\" xlink:href=\"#DejaVuSans-95\"/>\n       <use x=\"795.3125\" xlink:href=\"#DejaVuSans-87\"/>\n       <use x=\"888.314453\" xlink:href=\"#DejaVuSans-101\"/>\n       <use x=\"949.837891\" xlink:href=\"#DejaVuSans-101\"/>\n       <use x=\"1011.361328\" xlink:href=\"#DejaVuSans-107\"/>\n      </g>\n     </g>\n    </g>\n    <g id=\"ytick_264\">\n     <g id=\"line2d_267\">\n      <g>\n       <use style=\"stroke:#000000;stroke-width:0.8;\" x=\"165.090625\" xlink:href=\"#m85187e86d9\" y=\"4138.199661\"/>\n      </g>\n     </g>\n     <g id=\"text_267\">\n      <!-- SalesField7 -->\n      <g style=\"fill:#444443;\" transform=\"translate(102.026563 4141.99888)scale(0.1 -0.1)\">\n       <use xlink:href=\"#DejaVuSans-83\"/>\n       <use x=\"63.476562\" xlink:href=\"#DejaVuSans-97\"/>\n       <use x=\"124.755859\" xlink:href=\"#DejaVuSans-108\"/>\n       <use x=\"152.539062\" xlink:href=\"#DejaVuSans-101\"/>\n       <use x=\"214.0625\" xlink:href=\"#DejaVuSans-115\"/>\n       <use x=\"266.162109\" xlink:href=\"#DejaVuSans-70\"/>\n       <use x=\"316.431641\" xlink:href=\"#DejaVuSans-105\"/>\n       <use x=\"344.214844\" xlink:href=\"#DejaVuSans-101\"/>\n       <use x=\"405.738281\" xlink:href=\"#DejaVuSans-108\"/>\n       <use x=\"433.521484\" xlink:href=\"#DejaVuSans-100\"/>\n       <use x=\"496.998047\" xlink:href=\"#DejaVuSans-55\"/>\n      </g>\n     </g>\n    </g>\n    <g id=\"ytick_265\">\n     <g id=\"line2d_268\">\n      <g>\n       <use style=\"stroke:#000000;stroke-width:0.8;\" x=\"165.090625\" xlink:href=\"#m85187e86d9\" y=\"4153.901695\"/>\n      </g>\n     </g>\n     <g id=\"text_268\">\n      <!-- PersonalField5 -->\n      <g style=\"fill:#444443;\" transform=\"translate(86.140625 4157.700914)scale(0.1 -0.1)\">\n       <use xlink:href=\"#DejaVuSans-80\"/>\n       <use x=\"56.677734\" xlink:href=\"#DejaVuSans-101\"/>\n       <use x=\"118.201172\" xlink:href=\"#DejaVuSans-114\"/>\n       <use x=\"159.314453\" xlink:href=\"#DejaVuSans-115\"/>\n       <use x=\"211.414062\" xlink:href=\"#DejaVuSans-111\"/>\n       <use x=\"272.595703\" xlink:href=\"#DejaVuSans-110\"/>\n       <use x=\"335.974609\" xlink:href=\"#DejaVuSans-97\"/>\n       <use x=\"397.253906\" xlink:href=\"#DejaVuSans-108\"/>\n       <use x=\"425.037109\" xlink:href=\"#DejaVuSans-70\"/>\n       <use x=\"475.306641\" xlink:href=\"#DejaVuSans-105\"/>\n       <use x=\"503.089844\" xlink:href=\"#DejaVuSans-101\"/>\n       <use x=\"564.613281\" xlink:href=\"#DejaVuSans-108\"/>\n       <use x=\"592.396484\" xlink:href=\"#DejaVuSans-100\"/>\n       <use x=\"655.873047\" xlink:href=\"#DejaVuSans-53\"/>\n      </g>\n     </g>\n    </g>\n    <g id=\"ytick_266\">\n     <g id=\"line2d_269\">\n      <g>\n       <use style=\"stroke:#000000;stroke-width:0.8;\" x=\"165.090625\" xlink:href=\"#m85187e86d9\" y=\"4169.603729\"/>\n      </g>\n     </g>\n     <g id=\"text_269\">\n      <!-- PersonalField11 -->\n      <g style=\"fill:#444443;\" transform=\"translate(79.778125 4173.402948)scale(0.1 -0.1)\">\n       <use xlink:href=\"#DejaVuSans-80\"/>\n       <use x=\"56.677734\" xlink:href=\"#DejaVuSans-101\"/>\n       <use x=\"118.201172\" xlink:href=\"#DejaVuSans-114\"/>\n       <use x=\"159.314453\" xlink:href=\"#DejaVuSans-115\"/>\n       <use x=\"211.414062\" xlink:href=\"#DejaVuSans-111\"/>\n       <use x=\"272.595703\" xlink:href=\"#DejaVuSans-110\"/>\n       <use x=\"335.974609\" xlink:href=\"#DejaVuSans-97\"/>\n       <use x=\"397.253906\" xlink:href=\"#DejaVuSans-108\"/>\n       <use x=\"425.037109\" xlink:href=\"#DejaVuSans-70\"/>\n       <use x=\"475.306641\" xlink:href=\"#DejaVuSans-105\"/>\n       <use x=\"503.089844\" xlink:href=\"#DejaVuSans-101\"/>\n       <use x=\"564.613281\" xlink:href=\"#DejaVuSans-108\"/>\n       <use x=\"592.396484\" xlink:href=\"#DejaVuSans-100\"/>\n       <use x=\"655.873047\" xlink:href=\"#DejaVuSans-49\"/>\n       <use x=\"719.496094\" xlink:href=\"#DejaVuSans-49\"/>\n      </g>\n     </g>\n    </g>\n    <g id=\"ytick_267\">\n     <g id=\"line2d_270\">\n      <g>\n       <use style=\"stroke:#000000;stroke-width:0.8;\" x=\"165.090625\" xlink:href=\"#m85187e86d9\" y=\"4185.305763\"/>\n      </g>\n     </g>\n     <g id=\"text_270\">\n      <!-- GeographicField53A -->\n      <g style=\"fill:#444443;\" transform=\"translate(57.870313 4189.104981)scale(0.1 -0.1)\">\n       <use xlink:href=\"#DejaVuSans-71\"/>\n       <use x=\"77.490234\" xlink:href=\"#DejaVuSans-101\"/>\n       <use x=\"139.013672\" xlink:href=\"#DejaVuSans-111\"/>\n       <use x=\"200.195312\" xlink:href=\"#DejaVuSans-103\"/>\n       <use x=\"263.671875\" xlink:href=\"#DejaVuSans-114\"/>\n       <use x=\"304.785156\" xlink:href=\"#DejaVuSans-97\"/>\n       <use x=\"366.064453\" xlink:href=\"#DejaVuSans-112\"/>\n       <use x=\"429.541016\" xlink:href=\"#DejaVuSans-104\"/>\n       <use x=\"492.919922\" xlink:href=\"#DejaVuSans-105\"/>\n       <use x=\"520.703125\" xlink:href=\"#DejaVuSans-99\"/>\n       <use x=\"575.683594\" xlink:href=\"#DejaVuSans-70\"/>\n       <use x=\"625.953125\" xlink:href=\"#DejaVuSans-105\"/>\n       <use x=\"653.736328\" xlink:href=\"#DejaVuSans-101\"/>\n       <use x=\"715.259766\" xlink:href=\"#DejaVuSans-108\"/>\n       <use x=\"743.042969\" xlink:href=\"#DejaVuSans-100\"/>\n       <use x=\"806.519531\" xlink:href=\"#DejaVuSans-53\"/>\n       <use x=\"870.142578\" xlink:href=\"#DejaVuSans-51\"/>\n       <use x=\"933.765625\" xlink:href=\"#DejaVuSans-65\"/>\n      </g>\n     </g>\n    </g>\n    <g id=\"ytick_268\">\n     <g id=\"line2d_271\">\n      <g>\n       <use style=\"stroke:#000000;stroke-width:0.8;\" x=\"165.090625\" xlink:href=\"#m85187e86d9\" y=\"4201.007797\"/>\n      </g>\n     </g>\n     <g id=\"text_271\">\n      <!-- GeographicField53B -->\n      <g style=\"fill:#444443;\" transform=\"translate(57.85 4204.807015)scale(0.1 -0.1)\">\n       <use xlink:href=\"#DejaVuSans-71\"/>\n       <use x=\"77.490234\" xlink:href=\"#DejaVuSans-101\"/>\n       <use x=\"139.013672\" xlink:href=\"#DejaVuSans-111\"/>\n       <use x=\"200.195312\" xlink:href=\"#DejaVuSans-103\"/>\n       <use x=\"263.671875\" xlink:href=\"#DejaVuSans-114\"/>\n       <use x=\"304.785156\" xlink:href=\"#DejaVuSans-97\"/>\n       <use x=\"366.064453\" xlink:href=\"#DejaVuSans-112\"/>\n       <use x=\"429.541016\" xlink:href=\"#DejaVuSans-104\"/>\n       <use x=\"492.919922\" xlink:href=\"#DejaVuSans-105\"/>\n       <use x=\"520.703125\" xlink:href=\"#DejaVuSans-99\"/>\n       <use x=\"575.683594\" xlink:href=\"#DejaVuSans-70\"/>\n       <use x=\"625.953125\" xlink:href=\"#DejaVuSans-105\"/>\n       <use x=\"653.736328\" xlink:href=\"#DejaVuSans-101\"/>\n       <use x=\"715.259766\" xlink:href=\"#DejaVuSans-108\"/>\n       <use x=\"743.042969\" xlink:href=\"#DejaVuSans-100\"/>\n       <use x=\"806.519531\" xlink:href=\"#DejaVuSans-53\"/>\n       <use x=\"870.142578\" xlink:href=\"#DejaVuSans-51\"/>\n       <use x=\"933.765625\" xlink:href=\"#DejaVuSans-66\"/>\n      </g>\n     </g>\n    </g>\n    <g id=\"ytick_269\">\n     <g id=\"line2d_272\">\n      <g>\n       <use style=\"stroke:#000000;stroke-width:0.8;\" x=\"165.090625\" xlink:href=\"#m85187e86d9\" y=\"4216.709831\"/>\n      </g>\n     </g>\n     <g id=\"text_272\">\n      <!-- GeographicField3B -->\n      <g style=\"fill:#444443;\" transform=\"translate(64.2125 4220.509049)scale(0.1 -0.1)\">\n       <use xlink:href=\"#DejaVuSans-71\"/>\n       <use x=\"77.490234\" xlink:href=\"#DejaVuSans-101\"/>\n       <use x=\"139.013672\" xlink:href=\"#DejaVuSans-111\"/>\n       <use x=\"200.195312\" xlink:href=\"#DejaVuSans-103\"/>\n       <use x=\"263.671875\" xlink:href=\"#DejaVuSans-114\"/>\n       <use x=\"304.785156\" xlink:href=\"#DejaVuSans-97\"/>\n       <use x=\"366.064453\" xlink:href=\"#DejaVuSans-112\"/>\n       <use x=\"429.541016\" xlink:href=\"#DejaVuSans-104\"/>\n       <use x=\"492.919922\" xlink:href=\"#DejaVuSans-105\"/>\n       <use x=\"520.703125\" xlink:href=\"#DejaVuSans-99\"/>\n       <use x=\"575.683594\" xlink:href=\"#DejaVuSans-70\"/>\n       <use x=\"625.953125\" xlink:href=\"#DejaVuSans-105\"/>\n       <use x=\"653.736328\" xlink:href=\"#DejaVuSans-101\"/>\n       <use x=\"715.259766\" xlink:href=\"#DejaVuSans-108\"/>\n       <use x=\"743.042969\" xlink:href=\"#DejaVuSans-100\"/>\n       <use x=\"806.519531\" xlink:href=\"#DejaVuSans-51\"/>\n       <use x=\"870.142578\" xlink:href=\"#DejaVuSans-66\"/>\n      </g>\n     </g>\n    </g>\n    <g id=\"ytick_270\">\n     <g id=\"line2d_273\">\n      <g>\n       <use style=\"stroke:#000000;stroke-width:0.8;\" x=\"165.090625\" xlink:href=\"#m85187e86d9\" y=\"4232.411864\"/>\n      </g>\n     </g>\n     <g id=\"text_273\">\n      <!-- GeographicField41A -->\n      <g style=\"fill:#444443;\" transform=\"translate(57.870313 4236.211083)scale(0.1 -0.1)\">\n       <use xlink:href=\"#DejaVuSans-71\"/>\n       <use x=\"77.490234\" xlink:href=\"#DejaVuSans-101\"/>\n       <use x=\"139.013672\" xlink:href=\"#DejaVuSans-111\"/>\n       <use x=\"200.195312\" xlink:href=\"#DejaVuSans-103\"/>\n       <use x=\"263.671875\" xlink:href=\"#DejaVuSans-114\"/>\n       <use x=\"304.785156\" xlink:href=\"#DejaVuSans-97\"/>\n       <use x=\"366.064453\" xlink:href=\"#DejaVuSans-112\"/>\n       <use x=\"429.541016\" xlink:href=\"#DejaVuSans-104\"/>\n       <use x=\"492.919922\" xlink:href=\"#DejaVuSans-105\"/>\n       <use x=\"520.703125\" xlink:href=\"#DejaVuSans-99\"/>\n       <use x=\"575.683594\" xlink:href=\"#DejaVuSans-70\"/>\n       <use x=\"625.953125\" xlink:href=\"#DejaVuSans-105\"/>\n       <use x=\"653.736328\" xlink:href=\"#DejaVuSans-101\"/>\n       <use x=\"715.259766\" xlink:href=\"#DejaVuSans-108\"/>\n       <use x=\"743.042969\" xlink:href=\"#DejaVuSans-100\"/>\n       <use x=\"806.519531\" xlink:href=\"#DejaVuSans-52\"/>\n       <use x=\"870.142578\" xlink:href=\"#DejaVuSans-49\"/>\n       <use x=\"933.765625\" xlink:href=\"#DejaVuSans-65\"/>\n      </g>\n     </g>\n    </g>\n    <g id=\"ytick_271\">\n     <g id=\"line2d_274\">\n      <g>\n       <use style=\"stroke:#000000;stroke-width:0.8;\" x=\"165.090625\" xlink:href=\"#m85187e86d9\" y=\"4248.113898\"/>\n      </g>\n     </g>\n     <g id=\"text_274\">\n      <!-- PropertyField7 -->\n      <g style=\"fill:#444443;\" transform=\"translate(86.332813 4251.913117)scale(0.1 -0.1)\">\n       <use xlink:href=\"#DejaVuSans-80\"/>\n       <use x=\"58.552734\" xlink:href=\"#DejaVuSans-114\"/>\n       <use x=\"97.416016\" xlink:href=\"#DejaVuSans-111\"/>\n       <use x=\"158.597656\" xlink:href=\"#DejaVuSans-112\"/>\n       <use x=\"222.074219\" xlink:href=\"#DejaVuSans-101\"/>\n       <use x=\"283.597656\" xlink:href=\"#DejaVuSans-114\"/>\n       <use x=\"324.710938\" xlink:href=\"#DejaVuSans-116\"/>\n       <use x=\"363.919922\" xlink:href=\"#DejaVuSans-121\"/>\n       <use x=\"423.099609\" xlink:href=\"#DejaVuSans-70\"/>\n       <use x=\"473.369141\" xlink:href=\"#DejaVuSans-105\"/>\n       <use x=\"501.152344\" xlink:href=\"#DejaVuSans-101\"/>\n       <use x=\"562.675781\" xlink:href=\"#DejaVuSans-108\"/>\n       <use x=\"590.458984\" xlink:href=\"#DejaVuSans-100\"/>\n       <use x=\"653.935547\" xlink:href=\"#DejaVuSans-55\"/>\n      </g>\n     </g>\n    </g>\n    <g id=\"ytick_272\">\n     <g id=\"line2d_275\">\n      <g>\n       <use style=\"stroke:#000000;stroke-width:0.8;\" x=\"165.090625\" xlink:href=\"#m85187e86d9\" y=\"4263.815932\"/>\n      </g>\n     </g>\n     <g id=\"text_275\">\n      <!-- PersonalField78 -->\n      <g style=\"fill:#444443;\" transform=\"translate(79.778125 4267.615151)scale(0.1 -0.1)\">\n       <use xlink:href=\"#DejaVuSans-80\"/>\n       <use x=\"56.677734\" xlink:href=\"#DejaVuSans-101\"/>\n       <use x=\"118.201172\" xlink:href=\"#DejaVuSans-114\"/>\n       <use x=\"159.314453\" xlink:href=\"#DejaVuSans-115\"/>\n       <use x=\"211.414062\" xlink:href=\"#DejaVuSans-111\"/>\n       <use x=\"272.595703\" xlink:href=\"#DejaVuSans-110\"/>\n       <use x=\"335.974609\" xlink:href=\"#DejaVuSans-97\"/>\n       <use x=\"397.253906\" xlink:href=\"#DejaVuSans-108\"/>\n       <use x=\"425.037109\" xlink:href=\"#DejaVuSans-70\"/>\n       <use x=\"475.306641\" xlink:href=\"#DejaVuSans-105\"/>\n       <use x=\"503.089844\" xlink:href=\"#DejaVuSans-101\"/>\n       <use x=\"564.613281\" xlink:href=\"#DejaVuSans-108\"/>\n       <use x=\"592.396484\" xlink:href=\"#DejaVuSans-100\"/>\n       <use x=\"655.873047\" xlink:href=\"#DejaVuSans-55\"/>\n       <use x=\"719.496094\" xlink:href=\"#DejaVuSans-56\"/>\n      </g>\n     </g>\n    </g>\n    <g id=\"ytick_273\">\n     <g id=\"line2d_276\">\n      <g>\n       <use style=\"stroke:#000000;stroke-width:0.8;\" x=\"165.090625\" xlink:href=\"#m85187e86d9\" y=\"4279.517966\"/>\n      </g>\n     </g>\n     <g id=\"text_276\">\n      <!-- GeographicField62B -->\n      <g style=\"fill:#444443;\" transform=\"translate(57.85 4283.317185)scale(0.1 -0.1)\">\n       <use xlink:href=\"#DejaVuSans-71\"/>\n       <use x=\"77.490234\" xlink:href=\"#DejaVuSans-101\"/>\n       <use x=\"139.013672\" xlink:href=\"#DejaVuSans-111\"/>\n       <use x=\"200.195312\" xlink:href=\"#DejaVuSans-103\"/>\n       <use x=\"263.671875\" xlink:href=\"#DejaVuSans-114\"/>\n       <use x=\"304.785156\" xlink:href=\"#DejaVuSans-97\"/>\n       <use x=\"366.064453\" xlink:href=\"#DejaVuSans-112\"/>\n       <use x=\"429.541016\" xlink:href=\"#DejaVuSans-104\"/>\n       <use x=\"492.919922\" xlink:href=\"#DejaVuSans-105\"/>\n       <use x=\"520.703125\" xlink:href=\"#DejaVuSans-99\"/>\n       <use x=\"575.683594\" xlink:href=\"#DejaVuSans-70\"/>\n       <use x=\"625.953125\" xlink:href=\"#DejaVuSans-105\"/>\n       <use x=\"653.736328\" xlink:href=\"#DejaVuSans-101\"/>\n       <use x=\"715.259766\" xlink:href=\"#DejaVuSans-108\"/>\n       <use x=\"743.042969\" xlink:href=\"#DejaVuSans-100\"/>\n       <use x=\"806.519531\" xlink:href=\"#DejaVuSans-54\"/>\n       <use x=\"870.142578\" xlink:href=\"#DejaVuSans-50\"/>\n       <use x=\"933.765625\" xlink:href=\"#DejaVuSans-66\"/>\n      </g>\n     </g>\n    </g>\n    <g id=\"ytick_274\">\n     <g id=\"line2d_277\">\n      <g>\n       <use style=\"stroke:#000000;stroke-width:0.8;\" x=\"165.090625\" xlink:href=\"#m85187e86d9\" y=\"4295.22\"/>\n      </g>\n     </g>\n     <g id=\"text_277\">\n      <!-- GeographicField28A -->\n      <g style=\"fill:#444443;\" transform=\"translate(57.870313 4299.019219)scale(0.1 -0.1)\">\n       <use xlink:href=\"#DejaVuSans-71\"/>\n       <use x=\"77.490234\" xlink:href=\"#DejaVuSans-101\"/>\n       <use x=\"139.013672\" xlink:href=\"#DejaVuSans-111\"/>\n       <use x=\"200.195312\" xlink:href=\"#DejaVuSans-103\"/>\n       <use x=\"263.671875\" xlink:href=\"#DejaVuSans-114\"/>\n       <use x=\"304.785156\" xlink:href=\"#DejaVuSans-97\"/>\n       <use x=\"366.064453\" xlink:href=\"#DejaVuSans-112\"/>\n       <use x=\"429.541016\" xlink:href=\"#DejaVuSans-104\"/>\n       <use x=\"492.919922\" xlink:href=\"#DejaVuSans-105\"/>\n       <use x=\"520.703125\" xlink:href=\"#DejaVuSans-99\"/>\n       <use x=\"575.683594\" xlink:href=\"#DejaVuSans-70\"/>\n       <use x=\"625.953125\" xlink:href=\"#DejaVuSans-105\"/>\n       <use x=\"653.736328\" xlink:href=\"#DejaVuSans-101\"/>\n       <use x=\"715.259766\" xlink:href=\"#DejaVuSans-108\"/>\n       <use x=\"743.042969\" xlink:href=\"#DejaVuSans-100\"/>\n       <use x=\"806.519531\" xlink:href=\"#DejaVuSans-50\"/>\n       <use x=\"870.142578\" xlink:href=\"#DejaVuSans-56\"/>\n       <use x=\"933.765625\" xlink:href=\"#DejaVuSans-65\"/>\n      </g>\n     </g>\n    </g>\n    <g id=\"ytick_275\">\n     <g id=\"line2d_278\">\n      <g>\n       <use style=\"stroke:#000000;stroke-width:0.8;\" x=\"165.090625\" xlink:href=\"#m85187e86d9\" y=\"4310.922034\"/>\n      </g>\n     </g>\n     <g id=\"text_278\">\n      <!-- GeographicField29B -->\n      <g style=\"fill:#444443;\" transform=\"translate(57.85 4314.721253)scale(0.1 -0.1)\">\n       <use xlink:href=\"#DejaVuSans-71\"/>\n       <use x=\"77.490234\" xlink:href=\"#DejaVuSans-101\"/>\n       <use x=\"139.013672\" xlink:href=\"#DejaVuSans-111\"/>\n       <use x=\"200.195312\" xlink:href=\"#DejaVuSans-103\"/>\n       <use x=\"263.671875\" xlink:href=\"#DejaVuSans-114\"/>\n       <use x=\"304.785156\" xlink:href=\"#DejaVuSans-97\"/>\n       <use x=\"366.064453\" xlink:href=\"#DejaVuSans-112\"/>\n       <use x=\"429.541016\" xlink:href=\"#DejaVuSans-104\"/>\n       <use x=\"492.919922\" xlink:href=\"#DejaVuSans-105\"/>\n       <use x=\"520.703125\" xlink:href=\"#DejaVuSans-99\"/>\n       <use x=\"575.683594\" xlink:href=\"#DejaVuSans-70\"/>\n       <use x=\"625.953125\" xlink:href=\"#DejaVuSans-105\"/>\n       <use x=\"653.736328\" xlink:href=\"#DejaVuSans-101\"/>\n       <use x=\"715.259766\" xlink:href=\"#DejaVuSans-108\"/>\n       <use x=\"743.042969\" xlink:href=\"#DejaVuSans-100\"/>\n       <use x=\"806.519531\" xlink:href=\"#DejaVuSans-50\"/>\n       <use x=\"870.142578\" xlink:href=\"#DejaVuSans-57\"/>\n       <use x=\"933.765625\" xlink:href=\"#DejaVuSans-66\"/>\n      </g>\n     </g>\n    </g>\n    <g id=\"ytick_276\">\n     <g id=\"line2d_279\">\n      <g>\n       <use style=\"stroke:#000000;stroke-width:0.8;\" x=\"165.090625\" xlink:href=\"#m85187e86d9\" y=\"4326.624068\"/>\n      </g>\n     </g>\n     <g id=\"text_279\">\n      <!-- Original_Quote_Year -->\n      <defs>\n       <path d=\"M -0.203125 72.90625 \nL 10.40625 72.90625 \nL 30.609375 42.921875 \nL 50.6875 72.90625 \nL 61.28125 72.90625 \nL 35.5 34.71875 \nL 35.5 0 \nL 25.59375 0 \nL 25.59375 34.71875 \nz\n\" id=\"DejaVuSans-89\"/>\n      </defs>\n      <g style=\"fill:#444443;\" transform=\"translate(57.382813 4330.423287)scale(0.1 -0.1)\">\n       <use xlink:href=\"#DejaVuSans-79\"/>\n       <use x=\"78.710938\" xlink:href=\"#DejaVuSans-114\"/>\n       <use x=\"119.824219\" xlink:href=\"#DejaVuSans-105\"/>\n       <use x=\"147.607422\" xlink:href=\"#DejaVuSans-103\"/>\n       <use x=\"211.083984\" xlink:href=\"#DejaVuSans-105\"/>\n       <use x=\"238.867188\" xlink:href=\"#DejaVuSans-110\"/>\n       <use x=\"302.246094\" xlink:href=\"#DejaVuSans-97\"/>\n       <use x=\"363.525391\" xlink:href=\"#DejaVuSans-108\"/>\n       <use x=\"391.308594\" xlink:href=\"#DejaVuSans-95\"/>\n       <use x=\"441.308594\" xlink:href=\"#DejaVuSans-81\"/>\n       <use x=\"520.019531\" xlink:href=\"#DejaVuSans-117\"/>\n       <use x=\"583.398438\" xlink:href=\"#DejaVuSans-111\"/>\n       <use x=\"644.580078\" xlink:href=\"#DejaVuSans-116\"/>\n       <use x=\"683.789062\" xlink:href=\"#DejaVuSans-101\"/>\n       <use x=\"745.3125\" xlink:href=\"#DejaVuSans-95\"/>\n       <use x=\"795.3125\" xlink:href=\"#DejaVuSans-89\"/>\n       <use x=\"843.146484\" xlink:href=\"#DejaVuSans-101\"/>\n       <use x=\"904.669922\" xlink:href=\"#DejaVuSans-97\"/>\n       <use x=\"965.949219\" xlink:href=\"#DejaVuSans-114\"/>\n      </g>\n     </g>\n    </g>\n    <g id=\"ytick_277\">\n     <g id=\"line2d_280\">\n      <g>\n       <use style=\"stroke:#000000;stroke-width:0.8;\" x=\"165.090625\" xlink:href=\"#m85187e86d9\" y=\"4342.326102\"/>\n      </g>\n     </g>\n     <g id=\"text_280\">\n      <!-- CoverageField2B -->\n      <g style=\"fill:#444443;\" transform=\"translate(73.86875 4346.12532)scale(0.1 -0.1)\">\n       <use xlink:href=\"#DejaVuSans-67\"/>\n       <use x=\"69.824219\" xlink:href=\"#DejaVuSans-111\"/>\n       <use x=\"131.005859\" xlink:href=\"#DejaVuSans-118\"/>\n       <use x=\"190.185547\" xlink:href=\"#DejaVuSans-101\"/>\n       <use x=\"251.708984\" xlink:href=\"#DejaVuSans-114\"/>\n       <use x=\"292.822266\" xlink:href=\"#DejaVuSans-97\"/>\n       <use x=\"354.101562\" xlink:href=\"#DejaVuSans-103\"/>\n       <use x=\"417.578125\" xlink:href=\"#DejaVuSans-101\"/>\n       <use x=\"479.101562\" xlink:href=\"#DejaVuSans-70\"/>\n       <use x=\"529.371094\" xlink:href=\"#DejaVuSans-105\"/>\n       <use x=\"557.154297\" xlink:href=\"#DejaVuSans-101\"/>\n       <use x=\"618.677734\" xlink:href=\"#DejaVuSans-108\"/>\n       <use x=\"646.460938\" xlink:href=\"#DejaVuSans-100\"/>\n       <use x=\"709.9375\" xlink:href=\"#DejaVuSans-50\"/>\n       <use x=\"773.560547\" xlink:href=\"#DejaVuSans-66\"/>\n      </g>\n     </g>\n    </g>\n    <g id=\"ytick_278\">\n     <g id=\"line2d_281\">\n      <g>\n       <use style=\"stroke:#000000;stroke-width:0.8;\" x=\"165.090625\" xlink:href=\"#m85187e86d9\" y=\"4358.028136\"/>\n      </g>\n     </g>\n     <g id=\"text_281\">\n      <!-- PersonalField4A -->\n      <g style=\"fill:#444443;\" transform=\"translate(79.3 4361.827354)scale(0.1 -0.1)\">\n       <use xlink:href=\"#DejaVuSans-80\"/>\n       <use x=\"56.677734\" xlink:href=\"#DejaVuSans-101\"/>\n       <use x=\"118.201172\" xlink:href=\"#DejaVuSans-114\"/>\n       <use x=\"159.314453\" xlink:href=\"#DejaVuSans-115\"/>\n       <use x=\"211.414062\" xlink:href=\"#DejaVuSans-111\"/>\n       <use x=\"272.595703\" xlink:href=\"#DejaVuSans-110\"/>\n       <use x=\"335.974609\" xlink:href=\"#DejaVuSans-97\"/>\n       <use x=\"397.253906\" xlink:href=\"#DejaVuSans-108\"/>\n       <use x=\"425.037109\" xlink:href=\"#DejaVuSans-70\"/>\n       <use x=\"475.306641\" xlink:href=\"#DejaVuSans-105\"/>\n       <use x=\"503.089844\" xlink:href=\"#DejaVuSans-101\"/>\n       <use x=\"564.613281\" xlink:href=\"#DejaVuSans-108\"/>\n       <use x=\"592.396484\" xlink:href=\"#DejaVuSans-100\"/>\n       <use x=\"655.873047\" xlink:href=\"#DejaVuSans-52\"/>\n       <use x=\"719.496094\" xlink:href=\"#DejaVuSans-65\"/>\n      </g>\n     </g>\n    </g>\n    <g id=\"ytick_279\">\n     <g id=\"line2d_282\">\n      <g>\n       <use style=\"stroke:#000000;stroke-width:0.8;\" x=\"165.090625\" xlink:href=\"#m85187e86d9\" y=\"4373.730169\"/>\n      </g>\n     </g>\n     <g id=\"text_282\">\n      <!-- PropertyField3 -->\n      <g style=\"fill:#444443;\" transform=\"translate(86.332813 4377.529388)scale(0.1 -0.1)\">\n       <use xlink:href=\"#DejaVuSans-80\"/>\n       <use x=\"58.552734\" xlink:href=\"#DejaVuSans-114\"/>\n       <use x=\"97.416016\" xlink:href=\"#DejaVuSans-111\"/>\n       <use x=\"158.597656\" xlink:href=\"#DejaVuSans-112\"/>\n       <use x=\"222.074219\" xlink:href=\"#DejaVuSans-101\"/>\n       <use x=\"283.597656\" xlink:href=\"#DejaVuSans-114\"/>\n       <use x=\"324.710938\" xlink:href=\"#DejaVuSans-116\"/>\n       <use x=\"363.919922\" xlink:href=\"#DejaVuSans-121\"/>\n       <use x=\"423.099609\" xlink:href=\"#DejaVuSans-70\"/>\n       <use x=\"473.369141\" xlink:href=\"#DejaVuSans-105\"/>\n       <use x=\"501.152344\" xlink:href=\"#DejaVuSans-101\"/>\n       <use x=\"562.675781\" xlink:href=\"#DejaVuSans-108\"/>\n       <use x=\"590.458984\" xlink:href=\"#DejaVuSans-100\"/>\n       <use x=\"653.935547\" xlink:href=\"#DejaVuSans-51\"/>\n      </g>\n     </g>\n    </g>\n    <g id=\"ytick_280\">\n     <g id=\"line2d_283\">\n      <g>\n       <use style=\"stroke:#000000;stroke-width:0.8;\" x=\"165.090625\" xlink:href=\"#m85187e86d9\" y=\"4389.432203\"/>\n      </g>\n     </g>\n     <g id=\"text_283\">\n      <!-- PropertyField16A -->\n      <g style=\"fill:#444443;\" transform=\"translate(73.129688 4393.231422)scale(0.1 -0.1)\">\n       <use xlink:href=\"#DejaVuSans-80\"/>\n       <use x=\"58.552734\" xlink:href=\"#DejaVuSans-114\"/>\n       <use x=\"97.416016\" xlink:href=\"#DejaVuSans-111\"/>\n       <use x=\"158.597656\" xlink:href=\"#DejaVuSans-112\"/>\n       <use x=\"222.074219\" xlink:href=\"#DejaVuSans-101\"/>\n       <use x=\"283.597656\" xlink:href=\"#DejaVuSans-114\"/>\n       <use x=\"324.710938\" xlink:href=\"#DejaVuSans-116\"/>\n       <use x=\"363.919922\" xlink:href=\"#DejaVuSans-121\"/>\n       <use x=\"423.099609\" xlink:href=\"#DejaVuSans-70\"/>\n       <use x=\"473.369141\" xlink:href=\"#DejaVuSans-105\"/>\n       <use x=\"501.152344\" xlink:href=\"#DejaVuSans-101\"/>\n       <use x=\"562.675781\" xlink:href=\"#DejaVuSans-108\"/>\n       <use x=\"590.458984\" xlink:href=\"#DejaVuSans-100\"/>\n       <use x=\"653.935547\" xlink:href=\"#DejaVuSans-49\"/>\n       <use x=\"717.558594\" xlink:href=\"#DejaVuSans-54\"/>\n       <use x=\"781.181641\" xlink:href=\"#DejaVuSans-65\"/>\n      </g>\n     </g>\n    </g>\n    <g id=\"ytick_281\">\n     <g id=\"line2d_284\">\n      <g>\n       <use style=\"stroke:#000000;stroke-width:0.8;\" x=\"165.090625\" xlink:href=\"#m85187e86d9\" y=\"4405.134237\"/>\n      </g>\n     </g>\n     <g id=\"text_284\">\n      <!-- GeographicField23B -->\n      <g style=\"fill:#444443;\" transform=\"translate(57.85 4408.933456)scale(0.1 -0.1)\">\n       <use xlink:href=\"#DejaVuSans-71\"/>\n       <use x=\"77.490234\" xlink:href=\"#DejaVuSans-101\"/>\n       <use x=\"139.013672\" xlink:href=\"#DejaVuSans-111\"/>\n       <use x=\"200.195312\" xlink:href=\"#DejaVuSans-103\"/>\n       <use x=\"263.671875\" xlink:href=\"#DejaVuSans-114\"/>\n       <use x=\"304.785156\" xlink:href=\"#DejaVuSans-97\"/>\n       <use x=\"366.064453\" xlink:href=\"#DejaVuSans-112\"/>\n       <use x=\"429.541016\" xlink:href=\"#DejaVuSans-104\"/>\n       <use x=\"492.919922\" xlink:href=\"#DejaVuSans-105\"/>\n       <use x=\"520.703125\" xlink:href=\"#DejaVuSans-99\"/>\n       <use x=\"575.683594\" xlink:href=\"#DejaVuSans-70\"/>\n       <use x=\"625.953125\" xlink:href=\"#DejaVuSans-105\"/>\n       <use x=\"653.736328\" xlink:href=\"#DejaVuSans-101\"/>\n       <use x=\"715.259766\" xlink:href=\"#DejaVuSans-108\"/>\n       <use x=\"743.042969\" xlink:href=\"#DejaVuSans-100\"/>\n       <use x=\"806.519531\" xlink:href=\"#DejaVuSans-50\"/>\n       <use x=\"870.142578\" xlink:href=\"#DejaVuSans-51\"/>\n       <use x=\"933.765625\" xlink:href=\"#DejaVuSans-66\"/>\n      </g>\n     </g>\n    </g>\n    <g id=\"ytick_282\">\n     <g id=\"line2d_285\">\n      <g>\n       <use style=\"stroke:#000000;stroke-width:0.8;\" x=\"165.090625\" xlink:href=\"#m85187e86d9\" y=\"4420.836271\"/>\n      </g>\n     </g>\n     <g id=\"text_285\">\n      <!-- CoverageField4A -->\n      <g style=\"fill:#444443;\" transform=\"translate(73.889063 4424.63549)scale(0.1 -0.1)\">\n       <use xlink:href=\"#DejaVuSans-67\"/>\n       <use x=\"69.824219\" xlink:href=\"#DejaVuSans-111\"/>\n       <use x=\"131.005859\" xlink:href=\"#DejaVuSans-118\"/>\n       <use x=\"190.185547\" xlink:href=\"#DejaVuSans-101\"/>\n       <use x=\"251.708984\" xlink:href=\"#DejaVuSans-114\"/>\n       <use x=\"292.822266\" xlink:href=\"#DejaVuSans-97\"/>\n       <use x=\"354.101562\" xlink:href=\"#DejaVuSans-103\"/>\n       <use x=\"417.578125\" xlink:href=\"#DejaVuSans-101\"/>\n       <use x=\"479.101562\" xlink:href=\"#DejaVuSans-70\"/>\n       <use x=\"529.371094\" xlink:href=\"#DejaVuSans-105\"/>\n       <use x=\"557.154297\" xlink:href=\"#DejaVuSans-101\"/>\n       <use x=\"618.677734\" xlink:href=\"#DejaVuSans-108\"/>\n       <use x=\"646.460938\" xlink:href=\"#DejaVuSans-100\"/>\n       <use x=\"709.9375\" xlink:href=\"#DejaVuSans-52\"/>\n       <use x=\"773.560547\" xlink:href=\"#DejaVuSans-65\"/>\n      </g>\n     </g>\n    </g>\n    <g id=\"ytick_283\">\n     <g id=\"line2d_286\">\n      <g>\n       <use style=\"stroke:#000000;stroke-width:0.8;\" x=\"165.090625\" xlink:href=\"#m85187e86d9\" y=\"4436.538305\"/>\n      </g>\n     </g>\n     <g id=\"text_286\">\n      <!-- GeographicField36B -->\n      <g style=\"fill:#444443;\" transform=\"translate(57.85 4440.337524)scale(0.1 -0.1)\">\n       <use xlink:href=\"#DejaVuSans-71\"/>\n       <use x=\"77.490234\" xlink:href=\"#DejaVuSans-101\"/>\n       <use x=\"139.013672\" xlink:href=\"#DejaVuSans-111\"/>\n       <use x=\"200.195312\" xlink:href=\"#DejaVuSans-103\"/>\n       <use x=\"263.671875\" xlink:href=\"#DejaVuSans-114\"/>\n       <use x=\"304.785156\" xlink:href=\"#DejaVuSans-97\"/>\n       <use x=\"366.064453\" xlink:href=\"#DejaVuSans-112\"/>\n       <use x=\"429.541016\" xlink:href=\"#DejaVuSans-104\"/>\n       <use x=\"492.919922\" xlink:href=\"#DejaVuSans-105\"/>\n       <use x=\"520.703125\" xlink:href=\"#DejaVuSans-99\"/>\n       <use x=\"575.683594\" xlink:href=\"#DejaVuSans-70\"/>\n       <use x=\"625.953125\" xlink:href=\"#DejaVuSans-105\"/>\n       <use x=\"653.736328\" xlink:href=\"#DejaVuSans-101\"/>\n       <use x=\"715.259766\" xlink:href=\"#DejaVuSans-108\"/>\n       <use x=\"743.042969\" xlink:href=\"#DejaVuSans-100\"/>\n       <use x=\"806.519531\" xlink:href=\"#DejaVuSans-51\"/>\n       <use x=\"870.142578\" xlink:href=\"#DejaVuSans-54\"/>\n       <use x=\"933.765625\" xlink:href=\"#DejaVuSans-66\"/>\n      </g>\n     </g>\n    </g>\n    <g id=\"ytick_284\">\n     <g id=\"line2d_287\">\n      <g>\n       <use style=\"stroke:#000000;stroke-width:0.8;\" x=\"165.090625\" xlink:href=\"#m85187e86d9\" y=\"4452.240339\"/>\n      </g>\n     </g>\n     <g id=\"text_287\">\n      <!-- GeographicField59B -->\n      <g style=\"fill:#444443;\" transform=\"translate(57.85 4456.039558)scale(0.1 -0.1)\">\n       <use xlink:href=\"#DejaVuSans-71\"/>\n       <use x=\"77.490234\" xlink:href=\"#DejaVuSans-101\"/>\n       <use x=\"139.013672\" xlink:href=\"#DejaVuSans-111\"/>\n       <use x=\"200.195312\" xlink:href=\"#DejaVuSans-103\"/>\n       <use x=\"263.671875\" xlink:href=\"#DejaVuSans-114\"/>\n       <use x=\"304.785156\" xlink:href=\"#DejaVuSans-97\"/>\n       <use x=\"366.064453\" xlink:href=\"#DejaVuSans-112\"/>\n       <use x=\"429.541016\" xlink:href=\"#DejaVuSans-104\"/>\n       <use x=\"492.919922\" xlink:href=\"#DejaVuSans-105\"/>\n       <use x=\"520.703125\" xlink:href=\"#DejaVuSans-99\"/>\n       <use x=\"575.683594\" xlink:href=\"#DejaVuSans-70\"/>\n       <use x=\"625.953125\" xlink:href=\"#DejaVuSans-105\"/>\n       <use x=\"653.736328\" xlink:href=\"#DejaVuSans-101\"/>\n       <use x=\"715.259766\" xlink:href=\"#DejaVuSans-108\"/>\n       <use x=\"743.042969\" xlink:href=\"#DejaVuSans-100\"/>\n       <use x=\"806.519531\" xlink:href=\"#DejaVuSans-53\"/>\n       <use x=\"870.142578\" xlink:href=\"#DejaVuSans-57\"/>\n       <use x=\"933.765625\" xlink:href=\"#DejaVuSans-66\"/>\n      </g>\n     </g>\n    </g>\n    <g id=\"ytick_285\">\n     <g id=\"line2d_288\">\n      <g>\n       <use style=\"stroke:#000000;stroke-width:0.8;\" x=\"165.090625\" xlink:href=\"#m85187e86d9\" y=\"4467.942373\"/>\n      </g>\n     </g>\n     <g id=\"text_288\">\n      <!-- GeographicField14B -->\n      <g style=\"fill:#444443;\" transform=\"translate(57.85 4471.741592)scale(0.1 -0.1)\">\n       <use xlink:href=\"#DejaVuSans-71\"/>\n       <use x=\"77.490234\" xlink:href=\"#DejaVuSans-101\"/>\n       <use x=\"139.013672\" xlink:href=\"#DejaVuSans-111\"/>\n       <use x=\"200.195312\" xlink:href=\"#DejaVuSans-103\"/>\n       <use x=\"263.671875\" xlink:href=\"#DejaVuSans-114\"/>\n       <use x=\"304.785156\" xlink:href=\"#DejaVuSans-97\"/>\n       <use x=\"366.064453\" xlink:href=\"#DejaVuSans-112\"/>\n       <use x=\"429.541016\" xlink:href=\"#DejaVuSans-104\"/>\n       <use x=\"492.919922\" xlink:href=\"#DejaVuSans-105\"/>\n       <use x=\"520.703125\" xlink:href=\"#DejaVuSans-99\"/>\n       <use x=\"575.683594\" xlink:href=\"#DejaVuSans-70\"/>\n       <use x=\"625.953125\" xlink:href=\"#DejaVuSans-105\"/>\n       <use x=\"653.736328\" xlink:href=\"#DejaVuSans-101\"/>\n       <use x=\"715.259766\" xlink:href=\"#DejaVuSans-108\"/>\n       <use x=\"743.042969\" xlink:href=\"#DejaVuSans-100\"/>\n       <use x=\"806.519531\" xlink:href=\"#DejaVuSans-49\"/>\n       <use x=\"870.142578\" xlink:href=\"#DejaVuSans-52\"/>\n       <use x=\"933.765625\" xlink:href=\"#DejaVuSans-66\"/>\n      </g>\n     </g>\n    </g>\n    <g id=\"ytick_286\">\n     <g id=\"line2d_289\">\n      <g>\n       <use style=\"stroke:#000000;stroke-width:0.8;\" x=\"165.090625\" xlink:href=\"#m85187e86d9\" y=\"4483.644407\"/>\n      </g>\n     </g>\n     <g id=\"text_289\">\n      <!-- GeographicField19A -->\n      <g style=\"fill:#444443;\" transform=\"translate(57.870313 4487.443626)scale(0.1 -0.1)\">\n       <use xlink:href=\"#DejaVuSans-71\"/>\n       <use x=\"77.490234\" xlink:href=\"#DejaVuSans-101\"/>\n       <use x=\"139.013672\" xlink:href=\"#DejaVuSans-111\"/>\n       <use x=\"200.195312\" xlink:href=\"#DejaVuSans-103\"/>\n       <use x=\"263.671875\" xlink:href=\"#DejaVuSans-114\"/>\n       <use x=\"304.785156\" xlink:href=\"#DejaVuSans-97\"/>\n       <use x=\"366.064453\" xlink:href=\"#DejaVuSans-112\"/>\n       <use x=\"429.541016\" xlink:href=\"#DejaVuSans-104\"/>\n       <use x=\"492.919922\" xlink:href=\"#DejaVuSans-105\"/>\n       <use x=\"520.703125\" xlink:href=\"#DejaVuSans-99\"/>\n       <use x=\"575.683594\" xlink:href=\"#DejaVuSans-70\"/>\n       <use x=\"625.953125\" xlink:href=\"#DejaVuSans-105\"/>\n       <use x=\"653.736328\" xlink:href=\"#DejaVuSans-101\"/>\n       <use x=\"715.259766\" xlink:href=\"#DejaVuSans-108\"/>\n       <use x=\"743.042969\" xlink:href=\"#DejaVuSans-100\"/>\n       <use x=\"806.519531\" xlink:href=\"#DejaVuSans-49\"/>\n       <use x=\"870.142578\" xlink:href=\"#DejaVuSans-57\"/>\n       <use x=\"933.765625\" xlink:href=\"#DejaVuSans-65\"/>\n      </g>\n     </g>\n    </g>\n    <g id=\"ytick_287\">\n     <g id=\"line2d_290\">\n      <g>\n       <use style=\"stroke:#000000;stroke-width:0.8;\" x=\"165.090625\" xlink:href=\"#m85187e86d9\" y=\"4499.346441\"/>\n      </g>\n     </g>\n     <g id=\"text_290\">\n      <!-- PropertyField18 -->\n      <g style=\"fill:#444443;\" transform=\"translate(79.970313 4503.145659)scale(0.1 -0.1)\">\n       <use xlink:href=\"#DejaVuSans-80\"/>\n       <use x=\"58.552734\" xlink:href=\"#DejaVuSans-114\"/>\n       <use x=\"97.416016\" xlink:href=\"#DejaVuSans-111\"/>\n       <use x=\"158.597656\" xlink:href=\"#DejaVuSans-112\"/>\n       <use x=\"222.074219\" xlink:href=\"#DejaVuSans-101\"/>\n       <use x=\"283.597656\" xlink:href=\"#DejaVuSans-114\"/>\n       <use x=\"324.710938\" xlink:href=\"#DejaVuSans-116\"/>\n       <use x=\"363.919922\" xlink:href=\"#DejaVuSans-121\"/>\n       <use x=\"423.099609\" xlink:href=\"#DejaVuSans-70\"/>\n       <use x=\"473.369141\" xlink:href=\"#DejaVuSans-105\"/>\n       <use x=\"501.152344\" xlink:href=\"#DejaVuSans-101\"/>\n       <use x=\"562.675781\" xlink:href=\"#DejaVuSans-108\"/>\n       <use x=\"590.458984\" xlink:href=\"#DejaVuSans-100\"/>\n       <use x=\"653.935547\" xlink:href=\"#DejaVuSans-49\"/>\n       <use x=\"717.558594\" xlink:href=\"#DejaVuSans-56\"/>\n      </g>\n     </g>\n    </g>\n    <g id=\"ytick_288\">\n     <g id=\"line2d_291\">\n      <g>\n       <use style=\"stroke:#000000;stroke-width:0.8;\" x=\"165.090625\" xlink:href=\"#m85187e86d9\" y=\"4515.048475\"/>\n      </g>\n     </g>\n     <g id=\"text_291\">\n      <!-- GeographicField57A -->\n      <g style=\"fill:#444443;\" transform=\"translate(57.870313 4518.847693)scale(0.1 -0.1)\">\n       <use xlink:href=\"#DejaVuSans-71\"/>\n       <use x=\"77.490234\" xlink:href=\"#DejaVuSans-101\"/>\n       <use x=\"139.013672\" xlink:href=\"#DejaVuSans-111\"/>\n       <use x=\"200.195312\" xlink:href=\"#DejaVuSans-103\"/>\n       <use x=\"263.671875\" xlink:href=\"#DejaVuSans-114\"/>\n       <use x=\"304.785156\" xlink:href=\"#DejaVuSans-97\"/>\n       <use x=\"366.064453\" xlink:href=\"#DejaVuSans-112\"/>\n       <use x=\"429.541016\" xlink:href=\"#DejaVuSans-104\"/>\n       <use x=\"492.919922\" xlink:href=\"#DejaVuSans-105\"/>\n       <use x=\"520.703125\" xlink:href=\"#DejaVuSans-99\"/>\n       <use x=\"575.683594\" xlink:href=\"#DejaVuSans-70\"/>\n       <use x=\"625.953125\" xlink:href=\"#DejaVuSans-105\"/>\n       <use x=\"653.736328\" xlink:href=\"#DejaVuSans-101\"/>\n       <use x=\"715.259766\" xlink:href=\"#DejaVuSans-108\"/>\n       <use x=\"743.042969\" xlink:href=\"#DejaVuSans-100\"/>\n       <use x=\"806.519531\" xlink:href=\"#DejaVuSans-53\"/>\n       <use x=\"870.142578\" xlink:href=\"#DejaVuSans-55\"/>\n       <use x=\"933.765625\" xlink:href=\"#DejaVuSans-65\"/>\n      </g>\n     </g>\n    </g>\n    <g id=\"ytick_289\">\n     <g id=\"line2d_292\">\n      <g>\n       <use style=\"stroke:#000000;stroke-width:0.8;\" x=\"165.090625\" xlink:href=\"#m85187e86d9\" y=\"4530.750508\"/>\n      </g>\n     </g>\n     <g id=\"text_292\">\n      <!-- GeographicField55B -->\n      <g style=\"fill:#444443;\" transform=\"translate(57.85 4534.549727)scale(0.1 -0.1)\">\n       <use xlink:href=\"#DejaVuSans-71\"/>\n       <use x=\"77.490234\" xlink:href=\"#DejaVuSans-101\"/>\n       <use x=\"139.013672\" xlink:href=\"#DejaVuSans-111\"/>\n       <use x=\"200.195312\" xlink:href=\"#DejaVuSans-103\"/>\n       <use x=\"263.671875\" xlink:href=\"#DejaVuSans-114\"/>\n       <use x=\"304.785156\" xlink:href=\"#DejaVuSans-97\"/>\n       <use x=\"366.064453\" xlink:href=\"#DejaVuSans-112\"/>\n       <use x=\"429.541016\" xlink:href=\"#DejaVuSans-104\"/>\n       <use x=\"492.919922\" xlink:href=\"#DejaVuSans-105\"/>\n       <use x=\"520.703125\" xlink:href=\"#DejaVuSans-99\"/>\n       <use x=\"575.683594\" xlink:href=\"#DejaVuSans-70\"/>\n       <use x=\"625.953125\" xlink:href=\"#DejaVuSans-105\"/>\n       <use x=\"653.736328\" xlink:href=\"#DejaVuSans-101\"/>\n       <use x=\"715.259766\" xlink:href=\"#DejaVuSans-108\"/>\n       <use x=\"743.042969\" xlink:href=\"#DejaVuSans-100\"/>\n       <use x=\"806.519531\" xlink:href=\"#DejaVuSans-53\"/>\n       <use x=\"870.142578\" xlink:href=\"#DejaVuSans-53\"/>\n       <use x=\"933.765625\" xlink:href=\"#DejaVuSans-66\"/>\n      </g>\n     </g>\n    </g>\n    <g id=\"ytick_290\">\n     <g id=\"line2d_293\">\n      <g>\n       <use style=\"stroke:#000000;stroke-width:0.8;\" x=\"165.090625\" xlink:href=\"#m85187e86d9\" y=\"4546.452542\"/>\n      </g>\n     </g>\n     <g id=\"text_293\">\n      <!-- GeographicField50B -->\n      <g style=\"fill:#444443;\" transform=\"translate(57.85 4550.251761)scale(0.1 -0.1)\">\n       <use xlink:href=\"#DejaVuSans-71\"/>\n       <use x=\"77.490234\" xlink:href=\"#DejaVuSans-101\"/>\n       <use x=\"139.013672\" xlink:href=\"#DejaVuSans-111\"/>\n       <use x=\"200.195312\" xlink:href=\"#DejaVuSans-103\"/>\n       <use x=\"263.671875\" xlink:href=\"#DejaVuSans-114\"/>\n       <use x=\"304.785156\" xlink:href=\"#DejaVuSans-97\"/>\n       <use x=\"366.064453\" xlink:href=\"#DejaVuSans-112\"/>\n       <use x=\"429.541016\" xlink:href=\"#DejaVuSans-104\"/>\n       <use x=\"492.919922\" xlink:href=\"#DejaVuSans-105\"/>\n       <use x=\"520.703125\" xlink:href=\"#DejaVuSans-99\"/>\n       <use x=\"575.683594\" xlink:href=\"#DejaVuSans-70\"/>\n       <use x=\"625.953125\" xlink:href=\"#DejaVuSans-105\"/>\n       <use x=\"653.736328\" xlink:href=\"#DejaVuSans-101\"/>\n       <use x=\"715.259766\" xlink:href=\"#DejaVuSans-108\"/>\n       <use x=\"743.042969\" xlink:href=\"#DejaVuSans-100\"/>\n       <use x=\"806.519531\" xlink:href=\"#DejaVuSans-53\"/>\n       <use x=\"870.142578\" xlink:href=\"#DejaVuSans-48\"/>\n       <use x=\"933.765625\" xlink:href=\"#DejaVuSans-66\"/>\n      </g>\n     </g>\n    </g>\n    <g id=\"ytick_291\">\n     <g id=\"line2d_294\">\n      <g>\n       <use style=\"stroke:#000000;stroke-width:0.8;\" x=\"165.090625\" xlink:href=\"#m85187e86d9\" y=\"4562.154576\"/>\n      </g>\n     </g>\n     <g id=\"text_294\">\n      <!-- GeographicField15B -->\n      <g style=\"fill:#444443;\" transform=\"translate(57.85 4565.953795)scale(0.1 -0.1)\">\n       <use xlink:href=\"#DejaVuSans-71\"/>\n       <use x=\"77.490234\" xlink:href=\"#DejaVuSans-101\"/>\n       <use x=\"139.013672\" xlink:href=\"#DejaVuSans-111\"/>\n       <use x=\"200.195312\" xlink:href=\"#DejaVuSans-103\"/>\n       <use x=\"263.671875\" xlink:href=\"#DejaVuSans-114\"/>\n       <use x=\"304.785156\" xlink:href=\"#DejaVuSans-97\"/>\n       <use x=\"366.064453\" xlink:href=\"#DejaVuSans-112\"/>\n       <use x=\"429.541016\" xlink:href=\"#DejaVuSans-104\"/>\n       <use x=\"492.919922\" xlink:href=\"#DejaVuSans-105\"/>\n       <use x=\"520.703125\" xlink:href=\"#DejaVuSans-99\"/>\n       <use x=\"575.683594\" xlink:href=\"#DejaVuSans-70\"/>\n       <use x=\"625.953125\" xlink:href=\"#DejaVuSans-105\"/>\n       <use x=\"653.736328\" xlink:href=\"#DejaVuSans-101\"/>\n       <use x=\"715.259766\" xlink:href=\"#DejaVuSans-108\"/>\n       <use x=\"743.042969\" xlink:href=\"#DejaVuSans-100\"/>\n       <use x=\"806.519531\" xlink:href=\"#DejaVuSans-49\"/>\n       <use x=\"870.142578\" xlink:href=\"#DejaVuSans-53\"/>\n       <use x=\"933.765625\" xlink:href=\"#DejaVuSans-66\"/>\n      </g>\n     </g>\n    </g>\n    <g id=\"ytick_292\">\n     <g id=\"line2d_295\">\n      <g>\n       <use style=\"stroke:#000000;stroke-width:0.8;\" x=\"165.090625\" xlink:href=\"#m85187e86d9\" y=\"4577.85661\"/>\n      </g>\n     </g>\n     <g id=\"text_295\">\n      <!-- Original_Quote_Dayofyear -->\n      <g style=\"fill:#444443;\" transform=\"translate(27.035938 4581.655829)scale(0.1 -0.1)\">\n       <use xlink:href=\"#DejaVuSans-79\"/>\n       <use x=\"78.710938\" xlink:href=\"#DejaVuSans-114\"/>\n       <use x=\"119.824219\" xlink:href=\"#DejaVuSans-105\"/>\n       <use x=\"147.607422\" xlink:href=\"#DejaVuSans-103\"/>\n       <use x=\"211.083984\" xlink:href=\"#DejaVuSans-105\"/>\n       <use x=\"238.867188\" xlink:href=\"#DejaVuSans-110\"/>\n       <use x=\"302.246094\" xlink:href=\"#DejaVuSans-97\"/>\n       <use x=\"363.525391\" xlink:href=\"#DejaVuSans-108\"/>\n       <use x=\"391.308594\" xlink:href=\"#DejaVuSans-95\"/>\n       <use x=\"441.308594\" xlink:href=\"#DejaVuSans-81\"/>\n       <use x=\"520.019531\" xlink:href=\"#DejaVuSans-117\"/>\n       <use x=\"583.398438\" xlink:href=\"#DejaVuSans-111\"/>\n       <use x=\"644.580078\" xlink:href=\"#DejaVuSans-116\"/>\n       <use x=\"683.789062\" xlink:href=\"#DejaVuSans-101\"/>\n       <use x=\"745.3125\" xlink:href=\"#DejaVuSans-95\"/>\n       <use x=\"795.3125\" xlink:href=\"#DejaVuSans-68\"/>\n       <use x=\"872.314453\" xlink:href=\"#DejaVuSans-97\"/>\n       <use x=\"933.59375\" xlink:href=\"#DejaVuSans-121\"/>\n       <use x=\"992.773438\" xlink:href=\"#DejaVuSans-111\"/>\n       <use x=\"1053.955078\" xlink:href=\"#DejaVuSans-102\"/>\n       <use x=\"1087.410156\" xlink:href=\"#DejaVuSans-121\"/>\n       <use x=\"1146.589844\" xlink:href=\"#DejaVuSans-101\"/>\n       <use x=\"1208.113281\" xlink:href=\"#DejaVuSans-97\"/>\n       <use x=\"1269.392578\" xlink:href=\"#DejaVuSans-114\"/>\n      </g>\n     </g>\n    </g>\n    <g id=\"ytick_293\">\n     <g id=\"line2d_296\">\n      <g>\n       <use style=\"stroke:#000000;stroke-width:0.8;\" x=\"165.090625\" xlink:href=\"#m85187e86d9\" y=\"4593.558644\"/>\n      </g>\n     </g>\n     <g id=\"text_296\">\n      <!-- GeographicField27B -->\n      <g style=\"fill:#444443;\" transform=\"translate(57.85 4597.357863)scale(0.1 -0.1)\">\n       <use xlink:href=\"#DejaVuSans-71\"/>\n       <use x=\"77.490234\" xlink:href=\"#DejaVuSans-101\"/>\n       <use x=\"139.013672\" xlink:href=\"#DejaVuSans-111\"/>\n       <use x=\"200.195312\" xlink:href=\"#DejaVuSans-103\"/>\n       <use x=\"263.671875\" xlink:href=\"#DejaVuSans-114\"/>\n       <use x=\"304.785156\" xlink:href=\"#DejaVuSans-97\"/>\n       <use x=\"366.064453\" xlink:href=\"#DejaVuSans-112\"/>\n       <use x=\"429.541016\" xlink:href=\"#DejaVuSans-104\"/>\n       <use x=\"492.919922\" xlink:href=\"#DejaVuSans-105\"/>\n       <use x=\"520.703125\" xlink:href=\"#DejaVuSans-99\"/>\n       <use x=\"575.683594\" xlink:href=\"#DejaVuSans-70\"/>\n       <use x=\"625.953125\" xlink:href=\"#DejaVuSans-105\"/>\n       <use x=\"653.736328\" xlink:href=\"#DejaVuSans-101\"/>\n       <use x=\"715.259766\" xlink:href=\"#DejaVuSans-108\"/>\n       <use x=\"743.042969\" xlink:href=\"#DejaVuSans-100\"/>\n       <use x=\"806.519531\" xlink:href=\"#DejaVuSans-50\"/>\n       <use x=\"870.142578\" xlink:href=\"#DejaVuSans-55\"/>\n       <use x=\"933.765625\" xlink:href=\"#DejaVuSans-66\"/>\n      </g>\n     </g>\n    </g>\n    <g id=\"ytick_294\">\n     <g id=\"line2d_297\">\n      <g>\n       <use style=\"stroke:#000000;stroke-width:0.8;\" x=\"165.090625\" xlink:href=\"#m85187e86d9\" y=\"4609.260678\"/>\n      </g>\n     </g>\n     <g id=\"text_297\">\n      <!-- GeographicField4A -->\n      <g style=\"fill:#444443;\" transform=\"translate(64.232813 4613.059897)scale(0.1 -0.1)\">\n       <use xlink:href=\"#DejaVuSans-71\"/>\n       <use x=\"77.490234\" xlink:href=\"#DejaVuSans-101\"/>\n       <use x=\"139.013672\" xlink:href=\"#DejaVuSans-111\"/>\n       <use x=\"200.195312\" xlink:href=\"#DejaVuSans-103\"/>\n       <use x=\"263.671875\" xlink:href=\"#DejaVuSans-114\"/>\n       <use x=\"304.785156\" xlink:href=\"#DejaVuSans-97\"/>\n       <use x=\"366.064453\" xlink:href=\"#DejaVuSans-112\"/>\n       <use x=\"429.541016\" xlink:href=\"#DejaVuSans-104\"/>\n       <use x=\"492.919922\" xlink:href=\"#DejaVuSans-105\"/>\n       <use x=\"520.703125\" xlink:href=\"#DejaVuSans-99\"/>\n       <use x=\"575.683594\" xlink:href=\"#DejaVuSans-70\"/>\n       <use x=\"625.953125\" xlink:href=\"#DejaVuSans-105\"/>\n       <use x=\"653.736328\" xlink:href=\"#DejaVuSans-101\"/>\n       <use x=\"715.259766\" xlink:href=\"#DejaVuSans-108\"/>\n       <use x=\"743.042969\" xlink:href=\"#DejaVuSans-100\"/>\n       <use x=\"806.519531\" xlink:href=\"#DejaVuSans-52\"/>\n       <use x=\"870.142578\" xlink:href=\"#DejaVuSans-65\"/>\n      </g>\n     </g>\n    </g>\n    <g id=\"ytick_295\">\n     <g id=\"line2d_298\">\n      <g>\n       <use style=\"stroke:#000000;stroke-width:0.8;\" x=\"165.090625\" xlink:href=\"#m85187e86d9\" y=\"4624.962712\"/>\n      </g>\n     </g>\n     <g id=\"text_298\">\n      <!-- GeographicField27A -->\n      <g style=\"fill:#444443;\" transform=\"translate(57.870313 4628.761931)scale(0.1 -0.1)\">\n       <use xlink:href=\"#DejaVuSans-71\"/>\n       <use x=\"77.490234\" xlink:href=\"#DejaVuSans-101\"/>\n       <use x=\"139.013672\" xlink:href=\"#DejaVuSans-111\"/>\n       <use x=\"200.195312\" xlink:href=\"#DejaVuSans-103\"/>\n       <use x=\"263.671875\" xlink:href=\"#DejaVuSans-114\"/>\n       <use x=\"304.785156\" xlink:href=\"#DejaVuSans-97\"/>\n       <use x=\"366.064453\" xlink:href=\"#DejaVuSans-112\"/>\n       <use x=\"429.541016\" xlink:href=\"#DejaVuSans-104\"/>\n       <use x=\"492.919922\" xlink:href=\"#DejaVuSans-105\"/>\n       <use x=\"520.703125\" xlink:href=\"#DejaVuSans-99\"/>\n       <use x=\"575.683594\" xlink:href=\"#DejaVuSans-70\"/>\n       <use x=\"625.953125\" xlink:href=\"#DejaVuSans-105\"/>\n       <use x=\"653.736328\" xlink:href=\"#DejaVuSans-101\"/>\n       <use x=\"715.259766\" xlink:href=\"#DejaVuSans-108\"/>\n       <use x=\"743.042969\" xlink:href=\"#DejaVuSans-100\"/>\n       <use x=\"806.519531\" xlink:href=\"#DejaVuSans-50\"/>\n       <use x=\"870.142578\" xlink:href=\"#DejaVuSans-55\"/>\n       <use x=\"933.765625\" xlink:href=\"#DejaVuSans-65\"/>\n      </g>\n     </g>\n    </g>\n    <g id=\"ytick_296\">\n     <g id=\"line2d_299\">\n      <g>\n       <use style=\"stroke:#000000;stroke-width:0.8;\" x=\"165.090625\" xlink:href=\"#m85187e86d9\" y=\"4640.664746\"/>\n      </g>\n     </g>\n     <g id=\"text_299\">\n      <!-- GeographicField42B -->\n      <g style=\"fill:#444443;\" transform=\"translate(57.85 4644.463965)scale(0.1 -0.1)\">\n       <use xlink:href=\"#DejaVuSans-71\"/>\n       <use x=\"77.490234\" xlink:href=\"#DejaVuSans-101\"/>\n       <use x=\"139.013672\" xlink:href=\"#DejaVuSans-111\"/>\n       <use x=\"200.195312\" xlink:href=\"#DejaVuSans-103\"/>\n       <use x=\"263.671875\" xlink:href=\"#DejaVuSans-114\"/>\n       <use x=\"304.785156\" xlink:href=\"#DejaVuSans-97\"/>\n       <use x=\"366.064453\" xlink:href=\"#DejaVuSans-112\"/>\n       <use x=\"429.541016\" xlink:href=\"#DejaVuSans-104\"/>\n       <use x=\"492.919922\" xlink:href=\"#DejaVuSans-105\"/>\n       <use x=\"520.703125\" xlink:href=\"#DejaVuSans-99\"/>\n       <use x=\"575.683594\" xlink:href=\"#DejaVuSans-70\"/>\n       <use x=\"625.953125\" xlink:href=\"#DejaVuSans-105\"/>\n       <use x=\"653.736328\" xlink:href=\"#DejaVuSans-101\"/>\n       <use x=\"715.259766\" xlink:href=\"#DejaVuSans-108\"/>\n       <use x=\"743.042969\" xlink:href=\"#DejaVuSans-100\"/>\n       <use x=\"806.519531\" xlink:href=\"#DejaVuSans-52\"/>\n       <use x=\"870.142578\" xlink:href=\"#DejaVuSans-50\"/>\n       <use x=\"933.765625\" xlink:href=\"#DejaVuSans-66\"/>\n      </g>\n     </g>\n    </g>\n    <g id=\"ytick_297\">\n     <g id=\"line2d_300\">\n      <g>\n       <use style=\"stroke:#000000;stroke-width:0.8;\" x=\"165.090625\" xlink:href=\"#m85187e86d9\" y=\"4656.36678\"/>\n      </g>\n     </g>\n     <g id=\"text_300\">\n      <!-- PersonalField31 -->\n      <g style=\"fill:#444443;\" transform=\"translate(79.778125 4660.165998)scale(0.1 -0.1)\">\n       <use xlink:href=\"#DejaVuSans-80\"/>\n       <use x=\"56.677734\" xlink:href=\"#DejaVuSans-101\"/>\n       <use x=\"118.201172\" xlink:href=\"#DejaVuSans-114\"/>\n       <use x=\"159.314453\" xlink:href=\"#DejaVuSans-115\"/>\n       <use x=\"211.414062\" xlink:href=\"#DejaVuSans-111\"/>\n       <use x=\"272.595703\" xlink:href=\"#DejaVuSans-110\"/>\n       <use x=\"335.974609\" xlink:href=\"#DejaVuSans-97\"/>\n       <use x=\"397.253906\" xlink:href=\"#DejaVuSans-108\"/>\n       <use x=\"425.037109\" xlink:href=\"#DejaVuSans-70\"/>\n       <use x=\"475.306641\" xlink:href=\"#DejaVuSans-105\"/>\n       <use x=\"503.089844\" xlink:href=\"#DejaVuSans-101\"/>\n       <use x=\"564.613281\" xlink:href=\"#DejaVuSans-108\"/>\n       <use x=\"592.396484\" xlink:href=\"#DejaVuSans-100\"/>\n       <use x=\"655.873047\" xlink:href=\"#DejaVuSans-51\"/>\n       <use x=\"719.496094\" xlink:href=\"#DejaVuSans-49\"/>\n      </g>\n     </g>\n    </g>\n    <g id=\"ytick_298\">\n     <g id=\"line2d_301\">\n      <g>\n       <use style=\"stroke:#000000;stroke-width:0.8;\" x=\"165.090625\" xlink:href=\"#m85187e86d9\" y=\"4672.068814\"/>\n      </g>\n     </g>\n     <g id=\"text_301\">\n      <!-- GeographicField32A -->\n      <g style=\"fill:#444443;\" transform=\"translate(57.870313 4675.868032)scale(0.1 -0.1)\">\n       <use xlink:href=\"#DejaVuSans-71\"/>\n       <use x=\"77.490234\" xlink:href=\"#DejaVuSans-101\"/>\n       <use x=\"139.013672\" xlink:href=\"#DejaVuSans-111\"/>\n       <use x=\"200.195312\" xlink:href=\"#DejaVuSans-103\"/>\n       <use x=\"263.671875\" xlink:href=\"#DejaVuSans-114\"/>\n       <use x=\"304.785156\" xlink:href=\"#DejaVuSans-97\"/>\n       <use x=\"366.064453\" xlink:href=\"#DejaVuSans-112\"/>\n       <use x=\"429.541016\" xlink:href=\"#DejaVuSans-104\"/>\n       <use x=\"492.919922\" xlink:href=\"#DejaVuSans-105\"/>\n       <use x=\"520.703125\" xlink:href=\"#DejaVuSans-99\"/>\n       <use x=\"575.683594\" xlink:href=\"#DejaVuSans-70\"/>\n       <use x=\"625.953125\" xlink:href=\"#DejaVuSans-105\"/>\n       <use x=\"653.736328\" xlink:href=\"#DejaVuSans-101\"/>\n       <use x=\"715.259766\" xlink:href=\"#DejaVuSans-108\"/>\n       <use x=\"743.042969\" xlink:href=\"#DejaVuSans-100\"/>\n       <use x=\"806.519531\" xlink:href=\"#DejaVuSans-51\"/>\n       <use x=\"870.142578\" xlink:href=\"#DejaVuSans-50\"/>\n       <use x=\"933.765625\" xlink:href=\"#DejaVuSans-65\"/>\n      </g>\n     </g>\n    </g>\n    <g id=\"ytick_299\">\n     <g id=\"line2d_302\">\n      <g>\n       <use style=\"stroke:#000000;stroke-width:0.8;\" x=\"165.090625\" xlink:href=\"#m85187e86d9\" y=\"4687.770847\"/>\n      </g>\n     </g>\n     <g id=\"text_302\">\n      <!-- GeographicField39A -->\n      <g style=\"fill:#444443;\" transform=\"translate(57.870313 4691.570066)scale(0.1 -0.1)\">\n       <use xlink:href=\"#DejaVuSans-71\"/>\n       <use x=\"77.490234\" xlink:href=\"#DejaVuSans-101\"/>\n       <use x=\"139.013672\" xlink:href=\"#DejaVuSans-111\"/>\n       <use x=\"200.195312\" xlink:href=\"#DejaVuSans-103\"/>\n       <use x=\"263.671875\" xlink:href=\"#DejaVuSans-114\"/>\n       <use x=\"304.785156\" xlink:href=\"#DejaVuSans-97\"/>\n       <use x=\"366.064453\" xlink:href=\"#DejaVuSans-112\"/>\n       <use x=\"429.541016\" xlink:href=\"#DejaVuSans-104\"/>\n       <use x=\"492.919922\" xlink:href=\"#DejaVuSans-105\"/>\n       <use x=\"520.703125\" xlink:href=\"#DejaVuSans-99\"/>\n       <use x=\"575.683594\" xlink:href=\"#DejaVuSans-70\"/>\n       <use x=\"625.953125\" xlink:href=\"#DejaVuSans-105\"/>\n       <use x=\"653.736328\" xlink:href=\"#DejaVuSans-101\"/>\n       <use x=\"715.259766\" xlink:href=\"#DejaVuSans-108\"/>\n       <use x=\"743.042969\" xlink:href=\"#DejaVuSans-100\"/>\n       <use x=\"806.519531\" xlink:href=\"#DejaVuSans-51\"/>\n       <use x=\"870.142578\" xlink:href=\"#DejaVuSans-57\"/>\n       <use x=\"933.765625\" xlink:href=\"#DejaVuSans-65\"/>\n      </g>\n     </g>\n    </g>\n    <g id=\"ytick_300\">\n     <g id=\"line2d_303\">\n      <g>\n       <use style=\"stroke:#000000;stroke-width:0.8;\" x=\"165.090625\" xlink:href=\"#m85187e86d9\" y=\"4703.472881\"/>\n      </g>\n     </g>\n     <g id=\"text_303\">\n      <!-- GeographicField48B -->\n      <g style=\"fill:#444443;\" transform=\"translate(57.85 4707.2721)scale(0.1 -0.1)\">\n       <use xlink:href=\"#DejaVuSans-71\"/>\n       <use x=\"77.490234\" xlink:href=\"#DejaVuSans-101\"/>\n       <use x=\"139.013672\" xlink:href=\"#DejaVuSans-111\"/>\n       <use x=\"200.195312\" xlink:href=\"#DejaVuSans-103\"/>\n       <use x=\"263.671875\" xlink:href=\"#DejaVuSans-114\"/>\n       <use x=\"304.785156\" xlink:href=\"#DejaVuSans-97\"/>\n       <use x=\"366.064453\" xlink:href=\"#DejaVuSans-112\"/>\n       <use x=\"429.541016\" xlink:href=\"#DejaVuSans-104\"/>\n       <use x=\"492.919922\" xlink:href=\"#DejaVuSans-105\"/>\n       <use x=\"520.703125\" xlink:href=\"#DejaVuSans-99\"/>\n       <use x=\"575.683594\" xlink:href=\"#DejaVuSans-70\"/>\n       <use x=\"625.953125\" xlink:href=\"#DejaVuSans-105\"/>\n       <use x=\"653.736328\" xlink:href=\"#DejaVuSans-101\"/>\n       <use x=\"715.259766\" xlink:href=\"#DejaVuSans-108\"/>\n       <use x=\"743.042969\" xlink:href=\"#DejaVuSans-100\"/>\n       <use x=\"806.519531\" xlink:href=\"#DejaVuSans-52\"/>\n       <use x=\"870.142578\" xlink:href=\"#DejaVuSans-56\"/>\n       <use x=\"933.765625\" xlink:href=\"#DejaVuSans-66\"/>\n      </g>\n     </g>\n    </g>\n    <g id=\"ytick_301\">\n     <g id=\"line2d_304\">\n      <g>\n       <use style=\"stroke:#000000;stroke-width:0.8;\" x=\"165.090625\" xlink:href=\"#m85187e86d9\" y=\"4719.174915\"/>\n      </g>\n     </g>\n     <g id=\"text_304\">\n      <!-- GeographicField44A -->\n      <g style=\"fill:#444443;\" transform=\"translate(57.870313 4722.974134)scale(0.1 -0.1)\">\n       <use xlink:href=\"#DejaVuSans-71\"/>\n       <use x=\"77.490234\" xlink:href=\"#DejaVuSans-101\"/>\n       <use x=\"139.013672\" xlink:href=\"#DejaVuSans-111\"/>\n       <use x=\"200.195312\" xlink:href=\"#DejaVuSans-103\"/>\n       <use x=\"263.671875\" xlink:href=\"#DejaVuSans-114\"/>\n       <use x=\"304.785156\" xlink:href=\"#DejaVuSans-97\"/>\n       <use x=\"366.064453\" xlink:href=\"#DejaVuSans-112\"/>\n       <use x=\"429.541016\" xlink:href=\"#DejaVuSans-104\"/>\n       <use x=\"492.919922\" xlink:href=\"#DejaVuSans-105\"/>\n       <use x=\"520.703125\" xlink:href=\"#DejaVuSans-99\"/>\n       <use x=\"575.683594\" xlink:href=\"#DejaVuSans-70\"/>\n       <use x=\"625.953125\" xlink:href=\"#DejaVuSans-105\"/>\n       <use x=\"653.736328\" xlink:href=\"#DejaVuSans-101\"/>\n       <use x=\"715.259766\" xlink:href=\"#DejaVuSans-108\"/>\n       <use x=\"743.042969\" xlink:href=\"#DejaVuSans-100\"/>\n       <use x=\"806.519531\" xlink:href=\"#DejaVuSans-52\"/>\n       <use x=\"870.142578\" xlink:href=\"#DejaVuSans-52\"/>\n       <use x=\"933.765625\" xlink:href=\"#DejaVuSans-65\"/>\n      </g>\n     </g>\n    </g>\n    <g id=\"ytick_302\">\n     <g id=\"line2d_305\">\n      <g>\n       <use style=\"stroke:#000000;stroke-width:0.8;\" x=\"165.090625\" xlink:href=\"#m85187e86d9\" y=\"4734.876949\"/>\n      </g>\n     </g>\n     <g id=\"text_305\">\n      <!-- Original_Quote_Elapsed -->\n      <defs>\n       <path d=\"M 9.8125 72.90625 \nL 55.90625 72.90625 \nL 55.90625 64.59375 \nL 19.671875 64.59375 \nL 19.671875 43.015625 \nL 54.390625 43.015625 \nL 54.390625 34.71875 \nL 19.671875 34.71875 \nL 19.671875 8.296875 \nL 56.78125 8.296875 \nL 56.78125 0 \nL 9.8125 0 \nz\n\" id=\"DejaVuSans-69\"/>\n      </defs>\n      <g style=\"fill:#444443;\" transform=\"translate(39.273438 4738.676168)scale(0.1 -0.1)\">\n       <use xlink:href=\"#DejaVuSans-79\"/>\n       <use x=\"78.710938\" xlink:href=\"#DejaVuSans-114\"/>\n       <use x=\"119.824219\" xlink:href=\"#DejaVuSans-105\"/>\n       <use x=\"147.607422\" xlink:href=\"#DejaVuSans-103\"/>\n       <use x=\"211.083984\" xlink:href=\"#DejaVuSans-105\"/>\n       <use x=\"238.867188\" xlink:href=\"#DejaVuSans-110\"/>\n       <use x=\"302.246094\" xlink:href=\"#DejaVuSans-97\"/>\n       <use x=\"363.525391\" xlink:href=\"#DejaVuSans-108\"/>\n       <use x=\"391.308594\" xlink:href=\"#DejaVuSans-95\"/>\n       <use x=\"441.308594\" xlink:href=\"#DejaVuSans-81\"/>\n       <use x=\"520.019531\" xlink:href=\"#DejaVuSans-117\"/>\n       <use x=\"583.398438\" xlink:href=\"#DejaVuSans-111\"/>\n       <use x=\"644.580078\" xlink:href=\"#DejaVuSans-116\"/>\n       <use x=\"683.789062\" xlink:href=\"#DejaVuSans-101\"/>\n       <use x=\"745.3125\" xlink:href=\"#DejaVuSans-95\"/>\n       <use x=\"795.3125\" xlink:href=\"#DejaVuSans-69\"/>\n       <use x=\"858.496094\" xlink:href=\"#DejaVuSans-108\"/>\n       <use x=\"886.279297\" xlink:href=\"#DejaVuSans-97\"/>\n       <use x=\"947.558594\" xlink:href=\"#DejaVuSans-112\"/>\n       <use x=\"1011.035156\" xlink:href=\"#DejaVuSans-115\"/>\n       <use x=\"1063.134766\" xlink:href=\"#DejaVuSans-101\"/>\n       <use x=\"1124.658203\" xlink:href=\"#DejaVuSans-100\"/>\n      </g>\n     </g>\n    </g>\n    <g id=\"ytick_303\">\n     <g id=\"line2d_306\">\n      <g>\n       <use style=\"stroke:#000000;stroke-width:0.8;\" x=\"165.090625\" xlink:href=\"#m85187e86d9\" y=\"4750.578983\"/>\n      </g>\n     </g>\n     <g id=\"text_306\">\n      <!-- GeographicField47B -->\n      <g style=\"fill:#444443;\" transform=\"translate(57.85 4754.378202)scale(0.1 -0.1)\">\n       <use xlink:href=\"#DejaVuSans-71\"/>\n       <use x=\"77.490234\" xlink:href=\"#DejaVuSans-101\"/>\n       <use x=\"139.013672\" xlink:href=\"#DejaVuSans-111\"/>\n       <use x=\"200.195312\" xlink:href=\"#DejaVuSans-103\"/>\n       <use x=\"263.671875\" xlink:href=\"#DejaVuSans-114\"/>\n       <use x=\"304.785156\" xlink:href=\"#DejaVuSans-97\"/>\n       <use x=\"366.064453\" xlink:href=\"#DejaVuSans-112\"/>\n       <use x=\"429.541016\" xlink:href=\"#DejaVuSans-104\"/>\n       <use x=\"492.919922\" xlink:href=\"#DejaVuSans-105\"/>\n       <use x=\"520.703125\" xlink:href=\"#DejaVuSans-99\"/>\n       <use x=\"575.683594\" xlink:href=\"#DejaVuSans-70\"/>\n       <use x=\"625.953125\" xlink:href=\"#DejaVuSans-105\"/>\n       <use x=\"653.736328\" xlink:href=\"#DejaVuSans-101\"/>\n       <use x=\"715.259766\" xlink:href=\"#DejaVuSans-108\"/>\n       <use x=\"743.042969\" xlink:href=\"#DejaVuSans-100\"/>\n       <use x=\"806.519531\" xlink:href=\"#DejaVuSans-52\"/>\n       <use x=\"870.142578\" xlink:href=\"#DejaVuSans-55\"/>\n       <use x=\"933.765625\" xlink:href=\"#DejaVuSans-66\"/>\n      </g>\n     </g>\n    </g>\n    <g id=\"ytick_304\">\n     <g id=\"line2d_307\">\n      <g>\n       <use style=\"stroke:#000000;stroke-width:0.8;\" x=\"165.090625\" xlink:href=\"#m85187e86d9\" y=\"4766.281017\"/>\n      </g>\n     </g>\n     <g id=\"text_307\">\n      <!-- GeographicField19B -->\n      <g style=\"fill:#444443;\" transform=\"translate(57.85 4770.080236)scale(0.1 -0.1)\">\n       <use xlink:href=\"#DejaVuSans-71\"/>\n       <use x=\"77.490234\" xlink:href=\"#DejaVuSans-101\"/>\n       <use x=\"139.013672\" xlink:href=\"#DejaVuSans-111\"/>\n       <use x=\"200.195312\" xlink:href=\"#DejaVuSans-103\"/>\n       <use x=\"263.671875\" xlink:href=\"#DejaVuSans-114\"/>\n       <use x=\"304.785156\" xlink:href=\"#DejaVuSans-97\"/>\n       <use x=\"366.064453\" xlink:href=\"#DejaVuSans-112\"/>\n       <use x=\"429.541016\" xlink:href=\"#DejaVuSans-104\"/>\n       <use x=\"492.919922\" xlink:href=\"#DejaVuSans-105\"/>\n       <use x=\"520.703125\" xlink:href=\"#DejaVuSans-99\"/>\n       <use x=\"575.683594\" xlink:href=\"#DejaVuSans-70\"/>\n       <use x=\"625.953125\" xlink:href=\"#DejaVuSans-105\"/>\n       <use x=\"653.736328\" xlink:href=\"#DejaVuSans-101\"/>\n       <use x=\"715.259766\" xlink:href=\"#DejaVuSans-108\"/>\n       <use x=\"743.042969\" xlink:href=\"#DejaVuSans-100\"/>\n       <use x=\"806.519531\" xlink:href=\"#DejaVuSans-49\"/>\n       <use x=\"870.142578\" xlink:href=\"#DejaVuSans-57\"/>\n       <use x=\"933.765625\" xlink:href=\"#DejaVuSans-66\"/>\n      </g>\n     </g>\n    </g>\n    <g id=\"ytick_305\">\n     <g id=\"line2d_308\">\n      <g>\n       <use style=\"stroke:#000000;stroke-width:0.8;\" x=\"165.090625\" xlink:href=\"#m85187e86d9\" y=\"4781.983051\"/>\n      </g>\n     </g>\n     <g id=\"text_308\">\n      <!-- GeographicField38A -->\n      <g style=\"fill:#444443;\" transform=\"translate(57.870313 4785.78227)scale(0.1 -0.1)\">\n       <use xlink:href=\"#DejaVuSans-71\"/>\n       <use x=\"77.490234\" xlink:href=\"#DejaVuSans-101\"/>\n       <use x=\"139.013672\" xlink:href=\"#DejaVuSans-111\"/>\n       <use x=\"200.195312\" xlink:href=\"#DejaVuSans-103\"/>\n       <use x=\"263.671875\" xlink:href=\"#DejaVuSans-114\"/>\n       <use x=\"304.785156\" xlink:href=\"#DejaVuSans-97\"/>\n       <use x=\"366.064453\" xlink:href=\"#DejaVuSans-112\"/>\n       <use x=\"429.541016\" xlink:href=\"#DejaVuSans-104\"/>\n       <use x=\"492.919922\" xlink:href=\"#DejaVuSans-105\"/>\n       <use x=\"520.703125\" xlink:href=\"#DejaVuSans-99\"/>\n       <use x=\"575.683594\" xlink:href=\"#DejaVuSans-70\"/>\n       <use x=\"625.953125\" xlink:href=\"#DejaVuSans-105\"/>\n       <use x=\"653.736328\" xlink:href=\"#DejaVuSans-101\"/>\n       <use x=\"715.259766\" xlink:href=\"#DejaVuSans-108\"/>\n       <use x=\"743.042969\" xlink:href=\"#DejaVuSans-100\"/>\n       <use x=\"806.519531\" xlink:href=\"#DejaVuSans-51\"/>\n       <use x=\"870.142578\" xlink:href=\"#DejaVuSans-56\"/>\n       <use x=\"933.765625\" xlink:href=\"#DejaVuSans-65\"/>\n      </g>\n     </g>\n    </g>\n    <g id=\"ytick_306\">\n     <g id=\"line2d_309\">\n      <g>\n       <use style=\"stroke:#000000;stroke-width:0.8;\" x=\"165.090625\" xlink:href=\"#m85187e86d9\" y=\"4797.685085\"/>\n      </g>\n     </g>\n     <g id=\"text_309\">\n      <!-- GeographicField45A -->\n      <g style=\"fill:#444443;\" transform=\"translate(57.870313 4801.484303)scale(0.1 -0.1)\">\n       <use xlink:href=\"#DejaVuSans-71\"/>\n       <use x=\"77.490234\" xlink:href=\"#DejaVuSans-101\"/>\n       <use x=\"139.013672\" xlink:href=\"#DejaVuSans-111\"/>\n       <use x=\"200.195312\" xlink:href=\"#DejaVuSans-103\"/>\n       <use x=\"263.671875\" xlink:href=\"#DejaVuSans-114\"/>\n       <use x=\"304.785156\" xlink:href=\"#DejaVuSans-97\"/>\n       <use x=\"366.064453\" xlink:href=\"#DejaVuSans-112\"/>\n       <use x=\"429.541016\" xlink:href=\"#DejaVuSans-104\"/>\n       <use x=\"492.919922\" xlink:href=\"#DejaVuSans-105\"/>\n       <use x=\"520.703125\" xlink:href=\"#DejaVuSans-99\"/>\n       <use x=\"575.683594\" xlink:href=\"#DejaVuSans-70\"/>\n       <use x=\"625.953125\" xlink:href=\"#DejaVuSans-105\"/>\n       <use x=\"653.736328\" xlink:href=\"#DejaVuSans-101\"/>\n       <use x=\"715.259766\" xlink:href=\"#DejaVuSans-108\"/>\n       <use x=\"743.042969\" xlink:href=\"#DejaVuSans-100\"/>\n       <use x=\"806.519531\" xlink:href=\"#DejaVuSans-52\"/>\n       <use x=\"870.142578\" xlink:href=\"#DejaVuSans-53\"/>\n       <use x=\"933.765625\" xlink:href=\"#DejaVuSans-65\"/>\n      </g>\n     </g>\n    </g>\n    <g id=\"ytick_307\">\n     <g id=\"line2d_310\">\n      <g>\n       <use style=\"stroke:#000000;stroke-width:0.8;\" x=\"165.090625\" xlink:href=\"#m85187e86d9\" y=\"4813.387119\"/>\n      </g>\n     </g>\n     <g id=\"text_310\">\n      <!-- GeographicField51B -->\n      <g style=\"fill:#444443;\" transform=\"translate(57.85 4817.186337)scale(0.1 -0.1)\">\n       <use xlink:href=\"#DejaVuSans-71\"/>\n       <use x=\"77.490234\" xlink:href=\"#DejaVuSans-101\"/>\n       <use x=\"139.013672\" xlink:href=\"#DejaVuSans-111\"/>\n       <use x=\"200.195312\" xlink:href=\"#DejaVuSans-103\"/>\n       <use x=\"263.671875\" xlink:href=\"#DejaVuSans-114\"/>\n       <use x=\"304.785156\" xlink:href=\"#DejaVuSans-97\"/>\n       <use x=\"366.064453\" xlink:href=\"#DejaVuSans-112\"/>\n       <use x=\"429.541016\" xlink:href=\"#DejaVuSans-104\"/>\n       <use x=\"492.919922\" xlink:href=\"#DejaVuSans-105\"/>\n       <use x=\"520.703125\" xlink:href=\"#DejaVuSans-99\"/>\n       <use x=\"575.683594\" xlink:href=\"#DejaVuSans-70\"/>\n       <use x=\"625.953125\" xlink:href=\"#DejaVuSans-105\"/>\n       <use x=\"653.736328\" xlink:href=\"#DejaVuSans-101\"/>\n       <use x=\"715.259766\" xlink:href=\"#DejaVuSans-108\"/>\n       <use x=\"743.042969\" xlink:href=\"#DejaVuSans-100\"/>\n       <use x=\"806.519531\" xlink:href=\"#DejaVuSans-53\"/>\n       <use x=\"870.142578\" xlink:href=\"#DejaVuSans-49\"/>\n       <use x=\"933.765625\" xlink:href=\"#DejaVuSans-66\"/>\n      </g>\n     </g>\n    </g>\n    <g id=\"ytick_308\">\n     <g id=\"line2d_311\">\n      <g>\n       <use style=\"stroke:#000000;stroke-width:0.8;\" x=\"165.090625\" xlink:href=\"#m85187e86d9\" y=\"4829.089153\"/>\n      </g>\n     </g>\n     <g id=\"text_311\">\n      <!-- PersonalField75 -->\n      <g style=\"fill:#444443;\" transform=\"translate(79.778125 4832.888371)scale(0.1 -0.1)\">\n       <use xlink:href=\"#DejaVuSans-80\"/>\n       <use x=\"56.677734\" xlink:href=\"#DejaVuSans-101\"/>\n       <use x=\"118.201172\" xlink:href=\"#DejaVuSans-114\"/>\n       <use x=\"159.314453\" xlink:href=\"#DejaVuSans-115\"/>\n       <use x=\"211.414062\" xlink:href=\"#DejaVuSans-111\"/>\n       <use x=\"272.595703\" xlink:href=\"#DejaVuSans-110\"/>\n       <use x=\"335.974609\" xlink:href=\"#DejaVuSans-97\"/>\n       <use x=\"397.253906\" xlink:href=\"#DejaVuSans-108\"/>\n       <use x=\"425.037109\" xlink:href=\"#DejaVuSans-70\"/>\n       <use x=\"475.306641\" xlink:href=\"#DejaVuSans-105\"/>\n       <use x=\"503.089844\" xlink:href=\"#DejaVuSans-101\"/>\n       <use x=\"564.613281\" xlink:href=\"#DejaVuSans-108\"/>\n       <use x=\"592.396484\" xlink:href=\"#DejaVuSans-100\"/>\n       <use x=\"655.873047\" xlink:href=\"#DejaVuSans-55\"/>\n       <use x=\"719.496094\" xlink:href=\"#DejaVuSans-53\"/>\n      </g>\n     </g>\n    </g>\n    <g id=\"ytick_309\">\n     <g id=\"line2d_312\">\n      <g>\n       <use style=\"stroke:#000000;stroke-width:0.8;\" x=\"165.090625\" xlink:href=\"#m85187e86d9\" y=\"4844.791186\"/>\n      </g>\n     </g>\n     <g id=\"text_312\">\n      <!-- CoverageField1A -->\n      <g style=\"fill:#444443;\" transform=\"translate(73.889063 4848.590405)scale(0.1 -0.1)\">\n       <use xlink:href=\"#DejaVuSans-67\"/>\n       <use x=\"69.824219\" xlink:href=\"#DejaVuSans-111\"/>\n       <use x=\"131.005859\" xlink:href=\"#DejaVuSans-118\"/>\n       <use x=\"190.185547\" xlink:href=\"#DejaVuSans-101\"/>\n       <use x=\"251.708984\" xlink:href=\"#DejaVuSans-114\"/>\n       <use x=\"292.822266\" xlink:href=\"#DejaVuSans-97\"/>\n       <use x=\"354.101562\" xlink:href=\"#DejaVuSans-103\"/>\n       <use x=\"417.578125\" xlink:href=\"#DejaVuSans-101\"/>\n       <use x=\"479.101562\" xlink:href=\"#DejaVuSans-70\"/>\n       <use x=\"529.371094\" xlink:href=\"#DejaVuSans-105\"/>\n       <use x=\"557.154297\" xlink:href=\"#DejaVuSans-101\"/>\n       <use x=\"618.677734\" xlink:href=\"#DejaVuSans-108\"/>\n       <use x=\"646.460938\" xlink:href=\"#DejaVuSans-100\"/>\n       <use x=\"709.9375\" xlink:href=\"#DejaVuSans-49\"/>\n       <use x=\"773.560547\" xlink:href=\"#DejaVuSans-65\"/>\n      </g>\n     </g>\n    </g>\n    <g id=\"ytick_310\">\n     <g id=\"line2d_313\">\n      <g>\n       <use style=\"stroke:#000000;stroke-width:0.8;\" x=\"165.090625\" xlink:href=\"#m85187e86d9\" y=\"4860.49322\"/>\n      </g>\n     </g>\n     <g id=\"text_313\">\n      <!-- GeographicField24B -->\n      <g style=\"fill:#444443;\" transform=\"translate(57.85 4864.292439)scale(0.1 -0.1)\">\n       <use xlink:href=\"#DejaVuSans-71\"/>\n       <use x=\"77.490234\" xlink:href=\"#DejaVuSans-101\"/>\n       <use x=\"139.013672\" xlink:href=\"#DejaVuSans-111\"/>\n       <use x=\"200.195312\" xlink:href=\"#DejaVuSans-103\"/>\n       <use x=\"263.671875\" xlink:href=\"#DejaVuSans-114\"/>\n       <use x=\"304.785156\" xlink:href=\"#DejaVuSans-97\"/>\n       <use x=\"366.064453\" xlink:href=\"#DejaVuSans-112\"/>\n       <use x=\"429.541016\" xlink:href=\"#DejaVuSans-104\"/>\n       <use x=\"492.919922\" xlink:href=\"#DejaVuSans-105\"/>\n       <use x=\"520.703125\" xlink:href=\"#DejaVuSans-99\"/>\n       <use x=\"575.683594\" xlink:href=\"#DejaVuSans-70\"/>\n       <use x=\"625.953125\" xlink:href=\"#DejaVuSans-105\"/>\n       <use x=\"653.736328\" xlink:href=\"#DejaVuSans-101\"/>\n       <use x=\"715.259766\" xlink:href=\"#DejaVuSans-108\"/>\n       <use x=\"743.042969\" xlink:href=\"#DejaVuSans-100\"/>\n       <use x=\"806.519531\" xlink:href=\"#DejaVuSans-50\"/>\n       <use x=\"870.142578\" xlink:href=\"#DejaVuSans-52\"/>\n       <use x=\"933.765625\" xlink:href=\"#DejaVuSans-66\"/>\n      </g>\n     </g>\n    </g>\n    <g id=\"ytick_311\">\n     <g id=\"line2d_314\">\n      <g>\n       <use style=\"stroke:#000000;stroke-width:0.8;\" x=\"165.090625\" xlink:href=\"#m85187e86d9\" y=\"4876.195254\"/>\n      </g>\n     </g>\n     <g id=\"text_314\">\n      <!-- GeographicField13B -->\n      <g style=\"fill:#444443;\" transform=\"translate(57.85 4879.994473)scale(0.1 -0.1)\">\n       <use xlink:href=\"#DejaVuSans-71\"/>\n       <use x=\"77.490234\" xlink:href=\"#DejaVuSans-101\"/>\n       <use x=\"139.013672\" xlink:href=\"#DejaVuSans-111\"/>\n       <use x=\"200.195312\" xlink:href=\"#DejaVuSans-103\"/>\n       <use x=\"263.671875\" xlink:href=\"#DejaVuSans-114\"/>\n       <use x=\"304.785156\" xlink:href=\"#DejaVuSans-97\"/>\n       <use x=\"366.064453\" xlink:href=\"#DejaVuSans-112\"/>\n       <use x=\"429.541016\" xlink:href=\"#DejaVuSans-104\"/>\n       <use x=\"492.919922\" xlink:href=\"#DejaVuSans-105\"/>\n       <use x=\"520.703125\" xlink:href=\"#DejaVuSans-99\"/>\n       <use x=\"575.683594\" xlink:href=\"#DejaVuSans-70\"/>\n       <use x=\"625.953125\" xlink:href=\"#DejaVuSans-105\"/>\n       <use x=\"653.736328\" xlink:href=\"#DejaVuSans-101\"/>\n       <use x=\"715.259766\" xlink:href=\"#DejaVuSans-108\"/>\n       <use x=\"743.042969\" xlink:href=\"#DejaVuSans-100\"/>\n       <use x=\"806.519531\" xlink:href=\"#DejaVuSans-49\"/>\n       <use x=\"870.142578\" xlink:href=\"#DejaVuSans-51\"/>\n       <use x=\"933.765625\" xlink:href=\"#DejaVuSans-66\"/>\n      </g>\n     </g>\n    </g>\n   </g>\n   <g id=\"patch_314\">\n    <path d=\"M 165.090625 4884.76 \nL 165.090625 0 \n\" style=\"fill:none;stroke:#000000;stroke-linecap:square;stroke-linejoin:miter;stroke-width:0.3;\"/>\n   </g>\n   <g id=\"patch_315\">\n    <path d=\"M 251.045625 4884.76 \nL 251.045625 0 \n\" style=\"fill:none;stroke:#000000;stroke-linecap:square;stroke-linejoin:miter;stroke-width:0.3;\"/>\n   </g>\n   <g id=\"patch_316\">\n    <path d=\"M 165.090625 4884.76 \nL 251.045625 4884.76 \n\" style=\"fill:none;stroke:#000000;stroke-linecap:square;stroke-linejoin:miter;stroke-width:0.3;\"/>\n   </g>\n   <g id=\"patch_317\">\n    <path d=\"M 165.090625 0 \nL 251.045625 0 \n\" style=\"fill:none;stroke:#000000;stroke-linecap:square;stroke-linejoin:miter;stroke-width:0.3;\"/>\n   </g>\n  </g>\n </g>\n <defs>\n  <clipPath id=\"pf657e1e3ca\">\n   <rect height=\"4884.76\" width=\"85.955\" x=\"165.090625\" y=\"0\"/>\n  </clipPath>\n </defs>\n</svg>\n"
          },
          "metadata": {
            "tags": []
          },
          "execution_count": 140
        }
      ]
    },
    {
      "cell_type": "markdown",
      "metadata": {
        "id": "8c01da10-db4d-4759-995d-2154b81494f8"
      },
      "source": [
        "So here the most important are `PropertyField37`, `Field7`,`PersonalField1`, `SalesField5`, `PersonalField9`,`PersonalField2`"
      ],
      "id": "8c01da10-db4d-4759-995d-2154b81494f8"
    },
    {
      "cell_type": "code",
      "metadata": {
        "id": "b8bf6c11-7376-426b-b34b-e32615da7103"
      },
      "source": [
        "forest_preds = tree.predict_proba(X_valid)"
      ],
      "id": "b8bf6c11-7376-426b-b34b-e32615da7103",
      "execution_count": null,
      "outputs": []
    },
    {
      "cell_type": "code",
      "metadata": {
        "id": "a93d3b40-988e-4414-83ee-7e4d86ab183c",
        "colab": {
          "base_uri": "https://localhost:8080/"
        },
        "outputId": "4da605c0-415f-46a7-8d02-d6fee4e48a62"
      },
      "source": [
        "rf_roc_auc_score=roc_auc_score(y_valid, forest_preds[:,1])\n",
        "rf_roc_auc_score"
      ],
      "id": "a93d3b40-988e-4414-83ee-7e4d86ab183c",
      "execution_count": null,
      "outputs": [
        {
          "output_type": "execute_result",
          "data": {
            "text/plain": [
              "0.9555688161095317"
            ]
          },
          "metadata": {
            "tags": []
          },
          "execution_count": 127
        }
      ]
    },
    {
      "cell_type": "code",
      "metadata": {
        "id": "041a3ac4-9dd8-48f6-931c-39d9775786c9"
      },
      "source": [
        "new_avgs =  (preds + xgb_preds + forest_preds) / 3"
      ],
      "id": "041a3ac4-9dd8-48f6-931c-39d9775786c9",
      "execution_count": null,
      "outputs": []
    },
    {
      "cell_type": "code",
      "metadata": {
        "colab": {
          "base_uri": "https://localhost:8080/"
        },
        "id": "odI80xXd7zGx",
        "outputId": "0e784c54-2964-4c43-e0a1-b32d233d7ba4"
      },
      "source": [
        "dlxgrf_roc_auc_score=roc_auc_score(y_valid, new_avgs[:,1])\n",
        "dlxgrf_roc_auc_score"
      ],
      "id": "odI80xXd7zGx",
      "execution_count": null,
      "outputs": [
        {
          "output_type": "execute_result",
          "data": {
            "text/plain": [
              "0.9642736064955966"
            ]
          },
          "metadata": {
            "tags": []
          },
          "execution_count": 129
        }
      ]
    },
    {
      "cell_type": "markdown",
      "metadata": {
        "id": "H_E0-dUV7FMT"
      },
      "source": [
        "So it gets slightly worse when we add Random Forest to the ensemble."
      ],
      "id": "H_E0-dUV7FMT"
    },
    {
      "cell_type": "markdown",
      "metadata": {
        "id": "ebrAXtTKIa_P"
      },
      "source": [
        "## Bayesian Optimisation"
      ],
      "id": "ebrAXtTKIa_P"
    },
    {
      "cell_type": "code",
      "metadata": {
        "id": "Tk6W7UTkJMmE"
      },
      "source": [
        "pip install bayesian-optimization"
      ],
      "id": "Tk6W7UTkJMmE",
      "execution_count": null,
      "outputs": []
    },
    {
      "cell_type": "code",
      "metadata": {
        "id": "z_ISZ8T1Ietv"
      },
      "source": [
        "from bayes_opt import BayesianOptimization\n"
      ],
      "id": "z_ISZ8T1Ietv",
      "execution_count": null,
      "outputs": []
    },
    {
      "cell_type": "code",
      "metadata": {
        "colab": {
          "base_uri": "https://localhost:8080/",
          "height": 16
        },
        "id": "OKPlQBzO_NRR",
        "outputId": "c517bf18-f126-4ebc-c467-6d15f6b09e2b"
      },
      "source": [
        "p=learn.get_preds()"
      ],
      "id": "OKPlQBzO_NRR",
      "execution_count": null,
      "outputs": [
        {
          "output_type": "display_data",
          "data": {
            "text/html": [
              ""
            ],
            "text/plain": [
              "<IPython.core.display.HTML object>"
            ]
          },
          "metadata": {
            "tags": []
          }
        }
      ]
    },
    {
      "cell_type": "code",
      "metadata": {
        "id": "osaZPTl6_HWo"
      },
      "source": [
        "roc_auc_score(y_valid, new_avgs[:,1])"
      ],
      "id": "osaZPTl6_HWo",
      "execution_count": null,
      "outputs": []
    },
    {
      "cell_type": "code",
      "metadata": {
        "id": "jUOZDWkXIgyK"
      },
      "source": [
        "def fit_with(lr:float, wd:float, dp:float):\n",
        "    # create a Learner\n",
        "    config = tabular_config(embed_p=dp, ps=wd)\n",
        "    learn = tabular_learner(data, layers=[200,100], metrics=roc_auc_binary, config=config)\n",
        "\n",
        "    # Train for x epochs\n",
        "    with learn.no_bar():\n",
        "      learn.fit_one_cycle(3, lr)\n",
        "\n",
        "    # Save, print, and return the overall accuracy\n",
        "    preds, targs = learn.get_preds()\n",
        "    auc_score = roc_auc_score(to_np(targs), to_np(preds[:,1]))\n",
        "\n",
        "    return auc_score"
      ],
      "id": "jUOZDWkXIgyK",
      "execution_count": null,
      "outputs": []
    },
    {
      "cell_type": "code",
      "metadata": {
        "id": "6KrPL2qSJ0ua"
      },
      "source": [
        "def fit_with(lr:float, wd:float, dp:float, n_layers:float, layer_1:float, layer_2:float, layer_3:float):\n",
        "\n",
        "    print(lr, wd, dp)\n",
        "    if round(n_layers) == 2:\n",
        "        layers = [round(layer_1), round(layer_2)]\n",
        "    elif int(n_layers) == 3:\n",
        "        layers = [round(layer_1), round(layer_2), round(layer_3)]\n",
        "    else:\n",
        "        layers = [round(layer_1)]\n",
        "    config = tabular_config(embed_p=float(dp),\n",
        "                          ps=float(wd))\n",
        "    learn = tabular_learner(dls, layers=layers, metrics=roc_auc_binary, config = config)\n",
        "\n",
        "    with learn.no_bar() and learn.no_logging():\n",
        "        learn.fit(5, lr=float(lr))\n",
        "\n",
        "    preds, targs = learn.get_preds()\n",
        "    auc_score = roc_auc_score(to_np(targs), to_np(preds[:,1]))\n",
        "\n",
        "    return auc_score"
      ],
      "id": "6KrPL2qSJ0ua",
      "execution_count": null,
      "outputs": []
    },
    {
      "cell_type": "code",
      "metadata": {
        "id": "huSEkHQAJ1sI"
      },
      "source": [
        "hps = {'lr': (1e-05, 1e-01),\n",
        "      'wd': (4e-4, 0.4),\n",
        "      'dp': (0.01, 0.5),\n",
        "       'n_layers': (1,3),\n",
        "       'layer_1': (50, 200),\n",
        "       'layer_2': (100, 1000),\n",
        "       'layer_3': (200, 2000)}\n"
      ],
      "id": "huSEkHQAJ1sI",
      "execution_count": null,
      "outputs": []
    },
    {
      "cell_type": "code",
      "metadata": {
        "id": "NCIRc5gzJ4LP"
      },
      "source": [
        "optim = BayesianOptimization(\n",
        "    f = fit_with, # our fit function\n",
        "    pbounds = hps, # our hyper parameters to tune\n",
        "    verbose = 2, # 1 prints out when a maximum is observed, 0 for silent, 2 prints out everything\n",
        "    random_state=1\n",
        ")"
      ],
      "id": "NCIRc5gzJ4LP",
      "execution_count": null,
      "outputs": []
    },
    {
      "cell_type": "code",
      "metadata": {
        "colab": {
          "base_uri": "https://localhost:8080/",
          "height": 638
        },
        "id": "c7uC_tHaJ7cO",
        "outputId": "46bbd09f-0a52-4465-caf9-4d351d1793ee"
      },
      "source": [
        "%time optim.maximize(n_iter=10)\n"
      ],
      "id": "c7uC_tHaJ7cO",
      "execution_count": null,
      "outputs": [
        {
          "output_type": "stream",
          "text": [
            "|   iter    |  target   |    dp     |  layer_1  |  layer_2  |  layer_3  |    lr     | n_layers  |    wd     |\n",
            "-------------------------------------------------------------------------------------------------------------\n",
            "0.014684121522803134 0.07482958046651729 0.21434078230426126\n"
          ],
          "name": "stdout"
        },
        {
          "output_type": "display_data",
          "data": {
            "text/html": [
              ""
            ],
            "text/plain": [
              "<IPython.core.display.HTML object>"
            ]
          },
          "metadata": {
            "tags": []
          }
        },
        {
          "output_type": "display_data",
          "data": {
            "text/html": [
              ""
            ],
            "text/plain": [
              "<IPython.core.display.HTML object>"
            ]
          },
          "metadata": {
            "tags": []
          }
        },
        {
          "output_type": "stream",
          "text": [
            "| \u001b[0m 1       \u001b[0m | \u001b[0m 0.9608  \u001b[0m | \u001b[0m 0.2143  \u001b[0m | \u001b[0m 158.0   \u001b[0m | \u001b[0m 100.1   \u001b[0m | \u001b[0m 744.2   \u001b[0m | \u001b[0m 0.01468 \u001b[0m | \u001b[0m 1.185   \u001b[0m | \u001b[0m 0.07483 \u001b[0m |\n",
            "0.06852509784467198 0.3512957275818218 0.1793247562510934\n"
          ],
          "name": "stdout"
        },
        {
          "output_type": "display_data",
          "data": {
            "text/html": [
              ""
            ],
            "text/plain": [
              "<IPython.core.display.HTML object>"
            ]
          },
          "metadata": {
            "tags": []
          }
        },
        {
          "output_type": "display_data",
          "data": {
            "text/html": [
              ""
            ],
            "text/plain": [
              "<IPython.core.display.HTML object>"
            ]
          },
          "metadata": {
            "tags": []
          }
        },
        {
          "output_type": "stream",
          "text": [
            "| \u001b[0m 2       \u001b[0m | \u001b[0m 0.9601  \u001b[0m | \u001b[0m 0.1793  \u001b[0m | \u001b[0m 109.5   \u001b[0m | \u001b[0m 584.9   \u001b[0m | \u001b[0m 954.6   \u001b[0m | \u001b[0m 0.06853 \u001b[0m | \u001b[0m 1.409   \u001b[0m | \u001b[0m 0.3513  \u001b[0m |\n",
            "0.014047289990137426 0.32037752964274446 0.02341992066698382\n"
          ],
          "name": "stdout"
        },
        {
          "output_type": "display_data",
          "data": {
            "text/html": [
              ""
            ],
            "text/plain": [
              "<IPython.core.display.HTML object>"
            ]
          },
          "metadata": {
            "tags": []
          }
        },
        {
          "output_type": "display_data",
          "data": {
            "text/html": [
              ""
            ],
            "text/plain": [
              "<IPython.core.display.HTML object>"
            ]
          },
          "metadata": {
            "tags": []
          }
        },
        {
          "output_type": "stream",
          "text": [
            "| \u001b[95m 3       \u001b[0m | \u001b[95m 0.9613  \u001b[0m | \u001b[95m 0.02342 \u001b[0m | \u001b[95m 150.6   \u001b[0m | \u001b[95m 475.6   \u001b[0m | \u001b[95m 1.206e+0\u001b[0m | \u001b[95m 0.01405 \u001b[0m | \u001b[95m 1.396   \u001b[0m | \u001b[95m 0.3204  \u001b[0m |\n",
            "0.0894617202837497 0.016006291379859792 0.4844481721025048\n"
          ],
          "name": "stdout"
        },
        {
          "output_type": "display_data",
          "data": {
            "text/html": [
              ""
            ],
            "text/plain": [
              "<IPython.core.display.HTML object>"
            ]
          },
          "metadata": {
            "tags": []
          }
        },
        {
          "output_type": "display_data",
          "data": {
            "text/html": [
              ""
            ],
            "text/plain": [
              "<IPython.core.display.HTML object>"
            ]
          },
          "metadata": {
            "tags": []
          }
        },
        {
          "output_type": "stream",
          "text": [
            "| \u001b[0m 4       \u001b[0m | \u001b[0m 0.9588  \u001b[0m | \u001b[0m 0.4844  \u001b[0m | \u001b[0m 97.01   \u001b[0m | \u001b[0m 723.1   \u001b[0m | \u001b[0m 1.778e+0\u001b[0m | \u001b[0m 0.08946 \u001b[0m | \u001b[0m 1.17    \u001b[0m | \u001b[0m 0.01601 \u001b[0m |\n",
            "0.0957893741197487 0.27687409473460917 0.09321690558663875\n"
          ],
          "name": "stdout"
        },
        {
          "output_type": "display_data",
          "data": {
            "text/html": [
              ""
            ],
            "text/plain": [
              "<IPython.core.display.HTML object>"
            ]
          },
          "metadata": {
            "tags": []
          }
        },
        {
          "output_type": "display_data",
          "data": {
            "text/html": [
              ""
            ],
            "text/plain": [
              "<IPython.core.display.HTML object>"
            ]
          },
          "metadata": {
            "tags": []
          }
        },
        {
          "output_type": "stream",
          "text": [
            "| \u001b[0m 5       \u001b[0m | \u001b[0m 0.9585  \u001b[0m | \u001b[0m 0.09322 \u001b[0m | \u001b[0m 181.7   \u001b[0m | \u001b[0m 188.5   \u001b[0m | \u001b[0m 958.0   \u001b[0m | \u001b[0m 0.09579 \u001b[0m | \u001b[0m 2.066   \u001b[0m | \u001b[0m 0.2769  \u001b[0m |\n",
            "0.010278165724320144 0.09525641811550664 0.039180893394315415\n"
          ],
          "name": "stdout"
        },
        {
          "output_type": "display_data",
          "data": {
            "text/html": [
              ""
            ],
            "text/plain": [
              "<IPython.core.display.HTML object>"
            ]
          },
          "metadata": {
            "tags": []
          }
        },
        {
          "output_type": "display_data",
          "data": {
            "text/html": [
              ""
            ],
            "text/plain": [
              "<IPython.core.display.HTML object>"
            ]
          },
          "metadata": {
            "tags": []
          }
        },
        {
          "output_type": "stream",
          "text": [
            "| \u001b[0m 6       \u001b[0m | \u001b[0m 0.9613  \u001b[0m | \u001b[0m 0.03918 \u001b[0m | \u001b[0m 169.8   \u001b[0m | \u001b[0m 995.0   \u001b[0m | \u001b[0m 206.4   \u001b[0m | \u001b[0m 0.01028 \u001b[0m | \u001b[0m 1.351   \u001b[0m | \u001b[0m 0.09526 \u001b[0m |\n",
            "0.07156047620301159 0.271888626159136 0.3620644418259379\n"
          ],
          "name": "stdout"
        },
        {
          "output_type": "display_data",
          "data": {
            "text/html": [
              ""
            ],
            "text/plain": [
              "<IPython.core.display.HTML object>"
            ]
          },
          "metadata": {
            "tags": []
          }
        },
        {
          "output_type": "display_data",
          "data": {
            "text/html": [
              ""
            ],
            "text/plain": [
              "<IPython.core.display.HTML object>"
            ]
          },
          "metadata": {
            "tags": []
          }
        },
        {
          "output_type": "stream",
          "text": [
            "| \u001b[0m 7       \u001b[0m | \u001b[0m 0.9599  \u001b[0m | \u001b[0m 0.3621  \u001b[0m | \u001b[0m 50.52   \u001b[0m | \u001b[0m 104.8   \u001b[0m | \u001b[0m 244.5   \u001b[0m | \u001b[0m 0.07156 \u001b[0m | \u001b[0m 1.178   \u001b[0m | \u001b[0m 0.2719  \u001b[0m |\n",
            "0.057910440131609765 0.16129406478624328 0.4828208474809104\n"
          ],
          "name": "stdout"
        },
        {
          "output_type": "display_data",
          "data": {
            "text/html": [
              ""
            ],
            "text/plain": [
              "<IPython.core.display.HTML object>"
            ]
          },
          "metadata": {
            "tags": []
          }
        },
        {
          "output_type": "display_data",
          "data": {
            "text/html": [
              ""
            ],
            "text/plain": [
              "<IPython.core.display.HTML object>"
            ]
          },
          "metadata": {
            "tags": []
          }
        },
        {
          "output_type": "stream",
          "text": [
            "| \u001b[0m 8       \u001b[0m | \u001b[0m 0.9594  \u001b[0m | \u001b[0m 0.4828  \u001b[0m | \u001b[0m 59.94   \u001b[0m | \u001b[0m 147.0   \u001b[0m | \u001b[0m 1.301e+0\u001b[0m | \u001b[0m 0.05791 \u001b[0m | \u001b[0m 2.722   \u001b[0m | \u001b[0m 0.1613  \u001b[0m |\n",
            "0.006202846991855513 0.20951993783429584 0.23067583083804316\n"
          ],
          "name": "stdout"
        },
        {
          "output_type": "display_data",
          "data": {
            "text/html": [
              ""
            ],
            "text/plain": [
              "<IPython.core.display.HTML object>"
            ]
          },
          "metadata": {
            "tags": []
          }
        },
        {
          "output_type": "display_data",
          "data": {
            "text/html": [
              ""
            ],
            "text/plain": [
              "<IPython.core.display.HTML object>"
            ]
          },
          "metadata": {
            "tags": []
          }
        },
        {
          "output_type": "stream",
          "text": [
            "| \u001b[95m 9       \u001b[0m | \u001b[95m 0.9614  \u001b[0m | \u001b[95m 0.2307  \u001b[0m | \u001b[95m 51.68   \u001b[0m | \u001b[95m 999.4   \u001b[0m | \u001b[95m 298.9   \u001b[0m | \u001b[95m 0.006203\u001b[0m | \u001b[95m 2.818   \u001b[0m | \u001b[95m 0.2095  \u001b[0m |\n",
            "0.09663960277874367 0.19310815961031857 0.10464053755988437\n"
          ],
          "name": "stdout"
        },
        {
          "output_type": "display_data",
          "data": {
            "text/html": [
              ""
            ],
            "text/plain": [
              "<IPython.core.display.HTML object>"
            ]
          },
          "metadata": {
            "tags": []
          }
        },
        {
          "output_type": "display_data",
          "data": {
            "text/html": [
              ""
            ],
            "text/plain": [
              "<IPython.core.display.HTML object>"
            ]
          },
          "metadata": {
            "tags": []
          }
        },
        {
          "output_type": "stream",
          "text": [
            "| \u001b[0m 10      \u001b[0m | \u001b[0m 0.9591  \u001b[0m | \u001b[0m 0.1046  \u001b[0m | \u001b[0m 198.2   \u001b[0m | \u001b[0m 974.5   \u001b[0m | \u001b[0m 287.6   \u001b[0m | \u001b[0m 0.09664 \u001b[0m | \u001b[0m 2.518   \u001b[0m | \u001b[0m 0.1931  \u001b[0m |\n",
            "0.05567850413856046 0.11500114401999546 0.337315027333027\n"
          ],
          "name": "stdout"
        },
        {
          "output_type": "display_data",
          "data": {
            "text/html": [
              ""
            ],
            "text/plain": [
              "<IPython.core.display.HTML object>"
            ]
          },
          "metadata": {
            "tags": []
          }
        },
        {
          "output_type": "display_data",
          "data": {
            "text/html": [
              ""
            ],
            "text/plain": [
              "<IPython.core.display.HTML object>"
            ]
          },
          "metadata": {
            "tags": []
          }
        },
        {
          "output_type": "stream",
          "text": [
            "| \u001b[0m 11      \u001b[0m | \u001b[0m 0.9605  \u001b[0m | \u001b[0m 0.3373  \u001b[0m | \u001b[0m 50.13   \u001b[0m | \u001b[0m 982.2   \u001b[0m | \u001b[0m 273.1   \u001b[0m | \u001b[0m 0.05568 \u001b[0m | \u001b[0m 1.499   \u001b[0m | \u001b[0m 0.115   \u001b[0m |\n",
            "0.040480764337085445 0.27855633955692755 0.10969012081110371\n"
          ],
          "name": "stdout"
        },
        {
          "output_type": "display_data",
          "data": {
            "text/html": [
              ""
            ],
            "text/plain": [
              "<IPython.core.display.HTML object>"
            ]
          },
          "metadata": {
            "tags": []
          }
        },
        {
          "output_type": "display_data",
          "data": {
            "text/html": [
              ""
            ],
            "text/plain": [
              "<IPython.core.display.HTML object>"
            ]
          },
          "metadata": {
            "tags": []
          }
        },
        {
          "output_type": "stream",
          "text": [
            "| \u001b[0m 12      \u001b[0m | \u001b[0m 0.9611  \u001b[0m | \u001b[0m 0.1097  \u001b[0m | \u001b[0m 52.69   \u001b[0m | \u001b[0m 111.7   \u001b[0m | \u001b[0m 227.7   \u001b[0m | \u001b[0m 0.04048 \u001b[0m | \u001b[0m 2.613   \u001b[0m | \u001b[0m 0.2786  \u001b[0m |\n",
            "0.024931800970252754 0.31830035248339184 0.17955017534933007\n"
          ],
          "name": "stdout"
        },
        {
          "output_type": "display_data",
          "data": {
            "text/html": [
              ""
            ],
            "text/plain": [
              "<IPython.core.display.HTML object>"
            ]
          },
          "metadata": {
            "tags": []
          }
        },
        {
          "output_type": "display_data",
          "data": {
            "text/html": [
              ""
            ],
            "text/plain": [
              "<IPython.core.display.HTML object>"
            ]
          },
          "metadata": {
            "tags": []
          }
        },
        {
          "output_type": "stream",
          "text": [
            "| \u001b[95m 13      \u001b[0m | \u001b[95m 0.9617  \u001b[0m | \u001b[95m 0.1796  \u001b[0m | \u001b[95m 57.87   \u001b[0m | \u001b[95m 998.9   \u001b[0m | \u001b[95m 226.1   \u001b[0m | \u001b[95m 0.02493 \u001b[0m | \u001b[95m 1.227   \u001b[0m | \u001b[95m 0.3183  \u001b[0m |\n",
            "0.0018196385691470996 0.04155229095922732 0.26707532761830727\n"
          ],
          "name": "stdout"
        },
        {
          "output_type": "display_data",
          "data": {
            "text/html": [
              ""
            ],
            "text/plain": [
              "<IPython.core.display.HTML object>"
            ]
          },
          "metadata": {
            "tags": []
          }
        },
        {
          "output_type": "display_data",
          "data": {
            "text/html": [
              ""
            ],
            "text/plain": [
              "<IPython.core.display.HTML object>"
            ]
          },
          "metadata": {
            "tags": []
          }
        },
        {
          "output_type": "stream",
          "text": [
            "| \u001b[0m 14      \u001b[0m | \u001b[0m 0.9578  \u001b[0m | \u001b[0m 0.2671  \u001b[0m | \u001b[0m 169.2   \u001b[0m | \u001b[0m 116.2   \u001b[0m | \u001b[0m 748.3   \u001b[0m | \u001b[0m 0.00182 \u001b[0m | \u001b[0m 1.738   \u001b[0m | \u001b[0m 0.04155 \u001b[0m |\n",
            "0.030785447033720915 0.32171253797353205 0.20217266704192563\n"
          ],
          "name": "stdout"
        },
        {
          "output_type": "display_data",
          "data": {
            "text/html": [
              ""
            ],
            "text/plain": [
              "<IPython.core.display.HTML object>"
            ]
          },
          "metadata": {
            "tags": []
          }
        },
        {
          "output_type": "display_data",
          "data": {
            "text/html": [
              ""
            ],
            "text/plain": [
              "<IPython.core.display.HTML object>"
            ]
          },
          "metadata": {
            "tags": []
          }
        },
        {
          "output_type": "stream",
          "text": [
            "| \u001b[95m 15      \u001b[0m | \u001b[95m 0.9624  \u001b[0m | \u001b[95m 0.2022  \u001b[0m | \u001b[95m 50.92   \u001b[0m | \u001b[95m 999.4   \u001b[0m | \u001b[95m 1.953e+0\u001b[0m | \u001b[95m 0.03079 \u001b[0m | \u001b[95m 2.562   \u001b[0m | \u001b[95m 0.3217  \u001b[0m |\n",
            "=============================================================================================================\n",
            "CPU times: user 8min, sys: 8.8 s, total: 8min 8s\n",
            "Wall time: 7min 59s\n"
          ],
          "name": "stdout"
        }
      ]
    },
    {
      "cell_type": "code",
      "metadata": {
        "colab": {
          "base_uri": "https://localhost:8080/"
        },
        "id": "OR3hKOZWLuaH",
        "outputId": "d0623757-9b88-4991-87b6-a7c650b50fd9"
      },
      "source": [
        "print(optim.max)\n"
      ],
      "id": "OR3hKOZWLuaH",
      "execution_count": null,
      "outputs": [
        {
          "output_type": "stream",
          "text": [
            "{'target': 0.9624438417298263, 'params': {'dp': 0.20217266704192563, 'layer_1': 50.915511579949985, 'layer_2': 999.398009186519, 'layer_3': 1953.2553516382989, 'lr': 0.030785447033720915, 'n_layers': 2.5623176573392747, 'wd': 0.32171253797353205}}\n"
          ],
          "name": "stdout"
        }
      ]
    },
    {
      "cell_type": "code",
      "metadata": {
        "id": "-2O4HQMkC1Eu"
      },
      "source": [
        "random_seed = 42 \n",
        "bs = 4096\n",
        "val_bs = 512\n",
        "test_size = 0.3\n",
        "epochs = 5\n",
        "lr = 0.03\n",
        "wd=0.32\n",
        "layers = [50,1000] #200,150\n",
        "dropout = [0.001, 0.01]\n",
        "y_block=CategoryBlock()\n",
        "emb_dropout=0.2 #0.13\n",
        "set_seed(42)\n",
        "roc_auc_binary = RocAucBinary()"
      ],
      "id": "-2O4HQMkC1Eu",
      "execution_count": null,
      "outputs": []
    },
    {
      "cell_type": "code",
      "metadata": {
        "id": "XvAt3_12DClP"
      },
      "source": [
        "dls = to.dataloaders(bs=bs, val_bs=val_bs, layers=layers, embed_ps=emb_dropout, ps=dropout)"
      ],
      "id": "XvAt3_12DClP",
      "execution_count": null,
      "outputs": []
    },
    {
      "cell_type": "code",
      "metadata": {
        "id": "6VsnBdHLFyOS"
      },
      "source": [
        "learn = tabular_learner(dls, metrics=roc_auc_binary)"
      ],
      "id": "6VsnBdHLFyOS",
      "execution_count": null,
      "outputs": []
    },
    {
      "cell_type": "code",
      "metadata": {
        "colab": {
          "base_uri": "https://localhost:8080/",
          "height": 232
        },
        "id": "X-rOPBOCE5eh",
        "outputId": "acf1b668-c7e6-4a8a-ec61-a28be0a68cff"
      },
      "source": [
        "learn.fit_one_cycle(6,lr, wd=wd)"
      ],
      "id": "X-rOPBOCE5eh",
      "execution_count": null,
      "outputs": [
        {
          "output_type": "display_data",
          "data": {
            "text/html": [
              "<table border=\"1\" class=\"dataframe\">\n",
              "  <thead>\n",
              "    <tr style=\"text-align: left;\">\n",
              "      <th>epoch</th>\n",
              "      <th>train_loss</th>\n",
              "      <th>valid_loss</th>\n",
              "      <th>roc_auc_score</th>\n",
              "      <th>time</th>\n",
              "    </tr>\n",
              "  </thead>\n",
              "  <tbody>\n",
              "    <tr>\n",
              "      <td>0</td>\n",
              "      <td>0.392296</td>\n",
              "      <td>0.325515</td>\n",
              "      <td>0.945146</td>\n",
              "      <td>00:06</td>\n",
              "    </tr>\n",
              "    <tr>\n",
              "      <td>1</td>\n",
              "      <td>0.246470</td>\n",
              "      <td>0.194126</td>\n",
              "      <td>0.958200</td>\n",
              "      <td>00:06</td>\n",
              "    </tr>\n",
              "    <tr>\n",
              "      <td>2</td>\n",
              "      <td>0.203963</td>\n",
              "      <td>0.180147</td>\n",
              "      <td>0.961087</td>\n",
              "      <td>00:06</td>\n",
              "    </tr>\n",
              "    <tr>\n",
              "      <td>3</td>\n",
              "      <td>0.186513</td>\n",
              "      <td>0.175663</td>\n",
              "      <td>0.962731</td>\n",
              "      <td>00:06</td>\n",
              "    </tr>\n",
              "    <tr>\n",
              "      <td>4</td>\n",
              "      <td>0.175072</td>\n",
              "      <td>0.173880</td>\n",
              "      <td>0.963781</td>\n",
              "      <td>00:06</td>\n",
              "    </tr>\n",
              "    <tr>\n",
              "      <td>5</td>\n",
              "      <td>0.164922</td>\n",
              "      <td>0.174286</td>\n",
              "      <td>0.963852</td>\n",
              "      <td>00:05</td>\n",
              "    </tr>\n",
              "  </tbody>\n",
              "</table>"
            ],
            "text/plain": [
              "<IPython.core.display.HTML object>"
            ]
          },
          "metadata": {
            "tags": []
          }
        }
      ]
    },
    {
      "cell_type": "code",
      "metadata": {
        "colab": {
          "base_uri": "https://localhost:8080/",
          "height": 16
        },
        "id": "9GdRyXDELglw",
        "outputId": "37b81fe0-2079-449e-a278-d5f6aec8e633"
      },
      "source": [
        "preds, targs = learn.get_preds()"
      ],
      "id": "9GdRyXDELglw",
      "execution_count": null,
      "outputs": [
        {
          "output_type": "display_data",
          "data": {
            "text/html": [
              ""
            ],
            "text/plain": [
              "<IPython.core.display.HTML object>"
            ]
          },
          "metadata": {
            "tags": []
          }
        }
      ]
    },
    {
      "cell_type": "code",
      "metadata": {
        "id": "iWQlqj--Nsx9",
        "colab": {
          "base_uri": "https://localhost:8080/"
        },
        "outputId": "e44a799e-5fdc-4770-a5bb-503ea9cb4438"
      },
      "source": [
        "dl_opt_roc_au_score = roc_auc_score(to_np(targs), to_np(preds[:,1]))\n",
        "dl_roc_auc_score, dl_opt_roc_au_score\n"
      ],
      "id": "iWQlqj--Nsx9",
      "execution_count": null,
      "outputs": [
        {
          "output_type": "execute_result",
          "data": {
            "text/plain": [
              "(0.9627875189173991, 0.9638516793393644)"
            ]
          },
          "metadata": {
            "tags": []
          },
          "execution_count": 203
        }
      ]
    },
    {
      "cell_type": "code",
      "metadata": {
        "colab": {
          "base_uri": "https://localhost:8080/",
          "height": 1000
        },
        "id": "x5GgGVmAzxkS",
        "outputId": "cd908dfd-c5ba-4750-9382-d6329eb0aef6"
      },
      "source": [
        "learn.summary()\n"
      ],
      "id": "x5GgGVmAzxkS",
      "execution_count": null,
      "outputs": [
        {
          "output_type": "display_data",
          "data": {
            "text/html": [
              ""
            ],
            "text/plain": [
              "<IPython.core.display.HTML object>"
            ]
          },
          "metadata": {
            "tags": []
          }
        },
        {
          "output_type": "execute_result",
          "data": {
            "application/vnd.google.colaboratory.intrinsic+json": {
              "type": "string"
            },
            "text/plain": [
              "TabularModel (Input shape: 4096 x torch.Size([4096, 155]))\n",
              "============================================================================\n",
              "Layer (type)         Output Shape         Param #    Trainable \n",
              "============================================================================\n",
              "                     4096 x 5            \n",
              "Embedding                                 45         True      \n",
              "Embedding                                 45         True      \n",
              "____________________________________________________________________________\n",
              "                     4096 x 3            \n",
              "Embedding                                 9          True      \n",
              "Embedding                                 12         True      \n",
              "____________________________________________________________________________\n",
              "                     4096 x 4            \n",
              "Embedding                                 20         True      \n",
              "____________________________________________________________________________\n",
              "                     4096 x 3            \n",
              "Embedding                                 12         True      \n",
              "____________________________________________________________________________\n",
              "                     4096 x 4            \n",
              "Embedding                                 20         True      \n",
              "____________________________________________________________________________\n",
              "                     4096 x 5            \n",
              "Embedding                                 40         True      \n",
              "____________________________________________________________________________\n",
              "                     4096 x 7            \n",
              "Embedding                                 91         True      \n",
              "____________________________________________________________________________\n",
              "                     4096 x 3            \n",
              "Embedding                                 9          True      \n",
              "____________________________________________________________________________\n",
              "                     4096 x 4            \n",
              "Embedding                                 24         True      \n",
              "Embedding                                 24         True      \n",
              "____________________________________________________________________________\n",
              "                     4096 x 5            \n",
              "Embedding                                 40         True      \n",
              "____________________________________________________________________________\n",
              "                     4096 x 3            \n",
              "Embedding                                 9          True      \n",
              "____________________________________________________________________________\n",
              "                     4096 x 8            \n",
              "Embedding                                 144        True      \n",
              "Embedding                                 152        True      \n",
              "____________________________________________________________________________\n",
              "                     4096 x 5            \n",
              "Embedding                                 45         True      \n",
              "____________________________________________________________________________\n",
              "                     4096 x 6            \n",
              "Embedding                                 66         True      \n",
              "Embedding                                 72         True      \n",
              "____________________________________________________________________________\n",
              "                     4096 x 3            \n",
              "Embedding                                 9          True      \n",
              "Embedding                                 9          True      \n",
              "____________________________________________________________________________\n",
              "                     4096 x 6            \n",
              "Embedding                                 60         True      \n",
              "____________________________________________________________________________\n",
              "                     4096 x 3            \n",
              "Embedding                                 9          True      \n",
              "Embedding                                 9          True      \n",
              "Embedding                                 12         True      \n",
              "Embedding                                 12         True      \n",
              "____________________________________________________________________________\n",
              "                     4096 x 4            \n",
              "Embedding                                 24         True      \n",
              "Embedding                                 24         True      \n",
              "Embedding                                 20         True      \n",
              "____________________________________________________________________________\n",
              "                     4096 x 14           \n",
              "Embedding                                 714        True      \n",
              "____________________________________________________________________________\n",
              "                     4096 x 17           \n",
              "Embedding                                 1139       True      \n",
              "____________________________________________________________________________\n",
              "                     4096 x 16           \n",
              "Embedding                                 992        True      \n",
              "Embedding                                 928        True      \n",
              "____________________________________________________________________________\n",
              "                     4096 x 5            \n",
              "Embedding                                 40         True      \n",
              "____________________________________________________________________________\n",
              "                     4096 x 7            \n",
              "Embedding                                 91         True      \n",
              "Embedding                                 91         True      \n",
              "Embedding                                 91         True      \n",
              "Embedding                                 98         True      \n",
              "____________________________________________________________________________\n",
              "                     4096 x 8            \n",
              "Embedding                                 136        True      \n",
              "____________________________________________________________________________\n",
              "                     4096 x 5            \n",
              "Embedding                                 40         True      \n",
              "Embedding                                 40         True      \n",
              "____________________________________________________________________________\n",
              "                     4096 x 6            \n",
              "Embedding                                 66         True      \n",
              "Embedding                                 72         True      \n",
              "Embedding                                 72         True      \n",
              "Embedding                                 72         True      \n",
              "____________________________________________________________________________\n",
              "                     4096 x 4            \n",
              "Embedding                                 24         True      \n",
              "Embedding                                 20         True      \n",
              "Embedding                                 24         True      \n",
              "Embedding                                 24         True      \n",
              "Embedding                                 24         True      \n",
              "____________________________________________________________________________\n",
              "                     4096 x 6            \n",
              "Embedding                                 60         True      \n",
              "Embedding                                 60         True      \n",
              "Embedding                                 60         True      \n",
              "Embedding                                 60         True      \n",
              "____________________________________________________________________________\n",
              "                     4096 x 5            \n",
              "Embedding                                 40         True      \n",
              "____________________________________________________________________________\n",
              "                     4096 x 6            \n",
              "Embedding                                 66         True      \n",
              "Embedding                                 72         True      \n",
              "Embedding                                 72         True      \n",
              "Embedding                                 72         True      \n",
              "____________________________________________________________________________\n",
              "                     4096 x 5            \n",
              "Embedding                                 40         True      \n",
              "Embedding                                 40         True      \n",
              "Embedding                                 40         True      \n",
              "Embedding                                 40         True      \n",
              "Embedding                                 40         True      \n",
              "Embedding                                 40         True      \n",
              "____________________________________________________________________________\n",
              "                     4096 x 6            \n",
              "Embedding                                 72         True      \n",
              "Embedding                                 72         True      \n",
              "Embedding                                 72         True      \n",
              "____________________________________________________________________________\n",
              "                     4096 x 7            \n",
              "Embedding                                 91         True      \n",
              "____________________________________________________________________________\n",
              "                     4096 x 5            \n",
              "Embedding                                 40         True      \n",
              "Embedding                                 40         True      \n",
              "Embedding                                 40         True      \n",
              "Embedding                                 40         True      \n",
              "Embedding                                 40         True      \n",
              "Embedding                                 40         True      \n",
              "____________________________________________________________________________\n",
              "                     4096 x 3            \n",
              "Embedding                                 12         True      \n",
              "Embedding                                 12         True      \n",
              "Embedding                                 12         True      \n",
              "Embedding                                 12         True      \n",
              "____________________________________________________________________________\n",
              "                     4096 x 4            \n",
              "Embedding                                 20         True      \n",
              "Embedding                                 24         True      \n",
              "____________________________________________________________________________\n",
              "                     4096 x 5            \n",
              "Embedding                                 35         True      \n",
              "Embedding                                 35         True      \n",
              "Embedding                                 35         True      \n",
              "Embedding                                 35         True      \n",
              "Embedding                                 45         True      \n",
              "____________________________________________________________________________\n",
              "                     4096 x 6            \n",
              "Embedding                                 60         True      \n",
              "Embedding                                 66         True      \n",
              "Embedding                                 72         True      \n",
              "____________________________________________________________________________\n",
              "                     4096 x 5            \n",
              "Embedding                                 40         True      \n",
              "____________________________________________________________________________\n",
              "                     4096 x 7            \n",
              "Embedding                                 91         True      \n",
              "Embedding                                 91         True      \n",
              "Embedding                                 91         True      \n",
              "Embedding                                 105        True      \n",
              "____________________________________________________________________________\n",
              "                     4096 x 5            \n",
              "Embedding                                 40         True      \n",
              "____________________________________________________________________________\n",
              "                     4096 x 3            \n",
              "Embedding                                 9          True      \n",
              "Embedding                                 9          True      \n",
              "Embedding                                 9          True      \n",
              "Embedding                                 9          True      \n",
              "____________________________________________________________________________\n",
              "                     4096 x 2            \n",
              "Embedding                                 4          True      \n",
              "____________________________________________________________________________\n",
              "                     4096 x 9            \n",
              "Embedding                                 180        True      \n",
              "____________________________________________________________________________\n",
              "                     4096 x 3            \n",
              "Embedding                                 9          True      \n",
              "Embedding                                 12         True      \n",
              "____________________________________________________________________________\n",
              "                     4096 x 4            \n",
              "Embedding                                 24         True      \n",
              "____________________________________________________________________________\n",
              "                     4096 x 3            \n",
              "Embedding                                 9          True      \n",
              "____________________________________________________________________________\n",
              "                     4096 x 4            \n",
              "Embedding                                 24         True      \n",
              "____________________________________________________________________________\n",
              "                     4096 x 5            \n",
              "Embedding                                 40         True      \n",
              "____________________________________________________________________________\n",
              "                     4096 x 4            \n",
              "Embedding                                 20         True      \n",
              "Embedding                                 20         True      \n",
              "____________________________________________________________________________\n",
              "                     4096 x 7            \n",
              "Embedding                                 98         True      \n",
              "____________________________________________________________________________\n",
              "                     4096 x 5            \n",
              "Embedding                                 40         True      \n",
              "____________________________________________________________________________\n",
              "                     4096 x 6            \n",
              "Embedding                                 66         True      \n",
              "Embedding                                 66         True      \n",
              "____________________________________________________________________________\n",
              "                     4096 x 3            \n",
              "Embedding                                 12         True      \n",
              "____________________________________________________________________________\n",
              "                     4096 x 4            \n",
              "Embedding                                 24         True      \n",
              "____________________________________________________________________________\n",
              "                     4096 x 7            \n",
              "Embedding                                 98         True      \n",
              "____________________________________________________________________________\n",
              "                     4096 x 8            \n",
              "Embedding                                 144        True      \n",
              "____________________________________________________________________________\n",
              "                     4096 x 4            \n",
              "Embedding                                 20         True      \n",
              "____________________________________________________________________________\n",
              "                     4096 x 3            \n",
              "Embedding                                 9          True      \n",
              "____________________________________________________________________________\n",
              "                     4096 x 4            \n",
              "Embedding                                 20         True      \n",
              "____________________________________________________________________________\n",
              "                     4096 x 3            \n",
              "Embedding                                 9          True      \n",
              "____________________________________________________________________________\n",
              "                     4096 x 4            \n",
              "Embedding                                 20         True      \n",
              "____________________________________________________________________________\n",
              "                     4096 x 3            \n",
              "Embedding                                 9          True      \n",
              "Embedding                                 12         True      \n",
              "Embedding                                 9          True      \n",
              "Embedding                                 9          True      \n",
              "Embedding                                 9          True      \n",
              "Embedding                                 9          True      \n",
              "____________________________________________________________________________\n",
              "                     4096 x 7            \n",
              "Embedding                                 105        True      \n",
              "____________________________________________________________________________\n",
              "                     4096 x 2            \n",
              "Embedding                                 4          True      \n",
              "____________________________________________________________________________\n",
              "                     4096 x 3            \n",
              "Embedding                                 9          True      \n",
              "Embedding                                 9          True      \n",
              "____________________________________________________________________________\n",
              "                     4096 x 9            \n",
              "Embedding                                 189        True      \n",
              "____________________________________________________________________________\n",
              "                     4096 x 3            \n",
              "Embedding                                 9          True      \n",
              "Embedding                                 9          True      \n",
              "Embedding                                 9          True      \n",
              "____________________________________________________________________________\n",
              "                     4096 x 7            \n",
              "Embedding                                 91         True      \n",
              "____________________________________________________________________________\n",
              "                     4096 x 3            \n",
              "Embedding                                 9          True      \n",
              "Embedding                                 9          True      \n",
              "Embedding                                 9          True      \n",
              "Embedding                                 9          True      \n",
              "Embedding                                 9          True      \n",
              "____________________________________________________________________________\n",
              "                     4096 x 9            \n",
              "Embedding                                 180        True      \n",
              "____________________________________________________________________________\n",
              "                     4096 x 3            \n",
              "Embedding                                 12         True      \n",
              "____________________________________________________________________________\n",
              "                     4096 x 4            \n",
              "Embedding                                 20         True      \n",
              "____________________________________________________________________________\n",
              "                     4096 x 3            \n",
              "Embedding                                 12         True      \n",
              "____________________________________________________________________________\n",
              "                     4096 x 7            \n",
              "Embedding                                 91         True      \n",
              "____________________________________________________________________________\n",
              "                     4096 x 5            \n",
              "Embedding                                 40         True      \n",
              "____________________________________________________________________________\n",
              "                     4096 x 3            \n",
              "Embedding                                 9          True      \n",
              "Embedding                                 9          True      \n",
              "Embedding                                 9          True      \n",
              "Embedding                                 9          True      \n",
              "Embedding                                 9          True      \n",
              "Embedding                                 9          True      \n",
              "Embedding                                 9          True      \n",
              "Embedding                                 9          True      \n",
              "Dropout                                                        \n",
              "BatchNorm1d                               310        True      \n",
              "____________________________________________________________________________\n",
              "                     4096 x 200          \n",
              "Linear                                    184800     True      \n",
              "ReLU                                                           \n",
              "BatchNorm1d                               400        True      \n",
              "____________________________________________________________________________\n",
              "                     4096 x 100          \n",
              "Linear                                    20000      True      \n",
              "ReLU                                                           \n",
              "BatchNorm1d                               200        True      \n",
              "____________________________________________________________________________\n",
              "                     4096 x 2            \n",
              "Linear                                    202        True      \n",
              "____________________________________________________________________________\n",
              "\n",
              "Total params: 216,026\n",
              "Total trainable params: 216,026\n",
              "Total non-trainable params: 0\n",
              "\n",
              "Optimizer used: <function Adam at 0x7f43604b19e0>\n",
              "Loss function: FlattenedLoss of CrossEntropyLoss()\n",
              "\n",
              "Model unfrozen\n",
              "\n",
              "Callbacks:\n",
              "  - TrainEvalCallback\n",
              "  - Recorder\n",
              "  - ProgressCallback"
            ]
          },
          "metadata": {
            "tags": []
          },
          "execution_count": 204
        }
      ]
    },
    {
      "cell_type": "markdown",
      "metadata": {
        "id": "XE6ex0Wb8VNT"
      },
      "source": [
        "## Entity Embeddings"
      ],
      "id": "XE6ex0Wb8VNT"
    },
    {
      "cell_type": "markdown",
      "metadata": {
        "id": "pFSyQCns5gCe"
      },
      "source": [
        "Function to embed features, obtained from Fastai forums\n"
      ],
      "id": "pFSyQCns5gCe"
    },
    {
      "cell_type": "code",
      "metadata": {
        "id": "YkeCKKbOBqcf"
      },
      "source": [
        "def embed_features(learner, xs):\n",
        "    xs = xs.copy()\n",
        "    for i, feature in enumerate(learner.dls.cat_names):\n",
        "        emb = learner.model.embeds[i]\n",
        "        new_feat = pd.DataFrame(emb(tensor(xs[feature], dtype=torch.int32).to('cuda:0')), index=xs.index, columns=[f'{feature}_{j}' for j in range(emb.embedding_dim)])\n",
        "        xs.drop(columns=feature, inplace=True)\n",
        "        xs = xs.join(new_feat)\n",
        "    return xs\n"
      ],
      "id": "YkeCKKbOBqcf",
      "execution_count": null,
      "outputs": []
    },
    {
      "cell_type": "code",
      "metadata": {
        "id": "1pB_MxGMDiF1"
      },
      "source": [
        "emb_xs = embed_features(learn, to.train.xs)\n"
      ],
      "id": "1pB_MxGMDiF1",
      "execution_count": null,
      "outputs": []
    },
    {
      "cell_type": "code",
      "metadata": {
        "id": "ycyZJqitEiNg"
      },
      "source": [
        "emb_valid_xs = embed_features(learn, to.valid.xs)\n"
      ],
      "id": "ycyZJqitEiNg",
      "execution_count": null,
      "outputs": []
    },
    {
      "cell_type": "code",
      "metadata": {
        "id": "YvMv_j1nNC8b"
      },
      "source": [
        "model = xgb.XGBClassifier(n_estimators = n_estimators, max_depth=max_depth, learning_rate=0.1, subsample=subsample, tree_method='gpu_hist')"
      ],
      "id": "YvMv_j1nNC8b",
      "execution_count": null,
      "outputs": []
    },
    {
      "cell_type": "code",
      "metadata": {
        "id": "bgFSqLMlMtVW"
      },
      "source": [
        "xgb_model_emb=model.fit(emb_xs, y_train)"
      ],
      "id": "bgFSqLMlMtVW",
      "execution_count": null,
      "outputs": []
    },
    {
      "cell_type": "code",
      "metadata": {
        "id": "hwzko0drNC8h"
      },
      "source": [
        "xgb_emb_preds = xgb_model_emb.predict_proba(emb_valid_xs)"
      ],
      "id": "hwzko0drNC8h",
      "execution_count": null,
      "outputs": []
    },
    {
      "cell_type": "code",
      "metadata": {
        "colab": {
          "base_uri": "https://localhost:8080/"
        },
        "id": "JadnL-5sNC8i",
        "outputId": "e8b9ae28-6d86-4492-996e-32746f8ec0b4"
      },
      "source": [
        "xg_emb_roc_auc_score=roc_auc_score(y_valid, xgb_emb_preds[:,1])\n",
        "xg_roc_auc_score, xg_emb_roc_auc_score"
      ],
      "id": "JadnL-5sNC8i",
      "execution_count": null,
      "outputs": [
        {
          "output_type": "execute_result",
          "data": {
            "text/plain": [
              "(0.9641320936530293, 0.9637175951487225)"
            ]
          },
          "metadata": {
            "tags": []
          },
          "execution_count": 223
        }
      ]
    }
  ]
}