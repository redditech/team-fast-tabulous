{
  "nbformat": 4,
  "nbformat_minor": 5,
  "metadata": {
    "accelerator": "GPU",
    "colab": {
      "name": "HomeSite Quote - A Fastai Tabular Approach.ipynb",
      "provenance": [],
      "collapsed_sections": [],
      "toc_visible": true,
      "machine_shape": "hm"
    },
    "kernelspec": {
      "display_name": "Python 3",
      "language": "python",
      "name": "python3"
    },
    "language_info": {
      "codemirror_mode": {
        "name": "ipython",
        "version": 3
      },
      "file_extension": ".py",
      "mimetype": "text/x-python",
      "name": "python",
      "nbconvert_exporter": "python",
      "pygments_lexer": "ipython3",
      "version": "3.9.5"
    }
  },
  "cells": [
    {
      "cell_type": "markdown",
      "metadata": {
        "id": "fdf913c3-50ef-44f3-b56c-54e1f3986f23"
      },
      "source": [
        "# HomeSite Quote Conversion A Fastai Tabular Approach\n",
        "> We used Fastai Tabular libary and WalkWithFastai functions to build our Deep Learning model for HomeSite Quote Conversion competition in Kaggle. The techniques used in this notebook include Permutation Importance Analysis, Model Ensembling, Bayesian Optimisation for hyperparameter tuning and Entity Embddings.\n",
        "\n",
        "- toc: true to apply his techniques for permutation importance and ensemble learning to the Homesite Competition problem set\n",
        "- badges: true\n",
        "- comments: true\n",
        "- categories: [kaggle, fastai]\n",
        "- author: Nissan Dookeran and Tracy Dinh\n",
        "- image: images/chart-preview.png"
      ],
      "id": "fdf913c3-50ef-44f3-b56c-54e1f3986f23"
    },
    {
      "cell_type": "markdown",
      "metadata": {
        "id": "hHwW-yM9qvpt"
      },
      "source": [
        "## Introduction"
      ],
      "id": "hHwW-yM9qvpt"
    },
    {
      "cell_type": "markdown",
      "metadata": {
        "id": "U-7eYXa1pRji"
      },
      "source": [
        "  As Jeremy Howard mentioned in one of his lessons about tabular data, there are 2 main methods in modelling tabular or structured data: \n",
        "  \n",
        "1.   **Ensembles of Decision Trees (Random Forest or Gradient Boosting Machine)**\n",
        "2.   **Multilayered Neural Networks**\n",
        "\n",
        "The former method is far more popular and usually our first approach when analysing new tabular dataset. This is why he was focusing more on how to train and improve performance of a random forest model but not going too deep into training a deep learning model\n",
        "\n",
        "However, Fastai itself has a lot of great function to train and improve performance of tabular data model and this is what we want to explore in this article. \n",
        "\n",
        "Most of the techniques and codes in this notebooks were borrowed from Walk with Fastai from Zack Mueller so please check out his official website: https://walkwithfastai.com/\n",
        "\n",
        "\n"
      ],
      "id": "U-7eYXa1pRji"
    },
    {
      "cell_type": "markdown",
      "metadata": {
        "id": "eZDu6lAJqybT"
      },
      "source": [
        "When you think about improving your model’s performance, some of the methods that you will definitely consider include: \n",
        "\n",
        "\n",
        "-  **Feature Engineering**\n",
        "-  **Hyperparameter Tuning**\n",
        "-  **Combining Models**\n",
        "\n",
        "This is also exactly what we are going to discuss in this article. \n",
        "\n",
        "1. **Basic Deep Learning Model for Tabular Data**\n",
        "2. **Permutation Analysis to identify Important Features**\n",
        "3. **Model Ensembling**\n",
        "4. **Hyperparameter Tuning with Bayesian Optimisation**\n",
        "5. **Entity Embeddings**\n"
      ],
      "id": "eZDu6lAJqybT"
    },
    {
      "cell_type": "markdown",
      "metadata": {
        "id": "14f77051-ab42-4628-9296-9ee5e52bad52"
      },
      "source": [
        "## Setup"
      ],
      "id": "14f77051-ab42-4628-9296-9ee5e52bad52"
    },
    {
      "cell_type": "code",
      "metadata": {
        "id": "d0b39462-753e-4d30-8b46-cc4019836b07"
      },
      "source": [
        "!pip install -Uqq fastai fastbook\n",
        "import fastbook\n",
        "fastbook.setup_book()"
      ],
      "id": "d0b39462-753e-4d30-8b46-cc4019836b07",
      "execution_count": null,
      "outputs": []
    },
    {
      "cell_type": "code",
      "metadata": {
        "id": "5551bc70-de2c-4150-a3ae-c6c1f46987d1"
      },
      "source": [
        "from fastai.tabular.all import *\n",
        "import pandas as pd\n",
        "import numpy as np\n",
        "pd.options.mode.chained_assignment = None  # default='warn'\n",
        "\n",
        "from sklearn.metrics import roc_auc_score\n"
      ],
      "id": "5551bc70-de2c-4150-a3ae-c6c1f46987d1",
      "execution_count": null,
      "outputs": []
    },
    {
      "cell_type": "markdown",
      "metadata": {
        "id": "awex9kRM47UD"
      },
      "source": [
        "## Download Data"
      ],
      "id": "awex9kRM47UD"
    },
    {
      "cell_type": "markdown",
      "metadata": {
        "id": "mKPd28LlqzGp"
      },
      "source": [
        "Download your Kaggle KPI, store it in a folder in Google Drive and run the below codes"
      ],
      "id": "mKPd28LlqzGp"
    },
    {
      "cell_type": "code",
      "metadata": {
        "id": "IZ-mEYY7qjMe"
      },
      "source": [
        "!mkdir -p ~/.kaggle\n",
        "!cp /content/gdrive/MyDrive/Kaggle/kaggle.json ~/.kaggle/\n",
        "!chmod 600 ~/.kaggle/kaggle.json"
      ],
      "id": "IZ-mEYY7qjMe",
      "execution_count": null,
      "outputs": []
    },
    {
      "cell_type": "markdown",
      "metadata": {
        "id": "JPL0_PhtrApt"
      },
      "source": [
        "Assign the folder where to want to store the data to path"
      ],
      "id": "JPL0_PhtrApt"
    },
    {
      "cell_type": "code",
      "metadata": {
        "colab": {
          "base_uri": "https://localhost:8080/"
        },
        "id": "cAZot9OEqk41",
        "outputId": "7a2c6794-bdfa-4385-9d5d-d86fa4267dcf"
      },
      "source": [
        "path = Path('/content/gdrive/MyDrive/Kaggle/' + 'data/homesite-quote')\n",
        "path.mkdir(parents=True, exist_ok=True)\n",
        "path"
      ],
      "id": "cAZot9OEqk41",
      "execution_count": null,
      "outputs": [
        {
          "output_type": "execute_result",
          "data": {
            "text/plain": [
              "Path('/content/gdrive/MyDrive/Kaggle/data/homesite-quote')"
            ]
          },
          "metadata": {
            "tags": []
          },
          "execution_count": 4
        }
      ]
    },
    {
      "cell_type": "markdown",
      "metadata": {
        "id": "TeBLN9WlYySG"
      },
      "source": [
        "Download your data into that folder"
      ],
      "id": "TeBLN9WlYySG"
    },
    {
      "cell_type": "code",
      "metadata": {
        "id": "SVzSXAv3qmZm"
      },
      "source": [
        "!kaggle competitions download -c homesite-quote-conversion -p /content/gdrive/MyDrive/Kaggle/data/homesite-quote\n"
      ],
      "id": "SVzSXAv3qmZm",
      "execution_count": null,
      "outputs": []
    },
    {
      "cell_type": "markdown",
      "metadata": {
        "id": "pZXE6STorOze"
      },
      "source": [
        "Unzip your data"
      ],
      "id": "pZXE6STorOze"
    },
    {
      "cell_type": "code",
      "metadata": {
        "id": "qDdlZsuJrQbl"
      },
      "source": [
        "! unzip -q -n '{path}/train.csv.zip' -d '{path}'\n",
        "! unzip -q -n '{path}/test.csv.zip' -d '{path}'\n"
      ],
      "id": "qDdlZsuJrQbl",
      "execution_count": null,
      "outputs": []
    },
    {
      "cell_type": "markdown",
      "metadata": {
        "id": "53FeyqQ_ZOMy"
      },
      "source": [
        "Import data and store it as a dataframe "
      ],
      "id": "53FeyqQ_ZOMy"
    },
    {
      "cell_type": "code",
      "metadata": {
        "id": "MtwrxoLz5GJe"
      },
      "source": [
        "df = pd.read_csv(path/'train.csv', low_memory=False, parse_dates=['Original_Quote_Date'])\n",
        "test_df=pd.read_csv(path/'test.csv', low_memory=False, parse_dates=['Original_Quote_Date'])"
      ],
      "id": "MtwrxoLz5GJe",
      "execution_count": null,
      "outputs": []
    },
    {
      "cell_type": "markdown",
      "metadata": {
        "id": "Vj9iH50OG8dn"
      },
      "source": [
        "## EDA"
      ],
      "id": "Vj9iH50OG8dn"
    },
    {
      "cell_type": "code",
      "metadata": {
        "id": "8b6abafa-86f5-4f0d-8a65-561b6eb58fc0"
      },
      "source": [
        "df_train = df.copy()\n",
        "df_test = test_df.copy()\n"
      ],
      "id": "8b6abafa-86f5-4f0d-8a65-561b6eb58fc0",
      "execution_count": null,
      "outputs": []
    },
    {
      "cell_type": "code",
      "metadata": {
        "id": "afb0dfa6-b624-4b5c-9faf-221850dd0a97"
      },
      "source": [
        "df_train.QuoteConversion_Flag = df_train.QuoteConversion_Flag.astype(dtype='boolean')"
      ],
      "id": "afb0dfa6-b624-4b5c-9faf-221850dd0a97",
      "execution_count": null,
      "outputs": []
    },
    {
      "cell_type": "code",
      "metadata": {
        "id": "4bc7647d-5cfc-4c11-94df-2072c2d54d24"
      },
      "source": [
        "df_train = df_train.set_index('QuoteNumber')\n",
        "df_test = df_test.set_index('QuoteNumber')\n"
      ],
      "id": "4bc7647d-5cfc-4c11-94df-2072c2d54d24",
      "execution_count": null,
      "outputs": []
    },
    {
      "cell_type": "code",
      "metadata": {
        "id": "87c412ee-be27-439a-83e1-e18b8370d27c"
      },
      "source": [
        "df_train = add_datepart(df_train, 'Original_Quote_Date')\n",
        "df_test = add_datepart(df_test, 'Original_Quote_Date')"
      ],
      "id": "87c412ee-be27-439a-83e1-e18b8370d27c",
      "execution_count": null,
      "outputs": []
    },
    {
      "cell_type": "code",
      "metadata": {
        "colab": {
          "base_uri": "https://localhost:8080/"
        },
        "id": "cc0ae7e5-98e4-49b6-8cd8-4fc2aabb7bb7",
        "outputId": "0adcf9cf-187c-46b8-88cc-2b7160db7387"
      },
      "source": [
        "y_names = 'QuoteConversion_Flag'\n",
        "cont_names, cat_names = cont_cat_split(df_train, dep_var=y_names)\n",
        "len(cont_names), len(cat_names)"
      ],
      "id": "cc0ae7e5-98e4-49b6-8cd8-4fc2aabb7bb7",
      "execution_count": null,
      "outputs": [
        {
          "output_type": "execute_result",
          "data": {
            "text/plain": [
              "(155, 154)"
            ]
          },
          "metadata": {
            "tags": []
          },
          "execution_count": 12
        }
      ]
    },
    {
      "cell_type": "markdown",
      "metadata": {
        "id": "SRvLWdfyHBgu"
      },
      "source": [
        "## Deep Learning Model"
      ],
      "id": "SRvLWdfyHBgu"
    },
    {
      "cell_type": "markdown",
      "metadata": {
        "id": "tX78hBmmtQ27"
      },
      "source": [
        "Set up hyperparameters"
      ],
      "id": "tX78hBmmtQ27"
    },
    {
      "cell_type": "code",
      "metadata": {
        "id": "y3mbgg9vtL18"
      },
      "source": [
        "random_seed = 42 \n",
        "bs = 4096\n",
        "val_bs = 512\n",
        "test_size = 0.3\n",
        "epochs = 5\n",
        "lr = 1e-2\n",
        "wd=0.002\n",
        "layers = [10000,500]\n",
        "dropout = [0.001, 0.01]\n",
        "y_block=CategoryBlock()\n",
        "emb_dropout=0.02\n",
        "set_seed(42)\n",
        "roc_auc_binary = RocAucBinary()"
      ],
      "id": "y3mbgg9vtL18",
      "execution_count": null,
      "outputs": []
    },
    {
      "cell_type": "code",
      "metadata": {
        "id": "09c0c5e7-f5e1-475f-bebc-207d401a9206"
      },
      "source": [
        "procs = [Categorify, FillMissing, Normalize]\n",
        "splits = TrainTestSplitter(test_size=test_size, stratify=df_train[y_names])(df_train)"
      ],
      "id": "09c0c5e7-f5e1-475f-bebc-207d401a9206",
      "execution_count": null,
      "outputs": []
    },
    {
      "cell_type": "code",
      "metadata": {
        "id": "83baf2dd-a534-48de-991b-99bbc0de46f6",
        "colab": {
          "base_uri": "https://localhost:8080/",
          "height": 379
        },
        "outputId": "da65d38d-984a-4874-9ba3-e0284f6e30a3"
      },
      "source": [
        "to = TabularPandas(df=df_train, procs=procs, cat_names=cat_names, \n",
        "                   cont_names=cont_names, y_names=y_names,splits=splits,\n",
        "                  y_block=y_block)\n",
        "dls = to.dataloaders(bs=bs, val_bs=val_bs, layers=layers, embed_ps=emb_dropout, ps=dropout)\n",
        "dls.valid.show_batch()"
      ],
      "id": "83baf2dd-a534-48de-991b-99bbc0de46f6",
      "execution_count": null,
      "outputs": [
        {
          "output_type": "display_data",
          "data": {
            "text/html": [
              "<table border=\"1\" class=\"dataframe\">\n",
              "  <thead>\n",
              "    <tr style=\"text-align: right;\">\n",
              "      <th></th>\n",
              "      <th>Field6</th>\n",
              "      <th>Field10</th>\n",
              "      <th>Field12</th>\n",
              "      <th>CoverageField5A</th>\n",
              "      <th>CoverageField5B</th>\n",
              "      <th>CoverageField6A</th>\n",
              "      <th>CoverageField6B</th>\n",
              "      <th>CoverageField8</th>\n",
              "      <th>CoverageField9</th>\n",
              "      <th>SalesField3</th>\n",
              "      <th>SalesField4</th>\n",
              "      <th>SalesField5</th>\n",
              "      <th>SalesField7</th>\n",
              "      <th>SalesField9</th>\n",
              "      <th>SalesField10</th>\n",
              "      <th>SalesField11</th>\n",
              "      <th>SalesField13</th>\n",
              "      <th>SalesField14</th>\n",
              "      <th>SalesField15</th>\n",
              "      <th>PersonalField1</th>\n",
              "      <th>PersonalField2</th>\n",
              "      <th>PersonalField5</th>\n",
              "      <th>PersonalField6</th>\n",
              "      <th>PersonalField7</th>\n",
              "      <th>PersonalField8</th>\n",
              "      <th>PersonalField9</th>\n",
              "      <th>PersonalField11</th>\n",
              "      <th>PersonalField12</th>\n",
              "      <th>PersonalField13</th>\n",
              "      <th>PersonalField16</th>\n",
              "      <th>PersonalField17</th>\n",
              "      <th>PersonalField18</th>\n",
              "      <th>PersonalField19</th>\n",
              "      <th>PersonalField22</th>\n",
              "      <th>PersonalField23</th>\n",
              "      <th>PersonalField24</th>\n",
              "      <th>PersonalField25</th>\n",
              "      <th>PersonalField26</th>\n",
              "      <th>PersonalField27</th>\n",
              "      <th>PersonalField28</th>\n",
              "      <th>PersonalField29</th>\n",
              "      <th>PersonalField30</th>\n",
              "      <th>PersonalField31</th>\n",
              "      <th>PersonalField32</th>\n",
              "      <th>PersonalField33</th>\n",
              "      <th>PersonalField34</th>\n",
              "      <th>PersonalField35</th>\n",
              "      <th>PersonalField36</th>\n",
              "      <th>PersonalField37</th>\n",
              "      <th>PersonalField38</th>\n",
              "      <th>PersonalField39</th>\n",
              "      <th>PersonalField40</th>\n",
              "      <th>PersonalField41</th>\n",
              "      <th>PersonalField42</th>\n",
              "      <th>PersonalField43</th>\n",
              "      <th>PersonalField44</th>\n",
              "      <th>PersonalField45</th>\n",
              "      <th>PersonalField46</th>\n",
              "      <th>PersonalField47</th>\n",
              "      <th>PersonalField48</th>\n",
              "      <th>PersonalField49</th>\n",
              "      <th>PersonalField50</th>\n",
              "      <th>PersonalField51</th>\n",
              "      <th>PersonalField52</th>\n",
              "      <th>PersonalField53</th>\n",
              "      <th>PersonalField54</th>\n",
              "      <th>PersonalField55</th>\n",
              "      <th>PersonalField56</th>\n",
              "      <th>PersonalField57</th>\n",
              "      <th>PersonalField58</th>\n",
              "      <th>PersonalField59</th>\n",
              "      <th>PersonalField60</th>\n",
              "      <th>PersonalField61</th>\n",
              "      <th>PersonalField62</th>\n",
              "      <th>PersonalField63</th>\n",
              "      <th>PersonalField64</th>\n",
              "      <th>PersonalField65</th>\n",
              "      <th>PersonalField66</th>\n",
              "      <th>PersonalField67</th>\n",
              "      <th>PersonalField68</th>\n",
              "      <th>PersonalField69</th>\n",
              "      <th>PersonalField70</th>\n",
              "      <th>PersonalField71</th>\n",
              "      <th>PersonalField72</th>\n",
              "      <th>PersonalField73</th>\n",
              "      <th>PersonalField74</th>\n",
              "      <th>PersonalField75</th>\n",
              "      <th>PersonalField76</th>\n",
              "      <th>PersonalField77</th>\n",
              "      <th>PersonalField78</th>\n",
              "      <th>PersonalField79</th>\n",
              "      <th>PersonalField80</th>\n",
              "      <th>PersonalField81</th>\n",
              "      <th>PersonalField82</th>\n",
              "      <th>PersonalField83</th>\n",
              "      <th>PropertyField2A</th>\n",
              "      <th>PropertyField3</th>\n",
              "      <th>PropertyField4</th>\n",
              "      <th>PropertyField5</th>\n",
              "      <th>PropertyField6</th>\n",
              "      <th>PropertyField7</th>\n",
              "      <th>PropertyField8</th>\n",
              "      <th>PropertyField9</th>\n",
              "      <th>PropertyField10</th>\n",
              "      <th>PropertyField11A</th>\n",
              "      <th>PropertyField11B</th>\n",
              "      <th>PropertyField12</th>\n",
              "      <th>PropertyField13</th>\n",
              "      <th>PropertyField14</th>\n",
              "      <th>PropertyField15</th>\n",
              "      <th>PropertyField17</th>\n",
              "      <th>PropertyField18</th>\n",
              "      <th>PropertyField19</th>\n",
              "      <th>PropertyField20</th>\n",
              "      <th>PropertyField22</th>\n",
              "      <th>PropertyField23</th>\n",
              "      <th>PropertyField27</th>\n",
              "      <th>PropertyField28</th>\n",
              "      <th>PropertyField30</th>\n",
              "      <th>PropertyField31</th>\n",
              "      <th>PropertyField32</th>\n",
              "      <th>PropertyField33</th>\n",
              "      <th>PropertyField34</th>\n",
              "      <th>PropertyField35</th>\n",
              "      <th>PropertyField36</th>\n",
              "      <th>PropertyField37</th>\n",
              "      <th>PropertyField38</th>\n",
              "      <th>GeographicField5A</th>\n",
              "      <th>GeographicField5B</th>\n",
              "      <th>GeographicField10A</th>\n",
              "      <th>GeographicField10B</th>\n",
              "      <th>GeographicField14A</th>\n",
              "      <th>GeographicField14B</th>\n",
              "      <th>GeographicField18A</th>\n",
              "      <th>GeographicField21A</th>\n",
              "      <th>GeographicField22A</th>\n",
              "      <th>GeographicField22B</th>\n",
              "      <th>GeographicField23A</th>\n",
              "      <th>GeographicField56A</th>\n",
              "      <th>GeographicField60A</th>\n",
              "      <th>GeographicField61A</th>\n",
              "      <th>GeographicField62A</th>\n",
              "      <th>GeographicField62B</th>\n",
              "      <th>GeographicField63</th>\n",
              "      <th>GeographicField64</th>\n",
              "      <th>Original_Quote_Year</th>\n",
              "      <th>Original_Quote_Month</th>\n",
              "      <th>Original_Quote_Dayofweek</th>\n",
              "      <th>Original_Quote_Is_month_end</th>\n",
              "      <th>Original_Quote_Is_month_start</th>\n",
              "      <th>Original_Quote_Is_quarter_end</th>\n",
              "      <th>Original_Quote_Is_quarter_start</th>\n",
              "      <th>Original_Quote_Is_year_end</th>\n",
              "      <th>Original_Quote_Is_year_start</th>\n",
              "      <th>PersonalField84_na</th>\n",
              "      <th>PropertyField29_na</th>\n",
              "      <th>Field7</th>\n",
              "      <th>Field8</th>\n",
              "      <th>Field9</th>\n",
              "      <th>Field11</th>\n",
              "      <th>CoverageField1A</th>\n",
              "      <th>CoverageField1B</th>\n",
              "      <th>CoverageField2A</th>\n",
              "      <th>CoverageField2B</th>\n",
              "      <th>CoverageField3A</th>\n",
              "      <th>CoverageField3B</th>\n",
              "      <th>CoverageField4A</th>\n",
              "      <th>CoverageField4B</th>\n",
              "      <th>CoverageField11A</th>\n",
              "      <th>CoverageField11B</th>\n",
              "      <th>SalesField1A</th>\n",
              "      <th>SalesField1B</th>\n",
              "      <th>SalesField2A</th>\n",
              "      <th>SalesField2B</th>\n",
              "      <th>SalesField6</th>\n",
              "      <th>SalesField8</th>\n",
              "      <th>SalesField12</th>\n",
              "      <th>PersonalField4A</th>\n",
              "      <th>PersonalField4B</th>\n",
              "      <th>PersonalField10A</th>\n",
              "      <th>PersonalField10B</th>\n",
              "      <th>PersonalField14</th>\n",
              "      <th>PersonalField15</th>\n",
              "      <th>PersonalField84</th>\n",
              "      <th>PropertyField1A</th>\n",
              "      <th>PropertyField1B</th>\n",
              "      <th>PropertyField2B</th>\n",
              "      <th>PropertyField16A</th>\n",
              "      <th>PropertyField16B</th>\n",
              "      <th>PropertyField21A</th>\n",
              "      <th>PropertyField21B</th>\n",
              "      <th>PropertyField24A</th>\n",
              "      <th>PropertyField24B</th>\n",
              "      <th>PropertyField25</th>\n",
              "      <th>PropertyField26A</th>\n",
              "      <th>PropertyField26B</th>\n",
              "      <th>PropertyField29</th>\n",
              "      <th>PropertyField39A</th>\n",
              "      <th>PropertyField39B</th>\n",
              "      <th>GeographicField1A</th>\n",
              "      <th>GeographicField1B</th>\n",
              "      <th>GeographicField2A</th>\n",
              "      <th>GeographicField2B</th>\n",
              "      <th>GeographicField3A</th>\n",
              "      <th>GeographicField3B</th>\n",
              "      <th>GeographicField4A</th>\n",
              "      <th>GeographicField4B</th>\n",
              "      <th>GeographicField6A</th>\n",
              "      <th>GeographicField6B</th>\n",
              "      <th>GeographicField7A</th>\n",
              "      <th>GeographicField7B</th>\n",
              "      <th>GeographicField8A</th>\n",
              "      <th>GeographicField8B</th>\n",
              "      <th>GeographicField9A</th>\n",
              "      <th>GeographicField9B</th>\n",
              "      <th>GeographicField11A</th>\n",
              "      <th>GeographicField11B</th>\n",
              "      <th>GeographicField12A</th>\n",
              "      <th>GeographicField12B</th>\n",
              "      <th>GeographicField13A</th>\n",
              "      <th>GeographicField13B</th>\n",
              "      <th>GeographicField15A</th>\n",
              "      <th>GeographicField15B</th>\n",
              "      <th>GeographicField16A</th>\n",
              "      <th>GeographicField16B</th>\n",
              "      <th>GeographicField17A</th>\n",
              "      <th>GeographicField17B</th>\n",
              "      <th>GeographicField18B</th>\n",
              "      <th>GeographicField19A</th>\n",
              "      <th>GeographicField19B</th>\n",
              "      <th>GeographicField20A</th>\n",
              "      <th>GeographicField20B</th>\n",
              "      <th>GeographicField21B</th>\n",
              "      <th>GeographicField23B</th>\n",
              "      <th>GeographicField24A</th>\n",
              "      <th>GeographicField24B</th>\n",
              "      <th>GeographicField25A</th>\n",
              "      <th>GeographicField25B</th>\n",
              "      <th>GeographicField26A</th>\n",
              "      <th>GeographicField26B</th>\n",
              "      <th>GeographicField27A</th>\n",
              "      <th>GeographicField27B</th>\n",
              "      <th>GeographicField28A</th>\n",
              "      <th>GeographicField28B</th>\n",
              "      <th>GeographicField29A</th>\n",
              "      <th>GeographicField29B</th>\n",
              "      <th>GeographicField30A</th>\n",
              "      <th>GeographicField30B</th>\n",
              "      <th>GeographicField31A</th>\n",
              "      <th>GeographicField31B</th>\n",
              "      <th>GeographicField32A</th>\n",
              "      <th>GeographicField32B</th>\n",
              "      <th>GeographicField33A</th>\n",
              "      <th>GeographicField33B</th>\n",
              "      <th>GeographicField34A</th>\n",
              "      <th>GeographicField34B</th>\n",
              "      <th>GeographicField35A</th>\n",
              "      <th>GeographicField35B</th>\n",
              "      <th>GeographicField36A</th>\n",
              "      <th>GeographicField36B</th>\n",
              "      <th>GeographicField37A</th>\n",
              "      <th>GeographicField37B</th>\n",
              "      <th>GeographicField38A</th>\n",
              "      <th>GeographicField38B</th>\n",
              "      <th>GeographicField39A</th>\n",
              "      <th>GeographicField39B</th>\n",
              "      <th>GeographicField40A</th>\n",
              "      <th>GeographicField40B</th>\n",
              "      <th>GeographicField41A</th>\n",
              "      <th>GeographicField41B</th>\n",
              "      <th>GeographicField42A</th>\n",
              "      <th>GeographicField42B</th>\n",
              "      <th>GeographicField43A</th>\n",
              "      <th>GeographicField43B</th>\n",
              "      <th>GeographicField44A</th>\n",
              "      <th>GeographicField44B</th>\n",
              "      <th>GeographicField45A</th>\n",
              "      <th>GeographicField45B</th>\n",
              "      <th>GeographicField46A</th>\n",
              "      <th>GeographicField46B</th>\n",
              "      <th>GeographicField47A</th>\n",
              "      <th>GeographicField47B</th>\n",
              "      <th>GeographicField48A</th>\n",
              "      <th>GeographicField48B</th>\n",
              "      <th>GeographicField49A</th>\n",
              "      <th>GeographicField49B</th>\n",
              "      <th>GeographicField50A</th>\n",
              "      <th>GeographicField50B</th>\n",
              "      <th>GeographicField51A</th>\n",
              "      <th>GeographicField51B</th>\n",
              "      <th>GeographicField52A</th>\n",
              "      <th>GeographicField52B</th>\n",
              "      <th>GeographicField53A</th>\n",
              "      <th>GeographicField53B</th>\n",
              "      <th>GeographicField54A</th>\n",
              "      <th>GeographicField54B</th>\n",
              "      <th>GeographicField55A</th>\n",
              "      <th>GeographicField55B</th>\n",
              "      <th>GeographicField56B</th>\n",
              "      <th>GeographicField57A</th>\n",
              "      <th>GeographicField57B</th>\n",
              "      <th>GeographicField58A</th>\n",
              "      <th>GeographicField58B</th>\n",
              "      <th>GeographicField59A</th>\n",
              "      <th>GeographicField59B</th>\n",
              "      <th>GeographicField60B</th>\n",
              "      <th>GeographicField61B</th>\n",
              "      <th>Original_Quote_Week</th>\n",
              "      <th>Original_Quote_Day</th>\n",
              "      <th>Original_Quote_Dayofyear</th>\n",
              "      <th>Original_Quote_Elapsed</th>\n",
              "      <th>QuoteConversion_Flag</th>\n",
              "    </tr>\n",
              "  </thead>\n",
              "  <tbody>\n",
              "    <tr>\n",
              "      <th>0</th>\n",
              "      <td>B</td>\n",
              "      <td>935</td>\n",
              "      <td>N</td>\n",
              "      <td>13</td>\n",
              "      <td>22</td>\n",
              "      <td>13</td>\n",
              "      <td>23</td>\n",
              "      <td>T</td>\n",
              "      <td>D</td>\n",
              "      <td>1</td>\n",
              "      <td>5</td>\n",
              "      <td>5</td>\n",
              "      <td>M</td>\n",
              "      <td>1</td>\n",
              "      <td>0</td>\n",
              "      <td>0</td>\n",
              "      <td>0</td>\n",
              "      <td>0</td>\n",
              "      <td>0</td>\n",
              "      <td>1</td>\n",
              "      <td>1</td>\n",
              "      <td>6</td>\n",
              "      <td>1</td>\n",
              "      <td>N</td>\n",
              "      <td>1</td>\n",
              "      <td>2</td>\n",
              "      <td>0</td>\n",
              "      <td>1</td>\n",
              "      <td>2</td>\n",
              "      <td>ZA</td>\n",
              "      <td>ZE</td>\n",
              "      <td>XR</td>\n",
              "      <td>XD</td>\n",
              "      <td>1</td>\n",
              "      <td>0</td>\n",
              "      <td>0</td>\n",
              "      <td>0</td>\n",
              "      <td>0</td>\n",
              "      <td>1</td>\n",
              "      <td>2</td>\n",
              "      <td>2</td>\n",
              "      <td>0</td>\n",
              "      <td>1</td>\n",
              "      <td>1</td>\n",
              "      <td>1</td>\n",
              "      <td>1</td>\n",
              "      <td>0</td>\n",
              "      <td>0</td>\n",
              "      <td>0</td>\n",
              "      <td>0</td>\n",
              "      <td>0</td>\n",
              "      <td>0</td>\n",
              "      <td>0</td>\n",
              "      <td>0</td>\n",
              "      <td>1</td>\n",
              "      <td>0</td>\n",
              "      <td>1</td>\n",
              "      <td>1</td>\n",
              "      <td>1</td>\n",
              "      <td>2</td>\n",
              "      <td>0</td>\n",
              "      <td>0</td>\n",
              "      <td>0</td>\n",
              "      <td>0</td>\n",
              "      <td>1</td>\n",
              "      <td>0</td>\n",
              "      <td>0</td>\n",
              "      <td>0</td>\n",
              "      <td>0</td>\n",
              "      <td>1</td>\n",
              "      <td>0</td>\n",
              "      <td>0</td>\n",
              "      <td>0</td>\n",
              "      <td>0</td>\n",
              "      <td>1</td>\n",
              "      <td>0</td>\n",
              "      <td>0</td>\n",
              "      <td>0</td>\n",
              "      <td>0</td>\n",
              "      <td>1</td>\n",
              "      <td>0</td>\n",
              "      <td>0</td>\n",
              "      <td>0</td>\n",
              "      <td>0</td>\n",
              "      <td>1</td>\n",
              "      <td>0</td>\n",
              "      <td>1</td>\n",
              "      <td>1</td>\n",
              "      <td>1</td>\n",
              "      <td>2</td>\n",
              "      <td>0</td>\n",
              "      <td>0</td>\n",
              "      <td>0</td>\n",
              "      <td>0</td>\n",
              "      <td>1</td>\n",
              "      <td>-1</td>\n",
              "      <td>N</td>\n",
              "      <td>N</td>\n",
              "      <td>Y</td>\n",
              "      <td>0</td>\n",
              "      <td>O</td>\n",
              "      <td>1</td>\n",
              "      <td>0</td>\n",
              "      <td>1</td>\n",
              "      <td>-1</td>\n",
              "      <td>21</td>\n",
              "      <td>4</td>\n",
              "      <td>2</td>\n",
              "      <td>C</td>\n",
              "      <td>1</td>\n",
              "      <td>1</td>\n",
              "      <td>2</td>\n",
              "      <td>0</td>\n",
              "      <td>0</td>\n",
              "      <td>2</td>\n",
              "      <td>4</td>\n",
              "      <td>4</td>\n",
              "      <td>B</td>\n",
              "      <td>N</td>\n",
              "      <td>K</td>\n",
              "      <td>Y</td>\n",
              "      <td>G</td>\n",
              "      <td>N</td>\n",
              "      <td>2</td>\n",
              "      <td>N</td>\n",
              "      <td>N</td>\n",
              "      <td>N</td>\n",
              "      <td>-1</td>\n",
              "      <td>13</td>\n",
              "      <td>-1</td>\n",
              "      <td>25</td>\n",
              "      <td>-1</td>\n",
              "      <td>7</td>\n",
              "      <td>-1</td>\n",
              "      <td>-1</td>\n",
              "      <td>-1</td>\n",
              "      <td>15</td>\n",
              "      <td>-1</td>\n",
              "      <td>-1</td>\n",
              "      <td>-1</td>\n",
              "      <td>-1</td>\n",
              "      <td>-1</td>\n",
              "      <td>9</td>\n",
              "      <td>N</td>\n",
              "      <td>CA</td>\n",
              "      <td>2014</td>\n",
              "      <td>2</td>\n",
              "      <td>6</td>\n",
              "      <td>False</td>\n",
              "      <td>False</td>\n",
              "      <td>False</td>\n",
              "      <td>False</td>\n",
              "      <td>False</td>\n",
              "      <td>False</td>\n",
              "      <td>False</td>\n",
              "      <td>True</td>\n",
              "      <td>25.0</td>\n",
              "      <td>0.9403</td>\n",
              "      <td>0.0007</td>\n",
              "      <td>1.0200</td>\n",
              "      <td>9.0</td>\n",
              "      <td>15.0</td>\n",
              "      <td>9.0</td>\n",
              "      <td>15.0</td>\n",
              "      <td>8.0</td>\n",
              "      <td>13.0</td>\n",
              "      <td>8.0</td>\n",
              "      <td>14.0</td>\n",
              "      <td>3.000000</td>\n",
              "      <td>5.0</td>\n",
              "      <td>4.0</td>\n",
              "      <td>11.0</td>\n",
              "      <td>3.0</td>\n",
              "      <td>10.0</td>\n",
              "      <td>11.0</td>\n",
              "      <td>61662.999557</td>\n",
              "      <td>-2.965073e-08</td>\n",
              "      <td>4.0</td>\n",
              "      <td>5.0</td>\n",
              "      <td>14.0</td>\n",
              "      <td>21.0</td>\n",
              "      <td>2.0</td>\n",
              "      <td>24.0</td>\n",
              "      <td>2.0</td>\n",
              "      <td>7.0</td>\n",
              "      <td>10.0</td>\n",
              "      <td>23.0</td>\n",
              "      <td>3.0</td>\n",
              "      <td>6.0</td>\n",
              "      <td>9.0</td>\n",
              "      <td>15.0</td>\n",
              "      <td>8.0</td>\n",
              "      <td>11.0</td>\n",
              "      <td>1.0</td>\n",
              "      <td>14.0</td>\n",
              "      <td>20.0</td>\n",
              "      <td>-3.456605e-13</td>\n",
              "      <td>8.0</td>\n",
              "      <td>7.0</td>\n",
              "      <td>7.0</td>\n",
              "      <td>15.0</td>\n",
              "      <td>11.0</td>\n",
              "      <td>10.0</td>\n",
              "      <td>5.0</td>\n",
              "      <td>4.0</td>\n",
              "      <td>13.0</td>\n",
              "      <td>13.0</td>\n",
              "      <td>2.0</td>\n",
              "      <td>5.0</td>\n",
              "      <td>6.0</td>\n",
              "      <td>7.0</td>\n",
              "      <td>2.0</td>\n",
              "      <td>7.0</td>\n",
              "      <td>2.0</td>\n",
              "      <td>2.0</td>\n",
              "      <td>2.0</td>\n",
              "      <td>7.0</td>\n",
              "      <td>4.0</td>\n",
              "      <td>7.0</td>\n",
              "      <td>2.0</td>\n",
              "      <td>7.0</td>\n",
              "      <td>9.0</td>\n",
              "      <td>8.0</td>\n",
              "      <td>3.0</td>\n",
              "      <td>7.0</td>\n",
              "      <td>2.000000</td>\n",
              "      <td>18.0</td>\n",
              "      <td>2.0</td>\n",
              "      <td>2.0</td>\n",
              "      <td>4.0</td>\n",
              "      <td>3.0</td>\n",
              "      <td>7.0</td>\n",
              "      <td>8.0</td>\n",
              "      <td>8.0</td>\n",
              "      <td>16.0</td>\n",
              "      <td>14.0</td>\n",
              "      <td>18.0</td>\n",
              "      <td>18.0</td>\n",
              "      <td>20.0</td>\n",
              "      <td>22.0</td>\n",
              "      <td>15.0</td>\n",
              "      <td>11.0</td>\n",
              "      <td>10.0</td>\n",
              "      <td>17.0</td>\n",
              "      <td>14.0</td>\n",
              "      <td>21.0</td>\n",
              "      <td>5.0</td>\n",
              "      <td>6.0</td>\n",
              "      <td>10.0</td>\n",
              "      <td>15.0</td>\n",
              "      <td>11.0</td>\n",
              "      <td>18.0</td>\n",
              "      <td>7.0</td>\n",
              "      <td>9.0</td>\n",
              "      <td>16.0</td>\n",
              "      <td>21.0</td>\n",
              "      <td>3.0</td>\n",
              "      <td>3.0</td>\n",
              "      <td>6.0</td>\n",
              "      <td>5.0</td>\n",
              "      <td>2.0</td>\n",
              "      <td>3.0</td>\n",
              "      <td>7.0</td>\n",
              "      <td>10.0</td>\n",
              "      <td>7.0</td>\n",
              "      <td>15.0</td>\n",
              "      <td>3.000000</td>\n",
              "      <td>8.0</td>\n",
              "      <td>18.0</td>\n",
              "      <td>16.0</td>\n",
              "      <td>7.0</td>\n",
              "      <td>7.0</td>\n",
              "      <td>1.0</td>\n",
              "      <td>1.0</td>\n",
              "      <td>7.0</td>\n",
              "      <td>2.0</td>\n",
              "      <td>7.0</td>\n",
              "      <td>7.0</td>\n",
              "      <td>13.0</td>\n",
              "      <td>15.0</td>\n",
              "      <td>1.0</td>\n",
              "      <td>1.0</td>\n",
              "      <td>10.0</td>\n",
              "      <td>7.0</td>\n",
              "      <td>12.0</td>\n",
              "      <td>6.0</td>\n",
              "      <td>8.0</td>\n",
              "      <td>4.0</td>\n",
              "      <td>9.0</td>\n",
              "      <td>7.0</td>\n",
              "      <td>9.0</td>\n",
              "      <td>7.0</td>\n",
              "      <td>13.0</td>\n",
              "      <td>7.0</td>\n",
              "      <td>13.0</td>\n",
              "      <td>12.0</td>\n",
              "      <td>14.0</td>\n",
              "      <td>22.0</td>\n",
              "      <td>18.0</td>\n",
              "      <td>9.0</td>\n",
              "      <td>6.0</td>\n",
              "      <td>15.0</td>\n",
              "      <td>20.0</td>\n",
              "      <td>10.0</td>\n",
              "      <td>10.0</td>\n",
              "      <td>3.0</td>\n",
              "      <td>23.0</td>\n",
              "      <td>6.000001</td>\n",
              "      <td>9.000000</td>\n",
              "      <td>40.000002</td>\n",
              "      <td>1.391904e+09</td>\n",
              "      <td>False</td>\n",
              "    </tr>\n",
              "    <tr>\n",
              "      <th>1</th>\n",
              "      <td>E</td>\n",
              "      <td>1,480</td>\n",
              "      <td>N</td>\n",
              "      <td>13</td>\n",
              "      <td>22</td>\n",
              "      <td>13</td>\n",
              "      <td>23</td>\n",
              "      <td>T</td>\n",
              "      <td>F</td>\n",
              "      <td>0</td>\n",
              "      <td>5</td>\n",
              "      <td>5</td>\n",
              "      <td>R</td>\n",
              "      <td>1</td>\n",
              "      <td>0</td>\n",
              "      <td>0</td>\n",
              "      <td>0</td>\n",
              "      <td>0</td>\n",
              "      <td>0</td>\n",
              "      <td>1</td>\n",
              "      <td>1</td>\n",
              "      <td>7</td>\n",
              "      <td>0</td>\n",
              "      <td>N</td>\n",
              "      <td>1</td>\n",
              "      <td>2</td>\n",
              "      <td>0</td>\n",
              "      <td>1</td>\n",
              "      <td>2</td>\n",
              "      <td>YF</td>\n",
              "      <td>ZK</td>\n",
              "      <td>XK</td>\n",
              "      <td>XC</td>\n",
              "      <td>1</td>\n",
              "      <td>0</td>\n",
              "      <td>0</td>\n",
              "      <td>0</td>\n",
              "      <td>0</td>\n",
              "      <td>0</td>\n",
              "      <td>1</td>\n",
              "      <td>1</td>\n",
              "      <td>0</td>\n",
              "      <td>0</td>\n",
              "      <td>0</td>\n",
              "      <td>0</td>\n",
              "      <td>1</td>\n",
              "      <td>0</td>\n",
              "      <td>0</td>\n",
              "      <td>0</td>\n",
              "      <td>0</td>\n",
              "      <td>0</td>\n",
              "      <td>0</td>\n",
              "      <td>0</td>\n",
              "      <td>0</td>\n",
              "      <td>1</td>\n",
              "      <td>0</td>\n",
              "      <td>0</td>\n",
              "      <td>0</td>\n",
              "      <td>0</td>\n",
              "      <td>1</td>\n",
              "      <td>0</td>\n",
              "      <td>0</td>\n",
              "      <td>0</td>\n",
              "      <td>0</td>\n",
              "      <td>1</td>\n",
              "      <td>0</td>\n",
              "      <td>0</td>\n",
              "      <td>0</td>\n",
              "      <td>0</td>\n",
              "      <td>1</td>\n",
              "      <td>0</td>\n",
              "      <td>0</td>\n",
              "      <td>0</td>\n",
              "      <td>0</td>\n",
              "      <td>1</td>\n",
              "      <td>0</td>\n",
              "      <td>0</td>\n",
              "      <td>0</td>\n",
              "      <td>0</td>\n",
              "      <td>1</td>\n",
              "      <td>0</td>\n",
              "      <td>0</td>\n",
              "      <td>0</td>\n",
              "      <td>0</td>\n",
              "      <td>1</td>\n",
              "      <td>0</td>\n",
              "      <td>0</td>\n",
              "      <td>0</td>\n",
              "      <td>0</td>\n",
              "      <td>1</td>\n",
              "      <td>0</td>\n",
              "      <td>0</td>\n",
              "      <td>0</td>\n",
              "      <td>0</td>\n",
              "      <td>1</td>\n",
              "      <td>-1</td>\n",
              "      <td>Y</td>\n",
              "      <td>Y</td>\n",
              "      <td>Y</td>\n",
              "      <td>0</td>\n",
              "      <td>R</td>\n",
              "      <td>1</td>\n",
              "      <td>0</td>\n",
              "      <td>1</td>\n",
              "      <td>-1</td>\n",
              "      <td>21</td>\n",
              "      <td>2</td>\n",
              "      <td>2</td>\n",
              "      <td>C</td>\n",
              "      <td>4</td>\n",
              "      <td>1</td>\n",
              "      <td>2</td>\n",
              "      <td>0</td>\n",
              "      <td>0</td>\n",
              "      <td>2</td>\n",
              "      <td>1</td>\n",
              "      <td>10</td>\n",
              "      <td>B</td>\n",
              "      <td>N</td>\n",
              "      <td>O</td>\n",
              "      <td>Y</td>\n",
              "      <td>H</td>\n",
              "      <td>N</td>\n",
              "      <td>2</td>\n",
              "      <td>N</td>\n",
              "      <td>N</td>\n",
              "      <td>N</td>\n",
              "      <td>-1</td>\n",
              "      <td>13</td>\n",
              "      <td>-1</td>\n",
              "      <td>25</td>\n",
              "      <td>-1</td>\n",
              "      <td>23</td>\n",
              "      <td>-1</td>\n",
              "      <td>-1</td>\n",
              "      <td>-1</td>\n",
              "      <td>17</td>\n",
              "      <td>-1</td>\n",
              "      <td>-1</td>\n",
              "      <td>-1</td>\n",
              "      <td>-1</td>\n",
              "      <td>-1</td>\n",
              "      <td>8</td>\n",
              "      <td>N</td>\n",
              "      <td>IL</td>\n",
              "      <td>2013</td>\n",
              "      <td>8</td>\n",
              "      <td>5</td>\n",
              "      <td>True</td>\n",
              "      <td>False</td>\n",
              "      <td>False</td>\n",
              "      <td>False</td>\n",
              "      <td>False</td>\n",
              "      <td>False</td>\n",
              "      <td>True</td>\n",
              "      <td>True</td>\n",
              "      <td>14.0</td>\n",
              "      <td>0.9487</td>\n",
              "      <td>0.0006</td>\n",
              "      <td>1.3045</td>\n",
              "      <td>6.0</td>\n",
              "      <td>9.0</td>\n",
              "      <td>6.0</td>\n",
              "      <td>9.0</td>\n",
              "      <td>5.0</td>\n",
              "      <td>8.0</td>\n",
              "      <td>6.0</td>\n",
              "      <td>9.0</td>\n",
              "      <td>4.000000</td>\n",
              "      <td>8.0</td>\n",
              "      <td>3.0</td>\n",
              "      <td>8.0</td>\n",
              "      <td>4.0</td>\n",
              "      <td>12.0</td>\n",
              "      <td>4.0</td>\n",
              "      <td>1129.999604</td>\n",
              "      <td>-2.965073e-08</td>\n",
              "      <td>19.0</td>\n",
              "      <td>22.0</td>\n",
              "      <td>6.0</td>\n",
              "      <td>12.0</td>\n",
              "      <td>2.0</td>\n",
              "      <td>7.0</td>\n",
              "      <td>2.0</td>\n",
              "      <td>6.0</td>\n",
              "      <td>9.0</td>\n",
              "      <td>3.0</td>\n",
              "      <td>4.0</td>\n",
              "      <td>8.0</td>\n",
              "      <td>6.0</td>\n",
              "      <td>9.0</td>\n",
              "      <td>10.0</td>\n",
              "      <td>15.0</td>\n",
              "      <td>1.0</td>\n",
              "      <td>17.0</td>\n",
              "      <td>23.0</td>\n",
              "      <td>-3.456605e-13</td>\n",
              "      <td>18.0</td>\n",
              "      <td>22.0</td>\n",
              "      <td>6.0</td>\n",
              "      <td>13.0</td>\n",
              "      <td>14.0</td>\n",
              "      <td>13.0</td>\n",
              "      <td>13.0</td>\n",
              "      <td>16.0</td>\n",
              "      <td>9.0</td>\n",
              "      <td>7.0</td>\n",
              "      <td>13.0</td>\n",
              "      <td>22.0</td>\n",
              "      <td>16.0</td>\n",
              "      <td>19.0</td>\n",
              "      <td>13.0</td>\n",
              "      <td>20.0</td>\n",
              "      <td>25.0</td>\n",
              "      <td>25.0</td>\n",
              "      <td>11.0</td>\n",
              "      <td>19.0</td>\n",
              "      <td>16.0</td>\n",
              "      <td>19.0</td>\n",
              "      <td>11.0</td>\n",
              "      <td>19.0</td>\n",
              "      <td>15.0</td>\n",
              "      <td>19.0</td>\n",
              "      <td>15.0</td>\n",
              "      <td>23.0</td>\n",
              "      <td>3.000000</td>\n",
              "      <td>18.0</td>\n",
              "      <td>18.0</td>\n",
              "      <td>15.0</td>\n",
              "      <td>16.0</td>\n",
              "      <td>2.0</td>\n",
              "      <td>5.0</td>\n",
              "      <td>24.0</td>\n",
              "      <td>19.0</td>\n",
              "      <td>2.0</td>\n",
              "      <td>1.0</td>\n",
              "      <td>2.0</td>\n",
              "      <td>2.0</td>\n",
              "      <td>2.0</td>\n",
              "      <td>2.0</td>\n",
              "      <td>2.0</td>\n",
              "      <td>1.0</td>\n",
              "      <td>6.0</td>\n",
              "      <td>8.0</td>\n",
              "      <td>6.0</td>\n",
              "      <td>6.0</td>\n",
              "      <td>8.0</td>\n",
              "      <td>15.0</td>\n",
              "      <td>12.0</td>\n",
              "      <td>20.0</td>\n",
              "      <td>7.0</td>\n",
              "      <td>11.0</td>\n",
              "      <td>5.0</td>\n",
              "      <td>5.0</td>\n",
              "      <td>21.0</td>\n",
              "      <td>24.0</td>\n",
              "      <td>21.0</td>\n",
              "      <td>24.0</td>\n",
              "      <td>7.0</td>\n",
              "      <td>8.0</td>\n",
              "      <td>4.0</td>\n",
              "      <td>9.0</td>\n",
              "      <td>11.0</td>\n",
              "      <td>18.0</td>\n",
              "      <td>14.0</td>\n",
              "      <td>23.0</td>\n",
              "      <td>24.999999</td>\n",
              "      <td>25.0</td>\n",
              "      <td>15.0</td>\n",
              "      <td>13.0</td>\n",
              "      <td>25.0</td>\n",
              "      <td>25.0</td>\n",
              "      <td>12.0</td>\n",
              "      <td>20.0</td>\n",
              "      <td>13.0</td>\n",
              "      <td>13.0</td>\n",
              "      <td>7.0</td>\n",
              "      <td>7.0</td>\n",
              "      <td>21.0</td>\n",
              "      <td>23.0</td>\n",
              "      <td>5.0</td>\n",
              "      <td>3.0</td>\n",
              "      <td>18.0</td>\n",
              "      <td>18.0</td>\n",
              "      <td>17.0</td>\n",
              "      <td>13.0</td>\n",
              "      <td>13.0</td>\n",
              "      <td>9.0</td>\n",
              "      <td>17.0</td>\n",
              "      <td>18.0</td>\n",
              "      <td>17.0</td>\n",
              "      <td>19.0</td>\n",
              "      <td>20.0</td>\n",
              "      <td>18.0</td>\n",
              "      <td>8.0</td>\n",
              "      <td>5.0</td>\n",
              "      <td>4.0</td>\n",
              "      <td>6.0</td>\n",
              "      <td>12.0</td>\n",
              "      <td>10.0</td>\n",
              "      <td>8.0</td>\n",
              "      <td>12.0</td>\n",
              "      <td>14.0</td>\n",
              "      <td>18.0</td>\n",
              "      <td>22.0</td>\n",
              "      <td>16.0</td>\n",
              "      <td>24.0</td>\n",
              "      <td>35.000000</td>\n",
              "      <td>31.000001</td>\n",
              "      <td>242.999997</td>\n",
              "      <td>1.377907e+09</td>\n",
              "      <td>False</td>\n",
              "    </tr>\n",
              "    <tr>\n",
              "      <th>2</th>\n",
              "      <td>F</td>\n",
              "      <td>548</td>\n",
              "      <td>N</td>\n",
              "      <td>13</td>\n",
              "      <td>22</td>\n",
              "      <td>25</td>\n",
              "      <td>25</td>\n",
              "      <td>Y</td>\n",
              "      <td>E</td>\n",
              "      <td>1</td>\n",
              "      <td>5</td>\n",
              "      <td>5</td>\n",
              "      <td>P</td>\n",
              "      <td>0</td>\n",
              "      <td>0</td>\n",
              "      <td>1</td>\n",
              "      <td>0</td>\n",
              "      <td>1</td>\n",
              "      <td>1</td>\n",
              "      <td>1</td>\n",
              "      <td>1</td>\n",
              "      <td>7</td>\n",
              "      <td>0</td>\n",
              "      <td>N</td>\n",
              "      <td>1</td>\n",
              "      <td>2</td>\n",
              "      <td>0</td>\n",
              "      <td>1</td>\n",
              "      <td>2</td>\n",
              "      <td>ZH</td>\n",
              "      <td>XV</td>\n",
              "      <td>YF</td>\n",
              "      <td>XX</td>\n",
              "      <td>1</td>\n",
              "      <td>0</td>\n",
              "      <td>0</td>\n",
              "      <td>0</td>\n",
              "      <td>0</td>\n",
              "      <td>0</td>\n",
              "      <td>1</td>\n",
              "      <td>1</td>\n",
              "      <td>0</td>\n",
              "      <td>0</td>\n",
              "      <td>0</td>\n",
              "      <td>0</td>\n",
              "      <td>1</td>\n",
              "      <td>0</td>\n",
              "      <td>0</td>\n",
              "      <td>0</td>\n",
              "      <td>0</td>\n",
              "      <td>0</td>\n",
              "      <td>0</td>\n",
              "      <td>0</td>\n",
              "      <td>0</td>\n",
              "      <td>1</td>\n",
              "      <td>0</td>\n",
              "      <td>0</td>\n",
              "      <td>0</td>\n",
              "      <td>0</td>\n",
              "      <td>1</td>\n",
              "      <td>0</td>\n",
              "      <td>0</td>\n",
              "      <td>0</td>\n",
              "      <td>0</td>\n",
              "      <td>1</td>\n",
              "      <td>0</td>\n",
              "      <td>0</td>\n",
              "      <td>0</td>\n",
              "      <td>0</td>\n",
              "      <td>1</td>\n",
              "      <td>0</td>\n",
              "      <td>0</td>\n",
              "      <td>0</td>\n",
              "      <td>0</td>\n",
              "      <td>1</td>\n",
              "      <td>0</td>\n",
              "      <td>0</td>\n",
              "      <td>0</td>\n",
              "      <td>0</td>\n",
              "      <td>1</td>\n",
              "      <td>0</td>\n",
              "      <td>0</td>\n",
              "      <td>0</td>\n",
              "      <td>0</td>\n",
              "      <td>1</td>\n",
              "      <td>0</td>\n",
              "      <td>0</td>\n",
              "      <td>0</td>\n",
              "      <td>0</td>\n",
              "      <td>1</td>\n",
              "      <td>0</td>\n",
              "      <td>0</td>\n",
              "      <td>0</td>\n",
              "      <td>0</td>\n",
              "      <td>1</td>\n",
              "      <td>-1</td>\n",
              "      <td>N</td>\n",
              "      <td>N</td>\n",
              "      <td>Y</td>\n",
              "      <td>0</td>\n",
              "      <td>A</td>\n",
              "      <td>1</td>\n",
              "      <td>0</td>\n",
              "      <td>1</td>\n",
              "      <td>-1</td>\n",
              "      <td>21</td>\n",
              "      <td>1</td>\n",
              "      <td>2</td>\n",
              "      <td>A</td>\n",
              "      <td>1</td>\n",
              "      <td>1</td>\n",
              "      <td>1</td>\n",
              "      <td>1</td>\n",
              "      <td>0</td>\n",
              "      <td>2</td>\n",
              "      <td>1</td>\n",
              "      <td>4</td>\n",
              "      <td>B</td>\n",
              "      <td>N</td>\n",
              "      <td>O</td>\n",
              "      <td>Y</td>\n",
              "      <td>H</td>\n",
              "      <td>Y</td>\n",
              "      <td>2</td>\n",
              "      <td>N</td>\n",
              "      <td>Y</td>\n",
              "      <td>N</td>\n",
              "      <td>-1</td>\n",
              "      <td>18</td>\n",
              "      <td>-1</td>\n",
              "      <td>25</td>\n",
              "      <td>-1</td>\n",
              "      <td>17</td>\n",
              "      <td>-1</td>\n",
              "      <td>-1</td>\n",
              "      <td>-1</td>\n",
              "      <td>18</td>\n",
              "      <td>-1</td>\n",
              "      <td>-1</td>\n",
              "      <td>-1</td>\n",
              "      <td>-1</td>\n",
              "      <td>-1</td>\n",
              "      <td>8</td>\n",
              "      <td>N</td>\n",
              "      <td>NJ</td>\n",
              "      <td>2015</td>\n",
              "      <td>2</td>\n",
              "      <td>3</td>\n",
              "      <td>False</td>\n",
              "      <td>False</td>\n",
              "      <td>False</td>\n",
              "      <td>False</td>\n",
              "      <td>False</td>\n",
              "      <td>False</td>\n",
              "      <td>True</td>\n",
              "      <td>True</td>\n",
              "      <td>22.0</td>\n",
              "      <td>0.9893</td>\n",
              "      <td>0.0040</td>\n",
              "      <td>1.2433</td>\n",
              "      <td>7.0</td>\n",
              "      <td>12.0</td>\n",
              "      <td>7.0</td>\n",
              "      <td>12.0</td>\n",
              "      <td>10.0</td>\n",
              "      <td>17.0</td>\n",
              "      <td>7.0</td>\n",
              "      <td>11.0</td>\n",
              "      <td>8.000000</td>\n",
              "      <td>17.0</td>\n",
              "      <td>4.0</td>\n",
              "      <td>10.0</td>\n",
              "      <td>4.0</td>\n",
              "      <td>12.0</td>\n",
              "      <td>11.0</td>\n",
              "      <td>30835.999977</td>\n",
              "      <td>1.000000e+00</td>\n",
              "      <td>3.0</td>\n",
              "      <td>3.0</td>\n",
              "      <td>6.0</td>\n",
              "      <td>13.0</td>\n",
              "      <td>1.0</td>\n",
              "      <td>10.0</td>\n",
              "      <td>2.0</td>\n",
              "      <td>24.0</td>\n",
              "      <td>25.0</td>\n",
              "      <td>12.0</td>\n",
              "      <td>3.0</td>\n",
              "      <td>6.0</td>\n",
              "      <td>7.0</td>\n",
              "      <td>12.0</td>\n",
              "      <td>9.0</td>\n",
              "      <td>13.0</td>\n",
              "      <td>2.0</td>\n",
              "      <td>6.0</td>\n",
              "      <td>7.0</td>\n",
              "      <td>-3.456605e-13</td>\n",
              "      <td>13.0</td>\n",
              "      <td>15.0</td>\n",
              "      <td>8.0</td>\n",
              "      <td>17.0</td>\n",
              "      <td>14.0</td>\n",
              "      <td>13.0</td>\n",
              "      <td>7.0</td>\n",
              "      <td>6.0</td>\n",
              "      <td>13.0</td>\n",
              "      <td>13.0</td>\n",
              "      <td>5.0</td>\n",
              "      <td>16.0</td>\n",
              "      <td>10.0</td>\n",
              "      <td>16.0</td>\n",
              "      <td>6.0</td>\n",
              "      <td>16.0</td>\n",
              "      <td>6.0</td>\n",
              "      <td>14.0</td>\n",
              "      <td>4.0</td>\n",
              "      <td>13.0</td>\n",
              "      <td>10.0</td>\n",
              "      <td>16.0</td>\n",
              "      <td>5.0</td>\n",
              "      <td>16.0</td>\n",
              "      <td>11.0</td>\n",
              "      <td>17.0</td>\n",
              "      <td>7.0</td>\n",
              "      <td>16.0</td>\n",
              "      <td>2.000000</td>\n",
              "      <td>13.0</td>\n",
              "      <td>16.0</td>\n",
              "      <td>25.0</td>\n",
              "      <td>25.0</td>\n",
              "      <td>25.0</td>\n",
              "      <td>25.0</td>\n",
              "      <td>18.0</td>\n",
              "      <td>17.0</td>\n",
              "      <td>21.0</td>\n",
              "      <td>22.0</td>\n",
              "      <td>18.0</td>\n",
              "      <td>19.0</td>\n",
              "      <td>13.0</td>\n",
              "      <td>17.0</td>\n",
              "      <td>22.0</td>\n",
              "      <td>21.0</td>\n",
              "      <td>8.0</td>\n",
              "      <td>14.0</td>\n",
              "      <td>8.0</td>\n",
              "      <td>12.0</td>\n",
              "      <td>10.0</td>\n",
              "      <td>20.0</td>\n",
              "      <td>8.0</td>\n",
              "      <td>11.0</td>\n",
              "      <td>12.0</td>\n",
              "      <td>19.0</td>\n",
              "      <td>5.0</td>\n",
              "      <td>5.0</td>\n",
              "      <td>11.0</td>\n",
              "      <td>13.0</td>\n",
              "      <td>14.0</td>\n",
              "      <td>22.0</td>\n",
              "      <td>12.0</td>\n",
              "      <td>20.0</td>\n",
              "      <td>4.0</td>\n",
              "      <td>7.0</td>\n",
              "      <td>12.0</td>\n",
              "      <td>20.0</td>\n",
              "      <td>14.0</td>\n",
              "      <td>22.0</td>\n",
              "      <td>10.000000</td>\n",
              "      <td>17.0</td>\n",
              "      <td>23.0</td>\n",
              "      <td>20.0</td>\n",
              "      <td>14.0</td>\n",
              "      <td>18.0</td>\n",
              "      <td>9.0</td>\n",
              "      <td>11.0</td>\n",
              "      <td>20.0</td>\n",
              "      <td>21.0</td>\n",
              "      <td>9.0</td>\n",
              "      <td>12.0</td>\n",
              "      <td>20.0</td>\n",
              "      <td>22.0</td>\n",
              "      <td>6.0</td>\n",
              "      <td>7.0</td>\n",
              "      <td>17.0</td>\n",
              "      <td>16.0</td>\n",
              "      <td>14.0</td>\n",
              "      <td>8.0</td>\n",
              "      <td>14.0</td>\n",
              "      <td>10.0</td>\n",
              "      <td>17.0</td>\n",
              "      <td>19.0</td>\n",
              "      <td>17.0</td>\n",
              "      <td>18.0</td>\n",
              "      <td>17.0</td>\n",
              "      <td>13.0</td>\n",
              "      <td>9.0</td>\n",
              "      <td>6.0</td>\n",
              "      <td>7.0</td>\n",
              "      <td>14.0</td>\n",
              "      <td>2.0</td>\n",
              "      <td>15.0</td>\n",
              "      <td>17.0</td>\n",
              "      <td>17.0</td>\n",
              "      <td>22.0</td>\n",
              "      <td>16.0</td>\n",
              "      <td>20.0</td>\n",
              "      <td>8.0</td>\n",
              "      <td>24.0</td>\n",
              "      <td>9.000000</td>\n",
              "      <td>26.000000</td>\n",
              "      <td>56.999998</td>\n",
              "      <td>1.424909e+09</td>\n",
              "      <td>True</td>\n",
              "    </tr>\n",
              "    <tr>\n",
              "      <th>3</th>\n",
              "      <td>B</td>\n",
              "      <td>935</td>\n",
              "      <td>N</td>\n",
              "      <td>13</td>\n",
              "      <td>22</td>\n",
              "      <td>13</td>\n",
              "      <td>23</td>\n",
              "      <td>Y</td>\n",
              "      <td>D</td>\n",
              "      <td>1</td>\n",
              "      <td>5</td>\n",
              "      <td>5</td>\n",
              "      <td>T</td>\n",
              "      <td>0</td>\n",
              "      <td>0</td>\n",
              "      <td>0</td>\n",
              "      <td>0</td>\n",
              "      <td>0</td>\n",
              "      <td>0</td>\n",
              "      <td>1</td>\n",
              "      <td>1</td>\n",
              "      <td>7</td>\n",
              "      <td>0</td>\n",
              "      <td>N</td>\n",
              "      <td>1</td>\n",
              "      <td>1</td>\n",
              "      <td>1</td>\n",
              "      <td>4</td>\n",
              "      <td>2</td>\n",
              "      <td>ZA</td>\n",
              "      <td>ZE</td>\n",
              "      <td>XR</td>\n",
              "      <td>XD</td>\n",
              "      <td>1</td>\n",
              "      <td>0</td>\n",
              "      <td>0</td>\n",
              "      <td>0</td>\n",
              "      <td>0</td>\n",
              "      <td>1</td>\n",
              "      <td>2</td>\n",
              "      <td>2</td>\n",
              "      <td>0</td>\n",
              "      <td>0</td>\n",
              "      <td>1</td>\n",
              "      <td>1</td>\n",
              "      <td>1</td>\n",
              "      <td>0</td>\n",
              "      <td>0</td>\n",
              "      <td>0</td>\n",
              "      <td>0</td>\n",
              "      <td>0</td>\n",
              "      <td>0</td>\n",
              "      <td>0</td>\n",
              "      <td>0</td>\n",
              "      <td>1</td>\n",
              "      <td>0</td>\n",
              "      <td>0</td>\n",
              "      <td>1</td>\n",
              "      <td>1</td>\n",
              "      <td>2</td>\n",
              "      <td>0</td>\n",
              "      <td>0</td>\n",
              "      <td>0</td>\n",
              "      <td>0</td>\n",
              "      <td>1</td>\n",
              "      <td>0</td>\n",
              "      <td>0</td>\n",
              "      <td>0</td>\n",
              "      <td>0</td>\n",
              "      <td>1</td>\n",
              "      <td>0</td>\n",
              "      <td>0</td>\n",
              "      <td>0</td>\n",
              "      <td>0</td>\n",
              "      <td>1</td>\n",
              "      <td>0</td>\n",
              "      <td>0</td>\n",
              "      <td>0</td>\n",
              "      <td>0</td>\n",
              "      <td>1</td>\n",
              "      <td>0</td>\n",
              "      <td>0</td>\n",
              "      <td>0</td>\n",
              "      <td>0</td>\n",
              "      <td>1</td>\n",
              "      <td>0</td>\n",
              "      <td>0</td>\n",
              "      <td>1</td>\n",
              "      <td>1</td>\n",
              "      <td>2</td>\n",
              "      <td>0</td>\n",
              "      <td>0</td>\n",
              "      <td>0</td>\n",
              "      <td>0</td>\n",
              "      <td>1</td>\n",
              "      <td>-1</td>\n",
              "      <td>N</td>\n",
              "      <td>N</td>\n",
              "      <td>Y</td>\n",
              "      <td>0</td>\n",
              "      <td>O</td>\n",
              "      <td>1</td>\n",
              "      <td>0</td>\n",
              "      <td>1</td>\n",
              "      <td>-1</td>\n",
              "      <td>21</td>\n",
              "      <td>4</td>\n",
              "      <td>2</td>\n",
              "      <td>C</td>\n",
              "      <td>1</td>\n",
              "      <td>1</td>\n",
              "      <td>2</td>\n",
              "      <td>0</td>\n",
              "      <td>0</td>\n",
              "      <td>2</td>\n",
              "      <td>1</td>\n",
              "      <td>10</td>\n",
              "      <td>B</td>\n",
              "      <td>N</td>\n",
              "      <td>O</td>\n",
              "      <td>Y</td>\n",
              "      <td>H</td>\n",
              "      <td>Y</td>\n",
              "      <td>2</td>\n",
              "      <td>N</td>\n",
              "      <td>N</td>\n",
              "      <td>N</td>\n",
              "      <td>-1</td>\n",
              "      <td>13</td>\n",
              "      <td>-1</td>\n",
              "      <td>25</td>\n",
              "      <td>-1</td>\n",
              "      <td>7</td>\n",
              "      <td>-1</td>\n",
              "      <td>-1</td>\n",
              "      <td>-1</td>\n",
              "      <td>15</td>\n",
              "      <td>-1</td>\n",
              "      <td>-1</td>\n",
              "      <td>-1</td>\n",
              "      <td>-1</td>\n",
              "      <td>-1</td>\n",
              "      <td>21</td>\n",
              "      <td>N</td>\n",
              "      <td>CA</td>\n",
              "      <td>2014</td>\n",
              "      <td>11</td>\n",
              "      <td>2</td>\n",
              "      <td>False</td>\n",
              "      <td>False</td>\n",
              "      <td>False</td>\n",
              "      <td>False</td>\n",
              "      <td>False</td>\n",
              "      <td>False</td>\n",
              "      <td>False</td>\n",
              "      <td>True</td>\n",
              "      <td>25.0</td>\n",
              "      <td>0.9153</td>\n",
              "      <td>0.0007</td>\n",
              "      <td>1.0200</td>\n",
              "      <td>3.0</td>\n",
              "      <td>3.0</td>\n",
              "      <td>3.0</td>\n",
              "      <td>3.0</td>\n",
              "      <td>3.0</td>\n",
              "      <td>3.0</td>\n",
              "      <td>3.0</td>\n",
              "      <td>3.0</td>\n",
              "      <td>14.000000</td>\n",
              "      <td>23.0</td>\n",
              "      <td>2.0</td>\n",
              "      <td>1.0</td>\n",
              "      <td>3.0</td>\n",
              "      <td>10.0</td>\n",
              "      <td>11.0</td>\n",
              "      <td>21377.999465</td>\n",
              "      <td>-2.965073e-08</td>\n",
              "      <td>20.0</td>\n",
              "      <td>24.0</td>\n",
              "      <td>3.0</td>\n",
              "      <td>1.0</td>\n",
              "      <td>2.0</td>\n",
              "      <td>24.0</td>\n",
              "      <td>2.0</td>\n",
              "      <td>12.0</td>\n",
              "      <td>17.0</td>\n",
              "      <td>25.0</td>\n",
              "      <td>3.0</td>\n",
              "      <td>4.0</td>\n",
              "      <td>3.0</td>\n",
              "      <td>3.0</td>\n",
              "      <td>3.0</td>\n",
              "      <td>3.0</td>\n",
              "      <td>1.0</td>\n",
              "      <td>8.0</td>\n",
              "      <td>10.0</td>\n",
              "      <td>-3.456605e-13</td>\n",
              "      <td>12.0</td>\n",
              "      <td>15.0</td>\n",
              "      <td>14.0</td>\n",
              "      <td>23.0</td>\n",
              "      <td>11.0</td>\n",
              "      <td>10.0</td>\n",
              "      <td>5.0</td>\n",
              "      <td>4.0</td>\n",
              "      <td>20.0</td>\n",
              "      <td>22.0</td>\n",
              "      <td>2.0</td>\n",
              "      <td>4.0</td>\n",
              "      <td>8.0</td>\n",
              "      <td>10.0</td>\n",
              "      <td>2.0</td>\n",
              "      <td>10.0</td>\n",
              "      <td>1.0</td>\n",
              "      <td>1.0</td>\n",
              "      <td>2.0</td>\n",
              "      <td>7.0</td>\n",
              "      <td>6.0</td>\n",
              "      <td>10.0</td>\n",
              "      <td>2.0</td>\n",
              "      <td>10.0</td>\n",
              "      <td>11.0</td>\n",
              "      <td>18.0</td>\n",
              "      <td>3.0</td>\n",
              "      <td>10.0</td>\n",
              "      <td>2.000000</td>\n",
              "      <td>17.0</td>\n",
              "      <td>14.0</td>\n",
              "      <td>3.0</td>\n",
              "      <td>5.0</td>\n",
              "      <td>3.0</td>\n",
              "      <td>7.0</td>\n",
              "      <td>9.0</td>\n",
              "      <td>8.0</td>\n",
              "      <td>22.0</td>\n",
              "      <td>23.0</td>\n",
              "      <td>25.0</td>\n",
              "      <td>25.0</td>\n",
              "      <td>25.0</td>\n",
              "      <td>25.0</td>\n",
              "      <td>24.0</td>\n",
              "      <td>23.0</td>\n",
              "      <td>11.0</td>\n",
              "      <td>18.0</td>\n",
              "      <td>7.0</td>\n",
              "      <td>9.0</td>\n",
              "      <td>11.0</td>\n",
              "      <td>21.0</td>\n",
              "      <td>2.0</td>\n",
              "      <td>1.0</td>\n",
              "      <td>6.0</td>\n",
              "      <td>10.0</td>\n",
              "      <td>4.0</td>\n",
              "      <td>4.0</td>\n",
              "      <td>16.0</td>\n",
              "      <td>21.0</td>\n",
              "      <td>9.0</td>\n",
              "      <td>16.0</td>\n",
              "      <td>14.0</td>\n",
              "      <td>21.0</td>\n",
              "      <td>19.0</td>\n",
              "      <td>24.0</td>\n",
              "      <td>13.0</td>\n",
              "      <td>20.0</td>\n",
              "      <td>3.0</td>\n",
              "      <td>3.0</td>\n",
              "      <td>2.000000</td>\n",
              "      <td>2.0</td>\n",
              "      <td>1.0</td>\n",
              "      <td>1.0</td>\n",
              "      <td>6.0</td>\n",
              "      <td>6.0</td>\n",
              "      <td>1.0</td>\n",
              "      <td>1.0</td>\n",
              "      <td>8.0</td>\n",
              "      <td>3.0</td>\n",
              "      <td>9.0</td>\n",
              "      <td>9.0</td>\n",
              "      <td>16.0</td>\n",
              "      <td>17.0</td>\n",
              "      <td>1.0</td>\n",
              "      <td>1.0</td>\n",
              "      <td>10.0</td>\n",
              "      <td>7.0</td>\n",
              "      <td>15.0</td>\n",
              "      <td>10.0</td>\n",
              "      <td>12.0</td>\n",
              "      <td>8.0</td>\n",
              "      <td>9.0</td>\n",
              "      <td>6.0</td>\n",
              "      <td>8.0</td>\n",
              "      <td>6.0</td>\n",
              "      <td>11.0</td>\n",
              "      <td>5.0</td>\n",
              "      <td>13.0</td>\n",
              "      <td>12.0</td>\n",
              "      <td>15.0</td>\n",
              "      <td>22.0</td>\n",
              "      <td>19.0</td>\n",
              "      <td>9.0</td>\n",
              "      <td>6.0</td>\n",
              "      <td>5.0</td>\n",
              "      <td>3.0</td>\n",
              "      <td>4.0</td>\n",
              "      <td>2.0</td>\n",
              "      <td>6.0</td>\n",
              "      <td>24.0</td>\n",
              "      <td>47.000000</td>\n",
              "      <td>19.000000</td>\n",
              "      <td>322.999999</td>\n",
              "      <td>1.416355e+09</td>\n",
              "      <td>False</td>\n",
              "    </tr>\n",
              "    <tr>\n",
              "      <th>4</th>\n",
              "      <td>J</td>\n",
              "      <td>1,113</td>\n",
              "      <td>N</td>\n",
              "      <td>13</td>\n",
              "      <td>22</td>\n",
              "      <td>1</td>\n",
              "      <td>6</td>\n",
              "      <td>X</td>\n",
              "      <td>G</td>\n",
              "      <td>0</td>\n",
              "      <td>5</td>\n",
              "      <td>5</td>\n",
              "      <td>T</td>\n",
              "      <td>0</td>\n",
              "      <td>1</td>\n",
              "      <td>1</td>\n",
              "      <td>0</td>\n",
              "      <td>0</td>\n",
              "      <td>0</td>\n",
              "      <td>1</td>\n",
              "      <td>1</td>\n",
              "      <td>6</td>\n",
              "      <td>1</td>\n",
              "      <td>N</td>\n",
              "      <td>1</td>\n",
              "      <td>2</td>\n",
              "      <td>0</td>\n",
              "      <td>1</td>\n",
              "      <td>2</td>\n",
              "      <td>YF</td>\n",
              "      <td>ZK</td>\n",
              "      <td>XN</td>\n",
              "      <td>XC</td>\n",
              "      <td>1</td>\n",
              "      <td>0</td>\n",
              "      <td>0</td>\n",
              "      <td>0</td>\n",
              "      <td>0</td>\n",
              "      <td>0</td>\n",
              "      <td>1</td>\n",
              "      <td>1</td>\n",
              "      <td>0</td>\n",
              "      <td>0</td>\n",
              "      <td>0</td>\n",
              "      <td>0</td>\n",
              "      <td>1</td>\n",
              "      <td>0</td>\n",
              "      <td>0</td>\n",
              "      <td>0</td>\n",
              "      <td>0</td>\n",
              "      <td>0</td>\n",
              "      <td>0</td>\n",
              "      <td>0</td>\n",
              "      <td>0</td>\n",
              "      <td>1</td>\n",
              "      <td>0</td>\n",
              "      <td>0</td>\n",
              "      <td>0</td>\n",
              "      <td>0</td>\n",
              "      <td>1</td>\n",
              "      <td>0</td>\n",
              "      <td>0</td>\n",
              "      <td>0</td>\n",
              "      <td>0</td>\n",
              "      <td>1</td>\n",
              "      <td>0</td>\n",
              "      <td>0</td>\n",
              "      <td>0</td>\n",
              "      <td>0</td>\n",
              "      <td>1</td>\n",
              "      <td>0</td>\n",
              "      <td>0</td>\n",
              "      <td>0</td>\n",
              "      <td>0</td>\n",
              "      <td>1</td>\n",
              "      <td>0</td>\n",
              "      <td>0</td>\n",
              "      <td>0</td>\n",
              "      <td>0</td>\n",
              "      <td>1</td>\n",
              "      <td>0</td>\n",
              "      <td>0</td>\n",
              "      <td>0</td>\n",
              "      <td>0</td>\n",
              "      <td>1</td>\n",
              "      <td>0</td>\n",
              "      <td>0</td>\n",
              "      <td>0</td>\n",
              "      <td>0</td>\n",
              "      <td>1</td>\n",
              "      <td>0</td>\n",
              "      <td>0</td>\n",
              "      <td>0</td>\n",
              "      <td>0</td>\n",
              "      <td>1</td>\n",
              "      <td>-1</td>\n",
              "      <td>Y</td>\n",
              "      <td>Y</td>\n",
              "      <td>Y</td>\n",
              "      <td>0</td>\n",
              "      <td>J</td>\n",
              "      <td>1</td>\n",
              "      <td>0</td>\n",
              "      <td>1</td>\n",
              "      <td>-1</td>\n",
              "      <td>21</td>\n",
              "      <td>4</td>\n",
              "      <td>2</td>\n",
              "      <td>C</td>\n",
              "      <td>1</td>\n",
              "      <td>1</td>\n",
              "      <td>2</td>\n",
              "      <td>1</td>\n",
              "      <td>0</td>\n",
              "      <td>2</td>\n",
              "      <td>4</td>\n",
              "      <td>10</td>\n",
              "      <td>B</td>\n",
              "      <td>N</td>\n",
              "      <td>O</td>\n",
              "      <td>N</td>\n",
              "      <td>G</td>\n",
              "      <td>N</td>\n",
              "      <td>0</td>\n",
              "      <td>N</td>\n",
              "      <td>N</td>\n",
              "      <td>N</td>\n",
              "      <td>25</td>\n",
              "      <td>25</td>\n",
              "      <td>-1</td>\n",
              "      <td>25</td>\n",
              "      <td>-1</td>\n",
              "      <td>17</td>\n",
              "      <td>-1</td>\n",
              "      <td>-1</td>\n",
              "      <td>-1</td>\n",
              "      <td>15</td>\n",
              "      <td>-1</td>\n",
              "      <td>-1</td>\n",
              "      <td>-1</td>\n",
              "      <td>-1</td>\n",
              "      <td>-1</td>\n",
              "      <td>8</td>\n",
              "      <td>N</td>\n",
              "      <td>TX</td>\n",
              "      <td>2014</td>\n",
              "      <td>11</td>\n",
              "      <td>1</td>\n",
              "      <td>False</td>\n",
              "      <td>False</td>\n",
              "      <td>False</td>\n",
              "      <td>False</td>\n",
              "      <td>False</td>\n",
              "      <td>False</td>\n",
              "      <td>True</td>\n",
              "      <td>True</td>\n",
              "      <td>26.0</td>\n",
              "      <td>0.8870</td>\n",
              "      <td>0.0004</td>\n",
              "      <td>1.2665</td>\n",
              "      <td>10.0</td>\n",
              "      <td>16.0</td>\n",
              "      <td>10.0</td>\n",
              "      <td>16.0</td>\n",
              "      <td>8.0</td>\n",
              "      <td>14.0</td>\n",
              "      <td>9.0</td>\n",
              "      <td>16.0</td>\n",
              "      <td>18.000000</td>\n",
              "      <td>24.0</td>\n",
              "      <td>17.0</td>\n",
              "      <td>24.0</td>\n",
              "      <td>14.0</td>\n",
              "      <td>24.0</td>\n",
              "      <td>22.0</td>\n",
              "      <td>29808.999885</td>\n",
              "      <td>1.000000e+00</td>\n",
              "      <td>17.0</td>\n",
              "      <td>21.0</td>\n",
              "      <td>15.0</td>\n",
              "      <td>21.0</td>\n",
              "      <td>2.0</td>\n",
              "      <td>7.0</td>\n",
              "      <td>2.0</td>\n",
              "      <td>10.0</td>\n",
              "      <td>14.0</td>\n",
              "      <td>8.0</td>\n",
              "      <td>5.0</td>\n",
              "      <td>10.0</td>\n",
              "      <td>10.0</td>\n",
              "      <td>16.0</td>\n",
              "      <td>11.0</td>\n",
              "      <td>16.0</td>\n",
              "      <td>1.0</td>\n",
              "      <td>18.0</td>\n",
              "      <td>23.0</td>\n",
              "      <td>-3.456605e-13</td>\n",
              "      <td>11.0</td>\n",
              "      <td>12.0</td>\n",
              "      <td>2.0</td>\n",
              "      <td>2.0</td>\n",
              "      <td>10.0</td>\n",
              "      <td>8.0</td>\n",
              "      <td>2.0</td>\n",
              "      <td>2.0</td>\n",
              "      <td>14.0</td>\n",
              "      <td>15.0</td>\n",
              "      <td>11.0</td>\n",
              "      <td>19.0</td>\n",
              "      <td>21.0</td>\n",
              "      <td>20.0</td>\n",
              "      <td>12.0</td>\n",
              "      <td>19.0</td>\n",
              "      <td>17.0</td>\n",
              "      <td>20.0</td>\n",
              "      <td>12.0</td>\n",
              "      <td>20.0</td>\n",
              "      <td>19.0</td>\n",
              "      <td>19.0</td>\n",
              "      <td>13.0</td>\n",
              "      <td>20.0</td>\n",
              "      <td>23.0</td>\n",
              "      <td>22.0</td>\n",
              "      <td>10.0</td>\n",
              "      <td>19.0</td>\n",
              "      <td>2.000000</td>\n",
              "      <td>6.0</td>\n",
              "      <td>3.0</td>\n",
              "      <td>7.0</td>\n",
              "      <td>9.0</td>\n",
              "      <td>3.0</td>\n",
              "      <td>5.0</td>\n",
              "      <td>5.0</td>\n",
              "      <td>19.0</td>\n",
              "      <td>20.0</td>\n",
              "      <td>21.0</td>\n",
              "      <td>14.0</td>\n",
              "      <td>11.0</td>\n",
              "      <td>7.0</td>\n",
              "      <td>8.0</td>\n",
              "      <td>18.0</td>\n",
              "      <td>17.0</td>\n",
              "      <td>4.0</td>\n",
              "      <td>4.0</td>\n",
              "      <td>9.0</td>\n",
              "      <td>12.0</td>\n",
              "      <td>5.0</td>\n",
              "      <td>5.0</td>\n",
              "      <td>5.0</td>\n",
              "      <td>5.0</td>\n",
              "      <td>4.0</td>\n",
              "      <td>4.0</td>\n",
              "      <td>6.0</td>\n",
              "      <td>7.0</td>\n",
              "      <td>3.0</td>\n",
              "      <td>2.0</td>\n",
              "      <td>4.0</td>\n",
              "      <td>5.0</td>\n",
              "      <td>5.0</td>\n",
              "      <td>4.0</td>\n",
              "      <td>4.0</td>\n",
              "      <td>9.0</td>\n",
              "      <td>5.0</td>\n",
              "      <td>5.0</td>\n",
              "      <td>6.0</td>\n",
              "      <td>10.0</td>\n",
              "      <td>8.000000</td>\n",
              "      <td>13.0</td>\n",
              "      <td>14.0</td>\n",
              "      <td>10.0</td>\n",
              "      <td>14.0</td>\n",
              "      <td>18.0</td>\n",
              "      <td>25.0</td>\n",
              "      <td>25.0</td>\n",
              "      <td>8.0</td>\n",
              "      <td>4.0</td>\n",
              "      <td>12.0</td>\n",
              "      <td>20.0</td>\n",
              "      <td>13.0</td>\n",
              "      <td>15.0</td>\n",
              "      <td>8.0</td>\n",
              "      <td>15.0</td>\n",
              "      <td>13.0</td>\n",
              "      <td>10.0</td>\n",
              "      <td>18.0</td>\n",
              "      <td>16.0</td>\n",
              "      <td>16.0</td>\n",
              "      <td>14.0</td>\n",
              "      <td>13.0</td>\n",
              "      <td>12.0</td>\n",
              "      <td>12.0</td>\n",
              "      <td>12.0</td>\n",
              "      <td>17.0</td>\n",
              "      <td>12.0</td>\n",
              "      <td>8.0</td>\n",
              "      <td>5.0</td>\n",
              "      <td>4.0</td>\n",
              "      <td>8.0</td>\n",
              "      <td>15.0</td>\n",
              "      <td>18.0</td>\n",
              "      <td>22.0</td>\n",
              "      <td>1.0</td>\n",
              "      <td>1.0</td>\n",
              "      <td>7.0</td>\n",
              "      <td>6.0</td>\n",
              "      <td>1.0</td>\n",
              "      <td>10.0</td>\n",
              "      <td>44.999999</td>\n",
              "      <td>4.000000</td>\n",
              "      <td>307.999995</td>\n",
              "      <td>1.415059e+09</td>\n",
              "      <td>False</td>\n",
              "    </tr>\n",
              "    <tr>\n",
              "      <th>5</th>\n",
              "      <td>B</td>\n",
              "      <td>935</td>\n",
              "      <td>N</td>\n",
              "      <td>13</td>\n",
              "      <td>22</td>\n",
              "      <td>13</td>\n",
              "      <td>23</td>\n",
              "      <td>Y</td>\n",
              "      <td>E</td>\n",
              "      <td>1</td>\n",
              "      <td>5</td>\n",
              "      <td>4</td>\n",
              "      <td>T</td>\n",
              "      <td>0</td>\n",
              "      <td>0</td>\n",
              "      <td>0</td>\n",
              "      <td>0</td>\n",
              "      <td>0</td>\n",
              "      <td>0</td>\n",
              "      <td>1</td>\n",
              "      <td>1</td>\n",
              "      <td>7</td>\n",
              "      <td>0</td>\n",
              "      <td>N</td>\n",
              "      <td>1</td>\n",
              "      <td>2</td>\n",
              "      <td>0</td>\n",
              "      <td>3</td>\n",
              "      <td>2</td>\n",
              "      <td>ZA</td>\n",
              "      <td>ZE</td>\n",
              "      <td>XR</td>\n",
              "      <td>XD</td>\n",
              "      <td>1</td>\n",
              "      <td>0</td>\n",
              "      <td>0</td>\n",
              "      <td>0</td>\n",
              "      <td>0</td>\n",
              "      <td>1</td>\n",
              "      <td>2</td>\n",
              "      <td>2</td>\n",
              "      <td>0</td>\n",
              "      <td>0</td>\n",
              "      <td>1</td>\n",
              "      <td>1</td>\n",
              "      <td>1</td>\n",
              "      <td>0</td>\n",
              "      <td>0</td>\n",
              "      <td>0</td>\n",
              "      <td>0</td>\n",
              "      <td>0</td>\n",
              "      <td>0</td>\n",
              "      <td>0</td>\n",
              "      <td>0</td>\n",
              "      <td>1</td>\n",
              "      <td>0</td>\n",
              "      <td>0</td>\n",
              "      <td>1</td>\n",
              "      <td>1</td>\n",
              "      <td>2</td>\n",
              "      <td>0</td>\n",
              "      <td>0</td>\n",
              "      <td>0</td>\n",
              "      <td>0</td>\n",
              "      <td>1</td>\n",
              "      <td>0</td>\n",
              "      <td>0</td>\n",
              "      <td>0</td>\n",
              "      <td>0</td>\n",
              "      <td>1</td>\n",
              "      <td>0</td>\n",
              "      <td>0</td>\n",
              "      <td>0</td>\n",
              "      <td>0</td>\n",
              "      <td>1</td>\n",
              "      <td>0</td>\n",
              "      <td>0</td>\n",
              "      <td>0</td>\n",
              "      <td>0</td>\n",
              "      <td>1</td>\n",
              "      <td>0</td>\n",
              "      <td>0</td>\n",
              "      <td>0</td>\n",
              "      <td>0</td>\n",
              "      <td>1</td>\n",
              "      <td>0</td>\n",
              "      <td>0</td>\n",
              "      <td>1</td>\n",
              "      <td>1</td>\n",
              "      <td>2</td>\n",
              "      <td>0</td>\n",
              "      <td>0</td>\n",
              "      <td>0</td>\n",
              "      <td>0</td>\n",
              "      <td>1</td>\n",
              "      <td>-1</td>\n",
              "      <td>N</td>\n",
              "      <td>N</td>\n",
              "      <td>Y</td>\n",
              "      <td>0</td>\n",
              "      <td>O</td>\n",
              "      <td>0</td>\n",
              "      <td>0</td>\n",
              "      <td>1</td>\n",
              "      <td>-1</td>\n",
              "      <td>21</td>\n",
              "      <td>2</td>\n",
              "      <td>1</td>\n",
              "      <td>C</td>\n",
              "      <td>2</td>\n",
              "      <td>1</td>\n",
              "      <td>2</td>\n",
              "      <td>0</td>\n",
              "      <td>0</td>\n",
              "      <td>2</td>\n",
              "      <td>1</td>\n",
              "      <td>10</td>\n",
              "      <td>D</td>\n",
              "      <td>N</td>\n",
              "      <td>O</td>\n",
              "      <td>Y</td>\n",
              "      <td>G</td>\n",
              "      <td>Y</td>\n",
              "      <td>2</td>\n",
              "      <td>N</td>\n",
              "      <td>Y</td>\n",
              "      <td>N</td>\n",
              "      <td>-1</td>\n",
              "      <td>13</td>\n",
              "      <td>-1</td>\n",
              "      <td>25</td>\n",
              "      <td>-1</td>\n",
              "      <td>7</td>\n",
              "      <td>-1</td>\n",
              "      <td>-1</td>\n",
              "      <td>-1</td>\n",
              "      <td>15</td>\n",
              "      <td>-1</td>\n",
              "      <td>-1</td>\n",
              "      <td>-1</td>\n",
              "      <td>-1</td>\n",
              "      <td>-1</td>\n",
              "      <td>21</td>\n",
              "      <td>N</td>\n",
              "      <td>CA</td>\n",
              "      <td>2014</td>\n",
              "      <td>9</td>\n",
              "      <td>1</td>\n",
              "      <td>False</td>\n",
              "      <td>False</td>\n",
              "      <td>False</td>\n",
              "      <td>False</td>\n",
              "      <td>False</td>\n",
              "      <td>False</td>\n",
              "      <td>False</td>\n",
              "      <td>True</td>\n",
              "      <td>25.0</td>\n",
              "      <td>0.9153</td>\n",
              "      <td>0.0007</td>\n",
              "      <td>1.0200</td>\n",
              "      <td>9.0</td>\n",
              "      <td>15.0</td>\n",
              "      <td>9.0</td>\n",
              "      <td>15.0</td>\n",
              "      <td>8.0</td>\n",
              "      <td>13.0</td>\n",
              "      <td>8.0</td>\n",
              "      <td>15.0</td>\n",
              "      <td>7.000000</td>\n",
              "      <td>15.0</td>\n",
              "      <td>5.0</td>\n",
              "      <td>14.0</td>\n",
              "      <td>4.0</td>\n",
              "      <td>13.0</td>\n",
              "      <td>11.0</td>\n",
              "      <td>20190.000282</td>\n",
              "      <td>-2.965073e-08</td>\n",
              "      <td>4.0</td>\n",
              "      <td>5.0</td>\n",
              "      <td>5.0</td>\n",
              "      <td>4.0</td>\n",
              "      <td>4.0</td>\n",
              "      <td>24.0</td>\n",
              "      <td>2.0</td>\n",
              "      <td>17.0</td>\n",
              "      <td>21.0</td>\n",
              "      <td>22.0</td>\n",
              "      <td>14.0</td>\n",
              "      <td>22.0</td>\n",
              "      <td>9.0</td>\n",
              "      <td>15.0</td>\n",
              "      <td>9.0</td>\n",
              "      <td>13.0</td>\n",
              "      <td>1.0</td>\n",
              "      <td>16.0</td>\n",
              "      <td>21.0</td>\n",
              "      <td>-3.456605e-13</td>\n",
              "      <td>10.0</td>\n",
              "      <td>10.0</td>\n",
              "      <td>11.0</td>\n",
              "      <td>21.0</td>\n",
              "      <td>15.0</td>\n",
              "      <td>14.0</td>\n",
              "      <td>14.0</td>\n",
              "      <td>16.0</td>\n",
              "      <td>6.0</td>\n",
              "      <td>3.0</td>\n",
              "      <td>2.0</td>\n",
              "      <td>6.0</td>\n",
              "      <td>4.0</td>\n",
              "      <td>6.0</td>\n",
              "      <td>2.0</td>\n",
              "      <td>6.0</td>\n",
              "      <td>2.0</td>\n",
              "      <td>8.0</td>\n",
              "      <td>2.0</td>\n",
              "      <td>4.0</td>\n",
              "      <td>3.0</td>\n",
              "      <td>5.0</td>\n",
              "      <td>2.0</td>\n",
              "      <td>5.0</td>\n",
              "      <td>6.0</td>\n",
              "      <td>6.0</td>\n",
              "      <td>2.0</td>\n",
              "      <td>6.0</td>\n",
              "      <td>21.999999</td>\n",
              "      <td>25.0</td>\n",
              "      <td>24.0</td>\n",
              "      <td>4.0</td>\n",
              "      <td>8.0</td>\n",
              "      <td>6.0</td>\n",
              "      <td>17.0</td>\n",
              "      <td>8.0</td>\n",
              "      <td>6.0</td>\n",
              "      <td>17.0</td>\n",
              "      <td>16.0</td>\n",
              "      <td>19.0</td>\n",
              "      <td>22.0</td>\n",
              "      <td>16.0</td>\n",
              "      <td>19.0</td>\n",
              "      <td>21.0</td>\n",
              "      <td>20.0</td>\n",
              "      <td>9.0</td>\n",
              "      <td>15.0</td>\n",
              "      <td>17.0</td>\n",
              "      <td>23.0</td>\n",
              "      <td>11.0</td>\n",
              "      <td>21.0</td>\n",
              "      <td>21.0</td>\n",
              "      <td>24.0</td>\n",
              "      <td>4.0</td>\n",
              "      <td>5.0</td>\n",
              "      <td>12.0</td>\n",
              "      <td>19.0</td>\n",
              "      <td>10.0</td>\n",
              "      <td>11.0</td>\n",
              "      <td>12.0</td>\n",
              "      <td>20.0</td>\n",
              "      <td>13.0</td>\n",
              "      <td>20.0</td>\n",
              "      <td>4.0</td>\n",
              "      <td>7.0</td>\n",
              "      <td>4.0</td>\n",
              "      <td>3.0</td>\n",
              "      <td>9.0</td>\n",
              "      <td>17.0</td>\n",
              "      <td>2.000000</td>\n",
              "      <td>4.0</td>\n",
              "      <td>14.0</td>\n",
              "      <td>11.0</td>\n",
              "      <td>4.0</td>\n",
              "      <td>3.0</td>\n",
              "      <td>2.0</td>\n",
              "      <td>2.0</td>\n",
              "      <td>9.0</td>\n",
              "      <td>7.0</td>\n",
              "      <td>20.0</td>\n",
              "      <td>22.0</td>\n",
              "      <td>9.0</td>\n",
              "      <td>5.0</td>\n",
              "      <td>9.0</td>\n",
              "      <td>18.0</td>\n",
              "      <td>13.0</td>\n",
              "      <td>10.0</td>\n",
              "      <td>15.0</td>\n",
              "      <td>10.0</td>\n",
              "      <td>16.0</td>\n",
              "      <td>14.0</td>\n",
              "      <td>13.0</td>\n",
              "      <td>12.0</td>\n",
              "      <td>12.0</td>\n",
              "      <td>11.0</td>\n",
              "      <td>15.0</td>\n",
              "      <td>9.0</td>\n",
              "      <td>19.0</td>\n",
              "      <td>21.0</td>\n",
              "      <td>11.0</td>\n",
              "      <td>19.0</td>\n",
              "      <td>20.0</td>\n",
              "      <td>11.0</td>\n",
              "      <td>8.0</td>\n",
              "      <td>8.0</td>\n",
              "      <td>7.0</td>\n",
              "      <td>10.0</td>\n",
              "      <td>10.0</td>\n",
              "      <td>19.0</td>\n",
              "      <td>24.0</td>\n",
              "      <td>36.000000</td>\n",
              "      <td>2.000000</td>\n",
              "      <td>245.000000</td>\n",
              "      <td>1.409616e+09</td>\n",
              "      <td>True</td>\n",
              "    </tr>\n",
              "    <tr>\n",
              "      <th>6</th>\n",
              "      <td>F</td>\n",
              "      <td>564</td>\n",
              "      <td>N</td>\n",
              "      <td>13</td>\n",
              "      <td>22</td>\n",
              "      <td>13</td>\n",
              "      <td>23</td>\n",
              "      <td>Y</td>\n",
              "      <td>E</td>\n",
              "      <td>1</td>\n",
              "      <td>4</td>\n",
              "      <td>3</td>\n",
              "      <td>V</td>\n",
              "      <td>1</td>\n",
              "      <td>0</td>\n",
              "      <td>1</td>\n",
              "      <td>0</td>\n",
              "      <td>0</td>\n",
              "      <td>0</td>\n",
              "      <td>1</td>\n",
              "      <td>1</td>\n",
              "      <td>6</td>\n",
              "      <td>1</td>\n",
              "      <td>N</td>\n",
              "      <td>1</td>\n",
              "      <td>2</td>\n",
              "      <td>0</td>\n",
              "      <td>1</td>\n",
              "      <td>2</td>\n",
              "      <td>XM</td>\n",
              "      <td>ZF</td>\n",
              "      <td>XZ</td>\n",
              "      <td>YF</td>\n",
              "      <td>1</td>\n",
              "      <td>0</td>\n",
              "      <td>0</td>\n",
              "      <td>0</td>\n",
              "      <td>0</td>\n",
              "      <td>0</td>\n",
              "      <td>1</td>\n",
              "      <td>1</td>\n",
              "      <td>0</td>\n",
              "      <td>0</td>\n",
              "      <td>0</td>\n",
              "      <td>0</td>\n",
              "      <td>1</td>\n",
              "      <td>0</td>\n",
              "      <td>0</td>\n",
              "      <td>0</td>\n",
              "      <td>0</td>\n",
              "      <td>0</td>\n",
              "      <td>0</td>\n",
              "      <td>0</td>\n",
              "      <td>0</td>\n",
              "      <td>1</td>\n",
              "      <td>0</td>\n",
              "      <td>0</td>\n",
              "      <td>0</td>\n",
              "      <td>0</td>\n",
              "      <td>1</td>\n",
              "      <td>0</td>\n",
              "      <td>0</td>\n",
              "      <td>0</td>\n",
              "      <td>0</td>\n",
              "      <td>1</td>\n",
              "      <td>0</td>\n",
              "      <td>0</td>\n",
              "      <td>0</td>\n",
              "      <td>0</td>\n",
              "      <td>1</td>\n",
              "      <td>0</td>\n",
              "      <td>0</td>\n",
              "      <td>0</td>\n",
              "      <td>0</td>\n",
              "      <td>1</td>\n",
              "      <td>0</td>\n",
              "      <td>0</td>\n",
              "      <td>0</td>\n",
              "      <td>0</td>\n",
              "      <td>1</td>\n",
              "      <td>0</td>\n",
              "      <td>0</td>\n",
              "      <td>0</td>\n",
              "      <td>0</td>\n",
              "      <td>1</td>\n",
              "      <td>0</td>\n",
              "      <td>0</td>\n",
              "      <td>0</td>\n",
              "      <td>0</td>\n",
              "      <td>1</td>\n",
              "      <td>0</td>\n",
              "      <td>0</td>\n",
              "      <td>0</td>\n",
              "      <td>0</td>\n",
              "      <td>1</td>\n",
              "      <td>-1</td>\n",
              "      <td>N</td>\n",
              "      <td>N</td>\n",
              "      <td>Y</td>\n",
              "      <td>0</td>\n",
              "      <td>R</td>\n",
              "      <td>0</td>\n",
              "      <td>0</td>\n",
              "      <td>1</td>\n",
              "      <td>-1</td>\n",
              "      <td>21</td>\n",
              "      <td>2</td>\n",
              "      <td>0</td>\n",
              "      <td>B</td>\n",
              "      <td>2</td>\n",
              "      <td>0</td>\n",
              "      <td>1</td>\n",
              "      <td>0</td>\n",
              "      <td>0</td>\n",
              "      <td>2</td>\n",
              "      <td>1</td>\n",
              "      <td>10</td>\n",
              "      <td>B</td>\n",
              "      <td>N</td>\n",
              "      <td>N</td>\n",
              "      <td>Y</td>\n",
              "      <td>G</td>\n",
              "      <td>Y</td>\n",
              "      <td>2</td>\n",
              "      <td>N</td>\n",
              "      <td>Y</td>\n",
              "      <td>N</td>\n",
              "      <td>-1</td>\n",
              "      <td>21</td>\n",
              "      <td>-1</td>\n",
              "      <td>25</td>\n",
              "      <td>-1</td>\n",
              "      <td>16</td>\n",
              "      <td>-1</td>\n",
              "      <td>-1</td>\n",
              "      <td>-1</td>\n",
              "      <td>16</td>\n",
              "      <td>-1</td>\n",
              "      <td>-1</td>\n",
              "      <td>-1</td>\n",
              "      <td>-1</td>\n",
              "      <td>-1</td>\n",
              "      <td>8</td>\n",
              "      <td>N</td>\n",
              "      <td>NJ</td>\n",
              "      <td>2013</td>\n",
              "      <td>11</td>\n",
              "      <td>4</td>\n",
              "      <td>False</td>\n",
              "      <td>False</td>\n",
              "      <td>False</td>\n",
              "      <td>False</td>\n",
              "      <td>False</td>\n",
              "      <td>False</td>\n",
              "      <td>True</td>\n",
              "      <td>True</td>\n",
              "      <td>11.0</td>\n",
              "      <td>0.9919</td>\n",
              "      <td>0.0038</td>\n",
              "      <td>1.1886</td>\n",
              "      <td>1.0</td>\n",
              "      <td>1.0</td>\n",
              "      <td>1.0</td>\n",
              "      <td>1.0</td>\n",
              "      <td>2.0</td>\n",
              "      <td>1.0</td>\n",
              "      <td>1.0</td>\n",
              "      <td>1.0</td>\n",
              "      <td>24.000001</td>\n",
              "      <td>25.0</td>\n",
              "      <td>1.0</td>\n",
              "      <td>1.0</td>\n",
              "      <td>6.0</td>\n",
              "      <td>18.0</td>\n",
              "      <td>16.0</td>\n",
              "      <td>50545.000349</td>\n",
              "      <td>2.000000e+00</td>\n",
              "      <td>1.0</td>\n",
              "      <td>1.0</td>\n",
              "      <td>6.0</td>\n",
              "      <td>9.0</td>\n",
              "      <td>1.0</td>\n",
              "      <td>10.0</td>\n",
              "      <td>2.0</td>\n",
              "      <td>13.0</td>\n",
              "      <td>17.0</td>\n",
              "      <td>23.0</td>\n",
              "      <td>2.0</td>\n",
              "      <td>2.0</td>\n",
              "      <td>1.0</td>\n",
              "      <td>1.0</td>\n",
              "      <td>2.0</td>\n",
              "      <td>2.0</td>\n",
              "      <td>1.0</td>\n",
              "      <td>7.0</td>\n",
              "      <td>8.0</td>\n",
              "      <td>-3.456605e-13</td>\n",
              "      <td>24.0</td>\n",
              "      <td>25.0</td>\n",
              "      <td>2.0</td>\n",
              "      <td>4.0</td>\n",
              "      <td>11.0</td>\n",
              "      <td>9.0</td>\n",
              "      <td>4.0</td>\n",
              "      <td>4.0</td>\n",
              "      <td>17.0</td>\n",
              "      <td>19.0</td>\n",
              "      <td>5.0</td>\n",
              "      <td>16.0</td>\n",
              "      <td>10.0</td>\n",
              "      <td>15.0</td>\n",
              "      <td>5.0</td>\n",
              "      <td>16.0</td>\n",
              "      <td>7.0</td>\n",
              "      <td>16.0</td>\n",
              "      <td>4.0</td>\n",
              "      <td>12.0</td>\n",
              "      <td>9.0</td>\n",
              "      <td>14.0</td>\n",
              "      <td>5.0</td>\n",
              "      <td>14.0</td>\n",
              "      <td>11.0</td>\n",
              "      <td>17.0</td>\n",
              "      <td>7.0</td>\n",
              "      <td>16.0</td>\n",
              "      <td>2.000000</td>\n",
              "      <td>9.0</td>\n",
              "      <td>13.0</td>\n",
              "      <td>19.0</td>\n",
              "      <td>18.0</td>\n",
              "      <td>20.0</td>\n",
              "      <td>22.0</td>\n",
              "      <td>16.0</td>\n",
              "      <td>19.0</td>\n",
              "      <td>18.0</td>\n",
              "      <td>17.0</td>\n",
              "      <td>14.0</td>\n",
              "      <td>13.0</td>\n",
              "      <td>7.0</td>\n",
              "      <td>10.0</td>\n",
              "      <td>19.0</td>\n",
              "      <td>18.0</td>\n",
              "      <td>8.0</td>\n",
              "      <td>13.0</td>\n",
              "      <td>11.0</td>\n",
              "      <td>16.0</td>\n",
              "      <td>12.0</td>\n",
              "      <td>22.0</td>\n",
              "      <td>4.0</td>\n",
              "      <td>4.0</td>\n",
              "      <td>6.0</td>\n",
              "      <td>10.0</td>\n",
              "      <td>6.0</td>\n",
              "      <td>7.0</td>\n",
              "      <td>10.0</td>\n",
              "      <td>12.0</td>\n",
              "      <td>12.0</td>\n",
              "      <td>20.0</td>\n",
              "      <td>17.0</td>\n",
              "      <td>23.0</td>\n",
              "      <td>6.0</td>\n",
              "      <td>15.0</td>\n",
              "      <td>12.0</td>\n",
              "      <td>20.0</td>\n",
              "      <td>9.0</td>\n",
              "      <td>18.0</td>\n",
              "      <td>10.000000</td>\n",
              "      <td>16.0</td>\n",
              "      <td>23.0</td>\n",
              "      <td>20.0</td>\n",
              "      <td>12.0</td>\n",
              "      <td>15.0</td>\n",
              "      <td>9.0</td>\n",
              "      <td>10.0</td>\n",
              "      <td>16.0</td>\n",
              "      <td>17.0</td>\n",
              "      <td>6.0</td>\n",
              "      <td>7.0</td>\n",
              "      <td>17.0</td>\n",
              "      <td>19.0</td>\n",
              "      <td>6.0</td>\n",
              "      <td>7.0</td>\n",
              "      <td>13.0</td>\n",
              "      <td>11.0</td>\n",
              "      <td>8.0</td>\n",
              "      <td>2.0</td>\n",
              "      <td>9.0</td>\n",
              "      <td>5.0</td>\n",
              "      <td>14.0</td>\n",
              "      <td>15.0</td>\n",
              "      <td>14.0</td>\n",
              "      <td>13.0</td>\n",
              "      <td>12.0</td>\n",
              "      <td>7.0</td>\n",
              "      <td>12.0</td>\n",
              "      <td>11.0</td>\n",
              "      <td>6.0</td>\n",
              "      <td>11.0</td>\n",
              "      <td>21.0</td>\n",
              "      <td>1.0</td>\n",
              "      <td>1.0</td>\n",
              "      <td>5.0</td>\n",
              "      <td>3.0</td>\n",
              "      <td>13.0</td>\n",
              "      <td>15.0</td>\n",
              "      <td>2.0</td>\n",
              "      <td>5.0</td>\n",
              "      <td>48.000001</td>\n",
              "      <td>29.000000</td>\n",
              "      <td>332.999998</td>\n",
              "      <td>1.385683e+09</td>\n",
              "      <td>True</td>\n",
              "    </tr>\n",
              "    <tr>\n",
              "      <th>7</th>\n",
              "      <td>F</td>\n",
              "      <td>548</td>\n",
              "      <td>N</td>\n",
              "      <td>13</td>\n",
              "      <td>22</td>\n",
              "      <td>13</td>\n",
              "      <td>23</td>\n",
              "      <td>T</td>\n",
              "      <td>E</td>\n",
              "      <td>1</td>\n",
              "      <td>5</td>\n",
              "      <td>5</td>\n",
              "      <td>Q</td>\n",
              "      <td>0</td>\n",
              "      <td>0</td>\n",
              "      <td>0</td>\n",
              "      <td>0</td>\n",
              "      <td>0</td>\n",
              "      <td>0</td>\n",
              "      <td>1</td>\n",
              "      <td>1</td>\n",
              "      <td>6</td>\n",
              "      <td>1</td>\n",
              "      <td>N</td>\n",
              "      <td>1</td>\n",
              "      <td>3</td>\n",
              "      <td>0</td>\n",
              "      <td>5</td>\n",
              "      <td>2</td>\n",
              "      <td>XM</td>\n",
              "      <td>YV</td>\n",
              "      <td>ZW</td>\n",
              "      <td>XC</td>\n",
              "      <td>1</td>\n",
              "      <td>0</td>\n",
              "      <td>0</td>\n",
              "      <td>0</td>\n",
              "      <td>0</td>\n",
              "      <td>0</td>\n",
              "      <td>1</td>\n",
              "      <td>1</td>\n",
              "      <td>0</td>\n",
              "      <td>0</td>\n",
              "      <td>0</td>\n",
              "      <td>0</td>\n",
              "      <td>1</td>\n",
              "      <td>0</td>\n",
              "      <td>0</td>\n",
              "      <td>0</td>\n",
              "      <td>0</td>\n",
              "      <td>0</td>\n",
              "      <td>0</td>\n",
              "      <td>0</td>\n",
              "      <td>0</td>\n",
              "      <td>1</td>\n",
              "      <td>0</td>\n",
              "      <td>0</td>\n",
              "      <td>0</td>\n",
              "      <td>0</td>\n",
              "      <td>1</td>\n",
              "      <td>0</td>\n",
              "      <td>0</td>\n",
              "      <td>0</td>\n",
              "      <td>0</td>\n",
              "      <td>1</td>\n",
              "      <td>0</td>\n",
              "      <td>0</td>\n",
              "      <td>0</td>\n",
              "      <td>0</td>\n",
              "      <td>1</td>\n",
              "      <td>0</td>\n",
              "      <td>0</td>\n",
              "      <td>0</td>\n",
              "      <td>0</td>\n",
              "      <td>1</td>\n",
              "      <td>0</td>\n",
              "      <td>0</td>\n",
              "      <td>0</td>\n",
              "      <td>0</td>\n",
              "      <td>1</td>\n",
              "      <td>0</td>\n",
              "      <td>0</td>\n",
              "      <td>0</td>\n",
              "      <td>0</td>\n",
              "      <td>1</td>\n",
              "      <td>0</td>\n",
              "      <td>0</td>\n",
              "      <td>0</td>\n",
              "      <td>0</td>\n",
              "      <td>1</td>\n",
              "      <td>0</td>\n",
              "      <td>0</td>\n",
              "      <td>0</td>\n",
              "      <td>0</td>\n",
              "      <td>1</td>\n",
              "      <td>-1</td>\n",
              "      <td>N</td>\n",
              "      <td>N</td>\n",
              "      <td>Y</td>\n",
              "      <td>0</td>\n",
              "      <td>R</td>\n",
              "      <td>0</td>\n",
              "      <td>0</td>\n",
              "      <td>1</td>\n",
              "      <td>-1</td>\n",
              "      <td>21</td>\n",
              "      <td>3</td>\n",
              "      <td>0</td>\n",
              "      <td>B</td>\n",
              "      <td>8</td>\n",
              "      <td>0</td>\n",
              "      <td>1</td>\n",
              "      <td>1</td>\n",
              "      <td>0</td>\n",
              "      <td>2</td>\n",
              "      <td>8</td>\n",
              "      <td>4</td>\n",
              "      <td>B</td>\n",
              "      <td>N</td>\n",
              "      <td>O</td>\n",
              "      <td>Y</td>\n",
              "      <td>H</td>\n",
              "      <td>N</td>\n",
              "      <td>2</td>\n",
              "      <td>N</td>\n",
              "      <td>Y</td>\n",
              "      <td>N</td>\n",
              "      <td>-1</td>\n",
              "      <td>15</td>\n",
              "      <td>-1</td>\n",
              "      <td>25</td>\n",
              "      <td>-1</td>\n",
              "      <td>14</td>\n",
              "      <td>-1</td>\n",
              "      <td>-1</td>\n",
              "      <td>-1</td>\n",
              "      <td>22</td>\n",
              "      <td>-1</td>\n",
              "      <td>-1</td>\n",
              "      <td>-1</td>\n",
              "      <td>-1</td>\n",
              "      <td>25</td>\n",
              "      <td>25</td>\n",
              "      <td>N</td>\n",
              "      <td>NJ</td>\n",
              "      <td>2014</td>\n",
              "      <td>4</td>\n",
              "      <td>3</td>\n",
              "      <td>False</td>\n",
              "      <td>False</td>\n",
              "      <td>False</td>\n",
              "      <td>False</td>\n",
              "      <td>False</td>\n",
              "      <td>False</td>\n",
              "      <td>True</td>\n",
              "      <td>True</td>\n",
              "      <td>7.0</td>\n",
              "      <td>1.0006</td>\n",
              "      <td>0.0040</td>\n",
              "      <td>1.2433</td>\n",
              "      <td>8.0</td>\n",
              "      <td>14.0</td>\n",
              "      <td>8.0</td>\n",
              "      <td>14.0</td>\n",
              "      <td>7.0</td>\n",
              "      <td>12.0</td>\n",
              "      <td>8.0</td>\n",
              "      <td>14.0</td>\n",
              "      <td>3.000000</td>\n",
              "      <td>5.0</td>\n",
              "      <td>4.0</td>\n",
              "      <td>13.0</td>\n",
              "      <td>4.0</td>\n",
              "      <td>13.0</td>\n",
              "      <td>11.0</td>\n",
              "      <td>34038.000009</td>\n",
              "      <td>-2.965073e-08</td>\n",
              "      <td>5.0</td>\n",
              "      <td>5.0</td>\n",
              "      <td>-1.0</td>\n",
              "      <td>-1.0</td>\n",
              "      <td>3.0</td>\n",
              "      <td>7.0</td>\n",
              "      <td>2.0</td>\n",
              "      <td>20.0</td>\n",
              "      <td>23.0</td>\n",
              "      <td>19.0</td>\n",
              "      <td>3.0</td>\n",
              "      <td>3.0</td>\n",
              "      <td>8.0</td>\n",
              "      <td>14.0</td>\n",
              "      <td>10.0</td>\n",
              "      <td>15.0</td>\n",
              "      <td>2.0</td>\n",
              "      <td>6.0</td>\n",
              "      <td>8.0</td>\n",
              "      <td>-3.456605e-13</td>\n",
              "      <td>12.0</td>\n",
              "      <td>13.0</td>\n",
              "      <td>2.0</td>\n",
              "      <td>1.0</td>\n",
              "      <td>16.0</td>\n",
              "      <td>16.0</td>\n",
              "      <td>8.0</td>\n",
              "      <td>8.0</td>\n",
              "      <td>7.0</td>\n",
              "      <td>4.0</td>\n",
              "      <td>5.0</td>\n",
              "      <td>16.0</td>\n",
              "      <td>8.0</td>\n",
              "      <td>10.0</td>\n",
              "      <td>5.0</td>\n",
              "      <td>15.0</td>\n",
              "      <td>8.0</td>\n",
              "      <td>16.0</td>\n",
              "      <td>5.0</td>\n",
              "      <td>16.0</td>\n",
              "      <td>8.0</td>\n",
              "      <td>10.0</td>\n",
              "      <td>5.0</td>\n",
              "      <td>16.0</td>\n",
              "      <td>9.0</td>\n",
              "      <td>8.0</td>\n",
              "      <td>5.0</td>\n",
              "      <td>10.0</td>\n",
              "      <td>2.000000</td>\n",
              "      <td>9.0</td>\n",
              "      <td>5.0</td>\n",
              "      <td>22.0</td>\n",
              "      <td>21.0</td>\n",
              "      <td>18.0</td>\n",
              "      <td>20.0</td>\n",
              "      <td>21.0</td>\n",
              "      <td>17.0</td>\n",
              "      <td>11.0</td>\n",
              "      <td>5.0</td>\n",
              "      <td>8.0</td>\n",
              "      <td>3.0</td>\n",
              "      <td>4.0</td>\n",
              "      <td>3.0</td>\n",
              "      <td>11.0</td>\n",
              "      <td>3.0</td>\n",
              "      <td>5.0</td>\n",
              "      <td>5.0</td>\n",
              "      <td>2.0</td>\n",
              "      <td>1.0</td>\n",
              "      <td>10.0</td>\n",
              "      <td>19.0</td>\n",
              "      <td>3.0</td>\n",
              "      <td>3.0</td>\n",
              "      <td>6.0</td>\n",
              "      <td>9.0</td>\n",
              "      <td>3.0</td>\n",
              "      <td>2.0</td>\n",
              "      <td>12.0</td>\n",
              "      <td>16.0</td>\n",
              "      <td>5.0</td>\n",
              "      <td>5.0</td>\n",
              "      <td>9.0</td>\n",
              "      <td>14.0</td>\n",
              "      <td>7.0</td>\n",
              "      <td>16.0</td>\n",
              "      <td>12.0</td>\n",
              "      <td>19.0</td>\n",
              "      <td>10.0</td>\n",
              "      <td>19.0</td>\n",
              "      <td>11.000000</td>\n",
              "      <td>18.0</td>\n",
              "      <td>22.0</td>\n",
              "      <td>19.0</td>\n",
              "      <td>13.0</td>\n",
              "      <td>17.0</td>\n",
              "      <td>10.0</td>\n",
              "      <td>13.0</td>\n",
              "      <td>21.0</td>\n",
              "      <td>22.0</td>\n",
              "      <td>10.0</td>\n",
              "      <td>14.0</td>\n",
              "      <td>20.0</td>\n",
              "      <td>22.0</td>\n",
              "      <td>6.0</td>\n",
              "      <td>6.0</td>\n",
              "      <td>18.0</td>\n",
              "      <td>18.0</td>\n",
              "      <td>15.0</td>\n",
              "      <td>10.0</td>\n",
              "      <td>14.0</td>\n",
              "      <td>10.0</td>\n",
              "      <td>14.0</td>\n",
              "      <td>14.0</td>\n",
              "      <td>14.0</td>\n",
              "      <td>14.0</td>\n",
              "      <td>17.0</td>\n",
              "      <td>13.0</td>\n",
              "      <td>11.0</td>\n",
              "      <td>9.0</td>\n",
              "      <td>9.0</td>\n",
              "      <td>17.0</td>\n",
              "      <td>14.0</td>\n",
              "      <td>17.0</td>\n",
              "      <td>20.0</td>\n",
              "      <td>1.0</td>\n",
              "      <td>1.0</td>\n",
              "      <td>23.0</td>\n",
              "      <td>25.0</td>\n",
              "      <td>10.0</td>\n",
              "      <td>2.0</td>\n",
              "      <td>16.000000</td>\n",
              "      <td>17.000000</td>\n",
              "      <td>107.000001</td>\n",
              "      <td>1.397693e+09</td>\n",
              "      <td>False</td>\n",
              "    </tr>\n",
              "    <tr>\n",
              "      <th>8</th>\n",
              "      <td>B</td>\n",
              "      <td>965</td>\n",
              "      <td>N</td>\n",
              "      <td>13</td>\n",
              "      <td>22</td>\n",
              "      <td>1</td>\n",
              "      <td>6</td>\n",
              "      <td>Y</td>\n",
              "      <td>E</td>\n",
              "      <td>0</td>\n",
              "      <td>4</td>\n",
              "      <td>3</td>\n",
              "      <td>P</td>\n",
              "      <td>0</td>\n",
              "      <td>0</td>\n",
              "      <td>0</td>\n",
              "      <td>0</td>\n",
              "      <td>0</td>\n",
              "      <td>0</td>\n",
              "      <td>0</td>\n",
              "      <td>0</td>\n",
              "      <td>7</td>\n",
              "      <td>0</td>\n",
              "      <td>N</td>\n",
              "      <td>1</td>\n",
              "      <td>2</td>\n",
              "      <td>0</td>\n",
              "      <td>1</td>\n",
              "      <td>2</td>\n",
              "      <td>ZA</td>\n",
              "      <td>ZE</td>\n",
              "      <td>XR</td>\n",
              "      <td>XD</td>\n",
              "      <td>1</td>\n",
              "      <td>0</td>\n",
              "      <td>0</td>\n",
              "      <td>0</td>\n",
              "      <td>0</td>\n",
              "      <td>1</td>\n",
              "      <td>2</td>\n",
              "      <td>3</td>\n",
              "      <td>1</td>\n",
              "      <td>1</td>\n",
              "      <td>1</td>\n",
              "      <td>1</td>\n",
              "      <td>1</td>\n",
              "      <td>0</td>\n",
              "      <td>0</td>\n",
              "      <td>0</td>\n",
              "      <td>0</td>\n",
              "      <td>0</td>\n",
              "      <td>0</td>\n",
              "      <td>0</td>\n",
              "      <td>0</td>\n",
              "      <td>1</td>\n",
              "      <td>1</td>\n",
              "      <td>1</td>\n",
              "      <td>1</td>\n",
              "      <td>1</td>\n",
              "      <td>3</td>\n",
              "      <td>0</td>\n",
              "      <td>0</td>\n",
              "      <td>0</td>\n",
              "      <td>0</td>\n",
              "      <td>1</td>\n",
              "      <td>0</td>\n",
              "      <td>0</td>\n",
              "      <td>0</td>\n",
              "      <td>0</td>\n",
              "      <td>1</td>\n",
              "      <td>0</td>\n",
              "      <td>0</td>\n",
              "      <td>0</td>\n",
              "      <td>0</td>\n",
              "      <td>1</td>\n",
              "      <td>0</td>\n",
              "      <td>0</td>\n",
              "      <td>0</td>\n",
              "      <td>0</td>\n",
              "      <td>1</td>\n",
              "      <td>0</td>\n",
              "      <td>0</td>\n",
              "      <td>0</td>\n",
              "      <td>0</td>\n",
              "      <td>1</td>\n",
              "      <td>1</td>\n",
              "      <td>1</td>\n",
              "      <td>1</td>\n",
              "      <td>1</td>\n",
              "      <td>3</td>\n",
              "      <td>0</td>\n",
              "      <td>0</td>\n",
              "      <td>0</td>\n",
              "      <td>0</td>\n",
              "      <td>1</td>\n",
              "      <td>-1</td>\n",
              "      <td>N</td>\n",
              "      <td>N</td>\n",
              "      <td>Y</td>\n",
              "      <td>0</td>\n",
              "      <td>O</td>\n",
              "      <td>0</td>\n",
              "      <td>0</td>\n",
              "      <td>1</td>\n",
              "      <td>-1</td>\n",
              "      <td>21</td>\n",
              "      <td>2</td>\n",
              "      <td>2</td>\n",
              "      <td>C</td>\n",
              "      <td>4</td>\n",
              "      <td>1</td>\n",
              "      <td>2</td>\n",
              "      <td>0</td>\n",
              "      <td>0</td>\n",
              "      <td>2</td>\n",
              "      <td>1</td>\n",
              "      <td>10</td>\n",
              "      <td>B</td>\n",
              "      <td>N</td>\n",
              "      <td>O</td>\n",
              "      <td>Y</td>\n",
              "      <td>H</td>\n",
              "      <td>Y</td>\n",
              "      <td>2</td>\n",
              "      <td>N</td>\n",
              "      <td>N</td>\n",
              "      <td>N</td>\n",
              "      <td>-1</td>\n",
              "      <td>13</td>\n",
              "      <td>-1</td>\n",
              "      <td>25</td>\n",
              "      <td>-1</td>\n",
              "      <td>9</td>\n",
              "      <td>-1</td>\n",
              "      <td>-1</td>\n",
              "      <td>-1</td>\n",
              "      <td>15</td>\n",
              "      <td>-1</td>\n",
              "      <td>-1</td>\n",
              "      <td>-1</td>\n",
              "      <td>-1</td>\n",
              "      <td>-1</td>\n",
              "      <td>18</td>\n",
              "      <td>N</td>\n",
              "      <td>CA</td>\n",
              "      <td>2013</td>\n",
              "      <td>3</td>\n",
              "      <td>1</td>\n",
              "      <td>False</td>\n",
              "      <td>False</td>\n",
              "      <td>False</td>\n",
              "      <td>False</td>\n",
              "      <td>False</td>\n",
              "      <td>False</td>\n",
              "      <td>False</td>\n",
              "      <td>True</td>\n",
              "      <td>19.0</td>\n",
              "      <td>0.9403</td>\n",
              "      <td>0.0006</td>\n",
              "      <td>1.0200</td>\n",
              "      <td>7.0</td>\n",
              "      <td>12.0</td>\n",
              "      <td>7.0</td>\n",
              "      <td>12.0</td>\n",
              "      <td>10.0</td>\n",
              "      <td>18.0</td>\n",
              "      <td>7.0</td>\n",
              "      <td>12.0</td>\n",
              "      <td>8.000000</td>\n",
              "      <td>17.0</td>\n",
              "      <td>3.0</td>\n",
              "      <td>5.0</td>\n",
              "      <td>3.0</td>\n",
              "      <td>6.0</td>\n",
              "      <td>14.0</td>\n",
              "      <td>33851.000000</td>\n",
              "      <td>-2.965073e-08</td>\n",
              "      <td>25.0</td>\n",
              "      <td>25.0</td>\n",
              "      <td>6.0</td>\n",
              "      <td>13.0</td>\n",
              "      <td>1.0</td>\n",
              "      <td>24.0</td>\n",
              "      <td>2.0</td>\n",
              "      <td>16.0</td>\n",
              "      <td>21.0</td>\n",
              "      <td>9.0</td>\n",
              "      <td>16.0</td>\n",
              "      <td>23.0</td>\n",
              "      <td>7.0</td>\n",
              "      <td>12.0</td>\n",
              "      <td>7.0</td>\n",
              "      <td>9.0</td>\n",
              "      <td>1.0</td>\n",
              "      <td>13.0</td>\n",
              "      <td>18.0</td>\n",
              "      <td>-3.456605e-13</td>\n",
              "      <td>9.0</td>\n",
              "      <td>8.0</td>\n",
              "      <td>11.0</td>\n",
              "      <td>21.0</td>\n",
              "      <td>18.0</td>\n",
              "      <td>18.0</td>\n",
              "      <td>16.0</td>\n",
              "      <td>19.0</td>\n",
              "      <td>10.0</td>\n",
              "      <td>8.0</td>\n",
              "      <td>2.0</td>\n",
              "      <td>7.0</td>\n",
              "      <td>8.0</td>\n",
              "      <td>10.0</td>\n",
              "      <td>2.0</td>\n",
              "      <td>10.0</td>\n",
              "      <td>2.0</td>\n",
              "      <td>3.0</td>\n",
              "      <td>2.0</td>\n",
              "      <td>8.0</td>\n",
              "      <td>6.0</td>\n",
              "      <td>9.0</td>\n",
              "      <td>2.0</td>\n",
              "      <td>9.0</td>\n",
              "      <td>11.0</td>\n",
              "      <td>19.0</td>\n",
              "      <td>3.0</td>\n",
              "      <td>10.0</td>\n",
              "      <td>5.000000</td>\n",
              "      <td>20.0</td>\n",
              "      <td>20.0</td>\n",
              "      <td>5.0</td>\n",
              "      <td>9.0</td>\n",
              "      <td>8.0</td>\n",
              "      <td>18.0</td>\n",
              "      <td>4.0</td>\n",
              "      <td>4.0</td>\n",
              "      <td>13.0</td>\n",
              "      <td>8.0</td>\n",
              "      <td>14.0</td>\n",
              "      <td>11.0</td>\n",
              "      <td>11.0</td>\n",
              "      <td>16.0</td>\n",
              "      <td>14.0</td>\n",
              "      <td>9.0</td>\n",
              "      <td>5.0</td>\n",
              "      <td>6.0</td>\n",
              "      <td>17.0</td>\n",
              "      <td>23.0</td>\n",
              "      <td>7.0</td>\n",
              "      <td>10.0</td>\n",
              "      <td>16.0</td>\n",
              "      <td>23.0</td>\n",
              "      <td>10.0</td>\n",
              "      <td>16.0</td>\n",
              "      <td>17.0</td>\n",
              "      <td>23.0</td>\n",
              "      <td>7.0</td>\n",
              "      <td>5.0</td>\n",
              "      <td>25.0</td>\n",
              "      <td>25.0</td>\n",
              "      <td>15.0</td>\n",
              "      <td>22.0</td>\n",
              "      <td>8.0</td>\n",
              "      <td>18.0</td>\n",
              "      <td>13.0</td>\n",
              "      <td>20.0</td>\n",
              "      <td>2.0</td>\n",
              "      <td>2.0</td>\n",
              "      <td>3.000000</td>\n",
              "      <td>6.0</td>\n",
              "      <td>2.0</td>\n",
              "      <td>4.0</td>\n",
              "      <td>7.0</td>\n",
              "      <td>8.0</td>\n",
              "      <td>11.0</td>\n",
              "      <td>16.0</td>\n",
              "      <td>15.0</td>\n",
              "      <td>17.0</td>\n",
              "      <td>2.0</td>\n",
              "      <td>3.0</td>\n",
              "      <td>10.0</td>\n",
              "      <td>11.0</td>\n",
              "      <td>21.0</td>\n",
              "      <td>23.0</td>\n",
              "      <td>18.0</td>\n",
              "      <td>18.0</td>\n",
              "      <td>18.0</td>\n",
              "      <td>15.0</td>\n",
              "      <td>19.0</td>\n",
              "      <td>19.0</td>\n",
              "      <td>19.0</td>\n",
              "      <td>21.0</td>\n",
              "      <td>19.0</td>\n",
              "      <td>21.0</td>\n",
              "      <td>20.0</td>\n",
              "      <td>18.0</td>\n",
              "      <td>21.0</td>\n",
              "      <td>23.0</td>\n",
              "      <td>5.0</td>\n",
              "      <td>10.0</td>\n",
              "      <td>2.0</td>\n",
              "      <td>16.0</td>\n",
              "      <td>18.0</td>\n",
              "      <td>4.0</td>\n",
              "      <td>3.0</td>\n",
              "      <td>16.0</td>\n",
              "      <td>20.0</td>\n",
              "      <td>23.0</td>\n",
              "      <td>9.0</td>\n",
              "      <td>10.000000</td>\n",
              "      <td>5.000000</td>\n",
              "      <td>64.000001</td>\n",
              "      <td>1.362442e+09</td>\n",
              "      <td>True</td>\n",
              "    </tr>\n",
              "    <tr>\n",
              "      <th>9</th>\n",
              "      <td>J</td>\n",
              "      <td>1,113</td>\n",
              "      <td>N</td>\n",
              "      <td>1</td>\n",
              "      <td>2</td>\n",
              "      <td>1</td>\n",
              "      <td>6</td>\n",
              "      <td>T</td>\n",
              "      <td>I</td>\n",
              "      <td>1</td>\n",
              "      <td>5</td>\n",
              "      <td>5</td>\n",
              "      <td>T</td>\n",
              "      <td>0</td>\n",
              "      <td>0</td>\n",
              "      <td>0</td>\n",
              "      <td>0</td>\n",
              "      <td>0</td>\n",
              "      <td>0</td>\n",
              "      <td>1</td>\n",
              "      <td>1</td>\n",
              "      <td>7</td>\n",
              "      <td>0</td>\n",
              "      <td>N</td>\n",
              "      <td>1</td>\n",
              "      <td>3</td>\n",
              "      <td>0</td>\n",
              "      <td>5</td>\n",
              "      <td>2</td>\n",
              "      <td>ZD</td>\n",
              "      <td>XE</td>\n",
              "      <td>ZN</td>\n",
              "      <td>YF</td>\n",
              "      <td>1</td>\n",
              "      <td>0</td>\n",
              "      <td>0</td>\n",
              "      <td>0</td>\n",
              "      <td>0</td>\n",
              "      <td>0</td>\n",
              "      <td>1</td>\n",
              "      <td>1</td>\n",
              "      <td>0</td>\n",
              "      <td>0</td>\n",
              "      <td>0</td>\n",
              "      <td>0</td>\n",
              "      <td>1</td>\n",
              "      <td>0</td>\n",
              "      <td>0</td>\n",
              "      <td>0</td>\n",
              "      <td>0</td>\n",
              "      <td>0</td>\n",
              "      <td>0</td>\n",
              "      <td>0</td>\n",
              "      <td>0</td>\n",
              "      <td>1</td>\n",
              "      <td>0</td>\n",
              "      <td>0</td>\n",
              "      <td>0</td>\n",
              "      <td>0</td>\n",
              "      <td>1</td>\n",
              "      <td>0</td>\n",
              "      <td>0</td>\n",
              "      <td>0</td>\n",
              "      <td>0</td>\n",
              "      <td>1</td>\n",
              "      <td>0</td>\n",
              "      <td>0</td>\n",
              "      <td>0</td>\n",
              "      <td>0</td>\n",
              "      <td>1</td>\n",
              "      <td>0</td>\n",
              "      <td>0</td>\n",
              "      <td>0</td>\n",
              "      <td>0</td>\n",
              "      <td>1</td>\n",
              "      <td>0</td>\n",
              "      <td>0</td>\n",
              "      <td>0</td>\n",
              "      <td>0</td>\n",
              "      <td>1</td>\n",
              "      <td>0</td>\n",
              "      <td>0</td>\n",
              "      <td>0</td>\n",
              "      <td>0</td>\n",
              "      <td>1</td>\n",
              "      <td>0</td>\n",
              "      <td>0</td>\n",
              "      <td>0</td>\n",
              "      <td>0</td>\n",
              "      <td>1</td>\n",
              "      <td>0</td>\n",
              "      <td>0</td>\n",
              "      <td>0</td>\n",
              "      <td>0</td>\n",
              "      <td>1</td>\n",
              "      <td>-1</td>\n",
              "      <td>N</td>\n",
              "      <td>N</td>\n",
              "      <td>Y</td>\n",
              "      <td>0</td>\n",
              "      <td>R</td>\n",
              "      <td>1</td>\n",
              "      <td>0</td>\n",
              "      <td>1</td>\n",
              "      <td>-1</td>\n",
              "      <td>21</td>\n",
              "      <td>4</td>\n",
              "      <td>2</td>\n",
              "      <td>C</td>\n",
              "      <td>4</td>\n",
              "      <td>0</td>\n",
              "      <td>2</td>\n",
              "      <td>1</td>\n",
              "      <td>0</td>\n",
              "      <td>2</td>\n",
              "      <td>1</td>\n",
              "      <td>6</td>\n",
              "      <td>B</td>\n",
              "      <td>N</td>\n",
              "      <td>M</td>\n",
              "      <td>Y</td>\n",
              "      <td>F</td>\n",
              "      <td>N</td>\n",
              "      <td>2</td>\n",
              "      <td>N</td>\n",
              "      <td>Y</td>\n",
              "      <td>N</td>\n",
              "      <td>25</td>\n",
              "      <td>25</td>\n",
              "      <td>-1</td>\n",
              "      <td>25</td>\n",
              "      <td>-1</td>\n",
              "      <td>22</td>\n",
              "      <td>-1</td>\n",
              "      <td>-1</td>\n",
              "      <td>-1</td>\n",
              "      <td>15</td>\n",
              "      <td>-1</td>\n",
              "      <td>-1</td>\n",
              "      <td>-1</td>\n",
              "      <td>-1</td>\n",
              "      <td>-1</td>\n",
              "      <td>9</td>\n",
              "      <td>N</td>\n",
              "      <td>TX</td>\n",
              "      <td>2014</td>\n",
              "      <td>9</td>\n",
              "      <td>2</td>\n",
              "      <td>False</td>\n",
              "      <td>False</td>\n",
              "      <td>False</td>\n",
              "      <td>False</td>\n",
              "      <td>False</td>\n",
              "      <td>False</td>\n",
              "      <td>True</td>\n",
              "      <td>True</td>\n",
              "      <td>26.0</td>\n",
              "      <td>0.8928</td>\n",
              "      <td>0.0004</td>\n",
              "      <td>1.2665</td>\n",
              "      <td>5.0</td>\n",
              "      <td>6.0</td>\n",
              "      <td>5.0</td>\n",
              "      <td>6.0</td>\n",
              "      <td>4.0</td>\n",
              "      <td>5.0</td>\n",
              "      <td>4.0</td>\n",
              "      <td>6.0</td>\n",
              "      <td>5.000000</td>\n",
              "      <td>10.0</td>\n",
              "      <td>12.0</td>\n",
              "      <td>23.0</td>\n",
              "      <td>16.0</td>\n",
              "      <td>24.0</td>\n",
              "      <td>11.0</td>\n",
              "      <td>23712.000008</td>\n",
              "      <td>-2.965073e-08</td>\n",
              "      <td>3.0</td>\n",
              "      <td>3.0</td>\n",
              "      <td>-1.0</td>\n",
              "      <td>-1.0</td>\n",
              "      <td>4.0</td>\n",
              "      <td>13.0</td>\n",
              "      <td>2.0</td>\n",
              "      <td>3.0</td>\n",
              "      <td>4.0</td>\n",
              "      <td>13.0</td>\n",
              "      <td>3.0</td>\n",
              "      <td>4.0</td>\n",
              "      <td>5.0</td>\n",
              "      <td>6.0</td>\n",
              "      <td>12.0</td>\n",
              "      <td>18.0</td>\n",
              "      <td>2.0</td>\n",
              "      <td>8.0</td>\n",
              "      <td>10.0</td>\n",
              "      <td>-3.456605e-13</td>\n",
              "      <td>25.0</td>\n",
              "      <td>25.0</td>\n",
              "      <td>2.0</td>\n",
              "      <td>3.0</td>\n",
              "      <td>6.0</td>\n",
              "      <td>4.0</td>\n",
              "      <td>8.0</td>\n",
              "      <td>8.0</td>\n",
              "      <td>16.0</td>\n",
              "      <td>18.0</td>\n",
              "      <td>13.0</td>\n",
              "      <td>21.0</td>\n",
              "      <td>20.0</td>\n",
              "      <td>19.0</td>\n",
              "      <td>14.0</td>\n",
              "      <td>20.0</td>\n",
              "      <td>21.0</td>\n",
              "      <td>23.0</td>\n",
              "      <td>11.0</td>\n",
              "      <td>20.0</td>\n",
              "      <td>19.0</td>\n",
              "      <td>19.0</td>\n",
              "      <td>12.0</td>\n",
              "      <td>20.0</td>\n",
              "      <td>23.0</td>\n",
              "      <td>20.0</td>\n",
              "      <td>15.0</td>\n",
              "      <td>23.0</td>\n",
              "      <td>2.000000</td>\n",
              "      <td>6.0</td>\n",
              "      <td>5.0</td>\n",
              "      <td>10.0</td>\n",
              "      <td>12.0</td>\n",
              "      <td>8.0</td>\n",
              "      <td>18.0</td>\n",
              "      <td>10.0</td>\n",
              "      <td>19.0</td>\n",
              "      <td>20.0</td>\n",
              "      <td>21.0</td>\n",
              "      <td>13.0</td>\n",
              "      <td>11.0</td>\n",
              "      <td>10.0</td>\n",
              "      <td>15.0</td>\n",
              "      <td>15.0</td>\n",
              "      <td>9.0</td>\n",
              "      <td>5.0</td>\n",
              "      <td>5.0</td>\n",
              "      <td>8.0</td>\n",
              "      <td>11.0</td>\n",
              "      <td>3.0</td>\n",
              "      <td>2.0</td>\n",
              "      <td>11.0</td>\n",
              "      <td>17.0</td>\n",
              "      <td>5.0</td>\n",
              "      <td>7.0</td>\n",
              "      <td>6.0</td>\n",
              "      <td>7.0</td>\n",
              "      <td>2.0</td>\n",
              "      <td>2.0</td>\n",
              "      <td>7.0</td>\n",
              "      <td>12.0</td>\n",
              "      <td>2.0</td>\n",
              "      <td>2.0</td>\n",
              "      <td>5.0</td>\n",
              "      <td>11.0</td>\n",
              "      <td>2.0</td>\n",
              "      <td>1.0</td>\n",
              "      <td>5.0</td>\n",
              "      <td>9.0</td>\n",
              "      <td>1.000000</td>\n",
              "      <td>1.0</td>\n",
              "      <td>14.0</td>\n",
              "      <td>12.0</td>\n",
              "      <td>7.0</td>\n",
              "      <td>7.0</td>\n",
              "      <td>18.0</td>\n",
              "      <td>23.0</td>\n",
              "      <td>8.0</td>\n",
              "      <td>5.0</td>\n",
              "      <td>12.0</td>\n",
              "      <td>20.0</td>\n",
              "      <td>5.0</td>\n",
              "      <td>2.0</td>\n",
              "      <td>8.0</td>\n",
              "      <td>15.0</td>\n",
              "      <td>7.0</td>\n",
              "      <td>4.0</td>\n",
              "      <td>19.0</td>\n",
              "      <td>17.0</td>\n",
              "      <td>18.0</td>\n",
              "      <td>18.0</td>\n",
              "      <td>9.0</td>\n",
              "      <td>6.0</td>\n",
              "      <td>9.0</td>\n",
              "      <td>7.0</td>\n",
              "      <td>18.0</td>\n",
              "      <td>15.0</td>\n",
              "      <td>5.0</td>\n",
              "      <td>2.0</td>\n",
              "      <td>5.0</td>\n",
              "      <td>10.0</td>\n",
              "      <td>18.0</td>\n",
              "      <td>17.0</td>\n",
              "      <td>20.0</td>\n",
              "      <td>13.0</td>\n",
              "      <td>16.0</td>\n",
              "      <td>5.0</td>\n",
              "      <td>4.0</td>\n",
              "      <td>4.0</td>\n",
              "      <td>11.0</td>\n",
              "      <td>37.000000</td>\n",
              "      <td>10.000000</td>\n",
              "      <td>253.000002</td>\n",
              "      <td>1.410307e+09</td>\n",
              "      <td>False</td>\n",
              "    </tr>\n",
              "  </tbody>\n",
              "</table>"
            ],
            "text/plain": [
              "<IPython.core.display.HTML object>"
            ]
          },
          "metadata": {
            "tags": []
          }
        }
      ]
    },
    {
      "cell_type": "code",
      "metadata": {
        "id": "TVh0csB_tiDm"
      },
      "source": [
        "learn = tabular_learner(dls, metrics=roc_auc_binary)"
      ],
      "id": "TVh0csB_tiDm",
      "execution_count": null,
      "outputs": []
    },
    {
      "cell_type": "code",
      "metadata": {
        "colab": {
          "base_uri": "https://localhost:8080/",
          "height": 300
        },
        "id": "VPDKfQ8CtiDm",
        "outputId": "4205a7c6-81a5-4bc0-97c2-8d54dbef9780"
      },
      "source": [
        "learn.lr_find(start_lr=1e-07, end_lr=1000,suggest_funcs=(valley, slide, minimum, steep))"
      ],
      "id": "VPDKfQ8CtiDm",
      "execution_count": null,
      "outputs": [
        {
          "output_type": "display_data",
          "data": {
            "text/html": [
              ""
            ],
            "text/plain": [
              "<IPython.core.display.HTML object>"
            ]
          },
          "metadata": {
            "tags": []
          }
        },
        {
          "output_type": "execute_result",
          "data": {
            "text/plain": [
              "SuggestedLRs(valley=tensor(0.0013), slide=tensor(0.0158), minimum=0.05011872053146362, steep=0.06309573352336884)"
            ]
          },
          "metadata": {
            "tags": []
          },
          "execution_count": 17
        },
        {
          "output_type": "display_data",
          "data": {
            "image/png": "[encoded data removed]",
            "text/plain": [
              "<Figure size 432x288 with 1 Axes>"
            ]
          },
          "metadata": {
            "tags": [],
            "needs_background": "light"
          }
        }
      ]
    },
    {
      "cell_type": "code",
      "metadata": {
        "colab": {
          "base_uri": "https://localhost:8080/",
          "height": 204
        },
        "id": "3tKNC4OBtiDn",
        "outputId": "1c3c4e2b-e937-47eb-b7d6-2ab89d264200"
      },
      "source": [
        "learn.fit_one_cycle(epochs,lr, wd=wd)"
      ],
      "id": "3tKNC4OBtiDn",
      "execution_count": null,
      "outputs": [
        {
          "output_type": "display_data",
          "data": {
            "text/html": [
              "<table border=\"1\" class=\"dataframe\">\n",
              "  <thead>\n",
              "    <tr style=\"text-align: left;\">\n",
              "      <th>epoch</th>\n",
              "      <th>train_loss</th>\n",
              "      <th>valid_loss</th>\n",
              "      <th>roc_auc_score</th>\n",
              "      <th>time</th>\n",
              "    </tr>\n",
              "  </thead>\n",
              "  <tbody>\n",
              "    <tr>\n",
              "      <td>0</td>\n",
              "      <td>0.469378</td>\n",
              "      <td>0.328888</td>\n",
              "      <td>0.929120</td>\n",
              "      <td>00:05</td>\n",
              "    </tr>\n",
              "    <tr>\n",
              "      <td>1</td>\n",
              "      <td>0.271902</td>\n",
              "      <td>0.188843</td>\n",
              "      <td>0.957057</td>\n",
              "      <td>00:05</td>\n",
              "    </tr>\n",
              "    <tr>\n",
              "      <td>2</td>\n",
              "      <td>0.211680</td>\n",
              "      <td>0.181601</td>\n",
              "      <td>0.959578</td>\n",
              "      <td>00:05</td>\n",
              "    </tr>\n",
              "    <tr>\n",
              "      <td>3</td>\n",
              "      <td>0.186571</td>\n",
              "      <td>0.176671</td>\n",
              "      <td>0.962401</td>\n",
              "      <td>00:05</td>\n",
              "    </tr>\n",
              "    <tr>\n",
              "      <td>4</td>\n",
              "      <td>0.172869</td>\n",
              "      <td>0.175805</td>\n",
              "      <td>0.962872</td>\n",
              "      <td>00:05</td>\n",
              "    </tr>\n",
              "  </tbody>\n",
              "</table>"
            ],
            "text/plain": [
              "<IPython.core.display.HTML object>"
            ]
          },
          "metadata": {
            "tags": []
          }
        }
      ]
    },
    {
      "cell_type": "code",
      "metadata": {
        "id": "6Fc8ItWE4MCo",
        "colab": {
          "base_uri": "https://localhost:8080/",
          "height": 17
        },
        "outputId": "e34d2561-90fa-43f2-8011-aaa1bf19ba68"
      },
      "source": [
        "preds, targs = learn.get_preds()\n"
      ],
      "id": "6Fc8ItWE4MCo",
      "execution_count": null,
      "outputs": [
        {
          "output_type": "display_data",
          "data": {
            "text/html": [
              ""
            ],
            "text/plain": [
              "<IPython.core.display.HTML object>"
            ]
          },
          "metadata": {
            "tags": []
          }
        }
      ]
    },
    {
      "cell_type": "code",
      "metadata": {
        "id": "LYqy7-ZI4BP-"
      },
      "source": [
        "dl_roc_auc_score=roc_auc_score(to_np(targs), to_np(preds[:,1]))"
      ],
      "id": "LYqy7-ZI4BP-",
      "execution_count": null,
      "outputs": []
    },
    {
      "cell_type": "markdown",
      "metadata": {
        "id": "-st5EELUHGCm"
      },
      "source": [
        "## DL Permutation Importance"
      ],
      "id": "-st5EELUHGCm"
    },
    {
      "cell_type": "code",
      "metadata": {
        "id": "c0e2f60a-0d7d-448b-b4fd-daa6848b7348"
      },
      "source": [
        "class PermutationImportance():\n",
        "  \"Calculate and plot the permutation importance\"\n",
        "  def __init__(self, learn:Learner, df=None, bs=None):\n",
        "    \"Initialize with a test dataframe, a learner, and a metric\"\n",
        "    self.learn = learn\n",
        "    self.df = df if df is not None else None\n",
        "    bs = bs if bs is not None else learn.dls.bs\n",
        "    self.dl = learn.dls.test_dl(self.df, bs=bs) if self.df is not None else learn.dls[1]\n",
        "    self.x_names = learn.dls.x_names.filter(lambda x: '_na' not in x)\n",
        "    self.na = learn.dls.x_names.filter(lambda x: '_na' in x)\n",
        "    self.y = dls.y_names\n",
        "    self.results = self.calc_feat_importance()\n",
        "    self.plot_importance(self.ord_dic_to_df(self.results))\n",
        "\n",
        "  def measure_col(self, name:str):\n",
        "    \"Measures change after column shuffle\"\n",
        "    col = [name]\n",
        "    if f'{name}_na' in self.na: col.append(name)\n",
        "    orig = self.dl.items[col].values\n",
        "    perm = np.random.permutation(len(orig))\n",
        "    self.dl.items[col] = self.dl.items[col].values[perm]\n",
        "    metric = learn.validate(dl=self.dl)[1]\n",
        "    self.dl.items[col] = orig\n",
        "    return metric\n",
        "\n",
        "  def calc_feat_importance(self):\n",
        "    \"Calculates permutation importance by shuffling a column on a percentage scale\"\n",
        "    print('Getting base error')\n",
        "    base_error = self.learn.validate(dl=self.dl)[1]\n",
        "    self.importance = {}\n",
        "    pbar = progress_bar(self.x_names)\n",
        "    print('Calculating Permutation Importance')\n",
        "    for col in pbar:\n",
        "      self.importance[col] = self.measure_col(col)\n",
        "    for key, value in self.importance.items():\n",
        "      self.importance[key] = (base_error-value)/base_error #this can be adjusted\n",
        "    return OrderedDict(sorted(self.importance.items(), key=lambda kv: kv[1], reverse=True))\n",
        "\n",
        "  def ord_dic_to_df(self, dict:OrderedDict):\n",
        "    return pd.DataFrame([[k, v] for k, v in dict.items()], columns=['feature', 'importance'])\n",
        "\n",
        "  def plot_importance(self, df:pd.DataFrame, limit=30, asc=False, **kwargs):\n",
        "    \"Plot importance with an optional limit to how many variables shown\"\n",
        "    df_copy = df.copy()\n",
        "    df_copy['feature'] = df_copy['feature'].str.slice(0,25)\n",
        "    df_copy = df_copy.sort_values(by='importance', ascending=asc)[:limit].sort_values(by='importance', ascending=not(asc))\n",
        "    ax = df_copy.plot.barh(x='feature', y='importance', sort_columns=True, **kwargs)\n",
        "    for p in ax.patches:\n",
        "      ax.annotate(f'{p.get_width():.4f}', ((p.get_width() * 1.005), p.get_y()  * 1.005))"
      ],
      "id": "c0e2f60a-0d7d-448b-b4fd-daa6848b7348",
      "execution_count": null,
      "outputs": []
    },
    {
      "cell_type": "code",
      "metadata": {
        "id": "0cc0efb7-7e49-40cf-8696-4f8fd3f2b8de",
        "colab": {
          "base_uri": "https://localhost:8080/",
          "height": 323
        },
        "outputId": "4b155a0e-0df3-43ee-d5f4-dbf6ca642894"
      },
      "source": [
        "imp = PermutationImportance(learn)"
      ],
      "id": "0cc0efb7-7e49-40cf-8696-4f8fd3f2b8de",
      "execution_count": null,
      "outputs": [
        {
          "output_type": "stream",
          "text": [
            "Getting base error\n"
          ],
          "name": "stdout"
        },
        {
          "output_type": "display_data",
          "data": {
            "text/html": [
              ""
            ],
            "text/plain": [
              "<IPython.core.display.HTML object>"
            ]
          },
          "metadata": {
            "tags": []
          }
        },
        {
          "output_type": "stream",
          "text": [
            "Calculating Permutation Importance\n"
          ],
          "name": "stdout"
        },
        {
          "output_type": "display_data",
          "data": {
            "text/html": [
              "\n",
              "    <div>\n",
              "        <style>\n",
              "            /* Turns off some styling */\n",
              "            progress {\n",
              "                /* gets rid of default border in Firefox and Opera. */\n",
              "                border: none;\n",
              "                /* Needs to be in here for Safari polyfill so background images work as expected. */\n",
              "                background-size: auto;\n",
              "            }\n",
              "            .progress-bar-interrupted, .progress-bar-interrupted::-webkit-progress-bar {\n",
              "                background: #F44336;\n",
              "            }\n",
              "        </style>\n",
              "      <progress value='309' class='' max='309' style='width:300px; height:20px; vertical-align: middle;'></progress>\n",
              "      100.00% [309/309 08:51<00:00]\n",
              "    </div>\n",
              "    "
            ],
            "text/plain": [
              "<IPython.core.display.HTML object>"
            ]
          },
          "metadata": {
            "tags": []
          }
        },
        {
          "output_type": "display_data",
          "data": {
            "text/html": [
              ""
            ],
            "text/plain": [
              "<IPython.core.display.HTML object>"
            ]
          },
          "metadata": {
            "tags": []
          }
        },
        {
          "output_type": "display_data",
          "data": {
            "text/html": [
              ""
            ],
            "text/plain": [
              "<IPython.core.display.HTML object>"
            ]
          },
          "metadata": {
            "tags": []
          }
        },
        {
          "output_type": "display_data",
          "data": {
            "text/html": [
              ""
            ],
            "text/plain": [
              "<IPython.core.display.HTML object>"
            ]
          },
          "metadata": {
            "tags": []
          }
        },
        {
          "output_type": "display_data",
          "data": {
            "text/html": [
              ""
            ],
            "text/plain": [
              "<IPython.core.display.HTML object>"
            ]
          },
          "metadata": {
            "tags": []
          }
        },
        {
          "output_type": "display_data",
          "data": {
            "text/html": [
              ""
            ],
            "text/plain": [
              "<IPython.core.display.HTML object>"
            ]
          },
          "metadata": {
            "tags": []
          }
        },
        {
          "output_type": "display_data",
          "data": {
            "text/html": [
              ""
            ],
            "text/plain": [
              "<IPython.core.display.HTML object>"
            ]
          },
          "metadata": {
            "tags": []
          }
        },
        {
          "output_type": "display_data",
          "data": {
            "text/html": [
              ""
            ],
            "text/plain": [
              "<IPython.core.display.HTML object>"
            ]
          },
          "metadata": {
            "tags": []
          }
        },
        {
          "output_type": "display_data",
          "data": {
            "text/html": [
              ""
            ],
            "text/plain": [
              "<IPython.core.display.HTML object>"
            ]
          },
          "metadata": {
            "tags": []
          }
        },
        {
          "output_type": "display_data",
          "data": {
            "text/html": [
              ""
            ],
            "text/plain": [
              "<IPython.core.display.HTML object>"
            ]
          },
          "metadata": {
            "tags": []
          }
        },
        {
          "output_type": "display_data",
          "data": {
            "text/html": [
              ""
            ],
            "text/plain": [
              "<IPython.core.display.HTML object>"
            ]
          },
          "metadata": {
            "tags": []
          }
        },
        {
          "output_type": "display_data",
          "data": {
            "text/html": [
              ""
            ],
            "text/plain": [
              "<IPython.core.display.HTML object>"
            ]
          },
          "metadata": {
            "tags": []
          }
        },
        {
          "output_type": "display_data",
          "data": {
            "text/html": [
              ""
            ],
            "text/plain": [
              "<IPython.core.display.HTML object>"
            ]
          },
          "metadata": {
            "tags": []
          }
        },
        {
          "output_type": "display_data",
          "data": {
            "text/html": [
              ""
            ],
            "text/plain": [
              "<IPython.core.display.HTML object>"
            ]
          },
          "metadata": {
            "tags": []
          }
        },
        {
          "output_type": "display_data",
          "data": {
            "text/html": [
              ""
            ],
            "text/plain": [
              "<IPython.core.display.HTML object>"
            ]
          },
          "metadata": {
            "tags": []
          }
        },
        {
          "output_type": "display_data",
          "data": {
            "text/html": [
              ""
            ],
            "text/plain": [
              "<IPython.core.display.HTML object>"
            ]
          },
          "metadata": {
            "tags": []
          }
        },
        {
          "output_type": "display_data",
          "data": {
            "text/html": [
              ""
            ],
            "text/plain": [
              "<IPython.core.display.HTML object>"
            ]
          },
          "metadata": {
            "tags": []
          }
        },
        {
          "output_type": "display_data",
          "data": {
            "text/html": [
              ""
            ],
            "text/plain": [
              "<IPython.core.display.HTML object>"
            ]
          },
          "metadata": {
            "tags": []
          }
        },
        {
          "output_type": "display_data",
          "data": {
            "text/html": [
              ""
            ],
            "text/plain": [
              "<IPython.core.display.HTML object>"
            ]
          },
          "metadata": {
            "tags": []
          }
        },
        {
          "output_type": "display_data",
          "data": {
            "text/html": [
              ""
            ],
            "text/plain": [
              "<IPython.core.display.HTML object>"
            ]
          },
          "metadata": {
            "tags": []
          }
        },
        {
          "output_type": "display_data",
          "data": {
            "text/html": [
              ""
            ],
            "text/plain": [
              "<IPython.core.display.HTML object>"
            ]
          },
          "metadata": {
            "tags": []
          }
        },
        {
          "output_type": "display_data",
          "data": {
            "text/html": [
              ""
            ],
            "text/plain": [
              "<IPython.core.display.HTML object>"
            ]
          },
          "metadata": {
            "tags": []
          }
        },
        {
          "output_type": "display_data",
          "data": {
            "text/html": [
              ""
            ],
            "text/plain": [
              "<IPython.core.display.HTML object>"
            ]
          },
          "metadata": {
            "tags": []
          }
        },
        {
          "output_type": "display_data",
          "data": {
            "text/html": [
              ""
            ],
            "text/plain": [
              "<IPython.core.display.HTML object>"
            ]
          },
          "metadata": {
            "tags": []
          }
        },
        {
          "output_type": "display_data",
          "data": {
            "text/html": [
              ""
            ],
            "text/plain": [
              "<IPython.core.display.HTML object>"
            ]
          },
          "metadata": {
            "tags": []
          }
        },
        {
          "output_type": "display_data",
          "data": {
            "text/html": [
              ""
            ],
            "text/plain": [
              "<IPython.core.display.HTML object>"
            ]
          },
          "metadata": {
            "tags": []
          }
        },
        {
          "output_type": "display_data",
          "data": {
            "text/html": [
              ""
            ],
            "text/plain": [
              "<IPython.core.display.HTML object>"
            ]
          },
          "metadata": {
            "tags": []
          }
        },
        {
          "output_type": "display_data",
          "data": {
            "text/html": [
              ""
            ],
            "text/plain": [
              "<IPython.core.display.HTML object>"
            ]
          },
          "metadata": {
            "tags": []
          }
        },
        {
          "output_type": "display_data",
          "data": {
            "text/html": [
              ""
            ],
            "text/plain": [
              "<IPython.core.display.HTML object>"
            ]
          },
          "metadata": {
            "tags": []
          }
        },
        {
          "output_type": "display_data",
          "data": {
            "text/html": [
              ""
            ],
            "text/plain": [
              "<IPython.core.display.HTML object>"
            ]
          },
          "metadata": {
            "tags": []
          }
        },
        {
          "output_type": "display_data",
          "data": {
            "text/html": [
              ""
            ],
            "text/plain": [
              "<IPython.core.display.HTML object>"
            ]
          },
          "metadata": {
            "tags": []
          }
        },
        {
          "output_type": "display_data",
          "data": {
            "text/html": [
              ""
            ],
            "text/plain": [
              "<IPython.core.display.HTML object>"
            ]
          },
          "metadata": {
            "tags": []
          }
        },
        {
          "output_type": "display_data",
          "data": {
            "text/html": [
              ""
            ],
            "text/plain": [
              "<IPython.core.display.HTML object>"
            ]
          },
          "metadata": {
            "tags": []
          }
        },
        {
          "output_type": "display_data",
          "data": {
            "text/html": [
              ""
            ],
            "text/plain": [
              "<IPython.core.display.HTML object>"
            ]
          },
          "metadata": {
            "tags": []
          }
        },
        {
          "output_type": "display_data",
          "data": {
            "text/html": [
              ""
            ],
            "text/plain": [
              "<IPython.core.display.HTML object>"
            ]
          },
          "metadata": {
            "tags": []
          }
        },
        {
          "output_type": "display_data",
          "data": {
            "text/html": [
              ""
            ],
            "text/plain": [
              "<IPython.core.display.HTML object>"
            ]
          },
          "metadata": {
            "tags": []
          }
        },
        {
          "output_type": "display_data",
          "data": {
            "text/html": [
              ""
            ],
            "text/plain": [
              "<IPython.core.display.HTML object>"
            ]
          },
          "metadata": {
            "tags": []
          }
        },
        {
          "output_type": "display_data",
          "data": {
            "text/html": [
              ""
            ],
            "text/plain": [
              "<IPython.core.display.HTML object>"
            ]
          },
          "metadata": {
            "tags": []
          }
        },
        {
          "output_type": "display_data",
          "data": {
            "text/html": [
              ""
            ],
            "text/plain": [
              "<IPython.core.display.HTML object>"
            ]
          },
          "metadata": {
            "tags": []
          }
        },
        {
          "output_type": "display_data",
          "data": {
            "text/html": [
              ""
            ],
            "text/plain": [
              "<IPython.core.display.HTML object>"
            ]
          },
          "metadata": {
            "tags": []
          }
        },
        {
          "output_type": "display_data",
          "data": {
            "text/html": [
              ""
            ],
            "text/plain": [
              "<IPython.core.display.HTML object>"
            ]
          },
          "metadata": {
            "tags": []
          }
        },
        {
          "output_type": "display_data",
          "data": {
            "text/html": [
              ""
            ],
            "text/plain": [
              "<IPython.core.display.HTML object>"
            ]
          },
          "metadata": {
            "tags": []
          }
        },
        {
          "output_type": "display_data",
          "data": {
            "text/html": [
              ""
            ],
            "text/plain": [
              "<IPython.core.display.HTML object>"
            ]
          },
          "metadata": {
            "tags": []
          }
        },
        {
          "output_type": "display_data",
          "data": {
            "text/html": [
              ""
            ],
            "text/plain": [
              "<IPython.core.display.HTML object>"
            ]
          },
          "metadata": {
            "tags": []
          }
        },
        {
          "output_type": "display_data",
          "data": {
            "text/html": [
              ""
            ],
            "text/plain": [
              "<IPython.core.display.HTML object>"
            ]
          },
          "metadata": {
            "tags": []
          }
        },
        {
          "output_type": "display_data",
          "data": {
            "text/html": [
              ""
            ],
            "text/plain": [
              "<IPython.core.display.HTML object>"
            ]
          },
          "metadata": {
            "tags": []
          }
        },
        {
          "output_type": "display_data",
          "data": {
            "text/html": [
              ""
            ],
            "text/plain": [
              "<IPython.core.display.HTML object>"
            ]
          },
          "metadata": {
            "tags": []
          }
        },
        {
          "output_type": "display_data",
          "data": {
            "text/html": [
              ""
            ],
            "text/plain": [
              "<IPython.core.display.HTML object>"
            ]
          },
          "metadata": {
            "tags": []
          }
        },
        {
          "output_type": "display_data",
          "data": {
            "text/html": [
              ""
            ],
            "text/plain": [
              "<IPython.core.display.HTML object>"
            ]
          },
          "metadata": {
            "tags": []
          }
        },
        {
          "output_type": "display_data",
          "data": {
            "text/html": [
              ""
            ],
            "text/plain": [
              "<IPython.core.display.HTML object>"
            ]
          },
          "metadata": {
            "tags": []
          }
        },
        {
          "output_type": "display_data",
          "data": {
            "text/html": [
              ""
            ],
            "text/plain": [
              "<IPython.core.display.HTML object>"
            ]
          },
          "metadata": {
            "tags": []
          }
        },
        {
          "output_type": "display_data",
          "data": {
            "text/html": [
              ""
            ],
            "text/plain": [
              "<IPython.core.display.HTML object>"
            ]
          },
          "metadata": {
            "tags": []
          }
        },
        {
          "output_type": "display_data",
          "data": {
            "text/html": [
              ""
            ],
            "text/plain": [
              "<IPython.core.display.HTML object>"
            ]
          },
          "metadata": {
            "tags": []
          }
        },
        {
          "output_type": "display_data",
          "data": {
            "text/html": [
              ""
            ],
            "text/plain": [
              "<IPython.core.display.HTML object>"
            ]
          },
          "metadata": {
            "tags": []
          }
        },
        {
          "output_type": "display_data",
          "data": {
            "text/html": [
              ""
            ],
            "text/plain": [
              "<IPython.core.display.HTML object>"
            ]
          },
          "metadata": {
            "tags": []
          }
        },
        {
          "output_type": "display_data",
          "data": {
            "text/html": [
              ""
            ],
            "text/plain": [
              "<IPython.core.display.HTML object>"
            ]
          },
          "metadata": {
            "tags": []
          }
        },
        {
          "output_type": "display_data",
          "data": {
            "text/html": [
              ""
            ],
            "text/plain": [
              "<IPython.core.display.HTML object>"
            ]
          },
          "metadata": {
            "tags": []
          }
        },
        {
          "output_type": "display_data",
          "data": {
            "text/html": [
              ""
            ],
            "text/plain": [
              "<IPython.core.display.HTML object>"
            ]
          },
          "metadata": {
            "tags": []
          }
        },
        {
          "output_type": "display_data",
          "data": {
            "text/html": [
              ""
            ],
            "text/plain": [
              "<IPython.core.display.HTML object>"
            ]
          },
          "metadata": {
            "tags": []
          }
        },
        {
          "output_type": "display_data",
          "data": {
            "text/html": [
              ""
            ],
            "text/plain": [
              "<IPython.core.display.HTML object>"
            ]
          },
          "metadata": {
            "tags": []
          }
        },
        {
          "output_type": "display_data",
          "data": {
            "text/html": [
              ""
            ],
            "text/plain": [
              "<IPython.core.display.HTML object>"
            ]
          },
          "metadata": {
            "tags": []
          }
        },
        {
          "output_type": "display_data",
          "data": {
            "text/html": [
              ""
            ],
            "text/plain": [
              "<IPython.core.display.HTML object>"
            ]
          },
          "metadata": {
            "tags": []
          }
        },
        {
          "output_type": "display_data",
          "data": {
            "text/html": [
              ""
            ],
            "text/plain": [
              "<IPython.core.display.HTML object>"
            ]
          },
          "metadata": {
            "tags": []
          }
        },
        {
          "output_type": "display_data",
          "data": {
            "text/html": [
              ""
            ],
            "text/plain": [
              "<IPython.core.display.HTML object>"
            ]
          },
          "metadata": {
            "tags": []
          }
        },
        {
          "output_type": "display_data",
          "data": {
            "text/html": [
              ""
            ],
            "text/plain": [
              "<IPython.core.display.HTML object>"
            ]
          },
          "metadata": {
            "tags": []
          }
        },
        {
          "output_type": "display_data",
          "data": {
            "text/html": [
              ""
            ],
            "text/plain": [
              "<IPython.core.display.HTML object>"
            ]
          },
          "metadata": {
            "tags": []
          }
        },
        {
          "output_type": "display_data",
          "data": {
            "text/html": [
              ""
            ],
            "text/plain": [
              "<IPython.core.display.HTML object>"
            ]
          },
          "metadata": {
            "tags": []
          }
        },
        {
          "output_type": "display_data",
          "data": {
            "text/html": [
              ""
            ],
            "text/plain": [
              "<IPython.core.display.HTML object>"
            ]
          },
          "metadata": {
            "tags": []
          }
        },
        {
          "output_type": "display_data",
          "data": {
            "text/html": [
              ""
            ],
            "text/plain": [
              "<IPython.core.display.HTML object>"
            ]
          },
          "metadata": {
            "tags": []
          }
        },
        {
          "output_type": "display_data",
          "data": {
            "text/html": [
              ""
            ],
            "text/plain": [
              "<IPython.core.display.HTML object>"
            ]
          },
          "metadata": {
            "tags": []
          }
        },
        {
          "output_type": "display_data",
          "data": {
            "text/html": [
              ""
            ],
            "text/plain": [
              "<IPython.core.display.HTML object>"
            ]
          },
          "metadata": {
            "tags": []
          }
        },
        {
          "output_type": "display_data",
          "data": {
            "text/html": [
              ""
            ],
            "text/plain": [
              "<IPython.core.display.HTML object>"
            ]
          },
          "metadata": {
            "tags": []
          }
        },
        {
          "output_type": "display_data",
          "data": {
            "text/html": [
              ""
            ],
            "text/plain": [
              "<IPython.core.display.HTML object>"
            ]
          },
          "metadata": {
            "tags": []
          }
        },
        {
          "output_type": "display_data",
          "data": {
            "text/html": [
              ""
            ],
            "text/plain": [
              "<IPython.core.display.HTML object>"
            ]
          },
          "metadata": {
            "tags": []
          }
        },
        {
          "output_type": "display_data",
          "data": {
            "text/html": [
              ""
            ],
            "text/plain": [
              "<IPython.core.display.HTML object>"
            ]
          },
          "metadata": {
            "tags": []
          }
        },
        {
          "output_type": "display_data",
          "data": {
            "text/html": [
              ""
            ],
            "text/plain": [
              "<IPython.core.display.HTML object>"
            ]
          },
          "metadata": {
            "tags": []
          }
        },
        {
          "output_type": "display_data",
          "data": {
            "text/html": [
              ""
            ],
            "text/plain": [
              "<IPython.core.display.HTML object>"
            ]
          },
          "metadata": {
            "tags": []
          }
        },
        {
          "output_type": "display_data",
          "data": {
            "text/html": [
              ""
            ],
            "text/plain": [
              "<IPython.core.display.HTML object>"
            ]
          },
          "metadata": {
            "tags": []
          }
        },
        {
          "output_type": "display_data",
          "data": {
            "text/html": [
              ""
            ],
            "text/plain": [
              "<IPython.core.display.HTML object>"
            ]
          },
          "metadata": {
            "tags": []
          }
        },
        {
          "output_type": "display_data",
          "data": {
            "text/html": [
              ""
            ],
            "text/plain": [
              "<IPython.core.display.HTML object>"
            ]
          },
          "metadata": {
            "tags": []
          }
        },
        {
          "output_type": "display_data",
          "data": {
            "text/html": [
              ""
            ],
            "text/plain": [
              "<IPython.core.display.HTML object>"
            ]
          },
          "metadata": {
            "tags": []
          }
        },
        {
          "output_type": "display_data",
          "data": {
            "text/html": [
              ""
            ],
            "text/plain": [
              "<IPython.core.display.HTML object>"
            ]
          },
          "metadata": {
            "tags": []
          }
        },
        {
          "output_type": "display_data",
          "data": {
            "text/html": [
              ""
            ],
            "text/plain": [
              "<IPython.core.display.HTML object>"
            ]
          },
          "metadata": {
            "tags": []
          }
        },
        {
          "output_type": "display_data",
          "data": {
            "text/html": [
              ""
            ],
            "text/plain": [
              "<IPython.core.display.HTML object>"
            ]
          },
          "metadata": {
            "tags": []
          }
        },
        {
          "output_type": "display_data",
          "data": {
            "text/html": [
              ""
            ],
            "text/plain": [
              "<IPython.core.display.HTML object>"
            ]
          },
          "metadata": {
            "tags": []
          }
        },
        {
          "output_type": "display_data",
          "data": {
            "text/html": [
              ""
            ],
            "text/plain": [
              "<IPython.core.display.HTML object>"
            ]
          },
          "metadata": {
            "tags": []
          }
        },
        {
          "output_type": "display_data",
          "data": {
            "text/html": [
              ""
            ],
            "text/plain": [
              "<IPython.core.display.HTML object>"
            ]
          },
          "metadata": {
            "tags": []
          }
        },
        {
          "output_type": "display_data",
          "data": {
            "text/html": [
              ""
            ],
            "text/plain": [
              "<IPython.core.display.HTML object>"
            ]
          },
          "metadata": {
            "tags": []
          }
        },
        {
          "output_type": "display_data",
          "data": {
            "text/html": [
              ""
            ],
            "text/plain": [
              "<IPython.core.display.HTML object>"
            ]
          },
          "metadata": {
            "tags": []
          }
        },
        {
          "output_type": "display_data",
          "data": {
            "text/html": [
              ""
            ],
            "text/plain": [
              "<IPython.core.display.HTML object>"
            ]
          },
          "metadata": {
            "tags": []
          }
        },
        {
          "output_type": "display_data",
          "data": {
            "text/html": [
              ""
            ],
            "text/plain": [
              "<IPython.core.display.HTML object>"
            ]
          },
          "metadata": {
            "tags": []
          }
        },
        {
          "output_type": "display_data",
          "data": {
            "text/html": [
              ""
            ],
            "text/plain": [
              "<IPython.core.display.HTML object>"
            ]
          },
          "metadata": {
            "tags": []
          }
        },
        {
          "output_type": "display_data",
          "data": {
            "text/html": [
              ""
            ],
            "text/plain": [
              "<IPython.core.display.HTML object>"
            ]
          },
          "metadata": {
            "tags": []
          }
        },
        {
          "output_type": "display_data",
          "data": {
            "text/html": [
              ""
            ],
            "text/plain": [
              "<IPython.core.display.HTML object>"
            ]
          },
          "metadata": {
            "tags": []
          }
        },
        {
          "output_type": "display_data",
          "data": {
            "text/html": [
              ""
            ],
            "text/plain": [
              "<IPython.core.display.HTML object>"
            ]
          },
          "metadata": {
            "tags": []
          }
        },
        {
          "output_type": "display_data",
          "data": {
            "text/html": [
              ""
            ],
            "text/plain": [
              "<IPython.core.display.HTML object>"
            ]
          },
          "metadata": {
            "tags": []
          }
        },
        {
          "output_type": "display_data",
          "data": {
            "text/html": [
              ""
            ],
            "text/plain": [
              "<IPython.core.display.HTML object>"
            ]
          },
          "metadata": {
            "tags": []
          }
        },
        {
          "output_type": "display_data",
          "data": {
            "text/html": [
              ""
            ],
            "text/plain": [
              "<IPython.core.display.HTML object>"
            ]
          },
          "metadata": {
            "tags": []
          }
        },
        {
          "output_type": "display_data",
          "data": {
            "text/html": [
              ""
            ],
            "text/plain": [
              "<IPython.core.display.HTML object>"
            ]
          },
          "metadata": {
            "tags": []
          }
        },
        {
          "output_type": "display_data",
          "data": {
            "text/html": [
              ""
            ],
            "text/plain": [
              "<IPython.core.display.HTML object>"
            ]
          },
          "metadata": {
            "tags": []
          }
        },
        {
          "output_type": "display_data",
          "data": {
            "text/html": [
              ""
            ],
            "text/plain": [
              "<IPython.core.display.HTML object>"
            ]
          },
          "metadata": {
            "tags": []
          }
        },
        {
          "output_type": "display_data",
          "data": {
            "text/html": [
              ""
            ],
            "text/plain": [
              "<IPython.core.display.HTML object>"
            ]
          },
          "metadata": {
            "tags": []
          }
        },
        {
          "output_type": "display_data",
          "data": {
            "text/html": [
              ""
            ],
            "text/plain": [
              "<IPython.core.display.HTML object>"
            ]
          },
          "metadata": {
            "tags": []
          }
        },
        {
          "output_type": "display_data",
          "data": {
            "text/html": [
              ""
            ],
            "text/plain": [
              "<IPython.core.display.HTML object>"
            ]
          },
          "metadata": {
            "tags": []
          }
        },
        {
          "output_type": "display_data",
          "data": {
            "text/html": [
              ""
            ],
            "text/plain": [
              "<IPython.core.display.HTML object>"
            ]
          },
          "metadata": {
            "tags": []
          }
        },
        {
          "output_type": "display_data",
          "data": {
            "text/html": [
              ""
            ],
            "text/plain": [
              "<IPython.core.display.HTML object>"
            ]
          },
          "metadata": {
            "tags": []
          }
        },
        {
          "output_type": "display_data",
          "data": {
            "text/html": [
              ""
            ],
            "text/plain": [
              "<IPython.core.display.HTML object>"
            ]
          },
          "metadata": {
            "tags": []
          }
        },
        {
          "output_type": "display_data",
          "data": {
            "text/html": [
              ""
            ],
            "text/plain": [
              "<IPython.core.display.HTML object>"
            ]
          },
          "metadata": {
            "tags": []
          }
        },
        {
          "output_type": "display_data",
          "data": {
            "text/html": [
              ""
            ],
            "text/plain": [
              "<IPython.core.display.HTML object>"
            ]
          },
          "metadata": {
            "tags": []
          }
        },
        {
          "output_type": "display_data",
          "data": {
            "text/html": [
              ""
            ],
            "text/plain": [
              "<IPython.core.display.HTML object>"
            ]
          },
          "metadata": {
            "tags": []
          }
        },
        {
          "output_type": "display_data",
          "data": {
            "text/html": [
              ""
            ],
            "text/plain": [
              "<IPython.core.display.HTML object>"
            ]
          },
          "metadata": {
            "tags": []
          }
        },
        {
          "output_type": "display_data",
          "data": {
            "text/html": [
              ""
            ],
            "text/plain": [
              "<IPython.core.display.HTML object>"
            ]
          },
          "metadata": {
            "tags": []
          }
        },
        {
          "output_type": "display_data",
          "data": {
            "text/html": [
              ""
            ],
            "text/plain": [
              "<IPython.core.display.HTML object>"
            ]
          },
          "metadata": {
            "tags": []
          }
        },
        {
          "output_type": "display_data",
          "data": {
            "text/html": [
              ""
            ],
            "text/plain": [
              "<IPython.core.display.HTML object>"
            ]
          },
          "metadata": {
            "tags": []
          }
        },
        {
          "output_type": "display_data",
          "data": {
            "text/html": [
              ""
            ],
            "text/plain": [
              "<IPython.core.display.HTML object>"
            ]
          },
          "metadata": {
            "tags": []
          }
        },
        {
          "output_type": "display_data",
          "data": {
            "text/html": [
              ""
            ],
            "text/plain": [
              "<IPython.core.display.HTML object>"
            ]
          },
          "metadata": {
            "tags": []
          }
        },
        {
          "output_type": "display_data",
          "data": {
            "text/html": [
              ""
            ],
            "text/plain": [
              "<IPython.core.display.HTML object>"
            ]
          },
          "metadata": {
            "tags": []
          }
        },
        {
          "output_type": "display_data",
          "data": {
            "text/html": [
              ""
            ],
            "text/plain": [
              "<IPython.core.display.HTML object>"
            ]
          },
          "metadata": {
            "tags": []
          }
        },
        {
          "output_type": "display_data",
          "data": {
            "text/html": [
              ""
            ],
            "text/plain": [
              "<IPython.core.display.HTML object>"
            ]
          },
          "metadata": {
            "tags": []
          }
        },
        {
          "output_type": "display_data",
          "data": {
            "text/html": [
              ""
            ],
            "text/plain": [
              "<IPython.core.display.HTML object>"
            ]
          },
          "metadata": {
            "tags": []
          }
        },
        {
          "output_type": "display_data",
          "data": {
            "text/html": [
              ""
            ],
            "text/plain": [
              "<IPython.core.display.HTML object>"
            ]
          },
          "metadata": {
            "tags": []
          }
        },
        {
          "output_type": "display_data",
          "data": {
            "text/html": [
              ""
            ],
            "text/plain": [
              "<IPython.core.display.HTML object>"
            ]
          },
          "metadata": {
            "tags": []
          }
        },
        {
          "output_type": "display_data",
          "data": {
            "text/html": [
              ""
            ],
            "text/plain": [
              "<IPython.core.display.HTML object>"
            ]
          },
          "metadata": {
            "tags": []
          }
        },
        {
          "output_type": "display_data",
          "data": {
            "text/html": [
              ""
            ],
            "text/plain": [
              "<IPython.core.display.HTML object>"
            ]
          },
          "metadata": {
            "tags": []
          }
        },
        {
          "output_type": "display_data",
          "data": {
            "text/html": [
              ""
            ],
            "text/plain": [
              "<IPython.core.display.HTML object>"
            ]
          },
          "metadata": {
            "tags": []
          }
        },
        {
          "output_type": "display_data",
          "data": {
            "text/html": [
              ""
            ],
            "text/plain": [
              "<IPython.core.display.HTML object>"
            ]
          },
          "metadata": {
            "tags": []
          }
        },
        {
          "output_type": "display_data",
          "data": {
            "text/html": [
              ""
            ],
            "text/plain": [
              "<IPython.core.display.HTML object>"
            ]
          },
          "metadata": {
            "tags": []
          }
        },
        {
          "output_type": "display_data",
          "data": {
            "text/html": [
              ""
            ],
            "text/plain": [
              "<IPython.core.display.HTML object>"
            ]
          },
          "metadata": {
            "tags": []
          }
        },
        {
          "output_type": "display_data",
          "data": {
            "text/html": [
              ""
            ],
            "text/plain": [
              "<IPython.core.display.HTML object>"
            ]
          },
          "metadata": {
            "tags": []
          }
        },
        {
          "output_type": "display_data",
          "data": {
            "text/html": [
              ""
            ],
            "text/plain": [
              "<IPython.core.display.HTML object>"
            ]
          },
          "metadata": {
            "tags": []
          }
        },
        {
          "output_type": "display_data",
          "data": {
            "text/html": [
              ""
            ],
            "text/plain": [
              "<IPython.core.display.HTML object>"
            ]
          },
          "metadata": {
            "tags": []
          }
        },
        {
          "output_type": "display_data",
          "data": {
            "text/html": [
              ""
            ],
            "text/plain": [
              "<IPython.core.display.HTML object>"
            ]
          },
          "metadata": {
            "tags": []
          }
        },
        {
          "output_type": "display_data",
          "data": {
            "text/html": [
              ""
            ],
            "text/plain": [
              "<IPython.core.display.HTML object>"
            ]
          },
          "metadata": {
            "tags": []
          }
        },
        {
          "output_type": "display_data",
          "data": {
            "text/html": [
              ""
            ],
            "text/plain": [
              "<IPython.core.display.HTML object>"
            ]
          },
          "metadata": {
            "tags": []
          }
        },
        {
          "output_type": "display_data",
          "data": {
            "text/html": [
              ""
            ],
            "text/plain": [
              "<IPython.core.display.HTML object>"
            ]
          },
          "metadata": {
            "tags": []
          }
        },
        {
          "output_type": "display_data",
          "data": {
            "text/html": [
              ""
            ],
            "text/plain": [
              "<IPython.core.display.HTML object>"
            ]
          },
          "metadata": {
            "tags": []
          }
        },
        {
          "output_type": "display_data",
          "data": {
            "text/html": [
              ""
            ],
            "text/plain": [
              "<IPython.core.display.HTML object>"
            ]
          },
          "metadata": {
            "tags": []
          }
        },
        {
          "output_type": "display_data",
          "data": {
            "text/html": [
              ""
            ],
            "text/plain": [
              "<IPython.core.display.HTML object>"
            ]
          },
          "metadata": {
            "tags": []
          }
        },
        {
          "output_type": "display_data",
          "data": {
            "text/html": [
              ""
            ],
            "text/plain": [
              "<IPython.core.display.HTML object>"
            ]
          },
          "metadata": {
            "tags": []
          }
        },
        {
          "output_type": "display_data",
          "data": {
            "text/html": [
              ""
            ],
            "text/plain": [
              "<IPython.core.display.HTML object>"
            ]
          },
          "metadata": {
            "tags": []
          }
        },
        {
          "output_type": "display_data",
          "data": {
            "text/html": [
              ""
            ],
            "text/plain": [
              "<IPython.core.display.HTML object>"
            ]
          },
          "metadata": {
            "tags": []
          }
        },
        {
          "output_type": "display_data",
          "data": {
            "text/html": [
              ""
            ],
            "text/plain": [
              "<IPython.core.display.HTML object>"
            ]
          },
          "metadata": {
            "tags": []
          }
        },
        {
          "output_type": "display_data",
          "data": {
            "text/html": [
              ""
            ],
            "text/plain": [
              "<IPython.core.display.HTML object>"
            ]
          },
          "metadata": {
            "tags": []
          }
        },
        {
          "output_type": "display_data",
          "data": {
            "text/html": [
              ""
            ],
            "text/plain": [
              "<IPython.core.display.HTML object>"
            ]
          },
          "metadata": {
            "tags": []
          }
        },
        {
          "output_type": "display_data",
          "data": {
            "text/html": [
              ""
            ],
            "text/plain": [
              "<IPython.core.display.HTML object>"
            ]
          },
          "metadata": {
            "tags": []
          }
        },
        {
          "output_type": "display_data",
          "data": {
            "text/html": [
              ""
            ],
            "text/plain": [
              "<IPython.core.display.HTML object>"
            ]
          },
          "metadata": {
            "tags": []
          }
        },
        {
          "output_type": "display_data",
          "data": {
            "text/html": [
              ""
            ],
            "text/plain": [
              "<IPython.core.display.HTML object>"
            ]
          },
          "metadata": {
            "tags": []
          }
        },
        {
          "output_type": "display_data",
          "data": {
            "text/html": [
              ""
            ],
            "text/plain": [
              "<IPython.core.display.HTML object>"
            ]
          },
          "metadata": {
            "tags": []
          }
        },
        {
          "output_type": "display_data",
          "data": {
            "text/html": [
              ""
            ],
            "text/plain": [
              "<IPython.core.display.HTML object>"
            ]
          },
          "metadata": {
            "tags": []
          }
        },
        {
          "output_type": "display_data",
          "data": {
            "text/html": [
              ""
            ],
            "text/plain": [
              "<IPython.core.display.HTML object>"
            ]
          },
          "metadata": {
            "tags": []
          }
        },
        {
          "output_type": "display_data",
          "data": {
            "text/html": [
              ""
            ],
            "text/plain": [
              "<IPython.core.display.HTML object>"
            ]
          },
          "metadata": {
            "tags": []
          }
        },
        {
          "output_type": "display_data",
          "data": {
            "text/html": [
              ""
            ],
            "text/plain": [
              "<IPython.core.display.HTML object>"
            ]
          },
          "metadata": {
            "tags": []
          }
        },
        {
          "output_type": "display_data",
          "data": {
            "text/html": [
              ""
            ],
            "text/plain": [
              "<IPython.core.display.HTML object>"
            ]
          },
          "metadata": {
            "tags": []
          }
        },
        {
          "output_type": "display_data",
          "data": {
            "text/html": [
              ""
            ],
            "text/plain": [
              "<IPython.core.display.HTML object>"
            ]
          },
          "metadata": {
            "tags": []
          }
        },
        {
          "output_type": "display_data",
          "data": {
            "text/html": [
              ""
            ],
            "text/plain": [
              "<IPython.core.display.HTML object>"
            ]
          },
          "metadata": {
            "tags": []
          }
        },
        {
          "output_type": "display_data",
          "data": {
            "text/html": [
              ""
            ],
            "text/plain": [
              "<IPython.core.display.HTML object>"
            ]
          },
          "metadata": {
            "tags": []
          }
        },
        {
          "output_type": "display_data",
          "data": {
            "text/html": [
              ""
            ],
            "text/plain": [
              "<IPython.core.display.HTML object>"
            ]
          },
          "metadata": {
            "tags": []
          }
        },
        {
          "output_type": "display_data",
          "data": {
            "text/html": [
              ""
            ],
            "text/plain": [
              "<IPython.core.display.HTML object>"
            ]
          },
          "metadata": {
            "tags": []
          }
        },
        {
          "output_type": "display_data",
          "data": {
            "text/html": [
              ""
            ],
            "text/plain": [
              "<IPython.core.display.HTML object>"
            ]
          },
          "metadata": {
            "tags": []
          }
        },
        {
          "output_type": "display_data",
          "data": {
            "text/html": [
              ""
            ],
            "text/plain": [
              "<IPython.core.display.HTML object>"
            ]
          },
          "metadata": {
            "tags": []
          }
        },
        {
          "output_type": "display_data",
          "data": {
            "text/html": [
              ""
            ],
            "text/plain": [
              "<IPython.core.display.HTML object>"
            ]
          },
          "metadata": {
            "tags": []
          }
        },
        {
          "output_type": "display_data",
          "data": {
            "text/html": [
              ""
            ],
            "text/plain": [
              "<IPython.core.display.HTML object>"
            ]
          },
          "metadata": {
            "tags": []
          }
        },
        {
          "output_type": "display_data",
          "data": {
            "text/html": [
              ""
            ],
            "text/plain": [
              "<IPython.core.display.HTML object>"
            ]
          },
          "metadata": {
            "tags": []
          }
        },
        {
          "output_type": "display_data",
          "data": {
            "text/html": [
              ""
            ],
            "text/plain": [
              "<IPython.core.display.HTML object>"
            ]
          },
          "metadata": {
            "tags": []
          }
        },
        {
          "output_type": "display_data",
          "data": {
            "text/html": [
              ""
            ],
            "text/plain": [
              "<IPython.core.display.HTML object>"
            ]
          },
          "metadata": {
            "tags": []
          }
        },
        {
          "output_type": "display_data",
          "data": {
            "text/html": [
              ""
            ],
            "text/plain": [
              "<IPython.core.display.HTML object>"
            ]
          },
          "metadata": {
            "tags": []
          }
        },
        {
          "output_type": "display_data",
          "data": {
            "text/html": [
              ""
            ],
            "text/plain": [
              "<IPython.core.display.HTML object>"
            ]
          },
          "metadata": {
            "tags": []
          }
        },
        {
          "output_type": "display_data",
          "data": {
            "text/html": [
              ""
            ],
            "text/plain": [
              "<IPython.core.display.HTML object>"
            ]
          },
          "metadata": {
            "tags": []
          }
        },
        {
          "output_type": "display_data",
          "data": {
            "text/html": [
              ""
            ],
            "text/plain": [
              "<IPython.core.display.HTML object>"
            ]
          },
          "metadata": {
            "tags": []
          }
        },
        {
          "output_type": "display_data",
          "data": {
            "text/html": [
              ""
            ],
            "text/plain": [
              "<IPython.core.display.HTML object>"
            ]
          },
          "metadata": {
            "tags": []
          }
        },
        {
          "output_type": "display_data",
          "data": {
            "text/html": [
              ""
            ],
            "text/plain": [
              "<IPython.core.display.HTML object>"
            ]
          },
          "metadata": {
            "tags": []
          }
        },
        {
          "output_type": "display_data",
          "data": {
            "text/html": [
              ""
            ],
            "text/plain": [
              "<IPython.core.display.HTML object>"
            ]
          },
          "metadata": {
            "tags": []
          }
        },
        {
          "output_type": "display_data",
          "data": {
            "text/html": [
              ""
            ],
            "text/plain": [
              "<IPython.core.display.HTML object>"
            ]
          },
          "metadata": {
            "tags": []
          }
        },
        {
          "output_type": "display_data",
          "data": {
            "text/html": [
              ""
            ],
            "text/plain": [
              "<IPython.core.display.HTML object>"
            ]
          },
          "metadata": {
            "tags": []
          }
        },
        {
          "output_type": "display_data",
          "data": {
            "text/html": [
              ""
            ],
            "text/plain": [
              "<IPython.core.display.HTML object>"
            ]
          },
          "metadata": {
            "tags": []
          }
        },
        {
          "output_type": "display_data",
          "data": {
            "text/html": [
              ""
            ],
            "text/plain": [
              "<IPython.core.display.HTML object>"
            ]
          },
          "metadata": {
            "tags": []
          }
        },
        {
          "output_type": "display_data",
          "data": {
            "text/html": [
              ""
            ],
            "text/plain": [
              "<IPython.core.display.HTML object>"
            ]
          },
          "metadata": {
            "tags": []
          }
        },
        {
          "output_type": "display_data",
          "data": {
            "text/html": [
              ""
            ],
            "text/plain": [
              "<IPython.core.display.HTML object>"
            ]
          },
          "metadata": {
            "tags": []
          }
        },
        {
          "output_type": "display_data",
          "data": {
            "text/html": [
              ""
            ],
            "text/plain": [
              "<IPython.core.display.HTML object>"
            ]
          },
          "metadata": {
            "tags": []
          }
        },
        {
          "output_type": "display_data",
          "data": {
            "text/html": [
              ""
            ],
            "text/plain": [
              "<IPython.core.display.HTML object>"
            ]
          },
          "metadata": {
            "tags": []
          }
        },
        {
          "output_type": "display_data",
          "data": {
            "text/html": [
              ""
            ],
            "text/plain": [
              "<IPython.core.display.HTML object>"
            ]
          },
          "metadata": {
            "tags": []
          }
        },
        {
          "output_type": "display_data",
          "data": {
            "text/html": [
              ""
            ],
            "text/plain": [
              "<IPython.core.display.HTML object>"
            ]
          },
          "metadata": {
            "tags": []
          }
        },
        {
          "output_type": "display_data",
          "data": {
            "text/html": [
              ""
            ],
            "text/plain": [
              "<IPython.core.display.HTML object>"
            ]
          },
          "metadata": {
            "tags": []
          }
        },
        {
          "output_type": "display_data",
          "data": {
            "text/html": [
              ""
            ],
            "text/plain": [
              "<IPython.core.display.HTML object>"
            ]
          },
          "metadata": {
            "tags": []
          }
        },
        {
          "output_type": "display_data",
          "data": {
            "text/html": [
              ""
            ],
            "text/plain": [
              "<IPython.core.display.HTML object>"
            ]
          },
          "metadata": {
            "tags": []
          }
        },
        {
          "output_type": "display_data",
          "data": {
            "text/html": [
              ""
            ],
            "text/plain": [
              "<IPython.core.display.HTML object>"
            ]
          },
          "metadata": {
            "tags": []
          }
        },
        {
          "output_type": "display_data",
          "data": {
            "text/html": [
              ""
            ],
            "text/plain": [
              "<IPython.core.display.HTML object>"
            ]
          },
          "metadata": {
            "tags": []
          }
        },
        {
          "output_type": "display_data",
          "data": {
            "text/html": [
              ""
            ],
            "text/plain": [
              "<IPython.core.display.HTML object>"
            ]
          },
          "metadata": {
            "tags": []
          }
        },
        {
          "output_type": "display_data",
          "data": {
            "text/html": [
              ""
            ],
            "text/plain": [
              "<IPython.core.display.HTML object>"
            ]
          },
          "metadata": {
            "tags": []
          }
        },
        {
          "output_type": "display_data",
          "data": {
            "text/html": [
              ""
            ],
            "text/plain": [
              "<IPython.core.display.HTML object>"
            ]
          },
          "metadata": {
            "tags": []
          }
        },
        {
          "output_type": "display_data",
          "data": {
            "text/html": [
              ""
            ],
            "text/plain": [
              "<IPython.core.display.HTML object>"
            ]
          },
          "metadata": {
            "tags": []
          }
        },
        {
          "output_type": "display_data",
          "data": {
            "text/html": [
              ""
            ],
            "text/plain": [
              "<IPython.core.display.HTML object>"
            ]
          },
          "metadata": {
            "tags": []
          }
        },
        {
          "output_type": "display_data",
          "data": {
            "text/html": [
              ""
            ],
            "text/plain": [
              "<IPython.core.display.HTML object>"
            ]
          },
          "metadata": {
            "tags": []
          }
        },
        {
          "output_type": "display_data",
          "data": {
            "text/html": [
              ""
            ],
            "text/plain": [
              "<IPython.core.display.HTML object>"
            ]
          },
          "metadata": {
            "tags": []
          }
        },
        {
          "output_type": "display_data",
          "data": {
            "text/html": [
              ""
            ],
            "text/plain": [
              "<IPython.core.display.HTML object>"
            ]
          },
          "metadata": {
            "tags": []
          }
        },
        {
          "output_type": "display_data",
          "data": {
            "text/html": [
              ""
            ],
            "text/plain": [
              "<IPython.core.display.HTML object>"
            ]
          },
          "metadata": {
            "tags": []
          }
        },
        {
          "output_type": "display_data",
          "data": {
            "text/html": [
              ""
            ],
            "text/plain": [
              "<IPython.core.display.HTML object>"
            ]
          },
          "metadata": {
            "tags": []
          }
        },
        {
          "output_type": "display_data",
          "data": {
            "text/html": [
              ""
            ],
            "text/plain": [
              "<IPython.core.display.HTML object>"
            ]
          },
          "metadata": {
            "tags": []
          }
        },
        {
          "output_type": "display_data",
          "data": {
            "text/html": [
              ""
            ],
            "text/plain": [
              "<IPython.core.display.HTML object>"
            ]
          },
          "metadata": {
            "tags": []
          }
        },
        {
          "output_type": "display_data",
          "data": {
            "text/html": [
              ""
            ],
            "text/plain": [
              "<IPython.core.display.HTML object>"
            ]
          },
          "metadata": {
            "tags": []
          }
        },
        {
          "output_type": "display_data",
          "data": {
            "text/html": [
              ""
            ],
            "text/plain": [
              "<IPython.core.display.HTML object>"
            ]
          },
          "metadata": {
            "tags": []
          }
        },
        {
          "output_type": "display_data",
          "data": {
            "text/html": [
              ""
            ],
            "text/plain": [
              "<IPython.core.display.HTML object>"
            ]
          },
          "metadata": {
            "tags": []
          }
        },
        {
          "output_type": "display_data",
          "data": {
            "text/html": [
              ""
            ],
            "text/plain": [
              "<IPython.core.display.HTML object>"
            ]
          },
          "metadata": {
            "tags": []
          }
        },
        {
          "output_type": "display_data",
          "data": {
            "text/html": [
              ""
            ],
            "text/plain": [
              "<IPython.core.display.HTML object>"
            ]
          },
          "metadata": {
            "tags": []
          }
        },
        {
          "output_type": "display_data",
          "data": {
            "text/html": [
              ""
            ],
            "text/plain": [
              "<IPython.core.display.HTML object>"
            ]
          },
          "metadata": {
            "tags": []
          }
        },
        {
          "output_type": "display_data",
          "data": {
            "text/html": [
              ""
            ],
            "text/plain": [
              "<IPython.core.display.HTML object>"
            ]
          },
          "metadata": {
            "tags": []
          }
        },
        {
          "output_type": "display_data",
          "data": {
            "text/html": [
              ""
            ],
            "text/plain": [
              "<IPython.core.display.HTML object>"
            ]
          },
          "metadata": {
            "tags": []
          }
        },
        {
          "output_type": "display_data",
          "data": {
            "text/html": [
              ""
            ],
            "text/plain": [
              "<IPython.core.display.HTML object>"
            ]
          },
          "metadata": {
            "tags": []
          }
        },
        {
          "output_type": "display_data",
          "data": {
            "text/html": [
              ""
            ],
            "text/plain": [
              "<IPython.core.display.HTML object>"
            ]
          },
          "metadata": {
            "tags": []
          }
        },
        {
          "output_type": "display_data",
          "data": {
            "text/html": [
              ""
            ],
            "text/plain": [
              "<IPython.core.display.HTML object>"
            ]
          },
          "metadata": {
            "tags": []
          }
        },
        {
          "output_type": "display_data",
          "data": {
            "text/html": [
              ""
            ],
            "text/plain": [
              "<IPython.core.display.HTML object>"
            ]
          },
          "metadata": {
            "tags": []
          }
        },
        {
          "output_type": "display_data",
          "data": {
            "text/html": [
              ""
            ],
            "text/plain": [
              "<IPython.core.display.HTML object>"
            ]
          },
          "metadata": {
            "tags": []
          }
        },
        {
          "output_type": "display_data",
          "data": {
            "text/html": [
              ""
            ],
            "text/plain": [
              "<IPython.core.display.HTML object>"
            ]
          },
          "metadata": {
            "tags": []
          }
        },
        {
          "output_type": "display_data",
          "data": {
            "text/html": [
              ""
            ],
            "text/plain": [
              "<IPython.core.display.HTML object>"
            ]
          },
          "metadata": {
            "tags": []
          }
        },
        {
          "output_type": "display_data",
          "data": {
            "text/html": [
              ""
            ],
            "text/plain": [
              "<IPython.core.display.HTML object>"
            ]
          },
          "metadata": {
            "tags": []
          }
        },
        {
          "output_type": "display_data",
          "data": {
            "text/html": [
              ""
            ],
            "text/plain": [
              "<IPython.core.display.HTML object>"
            ]
          },
          "metadata": {
            "tags": []
          }
        },
        {
          "output_type": "display_data",
          "data": {
            "text/html": [
              ""
            ],
            "text/plain": [
              "<IPython.core.display.HTML object>"
            ]
          },
          "metadata": {
            "tags": []
          }
        },
        {
          "output_type": "display_data",
          "data": {
            "text/html": [
              ""
            ],
            "text/plain": [
              "<IPython.core.display.HTML object>"
            ]
          },
          "metadata": {
            "tags": []
          }
        },
        {
          "output_type": "display_data",
          "data": {
            "text/html": [
              ""
            ],
            "text/plain": [
              "<IPython.core.display.HTML object>"
            ]
          },
          "metadata": {
            "tags": []
          }
        },
        {
          "output_type": "display_data",
          "data": {
            "text/html": [
              ""
            ],
            "text/plain": [
              "<IPython.core.display.HTML object>"
            ]
          },
          "metadata": {
            "tags": []
          }
        },
        {
          "output_type": "display_data",
          "data": {
            "text/html": [
              ""
            ],
            "text/plain": [
              "<IPython.core.display.HTML object>"
            ]
          },
          "metadata": {
            "tags": []
          }
        },
        {
          "output_type": "display_data",
          "data": {
            "text/html": [
              ""
            ],
            "text/plain": [
              "<IPython.core.display.HTML object>"
            ]
          },
          "metadata": {
            "tags": []
          }
        },
        {
          "output_type": "display_data",
          "data": {
            "text/html": [
              ""
            ],
            "text/plain": [
              "<IPython.core.display.HTML object>"
            ]
          },
          "metadata": {
            "tags": []
          }
        },
        {
          "output_type": "display_data",
          "data": {
            "text/html": [
              ""
            ],
            "text/plain": [
              "<IPython.core.display.HTML object>"
            ]
          },
          "metadata": {
            "tags": []
          }
        },
        {
          "output_type": "display_data",
          "data": {
            "text/html": [
              ""
            ],
            "text/plain": [
              "<IPython.core.display.HTML object>"
            ]
          },
          "metadata": {
            "tags": []
          }
        },
        {
          "output_type": "display_data",
          "data": {
            "text/html": [
              ""
            ],
            "text/plain": [
              "<IPython.core.display.HTML object>"
            ]
          },
          "metadata": {
            "tags": []
          }
        },
        {
          "output_type": "display_data",
          "data": {
            "text/html": [
              ""
            ],
            "text/plain": [
              "<IPython.core.display.HTML object>"
            ]
          },
          "metadata": {
            "tags": []
          }
        },
        {
          "output_type": "display_data",
          "data": {
            "text/html": [
              ""
            ],
            "text/plain": [
              "<IPython.core.display.HTML object>"
            ]
          },
          "metadata": {
            "tags": []
          }
        },
        {
          "output_type": "display_data",
          "data": {
            "text/html": [
              ""
            ],
            "text/plain": [
              "<IPython.core.display.HTML object>"
            ]
          },
          "metadata": {
            "tags": []
          }
        },
        {
          "output_type": "display_data",
          "data": {
            "text/html": [
              ""
            ],
            "text/plain": [
              "<IPython.core.display.HTML object>"
            ]
          },
          "metadata": {
            "tags": []
          }
        },
        {
          "output_type": "display_data",
          "data": {
            "text/html": [
              ""
            ],
            "text/plain": [
              "<IPython.core.display.HTML object>"
            ]
          },
          "metadata": {
            "tags": []
          }
        },
        {
          "output_type": "display_data",
          "data": {
            "text/html": [
              ""
            ],
            "text/plain": [
              "<IPython.core.display.HTML object>"
            ]
          },
          "metadata": {
            "tags": []
          }
        },
        {
          "output_type": "display_data",
          "data": {
            "text/html": [
              ""
            ],
            "text/plain": [
              "<IPython.core.display.HTML object>"
            ]
          },
          "metadata": {
            "tags": []
          }
        },
        {
          "output_type": "display_data",
          "data": {
            "text/html": [
              ""
            ],
            "text/plain": [
              "<IPython.core.display.HTML object>"
            ]
          },
          "metadata": {
            "tags": []
          }
        },
        {
          "output_type": "display_data",
          "data": {
            "text/html": [
              ""
            ],
            "text/plain": [
              "<IPython.core.display.HTML object>"
            ]
          },
          "metadata": {
            "tags": []
          }
        },
        {
          "output_type": "display_data",
          "data": {
            "text/html": [
              ""
            ],
            "text/plain": [
              "<IPython.core.display.HTML object>"
            ]
          },
          "metadata": {
            "tags": []
          }
        },
        {
          "output_type": "display_data",
          "data": {
            "text/html": [
              ""
            ],
            "text/plain": [
              "<IPython.core.display.HTML object>"
            ]
          },
          "metadata": {
            "tags": []
          }
        },
        {
          "output_type": "display_data",
          "data": {
            "text/html": [
              ""
            ],
            "text/plain": [
              "<IPython.core.display.HTML object>"
            ]
          },
          "metadata": {
            "tags": []
          }
        },
        {
          "output_type": "display_data",
          "data": {
            "text/html": [
              ""
            ],
            "text/plain": [
              "<IPython.core.display.HTML object>"
            ]
          },
          "metadata": {
            "tags": []
          }
        },
        {
          "output_type": "display_data",
          "data": {
            "text/html": [
              ""
            ],
            "text/plain": [
              "<IPython.core.display.HTML object>"
            ]
          },
          "metadata": {
            "tags": []
          }
        },
        {
          "output_type": "display_data",
          "data": {
            "text/html": [
              ""
            ],
            "text/plain": [
              "<IPython.core.display.HTML object>"
            ]
          },
          "metadata": {
            "tags": []
          }
        },
        {
          "output_type": "display_data",
          "data": {
            "text/html": [
              ""
            ],
            "text/plain": [
              "<IPython.core.display.HTML object>"
            ]
          },
          "metadata": {
            "tags": []
          }
        },
        {
          "output_type": "display_data",
          "data": {
            "text/html": [
              ""
            ],
            "text/plain": [
              "<IPython.core.display.HTML object>"
            ]
          },
          "metadata": {
            "tags": []
          }
        },
        {
          "output_type": "display_data",
          "data": {
            "text/html": [
              ""
            ],
            "text/plain": [
              "<IPython.core.display.HTML object>"
            ]
          },
          "metadata": {
            "tags": []
          }
        },
        {
          "output_type": "display_data",
          "data": {
            "text/html": [
              ""
            ],
            "text/plain": [
              "<IPython.core.display.HTML object>"
            ]
          },
          "metadata": {
            "tags": []
          }
        },
        {
          "output_type": "display_data",
          "data": {
            "text/html": [
              ""
            ],
            "text/plain": [
              "<IPython.core.display.HTML object>"
            ]
          },
          "metadata": {
            "tags": []
          }
        },
        {
          "output_type": "display_data",
          "data": {
            "text/html": [
              ""
            ],
            "text/plain": [
              "<IPython.core.display.HTML object>"
            ]
          },
          "metadata": {
            "tags": []
          }
        },
        {
          "output_type": "display_data",
          "data": {
            "text/html": [
              ""
            ],
            "text/plain": [
              "<IPython.core.display.HTML object>"
            ]
          },
          "metadata": {
            "tags": []
          }
        },
        {
          "output_type": "display_data",
          "data": {
            "text/html": [
              ""
            ],
            "text/plain": [
              "<IPython.core.display.HTML object>"
            ]
          },
          "metadata": {
            "tags": []
          }
        },
        {
          "output_type": "display_data",
          "data": {
            "text/html": [
              ""
            ],
            "text/plain": [
              "<IPython.core.display.HTML object>"
            ]
          },
          "metadata": {
            "tags": []
          }
        },
        {
          "output_type": "display_data",
          "data": {
            "text/html": [
              ""
            ],
            "text/plain": [
              "<IPython.core.display.HTML object>"
            ]
          },
          "metadata": {
            "tags": []
          }
        },
        {
          "output_type": "display_data",
          "data": {
            "text/html": [
              ""
            ],
            "text/plain": [
              "<IPython.core.display.HTML object>"
            ]
          },
          "metadata": {
            "tags": []
          }
        },
        {
          "output_type": "display_data",
          "data": {
            "text/html": [
              ""
            ],
            "text/plain": [
              "<IPython.core.display.HTML object>"
            ]
          },
          "metadata": {
            "tags": []
          }
        },
        {
          "output_type": "display_data",
          "data": {
            "text/html": [
              ""
            ],
            "text/plain": [
              "<IPython.core.display.HTML object>"
            ]
          },
          "metadata": {
            "tags": []
          }
        },
        {
          "output_type": "display_data",
          "data": {
            "text/html": [
              ""
            ],
            "text/plain": [
              "<IPython.core.display.HTML object>"
            ]
          },
          "metadata": {
            "tags": []
          }
        },
        {
          "output_type": "display_data",
          "data": {
            "text/html": [
              ""
            ],
            "text/plain": [
              "<IPython.core.display.HTML object>"
            ]
          },
          "metadata": {
            "tags": []
          }
        },
        {
          "output_type": "display_data",
          "data": {
            "text/html": [
              ""
            ],
            "text/plain": [
              "<IPython.core.display.HTML object>"
            ]
          },
          "metadata": {
            "tags": []
          }
        },
        {
          "output_type": "display_data",
          "data": {
            "text/html": [
              ""
            ],
            "text/plain": [
              "<IPython.core.display.HTML object>"
            ]
          },
          "metadata": {
            "tags": []
          }
        },
        {
          "output_type": "display_data",
          "data": {
            "text/html": [
              ""
            ],
            "text/plain": [
              "<IPython.core.display.HTML object>"
            ]
          },
          "metadata": {
            "tags": []
          }
        },
        {
          "output_type": "display_data",
          "data": {
            "text/html": [
              ""
            ],
            "text/plain": [
              "<IPython.core.display.HTML object>"
            ]
          },
          "metadata": {
            "tags": []
          }
        },
        {
          "output_type": "display_data",
          "data": {
            "text/html": [
              ""
            ],
            "text/plain": [
              "<IPython.core.display.HTML object>"
            ]
          },
          "metadata": {
            "tags": []
          }
        },
        {
          "output_type": "display_data",
          "data": {
            "text/html": [
              ""
            ],
            "text/plain": [
              "<IPython.core.display.HTML object>"
            ]
          },
          "metadata": {
            "tags": []
          }
        },
        {
          "output_type": "display_data",
          "data": {
            "text/html": [
              ""
            ],
            "text/plain": [
              "<IPython.core.display.HTML object>"
            ]
          },
          "metadata": {
            "tags": []
          }
        },
        {
          "output_type": "display_data",
          "data": {
            "text/html": [
              ""
            ],
            "text/plain": [
              "<IPython.core.display.HTML object>"
            ]
          },
          "metadata": {
            "tags": []
          }
        },
        {
          "output_type": "display_data",
          "data": {
            "text/html": [
              ""
            ],
            "text/plain": [
              "<IPython.core.display.HTML object>"
            ]
          },
          "metadata": {
            "tags": []
          }
        },
        {
          "output_type": "display_data",
          "data": {
            "text/html": [
              ""
            ],
            "text/plain": [
              "<IPython.core.display.HTML object>"
            ]
          },
          "metadata": {
            "tags": []
          }
        },
        {
          "output_type": "display_data",
          "data": {
            "text/html": [
              ""
            ],
            "text/plain": [
              "<IPython.core.display.HTML object>"
            ]
          },
          "metadata": {
            "tags": []
          }
        },
        {
          "output_type": "display_data",
          "data": {
            "text/html": [
              ""
            ],
            "text/plain": [
              "<IPython.core.display.HTML object>"
            ]
          },
          "metadata": {
            "tags": []
          }
        },
        {
          "output_type": "display_data",
          "data": {
            "text/html": [
              ""
            ],
            "text/plain": [
              "<IPython.core.display.HTML object>"
            ]
          },
          "metadata": {
            "tags": []
          }
        },
        {
          "output_type": "display_data",
          "data": {
            "text/html": [
              ""
            ],
            "text/plain": [
              "<IPython.core.display.HTML object>"
            ]
          },
          "metadata": {
            "tags": []
          }
        },
        {
          "output_type": "display_data",
          "data": {
            "text/html": [
              ""
            ],
            "text/plain": [
              "<IPython.core.display.HTML object>"
            ]
          },
          "metadata": {
            "tags": []
          }
        },
        {
          "output_type": "display_data",
          "data": {
            "text/html": [
              ""
            ],
            "text/plain": [
              "<IPython.core.display.HTML object>"
            ]
          },
          "metadata": {
            "tags": []
          }
        },
        {
          "output_type": "display_data",
          "data": {
            "text/html": [
              ""
            ],
            "text/plain": [
              "<IPython.core.display.HTML object>"
            ]
          },
          "metadata": {
            "tags": []
          }
        },
        {
          "output_type": "display_data",
          "data": {
            "text/html": [
              ""
            ],
            "text/plain": [
              "<IPython.core.display.HTML object>"
            ]
          },
          "metadata": {
            "tags": []
          }
        },
        {
          "output_type": "display_data",
          "data": {
            "text/html": [
              ""
            ],
            "text/plain": [
              "<IPython.core.display.HTML object>"
            ]
          },
          "metadata": {
            "tags": []
          }
        },
        {
          "output_type": "display_data",
          "data": {
            "text/html": [
              ""
            ],
            "text/plain": [
              "<IPython.core.display.HTML object>"
            ]
          },
          "metadata": {
            "tags": []
          }
        },
        {
          "output_type": "display_data",
          "data": {
            "text/html": [
              ""
            ],
            "text/plain": [
              "<IPython.core.display.HTML object>"
            ]
          },
          "metadata": {
            "tags": []
          }
        },
        {
          "output_type": "display_data",
          "data": {
            "text/html": [
              ""
            ],
            "text/plain": [
              "<IPython.core.display.HTML object>"
            ]
          },
          "metadata": {
            "tags": []
          }
        },
        {
          "output_type": "display_data",
          "data": {
            "text/html": [
              ""
            ],
            "text/plain": [
              "<IPython.core.display.HTML object>"
            ]
          },
          "metadata": {
            "tags": []
          }
        },
        {
          "output_type": "display_data",
          "data": {
            "text/html": [
              ""
            ],
            "text/plain": [
              "<IPython.core.display.HTML object>"
            ]
          },
          "metadata": {
            "tags": []
          }
        },
        {
          "output_type": "display_data",
          "data": {
            "text/html": [
              ""
            ],
            "text/plain": [
              "<IPython.core.display.HTML object>"
            ]
          },
          "metadata": {
            "tags": []
          }
        },
        {
          "output_type": "display_data",
          "data": {
            "text/html": [
              ""
            ],
            "text/plain": [
              "<IPython.core.display.HTML object>"
            ]
          },
          "metadata": {
            "tags": []
          }
        },
        {
          "output_type": "display_data",
          "data": {
            "text/html": [
              ""
            ],
            "text/plain": [
              "<IPython.core.display.HTML object>"
            ]
          },
          "metadata": {
            "tags": []
          }
        },
        {
          "output_type": "display_data",
          "data": {
            "text/html": [
              ""
            ],
            "text/plain": [
              "<IPython.core.display.HTML object>"
            ]
          },
          "metadata": {
            "tags": []
          }
        },
        {
          "output_type": "display_data",
          "data": {
            "text/html": [
              ""
            ],
            "text/plain": [
              "<IPython.core.display.HTML object>"
            ]
          },
          "metadata": {
            "tags": []
          }
        },
        {
          "output_type": "display_data",
          "data": {
            "text/html": [
              ""
            ],
            "text/plain": [
              "<IPython.core.display.HTML object>"
            ]
          },
          "metadata": {
            "tags": []
          }
        },
        {
          "output_type": "display_data",
          "data": {
            "text/html": [
              ""
            ],
            "text/plain": [
              "<IPython.core.display.HTML object>"
            ]
          },
          "metadata": {
            "tags": []
          }
        },
        {
          "output_type": "display_data",
          "data": {
            "text/html": [
              ""
            ],
            "text/plain": [
              "<IPython.core.display.HTML object>"
            ]
          },
          "metadata": {
            "tags": []
          }
        },
        {
          "output_type": "display_data",
          "data": {
            "text/html": [
              ""
            ],
            "text/plain": [
              "<IPython.core.display.HTML object>"
            ]
          },
          "metadata": {
            "tags": []
          }
        },
        {
          "output_type": "display_data",
          "data": {
            "text/html": [
              ""
            ],
            "text/plain": [
              "<IPython.core.display.HTML object>"
            ]
          },
          "metadata": {
            "tags": []
          }
        },
        {
          "output_type": "display_data",
          "data": {
            "text/html": [
              ""
            ],
            "text/plain": [
              "<IPython.core.display.HTML object>"
            ]
          },
          "metadata": {
            "tags": []
          }
        },
        {
          "output_type": "display_data",
          "data": {
            "text/html": [
              ""
            ],
            "text/plain": [
              "<IPython.core.display.HTML object>"
            ]
          },
          "metadata": {
            "tags": []
          }
        },
        {
          "output_type": "display_data",
          "data": {
            "text/html": [
              ""
            ],
            "text/plain": [
              "<IPython.core.display.HTML object>"
            ]
          },
          "metadata": {
            "tags": []
          }
        },
        {
          "output_type": "display_data",
          "data": {
            "text/html": [
              ""
            ],
            "text/plain": [
              "<IPython.core.display.HTML object>"
            ]
          },
          "metadata": {
            "tags": []
          }
        },
        {
          "output_type": "display_data",
          "data": {
            "text/html": [
              ""
            ],
            "text/plain": [
              "<IPython.core.display.HTML object>"
            ]
          },
          "metadata": {
            "tags": []
          }
        },
        {
          "output_type": "display_data",
          "data": {
            "text/html": [
              ""
            ],
            "text/plain": [
              "<IPython.core.display.HTML object>"
            ]
          },
          "metadata": {
            "tags": []
          }
        },
        {
          "output_type": "display_data",
          "data": {
            "text/html": [
              ""
            ],
            "text/plain": [
              "<IPython.core.display.HTML object>"
            ]
          },
          "metadata": {
            "tags": []
          }
        },
        {
          "output_type": "display_data",
          "data": {
            "text/html": [
              ""
            ],
            "text/plain": [
              "<IPython.core.display.HTML object>"
            ]
          },
          "metadata": {
            "tags": []
          }
        },
        {
          "output_type": "display_data",
          "data": {
            "text/html": [
              ""
            ],
            "text/plain": [
              "<IPython.core.display.HTML object>"
            ]
          },
          "metadata": {
            "tags": []
          }
        },
        {
          "output_type": "display_data",
          "data": {
            "text/html": [
              ""
            ],
            "text/plain": [
              "<IPython.core.display.HTML object>"
            ]
          },
          "metadata": {
            "tags": []
          }
        },
        {
          "output_type": "display_data",
          "data": {
            "text/html": [
              ""
            ],
            "text/plain": [
              "<IPython.core.display.HTML object>"
            ]
          },
          "metadata": {
            "tags": []
          }
        },
        {
          "output_type": "display_data",
          "data": {
            "text/html": [
              ""
            ],
            "text/plain": [
              "<IPython.core.display.HTML object>"
            ]
          },
          "metadata": {
            "tags": []
          }
        },
        {
          "output_type": "display_data",
          "data": {
            "text/html": [
              ""
            ],
            "text/plain": [
              "<IPython.core.display.HTML object>"
            ]
          },
          "metadata": {
            "tags": []
          }
        },
        {
          "output_type": "display_data",
          "data": {
            "text/html": [
              ""
            ],
            "text/plain": [
              "<IPython.core.display.HTML object>"
            ]
          },
          "metadata": {
            "tags": []
          }
        },
        {
          "output_type": "display_data",
          "data": {
            "text/html": [
              ""
            ],
            "text/plain": [
              "<IPython.core.display.HTML object>"
            ]
          },
          "metadata": {
            "tags": []
          }
        },
        {
          "output_type": "display_data",
          "data": {
            "text/html": [
              ""
            ],
            "text/plain": [
              "<IPython.core.display.HTML object>"
            ]
          },
          "metadata": {
            "tags": []
          }
        },
        {
          "output_type": "display_data",
          "data": {
            "text/html": [
              ""
            ],
            "text/plain": [
              "<IPython.core.display.HTML object>"
            ]
          },
          "metadata": {
            "tags": []
          }
        },
        {
          "output_type": "display_data",
          "data": {
            "text/html": [
              ""
            ],
            "text/plain": [
              "<IPython.core.display.HTML object>"
            ]
          },
          "metadata": {
            "tags": []
          }
        },
        {
          "output_type": "display_data",
          "data": {
            "text/html": [
              ""
            ],
            "text/plain": [
              "<IPython.core.display.HTML object>"
            ]
          },
          "metadata": {
            "tags": []
          }
        },
        {
          "output_type": "display_data",
          "data": {
            "text/html": [
              ""
            ],
            "text/plain": [
              "<IPython.core.display.HTML object>"
            ]
          },
          "metadata": {
            "tags": []
          }
        },
        {
          "output_type": "display_data",
          "data": {
            "image/png": "[encoded data removed]",
            "text/plain": [
              "<Figure size 432x288 with 1 Axes>"
            ]
          },
          "metadata": {
            "tags": [],
            "needs_background": "light"
          }
        }
      ]
    },
    {
      "cell_type": "markdown",
      "metadata": {
        "id": "4441165e-c9bd-4347-a657-3c50f9904080"
      },
      "source": [
        "From this most important fields are `PropertyField37`, `PersonalField2`, `PersonalField1`, `SalesField5`"
      ],
      "id": "4441165e-c9bd-4347-a657-3c50f9904080"
    },
    {
      "cell_type": "markdown",
      "metadata": {
        "id": "Lw63NYpM0oRw"
      },
      "source": [
        "## Ensembling with Other Models"
      ],
      "id": "Lw63NYpM0oRw"
    },
    {
      "cell_type": "markdown",
      "metadata": {
        "id": "1038914c-f3aa-4161-a9fe-2cf1e1cbfa5d"
      },
      "source": [
        "### Adding in XGBoost"
      ],
      "id": "1038914c-f3aa-4161-a9fe-2cf1e1cbfa5d"
    },
    {
      "cell_type": "code",
      "metadata": {
        "id": "kuEaMDi06Hzx"
      },
      "source": [
        "import xgboost as xgb\n"
      ],
      "id": "kuEaMDi06Hzx",
      "execution_count": null,
      "outputs": []
    },
    {
      "cell_type": "code",
      "metadata": {
        "id": "c793a416-5d8e-4ed7-b017-10357c8c5280"
      },
      "source": [
        "n_estimators = 100\n",
        "max_depth = 8\n",
        "learning_rate = 0.1\n",
        "subsample = 0.5"
      ],
      "id": "c793a416-5d8e-4ed7-b017-10357c8c5280",
      "execution_count": null,
      "outputs": []
    },
    {
      "cell_type": "code",
      "metadata": {
        "id": "26789443-f814-4a99-bf69-5dfc1aea6033"
      },
      "source": [
        "X_train, y_train = to.train.xs, to.train.ys.values.ravel()\n",
        "X_valid, y_valid = to.valid.xs, to.valid.ys.values.ravel()"
      ],
      "id": "26789443-f814-4a99-bf69-5dfc1aea6033",
      "execution_count": null,
      "outputs": []
    },
    {
      "cell_type": "code",
      "metadata": {
        "id": "6e23cc25-4647-4e60-84e5-87aa00b6416c"
      },
      "source": [
        "model = xgb.XGBClassifier(n_estimators = n_estimators, max_depth=max_depth, learning_rate=0.1, subsample=subsample, tree_method='gpu_hist')"
      ],
      "id": "6e23cc25-4647-4e60-84e5-87aa00b6416c",
      "execution_count": null,
      "outputs": []
    },
    {
      "cell_type": "code",
      "metadata": {
        "id": "bd1cf4e1-ba9b-4357-98e4-a2ba1c9491da"
      },
      "source": [
        "xgb_model = model.fit(X_train, y_train)"
      ],
      "id": "bd1cf4e1-ba9b-4357-98e4-a2ba1c9491da",
      "execution_count": null,
      "outputs": []
    },
    {
      "cell_type": "code",
      "metadata": {
        "id": "55417326-f810-471c-9b0a-12f62b4c8a1f"
      },
      "source": [
        "xgb_preds = xgb_model.predict_proba(X_valid)"
      ],
      "id": "55417326-f810-471c-9b0a-12f62b4c8a1f",
      "execution_count": null,
      "outputs": []
    },
    {
      "cell_type": "code",
      "metadata": {
        "id": "f8a927bb-1e6d-44bc-b5cb-babeabea5f14"
      },
      "source": [
        "xg_roc_auc_score=roc_auc_score(y_valid, xgb_preds[:,1])"
      ],
      "id": "f8a927bb-1e6d-44bc-b5cb-babeabea5f14",
      "execution_count": null,
      "outputs": []
    },
    {
      "cell_type": "code",
      "metadata": {
        "id": "93fb7f6b-0fd3-45d9-ad83-441c21e78627"
      },
      "source": [
        "from xgboost import plot_importance"
      ],
      "id": "93fb7f6b-0fd3-45d9-ad83-441c21e78627",
      "execution_count": null,
      "outputs": []
    },
    {
      "cell_type": "code",
      "metadata": {
        "id": "8881f0f7-1562-48f0-ad80-6d272117b11a",
        "colab": {
          "base_uri": "https://localhost:8080/",
          "height": 312
        },
        "outputId": "eacab1a7-d92e-4e27-f11d-dd5c46d235fb"
      },
      "source": [
        "plot_importance(xgb_model, height=1,max_num_features=20,)"
      ],
      "id": "8881f0f7-1562-48f0-ad80-6d272117b11a",
      "execution_count": null,
      "outputs": [
        {
          "output_type": "execute_result",
          "data": {
            "text/plain": [
              "<matplotlib.axes._subplots.AxesSubplot at 0x7f8b4558f150>"
            ]
          },
          "metadata": {
            "tags": []
          },
          "execution_count": 31
        },
        {
          "output_type": "display_data",
          "data": {
            "image/png": "[encoded data removed]",
            "text/plain": [
              "<Figure size 432x288 with 1 Axes>"
            ]
          },
          "metadata": {
            "tags": [],
            "needs_background": "light"
          }
        }
      ]
    },
    {
      "cell_type": "markdown",
      "metadata": {
        "id": "6138121f-ac06-42e3-9763-94b44229c676"
      },
      "source": [
        "From this most important fields were `SalesField1A`, `PersonalField9`, `Original_Quote_Elapsed`, `PersonalField10A`, `PersonalField10B`, `PropertyField37`"
      ],
      "id": "6138121f-ac06-42e3-9763-94b44229c676"
    },
    {
      "cell_type": "markdown",
      "metadata": {
        "id": "fc497872-c94d-45e9-b8d0-2dc6f926c7fc"
      },
      "source": [
        "### Doing Ensemble"
      ],
      "id": "fc497872-c94d-45e9-b8d0-2dc6f926c7fc"
    },
    {
      "cell_type": "code",
      "metadata": {
        "id": "93ece899-ea95-4a68-994d-da27d2984a30"
      },
      "source": [
        "avgs = (preds + xgb_preds) / 2"
      ],
      "id": "93ece899-ea95-4a68-994d-da27d2984a30",
      "execution_count": null,
      "outputs": []
    },
    {
      "cell_type": "code",
      "metadata": {
        "id": "40ca334c-134c-44b7-abb2-c6e4a86470f0",
        "colab": {
          "base_uri": "https://localhost:8080/"
        },
        "outputId": "f37098b1-9347-4d6f-cf84-27da317c3bc6"
      },
      "source": [
        "dl_roc_auc_score"
      ],
      "id": "40ca334c-134c-44b7-abb2-c6e4a86470f0",
      "execution_count": null,
      "outputs": [
        {
          "output_type": "execute_result",
          "data": {
            "text/plain": [
              "0.9628720530182229"
            ]
          },
          "metadata": {
            "tags": []
          },
          "execution_count": 33
        }
      ]
    },
    {
      "cell_type": "code",
      "metadata": {
        "colab": {
          "base_uri": "https://localhost:8080/"
        },
        "id": "j0n_fMGq5uSq",
        "outputId": "c0d842cd-f042-4f5a-b928-391b8577d3d0"
      },
      "source": [
        "xg_roc_auc_score"
      ],
      "id": "j0n_fMGq5uSq",
      "execution_count": null,
      "outputs": [
        {
          "output_type": "execute_result",
          "data": {
            "text/plain": [
              "0.9641320936530293"
            ]
          },
          "metadata": {
            "tags": []
          },
          "execution_count": 34
        }
      ]
    },
    {
      "cell_type": "code",
      "metadata": {
        "id": "66fc2bf1-12af-4cef-bbf0-c593f02f8edc",
        "colab": {
          "base_uri": "https://localhost:8080/"
        },
        "outputId": "a7f0746e-8fda-49fb-9156-21f514fc501e"
      },
      "source": [
        "dlxg_roc_auc_score=roc_auc_score(y_valid, avgs[:,1])\n",
        "dlxg_roc_auc_score"
      ],
      "id": "66fc2bf1-12af-4cef-bbf0-c593f02f8edc",
      "execution_count": null,
      "outputs": [
        {
          "output_type": "execute_result",
          "data": {
            "text/plain": [
              "0.9649946158658301"
            ]
          },
          "metadata": {
            "tags": []
          },
          "execution_count": 35
        }
      ]
    },
    {
      "cell_type": "markdown",
      "metadata": {
        "id": "03a9c6e8-e34c-4c14-b6d6-efa389f37ee2"
      },
      "source": [
        "So we have a slightly better performance with ensembling these two"
      ],
      "id": "03a9c6e8-e34c-4c14-b6d6-efa389f37ee2"
    },
    {
      "cell_type": "markdown",
      "metadata": {
        "id": "87bdd11f-dc4b-4da9-9720-81807e394b70"
      },
      "source": [
        "### Adding Random Forest"
      ],
      "id": "87bdd11f-dc4b-4da9-9720-81807e394b70"
    },
    {
      "cell_type": "code",
      "metadata": {
        "id": "c4b4e92b-ad95-448b-bf22-c9e7414dd169"
      },
      "source": [
        "from sklearn.ensemble import RandomForestClassifier"
      ],
      "id": "c4b4e92b-ad95-448b-bf22-c9e7414dd169",
      "execution_count": null,
      "outputs": []
    },
    {
      "cell_type": "code",
      "metadata": {
        "id": "3d82ffdc-02ae-4975-8b3c-7d97164d9671"
      },
      "source": [
        "tree = RandomForestClassifier(n_estimators=100)"
      ],
      "id": "3d82ffdc-02ae-4975-8b3c-7d97164d9671",
      "execution_count": null,
      "outputs": []
    },
    {
      "cell_type": "code",
      "metadata": {
        "id": "86a57683-64ca-4888-89bd-bd94c755d61e",
        "colab": {
          "base_uri": "https://localhost:8080/"
        },
        "outputId": "24a9673d-da29-4af5-9442-2955b03005dc"
      },
      "source": [
        "tree.fit(X_train, y_train)"
      ],
      "id": "86a57683-64ca-4888-89bd-bd94c755d61e",
      "execution_count": null,
      "outputs": [
        {
          "output_type": "execute_result",
          "data": {
            "text/plain": [
              "RandomForestClassifier(bootstrap=True, ccp_alpha=0.0, class_weight=None,\n",
              "                       criterion='gini', max_depth=None, max_features='auto',\n",
              "                       max_leaf_nodes=None, max_samples=None,\n",
              "                       min_impurity_decrease=0.0, min_impurity_split=None,\n",
              "                       min_samples_leaf=1, min_samples_split=2,\n",
              "                       min_weight_fraction_leaf=0.0, n_estimators=100,\n",
              "                       n_jobs=None, oob_score=False, random_state=None,\n",
              "                       verbose=0, warm_start=False)"
            ]
          },
          "metadata": {
            "tags": []
          },
          "execution_count": 38
        }
      ]
    },
    {
      "cell_type": "code",
      "metadata": {
        "id": "289439ab-1733-4f9c-870c-f43f90d00405"
      },
      "source": [
        "!pip install rfpimp\n",
        "from rfpimp import *"
      ],
      "id": "289439ab-1733-4f9c-870c-f43f90d00405",
      "execution_count": null,
      "outputs": []
    },
    {
      "cell_type": "code",
      "metadata": {
        "id": "7c4d6299-9a46-42e1-8541-7f7f2bd6517f"
      },
      "source": [
        "impTree = importances(tree, X_valid, to.valid.ys)"
      ],
      "id": "7c4d6299-9a46-42e1-8541-7f7f2bd6517f",
      "execution_count": null,
      "outputs": []
    },
    {
      "cell_type": "code",
      "metadata": {
        "id": "42fbb806-56f8-4fb3-b3e2-c3c28f76b2ce",
        "colab": {
          "base_uri": "https://localhost:8080/",
          "height": 1000
        },
        "outputId": "a1194699-e3b0-4874-cff8-342c1d923def"
      },
      "source": [
        "plot_importances(impTree)"
      ],
      "id": "42fbb806-56f8-4fb3-b3e2-c3c28f76b2ce",
      "execution_count": null,
      "outputs": [
        {
          "output_type": "execute_result",
          "data": {
            "text/plain": [
              "<rfpimp.PimpViz at 0x7f8b45265050>"
            ],
            "image/svg+xml": "<?xml version=\"1.0\" encoding=\"utf-8\" standalone=\"no\"?>\n<!DOCTYPE svg PUBLIC \"-//W3C//DTD SVG 1.1//EN\"\n  \"http://www.w3.org/Graphics/SVG/1.1/DTD/svg11.dtd\">\n<!-- Created with matplotlib (https://matplotlib.org/) -->\n<svg height=\"4905.758125pt\" version=\"1.1\" viewBox=\"0 0 266.498438 4905.758125\" width=\"266.498438pt\" xmlns=\"http://www.w3.org/2000/svg\" xmlns:xlink=\"http://www.w3.org/1999/xlink\">\n <defs>\n  <style type=\"text/css\">\n*{stroke-linecap:butt;stroke-linejoin:round;}\n  </style>\n </defs>\n <g id=\"figure_1\">\n  <g id=\"patch_1\">\n   <path d=\"M 0 4905.758125 \nL 266.498438 4905.758125 \nL 266.498438 0 \nL 0 0 \nz\n\" style=\"fill:#ffffff;\"/>\n  </g>\n  <g id=\"axes_1\">\n   <g id=\"patch_2\">\n    <path d=\"M 165.090625 4889.08 \nL 255.365625 4889.08 \nL 255.365625 -0 \nL 165.090625 -0 \nz\n\" style=\"fill:#ffffff;\"/>\n   </g>\n   <g id=\"patch_3\">\n    <path clip-path=\"url(#pfa1a272ceb)\" d=\"M 167.776686 1.42872 \nL 223.950392 1.42872 \nL 223.950392 15.715921 \nL 167.776686 15.715921 \nz\n\" style=\"fill:#d9e6f5;stroke:#444443;stroke-linejoin:miter;stroke-width:0.5;\"/>\n   </g>\n   <g id=\"patch_4\">\n    <path clip-path=\"url(#pfa1a272ceb)\" d=\"M 167.776686 17.144641 \nL 177.586647 17.144641 \nL 177.586647 31.431841 \nL 167.776686 31.431841 \nz\n\" style=\"fill:#d9e6f5;stroke:#444443;stroke-linejoin:miter;stroke-width:0.5;\"/>\n   </g>\n   <g id=\"patch_5\">\n    <path clip-path=\"url(#pfa1a272ceb)\" d=\"M 167.776686 32.860561 \nL 177.236291 32.860561 \nL 177.236291 47.147762 \nL 167.776686 47.147762 \nz\n\" style=\"fill:#d9e6f5;stroke:#444443;stroke-linejoin:miter;stroke-width:0.5;\"/>\n   </g>\n   <g id=\"patch_6\">\n    <path clip-path=\"url(#pfa1a272ceb)\" d=\"M 167.776686 48.576482 \nL 174.433445 48.576482 \nL 174.433445 62.863682 \nL 167.776686 62.863682 \nz\n\" style=\"fill:#d9e6f5;stroke:#444443;stroke-linejoin:miter;stroke-width:0.5;\"/>\n   </g>\n   <g id=\"patch_7\">\n    <path clip-path=\"url(#pfa1a272ceb)\" d=\"M 167.776686 64.292402 \nL 172.09774 64.292402 \nL 172.09774 78.579603 \nL 167.776686 78.579603 \nz\n\" style=\"fill:#d9e6f5;stroke:#444443;stroke-linejoin:miter;stroke-width:0.5;\"/>\n   </g>\n   <g id=\"patch_8\">\n    <path clip-path=\"url(#pfa1a272ceb)\" d=\"M 167.776686 80.008323 \nL 171.280243 80.008323 \nL 171.280243 94.295523 \nL 167.776686 94.295523 \nz\n\" style=\"fill:#d9e6f5;stroke:#444443;stroke-linejoin:miter;stroke-width:0.5;\"/>\n   </g>\n   <g id=\"patch_9\">\n    <path clip-path=\"url(#pfa1a272ceb)\" d=\"M 167.776686 95.724243 \nL 171.046673 95.724243 \nL 171.046673 110.011444 \nL 167.776686 110.011444 \nz\n\" style=\"fill:#d9e6f5;stroke:#444443;stroke-linejoin:miter;stroke-width:0.5;\"/>\n   </g>\n   <g id=\"patch_10\">\n    <path clip-path=\"url(#pfa1a272ceb)\" d=\"M 167.776686 111.440164 \nL 171.046673 111.440164 \nL 171.046673 125.727364 \nL 167.776686 125.727364 \nz\n\" style=\"fill:#d9e6f5;stroke:#444443;stroke-linejoin:miter;stroke-width:0.5;\"/>\n   </g>\n   <g id=\"patch_11\">\n    <path clip-path=\"url(#pfa1a272ceb)\" d=\"M 167.776686 127.156084 \nL 170.696317 127.156084 \nL 170.696317 141.443285 \nL 167.776686 141.443285 \nz\n\" style=\"fill:#d9e6f5;stroke:#444443;stroke-linejoin:miter;stroke-width:0.5;\"/>\n   </g>\n   <g id=\"patch_12\">\n    <path clip-path=\"url(#pfa1a272ceb)\" d=\"M 167.776686 142.872005 \nL 170.696317 142.872005 \nL 170.696317 157.159205 \nL 167.776686 157.159205 \nz\n\" style=\"fill:#d9e6f5;stroke:#444443;stroke-linejoin:miter;stroke-width:0.5;\"/>\n   </g>\n   <g id=\"patch_13\">\n    <path clip-path=\"url(#pfa1a272ceb)\" d=\"M 167.776686 158.587925 \nL 169.762035 158.587925 \nL 169.762035 172.875126 \nL 167.776686 172.875126 \nz\n\" style=\"fill:#d9e6f5;stroke:#444443;stroke-linejoin:miter;stroke-width:0.5;\"/>\n   </g>\n   <g id=\"patch_14\">\n    <path clip-path=\"url(#pfa1a272ceb)\" d=\"M 167.776686 174.303846 \nL 169.178109 174.303846 \nL 169.178109 188.591046 \nL 167.776686 188.591046 \nz\n\" style=\"fill:#d9e6f5;stroke:#444443;stroke-linejoin:miter;stroke-width:0.5;\"/>\n   </g>\n   <g id=\"patch_15\">\n    <path clip-path=\"url(#pfa1a272ceb)\" d=\"M 167.776686 190.019766 \nL 169.178109 190.019766 \nL 169.178109 204.306967 \nL 167.776686 204.306967 \nz\n\" style=\"fill:#d9e6f5;stroke:#444443;stroke-linejoin:miter;stroke-width:0.5;\"/>\n   </g>\n   <g id=\"patch_16\">\n    <path clip-path=\"url(#pfa1a272ceb)\" d=\"M 167.776686 205.735687 \nL 168.944538 205.735687 \nL 168.944538 220.022887 \nL 167.776686 220.022887 \nz\n\" style=\"fill:#d9e6f5;stroke:#444443;stroke-linejoin:miter;stroke-width:0.5;\"/>\n   </g>\n   <g id=\"patch_17\">\n    <path clip-path=\"url(#pfa1a272ceb)\" d=\"M 167.776686 221.451607 \nL 168.827753 221.451607 \nL 168.827753 235.738808 \nL 167.776686 235.738808 \nz\n\" style=\"fill:#d9e6f5;stroke:#444443;stroke-linejoin:miter;stroke-width:0.5;\"/>\n   </g>\n   <g id=\"patch_18\">\n    <path clip-path=\"url(#pfa1a272ceb)\" d=\"M 167.776686 237.167528 \nL 168.827753 237.167528 \nL 168.827753 251.454728 \nL 167.776686 251.454728 \nz\n\" style=\"fill:#d9e6f5;stroke:#444443;stroke-linejoin:miter;stroke-width:0.5;\"/>\n   </g>\n   <g id=\"patch_19\">\n    <path clip-path=\"url(#pfa1a272ceb)\" d=\"M 167.776686 252.883448 \nL 168.710968 252.883448 \nL 168.710968 267.170649 \nL 167.776686 267.170649 \nz\n\" style=\"fill:#d9e6f5;stroke:#444443;stroke-linejoin:miter;stroke-width:0.5;\"/>\n   </g>\n   <g id=\"patch_20\">\n    <path clip-path=\"url(#pfa1a272ceb)\" d=\"M 167.776686 268.599369 \nL 168.594183 268.599369 \nL 168.594183 282.886569 \nL 167.776686 282.886569 \nz\n\" style=\"fill:#d9e6f5;stroke:#444443;stroke-linejoin:miter;stroke-width:0.5;\"/>\n   </g>\n   <g id=\"patch_21\">\n    <path clip-path=\"url(#pfa1a272ceb)\" d=\"M 167.776686 284.315289 \nL 168.594183 284.315289 \nL 168.594183 298.60249 \nL 167.776686 298.60249 \nz\n\" style=\"fill:#d9e6f5;stroke:#444443;stroke-linejoin:miter;stroke-width:0.5;\"/>\n   </g>\n   <g id=\"patch_22\">\n    <path clip-path=\"url(#pfa1a272ceb)\" d=\"M 167.776686 300.03121 \nL 168.594183 300.03121 \nL 168.594183 314.31841 \nL 167.776686 314.31841 \nz\n\" style=\"fill:#d9e6f5;stroke:#444443;stroke-linejoin:miter;stroke-width:0.5;\"/>\n   </g>\n   <g id=\"patch_23\">\n    <path clip-path=\"url(#pfa1a272ceb)\" d=\"M 167.776686 315.74713 \nL 168.594183 315.74713 \nL 168.594183 330.034331 \nL 167.776686 330.034331 \nz\n\" style=\"fill:#d9e6f5;stroke:#444443;stroke-linejoin:miter;stroke-width:0.5;\"/>\n   </g>\n   <g id=\"patch_24\">\n    <path clip-path=\"url(#pfa1a272ceb)\" d=\"M 167.776686 331.463051 \nL 168.594183 331.463051 \nL 168.594183 345.750251 \nL 167.776686 345.750251 \nz\n\" style=\"fill:#d9e6f5;stroke:#444443;stroke-linejoin:miter;stroke-width:0.5;\"/>\n   </g>\n   <g id=\"patch_25\">\n    <path clip-path=\"url(#pfa1a272ceb)\" d=\"M 167.776686 347.178971 \nL 168.594183 347.178971 \nL 168.594183 361.466172 \nL 167.776686 361.466172 \nz\n\" style=\"fill:#d9e6f5;stroke:#444443;stroke-linejoin:miter;stroke-width:0.5;\"/>\n   </g>\n   <g id=\"patch_26\">\n    <path clip-path=\"url(#pfa1a272ceb)\" d=\"M 167.776686 362.894892 \nL 168.477397 362.894892 \nL 168.477397 377.182092 \nL 167.776686 377.182092 \nz\n\" style=\"fill:#d9e6f5;stroke:#444443;stroke-linejoin:miter;stroke-width:0.5;\"/>\n   </g>\n   <g id=\"patch_27\">\n    <path clip-path=\"url(#pfa1a272ceb)\" d=\"M 167.776686 378.610812 \nL 168.477397 378.610812 \nL 168.477397 392.898013 \nL 167.776686 392.898013 \nz\n\" style=\"fill:#d9e6f5;stroke:#444443;stroke-linejoin:miter;stroke-width:0.5;\"/>\n   </g>\n   <g id=\"patch_28\">\n    <path clip-path=\"url(#pfa1a272ceb)\" d=\"M 167.776686 394.326733 \nL 168.477397 394.326733 \nL 168.477397 408.613933 \nL 167.776686 408.613933 \nz\n\" style=\"fill:#d9e6f5;stroke:#444443;stroke-linejoin:miter;stroke-width:0.5;\"/>\n   </g>\n   <g id=\"patch_29\">\n    <path clip-path=\"url(#pfa1a272ceb)\" d=\"M 167.776686 410.042653 \nL 168.477397 410.042653 \nL 168.477397 424.329854 \nL 167.776686 424.329854 \nz\n\" style=\"fill:#d9e6f5;stroke:#444443;stroke-linejoin:miter;stroke-width:0.5;\"/>\n   </g>\n   <g id=\"patch_30\">\n    <path clip-path=\"url(#pfa1a272ceb)\" d=\"M 167.776686 425.758574 \nL 168.477397 425.758574 \nL 168.477397 440.045774 \nL 167.776686 440.045774 \nz\n\" style=\"fill:#d9e6f5;stroke:#444443;stroke-linejoin:miter;stroke-width:0.5;\"/>\n   </g>\n   <g id=\"patch_31\">\n    <path clip-path=\"url(#pfa1a272ceb)\" d=\"M 167.776686 441.474494 \nL 168.477397 441.474494 \nL 168.477397 455.761695 \nL 167.776686 455.761695 \nz\n\" style=\"fill:#d9e6f5;stroke:#444443;stroke-linejoin:miter;stroke-width:0.5;\"/>\n   </g>\n   <g id=\"patch_32\">\n    <path clip-path=\"url(#pfa1a272ceb)\" d=\"M 167.776686 457.190415 \nL 168.360612 457.190415 \nL 168.360612 471.477615 \nL 167.776686 471.477615 \nz\n\" style=\"fill:#d9e6f5;stroke:#444443;stroke-linejoin:miter;stroke-width:0.5;\"/>\n   </g>\n   <g id=\"patch_33\">\n    <path clip-path=\"url(#pfa1a272ceb)\" d=\"M 167.776686 472.906335 \nL 168.360612 472.906335 \nL 168.360612 487.193536 \nL 167.776686 487.193536 \nz\n\" style=\"fill:#d9e6f5;stroke:#444443;stroke-linejoin:miter;stroke-width:0.5;\"/>\n   </g>\n   <g id=\"patch_34\">\n    <path clip-path=\"url(#pfa1a272ceb)\" d=\"M 167.776686 488.622256 \nL 168.360612 488.622256 \nL 168.360612 502.909456 \nL 167.776686 502.909456 \nz\n\" style=\"fill:#d9e6f5;stroke:#444443;stroke-linejoin:miter;stroke-width:0.5;\"/>\n   </g>\n   <g id=\"patch_35\">\n    <path clip-path=\"url(#pfa1a272ceb)\" d=\"M 167.776686 504.338177 \nL 168.360612 504.338177 \nL 168.360612 518.625377 \nL 167.776686 518.625377 \nz\n\" style=\"fill:#d9e6f5;stroke:#444443;stroke-linejoin:miter;stroke-width:0.5;\"/>\n   </g>\n   <g id=\"patch_36\">\n    <path clip-path=\"url(#pfa1a272ceb)\" d=\"M 167.776686 520.054097 \nL 168.360612 520.054097 \nL 168.360612 534.341297 \nL 167.776686 534.341297 \nz\n\" style=\"fill:#d9e6f5;stroke:#444443;stroke-linejoin:miter;stroke-width:0.5;\"/>\n   </g>\n   <g id=\"patch_37\">\n    <path clip-path=\"url(#pfa1a272ceb)\" d=\"M 167.776686 535.770018 \nL 168.360612 535.770018 \nL 168.360612 550.057218 \nL 167.776686 550.057218 \nz\n\" style=\"fill:#d9e6f5;stroke:#444443;stroke-linejoin:miter;stroke-width:0.5;\"/>\n   </g>\n   <g id=\"patch_38\">\n    <path clip-path=\"url(#pfa1a272ceb)\" d=\"M 167.776686 551.485938 \nL 168.360612 551.485938 \nL 168.360612 565.773139 \nL 167.776686 565.773139 \nz\n\" style=\"fill:#d9e6f5;stroke:#444443;stroke-linejoin:miter;stroke-width:0.5;\"/>\n   </g>\n   <g id=\"patch_39\">\n    <path clip-path=\"url(#pfa1a272ceb)\" d=\"M 167.776686 567.201859 \nL 168.243827 567.201859 \nL 168.243827 581.489059 \nL 167.776686 581.489059 \nz\n\" style=\"fill:#d9e6f5;stroke:#444443;stroke-linejoin:miter;stroke-width:0.5;\"/>\n   </g>\n   <g id=\"patch_40\">\n    <path clip-path=\"url(#pfa1a272ceb)\" d=\"M 167.776686 582.917779 \nL 168.243827 582.917779 \nL 168.243827 597.20498 \nL 167.776686 597.20498 \nz\n\" style=\"fill:#d9e6f5;stroke:#444443;stroke-linejoin:miter;stroke-width:0.5;\"/>\n   </g>\n   <g id=\"patch_41\">\n    <path clip-path=\"url(#pfa1a272ceb)\" d=\"M 167.776686 598.6337 \nL 168.243827 598.6337 \nL 168.243827 612.9209 \nL 167.776686 612.9209 \nz\n\" style=\"fill:#d9e6f5;stroke:#444443;stroke-linejoin:miter;stroke-width:0.5;\"/>\n   </g>\n   <g id=\"patch_42\">\n    <path clip-path=\"url(#pfa1a272ceb)\" d=\"M 167.776686 614.34962 \nL 168.243827 614.34962 \nL 168.243827 628.636821 \nL 167.776686 628.636821 \nz\n\" style=\"fill:#d9e6f5;stroke:#444443;stroke-linejoin:miter;stroke-width:0.5;\"/>\n   </g>\n   <g id=\"patch_43\">\n    <path clip-path=\"url(#pfa1a272ceb)\" d=\"M 167.776686 630.065541 \nL 168.243827 630.065541 \nL 168.243827 644.352741 \nL 167.776686 644.352741 \nz\n\" style=\"fill:#d9e6f5;stroke:#444443;stroke-linejoin:miter;stroke-width:0.5;\"/>\n   </g>\n   <g id=\"patch_44\">\n    <path clip-path=\"url(#pfa1a272ceb)\" d=\"M 167.776686 645.781461 \nL 168.243827 645.781461 \nL 168.243827 660.068662 \nL 167.776686 660.068662 \nz\n\" style=\"fill:#d9e6f5;stroke:#444443;stroke-linejoin:miter;stroke-width:0.5;\"/>\n   </g>\n   <g id=\"patch_45\">\n    <path clip-path=\"url(#pfa1a272ceb)\" d=\"M 167.776686 661.497382 \nL 168.243827 661.497382 \nL 168.243827 675.784582 \nL 167.776686 675.784582 \nz\n\" style=\"fill:#d9e6f5;stroke:#444443;stroke-linejoin:miter;stroke-width:0.5;\"/>\n   </g>\n   <g id=\"patch_46\">\n    <path clip-path=\"url(#pfa1a272ceb)\" d=\"M 167.776686 677.213302 \nL 168.127042 677.213302 \nL 168.127042 691.500503 \nL 167.776686 691.500503 \nz\n\" style=\"fill:#d9e6f5;stroke:#444443;stroke-linejoin:miter;stroke-width:0.5;\"/>\n   </g>\n   <g id=\"patch_47\">\n    <path clip-path=\"url(#pfa1a272ceb)\" d=\"M 167.776686 692.929223 \nL 168.127042 692.929223 \nL 168.127042 707.216423 \nL 167.776686 707.216423 \nz\n\" style=\"fill:#d9e6f5;stroke:#444443;stroke-linejoin:miter;stroke-width:0.5;\"/>\n   </g>\n   <g id=\"patch_48\">\n    <path clip-path=\"url(#pfa1a272ceb)\" d=\"M 167.776686 708.645143 \nL 168.127042 708.645143 \nL 168.127042 722.932344 \nL 167.776686 722.932344 \nz\n\" style=\"fill:#d9e6f5;stroke:#444443;stroke-linejoin:miter;stroke-width:0.5;\"/>\n   </g>\n   <g id=\"patch_49\">\n    <path clip-path=\"url(#pfa1a272ceb)\" d=\"M 167.776686 724.361064 \nL 168.127042 724.361064 \nL 168.127042 738.648264 \nL 167.776686 738.648264 \nz\n\" style=\"fill:#d9e6f5;stroke:#444443;stroke-linejoin:miter;stroke-width:0.5;\"/>\n   </g>\n   <g id=\"patch_50\">\n    <path clip-path=\"url(#pfa1a272ceb)\" d=\"M 167.776686 740.076984 \nL 168.127042 740.076984 \nL 168.127042 754.364185 \nL 167.776686 754.364185 \nz\n\" style=\"fill:#d9e6f5;stroke:#444443;stroke-linejoin:miter;stroke-width:0.5;\"/>\n   </g>\n   <g id=\"patch_51\">\n    <path clip-path=\"url(#pfa1a272ceb)\" d=\"M 167.776686 755.792905 \nL 168.127042 755.792905 \nL 168.127042 770.080105 \nL 167.776686 770.080105 \nz\n\" style=\"fill:#d9e6f5;stroke:#444443;stroke-linejoin:miter;stroke-width:0.5;\"/>\n   </g>\n   <g id=\"patch_52\">\n    <path clip-path=\"url(#pfa1a272ceb)\" d=\"M 167.776686 771.508825 \nL 168.127042 771.508825 \nL 168.127042 785.796026 \nL 167.776686 785.796026 \nz\n\" style=\"fill:#d9e6f5;stroke:#444443;stroke-linejoin:miter;stroke-width:0.5;\"/>\n   </g>\n   <g id=\"patch_53\">\n    <path clip-path=\"url(#pfa1a272ceb)\" d=\"M 167.776686 787.224746 \nL 168.127042 787.224746 \nL 168.127042 801.511946 \nL 167.776686 801.511946 \nz\n\" style=\"fill:#d9e6f5;stroke:#444443;stroke-linejoin:miter;stroke-width:0.5;\"/>\n   </g>\n   <g id=\"patch_54\">\n    <path clip-path=\"url(#pfa1a272ceb)\" d=\"M 167.776686 802.940666 \nL 168.127042 802.940666 \nL 168.127042 817.227867 \nL 167.776686 817.227867 \nz\n\" style=\"fill:#d9e6f5;stroke:#444443;stroke-linejoin:miter;stroke-width:0.5;\"/>\n   </g>\n   <g id=\"patch_55\">\n    <path clip-path=\"url(#pfa1a272ceb)\" d=\"M 167.776686 818.656587 \nL 168.127042 818.656587 \nL 168.127042 832.943787 \nL 167.776686 832.943787 \nz\n\" style=\"fill:#d9e6f5;stroke:#444443;stroke-linejoin:miter;stroke-width:0.5;\"/>\n   </g>\n   <g id=\"patch_56\">\n    <path clip-path=\"url(#pfa1a272ceb)\" d=\"M 167.776686 834.372507 \nL 168.127042 834.372507 \nL 168.127042 848.659708 \nL 167.776686 848.659708 \nz\n\" style=\"fill:#d9e6f5;stroke:#444443;stroke-linejoin:miter;stroke-width:0.5;\"/>\n   </g>\n   <g id=\"patch_57\">\n    <path clip-path=\"url(#pfa1a272ceb)\" d=\"M 167.776686 850.088428 \nL 168.127042 850.088428 \nL 168.127042 864.375628 \nL 167.776686 864.375628 \nz\n\" style=\"fill:#d9e6f5;stroke:#444443;stroke-linejoin:miter;stroke-width:0.5;\"/>\n   </g>\n   <g id=\"patch_58\">\n    <path clip-path=\"url(#pfa1a272ceb)\" d=\"M 167.776686 865.804348 \nL 168.127042 865.804348 \nL 168.127042 880.091549 \nL 167.776686 880.091549 \nz\n\" style=\"fill:#d9e6f5;stroke:#444443;stroke-linejoin:miter;stroke-width:0.5;\"/>\n   </g>\n   <g id=\"patch_59\">\n    <path clip-path=\"url(#pfa1a272ceb)\" d=\"M 167.776686 881.520269 \nL 168.127042 881.520269 \nL 168.127042 895.807469 \nL 167.776686 895.807469 \nz\n\" style=\"fill:#d9e6f5;stroke:#444443;stroke-linejoin:miter;stroke-width:0.5;\"/>\n   </g>\n   <g id=\"patch_60\">\n    <path clip-path=\"url(#pfa1a272ceb)\" d=\"M 167.776686 897.236189 \nL 168.127042 897.236189 \nL 168.127042 911.52339 \nL 167.776686 911.52339 \nz\n\" style=\"fill:#d9e6f5;stroke:#444443;stroke-linejoin:miter;stroke-width:0.5;\"/>\n   </g>\n   <g id=\"patch_61\">\n    <path clip-path=\"url(#pfa1a272ceb)\" d=\"M 167.776686 912.95211 \nL 168.127042 912.95211 \nL 168.127042 927.23931 \nL 167.776686 927.23931 \nz\n\" style=\"fill:#d9e6f5;stroke:#444443;stroke-linejoin:miter;stroke-width:0.5;\"/>\n   </g>\n   <g id=\"patch_62\">\n    <path clip-path=\"url(#pfa1a272ceb)\" d=\"M 167.776686 928.66803 \nL 168.127042 928.66803 \nL 168.127042 942.955231 \nL 167.776686 942.955231 \nz\n\" style=\"fill:#d9e6f5;stroke:#444443;stroke-linejoin:miter;stroke-width:0.5;\"/>\n   </g>\n   <g id=\"patch_63\">\n    <path clip-path=\"url(#pfa1a272ceb)\" d=\"M 167.776686 944.383951 \nL 168.127042 944.383951 \nL 168.127042 958.671151 \nL 167.776686 958.671151 \nz\n\" style=\"fill:#d9e6f5;stroke:#444443;stroke-linejoin:miter;stroke-width:0.5;\"/>\n   </g>\n   <g id=\"patch_64\">\n    <path clip-path=\"url(#pfa1a272ceb)\" d=\"M 167.776686 960.099871 \nL 168.127042 960.099871 \nL 168.127042 974.387072 \nL 167.776686 974.387072 \nz\n\" style=\"fill:#d9e6f5;stroke:#444443;stroke-linejoin:miter;stroke-width:0.5;\"/>\n   </g>\n   <g id=\"patch_65\">\n    <path clip-path=\"url(#pfa1a272ceb)\" d=\"M 167.776686 975.815792 \nL 168.010256 975.815792 \nL 168.010256 990.102992 \nL 167.776686 990.102992 \nz\n\" style=\"fill:#d9e6f5;stroke:#444443;stroke-linejoin:miter;stroke-width:0.5;\"/>\n   </g>\n   <g id=\"patch_66\">\n    <path clip-path=\"url(#pfa1a272ceb)\" d=\"M 167.776686 991.531712 \nL 168.010256 991.531712 \nL 168.010256 1005.818913 \nL 167.776686 1005.818913 \nz\n\" style=\"fill:#d9e6f5;stroke:#444443;stroke-linejoin:miter;stroke-width:0.5;\"/>\n   </g>\n   <g id=\"patch_67\">\n    <path clip-path=\"url(#pfa1a272ceb)\" d=\"M 167.776686 1007.247633 \nL 168.010256 1007.247633 \nL 168.010256 1021.534833 \nL 167.776686 1021.534833 \nz\n\" style=\"fill:#d9e6f5;stroke:#444443;stroke-linejoin:miter;stroke-width:0.5;\"/>\n   </g>\n   <g id=\"patch_68\">\n    <path clip-path=\"url(#pfa1a272ceb)\" d=\"M 167.776686 1022.963553 \nL 168.010256 1022.963553 \nL 168.010256 1037.250754 \nL 167.776686 1037.250754 \nz\n\" style=\"fill:#d9e6f5;stroke:#444443;stroke-linejoin:miter;stroke-width:0.5;\"/>\n   </g>\n   <g id=\"patch_69\">\n    <path clip-path=\"url(#pfa1a272ceb)\" d=\"M 167.776686 1038.679474 \nL 168.010256 1038.679474 \nL 168.010256 1052.966674 \nL 167.776686 1052.966674 \nz\n\" style=\"fill:#d9e6f5;stroke:#444443;stroke-linejoin:miter;stroke-width:0.5;\"/>\n   </g>\n   <g id=\"patch_70\">\n    <path clip-path=\"url(#pfa1a272ceb)\" d=\"M 167.776686 1054.395395 \nL 168.010256 1054.395395 \nL 168.010256 1068.682595 \nL 167.776686 1068.682595 \nz\n\" style=\"fill:#d9e6f5;stroke:#444443;stroke-linejoin:miter;stroke-width:0.5;\"/>\n   </g>\n   <g id=\"patch_71\">\n    <path clip-path=\"url(#pfa1a272ceb)\" d=\"M 167.776686 1070.111315 \nL 168.010256 1070.111315 \nL 168.010256 1084.398515 \nL 167.776686 1084.398515 \nz\n\" style=\"fill:#d9e6f5;stroke:#444443;stroke-linejoin:miter;stroke-width:0.5;\"/>\n   </g>\n   <g id=\"patch_72\">\n    <path clip-path=\"url(#pfa1a272ceb)\" d=\"M 167.776686 1085.827236 \nL 168.010256 1085.827236 \nL 168.010256 1100.114436 \nL 167.776686 1100.114436 \nz\n\" style=\"fill:#d9e6f5;stroke:#444443;stroke-linejoin:miter;stroke-width:0.5;\"/>\n   </g>\n   <g id=\"patch_73\">\n    <path clip-path=\"url(#pfa1a272ceb)\" d=\"M 167.776686 1101.543156 \nL 168.010256 1101.543156 \nL 168.010256 1115.830357 \nL 167.776686 1115.830357 \nz\n\" style=\"fill:#d9e6f5;stroke:#444443;stroke-linejoin:miter;stroke-width:0.5;\"/>\n   </g>\n   <g id=\"patch_74\">\n    <path clip-path=\"url(#pfa1a272ceb)\" d=\"M 167.776686 1117.259077 \nL 168.010256 1117.259077 \nL 168.010256 1131.546277 \nL 167.776686 1131.546277 \nz\n\" style=\"fill:#d9e6f5;stroke:#444443;stroke-linejoin:miter;stroke-width:0.5;\"/>\n   </g>\n   <g id=\"patch_75\">\n    <path clip-path=\"url(#pfa1a272ceb)\" d=\"M 167.776686 1132.974997 \nL 168.010256 1132.974997 \nL 168.010256 1147.262198 \nL 167.776686 1147.262198 \nz\n\" style=\"fill:#d9e6f5;stroke:#444443;stroke-linejoin:miter;stroke-width:0.5;\"/>\n   </g>\n   <g id=\"patch_76\">\n    <path clip-path=\"url(#pfa1a272ceb)\" d=\"M 167.776686 1148.690918 \nL 168.010256 1148.690918 \nL 168.010256 1162.978118 \nL 167.776686 1162.978118 \nz\n\" style=\"fill:#d9e6f5;stroke:#444443;stroke-linejoin:miter;stroke-width:0.5;\"/>\n   </g>\n   <g id=\"patch_77\">\n    <path clip-path=\"url(#pfa1a272ceb)\" d=\"M 167.776686 1164.406838 \nL 168.010256 1164.406838 \nL 168.010256 1178.694039 \nL 167.776686 1178.694039 \nz\n\" style=\"fill:#d9e6f5;stroke:#444443;stroke-linejoin:miter;stroke-width:0.5;\"/>\n   </g>\n   <g id=\"patch_78\">\n    <path clip-path=\"url(#pfa1a272ceb)\" d=\"M 167.776686 1180.122759 \nL 168.010256 1180.122759 \nL 168.010256 1194.409959 \nL 167.776686 1194.409959 \nz\n\" style=\"fill:#d9e6f5;stroke:#444443;stroke-linejoin:miter;stroke-width:0.5;\"/>\n   </g>\n   <g id=\"patch_79\">\n    <path clip-path=\"url(#pfa1a272ceb)\" d=\"M 167.776686 1195.838679 \nL 168.010256 1195.838679 \nL 168.010256 1210.12588 \nL 167.776686 1210.12588 \nz\n\" style=\"fill:#d9e6f5;stroke:#444443;stroke-linejoin:miter;stroke-width:0.5;\"/>\n   </g>\n   <g id=\"patch_80\">\n    <path clip-path=\"url(#pfa1a272ceb)\" d=\"M 167.776686 1211.5546 \nL 168.010256 1211.5546 \nL 168.010256 1225.8418 \nL 167.776686 1225.8418 \nz\n\" style=\"fill:#d9e6f5;stroke:#444443;stroke-linejoin:miter;stroke-width:0.5;\"/>\n   </g>\n   <g id=\"patch_81\">\n    <path clip-path=\"url(#pfa1a272ceb)\" d=\"M 167.776686 1227.27052 \nL 168.010256 1227.27052 \nL 168.010256 1241.557721 \nL 167.776686 1241.557721 \nz\n\" style=\"fill:#d9e6f5;stroke:#444443;stroke-linejoin:miter;stroke-width:0.5;\"/>\n   </g>\n   <g id=\"patch_82\">\n    <path clip-path=\"url(#pfa1a272ceb)\" d=\"M 167.776686 1242.986441 \nL 168.010256 1242.986441 \nL 168.010256 1257.273641 \nL 167.776686 1257.273641 \nz\n\" style=\"fill:#d9e6f5;stroke:#444443;stroke-linejoin:miter;stroke-width:0.5;\"/>\n   </g>\n   <g id=\"patch_83\">\n    <path clip-path=\"url(#pfa1a272ceb)\" d=\"M 167.776686 1258.702361 \nL 168.010256 1258.702361 \nL 168.010256 1272.989562 \nL 167.776686 1272.989562 \nz\n\" style=\"fill:#d9e6f5;stroke:#444443;stroke-linejoin:miter;stroke-width:0.5;\"/>\n   </g>\n   <g id=\"patch_84\">\n    <path clip-path=\"url(#pfa1a272ceb)\" d=\"M 167.776686 1274.418282 \nL 167.893471 1274.418282 \nL 167.893471 1288.705482 \nL 167.776686 1288.705482 \nz\n\" style=\"fill:#d9e6f5;stroke:#444443;stroke-linejoin:miter;stroke-width:0.5;\"/>\n   </g>\n   <g id=\"patch_85\">\n    <path clip-path=\"url(#pfa1a272ceb)\" d=\"M 167.776686 1290.134202 \nL 167.893471 1290.134202 \nL 167.893471 1304.421403 \nL 167.776686 1304.421403 \nz\n\" style=\"fill:#d9e6f5;stroke:#444443;stroke-linejoin:miter;stroke-width:0.5;\"/>\n   </g>\n   <g id=\"patch_86\">\n    <path clip-path=\"url(#pfa1a272ceb)\" d=\"M 167.776686 1305.850123 \nL 167.893471 1305.850123 \nL 167.893471 1320.137323 \nL 167.776686 1320.137323 \nz\n\" style=\"fill:#d9e6f5;stroke:#444443;stroke-linejoin:miter;stroke-width:0.5;\"/>\n   </g>\n   <g id=\"patch_87\">\n    <path clip-path=\"url(#pfa1a272ceb)\" d=\"M 167.776686 1321.566043 \nL 167.893471 1321.566043 \nL 167.893471 1335.853244 \nL 167.776686 1335.853244 \nz\n\" style=\"fill:#d9e6f5;stroke:#444443;stroke-linejoin:miter;stroke-width:0.5;\"/>\n   </g>\n   <g id=\"patch_88\">\n    <path clip-path=\"url(#pfa1a272ceb)\" d=\"M 167.776686 1337.281964 \nL 167.893471 1337.281964 \nL 167.893471 1351.569164 \nL 167.776686 1351.569164 \nz\n\" style=\"fill:#d9e6f5;stroke:#444443;stroke-linejoin:miter;stroke-width:0.5;\"/>\n   </g>\n   <g id=\"patch_89\">\n    <path clip-path=\"url(#pfa1a272ceb)\" d=\"M 167.776686 1352.997884 \nL 167.893471 1352.997884 \nL 167.893471 1367.285085 \nL 167.776686 1367.285085 \nz\n\" style=\"fill:#d9e6f5;stroke:#444443;stroke-linejoin:miter;stroke-width:0.5;\"/>\n   </g>\n   <g id=\"patch_90\">\n    <path clip-path=\"url(#pfa1a272ceb)\" d=\"M 167.776686 1368.713805 \nL 167.893471 1368.713805 \nL 167.893471 1383.001005 \nL 167.776686 1383.001005 \nz\n\" style=\"fill:#d9e6f5;stroke:#444443;stroke-linejoin:miter;stroke-width:0.5;\"/>\n   </g>\n   <g id=\"patch_91\">\n    <path clip-path=\"url(#pfa1a272ceb)\" d=\"M 167.776686 1384.429725 \nL 167.893471 1384.429725 \nL 167.893471 1398.716926 \nL 167.776686 1398.716926 \nz\n\" style=\"fill:#d9e6f5;stroke:#444443;stroke-linejoin:miter;stroke-width:0.5;\"/>\n   </g>\n   <g id=\"patch_92\">\n    <path clip-path=\"url(#pfa1a272ceb)\" d=\"M 167.776686 1400.145646 \nL 167.893471 1400.145646 \nL 167.893471 1414.432846 \nL 167.776686 1414.432846 \nz\n\" style=\"fill:#d9e6f5;stroke:#444443;stroke-linejoin:miter;stroke-width:0.5;\"/>\n   </g>\n   <g id=\"patch_93\">\n    <path clip-path=\"url(#pfa1a272ceb)\" d=\"M 167.776686 1415.861566 \nL 167.893471 1415.861566 \nL 167.893471 1430.148767 \nL 167.776686 1430.148767 \nz\n\" style=\"fill:#d9e6f5;stroke:#444443;stroke-linejoin:miter;stroke-width:0.5;\"/>\n   </g>\n   <g id=\"patch_94\">\n    <path clip-path=\"url(#pfa1a272ceb)\" d=\"M 167.776686 1431.577487 \nL 167.893471 1431.577487 \nL 167.893471 1445.864687 \nL 167.776686 1445.864687 \nz\n\" style=\"fill:#d9e6f5;stroke:#444443;stroke-linejoin:miter;stroke-width:0.5;\"/>\n   </g>\n   <g id=\"patch_95\">\n    <path clip-path=\"url(#pfa1a272ceb)\" d=\"M 167.776686 1447.293407 \nL 167.893471 1447.293407 \nL 167.893471 1461.580608 \nL 167.776686 1461.580608 \nz\n\" style=\"fill:#d9e6f5;stroke:#444443;stroke-linejoin:miter;stroke-width:0.5;\"/>\n   </g>\n   <g id=\"patch_96\">\n    <path clip-path=\"url(#pfa1a272ceb)\" d=\"M 167.776686 1463.009328 \nL 167.893471 1463.009328 \nL 167.893471 1477.296528 \nL 167.776686 1477.296528 \nz\n\" style=\"fill:#d9e6f5;stroke:#444443;stroke-linejoin:miter;stroke-width:0.5;\"/>\n   </g>\n   <g id=\"patch_97\">\n    <path clip-path=\"url(#pfa1a272ceb)\" d=\"M 167.776686 1478.725248 \nL 167.893471 1478.725248 \nL 167.893471 1493.012449 \nL 167.776686 1493.012449 \nz\n\" style=\"fill:#d9e6f5;stroke:#444443;stroke-linejoin:miter;stroke-width:0.5;\"/>\n   </g>\n   <g id=\"patch_98\">\n    <path clip-path=\"url(#pfa1a272ceb)\" d=\"M 167.776686 1494.441169 \nL 167.893471 1494.441169 \nL 167.893471 1508.728369 \nL 167.776686 1508.728369 \nz\n\" style=\"fill:#d9e6f5;stroke:#444443;stroke-linejoin:miter;stroke-width:0.5;\"/>\n   </g>\n   <g id=\"patch_99\">\n    <path clip-path=\"url(#pfa1a272ceb)\" d=\"M 167.776686 1510.157089 \nL 167.893471 1510.157089 \nL 167.893471 1524.44429 \nL 167.776686 1524.44429 \nz\n\" style=\"fill:#d9e6f5;stroke:#444443;stroke-linejoin:miter;stroke-width:0.5;\"/>\n   </g>\n   <g id=\"patch_100\">\n    <path clip-path=\"url(#pfa1a272ceb)\" d=\"M 167.776686 1525.87301 \nL 167.893471 1525.87301 \nL 167.893471 1540.16021 \nL 167.776686 1540.16021 \nz\n\" style=\"fill:#d9e6f5;stroke:#444443;stroke-linejoin:miter;stroke-width:0.5;\"/>\n   </g>\n   <g id=\"patch_101\">\n    <path clip-path=\"url(#pfa1a272ceb)\" d=\"M 167.776686 1541.58893 \nL 167.893471 1541.58893 \nL 167.893471 1555.876131 \nL 167.776686 1555.876131 \nz\n\" style=\"fill:#d9e6f5;stroke:#444443;stroke-linejoin:miter;stroke-width:0.5;\"/>\n   </g>\n   <g id=\"patch_102\">\n    <path clip-path=\"url(#pfa1a272ceb)\" d=\"M 167.776686 1557.304851 \nL 167.893471 1557.304851 \nL 167.893471 1571.592051 \nL 167.776686 1571.592051 \nz\n\" style=\"fill:#d9e6f5;stroke:#444443;stroke-linejoin:miter;stroke-width:0.5;\"/>\n   </g>\n   <g id=\"patch_103\">\n    <path clip-path=\"url(#pfa1a272ceb)\" d=\"M 167.776686 1573.020771 \nL 167.776686 1573.020771 \nL 167.776686 1587.307972 \nL 167.776686 1587.307972 \nz\n\" style=\"fill:#d9e6f5;stroke:#444443;stroke-linejoin:miter;stroke-width:0.5;\"/>\n   </g>\n   <g id=\"patch_104\">\n    <path clip-path=\"url(#pfa1a272ceb)\" d=\"M 167.776686 1588.736692 \nL 167.776686 1588.736692 \nL 167.776686 1603.023892 \nL 167.776686 1603.023892 \nz\n\" style=\"fill:#d9e6f5;stroke:#444443;stroke-linejoin:miter;stroke-width:0.5;\"/>\n   </g>\n   <g id=\"patch_105\">\n    <path clip-path=\"url(#pfa1a272ceb)\" d=\"M 167.776686 1604.452613 \nL 167.776686 1604.452613 \nL 167.776686 1618.739813 \nL 167.776686 1618.739813 \nz\n\" style=\"fill:#d9e6f5;stroke:#444443;stroke-linejoin:miter;stroke-width:0.5;\"/>\n   </g>\n   <g id=\"patch_106\">\n    <path clip-path=\"url(#pfa1a272ceb)\" d=\"M 167.776686 1620.168533 \nL 167.776686 1620.168533 \nL 167.776686 1634.455733 \nL 167.776686 1634.455733 \nz\n\" style=\"fill:#d9e6f5;stroke:#444443;stroke-linejoin:miter;stroke-width:0.5;\"/>\n   </g>\n   <g id=\"patch_107\">\n    <path clip-path=\"url(#pfa1a272ceb)\" d=\"M 167.776686 1635.884454 \nL 167.776686 1635.884454 \nL 167.776686 1650.171654 \nL 167.776686 1650.171654 \nz\n\" style=\"fill:#d9e6f5;stroke:#444443;stroke-linejoin:miter;stroke-width:0.5;\"/>\n   </g>\n   <g id=\"patch_108\">\n    <path clip-path=\"url(#pfa1a272ceb)\" d=\"M 167.776686 1651.600374 \nL 167.776686 1651.600374 \nL 167.776686 1665.887575 \nL 167.776686 1665.887575 \nz\n\" style=\"fill:#d9e6f5;stroke:#444443;stroke-linejoin:miter;stroke-width:0.5;\"/>\n   </g>\n   <g id=\"patch_109\">\n    <path clip-path=\"url(#pfa1a272ceb)\" d=\"M 167.776686 1667.316295 \nL 167.776686 1667.316295 \nL 167.776686 1681.603495 \nL 167.776686 1681.603495 \nz\n\" style=\"fill:#d9e6f5;stroke:#444443;stroke-linejoin:miter;stroke-width:0.5;\"/>\n   </g>\n   <g id=\"patch_110\">\n    <path clip-path=\"url(#pfa1a272ceb)\" d=\"M 167.776686 1683.032215 \nL 167.776686 1683.032215 \nL 167.776686 1697.319416 \nL 167.776686 1697.319416 \nz\n\" style=\"fill:#d9e6f5;stroke:#444443;stroke-linejoin:miter;stroke-width:0.5;\"/>\n   </g>\n   <g id=\"patch_111\">\n    <path clip-path=\"url(#pfa1a272ceb)\" d=\"M 167.776686 1698.748136 \nL 167.776686 1698.748136 \nL 167.776686 1713.035336 \nL 167.776686 1713.035336 \nz\n\" style=\"fill:#d9e6f5;stroke:#444443;stroke-linejoin:miter;stroke-width:0.5;\"/>\n   </g>\n   <g id=\"patch_112\">\n    <path clip-path=\"url(#pfa1a272ceb)\" d=\"M 167.776686 1714.464056 \nL 167.776686 1714.464056 \nL 167.776686 1728.751257 \nL 167.776686 1728.751257 \nz\n\" style=\"fill:#d9e6f5;stroke:#444443;stroke-linejoin:miter;stroke-width:0.5;\"/>\n   </g>\n   <g id=\"patch_113\">\n    <path clip-path=\"url(#pfa1a272ceb)\" d=\"M 167.776686 1730.179977 \nL 167.776686 1730.179977 \nL 167.776686 1744.467177 \nL 167.776686 1744.467177 \nz\n\" style=\"fill:#d9e6f5;stroke:#444443;stroke-linejoin:miter;stroke-width:0.5;\"/>\n   </g>\n   <g id=\"patch_114\">\n    <path clip-path=\"url(#pfa1a272ceb)\" d=\"M 167.776686 1745.895897 \nL 167.776686 1745.895897 \nL 167.776686 1760.183098 \nL 167.776686 1760.183098 \nz\n\" style=\"fill:#d9e6f5;stroke:#444443;stroke-linejoin:miter;stroke-width:0.5;\"/>\n   </g>\n   <g id=\"patch_115\">\n    <path clip-path=\"url(#pfa1a272ceb)\" d=\"M 167.776686 1761.611818 \nL 167.776686 1761.611818 \nL 167.776686 1775.899018 \nL 167.776686 1775.899018 \nz\n\" style=\"fill:#d9e6f5;stroke:#444443;stroke-linejoin:miter;stroke-width:0.5;\"/>\n   </g>\n   <g id=\"patch_116\">\n    <path clip-path=\"url(#pfa1a272ceb)\" d=\"M 167.776686 1777.327738 \nL 167.776686 1777.327738 \nL 167.776686 1791.614939 \nL 167.776686 1791.614939 \nz\n\" style=\"fill:#d9e6f5;stroke:#444443;stroke-linejoin:miter;stroke-width:0.5;\"/>\n   </g>\n   <g id=\"patch_117\">\n    <path clip-path=\"url(#pfa1a272ceb)\" d=\"M 167.776686 1793.043659 \nL 167.776686 1793.043659 \nL 167.776686 1807.330859 \nL 167.776686 1807.330859 \nz\n\" style=\"fill:#d9e6f5;stroke:#444443;stroke-linejoin:miter;stroke-width:0.5;\"/>\n   </g>\n   <g id=\"patch_118\">\n    <path clip-path=\"url(#pfa1a272ceb)\" d=\"M 167.776686 1808.759579 \nL 167.776686 1808.759579 \nL 167.776686 1823.04678 \nL 167.776686 1823.04678 \nz\n\" style=\"fill:#d9e6f5;stroke:#444443;stroke-linejoin:miter;stroke-width:0.5;\"/>\n   </g>\n   <g id=\"patch_119\">\n    <path clip-path=\"url(#pfa1a272ceb)\" d=\"M 167.776686 1824.4755 \nL 167.776686 1824.4755 \nL 167.776686 1838.7627 \nL 167.776686 1838.7627 \nz\n\" style=\"fill:#d9e6f5;stroke:#444443;stroke-linejoin:miter;stroke-width:0.5;\"/>\n   </g>\n   <g id=\"patch_120\">\n    <path clip-path=\"url(#pfa1a272ceb)\" d=\"M 167.776686 1840.19142 \nL 167.776686 1840.19142 \nL 167.776686 1854.478621 \nL 167.776686 1854.478621 \nz\n\" style=\"fill:#d9e6f5;stroke:#444443;stroke-linejoin:miter;stroke-width:0.5;\"/>\n   </g>\n   <g id=\"patch_121\">\n    <path clip-path=\"url(#pfa1a272ceb)\" d=\"M 167.776686 1855.907341 \nL 167.776686 1855.907341 \nL 167.776686 1870.194541 \nL 167.776686 1870.194541 \nz\n\" style=\"fill:#d9e6f5;stroke:#444443;stroke-linejoin:miter;stroke-width:0.5;\"/>\n   </g>\n   <g id=\"patch_122\">\n    <path clip-path=\"url(#pfa1a272ceb)\" d=\"M 167.776686 1871.623261 \nL 167.776686 1871.623261 \nL 167.776686 1885.910462 \nL 167.776686 1885.910462 \nz\n\" style=\"fill:#d9e6f5;stroke:#444443;stroke-linejoin:miter;stroke-width:0.5;\"/>\n   </g>\n   <g id=\"patch_123\">\n    <path clip-path=\"url(#pfa1a272ceb)\" d=\"M 167.776686 1887.339182 \nL 167.776686 1887.339182 \nL 167.776686 1901.626382 \nL 167.776686 1901.626382 \nz\n\" style=\"fill:#d9e6f5;stroke:#444443;stroke-linejoin:miter;stroke-width:0.5;\"/>\n   </g>\n   <g id=\"patch_124\">\n    <path clip-path=\"url(#pfa1a272ceb)\" d=\"M 167.776686 1903.055102 \nL 167.776686 1903.055102 \nL 167.776686 1917.342303 \nL 167.776686 1917.342303 \nz\n\" style=\"fill:#d9e6f5;stroke:#444443;stroke-linejoin:miter;stroke-width:0.5;\"/>\n   </g>\n   <g id=\"patch_125\">\n    <path clip-path=\"url(#pfa1a272ceb)\" d=\"M 167.776686 1918.771023 \nL 167.776686 1918.771023 \nL 167.776686 1933.058223 \nL 167.776686 1933.058223 \nz\n\" style=\"fill:#d9e6f5;stroke:#444443;stroke-linejoin:miter;stroke-width:0.5;\"/>\n   </g>\n   <g id=\"patch_126\">\n    <path clip-path=\"url(#pfa1a272ceb)\" d=\"M 167.776686 1934.486943 \nL 167.776686 1934.486943 \nL 167.776686 1948.774144 \nL 167.776686 1948.774144 \nz\n\" style=\"fill:#d9e6f5;stroke:#444443;stroke-linejoin:miter;stroke-width:0.5;\"/>\n   </g>\n   <g id=\"patch_127\">\n    <path clip-path=\"url(#pfa1a272ceb)\" d=\"M 167.776686 1950.202864 \nL 167.776686 1950.202864 \nL 167.776686 1964.490064 \nL 167.776686 1964.490064 \nz\n\" style=\"fill:#d9e6f5;stroke:#444443;stroke-linejoin:miter;stroke-width:0.5;\"/>\n   </g>\n   <g id=\"patch_128\">\n    <path clip-path=\"url(#pfa1a272ceb)\" d=\"M 167.776686 1965.918784 \nL 167.776686 1965.918784 \nL 167.776686 1980.205985 \nL 167.776686 1980.205985 \nz\n\" style=\"fill:#d9e6f5;stroke:#444443;stroke-linejoin:miter;stroke-width:0.5;\"/>\n   </g>\n   <g id=\"patch_129\">\n    <path clip-path=\"url(#pfa1a272ceb)\" d=\"M 167.776686 1981.634705 \nL 167.776686 1981.634705 \nL 167.776686 1995.921905 \nL 167.776686 1995.921905 \nz\n\" style=\"fill:#d9e6f5;stroke:#444443;stroke-linejoin:miter;stroke-width:0.5;\"/>\n   </g>\n   <g id=\"patch_130\">\n    <path clip-path=\"url(#pfa1a272ceb)\" d=\"M 167.776686 1997.350625 \nL 167.776686 1997.350625 \nL 167.776686 2011.637826 \nL 167.776686 2011.637826 \nz\n\" style=\"fill:#d9e6f5;stroke:#444443;stroke-linejoin:miter;stroke-width:0.5;\"/>\n   </g>\n   <g id=\"patch_131\">\n    <path clip-path=\"url(#pfa1a272ceb)\" d=\"M 167.776686 2013.066546 \nL 167.776686 2013.066546 \nL 167.776686 2027.353746 \nL 167.776686 2027.353746 \nz\n\" style=\"fill:#d9e6f5;stroke:#444443;stroke-linejoin:miter;stroke-width:0.5;\"/>\n   </g>\n   <g id=\"patch_132\">\n    <path clip-path=\"url(#pfa1a272ceb)\" d=\"M 167.776686 2028.782466 \nL 167.776686 2028.782466 \nL 167.776686 2043.069667 \nL 167.776686 2043.069667 \nz\n\" style=\"fill:#d9e6f5;stroke:#444443;stroke-linejoin:miter;stroke-width:0.5;\"/>\n   </g>\n   <g id=\"patch_133\">\n    <path clip-path=\"url(#pfa1a272ceb)\" d=\"M 167.776686 2044.498387 \nL 167.776686 2044.498387 \nL 167.776686 2058.785587 \nL 167.776686 2058.785587 \nz\n\" style=\"fill:#d9e6f5;stroke:#444443;stroke-linejoin:miter;stroke-width:0.5;\"/>\n   </g>\n   <g id=\"patch_134\">\n    <path clip-path=\"url(#pfa1a272ceb)\" d=\"M 167.776686 2060.214307 \nL 167.776686 2060.214307 \nL 167.776686 2074.501508 \nL 167.776686 2074.501508 \nz\n\" style=\"fill:#d9e6f5;stroke:#444443;stroke-linejoin:miter;stroke-width:0.5;\"/>\n   </g>\n   <g id=\"patch_135\">\n    <path clip-path=\"url(#pfa1a272ceb)\" d=\"M 167.776686 2075.930228 \nL 167.776686 2075.930228 \nL 167.776686 2090.217428 \nL 167.776686 2090.217428 \nz\n\" style=\"fill:#d9e6f5;stroke:#444443;stroke-linejoin:miter;stroke-width:0.5;\"/>\n   </g>\n   <g id=\"patch_136\">\n    <path clip-path=\"url(#pfa1a272ceb)\" d=\"M 167.776686 2091.646148 \nL 167.776686 2091.646148 \nL 167.776686 2105.933349 \nL 167.776686 2105.933349 \nz\n\" style=\"fill:#d9e6f5;stroke:#444443;stroke-linejoin:miter;stroke-width:0.5;\"/>\n   </g>\n   <g id=\"patch_137\">\n    <path clip-path=\"url(#pfa1a272ceb)\" d=\"M 167.776686 2107.362069 \nL 167.776686 2107.362069 \nL 167.776686 2121.649269 \nL 167.776686 2121.649269 \nz\n\" style=\"fill:#d9e6f5;stroke:#444443;stroke-linejoin:miter;stroke-width:0.5;\"/>\n   </g>\n   <g id=\"patch_138\">\n    <path clip-path=\"url(#pfa1a272ceb)\" d=\"M 167.776686 2123.077989 \nL 167.776686 2123.077989 \nL 167.776686 2137.36519 \nL 167.776686 2137.36519 \nz\n\" style=\"fill:#d9e6f5;stroke:#444443;stroke-linejoin:miter;stroke-width:0.5;\"/>\n   </g>\n   <g id=\"patch_139\">\n    <path clip-path=\"url(#pfa1a272ceb)\" d=\"M 167.776686 2138.79391 \nL 167.776686 2138.79391 \nL 167.776686 2153.08111 \nL 167.776686 2153.08111 \nz\n\" style=\"fill:#d9e6f5;stroke:#444443;stroke-linejoin:miter;stroke-width:0.5;\"/>\n   </g>\n   <g id=\"patch_140\">\n    <path clip-path=\"url(#pfa1a272ceb)\" d=\"M 167.776686 2154.509831 \nL 167.776686 2154.509831 \nL 167.776686 2168.797031 \nL 167.776686 2168.797031 \nz\n\" style=\"fill:#d9e6f5;stroke:#444443;stroke-linejoin:miter;stroke-width:0.5;\"/>\n   </g>\n   <g id=\"patch_141\">\n    <path clip-path=\"url(#pfa1a272ceb)\" d=\"M 167.776686 2170.225751 \nL 167.776686 2170.225751 \nL 167.776686 2184.512951 \nL 167.776686 2184.512951 \nz\n\" style=\"fill:#d9e6f5;stroke:#444443;stroke-linejoin:miter;stroke-width:0.5;\"/>\n   </g>\n   <g id=\"patch_142\">\n    <path clip-path=\"url(#pfa1a272ceb)\" d=\"M 167.776686 2185.941672 \nL 167.776686 2185.941672 \nL 167.776686 2200.228872 \nL 167.776686 2200.228872 \nz\n\" style=\"fill:#d9e6f5;stroke:#444443;stroke-linejoin:miter;stroke-width:0.5;\"/>\n   </g>\n   <g id=\"patch_143\">\n    <path clip-path=\"url(#pfa1a272ceb)\" d=\"M 167.776686 2201.657592 \nL 167.776686 2201.657592 \nL 167.776686 2215.944793 \nL 167.776686 2215.944793 \nz\n\" style=\"fill:#d9e6f5;stroke:#444443;stroke-linejoin:miter;stroke-width:0.5;\"/>\n   </g>\n   <g id=\"patch_144\">\n    <path clip-path=\"url(#pfa1a272ceb)\" d=\"M 167.776686 2217.373513 \nL 167.776686 2217.373513 \nL 167.776686 2231.660713 \nL 167.776686 2231.660713 \nz\n\" style=\"fill:#d9e6f5;stroke:#444443;stroke-linejoin:miter;stroke-width:0.5;\"/>\n   </g>\n   <g id=\"patch_145\">\n    <path clip-path=\"url(#pfa1a272ceb)\" d=\"M 167.776686 2233.089433 \nL 167.776686 2233.089433 \nL 167.776686 2247.376634 \nL 167.776686 2247.376634 \nz\n\" style=\"fill:#d9e6f5;stroke:#444443;stroke-linejoin:miter;stroke-width:0.5;\"/>\n   </g>\n   <g id=\"patch_146\">\n    <path clip-path=\"url(#pfa1a272ceb)\" d=\"M 167.776686 2248.805354 \nL 167.776686 2248.805354 \nL 167.776686 2263.092554 \nL 167.776686 2263.092554 \nz\n\" style=\"fill:#d9e6f5;stroke:#444443;stroke-linejoin:miter;stroke-width:0.5;\"/>\n   </g>\n   <g id=\"patch_147\">\n    <path clip-path=\"url(#pfa1a272ceb)\" d=\"M 167.776686 2264.521274 \nL 167.776686 2264.521274 \nL 167.776686 2278.808475 \nL 167.776686 2278.808475 \nz\n\" style=\"fill:#d9e6f5;stroke:#444443;stroke-linejoin:miter;stroke-width:0.5;\"/>\n   </g>\n   <g id=\"patch_148\">\n    <path clip-path=\"url(#pfa1a272ceb)\" d=\"M 167.776686 2280.237195 \nL 167.776686 2280.237195 \nL 167.776686 2294.524395 \nL 167.776686 2294.524395 \nz\n\" style=\"fill:#d9e6f5;stroke:#444443;stroke-linejoin:miter;stroke-width:0.5;\"/>\n   </g>\n   <g id=\"patch_149\">\n    <path clip-path=\"url(#pfa1a272ceb)\" d=\"M 167.776686 2295.953115 \nL 167.776686 2295.953115 \nL 167.776686 2310.240316 \nL 167.776686 2310.240316 \nz\n\" style=\"fill:#d9e6f5;stroke:#444443;stroke-linejoin:miter;stroke-width:0.5;\"/>\n   </g>\n   <g id=\"patch_150\">\n    <path clip-path=\"url(#pfa1a272ceb)\" d=\"M 167.776686 2311.669036 \nL 167.776686 2311.669036 \nL 167.776686 2325.956236 \nL 167.776686 2325.956236 \nz\n\" style=\"fill:#d9e6f5;stroke:#444443;stroke-linejoin:miter;stroke-width:0.5;\"/>\n   </g>\n   <g id=\"patch_151\">\n    <path clip-path=\"url(#pfa1a272ceb)\" d=\"M 167.776686 2327.384956 \nL 167.776686 2327.384956 \nL 167.776686 2341.672157 \nL 167.776686 2341.672157 \nz\n\" style=\"fill:#d9e6f5;stroke:#444443;stroke-linejoin:miter;stroke-width:0.5;\"/>\n   </g>\n   <g id=\"patch_152\">\n    <path clip-path=\"url(#pfa1a272ceb)\" d=\"M 167.776686 2343.100877 \nL 167.776686 2343.100877 \nL 167.776686 2357.388077 \nL 167.776686 2357.388077 \nz\n\" style=\"fill:#d9e6f5;stroke:#444443;stroke-linejoin:miter;stroke-width:0.5;\"/>\n   </g>\n   <g id=\"patch_153\">\n    <path clip-path=\"url(#pfa1a272ceb)\" d=\"M 167.776686 2358.816797 \nL 167.776686 2358.816797 \nL 167.776686 2373.103998 \nL 167.776686 2373.103998 \nz\n\" style=\"fill:#d9e6f5;stroke:#444443;stroke-linejoin:miter;stroke-width:0.5;\"/>\n   </g>\n   <g id=\"patch_154\">\n    <path clip-path=\"url(#pfa1a272ceb)\" d=\"M 167.776686 2374.532718 \nL 167.776686 2374.532718 \nL 167.776686 2388.819918 \nL 167.776686 2388.819918 \nz\n\" style=\"fill:#d9e6f5;stroke:#444443;stroke-linejoin:miter;stroke-width:0.5;\"/>\n   </g>\n   <g id=\"patch_155\">\n    <path clip-path=\"url(#pfa1a272ceb)\" d=\"M 167.776686 2390.248638 \nL 167.776686 2390.248638 \nL 167.776686 2404.535839 \nL 167.776686 2404.535839 \nz\n\" style=\"fill:#d9e6f5;stroke:#444443;stroke-linejoin:miter;stroke-width:0.5;\"/>\n   </g>\n   <g id=\"patch_156\">\n    <path clip-path=\"url(#pfa1a272ceb)\" d=\"M 167.776686 2405.964559 \nL 167.776686 2405.964559 \nL 167.776686 2420.251759 \nL 167.776686 2420.251759 \nz\n\" style=\"fill:#d9e6f5;stroke:#444443;stroke-linejoin:miter;stroke-width:0.5;\"/>\n   </g>\n   <g id=\"patch_157\">\n    <path clip-path=\"url(#pfa1a272ceb)\" d=\"M 167.776686 2421.680479 \nL 167.776686 2421.680479 \nL 167.776686 2435.96768 \nL 167.776686 2435.96768 \nz\n\" style=\"fill:#d9e6f5;stroke:#444443;stroke-linejoin:miter;stroke-width:0.5;\"/>\n   </g>\n   <g id=\"patch_158\">\n    <path clip-path=\"url(#pfa1a272ceb)\" d=\"M 167.776686 2437.3964 \nL 167.776686 2437.3964 \nL 167.776686 2451.6836 \nL 167.776686 2451.6836 \nz\n\" style=\"fill:#d9e6f5;stroke:#444443;stroke-linejoin:miter;stroke-width:0.5;\"/>\n   </g>\n   <g id=\"patch_159\">\n    <path clip-path=\"url(#pfa1a272ceb)\" d=\"M 167.776686 2453.11232 \nL 167.776686 2453.11232 \nL 167.776686 2467.399521 \nL 167.776686 2467.399521 \nz\n\" style=\"fill:#d9e6f5;stroke:#444443;stroke-linejoin:miter;stroke-width:0.5;\"/>\n   </g>\n   <g id=\"patch_160\">\n    <path clip-path=\"url(#pfa1a272ceb)\" d=\"M 167.776686 2468.828241 \nL 167.776686 2468.828241 \nL 167.776686 2483.115441 \nL 167.776686 2483.115441 \nz\n\" style=\"fill:#d9e6f5;stroke:#444443;stroke-linejoin:miter;stroke-width:0.5;\"/>\n   </g>\n   <g id=\"patch_161\">\n    <path clip-path=\"url(#pfa1a272ceb)\" d=\"M 167.776686 2484.544161 \nL 167.776686 2484.544161 \nL 167.776686 2498.831362 \nL 167.776686 2498.831362 \nz\n\" style=\"fill:#d9e6f5;stroke:#444443;stroke-linejoin:miter;stroke-width:0.5;\"/>\n   </g>\n   <g id=\"patch_162\">\n    <path clip-path=\"url(#pfa1a272ceb)\" d=\"M 167.776686 2500.260082 \nL 167.776686 2500.260082 \nL 167.776686 2514.547282 \nL 167.776686 2514.547282 \nz\n\" style=\"fill:#d9e6f5;stroke:#444443;stroke-linejoin:miter;stroke-width:0.5;\"/>\n   </g>\n   <g id=\"patch_163\">\n    <path clip-path=\"url(#pfa1a272ceb)\" d=\"M 167.776686 2515.976002 \nL 167.776686 2515.976002 \nL 167.776686 2530.263203 \nL 167.776686 2530.263203 \nz\n\" style=\"fill:#d9e6f5;stroke:#444443;stroke-linejoin:miter;stroke-width:0.5;\"/>\n   </g>\n   <g id=\"patch_164\">\n    <path clip-path=\"url(#pfa1a272ceb)\" d=\"M 167.776686 2531.691923 \nL 167.776686 2531.691923 \nL 167.776686 2545.979123 \nL 167.776686 2545.979123 \nz\n\" style=\"fill:#d9e6f5;stroke:#444443;stroke-linejoin:miter;stroke-width:0.5;\"/>\n   </g>\n   <g id=\"patch_165\">\n    <path clip-path=\"url(#pfa1a272ceb)\" d=\"M 167.776686 2547.407843 \nL 167.776686 2547.407843 \nL 167.776686 2561.695044 \nL 167.776686 2561.695044 \nz\n\" style=\"fill:#d9e6f5;stroke:#444443;stroke-linejoin:miter;stroke-width:0.5;\"/>\n   </g>\n   <g id=\"patch_166\">\n    <path clip-path=\"url(#pfa1a272ceb)\" d=\"M 167.776686 2563.123764 \nL 167.776686 2563.123764 \nL 167.776686 2577.410964 \nL 167.776686 2577.410964 \nz\n\" style=\"fill:#d9e6f5;stroke:#444443;stroke-linejoin:miter;stroke-width:0.5;\"/>\n   </g>\n   <g id=\"patch_167\">\n    <path clip-path=\"url(#pfa1a272ceb)\" d=\"M 167.776686 2578.839684 \nL 167.776686 2578.839684 \nL 167.776686 2593.126885 \nL 167.776686 2593.126885 \nz\n\" style=\"fill:#d9e6f5;stroke:#444443;stroke-linejoin:miter;stroke-width:0.5;\"/>\n   </g>\n   <g id=\"patch_168\">\n    <path clip-path=\"url(#pfa1a272ceb)\" d=\"M 167.776686 2594.555605 \nL 167.776686 2594.555605 \nL 167.776686 2608.842805 \nL 167.776686 2608.842805 \nz\n\" style=\"fill:#d9e6f5;stroke:#444443;stroke-linejoin:miter;stroke-width:0.5;\"/>\n   </g>\n   <g id=\"patch_169\">\n    <path clip-path=\"url(#pfa1a272ceb)\" d=\"M 167.776686 2610.271525 \nL 167.776686 2610.271525 \nL 167.776686 2624.558726 \nL 167.776686 2624.558726 \nz\n\" style=\"fill:#d9e6f5;stroke:#444443;stroke-linejoin:miter;stroke-width:0.5;\"/>\n   </g>\n   <g id=\"patch_170\">\n    <path clip-path=\"url(#pfa1a272ceb)\" d=\"M 167.776686 2625.987446 \nL 167.776686 2625.987446 \nL 167.776686 2640.274646 \nL 167.776686 2640.274646 \nz\n\" style=\"fill:#d9e6f5;stroke:#444443;stroke-linejoin:miter;stroke-width:0.5;\"/>\n   </g>\n   <g id=\"patch_171\">\n    <path clip-path=\"url(#pfa1a272ceb)\" d=\"M 167.776686 2641.703366 \nL 167.776686 2641.703366 \nL 167.776686 2655.990567 \nL 167.776686 2655.990567 \nz\n\" style=\"fill:#d9e6f5;stroke:#444443;stroke-linejoin:miter;stroke-width:0.5;\"/>\n   </g>\n   <g id=\"patch_172\">\n    <path clip-path=\"url(#pfa1a272ceb)\" d=\"M 167.776686 2657.419287 \nL 167.776686 2657.419287 \nL 167.776686 2671.706487 \nL 167.776686 2671.706487 \nz\n\" style=\"fill:#d9e6f5;stroke:#444443;stroke-linejoin:miter;stroke-width:0.5;\"/>\n   </g>\n   <g id=\"patch_173\">\n    <path clip-path=\"url(#pfa1a272ceb)\" d=\"M 167.776686 2673.135207 \nL 167.776686 2673.135207 \nL 167.776686 2687.422408 \nL 167.776686 2687.422408 \nz\n\" style=\"fill:#d9e6f5;stroke:#444443;stroke-linejoin:miter;stroke-width:0.5;\"/>\n   </g>\n   <g id=\"patch_174\">\n    <path clip-path=\"url(#pfa1a272ceb)\" d=\"M 167.776686 2688.851128 \nL 167.776686 2688.851128 \nL 167.776686 2703.138328 \nL 167.776686 2703.138328 \nz\n\" style=\"fill:#d9e6f5;stroke:#444443;stroke-linejoin:miter;stroke-width:0.5;\"/>\n   </g>\n   <g id=\"patch_175\">\n    <path clip-path=\"url(#pfa1a272ceb)\" d=\"M 167.776686 2704.567049 \nL 167.776686 2704.567049 \nL 167.776686 2718.854249 \nL 167.776686 2718.854249 \nz\n\" style=\"fill:#d9e6f5;stroke:#444443;stroke-linejoin:miter;stroke-width:0.5;\"/>\n   </g>\n   <g id=\"patch_176\">\n    <path clip-path=\"url(#pfa1a272ceb)\" d=\"M 167.776686 2720.282969 \nL 167.776686 2720.282969 \nL 167.776686 2734.570169 \nL 167.776686 2734.570169 \nz\n\" style=\"fill:#d9e6f5;stroke:#444443;stroke-linejoin:miter;stroke-width:0.5;\"/>\n   </g>\n   <g id=\"patch_177\">\n    <path clip-path=\"url(#pfa1a272ceb)\" d=\"M 167.776686 2735.99889 \nL 167.776686 2735.99889 \nL 167.776686 2750.28609 \nL 167.776686 2750.28609 \nz\n\" style=\"fill:#d9e6f5;stroke:#444443;stroke-linejoin:miter;stroke-width:0.5;\"/>\n   </g>\n   <g id=\"patch_178\">\n    <path clip-path=\"url(#pfa1a272ceb)\" d=\"M 167.776686 2751.71481 \nL 167.776686 2751.71481 \nL 167.776686 2766.002011 \nL 167.776686 2766.002011 \nz\n\" style=\"fill:#d9e6f5;stroke:#444443;stroke-linejoin:miter;stroke-width:0.5;\"/>\n   </g>\n   <g id=\"patch_179\">\n    <path clip-path=\"url(#pfa1a272ceb)\" d=\"M 167.776686 2767.430731 \nL 167.776686 2767.430731 \nL 167.776686 2781.717931 \nL 167.776686 2781.717931 \nz\n\" style=\"fill:#d9e6f5;stroke:#444443;stroke-linejoin:miter;stroke-width:0.5;\"/>\n   </g>\n   <g id=\"patch_180\">\n    <path clip-path=\"url(#pfa1a272ceb)\" d=\"M 167.776686 2783.146651 \nL 167.776686 2783.146651 \nL 167.776686 2797.433852 \nL 167.776686 2797.433852 \nz\n\" style=\"fill:#d9e6f5;stroke:#444443;stroke-linejoin:miter;stroke-width:0.5;\"/>\n   </g>\n   <g id=\"patch_181\">\n    <path clip-path=\"url(#pfa1a272ceb)\" d=\"M 167.776686 2798.862572 \nL 167.776686 2798.862572 \nL 167.776686 2813.149772 \nL 167.776686 2813.149772 \nz\n\" style=\"fill:#d9e6f5;stroke:#444443;stroke-linejoin:miter;stroke-width:0.5;\"/>\n   </g>\n   <g id=\"patch_182\">\n    <path clip-path=\"url(#pfa1a272ceb)\" d=\"M 167.776686 2814.578492 \nL 167.776686 2814.578492 \nL 167.776686 2828.865693 \nL 167.776686 2828.865693 \nz\n\" style=\"fill:#d9e6f5;stroke:#444443;stroke-linejoin:miter;stroke-width:0.5;\"/>\n   </g>\n   <g id=\"patch_183\">\n    <path clip-path=\"url(#pfa1a272ceb)\" d=\"M 167.776686 2830.294413 \nL 167.776686 2830.294413 \nL 167.776686 2844.581613 \nL 167.776686 2844.581613 \nz\n\" style=\"fill:#d9e6f5;stroke:#444443;stroke-linejoin:miter;stroke-width:0.5;\"/>\n   </g>\n   <g id=\"patch_184\">\n    <path clip-path=\"url(#pfa1a272ceb)\" d=\"M 167.776686 2846.010333 \nL 167.776686 2846.010333 \nL 167.776686 2860.297534 \nL 167.776686 2860.297534 \nz\n\" style=\"fill:#d9e6f5;stroke:#444443;stroke-linejoin:miter;stroke-width:0.5;\"/>\n   </g>\n   <g id=\"patch_185\">\n    <path clip-path=\"url(#pfa1a272ceb)\" d=\"M 167.776686 2861.726254 \nL 167.776686 2861.726254 \nL 167.776686 2876.013454 \nL 167.776686 2876.013454 \nz\n\" style=\"fill:#d9e6f5;stroke:#444443;stroke-linejoin:miter;stroke-width:0.5;\"/>\n   </g>\n   <g id=\"patch_186\">\n    <path clip-path=\"url(#pfa1a272ceb)\" d=\"M 167.776686 2877.442174 \nL 167.776686 2877.442174 \nL 167.776686 2891.729375 \nL 167.776686 2891.729375 \nz\n\" style=\"fill:#d9e6f5;stroke:#444443;stroke-linejoin:miter;stroke-width:0.5;\"/>\n   </g>\n   <g id=\"patch_187\">\n    <path clip-path=\"url(#pfa1a272ceb)\" d=\"M 167.776686 2893.158095 \nL 167.776686 2893.158095 \nL 167.776686 2907.445295 \nL 167.776686 2907.445295 \nz\n\" style=\"fill:#d9e6f5;stroke:#444443;stroke-linejoin:miter;stroke-width:0.5;\"/>\n   </g>\n   <g id=\"patch_188\">\n    <path clip-path=\"url(#pfa1a272ceb)\" d=\"M 167.776686 2908.874015 \nL 167.776686 2908.874015 \nL 167.776686 2923.161216 \nL 167.776686 2923.161216 \nz\n\" style=\"fill:#d9e6f5;stroke:#444443;stroke-linejoin:miter;stroke-width:0.5;\"/>\n   </g>\n   <g id=\"patch_189\">\n    <path clip-path=\"url(#pfa1a272ceb)\" d=\"M 167.776686 2924.589936 \nL 167.776686 2924.589936 \nL 167.776686 2938.877136 \nL 167.776686 2938.877136 \nz\n\" style=\"fill:#d9e6f5;stroke:#444443;stroke-linejoin:miter;stroke-width:0.5;\"/>\n   </g>\n   <g id=\"patch_190\">\n    <path clip-path=\"url(#pfa1a272ceb)\" d=\"M 167.776686 2940.305856 \nL 167.776686 2940.305856 \nL 167.776686 2954.593057 \nL 167.776686 2954.593057 \nz\n\" style=\"fill:#d9e6f5;stroke:#444443;stroke-linejoin:miter;stroke-width:0.5;\"/>\n   </g>\n   <g id=\"patch_191\">\n    <path clip-path=\"url(#pfa1a272ceb)\" d=\"M 167.776686 2956.021777 \nL 167.776686 2956.021777 \nL 167.776686 2970.308977 \nL 167.776686 2970.308977 \nz\n\" style=\"fill:#d9e6f5;stroke:#444443;stroke-linejoin:miter;stroke-width:0.5;\"/>\n   </g>\n   <g id=\"patch_192\">\n    <path clip-path=\"url(#pfa1a272ceb)\" d=\"M 167.776686 2971.737697 \nL 167.776686 2971.737697 \nL 167.776686 2986.024898 \nL 167.776686 2986.024898 \nz\n\" style=\"fill:#d9e6f5;stroke:#444443;stroke-linejoin:miter;stroke-width:0.5;\"/>\n   </g>\n   <g id=\"patch_193\">\n    <path clip-path=\"url(#pfa1a272ceb)\" d=\"M 167.776686 2987.453618 \nL 167.776686 2987.453618 \nL 167.776686 3001.740818 \nL 167.776686 3001.740818 \nz\n\" style=\"fill:#d9e6f5;stroke:#444443;stroke-linejoin:miter;stroke-width:0.5;\"/>\n   </g>\n   <g id=\"patch_194\">\n    <path clip-path=\"url(#pfa1a272ceb)\" d=\"M 167.776686 3003.169538 \nL 167.776686 3003.169538 \nL 167.776686 3017.456739 \nL 167.776686 3017.456739 \nz\n\" style=\"fill:#d9e6f5;stroke:#444443;stroke-linejoin:miter;stroke-width:0.5;\"/>\n   </g>\n   <g id=\"patch_195\">\n    <path clip-path=\"url(#pfa1a272ceb)\" d=\"M 167.776686 3018.885459 \nL 167.776686 3018.885459 \nL 167.776686 3033.172659 \nL 167.776686 3033.172659 \nz\n\" style=\"fill:#d9e6f5;stroke:#444443;stroke-linejoin:miter;stroke-width:0.5;\"/>\n   </g>\n   <g id=\"patch_196\">\n    <path clip-path=\"url(#pfa1a272ceb)\" d=\"M 167.776686 3034.601379 \nL 167.659901 3034.601379 \nL 167.659901 3048.88858 \nL 167.776686 3048.88858 \nz\n\" style=\"fill:#d9e6f5;stroke:#444443;stroke-linejoin:miter;stroke-width:0.5;\"/>\n   </g>\n   <g id=\"patch_197\">\n    <path clip-path=\"url(#pfa1a272ceb)\" d=\"M 167.776686 3050.3173 \nL 167.659901 3050.3173 \nL 167.659901 3064.6045 \nL 167.776686 3064.6045 \nz\n\" style=\"fill:#d9e6f5;stroke:#444443;stroke-linejoin:miter;stroke-width:0.5;\"/>\n   </g>\n   <g id=\"patch_198\">\n    <path clip-path=\"url(#pfa1a272ceb)\" d=\"M 167.776686 3066.03322 \nL 167.659901 3066.03322 \nL 167.659901 3080.320421 \nL 167.776686 3080.320421 \nz\n\" style=\"fill:#d9e6f5;stroke:#444443;stroke-linejoin:miter;stroke-width:0.5;\"/>\n   </g>\n   <g id=\"patch_199\">\n    <path clip-path=\"url(#pfa1a272ceb)\" d=\"M 167.776686 3081.749141 \nL 167.659901 3081.749141 \nL 167.659901 3096.036341 \nL 167.776686 3096.036341 \nz\n\" style=\"fill:#d9e6f5;stroke:#444443;stroke-linejoin:miter;stroke-width:0.5;\"/>\n   </g>\n   <g id=\"patch_200\">\n    <path clip-path=\"url(#pfa1a272ceb)\" d=\"M 167.776686 3097.465061 \nL 167.659901 3097.465061 \nL 167.659901 3111.752262 \nL 167.776686 3111.752262 \nz\n\" style=\"fill:#d9e6f5;stroke:#444443;stroke-linejoin:miter;stroke-width:0.5;\"/>\n   </g>\n   <g id=\"patch_201\">\n    <path clip-path=\"url(#pfa1a272ceb)\" d=\"M 167.776686 3113.180982 \nL 167.659901 3113.180982 \nL 167.659901 3127.468182 \nL 167.776686 3127.468182 \nz\n\" style=\"fill:#d9e6f5;stroke:#444443;stroke-linejoin:miter;stroke-width:0.5;\"/>\n   </g>\n   <g id=\"patch_202\">\n    <path clip-path=\"url(#pfa1a272ceb)\" d=\"M 167.776686 3128.896902 \nL 167.659901 3128.896902 \nL 167.659901 3143.184103 \nL 167.776686 3143.184103 \nz\n\" style=\"fill:#d9e6f5;stroke:#444443;stroke-linejoin:miter;stroke-width:0.5;\"/>\n   </g>\n   <g id=\"patch_203\">\n    <path clip-path=\"url(#pfa1a272ceb)\" d=\"M 167.776686 3144.612823 \nL 167.659901 3144.612823 \nL 167.659901 3158.900023 \nL 167.776686 3158.900023 \nz\n\" style=\"fill:#d9e6f5;stroke:#444443;stroke-linejoin:miter;stroke-width:0.5;\"/>\n   </g>\n   <g id=\"patch_204\">\n    <path clip-path=\"url(#pfa1a272ceb)\" d=\"M 167.776686 3160.328743 \nL 167.659901 3160.328743 \nL 167.659901 3174.615944 \nL 167.776686 3174.615944 \nz\n\" style=\"fill:#d9e6f5;stroke:#444443;stroke-linejoin:miter;stroke-width:0.5;\"/>\n   </g>\n   <g id=\"patch_205\">\n    <path clip-path=\"url(#pfa1a272ceb)\" d=\"M 167.776686 3176.044664 \nL 167.659901 3176.044664 \nL 167.659901 3190.331864 \nL 167.776686 3190.331864 \nz\n\" style=\"fill:#d9e6f5;stroke:#444443;stroke-linejoin:miter;stroke-width:0.5;\"/>\n   </g>\n   <g id=\"patch_206\">\n    <path clip-path=\"url(#pfa1a272ceb)\" d=\"M 167.776686 3191.760584 \nL 167.659901 3191.760584 \nL 167.659901 3206.047785 \nL 167.776686 3206.047785 \nz\n\" style=\"fill:#d9e6f5;stroke:#444443;stroke-linejoin:miter;stroke-width:0.5;\"/>\n   </g>\n   <g id=\"patch_207\">\n    <path clip-path=\"url(#pfa1a272ceb)\" d=\"M 167.776686 3207.476505 \nL 167.659901 3207.476505 \nL 167.659901 3221.763705 \nL 167.776686 3221.763705 \nz\n\" style=\"fill:#d9e6f5;stroke:#444443;stroke-linejoin:miter;stroke-width:0.5;\"/>\n   </g>\n   <g id=\"patch_208\">\n    <path clip-path=\"url(#pfa1a272ceb)\" d=\"M 167.776686 3223.192425 \nL 167.659901 3223.192425 \nL 167.659901 3237.479626 \nL 167.776686 3237.479626 \nz\n\" style=\"fill:#d9e6f5;stroke:#444443;stroke-linejoin:miter;stroke-width:0.5;\"/>\n   </g>\n   <g id=\"patch_209\">\n    <path clip-path=\"url(#pfa1a272ceb)\" d=\"M 167.776686 3238.908346 \nL 167.659901 3238.908346 \nL 167.659901 3253.195546 \nL 167.776686 3253.195546 \nz\n\" style=\"fill:#d9e6f5;stroke:#444443;stroke-linejoin:miter;stroke-width:0.5;\"/>\n   </g>\n   <g id=\"patch_210\">\n    <path clip-path=\"url(#pfa1a272ceb)\" d=\"M 167.776686 3254.624267 \nL 167.659901 3254.624267 \nL 167.659901 3268.911467 \nL 167.776686 3268.911467 \nz\n\" style=\"fill:#d9e6f5;stroke:#444443;stroke-linejoin:miter;stroke-width:0.5;\"/>\n   </g>\n   <g id=\"patch_211\">\n    <path clip-path=\"url(#pfa1a272ceb)\" d=\"M 167.776686 3270.340187 \nL 167.659901 3270.340187 \nL 167.659901 3284.627387 \nL 167.776686 3284.627387 \nz\n\" style=\"fill:#d9e6f5;stroke:#444443;stroke-linejoin:miter;stroke-width:0.5;\"/>\n   </g>\n   <g id=\"patch_212\">\n    <path clip-path=\"url(#pfa1a272ceb)\" d=\"M 167.776686 3286.056108 \nL 167.659901 3286.056108 \nL 167.659901 3300.343308 \nL 167.776686 3300.343308 \nz\n\" style=\"fill:#d9e6f5;stroke:#444443;stroke-linejoin:miter;stroke-width:0.5;\"/>\n   </g>\n   <g id=\"patch_213\">\n    <path clip-path=\"url(#pfa1a272ceb)\" d=\"M 167.776686 3301.772028 \nL 167.659901 3301.772028 \nL 167.659901 3316.059229 \nL 167.776686 3316.059229 \nz\n\" style=\"fill:#d9e6f5;stroke:#444443;stroke-linejoin:miter;stroke-width:0.5;\"/>\n   </g>\n   <g id=\"patch_214\">\n    <path clip-path=\"url(#pfa1a272ceb)\" d=\"M 167.776686 3317.487949 \nL 167.659901 3317.487949 \nL 167.659901 3331.775149 \nL 167.776686 3331.775149 \nz\n\" style=\"fill:#d9e6f5;stroke:#444443;stroke-linejoin:miter;stroke-width:0.5;\"/>\n   </g>\n   <g id=\"patch_215\">\n    <path clip-path=\"url(#pfa1a272ceb)\" d=\"M 167.776686 3333.203869 \nL 167.659901 3333.203869 \nL 167.659901 3347.49107 \nL 167.776686 3347.49107 \nz\n\" style=\"fill:#d9e6f5;stroke:#444443;stroke-linejoin:miter;stroke-width:0.5;\"/>\n   </g>\n   <g id=\"patch_216\">\n    <path clip-path=\"url(#pfa1a272ceb)\" d=\"M 167.776686 3348.91979 \nL 167.659901 3348.91979 \nL 167.659901 3363.20699 \nL 167.776686 3363.20699 \nz\n\" style=\"fill:#d9e6f5;stroke:#444443;stroke-linejoin:miter;stroke-width:0.5;\"/>\n   </g>\n   <g id=\"patch_217\">\n    <path clip-path=\"url(#pfa1a272ceb)\" d=\"M 167.776686 3364.63571 \nL 167.659901 3364.63571 \nL 167.659901 3378.922911 \nL 167.776686 3378.922911 \nz\n\" style=\"fill:#d9e6f5;stroke:#444443;stroke-linejoin:miter;stroke-width:0.5;\"/>\n   </g>\n   <g id=\"patch_218\">\n    <path clip-path=\"url(#pfa1a272ceb)\" d=\"M 167.776686 3380.351631 \nL 167.659901 3380.351631 \nL 167.659901 3394.638831 \nL 167.776686 3394.638831 \nz\n\" style=\"fill:#d9e6f5;stroke:#444443;stroke-linejoin:miter;stroke-width:0.5;\"/>\n   </g>\n   <g id=\"patch_219\">\n    <path clip-path=\"url(#pfa1a272ceb)\" d=\"M 167.776686 3396.067551 \nL 167.659901 3396.067551 \nL 167.659901 3410.354752 \nL 167.776686 3410.354752 \nz\n\" style=\"fill:#d9e6f5;stroke:#444443;stroke-linejoin:miter;stroke-width:0.5;\"/>\n   </g>\n   <g id=\"patch_220\">\n    <path clip-path=\"url(#pfa1a272ceb)\" d=\"M 167.776686 3411.783472 \nL 167.659901 3411.783472 \nL 167.659901 3426.070672 \nL 167.776686 3426.070672 \nz\n\" style=\"fill:#d9e6f5;stroke:#444443;stroke-linejoin:miter;stroke-width:0.5;\"/>\n   </g>\n   <g id=\"patch_221\">\n    <path clip-path=\"url(#pfa1a272ceb)\" d=\"M 167.776686 3427.499392 \nL 167.659901 3427.499392 \nL 167.659901 3441.786593 \nL 167.776686 3441.786593 \nz\n\" style=\"fill:#d9e6f5;stroke:#444443;stroke-linejoin:miter;stroke-width:0.5;\"/>\n   </g>\n   <g id=\"patch_222\">\n    <path clip-path=\"url(#pfa1a272ceb)\" d=\"M 167.776686 3443.215313 \nL 167.659901 3443.215313 \nL 167.659901 3457.502513 \nL 167.776686 3457.502513 \nz\n\" style=\"fill:#d9e6f5;stroke:#444443;stroke-linejoin:miter;stroke-width:0.5;\"/>\n   </g>\n   <g id=\"patch_223\">\n    <path clip-path=\"url(#pfa1a272ceb)\" d=\"M 167.776686 3458.931233 \nL 167.659901 3458.931233 \nL 167.659901 3473.218434 \nL 167.776686 3473.218434 \nz\n\" style=\"fill:#d9e6f5;stroke:#444443;stroke-linejoin:miter;stroke-width:0.5;\"/>\n   </g>\n   <g id=\"patch_224\">\n    <path clip-path=\"url(#pfa1a272ceb)\" d=\"M 167.776686 3474.647154 \nL 167.543115 3474.647154 \nL 167.543115 3488.934354 \nL 167.776686 3488.934354 \nz\n\" style=\"fill:#d9e6f5;stroke:#444443;stroke-linejoin:miter;stroke-width:0.5;\"/>\n   </g>\n   <g id=\"patch_225\">\n    <path clip-path=\"url(#pfa1a272ceb)\" d=\"M 167.776686 3490.363074 \nL 167.543115 3490.363074 \nL 167.543115 3504.650275 \nL 167.776686 3504.650275 \nz\n\" style=\"fill:#d9e6f5;stroke:#444443;stroke-linejoin:miter;stroke-width:0.5;\"/>\n   </g>\n   <g id=\"patch_226\">\n    <path clip-path=\"url(#pfa1a272ceb)\" d=\"M 167.776686 3506.078995 \nL 167.543115 3506.078995 \nL 167.543115 3520.366195 \nL 167.776686 3520.366195 \nz\n\" style=\"fill:#d9e6f5;stroke:#444443;stroke-linejoin:miter;stroke-width:0.5;\"/>\n   </g>\n   <g id=\"patch_227\">\n    <path clip-path=\"url(#pfa1a272ceb)\" d=\"M 167.776686 3521.794915 \nL 167.543115 3521.794915 \nL 167.543115 3536.082116 \nL 167.776686 3536.082116 \nz\n\" style=\"fill:#d9e6f5;stroke:#444443;stroke-linejoin:miter;stroke-width:0.5;\"/>\n   </g>\n   <g id=\"patch_228\">\n    <path clip-path=\"url(#pfa1a272ceb)\" d=\"M 167.776686 3537.510836 \nL 167.543115 3537.510836 \nL 167.543115 3551.798036 \nL 167.776686 3551.798036 \nz\n\" style=\"fill:#d9e6f5;stroke:#444443;stroke-linejoin:miter;stroke-width:0.5;\"/>\n   </g>\n   <g id=\"patch_229\">\n    <path clip-path=\"url(#pfa1a272ceb)\" d=\"M 167.776686 3553.226756 \nL 167.543115 3553.226756 \nL 167.543115 3567.513957 \nL 167.776686 3567.513957 \nz\n\" style=\"fill:#d9e6f5;stroke:#444443;stroke-linejoin:miter;stroke-width:0.5;\"/>\n   </g>\n   <g id=\"patch_230\">\n    <path clip-path=\"url(#pfa1a272ceb)\" d=\"M 167.776686 3568.942677 \nL 167.543115 3568.942677 \nL 167.543115 3583.229877 \nL 167.776686 3583.229877 \nz\n\" style=\"fill:#d9e6f5;stroke:#444443;stroke-linejoin:miter;stroke-width:0.5;\"/>\n   </g>\n   <g id=\"patch_231\">\n    <path clip-path=\"url(#pfa1a272ceb)\" d=\"M 167.776686 3584.658597 \nL 167.543115 3584.658597 \nL 167.543115 3598.945798 \nL 167.776686 3598.945798 \nz\n\" style=\"fill:#d9e6f5;stroke:#444443;stroke-linejoin:miter;stroke-width:0.5;\"/>\n   </g>\n   <g id=\"patch_232\">\n    <path clip-path=\"url(#pfa1a272ceb)\" d=\"M 167.776686 3600.374518 \nL 167.543115 3600.374518 \nL 167.543115 3614.661718 \nL 167.776686 3614.661718 \nz\n\" style=\"fill:#d9e6f5;stroke:#444443;stroke-linejoin:miter;stroke-width:0.5;\"/>\n   </g>\n   <g id=\"patch_233\">\n    <path clip-path=\"url(#pfa1a272ceb)\" d=\"M 167.776686 3616.090438 \nL 167.543115 3616.090438 \nL 167.543115 3630.377639 \nL 167.776686 3630.377639 \nz\n\" style=\"fill:#d9e6f5;stroke:#444443;stroke-linejoin:miter;stroke-width:0.5;\"/>\n   </g>\n   <g id=\"patch_234\">\n    <path clip-path=\"url(#pfa1a272ceb)\" d=\"M 167.776686 3631.806359 \nL 167.543115 3631.806359 \nL 167.543115 3646.093559 \nL 167.776686 3646.093559 \nz\n\" style=\"fill:#d9e6f5;stroke:#444443;stroke-linejoin:miter;stroke-width:0.5;\"/>\n   </g>\n   <g id=\"patch_235\">\n    <path clip-path=\"url(#pfa1a272ceb)\" d=\"M 167.776686 3647.522279 \nL 167.543115 3647.522279 \nL 167.543115 3661.80948 \nL 167.776686 3661.80948 \nz\n\" style=\"fill:#d9e6f5;stroke:#444443;stroke-linejoin:miter;stroke-width:0.5;\"/>\n   </g>\n   <g id=\"patch_236\">\n    <path clip-path=\"url(#pfa1a272ceb)\" d=\"M 167.776686 3663.2382 \nL 167.543115 3663.2382 \nL 167.543115 3677.5254 \nL 167.776686 3677.5254 \nz\n\" style=\"fill:#d9e6f5;stroke:#444443;stroke-linejoin:miter;stroke-width:0.5;\"/>\n   </g>\n   <g id=\"patch_237\">\n    <path clip-path=\"url(#pfa1a272ceb)\" d=\"M 167.776686 3678.95412 \nL 167.543115 3678.95412 \nL 167.543115 3693.241321 \nL 167.776686 3693.241321 \nz\n\" style=\"fill:#d9e6f5;stroke:#444443;stroke-linejoin:miter;stroke-width:0.5;\"/>\n   </g>\n   <g id=\"patch_238\">\n    <path clip-path=\"url(#pfa1a272ceb)\" d=\"M 167.776686 3694.670041 \nL 167.543115 3694.670041 \nL 167.543115 3708.957241 \nL 167.776686 3708.957241 \nz\n\" style=\"fill:#d9e6f5;stroke:#444443;stroke-linejoin:miter;stroke-width:0.5;\"/>\n   </g>\n   <g id=\"patch_239\">\n    <path clip-path=\"url(#pfa1a272ceb)\" d=\"M 167.776686 3710.385961 \nL 167.543115 3710.385961 \nL 167.543115 3724.673162 \nL 167.776686 3724.673162 \nz\n\" style=\"fill:#d9e6f5;stroke:#444443;stroke-linejoin:miter;stroke-width:0.5;\"/>\n   </g>\n   <g id=\"patch_240\">\n    <path clip-path=\"url(#pfa1a272ceb)\" d=\"M 167.776686 3726.101882 \nL 167.543115 3726.101882 \nL 167.543115 3740.389082 \nL 167.776686 3740.389082 \nz\n\" style=\"fill:#d9e6f5;stroke:#444443;stroke-linejoin:miter;stroke-width:0.5;\"/>\n   </g>\n   <g id=\"patch_241\">\n    <path clip-path=\"url(#pfa1a272ceb)\" d=\"M 167.776686 3741.817802 \nL 167.543115 3741.817802 \nL 167.543115 3756.105003 \nL 167.776686 3756.105003 \nz\n\" style=\"fill:#d9e6f5;stroke:#444443;stroke-linejoin:miter;stroke-width:0.5;\"/>\n   </g>\n   <g id=\"patch_242\">\n    <path clip-path=\"url(#pfa1a272ceb)\" d=\"M 167.776686 3757.533723 \nL 167.543115 3757.533723 \nL 167.543115 3771.820923 \nL 167.776686 3771.820923 \nz\n\" style=\"fill:#d9e6f5;stroke:#444443;stroke-linejoin:miter;stroke-width:0.5;\"/>\n   </g>\n   <g id=\"patch_243\">\n    <path clip-path=\"url(#pfa1a272ceb)\" d=\"M 167.776686 3773.249643 \nL 167.543115 3773.249643 \nL 167.543115 3787.536844 \nL 167.776686 3787.536844 \nz\n\" style=\"fill:#d9e6f5;stroke:#444443;stroke-linejoin:miter;stroke-width:0.5;\"/>\n   </g>\n   <g id=\"patch_244\">\n    <path clip-path=\"url(#pfa1a272ceb)\" d=\"M 167.776686 3788.965564 \nL 167.543115 3788.965564 \nL 167.543115 3803.252764 \nL 167.776686 3803.252764 \nz\n\" style=\"fill:#d9e6f5;stroke:#444443;stroke-linejoin:miter;stroke-width:0.5;\"/>\n   </g>\n   <g id=\"patch_245\">\n    <path clip-path=\"url(#pfa1a272ceb)\" d=\"M 167.776686 3804.681485 \nL 167.543115 3804.681485 \nL 167.543115 3818.968685 \nL 167.776686 3818.968685 \nz\n\" style=\"fill:#d9e6f5;stroke:#444443;stroke-linejoin:miter;stroke-width:0.5;\"/>\n   </g>\n   <g id=\"patch_246\">\n    <path clip-path=\"url(#pfa1a272ceb)\" d=\"M 167.776686 3820.397405 \nL 167.543115 3820.397405 \nL 167.543115 3834.684605 \nL 167.776686 3834.684605 \nz\n\" style=\"fill:#d9e6f5;stroke:#444443;stroke-linejoin:miter;stroke-width:0.5;\"/>\n   </g>\n   <g id=\"patch_247\">\n    <path clip-path=\"url(#pfa1a272ceb)\" d=\"M 167.776686 3836.113326 \nL 167.543115 3836.113326 \nL 167.543115 3850.400526 \nL 167.776686 3850.400526 \nz\n\" style=\"fill:#d9e6f5;stroke:#444443;stroke-linejoin:miter;stroke-width:0.5;\"/>\n   </g>\n   <g id=\"patch_248\">\n    <path clip-path=\"url(#pfa1a272ceb)\" d=\"M 167.776686 3851.829246 \nL 167.543115 3851.829246 \nL 167.543115 3866.116447 \nL 167.776686 3866.116447 \nz\n\" style=\"fill:#d9e6f5;stroke:#444443;stroke-linejoin:miter;stroke-width:0.5;\"/>\n   </g>\n   <g id=\"patch_249\">\n    <path clip-path=\"url(#pfa1a272ceb)\" d=\"M 167.776686 3867.545167 \nL 167.543115 3867.545167 \nL 167.543115 3881.832367 \nL 167.776686 3881.832367 \nz\n\" style=\"fill:#d9e6f5;stroke:#444443;stroke-linejoin:miter;stroke-width:0.5;\"/>\n   </g>\n   <g id=\"patch_250\">\n    <path clip-path=\"url(#pfa1a272ceb)\" d=\"M 167.776686 3883.261087 \nL 167.543115 3883.261087 \nL 167.543115 3897.548288 \nL 167.776686 3897.548288 \nz\n\" style=\"fill:#d9e6f5;stroke:#444443;stroke-linejoin:miter;stroke-width:0.5;\"/>\n   </g>\n   <g id=\"patch_251\">\n    <path clip-path=\"url(#pfa1a272ceb)\" d=\"M 167.776686 3898.977008 \nL 167.543115 3898.977008 \nL 167.543115 3913.264208 \nL 167.776686 3913.264208 \nz\n\" style=\"fill:#d9e6f5;stroke:#444443;stroke-linejoin:miter;stroke-width:0.5;\"/>\n   </g>\n   <g id=\"patch_252\">\n    <path clip-path=\"url(#pfa1a272ceb)\" d=\"M 167.776686 3914.692928 \nL 167.543115 3914.692928 \nL 167.543115 3928.980129 \nL 167.776686 3928.980129 \nz\n\" style=\"fill:#d9e6f5;stroke:#444443;stroke-linejoin:miter;stroke-width:0.5;\"/>\n   </g>\n   <g id=\"patch_253\">\n    <path clip-path=\"url(#pfa1a272ceb)\" d=\"M 167.776686 3930.408849 \nL 167.543115 3930.408849 \nL 167.543115 3944.696049 \nL 167.776686 3944.696049 \nz\n\" style=\"fill:#d9e6f5;stroke:#444443;stroke-linejoin:miter;stroke-width:0.5;\"/>\n   </g>\n   <g id=\"patch_254\">\n    <path clip-path=\"url(#pfa1a272ceb)\" d=\"M 167.776686 3946.124769 \nL 167.543115 3946.124769 \nL 167.543115 3960.41197 \nL 167.776686 3960.41197 \nz\n\" style=\"fill:#d9e6f5;stroke:#444443;stroke-linejoin:miter;stroke-width:0.5;\"/>\n   </g>\n   <g id=\"patch_255\">\n    <path clip-path=\"url(#pfa1a272ceb)\" d=\"M 167.776686 3961.84069 \nL 167.42633 3961.84069 \nL 167.42633 3976.12789 \nL 167.776686 3976.12789 \nz\n\" style=\"fill:#d9e6f5;stroke:#444443;stroke-linejoin:miter;stroke-width:0.5;\"/>\n   </g>\n   <g id=\"patch_256\">\n    <path clip-path=\"url(#pfa1a272ceb)\" d=\"M 167.776686 3977.55661 \nL 167.42633 3977.55661 \nL 167.42633 3991.843811 \nL 167.776686 3991.843811 \nz\n\" style=\"fill:#d9e6f5;stroke:#444443;stroke-linejoin:miter;stroke-width:0.5;\"/>\n   </g>\n   <g id=\"patch_257\">\n    <path clip-path=\"url(#pfa1a272ceb)\" d=\"M 167.776686 3993.272531 \nL 167.42633 3993.272531 \nL 167.42633 4007.559731 \nL 167.776686 4007.559731 \nz\n\" style=\"fill:#d9e6f5;stroke:#444443;stroke-linejoin:miter;stroke-width:0.5;\"/>\n   </g>\n   <g id=\"patch_258\">\n    <path clip-path=\"url(#pfa1a272ceb)\" d=\"M 167.776686 4008.988451 \nL 167.42633 4008.988451 \nL 167.42633 4023.275652 \nL 167.776686 4023.275652 \nz\n\" style=\"fill:#d9e6f5;stroke:#444443;stroke-linejoin:miter;stroke-width:0.5;\"/>\n   </g>\n   <g id=\"patch_259\">\n    <path clip-path=\"url(#pfa1a272ceb)\" d=\"M 167.776686 4024.704372 \nL 167.42633 4024.704372 \nL 167.42633 4038.991572 \nL 167.776686 4038.991572 \nz\n\" style=\"fill:#d9e6f5;stroke:#444443;stroke-linejoin:miter;stroke-width:0.5;\"/>\n   </g>\n   <g id=\"patch_260\">\n    <path clip-path=\"url(#pfa1a272ceb)\" d=\"M 167.776686 4040.420292 \nL 167.42633 4040.420292 \nL 167.42633 4054.707493 \nL 167.776686 4054.707493 \nz\n\" style=\"fill:#d9e6f5;stroke:#444443;stroke-linejoin:miter;stroke-width:0.5;\"/>\n   </g>\n   <g id=\"patch_261\">\n    <path clip-path=\"url(#pfa1a272ceb)\" d=\"M 167.776686 4056.136213 \nL 167.42633 4056.136213 \nL 167.42633 4070.423413 \nL 167.776686 4070.423413 \nz\n\" style=\"fill:#d9e6f5;stroke:#444443;stroke-linejoin:miter;stroke-width:0.5;\"/>\n   </g>\n   <g id=\"patch_262\">\n    <path clip-path=\"url(#pfa1a272ceb)\" d=\"M 167.776686 4071.852133 \nL 167.42633 4071.852133 \nL 167.42633 4086.139334 \nL 167.776686 4086.139334 \nz\n\" style=\"fill:#d9e6f5;stroke:#444443;stroke-linejoin:miter;stroke-width:0.5;\"/>\n   </g>\n   <g id=\"patch_263\">\n    <path clip-path=\"url(#pfa1a272ceb)\" d=\"M 167.776686 4087.568054 \nL 167.42633 4087.568054 \nL 167.42633 4101.855254 \nL 167.776686 4101.855254 \nz\n\" style=\"fill:#d9e6f5;stroke:#444443;stroke-linejoin:miter;stroke-width:0.5;\"/>\n   </g>\n   <g id=\"patch_264\">\n    <path clip-path=\"url(#pfa1a272ceb)\" d=\"M 167.776686 4103.283974 \nL 167.42633 4103.283974 \nL 167.42633 4117.571175 \nL 167.776686 4117.571175 \nz\n\" style=\"fill:#d9e6f5;stroke:#444443;stroke-linejoin:miter;stroke-width:0.5;\"/>\n   </g>\n   <g id=\"patch_265\">\n    <path clip-path=\"url(#pfa1a272ceb)\" d=\"M 167.776686 4118.999895 \nL 167.42633 4118.999895 \nL 167.42633 4133.287095 \nL 167.776686 4133.287095 \nz\n\" style=\"fill:#d9e6f5;stroke:#444443;stroke-linejoin:miter;stroke-width:0.5;\"/>\n   </g>\n   <g id=\"patch_266\">\n    <path clip-path=\"url(#pfa1a272ceb)\" d=\"M 167.776686 4134.715815 \nL 167.42633 4134.715815 \nL 167.42633 4149.003016 \nL 167.776686 4149.003016 \nz\n\" style=\"fill:#d9e6f5;stroke:#444443;stroke-linejoin:miter;stroke-width:0.5;\"/>\n   </g>\n   <g id=\"patch_267\">\n    <path clip-path=\"url(#pfa1a272ceb)\" d=\"M 167.776686 4150.431736 \nL 167.42633 4150.431736 \nL 167.42633 4164.718936 \nL 167.776686 4164.718936 \nz\n\" style=\"fill:#d9e6f5;stroke:#444443;stroke-linejoin:miter;stroke-width:0.5;\"/>\n   </g>\n   <g id=\"patch_268\">\n    <path clip-path=\"url(#pfa1a272ceb)\" d=\"M 167.776686 4166.147656 \nL 167.42633 4166.147656 \nL 167.42633 4180.434857 \nL 167.776686 4180.434857 \nz\n\" style=\"fill:#d9e6f5;stroke:#444443;stroke-linejoin:miter;stroke-width:0.5;\"/>\n   </g>\n   <g id=\"patch_269\">\n    <path clip-path=\"url(#pfa1a272ceb)\" d=\"M 167.776686 4181.863577 \nL 167.42633 4181.863577 \nL 167.42633 4196.150777 \nL 167.776686 4196.150777 \nz\n\" style=\"fill:#d9e6f5;stroke:#444443;stroke-linejoin:miter;stroke-width:0.5;\"/>\n   </g>\n   <g id=\"patch_270\">\n    <path clip-path=\"url(#pfa1a272ceb)\" d=\"M 167.776686 4197.579497 \nL 167.42633 4197.579497 \nL 167.42633 4211.866698 \nL 167.776686 4211.866698 \nz\n\" style=\"fill:#d9e6f5;stroke:#444443;stroke-linejoin:miter;stroke-width:0.5;\"/>\n   </g>\n   <g id=\"patch_271\">\n    <path clip-path=\"url(#pfa1a272ceb)\" d=\"M 167.776686 4213.295418 \nL 167.42633 4213.295418 \nL 167.42633 4227.582618 \nL 167.776686 4227.582618 \nz\n\" style=\"fill:#d9e6f5;stroke:#444443;stroke-linejoin:miter;stroke-width:0.5;\"/>\n   </g>\n   <g id=\"patch_272\">\n    <path clip-path=\"url(#pfa1a272ceb)\" d=\"M 167.776686 4229.011338 \nL 167.42633 4229.011338 \nL 167.42633 4243.298539 \nL 167.776686 4243.298539 \nz\n\" style=\"fill:#d9e6f5;stroke:#444443;stroke-linejoin:miter;stroke-width:0.5;\"/>\n   </g>\n   <g id=\"patch_273\">\n    <path clip-path=\"url(#pfa1a272ceb)\" d=\"M 167.776686 4244.727259 \nL 167.42633 4244.727259 \nL 167.42633 4259.014459 \nL 167.776686 4259.014459 \nz\n\" style=\"fill:#d9e6f5;stroke:#444443;stroke-linejoin:miter;stroke-width:0.5;\"/>\n   </g>\n   <g id=\"patch_274\">\n    <path clip-path=\"url(#pfa1a272ceb)\" d=\"M 167.776686 4260.443179 \nL 167.42633 4260.443179 \nL 167.42633 4274.73038 \nL 167.776686 4274.73038 \nz\n\" style=\"fill:#d9e6f5;stroke:#444443;stroke-linejoin:miter;stroke-width:0.5;\"/>\n   </g>\n   <g id=\"patch_275\">\n    <path clip-path=\"url(#pfa1a272ceb)\" d=\"M 167.776686 4276.1591 \nL 167.42633 4276.1591 \nL 167.42633 4290.4463 \nL 167.776686 4290.4463 \nz\n\" style=\"fill:#d9e6f5;stroke:#444443;stroke-linejoin:miter;stroke-width:0.5;\"/>\n   </g>\n   <g id=\"patch_276\">\n    <path clip-path=\"url(#pfa1a272ceb)\" d=\"M 167.776686 4291.87502 \nL 167.42633 4291.87502 \nL 167.42633 4306.162221 \nL 167.776686 4306.162221 \nz\n\" style=\"fill:#d9e6f5;stroke:#444443;stroke-linejoin:miter;stroke-width:0.5;\"/>\n   </g>\n   <g id=\"patch_277\">\n    <path clip-path=\"url(#pfa1a272ceb)\" d=\"M 167.776686 4307.590941 \nL 167.309545 4307.590941 \nL 167.309545 4321.878141 \nL 167.776686 4321.878141 \nz\n\" style=\"fill:#d9e6f5;stroke:#444443;stroke-linejoin:miter;stroke-width:0.5;\"/>\n   </g>\n   <g id=\"patch_278\">\n    <path clip-path=\"url(#pfa1a272ceb)\" d=\"M 167.776686 4323.306861 \nL 167.309545 4323.306861 \nL 167.309545 4337.594062 \nL 167.776686 4337.594062 \nz\n\" style=\"fill:#d9e6f5;stroke:#444443;stroke-linejoin:miter;stroke-width:0.5;\"/>\n   </g>\n   <g id=\"patch_279\">\n    <path clip-path=\"url(#pfa1a272ceb)\" d=\"M 167.776686 4339.022782 \nL 167.309545 4339.022782 \nL 167.309545 4353.309982 \nL 167.776686 4353.309982 \nz\n\" style=\"fill:#d9e6f5;stroke:#444443;stroke-linejoin:miter;stroke-width:0.5;\"/>\n   </g>\n   <g id=\"patch_280\">\n    <path clip-path=\"url(#pfa1a272ceb)\" d=\"M 167.776686 4354.738703 \nL 167.309545 4354.738703 \nL 167.309545 4369.025903 \nL 167.776686 4369.025903 \nz\n\" style=\"fill:#d9e6f5;stroke:#444443;stroke-linejoin:miter;stroke-width:0.5;\"/>\n   </g>\n   <g id=\"patch_281\">\n    <path clip-path=\"url(#pfa1a272ceb)\" d=\"M 167.776686 4370.454623 \nL 167.309545 4370.454623 \nL 167.309545 4384.741823 \nL 167.776686 4384.741823 \nz\n\" style=\"fill:#d9e6f5;stroke:#444443;stroke-linejoin:miter;stroke-width:0.5;\"/>\n   </g>\n   <g id=\"patch_282\">\n    <path clip-path=\"url(#pfa1a272ceb)\" d=\"M 167.776686 4386.170544 \nL 167.309545 4386.170544 \nL 167.309545 4400.457744 \nL 167.776686 4400.457744 \nz\n\" style=\"fill:#d9e6f5;stroke:#444443;stroke-linejoin:miter;stroke-width:0.5;\"/>\n   </g>\n   <g id=\"patch_283\">\n    <path clip-path=\"url(#pfa1a272ceb)\" d=\"M 167.776686 4401.886464 \nL 167.309545 4401.886464 \nL 167.309545 4416.173665 \nL 167.776686 4416.173665 \nz\n\" style=\"fill:#d9e6f5;stroke:#444443;stroke-linejoin:miter;stroke-width:0.5;\"/>\n   </g>\n   <g id=\"patch_284\">\n    <path clip-path=\"url(#pfa1a272ceb)\" d=\"M 167.776686 4417.602385 \nL 167.309545 4417.602385 \nL 167.309545 4431.889585 \nL 167.776686 4431.889585 \nz\n\" style=\"fill:#d9e6f5;stroke:#444443;stroke-linejoin:miter;stroke-width:0.5;\"/>\n   </g>\n   <g id=\"patch_285\">\n    <path clip-path=\"url(#pfa1a272ceb)\" d=\"M 167.776686 4433.318305 \nL 167.309545 4433.318305 \nL 167.309545 4447.605506 \nL 167.776686 4447.605506 \nz\n\" style=\"fill:#d9e6f5;stroke:#444443;stroke-linejoin:miter;stroke-width:0.5;\"/>\n   </g>\n   <g id=\"patch_286\">\n    <path clip-path=\"url(#pfa1a272ceb)\" d=\"M 167.776686 4449.034226 \nL 167.309545 4449.034226 \nL 167.309545 4463.321426 \nL 167.776686 4463.321426 \nz\n\" style=\"fill:#d9e6f5;stroke:#444443;stroke-linejoin:miter;stroke-width:0.5;\"/>\n   </g>\n   <g id=\"patch_287\">\n    <path clip-path=\"url(#pfa1a272ceb)\" d=\"M 167.776686 4464.750146 \nL 167.309545 4464.750146 \nL 167.309545 4479.037347 \nL 167.776686 4479.037347 \nz\n\" style=\"fill:#d9e6f5;stroke:#444443;stroke-linejoin:miter;stroke-width:0.5;\"/>\n   </g>\n   <g id=\"patch_288\">\n    <path clip-path=\"url(#pfa1a272ceb)\" d=\"M 167.776686 4480.466067 \nL 167.309545 4480.466067 \nL 167.309545 4494.753267 \nL 167.776686 4494.753267 \nz\n\" style=\"fill:#d9e6f5;stroke:#444443;stroke-linejoin:miter;stroke-width:0.5;\"/>\n   </g>\n   <g id=\"patch_289\">\n    <path clip-path=\"url(#pfa1a272ceb)\" d=\"M 167.776686 4496.181987 \nL 167.309545 4496.181987 \nL 167.309545 4510.469188 \nL 167.776686 4510.469188 \nz\n\" style=\"fill:#d9e6f5;stroke:#444443;stroke-linejoin:miter;stroke-width:0.5;\"/>\n   </g>\n   <g id=\"patch_290\">\n    <path clip-path=\"url(#pfa1a272ceb)\" d=\"M 167.776686 4511.897908 \nL 167.309545 4511.897908 \nL 167.309545 4526.185108 \nL 167.776686 4526.185108 \nz\n\" style=\"fill:#d9e6f5;stroke:#444443;stroke-linejoin:miter;stroke-width:0.5;\"/>\n   </g>\n   <g id=\"patch_291\">\n    <path clip-path=\"url(#pfa1a272ceb)\" d=\"M 167.776686 4527.613828 \nL 167.309545 4527.613828 \nL 167.309545 4541.901029 \nL 167.776686 4541.901029 \nz\n\" style=\"fill:#d9e6f5;stroke:#444443;stroke-linejoin:miter;stroke-width:0.5;\"/>\n   </g>\n   <g id=\"patch_292\">\n    <path clip-path=\"url(#pfa1a272ceb)\" d=\"M 167.776686 4543.329749 \nL 167.309545 4543.329749 \nL 167.309545 4557.616949 \nL 167.776686 4557.616949 \nz\n\" style=\"fill:#d9e6f5;stroke:#444443;stroke-linejoin:miter;stroke-width:0.5;\"/>\n   </g>\n   <g id=\"patch_293\">\n    <path clip-path=\"url(#pfa1a272ceb)\" d=\"M 167.776686 4559.045669 \nL 167.309545 4559.045669 \nL 167.309545 4573.33287 \nL 167.776686 4573.33287 \nz\n\" style=\"fill:#d9e6f5;stroke:#444443;stroke-linejoin:miter;stroke-width:0.5;\"/>\n   </g>\n   <g id=\"patch_294\">\n    <path clip-path=\"url(#pfa1a272ceb)\" d=\"M 167.776686 4574.76159 \nL 167.309545 4574.76159 \nL 167.309545 4589.04879 \nL 167.776686 4589.04879 \nz\n\" style=\"fill:#d9e6f5;stroke:#444443;stroke-linejoin:miter;stroke-width:0.5;\"/>\n   </g>\n   <g id=\"patch_295\">\n    <path clip-path=\"url(#pfa1a272ceb)\" d=\"M 167.776686 4590.47751 \nL 167.19276 4590.47751 \nL 167.19276 4604.764711 \nL 167.776686 4604.764711 \nz\n\" style=\"fill:#d9e6f5;stroke:#444443;stroke-linejoin:miter;stroke-width:0.5;\"/>\n   </g>\n   <g id=\"patch_296\">\n    <path clip-path=\"url(#pfa1a272ceb)\" d=\"M 167.776686 4606.193431 \nL 167.19276 4606.193431 \nL 167.19276 4620.480631 \nL 167.776686 4620.480631 \nz\n\" style=\"fill:#d9e6f5;stroke:#444443;stroke-linejoin:miter;stroke-width:0.5;\"/>\n   </g>\n   <g id=\"patch_297\">\n    <path clip-path=\"url(#pfa1a272ceb)\" d=\"M 167.776686 4621.909351 \nL 167.19276 4621.909351 \nL 167.19276 4636.196552 \nL 167.776686 4636.196552 \nz\n\" style=\"fill:#d9e6f5;stroke:#444443;stroke-linejoin:miter;stroke-width:0.5;\"/>\n   </g>\n   <g id=\"patch_298\">\n    <path clip-path=\"url(#pfa1a272ceb)\" d=\"M 167.776686 4637.625272 \nL 167.19276 4637.625272 \nL 167.19276 4651.912472 \nL 167.776686 4651.912472 \nz\n\" style=\"fill:#d9e6f5;stroke:#444443;stroke-linejoin:miter;stroke-width:0.5;\"/>\n   </g>\n   <g id=\"patch_299\">\n    <path clip-path=\"url(#pfa1a272ceb)\" d=\"M 167.776686 4653.341192 \nL 167.19276 4653.341192 \nL 167.19276 4667.628393 \nL 167.776686 4667.628393 \nz\n\" style=\"fill:#d9e6f5;stroke:#444443;stroke-linejoin:miter;stroke-width:0.5;\"/>\n   </g>\n   <g id=\"patch_300\">\n    <path clip-path=\"url(#pfa1a272ceb)\" d=\"M 167.776686 4669.057113 \nL 167.19276 4669.057113 \nL 167.19276 4683.344313 \nL 167.776686 4683.344313 \nz\n\" style=\"fill:#d9e6f5;stroke:#444443;stroke-linejoin:miter;stroke-width:0.5;\"/>\n   </g>\n   <g id=\"patch_301\">\n    <path clip-path=\"url(#pfa1a272ceb)\" d=\"M 167.776686 4684.773033 \nL 167.19276 4684.773033 \nL 167.19276 4699.060234 \nL 167.776686 4699.060234 \nz\n\" style=\"fill:#d9e6f5;stroke:#444443;stroke-linejoin:miter;stroke-width:0.5;\"/>\n   </g>\n   <g id=\"patch_302\">\n    <path clip-path=\"url(#pfa1a272ceb)\" d=\"M 167.776686 4700.488954 \nL 167.075974 4700.488954 \nL 167.075974 4714.776154 \nL 167.776686 4714.776154 \nz\n\" style=\"fill:#d9e6f5;stroke:#444443;stroke-linejoin:miter;stroke-width:0.5;\"/>\n   </g>\n   <g id=\"patch_303\">\n    <path clip-path=\"url(#pfa1a272ceb)\" d=\"M 167.776686 4716.204874 \nL 167.075974 4716.204874 \nL 167.075974 4730.492075 \nL 167.776686 4730.492075 \nz\n\" style=\"fill:#d9e6f5;stroke:#444443;stroke-linejoin:miter;stroke-width:0.5;\"/>\n   </g>\n   <g id=\"patch_304\">\n    <path clip-path=\"url(#pfa1a272ceb)\" d=\"M 167.776686 4731.920795 \nL 167.075974 4731.920795 \nL 167.075974 4746.207995 \nL 167.776686 4746.207995 \nz\n\" style=\"fill:#d9e6f5;stroke:#444443;stroke-linejoin:miter;stroke-width:0.5;\"/>\n   </g>\n   <g id=\"patch_305\">\n    <path clip-path=\"url(#pfa1a272ceb)\" d=\"M 167.776686 4747.636715 \nL 167.075974 4747.636715 \nL 167.075974 4761.923916 \nL 167.776686 4761.923916 \nz\n\" style=\"fill:#d9e6f5;stroke:#444443;stroke-linejoin:miter;stroke-width:0.5;\"/>\n   </g>\n   <g id=\"patch_306\">\n    <path clip-path=\"url(#pfa1a272ceb)\" d=\"M 167.776686 4763.352636 \nL 166.959189 4763.352636 \nL 166.959189 4777.639836 \nL 167.776686 4777.639836 \nz\n\" style=\"fill:#d9e6f5;stroke:#444443;stroke-linejoin:miter;stroke-width:0.5;\"/>\n   </g>\n   <g id=\"patch_307\">\n    <path clip-path=\"url(#pfa1a272ceb)\" d=\"M 167.776686 4779.068556 \nL 166.842404 4779.068556 \nL 166.842404 4793.355757 \nL 167.776686 4793.355757 \nz\n\" style=\"fill:#d9e6f5;stroke:#444443;stroke-linejoin:miter;stroke-width:0.5;\"/>\n   </g>\n   <g id=\"patch_308\">\n    <path clip-path=\"url(#pfa1a272ceb)\" d=\"M 167.776686 4794.784477 \nL 166.842404 4794.784477 \nL 166.842404 4809.071677 \nL 167.776686 4809.071677 \nz\n\" style=\"fill:#d9e6f5;stroke:#444443;stroke-linejoin:miter;stroke-width:0.5;\"/>\n   </g>\n   <g id=\"patch_309\">\n    <path clip-path=\"url(#pfa1a272ceb)\" d=\"M 167.776686 4810.500397 \nL 166.842404 4810.500397 \nL 166.842404 4824.787598 \nL 167.776686 4824.787598 \nz\n\" style=\"fill:#d9e6f5;stroke:#444443;stroke-linejoin:miter;stroke-width:0.5;\"/>\n   </g>\n   <g id=\"patch_310\">\n    <path clip-path=\"url(#pfa1a272ceb)\" d=\"M 167.776686 4826.216318 \nL 166.842404 4826.216318 \nL 166.842404 4840.503518 \nL 167.776686 4840.503518 \nz\n\" style=\"fill:#d9e6f5;stroke:#444443;stroke-linejoin:miter;stroke-width:0.5;\"/>\n   </g>\n   <g id=\"patch_311\">\n    <path clip-path=\"url(#pfa1a272ceb)\" d=\"M 167.776686 4841.932238 \nL 166.725619 4841.932238 \nL 166.725619 4856.219439 \nL 167.776686 4856.219439 \nz\n\" style=\"fill:#d9e6f5;stroke:#444443;stroke-linejoin:miter;stroke-width:0.5;\"/>\n   </g>\n   <g id=\"patch_312\">\n    <path clip-path=\"url(#pfa1a272ceb)\" d=\"M 167.776686 4857.648159 \nL 166.608833 4857.648159 \nL 166.608833 4871.935359 \nL 167.776686 4871.935359 \nz\n\" style=\"fill:#d9e6f5;stroke:#444443;stroke-linejoin:miter;stroke-width:0.5;\"/>\n   </g>\n   <g id=\"patch_313\">\n    <path clip-path=\"url(#pfa1a272ceb)\" d=\"M 167.776686 4873.364079 \nL 166.258478 4873.364079 \nL 166.258478 4887.65128 \nL 167.776686 4887.65128 \nz\n\" style=\"fill:#d9e6f5;stroke:#444443;stroke-linejoin:miter;stroke-width:0.5;\"/>\n   </g>\n   <g id=\"matplotlib.axis_1\">\n    <g id=\"xtick_1\">\n     <g id=\"line2d_1\">\n      <defs>\n       <path d=\"M 0 0 \nL 0 3.5 \n\" id=\"ma74d9b15d6\" style=\"stroke:#000000;stroke-width:0.8;\"/>\n      </defs>\n      <g>\n       <use style=\"stroke:#000000;stroke-width:0.8;\" x=\"167.776686\" xlink:href=\"#ma74d9b15d6\" y=\"4889.08\"/>\n      </g>\n     </g>\n     <g id=\"text_1\">\n      <!-- 0.00 -->\n      <defs>\n       <path d=\"M 31.78125 66.40625 \nQ 24.171875 66.40625 20.328125 58.90625 \nQ 16.5 51.421875 16.5 36.375 \nQ 16.5 21.390625 20.328125 13.890625 \nQ 24.171875 6.390625 31.78125 6.390625 \nQ 39.453125 6.390625 43.28125 13.890625 \nQ 47.125 21.390625 47.125 36.375 \nQ 47.125 51.421875 43.28125 58.90625 \nQ 39.453125 66.40625 31.78125 66.40625 \nz\nM 31.78125 74.21875 \nQ 44.046875 74.21875 50.515625 64.515625 \nQ 56.984375 54.828125 56.984375 36.375 \nQ 56.984375 17.96875 50.515625 8.265625 \nQ 44.046875 -1.421875 31.78125 -1.421875 \nQ 19.53125 -1.421875 13.0625 8.265625 \nQ 6.59375 17.96875 6.59375 36.375 \nQ 6.59375 54.828125 13.0625 64.515625 \nQ 19.53125 74.21875 31.78125 74.21875 \nz\n\" id=\"DejaVuSans-48\"/>\n       <path d=\"M 10.6875 12.40625 \nL 21 12.40625 \nL 21 0 \nL 10.6875 0 \nz\n\" id=\"DejaVuSans-46\"/>\n      </defs>\n      <g style=\"fill:#444443;\" transform=\"translate(156.643873 4903.678438)scale(0.1 -0.1)\">\n       <use xlink:href=\"#DejaVuSans-48\"/>\n       <use x=\"63.623047\" xlink:href=\"#DejaVuSans-46\"/>\n       <use x=\"95.410156\" xlink:href=\"#DejaVuSans-48\"/>\n       <use x=\"159.033203\" xlink:href=\"#DejaVuSans-48\"/>\n      </g>\n     </g>\n    </g>\n    <g id=\"xtick_2\">\n     <g id=\"line2d_2\">\n      <g>\n       <use style=\"stroke:#000000;stroke-width:0.8;\" x=\"223.950392\" xlink:href=\"#ma74d9b15d6\" y=\"4889.08\"/>\n      </g>\n     </g>\n     <g id=\"text_2\">\n      <!-- 0.10 -->\n      <defs>\n       <path d=\"M 12.40625 8.296875 \nL 28.515625 8.296875 \nL 28.515625 63.921875 \nL 10.984375 60.40625 \nL 10.984375 69.390625 \nL 28.421875 72.90625 \nL 38.28125 72.90625 \nL 38.28125 8.296875 \nL 54.390625 8.296875 \nL 54.390625 0 \nL 12.40625 0 \nz\n\" id=\"DejaVuSans-49\"/>\n      </defs>\n      <g style=\"fill:#444443;\" transform=\"translate(212.81758 4903.678438)scale(0.1 -0.1)\">\n       <use xlink:href=\"#DejaVuSans-48\"/>\n       <use x=\"63.623047\" xlink:href=\"#DejaVuSans-46\"/>\n       <use x=\"95.410156\" xlink:href=\"#DejaVuSans-49\"/>\n       <use x=\"159.033203\" xlink:href=\"#DejaVuSans-48\"/>\n      </g>\n     </g>\n    </g>\n    <g id=\"xtick_3\">\n     <g id=\"line2d_3\">\n      <g>\n       <use style=\"stroke:#000000;stroke-width:0.8;\" x=\"255.365625\" xlink:href=\"#ma74d9b15d6\" y=\"4889.08\"/>\n      </g>\n     </g>\n     <g id=\"text_3\">\n      <!-- 0.15 -->\n      <defs>\n       <path d=\"M 10.796875 72.90625 \nL 49.515625 72.90625 \nL 49.515625 64.59375 \nL 19.828125 64.59375 \nL 19.828125 46.734375 \nQ 21.96875 47.46875 24.109375 47.828125 \nQ 26.265625 48.1875 28.421875 48.1875 \nQ 40.625 48.1875 47.75 41.5 \nQ 54.890625 34.8125 54.890625 23.390625 \nQ 54.890625 11.625 47.5625 5.09375 \nQ 40.234375 -1.421875 26.90625 -1.421875 \nQ 22.3125 -1.421875 17.546875 -0.640625 \nQ 12.796875 0.140625 7.71875 1.703125 \nL 7.71875 11.625 \nQ 12.109375 9.234375 16.796875 8.0625 \nQ 21.484375 6.890625 26.703125 6.890625 \nQ 35.15625 6.890625 40.078125 11.328125 \nQ 45.015625 15.765625 45.015625 23.390625 \nQ 45.015625 31 40.078125 35.4375 \nQ 35.15625 39.890625 26.703125 39.890625 \nQ 22.75 39.890625 18.8125 39.015625 \nQ 14.890625 38.140625 10.796875 36.28125 \nz\n\" id=\"DejaVuSans-53\"/>\n      </defs>\n      <g style=\"fill:#444443;\" transform=\"translate(244.232813 4903.678438)scale(0.1 -0.1)\">\n       <use xlink:href=\"#DejaVuSans-48\"/>\n       <use x=\"63.623047\" xlink:href=\"#DejaVuSans-46\"/>\n       <use x=\"95.410156\" xlink:href=\"#DejaVuSans-49\"/>\n       <use x=\"159.033203\" xlink:href=\"#DejaVuSans-53\"/>\n      </g>\n     </g>\n    </g>\n   </g>\n   <g id=\"matplotlib.axis_2\">\n    <g id=\"ytick_1\">\n     <g id=\"line2d_4\">\n      <defs>\n       <path d=\"M 0 0 \nL -3.5 0 \n\" id=\"m3b0424a600\" style=\"stroke:#000000;stroke-width:0.8;\"/>\n      </defs>\n      <g>\n       <use style=\"stroke:#000000;stroke-width:0.8;\" x=\"165.090625\" xlink:href=\"#m3b0424a600\" y=\"8.57232\"/>\n      </g>\n     </g>\n     <g id=\"text_4\">\n      <!-- PropertyField37 -->\n      <defs>\n       <path d=\"M 19.671875 64.796875 \nL 19.671875 37.40625 \nL 32.078125 37.40625 \nQ 38.96875 37.40625 42.71875 40.96875 \nQ 46.484375 44.53125 46.484375 51.125 \nQ 46.484375 57.671875 42.71875 61.234375 \nQ 38.96875 64.796875 32.078125 64.796875 \nz\nM 9.8125 72.90625 \nL 32.078125 72.90625 \nQ 44.34375 72.90625 50.609375 67.359375 \nQ 56.890625 61.8125 56.890625 51.125 \nQ 56.890625 40.328125 50.609375 34.8125 \nQ 44.34375 29.296875 32.078125 29.296875 \nL 19.671875 29.296875 \nL 19.671875 0 \nL 9.8125 0 \nz\n\" id=\"DejaVuSans-80\"/>\n       <path d=\"M 41.109375 46.296875 \nQ 39.59375 47.171875 37.8125 47.578125 \nQ 36.03125 48 33.890625 48 \nQ 26.265625 48 22.1875 43.046875 \nQ 18.109375 38.09375 18.109375 28.8125 \nL 18.109375 0 \nL 9.078125 0 \nL 9.078125 54.6875 \nL 18.109375 54.6875 \nL 18.109375 46.1875 \nQ 20.953125 51.171875 25.484375 53.578125 \nQ 30.03125 56 36.53125 56 \nQ 37.453125 56 38.578125 55.875 \nQ 39.703125 55.765625 41.0625 55.515625 \nz\n\" id=\"DejaVuSans-114\"/>\n       <path d=\"M 30.609375 48.390625 \nQ 23.390625 48.390625 19.1875 42.75 \nQ 14.984375 37.109375 14.984375 27.296875 \nQ 14.984375 17.484375 19.15625 11.84375 \nQ 23.34375 6.203125 30.609375 6.203125 \nQ 37.796875 6.203125 41.984375 11.859375 \nQ 46.1875 17.53125 46.1875 27.296875 \nQ 46.1875 37.015625 41.984375 42.703125 \nQ 37.796875 48.390625 30.609375 48.390625 \nz\nM 30.609375 56 \nQ 42.328125 56 49.015625 48.375 \nQ 55.71875 40.765625 55.71875 27.296875 \nQ 55.71875 13.875 49.015625 6.21875 \nQ 42.328125 -1.421875 30.609375 -1.421875 \nQ 18.84375 -1.421875 12.171875 6.21875 \nQ 5.515625 13.875 5.515625 27.296875 \nQ 5.515625 40.765625 12.171875 48.375 \nQ 18.84375 56 30.609375 56 \nz\n\" id=\"DejaVuSans-111\"/>\n       <path d=\"M 18.109375 8.203125 \nL 18.109375 -20.796875 \nL 9.078125 -20.796875 \nL 9.078125 54.6875 \nL 18.109375 54.6875 \nL 18.109375 46.390625 \nQ 20.953125 51.265625 25.265625 53.625 \nQ 29.59375 56 35.59375 56 \nQ 45.5625 56 51.78125 48.09375 \nQ 58.015625 40.1875 58.015625 27.296875 \nQ 58.015625 14.40625 51.78125 6.484375 \nQ 45.5625 -1.421875 35.59375 -1.421875 \nQ 29.59375 -1.421875 25.265625 0.953125 \nQ 20.953125 3.328125 18.109375 8.203125 \nz\nM 48.6875 27.296875 \nQ 48.6875 37.203125 44.609375 42.84375 \nQ 40.53125 48.484375 33.40625 48.484375 \nQ 26.265625 48.484375 22.1875 42.84375 \nQ 18.109375 37.203125 18.109375 27.296875 \nQ 18.109375 17.390625 22.1875 11.75 \nQ 26.265625 6.109375 33.40625 6.109375 \nQ 40.53125 6.109375 44.609375 11.75 \nQ 48.6875 17.390625 48.6875 27.296875 \nz\n\" id=\"DejaVuSans-112\"/>\n       <path d=\"M 56.203125 29.59375 \nL 56.203125 25.203125 \nL 14.890625 25.203125 \nQ 15.484375 15.921875 20.484375 11.0625 \nQ 25.484375 6.203125 34.421875 6.203125 \nQ 39.59375 6.203125 44.453125 7.46875 \nQ 49.3125 8.734375 54.109375 11.28125 \nL 54.109375 2.78125 \nQ 49.265625 0.734375 44.1875 -0.34375 \nQ 39.109375 -1.421875 33.890625 -1.421875 \nQ 20.796875 -1.421875 13.15625 6.1875 \nQ 5.515625 13.8125 5.515625 26.8125 \nQ 5.515625 40.234375 12.765625 48.109375 \nQ 20.015625 56 32.328125 56 \nQ 43.359375 56 49.78125 48.890625 \nQ 56.203125 41.796875 56.203125 29.59375 \nz\nM 47.21875 32.234375 \nQ 47.125 39.59375 43.09375 43.984375 \nQ 39.0625 48.390625 32.421875 48.390625 \nQ 24.90625 48.390625 20.390625 44.140625 \nQ 15.875 39.890625 15.1875 32.171875 \nz\n\" id=\"DejaVuSans-101\"/>\n       <path d=\"M 18.3125 70.21875 \nL 18.3125 54.6875 \nL 36.8125 54.6875 \nL 36.8125 47.703125 \nL 18.3125 47.703125 \nL 18.3125 18.015625 \nQ 18.3125 11.328125 20.140625 9.421875 \nQ 21.96875 7.515625 27.59375 7.515625 \nL 36.8125 7.515625 \nL 36.8125 0 \nL 27.59375 0 \nQ 17.1875 0 13.234375 3.875 \nQ 9.28125 7.765625 9.28125 18.015625 \nL 9.28125 47.703125 \nL 2.6875 47.703125 \nL 2.6875 54.6875 \nL 9.28125 54.6875 \nL 9.28125 70.21875 \nz\n\" id=\"DejaVuSans-116\"/>\n       <path d=\"M 32.171875 -5.078125 \nQ 28.375 -14.84375 24.75 -17.8125 \nQ 21.140625 -20.796875 15.09375 -20.796875 \nL 7.90625 -20.796875 \nL 7.90625 -13.28125 \nL 13.1875 -13.28125 \nQ 16.890625 -13.28125 18.9375 -11.515625 \nQ 21 -9.765625 23.484375 -3.21875 \nL 25.09375 0.875 \nL 2.984375 54.6875 \nL 12.5 54.6875 \nL 29.59375 11.921875 \nL 46.6875 54.6875 \nL 56.203125 54.6875 \nz\n\" id=\"DejaVuSans-121\"/>\n       <path d=\"M 9.8125 72.90625 \nL 51.703125 72.90625 \nL 51.703125 64.59375 \nL 19.671875 64.59375 \nL 19.671875 43.109375 \nL 48.578125 43.109375 \nL 48.578125 34.8125 \nL 19.671875 34.8125 \nL 19.671875 0 \nL 9.8125 0 \nz\n\" id=\"DejaVuSans-70\"/>\n       <path d=\"M 9.421875 54.6875 \nL 18.40625 54.6875 \nL 18.40625 0 \nL 9.421875 0 \nz\nM 9.421875 75.984375 \nL 18.40625 75.984375 \nL 18.40625 64.59375 \nL 9.421875 64.59375 \nz\n\" id=\"DejaVuSans-105\"/>\n       <path d=\"M 9.421875 75.984375 \nL 18.40625 75.984375 \nL 18.40625 0 \nL 9.421875 0 \nz\n\" id=\"DejaVuSans-108\"/>\n       <path d=\"M 45.40625 46.390625 \nL 45.40625 75.984375 \nL 54.390625 75.984375 \nL 54.390625 0 \nL 45.40625 0 \nL 45.40625 8.203125 \nQ 42.578125 3.328125 38.25 0.953125 \nQ 33.9375 -1.421875 27.875 -1.421875 \nQ 17.96875 -1.421875 11.734375 6.484375 \nQ 5.515625 14.40625 5.515625 27.296875 \nQ 5.515625 40.1875 11.734375 48.09375 \nQ 17.96875 56 27.875 56 \nQ 33.9375 56 38.25 53.625 \nQ 42.578125 51.265625 45.40625 46.390625 \nz\nM 14.796875 27.296875 \nQ 14.796875 17.390625 18.875 11.75 \nQ 22.953125 6.109375 30.078125 6.109375 \nQ 37.203125 6.109375 41.296875 11.75 \nQ 45.40625 17.390625 45.40625 27.296875 \nQ 45.40625 37.203125 41.296875 42.84375 \nQ 37.203125 48.484375 30.078125 48.484375 \nQ 22.953125 48.484375 18.875 42.84375 \nQ 14.796875 37.203125 14.796875 27.296875 \nz\n\" id=\"DejaVuSans-100\"/>\n       <path d=\"M 40.578125 39.3125 \nQ 47.65625 37.796875 51.625 33 \nQ 55.609375 28.21875 55.609375 21.1875 \nQ 55.609375 10.40625 48.1875 4.484375 \nQ 40.765625 -1.421875 27.09375 -1.421875 \nQ 22.515625 -1.421875 17.65625 -0.515625 \nQ 12.796875 0.390625 7.625 2.203125 \nL 7.625 11.71875 \nQ 11.71875 9.328125 16.59375 8.109375 \nQ 21.484375 6.890625 26.8125 6.890625 \nQ 36.078125 6.890625 40.9375 10.546875 \nQ 45.796875 14.203125 45.796875 21.1875 \nQ 45.796875 27.640625 41.28125 31.265625 \nQ 36.765625 34.90625 28.71875 34.90625 \nL 20.21875 34.90625 \nL 20.21875 43.015625 \nL 29.109375 43.015625 \nQ 36.375 43.015625 40.234375 45.921875 \nQ 44.09375 48.828125 44.09375 54.296875 \nQ 44.09375 59.90625 40.109375 62.90625 \nQ 36.140625 65.921875 28.71875 65.921875 \nQ 24.65625 65.921875 20.015625 65.03125 \nQ 15.375 64.15625 9.8125 62.3125 \nL 9.8125 71.09375 \nQ 15.4375 72.65625 20.34375 73.4375 \nQ 25.25 74.21875 29.59375 74.21875 \nQ 40.828125 74.21875 47.359375 69.109375 \nQ 53.90625 64.015625 53.90625 55.328125 \nQ 53.90625 49.265625 50.4375 45.09375 \nQ 46.96875 40.921875 40.578125 39.3125 \nz\n\" id=\"DejaVuSans-51\"/>\n       <path d=\"M 8.203125 72.90625 \nL 55.078125 72.90625 \nL 55.078125 68.703125 \nL 28.609375 0 \nL 18.3125 0 \nL 43.21875 64.59375 \nL 8.203125 64.59375 \nz\n\" id=\"DejaVuSans-55\"/>\n      </defs>\n      <g style=\"fill:#444443;\" transform=\"translate(79.970313 12.371539)scale(0.1 -0.1)\">\n       <use xlink:href=\"#DejaVuSans-80\"/>\n       <use x=\"58.552734\" xlink:href=\"#DejaVuSans-114\"/>\n       <use x=\"97.416016\" xlink:href=\"#DejaVuSans-111\"/>\n       <use x=\"158.597656\" xlink:href=\"#DejaVuSans-112\"/>\n       <use x=\"222.074219\" xlink:href=\"#DejaVuSans-101\"/>\n       <use x=\"283.597656\" xlink:href=\"#DejaVuSans-114\"/>\n       <use x=\"324.710938\" xlink:href=\"#DejaVuSans-116\"/>\n       <use x=\"363.919922\" xlink:href=\"#DejaVuSans-121\"/>\n       <use x=\"423.099609\" xlink:href=\"#DejaVuSans-70\"/>\n       <use x=\"473.369141\" xlink:href=\"#DejaVuSans-105\"/>\n       <use x=\"501.152344\" xlink:href=\"#DejaVuSans-101\"/>\n       <use x=\"562.675781\" xlink:href=\"#DejaVuSans-108\"/>\n       <use x=\"590.458984\" xlink:href=\"#DejaVuSans-100\"/>\n       <use x=\"653.935547\" xlink:href=\"#DejaVuSans-51\"/>\n       <use x=\"717.558594\" xlink:href=\"#DejaVuSans-55\"/>\n      </g>\n     </g>\n    </g>\n    <g id=\"ytick_2\">\n     <g id=\"line2d_5\">\n      <g>\n       <use style=\"stroke:#000000;stroke-width:0.8;\" x=\"165.090625\" xlink:href=\"#m3b0424a600\" y=\"24.288241\"/>\n      </g>\n     </g>\n     <g id=\"text_5\">\n      <!-- PersonalField1 -->\n      <defs>\n       <path d=\"M 44.28125 53.078125 \nL 44.28125 44.578125 \nQ 40.484375 46.53125 36.375 47.5 \nQ 32.28125 48.484375 27.875 48.484375 \nQ 21.1875 48.484375 17.84375 46.4375 \nQ 14.5 44.390625 14.5 40.28125 \nQ 14.5 37.15625 16.890625 35.375 \nQ 19.28125 33.59375 26.515625 31.984375 \nL 29.59375 31.296875 \nQ 39.15625 29.25 43.1875 25.515625 \nQ 47.21875 21.78125 47.21875 15.09375 \nQ 47.21875 7.46875 41.1875 3.015625 \nQ 35.15625 -1.421875 24.609375 -1.421875 \nQ 20.21875 -1.421875 15.453125 -0.5625 \nQ 10.6875 0.296875 5.421875 2 \nL 5.421875 11.28125 \nQ 10.40625 8.6875 15.234375 7.390625 \nQ 20.0625 6.109375 24.8125 6.109375 \nQ 31.15625 6.109375 34.5625 8.28125 \nQ 37.984375 10.453125 37.984375 14.40625 \nQ 37.984375 18.0625 35.515625 20.015625 \nQ 33.0625 21.96875 24.703125 23.78125 \nL 21.578125 24.515625 \nQ 13.234375 26.265625 9.515625 29.90625 \nQ 5.8125 33.546875 5.8125 39.890625 \nQ 5.8125 47.609375 11.28125 51.796875 \nQ 16.75 56 26.8125 56 \nQ 31.78125 56 36.171875 55.265625 \nQ 40.578125 54.546875 44.28125 53.078125 \nz\n\" id=\"DejaVuSans-115\"/>\n       <path d=\"M 54.890625 33.015625 \nL 54.890625 0 \nL 45.90625 0 \nL 45.90625 32.71875 \nQ 45.90625 40.484375 42.875 44.328125 \nQ 39.84375 48.1875 33.796875 48.1875 \nQ 26.515625 48.1875 22.3125 43.546875 \nQ 18.109375 38.921875 18.109375 30.90625 \nL 18.109375 0 \nL 9.078125 0 \nL 9.078125 54.6875 \nL 18.109375 54.6875 \nL 18.109375 46.1875 \nQ 21.34375 51.125 25.703125 53.5625 \nQ 30.078125 56 35.796875 56 \nQ 45.21875 56 50.046875 50.171875 \nQ 54.890625 44.34375 54.890625 33.015625 \nz\n\" id=\"DejaVuSans-110\"/>\n       <path d=\"M 34.28125 27.484375 \nQ 23.390625 27.484375 19.1875 25 \nQ 14.984375 22.515625 14.984375 16.5 \nQ 14.984375 11.71875 18.140625 8.90625 \nQ 21.296875 6.109375 26.703125 6.109375 \nQ 34.1875 6.109375 38.703125 11.40625 \nQ 43.21875 16.703125 43.21875 25.484375 \nL 43.21875 27.484375 \nz\nM 52.203125 31.203125 \nL 52.203125 0 \nL 43.21875 0 \nL 43.21875 8.296875 \nQ 40.140625 3.328125 35.546875 0.953125 \nQ 30.953125 -1.421875 24.3125 -1.421875 \nQ 15.921875 -1.421875 10.953125 3.296875 \nQ 6 8.015625 6 15.921875 \nQ 6 25.140625 12.171875 29.828125 \nQ 18.359375 34.515625 30.609375 34.515625 \nL 43.21875 34.515625 \nL 43.21875 35.40625 \nQ 43.21875 41.609375 39.140625 45 \nQ 35.0625 48.390625 27.6875 48.390625 \nQ 23 48.390625 18.546875 47.265625 \nQ 14.109375 46.140625 10.015625 43.890625 \nL 10.015625 52.203125 \nQ 14.9375 54.109375 19.578125 55.046875 \nQ 24.21875 56 28.609375 56 \nQ 40.484375 56 46.34375 49.84375 \nQ 52.203125 43.703125 52.203125 31.203125 \nz\n\" id=\"DejaVuSans-97\"/>\n      </defs>\n      <g style=\"fill:#444443;\" transform=\"translate(86.140625 28.08746)scale(0.1 -0.1)\">\n       <use xlink:href=\"#DejaVuSans-80\"/>\n       <use x=\"56.677734\" xlink:href=\"#DejaVuSans-101\"/>\n       <use x=\"118.201172\" xlink:href=\"#DejaVuSans-114\"/>\n       <use x=\"159.314453\" xlink:href=\"#DejaVuSans-115\"/>\n       <use x=\"211.414062\" xlink:href=\"#DejaVuSans-111\"/>\n       <use x=\"272.595703\" xlink:href=\"#DejaVuSans-110\"/>\n       <use x=\"335.974609\" xlink:href=\"#DejaVuSans-97\"/>\n       <use x=\"397.253906\" xlink:href=\"#DejaVuSans-108\"/>\n       <use x=\"425.037109\" xlink:href=\"#DejaVuSans-70\"/>\n       <use x=\"475.306641\" xlink:href=\"#DejaVuSans-105\"/>\n       <use x=\"503.089844\" xlink:href=\"#DejaVuSans-101\"/>\n       <use x=\"564.613281\" xlink:href=\"#DejaVuSans-108\"/>\n       <use x=\"592.396484\" xlink:href=\"#DejaVuSans-100\"/>\n       <use x=\"655.873047\" xlink:href=\"#DejaVuSans-49\"/>\n      </g>\n     </g>\n    </g>\n    <g id=\"ytick_3\">\n     <g id=\"line2d_6\">\n      <g>\n       <use style=\"stroke:#000000;stroke-width:0.8;\" x=\"165.090625\" xlink:href=\"#m3b0424a600\" y=\"40.004161\"/>\n      </g>\n     </g>\n     <g id=\"text_6\">\n      <!-- SalesField5 -->\n      <defs>\n       <path d=\"M 53.515625 70.515625 \nL 53.515625 60.890625 \nQ 47.90625 63.578125 42.921875 64.890625 \nQ 37.9375 66.21875 33.296875 66.21875 \nQ 25.25 66.21875 20.875 63.09375 \nQ 16.5 59.96875 16.5 54.203125 \nQ 16.5 49.359375 19.40625 46.890625 \nQ 22.3125 44.4375 30.421875 42.921875 \nL 36.375 41.703125 \nQ 47.40625 39.59375 52.65625 34.296875 \nQ 57.90625 29 57.90625 20.125 \nQ 57.90625 9.515625 50.796875 4.046875 \nQ 43.703125 -1.421875 29.984375 -1.421875 \nQ 24.8125 -1.421875 18.96875 -0.25 \nQ 13.140625 0.921875 6.890625 3.21875 \nL 6.890625 13.375 \nQ 12.890625 10.015625 18.65625 8.296875 \nQ 24.421875 6.59375 29.984375 6.59375 \nQ 38.421875 6.59375 43.015625 9.90625 \nQ 47.609375 13.234375 47.609375 19.390625 \nQ 47.609375 24.75 44.3125 27.78125 \nQ 41.015625 30.8125 33.5 32.328125 \nL 27.484375 33.5 \nQ 16.453125 35.6875 11.515625 40.375 \nQ 6.59375 45.0625 6.59375 53.421875 \nQ 6.59375 63.09375 13.40625 68.65625 \nQ 20.21875 74.21875 32.171875 74.21875 \nQ 37.3125 74.21875 42.625 73.28125 \nQ 47.953125 72.359375 53.515625 70.515625 \nz\n\" id=\"DejaVuSans-83\"/>\n      </defs>\n      <g style=\"fill:#444443;\" transform=\"translate(102.026563 43.80338)scale(0.1 -0.1)\">\n       <use xlink:href=\"#DejaVuSans-83\"/>\n       <use x=\"63.476562\" xlink:href=\"#DejaVuSans-97\"/>\n       <use x=\"124.755859\" xlink:href=\"#DejaVuSans-108\"/>\n       <use x=\"152.539062\" xlink:href=\"#DejaVuSans-101\"/>\n       <use x=\"214.0625\" xlink:href=\"#DejaVuSans-115\"/>\n       <use x=\"266.162109\" xlink:href=\"#DejaVuSans-70\"/>\n       <use x=\"316.431641\" xlink:href=\"#DejaVuSans-105\"/>\n       <use x=\"344.214844\" xlink:href=\"#DejaVuSans-101\"/>\n       <use x=\"405.738281\" xlink:href=\"#DejaVuSans-108\"/>\n       <use x=\"433.521484\" xlink:href=\"#DejaVuSans-100\"/>\n       <use x=\"496.998047\" xlink:href=\"#DejaVuSans-53\"/>\n      </g>\n     </g>\n    </g>\n    <g id=\"ytick_4\">\n     <g id=\"line2d_7\">\n      <g>\n       <use style=\"stroke:#000000;stroke-width:0.8;\" x=\"165.090625\" xlink:href=\"#m3b0424a600\" y=\"55.720082\"/>\n      </g>\n     </g>\n     <g id=\"text_7\">\n      <!-- PropertyField29_na -->\n      <defs>\n       <path d=\"M 19.1875 8.296875 \nL 53.609375 8.296875 \nL 53.609375 0 \nL 7.328125 0 \nL 7.328125 8.296875 \nQ 12.9375 14.109375 22.625 23.890625 \nQ 32.328125 33.6875 34.8125 36.53125 \nQ 39.546875 41.84375 41.421875 45.53125 \nQ 43.3125 49.21875 43.3125 52.78125 \nQ 43.3125 58.59375 39.234375 62.25 \nQ 35.15625 65.921875 28.609375 65.921875 \nQ 23.96875 65.921875 18.8125 64.3125 \nQ 13.671875 62.703125 7.8125 59.421875 \nL 7.8125 69.390625 \nQ 13.765625 71.78125 18.9375 73 \nQ 24.125 74.21875 28.421875 74.21875 \nQ 39.75 74.21875 46.484375 68.546875 \nQ 53.21875 62.890625 53.21875 53.421875 \nQ 53.21875 48.921875 51.53125 44.890625 \nQ 49.859375 40.875 45.40625 35.40625 \nQ 44.1875 33.984375 37.640625 27.21875 \nQ 31.109375 20.453125 19.1875 8.296875 \nz\n\" id=\"DejaVuSans-50\"/>\n       <path d=\"M 10.984375 1.515625 \nL 10.984375 10.5 \nQ 14.703125 8.734375 18.5 7.8125 \nQ 22.3125 6.890625 25.984375 6.890625 \nQ 35.75 6.890625 40.890625 13.453125 \nQ 46.046875 20.015625 46.78125 33.40625 \nQ 43.953125 29.203125 39.59375 26.953125 \nQ 35.25 24.703125 29.984375 24.703125 \nQ 19.046875 24.703125 12.671875 31.3125 \nQ 6.296875 37.9375 6.296875 49.421875 \nQ 6.296875 60.640625 12.9375 67.421875 \nQ 19.578125 74.21875 30.609375 74.21875 \nQ 43.265625 74.21875 49.921875 64.515625 \nQ 56.59375 54.828125 56.59375 36.375 \nQ 56.59375 19.140625 48.40625 8.859375 \nQ 40.234375 -1.421875 26.421875 -1.421875 \nQ 22.703125 -1.421875 18.890625 -0.6875 \nQ 15.09375 0.046875 10.984375 1.515625 \nz\nM 30.609375 32.421875 \nQ 37.25 32.421875 41.125 36.953125 \nQ 45.015625 41.5 45.015625 49.421875 \nQ 45.015625 57.28125 41.125 61.84375 \nQ 37.25 66.40625 30.609375 66.40625 \nQ 23.96875 66.40625 20.09375 61.84375 \nQ 16.21875 57.28125 16.21875 49.421875 \nQ 16.21875 41.5 20.09375 36.953125 \nQ 23.96875 32.421875 30.609375 32.421875 \nz\n\" id=\"DejaVuSans-57\"/>\n       <path d=\"M 50.984375 -16.609375 \nL 50.984375 -23.578125 \nL -0.984375 -23.578125 \nL -0.984375 -16.609375 \nz\n\" id=\"DejaVuSans-95\"/>\n      </defs>\n      <g style=\"fill:#444443;\" transform=\"translate(62.504688 59.519301)scale(0.1 -0.1)\">\n       <use xlink:href=\"#DejaVuSans-80\"/>\n       <use x=\"58.552734\" xlink:href=\"#DejaVuSans-114\"/>\n       <use x=\"97.416016\" xlink:href=\"#DejaVuSans-111\"/>\n       <use x=\"158.597656\" xlink:href=\"#DejaVuSans-112\"/>\n       <use x=\"222.074219\" xlink:href=\"#DejaVuSans-101\"/>\n       <use x=\"283.597656\" xlink:href=\"#DejaVuSans-114\"/>\n       <use x=\"324.710938\" xlink:href=\"#DejaVuSans-116\"/>\n       <use x=\"363.919922\" xlink:href=\"#DejaVuSans-121\"/>\n       <use x=\"423.099609\" xlink:href=\"#DejaVuSans-70\"/>\n       <use x=\"473.369141\" xlink:href=\"#DejaVuSans-105\"/>\n       <use x=\"501.152344\" xlink:href=\"#DejaVuSans-101\"/>\n       <use x=\"562.675781\" xlink:href=\"#DejaVuSans-108\"/>\n       <use x=\"590.458984\" xlink:href=\"#DejaVuSans-100\"/>\n       <use x=\"653.935547\" xlink:href=\"#DejaVuSans-50\"/>\n       <use x=\"717.558594\" xlink:href=\"#DejaVuSans-57\"/>\n       <use x=\"781.181641\" xlink:href=\"#DejaVuSans-95\"/>\n       <use x=\"831.181641\" xlink:href=\"#DejaVuSans-110\"/>\n       <use x=\"894.560547\" xlink:href=\"#DejaVuSans-97\"/>\n      </g>\n     </g>\n    </g>\n    <g id=\"ytick_5\">\n     <g id=\"line2d_8\">\n      <g>\n       <use style=\"stroke:#000000;stroke-width:0.8;\" x=\"165.090625\" xlink:href=\"#m3b0424a600\" y=\"71.436002\"/>\n      </g>\n     </g>\n     <g id=\"text_8\">\n      <!-- PersonalField10A -->\n      <defs>\n       <path d=\"M 34.1875 63.1875 \nL 20.796875 26.90625 \nL 47.609375 26.90625 \nz\nM 28.609375 72.90625 \nL 39.796875 72.90625 \nL 67.578125 0 \nL 57.328125 0 \nL 50.6875 18.703125 \nL 17.828125 18.703125 \nL 11.1875 0 \nL 0.78125 0 \nz\n\" id=\"DejaVuSans-65\"/>\n      </defs>\n      <g style=\"fill:#444443;\" transform=\"translate(72.9375 75.235221)scale(0.1 -0.1)\">\n       <use xlink:href=\"#DejaVuSans-80\"/>\n       <use x=\"56.677734\" xlink:href=\"#DejaVuSans-101\"/>\n       <use x=\"118.201172\" xlink:href=\"#DejaVuSans-114\"/>\n       <use x=\"159.314453\" xlink:href=\"#DejaVuSans-115\"/>\n       <use x=\"211.414062\" xlink:href=\"#DejaVuSans-111\"/>\n       <use x=\"272.595703\" xlink:href=\"#DejaVuSans-110\"/>\n       <use x=\"335.974609\" xlink:href=\"#DejaVuSans-97\"/>\n       <use x=\"397.253906\" xlink:href=\"#DejaVuSans-108\"/>\n       <use x=\"425.037109\" xlink:href=\"#DejaVuSans-70\"/>\n       <use x=\"475.306641\" xlink:href=\"#DejaVuSans-105\"/>\n       <use x=\"503.089844\" xlink:href=\"#DejaVuSans-101\"/>\n       <use x=\"564.613281\" xlink:href=\"#DejaVuSans-108\"/>\n       <use x=\"592.396484\" xlink:href=\"#DejaVuSans-100\"/>\n       <use x=\"655.873047\" xlink:href=\"#DejaVuSans-49\"/>\n       <use x=\"719.496094\" xlink:href=\"#DejaVuSans-48\"/>\n       <use x=\"783.119141\" xlink:href=\"#DejaVuSans-65\"/>\n      </g>\n     </g>\n    </g>\n    <g id=\"ytick_6\">\n     <g id=\"line2d_9\">\n      <g>\n       <use style=\"stroke:#000000;stroke-width:0.8;\" x=\"165.090625\" xlink:href=\"#m3b0424a600\" y=\"87.151923\"/>\n      </g>\n     </g>\n     <g id=\"text_9\">\n      <!-- PersonalField9 -->\n      <g style=\"fill:#444443;\" transform=\"translate(86.140625 90.951142)scale(0.1 -0.1)\">\n       <use xlink:href=\"#DejaVuSans-80\"/>\n       <use x=\"56.677734\" xlink:href=\"#DejaVuSans-101\"/>\n       <use x=\"118.201172\" xlink:href=\"#DejaVuSans-114\"/>\n       <use x=\"159.314453\" xlink:href=\"#DejaVuSans-115\"/>\n       <use x=\"211.414062\" xlink:href=\"#DejaVuSans-111\"/>\n       <use x=\"272.595703\" xlink:href=\"#DejaVuSans-110\"/>\n       <use x=\"335.974609\" xlink:href=\"#DejaVuSans-97\"/>\n       <use x=\"397.253906\" xlink:href=\"#DejaVuSans-108\"/>\n       <use x=\"425.037109\" xlink:href=\"#DejaVuSans-70\"/>\n       <use x=\"475.306641\" xlink:href=\"#DejaVuSans-105\"/>\n       <use x=\"503.089844\" xlink:href=\"#DejaVuSans-101\"/>\n       <use x=\"564.613281\" xlink:href=\"#DejaVuSans-108\"/>\n       <use x=\"592.396484\" xlink:href=\"#DejaVuSans-100\"/>\n       <use x=\"655.873047\" xlink:href=\"#DejaVuSans-57\"/>\n      </g>\n     </g>\n    </g>\n    <g id=\"ytick_7\">\n     <g id=\"line2d_10\">\n      <g>\n       <use style=\"stroke:#000000;stroke-width:0.8;\" x=\"165.090625\" xlink:href=\"#m3b0424a600\" y=\"102.867843\"/>\n      </g>\n     </g>\n     <g id=\"text_10\">\n      <!-- PersonalField10B -->\n      <defs>\n       <path d=\"M 19.671875 34.8125 \nL 19.671875 8.109375 \nL 35.5 8.109375 \nQ 43.453125 8.109375 47.28125 11.40625 \nQ 51.125 14.703125 51.125 21.484375 \nQ 51.125 28.328125 47.28125 31.5625 \nQ 43.453125 34.8125 35.5 34.8125 \nz\nM 19.671875 64.796875 \nL 19.671875 42.828125 \nL 34.28125 42.828125 \nQ 41.5 42.828125 45.03125 45.53125 \nQ 48.578125 48.25 48.578125 53.8125 \nQ 48.578125 59.328125 45.03125 62.0625 \nQ 41.5 64.796875 34.28125 64.796875 \nz\nM 9.8125 72.90625 \nL 35.015625 72.90625 \nQ 46.296875 72.90625 52.390625 68.21875 \nQ 58.5 63.53125 58.5 54.890625 \nQ 58.5 48.1875 55.375 44.234375 \nQ 52.25 40.28125 46.1875 39.3125 \nQ 53.46875 37.75 57.5 32.78125 \nQ 61.53125 27.828125 61.53125 20.40625 \nQ 61.53125 10.640625 54.890625 5.3125 \nQ 48.25 0 35.984375 0 \nL 9.8125 0 \nz\n\" id=\"DejaVuSans-66\"/>\n      </defs>\n      <g style=\"fill:#444443;\" transform=\"translate(72.917188 106.667062)scale(0.1 -0.1)\">\n       <use xlink:href=\"#DejaVuSans-80\"/>\n       <use x=\"56.677734\" xlink:href=\"#DejaVuSans-101\"/>\n       <use x=\"118.201172\" xlink:href=\"#DejaVuSans-114\"/>\n       <use x=\"159.314453\" xlink:href=\"#DejaVuSans-115\"/>\n       <use x=\"211.414062\" xlink:href=\"#DejaVuSans-111\"/>\n       <use x=\"272.595703\" xlink:href=\"#DejaVuSans-110\"/>\n       <use x=\"335.974609\" xlink:href=\"#DejaVuSans-97\"/>\n       <use x=\"397.253906\" xlink:href=\"#DejaVuSans-108\"/>\n       <use x=\"425.037109\" xlink:href=\"#DejaVuSans-70\"/>\n       <use x=\"475.306641\" xlink:href=\"#DejaVuSans-105\"/>\n       <use x=\"503.089844\" xlink:href=\"#DejaVuSans-101\"/>\n       <use x=\"564.613281\" xlink:href=\"#DejaVuSans-108\"/>\n       <use x=\"592.396484\" xlink:href=\"#DejaVuSans-100\"/>\n       <use x=\"655.873047\" xlink:href=\"#DejaVuSans-49\"/>\n       <use x=\"719.496094\" xlink:href=\"#DejaVuSans-48\"/>\n       <use x=\"783.119141\" xlink:href=\"#DejaVuSans-66\"/>\n      </g>\n     </g>\n    </g>\n    <g id=\"ytick_8\">\n     <g id=\"line2d_11\">\n      <g>\n       <use style=\"stroke:#000000;stroke-width:0.8;\" x=\"165.090625\" xlink:href=\"#m3b0424a600\" y=\"118.583764\"/>\n      </g>\n     </g>\n     <g id=\"text_11\">\n      <!-- SalesField1B -->\n      <g style=\"fill:#444443;\" transform=\"translate(95.165625 122.382983)scale(0.1 -0.1)\">\n       <use xlink:href=\"#DejaVuSans-83\"/>\n       <use x=\"63.476562\" xlink:href=\"#DejaVuSans-97\"/>\n       <use x=\"124.755859\" xlink:href=\"#DejaVuSans-108\"/>\n       <use x=\"152.539062\" xlink:href=\"#DejaVuSans-101\"/>\n       <use x=\"214.0625\" xlink:href=\"#DejaVuSans-115\"/>\n       <use x=\"266.162109\" xlink:href=\"#DejaVuSans-70\"/>\n       <use x=\"316.431641\" xlink:href=\"#DejaVuSans-105\"/>\n       <use x=\"344.214844\" xlink:href=\"#DejaVuSans-101\"/>\n       <use x=\"405.738281\" xlink:href=\"#DejaVuSans-108\"/>\n       <use x=\"433.521484\" xlink:href=\"#DejaVuSans-100\"/>\n       <use x=\"496.998047\" xlink:href=\"#DejaVuSans-49\"/>\n       <use x=\"560.621094\" xlink:href=\"#DejaVuSans-66\"/>\n      </g>\n     </g>\n    </g>\n    <g id=\"ytick_9\">\n     <g id=\"line2d_12\">\n      <g>\n       <use style=\"stroke:#000000;stroke-width:0.8;\" x=\"165.090625\" xlink:href=\"#m3b0424a600\" y=\"134.299684\"/>\n      </g>\n     </g>\n     <g id=\"text_12\">\n      <!-- PersonalField2 -->\n      <g style=\"fill:#444443;\" transform=\"translate(86.140625 138.098903)scale(0.1 -0.1)\">\n       <use xlink:href=\"#DejaVuSans-80\"/>\n       <use x=\"56.677734\" xlink:href=\"#DejaVuSans-101\"/>\n       <use x=\"118.201172\" xlink:href=\"#DejaVuSans-114\"/>\n       <use x=\"159.314453\" xlink:href=\"#DejaVuSans-115\"/>\n       <use x=\"211.414062\" xlink:href=\"#DejaVuSans-111\"/>\n       <use x=\"272.595703\" xlink:href=\"#DejaVuSans-110\"/>\n       <use x=\"335.974609\" xlink:href=\"#DejaVuSans-97\"/>\n       <use x=\"397.253906\" xlink:href=\"#DejaVuSans-108\"/>\n       <use x=\"425.037109\" xlink:href=\"#DejaVuSans-70\"/>\n       <use x=\"475.306641\" xlink:href=\"#DejaVuSans-105\"/>\n       <use x=\"503.089844\" xlink:href=\"#DejaVuSans-101\"/>\n       <use x=\"564.613281\" xlink:href=\"#DejaVuSans-108\"/>\n       <use x=\"592.396484\" xlink:href=\"#DejaVuSans-100\"/>\n       <use x=\"655.873047\" xlink:href=\"#DejaVuSans-50\"/>\n      </g>\n     </g>\n    </g>\n    <g id=\"ytick_10\">\n     <g id=\"line2d_13\">\n      <g>\n       <use style=\"stroke:#000000;stroke-width:0.8;\" x=\"165.090625\" xlink:href=\"#m3b0424a600\" y=\"150.015605\"/>\n      </g>\n     </g>\n     <g id=\"text_13\">\n      <!-- Field7 -->\n      <g style=\"fill:#444443;\" transform=\"translate(128.64375 153.814824)scale(0.1 -0.1)\">\n       <use xlink:href=\"#DejaVuSans-70\"/>\n       <use x=\"50.269531\" xlink:href=\"#DejaVuSans-105\"/>\n       <use x=\"78.052734\" xlink:href=\"#DejaVuSans-101\"/>\n       <use x=\"139.576172\" xlink:href=\"#DejaVuSans-108\"/>\n       <use x=\"167.359375\" xlink:href=\"#DejaVuSans-100\"/>\n       <use x=\"230.835938\" xlink:href=\"#DejaVuSans-55\"/>\n      </g>\n     </g>\n    </g>\n    <g id=\"ytick_11\">\n     <g id=\"line2d_14\">\n      <g>\n       <use style=\"stroke:#000000;stroke-width:0.8;\" x=\"165.090625\" xlink:href=\"#m3b0424a600\" y=\"165.731525\"/>\n      </g>\n     </g>\n     <g id=\"text_14\">\n      <!-- SalesField4 -->\n      <defs>\n       <path d=\"M 37.796875 64.3125 \nL 12.890625 25.390625 \nL 37.796875 25.390625 \nz\nM 35.203125 72.90625 \nL 47.609375 72.90625 \nL 47.609375 25.390625 \nL 58.015625 25.390625 \nL 58.015625 17.1875 \nL 47.609375 17.1875 \nL 47.609375 0 \nL 37.796875 0 \nL 37.796875 17.1875 \nL 4.890625 17.1875 \nL 4.890625 26.703125 \nz\n\" id=\"DejaVuSans-52\"/>\n      </defs>\n      <g style=\"fill:#444443;\" transform=\"translate(102.026563 169.530744)scale(0.1 -0.1)\">\n       <use xlink:href=\"#DejaVuSans-83\"/>\n       <use x=\"63.476562\" xlink:href=\"#DejaVuSans-97\"/>\n       <use x=\"124.755859\" xlink:href=\"#DejaVuSans-108\"/>\n       <use x=\"152.539062\" xlink:href=\"#DejaVuSans-101\"/>\n       <use x=\"214.0625\" xlink:href=\"#DejaVuSans-115\"/>\n       <use x=\"266.162109\" xlink:href=\"#DejaVuSans-70\"/>\n       <use x=\"316.431641\" xlink:href=\"#DejaVuSans-105\"/>\n       <use x=\"344.214844\" xlink:href=\"#DejaVuSans-101\"/>\n       <use x=\"405.738281\" xlink:href=\"#DejaVuSans-108\"/>\n       <use x=\"433.521484\" xlink:href=\"#DejaVuSans-100\"/>\n       <use x=\"496.998047\" xlink:href=\"#DejaVuSans-52\"/>\n      </g>\n     </g>\n    </g>\n    <g id=\"ytick_12\">\n     <g id=\"line2d_15\">\n      <g>\n       <use style=\"stroke:#000000;stroke-width:0.8;\" x=\"165.090625\" xlink:href=\"#m3b0424a600\" y=\"181.447446\"/>\n      </g>\n     </g>\n     <g id=\"text_15\">\n      <!-- CoverageField8 -->\n      <defs>\n       <path d=\"M 64.40625 67.28125 \nL 64.40625 56.890625 \nQ 59.421875 61.53125 53.78125 63.8125 \nQ 48.140625 66.109375 41.796875 66.109375 \nQ 29.296875 66.109375 22.65625 58.46875 \nQ 16.015625 50.828125 16.015625 36.375 \nQ 16.015625 21.96875 22.65625 14.328125 \nQ 29.296875 6.6875 41.796875 6.6875 \nQ 48.140625 6.6875 53.78125 8.984375 \nQ 59.421875 11.28125 64.40625 15.921875 \nL 64.40625 5.609375 \nQ 59.234375 2.09375 53.4375 0.328125 \nQ 47.65625 -1.421875 41.21875 -1.421875 \nQ 24.65625 -1.421875 15.125 8.703125 \nQ 5.609375 18.84375 5.609375 36.375 \nQ 5.609375 53.953125 15.125 64.078125 \nQ 24.65625 74.21875 41.21875 74.21875 \nQ 47.75 74.21875 53.53125 72.484375 \nQ 59.328125 70.75 64.40625 67.28125 \nz\n\" id=\"DejaVuSans-67\"/>\n       <path d=\"M 2.984375 54.6875 \nL 12.5 54.6875 \nL 29.59375 8.796875 \nL 46.6875 54.6875 \nL 56.203125 54.6875 \nL 35.6875 0 \nL 23.484375 0 \nz\n\" id=\"DejaVuSans-118\"/>\n       <path d=\"M 45.40625 27.984375 \nQ 45.40625 37.75 41.375 43.109375 \nQ 37.359375 48.484375 30.078125 48.484375 \nQ 22.859375 48.484375 18.828125 43.109375 \nQ 14.796875 37.75 14.796875 27.984375 \nQ 14.796875 18.265625 18.828125 12.890625 \nQ 22.859375 7.515625 30.078125 7.515625 \nQ 37.359375 7.515625 41.375 12.890625 \nQ 45.40625 18.265625 45.40625 27.984375 \nz\nM 54.390625 6.78125 \nQ 54.390625 -7.171875 48.1875 -13.984375 \nQ 42 -20.796875 29.203125 -20.796875 \nQ 24.46875 -20.796875 20.265625 -20.09375 \nQ 16.0625 -19.390625 12.109375 -17.921875 \nL 12.109375 -9.1875 \nQ 16.0625 -11.328125 19.921875 -12.34375 \nQ 23.78125 -13.375 27.78125 -13.375 \nQ 36.625 -13.375 41.015625 -8.765625 \nQ 45.40625 -4.15625 45.40625 5.171875 \nL 45.40625 9.625 \nQ 42.625 4.78125 38.28125 2.390625 \nQ 33.9375 0 27.875 0 \nQ 17.828125 0 11.671875 7.65625 \nQ 5.515625 15.328125 5.515625 27.984375 \nQ 5.515625 40.671875 11.671875 48.328125 \nQ 17.828125 56 27.875 56 \nQ 33.9375 56 38.28125 53.609375 \nQ 42.625 51.21875 45.40625 46.390625 \nL 45.40625 54.6875 \nL 54.390625 54.6875 \nz\n\" id=\"DejaVuSans-103\"/>\n       <path d=\"M 31.78125 34.625 \nQ 24.75 34.625 20.71875 30.859375 \nQ 16.703125 27.09375 16.703125 20.515625 \nQ 16.703125 13.921875 20.71875 10.15625 \nQ 24.75 6.390625 31.78125 6.390625 \nQ 38.8125 6.390625 42.859375 10.171875 \nQ 46.921875 13.96875 46.921875 20.515625 \nQ 46.921875 27.09375 42.890625 30.859375 \nQ 38.875 34.625 31.78125 34.625 \nz\nM 21.921875 38.8125 \nQ 15.578125 40.375 12.03125 44.71875 \nQ 8.5 49.078125 8.5 55.328125 \nQ 8.5 64.0625 14.71875 69.140625 \nQ 20.953125 74.21875 31.78125 74.21875 \nQ 42.671875 74.21875 48.875 69.140625 \nQ 55.078125 64.0625 55.078125 55.328125 \nQ 55.078125 49.078125 51.53125 44.71875 \nQ 48 40.375 41.703125 38.8125 \nQ 48.828125 37.15625 52.796875 32.3125 \nQ 56.78125 27.484375 56.78125 20.515625 \nQ 56.78125 9.90625 50.3125 4.234375 \nQ 43.84375 -1.421875 31.78125 -1.421875 \nQ 19.734375 -1.421875 13.25 4.234375 \nQ 6.78125 9.90625 6.78125 20.515625 \nQ 6.78125 27.484375 10.78125 32.3125 \nQ 14.796875 37.15625 21.921875 38.8125 \nz\nM 18.3125 54.390625 \nQ 18.3125 48.734375 21.84375 45.5625 \nQ 25.390625 42.390625 31.78125 42.390625 \nQ 38.140625 42.390625 41.71875 45.5625 \nQ 45.3125 48.734375 45.3125 54.390625 \nQ 45.3125 60.0625 41.71875 63.234375 \nQ 38.140625 66.40625 31.78125 66.40625 \nQ 25.390625 66.40625 21.84375 63.234375 \nQ 18.3125 60.0625 18.3125 54.390625 \nz\n\" id=\"DejaVuSans-56\"/>\n      </defs>\n      <g style=\"fill:#444443;\" transform=\"translate(80.729688 185.246665)scale(0.1 -0.1)\">\n       <use xlink:href=\"#DejaVuSans-67\"/>\n       <use x=\"69.824219\" xlink:href=\"#DejaVuSans-111\"/>\n       <use x=\"131.005859\" xlink:href=\"#DejaVuSans-118\"/>\n       <use x=\"190.185547\" xlink:href=\"#DejaVuSans-101\"/>\n       <use x=\"251.708984\" xlink:href=\"#DejaVuSans-114\"/>\n       <use x=\"292.822266\" xlink:href=\"#DejaVuSans-97\"/>\n       <use x=\"354.101562\" xlink:href=\"#DejaVuSans-103\"/>\n       <use x=\"417.578125\" xlink:href=\"#DejaVuSans-101\"/>\n       <use x=\"479.101562\" xlink:href=\"#DejaVuSans-70\"/>\n       <use x=\"529.371094\" xlink:href=\"#DejaVuSans-105\"/>\n       <use x=\"557.154297\" xlink:href=\"#DejaVuSans-101\"/>\n       <use x=\"618.677734\" xlink:href=\"#DejaVuSans-108\"/>\n       <use x=\"646.460938\" xlink:href=\"#DejaVuSans-100\"/>\n       <use x=\"709.9375\" xlink:href=\"#DejaVuSans-56\"/>\n      </g>\n     </g>\n    </g>\n    <g id=\"ytick_13\">\n     <g id=\"line2d_16\">\n      <g>\n       <use style=\"stroke:#000000;stroke-width:0.8;\" x=\"165.090625\" xlink:href=\"#m3b0424a600\" y=\"197.163366\"/>\n      </g>\n     </g>\n     <g id=\"text_16\">\n      <!-- GeographicField44B -->\n      <defs>\n       <path d=\"M 59.515625 10.40625 \nL 59.515625 29.984375 \nL 43.40625 29.984375 \nL 43.40625 38.09375 \nL 69.28125 38.09375 \nL 69.28125 6.78125 \nQ 63.578125 2.734375 56.6875 0.65625 \nQ 49.8125 -1.421875 42 -1.421875 \nQ 24.90625 -1.421875 15.25 8.5625 \nQ 5.609375 18.5625 5.609375 36.375 \nQ 5.609375 54.25 15.25 64.234375 \nQ 24.90625 74.21875 42 74.21875 \nQ 49.125 74.21875 55.546875 72.453125 \nQ 61.96875 70.703125 67.390625 67.28125 \nL 67.390625 56.78125 \nQ 61.921875 61.421875 55.765625 63.765625 \nQ 49.609375 66.109375 42.828125 66.109375 \nQ 29.4375 66.109375 22.71875 58.640625 \nQ 16.015625 51.171875 16.015625 36.375 \nQ 16.015625 21.625 22.71875 14.15625 \nQ 29.4375 6.6875 42.828125 6.6875 \nQ 48.046875 6.6875 52.140625 7.59375 \nQ 56.25 8.5 59.515625 10.40625 \nz\n\" id=\"DejaVuSans-71\"/>\n       <path d=\"M 54.890625 33.015625 \nL 54.890625 0 \nL 45.90625 0 \nL 45.90625 32.71875 \nQ 45.90625 40.484375 42.875 44.328125 \nQ 39.84375 48.1875 33.796875 48.1875 \nQ 26.515625 48.1875 22.3125 43.546875 \nQ 18.109375 38.921875 18.109375 30.90625 \nL 18.109375 0 \nL 9.078125 0 \nL 9.078125 75.984375 \nL 18.109375 75.984375 \nL 18.109375 46.1875 \nQ 21.34375 51.125 25.703125 53.5625 \nQ 30.078125 56 35.796875 56 \nQ 45.21875 56 50.046875 50.171875 \nQ 54.890625 44.34375 54.890625 33.015625 \nz\n\" id=\"DejaVuSans-104\"/>\n       <path d=\"M 48.78125 52.59375 \nL 48.78125 44.1875 \nQ 44.96875 46.296875 41.140625 47.34375 \nQ 37.3125 48.390625 33.40625 48.390625 \nQ 24.65625 48.390625 19.8125 42.84375 \nQ 14.984375 37.3125 14.984375 27.296875 \nQ 14.984375 17.28125 19.8125 11.734375 \nQ 24.65625 6.203125 33.40625 6.203125 \nQ 37.3125 6.203125 41.140625 7.25 \nQ 44.96875 8.296875 48.78125 10.40625 \nL 48.78125 2.09375 \nQ 45.015625 0.34375 40.984375 -0.53125 \nQ 36.96875 -1.421875 32.421875 -1.421875 \nQ 20.0625 -1.421875 12.78125 6.34375 \nQ 5.515625 14.109375 5.515625 27.296875 \nQ 5.515625 40.671875 12.859375 48.328125 \nQ 20.21875 56 33.015625 56 \nQ 37.15625 56 41.109375 55.140625 \nQ 45.0625 54.296875 48.78125 52.59375 \nz\n\" id=\"DejaVuSans-99\"/>\n      </defs>\n      <g style=\"fill:#444443;\" transform=\"translate(57.85 200.962585)scale(0.1 -0.1)\">\n       <use xlink:href=\"#DejaVuSans-71\"/>\n       <use x=\"77.490234\" xlink:href=\"#DejaVuSans-101\"/>\n       <use x=\"139.013672\" xlink:href=\"#DejaVuSans-111\"/>\n       <use x=\"200.195312\" xlink:href=\"#DejaVuSans-103\"/>\n       <use x=\"263.671875\" xlink:href=\"#DejaVuSans-114\"/>\n       <use x=\"304.785156\" xlink:href=\"#DejaVuSans-97\"/>\n       <use x=\"366.064453\" xlink:href=\"#DejaVuSans-112\"/>\n       <use x=\"429.541016\" xlink:href=\"#DejaVuSans-104\"/>\n       <use x=\"492.919922\" xlink:href=\"#DejaVuSans-105\"/>\n       <use x=\"520.703125\" xlink:href=\"#DejaVuSans-99\"/>\n       <use x=\"575.683594\" xlink:href=\"#DejaVuSans-70\"/>\n       <use x=\"625.953125\" xlink:href=\"#DejaVuSans-105\"/>\n       <use x=\"653.736328\" xlink:href=\"#DejaVuSans-101\"/>\n       <use x=\"715.259766\" xlink:href=\"#DejaVuSans-108\"/>\n       <use x=\"743.042969\" xlink:href=\"#DejaVuSans-100\"/>\n       <use x=\"806.519531\" xlink:href=\"#DejaVuSans-52\"/>\n       <use x=\"870.142578\" xlink:href=\"#DejaVuSans-52\"/>\n       <use x=\"933.765625\" xlink:href=\"#DejaVuSans-66\"/>\n      </g>\n     </g>\n    </g>\n    <g id=\"ytick_14\">\n     <g id=\"line2d_17\">\n      <g>\n       <use style=\"stroke:#000000;stroke-width:0.8;\" x=\"165.090625\" xlink:href=\"#m3b0424a600\" y=\"212.879287\"/>\n      </g>\n     </g>\n     <g id=\"text_17\">\n      <!-- PersonalField13 -->\n      <g style=\"fill:#444443;\" transform=\"translate(79.778125 216.678506)scale(0.1 -0.1)\">\n       <use xlink:href=\"#DejaVuSans-80\"/>\n       <use x=\"56.677734\" xlink:href=\"#DejaVuSans-101\"/>\n       <use x=\"118.201172\" xlink:href=\"#DejaVuSans-114\"/>\n       <use x=\"159.314453\" xlink:href=\"#DejaVuSans-115\"/>\n       <use x=\"211.414062\" xlink:href=\"#DejaVuSans-111\"/>\n       <use x=\"272.595703\" xlink:href=\"#DejaVuSans-110\"/>\n       <use x=\"335.974609\" xlink:href=\"#DejaVuSans-97\"/>\n       <use x=\"397.253906\" xlink:href=\"#DejaVuSans-108\"/>\n       <use x=\"425.037109\" xlink:href=\"#DejaVuSans-70\"/>\n       <use x=\"475.306641\" xlink:href=\"#DejaVuSans-105\"/>\n       <use x=\"503.089844\" xlink:href=\"#DejaVuSans-101\"/>\n       <use x=\"564.613281\" xlink:href=\"#DejaVuSans-108\"/>\n       <use x=\"592.396484\" xlink:href=\"#DejaVuSans-100\"/>\n       <use x=\"655.873047\" xlink:href=\"#DejaVuSans-49\"/>\n       <use x=\"719.496094\" xlink:href=\"#DejaVuSans-51\"/>\n      </g>\n     </g>\n    </g>\n    <g id=\"ytick_15\">\n     <g id=\"line2d_18\">\n      <g>\n       <use style=\"stroke:#000000;stroke-width:0.8;\" x=\"165.090625\" xlink:href=\"#m3b0424a600\" y=\"228.595207\"/>\n      </g>\n     </g>\n     <g id=\"text_18\">\n      <!-- GeographicField58A -->\n      <g style=\"fill:#444443;\" transform=\"translate(57.870313 232.394426)scale(0.1 -0.1)\">\n       <use xlink:href=\"#DejaVuSans-71\"/>\n       <use x=\"77.490234\" xlink:href=\"#DejaVuSans-101\"/>\n       <use x=\"139.013672\" xlink:href=\"#DejaVuSans-111\"/>\n       <use x=\"200.195312\" xlink:href=\"#DejaVuSans-103\"/>\n       <use x=\"263.671875\" xlink:href=\"#DejaVuSans-114\"/>\n       <use x=\"304.785156\" xlink:href=\"#DejaVuSans-97\"/>\n       <use x=\"366.064453\" xlink:href=\"#DejaVuSans-112\"/>\n       <use x=\"429.541016\" xlink:href=\"#DejaVuSans-104\"/>\n       <use x=\"492.919922\" xlink:href=\"#DejaVuSans-105\"/>\n       <use x=\"520.703125\" xlink:href=\"#DejaVuSans-99\"/>\n       <use x=\"575.683594\" xlink:href=\"#DejaVuSans-70\"/>\n       <use x=\"625.953125\" xlink:href=\"#DejaVuSans-105\"/>\n       <use x=\"653.736328\" xlink:href=\"#DejaVuSans-101\"/>\n       <use x=\"715.259766\" xlink:href=\"#DejaVuSans-108\"/>\n       <use x=\"743.042969\" xlink:href=\"#DejaVuSans-100\"/>\n       <use x=\"806.519531\" xlink:href=\"#DejaVuSans-53\"/>\n       <use x=\"870.142578\" xlink:href=\"#DejaVuSans-56\"/>\n       <use x=\"933.765625\" xlink:href=\"#DejaVuSans-65\"/>\n      </g>\n     </g>\n    </g>\n    <g id=\"ytick_16\">\n     <g id=\"line2d_19\">\n      <g>\n       <use style=\"stroke:#000000;stroke-width:0.8;\" x=\"165.090625\" xlink:href=\"#m3b0424a600\" y=\"244.311128\"/>\n      </g>\n     </g>\n     <g id=\"text_19\">\n      <!-- GeographicField18B -->\n      <g style=\"fill:#444443;\" transform=\"translate(57.85 248.110347)scale(0.1 -0.1)\">\n       <use xlink:href=\"#DejaVuSans-71\"/>\n       <use x=\"77.490234\" xlink:href=\"#DejaVuSans-101\"/>\n       <use x=\"139.013672\" xlink:href=\"#DejaVuSans-111\"/>\n       <use x=\"200.195312\" xlink:href=\"#DejaVuSans-103\"/>\n       <use x=\"263.671875\" xlink:href=\"#DejaVuSans-114\"/>\n       <use x=\"304.785156\" xlink:href=\"#DejaVuSans-97\"/>\n       <use x=\"366.064453\" xlink:href=\"#DejaVuSans-112\"/>\n       <use x=\"429.541016\" xlink:href=\"#DejaVuSans-104\"/>\n       <use x=\"492.919922\" xlink:href=\"#DejaVuSans-105\"/>\n       <use x=\"520.703125\" xlink:href=\"#DejaVuSans-99\"/>\n       <use x=\"575.683594\" xlink:href=\"#DejaVuSans-70\"/>\n       <use x=\"625.953125\" xlink:href=\"#DejaVuSans-105\"/>\n       <use x=\"653.736328\" xlink:href=\"#DejaVuSans-101\"/>\n       <use x=\"715.259766\" xlink:href=\"#DejaVuSans-108\"/>\n       <use x=\"743.042969\" xlink:href=\"#DejaVuSans-100\"/>\n       <use x=\"806.519531\" xlink:href=\"#DejaVuSans-49\"/>\n       <use x=\"870.142578\" xlink:href=\"#DejaVuSans-56\"/>\n       <use x=\"933.765625\" xlink:href=\"#DejaVuSans-66\"/>\n      </g>\n     </g>\n    </g>\n    <g id=\"ytick_17\">\n     <g id=\"line2d_20\">\n      <g>\n       <use style=\"stroke:#000000;stroke-width:0.8;\" x=\"165.090625\" xlink:href=\"#m3b0424a600\" y=\"260.027049\"/>\n      </g>\n     </g>\n     <g id=\"text_20\">\n      <!-- SalesField1A -->\n      <g style=\"fill:#444443;\" transform=\"translate(95.185938 263.826267)scale(0.1 -0.1)\">\n       <use xlink:href=\"#DejaVuSans-83\"/>\n       <use x=\"63.476562\" xlink:href=\"#DejaVuSans-97\"/>\n       <use x=\"124.755859\" xlink:href=\"#DejaVuSans-108\"/>\n       <use x=\"152.539062\" xlink:href=\"#DejaVuSans-101\"/>\n       <use x=\"214.0625\" xlink:href=\"#DejaVuSans-115\"/>\n       <use x=\"266.162109\" xlink:href=\"#DejaVuSans-70\"/>\n       <use x=\"316.431641\" xlink:href=\"#DejaVuSans-105\"/>\n       <use x=\"344.214844\" xlink:href=\"#DejaVuSans-101\"/>\n       <use x=\"405.738281\" xlink:href=\"#DejaVuSans-108\"/>\n       <use x=\"433.521484\" xlink:href=\"#DejaVuSans-100\"/>\n       <use x=\"496.998047\" xlink:href=\"#DejaVuSans-49\"/>\n       <use x=\"560.621094\" xlink:href=\"#DejaVuSans-65\"/>\n      </g>\n     </g>\n    </g>\n    <g id=\"ytick_18\">\n     <g id=\"line2d_21\">\n      <g>\n       <use style=\"stroke:#000000;stroke-width:0.8;\" x=\"165.090625\" xlink:href=\"#m3b0424a600\" y=\"275.742969\"/>\n      </g>\n     </g>\n     <g id=\"text_21\">\n      <!-- CoverageField11A -->\n      <g style=\"fill:#444443;\" transform=\"translate(67.526563 279.542188)scale(0.1 -0.1)\">\n       <use xlink:href=\"#DejaVuSans-67\"/>\n       <use x=\"69.824219\" xlink:href=\"#DejaVuSans-111\"/>\n       <use x=\"131.005859\" xlink:href=\"#DejaVuSans-118\"/>\n       <use x=\"190.185547\" xlink:href=\"#DejaVuSans-101\"/>\n       <use x=\"251.708984\" xlink:href=\"#DejaVuSans-114\"/>\n       <use x=\"292.822266\" xlink:href=\"#DejaVuSans-97\"/>\n       <use x=\"354.101562\" xlink:href=\"#DejaVuSans-103\"/>\n       <use x=\"417.578125\" xlink:href=\"#DejaVuSans-101\"/>\n       <use x=\"479.101562\" xlink:href=\"#DejaVuSans-70\"/>\n       <use x=\"529.371094\" xlink:href=\"#DejaVuSans-105\"/>\n       <use x=\"557.154297\" xlink:href=\"#DejaVuSans-101\"/>\n       <use x=\"618.677734\" xlink:href=\"#DejaVuSans-108\"/>\n       <use x=\"646.460938\" xlink:href=\"#DejaVuSans-100\"/>\n       <use x=\"709.9375\" xlink:href=\"#DejaVuSans-49\"/>\n       <use x=\"773.560547\" xlink:href=\"#DejaVuSans-49\"/>\n       <use x=\"837.183594\" xlink:href=\"#DejaVuSans-65\"/>\n      </g>\n     </g>\n    </g>\n    <g id=\"ytick_19\">\n     <g id=\"line2d_22\">\n      <g>\n       <use style=\"stroke:#000000;stroke-width:0.8;\" x=\"165.090625\" xlink:href=\"#m3b0424a600\" y=\"291.45889\"/>\n      </g>\n     </g>\n     <g id=\"text_22\">\n      <!-- CoverageField2A -->\n      <g style=\"fill:#444443;\" transform=\"translate(73.889063 295.258108)scale(0.1 -0.1)\">\n       <use xlink:href=\"#DejaVuSans-67\"/>\n       <use x=\"69.824219\" xlink:href=\"#DejaVuSans-111\"/>\n       <use x=\"131.005859\" xlink:href=\"#DejaVuSans-118\"/>\n       <use x=\"190.185547\" xlink:href=\"#DejaVuSans-101\"/>\n       <use x=\"251.708984\" xlink:href=\"#DejaVuSans-114\"/>\n       <use x=\"292.822266\" xlink:href=\"#DejaVuSans-97\"/>\n       <use x=\"354.101562\" xlink:href=\"#DejaVuSans-103\"/>\n       <use x=\"417.578125\" xlink:href=\"#DejaVuSans-101\"/>\n       <use x=\"479.101562\" xlink:href=\"#DejaVuSans-70\"/>\n       <use x=\"529.371094\" xlink:href=\"#DejaVuSans-105\"/>\n       <use x=\"557.154297\" xlink:href=\"#DejaVuSans-101\"/>\n       <use x=\"618.677734\" xlink:href=\"#DejaVuSans-108\"/>\n       <use x=\"646.460938\" xlink:href=\"#DejaVuSans-100\"/>\n       <use x=\"709.9375\" xlink:href=\"#DejaVuSans-50\"/>\n       <use x=\"773.560547\" xlink:href=\"#DejaVuSans-65\"/>\n      </g>\n     </g>\n    </g>\n    <g id=\"ytick_20\">\n     <g id=\"line2d_23\">\n      <g>\n       <use style=\"stroke:#000000;stroke-width:0.8;\" x=\"165.090625\" xlink:href=\"#m3b0424a600\" y=\"307.17481\"/>\n      </g>\n     </g>\n     <g id=\"text_23\">\n      <!-- CoverageField11B -->\n      <g style=\"fill:#444443;\" transform=\"translate(67.50625 310.974029)scale(0.1 -0.1)\">\n       <use xlink:href=\"#DejaVuSans-67\"/>\n       <use x=\"69.824219\" xlink:href=\"#DejaVuSans-111\"/>\n       <use x=\"131.005859\" xlink:href=\"#DejaVuSans-118\"/>\n       <use x=\"190.185547\" xlink:href=\"#DejaVuSans-101\"/>\n       <use x=\"251.708984\" xlink:href=\"#DejaVuSans-114\"/>\n       <use x=\"292.822266\" xlink:href=\"#DejaVuSans-97\"/>\n       <use x=\"354.101562\" xlink:href=\"#DejaVuSans-103\"/>\n       <use x=\"417.578125\" xlink:href=\"#DejaVuSans-101\"/>\n       <use x=\"479.101562\" xlink:href=\"#DejaVuSans-70\"/>\n       <use x=\"529.371094\" xlink:href=\"#DejaVuSans-105\"/>\n       <use x=\"557.154297\" xlink:href=\"#DejaVuSans-101\"/>\n       <use x=\"618.677734\" xlink:href=\"#DejaVuSans-108\"/>\n       <use x=\"646.460938\" xlink:href=\"#DejaVuSans-100\"/>\n       <use x=\"709.9375\" xlink:href=\"#DejaVuSans-49\"/>\n       <use x=\"773.560547\" xlink:href=\"#DejaVuSans-49\"/>\n       <use x=\"837.183594\" xlink:href=\"#DejaVuSans-66\"/>\n      </g>\n     </g>\n    </g>\n    <g id=\"ytick_21\">\n     <g id=\"line2d_24\">\n      <g>\n       <use style=\"stroke:#000000;stroke-width:0.8;\" x=\"165.090625\" xlink:href=\"#m3b0424a600\" y=\"322.890731\"/>\n      </g>\n     </g>\n     <g id=\"text_24\">\n      <!-- Field10 -->\n      <g style=\"fill:#444443;\" transform=\"translate(122.28125 326.689949)scale(0.1 -0.1)\">\n       <use xlink:href=\"#DejaVuSans-70\"/>\n       <use x=\"50.269531\" xlink:href=\"#DejaVuSans-105\"/>\n       <use x=\"78.052734\" xlink:href=\"#DejaVuSans-101\"/>\n       <use x=\"139.576172\" xlink:href=\"#DejaVuSans-108\"/>\n       <use x=\"167.359375\" xlink:href=\"#DejaVuSans-100\"/>\n       <use x=\"230.835938\" xlink:href=\"#DejaVuSans-49\"/>\n       <use x=\"294.458984\" xlink:href=\"#DejaVuSans-48\"/>\n      </g>\n     </g>\n    </g>\n    <g id=\"ytick_22\">\n     <g id=\"line2d_25\">\n      <g>\n       <use style=\"stroke:#000000;stroke-width:0.8;\" x=\"165.090625\" xlink:href=\"#m3b0424a600\" y=\"338.606651\"/>\n      </g>\n     </g>\n     <g id=\"text_25\">\n      <!-- SalesField2A -->\n      <g style=\"fill:#444443;\" transform=\"translate(95.185938 342.40587)scale(0.1 -0.1)\">\n       <use xlink:href=\"#DejaVuSans-83\"/>\n       <use x=\"63.476562\" xlink:href=\"#DejaVuSans-97\"/>\n       <use x=\"124.755859\" xlink:href=\"#DejaVuSans-108\"/>\n       <use x=\"152.539062\" xlink:href=\"#DejaVuSans-101\"/>\n       <use x=\"214.0625\" xlink:href=\"#DejaVuSans-115\"/>\n       <use x=\"266.162109\" xlink:href=\"#DejaVuSans-70\"/>\n       <use x=\"316.431641\" xlink:href=\"#DejaVuSans-105\"/>\n       <use x=\"344.214844\" xlink:href=\"#DejaVuSans-101\"/>\n       <use x=\"405.738281\" xlink:href=\"#DejaVuSans-108\"/>\n       <use x=\"433.521484\" xlink:href=\"#DejaVuSans-100\"/>\n       <use x=\"496.998047\" xlink:href=\"#DejaVuSans-50\"/>\n       <use x=\"560.621094\" xlink:href=\"#DejaVuSans-65\"/>\n      </g>\n     </g>\n    </g>\n    <g id=\"ytick_23\">\n     <g id=\"line2d_26\">\n      <g>\n       <use style=\"stroke:#000000;stroke-width:0.8;\" x=\"165.090625\" xlink:href=\"#m3b0424a600\" y=\"354.322572\"/>\n      </g>\n     </g>\n     <g id=\"text_26\">\n      <!-- GeographicField24B -->\n      <g style=\"fill:#444443;\" transform=\"translate(57.85 358.12179)scale(0.1 -0.1)\">\n       <use xlink:href=\"#DejaVuSans-71\"/>\n       <use x=\"77.490234\" xlink:href=\"#DejaVuSans-101\"/>\n       <use x=\"139.013672\" xlink:href=\"#DejaVuSans-111\"/>\n       <use x=\"200.195312\" xlink:href=\"#DejaVuSans-103\"/>\n       <use x=\"263.671875\" xlink:href=\"#DejaVuSans-114\"/>\n       <use x=\"304.785156\" xlink:href=\"#DejaVuSans-97\"/>\n       <use x=\"366.064453\" xlink:href=\"#DejaVuSans-112\"/>\n       <use x=\"429.541016\" xlink:href=\"#DejaVuSans-104\"/>\n       <use x=\"492.919922\" xlink:href=\"#DejaVuSans-105\"/>\n       <use x=\"520.703125\" xlink:href=\"#DejaVuSans-99\"/>\n       <use x=\"575.683594\" xlink:href=\"#DejaVuSans-70\"/>\n       <use x=\"625.953125\" xlink:href=\"#DejaVuSans-105\"/>\n       <use x=\"653.736328\" xlink:href=\"#DejaVuSans-101\"/>\n       <use x=\"715.259766\" xlink:href=\"#DejaVuSans-108\"/>\n       <use x=\"743.042969\" xlink:href=\"#DejaVuSans-100\"/>\n       <use x=\"806.519531\" xlink:href=\"#DejaVuSans-50\"/>\n       <use x=\"870.142578\" xlink:href=\"#DejaVuSans-52\"/>\n       <use x=\"933.765625\" xlink:href=\"#DejaVuSans-66\"/>\n      </g>\n     </g>\n    </g>\n    <g id=\"ytick_24\">\n     <g id=\"line2d_27\">\n      <g>\n       <use style=\"stroke:#000000;stroke-width:0.8;\" x=\"165.090625\" xlink:href=\"#m3b0424a600\" y=\"370.038492\"/>\n      </g>\n     </g>\n     <g id=\"text_27\">\n      <!-- GeographicField41B -->\n      <g style=\"fill:#444443;\" transform=\"translate(57.85 373.837711)scale(0.1 -0.1)\">\n       <use xlink:href=\"#DejaVuSans-71\"/>\n       <use x=\"77.490234\" xlink:href=\"#DejaVuSans-101\"/>\n       <use x=\"139.013672\" xlink:href=\"#DejaVuSans-111\"/>\n       <use x=\"200.195312\" xlink:href=\"#DejaVuSans-103\"/>\n       <use x=\"263.671875\" xlink:href=\"#DejaVuSans-114\"/>\n       <use x=\"304.785156\" xlink:href=\"#DejaVuSans-97\"/>\n       <use x=\"366.064453\" xlink:href=\"#DejaVuSans-112\"/>\n       <use x=\"429.541016\" xlink:href=\"#DejaVuSans-104\"/>\n       <use x=\"492.919922\" xlink:href=\"#DejaVuSans-105\"/>\n       <use x=\"520.703125\" xlink:href=\"#DejaVuSans-99\"/>\n       <use x=\"575.683594\" xlink:href=\"#DejaVuSans-70\"/>\n       <use x=\"625.953125\" xlink:href=\"#DejaVuSans-105\"/>\n       <use x=\"653.736328\" xlink:href=\"#DejaVuSans-101\"/>\n       <use x=\"715.259766\" xlink:href=\"#DejaVuSans-108\"/>\n       <use x=\"743.042969\" xlink:href=\"#DejaVuSans-100\"/>\n       <use x=\"806.519531\" xlink:href=\"#DejaVuSans-52\"/>\n       <use x=\"870.142578\" xlink:href=\"#DejaVuSans-49\"/>\n       <use x=\"933.765625\" xlink:href=\"#DejaVuSans-66\"/>\n      </g>\n     </g>\n    </g>\n    <g id=\"ytick_25\">\n     <g id=\"line2d_28\">\n      <g>\n       <use style=\"stroke:#000000;stroke-width:0.8;\" x=\"165.090625\" xlink:href=\"#m3b0424a600\" y=\"385.754413\"/>\n      </g>\n     </g>\n     <g id=\"text_28\">\n      <!-- CoverageField1B -->\n      <g style=\"fill:#444443;\" transform=\"translate(73.86875 389.553631)scale(0.1 -0.1)\">\n       <use xlink:href=\"#DejaVuSans-67\"/>\n       <use x=\"69.824219\" xlink:href=\"#DejaVuSans-111\"/>\n       <use x=\"131.005859\" xlink:href=\"#DejaVuSans-118\"/>\n       <use x=\"190.185547\" xlink:href=\"#DejaVuSans-101\"/>\n       <use x=\"251.708984\" xlink:href=\"#DejaVuSans-114\"/>\n       <use x=\"292.822266\" xlink:href=\"#DejaVuSans-97\"/>\n       <use x=\"354.101562\" xlink:href=\"#DejaVuSans-103\"/>\n       <use x=\"417.578125\" xlink:href=\"#DejaVuSans-101\"/>\n       <use x=\"479.101562\" xlink:href=\"#DejaVuSans-70\"/>\n       <use x=\"529.371094\" xlink:href=\"#DejaVuSans-105\"/>\n       <use x=\"557.154297\" xlink:href=\"#DejaVuSans-101\"/>\n       <use x=\"618.677734\" xlink:href=\"#DejaVuSans-108\"/>\n       <use x=\"646.460938\" xlink:href=\"#DejaVuSans-100\"/>\n       <use x=\"709.9375\" xlink:href=\"#DejaVuSans-49\"/>\n       <use x=\"773.560547\" xlink:href=\"#DejaVuSans-66\"/>\n      </g>\n     </g>\n    </g>\n    <g id=\"ytick_26\">\n     <g id=\"line2d_29\">\n      <g>\n       <use style=\"stroke:#000000;stroke-width:0.8;\" x=\"165.090625\" xlink:href=\"#m3b0424a600\" y=\"401.470333\"/>\n      </g>\n     </g>\n     <g id=\"text_29\">\n      <!-- GeographicField29A -->\n      <g style=\"fill:#444443;\" transform=\"translate(57.870313 405.269552)scale(0.1 -0.1)\">\n       <use xlink:href=\"#DejaVuSans-71\"/>\n       <use x=\"77.490234\" xlink:href=\"#DejaVuSans-101\"/>\n       <use x=\"139.013672\" xlink:href=\"#DejaVuSans-111\"/>\n       <use x=\"200.195312\" xlink:href=\"#DejaVuSans-103\"/>\n       <use x=\"263.671875\" xlink:href=\"#DejaVuSans-114\"/>\n       <use x=\"304.785156\" xlink:href=\"#DejaVuSans-97\"/>\n       <use x=\"366.064453\" xlink:href=\"#DejaVuSans-112\"/>\n       <use x=\"429.541016\" xlink:href=\"#DejaVuSans-104\"/>\n       <use x=\"492.919922\" xlink:href=\"#DejaVuSans-105\"/>\n       <use x=\"520.703125\" xlink:href=\"#DejaVuSans-99\"/>\n       <use x=\"575.683594\" xlink:href=\"#DejaVuSans-70\"/>\n       <use x=\"625.953125\" xlink:href=\"#DejaVuSans-105\"/>\n       <use x=\"653.736328\" xlink:href=\"#DejaVuSans-101\"/>\n       <use x=\"715.259766\" xlink:href=\"#DejaVuSans-108\"/>\n       <use x=\"743.042969\" xlink:href=\"#DejaVuSans-100\"/>\n       <use x=\"806.519531\" xlink:href=\"#DejaVuSans-50\"/>\n       <use x=\"870.142578\" xlink:href=\"#DejaVuSans-57\"/>\n       <use x=\"933.765625\" xlink:href=\"#DejaVuSans-65\"/>\n      </g>\n     </g>\n    </g>\n    <g id=\"ytick_27\">\n     <g id=\"line2d_30\">\n      <g>\n       <use style=\"stroke:#000000;stroke-width:0.8;\" x=\"165.090625\" xlink:href=\"#m3b0424a600\" y=\"417.186254\"/>\n      </g>\n     </g>\n     <g id=\"text_30\">\n      <!-- GeographicField54B -->\n      <g style=\"fill:#444443;\" transform=\"translate(57.85 420.985472)scale(0.1 -0.1)\">\n       <use xlink:href=\"#DejaVuSans-71\"/>\n       <use x=\"77.490234\" xlink:href=\"#DejaVuSans-101\"/>\n       <use x=\"139.013672\" xlink:href=\"#DejaVuSans-111\"/>\n       <use x=\"200.195312\" xlink:href=\"#DejaVuSans-103\"/>\n       <use x=\"263.671875\" xlink:href=\"#DejaVuSans-114\"/>\n       <use x=\"304.785156\" xlink:href=\"#DejaVuSans-97\"/>\n       <use x=\"366.064453\" xlink:href=\"#DejaVuSans-112\"/>\n       <use x=\"429.541016\" xlink:href=\"#DejaVuSans-104\"/>\n       <use x=\"492.919922\" xlink:href=\"#DejaVuSans-105\"/>\n       <use x=\"520.703125\" xlink:href=\"#DejaVuSans-99\"/>\n       <use x=\"575.683594\" xlink:href=\"#DejaVuSans-70\"/>\n       <use x=\"625.953125\" xlink:href=\"#DejaVuSans-105\"/>\n       <use x=\"653.736328\" xlink:href=\"#DejaVuSans-101\"/>\n       <use x=\"715.259766\" xlink:href=\"#DejaVuSans-108\"/>\n       <use x=\"743.042969\" xlink:href=\"#DejaVuSans-100\"/>\n       <use x=\"806.519531\" xlink:href=\"#DejaVuSans-53\"/>\n       <use x=\"870.142578\" xlink:href=\"#DejaVuSans-52\"/>\n       <use x=\"933.765625\" xlink:href=\"#DejaVuSans-66\"/>\n      </g>\n     </g>\n    </g>\n    <g id=\"ytick_28\">\n     <g id=\"line2d_31\">\n      <g>\n       <use style=\"stroke:#000000;stroke-width:0.8;\" x=\"165.090625\" xlink:href=\"#m3b0424a600\" y=\"432.902174\"/>\n      </g>\n     </g>\n     <g id=\"text_31\">\n      <!-- PersonalField12 -->\n      <g style=\"fill:#444443;\" transform=\"translate(79.778125 436.701393)scale(0.1 -0.1)\">\n       <use xlink:href=\"#DejaVuSans-80\"/>\n       <use x=\"56.677734\" xlink:href=\"#DejaVuSans-101\"/>\n       <use x=\"118.201172\" xlink:href=\"#DejaVuSans-114\"/>\n       <use x=\"159.314453\" xlink:href=\"#DejaVuSans-115\"/>\n       <use x=\"211.414062\" xlink:href=\"#DejaVuSans-111\"/>\n       <use x=\"272.595703\" xlink:href=\"#DejaVuSans-110\"/>\n       <use x=\"335.974609\" xlink:href=\"#DejaVuSans-97\"/>\n       <use x=\"397.253906\" xlink:href=\"#DejaVuSans-108\"/>\n       <use x=\"425.037109\" xlink:href=\"#DejaVuSans-70\"/>\n       <use x=\"475.306641\" xlink:href=\"#DejaVuSans-105\"/>\n       <use x=\"503.089844\" xlink:href=\"#DejaVuSans-101\"/>\n       <use x=\"564.613281\" xlink:href=\"#DejaVuSans-108\"/>\n       <use x=\"592.396484\" xlink:href=\"#DejaVuSans-100\"/>\n       <use x=\"655.873047\" xlink:href=\"#DejaVuSans-49\"/>\n       <use x=\"719.496094\" xlink:href=\"#DejaVuSans-50\"/>\n      </g>\n     </g>\n    </g>\n    <g id=\"ytick_29\">\n     <g id=\"line2d_32\">\n      <g>\n       <use style=\"stroke:#000000;stroke-width:0.8;\" x=\"165.090625\" xlink:href=\"#m3b0424a600\" y=\"448.618095\"/>\n      </g>\n     </g>\n     <g id=\"text_32\">\n      <!-- SalesField8 -->\n      <g style=\"fill:#444443;\" transform=\"translate(102.026563 452.417313)scale(0.1 -0.1)\">\n       <use xlink:href=\"#DejaVuSans-83\"/>\n       <use x=\"63.476562\" xlink:href=\"#DejaVuSans-97\"/>\n       <use x=\"124.755859\" xlink:href=\"#DejaVuSans-108\"/>\n       <use x=\"152.539062\" xlink:href=\"#DejaVuSans-101\"/>\n       <use x=\"214.0625\" xlink:href=\"#DejaVuSans-115\"/>\n       <use x=\"266.162109\" xlink:href=\"#DejaVuSans-70\"/>\n       <use x=\"316.431641\" xlink:href=\"#DejaVuSans-105\"/>\n       <use x=\"344.214844\" xlink:href=\"#DejaVuSans-101\"/>\n       <use x=\"405.738281\" xlink:href=\"#DejaVuSans-108\"/>\n       <use x=\"433.521484\" xlink:href=\"#DejaVuSans-100\"/>\n       <use x=\"496.998047\" xlink:href=\"#DejaVuSans-56\"/>\n      </g>\n     </g>\n    </g>\n    <g id=\"ytick_30\">\n     <g id=\"line2d_33\">\n      <g>\n       <use style=\"stroke:#000000;stroke-width:0.8;\" x=\"165.090625\" xlink:href=\"#m3b0424a600\" y=\"464.334015\"/>\n      </g>\n     </g>\n     <g id=\"text_33\">\n      <!-- GeographicField25B -->\n      <g style=\"fill:#444443;\" transform=\"translate(57.85 468.133234)scale(0.1 -0.1)\">\n       <use xlink:href=\"#DejaVuSans-71\"/>\n       <use x=\"77.490234\" xlink:href=\"#DejaVuSans-101\"/>\n       <use x=\"139.013672\" xlink:href=\"#DejaVuSans-111\"/>\n       <use x=\"200.195312\" xlink:href=\"#DejaVuSans-103\"/>\n       <use x=\"263.671875\" xlink:href=\"#DejaVuSans-114\"/>\n       <use x=\"304.785156\" xlink:href=\"#DejaVuSans-97\"/>\n       <use x=\"366.064453\" xlink:href=\"#DejaVuSans-112\"/>\n       <use x=\"429.541016\" xlink:href=\"#DejaVuSans-104\"/>\n       <use x=\"492.919922\" xlink:href=\"#DejaVuSans-105\"/>\n       <use x=\"520.703125\" xlink:href=\"#DejaVuSans-99\"/>\n       <use x=\"575.683594\" xlink:href=\"#DejaVuSans-70\"/>\n       <use x=\"625.953125\" xlink:href=\"#DejaVuSans-105\"/>\n       <use x=\"653.736328\" xlink:href=\"#DejaVuSans-101\"/>\n       <use x=\"715.259766\" xlink:href=\"#DejaVuSans-108\"/>\n       <use x=\"743.042969\" xlink:href=\"#DejaVuSans-100\"/>\n       <use x=\"806.519531\" xlink:href=\"#DejaVuSans-50\"/>\n       <use x=\"870.142578\" xlink:href=\"#DejaVuSans-53\"/>\n       <use x=\"933.765625\" xlink:href=\"#DejaVuSans-66\"/>\n      </g>\n     </g>\n    </g>\n    <g id=\"ytick_31\">\n     <g id=\"line2d_34\">\n      <g>\n       <use style=\"stroke:#000000;stroke-width:0.8;\" x=\"165.090625\" xlink:href=\"#m3b0424a600\" y=\"480.049936\"/>\n      </g>\n     </g>\n     <g id=\"text_34\">\n      <!-- GeographicField29B -->\n      <g style=\"fill:#444443;\" transform=\"translate(57.85 483.849154)scale(0.1 -0.1)\">\n       <use xlink:href=\"#DejaVuSans-71\"/>\n       <use x=\"77.490234\" xlink:href=\"#DejaVuSans-101\"/>\n       <use x=\"139.013672\" xlink:href=\"#DejaVuSans-111\"/>\n       <use x=\"200.195312\" xlink:href=\"#DejaVuSans-103\"/>\n       <use x=\"263.671875\" xlink:href=\"#DejaVuSans-114\"/>\n       <use x=\"304.785156\" xlink:href=\"#DejaVuSans-97\"/>\n       <use x=\"366.064453\" xlink:href=\"#DejaVuSans-112\"/>\n       <use x=\"429.541016\" xlink:href=\"#DejaVuSans-104\"/>\n       <use x=\"492.919922\" xlink:href=\"#DejaVuSans-105\"/>\n       <use x=\"520.703125\" xlink:href=\"#DejaVuSans-99\"/>\n       <use x=\"575.683594\" xlink:href=\"#DejaVuSans-70\"/>\n       <use x=\"625.953125\" xlink:href=\"#DejaVuSans-105\"/>\n       <use x=\"653.736328\" xlink:href=\"#DejaVuSans-101\"/>\n       <use x=\"715.259766\" xlink:href=\"#DejaVuSans-108\"/>\n       <use x=\"743.042969\" xlink:href=\"#DejaVuSans-100\"/>\n       <use x=\"806.519531\" xlink:href=\"#DejaVuSans-50\"/>\n       <use x=\"870.142578\" xlink:href=\"#DejaVuSans-57\"/>\n       <use x=\"933.765625\" xlink:href=\"#DejaVuSans-66\"/>\n      </g>\n     </g>\n    </g>\n    <g id=\"ytick_32\">\n     <g id=\"line2d_35\">\n      <g>\n       <use style=\"stroke:#000000;stroke-width:0.8;\" x=\"165.090625\" xlink:href=\"#m3b0424a600\" y=\"495.765856\"/>\n      </g>\n     </g>\n     <g id=\"text_35\">\n      <!-- GeographicField27B -->\n      <g style=\"fill:#444443;\" transform=\"translate(57.85 499.565075)scale(0.1 -0.1)\">\n       <use xlink:href=\"#DejaVuSans-71\"/>\n       <use x=\"77.490234\" xlink:href=\"#DejaVuSans-101\"/>\n       <use x=\"139.013672\" xlink:href=\"#DejaVuSans-111\"/>\n       <use x=\"200.195312\" xlink:href=\"#DejaVuSans-103\"/>\n       <use x=\"263.671875\" xlink:href=\"#DejaVuSans-114\"/>\n       <use x=\"304.785156\" xlink:href=\"#DejaVuSans-97\"/>\n       <use x=\"366.064453\" xlink:href=\"#DejaVuSans-112\"/>\n       <use x=\"429.541016\" xlink:href=\"#DejaVuSans-104\"/>\n       <use x=\"492.919922\" xlink:href=\"#DejaVuSans-105\"/>\n       <use x=\"520.703125\" xlink:href=\"#DejaVuSans-99\"/>\n       <use x=\"575.683594\" xlink:href=\"#DejaVuSans-70\"/>\n       <use x=\"625.953125\" xlink:href=\"#DejaVuSans-105\"/>\n       <use x=\"653.736328\" xlink:href=\"#DejaVuSans-101\"/>\n       <use x=\"715.259766\" xlink:href=\"#DejaVuSans-108\"/>\n       <use x=\"743.042969\" xlink:href=\"#DejaVuSans-100\"/>\n       <use x=\"806.519531\" xlink:href=\"#DejaVuSans-50\"/>\n       <use x=\"870.142578\" xlink:href=\"#DejaVuSans-55\"/>\n       <use x=\"933.765625\" xlink:href=\"#DejaVuSans-66\"/>\n      </g>\n     </g>\n    </g>\n    <g id=\"ytick_33\">\n     <g id=\"line2d_36\">\n      <g>\n       <use style=\"stroke:#000000;stroke-width:0.8;\" x=\"165.090625\" xlink:href=\"#m3b0424a600\" y=\"511.481777\"/>\n      </g>\n     </g>\n     <g id=\"text_36\">\n      <!-- CoverageField2B -->\n      <g style=\"fill:#444443;\" transform=\"translate(73.86875 515.280995)scale(0.1 -0.1)\">\n       <use xlink:href=\"#DejaVuSans-67\"/>\n       <use x=\"69.824219\" xlink:href=\"#DejaVuSans-111\"/>\n       <use x=\"131.005859\" xlink:href=\"#DejaVuSans-118\"/>\n       <use x=\"190.185547\" xlink:href=\"#DejaVuSans-101\"/>\n       <use x=\"251.708984\" xlink:href=\"#DejaVuSans-114\"/>\n       <use x=\"292.822266\" xlink:href=\"#DejaVuSans-97\"/>\n       <use x=\"354.101562\" xlink:href=\"#DejaVuSans-103\"/>\n       <use x=\"417.578125\" xlink:href=\"#DejaVuSans-101\"/>\n       <use x=\"479.101562\" xlink:href=\"#DejaVuSans-70\"/>\n       <use x=\"529.371094\" xlink:href=\"#DejaVuSans-105\"/>\n       <use x=\"557.154297\" xlink:href=\"#DejaVuSans-101\"/>\n       <use x=\"618.677734\" xlink:href=\"#DejaVuSans-108\"/>\n       <use x=\"646.460938\" xlink:href=\"#DejaVuSans-100\"/>\n       <use x=\"709.9375\" xlink:href=\"#DejaVuSans-50\"/>\n       <use x=\"773.560547\" xlink:href=\"#DejaVuSans-66\"/>\n      </g>\n     </g>\n    </g>\n    <g id=\"ytick_34\">\n     <g id=\"line2d_37\">\n      <g>\n       <use style=\"stroke:#000000;stroke-width:0.8;\" x=\"165.090625\" xlink:href=\"#m3b0424a600\" y=\"527.197697\"/>\n      </g>\n     </g>\n     <g id=\"text_37\">\n      <!-- GeographicField54A -->\n      <g style=\"fill:#444443;\" transform=\"translate(57.870313 530.996916)scale(0.1 -0.1)\">\n       <use xlink:href=\"#DejaVuSans-71\"/>\n       <use x=\"77.490234\" xlink:href=\"#DejaVuSans-101\"/>\n       <use x=\"139.013672\" xlink:href=\"#DejaVuSans-111\"/>\n       <use x=\"200.195312\" xlink:href=\"#DejaVuSans-103\"/>\n       <use x=\"263.671875\" xlink:href=\"#DejaVuSans-114\"/>\n       <use x=\"304.785156\" xlink:href=\"#DejaVuSans-97\"/>\n       <use x=\"366.064453\" xlink:href=\"#DejaVuSans-112\"/>\n       <use x=\"429.541016\" xlink:href=\"#DejaVuSans-104\"/>\n       <use x=\"492.919922\" xlink:href=\"#DejaVuSans-105\"/>\n       <use x=\"520.703125\" xlink:href=\"#DejaVuSans-99\"/>\n       <use x=\"575.683594\" xlink:href=\"#DejaVuSans-70\"/>\n       <use x=\"625.953125\" xlink:href=\"#DejaVuSans-105\"/>\n       <use x=\"653.736328\" xlink:href=\"#DejaVuSans-101\"/>\n       <use x=\"715.259766\" xlink:href=\"#DejaVuSans-108\"/>\n       <use x=\"743.042969\" xlink:href=\"#DejaVuSans-100\"/>\n       <use x=\"806.519531\" xlink:href=\"#DejaVuSans-53\"/>\n       <use x=\"870.142578\" xlink:href=\"#DejaVuSans-52\"/>\n       <use x=\"933.765625\" xlink:href=\"#DejaVuSans-65\"/>\n      </g>\n     </g>\n    </g>\n    <g id=\"ytick_35\">\n     <g id=\"line2d_38\">\n      <g>\n       <use style=\"stroke:#000000;stroke-width:0.8;\" x=\"165.090625\" xlink:href=\"#m3b0424a600\" y=\"542.913618\"/>\n      </g>\n     </g>\n     <g id=\"text_38\">\n      <!-- GeographicField56B -->\n      <defs>\n       <path d=\"M 33.015625 40.375 \nQ 26.375 40.375 22.484375 35.828125 \nQ 18.609375 31.296875 18.609375 23.390625 \nQ 18.609375 15.53125 22.484375 10.953125 \nQ 26.375 6.390625 33.015625 6.390625 \nQ 39.65625 6.390625 43.53125 10.953125 \nQ 47.40625 15.53125 47.40625 23.390625 \nQ 47.40625 31.296875 43.53125 35.828125 \nQ 39.65625 40.375 33.015625 40.375 \nz\nM 52.59375 71.296875 \nL 52.59375 62.3125 \nQ 48.875 64.0625 45.09375 64.984375 \nQ 41.3125 65.921875 37.59375 65.921875 \nQ 27.828125 65.921875 22.671875 59.328125 \nQ 17.53125 52.734375 16.796875 39.40625 \nQ 19.671875 43.65625 24.015625 45.921875 \nQ 28.375 48.1875 33.59375 48.1875 \nQ 44.578125 48.1875 50.953125 41.515625 \nQ 57.328125 34.859375 57.328125 23.390625 \nQ 57.328125 12.15625 50.6875 5.359375 \nQ 44.046875 -1.421875 33.015625 -1.421875 \nQ 20.359375 -1.421875 13.671875 8.265625 \nQ 6.984375 17.96875 6.984375 36.375 \nQ 6.984375 53.65625 15.1875 63.9375 \nQ 23.390625 74.21875 37.203125 74.21875 \nQ 40.921875 74.21875 44.703125 73.484375 \nQ 48.484375 72.75 52.59375 71.296875 \nz\n\" id=\"DejaVuSans-54\"/>\n      </defs>\n      <g style=\"fill:#444443;\" transform=\"translate(57.85 546.712837)scale(0.1 -0.1)\">\n       <use xlink:href=\"#DejaVuSans-71\"/>\n       <use x=\"77.490234\" xlink:href=\"#DejaVuSans-101\"/>\n       <use x=\"139.013672\" xlink:href=\"#DejaVuSans-111\"/>\n       <use x=\"200.195312\" xlink:href=\"#DejaVuSans-103\"/>\n       <use x=\"263.671875\" xlink:href=\"#DejaVuSans-114\"/>\n       <use x=\"304.785156\" xlink:href=\"#DejaVuSans-97\"/>\n       <use x=\"366.064453\" xlink:href=\"#DejaVuSans-112\"/>\n       <use x=\"429.541016\" xlink:href=\"#DejaVuSans-104\"/>\n       <use x=\"492.919922\" xlink:href=\"#DejaVuSans-105\"/>\n       <use x=\"520.703125\" xlink:href=\"#DejaVuSans-99\"/>\n       <use x=\"575.683594\" xlink:href=\"#DejaVuSans-70\"/>\n       <use x=\"625.953125\" xlink:href=\"#DejaVuSans-105\"/>\n       <use x=\"653.736328\" xlink:href=\"#DejaVuSans-101\"/>\n       <use x=\"715.259766\" xlink:href=\"#DejaVuSans-108\"/>\n       <use x=\"743.042969\" xlink:href=\"#DejaVuSans-100\"/>\n       <use x=\"806.519531\" xlink:href=\"#DejaVuSans-53\"/>\n       <use x=\"870.142578\" xlink:href=\"#DejaVuSans-54\"/>\n       <use x=\"933.765625\" xlink:href=\"#DejaVuSans-66\"/>\n      </g>\n     </g>\n    </g>\n    <g id=\"ytick_36\">\n     <g id=\"line2d_39\">\n      <g>\n       <use style=\"stroke:#000000;stroke-width:0.8;\" x=\"165.090625\" xlink:href=\"#m3b0424a600\" y=\"558.629538\"/>\n      </g>\n     </g>\n     <g id=\"text_39\">\n      <!-- Original_Quote_Day -->\n      <defs>\n       <path d=\"M 39.40625 66.21875 \nQ 28.65625 66.21875 22.328125 58.203125 \nQ 16.015625 50.203125 16.015625 36.375 \nQ 16.015625 22.609375 22.328125 14.59375 \nQ 28.65625 6.59375 39.40625 6.59375 \nQ 50.140625 6.59375 56.421875 14.59375 \nQ 62.703125 22.609375 62.703125 36.375 \nQ 62.703125 50.203125 56.421875 58.203125 \nQ 50.140625 66.21875 39.40625 66.21875 \nz\nM 39.40625 74.21875 \nQ 54.734375 74.21875 63.90625 63.9375 \nQ 73.09375 53.65625 73.09375 36.375 \nQ 73.09375 19.140625 63.90625 8.859375 \nQ 54.734375 -1.421875 39.40625 -1.421875 \nQ 24.03125 -1.421875 14.8125 8.828125 \nQ 5.609375 19.09375 5.609375 36.375 \nQ 5.609375 53.65625 14.8125 63.9375 \nQ 24.03125 74.21875 39.40625 74.21875 \nz\n\" id=\"DejaVuSans-79\"/>\n       <path d=\"M 39.40625 66.21875 \nQ 28.65625 66.21875 22.328125 58.203125 \nQ 16.015625 50.203125 16.015625 36.375 \nQ 16.015625 22.609375 22.328125 14.59375 \nQ 28.65625 6.59375 39.40625 6.59375 \nQ 50.140625 6.59375 56.421875 14.59375 \nQ 62.703125 22.609375 62.703125 36.375 \nQ 62.703125 50.203125 56.421875 58.203125 \nQ 50.140625 66.21875 39.40625 66.21875 \nz\nM 53.21875 1.3125 \nL 66.21875 -12.890625 \nL 54.296875 -12.890625 \nL 43.5 -1.21875 \nQ 41.890625 -1.3125 41.03125 -1.359375 \nQ 40.1875 -1.421875 39.40625 -1.421875 \nQ 24.03125 -1.421875 14.8125 8.859375 \nQ 5.609375 19.140625 5.609375 36.375 \nQ 5.609375 53.65625 14.8125 63.9375 \nQ 24.03125 74.21875 39.40625 74.21875 \nQ 54.734375 74.21875 63.90625 63.9375 \nQ 73.09375 53.65625 73.09375 36.375 \nQ 73.09375 23.6875 67.984375 14.640625 \nQ 62.890625 5.609375 53.21875 1.3125 \nz\n\" id=\"DejaVuSans-81\"/>\n       <path d=\"M 8.5 21.578125 \nL 8.5 54.6875 \nL 17.484375 54.6875 \nL 17.484375 21.921875 \nQ 17.484375 14.15625 20.5 10.265625 \nQ 23.53125 6.390625 29.59375 6.390625 \nQ 36.859375 6.390625 41.078125 11.03125 \nQ 45.3125 15.671875 45.3125 23.6875 \nL 45.3125 54.6875 \nL 54.296875 54.6875 \nL 54.296875 0 \nL 45.3125 0 \nL 45.3125 8.40625 \nQ 42.046875 3.421875 37.71875 1 \nQ 33.40625 -1.421875 27.6875 -1.421875 \nQ 18.265625 -1.421875 13.375 4.4375 \nQ 8.5 10.296875 8.5 21.578125 \nz\nM 31.109375 56 \nz\n\" id=\"DejaVuSans-117\"/>\n       <path d=\"M 19.671875 64.796875 \nL 19.671875 8.109375 \nL 31.59375 8.109375 \nQ 46.6875 8.109375 53.6875 14.9375 \nQ 60.6875 21.78125 60.6875 36.53125 \nQ 60.6875 51.171875 53.6875 57.984375 \nQ 46.6875 64.796875 31.59375 64.796875 \nz\nM 9.8125 72.90625 \nL 30.078125 72.90625 \nQ 51.265625 72.90625 61.171875 64.09375 \nQ 71.09375 55.28125 71.09375 36.53125 \nQ 71.09375 17.671875 61.125 8.828125 \nQ 51.171875 0 30.078125 0 \nL 9.8125 0 \nz\n\" id=\"DejaVuSans-68\"/>\n      </defs>\n      <g style=\"fill:#444443;\" transform=\"translate(58.810938 562.428757)scale(0.1 -0.1)\">\n       <use xlink:href=\"#DejaVuSans-79\"/>\n       <use x=\"78.710938\" xlink:href=\"#DejaVuSans-114\"/>\n       <use x=\"119.824219\" xlink:href=\"#DejaVuSans-105\"/>\n       <use x=\"147.607422\" xlink:href=\"#DejaVuSans-103\"/>\n       <use x=\"211.083984\" xlink:href=\"#DejaVuSans-105\"/>\n       <use x=\"238.867188\" xlink:href=\"#DejaVuSans-110\"/>\n       <use x=\"302.246094\" xlink:href=\"#DejaVuSans-97\"/>\n       <use x=\"363.525391\" xlink:href=\"#DejaVuSans-108\"/>\n       <use x=\"391.308594\" xlink:href=\"#DejaVuSans-95\"/>\n       <use x=\"441.308594\" xlink:href=\"#DejaVuSans-81\"/>\n       <use x=\"520.019531\" xlink:href=\"#DejaVuSans-117\"/>\n       <use x=\"583.398438\" xlink:href=\"#DejaVuSans-111\"/>\n       <use x=\"644.580078\" xlink:href=\"#DejaVuSans-116\"/>\n       <use x=\"683.789062\" xlink:href=\"#DejaVuSans-101\"/>\n       <use x=\"745.3125\" xlink:href=\"#DejaVuSans-95\"/>\n       <use x=\"795.3125\" xlink:href=\"#DejaVuSans-68\"/>\n       <use x=\"872.314453\" xlink:href=\"#DejaVuSans-97\"/>\n       <use x=\"933.59375\" xlink:href=\"#DejaVuSans-121\"/>\n      </g>\n     </g>\n    </g>\n    <g id=\"ytick_37\">\n     <g id=\"line2d_40\">\n      <g>\n       <use style=\"stroke:#000000;stroke-width:0.8;\" x=\"165.090625\" xlink:href=\"#m3b0424a600\" y=\"574.345459\"/>\n      </g>\n     </g>\n     <g id=\"text_40\">\n      <!-- CoverageField4B -->\n      <g style=\"fill:#444443;\" transform=\"translate(73.86875 578.144678)scale(0.1 -0.1)\">\n       <use xlink:href=\"#DejaVuSans-67\"/>\n       <use x=\"69.824219\" xlink:href=\"#DejaVuSans-111\"/>\n       <use x=\"131.005859\" xlink:href=\"#DejaVuSans-118\"/>\n       <use x=\"190.185547\" xlink:href=\"#DejaVuSans-101\"/>\n       <use x=\"251.708984\" xlink:href=\"#DejaVuSans-114\"/>\n       <use x=\"292.822266\" xlink:href=\"#DejaVuSans-97\"/>\n       <use x=\"354.101562\" xlink:href=\"#DejaVuSans-103\"/>\n       <use x=\"417.578125\" xlink:href=\"#DejaVuSans-101\"/>\n       <use x=\"479.101562\" xlink:href=\"#DejaVuSans-70\"/>\n       <use x=\"529.371094\" xlink:href=\"#DejaVuSans-105\"/>\n       <use x=\"557.154297\" xlink:href=\"#DejaVuSans-101\"/>\n       <use x=\"618.677734\" xlink:href=\"#DejaVuSans-108\"/>\n       <use x=\"646.460938\" xlink:href=\"#DejaVuSans-100\"/>\n       <use x=\"709.9375\" xlink:href=\"#DejaVuSans-52\"/>\n       <use x=\"773.560547\" xlink:href=\"#DejaVuSans-66\"/>\n      </g>\n     </g>\n    </g>\n    <g id=\"ytick_38\">\n     <g id=\"line2d_41\">\n      <g>\n       <use style=\"stroke:#000000;stroke-width:0.8;\" x=\"165.090625\" xlink:href=\"#m3b0424a600\" y=\"590.061379\"/>\n      </g>\n     </g>\n     <g id=\"text_41\">\n      <!-- PropertyField21A -->\n      <g style=\"fill:#444443;\" transform=\"translate(73.129688 593.860598)scale(0.1 -0.1)\">\n       <use xlink:href=\"#DejaVuSans-80\"/>\n       <use x=\"58.552734\" xlink:href=\"#DejaVuSans-114\"/>\n       <use x=\"97.416016\" xlink:href=\"#DejaVuSans-111\"/>\n       <use x=\"158.597656\" xlink:href=\"#DejaVuSans-112\"/>\n       <use x=\"222.074219\" xlink:href=\"#DejaVuSans-101\"/>\n       <use x=\"283.597656\" xlink:href=\"#DejaVuSans-114\"/>\n       <use x=\"324.710938\" xlink:href=\"#DejaVuSans-116\"/>\n       <use x=\"363.919922\" xlink:href=\"#DejaVuSans-121\"/>\n       <use x=\"423.099609\" xlink:href=\"#DejaVuSans-70\"/>\n       <use x=\"473.369141\" xlink:href=\"#DejaVuSans-105\"/>\n       <use x=\"501.152344\" xlink:href=\"#DejaVuSans-101\"/>\n       <use x=\"562.675781\" xlink:href=\"#DejaVuSans-108\"/>\n       <use x=\"590.458984\" xlink:href=\"#DejaVuSans-100\"/>\n       <use x=\"653.935547\" xlink:href=\"#DejaVuSans-50\"/>\n       <use x=\"717.558594\" xlink:href=\"#DejaVuSans-49\"/>\n       <use x=\"781.181641\" xlink:href=\"#DejaVuSans-65\"/>\n      </g>\n     </g>\n    </g>\n    <g id=\"ytick_39\">\n     <g id=\"line2d_42\">\n      <g>\n       <use style=\"stroke:#000000;stroke-width:0.8;\" x=\"165.090625\" xlink:href=\"#m3b0424a600\" y=\"605.7773\"/>\n      </g>\n     </g>\n     <g id=\"text_42\">\n      <!-- GeographicField45A -->\n      <g style=\"fill:#444443;\" transform=\"translate(57.870313 609.576519)scale(0.1 -0.1)\">\n       <use xlink:href=\"#DejaVuSans-71\"/>\n       <use x=\"77.490234\" xlink:href=\"#DejaVuSans-101\"/>\n       <use x=\"139.013672\" xlink:href=\"#DejaVuSans-111\"/>\n       <use x=\"200.195312\" xlink:href=\"#DejaVuSans-103\"/>\n       <use x=\"263.671875\" xlink:href=\"#DejaVuSans-114\"/>\n       <use x=\"304.785156\" xlink:href=\"#DejaVuSans-97\"/>\n       <use x=\"366.064453\" xlink:href=\"#DejaVuSans-112\"/>\n       <use x=\"429.541016\" xlink:href=\"#DejaVuSans-104\"/>\n       <use x=\"492.919922\" xlink:href=\"#DejaVuSans-105\"/>\n       <use x=\"520.703125\" xlink:href=\"#DejaVuSans-99\"/>\n       <use x=\"575.683594\" xlink:href=\"#DejaVuSans-70\"/>\n       <use x=\"625.953125\" xlink:href=\"#DejaVuSans-105\"/>\n       <use x=\"653.736328\" xlink:href=\"#DejaVuSans-101\"/>\n       <use x=\"715.259766\" xlink:href=\"#DejaVuSans-108\"/>\n       <use x=\"743.042969\" xlink:href=\"#DejaVuSans-100\"/>\n       <use x=\"806.519531\" xlink:href=\"#DejaVuSans-52\"/>\n       <use x=\"870.142578\" xlink:href=\"#DejaVuSans-53\"/>\n       <use x=\"933.765625\" xlink:href=\"#DejaVuSans-65\"/>\n      </g>\n     </g>\n    </g>\n    <g id=\"ytick_40\">\n     <g id=\"line2d_43\">\n      <g>\n       <use style=\"stroke:#000000;stroke-width:0.8;\" x=\"165.090625\" xlink:href=\"#m3b0424a600\" y=\"621.49322\"/>\n      </g>\n     </g>\n     <g id=\"text_43\">\n      <!-- Original_Quote_Month -->\n      <defs>\n       <path d=\"M 9.8125 72.90625 \nL 24.515625 72.90625 \nL 43.109375 23.296875 \nL 61.8125 72.90625 \nL 76.515625 72.90625 \nL 76.515625 0 \nL 66.890625 0 \nL 66.890625 64.015625 \nL 48.09375 14.015625 \nL 38.1875 14.015625 \nL 19.390625 64.015625 \nL 19.390625 0 \nL 9.8125 0 \nz\n\" id=\"DejaVuSans-77\"/>\n      </defs>\n      <g style=\"fill:#444443;\" transform=\"translate(47.215625 625.292439)scale(0.1 -0.1)\">\n       <use xlink:href=\"#DejaVuSans-79\"/>\n       <use x=\"78.710938\" xlink:href=\"#DejaVuSans-114\"/>\n       <use x=\"119.824219\" xlink:href=\"#DejaVuSans-105\"/>\n       <use x=\"147.607422\" xlink:href=\"#DejaVuSans-103\"/>\n       <use x=\"211.083984\" xlink:href=\"#DejaVuSans-105\"/>\n       <use x=\"238.867188\" xlink:href=\"#DejaVuSans-110\"/>\n       <use x=\"302.246094\" xlink:href=\"#DejaVuSans-97\"/>\n       <use x=\"363.525391\" xlink:href=\"#DejaVuSans-108\"/>\n       <use x=\"391.308594\" xlink:href=\"#DejaVuSans-95\"/>\n       <use x=\"441.308594\" xlink:href=\"#DejaVuSans-81\"/>\n       <use x=\"520.019531\" xlink:href=\"#DejaVuSans-117\"/>\n       <use x=\"583.398438\" xlink:href=\"#DejaVuSans-111\"/>\n       <use x=\"644.580078\" xlink:href=\"#DejaVuSans-116\"/>\n       <use x=\"683.789062\" xlink:href=\"#DejaVuSans-101\"/>\n       <use x=\"745.3125\" xlink:href=\"#DejaVuSans-95\"/>\n       <use x=\"795.3125\" xlink:href=\"#DejaVuSans-77\"/>\n       <use x=\"881.591797\" xlink:href=\"#DejaVuSans-111\"/>\n       <use x=\"942.773438\" xlink:href=\"#DejaVuSans-110\"/>\n       <use x=\"1006.152344\" xlink:href=\"#DejaVuSans-116\"/>\n       <use x=\"1045.361328\" xlink:href=\"#DejaVuSans-104\"/>\n      </g>\n     </g>\n    </g>\n    <g id=\"ytick_41\">\n     <g id=\"line2d_44\">\n      <g>\n       <use style=\"stroke:#000000;stroke-width:0.8;\" x=\"165.090625\" xlink:href=\"#m3b0424a600\" y=\"637.209141\"/>\n      </g>\n     </g>\n     <g id=\"text_44\">\n      <!-- GeographicField62B -->\n      <g style=\"fill:#444443;\" transform=\"translate(57.85 641.00836)scale(0.1 -0.1)\">\n       <use xlink:href=\"#DejaVuSans-71\"/>\n       <use x=\"77.490234\" xlink:href=\"#DejaVuSans-101\"/>\n       <use x=\"139.013672\" xlink:href=\"#DejaVuSans-111\"/>\n       <use x=\"200.195312\" xlink:href=\"#DejaVuSans-103\"/>\n       <use x=\"263.671875\" xlink:href=\"#DejaVuSans-114\"/>\n       <use x=\"304.785156\" xlink:href=\"#DejaVuSans-97\"/>\n       <use x=\"366.064453\" xlink:href=\"#DejaVuSans-112\"/>\n       <use x=\"429.541016\" xlink:href=\"#DejaVuSans-104\"/>\n       <use x=\"492.919922\" xlink:href=\"#DejaVuSans-105\"/>\n       <use x=\"520.703125\" xlink:href=\"#DejaVuSans-99\"/>\n       <use x=\"575.683594\" xlink:href=\"#DejaVuSans-70\"/>\n       <use x=\"625.953125\" xlink:href=\"#DejaVuSans-105\"/>\n       <use x=\"653.736328\" xlink:href=\"#DejaVuSans-101\"/>\n       <use x=\"715.259766\" xlink:href=\"#DejaVuSans-108\"/>\n       <use x=\"743.042969\" xlink:href=\"#DejaVuSans-100\"/>\n       <use x=\"806.519531\" xlink:href=\"#DejaVuSans-54\"/>\n       <use x=\"870.142578\" xlink:href=\"#DejaVuSans-50\"/>\n       <use x=\"933.765625\" xlink:href=\"#DejaVuSans-66\"/>\n      </g>\n     </g>\n    </g>\n    <g id=\"ytick_42\">\n     <g id=\"line2d_45\">\n      <g>\n       <use style=\"stroke:#000000;stroke-width:0.8;\" x=\"165.090625\" xlink:href=\"#m3b0424a600\" y=\"652.925061\"/>\n      </g>\n     </g>\n     <g id=\"text_45\">\n      <!-- GeographicField8A -->\n      <g style=\"fill:#444443;\" transform=\"translate(64.232813 656.72428)scale(0.1 -0.1)\">\n       <use xlink:href=\"#DejaVuSans-71\"/>\n       <use x=\"77.490234\" xlink:href=\"#DejaVuSans-101\"/>\n       <use x=\"139.013672\" xlink:href=\"#DejaVuSans-111\"/>\n       <use x=\"200.195312\" xlink:href=\"#DejaVuSans-103\"/>\n       <use x=\"263.671875\" xlink:href=\"#DejaVuSans-114\"/>\n       <use x=\"304.785156\" xlink:href=\"#DejaVuSans-97\"/>\n       <use x=\"366.064453\" xlink:href=\"#DejaVuSans-112\"/>\n       <use x=\"429.541016\" xlink:href=\"#DejaVuSans-104\"/>\n       <use x=\"492.919922\" xlink:href=\"#DejaVuSans-105\"/>\n       <use x=\"520.703125\" xlink:href=\"#DejaVuSans-99\"/>\n       <use x=\"575.683594\" xlink:href=\"#DejaVuSans-70\"/>\n       <use x=\"625.953125\" xlink:href=\"#DejaVuSans-105\"/>\n       <use x=\"653.736328\" xlink:href=\"#DejaVuSans-101\"/>\n       <use x=\"715.259766\" xlink:href=\"#DejaVuSans-108\"/>\n       <use x=\"743.042969\" xlink:href=\"#DejaVuSans-100\"/>\n       <use x=\"806.519531\" xlink:href=\"#DejaVuSans-56\"/>\n       <use x=\"870.142578\" xlink:href=\"#DejaVuSans-65\"/>\n      </g>\n     </g>\n    </g>\n    <g id=\"ytick_43\">\n     <g id=\"line2d_46\">\n      <g>\n       <use style=\"stroke:#000000;stroke-width:0.8;\" x=\"165.090625\" xlink:href=\"#m3b0424a600\" y=\"668.640982\"/>\n      </g>\n     </g>\n     <g id=\"text_46\">\n      <!-- PropertyField39B -->\n      <g style=\"fill:#444443;\" transform=\"translate(73.109375 672.440201)scale(0.1 -0.1)\">\n       <use xlink:href=\"#DejaVuSans-80\"/>\n       <use x=\"58.552734\" xlink:href=\"#DejaVuSans-114\"/>\n       <use x=\"97.416016\" xlink:href=\"#DejaVuSans-111\"/>\n       <use x=\"158.597656\" xlink:href=\"#DejaVuSans-112\"/>\n       <use x=\"222.074219\" xlink:href=\"#DejaVuSans-101\"/>\n       <use x=\"283.597656\" xlink:href=\"#DejaVuSans-114\"/>\n       <use x=\"324.710938\" xlink:href=\"#DejaVuSans-116\"/>\n       <use x=\"363.919922\" xlink:href=\"#DejaVuSans-121\"/>\n       <use x=\"423.099609\" xlink:href=\"#DejaVuSans-70\"/>\n       <use x=\"473.369141\" xlink:href=\"#DejaVuSans-105\"/>\n       <use x=\"501.152344\" xlink:href=\"#DejaVuSans-101\"/>\n       <use x=\"562.675781\" xlink:href=\"#DejaVuSans-108\"/>\n       <use x=\"590.458984\" xlink:href=\"#DejaVuSans-100\"/>\n       <use x=\"653.935547\" xlink:href=\"#DejaVuSans-51\"/>\n       <use x=\"717.558594\" xlink:href=\"#DejaVuSans-57\"/>\n       <use x=\"781.181641\" xlink:href=\"#DejaVuSans-66\"/>\n      </g>\n     </g>\n    </g>\n    <g id=\"ytick_44\">\n     <g id=\"line2d_47\">\n      <g>\n       <use style=\"stroke:#000000;stroke-width:0.8;\" x=\"165.090625\" xlink:href=\"#m3b0424a600\" y=\"684.356902\"/>\n      </g>\n     </g>\n     <g id=\"text_47\">\n      <!-- CoverageField3A -->\n      <g style=\"fill:#444443;\" transform=\"translate(73.889063 688.156121)scale(0.1 -0.1)\">\n       <use xlink:href=\"#DejaVuSans-67\"/>\n       <use x=\"69.824219\" xlink:href=\"#DejaVuSans-111\"/>\n       <use x=\"131.005859\" xlink:href=\"#DejaVuSans-118\"/>\n       <use x=\"190.185547\" xlink:href=\"#DejaVuSans-101\"/>\n       <use x=\"251.708984\" xlink:href=\"#DejaVuSans-114\"/>\n       <use x=\"292.822266\" xlink:href=\"#DejaVuSans-97\"/>\n       <use x=\"354.101562\" xlink:href=\"#DejaVuSans-103\"/>\n       <use x=\"417.578125\" xlink:href=\"#DejaVuSans-101\"/>\n       <use x=\"479.101562\" xlink:href=\"#DejaVuSans-70\"/>\n       <use x=\"529.371094\" xlink:href=\"#DejaVuSans-105\"/>\n       <use x=\"557.154297\" xlink:href=\"#DejaVuSans-101\"/>\n       <use x=\"618.677734\" xlink:href=\"#DejaVuSans-108\"/>\n       <use x=\"646.460938\" xlink:href=\"#DejaVuSans-100\"/>\n       <use x=\"709.9375\" xlink:href=\"#DejaVuSans-51\"/>\n       <use x=\"773.560547\" xlink:href=\"#DejaVuSans-65\"/>\n      </g>\n     </g>\n    </g>\n    <g id=\"ytick_45\">\n     <g id=\"line2d_48\">\n      <g>\n       <use style=\"stroke:#000000;stroke-width:0.8;\" x=\"165.090625\" xlink:href=\"#m3b0424a600\" y=\"700.072823\"/>\n      </g>\n     </g>\n     <g id=\"text_48\">\n      <!-- SalesField2B -->\n      <g style=\"fill:#444443;\" transform=\"translate(95.165625 703.872042)scale(0.1 -0.1)\">\n       <use xlink:href=\"#DejaVuSans-83\"/>\n       <use x=\"63.476562\" xlink:href=\"#DejaVuSans-97\"/>\n       <use x=\"124.755859\" xlink:href=\"#DejaVuSans-108\"/>\n       <use x=\"152.539062\" xlink:href=\"#DejaVuSans-101\"/>\n       <use x=\"214.0625\" xlink:href=\"#DejaVuSans-115\"/>\n       <use x=\"266.162109\" xlink:href=\"#DejaVuSans-70\"/>\n       <use x=\"316.431641\" xlink:href=\"#DejaVuSans-105\"/>\n       <use x=\"344.214844\" xlink:href=\"#DejaVuSans-101\"/>\n       <use x=\"405.738281\" xlink:href=\"#DejaVuSans-108\"/>\n       <use x=\"433.521484\" xlink:href=\"#DejaVuSans-100\"/>\n       <use x=\"496.998047\" xlink:href=\"#DejaVuSans-50\"/>\n       <use x=\"560.621094\" xlink:href=\"#DejaVuSans-66\"/>\n      </g>\n     </g>\n    </g>\n    <g id=\"ytick_46\">\n     <g id=\"line2d_49\">\n      <g>\n       <use style=\"stroke:#000000;stroke-width:0.8;\" x=\"165.090625\" xlink:href=\"#m3b0424a600\" y=\"715.788743\"/>\n      </g>\n     </g>\n     <g id=\"text_49\">\n      <!-- PropertyField23 -->\n      <g style=\"fill:#444443;\" transform=\"translate(79.970313 719.587962)scale(0.1 -0.1)\">\n       <use xlink:href=\"#DejaVuSans-80\"/>\n       <use x=\"58.552734\" xlink:href=\"#DejaVuSans-114\"/>\n       <use x=\"97.416016\" xlink:href=\"#DejaVuSans-111\"/>\n       <use x=\"158.597656\" xlink:href=\"#DejaVuSans-112\"/>\n       <use x=\"222.074219\" xlink:href=\"#DejaVuSans-101\"/>\n       <use x=\"283.597656\" xlink:href=\"#DejaVuSans-114\"/>\n       <use x=\"324.710938\" xlink:href=\"#DejaVuSans-116\"/>\n       <use x=\"363.919922\" xlink:href=\"#DejaVuSans-121\"/>\n       <use x=\"423.099609\" xlink:href=\"#DejaVuSans-70\"/>\n       <use x=\"473.369141\" xlink:href=\"#DejaVuSans-105\"/>\n       <use x=\"501.152344\" xlink:href=\"#DejaVuSans-101\"/>\n       <use x=\"562.675781\" xlink:href=\"#DejaVuSans-108\"/>\n       <use x=\"590.458984\" xlink:href=\"#DejaVuSans-100\"/>\n       <use x=\"653.935547\" xlink:href=\"#DejaVuSans-50\"/>\n       <use x=\"717.558594\" xlink:href=\"#DejaVuSans-51\"/>\n      </g>\n     </g>\n    </g>\n    <g id=\"ytick_47\">\n     <g id=\"line2d_50\">\n      <g>\n       <use style=\"stroke:#000000;stroke-width:0.8;\" x=\"165.090625\" xlink:href=\"#m3b0424a600\" y=\"731.504664\"/>\n      </g>\n     </g>\n     <g id=\"text_50\">\n      <!-- PropertyField1A -->\n      <g style=\"fill:#444443;\" transform=\"translate(79.492188 735.303883)scale(0.1 -0.1)\">\n       <use xlink:href=\"#DejaVuSans-80\"/>\n       <use x=\"58.552734\" xlink:href=\"#DejaVuSans-114\"/>\n       <use x=\"97.416016\" xlink:href=\"#DejaVuSans-111\"/>\n       <use x=\"158.597656\" xlink:href=\"#DejaVuSans-112\"/>\n       <use x=\"222.074219\" xlink:href=\"#DejaVuSans-101\"/>\n       <use x=\"283.597656\" xlink:href=\"#DejaVuSans-114\"/>\n       <use x=\"324.710938\" xlink:href=\"#DejaVuSans-116\"/>\n       <use x=\"363.919922\" xlink:href=\"#DejaVuSans-121\"/>\n       <use x=\"423.099609\" xlink:href=\"#DejaVuSans-70\"/>\n       <use x=\"473.369141\" xlink:href=\"#DejaVuSans-105\"/>\n       <use x=\"501.152344\" xlink:href=\"#DejaVuSans-101\"/>\n       <use x=\"562.675781\" xlink:href=\"#DejaVuSans-108\"/>\n       <use x=\"590.458984\" xlink:href=\"#DejaVuSans-100\"/>\n       <use x=\"653.935547\" xlink:href=\"#DejaVuSans-49\"/>\n       <use x=\"717.558594\" xlink:href=\"#DejaVuSans-65\"/>\n      </g>\n     </g>\n    </g>\n    <g id=\"ytick_48\">\n     <g id=\"line2d_51\">\n      <g>\n       <use style=\"stroke:#000000;stroke-width:0.8;\" x=\"165.090625\" xlink:href=\"#m3b0424a600\" y=\"747.220584\"/>\n      </g>\n     </g>\n     <g id=\"text_51\">\n      <!-- GeographicField16B -->\n      <g style=\"fill:#444443;\" transform=\"translate(57.85 751.019803)scale(0.1 -0.1)\">\n       <use xlink:href=\"#DejaVuSans-71\"/>\n       <use x=\"77.490234\" xlink:href=\"#DejaVuSans-101\"/>\n       <use x=\"139.013672\" xlink:href=\"#DejaVuSans-111\"/>\n       <use x=\"200.195312\" xlink:href=\"#DejaVuSans-103\"/>\n       <use x=\"263.671875\" xlink:href=\"#DejaVuSans-114\"/>\n       <use x=\"304.785156\" xlink:href=\"#DejaVuSans-97\"/>\n       <use x=\"366.064453\" xlink:href=\"#DejaVuSans-112\"/>\n       <use x=\"429.541016\" xlink:href=\"#DejaVuSans-104\"/>\n       <use x=\"492.919922\" xlink:href=\"#DejaVuSans-105\"/>\n       <use x=\"520.703125\" xlink:href=\"#DejaVuSans-99\"/>\n       <use x=\"575.683594\" xlink:href=\"#DejaVuSans-70\"/>\n       <use x=\"625.953125\" xlink:href=\"#DejaVuSans-105\"/>\n       <use x=\"653.736328\" xlink:href=\"#DejaVuSans-101\"/>\n       <use x=\"715.259766\" xlink:href=\"#DejaVuSans-108\"/>\n       <use x=\"743.042969\" xlink:href=\"#DejaVuSans-100\"/>\n       <use x=\"806.519531\" xlink:href=\"#DejaVuSans-49\"/>\n       <use x=\"870.142578\" xlink:href=\"#DejaVuSans-54\"/>\n       <use x=\"933.765625\" xlink:href=\"#DejaVuSans-66\"/>\n      </g>\n     </g>\n    </g>\n    <g id=\"ytick_49\">\n     <g id=\"line2d_52\">\n      <g>\n       <use style=\"stroke:#000000;stroke-width:0.8;\" x=\"165.090625\" xlink:href=\"#m3b0424a600\" y=\"762.936505\"/>\n      </g>\n     </g>\n     <g id=\"text_52\">\n      <!-- PropertyField21B -->\n      <g style=\"fill:#444443;\" transform=\"translate(73.109375 766.735724)scale(0.1 -0.1)\">\n       <use xlink:href=\"#DejaVuSans-80\"/>\n       <use x=\"58.552734\" xlink:href=\"#DejaVuSans-114\"/>\n       <use x=\"97.416016\" xlink:href=\"#DejaVuSans-111\"/>\n       <use x=\"158.597656\" xlink:href=\"#DejaVuSans-112\"/>\n       <use x=\"222.074219\" xlink:href=\"#DejaVuSans-101\"/>\n       <use x=\"283.597656\" xlink:href=\"#DejaVuSans-114\"/>\n       <use x=\"324.710938\" xlink:href=\"#DejaVuSans-116\"/>\n       <use x=\"363.919922\" xlink:href=\"#DejaVuSans-121\"/>\n       <use x=\"423.099609\" xlink:href=\"#DejaVuSans-70\"/>\n       <use x=\"473.369141\" xlink:href=\"#DejaVuSans-105\"/>\n       <use x=\"501.152344\" xlink:href=\"#DejaVuSans-101\"/>\n       <use x=\"562.675781\" xlink:href=\"#DejaVuSans-108\"/>\n       <use x=\"590.458984\" xlink:href=\"#DejaVuSans-100\"/>\n       <use x=\"653.935547\" xlink:href=\"#DejaVuSans-50\"/>\n       <use x=\"717.558594\" xlink:href=\"#DejaVuSans-49\"/>\n       <use x=\"781.181641\" xlink:href=\"#DejaVuSans-66\"/>\n      </g>\n     </g>\n    </g>\n    <g id=\"ytick_50\">\n     <g id=\"line2d_53\">\n      <g>\n       <use style=\"stroke:#000000;stroke-width:0.8;\" x=\"165.090625\" xlink:href=\"#m3b0424a600\" y=\"778.652425\"/>\n      </g>\n     </g>\n     <g id=\"text_53\">\n      <!-- GeographicField19B -->\n      <g style=\"fill:#444443;\" transform=\"translate(57.85 782.451644)scale(0.1 -0.1)\">\n       <use xlink:href=\"#DejaVuSans-71\"/>\n       <use x=\"77.490234\" xlink:href=\"#DejaVuSans-101\"/>\n       <use x=\"139.013672\" xlink:href=\"#DejaVuSans-111\"/>\n       <use x=\"200.195312\" xlink:href=\"#DejaVuSans-103\"/>\n       <use x=\"263.671875\" xlink:href=\"#DejaVuSans-114\"/>\n       <use x=\"304.785156\" xlink:href=\"#DejaVuSans-97\"/>\n       <use x=\"366.064453\" xlink:href=\"#DejaVuSans-112\"/>\n       <use x=\"429.541016\" xlink:href=\"#DejaVuSans-104\"/>\n       <use x=\"492.919922\" xlink:href=\"#DejaVuSans-105\"/>\n       <use x=\"520.703125\" xlink:href=\"#DejaVuSans-99\"/>\n       <use x=\"575.683594\" xlink:href=\"#DejaVuSans-70\"/>\n       <use x=\"625.953125\" xlink:href=\"#DejaVuSans-105\"/>\n       <use x=\"653.736328\" xlink:href=\"#DejaVuSans-101\"/>\n       <use x=\"715.259766\" xlink:href=\"#DejaVuSans-108\"/>\n       <use x=\"743.042969\" xlink:href=\"#DejaVuSans-100\"/>\n       <use x=\"806.519531\" xlink:href=\"#DejaVuSans-49\"/>\n       <use x=\"870.142578\" xlink:href=\"#DejaVuSans-57\"/>\n       <use x=\"933.765625\" xlink:href=\"#DejaVuSans-66\"/>\n      </g>\n     </g>\n    </g>\n    <g id=\"ytick_51\">\n     <g id=\"line2d_54\">\n      <g>\n       <use style=\"stroke:#000000;stroke-width:0.8;\" x=\"165.090625\" xlink:href=\"#m3b0424a600\" y=\"794.368346\"/>\n      </g>\n     </g>\n     <g id=\"text_54\">\n      <!-- GeographicField60B -->\n      <g style=\"fill:#444443;\" transform=\"translate(57.85 798.167565)scale(0.1 -0.1)\">\n       <use xlink:href=\"#DejaVuSans-71\"/>\n       <use x=\"77.490234\" xlink:href=\"#DejaVuSans-101\"/>\n       <use x=\"139.013672\" xlink:href=\"#DejaVuSans-111\"/>\n       <use x=\"200.195312\" xlink:href=\"#DejaVuSans-103\"/>\n       <use x=\"263.671875\" xlink:href=\"#DejaVuSans-114\"/>\n       <use x=\"304.785156\" xlink:href=\"#DejaVuSans-97\"/>\n       <use x=\"366.064453\" xlink:href=\"#DejaVuSans-112\"/>\n       <use x=\"429.541016\" xlink:href=\"#DejaVuSans-104\"/>\n       <use x=\"492.919922\" xlink:href=\"#DejaVuSans-105\"/>\n       <use x=\"520.703125\" xlink:href=\"#DejaVuSans-99\"/>\n       <use x=\"575.683594\" xlink:href=\"#DejaVuSans-70\"/>\n       <use x=\"625.953125\" xlink:href=\"#DejaVuSans-105\"/>\n       <use x=\"653.736328\" xlink:href=\"#DejaVuSans-101\"/>\n       <use x=\"715.259766\" xlink:href=\"#DejaVuSans-108\"/>\n       <use x=\"743.042969\" xlink:href=\"#DejaVuSans-100\"/>\n       <use x=\"806.519531\" xlink:href=\"#DejaVuSans-54\"/>\n       <use x=\"870.142578\" xlink:href=\"#DejaVuSans-48\"/>\n       <use x=\"933.765625\" xlink:href=\"#DejaVuSans-66\"/>\n      </g>\n     </g>\n    </g>\n    <g id=\"ytick_52\">\n     <g id=\"line2d_55\">\n      <g>\n       <use style=\"stroke:#000000;stroke-width:0.8;\" x=\"165.090625\" xlink:href=\"#m3b0424a600\" y=\"810.084267\"/>\n      </g>\n     </g>\n     <g id=\"text_55\">\n      <!-- CoverageField6A -->\n      <g style=\"fill:#444443;\" transform=\"translate(73.889063 813.883485)scale(0.1 -0.1)\">\n       <use xlink:href=\"#DejaVuSans-67\"/>\n       <use x=\"69.824219\" xlink:href=\"#DejaVuSans-111\"/>\n       <use x=\"131.005859\" xlink:href=\"#DejaVuSans-118\"/>\n       <use x=\"190.185547\" xlink:href=\"#DejaVuSans-101\"/>\n       <use x=\"251.708984\" xlink:href=\"#DejaVuSans-114\"/>\n       <use x=\"292.822266\" xlink:href=\"#DejaVuSans-97\"/>\n       <use x=\"354.101562\" xlink:href=\"#DejaVuSans-103\"/>\n       <use x=\"417.578125\" xlink:href=\"#DejaVuSans-101\"/>\n       <use x=\"479.101562\" xlink:href=\"#DejaVuSans-70\"/>\n       <use x=\"529.371094\" xlink:href=\"#DejaVuSans-105\"/>\n       <use x=\"557.154297\" xlink:href=\"#DejaVuSans-101\"/>\n       <use x=\"618.677734\" xlink:href=\"#DejaVuSans-108\"/>\n       <use x=\"646.460938\" xlink:href=\"#DejaVuSans-100\"/>\n       <use x=\"709.9375\" xlink:href=\"#DejaVuSans-54\"/>\n       <use x=\"773.560547\" xlink:href=\"#DejaVuSans-65\"/>\n      </g>\n     </g>\n    </g>\n    <g id=\"ytick_53\">\n     <g id=\"line2d_56\">\n      <g>\n       <use style=\"stroke:#000000;stroke-width:0.8;\" x=\"165.090625\" xlink:href=\"#m3b0424a600\" y=\"825.800187\"/>\n      </g>\n     </g>\n     <g id=\"text_56\">\n      <!-- GeographicField49B -->\n      <g style=\"fill:#444443;\" transform=\"translate(57.85 829.599406)scale(0.1 -0.1)\">\n       <use xlink:href=\"#DejaVuSans-71\"/>\n       <use x=\"77.490234\" xlink:href=\"#DejaVuSans-101\"/>\n       <use x=\"139.013672\" xlink:href=\"#DejaVuSans-111\"/>\n       <use x=\"200.195312\" xlink:href=\"#DejaVuSans-103\"/>\n       <use x=\"263.671875\" xlink:href=\"#DejaVuSans-114\"/>\n       <use x=\"304.785156\" xlink:href=\"#DejaVuSans-97\"/>\n       <use x=\"366.064453\" xlink:href=\"#DejaVuSans-112\"/>\n       <use x=\"429.541016\" xlink:href=\"#DejaVuSans-104\"/>\n       <use x=\"492.919922\" xlink:href=\"#DejaVuSans-105\"/>\n       <use x=\"520.703125\" xlink:href=\"#DejaVuSans-99\"/>\n       <use x=\"575.683594\" xlink:href=\"#DejaVuSans-70\"/>\n       <use x=\"625.953125\" xlink:href=\"#DejaVuSans-105\"/>\n       <use x=\"653.736328\" xlink:href=\"#DejaVuSans-101\"/>\n       <use x=\"715.259766\" xlink:href=\"#DejaVuSans-108\"/>\n       <use x=\"743.042969\" xlink:href=\"#DejaVuSans-100\"/>\n       <use x=\"806.519531\" xlink:href=\"#DejaVuSans-52\"/>\n       <use x=\"870.142578\" xlink:href=\"#DejaVuSans-57\"/>\n       <use x=\"933.765625\" xlink:href=\"#DejaVuSans-66\"/>\n      </g>\n     </g>\n    </g>\n    <g id=\"ytick_54\">\n     <g id=\"line2d_57\">\n      <g>\n       <use style=\"stroke:#000000;stroke-width:0.8;\" x=\"165.090625\" xlink:href=\"#m3b0424a600\" y=\"841.516108\"/>\n      </g>\n     </g>\n     <g id=\"text_57\">\n      <!-- GeographicField48A -->\n      <g style=\"fill:#444443;\" transform=\"translate(57.870313 845.315326)scale(0.1 -0.1)\">\n       <use xlink:href=\"#DejaVuSans-71\"/>\n       <use x=\"77.490234\" xlink:href=\"#DejaVuSans-101\"/>\n       <use x=\"139.013672\" xlink:href=\"#DejaVuSans-111\"/>\n       <use x=\"200.195312\" xlink:href=\"#DejaVuSans-103\"/>\n       <use x=\"263.671875\" xlink:href=\"#DejaVuSans-114\"/>\n       <use x=\"304.785156\" xlink:href=\"#DejaVuSans-97\"/>\n       <use x=\"366.064453\" xlink:href=\"#DejaVuSans-112\"/>\n       <use x=\"429.541016\" xlink:href=\"#DejaVuSans-104\"/>\n       <use x=\"492.919922\" xlink:href=\"#DejaVuSans-105\"/>\n       <use x=\"520.703125\" xlink:href=\"#DejaVuSans-99\"/>\n       <use x=\"575.683594\" xlink:href=\"#DejaVuSans-70\"/>\n       <use x=\"625.953125\" xlink:href=\"#DejaVuSans-105\"/>\n       <use x=\"653.736328\" xlink:href=\"#DejaVuSans-101\"/>\n       <use x=\"715.259766\" xlink:href=\"#DejaVuSans-108\"/>\n       <use x=\"743.042969\" xlink:href=\"#DejaVuSans-100\"/>\n       <use x=\"806.519531\" xlink:href=\"#DejaVuSans-52\"/>\n       <use x=\"870.142578\" xlink:href=\"#DejaVuSans-56\"/>\n       <use x=\"933.765625\" xlink:href=\"#DejaVuSans-65\"/>\n      </g>\n     </g>\n    </g>\n    <g id=\"ytick_55\">\n     <g id=\"line2d_58\">\n      <g>\n       <use style=\"stroke:#000000;stroke-width:0.8;\" x=\"165.090625\" xlink:href=\"#m3b0424a600\" y=\"857.232028\"/>\n      </g>\n     </g>\n     <g id=\"text_58\">\n      <!-- GeographicField40B -->\n      <g style=\"fill:#444443;\" transform=\"translate(57.85 861.031247)scale(0.1 -0.1)\">\n       <use xlink:href=\"#DejaVuSans-71\"/>\n       <use x=\"77.490234\" xlink:href=\"#DejaVuSans-101\"/>\n       <use x=\"139.013672\" xlink:href=\"#DejaVuSans-111\"/>\n       <use x=\"200.195312\" xlink:href=\"#DejaVuSans-103\"/>\n       <use x=\"263.671875\" xlink:href=\"#DejaVuSans-114\"/>\n       <use x=\"304.785156\" xlink:href=\"#DejaVuSans-97\"/>\n       <use x=\"366.064453\" xlink:href=\"#DejaVuSans-112\"/>\n       <use x=\"429.541016\" xlink:href=\"#DejaVuSans-104\"/>\n       <use x=\"492.919922\" xlink:href=\"#DejaVuSans-105\"/>\n       <use x=\"520.703125\" xlink:href=\"#DejaVuSans-99\"/>\n       <use x=\"575.683594\" xlink:href=\"#DejaVuSans-70\"/>\n       <use x=\"625.953125\" xlink:href=\"#DejaVuSans-105\"/>\n       <use x=\"653.736328\" xlink:href=\"#DejaVuSans-101\"/>\n       <use x=\"715.259766\" xlink:href=\"#DejaVuSans-108\"/>\n       <use x=\"743.042969\" xlink:href=\"#DejaVuSans-100\"/>\n       <use x=\"806.519531\" xlink:href=\"#DejaVuSans-52\"/>\n       <use x=\"870.142578\" xlink:href=\"#DejaVuSans-48\"/>\n       <use x=\"933.765625\" xlink:href=\"#DejaVuSans-66\"/>\n      </g>\n     </g>\n    </g>\n    <g id=\"ytick_56\">\n     <g id=\"line2d_59\">\n      <g>\n       <use style=\"stroke:#000000;stroke-width:0.8;\" x=\"165.090625\" xlink:href=\"#m3b0424a600\" y=\"872.947949\"/>\n      </g>\n     </g>\n     <g id=\"text_59\">\n      <!-- GeographicField31A -->\n      <g style=\"fill:#444443;\" transform=\"translate(57.870313 876.747167)scale(0.1 -0.1)\">\n       <use xlink:href=\"#DejaVuSans-71\"/>\n       <use x=\"77.490234\" xlink:href=\"#DejaVuSans-101\"/>\n       <use x=\"139.013672\" xlink:href=\"#DejaVuSans-111\"/>\n       <use x=\"200.195312\" xlink:href=\"#DejaVuSans-103\"/>\n       <use x=\"263.671875\" xlink:href=\"#DejaVuSans-114\"/>\n       <use x=\"304.785156\" xlink:href=\"#DejaVuSans-97\"/>\n       <use x=\"366.064453\" xlink:href=\"#DejaVuSans-112\"/>\n       <use x=\"429.541016\" xlink:href=\"#DejaVuSans-104\"/>\n       <use x=\"492.919922\" xlink:href=\"#DejaVuSans-105\"/>\n       <use x=\"520.703125\" xlink:href=\"#DejaVuSans-99\"/>\n       <use x=\"575.683594\" xlink:href=\"#DejaVuSans-70\"/>\n       <use x=\"625.953125\" xlink:href=\"#DejaVuSans-105\"/>\n       <use x=\"653.736328\" xlink:href=\"#DejaVuSans-101\"/>\n       <use x=\"715.259766\" xlink:href=\"#DejaVuSans-108\"/>\n       <use x=\"743.042969\" xlink:href=\"#DejaVuSans-100\"/>\n       <use x=\"806.519531\" xlink:href=\"#DejaVuSans-51\"/>\n       <use x=\"870.142578\" xlink:href=\"#DejaVuSans-49\"/>\n       <use x=\"933.765625\" xlink:href=\"#DejaVuSans-65\"/>\n      </g>\n     </g>\n    </g>\n    <g id=\"ytick_57\">\n     <g id=\"line2d_60\">\n      <g>\n       <use style=\"stroke:#000000;stroke-width:0.8;\" x=\"165.090625\" xlink:href=\"#m3b0424a600\" y=\"888.663869\"/>\n      </g>\n     </g>\n     <g id=\"text_60\">\n      <!-- GeographicField20B -->\n      <g style=\"fill:#444443;\" transform=\"translate(57.85 892.463088)scale(0.1 -0.1)\">\n       <use xlink:href=\"#DejaVuSans-71\"/>\n       <use x=\"77.490234\" xlink:href=\"#DejaVuSans-101\"/>\n       <use x=\"139.013672\" xlink:href=\"#DejaVuSans-111\"/>\n       <use x=\"200.195312\" xlink:href=\"#DejaVuSans-103\"/>\n       <use x=\"263.671875\" xlink:href=\"#DejaVuSans-114\"/>\n       <use x=\"304.785156\" xlink:href=\"#DejaVuSans-97\"/>\n       <use x=\"366.064453\" xlink:href=\"#DejaVuSans-112\"/>\n       <use x=\"429.541016\" xlink:href=\"#DejaVuSans-104\"/>\n       <use x=\"492.919922\" xlink:href=\"#DejaVuSans-105\"/>\n       <use x=\"520.703125\" xlink:href=\"#DejaVuSans-99\"/>\n       <use x=\"575.683594\" xlink:href=\"#DejaVuSans-70\"/>\n       <use x=\"625.953125\" xlink:href=\"#DejaVuSans-105\"/>\n       <use x=\"653.736328\" xlink:href=\"#DejaVuSans-101\"/>\n       <use x=\"715.259766\" xlink:href=\"#DejaVuSans-108\"/>\n       <use x=\"743.042969\" xlink:href=\"#DejaVuSans-100\"/>\n       <use x=\"806.519531\" xlink:href=\"#DejaVuSans-50\"/>\n       <use x=\"870.142578\" xlink:href=\"#DejaVuSans-48\"/>\n       <use x=\"933.765625\" xlink:href=\"#DejaVuSans-66\"/>\n      </g>\n     </g>\n    </g>\n    <g id=\"ytick_58\">\n     <g id=\"line2d_61\">\n      <g>\n       <use style=\"stroke:#000000;stroke-width:0.8;\" x=\"165.090625\" xlink:href=\"#m3b0424a600\" y=\"904.37979\"/>\n      </g>\n     </g>\n     <g id=\"text_61\">\n      <!-- PropertyField11B -->\n      <g style=\"fill:#444443;\" transform=\"translate(73.109375 908.179008)scale(0.1 -0.1)\">\n       <use xlink:href=\"#DejaVuSans-80\"/>\n       <use x=\"58.552734\" xlink:href=\"#DejaVuSans-114\"/>\n       <use x=\"97.416016\" xlink:href=\"#DejaVuSans-111\"/>\n       <use x=\"158.597656\" xlink:href=\"#DejaVuSans-112\"/>\n       <use x=\"222.074219\" xlink:href=\"#DejaVuSans-101\"/>\n       <use x=\"283.597656\" xlink:href=\"#DejaVuSans-114\"/>\n       <use x=\"324.710938\" xlink:href=\"#DejaVuSans-116\"/>\n       <use x=\"363.919922\" xlink:href=\"#DejaVuSans-121\"/>\n       <use x=\"423.099609\" xlink:href=\"#DejaVuSans-70\"/>\n       <use x=\"473.369141\" xlink:href=\"#DejaVuSans-105\"/>\n       <use x=\"501.152344\" xlink:href=\"#DejaVuSans-101\"/>\n       <use x=\"562.675781\" xlink:href=\"#DejaVuSans-108\"/>\n       <use x=\"590.458984\" xlink:href=\"#DejaVuSans-100\"/>\n       <use x=\"653.935547\" xlink:href=\"#DejaVuSans-49\"/>\n       <use x=\"717.558594\" xlink:href=\"#DejaVuSans-49\"/>\n       <use x=\"781.181641\" xlink:href=\"#DejaVuSans-66\"/>\n      </g>\n     </g>\n    </g>\n    <g id=\"ytick_59\">\n     <g id=\"line2d_62\">\n      <g>\n       <use style=\"stroke:#000000;stroke-width:0.8;\" x=\"165.090625\" xlink:href=\"#m3b0424a600\" y=\"920.09571\"/>\n      </g>\n     </g>\n     <g id=\"text_62\">\n      <!-- GeographicField9A -->\n      <g style=\"fill:#444443;\" transform=\"translate(64.232813 923.894929)scale(0.1 -0.1)\">\n       <use xlink:href=\"#DejaVuSans-71\"/>\n       <use x=\"77.490234\" xlink:href=\"#DejaVuSans-101\"/>\n       <use x=\"139.013672\" xlink:href=\"#DejaVuSans-111\"/>\n       <use x=\"200.195312\" xlink:href=\"#DejaVuSans-103\"/>\n       <use x=\"263.671875\" xlink:href=\"#DejaVuSans-114\"/>\n       <use x=\"304.785156\" xlink:href=\"#DejaVuSans-97\"/>\n       <use x=\"366.064453\" xlink:href=\"#DejaVuSans-112\"/>\n       <use x=\"429.541016\" xlink:href=\"#DejaVuSans-104\"/>\n       <use x=\"492.919922\" xlink:href=\"#DejaVuSans-105\"/>\n       <use x=\"520.703125\" xlink:href=\"#DejaVuSans-99\"/>\n       <use x=\"575.683594\" xlink:href=\"#DejaVuSans-70\"/>\n       <use x=\"625.953125\" xlink:href=\"#DejaVuSans-105\"/>\n       <use x=\"653.736328\" xlink:href=\"#DejaVuSans-101\"/>\n       <use x=\"715.259766\" xlink:href=\"#DejaVuSans-108\"/>\n       <use x=\"743.042969\" xlink:href=\"#DejaVuSans-100\"/>\n       <use x=\"806.519531\" xlink:href=\"#DejaVuSans-57\"/>\n       <use x=\"870.142578\" xlink:href=\"#DejaVuSans-65\"/>\n      </g>\n     </g>\n    </g>\n    <g id=\"ytick_60\">\n     <g id=\"line2d_63\">\n      <g>\n       <use style=\"stroke:#000000;stroke-width:0.8;\" x=\"165.090625\" xlink:href=\"#m3b0424a600\" y=\"935.811631\"/>\n      </g>\n     </g>\n     <g id=\"text_63\">\n      <!-- GeographicField2B -->\n      <g style=\"fill:#444443;\" transform=\"translate(64.2125 939.610849)scale(0.1 -0.1)\">\n       <use xlink:href=\"#DejaVuSans-71\"/>\n       <use x=\"77.490234\" xlink:href=\"#DejaVuSans-101\"/>\n       <use x=\"139.013672\" xlink:href=\"#DejaVuSans-111\"/>\n       <use x=\"200.195312\" xlink:href=\"#DejaVuSans-103\"/>\n       <use x=\"263.671875\" xlink:href=\"#DejaVuSans-114\"/>\n       <use x=\"304.785156\" xlink:href=\"#DejaVuSans-97\"/>\n       <use x=\"366.064453\" xlink:href=\"#DejaVuSans-112\"/>\n       <use x=\"429.541016\" xlink:href=\"#DejaVuSans-104\"/>\n       <use x=\"492.919922\" xlink:href=\"#DejaVuSans-105\"/>\n       <use x=\"520.703125\" xlink:href=\"#DejaVuSans-99\"/>\n       <use x=\"575.683594\" xlink:href=\"#DejaVuSans-70\"/>\n       <use x=\"625.953125\" xlink:href=\"#DejaVuSans-105\"/>\n       <use x=\"653.736328\" xlink:href=\"#DejaVuSans-101\"/>\n       <use x=\"715.259766\" xlink:href=\"#DejaVuSans-108\"/>\n       <use x=\"743.042969\" xlink:href=\"#DejaVuSans-100\"/>\n       <use x=\"806.519531\" xlink:href=\"#DejaVuSans-50\"/>\n       <use x=\"870.142578\" xlink:href=\"#DejaVuSans-66\"/>\n      </g>\n     </g>\n    </g>\n    <g id=\"ytick_61\">\n     <g id=\"line2d_64\">\n      <g>\n       <use style=\"stroke:#000000;stroke-width:0.8;\" x=\"165.090625\" xlink:href=\"#m3b0424a600\" y=\"951.527551\"/>\n      </g>\n     </g>\n     <g id=\"text_64\">\n      <!-- GeographicField7A -->\n      <g style=\"fill:#444443;\" transform=\"translate(64.232813 955.32677)scale(0.1 -0.1)\">\n       <use xlink:href=\"#DejaVuSans-71\"/>\n       <use x=\"77.490234\" xlink:href=\"#DejaVuSans-101\"/>\n       <use x=\"139.013672\" xlink:href=\"#DejaVuSans-111\"/>\n       <use x=\"200.195312\" xlink:href=\"#DejaVuSans-103\"/>\n       <use x=\"263.671875\" xlink:href=\"#DejaVuSans-114\"/>\n       <use x=\"304.785156\" xlink:href=\"#DejaVuSans-97\"/>\n       <use x=\"366.064453\" xlink:href=\"#DejaVuSans-112\"/>\n       <use x=\"429.541016\" xlink:href=\"#DejaVuSans-104\"/>\n       <use x=\"492.919922\" xlink:href=\"#DejaVuSans-105\"/>\n       <use x=\"520.703125\" xlink:href=\"#DejaVuSans-99\"/>\n       <use x=\"575.683594\" xlink:href=\"#DejaVuSans-70\"/>\n       <use x=\"625.953125\" xlink:href=\"#DejaVuSans-105\"/>\n       <use x=\"653.736328\" xlink:href=\"#DejaVuSans-101\"/>\n       <use x=\"715.259766\" xlink:href=\"#DejaVuSans-108\"/>\n       <use x=\"743.042969\" xlink:href=\"#DejaVuSans-100\"/>\n       <use x=\"806.519531\" xlink:href=\"#DejaVuSans-55\"/>\n       <use x=\"870.142578\" xlink:href=\"#DejaVuSans-65\"/>\n      </g>\n     </g>\n    </g>\n    <g id=\"ytick_62\">\n     <g id=\"line2d_65\">\n      <g>\n       <use style=\"stroke:#000000;stroke-width:0.8;\" x=\"165.090625\" xlink:href=\"#m3b0424a600\" y=\"967.243472\"/>\n      </g>\n     </g>\n     <g id=\"text_65\">\n      <!-- GeographicField11B -->\n      <g style=\"fill:#444443;\" transform=\"translate(57.85 971.04269)scale(0.1 -0.1)\">\n       <use xlink:href=\"#DejaVuSans-71\"/>\n       <use x=\"77.490234\" xlink:href=\"#DejaVuSans-101\"/>\n       <use x=\"139.013672\" xlink:href=\"#DejaVuSans-111\"/>\n       <use x=\"200.195312\" xlink:href=\"#DejaVuSans-103\"/>\n       <use x=\"263.671875\" xlink:href=\"#DejaVuSans-114\"/>\n       <use x=\"304.785156\" xlink:href=\"#DejaVuSans-97\"/>\n       <use x=\"366.064453\" xlink:href=\"#DejaVuSans-112\"/>\n       <use x=\"429.541016\" xlink:href=\"#DejaVuSans-104\"/>\n       <use x=\"492.919922\" xlink:href=\"#DejaVuSans-105\"/>\n       <use x=\"520.703125\" xlink:href=\"#DejaVuSans-99\"/>\n       <use x=\"575.683594\" xlink:href=\"#DejaVuSans-70\"/>\n       <use x=\"625.953125\" xlink:href=\"#DejaVuSans-105\"/>\n       <use x=\"653.736328\" xlink:href=\"#DejaVuSans-101\"/>\n       <use x=\"715.259766\" xlink:href=\"#DejaVuSans-108\"/>\n       <use x=\"743.042969\" xlink:href=\"#DejaVuSans-100\"/>\n       <use x=\"806.519531\" xlink:href=\"#DejaVuSans-49\"/>\n       <use x=\"870.142578\" xlink:href=\"#DejaVuSans-49\"/>\n       <use x=\"933.765625\" xlink:href=\"#DejaVuSans-66\"/>\n      </g>\n     </g>\n    </g>\n    <g id=\"ytick_63\">\n     <g id=\"line2d_66\">\n      <g>\n       <use style=\"stroke:#000000;stroke-width:0.8;\" x=\"165.090625\" xlink:href=\"#m3b0424a600\" y=\"982.959392\"/>\n      </g>\n     </g>\n     <g id=\"text_66\">\n      <!-- PropertyField13 -->\n      <g style=\"fill:#444443;\" transform=\"translate(79.970313 986.758611)scale(0.1 -0.1)\">\n       <use xlink:href=\"#DejaVuSans-80\"/>\n       <use x=\"58.552734\" xlink:href=\"#DejaVuSans-114\"/>\n       <use x=\"97.416016\" xlink:href=\"#DejaVuSans-111\"/>\n       <use x=\"158.597656\" xlink:href=\"#DejaVuSans-112\"/>\n       <use x=\"222.074219\" xlink:href=\"#DejaVuSans-101\"/>\n       <use x=\"283.597656\" xlink:href=\"#DejaVuSans-114\"/>\n       <use x=\"324.710938\" xlink:href=\"#DejaVuSans-116\"/>\n       <use x=\"363.919922\" xlink:href=\"#DejaVuSans-121\"/>\n       <use x=\"423.099609\" xlink:href=\"#DejaVuSans-70\"/>\n       <use x=\"473.369141\" xlink:href=\"#DejaVuSans-105\"/>\n       <use x=\"501.152344\" xlink:href=\"#DejaVuSans-101\"/>\n       <use x=\"562.675781\" xlink:href=\"#DejaVuSans-108\"/>\n       <use x=\"590.458984\" xlink:href=\"#DejaVuSans-100\"/>\n       <use x=\"653.935547\" xlink:href=\"#DejaVuSans-49\"/>\n       <use x=\"717.558594\" xlink:href=\"#DejaVuSans-51\"/>\n      </g>\n     </g>\n    </g>\n    <g id=\"ytick_64\">\n     <g id=\"line2d_67\">\n      <g>\n       <use style=\"stroke:#000000;stroke-width:0.8;\" x=\"165.090625\" xlink:href=\"#m3b0424a600\" y=\"998.675313\"/>\n      </g>\n     </g>\n     <g id=\"text_67\">\n      <!-- PersonalField84 -->\n      <g style=\"fill:#444443;\" transform=\"translate(79.778125 1002.474531)scale(0.1 -0.1)\">\n       <use xlink:href=\"#DejaVuSans-80\"/>\n       <use x=\"56.677734\" xlink:href=\"#DejaVuSans-101\"/>\n       <use x=\"118.201172\" xlink:href=\"#DejaVuSans-114\"/>\n       <use x=\"159.314453\" xlink:href=\"#DejaVuSans-115\"/>\n       <use x=\"211.414062\" xlink:href=\"#DejaVuSans-111\"/>\n       <use x=\"272.595703\" xlink:href=\"#DejaVuSans-110\"/>\n       <use x=\"335.974609\" xlink:href=\"#DejaVuSans-97\"/>\n       <use x=\"397.253906\" xlink:href=\"#DejaVuSans-108\"/>\n       <use x=\"425.037109\" xlink:href=\"#DejaVuSans-70\"/>\n       <use x=\"475.306641\" xlink:href=\"#DejaVuSans-105\"/>\n       <use x=\"503.089844\" xlink:href=\"#DejaVuSans-101\"/>\n       <use x=\"564.613281\" xlink:href=\"#DejaVuSans-108\"/>\n       <use x=\"592.396484\" xlink:href=\"#DejaVuSans-100\"/>\n       <use x=\"655.873047\" xlink:href=\"#DejaVuSans-56\"/>\n       <use x=\"719.496094\" xlink:href=\"#DejaVuSans-52\"/>\n      </g>\n     </g>\n    </g>\n    <g id=\"ytick_65\">\n     <g id=\"line2d_68\">\n      <g>\n       <use style=\"stroke:#000000;stroke-width:0.8;\" x=\"165.090625\" xlink:href=\"#m3b0424a600\" y=\"1014.391233\"/>\n      </g>\n     </g>\n     <g id=\"text_68\">\n      <!-- GeographicField50B -->\n      <g style=\"fill:#444443;\" transform=\"translate(57.85 1018.190452)scale(0.1 -0.1)\">\n       <use xlink:href=\"#DejaVuSans-71\"/>\n       <use x=\"77.490234\" xlink:href=\"#DejaVuSans-101\"/>\n       <use x=\"139.013672\" xlink:href=\"#DejaVuSans-111\"/>\n       <use x=\"200.195312\" xlink:href=\"#DejaVuSans-103\"/>\n       <use x=\"263.671875\" xlink:href=\"#DejaVuSans-114\"/>\n       <use x=\"304.785156\" xlink:href=\"#DejaVuSans-97\"/>\n       <use x=\"366.064453\" xlink:href=\"#DejaVuSans-112\"/>\n       <use x=\"429.541016\" xlink:href=\"#DejaVuSans-104\"/>\n       <use x=\"492.919922\" xlink:href=\"#DejaVuSans-105\"/>\n       <use x=\"520.703125\" xlink:href=\"#DejaVuSans-99\"/>\n       <use x=\"575.683594\" xlink:href=\"#DejaVuSans-70\"/>\n       <use x=\"625.953125\" xlink:href=\"#DejaVuSans-105\"/>\n       <use x=\"653.736328\" xlink:href=\"#DejaVuSans-101\"/>\n       <use x=\"715.259766\" xlink:href=\"#DejaVuSans-108\"/>\n       <use x=\"743.042969\" xlink:href=\"#DejaVuSans-100\"/>\n       <use x=\"806.519531\" xlink:href=\"#DejaVuSans-53\"/>\n       <use x=\"870.142578\" xlink:href=\"#DejaVuSans-48\"/>\n       <use x=\"933.765625\" xlink:href=\"#DejaVuSans-66\"/>\n      </g>\n     </g>\n    </g>\n    <g id=\"ytick_66\">\n     <g id=\"line2d_69\">\n      <g>\n       <use style=\"stroke:#000000;stroke-width:0.8;\" x=\"165.090625\" xlink:href=\"#m3b0424a600\" y=\"1030.107154\"/>\n      </g>\n     </g>\n     <g id=\"text_69\">\n      <!-- Original_Quote_Dayofweek -->\n      <defs>\n       <path d=\"M 37.109375 75.984375 \nL 37.109375 68.5 \nL 28.515625 68.5 \nQ 23.6875 68.5 21.796875 66.546875 \nQ 19.921875 64.59375 19.921875 59.515625 \nL 19.921875 54.6875 \nL 34.71875 54.6875 \nL 34.71875 47.703125 \nL 19.921875 47.703125 \nL 19.921875 0 \nL 10.890625 0 \nL 10.890625 47.703125 \nL 2.296875 47.703125 \nL 2.296875 54.6875 \nL 10.890625 54.6875 \nL 10.890625 58.5 \nQ 10.890625 67.625 15.140625 71.796875 \nQ 19.390625 75.984375 28.609375 75.984375 \nz\n\" id=\"DejaVuSans-102\"/>\n       <path d=\"M 4.203125 54.6875 \nL 13.1875 54.6875 \nL 24.421875 12.015625 \nL 35.59375 54.6875 \nL 46.1875 54.6875 \nL 57.421875 12.015625 \nL 68.609375 54.6875 \nL 77.59375 54.6875 \nL 63.28125 0 \nL 52.6875 0 \nL 40.921875 44.828125 \nL 29.109375 0 \nL 18.5 0 \nz\n\" id=\"DejaVuSans-119\"/>\n       <path d=\"M 9.078125 75.984375 \nL 18.109375 75.984375 \nL 18.109375 31.109375 \nL 44.921875 54.6875 \nL 56.390625 54.6875 \nL 27.390625 29.109375 \nL 57.625 0 \nL 45.90625 0 \nL 18.109375 26.703125 \nL 18.109375 0 \nL 9.078125 0 \nz\n\" id=\"DejaVuSans-107\"/>\n      </defs>\n      <g style=\"fill:#444443;\" transform=\"translate(23.071875 1033.906372)scale(0.1 -0.1)\">\n       <use xlink:href=\"#DejaVuSans-79\"/>\n       <use x=\"78.710938\" xlink:href=\"#DejaVuSans-114\"/>\n       <use x=\"119.824219\" xlink:href=\"#DejaVuSans-105\"/>\n       <use x=\"147.607422\" xlink:href=\"#DejaVuSans-103\"/>\n       <use x=\"211.083984\" xlink:href=\"#DejaVuSans-105\"/>\n       <use x=\"238.867188\" xlink:href=\"#DejaVuSans-110\"/>\n       <use x=\"302.246094\" xlink:href=\"#DejaVuSans-97\"/>\n       <use x=\"363.525391\" xlink:href=\"#DejaVuSans-108\"/>\n       <use x=\"391.308594\" xlink:href=\"#DejaVuSans-95\"/>\n       <use x=\"441.308594\" xlink:href=\"#DejaVuSans-81\"/>\n       <use x=\"520.019531\" xlink:href=\"#DejaVuSans-117\"/>\n       <use x=\"583.398438\" xlink:href=\"#DejaVuSans-111\"/>\n       <use x=\"644.580078\" xlink:href=\"#DejaVuSans-116\"/>\n       <use x=\"683.789062\" xlink:href=\"#DejaVuSans-101\"/>\n       <use x=\"745.3125\" xlink:href=\"#DejaVuSans-95\"/>\n       <use x=\"795.3125\" xlink:href=\"#DejaVuSans-68\"/>\n       <use x=\"872.314453\" xlink:href=\"#DejaVuSans-97\"/>\n       <use x=\"933.59375\" xlink:href=\"#DejaVuSans-121\"/>\n       <use x=\"992.773438\" xlink:href=\"#DejaVuSans-111\"/>\n       <use x=\"1053.955078\" xlink:href=\"#DejaVuSans-102\"/>\n       <use x=\"1087.410156\" xlink:href=\"#DejaVuSans-119\"/>\n       <use x=\"1169.197266\" xlink:href=\"#DejaVuSans-101\"/>\n       <use x=\"1230.720703\" xlink:href=\"#DejaVuSans-101\"/>\n       <use x=\"1292.244141\" xlink:href=\"#DejaVuSans-107\"/>\n      </g>\n     </g>\n    </g>\n    <g id=\"ytick_67\">\n     <g id=\"line2d_70\">\n      <g>\n       <use style=\"stroke:#000000;stroke-width:0.8;\" x=\"165.090625\" xlink:href=\"#m3b0424a600\" y=\"1045.823074\"/>\n      </g>\n     </g>\n     <g id=\"text_70\">\n      <!-- GeographicField16A -->\n      <g style=\"fill:#444443;\" transform=\"translate(57.870313 1049.622293)scale(0.1 -0.1)\">\n       <use xlink:href=\"#DejaVuSans-71\"/>\n       <use x=\"77.490234\" xlink:href=\"#DejaVuSans-101\"/>\n       <use x=\"139.013672\" xlink:href=\"#DejaVuSans-111\"/>\n       <use x=\"200.195312\" xlink:href=\"#DejaVuSans-103\"/>\n       <use x=\"263.671875\" xlink:href=\"#DejaVuSans-114\"/>\n       <use x=\"304.785156\" xlink:href=\"#DejaVuSans-97\"/>\n       <use x=\"366.064453\" xlink:href=\"#DejaVuSans-112\"/>\n       <use x=\"429.541016\" xlink:href=\"#DejaVuSans-104\"/>\n       <use x=\"492.919922\" xlink:href=\"#DejaVuSans-105\"/>\n       <use x=\"520.703125\" xlink:href=\"#DejaVuSans-99\"/>\n       <use x=\"575.683594\" xlink:href=\"#DejaVuSans-70\"/>\n       <use x=\"625.953125\" xlink:href=\"#DejaVuSans-105\"/>\n       <use x=\"653.736328\" xlink:href=\"#DejaVuSans-101\"/>\n       <use x=\"715.259766\" xlink:href=\"#DejaVuSans-108\"/>\n       <use x=\"743.042969\" xlink:href=\"#DejaVuSans-100\"/>\n       <use x=\"806.519531\" xlink:href=\"#DejaVuSans-49\"/>\n       <use x=\"870.142578\" xlink:href=\"#DejaVuSans-54\"/>\n       <use x=\"933.765625\" xlink:href=\"#DejaVuSans-65\"/>\n      </g>\n     </g>\n    </g>\n    <g id=\"ytick_68\">\n     <g id=\"line2d_71\">\n      <g>\n       <use style=\"stroke:#000000;stroke-width:0.8;\" x=\"165.090625\" xlink:href=\"#m3b0424a600\" y=\"1061.538995\"/>\n      </g>\n     </g>\n     <g id=\"text_71\">\n      <!-- PersonalField82 -->\n      <g style=\"fill:#444443;\" transform=\"translate(79.778125 1065.338213)scale(0.1 -0.1)\">\n       <use xlink:href=\"#DejaVuSans-80\"/>\n       <use x=\"56.677734\" xlink:href=\"#DejaVuSans-101\"/>\n       <use x=\"118.201172\" xlink:href=\"#DejaVuSans-114\"/>\n       <use x=\"159.314453\" xlink:href=\"#DejaVuSans-115\"/>\n       <use x=\"211.414062\" xlink:href=\"#DejaVuSans-111\"/>\n       <use x=\"272.595703\" xlink:href=\"#DejaVuSans-110\"/>\n       <use x=\"335.974609\" xlink:href=\"#DejaVuSans-97\"/>\n       <use x=\"397.253906\" xlink:href=\"#DejaVuSans-108\"/>\n       <use x=\"425.037109\" xlink:href=\"#DejaVuSans-70\"/>\n       <use x=\"475.306641\" xlink:href=\"#DejaVuSans-105\"/>\n       <use x=\"503.089844\" xlink:href=\"#DejaVuSans-101\"/>\n       <use x=\"564.613281\" xlink:href=\"#DejaVuSans-108\"/>\n       <use x=\"592.396484\" xlink:href=\"#DejaVuSans-100\"/>\n       <use x=\"655.873047\" xlink:href=\"#DejaVuSans-56\"/>\n       <use x=\"719.496094\" xlink:href=\"#DejaVuSans-50\"/>\n      </g>\n     </g>\n    </g>\n    <g id=\"ytick_69\">\n     <g id=\"line2d_72\">\n      <g>\n       <use style=\"stroke:#000000;stroke-width:0.8;\" x=\"165.090625\" xlink:href=\"#m3b0424a600\" y=\"1077.254915\"/>\n      </g>\n     </g>\n     <g id=\"text_72\">\n      <!-- GeographicField30B -->\n      <g style=\"fill:#444443;\" transform=\"translate(57.85 1081.054134)scale(0.1 -0.1)\">\n       <use xlink:href=\"#DejaVuSans-71\"/>\n       <use x=\"77.490234\" xlink:href=\"#DejaVuSans-101\"/>\n       <use x=\"139.013672\" xlink:href=\"#DejaVuSans-111\"/>\n       <use x=\"200.195312\" xlink:href=\"#DejaVuSans-103\"/>\n       <use x=\"263.671875\" xlink:href=\"#DejaVuSans-114\"/>\n       <use x=\"304.785156\" xlink:href=\"#DejaVuSans-97\"/>\n       <use x=\"366.064453\" xlink:href=\"#DejaVuSans-112\"/>\n       <use x=\"429.541016\" xlink:href=\"#DejaVuSans-104\"/>\n       <use x=\"492.919922\" xlink:href=\"#DejaVuSans-105\"/>\n       <use x=\"520.703125\" xlink:href=\"#DejaVuSans-99\"/>\n       <use x=\"575.683594\" xlink:href=\"#DejaVuSans-70\"/>\n       <use x=\"625.953125\" xlink:href=\"#DejaVuSans-105\"/>\n       <use x=\"653.736328\" xlink:href=\"#DejaVuSans-101\"/>\n       <use x=\"715.259766\" xlink:href=\"#DejaVuSans-108\"/>\n       <use x=\"743.042969\" xlink:href=\"#DejaVuSans-100\"/>\n       <use x=\"806.519531\" xlink:href=\"#DejaVuSans-51\"/>\n       <use x=\"870.142578\" xlink:href=\"#DejaVuSans-48\"/>\n       <use x=\"933.765625\" xlink:href=\"#DejaVuSans-66\"/>\n      </g>\n     </g>\n    </g>\n    <g id=\"ytick_70\">\n     <g id=\"line2d_73\">\n      <g>\n       <use style=\"stroke:#000000;stroke-width:0.8;\" x=\"165.090625\" xlink:href=\"#m3b0424a600\" y=\"1092.970836\"/>\n      </g>\n     </g>\n     <g id=\"text_73\">\n      <!-- GeographicField28A -->\n      <g style=\"fill:#444443;\" transform=\"translate(57.870313 1096.770055)scale(0.1 -0.1)\">\n       <use xlink:href=\"#DejaVuSans-71\"/>\n       <use x=\"77.490234\" xlink:href=\"#DejaVuSans-101\"/>\n       <use x=\"139.013672\" xlink:href=\"#DejaVuSans-111\"/>\n       <use x=\"200.195312\" xlink:href=\"#DejaVuSans-103\"/>\n       <use x=\"263.671875\" xlink:href=\"#DejaVuSans-114\"/>\n       <use x=\"304.785156\" xlink:href=\"#DejaVuSans-97\"/>\n       <use x=\"366.064453\" xlink:href=\"#DejaVuSans-112\"/>\n       <use x=\"429.541016\" xlink:href=\"#DejaVuSans-104\"/>\n       <use x=\"492.919922\" xlink:href=\"#DejaVuSans-105\"/>\n       <use x=\"520.703125\" xlink:href=\"#DejaVuSans-99\"/>\n       <use x=\"575.683594\" xlink:href=\"#DejaVuSans-70\"/>\n       <use x=\"625.953125\" xlink:href=\"#DejaVuSans-105\"/>\n       <use x=\"653.736328\" xlink:href=\"#DejaVuSans-101\"/>\n       <use x=\"715.259766\" xlink:href=\"#DejaVuSans-108\"/>\n       <use x=\"743.042969\" xlink:href=\"#DejaVuSans-100\"/>\n       <use x=\"806.519531\" xlink:href=\"#DejaVuSans-50\"/>\n       <use x=\"870.142578\" xlink:href=\"#DejaVuSans-56\"/>\n       <use x=\"933.765625\" xlink:href=\"#DejaVuSans-65\"/>\n      </g>\n     </g>\n    </g>\n    <g id=\"ytick_71\">\n     <g id=\"line2d_74\">\n      <g>\n       <use style=\"stroke:#000000;stroke-width:0.8;\" x=\"165.090625\" xlink:href=\"#m3b0424a600\" y=\"1108.686756\"/>\n      </g>\n     </g>\n     <g id=\"text_74\">\n      <!-- GeographicField23B -->\n      <g style=\"fill:#444443;\" transform=\"translate(57.85 1112.485975)scale(0.1 -0.1)\">\n       <use xlink:href=\"#DejaVuSans-71\"/>\n       <use x=\"77.490234\" xlink:href=\"#DejaVuSans-101\"/>\n       <use x=\"139.013672\" xlink:href=\"#DejaVuSans-111\"/>\n       <use x=\"200.195312\" xlink:href=\"#DejaVuSans-103\"/>\n       <use x=\"263.671875\" xlink:href=\"#DejaVuSans-114\"/>\n       <use x=\"304.785156\" xlink:href=\"#DejaVuSans-97\"/>\n       <use x=\"366.064453\" xlink:href=\"#DejaVuSans-112\"/>\n       <use x=\"429.541016\" xlink:href=\"#DejaVuSans-104\"/>\n       <use x=\"492.919922\" xlink:href=\"#DejaVuSans-105\"/>\n       <use x=\"520.703125\" xlink:href=\"#DejaVuSans-99\"/>\n       <use x=\"575.683594\" xlink:href=\"#DejaVuSans-70\"/>\n       <use x=\"625.953125\" xlink:href=\"#DejaVuSans-105\"/>\n       <use x=\"653.736328\" xlink:href=\"#DejaVuSans-101\"/>\n       <use x=\"715.259766\" xlink:href=\"#DejaVuSans-108\"/>\n       <use x=\"743.042969\" xlink:href=\"#DejaVuSans-100\"/>\n       <use x=\"806.519531\" xlink:href=\"#DejaVuSans-50\"/>\n       <use x=\"870.142578\" xlink:href=\"#DejaVuSans-51\"/>\n       <use x=\"933.765625\" xlink:href=\"#DejaVuSans-66\"/>\n      </g>\n     </g>\n    </g>\n    <g id=\"ytick_72\">\n     <g id=\"line2d_75\">\n      <g>\n       <use style=\"stroke:#000000;stroke-width:0.8;\" x=\"165.090625\" xlink:href=\"#m3b0424a600\" y=\"1124.402677\"/>\n      </g>\n     </g>\n     <g id=\"text_75\">\n      <!-- PropertyField25 -->\n      <g style=\"fill:#444443;\" transform=\"translate(79.970313 1128.201896)scale(0.1 -0.1)\">\n       <use xlink:href=\"#DejaVuSans-80\"/>\n       <use x=\"58.552734\" xlink:href=\"#DejaVuSans-114\"/>\n       <use x=\"97.416016\" xlink:href=\"#DejaVuSans-111\"/>\n       <use x=\"158.597656\" xlink:href=\"#DejaVuSans-112\"/>\n       <use x=\"222.074219\" xlink:href=\"#DejaVuSans-101\"/>\n       <use x=\"283.597656\" xlink:href=\"#DejaVuSans-114\"/>\n       <use x=\"324.710938\" xlink:href=\"#DejaVuSans-116\"/>\n       <use x=\"363.919922\" xlink:href=\"#DejaVuSans-121\"/>\n       <use x=\"423.099609\" xlink:href=\"#DejaVuSans-70\"/>\n       <use x=\"473.369141\" xlink:href=\"#DejaVuSans-105\"/>\n       <use x=\"501.152344\" xlink:href=\"#DejaVuSans-101\"/>\n       <use x=\"562.675781\" xlink:href=\"#DejaVuSans-108\"/>\n       <use x=\"590.458984\" xlink:href=\"#DejaVuSans-100\"/>\n       <use x=\"653.935547\" xlink:href=\"#DejaVuSans-50\"/>\n       <use x=\"717.558594\" xlink:href=\"#DejaVuSans-53\"/>\n      </g>\n     </g>\n    </g>\n    <g id=\"ytick_73\">\n     <g id=\"line2d_76\">\n      <g>\n       <use style=\"stroke:#000000;stroke-width:0.8;\" x=\"165.090625\" xlink:href=\"#m3b0424a600\" y=\"1140.118597\"/>\n      </g>\n     </g>\n     <g id=\"text_76\">\n      <!-- GeographicField13B -->\n      <g style=\"fill:#444443;\" transform=\"translate(57.85 1143.917816)scale(0.1 -0.1)\">\n       <use xlink:href=\"#DejaVuSans-71\"/>\n       <use x=\"77.490234\" xlink:href=\"#DejaVuSans-101\"/>\n       <use x=\"139.013672\" xlink:href=\"#DejaVuSans-111\"/>\n       <use x=\"200.195312\" xlink:href=\"#DejaVuSans-103\"/>\n       <use x=\"263.671875\" xlink:href=\"#DejaVuSans-114\"/>\n       <use x=\"304.785156\" xlink:href=\"#DejaVuSans-97\"/>\n       <use x=\"366.064453\" xlink:href=\"#DejaVuSans-112\"/>\n       <use x=\"429.541016\" xlink:href=\"#DejaVuSans-104\"/>\n       <use x=\"492.919922\" xlink:href=\"#DejaVuSans-105\"/>\n       <use x=\"520.703125\" xlink:href=\"#DejaVuSans-99\"/>\n       <use x=\"575.683594\" xlink:href=\"#DejaVuSans-70\"/>\n       <use x=\"625.953125\" xlink:href=\"#DejaVuSans-105\"/>\n       <use x=\"653.736328\" xlink:href=\"#DejaVuSans-101\"/>\n       <use x=\"715.259766\" xlink:href=\"#DejaVuSans-108\"/>\n       <use x=\"743.042969\" xlink:href=\"#DejaVuSans-100\"/>\n       <use x=\"806.519531\" xlink:href=\"#DejaVuSans-49\"/>\n       <use x=\"870.142578\" xlink:href=\"#DejaVuSans-51\"/>\n       <use x=\"933.765625\" xlink:href=\"#DejaVuSans-66\"/>\n      </g>\n     </g>\n    </g>\n    <g id=\"ytick_74\">\n     <g id=\"line2d_77\">\n      <g>\n       <use style=\"stroke:#000000;stroke-width:0.8;\" x=\"165.090625\" xlink:href=\"#m3b0424a600\" y=\"1155.834518\"/>\n      </g>\n     </g>\n     <g id=\"text_77\">\n      <!-- GeographicField17B -->\n      <g style=\"fill:#444443;\" transform=\"translate(57.85 1159.633737)scale(0.1 -0.1)\">\n       <use xlink:href=\"#DejaVuSans-71\"/>\n       <use x=\"77.490234\" xlink:href=\"#DejaVuSans-101\"/>\n       <use x=\"139.013672\" xlink:href=\"#DejaVuSans-111\"/>\n       <use x=\"200.195312\" xlink:href=\"#DejaVuSans-103\"/>\n       <use x=\"263.671875\" xlink:href=\"#DejaVuSans-114\"/>\n       <use x=\"304.785156\" xlink:href=\"#DejaVuSans-97\"/>\n       <use x=\"366.064453\" xlink:href=\"#DejaVuSans-112\"/>\n       <use x=\"429.541016\" xlink:href=\"#DejaVuSans-104\"/>\n       <use x=\"492.919922\" xlink:href=\"#DejaVuSans-105\"/>\n       <use x=\"520.703125\" xlink:href=\"#DejaVuSans-99\"/>\n       <use x=\"575.683594\" xlink:href=\"#DejaVuSans-70\"/>\n       <use x=\"625.953125\" xlink:href=\"#DejaVuSans-105\"/>\n       <use x=\"653.736328\" xlink:href=\"#DejaVuSans-101\"/>\n       <use x=\"715.259766\" xlink:href=\"#DejaVuSans-108\"/>\n       <use x=\"743.042969\" xlink:href=\"#DejaVuSans-100\"/>\n       <use x=\"806.519531\" xlink:href=\"#DejaVuSans-49\"/>\n       <use x=\"870.142578\" xlink:href=\"#DejaVuSans-55\"/>\n       <use x=\"933.765625\" xlink:href=\"#DejaVuSans-66\"/>\n      </g>\n     </g>\n    </g>\n    <g id=\"ytick_75\">\n     <g id=\"line2d_78\">\n      <g>\n       <use style=\"stroke:#000000;stroke-width:0.8;\" x=\"165.090625\" xlink:href=\"#m3b0424a600\" y=\"1171.550438\"/>\n      </g>\n     </g>\n     <g id=\"text_78\">\n      <!-- SalesField6 -->\n      <g style=\"fill:#444443;\" transform=\"translate(102.026563 1175.349657)scale(0.1 -0.1)\">\n       <use xlink:href=\"#DejaVuSans-83\"/>\n       <use x=\"63.476562\" xlink:href=\"#DejaVuSans-97\"/>\n       <use x=\"124.755859\" xlink:href=\"#DejaVuSans-108\"/>\n       <use x=\"152.539062\" xlink:href=\"#DejaVuSans-101\"/>\n       <use x=\"214.0625\" xlink:href=\"#DejaVuSans-115\"/>\n       <use x=\"266.162109\" xlink:href=\"#DejaVuSans-70\"/>\n       <use x=\"316.431641\" xlink:href=\"#DejaVuSans-105\"/>\n       <use x=\"344.214844\" xlink:href=\"#DejaVuSans-101\"/>\n       <use x=\"405.738281\" xlink:href=\"#DejaVuSans-108\"/>\n       <use x=\"433.521484\" xlink:href=\"#DejaVuSans-100\"/>\n       <use x=\"496.998047\" xlink:href=\"#DejaVuSans-54\"/>\n      </g>\n     </g>\n    </g>\n    <g id=\"ytick_76\">\n     <g id=\"line2d_79\">\n      <g>\n       <use style=\"stroke:#000000;stroke-width:0.8;\" x=\"165.090625\" xlink:href=\"#m3b0424a600\" y=\"1187.266359\"/>\n      </g>\n     </g>\n     <g id=\"text_79\">\n      <!-- Original_Quote_Elapsed -->\n      <defs>\n       <path d=\"M 9.8125 72.90625 \nL 55.90625 72.90625 \nL 55.90625 64.59375 \nL 19.671875 64.59375 \nL 19.671875 43.015625 \nL 54.390625 43.015625 \nL 54.390625 34.71875 \nL 19.671875 34.71875 \nL 19.671875 8.296875 \nL 56.78125 8.296875 \nL 56.78125 0 \nL 9.8125 0 \nz\n\" id=\"DejaVuSans-69\"/>\n      </defs>\n      <g style=\"fill:#444443;\" transform=\"translate(39.273438 1191.065578)scale(0.1 -0.1)\">\n       <use xlink:href=\"#DejaVuSans-79\"/>\n       <use x=\"78.710938\" xlink:href=\"#DejaVuSans-114\"/>\n       <use x=\"119.824219\" xlink:href=\"#DejaVuSans-105\"/>\n       <use x=\"147.607422\" xlink:href=\"#DejaVuSans-103\"/>\n       <use x=\"211.083984\" xlink:href=\"#DejaVuSans-105\"/>\n       <use x=\"238.867188\" xlink:href=\"#DejaVuSans-110\"/>\n       <use x=\"302.246094\" xlink:href=\"#DejaVuSans-97\"/>\n       <use x=\"363.525391\" xlink:href=\"#DejaVuSans-108\"/>\n       <use x=\"391.308594\" xlink:href=\"#DejaVuSans-95\"/>\n       <use x=\"441.308594\" xlink:href=\"#DejaVuSans-81\"/>\n       <use x=\"520.019531\" xlink:href=\"#DejaVuSans-117\"/>\n       <use x=\"583.398438\" xlink:href=\"#DejaVuSans-111\"/>\n       <use x=\"644.580078\" xlink:href=\"#DejaVuSans-116\"/>\n       <use x=\"683.789062\" xlink:href=\"#DejaVuSans-101\"/>\n       <use x=\"745.3125\" xlink:href=\"#DejaVuSans-95\"/>\n       <use x=\"795.3125\" xlink:href=\"#DejaVuSans-69\"/>\n       <use x=\"858.496094\" xlink:href=\"#DejaVuSans-108\"/>\n       <use x=\"886.279297\" xlink:href=\"#DejaVuSans-97\"/>\n       <use x=\"947.558594\" xlink:href=\"#DejaVuSans-112\"/>\n       <use x=\"1011.035156\" xlink:href=\"#DejaVuSans-115\"/>\n       <use x=\"1063.134766\" xlink:href=\"#DejaVuSans-101\"/>\n       <use x=\"1124.658203\" xlink:href=\"#DejaVuSans-100\"/>\n      </g>\n     </g>\n    </g>\n    <g id=\"ytick_77\">\n     <g id=\"line2d_80\">\n      <g>\n       <use style=\"stroke:#000000;stroke-width:0.8;\" x=\"165.090625\" xlink:href=\"#m3b0424a600\" y=\"1202.982279\"/>\n      </g>\n     </g>\n     <g id=\"text_80\">\n      <!-- SalesField10 -->\n      <g style=\"fill:#444443;\" transform=\"translate(95.664063 1206.781498)scale(0.1 -0.1)\">\n       <use xlink:href=\"#DejaVuSans-83\"/>\n       <use x=\"63.476562\" xlink:href=\"#DejaVuSans-97\"/>\n       <use x=\"124.755859\" xlink:href=\"#DejaVuSans-108\"/>\n       <use x=\"152.539062\" xlink:href=\"#DejaVuSans-101\"/>\n       <use x=\"214.0625\" xlink:href=\"#DejaVuSans-115\"/>\n       <use x=\"266.162109\" xlink:href=\"#DejaVuSans-70\"/>\n       <use x=\"316.431641\" xlink:href=\"#DejaVuSans-105\"/>\n       <use x=\"344.214844\" xlink:href=\"#DejaVuSans-101\"/>\n       <use x=\"405.738281\" xlink:href=\"#DejaVuSans-108\"/>\n       <use x=\"433.521484\" xlink:href=\"#DejaVuSans-100\"/>\n       <use x=\"496.998047\" xlink:href=\"#DejaVuSans-49\"/>\n       <use x=\"560.621094\" xlink:href=\"#DejaVuSans-48\"/>\n      </g>\n     </g>\n    </g>\n    <g id=\"ytick_78\">\n     <g id=\"line2d_81\">\n      <g>\n       <use style=\"stroke:#000000;stroke-width:0.8;\" x=\"165.090625\" xlink:href=\"#m3b0424a600\" y=\"1218.6982\"/>\n      </g>\n     </g>\n     <g id=\"text_81\">\n      <!-- PersonalField19 -->\n      <g style=\"fill:#444443;\" transform=\"translate(79.778125 1222.497419)scale(0.1 -0.1)\">\n       <use xlink:href=\"#DejaVuSans-80\"/>\n       <use x=\"56.677734\" xlink:href=\"#DejaVuSans-101\"/>\n       <use x=\"118.201172\" xlink:href=\"#DejaVuSans-114\"/>\n       <use x=\"159.314453\" xlink:href=\"#DejaVuSans-115\"/>\n       <use x=\"211.414062\" xlink:href=\"#DejaVuSans-111\"/>\n       <use x=\"272.595703\" xlink:href=\"#DejaVuSans-110\"/>\n       <use x=\"335.974609\" xlink:href=\"#DejaVuSans-97\"/>\n       <use x=\"397.253906\" xlink:href=\"#DejaVuSans-108\"/>\n       <use x=\"425.037109\" xlink:href=\"#DejaVuSans-70\"/>\n       <use x=\"475.306641\" xlink:href=\"#DejaVuSans-105\"/>\n       <use x=\"503.089844\" xlink:href=\"#DejaVuSans-101\"/>\n       <use x=\"564.613281\" xlink:href=\"#DejaVuSans-108\"/>\n       <use x=\"592.396484\" xlink:href=\"#DejaVuSans-100\"/>\n       <use x=\"655.873047\" xlink:href=\"#DejaVuSans-49\"/>\n       <use x=\"719.496094\" xlink:href=\"#DejaVuSans-57\"/>\n      </g>\n     </g>\n    </g>\n    <g id=\"ytick_79\">\n     <g id=\"line2d_82\">\n      <g>\n       <use style=\"stroke:#000000;stroke-width:0.8;\" x=\"165.090625\" xlink:href=\"#m3b0424a600\" y=\"1234.41412\"/>\n      </g>\n     </g>\n     <g id=\"text_82\">\n      <!-- CoverageField5B -->\n      <g style=\"fill:#444443;\" transform=\"translate(73.86875 1238.213339)scale(0.1 -0.1)\">\n       <use xlink:href=\"#DejaVuSans-67\"/>\n       <use x=\"69.824219\" xlink:href=\"#DejaVuSans-111\"/>\n       <use x=\"131.005859\" xlink:href=\"#DejaVuSans-118\"/>\n       <use x=\"190.185547\" xlink:href=\"#DejaVuSans-101\"/>\n       <use x=\"251.708984\" xlink:href=\"#DejaVuSans-114\"/>\n       <use x=\"292.822266\" xlink:href=\"#DejaVuSans-97\"/>\n       <use x=\"354.101562\" xlink:href=\"#DejaVuSans-103\"/>\n       <use x=\"417.578125\" xlink:href=\"#DejaVuSans-101\"/>\n       <use x=\"479.101562\" xlink:href=\"#DejaVuSans-70\"/>\n       <use x=\"529.371094\" xlink:href=\"#DejaVuSans-105\"/>\n       <use x=\"557.154297\" xlink:href=\"#DejaVuSans-101\"/>\n       <use x=\"618.677734\" xlink:href=\"#DejaVuSans-108\"/>\n       <use x=\"646.460938\" xlink:href=\"#DejaVuSans-100\"/>\n       <use x=\"709.9375\" xlink:href=\"#DejaVuSans-53\"/>\n       <use x=\"773.560547\" xlink:href=\"#DejaVuSans-66\"/>\n      </g>\n     </g>\n    </g>\n    <g id=\"ytick_80\">\n     <g id=\"line2d_83\">\n      <g>\n       <use style=\"stroke:#000000;stroke-width:0.8;\" x=\"165.090625\" xlink:href=\"#m3b0424a600\" y=\"1250.130041\"/>\n      </g>\n     </g>\n     <g id=\"text_83\">\n      <!-- CoverageField9 -->\n      <g style=\"fill:#444443;\" transform=\"translate(80.729688 1253.92926)scale(0.1 -0.1)\">\n       <use xlink:href=\"#DejaVuSans-67\"/>\n       <use x=\"69.824219\" xlink:href=\"#DejaVuSans-111\"/>\n       <use x=\"131.005859\" xlink:href=\"#DejaVuSans-118\"/>\n       <use x=\"190.185547\" xlink:href=\"#DejaVuSans-101\"/>\n       <use x=\"251.708984\" xlink:href=\"#DejaVuSans-114\"/>\n       <use x=\"292.822266\" xlink:href=\"#DejaVuSans-97\"/>\n       <use x=\"354.101562\" xlink:href=\"#DejaVuSans-103\"/>\n       <use x=\"417.578125\" xlink:href=\"#DejaVuSans-101\"/>\n       <use x=\"479.101562\" xlink:href=\"#DejaVuSans-70\"/>\n       <use x=\"529.371094\" xlink:href=\"#DejaVuSans-105\"/>\n       <use x=\"557.154297\" xlink:href=\"#DejaVuSans-101\"/>\n       <use x=\"618.677734\" xlink:href=\"#DejaVuSans-108\"/>\n       <use x=\"646.460938\" xlink:href=\"#DejaVuSans-100\"/>\n       <use x=\"709.9375\" xlink:href=\"#DejaVuSans-57\"/>\n      </g>\n     </g>\n    </g>\n    <g id=\"ytick_81\">\n     <g id=\"line2d_84\">\n      <g>\n       <use style=\"stroke:#000000;stroke-width:0.8;\" x=\"165.090625\" xlink:href=\"#m3b0424a600\" y=\"1265.845961\"/>\n      </g>\n     </g>\n     <g id=\"text_84\">\n      <!-- PersonalField33 -->\n      <g style=\"fill:#444443;\" transform=\"translate(79.778125 1269.64518)scale(0.1 -0.1)\">\n       <use xlink:href=\"#DejaVuSans-80\"/>\n       <use x=\"56.677734\" xlink:href=\"#DejaVuSans-101\"/>\n       <use x=\"118.201172\" xlink:href=\"#DejaVuSans-114\"/>\n       <use x=\"159.314453\" xlink:href=\"#DejaVuSans-115\"/>\n       <use x=\"211.414062\" xlink:href=\"#DejaVuSans-111\"/>\n       <use x=\"272.595703\" xlink:href=\"#DejaVuSans-110\"/>\n       <use x=\"335.974609\" xlink:href=\"#DejaVuSans-97\"/>\n       <use x=\"397.253906\" xlink:href=\"#DejaVuSans-108\"/>\n       <use x=\"425.037109\" xlink:href=\"#DejaVuSans-70\"/>\n       <use x=\"475.306641\" xlink:href=\"#DejaVuSans-105\"/>\n       <use x=\"503.089844\" xlink:href=\"#DejaVuSans-101\"/>\n       <use x=\"564.613281\" xlink:href=\"#DejaVuSans-108\"/>\n       <use x=\"592.396484\" xlink:href=\"#DejaVuSans-100\"/>\n       <use x=\"655.873047\" xlink:href=\"#DejaVuSans-51\"/>\n       <use x=\"719.496094\" xlink:href=\"#DejaVuSans-51\"/>\n      </g>\n     </g>\n    </g>\n    <g id=\"ytick_82\">\n     <g id=\"line2d_85\">\n      <g>\n       <use style=\"stroke:#000000;stroke-width:0.8;\" x=\"165.090625\" xlink:href=\"#m3b0424a600\" y=\"1281.561882\"/>\n      </g>\n     </g>\n     <g id=\"text_85\">\n      <!-- GeographicField17A -->\n      <g style=\"fill:#444443;\" transform=\"translate(57.870313 1285.361101)scale(0.1 -0.1)\">\n       <use xlink:href=\"#DejaVuSans-71\"/>\n       <use x=\"77.490234\" xlink:href=\"#DejaVuSans-101\"/>\n       <use x=\"139.013672\" xlink:href=\"#DejaVuSans-111\"/>\n       <use x=\"200.195312\" xlink:href=\"#DejaVuSans-103\"/>\n       <use x=\"263.671875\" xlink:href=\"#DejaVuSans-114\"/>\n       <use x=\"304.785156\" xlink:href=\"#DejaVuSans-97\"/>\n       <use x=\"366.064453\" xlink:href=\"#DejaVuSans-112\"/>\n       <use x=\"429.541016\" xlink:href=\"#DejaVuSans-104\"/>\n       <use x=\"492.919922\" xlink:href=\"#DejaVuSans-105\"/>\n       <use x=\"520.703125\" xlink:href=\"#DejaVuSans-99\"/>\n       <use x=\"575.683594\" xlink:href=\"#DejaVuSans-70\"/>\n       <use x=\"625.953125\" xlink:href=\"#DejaVuSans-105\"/>\n       <use x=\"653.736328\" xlink:href=\"#DejaVuSans-101\"/>\n       <use x=\"715.259766\" xlink:href=\"#DejaVuSans-108\"/>\n       <use x=\"743.042969\" xlink:href=\"#DejaVuSans-100\"/>\n       <use x=\"806.519531\" xlink:href=\"#DejaVuSans-49\"/>\n       <use x=\"870.142578\" xlink:href=\"#DejaVuSans-55\"/>\n       <use x=\"933.765625\" xlink:href=\"#DejaVuSans-65\"/>\n      </g>\n     </g>\n    </g>\n    <g id=\"ytick_83\">\n     <g id=\"line2d_86\">\n      <g>\n       <use style=\"stroke:#000000;stroke-width:0.8;\" x=\"165.090625\" xlink:href=\"#m3b0424a600\" y=\"1297.277802\"/>\n      </g>\n     </g>\n     <g id=\"text_86\">\n      <!-- PropertyField10 -->\n      <g style=\"fill:#444443;\" transform=\"translate(79.970313 1301.077021)scale(0.1 -0.1)\">\n       <use xlink:href=\"#DejaVuSans-80\"/>\n       <use x=\"58.552734\" xlink:href=\"#DejaVuSans-114\"/>\n       <use x=\"97.416016\" xlink:href=\"#DejaVuSans-111\"/>\n       <use x=\"158.597656\" xlink:href=\"#DejaVuSans-112\"/>\n       <use x=\"222.074219\" xlink:href=\"#DejaVuSans-101\"/>\n       <use x=\"283.597656\" xlink:href=\"#DejaVuSans-114\"/>\n       <use x=\"324.710938\" xlink:href=\"#DejaVuSans-116\"/>\n       <use x=\"363.919922\" xlink:href=\"#DejaVuSans-121\"/>\n       <use x=\"423.099609\" xlink:href=\"#DejaVuSans-70\"/>\n       <use x=\"473.369141\" xlink:href=\"#DejaVuSans-105\"/>\n       <use x=\"501.152344\" xlink:href=\"#DejaVuSans-101\"/>\n       <use x=\"562.675781\" xlink:href=\"#DejaVuSans-108\"/>\n       <use x=\"590.458984\" xlink:href=\"#DejaVuSans-100\"/>\n       <use x=\"653.935547\" xlink:href=\"#DejaVuSans-49\"/>\n       <use x=\"717.558594\" xlink:href=\"#DejaVuSans-48\"/>\n      </g>\n     </g>\n    </g>\n    <g id=\"ytick_84\">\n     <g id=\"line2d_87\">\n      <g>\n       <use style=\"stroke:#000000;stroke-width:0.8;\" x=\"165.090625\" xlink:href=\"#m3b0424a600\" y=\"1312.993723\"/>\n      </g>\n     </g>\n     <g id=\"text_87\">\n      <!-- PersonalField28 -->\n      <g style=\"fill:#444443;\" transform=\"translate(79.778125 1316.792942)scale(0.1 -0.1)\">\n       <use xlink:href=\"#DejaVuSans-80\"/>\n       <use x=\"56.677734\" xlink:href=\"#DejaVuSans-101\"/>\n       <use x=\"118.201172\" xlink:href=\"#DejaVuSans-114\"/>\n       <use x=\"159.314453\" xlink:href=\"#DejaVuSans-115\"/>\n       <use x=\"211.414062\" xlink:href=\"#DejaVuSans-111\"/>\n       <use x=\"272.595703\" xlink:href=\"#DejaVuSans-110\"/>\n       <use x=\"335.974609\" xlink:href=\"#DejaVuSans-97\"/>\n       <use x=\"397.253906\" xlink:href=\"#DejaVuSans-108\"/>\n       <use x=\"425.037109\" xlink:href=\"#DejaVuSans-70\"/>\n       <use x=\"475.306641\" xlink:href=\"#DejaVuSans-105\"/>\n       <use x=\"503.089844\" xlink:href=\"#DejaVuSans-101\"/>\n       <use x=\"564.613281\" xlink:href=\"#DejaVuSans-108\"/>\n       <use x=\"592.396484\" xlink:href=\"#DejaVuSans-100\"/>\n       <use x=\"655.873047\" xlink:href=\"#DejaVuSans-50\"/>\n       <use x=\"719.496094\" xlink:href=\"#DejaVuSans-56\"/>\n      </g>\n     </g>\n    </g>\n    <g id=\"ytick_85\">\n     <g id=\"line2d_88\">\n      <g>\n       <use style=\"stroke:#000000;stroke-width:0.8;\" x=\"165.090625\" xlink:href=\"#m3b0424a600\" y=\"1328.709643\"/>\n      </g>\n     </g>\n     <g id=\"text_88\">\n      <!-- GeographicField12B -->\n      <g style=\"fill:#444443;\" transform=\"translate(57.85 1332.508862)scale(0.1 -0.1)\">\n       <use xlink:href=\"#DejaVuSans-71\"/>\n       <use x=\"77.490234\" xlink:href=\"#DejaVuSans-101\"/>\n       <use x=\"139.013672\" xlink:href=\"#DejaVuSans-111\"/>\n       <use x=\"200.195312\" xlink:href=\"#DejaVuSans-103\"/>\n       <use x=\"263.671875\" xlink:href=\"#DejaVuSans-114\"/>\n       <use x=\"304.785156\" xlink:href=\"#DejaVuSans-97\"/>\n       <use x=\"366.064453\" xlink:href=\"#DejaVuSans-112\"/>\n       <use x=\"429.541016\" xlink:href=\"#DejaVuSans-104\"/>\n       <use x=\"492.919922\" xlink:href=\"#DejaVuSans-105\"/>\n       <use x=\"520.703125\" xlink:href=\"#DejaVuSans-99\"/>\n       <use x=\"575.683594\" xlink:href=\"#DejaVuSans-70\"/>\n       <use x=\"625.953125\" xlink:href=\"#DejaVuSans-105\"/>\n       <use x=\"653.736328\" xlink:href=\"#DejaVuSans-101\"/>\n       <use x=\"715.259766\" xlink:href=\"#DejaVuSans-108\"/>\n       <use x=\"743.042969\" xlink:href=\"#DejaVuSans-100\"/>\n       <use x=\"806.519531\" xlink:href=\"#DejaVuSans-49\"/>\n       <use x=\"870.142578\" xlink:href=\"#DejaVuSans-50\"/>\n       <use x=\"933.765625\" xlink:href=\"#DejaVuSans-66\"/>\n      </g>\n     </g>\n    </g>\n    <g id=\"ytick_86\">\n     <g id=\"line2d_89\">\n      <g>\n       <use style=\"stroke:#000000;stroke-width:0.8;\" x=\"165.090625\" xlink:href=\"#m3b0424a600\" y=\"1344.425564\"/>\n      </g>\n     </g>\n     <g id=\"text_89\">\n      <!-- PersonalField11 -->\n      <g style=\"fill:#444443;\" transform=\"translate(79.778125 1348.224783)scale(0.1 -0.1)\">\n       <use xlink:href=\"#DejaVuSans-80\"/>\n       <use x=\"56.677734\" xlink:href=\"#DejaVuSans-101\"/>\n       <use x=\"118.201172\" xlink:href=\"#DejaVuSans-114\"/>\n       <use x=\"159.314453\" xlink:href=\"#DejaVuSans-115\"/>\n       <use x=\"211.414062\" xlink:href=\"#DejaVuSans-111\"/>\n       <use x=\"272.595703\" xlink:href=\"#DejaVuSans-110\"/>\n       <use x=\"335.974609\" xlink:href=\"#DejaVuSans-97\"/>\n       <use x=\"397.253906\" xlink:href=\"#DejaVuSans-108\"/>\n       <use x=\"425.037109\" xlink:href=\"#DejaVuSans-70\"/>\n       <use x=\"475.306641\" xlink:href=\"#DejaVuSans-105\"/>\n       <use x=\"503.089844\" xlink:href=\"#DejaVuSans-101\"/>\n       <use x=\"564.613281\" xlink:href=\"#DejaVuSans-108\"/>\n       <use x=\"592.396484\" xlink:href=\"#DejaVuSans-100\"/>\n       <use x=\"655.873047\" xlink:href=\"#DejaVuSans-49\"/>\n       <use x=\"719.496094\" xlink:href=\"#DejaVuSans-49\"/>\n      </g>\n     </g>\n    </g>\n    <g id=\"ytick_87\">\n     <g id=\"line2d_90\">\n      <g>\n       <use style=\"stroke:#000000;stroke-width:0.8;\" x=\"165.090625\" xlink:href=\"#m3b0424a600\" y=\"1360.141485\"/>\n      </g>\n     </g>\n     <g id=\"text_90\">\n      <!-- PersonalField7 -->\n      <g style=\"fill:#444443;\" transform=\"translate(86.140625 1363.940703)scale(0.1 -0.1)\">\n       <use xlink:href=\"#DejaVuSans-80\"/>\n       <use x=\"56.677734\" xlink:href=\"#DejaVuSans-101\"/>\n       <use x=\"118.201172\" xlink:href=\"#DejaVuSans-114\"/>\n       <use x=\"159.314453\" xlink:href=\"#DejaVuSans-115\"/>\n       <use x=\"211.414062\" xlink:href=\"#DejaVuSans-111\"/>\n       <use x=\"272.595703\" xlink:href=\"#DejaVuSans-110\"/>\n       <use x=\"335.974609\" xlink:href=\"#DejaVuSans-97\"/>\n       <use x=\"397.253906\" xlink:href=\"#DejaVuSans-108\"/>\n       <use x=\"425.037109\" xlink:href=\"#DejaVuSans-70\"/>\n       <use x=\"475.306641\" xlink:href=\"#DejaVuSans-105\"/>\n       <use x=\"503.089844\" xlink:href=\"#DejaVuSans-101\"/>\n       <use x=\"564.613281\" xlink:href=\"#DejaVuSans-108\"/>\n       <use x=\"592.396484\" xlink:href=\"#DejaVuSans-100\"/>\n       <use x=\"655.873047\" xlink:href=\"#DejaVuSans-55\"/>\n      </g>\n     </g>\n    </g>\n    <g id=\"ytick_88\">\n     <g id=\"line2d_91\">\n      <g>\n       <use style=\"stroke:#000000;stroke-width:0.8;\" x=\"165.090625\" xlink:href=\"#m3b0424a600\" y=\"1375.857405\"/>\n      </g>\n     </g>\n     <g id=\"text_91\">\n      <!-- PropertyField18 -->\n      <g style=\"fill:#444443;\" transform=\"translate(79.970313 1379.656624)scale(0.1 -0.1)\">\n       <use xlink:href=\"#DejaVuSans-80\"/>\n       <use x=\"58.552734\" xlink:href=\"#DejaVuSans-114\"/>\n       <use x=\"97.416016\" xlink:href=\"#DejaVuSans-111\"/>\n       <use x=\"158.597656\" xlink:href=\"#DejaVuSans-112\"/>\n       <use x=\"222.074219\" xlink:href=\"#DejaVuSans-101\"/>\n       <use x=\"283.597656\" xlink:href=\"#DejaVuSans-114\"/>\n       <use x=\"324.710938\" xlink:href=\"#DejaVuSans-116\"/>\n       <use x=\"363.919922\" xlink:href=\"#DejaVuSans-121\"/>\n       <use x=\"423.099609\" xlink:href=\"#DejaVuSans-70\"/>\n       <use x=\"473.369141\" xlink:href=\"#DejaVuSans-105\"/>\n       <use x=\"501.152344\" xlink:href=\"#DejaVuSans-101\"/>\n       <use x=\"562.675781\" xlink:href=\"#DejaVuSans-108\"/>\n       <use x=\"590.458984\" xlink:href=\"#DejaVuSans-100\"/>\n       <use x=\"653.935547\" xlink:href=\"#DejaVuSans-49\"/>\n       <use x=\"717.558594\" xlink:href=\"#DejaVuSans-56\"/>\n      </g>\n     </g>\n    </g>\n    <g id=\"ytick_89\">\n     <g id=\"line2d_92\">\n      <g>\n       <use style=\"stroke:#000000;stroke-width:0.8;\" x=\"165.090625\" xlink:href=\"#m3b0424a600\" y=\"1391.573326\"/>\n      </g>\n     </g>\n     <g id=\"text_92\">\n      <!-- GeographicField37A -->\n      <g style=\"fill:#444443;\" transform=\"translate(57.870313 1395.372544)scale(0.1 -0.1)\">\n       <use xlink:href=\"#DejaVuSans-71\"/>\n       <use x=\"77.490234\" xlink:href=\"#DejaVuSans-101\"/>\n       <use x=\"139.013672\" xlink:href=\"#DejaVuSans-111\"/>\n       <use x=\"200.195312\" xlink:href=\"#DejaVuSans-103\"/>\n       <use x=\"263.671875\" xlink:href=\"#DejaVuSans-114\"/>\n       <use x=\"304.785156\" xlink:href=\"#DejaVuSans-97\"/>\n       <use x=\"366.064453\" xlink:href=\"#DejaVuSans-112\"/>\n       <use x=\"429.541016\" xlink:href=\"#DejaVuSans-104\"/>\n       <use x=\"492.919922\" xlink:href=\"#DejaVuSans-105\"/>\n       <use x=\"520.703125\" xlink:href=\"#DejaVuSans-99\"/>\n       <use x=\"575.683594\" xlink:href=\"#DejaVuSans-70\"/>\n       <use x=\"625.953125\" xlink:href=\"#DejaVuSans-105\"/>\n       <use x=\"653.736328\" xlink:href=\"#DejaVuSans-101\"/>\n       <use x=\"715.259766\" xlink:href=\"#DejaVuSans-108\"/>\n       <use x=\"743.042969\" xlink:href=\"#DejaVuSans-100\"/>\n       <use x=\"806.519531\" xlink:href=\"#DejaVuSans-51\"/>\n       <use x=\"870.142578\" xlink:href=\"#DejaVuSans-55\"/>\n       <use x=\"933.765625\" xlink:href=\"#DejaVuSans-65\"/>\n      </g>\n     </g>\n    </g>\n    <g id=\"ytick_90\">\n     <g id=\"line2d_93\">\n      <g>\n       <use style=\"stroke:#000000;stroke-width:0.8;\" x=\"165.090625\" xlink:href=\"#m3b0424a600\" y=\"1407.289246\"/>\n      </g>\n     </g>\n     <g id=\"text_93\">\n      <!-- SalesField11 -->\n      <g style=\"fill:#444443;\" transform=\"translate(95.664063 1411.088465)scale(0.1 -0.1)\">\n       <use xlink:href=\"#DejaVuSans-83\"/>\n       <use x=\"63.476562\" xlink:href=\"#DejaVuSans-97\"/>\n       <use x=\"124.755859\" xlink:href=\"#DejaVuSans-108\"/>\n       <use x=\"152.539062\" xlink:href=\"#DejaVuSans-101\"/>\n       <use x=\"214.0625\" xlink:href=\"#DejaVuSans-115\"/>\n       <use x=\"266.162109\" xlink:href=\"#DejaVuSans-70\"/>\n       <use x=\"316.431641\" xlink:href=\"#DejaVuSans-105\"/>\n       <use x=\"344.214844\" xlink:href=\"#DejaVuSans-101\"/>\n       <use x=\"405.738281\" xlink:href=\"#DejaVuSans-108\"/>\n       <use x=\"433.521484\" xlink:href=\"#DejaVuSans-100\"/>\n       <use x=\"496.998047\" xlink:href=\"#DejaVuSans-49\"/>\n       <use x=\"560.621094\" xlink:href=\"#DejaVuSans-49\"/>\n      </g>\n     </g>\n    </g>\n    <g id=\"ytick_91\">\n     <g id=\"line2d_94\">\n      <g>\n       <use style=\"stroke:#000000;stroke-width:0.8;\" x=\"165.090625\" xlink:href=\"#m3b0424a600\" y=\"1423.005167\"/>\n      </g>\n     </g>\n     <g id=\"text_94\">\n      <!-- PropertyField24A -->\n      <g style=\"fill:#444443;\" transform=\"translate(73.129688 1426.804385)scale(0.1 -0.1)\">\n       <use xlink:href=\"#DejaVuSans-80\"/>\n       <use x=\"58.552734\" xlink:href=\"#DejaVuSans-114\"/>\n       <use x=\"97.416016\" xlink:href=\"#DejaVuSans-111\"/>\n       <use x=\"158.597656\" xlink:href=\"#DejaVuSans-112\"/>\n       <use x=\"222.074219\" xlink:href=\"#DejaVuSans-101\"/>\n       <use x=\"283.597656\" xlink:href=\"#DejaVuSans-114\"/>\n       <use x=\"324.710938\" xlink:href=\"#DejaVuSans-116\"/>\n       <use x=\"363.919922\" xlink:href=\"#DejaVuSans-121\"/>\n       <use x=\"423.099609\" xlink:href=\"#DejaVuSans-70\"/>\n       <use x=\"473.369141\" xlink:href=\"#DejaVuSans-105\"/>\n       <use x=\"501.152344\" xlink:href=\"#DejaVuSans-101\"/>\n       <use x=\"562.675781\" xlink:href=\"#DejaVuSans-108\"/>\n       <use x=\"590.458984\" xlink:href=\"#DejaVuSans-100\"/>\n       <use x=\"653.935547\" xlink:href=\"#DejaVuSans-50\"/>\n       <use x=\"717.558594\" xlink:href=\"#DejaVuSans-52\"/>\n       <use x=\"781.181641\" xlink:href=\"#DejaVuSans-65\"/>\n      </g>\n     </g>\n    </g>\n    <g id=\"ytick_92\">\n     <g id=\"line2d_95\">\n      <g>\n       <use style=\"stroke:#000000;stroke-width:0.8;\" x=\"165.090625\" xlink:href=\"#m3b0424a600\" y=\"1438.721087\"/>\n      </g>\n     </g>\n     <g id=\"text_95\">\n      <!-- PropertyField38 -->\n      <g style=\"fill:#444443;\" transform=\"translate(79.970313 1442.520306)scale(0.1 -0.1)\">\n       <use xlink:href=\"#DejaVuSans-80\"/>\n       <use x=\"58.552734\" xlink:href=\"#DejaVuSans-114\"/>\n       <use x=\"97.416016\" xlink:href=\"#DejaVuSans-111\"/>\n       <use x=\"158.597656\" xlink:href=\"#DejaVuSans-112\"/>\n       <use x=\"222.074219\" xlink:href=\"#DejaVuSans-101\"/>\n       <use x=\"283.597656\" xlink:href=\"#DejaVuSans-114\"/>\n       <use x=\"324.710938\" xlink:href=\"#DejaVuSans-116\"/>\n       <use x=\"363.919922\" xlink:href=\"#DejaVuSans-121\"/>\n       <use x=\"423.099609\" xlink:href=\"#DejaVuSans-70\"/>\n       <use x=\"473.369141\" xlink:href=\"#DejaVuSans-105\"/>\n       <use x=\"501.152344\" xlink:href=\"#DejaVuSans-101\"/>\n       <use x=\"562.675781\" xlink:href=\"#DejaVuSans-108\"/>\n       <use x=\"590.458984\" xlink:href=\"#DejaVuSans-100\"/>\n       <use x=\"653.935547\" xlink:href=\"#DejaVuSans-51\"/>\n       <use x=\"717.558594\" xlink:href=\"#DejaVuSans-56\"/>\n      </g>\n     </g>\n    </g>\n    <g id=\"ytick_93\">\n     <g id=\"line2d_96\">\n      <g>\n       <use style=\"stroke:#000000;stroke-width:0.8;\" x=\"165.090625\" xlink:href=\"#m3b0424a600\" y=\"1454.437008\"/>\n      </g>\n     </g>\n     <g id=\"text_96\">\n      <!-- PersonalField56 -->\n      <g style=\"fill:#444443;\" transform=\"translate(79.778125 1458.236226)scale(0.1 -0.1)\">\n       <use xlink:href=\"#DejaVuSans-80\"/>\n       <use x=\"56.677734\" xlink:href=\"#DejaVuSans-101\"/>\n       <use x=\"118.201172\" xlink:href=\"#DejaVuSans-114\"/>\n       <use x=\"159.314453\" xlink:href=\"#DejaVuSans-115\"/>\n       <use x=\"211.414062\" xlink:href=\"#DejaVuSans-111\"/>\n       <use x=\"272.595703\" xlink:href=\"#DejaVuSans-110\"/>\n       <use x=\"335.974609\" xlink:href=\"#DejaVuSans-97\"/>\n       <use x=\"397.253906\" xlink:href=\"#DejaVuSans-108\"/>\n       <use x=\"425.037109\" xlink:href=\"#DejaVuSans-70\"/>\n       <use x=\"475.306641\" xlink:href=\"#DejaVuSans-105\"/>\n       <use x=\"503.089844\" xlink:href=\"#DejaVuSans-101\"/>\n       <use x=\"564.613281\" xlink:href=\"#DejaVuSans-108\"/>\n       <use x=\"592.396484\" xlink:href=\"#DejaVuSans-100\"/>\n       <use x=\"655.873047\" xlink:href=\"#DejaVuSans-53\"/>\n       <use x=\"719.496094\" xlink:href=\"#DejaVuSans-54\"/>\n      </g>\n     </g>\n    </g>\n    <g id=\"ytick_94\">\n     <g id=\"line2d_97\">\n      <g>\n       <use style=\"stroke:#000000;stroke-width:0.8;\" x=\"165.090625\" xlink:href=\"#m3b0424a600\" y=\"1470.152928\"/>\n      </g>\n     </g>\n     <g id=\"text_97\">\n      <!-- GeographicField51B -->\n      <g style=\"fill:#444443;\" transform=\"translate(57.85 1473.952147)scale(0.1 -0.1)\">\n       <use xlink:href=\"#DejaVuSans-71\"/>\n       <use x=\"77.490234\" xlink:href=\"#DejaVuSans-101\"/>\n       <use x=\"139.013672\" xlink:href=\"#DejaVuSans-111\"/>\n       <use x=\"200.195312\" xlink:href=\"#DejaVuSans-103\"/>\n       <use x=\"263.671875\" xlink:href=\"#DejaVuSans-114\"/>\n       <use x=\"304.785156\" xlink:href=\"#DejaVuSans-97\"/>\n       <use x=\"366.064453\" xlink:href=\"#DejaVuSans-112\"/>\n       <use x=\"429.541016\" xlink:href=\"#DejaVuSans-104\"/>\n       <use x=\"492.919922\" xlink:href=\"#DejaVuSans-105\"/>\n       <use x=\"520.703125\" xlink:href=\"#DejaVuSans-99\"/>\n       <use x=\"575.683594\" xlink:href=\"#DejaVuSans-70\"/>\n       <use x=\"625.953125\" xlink:href=\"#DejaVuSans-105\"/>\n       <use x=\"653.736328\" xlink:href=\"#DejaVuSans-101\"/>\n       <use x=\"715.259766\" xlink:href=\"#DejaVuSans-108\"/>\n       <use x=\"743.042969\" xlink:href=\"#DejaVuSans-100\"/>\n       <use x=\"806.519531\" xlink:href=\"#DejaVuSans-53\"/>\n       <use x=\"870.142578\" xlink:href=\"#DejaVuSans-49\"/>\n       <use x=\"933.765625\" xlink:href=\"#DejaVuSans-66\"/>\n      </g>\n     </g>\n    </g>\n    <g id=\"ytick_95\">\n     <g id=\"line2d_98\">\n      <g>\n       <use style=\"stroke:#000000;stroke-width:0.8;\" x=\"165.090625\" xlink:href=\"#m3b0424a600\" y=\"1485.868849\"/>\n      </g>\n     </g>\n     <g id=\"text_98\">\n      <!-- GeographicField64 -->\n      <g style=\"fill:#444443;\" transform=\"translate(64.710938 1489.668067)scale(0.1 -0.1)\">\n       <use xlink:href=\"#DejaVuSans-71\"/>\n       <use x=\"77.490234\" xlink:href=\"#DejaVuSans-101\"/>\n       <use x=\"139.013672\" xlink:href=\"#DejaVuSans-111\"/>\n       <use x=\"200.195312\" xlink:href=\"#DejaVuSans-103\"/>\n       <use x=\"263.671875\" xlink:href=\"#DejaVuSans-114\"/>\n       <use x=\"304.785156\" xlink:href=\"#DejaVuSans-97\"/>\n       <use x=\"366.064453\" xlink:href=\"#DejaVuSans-112\"/>\n       <use x=\"429.541016\" xlink:href=\"#DejaVuSans-104\"/>\n       <use x=\"492.919922\" xlink:href=\"#DejaVuSans-105\"/>\n       <use x=\"520.703125\" xlink:href=\"#DejaVuSans-99\"/>\n       <use x=\"575.683594\" xlink:href=\"#DejaVuSans-70\"/>\n       <use x=\"625.953125\" xlink:href=\"#DejaVuSans-105\"/>\n       <use x=\"653.736328\" xlink:href=\"#DejaVuSans-101\"/>\n       <use x=\"715.259766\" xlink:href=\"#DejaVuSans-108\"/>\n       <use x=\"743.042969\" xlink:href=\"#DejaVuSans-100\"/>\n       <use x=\"806.519531\" xlink:href=\"#DejaVuSans-54\"/>\n       <use x=\"870.142578\" xlink:href=\"#DejaVuSans-52\"/>\n      </g>\n     </g>\n    </g>\n    <g id=\"ytick_96\">\n     <g id=\"line2d_99\">\n      <g>\n       <use style=\"stroke:#000000;stroke-width:0.8;\" x=\"165.090625\" xlink:href=\"#m3b0424a600\" y=\"1501.584769\"/>\n      </g>\n     </g>\n     <g id=\"text_99\">\n      <!-- PropertyField2B -->\n      <g style=\"fill:#444443;\" transform=\"translate(79.471875 1505.383988)scale(0.1 -0.1)\">\n       <use xlink:href=\"#DejaVuSans-80\"/>\n       <use x=\"58.552734\" xlink:href=\"#DejaVuSans-114\"/>\n       <use x=\"97.416016\" xlink:href=\"#DejaVuSans-111\"/>\n       <use x=\"158.597656\" xlink:href=\"#DejaVuSans-112\"/>\n       <use x=\"222.074219\" xlink:href=\"#DejaVuSans-101\"/>\n       <use x=\"283.597656\" xlink:href=\"#DejaVuSans-114\"/>\n       <use x=\"324.710938\" xlink:href=\"#DejaVuSans-116\"/>\n       <use x=\"363.919922\" xlink:href=\"#DejaVuSans-121\"/>\n       <use x=\"423.099609\" xlink:href=\"#DejaVuSans-70\"/>\n       <use x=\"473.369141\" xlink:href=\"#DejaVuSans-105\"/>\n       <use x=\"501.152344\" xlink:href=\"#DejaVuSans-101\"/>\n       <use x=\"562.675781\" xlink:href=\"#DejaVuSans-108\"/>\n       <use x=\"590.458984\" xlink:href=\"#DejaVuSans-100\"/>\n       <use x=\"653.935547\" xlink:href=\"#DejaVuSans-50\"/>\n       <use x=\"717.558594\" xlink:href=\"#DejaVuSans-66\"/>\n      </g>\n     </g>\n    </g>\n    <g id=\"ytick_97\">\n     <g id=\"line2d_100\">\n      <g>\n       <use style=\"stroke:#000000;stroke-width:0.8;\" x=\"165.090625\" xlink:href=\"#m3b0424a600\" y=\"1517.30069\"/>\n      </g>\n     </g>\n     <g id=\"text_100\">\n      <!-- CoverageField5A -->\n      <g style=\"fill:#444443;\" transform=\"translate(73.889063 1521.099908)scale(0.1 -0.1)\">\n       <use xlink:href=\"#DejaVuSans-67\"/>\n       <use x=\"69.824219\" xlink:href=\"#DejaVuSans-111\"/>\n       <use x=\"131.005859\" xlink:href=\"#DejaVuSans-118\"/>\n       <use x=\"190.185547\" xlink:href=\"#DejaVuSans-101\"/>\n       <use x=\"251.708984\" xlink:href=\"#DejaVuSans-114\"/>\n       <use x=\"292.822266\" xlink:href=\"#DejaVuSans-97\"/>\n       <use x=\"354.101562\" xlink:href=\"#DejaVuSans-103\"/>\n       <use x=\"417.578125\" xlink:href=\"#DejaVuSans-101\"/>\n       <use x=\"479.101562\" xlink:href=\"#DejaVuSans-70\"/>\n       <use x=\"529.371094\" xlink:href=\"#DejaVuSans-105\"/>\n       <use x=\"557.154297\" xlink:href=\"#DejaVuSans-101\"/>\n       <use x=\"618.677734\" xlink:href=\"#DejaVuSans-108\"/>\n       <use x=\"646.460938\" xlink:href=\"#DejaVuSans-100\"/>\n       <use x=\"709.9375\" xlink:href=\"#DejaVuSans-53\"/>\n       <use x=\"773.560547\" xlink:href=\"#DejaVuSans-65\"/>\n      </g>\n     </g>\n    </g>\n    <g id=\"ytick_98\">\n     <g id=\"line2d_101\">\n      <g>\n       <use style=\"stroke:#000000;stroke-width:0.8;\" x=\"165.090625\" xlink:href=\"#m3b0424a600\" y=\"1533.01661\"/>\n      </g>\n     </g>\n     <g id=\"text_101\">\n      <!-- Original_Quote_Week -->\n      <defs>\n       <path d=\"M 3.328125 72.90625 \nL 13.28125 72.90625 \nL 28.609375 11.28125 \nL 43.890625 72.90625 \nL 54.984375 72.90625 \nL 70.3125 11.28125 \nL 85.59375 72.90625 \nL 95.609375 72.90625 \nL 77.296875 0 \nL 64.890625 0 \nL 49.515625 63.28125 \nL 33.984375 0 \nL 21.578125 0 \nz\n\" id=\"DejaVuSans-87\"/>\n      </defs>\n      <g style=\"fill:#444443;\" transform=\"translate(51.160938 1536.815829)scale(0.1 -0.1)\">\n       <use xlink:href=\"#DejaVuSans-79\"/>\n       <use x=\"78.710938\" xlink:href=\"#DejaVuSans-114\"/>\n       <use x=\"119.824219\" xlink:href=\"#DejaVuSans-105\"/>\n       <use x=\"147.607422\" xlink:href=\"#DejaVuSans-103\"/>\n       <use x=\"211.083984\" xlink:href=\"#DejaVuSans-105\"/>\n       <use x=\"238.867188\" xlink:href=\"#DejaVuSans-110\"/>\n       <use x=\"302.246094\" xlink:href=\"#DejaVuSans-97\"/>\n       <use x=\"363.525391\" xlink:href=\"#DejaVuSans-108\"/>\n       <use x=\"391.308594\" xlink:href=\"#DejaVuSans-95\"/>\n       <use x=\"441.308594\" xlink:href=\"#DejaVuSans-81\"/>\n       <use x=\"520.019531\" xlink:href=\"#DejaVuSans-117\"/>\n       <use x=\"583.398438\" xlink:href=\"#DejaVuSans-111\"/>\n       <use x=\"644.580078\" xlink:href=\"#DejaVuSans-116\"/>\n       <use x=\"683.789062\" xlink:href=\"#DejaVuSans-101\"/>\n       <use x=\"745.3125\" xlink:href=\"#DejaVuSans-95\"/>\n       <use x=\"795.3125\" xlink:href=\"#DejaVuSans-87\"/>\n       <use x=\"888.314453\" xlink:href=\"#DejaVuSans-101\"/>\n       <use x=\"949.837891\" xlink:href=\"#DejaVuSans-101\"/>\n       <use x=\"1011.361328\" xlink:href=\"#DejaVuSans-107\"/>\n      </g>\n     </g>\n    </g>\n    <g id=\"ytick_99\">\n     <g id=\"line2d_102\">\n      <g>\n       <use style=\"stroke:#000000;stroke-width:0.8;\" x=\"165.090625\" xlink:href=\"#m3b0424a600\" y=\"1548.732531\"/>\n      </g>\n     </g>\n     <g id=\"text_102\">\n      <!-- PropertyField24B -->\n      <g style=\"fill:#444443;\" transform=\"translate(73.109375 1552.531749)scale(0.1 -0.1)\">\n       <use xlink:href=\"#DejaVuSans-80\"/>\n       <use x=\"58.552734\" xlink:href=\"#DejaVuSans-114\"/>\n       <use x=\"97.416016\" xlink:href=\"#DejaVuSans-111\"/>\n       <use x=\"158.597656\" xlink:href=\"#DejaVuSans-112\"/>\n       <use x=\"222.074219\" xlink:href=\"#DejaVuSans-101\"/>\n       <use x=\"283.597656\" xlink:href=\"#DejaVuSans-114\"/>\n       <use x=\"324.710938\" xlink:href=\"#DejaVuSans-116\"/>\n       <use x=\"363.919922\" xlink:href=\"#DejaVuSans-121\"/>\n       <use x=\"423.099609\" xlink:href=\"#DejaVuSans-70\"/>\n       <use x=\"473.369141\" xlink:href=\"#DejaVuSans-105\"/>\n       <use x=\"501.152344\" xlink:href=\"#DejaVuSans-101\"/>\n       <use x=\"562.675781\" xlink:href=\"#DejaVuSans-108\"/>\n       <use x=\"590.458984\" xlink:href=\"#DejaVuSans-100\"/>\n       <use x=\"653.935547\" xlink:href=\"#DejaVuSans-50\"/>\n       <use x=\"717.558594\" xlink:href=\"#DejaVuSans-52\"/>\n       <use x=\"781.181641\" xlink:href=\"#DejaVuSans-66\"/>\n      </g>\n     </g>\n    </g>\n    <g id=\"ytick_100\">\n     <g id=\"line2d_103\">\n      <g>\n       <use style=\"stroke:#000000;stroke-width:0.8;\" x=\"165.090625\" xlink:href=\"#m3b0424a600\" y=\"1564.448451\"/>\n      </g>\n     </g>\n     <g id=\"text_103\">\n      <!-- PersonalField4B -->\n      <g style=\"fill:#444443;\" transform=\"translate(79.279688 1568.24767)scale(0.1 -0.1)\">\n       <use xlink:href=\"#DejaVuSans-80\"/>\n       <use x=\"56.677734\" xlink:href=\"#DejaVuSans-101\"/>\n       <use x=\"118.201172\" xlink:href=\"#DejaVuSans-114\"/>\n       <use x=\"159.314453\" xlink:href=\"#DejaVuSans-115\"/>\n       <use x=\"211.414062\" xlink:href=\"#DejaVuSans-111\"/>\n       <use x=\"272.595703\" xlink:href=\"#DejaVuSans-110\"/>\n       <use x=\"335.974609\" xlink:href=\"#DejaVuSans-97\"/>\n       <use x=\"397.253906\" xlink:href=\"#DejaVuSans-108\"/>\n       <use x=\"425.037109\" xlink:href=\"#DejaVuSans-70\"/>\n       <use x=\"475.306641\" xlink:href=\"#DejaVuSans-105\"/>\n       <use x=\"503.089844\" xlink:href=\"#DejaVuSans-101\"/>\n       <use x=\"564.613281\" xlink:href=\"#DejaVuSans-108\"/>\n       <use x=\"592.396484\" xlink:href=\"#DejaVuSans-100\"/>\n       <use x=\"655.873047\" xlink:href=\"#DejaVuSans-52\"/>\n       <use x=\"719.496094\" xlink:href=\"#DejaVuSans-66\"/>\n      </g>\n     </g>\n    </g>\n    <g id=\"ytick_101\">\n     <g id=\"line2d_104\">\n      <g>\n       <use style=\"stroke:#000000;stroke-width:0.8;\" x=\"165.090625\" xlink:href=\"#m3b0424a600\" y=\"1580.164372\"/>\n      </g>\n     </g>\n     <g id=\"text_104\">\n      <!-- PersonalField39 -->\n      <g style=\"fill:#444443;\" transform=\"translate(79.778125 1583.96359)scale(0.1 -0.1)\">\n       <use xlink:href=\"#DejaVuSans-80\"/>\n       <use x=\"56.677734\" xlink:href=\"#DejaVuSans-101\"/>\n       <use x=\"118.201172\" xlink:href=\"#DejaVuSans-114\"/>\n       <use x=\"159.314453\" xlink:href=\"#DejaVuSans-115\"/>\n       <use x=\"211.414062\" xlink:href=\"#DejaVuSans-111\"/>\n       <use x=\"272.595703\" xlink:href=\"#DejaVuSans-110\"/>\n       <use x=\"335.974609\" xlink:href=\"#DejaVuSans-97\"/>\n       <use x=\"397.253906\" xlink:href=\"#DejaVuSans-108\"/>\n       <use x=\"425.037109\" xlink:href=\"#DejaVuSans-70\"/>\n       <use x=\"475.306641\" xlink:href=\"#DejaVuSans-105\"/>\n       <use x=\"503.089844\" xlink:href=\"#DejaVuSans-101\"/>\n       <use x=\"564.613281\" xlink:href=\"#DejaVuSans-108\"/>\n       <use x=\"592.396484\" xlink:href=\"#DejaVuSans-100\"/>\n       <use x=\"655.873047\" xlink:href=\"#DejaVuSans-51\"/>\n       <use x=\"719.496094\" xlink:href=\"#DejaVuSans-57\"/>\n      </g>\n     </g>\n    </g>\n    <g id=\"ytick_102\">\n     <g id=\"line2d_105\">\n      <g>\n       <use style=\"stroke:#000000;stroke-width:0.8;\" x=\"165.090625\" xlink:href=\"#m3b0424a600\" y=\"1595.880292\"/>\n      </g>\n     </g>\n     <g id=\"text_105\">\n      <!-- PersonalField40 -->\n      <g style=\"fill:#444443;\" transform=\"translate(79.778125 1599.679511)scale(0.1 -0.1)\">\n       <use xlink:href=\"#DejaVuSans-80\"/>\n       <use x=\"56.677734\" xlink:href=\"#DejaVuSans-101\"/>\n       <use x=\"118.201172\" xlink:href=\"#DejaVuSans-114\"/>\n       <use x=\"159.314453\" xlink:href=\"#DejaVuSans-115\"/>\n       <use x=\"211.414062\" xlink:href=\"#DejaVuSans-111\"/>\n       <use x=\"272.595703\" xlink:href=\"#DejaVuSans-110\"/>\n       <use x=\"335.974609\" xlink:href=\"#DejaVuSans-97\"/>\n       <use x=\"397.253906\" xlink:href=\"#DejaVuSans-108\"/>\n       <use x=\"425.037109\" xlink:href=\"#DejaVuSans-70\"/>\n       <use x=\"475.306641\" xlink:href=\"#DejaVuSans-105\"/>\n       <use x=\"503.089844\" xlink:href=\"#DejaVuSans-101\"/>\n       <use x=\"564.613281\" xlink:href=\"#DejaVuSans-108\"/>\n       <use x=\"592.396484\" xlink:href=\"#DejaVuSans-100\"/>\n       <use x=\"655.873047\" xlink:href=\"#DejaVuSans-52\"/>\n       <use x=\"719.496094\" xlink:href=\"#DejaVuSans-48\"/>\n      </g>\n     </g>\n    </g>\n    <g id=\"ytick_103\">\n     <g id=\"line2d_106\">\n      <g>\n       <use style=\"stroke:#000000;stroke-width:0.8;\" x=\"165.090625\" xlink:href=\"#m3b0424a600\" y=\"1611.596213\"/>\n      </g>\n     </g>\n     <g id=\"text_106\">\n      <!-- PersonalField38 -->\n      <g style=\"fill:#444443;\" transform=\"translate(79.778125 1615.395431)scale(0.1 -0.1)\">\n       <use xlink:href=\"#DejaVuSans-80\"/>\n       <use x=\"56.677734\" xlink:href=\"#DejaVuSans-101\"/>\n       <use x=\"118.201172\" xlink:href=\"#DejaVuSans-114\"/>\n       <use x=\"159.314453\" xlink:href=\"#DejaVuSans-115\"/>\n       <use x=\"211.414062\" xlink:href=\"#DejaVuSans-111\"/>\n       <use x=\"272.595703\" xlink:href=\"#DejaVuSans-110\"/>\n       <use x=\"335.974609\" xlink:href=\"#DejaVuSans-97\"/>\n       <use x=\"397.253906\" xlink:href=\"#DejaVuSans-108\"/>\n       <use x=\"425.037109\" xlink:href=\"#DejaVuSans-70\"/>\n       <use x=\"475.306641\" xlink:href=\"#DejaVuSans-105\"/>\n       <use x=\"503.089844\" xlink:href=\"#DejaVuSans-101\"/>\n       <use x=\"564.613281\" xlink:href=\"#DejaVuSans-108\"/>\n       <use x=\"592.396484\" xlink:href=\"#DejaVuSans-100\"/>\n       <use x=\"655.873047\" xlink:href=\"#DejaVuSans-51\"/>\n       <use x=\"719.496094\" xlink:href=\"#DejaVuSans-56\"/>\n      </g>\n     </g>\n    </g>\n    <g id=\"ytick_104\">\n     <g id=\"line2d_107\">\n      <g>\n       <use style=\"stroke:#000000;stroke-width:0.8;\" x=\"165.090625\" xlink:href=\"#m3b0424a600\" y=\"1627.312133\"/>\n      </g>\n     </g>\n     <g id=\"text_107\">\n      <!-- PropertyField1B -->\n      <g style=\"fill:#444443;\" transform=\"translate(79.471875 1631.111352)scale(0.1 -0.1)\">\n       <use xlink:href=\"#DejaVuSans-80\"/>\n       <use x=\"58.552734\" xlink:href=\"#DejaVuSans-114\"/>\n       <use x=\"97.416016\" xlink:href=\"#DejaVuSans-111\"/>\n       <use x=\"158.597656\" xlink:href=\"#DejaVuSans-112\"/>\n       <use x=\"222.074219\" xlink:href=\"#DejaVuSans-101\"/>\n       <use x=\"283.597656\" xlink:href=\"#DejaVuSans-114\"/>\n       <use x=\"324.710938\" xlink:href=\"#DejaVuSans-116\"/>\n       <use x=\"363.919922\" xlink:href=\"#DejaVuSans-121\"/>\n       <use x=\"423.099609\" xlink:href=\"#DejaVuSans-70\"/>\n       <use x=\"473.369141\" xlink:href=\"#DejaVuSans-105\"/>\n       <use x=\"501.152344\" xlink:href=\"#DejaVuSans-101\"/>\n       <use x=\"562.675781\" xlink:href=\"#DejaVuSans-108\"/>\n       <use x=\"590.458984\" xlink:href=\"#DejaVuSans-100\"/>\n       <use x=\"653.935547\" xlink:href=\"#DejaVuSans-49\"/>\n       <use x=\"717.558594\" xlink:href=\"#DejaVuSans-66\"/>\n      </g>\n     </g>\n    </g>\n    <g id=\"ytick_105\">\n     <g id=\"line2d_108\">\n      <g>\n       <use style=\"stroke:#000000;stroke-width:0.8;\" x=\"165.090625\" xlink:href=\"#m3b0424a600\" y=\"1643.028054\"/>\n      </g>\n     </g>\n     <g id=\"text_108\">\n      <!-- PersonalField41 -->\n      <g style=\"fill:#444443;\" transform=\"translate(79.778125 1646.827273)scale(0.1 -0.1)\">\n       <use xlink:href=\"#DejaVuSans-80\"/>\n       <use x=\"56.677734\" xlink:href=\"#DejaVuSans-101\"/>\n       <use x=\"118.201172\" xlink:href=\"#DejaVuSans-114\"/>\n       <use x=\"159.314453\" xlink:href=\"#DejaVuSans-115\"/>\n       <use x=\"211.414062\" xlink:href=\"#DejaVuSans-111\"/>\n       <use x=\"272.595703\" xlink:href=\"#DejaVuSans-110\"/>\n       <use x=\"335.974609\" xlink:href=\"#DejaVuSans-97\"/>\n       <use x=\"397.253906\" xlink:href=\"#DejaVuSans-108\"/>\n       <use x=\"425.037109\" xlink:href=\"#DejaVuSans-70\"/>\n       <use x=\"475.306641\" xlink:href=\"#DejaVuSans-105\"/>\n       <use x=\"503.089844\" xlink:href=\"#DejaVuSans-101\"/>\n       <use x=\"564.613281\" xlink:href=\"#DejaVuSans-108\"/>\n       <use x=\"592.396484\" xlink:href=\"#DejaVuSans-100\"/>\n       <use x=\"655.873047\" xlink:href=\"#DejaVuSans-52\"/>\n       <use x=\"719.496094\" xlink:href=\"#DejaVuSans-49\"/>\n      </g>\n     </g>\n    </g>\n    <g id=\"ytick_106\">\n     <g id=\"line2d_109\">\n      <g>\n       <use style=\"stroke:#000000;stroke-width:0.8;\" x=\"165.090625\" xlink:href=\"#m3b0424a600\" y=\"1658.743974\"/>\n      </g>\n     </g>\n     <g id=\"text_109\">\n      <!-- PersonalField65 -->\n      <g style=\"fill:#444443;\" transform=\"translate(79.778125 1662.543193)scale(0.1 -0.1)\">\n       <use xlink:href=\"#DejaVuSans-80\"/>\n       <use x=\"56.677734\" xlink:href=\"#DejaVuSans-101\"/>\n       <use x=\"118.201172\" xlink:href=\"#DejaVuSans-114\"/>\n       <use x=\"159.314453\" xlink:href=\"#DejaVuSans-115\"/>\n       <use x=\"211.414062\" xlink:href=\"#DejaVuSans-111\"/>\n       <use x=\"272.595703\" xlink:href=\"#DejaVuSans-110\"/>\n       <use x=\"335.974609\" xlink:href=\"#DejaVuSans-97\"/>\n       <use x=\"397.253906\" xlink:href=\"#DejaVuSans-108\"/>\n       <use x=\"425.037109\" xlink:href=\"#DejaVuSans-70\"/>\n       <use x=\"475.306641\" xlink:href=\"#DejaVuSans-105\"/>\n       <use x=\"503.089844\" xlink:href=\"#DejaVuSans-101\"/>\n       <use x=\"564.613281\" xlink:href=\"#DejaVuSans-108\"/>\n       <use x=\"592.396484\" xlink:href=\"#DejaVuSans-100\"/>\n       <use x=\"655.873047\" xlink:href=\"#DejaVuSans-54\"/>\n       <use x=\"719.496094\" xlink:href=\"#DejaVuSans-53\"/>\n      </g>\n     </g>\n    </g>\n    <g id=\"ytick_107\">\n     <g id=\"line2d_110\">\n      <g>\n       <use style=\"stroke:#000000;stroke-width:0.8;\" x=\"165.090625\" xlink:href=\"#m3b0424a600\" y=\"1674.459895\"/>\n      </g>\n     </g>\n     <g id=\"text_110\">\n      <!-- PersonalField42 -->\n      <g style=\"fill:#444443;\" transform=\"translate(79.778125 1678.259114)scale(0.1 -0.1)\">\n       <use xlink:href=\"#DejaVuSans-80\"/>\n       <use x=\"56.677734\" xlink:href=\"#DejaVuSans-101\"/>\n       <use x=\"118.201172\" xlink:href=\"#DejaVuSans-114\"/>\n       <use x=\"159.314453\" xlink:href=\"#DejaVuSans-115\"/>\n       <use x=\"211.414062\" xlink:href=\"#DejaVuSans-111\"/>\n       <use x=\"272.595703\" xlink:href=\"#DejaVuSans-110\"/>\n       <use x=\"335.974609\" xlink:href=\"#DejaVuSans-97\"/>\n       <use x=\"397.253906\" xlink:href=\"#DejaVuSans-108\"/>\n       <use x=\"425.037109\" xlink:href=\"#DejaVuSans-70\"/>\n       <use x=\"475.306641\" xlink:href=\"#DejaVuSans-105\"/>\n       <use x=\"503.089844\" xlink:href=\"#DejaVuSans-101\"/>\n       <use x=\"564.613281\" xlink:href=\"#DejaVuSans-108\"/>\n       <use x=\"592.396484\" xlink:href=\"#DejaVuSans-100\"/>\n       <use x=\"655.873047\" xlink:href=\"#DejaVuSans-52\"/>\n       <use x=\"719.496094\" xlink:href=\"#DejaVuSans-50\"/>\n      </g>\n     </g>\n    </g>\n    <g id=\"ytick_108\">\n     <g id=\"line2d_111\">\n      <g>\n       <use style=\"stroke:#000000;stroke-width:0.8;\" x=\"165.090625\" xlink:href=\"#m3b0424a600\" y=\"1690.175815\"/>\n      </g>\n     </g>\n     <g id=\"text_111\">\n      <!-- PersonalField43 -->\n      <g style=\"fill:#444443;\" transform=\"translate(79.778125 1693.975034)scale(0.1 -0.1)\">\n       <use xlink:href=\"#DejaVuSans-80\"/>\n       <use x=\"56.677734\" xlink:href=\"#DejaVuSans-101\"/>\n       <use x=\"118.201172\" xlink:href=\"#DejaVuSans-114\"/>\n       <use x=\"159.314453\" xlink:href=\"#DejaVuSans-115\"/>\n       <use x=\"211.414062\" xlink:href=\"#DejaVuSans-111\"/>\n       <use x=\"272.595703\" xlink:href=\"#DejaVuSans-110\"/>\n       <use x=\"335.974609\" xlink:href=\"#DejaVuSans-97\"/>\n       <use x=\"397.253906\" xlink:href=\"#DejaVuSans-108\"/>\n       <use x=\"425.037109\" xlink:href=\"#DejaVuSans-70\"/>\n       <use x=\"475.306641\" xlink:href=\"#DejaVuSans-105\"/>\n       <use x=\"503.089844\" xlink:href=\"#DejaVuSans-101\"/>\n       <use x=\"564.613281\" xlink:href=\"#DejaVuSans-108\"/>\n       <use x=\"592.396484\" xlink:href=\"#DejaVuSans-100\"/>\n       <use x=\"655.873047\" xlink:href=\"#DejaVuSans-52\"/>\n       <use x=\"719.496094\" xlink:href=\"#DejaVuSans-51\"/>\n      </g>\n     </g>\n    </g>\n    <g id=\"ytick_109\">\n     <g id=\"line2d_112\">\n      <g>\n       <use style=\"stroke:#000000;stroke-width:0.8;\" x=\"165.090625\" xlink:href=\"#m3b0424a600\" y=\"1705.891736\"/>\n      </g>\n     </g>\n     <g id=\"text_112\">\n      <!-- PersonalField44 -->\n      <g style=\"fill:#444443;\" transform=\"translate(79.778125 1709.690955)scale(0.1 -0.1)\">\n       <use xlink:href=\"#DejaVuSans-80\"/>\n       <use x=\"56.677734\" xlink:href=\"#DejaVuSans-101\"/>\n       <use x=\"118.201172\" xlink:href=\"#DejaVuSans-114\"/>\n       <use x=\"159.314453\" xlink:href=\"#DejaVuSans-115\"/>\n       <use x=\"211.414062\" xlink:href=\"#DejaVuSans-111\"/>\n       <use x=\"272.595703\" xlink:href=\"#DejaVuSans-110\"/>\n       <use x=\"335.974609\" xlink:href=\"#DejaVuSans-97\"/>\n       <use x=\"397.253906\" xlink:href=\"#DejaVuSans-108\"/>\n       <use x=\"425.037109\" xlink:href=\"#DejaVuSans-70\"/>\n       <use x=\"475.306641\" xlink:href=\"#DejaVuSans-105\"/>\n       <use x=\"503.089844\" xlink:href=\"#DejaVuSans-101\"/>\n       <use x=\"564.613281\" xlink:href=\"#DejaVuSans-108\"/>\n       <use x=\"592.396484\" xlink:href=\"#DejaVuSans-100\"/>\n       <use x=\"655.873047\" xlink:href=\"#DejaVuSans-52\"/>\n       <use x=\"719.496094\" xlink:href=\"#DejaVuSans-52\"/>\n      </g>\n     </g>\n    </g>\n    <g id=\"ytick_110\">\n     <g id=\"line2d_113\">\n      <g>\n       <use style=\"stroke:#000000;stroke-width:0.8;\" x=\"165.090625\" xlink:href=\"#m3b0424a600\" y=\"1721.607656\"/>\n      </g>\n     </g>\n     <g id=\"text_113\">\n      <!-- PersonalField49 -->\n      <g style=\"fill:#444443;\" transform=\"translate(79.778125 1725.406875)scale(0.1 -0.1)\">\n       <use xlink:href=\"#DejaVuSans-80\"/>\n       <use x=\"56.677734\" xlink:href=\"#DejaVuSans-101\"/>\n       <use x=\"118.201172\" xlink:href=\"#DejaVuSans-114\"/>\n       <use x=\"159.314453\" xlink:href=\"#DejaVuSans-115\"/>\n       <use x=\"211.414062\" xlink:href=\"#DejaVuSans-111\"/>\n       <use x=\"272.595703\" xlink:href=\"#DejaVuSans-110\"/>\n       <use x=\"335.974609\" xlink:href=\"#DejaVuSans-97\"/>\n       <use x=\"397.253906\" xlink:href=\"#DejaVuSans-108\"/>\n       <use x=\"425.037109\" xlink:href=\"#DejaVuSans-70\"/>\n       <use x=\"475.306641\" xlink:href=\"#DejaVuSans-105\"/>\n       <use x=\"503.089844\" xlink:href=\"#DejaVuSans-101\"/>\n       <use x=\"564.613281\" xlink:href=\"#DejaVuSans-108\"/>\n       <use x=\"592.396484\" xlink:href=\"#DejaVuSans-100\"/>\n       <use x=\"655.873047\" xlink:href=\"#DejaVuSans-52\"/>\n       <use x=\"719.496094\" xlink:href=\"#DejaVuSans-57\"/>\n      </g>\n     </g>\n    </g>\n    <g id=\"ytick_111\">\n     <g id=\"line2d_114\">\n      <g>\n       <use style=\"stroke:#000000;stroke-width:0.8;\" x=\"165.090625\" xlink:href=\"#m3b0424a600\" y=\"1737.323577\"/>\n      </g>\n     </g>\n     <g id=\"text_114\">\n      <!-- PersonalField37 -->\n      <g style=\"fill:#444443;\" transform=\"translate(79.778125 1741.122796)scale(0.1 -0.1)\">\n       <use xlink:href=\"#DejaVuSans-80\"/>\n       <use x=\"56.677734\" xlink:href=\"#DejaVuSans-101\"/>\n       <use x=\"118.201172\" xlink:href=\"#DejaVuSans-114\"/>\n       <use x=\"159.314453\" xlink:href=\"#DejaVuSans-115\"/>\n       <use x=\"211.414062\" xlink:href=\"#DejaVuSans-111\"/>\n       <use x=\"272.595703\" xlink:href=\"#DejaVuSans-110\"/>\n       <use x=\"335.974609\" xlink:href=\"#DejaVuSans-97\"/>\n       <use x=\"397.253906\" xlink:href=\"#DejaVuSans-108\"/>\n       <use x=\"425.037109\" xlink:href=\"#DejaVuSans-70\"/>\n       <use x=\"475.306641\" xlink:href=\"#DejaVuSans-105\"/>\n       <use x=\"503.089844\" xlink:href=\"#DejaVuSans-101\"/>\n       <use x=\"564.613281\" xlink:href=\"#DejaVuSans-108\"/>\n       <use x=\"592.396484\" xlink:href=\"#DejaVuSans-100\"/>\n       <use x=\"655.873047\" xlink:href=\"#DejaVuSans-51\"/>\n       <use x=\"719.496094\" xlink:href=\"#DejaVuSans-55\"/>\n      </g>\n     </g>\n    </g>\n    <g id=\"ytick_112\">\n     <g id=\"line2d_115\">\n      <g>\n       <use style=\"stroke:#000000;stroke-width:0.8;\" x=\"165.090625\" xlink:href=\"#m3b0424a600\" y=\"1753.039497\"/>\n      </g>\n     </g>\n     <g id=\"text_115\">\n      <!-- PersonalField51 -->\n      <g style=\"fill:#444443;\" transform=\"translate(79.778125 1756.838716)scale(0.1 -0.1)\">\n       <use xlink:href=\"#DejaVuSans-80\"/>\n       <use x=\"56.677734\" xlink:href=\"#DejaVuSans-101\"/>\n       <use x=\"118.201172\" xlink:href=\"#DejaVuSans-114\"/>\n       <use x=\"159.314453\" xlink:href=\"#DejaVuSans-115\"/>\n       <use x=\"211.414062\" xlink:href=\"#DejaVuSans-111\"/>\n       <use x=\"272.595703\" xlink:href=\"#DejaVuSans-110\"/>\n       <use x=\"335.974609\" xlink:href=\"#DejaVuSans-97\"/>\n       <use x=\"397.253906\" xlink:href=\"#DejaVuSans-108\"/>\n       <use x=\"425.037109\" xlink:href=\"#DejaVuSans-70\"/>\n       <use x=\"475.306641\" xlink:href=\"#DejaVuSans-105\"/>\n       <use x=\"503.089844\" xlink:href=\"#DejaVuSans-101\"/>\n       <use x=\"564.613281\" xlink:href=\"#DejaVuSans-108\"/>\n       <use x=\"592.396484\" xlink:href=\"#DejaVuSans-100\"/>\n       <use x=\"655.873047\" xlink:href=\"#DejaVuSans-53\"/>\n       <use x=\"719.496094\" xlink:href=\"#DejaVuSans-49\"/>\n      </g>\n     </g>\n    </g>\n    <g id=\"ytick_113\">\n     <g id=\"line2d_116\">\n      <g>\n       <use style=\"stroke:#000000;stroke-width:0.8;\" x=\"165.090625\" xlink:href=\"#m3b0424a600\" y=\"1768.755418\"/>\n      </g>\n     </g>\n     <g id=\"text_116\">\n      <!-- PersonalField52 -->\n      <g style=\"fill:#444443;\" transform=\"translate(79.778125 1772.554637)scale(0.1 -0.1)\">\n       <use xlink:href=\"#DejaVuSans-80\"/>\n       <use x=\"56.677734\" xlink:href=\"#DejaVuSans-101\"/>\n       <use x=\"118.201172\" xlink:href=\"#DejaVuSans-114\"/>\n       <use x=\"159.314453\" xlink:href=\"#DejaVuSans-115\"/>\n       <use x=\"211.414062\" xlink:href=\"#DejaVuSans-111\"/>\n       <use x=\"272.595703\" xlink:href=\"#DejaVuSans-110\"/>\n       <use x=\"335.974609\" xlink:href=\"#DejaVuSans-97\"/>\n       <use x=\"397.253906\" xlink:href=\"#DejaVuSans-108\"/>\n       <use x=\"425.037109\" xlink:href=\"#DejaVuSans-70\"/>\n       <use x=\"475.306641\" xlink:href=\"#DejaVuSans-105\"/>\n       <use x=\"503.089844\" xlink:href=\"#DejaVuSans-101\"/>\n       <use x=\"564.613281\" xlink:href=\"#DejaVuSans-108\"/>\n       <use x=\"592.396484\" xlink:href=\"#DejaVuSans-100\"/>\n       <use x=\"655.873047\" xlink:href=\"#DejaVuSans-53\"/>\n       <use x=\"719.496094\" xlink:href=\"#DejaVuSans-50\"/>\n      </g>\n     </g>\n    </g>\n    <g id=\"ytick_114\">\n     <g id=\"line2d_117\">\n      <g>\n       <use style=\"stroke:#000000;stroke-width:0.8;\" x=\"165.090625\" xlink:href=\"#m3b0424a600\" y=\"1784.471338\"/>\n      </g>\n     </g>\n     <g id=\"text_117\">\n      <!-- PersonalField53 -->\n      <g style=\"fill:#444443;\" transform=\"translate(79.778125 1788.270557)scale(0.1 -0.1)\">\n       <use xlink:href=\"#DejaVuSans-80\"/>\n       <use x=\"56.677734\" xlink:href=\"#DejaVuSans-101\"/>\n       <use x=\"118.201172\" xlink:href=\"#DejaVuSans-114\"/>\n       <use x=\"159.314453\" xlink:href=\"#DejaVuSans-115\"/>\n       <use x=\"211.414062\" xlink:href=\"#DejaVuSans-111\"/>\n       <use x=\"272.595703\" xlink:href=\"#DejaVuSans-110\"/>\n       <use x=\"335.974609\" xlink:href=\"#DejaVuSans-97\"/>\n       <use x=\"397.253906\" xlink:href=\"#DejaVuSans-108\"/>\n       <use x=\"425.037109\" xlink:href=\"#DejaVuSans-70\"/>\n       <use x=\"475.306641\" xlink:href=\"#DejaVuSans-105\"/>\n       <use x=\"503.089844\" xlink:href=\"#DejaVuSans-101\"/>\n       <use x=\"564.613281\" xlink:href=\"#DejaVuSans-108\"/>\n       <use x=\"592.396484\" xlink:href=\"#DejaVuSans-100\"/>\n       <use x=\"655.873047\" xlink:href=\"#DejaVuSans-53\"/>\n       <use x=\"719.496094\" xlink:href=\"#DejaVuSans-51\"/>\n      </g>\n     </g>\n    </g>\n    <g id=\"ytick_115\">\n     <g id=\"line2d_118\">\n      <g>\n       <use style=\"stroke:#000000;stroke-width:0.8;\" x=\"165.090625\" xlink:href=\"#m3b0424a600\" y=\"1800.187259\"/>\n      </g>\n     </g>\n     <g id=\"text_118\">\n      <!-- PersonalField54 -->\n      <g style=\"fill:#444443;\" transform=\"translate(79.778125 1803.986478)scale(0.1 -0.1)\">\n       <use xlink:href=\"#DejaVuSans-80\"/>\n       <use x=\"56.677734\" xlink:href=\"#DejaVuSans-101\"/>\n       <use x=\"118.201172\" xlink:href=\"#DejaVuSans-114\"/>\n       <use x=\"159.314453\" xlink:href=\"#DejaVuSans-115\"/>\n       <use x=\"211.414062\" xlink:href=\"#DejaVuSans-111\"/>\n       <use x=\"272.595703\" xlink:href=\"#DejaVuSans-110\"/>\n       <use x=\"335.974609\" xlink:href=\"#DejaVuSans-97\"/>\n       <use x=\"397.253906\" xlink:href=\"#DejaVuSans-108\"/>\n       <use x=\"425.037109\" xlink:href=\"#DejaVuSans-70\"/>\n       <use x=\"475.306641\" xlink:href=\"#DejaVuSans-105\"/>\n       <use x=\"503.089844\" xlink:href=\"#DejaVuSans-101\"/>\n       <use x=\"564.613281\" xlink:href=\"#DejaVuSans-108\"/>\n       <use x=\"592.396484\" xlink:href=\"#DejaVuSans-100\"/>\n       <use x=\"655.873047\" xlink:href=\"#DejaVuSans-53\"/>\n       <use x=\"719.496094\" xlink:href=\"#DejaVuSans-52\"/>\n      </g>\n     </g>\n    </g>\n    <g id=\"ytick_116\">\n     <g id=\"line2d_119\">\n      <g>\n       <use style=\"stroke:#000000;stroke-width:0.8;\" x=\"165.090625\" xlink:href=\"#m3b0424a600\" y=\"1815.903179\"/>\n      </g>\n     </g>\n     <g id=\"text_119\">\n      <!-- PersonalField55 -->\n      <g style=\"fill:#444443;\" transform=\"translate(79.778125 1819.702398)scale(0.1 -0.1)\">\n       <use xlink:href=\"#DejaVuSans-80\"/>\n       <use x=\"56.677734\" xlink:href=\"#DejaVuSans-101\"/>\n       <use x=\"118.201172\" xlink:href=\"#DejaVuSans-114\"/>\n       <use x=\"159.314453\" xlink:href=\"#DejaVuSans-115\"/>\n       <use x=\"211.414062\" xlink:href=\"#DejaVuSans-111\"/>\n       <use x=\"272.595703\" xlink:href=\"#DejaVuSans-110\"/>\n       <use x=\"335.974609\" xlink:href=\"#DejaVuSans-97\"/>\n       <use x=\"397.253906\" xlink:href=\"#DejaVuSans-108\"/>\n       <use x=\"425.037109\" xlink:href=\"#DejaVuSans-70\"/>\n       <use x=\"475.306641\" xlink:href=\"#DejaVuSans-105\"/>\n       <use x=\"503.089844\" xlink:href=\"#DejaVuSans-101\"/>\n       <use x=\"564.613281\" xlink:href=\"#DejaVuSans-108\"/>\n       <use x=\"592.396484\" xlink:href=\"#DejaVuSans-100\"/>\n       <use x=\"655.873047\" xlink:href=\"#DejaVuSans-53\"/>\n       <use x=\"719.496094\" xlink:href=\"#DejaVuSans-53\"/>\n      </g>\n     </g>\n    </g>\n    <g id=\"ytick_117\">\n     <g id=\"line2d_120\">\n      <g>\n       <use style=\"stroke:#000000;stroke-width:0.8;\" x=\"165.090625\" xlink:href=\"#m3b0424a600\" y=\"1831.6191\"/>\n      </g>\n     </g>\n     <g id=\"text_120\">\n      <!-- Original_Quote_Is_year_start -->\n      <defs>\n       <path d=\"M 9.8125 72.90625 \nL 19.671875 72.90625 \nL 19.671875 0 \nL 9.8125 0 \nz\n\" id=\"DejaVuSans-73\"/>\n      </defs>\n      <g style=\"fill:#444443;\" transform=\"translate(14.798438 1835.418319)scale(0.1 -0.1)\">\n       <use xlink:href=\"#DejaVuSans-79\"/>\n       <use x=\"78.710938\" xlink:href=\"#DejaVuSans-114\"/>\n       <use x=\"119.824219\" xlink:href=\"#DejaVuSans-105\"/>\n       <use x=\"147.607422\" xlink:href=\"#DejaVuSans-103\"/>\n       <use x=\"211.083984\" xlink:href=\"#DejaVuSans-105\"/>\n       <use x=\"238.867188\" xlink:href=\"#DejaVuSans-110\"/>\n       <use x=\"302.246094\" xlink:href=\"#DejaVuSans-97\"/>\n       <use x=\"363.525391\" xlink:href=\"#DejaVuSans-108\"/>\n       <use x=\"391.308594\" xlink:href=\"#DejaVuSans-95\"/>\n       <use x=\"441.308594\" xlink:href=\"#DejaVuSans-81\"/>\n       <use x=\"520.019531\" xlink:href=\"#DejaVuSans-117\"/>\n       <use x=\"583.398438\" xlink:href=\"#DejaVuSans-111\"/>\n       <use x=\"644.580078\" xlink:href=\"#DejaVuSans-116\"/>\n       <use x=\"683.789062\" xlink:href=\"#DejaVuSans-101\"/>\n       <use x=\"745.3125\" xlink:href=\"#DejaVuSans-95\"/>\n       <use x=\"795.3125\" xlink:href=\"#DejaVuSans-73\"/>\n       <use x=\"824.804688\" xlink:href=\"#DejaVuSans-115\"/>\n       <use x=\"876.904297\" xlink:href=\"#DejaVuSans-95\"/>\n       <use x=\"926.904297\" xlink:href=\"#DejaVuSans-121\"/>\n       <use x=\"986.083984\" xlink:href=\"#DejaVuSans-101\"/>\n       <use x=\"1047.607422\" xlink:href=\"#DejaVuSans-97\"/>\n       <use x=\"1108.886719\" xlink:href=\"#DejaVuSans-114\"/>\n       <use x=\"1150\" xlink:href=\"#DejaVuSans-95\"/>\n       <use x=\"1200\" xlink:href=\"#DejaVuSans-115\"/>\n       <use x=\"1252.099609\" xlink:href=\"#DejaVuSans-116\"/>\n       <use x=\"1291.308594\" xlink:href=\"#DejaVuSans-97\"/>\n       <use x=\"1352.587891\" xlink:href=\"#DejaVuSans-114\"/>\n       <use x=\"1393.701172\" xlink:href=\"#DejaVuSans-116\"/>\n      </g>\n     </g>\n    </g>\n    <g id=\"ytick_118\">\n     <g id=\"line2d_121\">\n      <g>\n       <use style=\"stroke:#000000;stroke-width:0.8;\" x=\"165.090625\" xlink:href=\"#m3b0424a600\" y=\"1847.33502\"/>\n      </g>\n     </g>\n     <g id=\"text_121\">\n      <!-- Original_Quote_Is_year_end -->\n      <g style=\"fill:#444443;\" transform=\"translate(19.248438 1851.134239)scale(0.1 -0.1)\">\n       <use xlink:href=\"#DejaVuSans-79\"/>\n       <use x=\"78.710938\" xlink:href=\"#DejaVuSans-114\"/>\n       <use x=\"119.824219\" xlink:href=\"#DejaVuSans-105\"/>\n       <use x=\"147.607422\" xlink:href=\"#DejaVuSans-103\"/>\n       <use x=\"211.083984\" xlink:href=\"#DejaVuSans-105\"/>\n       <use x=\"238.867188\" xlink:href=\"#DejaVuSans-110\"/>\n       <use x=\"302.246094\" xlink:href=\"#DejaVuSans-97\"/>\n       <use x=\"363.525391\" xlink:href=\"#DejaVuSans-108\"/>\n       <use x=\"391.308594\" xlink:href=\"#DejaVuSans-95\"/>\n       <use x=\"441.308594\" xlink:href=\"#DejaVuSans-81\"/>\n       <use x=\"520.019531\" xlink:href=\"#DejaVuSans-117\"/>\n       <use x=\"583.398438\" xlink:href=\"#DejaVuSans-111\"/>\n       <use x=\"644.580078\" xlink:href=\"#DejaVuSans-116\"/>\n       <use x=\"683.789062\" xlink:href=\"#DejaVuSans-101\"/>\n       <use x=\"745.3125\" xlink:href=\"#DejaVuSans-95\"/>\n       <use x=\"795.3125\" xlink:href=\"#DejaVuSans-73\"/>\n       <use x=\"824.804688\" xlink:href=\"#DejaVuSans-115\"/>\n       <use x=\"876.904297\" xlink:href=\"#DejaVuSans-95\"/>\n       <use x=\"926.904297\" xlink:href=\"#DejaVuSans-121\"/>\n       <use x=\"986.083984\" xlink:href=\"#DejaVuSans-101\"/>\n       <use x=\"1047.607422\" xlink:href=\"#DejaVuSans-97\"/>\n       <use x=\"1108.886719\" xlink:href=\"#DejaVuSans-114\"/>\n       <use x=\"1150\" xlink:href=\"#DejaVuSans-95\"/>\n       <use x=\"1200\" xlink:href=\"#DejaVuSans-101\"/>\n       <use x=\"1261.523438\" xlink:href=\"#DejaVuSans-110\"/>\n       <use x=\"1324.902344\" xlink:href=\"#DejaVuSans-100\"/>\n      </g>\n     </g>\n    </g>\n    <g id=\"ytick_119\">\n     <g id=\"line2d_122\">\n      <g>\n       <use style=\"stroke:#000000;stroke-width:0.8;\" x=\"165.090625\" xlink:href=\"#m3b0424a600\" y=\"1863.050941\"/>\n      </g>\n     </g>\n     <g id=\"text_122\">\n      <!-- Original_Quote_Is_quarter_start -->\n      <defs>\n       <path d=\"M 14.796875 27.296875 \nQ 14.796875 17.390625 18.875 11.75 \nQ 22.953125 6.109375 30.078125 6.109375 \nQ 37.203125 6.109375 41.296875 11.75 \nQ 45.40625 17.390625 45.40625 27.296875 \nQ 45.40625 37.203125 41.296875 42.84375 \nQ 37.203125 48.484375 30.078125 48.484375 \nQ 22.953125 48.484375 18.875 42.84375 \nQ 14.796875 37.203125 14.796875 27.296875 \nz\nM 45.40625 8.203125 \nQ 42.578125 3.328125 38.25 0.953125 \nQ 33.9375 -1.421875 27.875 -1.421875 \nQ 17.96875 -1.421875 11.734375 6.484375 \nQ 5.515625 14.40625 5.515625 27.296875 \nQ 5.515625 40.1875 11.734375 48.09375 \nQ 17.96875 56 27.875 56 \nQ 33.9375 56 38.25 53.625 \nQ 42.578125 51.265625 45.40625 46.390625 \nL 45.40625 54.6875 \nL 54.390625 54.6875 \nL 54.390625 -20.796875 \nL 45.40625 -20.796875 \nz\n\" id=\"DejaVuSans-113\"/>\n      </defs>\n      <g style=\"fill:#444443;\" transform=\"translate(0 1866.85016)scale(0.1 -0.1)\">\n       <use xlink:href=\"#DejaVuSans-79\"/>\n       <use x=\"78.710938\" xlink:href=\"#DejaVuSans-114\"/>\n       <use x=\"119.824219\" xlink:href=\"#DejaVuSans-105\"/>\n       <use x=\"147.607422\" xlink:href=\"#DejaVuSans-103\"/>\n       <use x=\"211.083984\" xlink:href=\"#DejaVuSans-105\"/>\n       <use x=\"238.867188\" xlink:href=\"#DejaVuSans-110\"/>\n       <use x=\"302.246094\" xlink:href=\"#DejaVuSans-97\"/>\n       <use x=\"363.525391\" xlink:href=\"#DejaVuSans-108\"/>\n       <use x=\"391.308594\" xlink:href=\"#DejaVuSans-95\"/>\n       <use x=\"441.308594\" xlink:href=\"#DejaVuSans-81\"/>\n       <use x=\"520.019531\" xlink:href=\"#DejaVuSans-117\"/>\n       <use x=\"583.398438\" xlink:href=\"#DejaVuSans-111\"/>\n       <use x=\"644.580078\" xlink:href=\"#DejaVuSans-116\"/>\n       <use x=\"683.789062\" xlink:href=\"#DejaVuSans-101\"/>\n       <use x=\"745.3125\" xlink:href=\"#DejaVuSans-95\"/>\n       <use x=\"795.3125\" xlink:href=\"#DejaVuSans-73\"/>\n       <use x=\"824.804688\" xlink:href=\"#DejaVuSans-115\"/>\n       <use x=\"876.904297\" xlink:href=\"#DejaVuSans-95\"/>\n       <use x=\"926.904297\" xlink:href=\"#DejaVuSans-113\"/>\n       <use x=\"990.380859\" xlink:href=\"#DejaVuSans-117\"/>\n       <use x=\"1053.759766\" xlink:href=\"#DejaVuSans-97\"/>\n       <use x=\"1115.039062\" xlink:href=\"#DejaVuSans-114\"/>\n       <use x=\"1156.152344\" xlink:href=\"#DejaVuSans-116\"/>\n       <use x=\"1195.361328\" xlink:href=\"#DejaVuSans-101\"/>\n       <use x=\"1256.884766\" xlink:href=\"#DejaVuSans-114\"/>\n       <use x=\"1297.998047\" xlink:href=\"#DejaVuSans-95\"/>\n       <use x=\"1347.998047\" xlink:href=\"#DejaVuSans-115\"/>\n       <use x=\"1400.097656\" xlink:href=\"#DejaVuSans-116\"/>\n       <use x=\"1439.306641\" xlink:href=\"#DejaVuSans-97\"/>\n       <use x=\"1500.585938\" xlink:href=\"#DejaVuSans-114\"/>\n       <use x=\"1541.699219\" xlink:href=\"#DejaVuSans-116\"/>\n      </g>\n     </g>\n    </g>\n    <g id=\"ytick_120\">\n     <g id=\"line2d_123\">\n      <g>\n       <use style=\"stroke:#000000;stroke-width:0.8;\" x=\"165.090625\" xlink:href=\"#m3b0424a600\" y=\"1878.766861\"/>\n      </g>\n     </g>\n     <g id=\"text_123\">\n      <!-- Original_Quote_Is_quarter_end -->\n      <g style=\"fill:#444443;\" transform=\"translate(4.45 1882.56608)scale(0.1 -0.1)\">\n       <use xlink:href=\"#DejaVuSans-79\"/>\n       <use x=\"78.710938\" xlink:href=\"#DejaVuSans-114\"/>\n       <use x=\"119.824219\" xlink:href=\"#DejaVuSans-105\"/>\n       <use x=\"147.607422\" xlink:href=\"#DejaVuSans-103\"/>\n       <use x=\"211.083984\" xlink:href=\"#DejaVuSans-105\"/>\n       <use x=\"238.867188\" xlink:href=\"#DejaVuSans-110\"/>\n       <use x=\"302.246094\" xlink:href=\"#DejaVuSans-97\"/>\n       <use x=\"363.525391\" xlink:href=\"#DejaVuSans-108\"/>\n       <use x=\"391.308594\" xlink:href=\"#DejaVuSans-95\"/>\n       <use x=\"441.308594\" xlink:href=\"#DejaVuSans-81\"/>\n       <use x=\"520.019531\" xlink:href=\"#DejaVuSans-117\"/>\n       <use x=\"583.398438\" xlink:href=\"#DejaVuSans-111\"/>\n       <use x=\"644.580078\" xlink:href=\"#DejaVuSans-116\"/>\n       <use x=\"683.789062\" xlink:href=\"#DejaVuSans-101\"/>\n       <use x=\"745.3125\" xlink:href=\"#DejaVuSans-95\"/>\n       <use x=\"795.3125\" xlink:href=\"#DejaVuSans-73\"/>\n       <use x=\"824.804688\" xlink:href=\"#DejaVuSans-115\"/>\n       <use x=\"876.904297\" xlink:href=\"#DejaVuSans-95\"/>\n       <use x=\"926.904297\" xlink:href=\"#DejaVuSans-113\"/>\n       <use x=\"990.380859\" xlink:href=\"#DejaVuSans-117\"/>\n       <use x=\"1053.759766\" xlink:href=\"#DejaVuSans-97\"/>\n       <use x=\"1115.039062\" xlink:href=\"#DejaVuSans-114\"/>\n       <use x=\"1156.152344\" xlink:href=\"#DejaVuSans-116\"/>\n       <use x=\"1195.361328\" xlink:href=\"#DejaVuSans-101\"/>\n       <use x=\"1256.884766\" xlink:href=\"#DejaVuSans-114\"/>\n       <use x=\"1297.998047\" xlink:href=\"#DejaVuSans-95\"/>\n       <use x=\"1347.998047\" xlink:href=\"#DejaVuSans-101\"/>\n       <use x=\"1409.521484\" xlink:href=\"#DejaVuSans-110\"/>\n       <use x=\"1472.900391\" xlink:href=\"#DejaVuSans-100\"/>\n      </g>\n     </g>\n    </g>\n    <g id=\"ytick_121\">\n     <g id=\"line2d_124\">\n      <g>\n       <use style=\"stroke:#000000;stroke-width:0.8;\" x=\"165.090625\" xlink:href=\"#m3b0424a600\" y=\"1894.482782\"/>\n      </g>\n     </g>\n     <g id=\"text_124\">\n      <!-- PersonalField50 -->\n      <g style=\"fill:#444443;\" transform=\"translate(79.778125 1898.282001)scale(0.1 -0.1)\">\n       <use xlink:href=\"#DejaVuSans-80\"/>\n       <use x=\"56.677734\" xlink:href=\"#DejaVuSans-101\"/>\n       <use x=\"118.201172\" xlink:href=\"#DejaVuSans-114\"/>\n       <use x=\"159.314453\" xlink:href=\"#DejaVuSans-115\"/>\n       <use x=\"211.414062\" xlink:href=\"#DejaVuSans-111\"/>\n       <use x=\"272.595703\" xlink:href=\"#DejaVuSans-110\"/>\n       <use x=\"335.974609\" xlink:href=\"#DejaVuSans-97\"/>\n       <use x=\"397.253906\" xlink:href=\"#DejaVuSans-108\"/>\n       <use x=\"425.037109\" xlink:href=\"#DejaVuSans-70\"/>\n       <use x=\"475.306641\" xlink:href=\"#DejaVuSans-105\"/>\n       <use x=\"503.089844\" xlink:href=\"#DejaVuSans-101\"/>\n       <use x=\"564.613281\" xlink:href=\"#DejaVuSans-108\"/>\n       <use x=\"592.396484\" xlink:href=\"#DejaVuSans-100\"/>\n       <use x=\"655.873047\" xlink:href=\"#DejaVuSans-53\"/>\n       <use x=\"719.496094\" xlink:href=\"#DejaVuSans-48\"/>\n      </g>\n     </g>\n    </g>\n    <g id=\"ytick_122\">\n     <g id=\"line2d_125\">\n      <g>\n       <use style=\"stroke:#000000;stroke-width:0.8;\" x=\"165.090625\" xlink:href=\"#m3b0424a600\" y=\"1910.198703\"/>\n      </g>\n     </g>\n     <g id=\"text_125\">\n      <!-- GeographicField11A -->\n      <g style=\"fill:#444443;\" transform=\"translate(57.870313 1913.997921)scale(0.1 -0.1)\">\n       <use xlink:href=\"#DejaVuSans-71\"/>\n       <use x=\"77.490234\" xlink:href=\"#DejaVuSans-101\"/>\n       <use x=\"139.013672\" xlink:href=\"#DejaVuSans-111\"/>\n       <use x=\"200.195312\" xlink:href=\"#DejaVuSans-103\"/>\n       <use x=\"263.671875\" xlink:href=\"#DejaVuSans-114\"/>\n       <use x=\"304.785156\" xlink:href=\"#DejaVuSans-97\"/>\n       <use x=\"366.064453\" xlink:href=\"#DejaVuSans-112\"/>\n       <use x=\"429.541016\" xlink:href=\"#DejaVuSans-104\"/>\n       <use x=\"492.919922\" xlink:href=\"#DejaVuSans-105\"/>\n       <use x=\"520.703125\" xlink:href=\"#DejaVuSans-99\"/>\n       <use x=\"575.683594\" xlink:href=\"#DejaVuSans-70\"/>\n       <use x=\"625.953125\" xlink:href=\"#DejaVuSans-105\"/>\n       <use x=\"653.736328\" xlink:href=\"#DejaVuSans-101\"/>\n       <use x=\"715.259766\" xlink:href=\"#DejaVuSans-108\"/>\n       <use x=\"743.042969\" xlink:href=\"#DejaVuSans-100\"/>\n       <use x=\"806.519531\" xlink:href=\"#DejaVuSans-49\"/>\n       <use x=\"870.142578\" xlink:href=\"#DejaVuSans-49\"/>\n       <use x=\"933.765625\" xlink:href=\"#DejaVuSans-65\"/>\n      </g>\n     </g>\n    </g>\n    <g id=\"ytick_123\">\n     <g id=\"line2d_126\">\n      <g>\n       <use style=\"stroke:#000000;stroke-width:0.8;\" x=\"165.090625\" xlink:href=\"#m3b0424a600\" y=\"1925.914623\"/>\n      </g>\n     </g>\n     <g id=\"text_126\">\n      <!-- PersonalField36 -->\n      <g style=\"fill:#444443;\" transform=\"translate(79.778125 1929.713842)scale(0.1 -0.1)\">\n       <use xlink:href=\"#DejaVuSans-80\"/>\n       <use x=\"56.677734\" xlink:href=\"#DejaVuSans-101\"/>\n       <use x=\"118.201172\" xlink:href=\"#DejaVuSans-114\"/>\n       <use x=\"159.314453\" xlink:href=\"#DejaVuSans-115\"/>\n       <use x=\"211.414062\" xlink:href=\"#DejaVuSans-111\"/>\n       <use x=\"272.595703\" xlink:href=\"#DejaVuSans-110\"/>\n       <use x=\"335.974609\" xlink:href=\"#DejaVuSans-97\"/>\n       <use x=\"397.253906\" xlink:href=\"#DejaVuSans-108\"/>\n       <use x=\"425.037109\" xlink:href=\"#DejaVuSans-70\"/>\n       <use x=\"475.306641\" xlink:href=\"#DejaVuSans-105\"/>\n       <use x=\"503.089844\" xlink:href=\"#DejaVuSans-101\"/>\n       <use x=\"564.613281\" xlink:href=\"#DejaVuSans-108\"/>\n       <use x=\"592.396484\" xlink:href=\"#DejaVuSans-100\"/>\n       <use x=\"655.873047\" xlink:href=\"#DejaVuSans-51\"/>\n       <use x=\"719.496094\" xlink:href=\"#DejaVuSans-54\"/>\n      </g>\n     </g>\n    </g>\n    <g id=\"ytick_124\">\n     <g id=\"line2d_127\">\n      <g>\n       <use style=\"stroke:#000000;stroke-width:0.8;\" x=\"165.090625\" xlink:href=\"#m3b0424a600\" y=\"1941.630544\"/>\n      </g>\n     </g>\n     <g id=\"text_127\">\n      <!-- PersonalField66 -->\n      <g style=\"fill:#444443;\" transform=\"translate(79.778125 1945.429762)scale(0.1 -0.1)\">\n       <use xlink:href=\"#DejaVuSans-80\"/>\n       <use x=\"56.677734\" xlink:href=\"#DejaVuSans-101\"/>\n       <use x=\"118.201172\" xlink:href=\"#DejaVuSans-114\"/>\n       <use x=\"159.314453\" xlink:href=\"#DejaVuSans-115\"/>\n       <use x=\"211.414062\" xlink:href=\"#DejaVuSans-111\"/>\n       <use x=\"272.595703\" xlink:href=\"#DejaVuSans-110\"/>\n       <use x=\"335.974609\" xlink:href=\"#DejaVuSans-97\"/>\n       <use x=\"397.253906\" xlink:href=\"#DejaVuSans-108\"/>\n       <use x=\"425.037109\" xlink:href=\"#DejaVuSans-70\"/>\n       <use x=\"475.306641\" xlink:href=\"#DejaVuSans-105\"/>\n       <use x=\"503.089844\" xlink:href=\"#DejaVuSans-101\"/>\n       <use x=\"564.613281\" xlink:href=\"#DejaVuSans-108\"/>\n       <use x=\"592.396484\" xlink:href=\"#DejaVuSans-100\"/>\n       <use x=\"655.873047\" xlink:href=\"#DejaVuSans-54\"/>\n       <use x=\"719.496094\" xlink:href=\"#DejaVuSans-54\"/>\n      </g>\n     </g>\n    </g>\n    <g id=\"ytick_125\">\n     <g id=\"line2d_128\">\n      <g>\n       <use style=\"stroke:#000000;stroke-width:0.8;\" x=\"165.090625\" xlink:href=\"#m3b0424a600\" y=\"1957.346464\"/>\n      </g>\n     </g>\n     <g id=\"text_128\">\n      <!-- Field12 -->\n      <g style=\"fill:#444443;\" transform=\"translate(122.28125 1961.145683)scale(0.1 -0.1)\">\n       <use xlink:href=\"#DejaVuSans-70\"/>\n       <use x=\"50.269531\" xlink:href=\"#DejaVuSans-105\"/>\n       <use x=\"78.052734\" xlink:href=\"#DejaVuSans-101\"/>\n       <use x=\"139.576172\" xlink:href=\"#DejaVuSans-108\"/>\n       <use x=\"167.359375\" xlink:href=\"#DejaVuSans-100\"/>\n       <use x=\"230.835938\" xlink:href=\"#DejaVuSans-49\"/>\n       <use x=\"294.458984\" xlink:href=\"#DejaVuSans-50\"/>\n      </g>\n     </g>\n    </g>\n    <g id=\"ytick_126\">\n     <g id=\"line2d_129\">\n      <g>\n       <use style=\"stroke:#000000;stroke-width:0.8;\" x=\"165.090625\" xlink:href=\"#m3b0424a600\" y=\"1973.062385\"/>\n      </g>\n     </g>\n     <g id=\"text_129\">\n      <!-- GeographicField59A -->\n      <g style=\"fill:#444443;\" transform=\"translate(57.870313 1976.861603)scale(0.1 -0.1)\">\n       <use xlink:href=\"#DejaVuSans-71\"/>\n       <use x=\"77.490234\" xlink:href=\"#DejaVuSans-101\"/>\n       <use x=\"139.013672\" xlink:href=\"#DejaVuSans-111\"/>\n       <use x=\"200.195312\" xlink:href=\"#DejaVuSans-103\"/>\n       <use x=\"263.671875\" xlink:href=\"#DejaVuSans-114\"/>\n       <use x=\"304.785156\" xlink:href=\"#DejaVuSans-97\"/>\n       <use x=\"366.064453\" xlink:href=\"#DejaVuSans-112\"/>\n       <use x=\"429.541016\" xlink:href=\"#DejaVuSans-104\"/>\n       <use x=\"492.919922\" xlink:href=\"#DejaVuSans-105\"/>\n       <use x=\"520.703125\" xlink:href=\"#DejaVuSans-99\"/>\n       <use x=\"575.683594\" xlink:href=\"#DejaVuSans-70\"/>\n       <use x=\"625.953125\" xlink:href=\"#DejaVuSans-105\"/>\n       <use x=\"653.736328\" xlink:href=\"#DejaVuSans-101\"/>\n       <use x=\"715.259766\" xlink:href=\"#DejaVuSans-108\"/>\n       <use x=\"743.042969\" xlink:href=\"#DejaVuSans-100\"/>\n       <use x=\"806.519531\" xlink:href=\"#DejaVuSans-53\"/>\n       <use x=\"870.142578\" xlink:href=\"#DejaVuSans-57\"/>\n       <use x=\"933.765625\" xlink:href=\"#DejaVuSans-65\"/>\n      </g>\n     </g>\n    </g>\n    <g id=\"ytick_127\">\n     <g id=\"line2d_130\">\n      <g>\n       <use style=\"stroke:#000000;stroke-width:0.8;\" x=\"165.090625\" xlink:href=\"#m3b0424a600\" y=\"1988.778305\"/>\n      </g>\n     </g>\n     <g id=\"text_130\">\n      <!-- GeographicField55B -->\n      <g style=\"fill:#444443;\" transform=\"translate(57.85 1992.577524)scale(0.1 -0.1)\">\n       <use xlink:href=\"#DejaVuSans-71\"/>\n       <use x=\"77.490234\" xlink:href=\"#DejaVuSans-101\"/>\n       <use x=\"139.013672\" xlink:href=\"#DejaVuSans-111\"/>\n       <use x=\"200.195312\" xlink:href=\"#DejaVuSans-103\"/>\n       <use x=\"263.671875\" xlink:href=\"#DejaVuSans-114\"/>\n       <use x=\"304.785156\" xlink:href=\"#DejaVuSans-97\"/>\n       <use x=\"366.064453\" xlink:href=\"#DejaVuSans-112\"/>\n       <use x=\"429.541016\" xlink:href=\"#DejaVuSans-104\"/>\n       <use x=\"492.919922\" xlink:href=\"#DejaVuSans-105\"/>\n       <use x=\"520.703125\" xlink:href=\"#DejaVuSans-99\"/>\n       <use x=\"575.683594\" xlink:href=\"#DejaVuSans-70\"/>\n       <use x=\"625.953125\" xlink:href=\"#DejaVuSans-105\"/>\n       <use x=\"653.736328\" xlink:href=\"#DejaVuSans-101\"/>\n       <use x=\"715.259766\" xlink:href=\"#DejaVuSans-108\"/>\n       <use x=\"743.042969\" xlink:href=\"#DejaVuSans-100\"/>\n       <use x=\"806.519531\" xlink:href=\"#DejaVuSans-53\"/>\n       <use x=\"870.142578\" xlink:href=\"#DejaVuSans-53\"/>\n       <use x=\"933.765625\" xlink:href=\"#DejaVuSans-66\"/>\n      </g>\n     </g>\n    </g>\n    <g id=\"ytick_128\">\n     <g id=\"line2d_131\">\n      <g>\n       <use style=\"stroke:#000000;stroke-width:0.8;\" x=\"165.090625\" xlink:href=\"#m3b0424a600\" y=\"2004.494226\"/>\n      </g>\n     </g>\n     <g id=\"text_131\">\n      <!-- GeographicField53B -->\n      <g style=\"fill:#444443;\" transform=\"translate(57.85 2008.293444)scale(0.1 -0.1)\">\n       <use xlink:href=\"#DejaVuSans-71\"/>\n       <use x=\"77.490234\" xlink:href=\"#DejaVuSans-101\"/>\n       <use x=\"139.013672\" xlink:href=\"#DejaVuSans-111\"/>\n       <use x=\"200.195312\" xlink:href=\"#DejaVuSans-103\"/>\n       <use x=\"263.671875\" xlink:href=\"#DejaVuSans-114\"/>\n       <use x=\"304.785156\" xlink:href=\"#DejaVuSans-97\"/>\n       <use x=\"366.064453\" xlink:href=\"#DejaVuSans-112\"/>\n       <use x=\"429.541016\" xlink:href=\"#DejaVuSans-104\"/>\n       <use x=\"492.919922\" xlink:href=\"#DejaVuSans-105\"/>\n       <use x=\"520.703125\" xlink:href=\"#DejaVuSans-99\"/>\n       <use x=\"575.683594\" xlink:href=\"#DejaVuSans-70\"/>\n       <use x=\"625.953125\" xlink:href=\"#DejaVuSans-105\"/>\n       <use x=\"653.736328\" xlink:href=\"#DejaVuSans-101\"/>\n       <use x=\"715.259766\" xlink:href=\"#DejaVuSans-108\"/>\n       <use x=\"743.042969\" xlink:href=\"#DejaVuSans-100\"/>\n       <use x=\"806.519531\" xlink:href=\"#DejaVuSans-53\"/>\n       <use x=\"870.142578\" xlink:href=\"#DejaVuSans-51\"/>\n       <use x=\"933.765625\" xlink:href=\"#DejaVuSans-66\"/>\n      </g>\n     </g>\n    </g>\n    <g id=\"ytick_129\">\n     <g id=\"line2d_132\">\n      <g>\n       <use style=\"stroke:#000000;stroke-width:0.8;\" x=\"165.090625\" xlink:href=\"#m3b0424a600\" y=\"2020.210146\"/>\n      </g>\n     </g>\n     <g id=\"text_132\">\n      <!-- SalesField7 -->\n      <g style=\"fill:#444443;\" transform=\"translate(102.026563 2024.009365)scale(0.1 -0.1)\">\n       <use xlink:href=\"#DejaVuSans-83\"/>\n       <use x=\"63.476562\" xlink:href=\"#DejaVuSans-97\"/>\n       <use x=\"124.755859\" xlink:href=\"#DejaVuSans-108\"/>\n       <use x=\"152.539062\" xlink:href=\"#DejaVuSans-101\"/>\n       <use x=\"214.0625\" xlink:href=\"#DejaVuSans-115\"/>\n       <use x=\"266.162109\" xlink:href=\"#DejaVuSans-70\"/>\n       <use x=\"316.431641\" xlink:href=\"#DejaVuSans-105\"/>\n       <use x=\"344.214844\" xlink:href=\"#DejaVuSans-101\"/>\n       <use x=\"405.738281\" xlink:href=\"#DejaVuSans-108\"/>\n       <use x=\"433.521484\" xlink:href=\"#DejaVuSans-100\"/>\n       <use x=\"496.998047\" xlink:href=\"#DejaVuSans-55\"/>\n      </g>\n     </g>\n    </g>\n    <g id=\"ytick_130\">\n     <g id=\"line2d_133\">\n      <g>\n       <use style=\"stroke:#000000;stroke-width:0.8;\" x=\"165.090625\" xlink:href=\"#m3b0424a600\" y=\"2035.926067\"/>\n      </g>\n     </g>\n     <g id=\"text_133\">\n      <!-- SalesField9 -->\n      <g style=\"fill:#444443;\" transform=\"translate(102.026563 2039.725285)scale(0.1 -0.1)\">\n       <use xlink:href=\"#DejaVuSans-83\"/>\n       <use x=\"63.476562\" xlink:href=\"#DejaVuSans-97\"/>\n       <use x=\"124.755859\" xlink:href=\"#DejaVuSans-108\"/>\n       <use x=\"152.539062\" xlink:href=\"#DejaVuSans-101\"/>\n       <use x=\"214.0625\" xlink:href=\"#DejaVuSans-115\"/>\n       <use x=\"266.162109\" xlink:href=\"#DejaVuSans-70\"/>\n       <use x=\"316.431641\" xlink:href=\"#DejaVuSans-105\"/>\n       <use x=\"344.214844\" xlink:href=\"#DejaVuSans-101\"/>\n       <use x=\"405.738281\" xlink:href=\"#DejaVuSans-108\"/>\n       <use x=\"433.521484\" xlink:href=\"#DejaVuSans-100\"/>\n       <use x=\"496.998047\" xlink:href=\"#DejaVuSans-57\"/>\n      </g>\n     </g>\n    </g>\n    <g id=\"ytick_131\">\n     <g id=\"line2d_134\">\n      <g>\n       <use style=\"stroke:#000000;stroke-width:0.8;\" x=\"165.090625\" xlink:href=\"#m3b0424a600\" y=\"2051.641987\"/>\n      </g>\n     </g>\n     <g id=\"text_134\">\n      <!-- GeographicField49A -->\n      <g style=\"fill:#444443;\" transform=\"translate(57.870313 2055.441206)scale(0.1 -0.1)\">\n       <use xlink:href=\"#DejaVuSans-71\"/>\n       <use x=\"77.490234\" xlink:href=\"#DejaVuSans-101\"/>\n       <use x=\"139.013672\" xlink:href=\"#DejaVuSans-111\"/>\n       <use x=\"200.195312\" xlink:href=\"#DejaVuSans-103\"/>\n       <use x=\"263.671875\" xlink:href=\"#DejaVuSans-114\"/>\n       <use x=\"304.785156\" xlink:href=\"#DejaVuSans-97\"/>\n       <use x=\"366.064453\" xlink:href=\"#DejaVuSans-112\"/>\n       <use x=\"429.541016\" xlink:href=\"#DejaVuSans-104\"/>\n       <use x=\"492.919922\" xlink:href=\"#DejaVuSans-105\"/>\n       <use x=\"520.703125\" xlink:href=\"#DejaVuSans-99\"/>\n       <use x=\"575.683594\" xlink:href=\"#DejaVuSans-70\"/>\n       <use x=\"625.953125\" xlink:href=\"#DejaVuSans-105\"/>\n       <use x=\"653.736328\" xlink:href=\"#DejaVuSans-101\"/>\n       <use x=\"715.259766\" xlink:href=\"#DejaVuSans-108\"/>\n       <use x=\"743.042969\" xlink:href=\"#DejaVuSans-100\"/>\n       <use x=\"806.519531\" xlink:href=\"#DejaVuSans-52\"/>\n       <use x=\"870.142578\" xlink:href=\"#DejaVuSans-57\"/>\n       <use x=\"933.765625\" xlink:href=\"#DejaVuSans-65\"/>\n      </g>\n     </g>\n    </g>\n    <g id=\"ytick_132\">\n     <g id=\"line2d_135\">\n      <g>\n       <use style=\"stroke:#000000;stroke-width:0.8;\" x=\"165.090625\" xlink:href=\"#m3b0424a600\" y=\"2067.357908\"/>\n      </g>\n     </g>\n     <g id=\"text_135\">\n      <!-- SalesField13 -->\n      <g style=\"fill:#444443;\" transform=\"translate(95.664063 2071.157126)scale(0.1 -0.1)\">\n       <use xlink:href=\"#DejaVuSans-83\"/>\n       <use x=\"63.476562\" xlink:href=\"#DejaVuSans-97\"/>\n       <use x=\"124.755859\" xlink:href=\"#DejaVuSans-108\"/>\n       <use x=\"152.539062\" xlink:href=\"#DejaVuSans-101\"/>\n       <use x=\"214.0625\" xlink:href=\"#DejaVuSans-115\"/>\n       <use x=\"266.162109\" xlink:href=\"#DejaVuSans-70\"/>\n       <use x=\"316.431641\" xlink:href=\"#DejaVuSans-105\"/>\n       <use x=\"344.214844\" xlink:href=\"#DejaVuSans-101\"/>\n       <use x=\"405.738281\" xlink:href=\"#DejaVuSans-108\"/>\n       <use x=\"433.521484\" xlink:href=\"#DejaVuSans-100\"/>\n       <use x=\"496.998047\" xlink:href=\"#DejaVuSans-49\"/>\n       <use x=\"560.621094\" xlink:href=\"#DejaVuSans-51\"/>\n      </g>\n     </g>\n    </g>\n    <g id=\"ytick_133\">\n     <g id=\"line2d_136\">\n      <g>\n       <use style=\"stroke:#000000;stroke-width:0.8;\" x=\"165.090625\" xlink:href=\"#m3b0424a600\" y=\"2083.073828\"/>\n      </g>\n     </g>\n     <g id=\"text_136\">\n      <!-- GeographicField44A -->\n      <g style=\"fill:#444443;\" transform=\"translate(57.870313 2086.873047)scale(0.1 -0.1)\">\n       <use xlink:href=\"#DejaVuSans-71\"/>\n       <use x=\"77.490234\" xlink:href=\"#DejaVuSans-101\"/>\n       <use x=\"139.013672\" xlink:href=\"#DejaVuSans-111\"/>\n       <use x=\"200.195312\" xlink:href=\"#DejaVuSans-103\"/>\n       <use x=\"263.671875\" xlink:href=\"#DejaVuSans-114\"/>\n       <use x=\"304.785156\" xlink:href=\"#DejaVuSans-97\"/>\n       <use x=\"366.064453\" xlink:href=\"#DejaVuSans-112\"/>\n       <use x=\"429.541016\" xlink:href=\"#DejaVuSans-104\"/>\n       <use x=\"492.919922\" xlink:href=\"#DejaVuSans-105\"/>\n       <use x=\"520.703125\" xlink:href=\"#DejaVuSans-99\"/>\n       <use x=\"575.683594\" xlink:href=\"#DejaVuSans-70\"/>\n       <use x=\"625.953125\" xlink:href=\"#DejaVuSans-105\"/>\n       <use x=\"653.736328\" xlink:href=\"#DejaVuSans-101\"/>\n       <use x=\"715.259766\" xlink:href=\"#DejaVuSans-108\"/>\n       <use x=\"743.042969\" xlink:href=\"#DejaVuSans-100\"/>\n       <use x=\"806.519531\" xlink:href=\"#DejaVuSans-52\"/>\n       <use x=\"870.142578\" xlink:href=\"#DejaVuSans-52\"/>\n       <use x=\"933.765625\" xlink:href=\"#DejaVuSans-65\"/>\n      </g>\n     </g>\n    </g>\n    <g id=\"ytick_134\">\n     <g id=\"line2d_137\">\n      <g>\n       <use style=\"stroke:#000000;stroke-width:0.8;\" x=\"165.090625\" xlink:href=\"#m3b0424a600\" y=\"2098.789749\"/>\n      </g>\n     </g>\n     <g id=\"text_137\">\n      <!-- GeographicField40A -->\n      <g style=\"fill:#444443;\" transform=\"translate(57.870313 2102.588967)scale(0.1 -0.1)\">\n       <use xlink:href=\"#DejaVuSans-71\"/>\n       <use x=\"77.490234\" xlink:href=\"#DejaVuSans-101\"/>\n       <use x=\"139.013672\" xlink:href=\"#DejaVuSans-111\"/>\n       <use x=\"200.195312\" xlink:href=\"#DejaVuSans-103\"/>\n       <use x=\"263.671875\" xlink:href=\"#DejaVuSans-114\"/>\n       <use x=\"304.785156\" xlink:href=\"#DejaVuSans-97\"/>\n       <use x=\"366.064453\" xlink:href=\"#DejaVuSans-112\"/>\n       <use x=\"429.541016\" xlink:href=\"#DejaVuSans-104\"/>\n       <use x=\"492.919922\" xlink:href=\"#DejaVuSans-105\"/>\n       <use x=\"520.703125\" xlink:href=\"#DejaVuSans-99\"/>\n       <use x=\"575.683594\" xlink:href=\"#DejaVuSans-70\"/>\n       <use x=\"625.953125\" xlink:href=\"#DejaVuSans-105\"/>\n       <use x=\"653.736328\" xlink:href=\"#DejaVuSans-101\"/>\n       <use x=\"715.259766\" xlink:href=\"#DejaVuSans-108\"/>\n       <use x=\"743.042969\" xlink:href=\"#DejaVuSans-100\"/>\n       <use x=\"806.519531\" xlink:href=\"#DejaVuSans-52\"/>\n       <use x=\"870.142578\" xlink:href=\"#DejaVuSans-48\"/>\n       <use x=\"933.765625\" xlink:href=\"#DejaVuSans-65\"/>\n      </g>\n     </g>\n    </g>\n    <g id=\"ytick_135\">\n     <g id=\"line2d_138\">\n      <g>\n       <use style=\"stroke:#000000;stroke-width:0.8;\" x=\"165.090625\" xlink:href=\"#m3b0424a600\" y=\"2114.505669\"/>\n      </g>\n     </g>\n     <g id=\"text_138\">\n      <!-- PersonalField5 -->\n      <g style=\"fill:#444443;\" transform=\"translate(86.140625 2118.304888)scale(0.1 -0.1)\">\n       <use xlink:href=\"#DejaVuSans-80\"/>\n       <use x=\"56.677734\" xlink:href=\"#DejaVuSans-101\"/>\n       <use x=\"118.201172\" xlink:href=\"#DejaVuSans-114\"/>\n       <use x=\"159.314453\" xlink:href=\"#DejaVuSans-115\"/>\n       <use x=\"211.414062\" xlink:href=\"#DejaVuSans-111\"/>\n       <use x=\"272.595703\" xlink:href=\"#DejaVuSans-110\"/>\n       <use x=\"335.974609\" xlink:href=\"#DejaVuSans-97\"/>\n       <use x=\"397.253906\" xlink:href=\"#DejaVuSans-108\"/>\n       <use x=\"425.037109\" xlink:href=\"#DejaVuSans-70\"/>\n       <use x=\"475.306641\" xlink:href=\"#DejaVuSans-105\"/>\n       <use x=\"503.089844\" xlink:href=\"#DejaVuSans-101\"/>\n       <use x=\"564.613281\" xlink:href=\"#DejaVuSans-108\"/>\n       <use x=\"592.396484\" xlink:href=\"#DejaVuSans-100\"/>\n       <use x=\"655.873047\" xlink:href=\"#DejaVuSans-53\"/>\n      </g>\n     </g>\n    </g>\n    <g id=\"ytick_136\">\n     <g id=\"line2d_139\">\n      <g>\n       <use style=\"stroke:#000000;stroke-width:0.8;\" x=\"165.090625\" xlink:href=\"#m3b0424a600\" y=\"2130.22159\"/>\n      </g>\n     </g>\n     <g id=\"text_139\">\n      <!-- PersonalField8 -->\n      <g style=\"fill:#444443;\" transform=\"translate(86.140625 2134.020808)scale(0.1 -0.1)\">\n       <use xlink:href=\"#DejaVuSans-80\"/>\n       <use x=\"56.677734\" xlink:href=\"#DejaVuSans-101\"/>\n       <use x=\"118.201172\" xlink:href=\"#DejaVuSans-114\"/>\n       <use x=\"159.314453\" xlink:href=\"#DejaVuSans-115\"/>\n       <use x=\"211.414062\" xlink:href=\"#DejaVuSans-111\"/>\n       <use x=\"272.595703\" xlink:href=\"#DejaVuSans-110\"/>\n       <use x=\"335.974609\" xlink:href=\"#DejaVuSans-97\"/>\n       <use x=\"397.253906\" xlink:href=\"#DejaVuSans-108\"/>\n       <use x=\"425.037109\" xlink:href=\"#DejaVuSans-70\"/>\n       <use x=\"475.306641\" xlink:href=\"#DejaVuSans-105\"/>\n       <use x=\"503.089844\" xlink:href=\"#DejaVuSans-101\"/>\n       <use x=\"564.613281\" xlink:href=\"#DejaVuSans-108\"/>\n       <use x=\"592.396484\" xlink:href=\"#DejaVuSans-100\"/>\n       <use x=\"655.873047\" xlink:href=\"#DejaVuSans-56\"/>\n      </g>\n     </g>\n    </g>\n    <g id=\"ytick_137\">\n     <g id=\"line2d_140\">\n      <g>\n       <use style=\"stroke:#000000;stroke-width:0.8;\" x=\"165.090625\" xlink:href=\"#m3b0424a600\" y=\"2145.93751\"/>\n      </g>\n     </g>\n     <g id=\"text_140\">\n      <!-- GeographicField27A -->\n      <g style=\"fill:#444443;\" transform=\"translate(57.870313 2149.736729)scale(0.1 -0.1)\">\n       <use xlink:href=\"#DejaVuSans-71\"/>\n       <use x=\"77.490234\" xlink:href=\"#DejaVuSans-101\"/>\n       <use x=\"139.013672\" xlink:href=\"#DejaVuSans-111\"/>\n       <use x=\"200.195312\" xlink:href=\"#DejaVuSans-103\"/>\n       <use x=\"263.671875\" xlink:href=\"#DejaVuSans-114\"/>\n       <use x=\"304.785156\" xlink:href=\"#DejaVuSans-97\"/>\n       <use x=\"366.064453\" xlink:href=\"#DejaVuSans-112\"/>\n       <use x=\"429.541016\" xlink:href=\"#DejaVuSans-104\"/>\n       <use x=\"492.919922\" xlink:href=\"#DejaVuSans-105\"/>\n       <use x=\"520.703125\" xlink:href=\"#DejaVuSans-99\"/>\n       <use x=\"575.683594\" xlink:href=\"#DejaVuSans-70\"/>\n       <use x=\"625.953125\" xlink:href=\"#DejaVuSans-105\"/>\n       <use x=\"653.736328\" xlink:href=\"#DejaVuSans-101\"/>\n       <use x=\"715.259766\" xlink:href=\"#DejaVuSans-108\"/>\n       <use x=\"743.042969\" xlink:href=\"#DejaVuSans-100\"/>\n       <use x=\"806.519531\" xlink:href=\"#DejaVuSans-50\"/>\n       <use x=\"870.142578\" xlink:href=\"#DejaVuSans-55\"/>\n       <use x=\"933.765625\" xlink:href=\"#DejaVuSans-65\"/>\n      </g>\n     </g>\n    </g>\n    <g id=\"ytick_138\">\n     <g id=\"line2d_141\">\n      <g>\n       <use style=\"stroke:#000000;stroke-width:0.8;\" x=\"165.090625\" xlink:href=\"#m3b0424a600\" y=\"2161.653431\"/>\n      </g>\n     </g>\n     <g id=\"text_141\">\n      <!-- PersonalField17 -->\n      <g style=\"fill:#444443;\" transform=\"translate(79.778125 2165.452649)scale(0.1 -0.1)\">\n       <use xlink:href=\"#DejaVuSans-80\"/>\n       <use x=\"56.677734\" xlink:href=\"#DejaVuSans-101\"/>\n       <use x=\"118.201172\" xlink:href=\"#DejaVuSans-114\"/>\n       <use x=\"159.314453\" xlink:href=\"#DejaVuSans-115\"/>\n       <use x=\"211.414062\" xlink:href=\"#DejaVuSans-111\"/>\n       <use x=\"272.595703\" xlink:href=\"#DejaVuSans-110\"/>\n       <use x=\"335.974609\" xlink:href=\"#DejaVuSans-97\"/>\n       <use x=\"397.253906\" xlink:href=\"#DejaVuSans-108\"/>\n       <use x=\"425.037109\" xlink:href=\"#DejaVuSans-70\"/>\n       <use x=\"475.306641\" xlink:href=\"#DejaVuSans-105\"/>\n       <use x=\"503.089844\" xlink:href=\"#DejaVuSans-101\"/>\n       <use x=\"564.613281\" xlink:href=\"#DejaVuSans-108\"/>\n       <use x=\"592.396484\" xlink:href=\"#DejaVuSans-100\"/>\n       <use x=\"655.873047\" xlink:href=\"#DejaVuSans-49\"/>\n       <use x=\"719.496094\" xlink:href=\"#DejaVuSans-55\"/>\n      </g>\n     </g>\n    </g>\n    <g id=\"ytick_139\">\n     <g id=\"line2d_142\">\n      <g>\n       <use style=\"stroke:#000000;stroke-width:0.8;\" x=\"165.090625\" xlink:href=\"#m3b0424a600\" y=\"2177.369351\"/>\n      </g>\n     </g>\n     <g id=\"text_142\">\n      <!-- PersonalField22 -->\n      <g style=\"fill:#444443;\" transform=\"translate(79.778125 2181.16857)scale(0.1 -0.1)\">\n       <use xlink:href=\"#DejaVuSans-80\"/>\n       <use x=\"56.677734\" xlink:href=\"#DejaVuSans-101\"/>\n       <use x=\"118.201172\" xlink:href=\"#DejaVuSans-114\"/>\n       <use x=\"159.314453\" xlink:href=\"#DejaVuSans-115\"/>\n       <use x=\"211.414062\" xlink:href=\"#DejaVuSans-111\"/>\n       <use x=\"272.595703\" xlink:href=\"#DejaVuSans-110\"/>\n       <use x=\"335.974609\" xlink:href=\"#DejaVuSans-97\"/>\n       <use x=\"397.253906\" xlink:href=\"#DejaVuSans-108\"/>\n       <use x=\"425.037109\" xlink:href=\"#DejaVuSans-70\"/>\n       <use x=\"475.306641\" xlink:href=\"#DejaVuSans-105\"/>\n       <use x=\"503.089844\" xlink:href=\"#DejaVuSans-101\"/>\n       <use x=\"564.613281\" xlink:href=\"#DejaVuSans-108\"/>\n       <use x=\"592.396484\" xlink:href=\"#DejaVuSans-100\"/>\n       <use x=\"655.873047\" xlink:href=\"#DejaVuSans-50\"/>\n       <use x=\"719.496094\" xlink:href=\"#DejaVuSans-50\"/>\n      </g>\n     </g>\n    </g>\n    <g id=\"ytick_140\">\n     <g id=\"line2d_143\">\n      <g>\n       <use style=\"stroke:#000000;stroke-width:0.8;\" x=\"165.090625\" xlink:href=\"#m3b0424a600\" y=\"2193.085272\"/>\n      </g>\n     </g>\n     <g id=\"text_143\">\n      <!-- PersonalField25 -->\n      <g style=\"fill:#444443;\" transform=\"translate(79.778125 2196.884491)scale(0.1 -0.1)\">\n       <use xlink:href=\"#DejaVuSans-80\"/>\n       <use x=\"56.677734\" xlink:href=\"#DejaVuSans-101\"/>\n       <use x=\"118.201172\" xlink:href=\"#DejaVuSans-114\"/>\n       <use x=\"159.314453\" xlink:href=\"#DejaVuSans-115\"/>\n       <use x=\"211.414062\" xlink:href=\"#DejaVuSans-111\"/>\n       <use x=\"272.595703\" xlink:href=\"#DejaVuSans-110\"/>\n       <use x=\"335.974609\" xlink:href=\"#DejaVuSans-97\"/>\n       <use x=\"397.253906\" xlink:href=\"#DejaVuSans-108\"/>\n       <use x=\"425.037109\" xlink:href=\"#DejaVuSans-70\"/>\n       <use x=\"475.306641\" xlink:href=\"#DejaVuSans-105\"/>\n       <use x=\"503.089844\" xlink:href=\"#DejaVuSans-101\"/>\n       <use x=\"564.613281\" xlink:href=\"#DejaVuSans-108\"/>\n       <use x=\"592.396484\" xlink:href=\"#DejaVuSans-100\"/>\n       <use x=\"655.873047\" xlink:href=\"#DejaVuSans-50\"/>\n       <use x=\"719.496094\" xlink:href=\"#DejaVuSans-53\"/>\n      </g>\n     </g>\n    </g>\n    <g id=\"ytick_141\">\n     <g id=\"line2d_144\">\n      <g>\n       <use style=\"stroke:#000000;stroke-width:0.8;\" x=\"165.090625\" xlink:href=\"#m3b0424a600\" y=\"2208.801192\"/>\n      </g>\n     </g>\n     <g id=\"text_144\">\n      <!-- PersonalField27 -->\n      <g style=\"fill:#444443;\" transform=\"translate(79.778125 2212.600411)scale(0.1 -0.1)\">\n       <use xlink:href=\"#DejaVuSans-80\"/>\n       <use x=\"56.677734\" xlink:href=\"#DejaVuSans-101\"/>\n       <use x=\"118.201172\" xlink:href=\"#DejaVuSans-114\"/>\n       <use x=\"159.314453\" xlink:href=\"#DejaVuSans-115\"/>\n       <use x=\"211.414062\" xlink:href=\"#DejaVuSans-111\"/>\n       <use x=\"272.595703\" xlink:href=\"#DejaVuSans-110\"/>\n       <use x=\"335.974609\" xlink:href=\"#DejaVuSans-97\"/>\n       <use x=\"397.253906\" xlink:href=\"#DejaVuSans-108\"/>\n       <use x=\"425.037109\" xlink:href=\"#DejaVuSans-70\"/>\n       <use x=\"475.306641\" xlink:href=\"#DejaVuSans-105\"/>\n       <use x=\"503.089844\" xlink:href=\"#DejaVuSans-101\"/>\n       <use x=\"564.613281\" xlink:href=\"#DejaVuSans-108\"/>\n       <use x=\"592.396484\" xlink:href=\"#DejaVuSans-100\"/>\n       <use x=\"655.873047\" xlink:href=\"#DejaVuSans-50\"/>\n       <use x=\"719.496094\" xlink:href=\"#DejaVuSans-55\"/>\n      </g>\n     </g>\n    </g>\n    <g id=\"ytick_142\">\n     <g id=\"line2d_145\">\n      <g>\n       <use style=\"stroke:#000000;stroke-width:0.8;\" x=\"165.090625\" xlink:href=\"#m3b0424a600\" y=\"2224.517113\"/>\n      </g>\n     </g>\n     <g id=\"text_145\">\n      <!-- PersonalField29 -->\n      <g style=\"fill:#444443;\" transform=\"translate(79.778125 2228.316332)scale(0.1 -0.1)\">\n       <use xlink:href=\"#DejaVuSans-80\"/>\n       <use x=\"56.677734\" xlink:href=\"#DejaVuSans-101\"/>\n       <use x=\"118.201172\" xlink:href=\"#DejaVuSans-114\"/>\n       <use x=\"159.314453\" xlink:href=\"#DejaVuSans-115\"/>\n       <use x=\"211.414062\" xlink:href=\"#DejaVuSans-111\"/>\n       <use x=\"272.595703\" xlink:href=\"#DejaVuSans-110\"/>\n       <use x=\"335.974609\" xlink:href=\"#DejaVuSans-97\"/>\n       <use x=\"397.253906\" xlink:href=\"#DejaVuSans-108\"/>\n       <use x=\"425.037109\" xlink:href=\"#DejaVuSans-70\"/>\n       <use x=\"475.306641\" xlink:href=\"#DejaVuSans-105\"/>\n       <use x=\"503.089844\" xlink:href=\"#DejaVuSans-101\"/>\n       <use x=\"564.613281\" xlink:href=\"#DejaVuSans-108\"/>\n       <use x=\"592.396484\" xlink:href=\"#DejaVuSans-100\"/>\n       <use x=\"655.873047\" xlink:href=\"#DejaVuSans-50\"/>\n       <use x=\"719.496094\" xlink:href=\"#DejaVuSans-57\"/>\n      </g>\n     </g>\n    </g>\n    <g id=\"ytick_143\">\n     <g id=\"line2d_146\">\n      <g>\n       <use style=\"stroke:#000000;stroke-width:0.8;\" x=\"165.090625\" xlink:href=\"#m3b0424a600\" y=\"2240.233033\"/>\n      </g>\n     </g>\n     <g id=\"text_146\">\n      <!-- Original_Quote_Is_month_end -->\n      <defs>\n       <path d=\"M 52 44.1875 \nQ 55.375 50.25 60.0625 53.125 \nQ 64.75 56 71.09375 56 \nQ 79.640625 56 84.28125 50.015625 \nQ 88.921875 44.046875 88.921875 33.015625 \nL 88.921875 0 \nL 79.890625 0 \nL 79.890625 32.71875 \nQ 79.890625 40.578125 77.09375 44.375 \nQ 74.3125 48.1875 68.609375 48.1875 \nQ 61.625 48.1875 57.5625 43.546875 \nQ 53.515625 38.921875 53.515625 30.90625 \nL 53.515625 0 \nL 44.484375 0 \nL 44.484375 32.71875 \nQ 44.484375 40.625 41.703125 44.40625 \nQ 38.921875 48.1875 33.109375 48.1875 \nQ 26.21875 48.1875 22.15625 43.53125 \nQ 18.109375 38.875 18.109375 30.90625 \nL 18.109375 0 \nL 9.078125 0 \nL 9.078125 54.6875 \nL 18.109375 54.6875 \nL 18.109375 46.1875 \nQ 21.1875 51.21875 25.484375 53.609375 \nQ 29.78125 56 35.6875 56 \nQ 41.65625 56 45.828125 52.96875 \nQ 50 49.953125 52 44.1875 \nz\n\" id=\"DejaVuSans-109\"/>\n      </defs>\n      <g style=\"fill:#444443;\" transform=\"translate(9.104688 2244.032252)scale(0.1 -0.1)\">\n       <use xlink:href=\"#DejaVuSans-79\"/>\n       <use x=\"78.710938\" xlink:href=\"#DejaVuSans-114\"/>\n       <use x=\"119.824219\" xlink:href=\"#DejaVuSans-105\"/>\n       <use x=\"147.607422\" xlink:href=\"#DejaVuSans-103\"/>\n       <use x=\"211.083984\" xlink:href=\"#DejaVuSans-105\"/>\n       <use x=\"238.867188\" xlink:href=\"#DejaVuSans-110\"/>\n       <use x=\"302.246094\" xlink:href=\"#DejaVuSans-97\"/>\n       <use x=\"363.525391\" xlink:href=\"#DejaVuSans-108\"/>\n       <use x=\"391.308594\" xlink:href=\"#DejaVuSans-95\"/>\n       <use x=\"441.308594\" xlink:href=\"#DejaVuSans-81\"/>\n       <use x=\"520.019531\" xlink:href=\"#DejaVuSans-117\"/>\n       <use x=\"583.398438\" xlink:href=\"#DejaVuSans-111\"/>\n       <use x=\"644.580078\" xlink:href=\"#DejaVuSans-116\"/>\n       <use x=\"683.789062\" xlink:href=\"#DejaVuSans-101\"/>\n       <use x=\"745.3125\" xlink:href=\"#DejaVuSans-95\"/>\n       <use x=\"795.3125\" xlink:href=\"#DejaVuSans-73\"/>\n       <use x=\"824.804688\" xlink:href=\"#DejaVuSans-115\"/>\n       <use x=\"876.904297\" xlink:href=\"#DejaVuSans-95\"/>\n       <use x=\"926.904297\" xlink:href=\"#DejaVuSans-109\"/>\n       <use x=\"1024.316406\" xlink:href=\"#DejaVuSans-111\"/>\n       <use x=\"1085.498047\" xlink:href=\"#DejaVuSans-110\"/>\n       <use x=\"1148.876953\" xlink:href=\"#DejaVuSans-116\"/>\n       <use x=\"1188.085938\" xlink:href=\"#DejaVuSans-104\"/>\n       <use x=\"1251.464844\" xlink:href=\"#DejaVuSans-95\"/>\n       <use x=\"1301.464844\" xlink:href=\"#DejaVuSans-101\"/>\n       <use x=\"1362.988281\" xlink:href=\"#DejaVuSans-110\"/>\n       <use x=\"1426.367188\" xlink:href=\"#DejaVuSans-100\"/>\n      </g>\n     </g>\n    </g>\n    <g id=\"ytick_144\">\n     <g id=\"line2d_147\">\n      <g>\n       <use style=\"stroke:#000000;stroke-width:0.8;\" x=\"165.090625\" xlink:href=\"#m3b0424a600\" y=\"2255.948954\"/>\n      </g>\n     </g>\n     <g id=\"text_147\">\n      <!-- PersonalField30 -->\n      <g style=\"fill:#444443;\" transform=\"translate(79.778125 2259.748173)scale(0.1 -0.1)\">\n       <use xlink:href=\"#DejaVuSans-80\"/>\n       <use x=\"56.677734\" xlink:href=\"#DejaVuSans-101\"/>\n       <use x=\"118.201172\" xlink:href=\"#DejaVuSans-114\"/>\n       <use x=\"159.314453\" xlink:href=\"#DejaVuSans-115\"/>\n       <use x=\"211.414062\" xlink:href=\"#DejaVuSans-111\"/>\n       <use x=\"272.595703\" xlink:href=\"#DejaVuSans-110\"/>\n       <use x=\"335.974609\" xlink:href=\"#DejaVuSans-97\"/>\n       <use x=\"397.253906\" xlink:href=\"#DejaVuSans-108\"/>\n       <use x=\"425.037109\" xlink:href=\"#DejaVuSans-70\"/>\n       <use x=\"475.306641\" xlink:href=\"#DejaVuSans-105\"/>\n       <use x=\"503.089844\" xlink:href=\"#DejaVuSans-101\"/>\n       <use x=\"564.613281\" xlink:href=\"#DejaVuSans-108\"/>\n       <use x=\"592.396484\" xlink:href=\"#DejaVuSans-100\"/>\n       <use x=\"655.873047\" xlink:href=\"#DejaVuSans-51\"/>\n       <use x=\"719.496094\" xlink:href=\"#DejaVuSans-48\"/>\n      </g>\n     </g>\n    </g>\n    <g id=\"ytick_145\">\n     <g id=\"line2d_148\">\n      <g>\n       <use style=\"stroke:#000000;stroke-width:0.8;\" x=\"165.090625\" xlink:href=\"#m3b0424a600\" y=\"2271.664874\"/>\n      </g>\n     </g>\n     <g id=\"text_148\">\n      <!-- PersonalField34 -->\n      <g style=\"fill:#444443;\" transform=\"translate(79.778125 2275.464093)scale(0.1 -0.1)\">\n       <use xlink:href=\"#DejaVuSans-80\"/>\n       <use x=\"56.677734\" xlink:href=\"#DejaVuSans-101\"/>\n       <use x=\"118.201172\" xlink:href=\"#DejaVuSans-114\"/>\n       <use x=\"159.314453\" xlink:href=\"#DejaVuSans-115\"/>\n       <use x=\"211.414062\" xlink:href=\"#DejaVuSans-111\"/>\n       <use x=\"272.595703\" xlink:href=\"#DejaVuSans-110\"/>\n       <use x=\"335.974609\" xlink:href=\"#DejaVuSans-97\"/>\n       <use x=\"397.253906\" xlink:href=\"#DejaVuSans-108\"/>\n       <use x=\"425.037109\" xlink:href=\"#DejaVuSans-70\"/>\n       <use x=\"475.306641\" xlink:href=\"#DejaVuSans-105\"/>\n       <use x=\"503.089844\" xlink:href=\"#DejaVuSans-101\"/>\n       <use x=\"564.613281\" xlink:href=\"#DejaVuSans-108\"/>\n       <use x=\"592.396484\" xlink:href=\"#DejaVuSans-100\"/>\n       <use x=\"655.873047\" xlink:href=\"#DejaVuSans-51\"/>\n       <use x=\"719.496094\" xlink:href=\"#DejaVuSans-52\"/>\n      </g>\n     </g>\n    </g>\n    <g id=\"ytick_146\">\n     <g id=\"line2d_149\">\n      <g>\n       <use style=\"stroke:#000000;stroke-width:0.8;\" x=\"165.090625\" xlink:href=\"#m3b0424a600\" y=\"2287.380795\"/>\n      </g>\n     </g>\n     <g id=\"text_149\">\n      <!-- PropertyField29 -->\n      <g style=\"fill:#444443;\" transform=\"translate(79.970313 2291.180014)scale(0.1 -0.1)\">\n       <use xlink:href=\"#DejaVuSans-80\"/>\n       <use x=\"58.552734\" xlink:href=\"#DejaVuSans-114\"/>\n       <use x=\"97.416016\" xlink:href=\"#DejaVuSans-111\"/>\n       <use x=\"158.597656\" xlink:href=\"#DejaVuSans-112\"/>\n       <use x=\"222.074219\" xlink:href=\"#DejaVuSans-101\"/>\n       <use x=\"283.597656\" xlink:href=\"#DejaVuSans-114\"/>\n       <use x=\"324.710938\" xlink:href=\"#DejaVuSans-116\"/>\n       <use x=\"363.919922\" xlink:href=\"#DejaVuSans-121\"/>\n       <use x=\"423.099609\" xlink:href=\"#DejaVuSans-70\"/>\n       <use x=\"473.369141\" xlink:href=\"#DejaVuSans-105\"/>\n       <use x=\"501.152344\" xlink:href=\"#DejaVuSans-101\"/>\n       <use x=\"562.675781\" xlink:href=\"#DejaVuSans-108\"/>\n       <use x=\"590.458984\" xlink:href=\"#DejaVuSans-100\"/>\n       <use x=\"653.935547\" xlink:href=\"#DejaVuSans-50\"/>\n       <use x=\"717.558594\" xlink:href=\"#DejaVuSans-57\"/>\n      </g>\n     </g>\n    </g>\n    <g id=\"ytick_147\">\n     <g id=\"line2d_150\">\n      <g>\n       <use style=\"stroke:#000000;stroke-width:0.8;\" x=\"165.090625\" xlink:href=\"#m3b0424a600\" y=\"2303.096715\"/>\n      </g>\n     </g>\n     <g id=\"text_150\">\n      <!-- PropertyField26B -->\n      <g style=\"fill:#444443;\" transform=\"translate(73.109375 2306.895934)scale(0.1 -0.1)\">\n       <use xlink:href=\"#DejaVuSans-80\"/>\n       <use x=\"58.552734\" xlink:href=\"#DejaVuSans-114\"/>\n       <use x=\"97.416016\" xlink:href=\"#DejaVuSans-111\"/>\n       <use x=\"158.597656\" xlink:href=\"#DejaVuSans-112\"/>\n       <use x=\"222.074219\" xlink:href=\"#DejaVuSans-101\"/>\n       <use x=\"283.597656\" xlink:href=\"#DejaVuSans-114\"/>\n       <use x=\"324.710938\" xlink:href=\"#DejaVuSans-116\"/>\n       <use x=\"363.919922\" xlink:href=\"#DejaVuSans-121\"/>\n       <use x=\"423.099609\" xlink:href=\"#DejaVuSans-70\"/>\n       <use x=\"473.369141\" xlink:href=\"#DejaVuSans-105\"/>\n       <use x=\"501.152344\" xlink:href=\"#DejaVuSans-101\"/>\n       <use x=\"562.675781\" xlink:href=\"#DejaVuSans-108\"/>\n       <use x=\"590.458984\" xlink:href=\"#DejaVuSans-100\"/>\n       <use x=\"653.935547\" xlink:href=\"#DejaVuSans-50\"/>\n       <use x=\"717.558594\" xlink:href=\"#DejaVuSans-54\"/>\n       <use x=\"781.181641\" xlink:href=\"#DejaVuSans-66\"/>\n      </g>\n     </g>\n    </g>\n    <g id=\"ytick_148\">\n     <g id=\"line2d_151\">\n      <g>\n       <use style=\"stroke:#000000;stroke-width:0.8;\" x=\"165.090625\" xlink:href=\"#m3b0424a600\" y=\"2318.812636\"/>\n      </g>\n     </g>\n     <g id=\"text_151\">\n      <!-- Original_Quote_Is_month_start -->\n      <g style=\"fill:#444443;\" transform=\"translate(4.654688 2322.611855)scale(0.1 -0.1)\">\n       <use xlink:href=\"#DejaVuSans-79\"/>\n       <use x=\"78.710938\" xlink:href=\"#DejaVuSans-114\"/>\n       <use x=\"119.824219\" xlink:href=\"#DejaVuSans-105\"/>\n       <use x=\"147.607422\" xlink:href=\"#DejaVuSans-103\"/>\n       <use x=\"211.083984\" xlink:href=\"#DejaVuSans-105\"/>\n       <use x=\"238.867188\" xlink:href=\"#DejaVuSans-110\"/>\n       <use x=\"302.246094\" xlink:href=\"#DejaVuSans-97\"/>\n       <use x=\"363.525391\" xlink:href=\"#DejaVuSans-108\"/>\n       <use x=\"391.308594\" xlink:href=\"#DejaVuSans-95\"/>\n       <use x=\"441.308594\" xlink:href=\"#DejaVuSans-81\"/>\n       <use x=\"520.019531\" xlink:href=\"#DejaVuSans-117\"/>\n       <use x=\"583.398438\" xlink:href=\"#DejaVuSans-111\"/>\n       <use x=\"644.580078\" xlink:href=\"#DejaVuSans-116\"/>\n       <use x=\"683.789062\" xlink:href=\"#DejaVuSans-101\"/>\n       <use x=\"745.3125\" xlink:href=\"#DejaVuSans-95\"/>\n       <use x=\"795.3125\" xlink:href=\"#DejaVuSans-73\"/>\n       <use x=\"824.804688\" xlink:href=\"#DejaVuSans-115\"/>\n       <use x=\"876.904297\" xlink:href=\"#DejaVuSans-95\"/>\n       <use x=\"926.904297\" xlink:href=\"#DejaVuSans-109\"/>\n       <use x=\"1024.316406\" xlink:href=\"#DejaVuSans-111\"/>\n       <use x=\"1085.498047\" xlink:href=\"#DejaVuSans-110\"/>\n       <use x=\"1148.876953\" xlink:href=\"#DejaVuSans-116\"/>\n       <use x=\"1188.085938\" xlink:href=\"#DejaVuSans-104\"/>\n       <use x=\"1251.464844\" xlink:href=\"#DejaVuSans-95\"/>\n       <use x=\"1301.464844\" xlink:href=\"#DejaVuSans-115\"/>\n       <use x=\"1353.564453\" xlink:href=\"#DejaVuSans-116\"/>\n       <use x=\"1392.773438\" xlink:href=\"#DejaVuSans-97\"/>\n       <use x=\"1454.052734\" xlink:href=\"#DejaVuSans-114\"/>\n       <use x=\"1495.166016\" xlink:href=\"#DejaVuSans-116\"/>\n      </g>\n     </g>\n    </g>\n    <g id=\"ytick_149\">\n     <g id=\"line2d_152\">\n      <g>\n       <use style=\"stroke:#000000;stroke-width:0.8;\" x=\"165.090625\" xlink:href=\"#m3b0424a600\" y=\"2334.528556\"/>\n      </g>\n     </g>\n     <g id=\"text_152\">\n      <!-- PersonalField35 -->\n      <g style=\"fill:#444443;\" transform=\"translate(79.778125 2338.327775)scale(0.1 -0.1)\">\n       <use xlink:href=\"#DejaVuSans-80\"/>\n       <use x=\"56.677734\" xlink:href=\"#DejaVuSans-101\"/>\n       <use x=\"118.201172\" xlink:href=\"#DejaVuSans-114\"/>\n       <use x=\"159.314453\" xlink:href=\"#DejaVuSans-115\"/>\n       <use x=\"211.414062\" xlink:href=\"#DejaVuSans-111\"/>\n       <use x=\"272.595703\" xlink:href=\"#DejaVuSans-110\"/>\n       <use x=\"335.974609\" xlink:href=\"#DejaVuSans-97\"/>\n       <use x=\"397.253906\" xlink:href=\"#DejaVuSans-108\"/>\n       <use x=\"425.037109\" xlink:href=\"#DejaVuSans-70\"/>\n       <use x=\"475.306641\" xlink:href=\"#DejaVuSans-105\"/>\n       <use x=\"503.089844\" xlink:href=\"#DejaVuSans-101\"/>\n       <use x=\"564.613281\" xlink:href=\"#DejaVuSans-108\"/>\n       <use x=\"592.396484\" xlink:href=\"#DejaVuSans-100\"/>\n       <use x=\"655.873047\" xlink:href=\"#DejaVuSans-51\"/>\n       <use x=\"719.496094\" xlink:href=\"#DejaVuSans-53\"/>\n      </g>\n     </g>\n    </g>\n    <g id=\"ytick_150\">\n     <g id=\"line2d_153\">\n      <g>\n       <use style=\"stroke:#000000;stroke-width:0.8;\" x=\"165.090625\" xlink:href=\"#m3b0424a600\" y=\"2350.244477\"/>\n      </g>\n     </g>\n     <g id=\"text_153\">\n      <!-- PersonalField57 -->\n      <g style=\"fill:#444443;\" transform=\"translate(79.778125 2354.043696)scale(0.1 -0.1)\">\n       <use xlink:href=\"#DejaVuSans-80\"/>\n       <use x=\"56.677734\" xlink:href=\"#DejaVuSans-101\"/>\n       <use x=\"118.201172\" xlink:href=\"#DejaVuSans-114\"/>\n       <use x=\"159.314453\" xlink:href=\"#DejaVuSans-115\"/>\n       <use x=\"211.414062\" xlink:href=\"#DejaVuSans-111\"/>\n       <use x=\"272.595703\" xlink:href=\"#DejaVuSans-110\"/>\n       <use x=\"335.974609\" xlink:href=\"#DejaVuSans-97\"/>\n       <use x=\"397.253906\" xlink:href=\"#DejaVuSans-108\"/>\n       <use x=\"425.037109\" xlink:href=\"#DejaVuSans-70\"/>\n       <use x=\"475.306641\" xlink:href=\"#DejaVuSans-105\"/>\n       <use x=\"503.089844\" xlink:href=\"#DejaVuSans-101\"/>\n       <use x=\"564.613281\" xlink:href=\"#DejaVuSans-108\"/>\n       <use x=\"592.396484\" xlink:href=\"#DejaVuSans-100\"/>\n       <use x=\"655.873047\" xlink:href=\"#DejaVuSans-53\"/>\n       <use x=\"719.496094\" xlink:href=\"#DejaVuSans-55\"/>\n      </g>\n     </g>\n    </g>\n    <g id=\"ytick_151\">\n     <g id=\"line2d_154\">\n      <g>\n       <use style=\"stroke:#000000;stroke-width:0.8;\" x=\"165.090625\" xlink:href=\"#m3b0424a600\" y=\"2365.960397\"/>\n      </g>\n     </g>\n     <g id=\"text_154\">\n      <!-- GeographicField10B -->\n      <g style=\"fill:#444443;\" transform=\"translate(57.85 2369.759616)scale(0.1 -0.1)\">\n       <use xlink:href=\"#DejaVuSans-71\"/>\n       <use x=\"77.490234\" xlink:href=\"#DejaVuSans-101\"/>\n       <use x=\"139.013672\" xlink:href=\"#DejaVuSans-111\"/>\n       <use x=\"200.195312\" xlink:href=\"#DejaVuSans-103\"/>\n       <use x=\"263.671875\" xlink:href=\"#DejaVuSans-114\"/>\n       <use x=\"304.785156\" xlink:href=\"#DejaVuSans-97\"/>\n       <use x=\"366.064453\" xlink:href=\"#DejaVuSans-112\"/>\n       <use x=\"429.541016\" xlink:href=\"#DejaVuSans-104\"/>\n       <use x=\"492.919922\" xlink:href=\"#DejaVuSans-105\"/>\n       <use x=\"520.703125\" xlink:href=\"#DejaVuSans-99\"/>\n       <use x=\"575.683594\" xlink:href=\"#DejaVuSans-70\"/>\n       <use x=\"625.953125\" xlink:href=\"#DejaVuSans-105\"/>\n       <use x=\"653.736328\" xlink:href=\"#DejaVuSans-101\"/>\n       <use x=\"715.259766\" xlink:href=\"#DejaVuSans-108\"/>\n       <use x=\"743.042969\" xlink:href=\"#DejaVuSans-100\"/>\n       <use x=\"806.519531\" xlink:href=\"#DejaVuSans-49\"/>\n       <use x=\"870.142578\" xlink:href=\"#DejaVuSans-48\"/>\n       <use x=\"933.765625\" xlink:href=\"#DejaVuSans-66\"/>\n      </g>\n     </g>\n    </g>\n    <g id=\"ytick_152\">\n     <g id=\"line2d_155\">\n      <g>\n       <use style=\"stroke:#000000;stroke-width:0.8;\" x=\"165.090625\" xlink:href=\"#m3b0424a600\" y=\"2381.676318\"/>\n      </g>\n     </g>\n     <g id=\"text_155\">\n      <!-- PersonalField71 -->\n      <g style=\"fill:#444443;\" transform=\"translate(79.778125 2385.475537)scale(0.1 -0.1)\">\n       <use xlink:href=\"#DejaVuSans-80\"/>\n       <use x=\"56.677734\" xlink:href=\"#DejaVuSans-101\"/>\n       <use x=\"118.201172\" xlink:href=\"#DejaVuSans-114\"/>\n       <use x=\"159.314453\" xlink:href=\"#DejaVuSans-115\"/>\n       <use x=\"211.414062\" xlink:href=\"#DejaVuSans-111\"/>\n       <use x=\"272.595703\" xlink:href=\"#DejaVuSans-110\"/>\n       <use x=\"335.974609\" xlink:href=\"#DejaVuSans-97\"/>\n       <use x=\"397.253906\" xlink:href=\"#DejaVuSans-108\"/>\n       <use x=\"425.037109\" xlink:href=\"#DejaVuSans-70\"/>\n       <use x=\"475.306641\" xlink:href=\"#DejaVuSans-105\"/>\n       <use x=\"503.089844\" xlink:href=\"#DejaVuSans-101\"/>\n       <use x=\"564.613281\" xlink:href=\"#DejaVuSans-108\"/>\n       <use x=\"592.396484\" xlink:href=\"#DejaVuSans-100\"/>\n       <use x=\"655.873047\" xlink:href=\"#DejaVuSans-55\"/>\n       <use x=\"719.496094\" xlink:href=\"#DejaVuSans-49\"/>\n      </g>\n     </g>\n    </g>\n    <g id=\"ytick_153\">\n     <g id=\"line2d_156\">\n      <g>\n       <use style=\"stroke:#000000;stroke-width:0.8;\" x=\"165.090625\" xlink:href=\"#m3b0424a600\" y=\"2397.392238\"/>\n      </g>\n     </g>\n     <g id=\"text_156\">\n      <!-- GeographicField5A -->\n      <g style=\"fill:#444443;\" transform=\"translate(64.232813 2401.191457)scale(0.1 -0.1)\">\n       <use xlink:href=\"#DejaVuSans-71\"/>\n       <use x=\"77.490234\" xlink:href=\"#DejaVuSans-101\"/>\n       <use x=\"139.013672\" xlink:href=\"#DejaVuSans-111\"/>\n       <use x=\"200.195312\" xlink:href=\"#DejaVuSans-103\"/>\n       <use x=\"263.671875\" xlink:href=\"#DejaVuSans-114\"/>\n       <use x=\"304.785156\" xlink:href=\"#DejaVuSans-97\"/>\n       <use x=\"366.064453\" xlink:href=\"#DejaVuSans-112\"/>\n       <use x=\"429.541016\" xlink:href=\"#DejaVuSans-104\"/>\n       <use x=\"492.919922\" xlink:href=\"#DejaVuSans-105\"/>\n       <use x=\"520.703125\" xlink:href=\"#DejaVuSans-99\"/>\n       <use x=\"575.683594\" xlink:href=\"#DejaVuSans-70\"/>\n       <use x=\"625.953125\" xlink:href=\"#DejaVuSans-105\"/>\n       <use x=\"653.736328\" xlink:href=\"#DejaVuSans-101\"/>\n       <use x=\"715.259766\" xlink:href=\"#DejaVuSans-108\"/>\n       <use x=\"743.042969\" xlink:href=\"#DejaVuSans-100\"/>\n       <use x=\"806.519531\" xlink:href=\"#DejaVuSans-53\"/>\n       <use x=\"870.142578\" xlink:href=\"#DejaVuSans-65\"/>\n      </g>\n     </g>\n    </g>\n    <g id=\"ytick_154\">\n     <g id=\"line2d_157\">\n      <g>\n       <use style=\"stroke:#000000;stroke-width:0.8;\" x=\"165.090625\" xlink:href=\"#m3b0424a600\" y=\"2413.108159\"/>\n      </g>\n     </g>\n     <g id=\"text_157\">\n      <!-- PersonalField60 -->\n      <g style=\"fill:#444443;\" transform=\"translate(79.778125 2416.907378)scale(0.1 -0.1)\">\n       <use xlink:href=\"#DejaVuSans-80\"/>\n       <use x=\"56.677734\" xlink:href=\"#DejaVuSans-101\"/>\n       <use x=\"118.201172\" xlink:href=\"#DejaVuSans-114\"/>\n       <use x=\"159.314453\" xlink:href=\"#DejaVuSans-115\"/>\n       <use x=\"211.414062\" xlink:href=\"#DejaVuSans-111\"/>\n       <use x=\"272.595703\" xlink:href=\"#DejaVuSans-110\"/>\n       <use x=\"335.974609\" xlink:href=\"#DejaVuSans-97\"/>\n       <use x=\"397.253906\" xlink:href=\"#DejaVuSans-108\"/>\n       <use x=\"425.037109\" xlink:href=\"#DejaVuSans-70\"/>\n       <use x=\"475.306641\" xlink:href=\"#DejaVuSans-105\"/>\n       <use x=\"503.089844\" xlink:href=\"#DejaVuSans-101\"/>\n       <use x=\"564.613281\" xlink:href=\"#DejaVuSans-108\"/>\n       <use x=\"592.396484\" xlink:href=\"#DejaVuSans-100\"/>\n       <use x=\"655.873047\" xlink:href=\"#DejaVuSans-54\"/>\n       <use x=\"719.496094\" xlink:href=\"#DejaVuSans-48\"/>\n      </g>\n     </g>\n    </g>\n    <g id=\"ytick_155\">\n     <g id=\"line2d_158\">\n      <g>\n       <use style=\"stroke:#000000;stroke-width:0.8;\" x=\"165.090625\" xlink:href=\"#m3b0424a600\" y=\"2428.824079\"/>\n      </g>\n     </g>\n     <g id=\"text_158\">\n      <!-- PropertyField36 -->\n      <g style=\"fill:#444443;\" transform=\"translate(79.970313 2432.623298)scale(0.1 -0.1)\">\n       <use xlink:href=\"#DejaVuSans-80\"/>\n       <use x=\"58.552734\" xlink:href=\"#DejaVuSans-114\"/>\n       <use x=\"97.416016\" xlink:href=\"#DejaVuSans-111\"/>\n       <use x=\"158.597656\" xlink:href=\"#DejaVuSans-112\"/>\n       <use x=\"222.074219\" xlink:href=\"#DejaVuSans-101\"/>\n       <use x=\"283.597656\" xlink:href=\"#DejaVuSans-114\"/>\n       <use x=\"324.710938\" xlink:href=\"#DejaVuSans-116\"/>\n       <use x=\"363.919922\" xlink:href=\"#DejaVuSans-121\"/>\n       <use x=\"423.099609\" xlink:href=\"#DejaVuSans-70\"/>\n       <use x=\"473.369141\" xlink:href=\"#DejaVuSans-105\"/>\n       <use x=\"501.152344\" xlink:href=\"#DejaVuSans-101\"/>\n       <use x=\"562.675781\" xlink:href=\"#DejaVuSans-108\"/>\n       <use x=\"590.458984\" xlink:href=\"#DejaVuSans-100\"/>\n       <use x=\"653.935547\" xlink:href=\"#DejaVuSans-51\"/>\n       <use x=\"717.558594\" xlink:href=\"#DejaVuSans-54\"/>\n      </g>\n     </g>\n    </g>\n    <g id=\"ytick_156\">\n     <g id=\"line2d_159\">\n      <g>\n       <use style=\"stroke:#000000;stroke-width:0.8;\" x=\"165.090625\" xlink:href=\"#m3b0424a600\" y=\"2444.54\"/>\n      </g>\n     </g>\n     <g id=\"text_159\">\n      <!-- PersonalField72 -->\n      <g style=\"fill:#444443;\" transform=\"translate(79.778125 2448.339219)scale(0.1 -0.1)\">\n       <use xlink:href=\"#DejaVuSans-80\"/>\n       <use x=\"56.677734\" xlink:href=\"#DejaVuSans-101\"/>\n       <use x=\"118.201172\" xlink:href=\"#DejaVuSans-114\"/>\n       <use x=\"159.314453\" xlink:href=\"#DejaVuSans-115\"/>\n       <use x=\"211.414062\" xlink:href=\"#DejaVuSans-111\"/>\n       <use x=\"272.595703\" xlink:href=\"#DejaVuSans-110\"/>\n       <use x=\"335.974609\" xlink:href=\"#DejaVuSans-97\"/>\n       <use x=\"397.253906\" xlink:href=\"#DejaVuSans-108\"/>\n       <use x=\"425.037109\" xlink:href=\"#DejaVuSans-70\"/>\n       <use x=\"475.306641\" xlink:href=\"#DejaVuSans-105\"/>\n       <use x=\"503.089844\" xlink:href=\"#DejaVuSans-101\"/>\n       <use x=\"564.613281\" xlink:href=\"#DejaVuSans-108\"/>\n       <use x=\"592.396484\" xlink:href=\"#DejaVuSans-100\"/>\n       <use x=\"655.873047\" xlink:href=\"#DejaVuSans-55\"/>\n       <use x=\"719.496094\" xlink:href=\"#DejaVuSans-50\"/>\n      </g>\n     </g>\n    </g>\n    <g id=\"ytick_157\">\n     <g id=\"line2d_160\">\n      <g>\n       <use style=\"stroke:#000000;stroke-width:0.8;\" x=\"165.090625\" xlink:href=\"#m3b0424a600\" y=\"2460.255921\"/>\n      </g>\n     </g>\n     <g id=\"text_160\">\n      <!-- PersonalField73 -->\n      <g style=\"fill:#444443;\" transform=\"translate(79.778125 2464.055139)scale(0.1 -0.1)\">\n       <use xlink:href=\"#DejaVuSans-80\"/>\n       <use x=\"56.677734\" xlink:href=\"#DejaVuSans-101\"/>\n       <use x=\"118.201172\" xlink:href=\"#DejaVuSans-114\"/>\n       <use x=\"159.314453\" xlink:href=\"#DejaVuSans-115\"/>\n       <use x=\"211.414062\" xlink:href=\"#DejaVuSans-111\"/>\n       <use x=\"272.595703\" xlink:href=\"#DejaVuSans-110\"/>\n       <use x=\"335.974609\" xlink:href=\"#DejaVuSans-97\"/>\n       <use x=\"397.253906\" xlink:href=\"#DejaVuSans-108\"/>\n       <use x=\"425.037109\" xlink:href=\"#DejaVuSans-70\"/>\n       <use x=\"475.306641\" xlink:href=\"#DejaVuSans-105\"/>\n       <use x=\"503.089844\" xlink:href=\"#DejaVuSans-101\"/>\n       <use x=\"564.613281\" xlink:href=\"#DejaVuSans-108\"/>\n       <use x=\"592.396484\" xlink:href=\"#DejaVuSans-100\"/>\n       <use x=\"655.873047\" xlink:href=\"#DejaVuSans-55\"/>\n       <use x=\"719.496094\" xlink:href=\"#DejaVuSans-51\"/>\n      </g>\n     </g>\n    </g>\n    <g id=\"ytick_158\">\n     <g id=\"line2d_161\">\n      <g>\n       <use style=\"stroke:#000000;stroke-width:0.8;\" x=\"165.090625\" xlink:href=\"#m3b0424a600\" y=\"2475.971841\"/>\n      </g>\n     </g>\n     <g id=\"text_161\">\n      <!-- PropertyField30 -->\n      <g style=\"fill:#444443;\" transform=\"translate(79.970313 2479.77106)scale(0.1 -0.1)\">\n       <use xlink:href=\"#DejaVuSans-80\"/>\n       <use x=\"58.552734\" xlink:href=\"#DejaVuSans-114\"/>\n       <use x=\"97.416016\" xlink:href=\"#DejaVuSans-111\"/>\n       <use x=\"158.597656\" xlink:href=\"#DejaVuSans-112\"/>\n       <use x=\"222.074219\" xlink:href=\"#DejaVuSans-101\"/>\n       <use x=\"283.597656\" xlink:href=\"#DejaVuSans-114\"/>\n       <use x=\"324.710938\" xlink:href=\"#DejaVuSans-116\"/>\n       <use x=\"363.919922\" xlink:href=\"#DejaVuSans-121\"/>\n       <use x=\"423.099609\" xlink:href=\"#DejaVuSans-70\"/>\n       <use x=\"473.369141\" xlink:href=\"#DejaVuSans-105\"/>\n       <use x=\"501.152344\" xlink:href=\"#DejaVuSans-101\"/>\n       <use x=\"562.675781\" xlink:href=\"#DejaVuSans-108\"/>\n       <use x=\"590.458984\" xlink:href=\"#DejaVuSans-100\"/>\n       <use x=\"653.935547\" xlink:href=\"#DejaVuSans-51\"/>\n       <use x=\"717.558594\" xlink:href=\"#DejaVuSans-48\"/>\n      </g>\n     </g>\n    </g>\n    <g id=\"ytick_159\">\n     <g id=\"line2d_162\">\n      <g>\n       <use style=\"stroke:#000000;stroke-width:0.8;\" x=\"165.090625\" xlink:href=\"#m3b0424a600\" y=\"2491.687762\"/>\n      </g>\n     </g>\n     <g id=\"text_162\">\n      <!-- PropertyField28 -->\n      <g style=\"fill:#444443;\" transform=\"translate(79.970313 2495.48698)scale(0.1 -0.1)\">\n       <use xlink:href=\"#DejaVuSans-80\"/>\n       <use x=\"58.552734\" xlink:href=\"#DejaVuSans-114\"/>\n       <use x=\"97.416016\" xlink:href=\"#DejaVuSans-111\"/>\n       <use x=\"158.597656\" xlink:href=\"#DejaVuSans-112\"/>\n       <use x=\"222.074219\" xlink:href=\"#DejaVuSans-101\"/>\n       <use x=\"283.597656\" xlink:href=\"#DejaVuSans-114\"/>\n       <use x=\"324.710938\" xlink:href=\"#DejaVuSans-116\"/>\n       <use x=\"363.919922\" xlink:href=\"#DejaVuSans-121\"/>\n       <use x=\"423.099609\" xlink:href=\"#DejaVuSans-70\"/>\n       <use x=\"473.369141\" xlink:href=\"#DejaVuSans-105\"/>\n       <use x=\"501.152344\" xlink:href=\"#DejaVuSans-101\"/>\n       <use x=\"562.675781\" xlink:href=\"#DejaVuSans-108\"/>\n       <use x=\"590.458984\" xlink:href=\"#DejaVuSans-100\"/>\n       <use x=\"653.935547\" xlink:href=\"#DejaVuSans-50\"/>\n       <use x=\"717.558594\" xlink:href=\"#DejaVuSans-56\"/>\n      </g>\n     </g>\n    </g>\n    <g id=\"ytick_160\">\n     <g id=\"line2d_163\">\n      <g>\n       <use style=\"stroke:#000000;stroke-width:0.8;\" x=\"165.090625\" xlink:href=\"#m3b0424a600\" y=\"2507.403682\"/>\n      </g>\n     </g>\n     <g id=\"text_163\">\n      <!-- PersonalField61 -->\n      <g style=\"fill:#444443;\" transform=\"translate(79.778125 2511.202901)scale(0.1 -0.1)\">\n       <use xlink:href=\"#DejaVuSans-80\"/>\n       <use x=\"56.677734\" xlink:href=\"#DejaVuSans-101\"/>\n       <use x=\"118.201172\" xlink:href=\"#DejaVuSans-114\"/>\n       <use x=\"159.314453\" xlink:href=\"#DejaVuSans-115\"/>\n       <use x=\"211.414062\" xlink:href=\"#DejaVuSans-111\"/>\n       <use x=\"272.595703\" xlink:href=\"#DejaVuSans-110\"/>\n       <use x=\"335.974609\" xlink:href=\"#DejaVuSans-97\"/>\n       <use x=\"397.253906\" xlink:href=\"#DejaVuSans-108\"/>\n       <use x=\"425.037109\" xlink:href=\"#DejaVuSans-70\"/>\n       <use x=\"475.306641\" xlink:href=\"#DejaVuSans-105\"/>\n       <use x=\"503.089844\" xlink:href=\"#DejaVuSans-101\"/>\n       <use x=\"564.613281\" xlink:href=\"#DejaVuSans-108\"/>\n       <use x=\"592.396484\" xlink:href=\"#DejaVuSans-100\"/>\n       <use x=\"655.873047\" xlink:href=\"#DejaVuSans-54\"/>\n       <use x=\"719.496094\" xlink:href=\"#DejaVuSans-49\"/>\n      </g>\n     </g>\n    </g>\n    <g id=\"ytick_161\">\n     <g id=\"line2d_164\">\n      <g>\n       <use style=\"stroke:#000000;stroke-width:0.8;\" x=\"165.090625\" xlink:href=\"#m3b0424a600\" y=\"2523.119603\"/>\n      </g>\n     </g>\n     <g id=\"text_164\">\n      <!-- PropertyField22 -->\n      <g style=\"fill:#444443;\" transform=\"translate(79.970313 2526.918821)scale(0.1 -0.1)\">\n       <use xlink:href=\"#DejaVuSans-80\"/>\n       <use x=\"58.552734\" xlink:href=\"#DejaVuSans-114\"/>\n       <use x=\"97.416016\" xlink:href=\"#DejaVuSans-111\"/>\n       <use x=\"158.597656\" xlink:href=\"#DejaVuSans-112\"/>\n       <use x=\"222.074219\" xlink:href=\"#DejaVuSans-101\"/>\n       <use x=\"283.597656\" xlink:href=\"#DejaVuSans-114\"/>\n       <use x=\"324.710938\" xlink:href=\"#DejaVuSans-116\"/>\n       <use x=\"363.919922\" xlink:href=\"#DejaVuSans-121\"/>\n       <use x=\"423.099609\" xlink:href=\"#DejaVuSans-70\"/>\n       <use x=\"473.369141\" xlink:href=\"#DejaVuSans-105\"/>\n       <use x=\"501.152344\" xlink:href=\"#DejaVuSans-101\"/>\n       <use x=\"562.675781\" xlink:href=\"#DejaVuSans-108\"/>\n       <use x=\"590.458984\" xlink:href=\"#DejaVuSans-100\"/>\n       <use x=\"653.935547\" xlink:href=\"#DejaVuSans-50\"/>\n       <use x=\"717.558594\" xlink:href=\"#DejaVuSans-50\"/>\n      </g>\n     </g>\n    </g>\n    <g id=\"ytick_162\">\n     <g id=\"line2d_165\">\n      <g>\n       <use style=\"stroke:#000000;stroke-width:0.8;\" x=\"165.090625\" xlink:href=\"#m3b0424a600\" y=\"2538.835523\"/>\n      </g>\n     </g>\n     <g id=\"text_165\">\n      <!-- PersonalField76 -->\n      <g style=\"fill:#444443;\" transform=\"translate(79.778125 2542.634742)scale(0.1 -0.1)\">\n       <use xlink:href=\"#DejaVuSans-80\"/>\n       <use x=\"56.677734\" xlink:href=\"#DejaVuSans-101\"/>\n       <use x=\"118.201172\" xlink:href=\"#DejaVuSans-114\"/>\n       <use x=\"159.314453\" xlink:href=\"#DejaVuSans-115\"/>\n       <use x=\"211.414062\" xlink:href=\"#DejaVuSans-111\"/>\n       <use x=\"272.595703\" xlink:href=\"#DejaVuSans-110\"/>\n       <use x=\"335.974609\" xlink:href=\"#DejaVuSans-97\"/>\n       <use x=\"397.253906\" xlink:href=\"#DejaVuSans-108\"/>\n       <use x=\"425.037109\" xlink:href=\"#DejaVuSans-70\"/>\n       <use x=\"475.306641\" xlink:href=\"#DejaVuSans-105\"/>\n       <use x=\"503.089844\" xlink:href=\"#DejaVuSans-101\"/>\n       <use x=\"564.613281\" xlink:href=\"#DejaVuSans-108\"/>\n       <use x=\"592.396484\" xlink:href=\"#DejaVuSans-100\"/>\n       <use x=\"655.873047\" xlink:href=\"#DejaVuSans-55\"/>\n       <use x=\"719.496094\" xlink:href=\"#DejaVuSans-54\"/>\n      </g>\n     </g>\n    </g>\n    <g id=\"ytick_163\">\n     <g id=\"line2d_166\">\n      <g>\n       <use style=\"stroke:#000000;stroke-width:0.8;\" x=\"165.090625\" xlink:href=\"#m3b0424a600\" y=\"2554.551444\"/>\n      </g>\n     </g>\n     <g id=\"text_166\">\n      <!-- PropertyField20 -->\n      <g style=\"fill:#444443;\" transform=\"translate(79.970313 2558.350662)scale(0.1 -0.1)\">\n       <use xlink:href=\"#DejaVuSans-80\"/>\n       <use x=\"58.552734\" xlink:href=\"#DejaVuSans-114\"/>\n       <use x=\"97.416016\" xlink:href=\"#DejaVuSans-111\"/>\n       <use x=\"158.597656\" xlink:href=\"#DejaVuSans-112\"/>\n       <use x=\"222.074219\" xlink:href=\"#DejaVuSans-101\"/>\n       <use x=\"283.597656\" xlink:href=\"#DejaVuSans-114\"/>\n       <use x=\"324.710938\" xlink:href=\"#DejaVuSans-116\"/>\n       <use x=\"363.919922\" xlink:href=\"#DejaVuSans-121\"/>\n       <use x=\"423.099609\" xlink:href=\"#DejaVuSans-70\"/>\n       <use x=\"473.369141\" xlink:href=\"#DejaVuSans-105\"/>\n       <use x=\"501.152344\" xlink:href=\"#DejaVuSans-101\"/>\n       <use x=\"562.675781\" xlink:href=\"#DejaVuSans-108\"/>\n       <use x=\"590.458984\" xlink:href=\"#DejaVuSans-100\"/>\n       <use x=\"653.935547\" xlink:href=\"#DejaVuSans-50\"/>\n       <use x=\"717.558594\" xlink:href=\"#DejaVuSans-48\"/>\n      </g>\n     </g>\n    </g>\n    <g id=\"ytick_164\">\n     <g id=\"line2d_167\">\n      <g>\n       <use style=\"stroke:#000000;stroke-width:0.8;\" x=\"165.090625\" xlink:href=\"#m3b0424a600\" y=\"2570.267364\"/>\n      </g>\n     </g>\n     <g id=\"text_167\">\n      <!-- PersonalField79 -->\n      <g style=\"fill:#444443;\" transform=\"translate(79.778125 2574.066583)scale(0.1 -0.1)\">\n       <use xlink:href=\"#DejaVuSans-80\"/>\n       <use x=\"56.677734\" xlink:href=\"#DejaVuSans-101\"/>\n       <use x=\"118.201172\" xlink:href=\"#DejaVuSans-114\"/>\n       <use x=\"159.314453\" xlink:href=\"#DejaVuSans-115\"/>\n       <use x=\"211.414062\" xlink:href=\"#DejaVuSans-111\"/>\n       <use x=\"272.595703\" xlink:href=\"#DejaVuSans-110\"/>\n       <use x=\"335.974609\" xlink:href=\"#DejaVuSans-97\"/>\n       <use x=\"397.253906\" xlink:href=\"#DejaVuSans-108\"/>\n       <use x=\"425.037109\" xlink:href=\"#DejaVuSans-70\"/>\n       <use x=\"475.306641\" xlink:href=\"#DejaVuSans-105\"/>\n       <use x=\"503.089844\" xlink:href=\"#DejaVuSans-101\"/>\n       <use x=\"564.613281\" xlink:href=\"#DejaVuSans-108\"/>\n       <use x=\"592.396484\" xlink:href=\"#DejaVuSans-100\"/>\n       <use x=\"655.873047\" xlink:href=\"#DejaVuSans-55\"/>\n       <use x=\"719.496094\" xlink:href=\"#DejaVuSans-57\"/>\n      </g>\n     </g>\n    </g>\n    <g id=\"ytick_165\">\n     <g id=\"line2d_168\">\n      <g>\n       <use style=\"stroke:#000000;stroke-width:0.8;\" x=\"165.090625\" xlink:href=\"#m3b0424a600\" y=\"2585.983285\"/>\n      </g>\n     </g>\n     <g id=\"text_168\">\n      <!-- PersonalField62 -->\n      <g style=\"fill:#444443;\" transform=\"translate(79.778125 2589.782503)scale(0.1 -0.1)\">\n       <use xlink:href=\"#DejaVuSans-80\"/>\n       <use x=\"56.677734\" xlink:href=\"#DejaVuSans-101\"/>\n       <use x=\"118.201172\" xlink:href=\"#DejaVuSans-114\"/>\n       <use x=\"159.314453\" xlink:href=\"#DejaVuSans-115\"/>\n       <use x=\"211.414062\" xlink:href=\"#DejaVuSans-111\"/>\n       <use x=\"272.595703\" xlink:href=\"#DejaVuSans-110\"/>\n       <use x=\"335.974609\" xlink:href=\"#DejaVuSans-97\"/>\n       <use x=\"397.253906\" xlink:href=\"#DejaVuSans-108\"/>\n       <use x=\"425.037109\" xlink:href=\"#DejaVuSans-70\"/>\n       <use x=\"475.306641\" xlink:href=\"#DejaVuSans-105\"/>\n       <use x=\"503.089844\" xlink:href=\"#DejaVuSans-101\"/>\n       <use x=\"564.613281\" xlink:href=\"#DejaVuSans-108\"/>\n       <use x=\"592.396484\" xlink:href=\"#DejaVuSans-100\"/>\n       <use x=\"655.873047\" xlink:href=\"#DejaVuSans-54\"/>\n       <use x=\"719.496094\" xlink:href=\"#DejaVuSans-50\"/>\n      </g>\n     </g>\n    </g>\n    <g id=\"ytick_166\">\n     <g id=\"line2d_169\">\n      <g>\n       <use style=\"stroke:#000000;stroke-width:0.8;\" x=\"165.090625\" xlink:href=\"#m3b0424a600\" y=\"2601.699205\"/>\n      </g>\n     </g>\n     <g id=\"text_169\">\n      <!-- PersonalField63 -->\n      <g style=\"fill:#444443;\" transform=\"translate(79.778125 2605.498424)scale(0.1 -0.1)\">\n       <use xlink:href=\"#DejaVuSans-80\"/>\n       <use x=\"56.677734\" xlink:href=\"#DejaVuSans-101\"/>\n       <use x=\"118.201172\" xlink:href=\"#DejaVuSans-114\"/>\n       <use x=\"159.314453\" xlink:href=\"#DejaVuSans-115\"/>\n       <use x=\"211.414062\" xlink:href=\"#DejaVuSans-111\"/>\n       <use x=\"272.595703\" xlink:href=\"#DejaVuSans-110\"/>\n       <use x=\"335.974609\" xlink:href=\"#DejaVuSans-97\"/>\n       <use x=\"397.253906\" xlink:href=\"#DejaVuSans-108\"/>\n       <use x=\"425.037109\" xlink:href=\"#DejaVuSans-70\"/>\n       <use x=\"475.306641\" xlink:href=\"#DejaVuSans-105\"/>\n       <use x=\"503.089844\" xlink:href=\"#DejaVuSans-101\"/>\n       <use x=\"564.613281\" xlink:href=\"#DejaVuSans-108\"/>\n       <use x=\"592.396484\" xlink:href=\"#DejaVuSans-100\"/>\n       <use x=\"655.873047\" xlink:href=\"#DejaVuSans-54\"/>\n       <use x=\"719.496094\" xlink:href=\"#DejaVuSans-51\"/>\n      </g>\n     </g>\n    </g>\n    <g id=\"ytick_167\">\n     <g id=\"line2d_170\">\n      <g>\n       <use style=\"stroke:#000000;stroke-width:0.8;\" x=\"165.090625\" xlink:href=\"#m3b0424a600\" y=\"2617.415126\"/>\n      </g>\n     </g>\n     <g id=\"text_170\">\n      <!-- PersonalField58 -->\n      <g style=\"fill:#444443;\" transform=\"translate(79.778125 2621.214344)scale(0.1 -0.1)\">\n       <use xlink:href=\"#DejaVuSans-80\"/>\n       <use x=\"56.677734\" xlink:href=\"#DejaVuSans-101\"/>\n       <use x=\"118.201172\" xlink:href=\"#DejaVuSans-114\"/>\n       <use x=\"159.314453\" xlink:href=\"#DejaVuSans-115\"/>\n       <use x=\"211.414062\" xlink:href=\"#DejaVuSans-111\"/>\n       <use x=\"272.595703\" xlink:href=\"#DejaVuSans-110\"/>\n       <use x=\"335.974609\" xlink:href=\"#DejaVuSans-97\"/>\n       <use x=\"397.253906\" xlink:href=\"#DejaVuSans-108\"/>\n       <use x=\"425.037109\" xlink:href=\"#DejaVuSans-70\"/>\n       <use x=\"475.306641\" xlink:href=\"#DejaVuSans-105\"/>\n       <use x=\"503.089844\" xlink:href=\"#DejaVuSans-101\"/>\n       <use x=\"564.613281\" xlink:href=\"#DejaVuSans-108\"/>\n       <use x=\"592.396484\" xlink:href=\"#DejaVuSans-100\"/>\n       <use x=\"655.873047\" xlink:href=\"#DejaVuSans-53\"/>\n       <use x=\"719.496094\" xlink:href=\"#DejaVuSans-56\"/>\n      </g>\n     </g>\n    </g>\n    <g id=\"ytick_168\">\n     <g id=\"line2d_171\">\n      <g>\n       <use style=\"stroke:#000000;stroke-width:0.8;\" x=\"165.090625\" xlink:href=\"#m3b0424a600\" y=\"2633.131046\"/>\n      </g>\n     </g>\n     <g id=\"text_171\">\n      <!-- PropertyField11A -->\n      <g style=\"fill:#444443;\" transform=\"translate(73.129688 2636.930265)scale(0.1 -0.1)\">\n       <use xlink:href=\"#DejaVuSans-80\"/>\n       <use x=\"58.552734\" xlink:href=\"#DejaVuSans-114\"/>\n       <use x=\"97.416016\" xlink:href=\"#DejaVuSans-111\"/>\n       <use x=\"158.597656\" xlink:href=\"#DejaVuSans-112\"/>\n       <use x=\"222.074219\" xlink:href=\"#DejaVuSans-101\"/>\n       <use x=\"283.597656\" xlink:href=\"#DejaVuSans-114\"/>\n       <use x=\"324.710938\" xlink:href=\"#DejaVuSans-116\"/>\n       <use x=\"363.919922\" xlink:href=\"#DejaVuSans-121\"/>\n       <use x=\"423.099609\" xlink:href=\"#DejaVuSans-70\"/>\n       <use x=\"473.369141\" xlink:href=\"#DejaVuSans-105\"/>\n       <use x=\"501.152344\" xlink:href=\"#DejaVuSans-101\"/>\n       <use x=\"562.675781\" xlink:href=\"#DejaVuSans-108\"/>\n       <use x=\"590.458984\" xlink:href=\"#DejaVuSans-100\"/>\n       <use x=\"653.935547\" xlink:href=\"#DejaVuSans-49\"/>\n       <use x=\"717.558594\" xlink:href=\"#DejaVuSans-49\"/>\n       <use x=\"781.181641\" xlink:href=\"#DejaVuSans-65\"/>\n      </g>\n     </g>\n    </g>\n    <g id=\"ytick_169\">\n     <g id=\"line2d_172\">\n      <g>\n       <use style=\"stroke:#000000;stroke-width:0.8;\" x=\"165.090625\" xlink:href=\"#m3b0424a600\" y=\"2648.846967\"/>\n      </g>\n     </g>\n     <g id=\"text_172\">\n      <!-- PropertyField9 -->\n      <g style=\"fill:#444443;\" transform=\"translate(86.332813 2652.646185)scale(0.1 -0.1)\">\n       <use xlink:href=\"#DejaVuSans-80\"/>\n       <use x=\"58.552734\" xlink:href=\"#DejaVuSans-114\"/>\n       <use x=\"97.416016\" xlink:href=\"#DejaVuSans-111\"/>\n       <use x=\"158.597656\" xlink:href=\"#DejaVuSans-112\"/>\n       <use x=\"222.074219\" xlink:href=\"#DejaVuSans-101\"/>\n       <use x=\"283.597656\" xlink:href=\"#DejaVuSans-114\"/>\n       <use x=\"324.710938\" xlink:href=\"#DejaVuSans-116\"/>\n       <use x=\"363.919922\" xlink:href=\"#DejaVuSans-121\"/>\n       <use x=\"423.099609\" xlink:href=\"#DejaVuSans-70\"/>\n       <use x=\"473.369141\" xlink:href=\"#DejaVuSans-105\"/>\n       <use x=\"501.152344\" xlink:href=\"#DejaVuSans-101\"/>\n       <use x=\"562.675781\" xlink:href=\"#DejaVuSans-108\"/>\n       <use x=\"590.458984\" xlink:href=\"#DejaVuSans-100\"/>\n       <use x=\"653.935547\" xlink:href=\"#DejaVuSans-57\"/>\n      </g>\n     </g>\n    </g>\n    <g id=\"ytick_170\">\n     <g id=\"line2d_173\">\n      <g>\n       <use style=\"stroke:#000000;stroke-width:0.8;\" x=\"165.090625\" xlink:href=\"#m3b0424a600\" y=\"2664.562887\"/>\n      </g>\n     </g>\n     <g id=\"text_173\">\n      <!-- PersonalField64 -->\n      <g style=\"fill:#444443;\" transform=\"translate(79.778125 2668.362106)scale(0.1 -0.1)\">\n       <use xlink:href=\"#DejaVuSans-80\"/>\n       <use x=\"56.677734\" xlink:href=\"#DejaVuSans-101\"/>\n       <use x=\"118.201172\" xlink:href=\"#DejaVuSans-114\"/>\n       <use x=\"159.314453\" xlink:href=\"#DejaVuSans-115\"/>\n       <use x=\"211.414062\" xlink:href=\"#DejaVuSans-111\"/>\n       <use x=\"272.595703\" xlink:href=\"#DejaVuSans-110\"/>\n       <use x=\"335.974609\" xlink:href=\"#DejaVuSans-97\"/>\n       <use x=\"397.253906\" xlink:href=\"#DejaVuSans-108\"/>\n       <use x=\"425.037109\" xlink:href=\"#DejaVuSans-70\"/>\n       <use x=\"475.306641\" xlink:href=\"#DejaVuSans-105\"/>\n       <use x=\"503.089844\" xlink:href=\"#DejaVuSans-101\"/>\n       <use x=\"564.613281\" xlink:href=\"#DejaVuSans-108\"/>\n       <use x=\"592.396484\" xlink:href=\"#DejaVuSans-100\"/>\n       <use x=\"655.873047\" xlink:href=\"#DejaVuSans-54\"/>\n       <use x=\"719.496094\" xlink:href=\"#DejaVuSans-52\"/>\n      </g>\n     </g>\n    </g>\n    <g id=\"ytick_171\">\n     <g id=\"line2d_174\">\n      <g>\n       <use style=\"stroke:#000000;stroke-width:0.8;\" x=\"165.090625\" xlink:href=\"#m3b0424a600\" y=\"2680.278808\"/>\n      </g>\n     </g>\n     <g id=\"text_174\">\n      <!-- PropertyField6 -->\n      <g style=\"fill:#444443;\" transform=\"translate(86.332813 2684.078026)scale(0.1 -0.1)\">\n       <use xlink:href=\"#DejaVuSans-80\"/>\n       <use x=\"58.552734\" xlink:href=\"#DejaVuSans-114\"/>\n       <use x=\"97.416016\" xlink:href=\"#DejaVuSans-111\"/>\n       <use x=\"158.597656\" xlink:href=\"#DejaVuSans-112\"/>\n       <use x=\"222.074219\" xlink:href=\"#DejaVuSans-101\"/>\n       <use x=\"283.597656\" xlink:href=\"#DejaVuSans-114\"/>\n       <use x=\"324.710938\" xlink:href=\"#DejaVuSans-116\"/>\n       <use x=\"363.919922\" xlink:href=\"#DejaVuSans-121\"/>\n       <use x=\"423.099609\" xlink:href=\"#DejaVuSans-70\"/>\n       <use x=\"473.369141\" xlink:href=\"#DejaVuSans-105\"/>\n       <use x=\"501.152344\" xlink:href=\"#DejaVuSans-101\"/>\n       <use x=\"562.675781\" xlink:href=\"#DejaVuSans-108\"/>\n       <use x=\"590.458984\" xlink:href=\"#DejaVuSans-100\"/>\n       <use x=\"653.935547\" xlink:href=\"#DejaVuSans-54\"/>\n      </g>\n     </g>\n    </g>\n    <g id=\"ytick_172\">\n     <g id=\"line2d_175\">\n      <g>\n       <use style=\"stroke:#000000;stroke-width:0.8;\" x=\"165.090625\" xlink:href=\"#m3b0424a600\" y=\"2695.994728\"/>\n      </g>\n     </g>\n     <g id=\"text_175\">\n      <!-- PropertyField5 -->\n      <g style=\"fill:#444443;\" transform=\"translate(86.332813 2699.793947)scale(0.1 -0.1)\">\n       <use xlink:href=\"#DejaVuSans-80\"/>\n       <use x=\"58.552734\" xlink:href=\"#DejaVuSans-114\"/>\n       <use x=\"97.416016\" xlink:href=\"#DejaVuSans-111\"/>\n       <use x=\"158.597656\" xlink:href=\"#DejaVuSans-112\"/>\n       <use x=\"222.074219\" xlink:href=\"#DejaVuSans-101\"/>\n       <use x=\"283.597656\" xlink:href=\"#DejaVuSans-114\"/>\n       <use x=\"324.710938\" xlink:href=\"#DejaVuSans-116\"/>\n       <use x=\"363.919922\" xlink:href=\"#DejaVuSans-121\"/>\n       <use x=\"423.099609\" xlink:href=\"#DejaVuSans-70\"/>\n       <use x=\"473.369141\" xlink:href=\"#DejaVuSans-105\"/>\n       <use x=\"501.152344\" xlink:href=\"#DejaVuSans-101\"/>\n       <use x=\"562.675781\" xlink:href=\"#DejaVuSans-108\"/>\n       <use x=\"590.458984\" xlink:href=\"#DejaVuSans-100\"/>\n       <use x=\"653.935547\" xlink:href=\"#DejaVuSans-53\"/>\n      </g>\n     </g>\n    </g>\n    <g id=\"ytick_173\">\n     <g id=\"line2d_176\">\n      <g>\n       <use style=\"stroke:#000000;stroke-width:0.8;\" x=\"165.090625\" xlink:href=\"#m3b0424a600\" y=\"2711.710649\"/>\n      </g>\n     </g>\n     <g id=\"text_176\">\n      <!-- PersonalField83 -->\n      <g style=\"fill:#444443;\" transform=\"translate(79.778125 2715.509867)scale(0.1 -0.1)\">\n       <use xlink:href=\"#DejaVuSans-80\"/>\n       <use x=\"56.677734\" xlink:href=\"#DejaVuSans-101\"/>\n       <use x=\"118.201172\" xlink:href=\"#DejaVuSans-114\"/>\n       <use x=\"159.314453\" xlink:href=\"#DejaVuSans-115\"/>\n       <use x=\"211.414062\" xlink:href=\"#DejaVuSans-111\"/>\n       <use x=\"272.595703\" xlink:href=\"#DejaVuSans-110\"/>\n       <use x=\"335.974609\" xlink:href=\"#DejaVuSans-97\"/>\n       <use x=\"397.253906\" xlink:href=\"#DejaVuSans-108\"/>\n       <use x=\"425.037109\" xlink:href=\"#DejaVuSans-70\"/>\n       <use x=\"475.306641\" xlink:href=\"#DejaVuSans-105\"/>\n       <use x=\"503.089844\" xlink:href=\"#DejaVuSans-101\"/>\n       <use x=\"564.613281\" xlink:href=\"#DejaVuSans-108\"/>\n       <use x=\"592.396484\" xlink:href=\"#DejaVuSans-100\"/>\n       <use x=\"655.873047\" xlink:href=\"#DejaVuSans-56\"/>\n       <use x=\"719.496094\" xlink:href=\"#DejaVuSans-51\"/>\n      </g>\n     </g>\n    </g>\n    <g id=\"ytick_174\">\n     <g id=\"line2d_177\">\n      <g>\n       <use style=\"stroke:#000000;stroke-width:0.8;\" x=\"165.090625\" xlink:href=\"#m3b0424a600\" y=\"2727.426569\"/>\n      </g>\n     </g>\n     <g id=\"text_177\">\n      <!-- PropertyField3 -->\n      <g style=\"fill:#444443;\" transform=\"translate(86.332813 2731.225788)scale(0.1 -0.1)\">\n       <use xlink:href=\"#DejaVuSans-80\"/>\n       <use x=\"58.552734\" xlink:href=\"#DejaVuSans-114\"/>\n       <use x=\"97.416016\" xlink:href=\"#DejaVuSans-111\"/>\n       <use x=\"158.597656\" xlink:href=\"#DejaVuSans-112\"/>\n       <use x=\"222.074219\" xlink:href=\"#DejaVuSans-101\"/>\n       <use x=\"283.597656\" xlink:href=\"#DejaVuSans-114\"/>\n       <use x=\"324.710938\" xlink:href=\"#DejaVuSans-116\"/>\n       <use x=\"363.919922\" xlink:href=\"#DejaVuSans-121\"/>\n       <use x=\"423.099609\" xlink:href=\"#DejaVuSans-70\"/>\n       <use x=\"473.369141\" xlink:href=\"#DejaVuSans-105\"/>\n       <use x=\"501.152344\" xlink:href=\"#DejaVuSans-101\"/>\n       <use x=\"562.675781\" xlink:href=\"#DejaVuSans-108\"/>\n       <use x=\"590.458984\" xlink:href=\"#DejaVuSans-100\"/>\n       <use x=\"653.935547\" xlink:href=\"#DejaVuSans-51\"/>\n      </g>\n     </g>\n    </g>\n    <g id=\"ytick_175\">\n     <g id=\"line2d_178\">\n      <g>\n       <use style=\"stroke:#000000;stroke-width:0.8;\" x=\"165.090625\" xlink:href=\"#m3b0424a600\" y=\"2743.14249\"/>\n      </g>\n     </g>\n     <g id=\"text_178\">\n      <!-- GeographicField10A -->\n      <g style=\"fill:#444443;\" transform=\"translate(57.870313 2746.941709)scale(0.1 -0.1)\">\n       <use xlink:href=\"#DejaVuSans-71\"/>\n       <use x=\"77.490234\" xlink:href=\"#DejaVuSans-101\"/>\n       <use x=\"139.013672\" xlink:href=\"#DejaVuSans-111\"/>\n       <use x=\"200.195312\" xlink:href=\"#DejaVuSans-103\"/>\n       <use x=\"263.671875\" xlink:href=\"#DejaVuSans-114\"/>\n       <use x=\"304.785156\" xlink:href=\"#DejaVuSans-97\"/>\n       <use x=\"366.064453\" xlink:href=\"#DejaVuSans-112\"/>\n       <use x=\"429.541016\" xlink:href=\"#DejaVuSans-104\"/>\n       <use x=\"492.919922\" xlink:href=\"#DejaVuSans-105\"/>\n       <use x=\"520.703125\" xlink:href=\"#DejaVuSans-99\"/>\n       <use x=\"575.683594\" xlink:href=\"#DejaVuSans-70\"/>\n       <use x=\"625.953125\" xlink:href=\"#DejaVuSans-105\"/>\n       <use x=\"653.736328\" xlink:href=\"#DejaVuSans-101\"/>\n       <use x=\"715.259766\" xlink:href=\"#DejaVuSans-108\"/>\n       <use x=\"743.042969\" xlink:href=\"#DejaVuSans-100\"/>\n       <use x=\"806.519531\" xlink:href=\"#DejaVuSans-49\"/>\n       <use x=\"870.142578\" xlink:href=\"#DejaVuSans-48\"/>\n       <use x=\"933.765625\" xlink:href=\"#DejaVuSans-65\"/>\n      </g>\n     </g>\n    </g>\n    <g id=\"ytick_176\">\n     <g id=\"line2d_179\">\n      <g>\n       <use style=\"stroke:#000000;stroke-width:0.8;\" x=\"165.090625\" xlink:href=\"#m3b0424a600\" y=\"2758.85841\"/>\n      </g>\n     </g>\n     <g id=\"text_179\">\n      <!-- PropertyField2A -->\n      <g style=\"fill:#444443;\" transform=\"translate(79.492188 2762.657629)scale(0.1 -0.1)\">\n       <use xlink:href=\"#DejaVuSans-80\"/>\n       <use x=\"58.552734\" xlink:href=\"#DejaVuSans-114\"/>\n       <use x=\"97.416016\" xlink:href=\"#DejaVuSans-111\"/>\n       <use x=\"158.597656\" xlink:href=\"#DejaVuSans-112\"/>\n       <use x=\"222.074219\" xlink:href=\"#DejaVuSans-101\"/>\n       <use x=\"283.597656\" xlink:href=\"#DejaVuSans-114\"/>\n       <use x=\"324.710938\" xlink:href=\"#DejaVuSans-116\"/>\n       <use x=\"363.919922\" xlink:href=\"#DejaVuSans-121\"/>\n       <use x=\"423.099609\" xlink:href=\"#DejaVuSans-70\"/>\n       <use x=\"473.369141\" xlink:href=\"#DejaVuSans-105\"/>\n       <use x=\"501.152344\" xlink:href=\"#DejaVuSans-101\"/>\n       <use x=\"562.675781\" xlink:href=\"#DejaVuSans-108\"/>\n       <use x=\"590.458984\" xlink:href=\"#DejaVuSans-100\"/>\n       <use x=\"653.935547\" xlink:href=\"#DejaVuSans-50\"/>\n       <use x=\"717.558594\" xlink:href=\"#DejaVuSans-65\"/>\n      </g>\n     </g>\n    </g>\n    <g id=\"ytick_177\">\n     <g id=\"line2d_180\">\n      <g>\n       <use style=\"stroke:#000000;stroke-width:0.8;\" x=\"165.090625\" xlink:href=\"#m3b0424a600\" y=\"2774.574331\"/>\n      </g>\n     </g>\n     <g id=\"text_180\">\n      <!-- PersonalField68 -->\n      <g style=\"fill:#444443;\" transform=\"translate(79.778125 2778.37355)scale(0.1 -0.1)\">\n       <use xlink:href=\"#DejaVuSans-80\"/>\n       <use x=\"56.677734\" xlink:href=\"#DejaVuSans-101\"/>\n       <use x=\"118.201172\" xlink:href=\"#DejaVuSans-114\"/>\n       <use x=\"159.314453\" xlink:href=\"#DejaVuSans-115\"/>\n       <use x=\"211.414062\" xlink:href=\"#DejaVuSans-111\"/>\n       <use x=\"272.595703\" xlink:href=\"#DejaVuSans-110\"/>\n       <use x=\"335.974609\" xlink:href=\"#DejaVuSans-97\"/>\n       <use x=\"397.253906\" xlink:href=\"#DejaVuSans-108\"/>\n       <use x=\"425.037109\" xlink:href=\"#DejaVuSans-70\"/>\n       <use x=\"475.306641\" xlink:href=\"#DejaVuSans-105\"/>\n       <use x=\"503.089844\" xlink:href=\"#DejaVuSans-101\"/>\n       <use x=\"564.613281\" xlink:href=\"#DejaVuSans-108\"/>\n       <use x=\"592.396484\" xlink:href=\"#DejaVuSans-100\"/>\n       <use x=\"655.873047\" xlink:href=\"#DejaVuSans-54\"/>\n       <use x=\"719.496094\" xlink:href=\"#DejaVuSans-56\"/>\n      </g>\n     </g>\n    </g>\n    <g id=\"ytick_178\">\n     <g id=\"line2d_181\">\n      <g>\n       <use style=\"stroke:#000000;stroke-width:0.8;\" x=\"165.090625\" xlink:href=\"#m3b0424a600\" y=\"2790.290251\"/>\n      </g>\n     </g>\n     <g id=\"text_181\">\n      <!-- GeographicField62A -->\n      <g style=\"fill:#444443;\" transform=\"translate(57.870313 2794.08947)scale(0.1 -0.1)\">\n       <use xlink:href=\"#DejaVuSans-71\"/>\n       <use x=\"77.490234\" xlink:href=\"#DejaVuSans-101\"/>\n       <use x=\"139.013672\" xlink:href=\"#DejaVuSans-111\"/>\n       <use x=\"200.195312\" xlink:href=\"#DejaVuSans-103\"/>\n       <use x=\"263.671875\" xlink:href=\"#DejaVuSans-114\"/>\n       <use x=\"304.785156\" xlink:href=\"#DejaVuSans-97\"/>\n       <use x=\"366.064453\" xlink:href=\"#DejaVuSans-112\"/>\n       <use x=\"429.541016\" xlink:href=\"#DejaVuSans-104\"/>\n       <use x=\"492.919922\" xlink:href=\"#DejaVuSans-105\"/>\n       <use x=\"520.703125\" xlink:href=\"#DejaVuSans-99\"/>\n       <use x=\"575.683594\" xlink:href=\"#DejaVuSans-70\"/>\n       <use x=\"625.953125\" xlink:href=\"#DejaVuSans-105\"/>\n       <use x=\"653.736328\" xlink:href=\"#DejaVuSans-101\"/>\n       <use x=\"715.259766\" xlink:href=\"#DejaVuSans-108\"/>\n       <use x=\"743.042969\" xlink:href=\"#DejaVuSans-100\"/>\n       <use x=\"806.519531\" xlink:href=\"#DejaVuSans-54\"/>\n       <use x=\"870.142578\" xlink:href=\"#DejaVuSans-50\"/>\n       <use x=\"933.765625\" xlink:href=\"#DejaVuSans-65\"/>\n      </g>\n     </g>\n    </g>\n    <g id=\"ytick_179\">\n     <g id=\"line2d_182\">\n      <g>\n       <use style=\"stroke:#000000;stroke-width:0.8;\" x=\"165.090625\" xlink:href=\"#m3b0424a600\" y=\"2806.006172\"/>\n      </g>\n     </g>\n     <g id=\"text_182\">\n      <!-- PersonalField59 -->\n      <g style=\"fill:#444443;\" transform=\"translate(79.778125 2809.805391)scale(0.1 -0.1)\">\n       <use xlink:href=\"#DejaVuSans-80\"/>\n       <use x=\"56.677734\" xlink:href=\"#DejaVuSans-101\"/>\n       <use x=\"118.201172\" xlink:href=\"#DejaVuSans-114\"/>\n       <use x=\"159.314453\" xlink:href=\"#DejaVuSans-115\"/>\n       <use x=\"211.414062\" xlink:href=\"#DejaVuSans-111\"/>\n       <use x=\"272.595703\" xlink:href=\"#DejaVuSans-110\"/>\n       <use x=\"335.974609\" xlink:href=\"#DejaVuSans-97\"/>\n       <use x=\"397.253906\" xlink:href=\"#DejaVuSans-108\"/>\n       <use x=\"425.037109\" xlink:href=\"#DejaVuSans-70\"/>\n       <use x=\"475.306641\" xlink:href=\"#DejaVuSans-105\"/>\n       <use x=\"503.089844\" xlink:href=\"#DejaVuSans-101\"/>\n       <use x=\"564.613281\" xlink:href=\"#DejaVuSans-108\"/>\n       <use x=\"592.396484\" xlink:href=\"#DejaVuSans-100\"/>\n       <use x=\"655.873047\" xlink:href=\"#DejaVuSans-53\"/>\n       <use x=\"719.496094\" xlink:href=\"#DejaVuSans-57\"/>\n      </g>\n     </g>\n    </g>\n    <g id=\"ytick_180\">\n     <g id=\"line2d_183\">\n      <g>\n       <use style=\"stroke:#000000;stroke-width:0.8;\" x=\"165.090625\" xlink:href=\"#m3b0424a600\" y=\"2821.722092\"/>\n      </g>\n     </g>\n     <g id=\"text_183\">\n      <!-- GeographicField63 -->\n      <g style=\"fill:#444443;\" transform=\"translate(64.710938 2825.521311)scale(0.1 -0.1)\">\n       <use xlink:href=\"#DejaVuSans-71\"/>\n       <use x=\"77.490234\" xlink:href=\"#DejaVuSans-101\"/>\n       <use x=\"139.013672\" xlink:href=\"#DejaVuSans-111\"/>\n       <use x=\"200.195312\" xlink:href=\"#DejaVuSans-103\"/>\n       <use x=\"263.671875\" xlink:href=\"#DejaVuSans-114\"/>\n       <use x=\"304.785156\" xlink:href=\"#DejaVuSans-97\"/>\n       <use x=\"366.064453\" xlink:href=\"#DejaVuSans-112\"/>\n       <use x=\"429.541016\" xlink:href=\"#DejaVuSans-104\"/>\n       <use x=\"492.919922\" xlink:href=\"#DejaVuSans-105\"/>\n       <use x=\"520.703125\" xlink:href=\"#DejaVuSans-99\"/>\n       <use x=\"575.683594\" xlink:href=\"#DejaVuSans-70\"/>\n       <use x=\"625.953125\" xlink:href=\"#DejaVuSans-105\"/>\n       <use x=\"653.736328\" xlink:href=\"#DejaVuSans-101\"/>\n       <use x=\"715.259766\" xlink:href=\"#DejaVuSans-108\"/>\n       <use x=\"743.042969\" xlink:href=\"#DejaVuSans-100\"/>\n       <use x=\"806.519531\" xlink:href=\"#DejaVuSans-54\"/>\n       <use x=\"870.142578\" xlink:href=\"#DejaVuSans-51\"/>\n      </g>\n     </g>\n    </g>\n    <g id=\"ytick_181\">\n     <g id=\"line2d_184\">\n      <g>\n       <use style=\"stroke:#000000;stroke-width:0.8;\" x=\"165.090625\" xlink:href=\"#m3b0424a600\" y=\"2837.438013\"/>\n      </g>\n     </g>\n     <g id=\"text_184\">\n      <!-- PersonalField70 -->\n      <g style=\"fill:#444443;\" transform=\"translate(79.778125 2841.237232)scale(0.1 -0.1)\">\n       <use xlink:href=\"#DejaVuSans-80\"/>\n       <use x=\"56.677734\" xlink:href=\"#DejaVuSans-101\"/>\n       <use x=\"118.201172\" xlink:href=\"#DejaVuSans-114\"/>\n       <use x=\"159.314453\" xlink:href=\"#DejaVuSans-115\"/>\n       <use x=\"211.414062\" xlink:href=\"#DejaVuSans-111\"/>\n       <use x=\"272.595703\" xlink:href=\"#DejaVuSans-110\"/>\n       <use x=\"335.974609\" xlink:href=\"#DejaVuSans-97\"/>\n       <use x=\"397.253906\" xlink:href=\"#DejaVuSans-108\"/>\n       <use x=\"425.037109\" xlink:href=\"#DejaVuSans-70\"/>\n       <use x=\"475.306641\" xlink:href=\"#DejaVuSans-105\"/>\n       <use x=\"503.089844\" xlink:href=\"#DejaVuSans-101\"/>\n       <use x=\"564.613281\" xlink:href=\"#DejaVuSans-108\"/>\n       <use x=\"592.396484\" xlink:href=\"#DejaVuSans-100\"/>\n       <use x=\"655.873047\" xlink:href=\"#DejaVuSans-55\"/>\n       <use x=\"719.496094\" xlink:href=\"#DejaVuSans-48\"/>\n      </g>\n     </g>\n    </g>\n    <g id=\"ytick_182\">\n     <g id=\"line2d_185\">\n      <g>\n       <use style=\"stroke:#000000;stroke-width:0.8;\" x=\"165.090625\" xlink:href=\"#m3b0424a600\" y=\"2853.153933\"/>\n      </g>\n     </g>\n     <g id=\"text_185\">\n      <!-- GeographicField56A -->\n      <g style=\"fill:#444443;\" transform=\"translate(57.870313 2856.953152)scale(0.1 -0.1)\">\n       <use xlink:href=\"#DejaVuSans-71\"/>\n       <use x=\"77.490234\" xlink:href=\"#DejaVuSans-101\"/>\n       <use x=\"139.013672\" xlink:href=\"#DejaVuSans-111\"/>\n       <use x=\"200.195312\" xlink:href=\"#DejaVuSans-103\"/>\n       <use x=\"263.671875\" xlink:href=\"#DejaVuSans-114\"/>\n       <use x=\"304.785156\" xlink:href=\"#DejaVuSans-97\"/>\n       <use x=\"366.064453\" xlink:href=\"#DejaVuSans-112\"/>\n       <use x=\"429.541016\" xlink:href=\"#DejaVuSans-104\"/>\n       <use x=\"492.919922\" xlink:href=\"#DejaVuSans-105\"/>\n       <use x=\"520.703125\" xlink:href=\"#DejaVuSans-99\"/>\n       <use x=\"575.683594\" xlink:href=\"#DejaVuSans-70\"/>\n       <use x=\"625.953125\" xlink:href=\"#DejaVuSans-105\"/>\n       <use x=\"653.736328\" xlink:href=\"#DejaVuSans-101\"/>\n       <use x=\"715.259766\" xlink:href=\"#DejaVuSans-108\"/>\n       <use x=\"743.042969\" xlink:href=\"#DejaVuSans-100\"/>\n       <use x=\"806.519531\" xlink:href=\"#DejaVuSans-53\"/>\n       <use x=\"870.142578\" xlink:href=\"#DejaVuSans-54\"/>\n       <use x=\"933.765625\" xlink:href=\"#DejaVuSans-65\"/>\n      </g>\n     </g>\n    </g>\n    <g id=\"ytick_183\">\n     <g id=\"line2d_186\">\n      <g>\n       <use style=\"stroke:#000000;stroke-width:0.8;\" x=\"165.090625\" xlink:href=\"#m3b0424a600\" y=\"2868.869854\"/>\n      </g>\n     </g>\n     <g id=\"text_186\">\n      <!-- Original_Quote_Year -->\n      <defs>\n       <path d=\"M -0.203125 72.90625 \nL 10.40625 72.90625 \nL 30.609375 42.921875 \nL 50.6875 72.90625 \nL 61.28125 72.90625 \nL 35.5 34.71875 \nL 35.5 0 \nL 25.59375 0 \nL 25.59375 34.71875 \nz\n\" id=\"DejaVuSans-89\"/>\n      </defs>\n      <g style=\"fill:#444443;\" transform=\"translate(57.382813 2872.669073)scale(0.1 -0.1)\">\n       <use xlink:href=\"#DejaVuSans-79\"/>\n       <use x=\"78.710938\" xlink:href=\"#DejaVuSans-114\"/>\n       <use x=\"119.824219\" xlink:href=\"#DejaVuSans-105\"/>\n       <use x=\"147.607422\" xlink:href=\"#DejaVuSans-103\"/>\n       <use x=\"211.083984\" xlink:href=\"#DejaVuSans-105\"/>\n       <use x=\"238.867188\" xlink:href=\"#DejaVuSans-110\"/>\n       <use x=\"302.246094\" xlink:href=\"#DejaVuSans-97\"/>\n       <use x=\"363.525391\" xlink:href=\"#DejaVuSans-108\"/>\n       <use x=\"391.308594\" xlink:href=\"#DejaVuSans-95\"/>\n       <use x=\"441.308594\" xlink:href=\"#DejaVuSans-81\"/>\n       <use x=\"520.019531\" xlink:href=\"#DejaVuSans-117\"/>\n       <use x=\"583.398438\" xlink:href=\"#DejaVuSans-111\"/>\n       <use x=\"644.580078\" xlink:href=\"#DejaVuSans-116\"/>\n       <use x=\"683.789062\" xlink:href=\"#DejaVuSans-101\"/>\n       <use x=\"745.3125\" xlink:href=\"#DejaVuSans-95\"/>\n       <use x=\"795.3125\" xlink:href=\"#DejaVuSans-89\"/>\n       <use x=\"843.146484\" xlink:href=\"#DejaVuSans-101\"/>\n       <use x=\"904.669922\" xlink:href=\"#DejaVuSans-97\"/>\n       <use x=\"965.949219\" xlink:href=\"#DejaVuSans-114\"/>\n      </g>\n     </g>\n    </g>\n    <g id=\"ytick_184\">\n     <g id=\"line2d_187\">\n      <g>\n       <use style=\"stroke:#000000;stroke-width:0.8;\" x=\"165.090625\" xlink:href=\"#m3b0424a600\" y=\"2884.585774\"/>\n      </g>\n     </g>\n     <g id=\"text_187\">\n      <!-- GeographicField22A -->\n      <g style=\"fill:#444443;\" transform=\"translate(57.870313 2888.384993)scale(0.1 -0.1)\">\n       <use xlink:href=\"#DejaVuSans-71\"/>\n       <use x=\"77.490234\" xlink:href=\"#DejaVuSans-101\"/>\n       <use x=\"139.013672\" xlink:href=\"#DejaVuSans-111\"/>\n       <use x=\"200.195312\" xlink:href=\"#DejaVuSans-103\"/>\n       <use x=\"263.671875\" xlink:href=\"#DejaVuSans-114\"/>\n       <use x=\"304.785156\" xlink:href=\"#DejaVuSans-97\"/>\n       <use x=\"366.064453\" xlink:href=\"#DejaVuSans-112\"/>\n       <use x=\"429.541016\" xlink:href=\"#DejaVuSans-104\"/>\n       <use x=\"492.919922\" xlink:href=\"#DejaVuSans-105\"/>\n       <use x=\"520.703125\" xlink:href=\"#DejaVuSans-99\"/>\n       <use x=\"575.683594\" xlink:href=\"#DejaVuSans-70\"/>\n       <use x=\"625.953125\" xlink:href=\"#DejaVuSans-105\"/>\n       <use x=\"653.736328\" xlink:href=\"#DejaVuSans-101\"/>\n       <use x=\"715.259766\" xlink:href=\"#DejaVuSans-108\"/>\n       <use x=\"743.042969\" xlink:href=\"#DejaVuSans-100\"/>\n       <use x=\"806.519531\" xlink:href=\"#DejaVuSans-50\"/>\n       <use x=\"870.142578\" xlink:href=\"#DejaVuSans-50\"/>\n       <use x=\"933.765625\" xlink:href=\"#DejaVuSans-65\"/>\n      </g>\n     </g>\n    </g>\n    <g id=\"ytick_185\">\n     <g id=\"line2d_188\">\n      <g>\n       <use style=\"stroke:#000000;stroke-width:0.8;\" x=\"165.090625\" xlink:href=\"#m3b0424a600\" y=\"2900.301695\"/>\n      </g>\n     </g>\n     <g id=\"text_188\">\n      <!-- GeographicField60A -->\n      <g style=\"fill:#444443;\" transform=\"translate(57.870313 2904.100914)scale(0.1 -0.1)\">\n       <use xlink:href=\"#DejaVuSans-71\"/>\n       <use x=\"77.490234\" xlink:href=\"#DejaVuSans-101\"/>\n       <use x=\"139.013672\" xlink:href=\"#DejaVuSans-111\"/>\n       <use x=\"200.195312\" xlink:href=\"#DejaVuSans-103\"/>\n       <use x=\"263.671875\" xlink:href=\"#DejaVuSans-114\"/>\n       <use x=\"304.785156\" xlink:href=\"#DejaVuSans-97\"/>\n       <use x=\"366.064453\" xlink:href=\"#DejaVuSans-112\"/>\n       <use x=\"429.541016\" xlink:href=\"#DejaVuSans-104\"/>\n       <use x=\"492.919922\" xlink:href=\"#DejaVuSans-105\"/>\n       <use x=\"520.703125\" xlink:href=\"#DejaVuSans-99\"/>\n       <use x=\"575.683594\" xlink:href=\"#DejaVuSans-70\"/>\n       <use x=\"625.953125\" xlink:href=\"#DejaVuSans-105\"/>\n       <use x=\"653.736328\" xlink:href=\"#DejaVuSans-101\"/>\n       <use x=\"715.259766\" xlink:href=\"#DejaVuSans-108\"/>\n       <use x=\"743.042969\" xlink:href=\"#DejaVuSans-100\"/>\n       <use x=\"806.519531\" xlink:href=\"#DejaVuSans-54\"/>\n       <use x=\"870.142578\" xlink:href=\"#DejaVuSans-48\"/>\n       <use x=\"933.765625\" xlink:href=\"#DejaVuSans-65\"/>\n      </g>\n     </g>\n    </g>\n    <g id=\"ytick_186\">\n     <g id=\"line2d_189\">\n      <g>\n       <use style=\"stroke:#000000;stroke-width:0.8;\" x=\"165.090625\" xlink:href=\"#m3b0424a600\" y=\"2916.017615\"/>\n      </g>\n     </g>\n     <g id=\"text_189\">\n      <!-- PersonalField67 -->\n      <g style=\"fill:#444443;\" transform=\"translate(79.778125 2919.816834)scale(0.1 -0.1)\">\n       <use xlink:href=\"#DejaVuSans-80\"/>\n       <use x=\"56.677734\" xlink:href=\"#DejaVuSans-101\"/>\n       <use x=\"118.201172\" xlink:href=\"#DejaVuSans-114\"/>\n       <use x=\"159.314453\" xlink:href=\"#DejaVuSans-115\"/>\n       <use x=\"211.414062\" xlink:href=\"#DejaVuSans-111\"/>\n       <use x=\"272.595703\" xlink:href=\"#DejaVuSans-110\"/>\n       <use x=\"335.974609\" xlink:href=\"#DejaVuSans-97\"/>\n       <use x=\"397.253906\" xlink:href=\"#DejaVuSans-108\"/>\n       <use x=\"425.037109\" xlink:href=\"#DejaVuSans-70\"/>\n       <use x=\"475.306641\" xlink:href=\"#DejaVuSans-105\"/>\n       <use x=\"503.089844\" xlink:href=\"#DejaVuSans-101\"/>\n       <use x=\"564.613281\" xlink:href=\"#DejaVuSans-108\"/>\n       <use x=\"592.396484\" xlink:href=\"#DejaVuSans-100\"/>\n       <use x=\"655.873047\" xlink:href=\"#DejaVuSans-54\"/>\n       <use x=\"719.496094\" xlink:href=\"#DejaVuSans-55\"/>\n      </g>\n     </g>\n    </g>\n    <g id=\"ytick_187\">\n     <g id=\"line2d_190\">\n      <g>\n       <use style=\"stroke:#000000;stroke-width:0.8;\" x=\"165.090625\" xlink:href=\"#m3b0424a600\" y=\"2931.733536\"/>\n      </g>\n     </g>\n     <g id=\"text_190\">\n      <!-- GeographicField21A -->\n      <g style=\"fill:#444443;\" transform=\"translate(57.870313 2935.532755)scale(0.1 -0.1)\">\n       <use xlink:href=\"#DejaVuSans-71\"/>\n       <use x=\"77.490234\" xlink:href=\"#DejaVuSans-101\"/>\n       <use x=\"139.013672\" xlink:href=\"#DejaVuSans-111\"/>\n       <use x=\"200.195312\" xlink:href=\"#DejaVuSans-103\"/>\n       <use x=\"263.671875\" xlink:href=\"#DejaVuSans-114\"/>\n       <use x=\"304.785156\" xlink:href=\"#DejaVuSans-97\"/>\n       <use x=\"366.064453\" xlink:href=\"#DejaVuSans-112\"/>\n       <use x=\"429.541016\" xlink:href=\"#DejaVuSans-104\"/>\n       <use x=\"492.919922\" xlink:href=\"#DejaVuSans-105\"/>\n       <use x=\"520.703125\" xlink:href=\"#DejaVuSans-99\"/>\n       <use x=\"575.683594\" xlink:href=\"#DejaVuSans-70\"/>\n       <use x=\"625.953125\" xlink:href=\"#DejaVuSans-105\"/>\n       <use x=\"653.736328\" xlink:href=\"#DejaVuSans-101\"/>\n       <use x=\"715.259766\" xlink:href=\"#DejaVuSans-108\"/>\n       <use x=\"743.042969\" xlink:href=\"#DejaVuSans-100\"/>\n       <use x=\"806.519531\" xlink:href=\"#DejaVuSans-50\"/>\n       <use x=\"870.142578\" xlink:href=\"#DejaVuSans-49\"/>\n       <use x=\"933.765625\" xlink:href=\"#DejaVuSans-65\"/>\n      </g>\n     </g>\n    </g>\n    <g id=\"ytick_188\">\n     <g id=\"line2d_191\">\n      <g>\n       <use style=\"stroke:#000000;stroke-width:0.8;\" x=\"165.090625\" xlink:href=\"#m3b0424a600\" y=\"2947.449456\"/>\n      </g>\n     </g>\n     <g id=\"text_191\">\n      <!-- GeographicField23A -->\n      <g style=\"fill:#444443;\" transform=\"translate(57.870313 2951.248675)scale(0.1 -0.1)\">\n       <use xlink:href=\"#DejaVuSans-71\"/>\n       <use x=\"77.490234\" xlink:href=\"#DejaVuSans-101\"/>\n       <use x=\"139.013672\" xlink:href=\"#DejaVuSans-111\"/>\n       <use x=\"200.195312\" xlink:href=\"#DejaVuSans-103\"/>\n       <use x=\"263.671875\" xlink:href=\"#DejaVuSans-114\"/>\n       <use x=\"304.785156\" xlink:href=\"#DejaVuSans-97\"/>\n       <use x=\"366.064453\" xlink:href=\"#DejaVuSans-112\"/>\n       <use x=\"429.541016\" xlink:href=\"#DejaVuSans-104\"/>\n       <use x=\"492.919922\" xlink:href=\"#DejaVuSans-105\"/>\n       <use x=\"520.703125\" xlink:href=\"#DejaVuSans-99\"/>\n       <use x=\"575.683594\" xlink:href=\"#DejaVuSans-70\"/>\n       <use x=\"625.953125\" xlink:href=\"#DejaVuSans-105\"/>\n       <use x=\"653.736328\" xlink:href=\"#DejaVuSans-101\"/>\n       <use x=\"715.259766\" xlink:href=\"#DejaVuSans-108\"/>\n       <use x=\"743.042969\" xlink:href=\"#DejaVuSans-100\"/>\n       <use x=\"806.519531\" xlink:href=\"#DejaVuSans-50\"/>\n       <use x=\"870.142578\" xlink:href=\"#DejaVuSans-51\"/>\n       <use x=\"933.765625\" xlink:href=\"#DejaVuSans-65\"/>\n      </g>\n     </g>\n    </g>\n    <g id=\"ytick_189\">\n     <g id=\"line2d_192\">\n      <g>\n       <use style=\"stroke:#000000;stroke-width:0.8;\" x=\"165.090625\" xlink:href=\"#m3b0424a600\" y=\"2963.165377\"/>\n      </g>\n     </g>\n     <g id=\"text_192\">\n      <!-- PersonalField69 -->\n      <g style=\"fill:#444443;\" transform=\"translate(79.778125 2966.964596)scale(0.1 -0.1)\">\n       <use xlink:href=\"#DejaVuSans-80\"/>\n       <use x=\"56.677734\" xlink:href=\"#DejaVuSans-101\"/>\n       <use x=\"118.201172\" xlink:href=\"#DejaVuSans-114\"/>\n       <use x=\"159.314453\" xlink:href=\"#DejaVuSans-115\"/>\n       <use x=\"211.414062\" xlink:href=\"#DejaVuSans-111\"/>\n       <use x=\"272.595703\" xlink:href=\"#DejaVuSans-110\"/>\n       <use x=\"335.974609\" xlink:href=\"#DejaVuSans-97\"/>\n       <use x=\"397.253906\" xlink:href=\"#DejaVuSans-108\"/>\n       <use x=\"425.037109\" xlink:href=\"#DejaVuSans-70\"/>\n       <use x=\"475.306641\" xlink:href=\"#DejaVuSans-105\"/>\n       <use x=\"503.089844\" xlink:href=\"#DejaVuSans-101\"/>\n       <use x=\"564.613281\" xlink:href=\"#DejaVuSans-108\"/>\n       <use x=\"592.396484\" xlink:href=\"#DejaVuSans-100\"/>\n       <use x=\"655.873047\" xlink:href=\"#DejaVuSans-54\"/>\n       <use x=\"719.496094\" xlink:href=\"#DejaVuSans-57\"/>\n      </g>\n     </g>\n    </g>\n    <g id=\"ytick_190\">\n     <g id=\"line2d_193\">\n      <g>\n       <use style=\"stroke:#000000;stroke-width:0.8;\" x=\"165.090625\" xlink:href=\"#m3b0424a600\" y=\"2978.881297\"/>\n      </g>\n     </g>\n     <g id=\"text_193\">\n      <!-- GeographicField14A -->\n      <g style=\"fill:#444443;\" transform=\"translate(57.870313 2982.680516)scale(0.1 -0.1)\">\n       <use xlink:href=\"#DejaVuSans-71\"/>\n       <use x=\"77.490234\" xlink:href=\"#DejaVuSans-101\"/>\n       <use x=\"139.013672\" xlink:href=\"#DejaVuSans-111\"/>\n       <use x=\"200.195312\" xlink:href=\"#DejaVuSans-103\"/>\n       <use x=\"263.671875\" xlink:href=\"#DejaVuSans-114\"/>\n       <use x=\"304.785156\" xlink:href=\"#DejaVuSans-97\"/>\n       <use x=\"366.064453\" xlink:href=\"#DejaVuSans-112\"/>\n       <use x=\"429.541016\" xlink:href=\"#DejaVuSans-104\"/>\n       <use x=\"492.919922\" xlink:href=\"#DejaVuSans-105\"/>\n       <use x=\"520.703125\" xlink:href=\"#DejaVuSans-99\"/>\n       <use x=\"575.683594\" xlink:href=\"#DejaVuSans-70\"/>\n       <use x=\"625.953125\" xlink:href=\"#DejaVuSans-105\"/>\n       <use x=\"653.736328\" xlink:href=\"#DejaVuSans-101\"/>\n       <use x=\"715.259766\" xlink:href=\"#DejaVuSans-108\"/>\n       <use x=\"743.042969\" xlink:href=\"#DejaVuSans-100\"/>\n       <use x=\"806.519531\" xlink:href=\"#DejaVuSans-49\"/>\n       <use x=\"870.142578\" xlink:href=\"#DejaVuSans-52\"/>\n       <use x=\"933.765625\" xlink:href=\"#DejaVuSans-65\"/>\n      </g>\n     </g>\n    </g>\n    <g id=\"ytick_191\">\n     <g id=\"line2d_194\">\n      <g>\n       <use style=\"stroke:#000000;stroke-width:0.8;\" x=\"165.090625\" xlink:href=\"#m3b0424a600\" y=\"2994.597218\"/>\n      </g>\n     </g>\n     <g id=\"text_194\">\n      <!-- GeographicField61A -->\n      <g style=\"fill:#444443;\" transform=\"translate(57.870313 2998.396437)scale(0.1 -0.1)\">\n       <use xlink:href=\"#DejaVuSans-71\"/>\n       <use x=\"77.490234\" xlink:href=\"#DejaVuSans-101\"/>\n       <use x=\"139.013672\" xlink:href=\"#DejaVuSans-111\"/>\n       <use x=\"200.195312\" xlink:href=\"#DejaVuSans-103\"/>\n       <use x=\"263.671875\" xlink:href=\"#DejaVuSans-114\"/>\n       <use x=\"304.785156\" xlink:href=\"#DejaVuSans-97\"/>\n       <use x=\"366.064453\" xlink:href=\"#DejaVuSans-112\"/>\n       <use x=\"429.541016\" xlink:href=\"#DejaVuSans-104\"/>\n       <use x=\"492.919922\" xlink:href=\"#DejaVuSans-105\"/>\n       <use x=\"520.703125\" xlink:href=\"#DejaVuSans-99\"/>\n       <use x=\"575.683594\" xlink:href=\"#DejaVuSans-70\"/>\n       <use x=\"625.953125\" xlink:href=\"#DejaVuSans-105\"/>\n       <use x=\"653.736328\" xlink:href=\"#DejaVuSans-101\"/>\n       <use x=\"715.259766\" xlink:href=\"#DejaVuSans-108\"/>\n       <use x=\"743.042969\" xlink:href=\"#DejaVuSans-100\"/>\n       <use x=\"806.519531\" xlink:href=\"#DejaVuSans-54\"/>\n       <use x=\"870.142578\" xlink:href=\"#DejaVuSans-49\"/>\n       <use x=\"933.765625\" xlink:href=\"#DejaVuSans-65\"/>\n      </g>\n     </g>\n    </g>\n    <g id=\"ytick_192\">\n     <g id=\"line2d_195\">\n      <g>\n       <use style=\"stroke:#000000;stroke-width:0.8;\" x=\"165.090625\" xlink:href=\"#m3b0424a600\" y=\"3010.313139\"/>\n      </g>\n     </g>\n     <g id=\"text_195\">\n      <!-- GeographicField14B -->\n      <g style=\"fill:#444443;\" transform=\"translate(57.85 3014.112357)scale(0.1 -0.1)\">\n       <use xlink:href=\"#DejaVuSans-71\"/>\n       <use x=\"77.490234\" xlink:href=\"#DejaVuSans-101\"/>\n       <use x=\"139.013672\" xlink:href=\"#DejaVuSans-111\"/>\n       <use x=\"200.195312\" xlink:href=\"#DejaVuSans-103\"/>\n       <use x=\"263.671875\" xlink:href=\"#DejaVuSans-114\"/>\n       <use x=\"304.785156\" xlink:href=\"#DejaVuSans-97\"/>\n       <use x=\"366.064453\" xlink:href=\"#DejaVuSans-112\"/>\n       <use x=\"429.541016\" xlink:href=\"#DejaVuSans-104\"/>\n       <use x=\"492.919922\" xlink:href=\"#DejaVuSans-105\"/>\n       <use x=\"520.703125\" xlink:href=\"#DejaVuSans-99\"/>\n       <use x=\"575.683594\" xlink:href=\"#DejaVuSans-70\"/>\n       <use x=\"625.953125\" xlink:href=\"#DejaVuSans-105\"/>\n       <use x=\"653.736328\" xlink:href=\"#DejaVuSans-101\"/>\n       <use x=\"715.259766\" xlink:href=\"#DejaVuSans-108\"/>\n       <use x=\"743.042969\" xlink:href=\"#DejaVuSans-100\"/>\n       <use x=\"806.519531\" xlink:href=\"#DejaVuSans-49\"/>\n       <use x=\"870.142578\" xlink:href=\"#DejaVuSans-52\"/>\n       <use x=\"933.765625\" xlink:href=\"#DejaVuSans-66\"/>\n      </g>\n     </g>\n    </g>\n    <g id=\"ytick_193\">\n     <g id=\"line2d_196\">\n      <g>\n       <use style=\"stroke:#000000;stroke-width:0.8;\" x=\"165.090625\" xlink:href=\"#m3b0424a600\" y=\"3026.029059\"/>\n      </g>\n     </g>\n     <g id=\"text_196\">\n      <!-- GeographicField18A -->\n      <g style=\"fill:#444443;\" transform=\"translate(57.870313 3029.828278)scale(0.1 -0.1)\">\n       <use xlink:href=\"#DejaVuSans-71\"/>\n       <use x=\"77.490234\" xlink:href=\"#DejaVuSans-101\"/>\n       <use x=\"139.013672\" xlink:href=\"#DejaVuSans-111\"/>\n       <use x=\"200.195312\" xlink:href=\"#DejaVuSans-103\"/>\n       <use x=\"263.671875\" xlink:href=\"#DejaVuSans-114\"/>\n       <use x=\"304.785156\" xlink:href=\"#DejaVuSans-97\"/>\n       <use x=\"366.064453\" xlink:href=\"#DejaVuSans-112\"/>\n       <use x=\"429.541016\" xlink:href=\"#DejaVuSans-104\"/>\n       <use x=\"492.919922\" xlink:href=\"#DejaVuSans-105\"/>\n       <use x=\"520.703125\" xlink:href=\"#DejaVuSans-99\"/>\n       <use x=\"575.683594\" xlink:href=\"#DejaVuSans-70\"/>\n       <use x=\"625.953125\" xlink:href=\"#DejaVuSans-105\"/>\n       <use x=\"653.736328\" xlink:href=\"#DejaVuSans-101\"/>\n       <use x=\"715.259766\" xlink:href=\"#DejaVuSans-108\"/>\n       <use x=\"743.042969\" xlink:href=\"#DejaVuSans-100\"/>\n       <use x=\"806.519531\" xlink:href=\"#DejaVuSans-49\"/>\n       <use x=\"870.142578\" xlink:href=\"#DejaVuSans-56\"/>\n       <use x=\"933.765625\" xlink:href=\"#DejaVuSans-65\"/>\n      </g>\n     </g>\n    </g>\n    <g id=\"ytick_194\">\n     <g id=\"line2d_197\">\n      <g>\n       <use style=\"stroke:#000000;stroke-width:0.8;\" x=\"165.090625\" xlink:href=\"#m3b0424a600\" y=\"3041.74498\"/>\n      </g>\n     </g>\n     <g id=\"text_197\">\n      <!-- PropertyField12 -->\n      <g style=\"fill:#444443;\" transform=\"translate(79.970313 3045.544198)scale(0.1 -0.1)\">\n       <use xlink:href=\"#DejaVuSans-80\"/>\n       <use x=\"58.552734\" xlink:href=\"#DejaVuSans-114\"/>\n       <use x=\"97.416016\" xlink:href=\"#DejaVuSans-111\"/>\n       <use x=\"158.597656\" xlink:href=\"#DejaVuSans-112\"/>\n       <use x=\"222.074219\" xlink:href=\"#DejaVuSans-101\"/>\n       <use x=\"283.597656\" xlink:href=\"#DejaVuSans-114\"/>\n       <use x=\"324.710938\" xlink:href=\"#DejaVuSans-116\"/>\n       <use x=\"363.919922\" xlink:href=\"#DejaVuSans-121\"/>\n       <use x=\"423.099609\" xlink:href=\"#DejaVuSans-70\"/>\n       <use x=\"473.369141\" xlink:href=\"#DejaVuSans-105\"/>\n       <use x=\"501.152344\" xlink:href=\"#DejaVuSans-101\"/>\n       <use x=\"562.675781\" xlink:href=\"#DejaVuSans-108\"/>\n       <use x=\"590.458984\" xlink:href=\"#DejaVuSans-100\"/>\n       <use x=\"653.935547\" xlink:href=\"#DejaVuSans-49\"/>\n       <use x=\"717.558594\" xlink:href=\"#DejaVuSans-50\"/>\n      </g>\n     </g>\n    </g>\n    <g id=\"ytick_195\">\n     <g id=\"line2d_198\">\n      <g>\n       <use style=\"stroke:#000000;stroke-width:0.8;\" x=\"165.090625\" xlink:href=\"#m3b0424a600\" y=\"3057.4609\"/>\n      </g>\n     </g>\n     <g id=\"text_198\">\n      <!-- GeographicField8B -->\n      <g style=\"fill:#444443;\" transform=\"translate(64.2125 3061.260119)scale(0.1 -0.1)\">\n       <use xlink:href=\"#DejaVuSans-71\"/>\n       <use x=\"77.490234\" xlink:href=\"#DejaVuSans-101\"/>\n       <use x=\"139.013672\" xlink:href=\"#DejaVuSans-111\"/>\n       <use x=\"200.195312\" xlink:href=\"#DejaVuSans-103\"/>\n       <use x=\"263.671875\" xlink:href=\"#DejaVuSans-114\"/>\n       <use x=\"304.785156\" xlink:href=\"#DejaVuSans-97\"/>\n       <use x=\"366.064453\" xlink:href=\"#DejaVuSans-112\"/>\n       <use x=\"429.541016\" xlink:href=\"#DejaVuSans-104\"/>\n       <use x=\"492.919922\" xlink:href=\"#DejaVuSans-105\"/>\n       <use x=\"520.703125\" xlink:href=\"#DejaVuSans-99\"/>\n       <use x=\"575.683594\" xlink:href=\"#DejaVuSans-70\"/>\n       <use x=\"625.953125\" xlink:href=\"#DejaVuSans-105\"/>\n       <use x=\"653.736328\" xlink:href=\"#DejaVuSans-101\"/>\n       <use x=\"715.259766\" xlink:href=\"#DejaVuSans-108\"/>\n       <use x=\"743.042969\" xlink:href=\"#DejaVuSans-100\"/>\n       <use x=\"806.519531\" xlink:href=\"#DejaVuSans-56\"/>\n       <use x=\"870.142578\" xlink:href=\"#DejaVuSans-66\"/>\n      </g>\n     </g>\n    </g>\n    <g id=\"ytick_196\">\n     <g id=\"line2d_199\">\n      <g>\n       <use style=\"stroke:#000000;stroke-width:0.8;\" x=\"165.090625\" xlink:href=\"#m3b0424a600\" y=\"3073.176821\"/>\n      </g>\n     </g>\n     <g id=\"text_199\">\n      <!-- PersonalField77 -->\n      <g style=\"fill:#444443;\" transform=\"translate(79.778125 3076.976039)scale(0.1 -0.1)\">\n       <use xlink:href=\"#DejaVuSans-80\"/>\n       <use x=\"56.677734\" xlink:href=\"#DejaVuSans-101\"/>\n       <use x=\"118.201172\" xlink:href=\"#DejaVuSans-114\"/>\n       <use x=\"159.314453\" xlink:href=\"#DejaVuSans-115\"/>\n       <use x=\"211.414062\" xlink:href=\"#DejaVuSans-111\"/>\n       <use x=\"272.595703\" xlink:href=\"#DejaVuSans-110\"/>\n       <use x=\"335.974609\" xlink:href=\"#DejaVuSans-97\"/>\n       <use x=\"397.253906\" xlink:href=\"#DejaVuSans-108\"/>\n       <use x=\"425.037109\" xlink:href=\"#DejaVuSans-70\"/>\n       <use x=\"475.306641\" xlink:href=\"#DejaVuSans-105\"/>\n       <use x=\"503.089844\" xlink:href=\"#DejaVuSans-101\"/>\n       <use x=\"564.613281\" xlink:href=\"#DejaVuSans-108\"/>\n       <use x=\"592.396484\" xlink:href=\"#DejaVuSans-100\"/>\n       <use x=\"655.873047\" xlink:href=\"#DejaVuSans-55\"/>\n       <use x=\"719.496094\" xlink:href=\"#DejaVuSans-55\"/>\n      </g>\n     </g>\n    </g>\n    <g id=\"ytick_197\">\n     <g id=\"line2d_200\">\n      <g>\n       <use style=\"stroke:#000000;stroke-width:0.8;\" x=\"165.090625\" xlink:href=\"#m3b0424a600\" y=\"3088.892741\"/>\n      </g>\n     </g>\n     <g id=\"text_200\">\n      <!-- PersonalField32 -->\n      <g style=\"fill:#444443;\" transform=\"translate(79.778125 3092.69196)scale(0.1 -0.1)\">\n       <use xlink:href=\"#DejaVuSans-80\"/>\n       <use x=\"56.677734\" xlink:href=\"#DejaVuSans-101\"/>\n       <use x=\"118.201172\" xlink:href=\"#DejaVuSans-114\"/>\n       <use x=\"159.314453\" xlink:href=\"#DejaVuSans-115\"/>\n       <use x=\"211.414062\" xlink:href=\"#DejaVuSans-111\"/>\n       <use x=\"272.595703\" xlink:href=\"#DejaVuSans-110\"/>\n       <use x=\"335.974609\" xlink:href=\"#DejaVuSans-97\"/>\n       <use x=\"397.253906\" xlink:href=\"#DejaVuSans-108\"/>\n       <use x=\"425.037109\" xlink:href=\"#DejaVuSans-70\"/>\n       <use x=\"475.306641\" xlink:href=\"#DejaVuSans-105\"/>\n       <use x=\"503.089844\" xlink:href=\"#DejaVuSans-101\"/>\n       <use x=\"564.613281\" xlink:href=\"#DejaVuSans-108\"/>\n       <use x=\"592.396484\" xlink:href=\"#DejaVuSans-100\"/>\n       <use x=\"655.873047\" xlink:href=\"#DejaVuSans-51\"/>\n       <use x=\"719.496094\" xlink:href=\"#DejaVuSans-50\"/>\n      </g>\n     </g>\n    </g>\n    <g id=\"ytick_198\">\n     <g id=\"line2d_201\">\n      <g>\n       <use style=\"stroke:#000000;stroke-width:0.8;\" x=\"165.090625\" xlink:href=\"#m3b0424a600\" y=\"3104.608662\"/>\n      </g>\n     </g>\n     <g id=\"text_201\">\n      <!-- GeographicField7B -->\n      <g style=\"fill:#444443;\" transform=\"translate(64.2125 3108.40788)scale(0.1 -0.1)\">\n       <use xlink:href=\"#DejaVuSans-71\"/>\n       <use x=\"77.490234\" xlink:href=\"#DejaVuSans-101\"/>\n       <use x=\"139.013672\" xlink:href=\"#DejaVuSans-111\"/>\n       <use x=\"200.195312\" xlink:href=\"#DejaVuSans-103\"/>\n       <use x=\"263.671875\" xlink:href=\"#DejaVuSans-114\"/>\n       <use x=\"304.785156\" xlink:href=\"#DejaVuSans-97\"/>\n       <use x=\"366.064453\" xlink:href=\"#DejaVuSans-112\"/>\n       <use x=\"429.541016\" xlink:href=\"#DejaVuSans-104\"/>\n       <use x=\"492.919922\" xlink:href=\"#DejaVuSans-105\"/>\n       <use x=\"520.703125\" xlink:href=\"#DejaVuSans-99\"/>\n       <use x=\"575.683594\" xlink:href=\"#DejaVuSans-70\"/>\n       <use x=\"625.953125\" xlink:href=\"#DejaVuSans-105\"/>\n       <use x=\"653.736328\" xlink:href=\"#DejaVuSans-101\"/>\n       <use x=\"715.259766\" xlink:href=\"#DejaVuSans-108\"/>\n       <use x=\"743.042969\" xlink:href=\"#DejaVuSans-100\"/>\n       <use x=\"806.519531\" xlink:href=\"#DejaVuSans-55\"/>\n       <use x=\"870.142578\" xlink:href=\"#DejaVuSans-66\"/>\n      </g>\n     </g>\n    </g>\n    <g id=\"ytick_199\">\n     <g id=\"line2d_202\">\n      <g>\n       <use style=\"stroke:#000000;stroke-width:0.8;\" x=\"165.090625\" xlink:href=\"#m3b0424a600\" y=\"3120.324582\"/>\n      </g>\n     </g>\n     <g id=\"text_202\">\n      <!-- PersonalField31 -->\n      <g style=\"fill:#444443;\" transform=\"translate(79.778125 3124.123801)scale(0.1 -0.1)\">\n       <use xlink:href=\"#DejaVuSans-80\"/>\n       <use x=\"56.677734\" xlink:href=\"#DejaVuSans-101\"/>\n       <use x=\"118.201172\" xlink:href=\"#DejaVuSans-114\"/>\n       <use x=\"159.314453\" xlink:href=\"#DejaVuSans-115\"/>\n       <use x=\"211.414062\" xlink:href=\"#DejaVuSans-111\"/>\n       <use x=\"272.595703\" xlink:href=\"#DejaVuSans-110\"/>\n       <use x=\"335.974609\" xlink:href=\"#DejaVuSans-97\"/>\n       <use x=\"397.253906\" xlink:href=\"#DejaVuSans-108\"/>\n       <use x=\"425.037109\" xlink:href=\"#DejaVuSans-70\"/>\n       <use x=\"475.306641\" xlink:href=\"#DejaVuSans-105\"/>\n       <use x=\"503.089844\" xlink:href=\"#DejaVuSans-101\"/>\n       <use x=\"564.613281\" xlink:href=\"#DejaVuSans-108\"/>\n       <use x=\"592.396484\" xlink:href=\"#DejaVuSans-100\"/>\n       <use x=\"655.873047\" xlink:href=\"#DejaVuSans-51\"/>\n       <use x=\"719.496094\" xlink:href=\"#DejaVuSans-49\"/>\n      </g>\n     </g>\n    </g>\n    <g id=\"ytick_200\">\n     <g id=\"line2d_203\">\n      <g>\n       <use style=\"stroke:#000000;stroke-width:0.8;\" x=\"165.090625\" xlink:href=\"#m3b0424a600\" y=\"3136.040503\"/>\n      </g>\n     </g>\n     <g id=\"text_203\">\n      <!-- GeographicField61B -->\n      <g style=\"fill:#444443;\" transform=\"translate(57.85 3139.839721)scale(0.1 -0.1)\">\n       <use xlink:href=\"#DejaVuSans-71\"/>\n       <use x=\"77.490234\" xlink:href=\"#DejaVuSans-101\"/>\n       <use x=\"139.013672\" xlink:href=\"#DejaVuSans-111\"/>\n       <use x=\"200.195312\" xlink:href=\"#DejaVuSans-103\"/>\n       <use x=\"263.671875\" xlink:href=\"#DejaVuSans-114\"/>\n       <use x=\"304.785156\" xlink:href=\"#DejaVuSans-97\"/>\n       <use x=\"366.064453\" xlink:href=\"#DejaVuSans-112\"/>\n       <use x=\"429.541016\" xlink:href=\"#DejaVuSans-104\"/>\n       <use x=\"492.919922\" xlink:href=\"#DejaVuSans-105\"/>\n       <use x=\"520.703125\" xlink:href=\"#DejaVuSans-99\"/>\n       <use x=\"575.683594\" xlink:href=\"#DejaVuSans-70\"/>\n       <use x=\"625.953125\" xlink:href=\"#DejaVuSans-105\"/>\n       <use x=\"653.736328\" xlink:href=\"#DejaVuSans-101\"/>\n       <use x=\"715.259766\" xlink:href=\"#DejaVuSans-108\"/>\n       <use x=\"743.042969\" xlink:href=\"#DejaVuSans-100\"/>\n       <use x=\"806.519531\" xlink:href=\"#DejaVuSans-54\"/>\n       <use x=\"870.142578\" xlink:href=\"#DejaVuSans-49\"/>\n       <use x=\"933.765625\" xlink:href=\"#DejaVuSans-66\"/>\n      </g>\n     </g>\n    </g>\n    <g id=\"ytick_201\">\n     <g id=\"line2d_204\">\n      <g>\n       <use style=\"stroke:#000000;stroke-width:0.8;\" x=\"165.090625\" xlink:href=\"#m3b0424a600\" y=\"3151.756423\"/>\n      </g>\n     </g>\n     <g id=\"text_204\">\n      <!-- PropertyField8 -->\n      <g style=\"fill:#444443;\" transform=\"translate(86.332813 3155.555642)scale(0.1 -0.1)\">\n       <use xlink:href=\"#DejaVuSans-80\"/>\n       <use x=\"58.552734\" xlink:href=\"#DejaVuSans-114\"/>\n       <use x=\"97.416016\" xlink:href=\"#DejaVuSans-111\"/>\n       <use x=\"158.597656\" xlink:href=\"#DejaVuSans-112\"/>\n       <use x=\"222.074219\" xlink:href=\"#DejaVuSans-101\"/>\n       <use x=\"283.597656\" xlink:href=\"#DejaVuSans-114\"/>\n       <use x=\"324.710938\" xlink:href=\"#DejaVuSans-116\"/>\n       <use x=\"363.919922\" xlink:href=\"#DejaVuSans-121\"/>\n       <use x=\"423.099609\" xlink:href=\"#DejaVuSans-70\"/>\n       <use x=\"473.369141\" xlink:href=\"#DejaVuSans-105\"/>\n       <use x=\"501.152344\" xlink:href=\"#DejaVuSans-101\"/>\n       <use x=\"562.675781\" xlink:href=\"#DejaVuSans-108\"/>\n       <use x=\"590.458984\" xlink:href=\"#DejaVuSans-100\"/>\n       <use x=\"653.935547\" xlink:href=\"#DejaVuSans-56\"/>\n      </g>\n     </g>\n    </g>\n    <g id=\"ytick_202\">\n     <g id=\"line2d_205\">\n      <g>\n       <use style=\"stroke:#000000;stroke-width:0.8;\" x=\"165.090625\" xlink:href=\"#m3b0424a600\" y=\"3167.472344\"/>\n      </g>\n     </g>\n     <g id=\"text_205\">\n      <!-- PersonalField78 -->\n      <g style=\"fill:#444443;\" transform=\"translate(79.778125 3171.271562)scale(0.1 -0.1)\">\n       <use xlink:href=\"#DejaVuSans-80\"/>\n       <use x=\"56.677734\" xlink:href=\"#DejaVuSans-101\"/>\n       <use x=\"118.201172\" xlink:href=\"#DejaVuSans-114\"/>\n       <use x=\"159.314453\" xlink:href=\"#DejaVuSans-115\"/>\n       <use x=\"211.414062\" xlink:href=\"#DejaVuSans-111\"/>\n       <use x=\"272.595703\" xlink:href=\"#DejaVuSans-110\"/>\n       <use x=\"335.974609\" xlink:href=\"#DejaVuSans-97\"/>\n       <use x=\"397.253906\" xlink:href=\"#DejaVuSans-108\"/>\n       <use x=\"425.037109\" xlink:href=\"#DejaVuSans-70\"/>\n       <use x=\"475.306641\" xlink:href=\"#DejaVuSans-105\"/>\n       <use x=\"503.089844\" xlink:href=\"#DejaVuSans-101\"/>\n       <use x=\"564.613281\" xlink:href=\"#DejaVuSans-108\"/>\n       <use x=\"592.396484\" xlink:href=\"#DejaVuSans-100\"/>\n       <use x=\"655.873047\" xlink:href=\"#DejaVuSans-55\"/>\n       <use x=\"719.496094\" xlink:href=\"#DejaVuSans-56\"/>\n      </g>\n     </g>\n    </g>\n    <g id=\"ytick_203\">\n     <g id=\"line2d_206\">\n      <g>\n       <use style=\"stroke:#000000;stroke-width:0.8;\" x=\"165.090625\" xlink:href=\"#m3b0424a600\" y=\"3183.188264\"/>\n      </g>\n     </g>\n     <g id=\"text_206\">\n      <!-- PropertyField19 -->\n      <g style=\"fill:#444443;\" transform=\"translate(79.970313 3186.987483)scale(0.1 -0.1)\">\n       <use xlink:href=\"#DejaVuSans-80\"/>\n       <use x=\"58.552734\" xlink:href=\"#DejaVuSans-114\"/>\n       <use x=\"97.416016\" xlink:href=\"#DejaVuSans-111\"/>\n       <use x=\"158.597656\" xlink:href=\"#DejaVuSans-112\"/>\n       <use x=\"222.074219\" xlink:href=\"#DejaVuSans-101\"/>\n       <use x=\"283.597656\" xlink:href=\"#DejaVuSans-114\"/>\n       <use x=\"324.710938\" xlink:href=\"#DejaVuSans-116\"/>\n       <use x=\"363.919922\" xlink:href=\"#DejaVuSans-121\"/>\n       <use x=\"423.099609\" xlink:href=\"#DejaVuSans-70\"/>\n       <use x=\"473.369141\" xlink:href=\"#DejaVuSans-105\"/>\n       <use x=\"501.152344\" xlink:href=\"#DejaVuSans-101\"/>\n       <use x=\"562.675781\" xlink:href=\"#DejaVuSans-108\"/>\n       <use x=\"590.458984\" xlink:href=\"#DejaVuSans-100\"/>\n       <use x=\"653.935547\" xlink:href=\"#DejaVuSans-49\"/>\n       <use x=\"717.558594\" xlink:href=\"#DejaVuSans-57\"/>\n      </g>\n     </g>\n    </g>\n    <g id=\"ytick_204\">\n     <g id=\"line2d_207\">\n      <g>\n       <use style=\"stroke:#000000;stroke-width:0.8;\" x=\"165.090625\" xlink:href=\"#m3b0424a600\" y=\"3198.904185\"/>\n      </g>\n     </g>\n     <g id=\"text_207\">\n      <!-- PersonalField80 -->\n      <g style=\"fill:#444443;\" transform=\"translate(79.778125 3202.703403)scale(0.1 -0.1)\">\n       <use xlink:href=\"#DejaVuSans-80\"/>\n       <use x=\"56.677734\" xlink:href=\"#DejaVuSans-101\"/>\n       <use x=\"118.201172\" xlink:href=\"#DejaVuSans-114\"/>\n       <use x=\"159.314453\" xlink:href=\"#DejaVuSans-115\"/>\n       <use x=\"211.414062\" xlink:href=\"#DejaVuSans-111\"/>\n       <use x=\"272.595703\" xlink:href=\"#DejaVuSans-110\"/>\n       <use x=\"335.974609\" xlink:href=\"#DejaVuSans-97\"/>\n       <use x=\"397.253906\" xlink:href=\"#DejaVuSans-108\"/>\n       <use x=\"425.037109\" xlink:href=\"#DejaVuSans-70\"/>\n       <use x=\"475.306641\" xlink:href=\"#DejaVuSans-105\"/>\n       <use x=\"503.089844\" xlink:href=\"#DejaVuSans-101\"/>\n       <use x=\"564.613281\" xlink:href=\"#DejaVuSans-108\"/>\n       <use x=\"592.396484\" xlink:href=\"#DejaVuSans-100\"/>\n       <use x=\"655.873047\" xlink:href=\"#DejaVuSans-56\"/>\n       <use x=\"719.496094\" xlink:href=\"#DejaVuSans-48\"/>\n      </g>\n     </g>\n    </g>\n    <g id=\"ytick_205\">\n     <g id=\"line2d_208\">\n      <g>\n       <use style=\"stroke:#000000;stroke-width:0.8;\" x=\"165.090625\" xlink:href=\"#m3b0424a600\" y=\"3214.620105\"/>\n      </g>\n     </g>\n     <g id=\"text_208\">\n      <!-- PersonalField24 -->\n      <g style=\"fill:#444443;\" transform=\"translate(79.778125 3218.419324)scale(0.1 -0.1)\">\n       <use xlink:href=\"#DejaVuSans-80\"/>\n       <use x=\"56.677734\" xlink:href=\"#DejaVuSans-101\"/>\n       <use x=\"118.201172\" xlink:href=\"#DejaVuSans-114\"/>\n       <use x=\"159.314453\" xlink:href=\"#DejaVuSans-115\"/>\n       <use x=\"211.414062\" xlink:href=\"#DejaVuSans-111\"/>\n       <use x=\"272.595703\" xlink:href=\"#DejaVuSans-110\"/>\n       <use x=\"335.974609\" xlink:href=\"#DejaVuSans-97\"/>\n       <use x=\"397.253906\" xlink:href=\"#DejaVuSans-108\"/>\n       <use x=\"425.037109\" xlink:href=\"#DejaVuSans-70\"/>\n       <use x=\"475.306641\" xlink:href=\"#DejaVuSans-105\"/>\n       <use x=\"503.089844\" xlink:href=\"#DejaVuSans-101\"/>\n       <use x=\"564.613281\" xlink:href=\"#DejaVuSans-108\"/>\n       <use x=\"592.396484\" xlink:href=\"#DejaVuSans-100\"/>\n       <use x=\"655.873047\" xlink:href=\"#DejaVuSans-50\"/>\n       <use x=\"719.496094\" xlink:href=\"#DejaVuSans-52\"/>\n      </g>\n     </g>\n    </g>\n    <g id=\"ytick_206\">\n     <g id=\"line2d_209\">\n      <g>\n       <use style=\"stroke:#000000;stroke-width:0.8;\" x=\"165.090625\" xlink:href=\"#m3b0424a600\" y=\"3230.336026\"/>\n      </g>\n     </g>\n     <g id=\"text_209\">\n      <!-- SalesField14 -->\n      <g style=\"fill:#444443;\" transform=\"translate(95.664063 3234.135244)scale(0.1 -0.1)\">\n       <use xlink:href=\"#DejaVuSans-83\"/>\n       <use x=\"63.476562\" xlink:href=\"#DejaVuSans-97\"/>\n       <use x=\"124.755859\" xlink:href=\"#DejaVuSans-108\"/>\n       <use x=\"152.539062\" xlink:href=\"#DejaVuSans-101\"/>\n       <use x=\"214.0625\" xlink:href=\"#DejaVuSans-115\"/>\n       <use x=\"266.162109\" xlink:href=\"#DejaVuSans-70\"/>\n       <use x=\"316.431641\" xlink:href=\"#DejaVuSans-105\"/>\n       <use x=\"344.214844\" xlink:href=\"#DejaVuSans-101\"/>\n       <use x=\"405.738281\" xlink:href=\"#DejaVuSans-108\"/>\n       <use x=\"433.521484\" xlink:href=\"#DejaVuSans-100\"/>\n       <use x=\"496.998047\" xlink:href=\"#DejaVuSans-49\"/>\n       <use x=\"560.621094\" xlink:href=\"#DejaVuSans-52\"/>\n      </g>\n     </g>\n    </g>\n    <g id=\"ytick_207\">\n     <g id=\"line2d_210\">\n      <g>\n       <use style=\"stroke:#000000;stroke-width:0.8;\" x=\"165.090625\" xlink:href=\"#m3b0424a600\" y=\"3246.051946\"/>\n      </g>\n     </g>\n     <g id=\"text_210\">\n      <!-- PersonalField4A -->\n      <g style=\"fill:#444443;\" transform=\"translate(79.3 3249.851165)scale(0.1 -0.1)\">\n       <use xlink:href=\"#DejaVuSans-80\"/>\n       <use x=\"56.677734\" xlink:href=\"#DejaVuSans-101\"/>\n       <use x=\"118.201172\" xlink:href=\"#DejaVuSans-114\"/>\n       <use x=\"159.314453\" xlink:href=\"#DejaVuSans-115\"/>\n       <use x=\"211.414062\" xlink:href=\"#DejaVuSans-111\"/>\n       <use x=\"272.595703\" xlink:href=\"#DejaVuSans-110\"/>\n       <use x=\"335.974609\" xlink:href=\"#DejaVuSans-97\"/>\n       <use x=\"397.253906\" xlink:href=\"#DejaVuSans-108\"/>\n       <use x=\"425.037109\" xlink:href=\"#DejaVuSans-70\"/>\n       <use x=\"475.306641\" xlink:href=\"#DejaVuSans-105\"/>\n       <use x=\"503.089844\" xlink:href=\"#DejaVuSans-101\"/>\n       <use x=\"564.613281\" xlink:href=\"#DejaVuSans-108\"/>\n       <use x=\"592.396484\" xlink:href=\"#DejaVuSans-100\"/>\n       <use x=\"655.873047\" xlink:href=\"#DejaVuSans-52\"/>\n       <use x=\"719.496094\" xlink:href=\"#DejaVuSans-65\"/>\n      </g>\n     </g>\n    </g>\n    <g id=\"ytick_208\">\n     <g id=\"line2d_211\">\n      <g>\n       <use style=\"stroke:#000000;stroke-width:0.8;\" x=\"165.090625\" xlink:href=\"#m3b0424a600\" y=\"3261.767867\"/>\n      </g>\n     </g>\n     <g id=\"text_211\">\n      <!-- SalesField12 -->\n      <g style=\"fill:#444443;\" transform=\"translate(95.664063 3265.567085)scale(0.1 -0.1)\">\n       <use xlink:href=\"#DejaVuSans-83\"/>\n       <use x=\"63.476562\" xlink:href=\"#DejaVuSans-97\"/>\n       <use x=\"124.755859\" xlink:href=\"#DejaVuSans-108\"/>\n       <use x=\"152.539062\" xlink:href=\"#DejaVuSans-101\"/>\n       <use x=\"214.0625\" xlink:href=\"#DejaVuSans-115\"/>\n       <use x=\"266.162109\" xlink:href=\"#DejaVuSans-70\"/>\n       <use x=\"316.431641\" xlink:href=\"#DejaVuSans-105\"/>\n       <use x=\"344.214844\" xlink:href=\"#DejaVuSans-101\"/>\n       <use x=\"405.738281\" xlink:href=\"#DejaVuSans-108\"/>\n       <use x=\"433.521484\" xlink:href=\"#DejaVuSans-100\"/>\n       <use x=\"496.998047\" xlink:href=\"#DejaVuSans-49\"/>\n       <use x=\"560.621094\" xlink:href=\"#DejaVuSans-50\"/>\n      </g>\n     </g>\n    </g>\n    <g id=\"ytick_209\">\n     <g id=\"line2d_212\">\n      <g>\n       <use style=\"stroke:#000000;stroke-width:0.8;\" x=\"165.090625\" xlink:href=\"#m3b0424a600\" y=\"3277.483787\"/>\n      </g>\n     </g>\n     <g id=\"text_212\">\n      <!-- GeographicField52A -->\n      <g style=\"fill:#444443;\" transform=\"translate(57.870313 3281.283006)scale(0.1 -0.1)\">\n       <use xlink:href=\"#DejaVuSans-71\"/>\n       <use x=\"77.490234\" xlink:href=\"#DejaVuSans-101\"/>\n       <use x=\"139.013672\" xlink:href=\"#DejaVuSans-111\"/>\n       <use x=\"200.195312\" xlink:href=\"#DejaVuSans-103\"/>\n       <use x=\"263.671875\" xlink:href=\"#DejaVuSans-114\"/>\n       <use x=\"304.785156\" xlink:href=\"#DejaVuSans-97\"/>\n       <use x=\"366.064453\" xlink:href=\"#DejaVuSans-112\"/>\n       <use x=\"429.541016\" xlink:href=\"#DejaVuSans-104\"/>\n       <use x=\"492.919922\" xlink:href=\"#DejaVuSans-105\"/>\n       <use x=\"520.703125\" xlink:href=\"#DejaVuSans-99\"/>\n       <use x=\"575.683594\" xlink:href=\"#DejaVuSans-70\"/>\n       <use x=\"625.953125\" xlink:href=\"#DejaVuSans-105\"/>\n       <use x=\"653.736328\" xlink:href=\"#DejaVuSans-101\"/>\n       <use x=\"715.259766\" xlink:href=\"#DejaVuSans-108\"/>\n       <use x=\"743.042969\" xlink:href=\"#DejaVuSans-100\"/>\n       <use x=\"806.519531\" xlink:href=\"#DejaVuSans-53\"/>\n       <use x=\"870.142578\" xlink:href=\"#DejaVuSans-50\"/>\n       <use x=\"933.765625\" xlink:href=\"#DejaVuSans-65\"/>\n      </g>\n     </g>\n    </g>\n    <g id=\"ytick_210\">\n     <g id=\"line2d_213\">\n      <g>\n       <use style=\"stroke:#000000;stroke-width:0.8;\" x=\"165.090625\" xlink:href=\"#m3b0424a600\" y=\"3293.199708\"/>\n      </g>\n     </g>\n     <g id=\"text_213\">\n      <!-- PropertyField4 -->\n      <g style=\"fill:#444443;\" transform=\"translate(86.332813 3296.998927)scale(0.1 -0.1)\">\n       <use xlink:href=\"#DejaVuSans-80\"/>\n       <use x=\"58.552734\" xlink:href=\"#DejaVuSans-114\"/>\n       <use x=\"97.416016\" xlink:href=\"#DejaVuSans-111\"/>\n       <use x=\"158.597656\" xlink:href=\"#DejaVuSans-112\"/>\n       <use x=\"222.074219\" xlink:href=\"#DejaVuSans-101\"/>\n       <use x=\"283.597656\" xlink:href=\"#DejaVuSans-114\"/>\n       <use x=\"324.710938\" xlink:href=\"#DejaVuSans-116\"/>\n       <use x=\"363.919922\" xlink:href=\"#DejaVuSans-121\"/>\n       <use x=\"423.099609\" xlink:href=\"#DejaVuSans-70\"/>\n       <use x=\"473.369141\" xlink:href=\"#DejaVuSans-105\"/>\n       <use x=\"501.152344\" xlink:href=\"#DejaVuSans-101\"/>\n       <use x=\"562.675781\" xlink:href=\"#DejaVuSans-108\"/>\n       <use x=\"590.458984\" xlink:href=\"#DejaVuSans-100\"/>\n       <use x=\"653.935547\" xlink:href=\"#DejaVuSans-52\"/>\n      </g>\n     </g>\n    </g>\n    <g id=\"ytick_211\">\n     <g id=\"line2d_214\">\n      <g>\n       <use style=\"stroke:#000000;stroke-width:0.8;\" x=\"165.090625\" xlink:href=\"#m3b0424a600\" y=\"3308.915628\"/>\n      </g>\n     </g>\n     <g id=\"text_214\">\n      <!-- GeographicField52B -->\n      <g style=\"fill:#444443;\" transform=\"translate(57.85 3312.714847)scale(0.1 -0.1)\">\n       <use xlink:href=\"#DejaVuSans-71\"/>\n       <use x=\"77.490234\" xlink:href=\"#DejaVuSans-101\"/>\n       <use x=\"139.013672\" xlink:href=\"#DejaVuSans-111\"/>\n       <use x=\"200.195312\" xlink:href=\"#DejaVuSans-103\"/>\n       <use x=\"263.671875\" xlink:href=\"#DejaVuSans-114\"/>\n       <use x=\"304.785156\" xlink:href=\"#DejaVuSans-97\"/>\n       <use x=\"366.064453\" xlink:href=\"#DejaVuSans-112\"/>\n       <use x=\"429.541016\" xlink:href=\"#DejaVuSans-104\"/>\n       <use x=\"492.919922\" xlink:href=\"#DejaVuSans-105\"/>\n       <use x=\"520.703125\" xlink:href=\"#DejaVuSans-99\"/>\n       <use x=\"575.683594\" xlink:href=\"#DejaVuSans-70\"/>\n       <use x=\"625.953125\" xlink:href=\"#DejaVuSans-105\"/>\n       <use x=\"653.736328\" xlink:href=\"#DejaVuSans-101\"/>\n       <use x=\"715.259766\" xlink:href=\"#DejaVuSans-108\"/>\n       <use x=\"743.042969\" xlink:href=\"#DejaVuSans-100\"/>\n       <use x=\"806.519531\" xlink:href=\"#DejaVuSans-53\"/>\n       <use x=\"870.142578\" xlink:href=\"#DejaVuSans-50\"/>\n       <use x=\"933.765625\" xlink:href=\"#DejaVuSans-66\"/>\n      </g>\n     </g>\n    </g>\n    <g id=\"ytick_212\">\n     <g id=\"line2d_215\">\n      <g>\n       <use style=\"stroke:#000000;stroke-width:0.8;\" x=\"165.090625\" xlink:href=\"#m3b0424a600\" y=\"3324.631549\"/>\n      </g>\n     </g>\n     <g id=\"text_215\">\n      <!-- PersonalField6 -->\n      <g style=\"fill:#444443;\" transform=\"translate(86.140625 3328.430768)scale(0.1 -0.1)\">\n       <use xlink:href=\"#DejaVuSans-80\"/>\n       <use x=\"56.677734\" xlink:href=\"#DejaVuSans-101\"/>\n       <use x=\"118.201172\" xlink:href=\"#DejaVuSans-114\"/>\n       <use x=\"159.314453\" xlink:href=\"#DejaVuSans-115\"/>\n       <use x=\"211.414062\" xlink:href=\"#DejaVuSans-111\"/>\n       <use x=\"272.595703\" xlink:href=\"#DejaVuSans-110\"/>\n       <use x=\"335.974609\" xlink:href=\"#DejaVuSans-97\"/>\n       <use x=\"397.253906\" xlink:href=\"#DejaVuSans-108\"/>\n       <use x=\"425.037109\" xlink:href=\"#DejaVuSans-70\"/>\n       <use x=\"475.306641\" xlink:href=\"#DejaVuSans-105\"/>\n       <use x=\"503.089844\" xlink:href=\"#DejaVuSans-101\"/>\n       <use x=\"564.613281\" xlink:href=\"#DejaVuSans-108\"/>\n       <use x=\"592.396484\" xlink:href=\"#DejaVuSans-100\"/>\n       <use x=\"655.873047\" xlink:href=\"#DejaVuSans-54\"/>\n      </g>\n     </g>\n    </g>\n    <g id=\"ytick_213\">\n     <g id=\"line2d_216\">\n      <g>\n       <use style=\"stroke:#000000;stroke-width:0.8;\" x=\"165.090625\" xlink:href=\"#m3b0424a600\" y=\"3340.347469\"/>\n      </g>\n     </g>\n     <g id=\"text_216\">\n      <!-- PropertyField39A -->\n      <g style=\"fill:#444443;\" transform=\"translate(73.129688 3344.146688)scale(0.1 -0.1)\">\n       <use xlink:href=\"#DejaVuSans-80\"/>\n       <use x=\"58.552734\" xlink:href=\"#DejaVuSans-114\"/>\n       <use x=\"97.416016\" xlink:href=\"#DejaVuSans-111\"/>\n       <use x=\"158.597656\" xlink:href=\"#DejaVuSans-112\"/>\n       <use x=\"222.074219\" xlink:href=\"#DejaVuSans-101\"/>\n       <use x=\"283.597656\" xlink:href=\"#DejaVuSans-114\"/>\n       <use x=\"324.710938\" xlink:href=\"#DejaVuSans-116\"/>\n       <use x=\"363.919922\" xlink:href=\"#DejaVuSans-121\"/>\n       <use x=\"423.099609\" xlink:href=\"#DejaVuSans-70\"/>\n       <use x=\"473.369141\" xlink:href=\"#DejaVuSans-105\"/>\n       <use x=\"501.152344\" xlink:href=\"#DejaVuSans-101\"/>\n       <use x=\"562.675781\" xlink:href=\"#DejaVuSans-108\"/>\n       <use x=\"590.458984\" xlink:href=\"#DejaVuSans-100\"/>\n       <use x=\"653.935547\" xlink:href=\"#DejaVuSans-51\"/>\n       <use x=\"717.558594\" xlink:href=\"#DejaVuSans-57\"/>\n       <use x=\"781.181641\" xlink:href=\"#DejaVuSans-65\"/>\n      </g>\n     </g>\n    </g>\n    <g id=\"ytick_214\">\n     <g id=\"line2d_217\">\n      <g>\n       <use style=\"stroke:#000000;stroke-width:0.8;\" x=\"165.090625\" xlink:href=\"#m3b0424a600\" y=\"3356.06339\"/>\n      </g>\n     </g>\n     <g id=\"text_217\">\n      <!-- GeographicField53A -->\n      <g style=\"fill:#444443;\" transform=\"translate(57.870313 3359.862609)scale(0.1 -0.1)\">\n       <use xlink:href=\"#DejaVuSans-71\"/>\n       <use x=\"77.490234\" xlink:href=\"#DejaVuSans-101\"/>\n       <use x=\"139.013672\" xlink:href=\"#DejaVuSans-111\"/>\n       <use x=\"200.195312\" xlink:href=\"#DejaVuSans-103\"/>\n       <use x=\"263.671875\" xlink:href=\"#DejaVuSans-114\"/>\n       <use x=\"304.785156\" xlink:href=\"#DejaVuSans-97\"/>\n       <use x=\"366.064453\" xlink:href=\"#DejaVuSans-112\"/>\n       <use x=\"429.541016\" xlink:href=\"#DejaVuSans-104\"/>\n       <use x=\"492.919922\" xlink:href=\"#DejaVuSans-105\"/>\n       <use x=\"520.703125\" xlink:href=\"#DejaVuSans-99\"/>\n       <use x=\"575.683594\" xlink:href=\"#DejaVuSans-70\"/>\n       <use x=\"625.953125\" xlink:href=\"#DejaVuSans-105\"/>\n       <use x=\"653.736328\" xlink:href=\"#DejaVuSans-101\"/>\n       <use x=\"715.259766\" xlink:href=\"#DejaVuSans-108\"/>\n       <use x=\"743.042969\" xlink:href=\"#DejaVuSans-100\"/>\n       <use x=\"806.519531\" xlink:href=\"#DejaVuSans-53\"/>\n       <use x=\"870.142578\" xlink:href=\"#DejaVuSans-51\"/>\n       <use x=\"933.765625\" xlink:href=\"#DejaVuSans-65\"/>\n      </g>\n     </g>\n    </g>\n    <g id=\"ytick_215\">\n     <g id=\"line2d_218\">\n      <g>\n       <use style=\"stroke:#000000;stroke-width:0.8;\" x=\"165.090625\" xlink:href=\"#m3b0424a600\" y=\"3371.77931\"/>\n      </g>\n     </g>\n     <g id=\"text_218\">\n      <!-- CoverageField4A -->\n      <g style=\"fill:#444443;\" transform=\"translate(73.889063 3375.578529)scale(0.1 -0.1)\">\n       <use xlink:href=\"#DejaVuSans-67\"/>\n       <use x=\"69.824219\" xlink:href=\"#DejaVuSans-111\"/>\n       <use x=\"131.005859\" xlink:href=\"#DejaVuSans-118\"/>\n       <use x=\"190.185547\" xlink:href=\"#DejaVuSans-101\"/>\n       <use x=\"251.708984\" xlink:href=\"#DejaVuSans-114\"/>\n       <use x=\"292.822266\" xlink:href=\"#DejaVuSans-97\"/>\n       <use x=\"354.101562\" xlink:href=\"#DejaVuSans-103\"/>\n       <use x=\"417.578125\" xlink:href=\"#DejaVuSans-101\"/>\n       <use x=\"479.101562\" xlink:href=\"#DejaVuSans-70\"/>\n       <use x=\"529.371094\" xlink:href=\"#DejaVuSans-105\"/>\n       <use x=\"557.154297\" xlink:href=\"#DejaVuSans-101\"/>\n       <use x=\"618.677734\" xlink:href=\"#DejaVuSans-108\"/>\n       <use x=\"646.460938\" xlink:href=\"#DejaVuSans-100\"/>\n       <use x=\"709.9375\" xlink:href=\"#DejaVuSans-52\"/>\n       <use x=\"773.560547\" xlink:href=\"#DejaVuSans-65\"/>\n      </g>\n     </g>\n    </g>\n    <g id=\"ytick_216\">\n     <g id=\"line2d_219\">\n      <g>\n       <use style=\"stroke:#000000;stroke-width:0.8;\" x=\"165.090625\" xlink:href=\"#m3b0424a600\" y=\"3387.495231\"/>\n      </g>\n     </g>\n     <g id=\"text_219\">\n      <!-- GeographicField31B -->\n      <g style=\"fill:#444443;\" transform=\"translate(57.85 3391.29445)scale(0.1 -0.1)\">\n       <use xlink:href=\"#DejaVuSans-71\"/>\n       <use x=\"77.490234\" xlink:href=\"#DejaVuSans-101\"/>\n       <use x=\"139.013672\" xlink:href=\"#DejaVuSans-111\"/>\n       <use x=\"200.195312\" xlink:href=\"#DejaVuSans-103\"/>\n       <use x=\"263.671875\" xlink:href=\"#DejaVuSans-114\"/>\n       <use x=\"304.785156\" xlink:href=\"#DejaVuSans-97\"/>\n       <use x=\"366.064453\" xlink:href=\"#DejaVuSans-112\"/>\n       <use x=\"429.541016\" xlink:href=\"#DejaVuSans-104\"/>\n       <use x=\"492.919922\" xlink:href=\"#DejaVuSans-105\"/>\n       <use x=\"520.703125\" xlink:href=\"#DejaVuSans-99\"/>\n       <use x=\"575.683594\" xlink:href=\"#DejaVuSans-70\"/>\n       <use x=\"625.953125\" xlink:href=\"#DejaVuSans-105\"/>\n       <use x=\"653.736328\" xlink:href=\"#DejaVuSans-101\"/>\n       <use x=\"715.259766\" xlink:href=\"#DejaVuSans-108\"/>\n       <use x=\"743.042969\" xlink:href=\"#DejaVuSans-100\"/>\n       <use x=\"806.519531\" xlink:href=\"#DejaVuSans-51\"/>\n       <use x=\"870.142578\" xlink:href=\"#DejaVuSans-49\"/>\n       <use x=\"933.765625\" xlink:href=\"#DejaVuSans-66\"/>\n      </g>\n     </g>\n    </g>\n    <g id=\"ytick_217\">\n     <g id=\"line2d_220\">\n      <g>\n       <use style=\"stroke:#000000;stroke-width:0.8;\" x=\"165.090625\" xlink:href=\"#m3b0424a600\" y=\"3403.211151\"/>\n      </g>\n     </g>\n     <g id=\"text_220\">\n      <!-- GeographicField32B -->\n      <g style=\"fill:#444443;\" transform=\"translate(57.85 3407.01037)scale(0.1 -0.1)\">\n       <use xlink:href=\"#DejaVuSans-71\"/>\n       <use x=\"77.490234\" xlink:href=\"#DejaVuSans-101\"/>\n       <use x=\"139.013672\" xlink:href=\"#DejaVuSans-111\"/>\n       <use x=\"200.195312\" xlink:href=\"#DejaVuSans-103\"/>\n       <use x=\"263.671875\" xlink:href=\"#DejaVuSans-114\"/>\n       <use x=\"304.785156\" xlink:href=\"#DejaVuSans-97\"/>\n       <use x=\"366.064453\" xlink:href=\"#DejaVuSans-112\"/>\n       <use x=\"429.541016\" xlink:href=\"#DejaVuSans-104\"/>\n       <use x=\"492.919922\" xlink:href=\"#DejaVuSans-105\"/>\n       <use x=\"520.703125\" xlink:href=\"#DejaVuSans-99\"/>\n       <use x=\"575.683594\" xlink:href=\"#DejaVuSans-70\"/>\n       <use x=\"625.953125\" xlink:href=\"#DejaVuSans-105\"/>\n       <use x=\"653.736328\" xlink:href=\"#DejaVuSans-101\"/>\n       <use x=\"715.259766\" xlink:href=\"#DejaVuSans-108\"/>\n       <use x=\"743.042969\" xlink:href=\"#DejaVuSans-100\"/>\n       <use x=\"806.519531\" xlink:href=\"#DejaVuSans-51\"/>\n       <use x=\"870.142578\" xlink:href=\"#DejaVuSans-50\"/>\n       <use x=\"933.765625\" xlink:href=\"#DejaVuSans-66\"/>\n      </g>\n     </g>\n    </g>\n    <g id=\"ytick_218\">\n     <g id=\"line2d_221\">\n      <g>\n       <use style=\"stroke:#000000;stroke-width:0.8;\" x=\"165.090625\" xlink:href=\"#m3b0424a600\" y=\"3418.927072\"/>\n      </g>\n     </g>\n     <g id=\"text_221\">\n      <!-- GeographicField38A -->\n      <g style=\"fill:#444443;\" transform=\"translate(57.870313 3422.726291)scale(0.1 -0.1)\">\n       <use xlink:href=\"#DejaVuSans-71\"/>\n       <use x=\"77.490234\" xlink:href=\"#DejaVuSans-101\"/>\n       <use x=\"139.013672\" xlink:href=\"#DejaVuSans-111\"/>\n       <use x=\"200.195312\" xlink:href=\"#DejaVuSans-103\"/>\n       <use x=\"263.671875\" xlink:href=\"#DejaVuSans-114\"/>\n       <use x=\"304.785156\" xlink:href=\"#DejaVuSans-97\"/>\n       <use x=\"366.064453\" xlink:href=\"#DejaVuSans-112\"/>\n       <use x=\"429.541016\" xlink:href=\"#DejaVuSans-104\"/>\n       <use x=\"492.919922\" xlink:href=\"#DejaVuSans-105\"/>\n       <use x=\"520.703125\" xlink:href=\"#DejaVuSans-99\"/>\n       <use x=\"575.683594\" xlink:href=\"#DejaVuSans-70\"/>\n       <use x=\"625.953125\" xlink:href=\"#DejaVuSans-105\"/>\n       <use x=\"653.736328\" xlink:href=\"#DejaVuSans-101\"/>\n       <use x=\"715.259766\" xlink:href=\"#DejaVuSans-108\"/>\n       <use x=\"743.042969\" xlink:href=\"#DejaVuSans-100\"/>\n       <use x=\"806.519531\" xlink:href=\"#DejaVuSans-51\"/>\n       <use x=\"870.142578\" xlink:href=\"#DejaVuSans-56\"/>\n       <use x=\"933.765625\" xlink:href=\"#DejaVuSans-65\"/>\n      </g>\n     </g>\n    </g>\n    <g id=\"ytick_219\">\n     <g id=\"line2d_222\">\n      <g>\n       <use style=\"stroke:#000000;stroke-width:0.8;\" x=\"165.090625\" xlink:href=\"#m3b0424a600\" y=\"3434.642992\"/>\n      </g>\n     </g>\n     <g id=\"text_222\">\n      <!-- GeographicField35B -->\n      <g style=\"fill:#444443;\" transform=\"translate(57.85 3438.442211)scale(0.1 -0.1)\">\n       <use xlink:href=\"#DejaVuSans-71\"/>\n       <use x=\"77.490234\" xlink:href=\"#DejaVuSans-101\"/>\n       <use x=\"139.013672\" xlink:href=\"#DejaVuSans-111\"/>\n       <use x=\"200.195312\" xlink:href=\"#DejaVuSans-103\"/>\n       <use x=\"263.671875\" xlink:href=\"#DejaVuSans-114\"/>\n       <use x=\"304.785156\" xlink:href=\"#DejaVuSans-97\"/>\n       <use x=\"366.064453\" xlink:href=\"#DejaVuSans-112\"/>\n       <use x=\"429.541016\" xlink:href=\"#DejaVuSans-104\"/>\n       <use x=\"492.919922\" xlink:href=\"#DejaVuSans-105\"/>\n       <use x=\"520.703125\" xlink:href=\"#DejaVuSans-99\"/>\n       <use x=\"575.683594\" xlink:href=\"#DejaVuSans-70\"/>\n       <use x=\"625.953125\" xlink:href=\"#DejaVuSans-105\"/>\n       <use x=\"653.736328\" xlink:href=\"#DejaVuSans-101\"/>\n       <use x=\"715.259766\" xlink:href=\"#DejaVuSans-108\"/>\n       <use x=\"743.042969\" xlink:href=\"#DejaVuSans-100\"/>\n       <use x=\"806.519531\" xlink:href=\"#DejaVuSans-51\"/>\n       <use x=\"870.142578\" xlink:href=\"#DejaVuSans-53\"/>\n       <use x=\"933.765625\" xlink:href=\"#DejaVuSans-66\"/>\n      </g>\n     </g>\n    </g>\n    <g id=\"ytick_220\">\n     <g id=\"line2d_223\">\n      <g>\n       <use style=\"stroke:#000000;stroke-width:0.8;\" x=\"165.090625\" xlink:href=\"#m3b0424a600\" y=\"3450.358913\"/>\n      </g>\n     </g>\n     <g id=\"text_223\">\n      <!-- PersonalField46 -->\n      <g style=\"fill:#444443;\" transform=\"translate(79.778125 3454.158132)scale(0.1 -0.1)\">\n       <use xlink:href=\"#DejaVuSans-80\"/>\n       <use x=\"56.677734\" xlink:href=\"#DejaVuSans-101\"/>\n       <use x=\"118.201172\" xlink:href=\"#DejaVuSans-114\"/>\n       <use x=\"159.314453\" xlink:href=\"#DejaVuSans-115\"/>\n       <use x=\"211.414062\" xlink:href=\"#DejaVuSans-111\"/>\n       <use x=\"272.595703\" xlink:href=\"#DejaVuSans-110\"/>\n       <use x=\"335.974609\" xlink:href=\"#DejaVuSans-97\"/>\n       <use x=\"397.253906\" xlink:href=\"#DejaVuSans-108\"/>\n       <use x=\"425.037109\" xlink:href=\"#DejaVuSans-70\"/>\n       <use x=\"475.306641\" xlink:href=\"#DejaVuSans-105\"/>\n       <use x=\"503.089844\" xlink:href=\"#DejaVuSans-101\"/>\n       <use x=\"564.613281\" xlink:href=\"#DejaVuSans-108\"/>\n       <use x=\"592.396484\" xlink:href=\"#DejaVuSans-100\"/>\n       <use x=\"655.873047\" xlink:href=\"#DejaVuSans-52\"/>\n       <use x=\"719.496094\" xlink:href=\"#DejaVuSans-54\"/>\n      </g>\n     </g>\n    </g>\n    <g id=\"ytick_221\">\n     <g id=\"line2d_224\">\n      <g>\n       <use style=\"stroke:#000000;stroke-width:0.8;\" x=\"165.090625\" xlink:href=\"#m3b0424a600\" y=\"3466.074833\"/>\n      </g>\n     </g>\n     <g id=\"text_224\">\n      <!-- GeographicField35A -->\n      <g style=\"fill:#444443;\" transform=\"translate(57.870313 3469.874052)scale(0.1 -0.1)\">\n       <use xlink:href=\"#DejaVuSans-71\"/>\n       <use x=\"77.490234\" xlink:href=\"#DejaVuSans-101\"/>\n       <use x=\"139.013672\" xlink:href=\"#DejaVuSans-111\"/>\n       <use x=\"200.195312\" xlink:href=\"#DejaVuSans-103\"/>\n       <use x=\"263.671875\" xlink:href=\"#DejaVuSans-114\"/>\n       <use x=\"304.785156\" xlink:href=\"#DejaVuSans-97\"/>\n       <use x=\"366.064453\" xlink:href=\"#DejaVuSans-112\"/>\n       <use x=\"429.541016\" xlink:href=\"#DejaVuSans-104\"/>\n       <use x=\"492.919922\" xlink:href=\"#DejaVuSans-105\"/>\n       <use x=\"520.703125\" xlink:href=\"#DejaVuSans-99\"/>\n       <use x=\"575.683594\" xlink:href=\"#DejaVuSans-70\"/>\n       <use x=\"625.953125\" xlink:href=\"#DejaVuSans-105\"/>\n       <use x=\"653.736328\" xlink:href=\"#DejaVuSans-101\"/>\n       <use x=\"715.259766\" xlink:href=\"#DejaVuSans-108\"/>\n       <use x=\"743.042969\" xlink:href=\"#DejaVuSans-100\"/>\n       <use x=\"806.519531\" xlink:href=\"#DejaVuSans-51\"/>\n       <use x=\"870.142578\" xlink:href=\"#DejaVuSans-53\"/>\n       <use x=\"933.765625\" xlink:href=\"#DejaVuSans-65\"/>\n      </g>\n     </g>\n    </g>\n    <g id=\"ytick_222\">\n     <g id=\"line2d_225\">\n      <g>\n       <use style=\"stroke:#000000;stroke-width:0.8;\" x=\"165.090625\" xlink:href=\"#m3b0424a600\" y=\"3481.790754\"/>\n      </g>\n     </g>\n     <g id=\"text_225\">\n      <!-- GeographicField34A -->\n      <g style=\"fill:#444443;\" transform=\"translate(57.870313 3485.589973)scale(0.1 -0.1)\">\n       <use xlink:href=\"#DejaVuSans-71\"/>\n       <use x=\"77.490234\" xlink:href=\"#DejaVuSans-101\"/>\n       <use x=\"139.013672\" xlink:href=\"#DejaVuSans-111\"/>\n       <use x=\"200.195312\" xlink:href=\"#DejaVuSans-103\"/>\n       <use x=\"263.671875\" xlink:href=\"#DejaVuSans-114\"/>\n       <use x=\"304.785156\" xlink:href=\"#DejaVuSans-97\"/>\n       <use x=\"366.064453\" xlink:href=\"#DejaVuSans-112\"/>\n       <use x=\"429.541016\" xlink:href=\"#DejaVuSans-104\"/>\n       <use x=\"492.919922\" xlink:href=\"#DejaVuSans-105\"/>\n       <use x=\"520.703125\" xlink:href=\"#DejaVuSans-99\"/>\n       <use x=\"575.683594\" xlink:href=\"#DejaVuSans-70\"/>\n       <use x=\"625.953125\" xlink:href=\"#DejaVuSans-105\"/>\n       <use x=\"653.736328\" xlink:href=\"#DejaVuSans-101\"/>\n       <use x=\"715.259766\" xlink:href=\"#DejaVuSans-108\"/>\n       <use x=\"743.042969\" xlink:href=\"#DejaVuSans-100\"/>\n       <use x=\"806.519531\" xlink:href=\"#DejaVuSans-51\"/>\n       <use x=\"870.142578\" xlink:href=\"#DejaVuSans-52\"/>\n       <use x=\"933.765625\" xlink:href=\"#DejaVuSans-65\"/>\n      </g>\n     </g>\n    </g>\n    <g id=\"ytick_223\">\n     <g id=\"line2d_226\">\n      <g>\n       <use style=\"stroke:#000000;stroke-width:0.8;\" x=\"165.090625\" xlink:href=\"#m3b0424a600\" y=\"3497.506674\"/>\n      </g>\n     </g>\n     <g id=\"text_226\">\n      <!-- GeographicField36B -->\n      <g style=\"fill:#444443;\" transform=\"translate(57.85 3501.305893)scale(0.1 -0.1)\">\n       <use xlink:href=\"#DejaVuSans-71\"/>\n       <use x=\"77.490234\" xlink:href=\"#DejaVuSans-101\"/>\n       <use x=\"139.013672\" xlink:href=\"#DejaVuSans-111\"/>\n       <use x=\"200.195312\" xlink:href=\"#DejaVuSans-103\"/>\n       <use x=\"263.671875\" xlink:href=\"#DejaVuSans-114\"/>\n       <use x=\"304.785156\" xlink:href=\"#DejaVuSans-97\"/>\n       <use x=\"366.064453\" xlink:href=\"#DejaVuSans-112\"/>\n       <use x=\"429.541016\" xlink:href=\"#DejaVuSans-104\"/>\n       <use x=\"492.919922\" xlink:href=\"#DejaVuSans-105\"/>\n       <use x=\"520.703125\" xlink:href=\"#DejaVuSans-99\"/>\n       <use x=\"575.683594\" xlink:href=\"#DejaVuSans-70\"/>\n       <use x=\"625.953125\" xlink:href=\"#DejaVuSans-105\"/>\n       <use x=\"653.736328\" xlink:href=\"#DejaVuSans-101\"/>\n       <use x=\"715.259766\" xlink:href=\"#DejaVuSans-108\"/>\n       <use x=\"743.042969\" xlink:href=\"#DejaVuSans-100\"/>\n       <use x=\"806.519531\" xlink:href=\"#DejaVuSans-51\"/>\n       <use x=\"870.142578\" xlink:href=\"#DejaVuSans-54\"/>\n       <use x=\"933.765625\" xlink:href=\"#DejaVuSans-66\"/>\n      </g>\n     </g>\n    </g>\n    <g id=\"ytick_224\">\n     <g id=\"line2d_227\">\n      <g>\n       <use style=\"stroke:#000000;stroke-width:0.8;\" x=\"165.090625\" xlink:href=\"#m3b0424a600\" y=\"3513.222595\"/>\n      </g>\n     </g>\n     <g id=\"text_227\">\n      <!-- GeographicField34B -->\n      <g style=\"fill:#444443;\" transform=\"translate(57.85 3517.021814)scale(0.1 -0.1)\">\n       <use xlink:href=\"#DejaVuSans-71\"/>\n       <use x=\"77.490234\" xlink:href=\"#DejaVuSans-101\"/>\n       <use x=\"139.013672\" xlink:href=\"#DejaVuSans-111\"/>\n       <use x=\"200.195312\" xlink:href=\"#DejaVuSans-103\"/>\n       <use x=\"263.671875\" xlink:href=\"#DejaVuSans-114\"/>\n       <use x=\"304.785156\" xlink:href=\"#DejaVuSans-97\"/>\n       <use x=\"366.064453\" xlink:href=\"#DejaVuSans-112\"/>\n       <use x=\"429.541016\" xlink:href=\"#DejaVuSans-104\"/>\n       <use x=\"492.919922\" xlink:href=\"#DejaVuSans-105\"/>\n       <use x=\"520.703125\" xlink:href=\"#DejaVuSans-99\"/>\n       <use x=\"575.683594\" xlink:href=\"#DejaVuSans-70\"/>\n       <use x=\"625.953125\" xlink:href=\"#DejaVuSans-105\"/>\n       <use x=\"653.736328\" xlink:href=\"#DejaVuSans-101\"/>\n       <use x=\"715.259766\" xlink:href=\"#DejaVuSans-108\"/>\n       <use x=\"743.042969\" xlink:href=\"#DejaVuSans-100\"/>\n       <use x=\"806.519531\" xlink:href=\"#DejaVuSans-51\"/>\n       <use x=\"870.142578\" xlink:href=\"#DejaVuSans-52\"/>\n       <use x=\"933.765625\" xlink:href=\"#DejaVuSans-66\"/>\n      </g>\n     </g>\n    </g>\n    <g id=\"ytick_225\">\n     <g id=\"line2d_228\">\n      <g>\n       <use style=\"stroke:#000000;stroke-width:0.8;\" x=\"165.090625\" xlink:href=\"#m3b0424a600\" y=\"3528.938515\"/>\n      </g>\n     </g>\n     <g id=\"text_228\">\n      <!-- GeographicField28B -->\n      <g style=\"fill:#444443;\" transform=\"translate(57.85 3532.737734)scale(0.1 -0.1)\">\n       <use xlink:href=\"#DejaVuSans-71\"/>\n       <use x=\"77.490234\" xlink:href=\"#DejaVuSans-101\"/>\n       <use x=\"139.013672\" xlink:href=\"#DejaVuSans-111\"/>\n       <use x=\"200.195312\" xlink:href=\"#DejaVuSans-103\"/>\n       <use x=\"263.671875\" xlink:href=\"#DejaVuSans-114\"/>\n       <use x=\"304.785156\" xlink:href=\"#DejaVuSans-97\"/>\n       <use x=\"366.064453\" xlink:href=\"#DejaVuSans-112\"/>\n       <use x=\"429.541016\" xlink:href=\"#DejaVuSans-104\"/>\n       <use x=\"492.919922\" xlink:href=\"#DejaVuSans-105\"/>\n       <use x=\"520.703125\" xlink:href=\"#DejaVuSans-99\"/>\n       <use x=\"575.683594\" xlink:href=\"#DejaVuSans-70\"/>\n       <use x=\"625.953125\" xlink:href=\"#DejaVuSans-105\"/>\n       <use x=\"653.736328\" xlink:href=\"#DejaVuSans-101\"/>\n       <use x=\"715.259766\" xlink:href=\"#DejaVuSans-108\"/>\n       <use x=\"743.042969\" xlink:href=\"#DejaVuSans-100\"/>\n       <use x=\"806.519531\" xlink:href=\"#DejaVuSans-50\"/>\n       <use x=\"870.142578\" xlink:href=\"#DejaVuSans-56\"/>\n       <use x=\"933.765625\" xlink:href=\"#DejaVuSans-66\"/>\n      </g>\n     </g>\n    </g>\n    <g id=\"ytick_226\">\n     <g id=\"line2d_229\">\n      <g>\n       <use style=\"stroke:#000000;stroke-width:0.8;\" x=\"165.090625\" xlink:href=\"#m3b0424a600\" y=\"3544.654436\"/>\n      </g>\n     </g>\n     <g id=\"text_229\">\n      <!-- GeographicField43A -->\n      <g style=\"fill:#444443;\" transform=\"translate(57.870313 3548.453655)scale(0.1 -0.1)\">\n       <use xlink:href=\"#DejaVuSans-71\"/>\n       <use x=\"77.490234\" xlink:href=\"#DejaVuSans-101\"/>\n       <use x=\"139.013672\" xlink:href=\"#DejaVuSans-111\"/>\n       <use x=\"200.195312\" xlink:href=\"#DejaVuSans-103\"/>\n       <use x=\"263.671875\" xlink:href=\"#DejaVuSans-114\"/>\n       <use x=\"304.785156\" xlink:href=\"#DejaVuSans-97\"/>\n       <use x=\"366.064453\" xlink:href=\"#DejaVuSans-112\"/>\n       <use x=\"429.541016\" xlink:href=\"#DejaVuSans-104\"/>\n       <use x=\"492.919922\" xlink:href=\"#DejaVuSans-105\"/>\n       <use x=\"520.703125\" xlink:href=\"#DejaVuSans-99\"/>\n       <use x=\"575.683594\" xlink:href=\"#DejaVuSans-70\"/>\n       <use x=\"625.953125\" xlink:href=\"#DejaVuSans-105\"/>\n       <use x=\"653.736328\" xlink:href=\"#DejaVuSans-101\"/>\n       <use x=\"715.259766\" xlink:href=\"#DejaVuSans-108\"/>\n       <use x=\"743.042969\" xlink:href=\"#DejaVuSans-100\"/>\n       <use x=\"806.519531\" xlink:href=\"#DejaVuSans-52\"/>\n       <use x=\"870.142578\" xlink:href=\"#DejaVuSans-51\"/>\n       <use x=\"933.765625\" xlink:href=\"#DejaVuSans-65\"/>\n      </g>\n     </g>\n    </g>\n    <g id=\"ytick_227\">\n     <g id=\"line2d_230\">\n      <g>\n       <use style=\"stroke:#000000;stroke-width:0.8;\" x=\"165.090625\" xlink:href=\"#m3b0424a600\" y=\"3560.370357\"/>\n      </g>\n     </g>\n     <g id=\"text_230\">\n      <!-- GeographicField25A -->\n      <g style=\"fill:#444443;\" transform=\"translate(57.870313 3564.169575)scale(0.1 -0.1)\">\n       <use xlink:href=\"#DejaVuSans-71\"/>\n       <use x=\"77.490234\" xlink:href=\"#DejaVuSans-101\"/>\n       <use x=\"139.013672\" xlink:href=\"#DejaVuSans-111\"/>\n       <use x=\"200.195312\" xlink:href=\"#DejaVuSans-103\"/>\n       <use x=\"263.671875\" xlink:href=\"#DejaVuSans-114\"/>\n       <use x=\"304.785156\" xlink:href=\"#DejaVuSans-97\"/>\n       <use x=\"366.064453\" xlink:href=\"#DejaVuSans-112\"/>\n       <use x=\"429.541016\" xlink:href=\"#DejaVuSans-104\"/>\n       <use x=\"492.919922\" xlink:href=\"#DejaVuSans-105\"/>\n       <use x=\"520.703125\" xlink:href=\"#DejaVuSans-99\"/>\n       <use x=\"575.683594\" xlink:href=\"#DejaVuSans-70\"/>\n       <use x=\"625.953125\" xlink:href=\"#DejaVuSans-105\"/>\n       <use x=\"653.736328\" xlink:href=\"#DejaVuSans-101\"/>\n       <use x=\"715.259766\" xlink:href=\"#DejaVuSans-108\"/>\n       <use x=\"743.042969\" xlink:href=\"#DejaVuSans-100\"/>\n       <use x=\"806.519531\" xlink:href=\"#DejaVuSans-50\"/>\n       <use x=\"870.142578\" xlink:href=\"#DejaVuSans-53\"/>\n       <use x=\"933.765625\" xlink:href=\"#DejaVuSans-65\"/>\n      </g>\n     </g>\n    </g>\n    <g id=\"ytick_228\">\n     <g id=\"line2d_231\">\n      <g>\n       <use style=\"stroke:#000000;stroke-width:0.8;\" x=\"165.090625\" xlink:href=\"#m3b0424a600\" y=\"3576.086277\"/>\n      </g>\n     </g>\n     <g id=\"text_231\">\n      <!-- GeographicField38B -->\n      <g style=\"fill:#444443;\" transform=\"translate(57.85 3579.885496)scale(0.1 -0.1)\">\n       <use xlink:href=\"#DejaVuSans-71\"/>\n       <use x=\"77.490234\" xlink:href=\"#DejaVuSans-101\"/>\n       <use x=\"139.013672\" xlink:href=\"#DejaVuSans-111\"/>\n       <use x=\"200.195312\" xlink:href=\"#DejaVuSans-103\"/>\n       <use x=\"263.671875\" xlink:href=\"#DejaVuSans-114\"/>\n       <use x=\"304.785156\" xlink:href=\"#DejaVuSans-97\"/>\n       <use x=\"366.064453\" xlink:href=\"#DejaVuSans-112\"/>\n       <use x=\"429.541016\" xlink:href=\"#DejaVuSans-104\"/>\n       <use x=\"492.919922\" xlink:href=\"#DejaVuSans-105\"/>\n       <use x=\"520.703125\" xlink:href=\"#DejaVuSans-99\"/>\n       <use x=\"575.683594\" xlink:href=\"#DejaVuSans-70\"/>\n       <use x=\"625.953125\" xlink:href=\"#DejaVuSans-105\"/>\n       <use x=\"653.736328\" xlink:href=\"#DejaVuSans-101\"/>\n       <use x=\"715.259766\" xlink:href=\"#DejaVuSans-108\"/>\n       <use x=\"743.042969\" xlink:href=\"#DejaVuSans-100\"/>\n       <use x=\"806.519531\" xlink:href=\"#DejaVuSans-51\"/>\n       <use x=\"870.142578\" xlink:href=\"#DejaVuSans-56\"/>\n       <use x=\"933.765625\" xlink:href=\"#DejaVuSans-66\"/>\n      </g>\n     </g>\n    </g>\n    <g id=\"ytick_229\">\n     <g id=\"line2d_232\">\n      <g>\n       <use style=\"stroke:#000000;stroke-width:0.8;\" x=\"165.090625\" xlink:href=\"#m3b0424a600\" y=\"3591.802198\"/>\n      </g>\n     </g>\n     <g id=\"text_232\">\n      <!-- PersonalField81 -->\n      <g style=\"fill:#444443;\" transform=\"translate(79.778125 3595.601416)scale(0.1 -0.1)\">\n       <use xlink:href=\"#DejaVuSans-80\"/>\n       <use x=\"56.677734\" xlink:href=\"#DejaVuSans-101\"/>\n       <use x=\"118.201172\" xlink:href=\"#DejaVuSans-114\"/>\n       <use x=\"159.314453\" xlink:href=\"#DejaVuSans-115\"/>\n       <use x=\"211.414062\" xlink:href=\"#DejaVuSans-111\"/>\n       <use x=\"272.595703\" xlink:href=\"#DejaVuSans-110\"/>\n       <use x=\"335.974609\" xlink:href=\"#DejaVuSans-97\"/>\n       <use x=\"397.253906\" xlink:href=\"#DejaVuSans-108\"/>\n       <use x=\"425.037109\" xlink:href=\"#DejaVuSans-70\"/>\n       <use x=\"475.306641\" xlink:href=\"#DejaVuSans-105\"/>\n       <use x=\"503.089844\" xlink:href=\"#DejaVuSans-101\"/>\n       <use x=\"564.613281\" xlink:href=\"#DejaVuSans-108\"/>\n       <use x=\"592.396484\" xlink:href=\"#DejaVuSans-100\"/>\n       <use x=\"655.873047\" xlink:href=\"#DejaVuSans-56\"/>\n       <use x=\"719.496094\" xlink:href=\"#DejaVuSans-49\"/>\n      </g>\n     </g>\n    </g>\n    <g id=\"ytick_230\">\n     <g id=\"line2d_233\">\n      <g>\n       <use style=\"stroke:#000000;stroke-width:0.8;\" x=\"165.090625\" xlink:href=\"#m3b0424a600\" y=\"3607.518118\"/>\n      </g>\n     </g>\n     <g id=\"text_233\">\n      <!-- GeographicField41A -->\n      <g style=\"fill:#444443;\" transform=\"translate(57.870313 3611.317337)scale(0.1 -0.1)\">\n       <use xlink:href=\"#DejaVuSans-71\"/>\n       <use x=\"77.490234\" xlink:href=\"#DejaVuSans-101\"/>\n       <use x=\"139.013672\" xlink:href=\"#DejaVuSans-111\"/>\n       <use x=\"200.195312\" xlink:href=\"#DejaVuSans-103\"/>\n       <use x=\"263.671875\" xlink:href=\"#DejaVuSans-114\"/>\n       <use x=\"304.785156\" xlink:href=\"#DejaVuSans-97\"/>\n       <use x=\"366.064453\" xlink:href=\"#DejaVuSans-112\"/>\n       <use x=\"429.541016\" xlink:href=\"#DejaVuSans-104\"/>\n       <use x=\"492.919922\" xlink:href=\"#DejaVuSans-105\"/>\n       <use x=\"520.703125\" xlink:href=\"#DejaVuSans-99\"/>\n       <use x=\"575.683594\" xlink:href=\"#DejaVuSans-70\"/>\n       <use x=\"625.953125\" xlink:href=\"#DejaVuSans-105\"/>\n       <use x=\"653.736328\" xlink:href=\"#DejaVuSans-101\"/>\n       <use x=\"715.259766\" xlink:href=\"#DejaVuSans-108\"/>\n       <use x=\"743.042969\" xlink:href=\"#DejaVuSans-100\"/>\n       <use x=\"806.519531\" xlink:href=\"#DejaVuSans-52\"/>\n       <use x=\"870.142578\" xlink:href=\"#DejaVuSans-49\"/>\n       <use x=\"933.765625\" xlink:href=\"#DejaVuSans-65\"/>\n      </g>\n     </g>\n    </g>\n    <g id=\"ytick_231\">\n     <g id=\"line2d_234\">\n      <g>\n       <use style=\"stroke:#000000;stroke-width:0.8;\" x=\"165.090625\" xlink:href=\"#m3b0424a600\" y=\"3623.234039\"/>\n      </g>\n     </g>\n     <g id=\"text_234\">\n      <!-- SalesField15 -->\n      <g style=\"fill:#444443;\" transform=\"translate(95.664063 3627.033257)scale(0.1 -0.1)\">\n       <use xlink:href=\"#DejaVuSans-83\"/>\n       <use x=\"63.476562\" xlink:href=\"#DejaVuSans-97\"/>\n       <use x=\"124.755859\" xlink:href=\"#DejaVuSans-108\"/>\n       <use x=\"152.539062\" xlink:href=\"#DejaVuSans-101\"/>\n       <use x=\"214.0625\" xlink:href=\"#DejaVuSans-115\"/>\n       <use x=\"266.162109\" xlink:href=\"#DejaVuSans-70\"/>\n       <use x=\"316.431641\" xlink:href=\"#DejaVuSans-105\"/>\n       <use x=\"344.214844\" xlink:href=\"#DejaVuSans-101\"/>\n       <use x=\"405.738281\" xlink:href=\"#DejaVuSans-108\"/>\n       <use x=\"433.521484\" xlink:href=\"#DejaVuSans-100\"/>\n       <use x=\"496.998047\" xlink:href=\"#DejaVuSans-49\"/>\n       <use x=\"560.621094\" xlink:href=\"#DejaVuSans-53\"/>\n      </g>\n     </g>\n    </g>\n    <g id=\"ytick_232\">\n     <g id=\"line2d_235\">\n      <g>\n       <use style=\"stroke:#000000;stroke-width:0.8;\" x=\"165.090625\" xlink:href=\"#m3b0424a600\" y=\"3638.949959\"/>\n      </g>\n     </g>\n     <g id=\"text_235\">\n      <!-- GeographicField33A -->\n      <g style=\"fill:#444443;\" transform=\"translate(57.870313 3642.749178)scale(0.1 -0.1)\">\n       <use xlink:href=\"#DejaVuSans-71\"/>\n       <use x=\"77.490234\" xlink:href=\"#DejaVuSans-101\"/>\n       <use x=\"139.013672\" xlink:href=\"#DejaVuSans-111\"/>\n       <use x=\"200.195312\" xlink:href=\"#DejaVuSans-103\"/>\n       <use x=\"263.671875\" xlink:href=\"#DejaVuSans-114\"/>\n       <use x=\"304.785156\" xlink:href=\"#DejaVuSans-97\"/>\n       <use x=\"366.064453\" xlink:href=\"#DejaVuSans-112\"/>\n       <use x=\"429.541016\" xlink:href=\"#DejaVuSans-104\"/>\n       <use x=\"492.919922\" xlink:href=\"#DejaVuSans-105\"/>\n       <use x=\"520.703125\" xlink:href=\"#DejaVuSans-99\"/>\n       <use x=\"575.683594\" xlink:href=\"#DejaVuSans-70\"/>\n       <use x=\"625.953125\" xlink:href=\"#DejaVuSans-105\"/>\n       <use x=\"653.736328\" xlink:href=\"#DejaVuSans-101\"/>\n       <use x=\"715.259766\" xlink:href=\"#DejaVuSans-108\"/>\n       <use x=\"743.042969\" xlink:href=\"#DejaVuSans-100\"/>\n       <use x=\"806.519531\" xlink:href=\"#DejaVuSans-51\"/>\n       <use x=\"870.142578\" xlink:href=\"#DejaVuSans-51\"/>\n       <use x=\"933.765625\" xlink:href=\"#DejaVuSans-65\"/>\n      </g>\n     </g>\n    </g>\n    <g id=\"ytick_233\">\n     <g id=\"line2d_236\">\n      <g>\n       <use style=\"stroke:#000000;stroke-width:0.8;\" x=\"165.090625\" xlink:href=\"#m3b0424a600\" y=\"3654.66588\"/>\n      </g>\n     </g>\n     <g id=\"text_236\">\n      <!-- GeographicField47B -->\n      <g style=\"fill:#444443;\" transform=\"translate(57.85 3658.465098)scale(0.1 -0.1)\">\n       <use xlink:href=\"#DejaVuSans-71\"/>\n       <use x=\"77.490234\" xlink:href=\"#DejaVuSans-101\"/>\n       <use x=\"139.013672\" xlink:href=\"#DejaVuSans-111\"/>\n       <use x=\"200.195312\" xlink:href=\"#DejaVuSans-103\"/>\n       <use x=\"263.671875\" xlink:href=\"#DejaVuSans-114\"/>\n       <use x=\"304.785156\" xlink:href=\"#DejaVuSans-97\"/>\n       <use x=\"366.064453\" xlink:href=\"#DejaVuSans-112\"/>\n       <use x=\"429.541016\" xlink:href=\"#DejaVuSans-104\"/>\n       <use x=\"492.919922\" xlink:href=\"#DejaVuSans-105\"/>\n       <use x=\"520.703125\" xlink:href=\"#DejaVuSans-99\"/>\n       <use x=\"575.683594\" xlink:href=\"#DejaVuSans-70\"/>\n       <use x=\"625.953125\" xlink:href=\"#DejaVuSans-105\"/>\n       <use x=\"653.736328\" xlink:href=\"#DejaVuSans-101\"/>\n       <use x=\"715.259766\" xlink:href=\"#DejaVuSans-108\"/>\n       <use x=\"743.042969\" xlink:href=\"#DejaVuSans-100\"/>\n       <use x=\"806.519531\" xlink:href=\"#DejaVuSans-52\"/>\n       <use x=\"870.142578\" xlink:href=\"#DejaVuSans-55\"/>\n       <use x=\"933.765625\" xlink:href=\"#DejaVuSans-66\"/>\n      </g>\n     </g>\n    </g>\n    <g id=\"ytick_234\">\n     <g id=\"line2d_237\">\n      <g>\n       <use style=\"stroke:#000000;stroke-width:0.8;\" x=\"165.090625\" xlink:href=\"#m3b0424a600\" y=\"3670.3818\"/>\n      </g>\n     </g>\n     <g id=\"text_237\">\n      <!-- PersonalField23 -->\n      <g style=\"fill:#444443;\" transform=\"translate(79.778125 3674.181019)scale(0.1 -0.1)\">\n       <use xlink:href=\"#DejaVuSans-80\"/>\n       <use x=\"56.677734\" xlink:href=\"#DejaVuSans-101\"/>\n       <use x=\"118.201172\" xlink:href=\"#DejaVuSans-114\"/>\n       <use x=\"159.314453\" xlink:href=\"#DejaVuSans-115\"/>\n       <use x=\"211.414062\" xlink:href=\"#DejaVuSans-111\"/>\n       <use x=\"272.595703\" xlink:href=\"#DejaVuSans-110\"/>\n       <use x=\"335.974609\" xlink:href=\"#DejaVuSans-97\"/>\n       <use x=\"397.253906\" xlink:href=\"#DejaVuSans-108\"/>\n       <use x=\"425.037109\" xlink:href=\"#DejaVuSans-70\"/>\n       <use x=\"475.306641\" xlink:href=\"#DejaVuSans-105\"/>\n       <use x=\"503.089844\" xlink:href=\"#DejaVuSans-101\"/>\n       <use x=\"564.613281\" xlink:href=\"#DejaVuSans-108\"/>\n       <use x=\"592.396484\" xlink:href=\"#DejaVuSans-100\"/>\n       <use x=\"655.873047\" xlink:href=\"#DejaVuSans-50\"/>\n       <use x=\"719.496094\" xlink:href=\"#DejaVuSans-51\"/>\n      </g>\n     </g>\n    </g>\n    <g id=\"ytick_235\">\n     <g id=\"line2d_238\">\n      <g>\n       <use style=\"stroke:#000000;stroke-width:0.8;\" x=\"165.090625\" xlink:href=\"#m3b0424a600\" y=\"3686.097721\"/>\n      </g>\n     </g>\n     <g id=\"text_238\">\n      <!-- GeographicField59B -->\n      <g style=\"fill:#444443;\" transform=\"translate(57.85 3689.896939)scale(0.1 -0.1)\">\n       <use xlink:href=\"#DejaVuSans-71\"/>\n       <use x=\"77.490234\" xlink:href=\"#DejaVuSans-101\"/>\n       <use x=\"139.013672\" xlink:href=\"#DejaVuSans-111\"/>\n       <use x=\"200.195312\" xlink:href=\"#DejaVuSans-103\"/>\n       <use x=\"263.671875\" xlink:href=\"#DejaVuSans-114\"/>\n       <use x=\"304.785156\" xlink:href=\"#DejaVuSans-97\"/>\n       <use x=\"366.064453\" xlink:href=\"#DejaVuSans-112\"/>\n       <use x=\"429.541016\" xlink:href=\"#DejaVuSans-104\"/>\n       <use x=\"492.919922\" xlink:href=\"#DejaVuSans-105\"/>\n       <use x=\"520.703125\" xlink:href=\"#DejaVuSans-99\"/>\n       <use x=\"575.683594\" xlink:href=\"#DejaVuSans-70\"/>\n       <use x=\"625.953125\" xlink:href=\"#DejaVuSans-105\"/>\n       <use x=\"653.736328\" xlink:href=\"#DejaVuSans-101\"/>\n       <use x=\"715.259766\" xlink:href=\"#DejaVuSans-108\"/>\n       <use x=\"743.042969\" xlink:href=\"#DejaVuSans-100\"/>\n       <use x=\"806.519531\" xlink:href=\"#DejaVuSans-53\"/>\n       <use x=\"870.142578\" xlink:href=\"#DejaVuSans-57\"/>\n       <use x=\"933.765625\" xlink:href=\"#DejaVuSans-66\"/>\n      </g>\n     </g>\n    </g>\n    <g id=\"ytick_236\">\n     <g id=\"line2d_239\">\n      <g>\n       <use style=\"stroke:#000000;stroke-width:0.8;\" x=\"165.090625\" xlink:href=\"#m3b0424a600\" y=\"3701.813641\"/>\n      </g>\n     </g>\n     <g id=\"text_239\">\n      <!-- PersonalField14 -->\n      <g style=\"fill:#444443;\" transform=\"translate(79.778125 3705.61286)scale(0.1 -0.1)\">\n       <use xlink:href=\"#DejaVuSans-80\"/>\n       <use x=\"56.677734\" xlink:href=\"#DejaVuSans-101\"/>\n       <use x=\"118.201172\" xlink:href=\"#DejaVuSans-114\"/>\n       <use x=\"159.314453\" xlink:href=\"#DejaVuSans-115\"/>\n       <use x=\"211.414062\" xlink:href=\"#DejaVuSans-111\"/>\n       <use x=\"272.595703\" xlink:href=\"#DejaVuSans-110\"/>\n       <use x=\"335.974609\" xlink:href=\"#DejaVuSans-97\"/>\n       <use x=\"397.253906\" xlink:href=\"#DejaVuSans-108\"/>\n       <use x=\"425.037109\" xlink:href=\"#DejaVuSans-70\"/>\n       <use x=\"475.306641\" xlink:href=\"#DejaVuSans-105\"/>\n       <use x=\"503.089844\" xlink:href=\"#DejaVuSans-101\"/>\n       <use x=\"564.613281\" xlink:href=\"#DejaVuSans-108\"/>\n       <use x=\"592.396484\" xlink:href=\"#DejaVuSans-100\"/>\n       <use x=\"655.873047\" xlink:href=\"#DejaVuSans-49\"/>\n       <use x=\"719.496094\" xlink:href=\"#DejaVuSans-52\"/>\n      </g>\n     </g>\n    </g>\n    <g id=\"ytick_237\">\n     <g id=\"line2d_240\">\n      <g>\n       <use style=\"stroke:#000000;stroke-width:0.8;\" x=\"165.090625\" xlink:href=\"#m3b0424a600\" y=\"3717.529562\"/>\n      </g>\n     </g>\n     <g id=\"text_240\">\n      <!-- PersonalField45 -->\n      <g style=\"fill:#444443;\" transform=\"translate(79.778125 3721.32878)scale(0.1 -0.1)\">\n       <use xlink:href=\"#DejaVuSans-80\"/>\n       <use x=\"56.677734\" xlink:href=\"#DejaVuSans-101\"/>\n       <use x=\"118.201172\" xlink:href=\"#DejaVuSans-114\"/>\n       <use x=\"159.314453\" xlink:href=\"#DejaVuSans-115\"/>\n       <use x=\"211.414062\" xlink:href=\"#DejaVuSans-111\"/>\n       <use x=\"272.595703\" xlink:href=\"#DejaVuSans-110\"/>\n       <use x=\"335.974609\" xlink:href=\"#DejaVuSans-97\"/>\n       <use x=\"397.253906\" xlink:href=\"#DejaVuSans-108\"/>\n       <use x=\"425.037109\" xlink:href=\"#DejaVuSans-70\"/>\n       <use x=\"475.306641\" xlink:href=\"#DejaVuSans-105\"/>\n       <use x=\"503.089844\" xlink:href=\"#DejaVuSans-101\"/>\n       <use x=\"564.613281\" xlink:href=\"#DejaVuSans-108\"/>\n       <use x=\"592.396484\" xlink:href=\"#DejaVuSans-100\"/>\n       <use x=\"655.873047\" xlink:href=\"#DejaVuSans-52\"/>\n       <use x=\"719.496094\" xlink:href=\"#DejaVuSans-53\"/>\n      </g>\n     </g>\n    </g>\n    <g id=\"ytick_238\">\n     <g id=\"line2d_241\">\n      <g>\n       <use style=\"stroke:#000000;stroke-width:0.8;\" x=\"165.090625\" xlink:href=\"#m3b0424a600\" y=\"3733.245482\"/>\n      </g>\n     </g>\n     <g id=\"text_241\">\n      <!-- PersonalField48 -->\n      <g style=\"fill:#444443;\" transform=\"translate(79.778125 3737.044701)scale(0.1 -0.1)\">\n       <use xlink:href=\"#DejaVuSans-80\"/>\n       <use x=\"56.677734\" xlink:href=\"#DejaVuSans-101\"/>\n       <use x=\"118.201172\" xlink:href=\"#DejaVuSans-114\"/>\n       <use x=\"159.314453\" xlink:href=\"#DejaVuSans-115\"/>\n       <use x=\"211.414062\" xlink:href=\"#DejaVuSans-111\"/>\n       <use x=\"272.595703\" xlink:href=\"#DejaVuSans-110\"/>\n       <use x=\"335.974609\" xlink:href=\"#DejaVuSans-97\"/>\n       <use x=\"397.253906\" xlink:href=\"#DejaVuSans-108\"/>\n       <use x=\"425.037109\" xlink:href=\"#DejaVuSans-70\"/>\n       <use x=\"475.306641\" xlink:href=\"#DejaVuSans-105\"/>\n       <use x=\"503.089844\" xlink:href=\"#DejaVuSans-101\"/>\n       <use x=\"564.613281\" xlink:href=\"#DejaVuSans-108\"/>\n       <use x=\"592.396484\" xlink:href=\"#DejaVuSans-100\"/>\n       <use x=\"655.873047\" xlink:href=\"#DejaVuSans-52\"/>\n       <use x=\"719.496094\" xlink:href=\"#DejaVuSans-56\"/>\n      </g>\n     </g>\n    </g>\n    <g id=\"ytick_239\">\n     <g id=\"line2d_242\">\n      <g>\n       <use style=\"stroke:#000000;stroke-width:0.8;\" x=\"165.090625\" xlink:href=\"#m3b0424a600\" y=\"3748.961403\"/>\n      </g>\n     </g>\n     <g id=\"text_242\">\n      <!-- PersonalField74 -->\n      <g style=\"fill:#444443;\" transform=\"translate(79.778125 3752.760621)scale(0.1 -0.1)\">\n       <use xlink:href=\"#DejaVuSans-80\"/>\n       <use x=\"56.677734\" xlink:href=\"#DejaVuSans-101\"/>\n       <use x=\"118.201172\" xlink:href=\"#DejaVuSans-114\"/>\n       <use x=\"159.314453\" xlink:href=\"#DejaVuSans-115\"/>\n       <use x=\"211.414062\" xlink:href=\"#DejaVuSans-111\"/>\n       <use x=\"272.595703\" xlink:href=\"#DejaVuSans-110\"/>\n       <use x=\"335.974609\" xlink:href=\"#DejaVuSans-97\"/>\n       <use x=\"397.253906\" xlink:href=\"#DejaVuSans-108\"/>\n       <use x=\"425.037109\" xlink:href=\"#DejaVuSans-70\"/>\n       <use x=\"475.306641\" xlink:href=\"#DejaVuSans-105\"/>\n       <use x=\"503.089844\" xlink:href=\"#DejaVuSans-101\"/>\n       <use x=\"564.613281\" xlink:href=\"#DejaVuSans-108\"/>\n       <use x=\"592.396484\" xlink:href=\"#DejaVuSans-100\"/>\n       <use x=\"655.873047\" xlink:href=\"#DejaVuSans-55\"/>\n       <use x=\"719.496094\" xlink:href=\"#DejaVuSans-52\"/>\n      </g>\n     </g>\n    </g>\n    <g id=\"ytick_240\">\n     <g id=\"line2d_243\">\n      <g>\n       <use style=\"stroke:#000000;stroke-width:0.8;\" x=\"165.090625\" xlink:href=\"#m3b0424a600\" y=\"3764.677323\"/>\n      </g>\n     </g>\n     <g id=\"text_243\">\n      <!-- PropertyField32 -->\n      <g style=\"fill:#444443;\" transform=\"translate(79.970313 3768.476542)scale(0.1 -0.1)\">\n       <use xlink:href=\"#DejaVuSans-80\"/>\n       <use x=\"58.552734\" xlink:href=\"#DejaVuSans-114\"/>\n       <use x=\"97.416016\" xlink:href=\"#DejaVuSans-111\"/>\n       <use x=\"158.597656\" xlink:href=\"#DejaVuSans-112\"/>\n       <use x=\"222.074219\" xlink:href=\"#DejaVuSans-101\"/>\n       <use x=\"283.597656\" xlink:href=\"#DejaVuSans-114\"/>\n       <use x=\"324.710938\" xlink:href=\"#DejaVuSans-116\"/>\n       <use x=\"363.919922\" xlink:href=\"#DejaVuSans-121\"/>\n       <use x=\"423.099609\" xlink:href=\"#DejaVuSans-70\"/>\n       <use x=\"473.369141\" xlink:href=\"#DejaVuSans-105\"/>\n       <use x=\"501.152344\" xlink:href=\"#DejaVuSans-101\"/>\n       <use x=\"562.675781\" xlink:href=\"#DejaVuSans-108\"/>\n       <use x=\"590.458984\" xlink:href=\"#DejaVuSans-100\"/>\n       <use x=\"653.935547\" xlink:href=\"#DejaVuSans-51\"/>\n       <use x=\"717.558594\" xlink:href=\"#DejaVuSans-50\"/>\n      </g>\n     </g>\n    </g>\n    <g id=\"ytick_241\">\n     <g id=\"line2d_244\">\n      <g>\n       <use style=\"stroke:#000000;stroke-width:0.8;\" x=\"165.090625\" xlink:href=\"#m3b0424a600\" y=\"3780.393244\"/>\n      </g>\n     </g>\n     <g id=\"text_244\">\n      <!-- PropertyField31 -->\n      <g style=\"fill:#444443;\" transform=\"translate(79.970313 3784.192462)scale(0.1 -0.1)\">\n       <use xlink:href=\"#DejaVuSans-80\"/>\n       <use x=\"58.552734\" xlink:href=\"#DejaVuSans-114\"/>\n       <use x=\"97.416016\" xlink:href=\"#DejaVuSans-111\"/>\n       <use x=\"158.597656\" xlink:href=\"#DejaVuSans-112\"/>\n       <use x=\"222.074219\" xlink:href=\"#DejaVuSans-101\"/>\n       <use x=\"283.597656\" xlink:href=\"#DejaVuSans-114\"/>\n       <use x=\"324.710938\" xlink:href=\"#DejaVuSans-116\"/>\n       <use x=\"363.919922\" xlink:href=\"#DejaVuSans-121\"/>\n       <use x=\"423.099609\" xlink:href=\"#DejaVuSans-70\"/>\n       <use x=\"473.369141\" xlink:href=\"#DejaVuSans-105\"/>\n       <use x=\"501.152344\" xlink:href=\"#DejaVuSans-101\"/>\n       <use x=\"562.675781\" xlink:href=\"#DejaVuSans-108\"/>\n       <use x=\"590.458984\" xlink:href=\"#DejaVuSans-100\"/>\n       <use x=\"653.935547\" xlink:href=\"#DejaVuSans-51\"/>\n       <use x=\"717.558594\" xlink:href=\"#DejaVuSans-49\"/>\n      </g>\n     </g>\n    </g>\n    <g id=\"ytick_242\">\n     <g id=\"line2d_245\">\n      <g>\n       <use style=\"stroke:#000000;stroke-width:0.8;\" x=\"165.090625\" xlink:href=\"#m3b0424a600\" y=\"3796.109164\"/>\n      </g>\n     </g>\n     <g id=\"text_245\">\n      <!-- PropertyField26A -->\n      <g style=\"fill:#444443;\" transform=\"translate(73.129688 3799.908383)scale(0.1 -0.1)\">\n       <use xlink:href=\"#DejaVuSans-80\"/>\n       <use x=\"58.552734\" xlink:href=\"#DejaVuSans-114\"/>\n       <use x=\"97.416016\" xlink:href=\"#DejaVuSans-111\"/>\n       <use x=\"158.597656\" xlink:href=\"#DejaVuSans-112\"/>\n       <use x=\"222.074219\" xlink:href=\"#DejaVuSans-101\"/>\n       <use x=\"283.597656\" xlink:href=\"#DejaVuSans-114\"/>\n       <use x=\"324.710938\" xlink:href=\"#DejaVuSans-116\"/>\n       <use x=\"363.919922\" xlink:href=\"#DejaVuSans-121\"/>\n       <use x=\"423.099609\" xlink:href=\"#DejaVuSans-70\"/>\n       <use x=\"473.369141\" xlink:href=\"#DejaVuSans-105\"/>\n       <use x=\"501.152344\" xlink:href=\"#DejaVuSans-101\"/>\n       <use x=\"562.675781\" xlink:href=\"#DejaVuSans-108\"/>\n       <use x=\"590.458984\" xlink:href=\"#DejaVuSans-100\"/>\n       <use x=\"653.935547\" xlink:href=\"#DejaVuSans-50\"/>\n       <use x=\"717.558594\" xlink:href=\"#DejaVuSans-54\"/>\n       <use x=\"781.181641\" xlink:href=\"#DejaVuSans-65\"/>\n      </g>\n     </g>\n    </g>\n    <g id=\"ytick_243\">\n     <g id=\"line2d_246\">\n      <g>\n       <use style=\"stroke:#000000;stroke-width:0.8;\" x=\"165.090625\" xlink:href=\"#m3b0424a600\" y=\"3811.825085\"/>\n      </g>\n     </g>\n     <g id=\"text_246\">\n      <!-- PersonalField26 -->\n      <g style=\"fill:#444443;\" transform=\"translate(79.778125 3815.624303)scale(0.1 -0.1)\">\n       <use xlink:href=\"#DejaVuSans-80\"/>\n       <use x=\"56.677734\" xlink:href=\"#DejaVuSans-101\"/>\n       <use x=\"118.201172\" xlink:href=\"#DejaVuSans-114\"/>\n       <use x=\"159.314453\" xlink:href=\"#DejaVuSans-115\"/>\n       <use x=\"211.414062\" xlink:href=\"#DejaVuSans-111\"/>\n       <use x=\"272.595703\" xlink:href=\"#DejaVuSans-110\"/>\n       <use x=\"335.974609\" xlink:href=\"#DejaVuSans-97\"/>\n       <use x=\"397.253906\" xlink:href=\"#DejaVuSans-108\"/>\n       <use x=\"425.037109\" xlink:href=\"#DejaVuSans-70\"/>\n       <use x=\"475.306641\" xlink:href=\"#DejaVuSans-105\"/>\n       <use x=\"503.089844\" xlink:href=\"#DejaVuSans-101\"/>\n       <use x=\"564.613281\" xlink:href=\"#DejaVuSans-108\"/>\n       <use x=\"592.396484\" xlink:href=\"#DejaVuSans-100\"/>\n       <use x=\"655.873047\" xlink:href=\"#DejaVuSans-50\"/>\n       <use x=\"719.496094\" xlink:href=\"#DejaVuSans-54\"/>\n      </g>\n     </g>\n    </g>\n    <g id=\"ytick_244\">\n     <g id=\"line2d_247\">\n      <g>\n       <use style=\"stroke:#000000;stroke-width:0.8;\" x=\"165.090625\" xlink:href=\"#m3b0424a600\" y=\"3827.541005\"/>\n      </g>\n     </g>\n     <g id=\"text_247\">\n      <!-- GeographicField1B -->\n      <g style=\"fill:#444443;\" transform=\"translate(64.2125 3831.340224)scale(0.1 -0.1)\">\n       <use xlink:href=\"#DejaVuSans-71\"/>\n       <use x=\"77.490234\" xlink:href=\"#DejaVuSans-101\"/>\n       <use x=\"139.013672\" xlink:href=\"#DejaVuSans-111\"/>\n       <use x=\"200.195312\" xlink:href=\"#DejaVuSans-103\"/>\n       <use x=\"263.671875\" xlink:href=\"#DejaVuSans-114\"/>\n       <use x=\"304.785156\" xlink:href=\"#DejaVuSans-97\"/>\n       <use x=\"366.064453\" xlink:href=\"#DejaVuSans-112\"/>\n       <use x=\"429.541016\" xlink:href=\"#DejaVuSans-104\"/>\n       <use x=\"492.919922\" xlink:href=\"#DejaVuSans-105\"/>\n       <use x=\"520.703125\" xlink:href=\"#DejaVuSans-99\"/>\n       <use x=\"575.683594\" xlink:href=\"#DejaVuSans-70\"/>\n       <use x=\"625.953125\" xlink:href=\"#DejaVuSans-105\"/>\n       <use x=\"653.736328\" xlink:href=\"#DejaVuSans-101\"/>\n       <use x=\"715.259766\" xlink:href=\"#DejaVuSans-108\"/>\n       <use x=\"743.042969\" xlink:href=\"#DejaVuSans-100\"/>\n       <use x=\"806.519531\" xlink:href=\"#DejaVuSans-49\"/>\n       <use x=\"870.142578\" xlink:href=\"#DejaVuSans-66\"/>\n      </g>\n     </g>\n    </g>\n    <g id=\"ytick_245\">\n     <g id=\"line2d_248\">\n      <g>\n       <use style=\"stroke:#000000;stroke-width:0.8;\" x=\"165.090625\" xlink:href=\"#m3b0424a600\" y=\"3843.256926\"/>\n      </g>\n     </g>\n     <g id=\"text_248\">\n      <!-- GeographicField1A -->\n      <g style=\"fill:#444443;\" transform=\"translate(64.232813 3847.056145)scale(0.1 -0.1)\">\n       <use xlink:href=\"#DejaVuSans-71\"/>\n       <use x=\"77.490234\" xlink:href=\"#DejaVuSans-101\"/>\n       <use x=\"139.013672\" xlink:href=\"#DejaVuSans-111\"/>\n       <use x=\"200.195312\" xlink:href=\"#DejaVuSans-103\"/>\n       <use x=\"263.671875\" xlink:href=\"#DejaVuSans-114\"/>\n       <use x=\"304.785156\" xlink:href=\"#DejaVuSans-97\"/>\n       <use x=\"366.064453\" xlink:href=\"#DejaVuSans-112\"/>\n       <use x=\"429.541016\" xlink:href=\"#DejaVuSans-104\"/>\n       <use x=\"492.919922\" xlink:href=\"#DejaVuSans-105\"/>\n       <use x=\"520.703125\" xlink:href=\"#DejaVuSans-99\"/>\n       <use x=\"575.683594\" xlink:href=\"#DejaVuSans-70\"/>\n       <use x=\"625.953125\" xlink:href=\"#DejaVuSans-105\"/>\n       <use x=\"653.736328\" xlink:href=\"#DejaVuSans-101\"/>\n       <use x=\"715.259766\" xlink:href=\"#DejaVuSans-108\"/>\n       <use x=\"743.042969\" xlink:href=\"#DejaVuSans-100\"/>\n       <use x=\"806.519531\" xlink:href=\"#DejaVuSans-49\"/>\n       <use x=\"870.142578\" xlink:href=\"#DejaVuSans-65\"/>\n      </g>\n     </g>\n    </g>\n    <g id=\"ytick_246\">\n     <g id=\"line2d_249\">\n      <g>\n       <use style=\"stroke:#000000;stroke-width:0.8;\" x=\"165.090625\" xlink:href=\"#m3b0424a600\" y=\"3858.972846\"/>\n      </g>\n     </g>\n     <g id=\"text_249\">\n      <!-- GeographicField3A -->\n      <g style=\"fill:#444443;\" transform=\"translate(64.232813 3862.772065)scale(0.1 -0.1)\">\n       <use xlink:href=\"#DejaVuSans-71\"/>\n       <use x=\"77.490234\" xlink:href=\"#DejaVuSans-101\"/>\n       <use x=\"139.013672\" xlink:href=\"#DejaVuSans-111\"/>\n       <use x=\"200.195312\" xlink:href=\"#DejaVuSans-103\"/>\n       <use x=\"263.671875\" xlink:href=\"#DejaVuSans-114\"/>\n       <use x=\"304.785156\" xlink:href=\"#DejaVuSans-97\"/>\n       <use x=\"366.064453\" xlink:href=\"#DejaVuSans-112\"/>\n       <use x=\"429.541016\" xlink:href=\"#DejaVuSans-104\"/>\n       <use x=\"492.919922\" xlink:href=\"#DejaVuSans-105\"/>\n       <use x=\"520.703125\" xlink:href=\"#DejaVuSans-99\"/>\n       <use x=\"575.683594\" xlink:href=\"#DejaVuSans-70\"/>\n       <use x=\"625.953125\" xlink:href=\"#DejaVuSans-105\"/>\n       <use x=\"653.736328\" xlink:href=\"#DejaVuSans-101\"/>\n       <use x=\"715.259766\" xlink:href=\"#DejaVuSans-108\"/>\n       <use x=\"743.042969\" xlink:href=\"#DejaVuSans-100\"/>\n       <use x=\"806.519531\" xlink:href=\"#DejaVuSans-51\"/>\n       <use x=\"870.142578\" xlink:href=\"#DejaVuSans-65\"/>\n      </g>\n     </g>\n    </g>\n    <g id=\"ytick_247\">\n     <g id=\"line2d_250\">\n      <g>\n       <use style=\"stroke:#000000;stroke-width:0.8;\" x=\"165.090625\" xlink:href=\"#m3b0424a600\" y=\"3874.688767\"/>\n      </g>\n     </g>\n     <g id=\"text_250\">\n      <!-- GeographicField37B -->\n      <g style=\"fill:#444443;\" transform=\"translate(57.85 3878.487986)scale(0.1 -0.1)\">\n       <use xlink:href=\"#DejaVuSans-71\"/>\n       <use x=\"77.490234\" xlink:href=\"#DejaVuSans-101\"/>\n       <use x=\"139.013672\" xlink:href=\"#DejaVuSans-111\"/>\n       <use x=\"200.195312\" xlink:href=\"#DejaVuSans-103\"/>\n       <use x=\"263.671875\" xlink:href=\"#DejaVuSans-114\"/>\n       <use x=\"304.785156\" xlink:href=\"#DejaVuSans-97\"/>\n       <use x=\"366.064453\" xlink:href=\"#DejaVuSans-112\"/>\n       <use x=\"429.541016\" xlink:href=\"#DejaVuSans-104\"/>\n       <use x=\"492.919922\" xlink:href=\"#DejaVuSans-105\"/>\n       <use x=\"520.703125\" xlink:href=\"#DejaVuSans-99\"/>\n       <use x=\"575.683594\" xlink:href=\"#DejaVuSans-70\"/>\n       <use x=\"625.953125\" xlink:href=\"#DejaVuSans-105\"/>\n       <use x=\"653.736328\" xlink:href=\"#DejaVuSans-101\"/>\n       <use x=\"715.259766\" xlink:href=\"#DejaVuSans-108\"/>\n       <use x=\"743.042969\" xlink:href=\"#DejaVuSans-100\"/>\n       <use x=\"806.519531\" xlink:href=\"#DejaVuSans-51\"/>\n       <use x=\"870.142578\" xlink:href=\"#DejaVuSans-55\"/>\n       <use x=\"933.765625\" xlink:href=\"#DejaVuSans-66\"/>\n      </g>\n     </g>\n    </g>\n    <g id=\"ytick_248\">\n     <g id=\"line2d_251\">\n      <g>\n       <use style=\"stroke:#000000;stroke-width:0.8;\" x=\"165.090625\" xlink:href=\"#m3b0424a600\" y=\"3890.404687\"/>\n      </g>\n     </g>\n     <g id=\"text_251\">\n      <!-- GeographicField12A -->\n      <g style=\"fill:#444443;\" transform=\"translate(57.870313 3894.203906)scale(0.1 -0.1)\">\n       <use xlink:href=\"#DejaVuSans-71\"/>\n       <use x=\"77.490234\" xlink:href=\"#DejaVuSans-101\"/>\n       <use x=\"139.013672\" xlink:href=\"#DejaVuSans-111\"/>\n       <use x=\"200.195312\" xlink:href=\"#DejaVuSans-103\"/>\n       <use x=\"263.671875\" xlink:href=\"#DejaVuSans-114\"/>\n       <use x=\"304.785156\" xlink:href=\"#DejaVuSans-97\"/>\n       <use x=\"366.064453\" xlink:href=\"#DejaVuSans-112\"/>\n       <use x=\"429.541016\" xlink:href=\"#DejaVuSans-104\"/>\n       <use x=\"492.919922\" xlink:href=\"#DejaVuSans-105\"/>\n       <use x=\"520.703125\" xlink:href=\"#DejaVuSans-99\"/>\n       <use x=\"575.683594\" xlink:href=\"#DejaVuSans-70\"/>\n       <use x=\"625.953125\" xlink:href=\"#DejaVuSans-105\"/>\n       <use x=\"653.736328\" xlink:href=\"#DejaVuSans-101\"/>\n       <use x=\"715.259766\" xlink:href=\"#DejaVuSans-108\"/>\n       <use x=\"743.042969\" xlink:href=\"#DejaVuSans-100\"/>\n       <use x=\"806.519531\" xlink:href=\"#DejaVuSans-49\"/>\n       <use x=\"870.142578\" xlink:href=\"#DejaVuSans-50\"/>\n       <use x=\"933.765625\" xlink:href=\"#DejaVuSans-65\"/>\n      </g>\n     </g>\n    </g>\n    <g id=\"ytick_249\">\n     <g id=\"line2d_252\">\n      <g>\n       <use style=\"stroke:#000000;stroke-width:0.8;\" x=\"165.090625\" xlink:href=\"#m3b0424a600\" y=\"3906.120608\"/>\n      </g>\n     </g>\n     <g id=\"text_252\">\n      <!-- GeographicField47A -->\n      <g style=\"fill:#444443;\" transform=\"translate(57.870313 3909.919827)scale(0.1 -0.1)\">\n       <use xlink:href=\"#DejaVuSans-71\"/>\n       <use x=\"77.490234\" xlink:href=\"#DejaVuSans-101\"/>\n       <use x=\"139.013672\" xlink:href=\"#DejaVuSans-111\"/>\n       <use x=\"200.195312\" xlink:href=\"#DejaVuSans-103\"/>\n       <use x=\"263.671875\" xlink:href=\"#DejaVuSans-114\"/>\n       <use x=\"304.785156\" xlink:href=\"#DejaVuSans-97\"/>\n       <use x=\"366.064453\" xlink:href=\"#DejaVuSans-112\"/>\n       <use x=\"429.541016\" xlink:href=\"#DejaVuSans-104\"/>\n       <use x=\"492.919922\" xlink:href=\"#DejaVuSans-105\"/>\n       <use x=\"520.703125\" xlink:href=\"#DejaVuSans-99\"/>\n       <use x=\"575.683594\" xlink:href=\"#DejaVuSans-70\"/>\n       <use x=\"625.953125\" xlink:href=\"#DejaVuSans-105\"/>\n       <use x=\"653.736328\" xlink:href=\"#DejaVuSans-101\"/>\n       <use x=\"715.259766\" xlink:href=\"#DejaVuSans-108\"/>\n       <use x=\"743.042969\" xlink:href=\"#DejaVuSans-100\"/>\n       <use x=\"806.519531\" xlink:href=\"#DejaVuSans-52\"/>\n       <use x=\"870.142578\" xlink:href=\"#DejaVuSans-55\"/>\n       <use x=\"933.765625\" xlink:href=\"#DejaVuSans-65\"/>\n      </g>\n     </g>\n    </g>\n    <g id=\"ytick_250\">\n     <g id=\"line2d_253\">\n      <g>\n       <use style=\"stroke:#000000;stroke-width:0.8;\" x=\"165.090625\" xlink:href=\"#m3b0424a600\" y=\"3921.836528\"/>\n      </g>\n     </g>\n     <g id=\"text_253\">\n      <!-- GeographicField46B -->\n      <g style=\"fill:#444443;\" transform=\"translate(57.85 3925.635747)scale(0.1 -0.1)\">\n       <use xlink:href=\"#DejaVuSans-71\"/>\n       <use x=\"77.490234\" xlink:href=\"#DejaVuSans-101\"/>\n       <use x=\"139.013672\" xlink:href=\"#DejaVuSans-111\"/>\n       <use x=\"200.195312\" xlink:href=\"#DejaVuSans-103\"/>\n       <use x=\"263.671875\" xlink:href=\"#DejaVuSans-114\"/>\n       <use x=\"304.785156\" xlink:href=\"#DejaVuSans-97\"/>\n       <use x=\"366.064453\" xlink:href=\"#DejaVuSans-112\"/>\n       <use x=\"429.541016\" xlink:href=\"#DejaVuSans-104\"/>\n       <use x=\"492.919922\" xlink:href=\"#DejaVuSans-105\"/>\n       <use x=\"520.703125\" xlink:href=\"#DejaVuSans-99\"/>\n       <use x=\"575.683594\" xlink:href=\"#DejaVuSans-70\"/>\n       <use x=\"625.953125\" xlink:href=\"#DejaVuSans-105\"/>\n       <use x=\"653.736328\" xlink:href=\"#DejaVuSans-101\"/>\n       <use x=\"715.259766\" xlink:href=\"#DejaVuSans-108\"/>\n       <use x=\"743.042969\" xlink:href=\"#DejaVuSans-100\"/>\n       <use x=\"806.519531\" xlink:href=\"#DejaVuSans-52\"/>\n       <use x=\"870.142578\" xlink:href=\"#DejaVuSans-54\"/>\n       <use x=\"933.765625\" xlink:href=\"#DejaVuSans-66\"/>\n      </g>\n     </g>\n    </g>\n    <g id=\"ytick_251\">\n     <g id=\"line2d_254\">\n      <g>\n       <use style=\"stroke:#000000;stroke-width:0.8;\" x=\"165.090625\" xlink:href=\"#m3b0424a600\" y=\"3937.552449\"/>\n      </g>\n     </g>\n     <g id=\"text_254\">\n      <!-- CoverageField1A -->\n      <g style=\"fill:#444443;\" transform=\"translate(73.889063 3941.351668)scale(0.1 -0.1)\">\n       <use xlink:href=\"#DejaVuSans-67\"/>\n       <use x=\"69.824219\" xlink:href=\"#DejaVuSans-111\"/>\n       <use x=\"131.005859\" xlink:href=\"#DejaVuSans-118\"/>\n       <use x=\"190.185547\" xlink:href=\"#DejaVuSans-101\"/>\n       <use x=\"251.708984\" xlink:href=\"#DejaVuSans-114\"/>\n       <use x=\"292.822266\" xlink:href=\"#DejaVuSans-97\"/>\n       <use x=\"354.101562\" xlink:href=\"#DejaVuSans-103\"/>\n       <use x=\"417.578125\" xlink:href=\"#DejaVuSans-101\"/>\n       <use x=\"479.101562\" xlink:href=\"#DejaVuSans-70\"/>\n       <use x=\"529.371094\" xlink:href=\"#DejaVuSans-105\"/>\n       <use x=\"557.154297\" xlink:href=\"#DejaVuSans-101\"/>\n       <use x=\"618.677734\" xlink:href=\"#DejaVuSans-108\"/>\n       <use x=\"646.460938\" xlink:href=\"#DejaVuSans-100\"/>\n       <use x=\"709.9375\" xlink:href=\"#DejaVuSans-49\"/>\n       <use x=\"773.560547\" xlink:href=\"#DejaVuSans-65\"/>\n      </g>\n     </g>\n    </g>\n    <g id=\"ytick_252\">\n     <g id=\"line2d_255\">\n      <g>\n       <use style=\"stroke:#000000;stroke-width:0.8;\" x=\"165.090625\" xlink:href=\"#m3b0424a600\" y=\"3953.268369\"/>\n      </g>\n     </g>\n     <g id=\"text_255\">\n      <!-- PersonalField75 -->\n      <g style=\"fill:#444443;\" transform=\"translate(79.778125 3957.067588)scale(0.1 -0.1)\">\n       <use xlink:href=\"#DejaVuSans-80\"/>\n       <use x=\"56.677734\" xlink:href=\"#DejaVuSans-101\"/>\n       <use x=\"118.201172\" xlink:href=\"#DejaVuSans-114\"/>\n       <use x=\"159.314453\" xlink:href=\"#DejaVuSans-115\"/>\n       <use x=\"211.414062\" xlink:href=\"#DejaVuSans-111\"/>\n       <use x=\"272.595703\" xlink:href=\"#DejaVuSans-110\"/>\n       <use x=\"335.974609\" xlink:href=\"#DejaVuSans-97\"/>\n       <use x=\"397.253906\" xlink:href=\"#DejaVuSans-108\"/>\n       <use x=\"425.037109\" xlink:href=\"#DejaVuSans-70\"/>\n       <use x=\"475.306641\" xlink:href=\"#DejaVuSans-105\"/>\n       <use x=\"503.089844\" xlink:href=\"#DejaVuSans-101\"/>\n       <use x=\"564.613281\" xlink:href=\"#DejaVuSans-108\"/>\n       <use x=\"592.396484\" xlink:href=\"#DejaVuSans-100\"/>\n       <use x=\"655.873047\" xlink:href=\"#DejaVuSans-55\"/>\n       <use x=\"719.496094\" xlink:href=\"#DejaVuSans-53\"/>\n      </g>\n     </g>\n    </g>\n    <g id=\"ytick_253\">\n     <g id=\"line2d_256\">\n      <g>\n       <use style=\"stroke:#000000;stroke-width:0.8;\" x=\"165.090625\" xlink:href=\"#m3b0424a600\" y=\"3968.98429\"/>\n      </g>\n     </g>\n     <g id=\"text_256\">\n      <!-- GeographicField50A -->\n      <g style=\"fill:#444443;\" transform=\"translate(57.870313 3972.783509)scale(0.1 -0.1)\">\n       <use xlink:href=\"#DejaVuSans-71\"/>\n       <use x=\"77.490234\" xlink:href=\"#DejaVuSans-101\"/>\n       <use x=\"139.013672\" xlink:href=\"#DejaVuSans-111\"/>\n       <use x=\"200.195312\" xlink:href=\"#DejaVuSans-103\"/>\n       <use x=\"263.671875\" xlink:href=\"#DejaVuSans-114\"/>\n       <use x=\"304.785156\" xlink:href=\"#DejaVuSans-97\"/>\n       <use x=\"366.064453\" xlink:href=\"#DejaVuSans-112\"/>\n       <use x=\"429.541016\" xlink:href=\"#DejaVuSans-104\"/>\n       <use x=\"492.919922\" xlink:href=\"#DejaVuSans-105\"/>\n       <use x=\"520.703125\" xlink:href=\"#DejaVuSans-99\"/>\n       <use x=\"575.683594\" xlink:href=\"#DejaVuSans-70\"/>\n       <use x=\"625.953125\" xlink:href=\"#DejaVuSans-105\"/>\n       <use x=\"653.736328\" xlink:href=\"#DejaVuSans-101\"/>\n       <use x=\"715.259766\" xlink:href=\"#DejaVuSans-108\"/>\n       <use x=\"743.042969\" xlink:href=\"#DejaVuSans-100\"/>\n       <use x=\"806.519531\" xlink:href=\"#DejaVuSans-53\"/>\n       <use x=\"870.142578\" xlink:href=\"#DejaVuSans-48\"/>\n       <use x=\"933.765625\" xlink:href=\"#DejaVuSans-65\"/>\n      </g>\n     </g>\n    </g>\n    <g id=\"ytick_254\">\n     <g id=\"line2d_257\">\n      <g>\n       <use style=\"stroke:#000000;stroke-width:0.8;\" x=\"165.090625\" xlink:href=\"#m3b0424a600\" y=\"3984.70021\"/>\n      </g>\n     </g>\n     <g id=\"text_257\">\n      <!-- GeographicField39A -->\n      <g style=\"fill:#444443;\" transform=\"translate(57.870313 3988.499429)scale(0.1 -0.1)\">\n       <use xlink:href=\"#DejaVuSans-71\"/>\n       <use x=\"77.490234\" xlink:href=\"#DejaVuSans-101\"/>\n       <use x=\"139.013672\" xlink:href=\"#DejaVuSans-111\"/>\n       <use x=\"200.195312\" xlink:href=\"#DejaVuSans-103\"/>\n       <use x=\"263.671875\" xlink:href=\"#DejaVuSans-114\"/>\n       <use x=\"304.785156\" xlink:href=\"#DejaVuSans-97\"/>\n       <use x=\"366.064453\" xlink:href=\"#DejaVuSans-112\"/>\n       <use x=\"429.541016\" xlink:href=\"#DejaVuSans-104\"/>\n       <use x=\"492.919922\" xlink:href=\"#DejaVuSans-105\"/>\n       <use x=\"520.703125\" xlink:href=\"#DejaVuSans-99\"/>\n       <use x=\"575.683594\" xlink:href=\"#DejaVuSans-70\"/>\n       <use x=\"625.953125\" xlink:href=\"#DejaVuSans-105\"/>\n       <use x=\"653.736328\" xlink:href=\"#DejaVuSans-101\"/>\n       <use x=\"715.259766\" xlink:href=\"#DejaVuSans-108\"/>\n       <use x=\"743.042969\" xlink:href=\"#DejaVuSans-100\"/>\n       <use x=\"806.519531\" xlink:href=\"#DejaVuSans-51\"/>\n       <use x=\"870.142578\" xlink:href=\"#DejaVuSans-57\"/>\n       <use x=\"933.765625\" xlink:href=\"#DejaVuSans-65\"/>\n      </g>\n     </g>\n    </g>\n    <g id=\"ytick_255\">\n     <g id=\"line2d_258\">\n      <g>\n       <use style=\"stroke:#000000;stroke-width:0.8;\" x=\"165.090625\" xlink:href=\"#m3b0424a600\" y=\"4000.416131\"/>\n      </g>\n     </g>\n     <g id=\"text_258\">\n      <!-- GeographicField42A -->\n      <g style=\"fill:#444443;\" transform=\"translate(57.870313 4004.21535)scale(0.1 -0.1)\">\n       <use xlink:href=\"#DejaVuSans-71\"/>\n       <use x=\"77.490234\" xlink:href=\"#DejaVuSans-101\"/>\n       <use x=\"139.013672\" xlink:href=\"#DejaVuSans-111\"/>\n       <use x=\"200.195312\" xlink:href=\"#DejaVuSans-103\"/>\n       <use x=\"263.671875\" xlink:href=\"#DejaVuSans-114\"/>\n       <use x=\"304.785156\" xlink:href=\"#DejaVuSans-97\"/>\n       <use x=\"366.064453\" xlink:href=\"#DejaVuSans-112\"/>\n       <use x=\"429.541016\" xlink:href=\"#DejaVuSans-104\"/>\n       <use x=\"492.919922\" xlink:href=\"#DejaVuSans-105\"/>\n       <use x=\"520.703125\" xlink:href=\"#DejaVuSans-99\"/>\n       <use x=\"575.683594\" xlink:href=\"#DejaVuSans-70\"/>\n       <use x=\"625.953125\" xlink:href=\"#DejaVuSans-105\"/>\n       <use x=\"653.736328\" xlink:href=\"#DejaVuSans-101\"/>\n       <use x=\"715.259766\" xlink:href=\"#DejaVuSans-108\"/>\n       <use x=\"743.042969\" xlink:href=\"#DejaVuSans-100\"/>\n       <use x=\"806.519531\" xlink:href=\"#DejaVuSans-52\"/>\n       <use x=\"870.142578\" xlink:href=\"#DejaVuSans-50\"/>\n       <use x=\"933.765625\" xlink:href=\"#DejaVuSans-65\"/>\n      </g>\n     </g>\n    </g>\n    <g id=\"ytick_256\">\n     <g id=\"line2d_259\">\n      <g>\n       <use style=\"stroke:#000000;stroke-width:0.8;\" x=\"165.090625\" xlink:href=\"#m3b0424a600\" y=\"4016.132051\"/>\n      </g>\n     </g>\n     <g id=\"text_259\">\n      <!-- SalesField3 -->\n      <g style=\"fill:#444443;\" transform=\"translate(102.026563 4019.93127)scale(0.1 -0.1)\">\n       <use xlink:href=\"#DejaVuSans-83\"/>\n       <use x=\"63.476562\" xlink:href=\"#DejaVuSans-97\"/>\n       <use x=\"124.755859\" xlink:href=\"#DejaVuSans-108\"/>\n       <use x=\"152.539062\" xlink:href=\"#DejaVuSans-101\"/>\n       <use x=\"214.0625\" xlink:href=\"#DejaVuSans-115\"/>\n       <use x=\"266.162109\" xlink:href=\"#DejaVuSans-70\"/>\n       <use x=\"316.431641\" xlink:href=\"#DejaVuSans-105\"/>\n       <use x=\"344.214844\" xlink:href=\"#DejaVuSans-101\"/>\n       <use x=\"405.738281\" xlink:href=\"#DejaVuSans-108\"/>\n       <use x=\"433.521484\" xlink:href=\"#DejaVuSans-100\"/>\n       <use x=\"496.998047\" xlink:href=\"#DejaVuSans-51\"/>\n      </g>\n     </g>\n    </g>\n    <g id=\"ytick_257\">\n     <g id=\"line2d_260\">\n      <g>\n       <use style=\"stroke:#000000;stroke-width:0.8;\" x=\"165.090625\" xlink:href=\"#m3b0424a600\" y=\"4031.847972\"/>\n      </g>\n     </g>\n     <g id=\"text_260\">\n      <!-- GeographicField46A -->\n      <g style=\"fill:#444443;\" transform=\"translate(57.870313 4035.647191)scale(0.1 -0.1)\">\n       <use xlink:href=\"#DejaVuSans-71\"/>\n       <use x=\"77.490234\" xlink:href=\"#DejaVuSans-101\"/>\n       <use x=\"139.013672\" xlink:href=\"#DejaVuSans-111\"/>\n       <use x=\"200.195312\" xlink:href=\"#DejaVuSans-103\"/>\n       <use x=\"263.671875\" xlink:href=\"#DejaVuSans-114\"/>\n       <use x=\"304.785156\" xlink:href=\"#DejaVuSans-97\"/>\n       <use x=\"366.064453\" xlink:href=\"#DejaVuSans-112\"/>\n       <use x=\"429.541016\" xlink:href=\"#DejaVuSans-104\"/>\n       <use x=\"492.919922\" xlink:href=\"#DejaVuSans-105\"/>\n       <use x=\"520.703125\" xlink:href=\"#DejaVuSans-99\"/>\n       <use x=\"575.683594\" xlink:href=\"#DejaVuSans-70\"/>\n       <use x=\"625.953125\" xlink:href=\"#DejaVuSans-105\"/>\n       <use x=\"653.736328\" xlink:href=\"#DejaVuSans-101\"/>\n       <use x=\"715.259766\" xlink:href=\"#DejaVuSans-108\"/>\n       <use x=\"743.042969\" xlink:href=\"#DejaVuSans-100\"/>\n       <use x=\"806.519531\" xlink:href=\"#DejaVuSans-52\"/>\n       <use x=\"870.142578\" xlink:href=\"#DejaVuSans-54\"/>\n       <use x=\"933.765625\" xlink:href=\"#DejaVuSans-65\"/>\n      </g>\n     </g>\n    </g>\n    <g id=\"ytick_258\">\n     <g id=\"line2d_261\">\n      <g>\n       <use style=\"stroke:#000000;stroke-width:0.8;\" x=\"165.090625\" xlink:href=\"#m3b0424a600\" y=\"4047.563892\"/>\n      </g>\n     </g>\n     <g id=\"text_261\">\n      <!-- GeographicField57A -->\n      <g style=\"fill:#444443;\" transform=\"translate(57.870313 4051.363111)scale(0.1 -0.1)\">\n       <use xlink:href=\"#DejaVuSans-71\"/>\n       <use x=\"77.490234\" xlink:href=\"#DejaVuSans-101\"/>\n       <use x=\"139.013672\" xlink:href=\"#DejaVuSans-111\"/>\n       <use x=\"200.195312\" xlink:href=\"#DejaVuSans-103\"/>\n       <use x=\"263.671875\" xlink:href=\"#DejaVuSans-114\"/>\n       <use x=\"304.785156\" xlink:href=\"#DejaVuSans-97\"/>\n       <use x=\"366.064453\" xlink:href=\"#DejaVuSans-112\"/>\n       <use x=\"429.541016\" xlink:href=\"#DejaVuSans-104\"/>\n       <use x=\"492.919922\" xlink:href=\"#DejaVuSans-105\"/>\n       <use x=\"520.703125\" xlink:href=\"#DejaVuSans-99\"/>\n       <use x=\"575.683594\" xlink:href=\"#DejaVuSans-70\"/>\n       <use x=\"625.953125\" xlink:href=\"#DejaVuSans-105\"/>\n       <use x=\"653.736328\" xlink:href=\"#DejaVuSans-101\"/>\n       <use x=\"715.259766\" xlink:href=\"#DejaVuSans-108\"/>\n       <use x=\"743.042969\" xlink:href=\"#DejaVuSans-100\"/>\n       <use x=\"806.519531\" xlink:href=\"#DejaVuSans-53\"/>\n       <use x=\"870.142578\" xlink:href=\"#DejaVuSans-55\"/>\n       <use x=\"933.765625\" xlink:href=\"#DejaVuSans-65\"/>\n      </g>\n     </g>\n    </g>\n    <g id=\"ytick_259\">\n     <g id=\"line2d_262\">\n      <g>\n       <use style=\"stroke:#000000;stroke-width:0.8;\" x=\"165.090625\" xlink:href=\"#m3b0424a600\" y=\"4063.279813\"/>\n      </g>\n     </g>\n     <g id=\"text_262\">\n      <!-- GeographicField58B -->\n      <g style=\"fill:#444443;\" transform=\"translate(57.85 4067.079032)scale(0.1 -0.1)\">\n       <use xlink:href=\"#DejaVuSans-71\"/>\n       <use x=\"77.490234\" xlink:href=\"#DejaVuSans-101\"/>\n       <use x=\"139.013672\" xlink:href=\"#DejaVuSans-111\"/>\n       <use x=\"200.195312\" xlink:href=\"#DejaVuSans-103\"/>\n       <use x=\"263.671875\" xlink:href=\"#DejaVuSans-114\"/>\n       <use x=\"304.785156\" xlink:href=\"#DejaVuSans-97\"/>\n       <use x=\"366.064453\" xlink:href=\"#DejaVuSans-112\"/>\n       <use x=\"429.541016\" xlink:href=\"#DejaVuSans-104\"/>\n       <use x=\"492.919922\" xlink:href=\"#DejaVuSans-105\"/>\n       <use x=\"520.703125\" xlink:href=\"#DejaVuSans-99\"/>\n       <use x=\"575.683594\" xlink:href=\"#DejaVuSans-70\"/>\n       <use x=\"625.953125\" xlink:href=\"#DejaVuSans-105\"/>\n       <use x=\"653.736328\" xlink:href=\"#DejaVuSans-101\"/>\n       <use x=\"715.259766\" xlink:href=\"#DejaVuSans-108\"/>\n       <use x=\"743.042969\" xlink:href=\"#DejaVuSans-100\"/>\n       <use x=\"806.519531\" xlink:href=\"#DejaVuSans-53\"/>\n       <use x=\"870.142578\" xlink:href=\"#DejaVuSans-56\"/>\n       <use x=\"933.765625\" xlink:href=\"#DejaVuSans-66\"/>\n      </g>\n     </g>\n    </g>\n    <g id=\"ytick_260\">\n     <g id=\"line2d_263\">\n      <g>\n       <use style=\"stroke:#000000;stroke-width:0.8;\" x=\"165.090625\" xlink:href=\"#m3b0424a600\" y=\"4078.995733\"/>\n      </g>\n     </g>\n     <g id=\"text_263\">\n      <!-- GeographicField45B -->\n      <g style=\"fill:#444443;\" transform=\"translate(57.85 4082.794952)scale(0.1 -0.1)\">\n       <use xlink:href=\"#DejaVuSans-71\"/>\n       <use x=\"77.490234\" xlink:href=\"#DejaVuSans-101\"/>\n       <use x=\"139.013672\" xlink:href=\"#DejaVuSans-111\"/>\n       <use x=\"200.195312\" xlink:href=\"#DejaVuSans-103\"/>\n       <use x=\"263.671875\" xlink:href=\"#DejaVuSans-114\"/>\n       <use x=\"304.785156\" xlink:href=\"#DejaVuSans-97\"/>\n       <use x=\"366.064453\" xlink:href=\"#DejaVuSans-112\"/>\n       <use x=\"429.541016\" xlink:href=\"#DejaVuSans-104\"/>\n       <use x=\"492.919922\" xlink:href=\"#DejaVuSans-105\"/>\n       <use x=\"520.703125\" xlink:href=\"#DejaVuSans-99\"/>\n       <use x=\"575.683594\" xlink:href=\"#DejaVuSans-70\"/>\n       <use x=\"625.953125\" xlink:href=\"#DejaVuSans-105\"/>\n       <use x=\"653.736328\" xlink:href=\"#DejaVuSans-101\"/>\n       <use x=\"715.259766\" xlink:href=\"#DejaVuSans-108\"/>\n       <use x=\"743.042969\" xlink:href=\"#DejaVuSans-100\"/>\n       <use x=\"806.519531\" xlink:href=\"#DejaVuSans-52\"/>\n       <use x=\"870.142578\" xlink:href=\"#DejaVuSans-53\"/>\n       <use x=\"933.765625\" xlink:href=\"#DejaVuSans-66\"/>\n      </g>\n     </g>\n    </g>\n    <g id=\"ytick_261\">\n     <g id=\"line2d_264\">\n      <g>\n       <use style=\"stroke:#000000;stroke-width:0.8;\" x=\"165.090625\" xlink:href=\"#m3b0424a600\" y=\"4094.711654\"/>\n      </g>\n     </g>\n     <g id=\"text_264\">\n      <!-- GeographicField57B -->\n      <g style=\"fill:#444443;\" transform=\"translate(57.85 4098.510873)scale(0.1 -0.1)\">\n       <use xlink:href=\"#DejaVuSans-71\"/>\n       <use x=\"77.490234\" xlink:href=\"#DejaVuSans-101\"/>\n       <use x=\"139.013672\" xlink:href=\"#DejaVuSans-111\"/>\n       <use x=\"200.195312\" xlink:href=\"#DejaVuSans-103\"/>\n       <use x=\"263.671875\" xlink:href=\"#DejaVuSans-114\"/>\n       <use x=\"304.785156\" xlink:href=\"#DejaVuSans-97\"/>\n       <use x=\"366.064453\" xlink:href=\"#DejaVuSans-112\"/>\n       <use x=\"429.541016\" xlink:href=\"#DejaVuSans-104\"/>\n       <use x=\"492.919922\" xlink:href=\"#DejaVuSans-105\"/>\n       <use x=\"520.703125\" xlink:href=\"#DejaVuSans-99\"/>\n       <use x=\"575.683594\" xlink:href=\"#DejaVuSans-70\"/>\n       <use x=\"625.953125\" xlink:href=\"#DejaVuSans-105\"/>\n       <use x=\"653.736328\" xlink:href=\"#DejaVuSans-101\"/>\n       <use x=\"715.259766\" xlink:href=\"#DejaVuSans-108\"/>\n       <use x=\"743.042969\" xlink:href=\"#DejaVuSans-100\"/>\n       <use x=\"806.519531\" xlink:href=\"#DejaVuSans-53\"/>\n       <use x=\"870.142578\" xlink:href=\"#DejaVuSans-55\"/>\n       <use x=\"933.765625\" xlink:href=\"#DejaVuSans-66\"/>\n      </g>\n     </g>\n    </g>\n    <g id=\"ytick_262\">\n     <g id=\"line2d_265\">\n      <g>\n       <use style=\"stroke:#000000;stroke-width:0.8;\" x=\"165.090625\" xlink:href=\"#m3b0424a600\" y=\"4110.427575\"/>\n      </g>\n     </g>\n     <g id=\"text_265\">\n      <!-- GeographicField20A -->\n      <g style=\"fill:#444443;\" transform=\"translate(57.870313 4114.226793)scale(0.1 -0.1)\">\n       <use xlink:href=\"#DejaVuSans-71\"/>\n       <use x=\"77.490234\" xlink:href=\"#DejaVuSans-101\"/>\n       <use x=\"139.013672\" xlink:href=\"#DejaVuSans-111\"/>\n       <use x=\"200.195312\" xlink:href=\"#DejaVuSans-103\"/>\n       <use x=\"263.671875\" xlink:href=\"#DejaVuSans-114\"/>\n       <use x=\"304.785156\" xlink:href=\"#DejaVuSans-97\"/>\n       <use x=\"366.064453\" xlink:href=\"#DejaVuSans-112\"/>\n       <use x=\"429.541016\" xlink:href=\"#DejaVuSans-104\"/>\n       <use x=\"492.919922\" xlink:href=\"#DejaVuSans-105\"/>\n       <use x=\"520.703125\" xlink:href=\"#DejaVuSans-99\"/>\n       <use x=\"575.683594\" xlink:href=\"#DejaVuSans-70\"/>\n       <use x=\"625.953125\" xlink:href=\"#DejaVuSans-105\"/>\n       <use x=\"653.736328\" xlink:href=\"#DejaVuSans-101\"/>\n       <use x=\"715.259766\" xlink:href=\"#DejaVuSans-108\"/>\n       <use x=\"743.042969\" xlink:href=\"#DejaVuSans-100\"/>\n       <use x=\"806.519531\" xlink:href=\"#DejaVuSans-50\"/>\n       <use x=\"870.142578\" xlink:href=\"#DejaVuSans-48\"/>\n       <use x=\"933.765625\" xlink:href=\"#DejaVuSans-65\"/>\n      </g>\n     </g>\n    </g>\n    <g id=\"ytick_263\">\n     <g id=\"line2d_266\">\n      <g>\n       <use style=\"stroke:#000000;stroke-width:0.8;\" x=\"165.090625\" xlink:href=\"#m3b0424a600\" y=\"4126.143495\"/>\n      </g>\n     </g>\n     <g id=\"text_266\">\n      <!-- PropertyField17 -->\n      <g style=\"fill:#444443;\" transform=\"translate(79.970313 4129.942714)scale(0.1 -0.1)\">\n       <use xlink:href=\"#DejaVuSans-80\"/>\n       <use x=\"58.552734\" xlink:href=\"#DejaVuSans-114\"/>\n       <use x=\"97.416016\" xlink:href=\"#DejaVuSans-111\"/>\n       <use x=\"158.597656\" xlink:href=\"#DejaVuSans-112\"/>\n       <use x=\"222.074219\" xlink:href=\"#DejaVuSans-101\"/>\n       <use x=\"283.597656\" xlink:href=\"#DejaVuSans-114\"/>\n       <use x=\"324.710938\" xlink:href=\"#DejaVuSans-116\"/>\n       <use x=\"363.919922\" xlink:href=\"#DejaVuSans-121\"/>\n       <use x=\"423.099609\" xlink:href=\"#DejaVuSans-70\"/>\n       <use x=\"473.369141\" xlink:href=\"#DejaVuSans-105\"/>\n       <use x=\"501.152344\" xlink:href=\"#DejaVuSans-101\"/>\n       <use x=\"562.675781\" xlink:href=\"#DejaVuSans-108\"/>\n       <use x=\"590.458984\" xlink:href=\"#DejaVuSans-100\"/>\n       <use x=\"653.935547\" xlink:href=\"#DejaVuSans-49\"/>\n       <use x=\"717.558594\" xlink:href=\"#DejaVuSans-55\"/>\n      </g>\n     </g>\n    </g>\n    <g id=\"ytick_264\">\n     <g id=\"line2d_267\">\n      <g>\n       <use style=\"stroke:#000000;stroke-width:0.8;\" x=\"165.090625\" xlink:href=\"#m3b0424a600\" y=\"4141.859416\"/>\n      </g>\n     </g>\n     <g id=\"text_267\">\n      <!-- GeographicField21B -->\n      <g style=\"fill:#444443;\" transform=\"translate(57.85 4145.658634)scale(0.1 -0.1)\">\n       <use xlink:href=\"#DejaVuSans-71\"/>\n       <use x=\"77.490234\" xlink:href=\"#DejaVuSans-101\"/>\n       <use x=\"139.013672\" xlink:href=\"#DejaVuSans-111\"/>\n       <use x=\"200.195312\" xlink:href=\"#DejaVuSans-103\"/>\n       <use x=\"263.671875\" xlink:href=\"#DejaVuSans-114\"/>\n       <use x=\"304.785156\" xlink:href=\"#DejaVuSans-97\"/>\n       <use x=\"366.064453\" xlink:href=\"#DejaVuSans-112\"/>\n       <use x=\"429.541016\" xlink:href=\"#DejaVuSans-104\"/>\n       <use x=\"492.919922\" xlink:href=\"#DejaVuSans-105\"/>\n       <use x=\"520.703125\" xlink:href=\"#DejaVuSans-99\"/>\n       <use x=\"575.683594\" xlink:href=\"#DejaVuSans-70\"/>\n       <use x=\"625.953125\" xlink:href=\"#DejaVuSans-105\"/>\n       <use x=\"653.736328\" xlink:href=\"#DejaVuSans-101\"/>\n       <use x=\"715.259766\" xlink:href=\"#DejaVuSans-108\"/>\n       <use x=\"743.042969\" xlink:href=\"#DejaVuSans-100\"/>\n       <use x=\"806.519531\" xlink:href=\"#DejaVuSans-50\"/>\n       <use x=\"870.142578\" xlink:href=\"#DejaVuSans-49\"/>\n       <use x=\"933.765625\" xlink:href=\"#DejaVuSans-66\"/>\n      </g>\n     </g>\n    </g>\n    <g id=\"ytick_265\">\n     <g id=\"line2d_268\">\n      <g>\n       <use style=\"stroke:#000000;stroke-width:0.8;\" x=\"165.090625\" xlink:href=\"#m3b0424a600\" y=\"4157.575336\"/>\n      </g>\n     </g>\n     <g id=\"text_268\">\n      <!-- PropertyField15 -->\n      <g style=\"fill:#444443;\" transform=\"translate(79.970313 4161.374555)scale(0.1 -0.1)\">\n       <use xlink:href=\"#DejaVuSans-80\"/>\n       <use x=\"58.552734\" xlink:href=\"#DejaVuSans-114\"/>\n       <use x=\"97.416016\" xlink:href=\"#DejaVuSans-111\"/>\n       <use x=\"158.597656\" xlink:href=\"#DejaVuSans-112\"/>\n       <use x=\"222.074219\" xlink:href=\"#DejaVuSans-101\"/>\n       <use x=\"283.597656\" xlink:href=\"#DejaVuSans-114\"/>\n       <use x=\"324.710938\" xlink:href=\"#DejaVuSans-116\"/>\n       <use x=\"363.919922\" xlink:href=\"#DejaVuSans-121\"/>\n       <use x=\"423.099609\" xlink:href=\"#DejaVuSans-70\"/>\n       <use x=\"473.369141\" xlink:href=\"#DejaVuSans-105\"/>\n       <use x=\"501.152344\" xlink:href=\"#DejaVuSans-101\"/>\n       <use x=\"562.675781\" xlink:href=\"#DejaVuSans-108\"/>\n       <use x=\"590.458984\" xlink:href=\"#DejaVuSans-100\"/>\n       <use x=\"653.935547\" xlink:href=\"#DejaVuSans-49\"/>\n       <use x=\"717.558594\" xlink:href=\"#DejaVuSans-53\"/>\n      </g>\n     </g>\n    </g>\n    <g id=\"ytick_266\">\n     <g id=\"line2d_269\">\n      <g>\n       <use style=\"stroke:#000000;stroke-width:0.8;\" x=\"165.090625\" xlink:href=\"#m3b0424a600\" y=\"4173.291257\"/>\n      </g>\n     </g>\n     <g id=\"text_269\">\n      <!-- PersonalField84_na -->\n      <g style=\"fill:#444443;\" transform=\"translate(62.3125 4177.090475)scale(0.1 -0.1)\">\n       <use xlink:href=\"#DejaVuSans-80\"/>\n       <use x=\"56.677734\" xlink:href=\"#DejaVuSans-101\"/>\n       <use x=\"118.201172\" xlink:href=\"#DejaVuSans-114\"/>\n       <use x=\"159.314453\" xlink:href=\"#DejaVuSans-115\"/>\n       <use x=\"211.414062\" xlink:href=\"#DejaVuSans-111\"/>\n       <use x=\"272.595703\" xlink:href=\"#DejaVuSans-110\"/>\n       <use x=\"335.974609\" xlink:href=\"#DejaVuSans-97\"/>\n       <use x=\"397.253906\" xlink:href=\"#DejaVuSans-108\"/>\n       <use x=\"425.037109\" xlink:href=\"#DejaVuSans-70\"/>\n       <use x=\"475.306641\" xlink:href=\"#DejaVuSans-105\"/>\n       <use x=\"503.089844\" xlink:href=\"#DejaVuSans-101\"/>\n       <use x=\"564.613281\" xlink:href=\"#DejaVuSans-108\"/>\n       <use x=\"592.396484\" xlink:href=\"#DejaVuSans-100\"/>\n       <use x=\"655.873047\" xlink:href=\"#DejaVuSans-56\"/>\n       <use x=\"719.496094\" xlink:href=\"#DejaVuSans-52\"/>\n       <use x=\"783.119141\" xlink:href=\"#DejaVuSans-95\"/>\n       <use x=\"833.119141\" xlink:href=\"#DejaVuSans-110\"/>\n       <use x=\"896.498047\" xlink:href=\"#DejaVuSans-97\"/>\n      </g>\n     </g>\n    </g>\n    <g id=\"ytick_267\">\n     <g id=\"line2d_270\">\n      <g>\n       <use style=\"stroke:#000000;stroke-width:0.8;\" x=\"165.090625\" xlink:href=\"#m3b0424a600\" y=\"4189.007177\"/>\n      </g>\n     </g>\n     <g id=\"text_270\">\n      <!-- PersonalField15 -->\n      <g style=\"fill:#444443;\" transform=\"translate(79.778125 4192.806396)scale(0.1 -0.1)\">\n       <use xlink:href=\"#DejaVuSans-80\"/>\n       <use x=\"56.677734\" xlink:href=\"#DejaVuSans-101\"/>\n       <use x=\"118.201172\" xlink:href=\"#DejaVuSans-114\"/>\n       <use x=\"159.314453\" xlink:href=\"#DejaVuSans-115\"/>\n       <use x=\"211.414062\" xlink:href=\"#DejaVuSans-111\"/>\n       <use x=\"272.595703\" xlink:href=\"#DejaVuSans-110\"/>\n       <use x=\"335.974609\" xlink:href=\"#DejaVuSans-97\"/>\n       <use x=\"397.253906\" xlink:href=\"#DejaVuSans-108\"/>\n       <use x=\"425.037109\" xlink:href=\"#DejaVuSans-70\"/>\n       <use x=\"475.306641\" xlink:href=\"#DejaVuSans-105\"/>\n       <use x=\"503.089844\" xlink:href=\"#DejaVuSans-101\"/>\n       <use x=\"564.613281\" xlink:href=\"#DejaVuSans-108\"/>\n       <use x=\"592.396484\" xlink:href=\"#DejaVuSans-100\"/>\n       <use x=\"655.873047\" xlink:href=\"#DejaVuSans-49\"/>\n       <use x=\"719.496094\" xlink:href=\"#DejaVuSans-53\"/>\n      </g>\n     </g>\n    </g>\n    <g id=\"ytick_268\">\n     <g id=\"line2d_271\">\n      <g>\n       <use style=\"stroke:#000000;stroke-width:0.8;\" x=\"165.090625\" xlink:href=\"#m3b0424a600\" y=\"4204.723098\"/>\n      </g>\n     </g>\n     <g id=\"text_271\">\n      <!-- PropertyField35 -->\n      <g style=\"fill:#444443;\" transform=\"translate(79.970313 4208.522316)scale(0.1 -0.1)\">\n       <use xlink:href=\"#DejaVuSans-80\"/>\n       <use x=\"58.552734\" xlink:href=\"#DejaVuSans-114\"/>\n       <use x=\"97.416016\" xlink:href=\"#DejaVuSans-111\"/>\n       <use x=\"158.597656\" xlink:href=\"#DejaVuSans-112\"/>\n       <use x=\"222.074219\" xlink:href=\"#DejaVuSans-101\"/>\n       <use x=\"283.597656\" xlink:href=\"#DejaVuSans-114\"/>\n       <use x=\"324.710938\" xlink:href=\"#DejaVuSans-116\"/>\n       <use x=\"363.919922\" xlink:href=\"#DejaVuSans-121\"/>\n       <use x=\"423.099609\" xlink:href=\"#DejaVuSans-70\"/>\n       <use x=\"473.369141\" xlink:href=\"#DejaVuSans-105\"/>\n       <use x=\"501.152344\" xlink:href=\"#DejaVuSans-101\"/>\n       <use x=\"562.675781\" xlink:href=\"#DejaVuSans-108\"/>\n       <use x=\"590.458984\" xlink:href=\"#DejaVuSans-100\"/>\n       <use x=\"653.935547\" xlink:href=\"#DejaVuSans-51\"/>\n       <use x=\"717.558594\" xlink:href=\"#DejaVuSans-53\"/>\n      </g>\n     </g>\n    </g>\n    <g id=\"ytick_269\">\n     <g id=\"line2d_272\">\n      <g>\n       <use style=\"stroke:#000000;stroke-width:0.8;\" x=\"165.090625\" xlink:href=\"#m3b0424a600\" y=\"4220.439018\"/>\n      </g>\n     </g>\n     <g id=\"text_272\">\n      <!-- PropertyField14 -->\n      <g style=\"fill:#444443;\" transform=\"translate(79.970313 4224.238237)scale(0.1 -0.1)\">\n       <use xlink:href=\"#DejaVuSans-80\"/>\n       <use x=\"58.552734\" xlink:href=\"#DejaVuSans-114\"/>\n       <use x=\"97.416016\" xlink:href=\"#DejaVuSans-111\"/>\n       <use x=\"158.597656\" xlink:href=\"#DejaVuSans-112\"/>\n       <use x=\"222.074219\" xlink:href=\"#DejaVuSans-101\"/>\n       <use x=\"283.597656\" xlink:href=\"#DejaVuSans-114\"/>\n       <use x=\"324.710938\" xlink:href=\"#DejaVuSans-116\"/>\n       <use x=\"363.919922\" xlink:href=\"#DejaVuSans-121\"/>\n       <use x=\"423.099609\" xlink:href=\"#DejaVuSans-70\"/>\n       <use x=\"473.369141\" xlink:href=\"#DejaVuSans-105\"/>\n       <use x=\"501.152344\" xlink:href=\"#DejaVuSans-101\"/>\n       <use x=\"562.675781\" xlink:href=\"#DejaVuSans-108\"/>\n       <use x=\"590.458984\" xlink:href=\"#DejaVuSans-100\"/>\n       <use x=\"653.935547\" xlink:href=\"#DejaVuSans-49\"/>\n       <use x=\"717.558594\" xlink:href=\"#DejaVuSans-52\"/>\n      </g>\n     </g>\n    </g>\n    <g id=\"ytick_270\">\n     <g id=\"line2d_273\">\n      <g>\n       <use style=\"stroke:#000000;stroke-width:0.8;\" x=\"165.090625\" xlink:href=\"#m3b0424a600\" y=\"4236.154939\"/>\n      </g>\n     </g>\n     <g id=\"text_273\">\n      <!-- GeographicField26A -->\n      <g style=\"fill:#444443;\" transform=\"translate(57.870313 4239.954157)scale(0.1 -0.1)\">\n       <use xlink:href=\"#DejaVuSans-71\"/>\n       <use x=\"77.490234\" xlink:href=\"#DejaVuSans-101\"/>\n       <use x=\"139.013672\" xlink:href=\"#DejaVuSans-111\"/>\n       <use x=\"200.195312\" xlink:href=\"#DejaVuSans-103\"/>\n       <use x=\"263.671875\" xlink:href=\"#DejaVuSans-114\"/>\n       <use x=\"304.785156\" xlink:href=\"#DejaVuSans-97\"/>\n       <use x=\"366.064453\" xlink:href=\"#DejaVuSans-112\"/>\n       <use x=\"429.541016\" xlink:href=\"#DejaVuSans-104\"/>\n       <use x=\"492.919922\" xlink:href=\"#DejaVuSans-105\"/>\n       <use x=\"520.703125\" xlink:href=\"#DejaVuSans-99\"/>\n       <use x=\"575.683594\" xlink:href=\"#DejaVuSans-70\"/>\n       <use x=\"625.953125\" xlink:href=\"#DejaVuSans-105\"/>\n       <use x=\"653.736328\" xlink:href=\"#DejaVuSans-101\"/>\n       <use x=\"715.259766\" xlink:href=\"#DejaVuSans-108\"/>\n       <use x=\"743.042969\" xlink:href=\"#DejaVuSans-100\"/>\n       <use x=\"806.519531\" xlink:href=\"#DejaVuSans-50\"/>\n       <use x=\"870.142578\" xlink:href=\"#DejaVuSans-54\"/>\n       <use x=\"933.765625\" xlink:href=\"#DejaVuSans-65\"/>\n      </g>\n     </g>\n    </g>\n    <g id=\"ytick_271\">\n     <g id=\"line2d_274\">\n      <g>\n       <use style=\"stroke:#000000;stroke-width:0.8;\" x=\"165.090625\" xlink:href=\"#m3b0424a600\" y=\"4251.870859\"/>\n      </g>\n     </g>\n     <g id=\"text_274\">\n      <!-- GeographicField15A -->\n      <g style=\"fill:#444443;\" transform=\"translate(57.870313 4255.670078)scale(0.1 -0.1)\">\n       <use xlink:href=\"#DejaVuSans-71\"/>\n       <use x=\"77.490234\" xlink:href=\"#DejaVuSans-101\"/>\n       <use x=\"139.013672\" xlink:href=\"#DejaVuSans-111\"/>\n       <use x=\"200.195312\" xlink:href=\"#DejaVuSans-103\"/>\n       <use x=\"263.671875\" xlink:href=\"#DejaVuSans-114\"/>\n       <use x=\"304.785156\" xlink:href=\"#DejaVuSans-97\"/>\n       <use x=\"366.064453\" xlink:href=\"#DejaVuSans-112\"/>\n       <use x=\"429.541016\" xlink:href=\"#DejaVuSans-104\"/>\n       <use x=\"492.919922\" xlink:href=\"#DejaVuSans-105\"/>\n       <use x=\"520.703125\" xlink:href=\"#DejaVuSans-99\"/>\n       <use x=\"575.683594\" xlink:href=\"#DejaVuSans-70\"/>\n       <use x=\"625.953125\" xlink:href=\"#DejaVuSans-105\"/>\n       <use x=\"653.736328\" xlink:href=\"#DejaVuSans-101\"/>\n       <use x=\"715.259766\" xlink:href=\"#DejaVuSans-108\"/>\n       <use x=\"743.042969\" xlink:href=\"#DejaVuSans-100\"/>\n       <use x=\"806.519531\" xlink:href=\"#DejaVuSans-49\"/>\n       <use x=\"870.142578\" xlink:href=\"#DejaVuSans-53\"/>\n       <use x=\"933.765625\" xlink:href=\"#DejaVuSans-65\"/>\n      </g>\n     </g>\n    </g>\n    <g id=\"ytick_272\">\n     <g id=\"line2d_275\">\n      <g>\n       <use style=\"stroke:#000000;stroke-width:0.8;\" x=\"165.090625\" xlink:href=\"#m3b0424a600\" y=\"4267.58678\"/>\n      </g>\n     </g>\n     <g id=\"text_275\">\n      <!-- GeographicField4A -->\n      <g style=\"fill:#444443;\" transform=\"translate(64.232813 4271.385998)scale(0.1 -0.1)\">\n       <use xlink:href=\"#DejaVuSans-71\"/>\n       <use x=\"77.490234\" xlink:href=\"#DejaVuSans-101\"/>\n       <use x=\"139.013672\" xlink:href=\"#DejaVuSans-111\"/>\n       <use x=\"200.195312\" xlink:href=\"#DejaVuSans-103\"/>\n       <use x=\"263.671875\" xlink:href=\"#DejaVuSans-114\"/>\n       <use x=\"304.785156\" xlink:href=\"#DejaVuSans-97\"/>\n       <use x=\"366.064453\" xlink:href=\"#DejaVuSans-112\"/>\n       <use x=\"429.541016\" xlink:href=\"#DejaVuSans-104\"/>\n       <use x=\"492.919922\" xlink:href=\"#DejaVuSans-105\"/>\n       <use x=\"520.703125\" xlink:href=\"#DejaVuSans-99\"/>\n       <use x=\"575.683594\" xlink:href=\"#DejaVuSans-70\"/>\n       <use x=\"625.953125\" xlink:href=\"#DejaVuSans-105\"/>\n       <use x=\"653.736328\" xlink:href=\"#DejaVuSans-101\"/>\n       <use x=\"715.259766\" xlink:href=\"#DejaVuSans-108\"/>\n       <use x=\"743.042969\" xlink:href=\"#DejaVuSans-100\"/>\n       <use x=\"806.519531\" xlink:href=\"#DejaVuSans-52\"/>\n       <use x=\"870.142578\" xlink:href=\"#DejaVuSans-65\"/>\n      </g>\n     </g>\n    </g>\n    <g id=\"ytick_273\">\n     <g id=\"line2d_276\">\n      <g>\n       <use style=\"stroke:#000000;stroke-width:0.8;\" x=\"165.090625\" xlink:href=\"#m3b0424a600\" y=\"4283.3027\"/>\n      </g>\n     </g>\n     <g id=\"text_276\">\n      <!-- GeographicField3B -->\n      <g style=\"fill:#444443;\" transform=\"translate(64.2125 4287.101919)scale(0.1 -0.1)\">\n       <use xlink:href=\"#DejaVuSans-71\"/>\n       <use x=\"77.490234\" xlink:href=\"#DejaVuSans-101\"/>\n       <use x=\"139.013672\" xlink:href=\"#DejaVuSans-111\"/>\n       <use x=\"200.195312\" xlink:href=\"#DejaVuSans-103\"/>\n       <use x=\"263.671875\" xlink:href=\"#DejaVuSans-114\"/>\n       <use x=\"304.785156\" xlink:href=\"#DejaVuSans-97\"/>\n       <use x=\"366.064453\" xlink:href=\"#DejaVuSans-112\"/>\n       <use x=\"429.541016\" xlink:href=\"#DejaVuSans-104\"/>\n       <use x=\"492.919922\" xlink:href=\"#DejaVuSans-105\"/>\n       <use x=\"520.703125\" xlink:href=\"#DejaVuSans-99\"/>\n       <use x=\"575.683594\" xlink:href=\"#DejaVuSans-70\"/>\n       <use x=\"625.953125\" xlink:href=\"#DejaVuSans-105\"/>\n       <use x=\"653.736328\" xlink:href=\"#DejaVuSans-101\"/>\n       <use x=\"715.259766\" xlink:href=\"#DejaVuSans-108\"/>\n       <use x=\"743.042969\" xlink:href=\"#DejaVuSans-100\"/>\n       <use x=\"806.519531\" xlink:href=\"#DejaVuSans-51\"/>\n       <use x=\"870.142578\" xlink:href=\"#DejaVuSans-66\"/>\n      </g>\n     </g>\n    </g>\n    <g id=\"ytick_274\">\n     <g id=\"line2d_277\">\n      <g>\n       <use style=\"stroke:#000000;stroke-width:0.8;\" x=\"165.090625\" xlink:href=\"#m3b0424a600\" y=\"4299.018621\"/>\n      </g>\n     </g>\n     <g id=\"text_277\">\n      <!-- GeographicField24A -->\n      <g style=\"fill:#444443;\" transform=\"translate(57.870313 4302.817839)scale(0.1 -0.1)\">\n       <use xlink:href=\"#DejaVuSans-71\"/>\n       <use x=\"77.490234\" xlink:href=\"#DejaVuSans-101\"/>\n       <use x=\"139.013672\" xlink:href=\"#DejaVuSans-111\"/>\n       <use x=\"200.195312\" xlink:href=\"#DejaVuSans-103\"/>\n       <use x=\"263.671875\" xlink:href=\"#DejaVuSans-114\"/>\n       <use x=\"304.785156\" xlink:href=\"#DejaVuSans-97\"/>\n       <use x=\"366.064453\" xlink:href=\"#DejaVuSans-112\"/>\n       <use x=\"429.541016\" xlink:href=\"#DejaVuSans-104\"/>\n       <use x=\"492.919922\" xlink:href=\"#DejaVuSans-105\"/>\n       <use x=\"520.703125\" xlink:href=\"#DejaVuSans-99\"/>\n       <use x=\"575.683594\" xlink:href=\"#DejaVuSans-70\"/>\n       <use x=\"625.953125\" xlink:href=\"#DejaVuSans-105\"/>\n       <use x=\"653.736328\" xlink:href=\"#DejaVuSans-101\"/>\n       <use x=\"715.259766\" xlink:href=\"#DejaVuSans-108\"/>\n       <use x=\"743.042969\" xlink:href=\"#DejaVuSans-100\"/>\n       <use x=\"806.519531\" xlink:href=\"#DejaVuSans-50\"/>\n       <use x=\"870.142578\" xlink:href=\"#DejaVuSans-52\"/>\n       <use x=\"933.765625\" xlink:href=\"#DejaVuSans-65\"/>\n      </g>\n     </g>\n    </g>\n    <g id=\"ytick_275\">\n     <g id=\"line2d_278\">\n      <g>\n       <use style=\"stroke:#000000;stroke-width:0.8;\" x=\"165.090625\" xlink:href=\"#m3b0424a600\" y=\"4314.734541\"/>\n      </g>\n     </g>\n     <g id=\"text_278\">\n      <!-- GeographicField6B -->\n      <g style=\"fill:#444443;\" transform=\"translate(64.2125 4318.53376)scale(0.1 -0.1)\">\n       <use xlink:href=\"#DejaVuSans-71\"/>\n       <use x=\"77.490234\" xlink:href=\"#DejaVuSans-101\"/>\n       <use x=\"139.013672\" xlink:href=\"#DejaVuSans-111\"/>\n       <use x=\"200.195312\" xlink:href=\"#DejaVuSans-103\"/>\n       <use x=\"263.671875\" xlink:href=\"#DejaVuSans-114\"/>\n       <use x=\"304.785156\" xlink:href=\"#DejaVuSans-97\"/>\n       <use x=\"366.064453\" xlink:href=\"#DejaVuSans-112\"/>\n       <use x=\"429.541016\" xlink:href=\"#DejaVuSans-104\"/>\n       <use x=\"492.919922\" xlink:href=\"#DejaVuSans-105\"/>\n       <use x=\"520.703125\" xlink:href=\"#DejaVuSans-99\"/>\n       <use x=\"575.683594\" xlink:href=\"#DejaVuSans-70\"/>\n       <use x=\"625.953125\" xlink:href=\"#DejaVuSans-105\"/>\n       <use x=\"653.736328\" xlink:href=\"#DejaVuSans-101\"/>\n       <use x=\"715.259766\" xlink:href=\"#DejaVuSans-108\"/>\n       <use x=\"743.042969\" xlink:href=\"#DejaVuSans-100\"/>\n       <use x=\"806.519531\" xlink:href=\"#DejaVuSans-54\"/>\n       <use x=\"870.142578\" xlink:href=\"#DejaVuSans-66\"/>\n      </g>\n     </g>\n    </g>\n    <g id=\"ytick_276\">\n     <g id=\"line2d_279\">\n      <g>\n       <use style=\"stroke:#000000;stroke-width:0.8;\" x=\"165.090625\" xlink:href=\"#m3b0424a600\" y=\"4330.450462\"/>\n      </g>\n     </g>\n     <g id=\"text_279\">\n      <!-- GeographicField22B -->\n      <g style=\"fill:#444443;\" transform=\"translate(57.85 4334.24968)scale(0.1 -0.1)\">\n       <use xlink:href=\"#DejaVuSans-71\"/>\n       <use x=\"77.490234\" xlink:href=\"#DejaVuSans-101\"/>\n       <use x=\"139.013672\" xlink:href=\"#DejaVuSans-111\"/>\n       <use x=\"200.195312\" xlink:href=\"#DejaVuSans-103\"/>\n       <use x=\"263.671875\" xlink:href=\"#DejaVuSans-114\"/>\n       <use x=\"304.785156\" xlink:href=\"#DejaVuSans-97\"/>\n       <use x=\"366.064453\" xlink:href=\"#DejaVuSans-112\"/>\n       <use x=\"429.541016\" xlink:href=\"#DejaVuSans-104\"/>\n       <use x=\"492.919922\" xlink:href=\"#DejaVuSans-105\"/>\n       <use x=\"520.703125\" xlink:href=\"#DejaVuSans-99\"/>\n       <use x=\"575.683594\" xlink:href=\"#DejaVuSans-70\"/>\n       <use x=\"625.953125\" xlink:href=\"#DejaVuSans-105\"/>\n       <use x=\"653.736328\" xlink:href=\"#DejaVuSans-101\"/>\n       <use x=\"715.259766\" xlink:href=\"#DejaVuSans-108\"/>\n       <use x=\"743.042969\" xlink:href=\"#DejaVuSans-100\"/>\n       <use x=\"806.519531\" xlink:href=\"#DejaVuSans-50\"/>\n       <use x=\"870.142578\" xlink:href=\"#DejaVuSans-50\"/>\n       <use x=\"933.765625\" xlink:href=\"#DejaVuSans-66\"/>\n      </g>\n     </g>\n    </g>\n    <g id=\"ytick_277\">\n     <g id=\"line2d_280\">\n      <g>\n       <use style=\"stroke:#000000;stroke-width:0.8;\" x=\"165.090625\" xlink:href=\"#m3b0424a600\" y=\"4346.166382\"/>\n      </g>\n     </g>\n     <g id=\"text_280\">\n      <!-- PropertyField33 -->\n      <g style=\"fill:#444443;\" transform=\"translate(79.970313 4349.965601)scale(0.1 -0.1)\">\n       <use xlink:href=\"#DejaVuSans-80\"/>\n       <use x=\"58.552734\" xlink:href=\"#DejaVuSans-114\"/>\n       <use x=\"97.416016\" xlink:href=\"#DejaVuSans-111\"/>\n       <use x=\"158.597656\" xlink:href=\"#DejaVuSans-112\"/>\n       <use x=\"222.074219\" xlink:href=\"#DejaVuSans-101\"/>\n       <use x=\"283.597656\" xlink:href=\"#DejaVuSans-114\"/>\n       <use x=\"324.710938\" xlink:href=\"#DejaVuSans-116\"/>\n       <use x=\"363.919922\" xlink:href=\"#DejaVuSans-121\"/>\n       <use x=\"423.099609\" xlink:href=\"#DejaVuSans-70\"/>\n       <use x=\"473.369141\" xlink:href=\"#DejaVuSans-105\"/>\n       <use x=\"501.152344\" xlink:href=\"#DejaVuSans-101\"/>\n       <use x=\"562.675781\" xlink:href=\"#DejaVuSans-108\"/>\n       <use x=\"590.458984\" xlink:href=\"#DejaVuSans-100\"/>\n       <use x=\"653.935547\" xlink:href=\"#DejaVuSans-51\"/>\n       <use x=\"717.558594\" xlink:href=\"#DejaVuSans-51\"/>\n      </g>\n     </g>\n    </g>\n    <g id=\"ytick_278\">\n     <g id=\"line2d_281\">\n      <g>\n       <use style=\"stroke:#000000;stroke-width:0.8;\" x=\"165.090625\" xlink:href=\"#m3b0424a600\" y=\"4361.882303\"/>\n      </g>\n     </g>\n     <g id=\"text_281\">\n      <!-- GeographicField48B -->\n      <g style=\"fill:#444443;\" transform=\"translate(57.85 4365.681521)scale(0.1 -0.1)\">\n       <use xlink:href=\"#DejaVuSans-71\"/>\n       <use x=\"77.490234\" xlink:href=\"#DejaVuSans-101\"/>\n       <use x=\"139.013672\" xlink:href=\"#DejaVuSans-111\"/>\n       <use x=\"200.195312\" xlink:href=\"#DejaVuSans-103\"/>\n       <use x=\"263.671875\" xlink:href=\"#DejaVuSans-114\"/>\n       <use x=\"304.785156\" xlink:href=\"#DejaVuSans-97\"/>\n       <use x=\"366.064453\" xlink:href=\"#DejaVuSans-112\"/>\n       <use x=\"429.541016\" xlink:href=\"#DejaVuSans-104\"/>\n       <use x=\"492.919922\" xlink:href=\"#DejaVuSans-105\"/>\n       <use x=\"520.703125\" xlink:href=\"#DejaVuSans-99\"/>\n       <use x=\"575.683594\" xlink:href=\"#DejaVuSans-70\"/>\n       <use x=\"625.953125\" xlink:href=\"#DejaVuSans-105\"/>\n       <use x=\"653.736328\" xlink:href=\"#DejaVuSans-101\"/>\n       <use x=\"715.259766\" xlink:href=\"#DejaVuSans-108\"/>\n       <use x=\"743.042969\" xlink:href=\"#DejaVuSans-100\"/>\n       <use x=\"806.519531\" xlink:href=\"#DejaVuSans-52\"/>\n       <use x=\"870.142578\" xlink:href=\"#DejaVuSans-56\"/>\n       <use x=\"933.765625\" xlink:href=\"#DejaVuSans-66\"/>\n      </g>\n     </g>\n    </g>\n    <g id=\"ytick_279\">\n     <g id=\"line2d_282\">\n      <g>\n       <use style=\"stroke:#000000;stroke-width:0.8;\" x=\"165.090625\" xlink:href=\"#m3b0424a600\" y=\"4377.598223\"/>\n      </g>\n     </g>\n     <g id=\"text_282\">\n      <!-- GeographicField55A -->\n      <g style=\"fill:#444443;\" transform=\"translate(57.870313 4381.397442)scale(0.1 -0.1)\">\n       <use xlink:href=\"#DejaVuSans-71\"/>\n       <use x=\"77.490234\" xlink:href=\"#DejaVuSans-101\"/>\n       <use x=\"139.013672\" xlink:href=\"#DejaVuSans-111\"/>\n       <use x=\"200.195312\" xlink:href=\"#DejaVuSans-103\"/>\n       <use x=\"263.671875\" xlink:href=\"#DejaVuSans-114\"/>\n       <use x=\"304.785156\" xlink:href=\"#DejaVuSans-97\"/>\n       <use x=\"366.064453\" xlink:href=\"#DejaVuSans-112\"/>\n       <use x=\"429.541016\" xlink:href=\"#DejaVuSans-104\"/>\n       <use x=\"492.919922\" xlink:href=\"#DejaVuSans-105\"/>\n       <use x=\"520.703125\" xlink:href=\"#DejaVuSans-99\"/>\n       <use x=\"575.683594\" xlink:href=\"#DejaVuSans-70\"/>\n       <use x=\"625.953125\" xlink:href=\"#DejaVuSans-105\"/>\n       <use x=\"653.736328\" xlink:href=\"#DejaVuSans-101\"/>\n       <use x=\"715.259766\" xlink:href=\"#DejaVuSans-108\"/>\n       <use x=\"743.042969\" xlink:href=\"#DejaVuSans-100\"/>\n       <use x=\"806.519531\" xlink:href=\"#DejaVuSans-53\"/>\n       <use x=\"870.142578\" xlink:href=\"#DejaVuSans-53\"/>\n       <use x=\"933.765625\" xlink:href=\"#DejaVuSans-65\"/>\n      </g>\n     </g>\n    </g>\n    <g id=\"ytick_280\">\n     <g id=\"line2d_283\">\n      <g>\n       <use style=\"stroke:#000000;stroke-width:0.8;\" x=\"165.090625\" xlink:href=\"#m3b0424a600\" y=\"4393.314144\"/>\n      </g>\n     </g>\n     <g id=\"text_283\">\n      <!-- PropertyField16A -->\n      <g style=\"fill:#444443;\" transform=\"translate(73.129688 4397.113363)scale(0.1 -0.1)\">\n       <use xlink:href=\"#DejaVuSans-80\"/>\n       <use x=\"58.552734\" xlink:href=\"#DejaVuSans-114\"/>\n       <use x=\"97.416016\" xlink:href=\"#DejaVuSans-111\"/>\n       <use x=\"158.597656\" xlink:href=\"#DejaVuSans-112\"/>\n       <use x=\"222.074219\" xlink:href=\"#DejaVuSans-101\"/>\n       <use x=\"283.597656\" xlink:href=\"#DejaVuSans-114\"/>\n       <use x=\"324.710938\" xlink:href=\"#DejaVuSans-116\"/>\n       <use x=\"363.919922\" xlink:href=\"#DejaVuSans-121\"/>\n       <use x=\"423.099609\" xlink:href=\"#DejaVuSans-70\"/>\n       <use x=\"473.369141\" xlink:href=\"#DejaVuSans-105\"/>\n       <use x=\"501.152344\" xlink:href=\"#DejaVuSans-101\"/>\n       <use x=\"562.675781\" xlink:href=\"#DejaVuSans-108\"/>\n       <use x=\"590.458984\" xlink:href=\"#DejaVuSans-100\"/>\n       <use x=\"653.935547\" xlink:href=\"#DejaVuSans-49\"/>\n       <use x=\"717.558594\" xlink:href=\"#DejaVuSans-54\"/>\n       <use x=\"781.181641\" xlink:href=\"#DejaVuSans-65\"/>\n      </g>\n     </g>\n    </g>\n    <g id=\"ytick_281\">\n     <g id=\"line2d_284\">\n      <g>\n       <use style=\"stroke:#000000;stroke-width:0.8;\" x=\"165.090625\" xlink:href=\"#m3b0424a600\" y=\"4409.030064\"/>\n      </g>\n     </g>\n     <g id=\"text_284\">\n      <!-- CoverageField6B -->\n      <g style=\"fill:#444443;\" transform=\"translate(73.86875 4412.829283)scale(0.1 -0.1)\">\n       <use xlink:href=\"#DejaVuSans-67\"/>\n       <use x=\"69.824219\" xlink:href=\"#DejaVuSans-111\"/>\n       <use x=\"131.005859\" xlink:href=\"#DejaVuSans-118\"/>\n       <use x=\"190.185547\" xlink:href=\"#DejaVuSans-101\"/>\n       <use x=\"251.708984\" xlink:href=\"#DejaVuSans-114\"/>\n       <use x=\"292.822266\" xlink:href=\"#DejaVuSans-97\"/>\n       <use x=\"354.101562\" xlink:href=\"#DejaVuSans-103\"/>\n       <use x=\"417.578125\" xlink:href=\"#DejaVuSans-101\"/>\n       <use x=\"479.101562\" xlink:href=\"#DejaVuSans-70\"/>\n       <use x=\"529.371094\" xlink:href=\"#DejaVuSans-105\"/>\n       <use x=\"557.154297\" xlink:href=\"#DejaVuSans-101\"/>\n       <use x=\"618.677734\" xlink:href=\"#DejaVuSans-108\"/>\n       <use x=\"646.460938\" xlink:href=\"#DejaVuSans-100\"/>\n       <use x=\"709.9375\" xlink:href=\"#DejaVuSans-54\"/>\n       <use x=\"773.560547\" xlink:href=\"#DejaVuSans-66\"/>\n      </g>\n     </g>\n    </g>\n    <g id=\"ytick_282\">\n     <g id=\"line2d_285\">\n      <g>\n       <use style=\"stroke:#000000;stroke-width:0.8;\" x=\"165.090625\" xlink:href=\"#m3b0424a600\" y=\"4424.745985\"/>\n      </g>\n     </g>\n     <g id=\"text_285\">\n      <!-- GeographicField5B -->\n      <g style=\"fill:#444443;\" transform=\"translate(64.2125 4428.545204)scale(0.1 -0.1)\">\n       <use xlink:href=\"#DejaVuSans-71\"/>\n       <use x=\"77.490234\" xlink:href=\"#DejaVuSans-101\"/>\n       <use x=\"139.013672\" xlink:href=\"#DejaVuSans-111\"/>\n       <use x=\"200.195312\" xlink:href=\"#DejaVuSans-103\"/>\n       <use x=\"263.671875\" xlink:href=\"#DejaVuSans-114\"/>\n       <use x=\"304.785156\" xlink:href=\"#DejaVuSans-97\"/>\n       <use x=\"366.064453\" xlink:href=\"#DejaVuSans-112\"/>\n       <use x=\"429.541016\" xlink:href=\"#DejaVuSans-104\"/>\n       <use x=\"492.919922\" xlink:href=\"#DejaVuSans-105\"/>\n       <use x=\"520.703125\" xlink:href=\"#DejaVuSans-99\"/>\n       <use x=\"575.683594\" xlink:href=\"#DejaVuSans-70\"/>\n       <use x=\"625.953125\" xlink:href=\"#DejaVuSans-105\"/>\n       <use x=\"653.736328\" xlink:href=\"#DejaVuSans-101\"/>\n       <use x=\"715.259766\" xlink:href=\"#DejaVuSans-108\"/>\n       <use x=\"743.042969\" xlink:href=\"#DejaVuSans-100\"/>\n       <use x=\"806.519531\" xlink:href=\"#DejaVuSans-53\"/>\n       <use x=\"870.142578\" xlink:href=\"#DejaVuSans-66\"/>\n      </g>\n     </g>\n    </g>\n    <g id=\"ytick_283\">\n     <g id=\"line2d_286\">\n      <g>\n       <use style=\"stroke:#000000;stroke-width:0.8;\" x=\"165.090625\" xlink:href=\"#m3b0424a600\" y=\"4440.461905\"/>\n      </g>\n     </g>\n     <g id=\"text_286\">\n      <!-- Field9 -->\n      <g style=\"fill:#444443;\" transform=\"translate(128.64375 4444.261124)scale(0.1 -0.1)\">\n       <use xlink:href=\"#DejaVuSans-70\"/>\n       <use x=\"50.269531\" xlink:href=\"#DejaVuSans-105\"/>\n       <use x=\"78.052734\" xlink:href=\"#DejaVuSans-101\"/>\n       <use x=\"139.576172\" xlink:href=\"#DejaVuSans-108\"/>\n       <use x=\"167.359375\" xlink:href=\"#DejaVuSans-100\"/>\n       <use x=\"230.835938\" xlink:href=\"#DejaVuSans-57\"/>\n      </g>\n     </g>\n    </g>\n    <g id=\"ytick_284\">\n     <g id=\"line2d_287\">\n      <g>\n       <use style=\"stroke:#000000;stroke-width:0.8;\" x=\"165.090625\" xlink:href=\"#m3b0424a600\" y=\"4456.177826\"/>\n      </g>\n     </g>\n     <g id=\"text_287\">\n      <!-- GeographicField36A -->\n      <g style=\"fill:#444443;\" transform=\"translate(57.870313 4459.977045)scale(0.1 -0.1)\">\n       <use xlink:href=\"#DejaVuSans-71\"/>\n       <use x=\"77.490234\" xlink:href=\"#DejaVuSans-101\"/>\n       <use x=\"139.013672\" xlink:href=\"#DejaVuSans-111\"/>\n       <use x=\"200.195312\" xlink:href=\"#DejaVuSans-103\"/>\n       <use x=\"263.671875\" xlink:href=\"#DejaVuSans-114\"/>\n       <use x=\"304.785156\" xlink:href=\"#DejaVuSans-97\"/>\n       <use x=\"366.064453\" xlink:href=\"#DejaVuSans-112\"/>\n       <use x=\"429.541016\" xlink:href=\"#DejaVuSans-104\"/>\n       <use x=\"492.919922\" xlink:href=\"#DejaVuSans-105\"/>\n       <use x=\"520.703125\" xlink:href=\"#DejaVuSans-99\"/>\n       <use x=\"575.683594\" xlink:href=\"#DejaVuSans-70\"/>\n       <use x=\"625.953125\" xlink:href=\"#DejaVuSans-105\"/>\n       <use x=\"653.736328\" xlink:href=\"#DejaVuSans-101\"/>\n       <use x=\"715.259766\" xlink:href=\"#DejaVuSans-108\"/>\n       <use x=\"743.042969\" xlink:href=\"#DejaVuSans-100\"/>\n       <use x=\"806.519531\" xlink:href=\"#DejaVuSans-51\"/>\n       <use x=\"870.142578\" xlink:href=\"#DejaVuSans-54\"/>\n       <use x=\"933.765625\" xlink:href=\"#DejaVuSans-65\"/>\n      </g>\n     </g>\n    </g>\n    <g id=\"ytick_285\">\n     <g id=\"line2d_288\">\n      <g>\n       <use style=\"stroke:#000000;stroke-width:0.8;\" x=\"165.090625\" xlink:href=\"#m3b0424a600\" y=\"4471.893746\"/>\n      </g>\n     </g>\n     <g id=\"text_288\">\n      <!-- GeographicField32A -->\n      <g style=\"fill:#444443;\" transform=\"translate(57.870313 4475.692965)scale(0.1 -0.1)\">\n       <use xlink:href=\"#DejaVuSans-71\"/>\n       <use x=\"77.490234\" xlink:href=\"#DejaVuSans-101\"/>\n       <use x=\"139.013672\" xlink:href=\"#DejaVuSans-111\"/>\n       <use x=\"200.195312\" xlink:href=\"#DejaVuSans-103\"/>\n       <use x=\"263.671875\" xlink:href=\"#DejaVuSans-114\"/>\n       <use x=\"304.785156\" xlink:href=\"#DejaVuSans-97\"/>\n       <use x=\"366.064453\" xlink:href=\"#DejaVuSans-112\"/>\n       <use x=\"429.541016\" xlink:href=\"#DejaVuSans-104\"/>\n       <use x=\"492.919922\" xlink:href=\"#DejaVuSans-105\"/>\n       <use x=\"520.703125\" xlink:href=\"#DejaVuSans-99\"/>\n       <use x=\"575.683594\" xlink:href=\"#DejaVuSans-70\"/>\n       <use x=\"625.953125\" xlink:href=\"#DejaVuSans-105\"/>\n       <use x=\"653.736328\" xlink:href=\"#DejaVuSans-101\"/>\n       <use x=\"715.259766\" xlink:href=\"#DejaVuSans-108\"/>\n       <use x=\"743.042969\" xlink:href=\"#DejaVuSans-100\"/>\n       <use x=\"806.519531\" xlink:href=\"#DejaVuSans-51\"/>\n       <use x=\"870.142578\" xlink:href=\"#DejaVuSans-50\"/>\n       <use x=\"933.765625\" xlink:href=\"#DejaVuSans-65\"/>\n      </g>\n     </g>\n    </g>\n    <g id=\"ytick_286\">\n     <g id=\"line2d_289\">\n      <g>\n       <use style=\"stroke:#000000;stroke-width:0.8;\" x=\"165.090625\" xlink:href=\"#m3b0424a600\" y=\"4487.609667\"/>\n      </g>\n     </g>\n     <g id=\"text_289\">\n      <!-- PropertyField7 -->\n      <g style=\"fill:#444443;\" transform=\"translate(86.332813 4491.408886)scale(0.1 -0.1)\">\n       <use xlink:href=\"#DejaVuSans-80\"/>\n       <use x=\"58.552734\" xlink:href=\"#DejaVuSans-114\"/>\n       <use x=\"97.416016\" xlink:href=\"#DejaVuSans-111\"/>\n       <use x=\"158.597656\" xlink:href=\"#DejaVuSans-112\"/>\n       <use x=\"222.074219\" xlink:href=\"#DejaVuSans-101\"/>\n       <use x=\"283.597656\" xlink:href=\"#DejaVuSans-114\"/>\n       <use x=\"324.710938\" xlink:href=\"#DejaVuSans-116\"/>\n       <use x=\"363.919922\" xlink:href=\"#DejaVuSans-121\"/>\n       <use x=\"423.099609\" xlink:href=\"#DejaVuSans-70\"/>\n       <use x=\"473.369141\" xlink:href=\"#DejaVuSans-105\"/>\n       <use x=\"501.152344\" xlink:href=\"#DejaVuSans-101\"/>\n       <use x=\"562.675781\" xlink:href=\"#DejaVuSans-108\"/>\n       <use x=\"590.458984\" xlink:href=\"#DejaVuSans-100\"/>\n       <use x=\"653.935547\" xlink:href=\"#DejaVuSans-55\"/>\n      </g>\n     </g>\n    </g>\n    <g id=\"ytick_287\">\n     <g id=\"line2d_290\">\n      <g>\n       <use style=\"stroke:#000000;stroke-width:0.8;\" x=\"165.090625\" xlink:href=\"#m3b0424a600\" y=\"4503.325587\"/>\n      </g>\n     </g>\n     <g id=\"text_290\">\n      <!-- GeographicField15B -->\n      <g style=\"fill:#444443;\" transform=\"translate(57.85 4507.124806)scale(0.1 -0.1)\">\n       <use xlink:href=\"#DejaVuSans-71\"/>\n       <use x=\"77.490234\" xlink:href=\"#DejaVuSans-101\"/>\n       <use x=\"139.013672\" xlink:href=\"#DejaVuSans-111\"/>\n       <use x=\"200.195312\" xlink:href=\"#DejaVuSans-103\"/>\n       <use x=\"263.671875\" xlink:href=\"#DejaVuSans-114\"/>\n       <use x=\"304.785156\" xlink:href=\"#DejaVuSans-97\"/>\n       <use x=\"366.064453\" xlink:href=\"#DejaVuSans-112\"/>\n       <use x=\"429.541016\" xlink:href=\"#DejaVuSans-104\"/>\n       <use x=\"492.919922\" xlink:href=\"#DejaVuSans-105\"/>\n       <use x=\"520.703125\" xlink:href=\"#DejaVuSans-99\"/>\n       <use x=\"575.683594\" xlink:href=\"#DejaVuSans-70\"/>\n       <use x=\"625.953125\" xlink:href=\"#DejaVuSans-105\"/>\n       <use x=\"653.736328\" xlink:href=\"#DejaVuSans-101\"/>\n       <use x=\"715.259766\" xlink:href=\"#DejaVuSans-108\"/>\n       <use x=\"743.042969\" xlink:href=\"#DejaVuSans-100\"/>\n       <use x=\"806.519531\" xlink:href=\"#DejaVuSans-49\"/>\n       <use x=\"870.142578\" xlink:href=\"#DejaVuSans-53\"/>\n       <use x=\"933.765625\" xlink:href=\"#DejaVuSans-66\"/>\n      </g>\n     </g>\n    </g>\n    <g id=\"ytick_288\">\n     <g id=\"line2d_291\">\n      <g>\n       <use style=\"stroke:#000000;stroke-width:0.8;\" x=\"165.090625\" xlink:href=\"#m3b0424a600\" y=\"4519.041508\"/>\n      </g>\n     </g>\n     <g id=\"text_291\">\n      <!-- GeographicField19A -->\n      <g style=\"fill:#444443;\" transform=\"translate(57.870313 4522.840727)scale(0.1 -0.1)\">\n       <use xlink:href=\"#DejaVuSans-71\"/>\n       <use x=\"77.490234\" xlink:href=\"#DejaVuSans-101\"/>\n       <use x=\"139.013672\" xlink:href=\"#DejaVuSans-111\"/>\n       <use x=\"200.195312\" xlink:href=\"#DejaVuSans-103\"/>\n       <use x=\"263.671875\" xlink:href=\"#DejaVuSans-114\"/>\n       <use x=\"304.785156\" xlink:href=\"#DejaVuSans-97\"/>\n       <use x=\"366.064453\" xlink:href=\"#DejaVuSans-112\"/>\n       <use x=\"429.541016\" xlink:href=\"#DejaVuSans-104\"/>\n       <use x=\"492.919922\" xlink:href=\"#DejaVuSans-105\"/>\n       <use x=\"520.703125\" xlink:href=\"#DejaVuSans-99\"/>\n       <use x=\"575.683594\" xlink:href=\"#DejaVuSans-70\"/>\n       <use x=\"625.953125\" xlink:href=\"#DejaVuSans-105\"/>\n       <use x=\"653.736328\" xlink:href=\"#DejaVuSans-101\"/>\n       <use x=\"715.259766\" xlink:href=\"#DejaVuSans-108\"/>\n       <use x=\"743.042969\" xlink:href=\"#DejaVuSans-100\"/>\n       <use x=\"806.519531\" xlink:href=\"#DejaVuSans-49\"/>\n       <use x=\"870.142578\" xlink:href=\"#DejaVuSans-57\"/>\n       <use x=\"933.765625\" xlink:href=\"#DejaVuSans-65\"/>\n      </g>\n     </g>\n    </g>\n    <g id=\"ytick_289\">\n     <g id=\"line2d_292\">\n      <g>\n       <use style=\"stroke:#000000;stroke-width:0.8;\" x=\"165.090625\" xlink:href=\"#m3b0424a600\" y=\"4534.757428\"/>\n      </g>\n     </g>\n     <g id=\"text_292\">\n      <!-- GeographicField26B -->\n      <g style=\"fill:#444443;\" transform=\"translate(57.85 4538.556647)scale(0.1 -0.1)\">\n       <use xlink:href=\"#DejaVuSans-71\"/>\n       <use x=\"77.490234\" xlink:href=\"#DejaVuSans-101\"/>\n       <use x=\"139.013672\" xlink:href=\"#DejaVuSans-111\"/>\n       <use x=\"200.195312\" xlink:href=\"#DejaVuSans-103\"/>\n       <use x=\"263.671875\" xlink:href=\"#DejaVuSans-114\"/>\n       <use x=\"304.785156\" xlink:href=\"#DejaVuSans-97\"/>\n       <use x=\"366.064453\" xlink:href=\"#DejaVuSans-112\"/>\n       <use x=\"429.541016\" xlink:href=\"#DejaVuSans-104\"/>\n       <use x=\"492.919922\" xlink:href=\"#DejaVuSans-105\"/>\n       <use x=\"520.703125\" xlink:href=\"#DejaVuSans-99\"/>\n       <use x=\"575.683594\" xlink:href=\"#DejaVuSans-70\"/>\n       <use x=\"625.953125\" xlink:href=\"#DejaVuSans-105\"/>\n       <use x=\"653.736328\" xlink:href=\"#DejaVuSans-101\"/>\n       <use x=\"715.259766\" xlink:href=\"#DejaVuSans-108\"/>\n       <use x=\"743.042969\" xlink:href=\"#DejaVuSans-100\"/>\n       <use x=\"806.519531\" xlink:href=\"#DejaVuSans-50\"/>\n       <use x=\"870.142578\" xlink:href=\"#DejaVuSans-54\"/>\n       <use x=\"933.765625\" xlink:href=\"#DejaVuSans-66\"/>\n      </g>\n     </g>\n    </g>\n    <g id=\"ytick_290\">\n     <g id=\"line2d_293\">\n      <g>\n       <use style=\"stroke:#000000;stroke-width:0.8;\" x=\"165.090625\" xlink:href=\"#m3b0424a600\" y=\"4550.473349\"/>\n      </g>\n     </g>\n     <g id=\"text_293\">\n      <!-- Field8 -->\n      <g style=\"fill:#444443;\" transform=\"translate(128.64375 4554.272568)scale(0.1 -0.1)\">\n       <use xlink:href=\"#DejaVuSans-70\"/>\n       <use x=\"50.269531\" xlink:href=\"#DejaVuSans-105\"/>\n       <use x=\"78.052734\" xlink:href=\"#DejaVuSans-101\"/>\n       <use x=\"139.576172\" xlink:href=\"#DejaVuSans-108\"/>\n       <use x=\"167.359375\" xlink:href=\"#DejaVuSans-100\"/>\n       <use x=\"230.835938\" xlink:href=\"#DejaVuSans-56\"/>\n      </g>\n     </g>\n    </g>\n    <g id=\"ytick_291\">\n     <g id=\"line2d_294\">\n      <g>\n       <use style=\"stroke:#000000;stroke-width:0.8;\" x=\"165.090625\" xlink:href=\"#m3b0424a600\" y=\"4566.189269\"/>\n      </g>\n     </g>\n     <g id=\"text_294\">\n      <!-- GeographicField13A -->\n      <g style=\"fill:#444443;\" transform=\"translate(57.870313 4569.988488)scale(0.1 -0.1)\">\n       <use xlink:href=\"#DejaVuSans-71\"/>\n       <use x=\"77.490234\" xlink:href=\"#DejaVuSans-101\"/>\n       <use x=\"139.013672\" xlink:href=\"#DejaVuSans-111\"/>\n       <use x=\"200.195312\" xlink:href=\"#DejaVuSans-103\"/>\n       <use x=\"263.671875\" xlink:href=\"#DejaVuSans-114\"/>\n       <use x=\"304.785156\" xlink:href=\"#DejaVuSans-97\"/>\n       <use x=\"366.064453\" xlink:href=\"#DejaVuSans-112\"/>\n       <use x=\"429.541016\" xlink:href=\"#DejaVuSans-104\"/>\n       <use x=\"492.919922\" xlink:href=\"#DejaVuSans-105\"/>\n       <use x=\"520.703125\" xlink:href=\"#DejaVuSans-99\"/>\n       <use x=\"575.683594\" xlink:href=\"#DejaVuSans-70\"/>\n       <use x=\"625.953125\" xlink:href=\"#DejaVuSans-105\"/>\n       <use x=\"653.736328\" xlink:href=\"#DejaVuSans-101\"/>\n       <use x=\"715.259766\" xlink:href=\"#DejaVuSans-108\"/>\n       <use x=\"743.042969\" xlink:href=\"#DejaVuSans-100\"/>\n       <use x=\"806.519531\" xlink:href=\"#DejaVuSans-49\"/>\n       <use x=\"870.142578\" xlink:href=\"#DejaVuSans-51\"/>\n       <use x=\"933.765625\" xlink:href=\"#DejaVuSans-65\"/>\n      </g>\n     </g>\n    </g>\n    <g id=\"ytick_292\">\n     <g id=\"line2d_295\">\n      <g>\n       <use style=\"stroke:#000000;stroke-width:0.8;\" x=\"165.090625\" xlink:href=\"#m3b0424a600\" y=\"4581.90519\"/>\n      </g>\n     </g>\n     <g id=\"text_295\">\n      <!-- PersonalField18 -->\n      <g style=\"fill:#444443;\" transform=\"translate(79.778125 4585.704409)scale(0.1 -0.1)\">\n       <use xlink:href=\"#DejaVuSans-80\"/>\n       <use x=\"56.677734\" xlink:href=\"#DejaVuSans-101\"/>\n       <use x=\"118.201172\" xlink:href=\"#DejaVuSans-114\"/>\n       <use x=\"159.314453\" xlink:href=\"#DejaVuSans-115\"/>\n       <use x=\"211.414062\" xlink:href=\"#DejaVuSans-111\"/>\n       <use x=\"272.595703\" xlink:href=\"#DejaVuSans-110\"/>\n       <use x=\"335.974609\" xlink:href=\"#DejaVuSans-97\"/>\n       <use x=\"397.253906\" xlink:href=\"#DejaVuSans-108\"/>\n       <use x=\"425.037109\" xlink:href=\"#DejaVuSans-70\"/>\n       <use x=\"475.306641\" xlink:href=\"#DejaVuSans-105\"/>\n       <use x=\"503.089844\" xlink:href=\"#DejaVuSans-101\"/>\n       <use x=\"564.613281\" xlink:href=\"#DejaVuSans-108\"/>\n       <use x=\"592.396484\" xlink:href=\"#DejaVuSans-100\"/>\n       <use x=\"655.873047\" xlink:href=\"#DejaVuSans-49\"/>\n       <use x=\"719.496094\" xlink:href=\"#DejaVuSans-56\"/>\n      </g>\n     </g>\n    </g>\n    <g id=\"ytick_293\">\n     <g id=\"line2d_296\">\n      <g>\n       <use style=\"stroke:#000000;stroke-width:0.8;\" x=\"165.090625\" xlink:href=\"#m3b0424a600\" y=\"4597.62111\"/>\n      </g>\n     </g>\n     <g id=\"text_296\">\n      <!-- GeographicField43B -->\n      <g style=\"fill:#444443;\" transform=\"translate(57.85 4601.420329)scale(0.1 -0.1)\">\n       <use xlink:href=\"#DejaVuSans-71\"/>\n       <use x=\"77.490234\" xlink:href=\"#DejaVuSans-101\"/>\n       <use x=\"139.013672\" xlink:href=\"#DejaVuSans-111\"/>\n       <use x=\"200.195312\" xlink:href=\"#DejaVuSans-103\"/>\n       <use x=\"263.671875\" xlink:href=\"#DejaVuSans-114\"/>\n       <use x=\"304.785156\" xlink:href=\"#DejaVuSans-97\"/>\n       <use x=\"366.064453\" xlink:href=\"#DejaVuSans-112\"/>\n       <use x=\"429.541016\" xlink:href=\"#DejaVuSans-104\"/>\n       <use x=\"492.919922\" xlink:href=\"#DejaVuSans-105\"/>\n       <use x=\"520.703125\" xlink:href=\"#DejaVuSans-99\"/>\n       <use x=\"575.683594\" xlink:href=\"#DejaVuSans-70\"/>\n       <use x=\"625.953125\" xlink:href=\"#DejaVuSans-105\"/>\n       <use x=\"653.736328\" xlink:href=\"#DejaVuSans-101\"/>\n       <use x=\"715.259766\" xlink:href=\"#DejaVuSans-108\"/>\n       <use x=\"743.042969\" xlink:href=\"#DejaVuSans-100\"/>\n       <use x=\"806.519531\" xlink:href=\"#DejaVuSans-52\"/>\n       <use x=\"870.142578\" xlink:href=\"#DejaVuSans-51\"/>\n       <use x=\"933.765625\" xlink:href=\"#DejaVuSans-66\"/>\n      </g>\n     </g>\n    </g>\n    <g id=\"ytick_294\">\n     <g id=\"line2d_297\">\n      <g>\n       <use style=\"stroke:#000000;stroke-width:0.8;\" x=\"165.090625\" xlink:href=\"#m3b0424a600\" y=\"4613.337031\"/>\n      </g>\n     </g>\n     <g id=\"text_297\">\n      <!-- PropertyField16B -->\n      <g style=\"fill:#444443;\" transform=\"translate(73.109375 4617.13625)scale(0.1 -0.1)\">\n       <use xlink:href=\"#DejaVuSans-80\"/>\n       <use x=\"58.552734\" xlink:href=\"#DejaVuSans-114\"/>\n       <use x=\"97.416016\" xlink:href=\"#DejaVuSans-111\"/>\n       <use x=\"158.597656\" xlink:href=\"#DejaVuSans-112\"/>\n       <use x=\"222.074219\" xlink:href=\"#DejaVuSans-101\"/>\n       <use x=\"283.597656\" xlink:href=\"#DejaVuSans-114\"/>\n       <use x=\"324.710938\" xlink:href=\"#DejaVuSans-116\"/>\n       <use x=\"363.919922\" xlink:href=\"#DejaVuSans-121\"/>\n       <use x=\"423.099609\" xlink:href=\"#DejaVuSans-70\"/>\n       <use x=\"473.369141\" xlink:href=\"#DejaVuSans-105\"/>\n       <use x=\"501.152344\" xlink:href=\"#DejaVuSans-101\"/>\n       <use x=\"562.675781\" xlink:href=\"#DejaVuSans-108\"/>\n       <use x=\"590.458984\" xlink:href=\"#DejaVuSans-100\"/>\n       <use x=\"653.935547\" xlink:href=\"#DejaVuSans-49\"/>\n       <use x=\"717.558594\" xlink:href=\"#DejaVuSans-54\"/>\n       <use x=\"781.181641\" xlink:href=\"#DejaVuSans-66\"/>\n      </g>\n     </g>\n    </g>\n    <g id=\"ytick_295\">\n     <g id=\"line2d_298\">\n      <g>\n       <use style=\"stroke:#000000;stroke-width:0.8;\" x=\"165.090625\" xlink:href=\"#m3b0424a600\" y=\"4629.052951\"/>\n      </g>\n     </g>\n     <g id=\"text_298\">\n      <!-- PersonalField16 -->\n      <g style=\"fill:#444443;\" transform=\"translate(79.778125 4632.85217)scale(0.1 -0.1)\">\n       <use xlink:href=\"#DejaVuSans-80\"/>\n       <use x=\"56.677734\" xlink:href=\"#DejaVuSans-101\"/>\n       <use x=\"118.201172\" xlink:href=\"#DejaVuSans-114\"/>\n       <use x=\"159.314453\" xlink:href=\"#DejaVuSans-115\"/>\n       <use x=\"211.414062\" xlink:href=\"#DejaVuSans-111\"/>\n       <use x=\"272.595703\" xlink:href=\"#DejaVuSans-110\"/>\n       <use x=\"335.974609\" xlink:href=\"#DejaVuSans-97\"/>\n       <use x=\"397.253906\" xlink:href=\"#DejaVuSans-108\"/>\n       <use x=\"425.037109\" xlink:href=\"#DejaVuSans-70\"/>\n       <use x=\"475.306641\" xlink:href=\"#DejaVuSans-105\"/>\n       <use x=\"503.089844\" xlink:href=\"#DejaVuSans-101\"/>\n       <use x=\"564.613281\" xlink:href=\"#DejaVuSans-108\"/>\n       <use x=\"592.396484\" xlink:href=\"#DejaVuSans-100\"/>\n       <use x=\"655.873047\" xlink:href=\"#DejaVuSans-49\"/>\n       <use x=\"719.496094\" xlink:href=\"#DejaVuSans-54\"/>\n      </g>\n     </g>\n    </g>\n    <g id=\"ytick_296\">\n     <g id=\"line2d_299\">\n      <g>\n       <use style=\"stroke:#000000;stroke-width:0.8;\" x=\"165.090625\" xlink:href=\"#m3b0424a600\" y=\"4644.768872\"/>\n      </g>\n     </g>\n     <g id=\"text_299\">\n      <!-- PersonalField47 -->\n      <g style=\"fill:#444443;\" transform=\"translate(79.778125 4648.568091)scale(0.1 -0.1)\">\n       <use xlink:href=\"#DejaVuSans-80\"/>\n       <use x=\"56.677734\" xlink:href=\"#DejaVuSans-101\"/>\n       <use x=\"118.201172\" xlink:href=\"#DejaVuSans-114\"/>\n       <use x=\"159.314453\" xlink:href=\"#DejaVuSans-115\"/>\n       <use x=\"211.414062\" xlink:href=\"#DejaVuSans-111\"/>\n       <use x=\"272.595703\" xlink:href=\"#DejaVuSans-110\"/>\n       <use x=\"335.974609\" xlink:href=\"#DejaVuSans-97\"/>\n       <use x=\"397.253906\" xlink:href=\"#DejaVuSans-108\"/>\n       <use x=\"425.037109\" xlink:href=\"#DejaVuSans-70\"/>\n       <use x=\"475.306641\" xlink:href=\"#DejaVuSans-105\"/>\n       <use x=\"503.089844\" xlink:href=\"#DejaVuSans-101\"/>\n       <use x=\"564.613281\" xlink:href=\"#DejaVuSans-108\"/>\n       <use x=\"592.396484\" xlink:href=\"#DejaVuSans-100\"/>\n       <use x=\"655.873047\" xlink:href=\"#DejaVuSans-52\"/>\n       <use x=\"719.496094\" xlink:href=\"#DejaVuSans-55\"/>\n      </g>\n     </g>\n    </g>\n    <g id=\"ytick_297\">\n     <g id=\"line2d_300\">\n      <g>\n       <use style=\"stroke:#000000;stroke-width:0.8;\" x=\"165.090625\" xlink:href=\"#m3b0424a600\" y=\"4660.484793\"/>\n      </g>\n     </g>\n     <g id=\"text_300\">\n      <!-- PropertyField27 -->\n      <g style=\"fill:#444443;\" transform=\"translate(79.970313 4664.284011)scale(0.1 -0.1)\">\n       <use xlink:href=\"#DejaVuSans-80\"/>\n       <use x=\"58.552734\" xlink:href=\"#DejaVuSans-114\"/>\n       <use x=\"97.416016\" xlink:href=\"#DejaVuSans-111\"/>\n       <use x=\"158.597656\" xlink:href=\"#DejaVuSans-112\"/>\n       <use x=\"222.074219\" xlink:href=\"#DejaVuSans-101\"/>\n       <use x=\"283.597656\" xlink:href=\"#DejaVuSans-114\"/>\n       <use x=\"324.710938\" xlink:href=\"#DejaVuSans-116\"/>\n       <use x=\"363.919922\" xlink:href=\"#DejaVuSans-121\"/>\n       <use x=\"423.099609\" xlink:href=\"#DejaVuSans-70\"/>\n       <use x=\"473.369141\" xlink:href=\"#DejaVuSans-105\"/>\n       <use x=\"501.152344\" xlink:href=\"#DejaVuSans-101\"/>\n       <use x=\"562.675781\" xlink:href=\"#DejaVuSans-108\"/>\n       <use x=\"590.458984\" xlink:href=\"#DejaVuSans-100\"/>\n       <use x=\"653.935547\" xlink:href=\"#DejaVuSans-50\"/>\n       <use x=\"717.558594\" xlink:href=\"#DejaVuSans-55\"/>\n      </g>\n     </g>\n    </g>\n    <g id=\"ytick_298\">\n     <g id=\"line2d_301\">\n      <g>\n       <use style=\"stroke:#000000;stroke-width:0.8;\" x=\"165.090625\" xlink:href=\"#m3b0424a600\" y=\"4676.200713\"/>\n      </g>\n     </g>\n     <g id=\"text_301\">\n      <!-- GeographicField51A -->\n      <g style=\"fill:#444443;\" transform=\"translate(57.870313 4679.999932)scale(0.1 -0.1)\">\n       <use xlink:href=\"#DejaVuSans-71\"/>\n       <use x=\"77.490234\" xlink:href=\"#DejaVuSans-101\"/>\n       <use x=\"139.013672\" xlink:href=\"#DejaVuSans-111\"/>\n       <use x=\"200.195312\" xlink:href=\"#DejaVuSans-103\"/>\n       <use x=\"263.671875\" xlink:href=\"#DejaVuSans-114\"/>\n       <use x=\"304.785156\" xlink:href=\"#DejaVuSans-97\"/>\n       <use x=\"366.064453\" xlink:href=\"#DejaVuSans-112\"/>\n       <use x=\"429.541016\" xlink:href=\"#DejaVuSans-104\"/>\n       <use x=\"492.919922\" xlink:href=\"#DejaVuSans-105\"/>\n       <use x=\"520.703125\" xlink:href=\"#DejaVuSans-99\"/>\n       <use x=\"575.683594\" xlink:href=\"#DejaVuSans-70\"/>\n       <use x=\"625.953125\" xlink:href=\"#DejaVuSans-105\"/>\n       <use x=\"653.736328\" xlink:href=\"#DejaVuSans-101\"/>\n       <use x=\"715.259766\" xlink:href=\"#DejaVuSans-108\"/>\n       <use x=\"743.042969\" xlink:href=\"#DejaVuSans-100\"/>\n       <use x=\"806.519531\" xlink:href=\"#DejaVuSans-53\"/>\n       <use x=\"870.142578\" xlink:href=\"#DejaVuSans-49\"/>\n       <use x=\"933.765625\" xlink:href=\"#DejaVuSans-65\"/>\n      </g>\n     </g>\n    </g>\n    <g id=\"ytick_299\">\n     <g id=\"line2d_302\">\n      <g>\n       <use style=\"stroke:#000000;stroke-width:0.8;\" x=\"165.090625\" xlink:href=\"#m3b0424a600\" y=\"4691.916634\"/>\n      </g>\n     </g>\n     <g id=\"text_302\">\n      <!-- Field11 -->\n      <g style=\"fill:#444443;\" transform=\"translate(122.28125 4695.715852)scale(0.1 -0.1)\">\n       <use xlink:href=\"#DejaVuSans-70\"/>\n       <use x=\"50.269531\" xlink:href=\"#DejaVuSans-105\"/>\n       <use x=\"78.052734\" xlink:href=\"#DejaVuSans-101\"/>\n       <use x=\"139.576172\" xlink:href=\"#DejaVuSans-108\"/>\n       <use x=\"167.359375\" xlink:href=\"#DejaVuSans-100\"/>\n       <use x=\"230.835938\" xlink:href=\"#DejaVuSans-49\"/>\n       <use x=\"294.458984\" xlink:href=\"#DejaVuSans-49\"/>\n      </g>\n     </g>\n    </g>\n    <g id=\"ytick_300\">\n     <g id=\"line2d_303\">\n      <g>\n       <use style=\"stroke:#000000;stroke-width:0.8;\" x=\"165.090625\" xlink:href=\"#m3b0424a600\" y=\"4707.632554\"/>\n      </g>\n     </g>\n     <g id=\"text_303\">\n      <!-- GeographicField2A -->\n      <g style=\"fill:#444443;\" transform=\"translate(64.232813 4711.431773)scale(0.1 -0.1)\">\n       <use xlink:href=\"#DejaVuSans-71\"/>\n       <use x=\"77.490234\" xlink:href=\"#DejaVuSans-101\"/>\n       <use x=\"139.013672\" xlink:href=\"#DejaVuSans-111\"/>\n       <use x=\"200.195312\" xlink:href=\"#DejaVuSans-103\"/>\n       <use x=\"263.671875\" xlink:href=\"#DejaVuSans-114\"/>\n       <use x=\"304.785156\" xlink:href=\"#DejaVuSans-97\"/>\n       <use x=\"366.064453\" xlink:href=\"#DejaVuSans-112\"/>\n       <use x=\"429.541016\" xlink:href=\"#DejaVuSans-104\"/>\n       <use x=\"492.919922\" xlink:href=\"#DejaVuSans-105\"/>\n       <use x=\"520.703125\" xlink:href=\"#DejaVuSans-99\"/>\n       <use x=\"575.683594\" xlink:href=\"#DejaVuSans-70\"/>\n       <use x=\"625.953125\" xlink:href=\"#DejaVuSans-105\"/>\n       <use x=\"653.736328\" xlink:href=\"#DejaVuSans-101\"/>\n       <use x=\"715.259766\" xlink:href=\"#DejaVuSans-108\"/>\n       <use x=\"743.042969\" xlink:href=\"#DejaVuSans-100\"/>\n       <use x=\"806.519531\" xlink:href=\"#DejaVuSans-50\"/>\n       <use x=\"870.142578\" xlink:href=\"#DejaVuSans-65\"/>\n      </g>\n     </g>\n    </g>\n    <g id=\"ytick_301\">\n     <g id=\"line2d_304\">\n      <g>\n       <use style=\"stroke:#000000;stroke-width:0.8;\" x=\"165.090625\" xlink:href=\"#m3b0424a600\" y=\"4723.348475\"/>\n      </g>\n     </g>\n     <g id=\"text_304\">\n      <!-- GeographicField4B -->\n      <g style=\"fill:#444443;\" transform=\"translate(64.2125 4727.147693)scale(0.1 -0.1)\">\n       <use xlink:href=\"#DejaVuSans-71\"/>\n       <use x=\"77.490234\" xlink:href=\"#DejaVuSans-101\"/>\n       <use x=\"139.013672\" xlink:href=\"#DejaVuSans-111\"/>\n       <use x=\"200.195312\" xlink:href=\"#DejaVuSans-103\"/>\n       <use x=\"263.671875\" xlink:href=\"#DejaVuSans-114\"/>\n       <use x=\"304.785156\" xlink:href=\"#DejaVuSans-97\"/>\n       <use x=\"366.064453\" xlink:href=\"#DejaVuSans-112\"/>\n       <use x=\"429.541016\" xlink:href=\"#DejaVuSans-104\"/>\n       <use x=\"492.919922\" xlink:href=\"#DejaVuSans-105\"/>\n       <use x=\"520.703125\" xlink:href=\"#DejaVuSans-99\"/>\n       <use x=\"575.683594\" xlink:href=\"#DejaVuSans-70\"/>\n       <use x=\"625.953125\" xlink:href=\"#DejaVuSans-105\"/>\n       <use x=\"653.736328\" xlink:href=\"#DejaVuSans-101\"/>\n       <use x=\"715.259766\" xlink:href=\"#DejaVuSans-108\"/>\n       <use x=\"743.042969\" xlink:href=\"#DejaVuSans-100\"/>\n       <use x=\"806.519531\" xlink:href=\"#DejaVuSans-52\"/>\n       <use x=\"870.142578\" xlink:href=\"#DejaVuSans-66\"/>\n      </g>\n     </g>\n    </g>\n    <g id=\"ytick_302\">\n     <g id=\"line2d_305\">\n      <g>\n       <use style=\"stroke:#000000;stroke-width:0.8;\" x=\"165.090625\" xlink:href=\"#m3b0424a600\" y=\"4739.064395\"/>\n      </g>\n     </g>\n     <g id=\"text_305\">\n      <!-- GeographicField30A -->\n      <g style=\"fill:#444443;\" transform=\"translate(57.870313 4742.863614)scale(0.1 -0.1)\">\n       <use xlink:href=\"#DejaVuSans-71\"/>\n       <use x=\"77.490234\" xlink:href=\"#DejaVuSans-101\"/>\n       <use x=\"139.013672\" xlink:href=\"#DejaVuSans-111\"/>\n       <use x=\"200.195312\" xlink:href=\"#DejaVuSans-103\"/>\n       <use x=\"263.671875\" xlink:href=\"#DejaVuSans-114\"/>\n       <use x=\"304.785156\" xlink:href=\"#DejaVuSans-97\"/>\n       <use x=\"366.064453\" xlink:href=\"#DejaVuSans-112\"/>\n       <use x=\"429.541016\" xlink:href=\"#DejaVuSans-104\"/>\n       <use x=\"492.919922\" xlink:href=\"#DejaVuSans-105\"/>\n       <use x=\"520.703125\" xlink:href=\"#DejaVuSans-99\"/>\n       <use x=\"575.683594\" xlink:href=\"#DejaVuSans-70\"/>\n       <use x=\"625.953125\" xlink:href=\"#DejaVuSans-105\"/>\n       <use x=\"653.736328\" xlink:href=\"#DejaVuSans-101\"/>\n       <use x=\"715.259766\" xlink:href=\"#DejaVuSans-108\"/>\n       <use x=\"743.042969\" xlink:href=\"#DejaVuSans-100\"/>\n       <use x=\"806.519531\" xlink:href=\"#DejaVuSans-51\"/>\n       <use x=\"870.142578\" xlink:href=\"#DejaVuSans-48\"/>\n       <use x=\"933.765625\" xlink:href=\"#DejaVuSans-65\"/>\n      </g>\n     </g>\n    </g>\n    <g id=\"ytick_303\">\n     <g id=\"line2d_306\">\n      <g>\n       <use style=\"stroke:#000000;stroke-width:0.8;\" x=\"165.090625\" xlink:href=\"#m3b0424a600\" y=\"4754.780316\"/>\n      </g>\n     </g>\n     <g id=\"text_306\">\n      <!-- CoverageField3B -->\n      <g style=\"fill:#444443;\" transform=\"translate(73.86875 4758.579534)scale(0.1 -0.1)\">\n       <use xlink:href=\"#DejaVuSans-67\"/>\n       <use x=\"69.824219\" xlink:href=\"#DejaVuSans-111\"/>\n       <use x=\"131.005859\" xlink:href=\"#DejaVuSans-118\"/>\n       <use x=\"190.185547\" xlink:href=\"#DejaVuSans-101\"/>\n       <use x=\"251.708984\" xlink:href=\"#DejaVuSans-114\"/>\n       <use x=\"292.822266\" xlink:href=\"#DejaVuSans-97\"/>\n       <use x=\"354.101562\" xlink:href=\"#DejaVuSans-103\"/>\n       <use x=\"417.578125\" xlink:href=\"#DejaVuSans-101\"/>\n       <use x=\"479.101562\" xlink:href=\"#DejaVuSans-70\"/>\n       <use x=\"529.371094\" xlink:href=\"#DejaVuSans-105\"/>\n       <use x=\"557.154297\" xlink:href=\"#DejaVuSans-101\"/>\n       <use x=\"618.677734\" xlink:href=\"#DejaVuSans-108\"/>\n       <use x=\"646.460938\" xlink:href=\"#DejaVuSans-100\"/>\n       <use x=\"709.9375\" xlink:href=\"#DejaVuSans-51\"/>\n       <use x=\"773.560547\" xlink:href=\"#DejaVuSans-66\"/>\n      </g>\n     </g>\n    </g>\n    <g id=\"ytick_304\">\n     <g id=\"line2d_307\">\n      <g>\n       <use style=\"stroke:#000000;stroke-width:0.8;\" x=\"165.090625\" xlink:href=\"#m3b0424a600\" y=\"4770.496236\"/>\n      </g>\n     </g>\n     <g id=\"text_307\">\n      <!-- Field6 -->\n      <g style=\"fill:#444443;\" transform=\"translate(128.64375 4774.295455)scale(0.1 -0.1)\">\n       <use xlink:href=\"#DejaVuSans-70\"/>\n       <use x=\"50.269531\" xlink:href=\"#DejaVuSans-105\"/>\n       <use x=\"78.052734\" xlink:href=\"#DejaVuSans-101\"/>\n       <use x=\"139.576172\" xlink:href=\"#DejaVuSans-108\"/>\n       <use x=\"167.359375\" xlink:href=\"#DejaVuSans-100\"/>\n       <use x=\"230.835938\" xlink:href=\"#DejaVuSans-54\"/>\n      </g>\n     </g>\n    </g>\n    <g id=\"ytick_305\">\n     <g id=\"line2d_308\">\n      <g>\n       <use style=\"stroke:#000000;stroke-width:0.8;\" x=\"165.090625\" xlink:href=\"#m3b0424a600\" y=\"4786.212157\"/>\n      </g>\n     </g>\n     <g id=\"text_308\">\n      <!-- PropertyField34 -->\n      <g style=\"fill:#444443;\" transform=\"translate(79.970313 4790.011375)scale(0.1 -0.1)\">\n       <use xlink:href=\"#DejaVuSans-80\"/>\n       <use x=\"58.552734\" xlink:href=\"#DejaVuSans-114\"/>\n       <use x=\"97.416016\" xlink:href=\"#DejaVuSans-111\"/>\n       <use x=\"158.597656\" xlink:href=\"#DejaVuSans-112\"/>\n       <use x=\"222.074219\" xlink:href=\"#DejaVuSans-101\"/>\n       <use x=\"283.597656\" xlink:href=\"#DejaVuSans-114\"/>\n       <use x=\"324.710938\" xlink:href=\"#DejaVuSans-116\"/>\n       <use x=\"363.919922\" xlink:href=\"#DejaVuSans-121\"/>\n       <use x=\"423.099609\" xlink:href=\"#DejaVuSans-70\"/>\n       <use x=\"473.369141\" xlink:href=\"#DejaVuSans-105\"/>\n       <use x=\"501.152344\" xlink:href=\"#DejaVuSans-101\"/>\n       <use x=\"562.675781\" xlink:href=\"#DejaVuSans-108\"/>\n       <use x=\"590.458984\" xlink:href=\"#DejaVuSans-100\"/>\n       <use x=\"653.935547\" xlink:href=\"#DejaVuSans-51\"/>\n       <use x=\"717.558594\" xlink:href=\"#DejaVuSans-52\"/>\n      </g>\n     </g>\n    </g>\n    <g id=\"ytick_306\">\n     <g id=\"line2d_309\">\n      <g>\n       <use style=\"stroke:#000000;stroke-width:0.8;\" x=\"165.090625\" xlink:href=\"#m3b0424a600\" y=\"4801.928077\"/>\n      </g>\n     </g>\n     <g id=\"text_309\">\n      <!-- GeographicField33B -->\n      <g style=\"fill:#444443;\" transform=\"translate(57.85 4805.727296)scale(0.1 -0.1)\">\n       <use xlink:href=\"#DejaVuSans-71\"/>\n       <use x=\"77.490234\" xlink:href=\"#DejaVuSans-101\"/>\n       <use x=\"139.013672\" xlink:href=\"#DejaVuSans-111\"/>\n       <use x=\"200.195312\" xlink:href=\"#DejaVuSans-103\"/>\n       <use x=\"263.671875\" xlink:href=\"#DejaVuSans-114\"/>\n       <use x=\"304.785156\" xlink:href=\"#DejaVuSans-97\"/>\n       <use x=\"366.064453\" xlink:href=\"#DejaVuSans-112\"/>\n       <use x=\"429.541016\" xlink:href=\"#DejaVuSans-104\"/>\n       <use x=\"492.919922\" xlink:href=\"#DejaVuSans-105\"/>\n       <use x=\"520.703125\" xlink:href=\"#DejaVuSans-99\"/>\n       <use x=\"575.683594\" xlink:href=\"#DejaVuSans-70\"/>\n       <use x=\"625.953125\" xlink:href=\"#DejaVuSans-105\"/>\n       <use x=\"653.736328\" xlink:href=\"#DejaVuSans-101\"/>\n       <use x=\"715.259766\" xlink:href=\"#DejaVuSans-108\"/>\n       <use x=\"743.042969\" xlink:href=\"#DejaVuSans-100\"/>\n       <use x=\"806.519531\" xlink:href=\"#DejaVuSans-51\"/>\n       <use x=\"870.142578\" xlink:href=\"#DejaVuSans-51\"/>\n       <use x=\"933.765625\" xlink:href=\"#DejaVuSans-66\"/>\n      </g>\n     </g>\n    </g>\n    <g id=\"ytick_307\">\n     <g id=\"line2d_310\">\n      <g>\n       <use style=\"stroke:#000000;stroke-width:0.8;\" x=\"165.090625\" xlink:href=\"#m3b0424a600\" y=\"4817.643998\"/>\n      </g>\n     </g>\n     <g id=\"text_310\">\n      <!-- GeographicField39B -->\n      <g style=\"fill:#444443;\" transform=\"translate(57.85 4821.443216)scale(0.1 -0.1)\">\n       <use xlink:href=\"#DejaVuSans-71\"/>\n       <use x=\"77.490234\" xlink:href=\"#DejaVuSans-101\"/>\n       <use x=\"139.013672\" xlink:href=\"#DejaVuSans-111\"/>\n       <use x=\"200.195312\" xlink:href=\"#DejaVuSans-103\"/>\n       <use x=\"263.671875\" xlink:href=\"#DejaVuSans-114\"/>\n       <use x=\"304.785156\" xlink:href=\"#DejaVuSans-97\"/>\n       <use x=\"366.064453\" xlink:href=\"#DejaVuSans-112\"/>\n       <use x=\"429.541016\" xlink:href=\"#DejaVuSans-104\"/>\n       <use x=\"492.919922\" xlink:href=\"#DejaVuSans-105\"/>\n       <use x=\"520.703125\" xlink:href=\"#DejaVuSans-99\"/>\n       <use x=\"575.683594\" xlink:href=\"#DejaVuSans-70\"/>\n       <use x=\"625.953125\" xlink:href=\"#DejaVuSans-105\"/>\n       <use x=\"653.736328\" xlink:href=\"#DejaVuSans-101\"/>\n       <use x=\"715.259766\" xlink:href=\"#DejaVuSans-108\"/>\n       <use x=\"743.042969\" xlink:href=\"#DejaVuSans-100\"/>\n       <use x=\"806.519531\" xlink:href=\"#DejaVuSans-51\"/>\n       <use x=\"870.142578\" xlink:href=\"#DejaVuSans-57\"/>\n       <use x=\"933.765625\" xlink:href=\"#DejaVuSans-66\"/>\n      </g>\n     </g>\n    </g>\n    <g id=\"ytick_308\">\n     <g id=\"line2d_311\">\n      <g>\n       <use style=\"stroke:#000000;stroke-width:0.8;\" x=\"165.090625\" xlink:href=\"#m3b0424a600\" y=\"4833.359918\"/>\n      </g>\n     </g>\n     <g id=\"text_311\">\n      <!-- GeographicField6A -->\n      <g style=\"fill:#444443;\" transform=\"translate(64.232813 4837.159137)scale(0.1 -0.1)\">\n       <use xlink:href=\"#DejaVuSans-71\"/>\n       <use x=\"77.490234\" xlink:href=\"#DejaVuSans-101\"/>\n       <use x=\"139.013672\" xlink:href=\"#DejaVuSans-111\"/>\n       <use x=\"200.195312\" xlink:href=\"#DejaVuSans-103\"/>\n       <use x=\"263.671875\" xlink:href=\"#DejaVuSans-114\"/>\n       <use x=\"304.785156\" xlink:href=\"#DejaVuSans-97\"/>\n       <use x=\"366.064453\" xlink:href=\"#DejaVuSans-112\"/>\n       <use x=\"429.541016\" xlink:href=\"#DejaVuSans-104\"/>\n       <use x=\"492.919922\" xlink:href=\"#DejaVuSans-105\"/>\n       <use x=\"520.703125\" xlink:href=\"#DejaVuSans-99\"/>\n       <use x=\"575.683594\" xlink:href=\"#DejaVuSans-70\"/>\n       <use x=\"625.953125\" xlink:href=\"#DejaVuSans-105\"/>\n       <use x=\"653.736328\" xlink:href=\"#DejaVuSans-101\"/>\n       <use x=\"715.259766\" xlink:href=\"#DejaVuSans-108\"/>\n       <use x=\"743.042969\" xlink:href=\"#DejaVuSans-100\"/>\n       <use x=\"806.519531\" xlink:href=\"#DejaVuSans-54\"/>\n       <use x=\"870.142578\" xlink:href=\"#DejaVuSans-65\"/>\n      </g>\n     </g>\n    </g>\n    <g id=\"ytick_309\">\n     <g id=\"line2d_312\">\n      <g>\n       <use style=\"stroke:#000000;stroke-width:0.8;\" x=\"165.090625\" xlink:href=\"#m3b0424a600\" y=\"4849.075839\"/>\n      </g>\n     </g>\n     <g id=\"text_312\">\n      <!-- Original_Quote_Dayofyear -->\n      <g style=\"fill:#444443;\" transform=\"translate(27.035938 4852.875057)scale(0.1 -0.1)\">\n       <use xlink:href=\"#DejaVuSans-79\"/>\n       <use x=\"78.710938\" xlink:href=\"#DejaVuSans-114\"/>\n       <use x=\"119.824219\" xlink:href=\"#DejaVuSans-105\"/>\n       <use x=\"147.607422\" xlink:href=\"#DejaVuSans-103\"/>\n       <use x=\"211.083984\" xlink:href=\"#DejaVuSans-105\"/>\n       <use x=\"238.867188\" xlink:href=\"#DejaVuSans-110\"/>\n       <use x=\"302.246094\" xlink:href=\"#DejaVuSans-97\"/>\n       <use x=\"363.525391\" xlink:href=\"#DejaVuSans-108\"/>\n       <use x=\"391.308594\" xlink:href=\"#DejaVuSans-95\"/>\n       <use x=\"441.308594\" xlink:href=\"#DejaVuSans-81\"/>\n       <use x=\"520.019531\" xlink:href=\"#DejaVuSans-117\"/>\n       <use x=\"583.398438\" xlink:href=\"#DejaVuSans-111\"/>\n       <use x=\"644.580078\" xlink:href=\"#DejaVuSans-116\"/>\n       <use x=\"683.789062\" xlink:href=\"#DejaVuSans-101\"/>\n       <use x=\"745.3125\" xlink:href=\"#DejaVuSans-95\"/>\n       <use x=\"795.3125\" xlink:href=\"#DejaVuSans-68\"/>\n       <use x=\"872.314453\" xlink:href=\"#DejaVuSans-97\"/>\n       <use x=\"933.59375\" xlink:href=\"#DejaVuSans-121\"/>\n       <use x=\"992.773438\" xlink:href=\"#DejaVuSans-111\"/>\n       <use x=\"1053.955078\" xlink:href=\"#DejaVuSans-102\"/>\n       <use x=\"1087.410156\" xlink:href=\"#DejaVuSans-121\"/>\n       <use x=\"1146.589844\" xlink:href=\"#DejaVuSans-101\"/>\n       <use x=\"1208.113281\" xlink:href=\"#DejaVuSans-97\"/>\n       <use x=\"1269.392578\" xlink:href=\"#DejaVuSans-114\"/>\n      </g>\n     </g>\n    </g>\n    <g id=\"ytick_310\">\n     <g id=\"line2d_313\">\n      <g>\n       <use style=\"stroke:#000000;stroke-width:0.8;\" x=\"165.090625\" xlink:href=\"#m3b0424a600\" y=\"4864.791759\"/>\n      </g>\n     </g>\n     <g id=\"text_313\">\n      <!-- GeographicField9B -->\n      <g style=\"fill:#444443;\" transform=\"translate(64.2125 4868.590978)scale(0.1 -0.1)\">\n       <use xlink:href=\"#DejaVuSans-71\"/>\n       <use x=\"77.490234\" xlink:href=\"#DejaVuSans-101\"/>\n       <use x=\"139.013672\" xlink:href=\"#DejaVuSans-111\"/>\n       <use x=\"200.195312\" xlink:href=\"#DejaVuSans-103\"/>\n       <use x=\"263.671875\" xlink:href=\"#DejaVuSans-114\"/>\n       <use x=\"304.785156\" xlink:href=\"#DejaVuSans-97\"/>\n       <use x=\"366.064453\" xlink:href=\"#DejaVuSans-112\"/>\n       <use x=\"429.541016\" xlink:href=\"#DejaVuSans-104\"/>\n       <use x=\"492.919922\" xlink:href=\"#DejaVuSans-105\"/>\n       <use x=\"520.703125\" xlink:href=\"#DejaVuSans-99\"/>\n       <use x=\"575.683594\" xlink:href=\"#DejaVuSans-70\"/>\n       <use x=\"625.953125\" xlink:href=\"#DejaVuSans-105\"/>\n       <use x=\"653.736328\" xlink:href=\"#DejaVuSans-101\"/>\n       <use x=\"715.259766\" xlink:href=\"#DejaVuSans-108\"/>\n       <use x=\"743.042969\" xlink:href=\"#DejaVuSans-100\"/>\n       <use x=\"806.519531\" xlink:href=\"#DejaVuSans-57\"/>\n       <use x=\"870.142578\" xlink:href=\"#DejaVuSans-66\"/>\n      </g>\n     </g>\n    </g>\n    <g id=\"ytick_311\">\n     <g id=\"line2d_314\">\n      <g>\n       <use style=\"stroke:#000000;stroke-width:0.8;\" x=\"165.090625\" xlink:href=\"#m3b0424a600\" y=\"4880.50768\"/>\n      </g>\n     </g>\n     <g id=\"text_314\">\n      <!-- GeographicField42B -->\n      <g style=\"fill:#444443;\" transform=\"translate(57.85 4884.306898)scale(0.1 -0.1)\">\n       <use xlink:href=\"#DejaVuSans-71\"/>\n       <use x=\"77.490234\" xlink:href=\"#DejaVuSans-101\"/>\n       <use x=\"139.013672\" xlink:href=\"#DejaVuSans-111\"/>\n       <use x=\"200.195312\" xlink:href=\"#DejaVuSans-103\"/>\n       <use x=\"263.671875\" xlink:href=\"#DejaVuSans-114\"/>\n       <use x=\"304.785156\" xlink:href=\"#DejaVuSans-97\"/>\n       <use x=\"366.064453\" xlink:href=\"#DejaVuSans-112\"/>\n       <use x=\"429.541016\" xlink:href=\"#DejaVuSans-104\"/>\n       <use x=\"492.919922\" xlink:href=\"#DejaVuSans-105\"/>\n       <use x=\"520.703125\" xlink:href=\"#DejaVuSans-99\"/>\n       <use x=\"575.683594\" xlink:href=\"#DejaVuSans-70\"/>\n       <use x=\"625.953125\" xlink:href=\"#DejaVuSans-105\"/>\n       <use x=\"653.736328\" xlink:href=\"#DejaVuSans-101\"/>\n       <use x=\"715.259766\" xlink:href=\"#DejaVuSans-108\"/>\n       <use x=\"743.042969\" xlink:href=\"#DejaVuSans-100\"/>\n       <use x=\"806.519531\" xlink:href=\"#DejaVuSans-52\"/>\n       <use x=\"870.142578\" xlink:href=\"#DejaVuSans-50\"/>\n       <use x=\"933.765625\" xlink:href=\"#DejaVuSans-66\"/>\n      </g>\n     </g>\n    </g>\n   </g>\n   <g id=\"patch_314\">\n    <path d=\"M 165.090625 4889.08 \nL 165.090625 -0 \n\" style=\"fill:none;stroke:#000000;stroke-linecap:square;stroke-linejoin:miter;stroke-width:0.3;\"/>\n   </g>\n   <g id=\"patch_315\">\n    <path d=\"M 255.365625 4889.08 \nL 255.365625 -0 \n\" style=\"fill:none;stroke:#000000;stroke-linecap:square;stroke-linejoin:miter;stroke-width:0.3;\"/>\n   </g>\n   <g id=\"patch_316\">\n    <path d=\"M 165.090625 4889.08 \nL 255.365625 4889.08 \n\" style=\"fill:none;stroke:#000000;stroke-linecap:square;stroke-linejoin:miter;stroke-width:0.3;\"/>\n   </g>\n   <g id=\"patch_317\">\n    <path d=\"M 165.090625 -0 \nL 255.365625 -0 \n\" style=\"fill:none;stroke:#000000;stroke-linecap:square;stroke-linejoin:miter;stroke-width:0.3;\"/>\n   </g>\n  </g>\n </g>\n <defs>\n  <clipPath id=\"pfa1a272ceb\">\n   <rect height=\"4889.08\" width=\"90.275\" x=\"165.090625\" y=\"-0\"/>\n  </clipPath>\n </defs>\n</svg>\n"
          },
          "metadata": {
            "tags": []
          },
          "execution_count": 41
        }
      ]
    },
    {
      "cell_type": "markdown",
      "metadata": {
        "id": "8c01da10-db4d-4759-995d-2154b81494f8"
      },
      "source": [
        "So here the most important are `PropertyField37`, `Field7`,`PersonalField1`, `SalesField5`, `PersonalField9`,`PersonalField2`"
      ],
      "id": "8c01da10-db4d-4759-995d-2154b81494f8"
    },
    {
      "cell_type": "code",
      "metadata": {
        "id": "b8bf6c11-7376-426b-b34b-e32615da7103"
      },
      "source": [
        "forest_preds = tree.predict_proba(X_valid)"
      ],
      "id": "b8bf6c11-7376-426b-b34b-e32615da7103",
      "execution_count": null,
      "outputs": []
    },
    {
      "cell_type": "code",
      "metadata": {
        "id": "a93d3b40-988e-4414-83ee-7e4d86ab183c",
        "colab": {
          "base_uri": "https://localhost:8080/"
        },
        "outputId": "75e82c5a-5e10-455a-c589-d3a6955b444e"
      },
      "source": [
        "rf_roc_auc_score=roc_auc_score(y_valid, forest_preds[:,1])\n",
        "rf_roc_auc_score"
      ],
      "id": "a93d3b40-988e-4414-83ee-7e4d86ab183c",
      "execution_count": null,
      "outputs": [
        {
          "output_type": "execute_result",
          "data": {
            "text/plain": [
              "0.9557626850997376"
            ]
          },
          "metadata": {
            "tags": []
          },
          "execution_count": 43
        }
      ]
    },
    {
      "cell_type": "code",
      "metadata": {
        "id": "041a3ac4-9dd8-48f6-931c-39d9775786c9"
      },
      "source": [
        "new_avgs =  (preds + xgb_preds + forest_preds) / 3"
      ],
      "id": "041a3ac4-9dd8-48f6-931c-39d9775786c9",
      "execution_count": null,
      "outputs": []
    },
    {
      "cell_type": "code",
      "metadata": {
        "id": "4r4LR1RpxIuB",
        "colab": {
          "base_uri": "https://localhost:8080/"
        },
        "outputId": "a583d557-7381-4e03-dab6-d2994ea8bf1c"
      },
      "source": [
        "dlxg_roc_auc_score"
      ],
      "id": "4r4LR1RpxIuB",
      "execution_count": null,
      "outputs": [
        {
          "output_type": "execute_result",
          "data": {
            "text/plain": [
              "0.9649946158658301"
            ]
          },
          "metadata": {
            "tags": []
          },
          "execution_count": 46
        }
      ]
    },
    {
      "cell_type": "code",
      "metadata": {
        "colab": {
          "base_uri": "https://localhost:8080/"
        },
        "id": "odI80xXd7zGx",
        "outputId": "4a810f94-55a4-4e0b-eaaf-53a44ec17987"
      },
      "source": [
        "dlxgrf_roc_auc_score=roc_auc_score(y_valid, new_avgs[:,1])\n",
        "dlxgrf_roc_auc_score"
      ],
      "id": "odI80xXd7zGx",
      "execution_count": null,
      "outputs": [
        {
          "output_type": "execute_result",
          "data": {
            "text/plain": [
              "0.9642387694379251"
            ]
          },
          "metadata": {
            "tags": []
          },
          "execution_count": 45
        }
      ]
    },
    {
      "cell_type": "markdown",
      "metadata": {
        "id": "H_E0-dUV7FMT"
      },
      "source": [
        "So it gets slightly worse when we add Random Forest to the ensemble."
      ],
      "id": "H_E0-dUV7FMT"
    },
    {
      "cell_type": "markdown",
      "metadata": {
        "id": "ebrAXtTKIa_P"
      },
      "source": [
        "## Bayesian Optimisation"
      ],
      "id": "ebrAXtTKIa_P"
    },
    {
      "cell_type": "markdown",
      "metadata": {
        "id": "BRlTqQ0suFsm"
      },
      "source": [
        "There are 4 common methods of hyperparameter optimisation for machine learning: \n",
        "- **Manual** - Manually test every single hyperparameter combination\n",
        "- **Grid Search** - Set up a grid of model hyperparameters and run an automatic loop through every single scenario\n",
        "- **Random Search** - Similar to Grid Search but Random\n",
        "- **Bayesian Optimisation**\n",
        "\n",
        "The biggest difference between Grid Search, Random Search and Bayesian Opt is the formers do not take into account past evaluations while the later does.\n",
        "\n",
        "There is a whole field of research dedicated to this particular optimisation method. So if you want to understand the mathematical or statistical formulas behind this model, I would suggest to read a book about it. \n",
        "\n",
        "But simply put, Bayesian Optimisation search builds a probability model of the objective function and use it to select the most promising hyperparameters to evaluate in the true objective function:\n",
        "\n",
        "1. **Build a surrogate probability model of the objective function**\n",
        "2. **Find the hyperparameters that perform best on the surrogate**\n",
        "3. **Apply these hyperparameters to the true objective function**\n",
        "4. **Update the surrogate model incorporating the new results**\n",
        "5. **Repeat steps 2–4 until max iterations or time is reached**\n",
        "\n",
        "Reference: https://towardsdatascience.com/a-conceptual-explanation-of-bayesian-model-based-hyperparameter-optimization-for-machine-learning-b8172278050f"
      ],
      "id": "BRlTqQ0suFsm"
    },
    {
      "cell_type": "markdown",
      "metadata": {
        "id": "lAId1rcYxgHI"
      },
      "source": [
        "You can easilly install a Bayesian Optimisation Python libary"
      ],
      "id": "lAId1rcYxgHI"
    },
    {
      "cell_type": "code",
      "metadata": {
        "id": "Tk6W7UTkJMmE"
      },
      "source": [
        "pip install bayesian-optimization"
      ],
      "id": "Tk6W7UTkJMmE",
      "execution_count": null,
      "outputs": []
    },
    {
      "cell_type": "code",
      "metadata": {
        "id": "z_ISZ8T1Ietv"
      },
      "source": [
        "from bayes_opt import BayesianOptimization\n"
      ],
      "id": "z_ISZ8T1Ietv",
      "execution_count": null,
      "outputs": []
    },
    {
      "cell_type": "markdown",
      "metadata": {
        "id": "OjwXDW4ixerL"
      },
      "source": [
        "Define a objective function to optimise. In this case, we are going to test out learning rate, embedding dropout rate, number of layers and layer sizes."
      ],
      "id": "OjwXDW4ixerL"
    },
    {
      "cell_type": "code",
      "metadata": {
        "id": "6KrPL2qSJ0ua"
      },
      "source": [
        "def fit_with(lr:float, wd:float, dp:float, n_layers:float, layer_1:float, layer_2:float, layer_3:float):\n",
        "\n",
        "    print(lr, wd, dp)\n",
        "    if round(n_layers) == 2:\n",
        "        layers = [round(layer_1), round(layer_2)]\n",
        "    elif int(n_layers) == 3:\n",
        "        layers = [round(layer_1), round(layer_2), round(layer_3)]\n",
        "    else:\n",
        "        layers = [round(layer_1)]\n",
        "    config = tabular_config(embed_p=float(dp),\n",
        "                          ps=float(wd))\n",
        "    learn = tabular_learner(dls, layers=layers, metrics=roc_auc_binary, config = config)\n",
        "\n",
        "    with learn.no_bar() and learn.no_logging():\n",
        "        learn.fit(5, lr=float(lr))\n",
        "\n",
        "    preds, targs = learn.get_preds()\n",
        "    auc_score = roc_auc_score(to_np(targs), to_np(preds[:,1]))\n",
        "\n",
        "    return auc_score"
      ],
      "id": "6KrPL2qSJ0ua",
      "execution_count": null,
      "outputs": []
    },
    {
      "cell_type": "markdown",
      "metadata": {
        "id": "Rhu4tUqsyXdC"
      },
      "source": [
        "We can also specify a range of values for each hyperparameter that we want to tune."
      ],
      "id": "Rhu4tUqsyXdC"
    },
    {
      "cell_type": "code",
      "metadata": {
        "id": "huSEkHQAJ1sI"
      },
      "source": [
        "hps = {'lr': (1e-05, 1e-01),\n",
        "      'wd': (4e-4, 0.4),\n",
        "      'dp': (0.01, 0.5),\n",
        "       'n_layers': (1,3),\n",
        "       'layer_1': (50, 200),\n",
        "       'layer_2': (100, 1000),\n",
        "       'layer_3': (200, 2000)}\n"
      ],
      "id": "huSEkHQAJ1sI",
      "execution_count": null,
      "outputs": []
    },
    {
      "cell_type": "code",
      "metadata": {
        "id": "NCIRc5gzJ4LP"
      },
      "source": [
        "optim = BayesianOptimization(\n",
        "    f = fit_with, # our fit function\n",
        "    pbounds = hps, # our hyper parameters to tune\n",
        "    verbose = 2, # 1 prints out when a maximum is observed, 0 for silent, 2 prints out everything\n",
        "    random_state=1\n",
        ")"
      ],
      "id": "NCIRc5gzJ4LP",
      "execution_count": null,
      "outputs": []
    },
    {
      "cell_type": "code",
      "metadata": {
        "colab": {
          "base_uri": "https://localhost:8080/",
          "height": 612
        },
        "id": "c7uC_tHaJ7cO",
        "outputId": "3916edad-1e90-4bee-93d7-119a80d7ba88"
      },
      "source": [
        "%time optim.maximize(n_iter=10)\n"
      ],
      "id": "c7uC_tHaJ7cO",
      "execution_count": null,
      "outputs": [
        {
          "output_type": "stream",
          "text": [
            "|   iter    |  target   |    dp     |  layer_1  |  layer_2  |  layer_3  |    lr     | n_layers  |    wd     |\n",
            "-------------------------------------------------------------------------------------------------------------\n",
            "0.014684121522803134 0.07482958046651729 0.21434078230426126\n"
          ],
          "name": "stdout"
        },
        {
          "output_type": "display_data",
          "data": {
            "text/html": [
              ""
            ],
            "text/plain": [
              "<IPython.core.display.HTML object>"
            ]
          },
          "metadata": {
            "tags": []
          }
        },
        {
          "output_type": "display_data",
          "data": {
            "text/html": [
              ""
            ],
            "text/plain": [
              "<IPython.core.display.HTML object>"
            ]
          },
          "metadata": {
            "tags": []
          }
        },
        {
          "output_type": "stream",
          "text": [
            "| \u001b[0m 1       \u001b[0m | \u001b[0m 0.9603  \u001b[0m | \u001b[0m 0.2143  \u001b[0m | \u001b[0m 158.0   \u001b[0m | \u001b[0m 100.1   \u001b[0m | \u001b[0m 744.2   \u001b[0m | \u001b[0m 0.01468 \u001b[0m | \u001b[0m 1.185   \u001b[0m | \u001b[0m 0.07483 \u001b[0m |\n",
            "0.06852509784467198 0.3512957275818218 0.1793247562510934\n"
          ],
          "name": "stdout"
        },
        {
          "output_type": "display_data",
          "data": {
            "text/html": [
              ""
            ],
            "text/plain": [
              "<IPython.core.display.HTML object>"
            ]
          },
          "metadata": {
            "tags": []
          }
        },
        {
          "output_type": "display_data",
          "data": {
            "text/html": [
              ""
            ],
            "text/plain": [
              "<IPython.core.display.HTML object>"
            ]
          },
          "metadata": {
            "tags": []
          }
        },
        {
          "output_type": "stream",
          "text": [
            "| \u001b[0m 2       \u001b[0m | \u001b[0m 0.9602  \u001b[0m | \u001b[0m 0.1793  \u001b[0m | \u001b[0m 109.5   \u001b[0m | \u001b[0m 584.9   \u001b[0m | \u001b[0m 954.6   \u001b[0m | \u001b[0m 0.06853 \u001b[0m | \u001b[0m 1.409   \u001b[0m | \u001b[0m 0.3513  \u001b[0m |\n",
            "0.014047289990137426 0.32037752964274446 0.02341992066698382\n"
          ],
          "name": "stdout"
        },
        {
          "output_type": "display_data",
          "data": {
            "text/html": [
              ""
            ],
            "text/plain": [
              "<IPython.core.display.HTML object>"
            ]
          },
          "metadata": {
            "tags": []
          }
        },
        {
          "output_type": "display_data",
          "data": {
            "text/html": [
              ""
            ],
            "text/plain": [
              "<IPython.core.display.HTML object>"
            ]
          },
          "metadata": {
            "tags": []
          }
        },
        {
          "output_type": "stream",
          "text": [
            "| \u001b[95m 3       \u001b[0m | \u001b[95m 0.9611  \u001b[0m | \u001b[95m 0.02342 \u001b[0m | \u001b[95m 150.6   \u001b[0m | \u001b[95m 475.6   \u001b[0m | \u001b[95m 1.206e+0\u001b[0m | \u001b[95m 0.01405 \u001b[0m | \u001b[95m 1.396   \u001b[0m | \u001b[95m 0.3204  \u001b[0m |\n",
            "0.0894617202837497 0.016006291379859792 0.4844481721025048\n"
          ],
          "name": "stdout"
        },
        {
          "output_type": "display_data",
          "data": {
            "text/html": [
              ""
            ],
            "text/plain": [
              "<IPython.core.display.HTML object>"
            ]
          },
          "metadata": {
            "tags": []
          }
        },
        {
          "output_type": "display_data",
          "data": {
            "text/html": [
              ""
            ],
            "text/plain": [
              "<IPython.core.display.HTML object>"
            ]
          },
          "metadata": {
            "tags": []
          }
        },
        {
          "output_type": "stream",
          "text": [
            "| \u001b[0m 4       \u001b[0m | \u001b[0m 0.9574  \u001b[0m | \u001b[0m 0.4844  \u001b[0m | \u001b[0m 97.01   \u001b[0m | \u001b[0m 723.1   \u001b[0m | \u001b[0m 1.778e+0\u001b[0m | \u001b[0m 0.08946 \u001b[0m | \u001b[0m 1.17    \u001b[0m | \u001b[0m 0.01601 \u001b[0m |\n",
            "0.0957893741197487 0.27687409473460917 0.09321690558663875\n"
          ],
          "name": "stdout"
        },
        {
          "output_type": "display_data",
          "data": {
            "text/html": [
              ""
            ],
            "text/plain": [
              "<IPython.core.display.HTML object>"
            ]
          },
          "metadata": {
            "tags": []
          }
        },
        {
          "output_type": "display_data",
          "data": {
            "text/html": [
              ""
            ],
            "text/plain": [
              "<IPython.core.display.HTML object>"
            ]
          },
          "metadata": {
            "tags": []
          }
        },
        {
          "output_type": "stream",
          "text": [
            "| \u001b[0m 5       \u001b[0m | \u001b[0m 0.9599  \u001b[0m | \u001b[0m 0.09322 \u001b[0m | \u001b[0m 181.7   \u001b[0m | \u001b[0m 188.5   \u001b[0m | \u001b[0m 958.0   \u001b[0m | \u001b[0m 0.09579 \u001b[0m | \u001b[0m 2.066   \u001b[0m | \u001b[0m 0.2769  \u001b[0m |\n",
            "0.010278165724320144 0.09525641811550664 0.039180893394315415\n"
          ],
          "name": "stdout"
        },
        {
          "output_type": "display_data",
          "data": {
            "text/html": [
              ""
            ],
            "text/plain": [
              "<IPython.core.display.HTML object>"
            ]
          },
          "metadata": {
            "tags": []
          }
        },
        {
          "output_type": "display_data",
          "data": {
            "text/html": [
              ""
            ],
            "text/plain": [
              "<IPython.core.display.HTML object>"
            ]
          },
          "metadata": {
            "tags": []
          }
        },
        {
          "output_type": "stream",
          "text": [
            "| \u001b[95m 6       \u001b[0m | \u001b[95m 0.9612  \u001b[0m | \u001b[95m 0.03918 \u001b[0m | \u001b[95m 169.8   \u001b[0m | \u001b[95m 995.0   \u001b[0m | \u001b[95m 206.4   \u001b[0m | \u001b[95m 0.01028 \u001b[0m | \u001b[95m 1.351   \u001b[0m | \u001b[95m 0.09526 \u001b[0m |\n",
            "0.07156047620301159 0.271888626159136 0.3620644418259379\n"
          ],
          "name": "stdout"
        },
        {
          "output_type": "display_data",
          "data": {
            "text/html": [
              ""
            ],
            "text/plain": [
              "<IPython.core.display.HTML object>"
            ]
          },
          "metadata": {
            "tags": []
          }
        },
        {
          "output_type": "display_data",
          "data": {
            "text/html": [
              ""
            ],
            "text/plain": [
              "<IPython.core.display.HTML object>"
            ]
          },
          "metadata": {
            "tags": []
          }
        },
        {
          "output_type": "stream",
          "text": [
            "| \u001b[0m 7       \u001b[0m | \u001b[0m 0.9588  \u001b[0m | \u001b[0m 0.3621  \u001b[0m | \u001b[0m 50.52   \u001b[0m | \u001b[0m 104.8   \u001b[0m | \u001b[0m 244.5   \u001b[0m | \u001b[0m 0.07156 \u001b[0m | \u001b[0m 1.178   \u001b[0m | \u001b[0m 0.2719  \u001b[0m |\n",
            "0.057910440131609765 0.16129406478624328 0.4828208474809104\n"
          ],
          "name": "stdout"
        },
        {
          "output_type": "display_data",
          "data": {
            "text/html": [
              ""
            ],
            "text/plain": [
              "<IPython.core.display.HTML object>"
            ]
          },
          "metadata": {
            "tags": []
          }
        },
        {
          "output_type": "display_data",
          "data": {
            "text/html": [
              ""
            ],
            "text/plain": [
              "<IPython.core.display.HTML object>"
            ]
          },
          "metadata": {
            "tags": []
          }
        },
        {
          "output_type": "stream",
          "text": [
            "| \u001b[0m 8       \u001b[0m | \u001b[0m 0.9592  \u001b[0m | \u001b[0m 0.4828  \u001b[0m | \u001b[0m 59.94   \u001b[0m | \u001b[0m 147.0   \u001b[0m | \u001b[0m 1.301e+0\u001b[0m | \u001b[0m 0.05791 \u001b[0m | \u001b[0m 2.722   \u001b[0m | \u001b[0m 0.1613  \u001b[0m |\n",
            "0.02154668435098685 0.2935334962486139 0.17485814792145116\n"
          ],
          "name": "stdout"
        },
        {
          "output_type": "display_data",
          "data": {
            "text/html": [
              ""
            ],
            "text/plain": [
              "<IPython.core.display.HTML object>"
            ]
          },
          "metadata": {
            "tags": []
          }
        },
        {
          "output_type": "display_data",
          "data": {
            "text/html": [
              ""
            ],
            "text/plain": [
              "<IPython.core.display.HTML object>"
            ]
          },
          "metadata": {
            "tags": []
          }
        },
        {
          "output_type": "stream",
          "text": [
            "| \u001b[95m 9       \u001b[0m | \u001b[95m 0.962   \u001b[0m | \u001b[95m 0.1749  \u001b[0m | \u001b[95m 196.0   \u001b[0m | \u001b[95m 957.2   \u001b[0m | \u001b[95m 214.1   \u001b[0m | \u001b[95m 0.02155 \u001b[0m | \u001b[95m 1.024   \u001b[0m | \u001b[95m 0.2935  \u001b[0m |\n",
            "0.03610993906058106 0.3546354028405215 0.12958547535553333\n"
          ],
          "name": "stdout"
        },
        {
          "output_type": "display_data",
          "data": {
            "text/html": [
              ""
            ],
            "text/plain": [
              "<IPython.core.display.HTML object>"
            ]
          },
          "metadata": {
            "tags": []
          }
        },
        {
          "output_type": "display_data",
          "data": {
            "text/html": [
              ""
            ],
            "text/plain": [
              "<IPython.core.display.HTML object>"
            ]
          },
          "metadata": {
            "tags": []
          }
        },
        {
          "output_type": "stream",
          "text": [
            "| \u001b[0m 10      \u001b[0m | \u001b[0m 0.9614  \u001b[0m | \u001b[0m 0.1296  \u001b[0m | \u001b[0m 197.9   \u001b[0m | \u001b[0m 133.6   \u001b[0m | \u001b[0m 209.7   \u001b[0m | \u001b[0m 0.03611 \u001b[0m | \u001b[0m 2.237   \u001b[0m | \u001b[0m 0.3546  \u001b[0m |\n",
            "0.07160071668964274 0.11955317037046867 0.30174764680544724\n"
          ],
          "name": "stdout"
        },
        {
          "output_type": "display_data",
          "data": {
            "text/html": [
              ""
            ],
            "text/plain": [
              "<IPython.core.display.HTML object>"
            ]
          },
          "metadata": {
            "tags": []
          }
        },
        {
          "output_type": "display_data",
          "data": {
            "text/html": [
              ""
            ],
            "text/plain": [
              "<IPython.core.display.HTML object>"
            ]
          },
          "metadata": {
            "tags": []
          }
        },
        {
          "output_type": "stream",
          "text": [
            "| \u001b[0m 11      \u001b[0m | \u001b[0m 0.9594  \u001b[0m | \u001b[0m 0.3017  \u001b[0m | \u001b[0m 196.8   \u001b[0m | \u001b[0m 972.1   \u001b[0m | \u001b[0m 263.6   \u001b[0m | \u001b[0m 0.0716  \u001b[0m | \u001b[0m 1.003   \u001b[0m | \u001b[0m 0.1196  \u001b[0m |\n",
            "0.0758754095037137 0.26350352166402036 0.10013698396219092\n"
          ],
          "name": "stdout"
        },
        {
          "output_type": "display_data",
          "data": {
            "text/html": [
              ""
            ],
            "text/plain": [
              "<IPython.core.display.HTML object>"
            ]
          },
          "metadata": {
            "tags": []
          }
        },
        {
          "output_type": "display_data",
          "data": {
            "text/html": [
              ""
            ],
            "text/plain": [
              "<IPython.core.display.HTML object>"
            ]
          },
          "metadata": {
            "tags": []
          }
        },
        {
          "output_type": "stream",
          "text": [
            "| \u001b[0m 12      \u001b[0m | \u001b[0m 0.9595  \u001b[0m | \u001b[0m 0.1001  \u001b[0m | \u001b[0m 195.5   \u001b[0m | \u001b[0m 166.4   \u001b[0m | \u001b[0m 236.0   \u001b[0m | \u001b[0m 0.07588 \u001b[0m | \u001b[0m 1.276   \u001b[0m | \u001b[0m 0.2635  \u001b[0m |\n",
            "0.08706685388671734 0.2815475542319707 0.0263005243239511\n"
          ],
          "name": "stdout"
        },
        {
          "output_type": "display_data",
          "data": {
            "text/html": [
              ""
            ],
            "text/plain": [
              "<IPython.core.display.HTML object>"
            ]
          },
          "metadata": {
            "tags": []
          }
        },
        {
          "output_type": "display_data",
          "data": {
            "text/html": [
              ""
            ],
            "text/plain": [
              "<IPython.core.display.HTML object>"
            ]
          },
          "metadata": {
            "tags": []
          }
        },
        {
          "output_type": "stream",
          "text": [
            "| \u001b[0m 13      \u001b[0m | \u001b[0m 0.9594  \u001b[0m | \u001b[0m 0.0263  \u001b[0m | \u001b[0m 199.1   \u001b[0m | \u001b[0m 990.5   \u001b[0m | \u001b[0m 1.991e+0\u001b[0m | \u001b[0m 0.08707 \u001b[0m | \u001b[0m 2.941   \u001b[0m | \u001b[0m 0.2815  \u001b[0m |\n",
            "0.05628262681087503 0.1085257299138718 0.26772478114338355\n"
          ],
          "name": "stdout"
        },
        {
          "output_type": "display_data",
          "data": {
            "text/html": [
              ""
            ],
            "text/plain": [
              "<IPython.core.display.HTML object>"
            ]
          },
          "metadata": {
            "tags": []
          }
        },
        {
          "output_type": "display_data",
          "data": {
            "text/html": [
              ""
            ],
            "text/plain": [
              "<IPython.core.display.HTML object>"
            ]
          },
          "metadata": {
            "tags": []
          }
        },
        {
          "output_type": "stream",
          "text": [
            "| \u001b[0m 14      \u001b[0m | \u001b[0m 0.9609  \u001b[0m | \u001b[0m 0.2677  \u001b[0m | \u001b[0m 152.2   \u001b[0m | \u001b[0m 105.5   \u001b[0m | \u001b[0m 755.5   \u001b[0m | \u001b[0m 0.05628 \u001b[0m | \u001b[0m 2.52    \u001b[0m | \u001b[0m 0.1085  \u001b[0m |\n",
            "0.0808374555333798 0.18564863221735886 0.2417705717996151\n"
          ],
          "name": "stdout"
        },
        {
          "output_type": "display_data",
          "data": {
            "text/html": [
              ""
            ],
            "text/plain": [
              "<IPython.core.display.HTML object>"
            ]
          },
          "metadata": {
            "tags": []
          }
        },
        {
          "output_type": "display_data",
          "data": {
            "text/html": [
              ""
            ],
            "text/plain": [
              "<IPython.core.display.HTML object>"
            ]
          },
          "metadata": {
            "tags": []
          }
        },
        {
          "output_type": "stream",
          "text": [
            "| \u001b[0m 15      \u001b[0m | \u001b[0m 0.9596  \u001b[0m | \u001b[0m 0.2418  \u001b[0m | \u001b[0m 199.4   \u001b[0m | \u001b[0m 125.6   \u001b[0m | \u001b[0m 235.7   \u001b[0m | \u001b[0m 0.08084 \u001b[0m | \u001b[0m 1.814   \u001b[0m | \u001b[0m 0.1856  \u001b[0m |\n",
            "=============================================================================================================\n",
            "CPU times: user 7min 40s, sys: 8.93 s, total: 7min 49s\n",
            "Wall time: 7min 40s\n"
          ],
          "name": "stdout"
        }
      ]
    },
    {
      "cell_type": "markdown",
      "metadata": {
        "id": "X1ubGZ6uymnw"
      },
      "source": [
        "Print out the set of hyperparameters that produce the best accuracy score and use them to train our deep learning model again"
      ],
      "id": "X1ubGZ6uymnw"
    },
    {
      "cell_type": "code",
      "metadata": {
        "colab": {
          "base_uri": "https://localhost:8080/"
        },
        "id": "OR3hKOZWLuaH",
        "outputId": "7146fb9c-a718-4e31-ac4a-782f65eee1de"
      },
      "source": [
        "print(optim.max)\n"
      ],
      "id": "OR3hKOZWLuaH",
      "execution_count": null,
      "outputs": [
        {
          "output_type": "stream",
          "text": [
            "{'target': 0.9619591011409044, 'params': {'dp': 0.17485814792145116, 'layer_1': 196.0396513158857, 'layer_2': 957.170989722186, 'layer_3': 214.1299530803173, 'lr': 0.02154668435098685, 'n_layers': 1.023739458890539, 'wd': 0.2935334962486139}}\n"
          ],
          "name": "stdout"
        }
      ]
    },
    {
      "cell_type": "code",
      "metadata": {
        "id": "-2O4HQMkC1Eu"
      },
      "source": [
        "random_seed = 42 \n",
        "bs = 4096\n",
        "val_bs = 512\n",
        "test_size = 0.3\n",
        "epochs = 5\n",
        "lr = 0.02 #0.03\n",
        "wd=0.3 #0.32\n",
        "layers = [200] #200,150[50,1000]\n",
        "dropout = [0.001, 0.01]\n",
        "y_block=CategoryBlock()\n",
        "emb_dropout=0.17 #0.13 #0.2\n",
        "set_seed(42)\n",
        "roc_auc_binary = RocAucBinary()"
      ],
      "id": "-2O4HQMkC1Eu",
      "execution_count": null,
      "outputs": []
    },
    {
      "cell_type": "code",
      "metadata": {
        "id": "XvAt3_12DClP"
      },
      "source": [
        "dls = to.dataloaders(bs=bs, val_bs=val_bs, layers=layers, embed_ps=emb_dropout, ps=dropout)"
      ],
      "id": "XvAt3_12DClP",
      "execution_count": null,
      "outputs": []
    },
    {
      "cell_type": "code",
      "metadata": {
        "id": "6VsnBdHLFyOS"
      },
      "source": [
        "learn = tabular_learner(dls, metrics=roc_auc_binary)"
      ],
      "id": "6VsnBdHLFyOS",
      "execution_count": null,
      "outputs": []
    },
    {
      "cell_type": "code",
      "metadata": {
        "colab": {
          "base_uri": "https://localhost:8080/",
          "height": 235
        },
        "id": "X-rOPBOCE5eh",
        "outputId": "e144acd6-0f7d-49bc-ba12-dd850342e0f7"
      },
      "source": [
        "learn.fit_one_cycle(6,lr, wd=wd)"
      ],
      "id": "X-rOPBOCE5eh",
      "execution_count": null,
      "outputs": [
        {
          "output_type": "display_data",
          "data": {
            "text/html": [
              "<table border=\"1\" class=\"dataframe\">\n",
              "  <thead>\n",
              "    <tr style=\"text-align: left;\">\n",
              "      <th>epoch</th>\n",
              "      <th>train_loss</th>\n",
              "      <th>valid_loss</th>\n",
              "      <th>roc_auc_score</th>\n",
              "      <th>time</th>\n",
              "    </tr>\n",
              "  </thead>\n",
              "  <tbody>\n",
              "    <tr>\n",
              "      <td>0</td>\n",
              "      <td>0.436900</td>\n",
              "      <td>0.235703</td>\n",
              "      <td>0.947294</td>\n",
              "      <td>00:05</td>\n",
              "    </tr>\n",
              "    <tr>\n",
              "      <td>1</td>\n",
              "      <td>0.260621</td>\n",
              "      <td>0.191002</td>\n",
              "      <td>0.959327</td>\n",
              "      <td>00:05</td>\n",
              "    </tr>\n",
              "    <tr>\n",
              "      <td>2</td>\n",
              "      <td>0.210429</td>\n",
              "      <td>0.185707</td>\n",
              "      <td>0.959293</td>\n",
              "      <td>00:05</td>\n",
              "    </tr>\n",
              "    <tr>\n",
              "      <td>3</td>\n",
              "      <td>0.187610</td>\n",
              "      <td>0.176735</td>\n",
              "      <td>0.962208</td>\n",
              "      <td>00:05</td>\n",
              "    </tr>\n",
              "    <tr>\n",
              "      <td>4</td>\n",
              "      <td>0.174427</td>\n",
              "      <td>0.174023</td>\n",
              "      <td>0.963673</td>\n",
              "      <td>00:05</td>\n",
              "    </tr>\n",
              "    <tr>\n",
              "      <td>5</td>\n",
              "      <td>0.164969</td>\n",
              "      <td>0.174370</td>\n",
              "      <td>0.963667</td>\n",
              "      <td>00:05</td>\n",
              "    </tr>\n",
              "  </tbody>\n",
              "</table>"
            ],
            "text/plain": [
              "<IPython.core.display.HTML object>"
            ]
          },
          "metadata": {
            "tags": []
          }
        }
      ]
    },
    {
      "cell_type": "code",
      "metadata": {
        "colab": {
          "base_uri": "https://localhost:8080/",
          "height": 17
        },
        "id": "9GdRyXDELglw",
        "outputId": "fda35e78-dfad-409f-b65a-9e4cd418451f"
      },
      "source": [
        "preds, targs = learn.get_preds()"
      ],
      "id": "9GdRyXDELglw",
      "execution_count": null,
      "outputs": [
        {
          "output_type": "display_data",
          "data": {
            "text/html": [
              ""
            ],
            "text/plain": [
              "<IPython.core.display.HTML object>"
            ]
          },
          "metadata": {
            "tags": []
          }
        }
      ]
    },
    {
      "cell_type": "code",
      "metadata": {
        "id": "iWQlqj--Nsx9",
        "colab": {
          "base_uri": "https://localhost:8080/"
        },
        "outputId": "70f964d6-c082-4ede-e39a-d99595cd1b76"
      },
      "source": [
        "dl_opt_roc_au_score = roc_auc_score(to_np(targs), to_np(preds[:,1]))\n",
        "dl_roc_auc_score, dl_opt_roc_au_score\n"
      ],
      "id": "iWQlqj--Nsx9",
      "execution_count": null,
      "outputs": [
        {
          "output_type": "execute_result",
          "data": {
            "text/plain": [
              "(0.9628720530182229, 0.963667492106761)"
            ]
          },
          "metadata": {
            "tags": []
          },
          "execution_count": 60
        }
      ]
    },
    {
      "cell_type": "markdown",
      "metadata": {
        "id": "Qk2rWtQly4D-"
      },
      "source": [
        "The final roc_au_score increases from 0.962 to 0.963, which is quite significant for this particular dataset. Because if you have a look at the Kaggle Leaderboard, the accuracy score starts at around 0.95 and the highest score is around 0.97"
      ],
      "id": "Qk2rWtQly4D-"
    },
    {
      "cell_type": "markdown",
      "metadata": {
        "id": "XE6ex0Wb8VNT"
      },
      "source": [
        "## Entity Embeddings"
      ],
      "id": "XE6ex0Wb8VNT"
    },
    {
      "cell_type": "markdown",
      "metadata": {
        "id": "hqdJJm3x5qSs"
      },
      "source": [
        "The most common variable types in structured data are:\n",
        "\n",
        "1. continuous variables \n",
        "2. categorical variables\n",
        "\n",
        "To use cat variables in our model, we need to represent them as integers. \n",
        " "
      ],
      "id": "hqdJJm3x5qSs"
    },
    {
      "cell_type": "markdown",
      "metadata": {
        "id": "2rBmme826Keh"
      },
      "source": [
        "Sometimes, there are intrinsic ordering in those numbers (for example: low - 1, medium - 2, high - 3) and they are called ordinal numbers. "
      ],
      "id": "2rBmme826Keh"
    },
    {
      "cell_type": "markdown",
      "metadata": {
        "id": "mANseui98zGz"
      },
      "source": [
        "But more than often, those integers are random and don’t provide any information and they are called nominal numbers. For example, sex or states (we cannot really rank states)."
      ],
      "id": "mANseui98zGz"
    },
    {
      "cell_type": "markdown",
      "metadata": {
        "id": "ceWIyXLU8S_C"
      },
      "source": [
        "Our model will perform better if those integers contain some relevant information of that paticular cat variable.\n",
        "\n",
        "One way to deal with this problem is to use one hot end coding. But the issue with one hot end coding is that it is computationally expensive.\n",
        "\n",
        "What entity embeddings can do is putting similar values of a cat variable closer together in the embedding space. You can first train a neural network with cat embeddings and then use those cat embeddings instead of raw categorical columns in the models. "
      ],
      "id": "ceWIyXLU8S_C"
    },
    {
      "cell_type": "code",
      "metadata": {
        "id": "upsyeyR72psB",
        "colab": {
          "base_uri": "https://localhost:8080/"
        },
        "outputId": "45562d8e-21ab-444a-b054-7f1e878e1bae"
      },
      "source": [
        "learn.model.embeds"
      ],
      "id": "upsyeyR72psB",
      "execution_count": null,
      "outputs": [
        {
          "output_type": "execute_result",
          "data": {
            "text/plain": [
              "ModuleList(\n",
              "  (0): Embedding(9, 5)\n",
              "  (1): Embedding(9, 5)\n",
              "  (2): Embedding(3, 3)\n",
              "  (3): Embedding(4, 3)\n",
              "  (4): Embedding(5, 4)\n",
              "  (5): Embedding(4, 3)\n",
              "  (6): Embedding(5, 4)\n",
              "  (7): Embedding(8, 5)\n",
              "  (8): Embedding(13, 7)\n",
              "  (9): Embedding(3, 3)\n",
              "  (10): Embedding(6, 4)\n",
              "  (11): Embedding(6, 4)\n",
              "  (12): Embedding(8, 5)\n",
              "  (13): Embedding(3, 3)\n",
              "  (14): Embedding(18, 8)\n",
              "  (15): Embedding(19, 8)\n",
              "  (16): Embedding(9, 5)\n",
              "  (17): Embedding(11, 6)\n",
              "  (18): Embedding(12, 6)\n",
              "  (19): Embedding(3, 3)\n",
              "  (20): Embedding(3, 3)\n",
              "  (21): Embedding(10, 6)\n",
              "  (22): Embedding(3, 3)\n",
              "  (23): Embedding(3, 3)\n",
              "  (24): Embedding(4, 3)\n",
              "  (25): Embedding(4, 3)\n",
              "  (26): Embedding(6, 4)\n",
              "  (27): Embedding(6, 4)\n",
              "  (28): Embedding(5, 4)\n",
              "  (29): Embedding(51, 14)\n",
              "  (30): Embedding(67, 17)\n",
              "  (31): Embedding(62, 16)\n",
              "  (32): Embedding(58, 16)\n",
              "  (33): Embedding(8, 5)\n",
              "  (34): Embedding(13, 7)\n",
              "  (35): Embedding(13, 7)\n",
              "  (36): Embedding(13, 7)\n",
              "  (37): Embedding(14, 7)\n",
              "  (38): Embedding(17, 8)\n",
              "  (39): Embedding(8, 5)\n",
              "  (40): Embedding(8, 5)\n",
              "  (41): Embedding(11, 6)\n",
              "  (42): Embedding(12, 6)\n",
              "  (43): Embedding(12, 6)\n",
              "  (44): Embedding(12, 6)\n",
              "  (45): Embedding(6, 4)\n",
              "  (46): Embedding(5, 4)\n",
              "  (47): Embedding(6, 4)\n",
              "  (48): Embedding(6, 4)\n",
              "  (49): Embedding(6, 4)\n",
              "  (50): Embedding(10, 6)\n",
              "  (51): Embedding(10, 6)\n",
              "  (52): Embedding(10, 6)\n",
              "  (53): Embedding(10, 6)\n",
              "  (54): Embedding(8, 5)\n",
              "  (55): Embedding(11, 6)\n",
              "  (56): Embedding(12, 6)\n",
              "  (57): Embedding(12, 6)\n",
              "  (58): Embedding(12, 6)\n",
              "  (59): Embedding(8, 5)\n",
              "  (60): Embedding(8, 5)\n",
              "  (61): Embedding(8, 5)\n",
              "  (62): Embedding(8, 5)\n",
              "  (63): Embedding(8, 5)\n",
              "  (64): Embedding(8, 5)\n",
              "  (65): Embedding(12, 6)\n",
              "  (66): Embedding(12, 6)\n",
              "  (67): Embedding(12, 6)\n",
              "  (68): Embedding(13, 7)\n",
              "  (69): Embedding(8, 5)\n",
              "  (70): Embedding(8, 5)\n",
              "  (71): Embedding(8, 5)\n",
              "  (72): Embedding(8, 5)\n",
              "  (73): Embedding(8, 5)\n",
              "  (74): Embedding(8, 5)\n",
              "  (75): Embedding(4, 3)\n",
              "  (76): Embedding(4, 3)\n",
              "  (77): Embedding(4, 3)\n",
              "  (78): Embedding(4, 3)\n",
              "  (79): Embedding(5, 4)\n",
              "  (80): Embedding(6, 4)\n",
              "  (81): Embedding(7, 5)\n",
              "  (82): Embedding(7, 5)\n",
              "  (83): Embedding(7, 5)\n",
              "  (84): Embedding(7, 5)\n",
              "  (85): Embedding(9, 5)\n",
              "  (86): Embedding(10, 6)\n",
              "  (87): Embedding(11, 6)\n",
              "  (88): Embedding(12, 6)\n",
              "  (89): Embedding(8, 5)\n",
              "  (90): Embedding(13, 7)\n",
              "  (91): Embedding(13, 7)\n",
              "  (92): Embedding(13, 7)\n",
              "  (93): Embedding(15, 7)\n",
              "  (94): Embedding(8, 5)\n",
              "  (95): Embedding(3, 3)\n",
              "  (96): Embedding(3, 3)\n",
              "  (97): Embedding(3, 3)\n",
              "  (98): Embedding(3, 3)\n",
              "  (99): Embedding(2, 2)\n",
              "  (100): Embedding(20, 9)\n",
              "  (101): Embedding(3, 3)\n",
              "  (102): Embedding(4, 3)\n",
              "  (103): Embedding(6, 4)\n",
              "  (104): Embedding(3, 3)\n",
              "  (105): Embedding(6, 4)\n",
              "  (106): Embedding(8, 5)\n",
              "  (107): Embedding(5, 4)\n",
              "  (108): Embedding(5, 4)\n",
              "  (109): Embedding(14, 7)\n",
              "  (110): Embedding(8, 5)\n",
              "  (111): Embedding(11, 6)\n",
              "  (112): Embedding(11, 6)\n",
              "  (113): Embedding(4, 3)\n",
              "  (114): Embedding(6, 4)\n",
              "  (115): Embedding(14, 7)\n",
              "  (116): Embedding(18, 8)\n",
              "  (117): Embedding(5, 4)\n",
              "  (118): Embedding(3, 3)\n",
              "  (119): Embedding(5, 4)\n",
              "  (120): Embedding(3, 3)\n",
              "  (121): Embedding(5, 4)\n",
              "  (122): Embedding(3, 3)\n",
              "  (123): Embedding(4, 3)\n",
              "  (124): Embedding(3, 3)\n",
              "  (125): Embedding(3, 3)\n",
              "  (126): Embedding(3, 3)\n",
              "  (127): Embedding(3, 3)\n",
              "  (128): Embedding(15, 7)\n",
              "  (129): Embedding(2, 2)\n",
              "  (130): Embedding(3, 3)\n",
              "  (131): Embedding(3, 3)\n",
              "  (132): Embedding(21, 9)\n",
              "  (133): Embedding(3, 3)\n",
              "  (134): Embedding(3, 3)\n",
              "  (135): Embedding(3, 3)\n",
              "  (136): Embedding(13, 7)\n",
              "  (137): Embedding(3, 3)\n",
              "  (138): Embedding(3, 3)\n",
              "  (139): Embedding(3, 3)\n",
              "  (140): Embedding(3, 3)\n",
              "  (141): Embedding(3, 3)\n",
              "  (142): Embedding(20, 9)\n",
              "  (143): Embedding(4, 3)\n",
              "  (144): Embedding(5, 4)\n",
              "  (145): Embedding(4, 3)\n",
              "  (146): Embedding(13, 7)\n",
              "  (147): Embedding(8, 5)\n",
              "  (148): Embedding(3, 3)\n",
              "  (149): Embedding(3, 3)\n",
              "  (150): Embedding(3, 3)\n",
              "  (151): Embedding(3, 3)\n",
              "  (152): Embedding(3, 3)\n",
              "  (153): Embedding(3, 3)\n",
              "  (154): Embedding(3, 3)\n",
              "  (155): Embedding(3, 3)\n",
              ")"
            ]
          },
          "metadata": {
            "tags": []
          },
          "execution_count": 65
        }
      ]
    },
    {
      "cell_type": "markdown",
      "metadata": {
        "id": "pFSyQCns5gCe"
      },
      "source": [
        "Function to embed features, obtained from Fastai forums\n"
      ],
      "id": "pFSyQCns5gCe"
    },
    {
      "cell_type": "code",
      "metadata": {
        "id": "YkeCKKbOBqcf"
      },
      "source": [
        "def embed_features(learner, xs):\n",
        "    xs = xs.copy()\n",
        "    for i, feature in enumerate(learner.dls.cat_names):\n",
        "        emb = learner.model.embeds[i]\n",
        "        new_feat = pd.DataFrame(emb(tensor(xs[feature], dtype=torch.int32).to('cuda:0')), index=xs.index, columns=[f'{feature}_{j}' for j in range(emb.embedding_dim)])\n",
        "        xs.drop(columns=feature, inplace=True)\n",
        "        xs = xs.join(new_feat)\n",
        "    return xs\n"
      ],
      "id": "YkeCKKbOBqcf",
      "execution_count": null,
      "outputs": []
    },
    {
      "cell_type": "markdown",
      "metadata": {
        "id": "S9gm2FyG9Rjf"
      },
      "source": [
        "Run this function for both your training and valid sets"
      ],
      "id": "S9gm2FyG9Rjf"
    },
    {
      "cell_type": "code",
      "metadata": {
        "id": "1pB_MxGMDiF1"
      },
      "source": [
        "emb_xs = embed_features(learn, to.train.xs)\n"
      ],
      "id": "1pB_MxGMDiF1",
      "execution_count": null,
      "outputs": []
    },
    {
      "cell_type": "code",
      "metadata": {
        "id": "ycyZJqitEiNg"
      },
      "source": [
        "emb_valid_xs = embed_features(learn, to.valid.xs)\n"
      ],
      "id": "ycyZJqitEiNg",
      "execution_count": null,
      "outputs": []
    },
    {
      "cell_type": "markdown",
      "metadata": {
        "id": "rwmQ9pK-9Uzr"
      },
      "source": [
        "Use the embedded layers to train your gradient boosting model"
      ],
      "id": "rwmQ9pK-9Uzr"
    },
    {
      "cell_type": "code",
      "metadata": {
        "id": "YvMv_j1nNC8b"
      },
      "source": [
        "model = xgb.XGBClassifier(n_estimators = n_estimators, max_depth=max_depth, learning_rate=0.1, subsample=subsample, tree_method='gpu_hist')"
      ],
      "id": "YvMv_j1nNC8b",
      "execution_count": null,
      "outputs": []
    },
    {
      "cell_type": "code",
      "metadata": {
        "id": "bgFSqLMlMtVW"
      },
      "source": [
        "xgb_model_emb=model.fit(emb_xs, y_train)"
      ],
      "id": "bgFSqLMlMtVW",
      "execution_count": null,
      "outputs": []
    },
    {
      "cell_type": "code",
      "metadata": {
        "id": "hwzko0drNC8h"
      },
      "source": [
        "xgb_emb_preds = xgb_model_emb.predict_proba(emb_valid_xs)"
      ],
      "id": "hwzko0drNC8h",
      "execution_count": null,
      "outputs": []
    },
    {
      "cell_type": "code",
      "metadata": {
        "colab": {
          "base_uri": "https://localhost:8080/"
        },
        "id": "JadnL-5sNC8i",
        "outputId": "9e417889-a33a-4c6c-9771-e1067adfc631"
      },
      "source": [
        "xg_emb_roc_auc_score=roc_auc_score(y_valid, xgb_emb_preds[:,1])\n",
        "xg_roc_auc_score, xg_emb_roc_auc_score"
      ],
      "id": "JadnL-5sNC8i",
      "execution_count": null,
      "outputs": [
        {
          "output_type": "execute_result",
          "data": {
            "text/plain": [
              "(0.9641320936530293, 0.9640538678190417)"
            ]
          },
          "metadata": {
            "tags": []
          },
          "execution_count": 109
        }
      ]
    },
    {
      "cell_type": "markdown",
      "metadata": {
        "id": "oSMg0R1n9aJO"
      },
      "source": [
        "In this problem, it doesn't seem to change the accuracy score. However, you might be more sucessful with other datasets. "
      ],
      "id": "oSMg0R1n9aJO"
    }
  ]
}