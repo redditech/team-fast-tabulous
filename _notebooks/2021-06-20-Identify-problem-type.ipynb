{
 "cells": [
  {
   "cell_type": "markdown",
   "metadata": {
    "id": "PtT2_8IFENkf"
   },
   "source": [
    "# Identify problem type\n",
    "\n",
    "> This notebook works in Google Colab. It gets data from kaggle's homesite-quote-conversion, cleans dates and ints stored as str, checks quote date in training data and test data to see if time series\n",
    "\n",
    "- toc: true \n",
    "- badges: true\n",
    "- comments: true\n",
    "- categories: [kaggle, EDA]\n",
    "- author: Tim Cummings\n"
   ]
  },
  {
   "cell_type": "markdown",
   "metadata": {
    "id": "xVZFNOnkW2QC"
   },
   "source": [
    "Install packages recommended in fastbook Ch09"
   ]
  },
  {
   "cell_type": "code",
   "execution_count": 1,
   "metadata": {
    "colab": {
     "base_uri": "https://localhost:8080/"
    },
    "executionInfo": {
     "elapsed": 7193,
     "status": "ok",
     "timestamp": 1624268207418,
     "user": {
      "displayName": "D Tim Cummings",
      "photoUrl": "https://lh3.googleusercontent.com/a-/AOh14Gja59QoA5OKdtmVF1xWKt7K93Zqm3H_ku8dCm0e5Q=s64",
      "userId": "13914181439115981974"
     },
     "user_tz": -600
    },
    "id": "pKhJhnxH1Vp0",
    "outputId": "df682b08-85ab-4cd8-87f6-0f3f092a59cb"
   },
   "outputs": [
    {
     "name": "stdout",
     "output_type": "stream",
     "text": [
      "\u001b[K     |████████████████████████████████| 727kB 7.6MB/s \n",
      "\u001b[K     |████████████████████████████████| 61kB 9.9MB/s \n",
      "\u001b[K     |████████████████████████████████| 51kB 8.6MB/s \n",
      "\u001b[K     |████████████████████████████████| 194kB 48.7MB/s \n",
      "\u001b[K     |████████████████████████████████| 1.2MB 52.9MB/s \n",
      "\u001b[K     |████████████████████████████████| 61kB 10.5MB/s \n",
      "\u001b[K     |████████████████████████████████| 61kB 10.4MB/s \n",
      "\u001b[?25h  Building wheel for waterfallcharts (setup.py) ... \u001b[?25l\u001b[?25hdone\n",
      "  Building wheel for dtreeviz (setup.py) ... \u001b[?25l\u001b[?25hdone\n"
     ]
    }
   ],
   "source": [
    "!pip install -Uqq fastbook kaggle waterfallcharts treeinterpreter dtreeviz"
   ]
  },
  {
   "cell_type": "code",
   "execution_count": 2,
   "metadata": {
    "colab": {
     "base_uri": "https://localhost:8080/"
    },
    "executionInfo": {
     "elapsed": 28882,
     "status": "ok",
     "timestamp": 1624268238702,
     "user": {
      "displayName": "D Tim Cummings",
      "photoUrl": "https://lh3.googleusercontent.com/a-/AOh14Gja59QoA5OKdtmVF1xWKt7K93Zqm3H_ku8dCm0e5Q=s64",
      "userId": "13914181439115981974"
     },
     "user_tz": -600
    },
    "id": "itdp9FTX1aDK",
    "outputId": "ae2a8cfe-2769-47a5-9cd2-8fc9231bd7d7"
   },
   "outputs": [
    {
     "name": "stdout",
     "output_type": "stream",
     "text": [
      "Mounted at /content/gdrive\n"
     ]
    }
   ],
   "source": [
    "import fastbook\n",
    "fastbook.setup_book()"
   ]
  },
  {
   "cell_type": "code",
   "execution_count": 3,
   "metadata": {
    "executionInfo": {
     "elapsed": 589,
     "status": "ok",
     "timestamp": 1624268243486,
     "user": {
      "displayName": "D Tim Cummings",
      "photoUrl": "https://lh3.googleusercontent.com/a-/AOh14Gja59QoA5OKdtmVF1xWKt7K93Zqm3H_ku8dCm0e5Q=s64",
      "userId": "13914181439115981974"
     },
     "user_tz": -600
    },
    "id": "WbAU3peRGoSB"
   },
   "outputs": [],
   "source": [
    "from fastbook import *\n",
    "from fastai.vision.widgets import *\n",
    "from pandas.api.types import is_string_dtype, is_numeric_dtype, is_categorical_dtype\n",
    "from fastai.tabular.all import *\n",
    "from sklearn.ensemble import RandomForestRegressor\n",
    "from sklearn.tree import DecisionTreeRegressor\n",
    "from dtreeviz.trees import *\n",
    "from IPython.display import Image, display_svg, SVG\n",
    "\n",
    "pd.options.display.max_rows = 20\n",
    "pd.options.display.max_columns = 8"
   ]
  },
  {
   "cell_type": "markdown",
   "metadata": {
    "id": "UfI3LZCFW7UH"
   },
   "source": [
    "Upload your kaggle.json API key"
   ]
  },
  {
   "cell_type": "code",
   "execution_count": 4,
   "metadata": {
    "colab": {
     "base_uri": "https://localhost:8080/",
     "height": 49,
     "referenced_widgets": [
      "7e72ee5ba3d8411da4d216c4f1eb9e2e",
      "0cd968ccee1148789bcb16763f548674",
      "863ef3c3341741ecb7aaeeb137dfc0b6"
     ]
    },
    "executionInfo": {
     "elapsed": 315,
     "status": "ok",
     "timestamp": 1624268248980,
     "user": {
      "displayName": "D Tim Cummings",
      "photoUrl": "https://lh3.googleusercontent.com/a-/AOh14Gja59QoA5OKdtmVF1xWKt7K93Zqm3H_ku8dCm0e5Q=s64",
      "userId": "13914181439115981974"
     },
     "user_tz": -600
    },
    "id": "oxQuda7q2Y4m",
    "outputId": "d440b64f-e9fc-4aa5-d920-0a3fab22888a"
   },
   "outputs": [
    {
     "data": {
      "application/vnd.jupyter.widget-view+json": {
       "model_id": "7e72ee5ba3d8411da4d216c4f1eb9e2e",
       "version_major": 2,
       "version_minor": 0
      },
      "text/plain": [
       "FileUpload(value={}, description='kaggle.json')"
      ]
     },
     "metadata": {
      "tags": []
     },
     "output_type": "display_data"
    }
   ],
   "source": [
    "btn_upload = widgets.FileUpload(description=\"kaggle.json\")\n",
    "btn_upload"
   ]
  },
  {
   "cell_type": "markdown",
   "metadata": {
    "id": "W61XU-7VXCBc"
   },
   "source": [
    "Save credentials"
   ]
  },
  {
   "cell_type": "code",
   "execution_count": 5,
   "metadata": {
    "executionInfo": {
     "elapsed": 305,
     "status": "ok",
     "timestamp": 1624268264901,
     "user": {
      "displayName": "D Tim Cummings",
      "photoUrl": "https://lh3.googleusercontent.com/a-/AOh14Gja59QoA5OKdtmVF1xWKt7K93Zqm3H_ku8dCm0e5Q=s64",
      "userId": "13914181439115981974"
     },
     "user_tz": -600
    },
    "id": "G-SP_j5B2xxK"
   },
   "outputs": [],
   "source": [
    "cred_path = Path('~/.kaggle/kaggle.json').expanduser()\n",
    "if not cred_path.parent.exists():\n",
    "    cred_path.parent.mkdir()\n",
    "if len(btn_upload.data) > 0:\n",
    "    with open(cred_path, mode=\"wb\") as cred_file:\n",
    "        cred_file.write(btn_upload.data[-1])\n",
    "cred_path.chmod(0o600)"
   ]
  },
  {
   "cell_type": "code",
   "execution_count": 6,
   "metadata": {
    "executionInfo": {
     "elapsed": 5,
     "status": "ok",
     "timestamp": 1624268268182,
     "user": {
      "displayName": "D Tim Cummings",
      "photoUrl": "https://lh3.googleusercontent.com/a-/AOh14Gja59QoA5OKdtmVF1xWKt7K93Zqm3H_ku8dCm0e5Q=s64",
      "userId": "13914181439115981974"
     },
     "user_tz": -600
    },
    "id": "3WAg0gGojRD2"
   },
   "outputs": [],
   "source": [
    "from kaggle import api"
   ]
  },
  {
   "cell_type": "markdown",
   "metadata": {
    "id": "Qm2ZoQoZSyeK"
   },
   "source": [
    "Note that '!pip install kaggle' does not update cli kaggle in Google colab and is only v1.5.4 while kaggle.api is v1.5.12"
   ]
  },
  {
   "cell_type": "code",
   "execution_count": 7,
   "metadata": {
    "colab": {
     "base_uri": "https://localhost:8080/"
    },
    "executionInfo": {
     "elapsed": 831,
     "status": "ok",
     "timestamp": 1624268271119,
     "user": {
      "displayName": "D Tim Cummings",
      "photoUrl": "https://lh3.googleusercontent.com/a-/AOh14Gja59QoA5OKdtmVF1xWKt7K93Zqm3H_ku8dCm0e5Q=s64",
      "userId": "13914181439115981974"
     },
     "user_tz": -600
    },
    "id": "hK1f5S2DoAxH",
    "outputId": "562ac0ee-06b5-4c15-ae81-b6fa6f87d3ba"
   },
   "outputs": [
    {
     "name": "stdout",
     "output_type": "stream",
     "text": [
      "Kaggle API 1.5.4\n"
     ]
    }
   ],
   "source": [
    "!kaggle --version"
   ]
  },
  {
   "cell_type": "markdown",
   "metadata": {
    "id": "ir2BYljgTIts"
   },
   "source": [
    "Python's `kaggle.api` is using a more recent version"
   ]
  },
  {
   "cell_type": "code",
   "execution_count": 8,
   "metadata": {
    "colab": {
     "base_uri": "https://localhost:8080/",
     "height": 36
    },
    "executionInfo": {
     "elapsed": 305,
     "status": "ok",
     "timestamp": 1624268273699,
     "user": {
      "displayName": "D Tim Cummings",
      "photoUrl": "https://lh3.googleusercontent.com/a-/AOh14Gja59QoA5OKdtmVF1xWKt7K93Zqm3H_ku8dCm0e5Q=s64",
      "userId": "13914181439115981974"
     },
     "user_tz": -600
    },
    "id": "VxluQM2C7W8q",
    "outputId": "06d24fc0-ea2d-4d52-dce6-ec2e41f6fc7a"
   },
   "outputs": [
    {
     "data": {
      "application/vnd.google.colaboratory.intrinsic+json": {
       "type": "string"
      },
      "text/plain": [
       "'1.5.12'"
      ]
     },
     "execution_count": 8,
     "metadata": {
      "tags": []
     },
     "output_type": "execute_result"
    }
   ],
   "source": [
    "api.__version__"
   ]
  },
  {
   "cell_type": "markdown",
   "metadata": {
    "id": "PqsmSzAVTaD1"
   },
   "source": [
    "Get data from kaggle, extract and store in _data"
   ]
  },
  {
   "cell_type": "code",
   "execution_count": 9,
   "metadata": {
    "colab": {
     "base_uri": "https://localhost:8080/"
    },
    "executionInfo": {
     "elapsed": 3460,
     "status": "ok",
     "timestamp": 1624268286677,
     "user": {
      "displayName": "D Tim Cummings",
      "photoUrl": "https://lh3.googleusercontent.com/a-/AOh14Gja59QoA5OKdtmVF1xWKt7K93Zqm3H_ku8dCm0e5Q=s64",
      "userId": "13914181439115981974"
     },
     "user_tz": -600
    },
    "id": "2qlROgC-maOf",
    "outputId": "a75faafb-dd10-493e-a43e-17830cedc0e6"
   },
   "outputs": [
    {
     "name": "stderr",
     "output_type": "stream",
     "text": [
      "\r",
      "  0%|          | 0.00/62.0M [00:00<?, ?B/s]"
     ]
    },
    {
     "name": "stdout",
     "output_type": "stream",
     "text": [
      "Downloading homesite-quote-conversion.zip to /content/_data\n"
     ]
    },
    {
     "name": "stderr",
     "output_type": "stream",
     "text": [
      "100%|██████████| 62.0M/62.0M [00:00<00:00, 174MB/s] \n"
     ]
    },
    {
     "name": "stdout",
     "output_type": "stream",
     "text": [
      "\n"
     ]
    }
   ],
   "source": [
    "path_hqc = (Path.cwd()/\"_data\")\n",
    "path_hqc.mkdir(exist_ok=True)\n",
    "Path.BASE_PATH = path_hqc\n",
    "api.competition_download_cli('homesite-quote-conversion', path=path_hqc)\n",
    "file_extract(path_hqc/\"homesite-quote-conversion.zip\")\n",
    "file_extract(path_hqc/\"train.csv.zip\")\n",
    "file_extract(path_hqc/\"test.csv.zip\")"
   ]
  },
  {
   "cell_type": "markdown",
   "metadata": {
    "id": "5pp-DlI7TkcL"
   },
   "source": [
    "Check what the data looks like"
   ]
  },
  {
   "cell_type": "code",
   "execution_count": 10,
   "metadata": {
    "colab": {
     "base_uri": "https://localhost:8080/",
     "height": 236
    },
    "executionInfo": {
     "elapsed": 11257,
     "status": "ok",
     "timestamp": 1624268302003,
     "user": {
      "displayName": "D Tim Cummings",
      "photoUrl": "https://lh3.googleusercontent.com/a-/AOh14Gja59QoA5OKdtmVF1xWKt7K93Zqm3H_ku8dCm0e5Q=s64",
      "userId": "13914181439115981974"
     },
     "user_tz": -600
    },
    "id": "EV41_08dscfb",
    "outputId": "5febd743-5b6a-4da1-82d8-c2fb2f943bd4"
   },
   "outputs": [
    {
     "data": {
      "text/html": [
       "<div>\n",
       "<style scoped>\n",
       "    .dataframe tbody tr th:only-of-type {\n",
       "        vertical-align: middle;\n",
       "    }\n",
       "\n",
       "    .dataframe tbody tr th {\n",
       "        vertical-align: top;\n",
       "    }\n",
       "\n",
       "    .dataframe thead th {\n",
       "        text-align: right;\n",
       "    }\n",
       "</style>\n",
       "<table border=\"1\" class=\"dataframe\">\n",
       "  <thead>\n",
       "    <tr style=\"text-align: right;\">\n",
       "      <th></th>\n",
       "      <th>QuoteNumber</th>\n",
       "      <th>Original_Quote_Date</th>\n",
       "      <th>QuoteConversion_Flag</th>\n",
       "      <th>Field6</th>\n",
       "      <th>...</th>\n",
       "      <th>GeographicField62A</th>\n",
       "      <th>GeographicField62B</th>\n",
       "      <th>GeographicField63</th>\n",
       "      <th>GeographicField64</th>\n",
       "    </tr>\n",
       "  </thead>\n",
       "  <tbody>\n",
       "    <tr>\n",
       "      <th>0</th>\n",
       "      <td>1</td>\n",
       "      <td>2013-08-16</td>\n",
       "      <td>0</td>\n",
       "      <td>B</td>\n",
       "      <td>...</td>\n",
       "      <td>-1</td>\n",
       "      <td>10</td>\n",
       "      <td>N</td>\n",
       "      <td>CA</td>\n",
       "    </tr>\n",
       "    <tr>\n",
       "      <th>1</th>\n",
       "      <td>2</td>\n",
       "      <td>2014-04-22</td>\n",
       "      <td>0</td>\n",
       "      <td>F</td>\n",
       "      <td>...</td>\n",
       "      <td>-1</td>\n",
       "      <td>20</td>\n",
       "      <td>N</td>\n",
       "      <td>NJ</td>\n",
       "    </tr>\n",
       "    <tr>\n",
       "      <th>2</th>\n",
       "      <td>4</td>\n",
       "      <td>2014-08-25</td>\n",
       "      <td>0</td>\n",
       "      <td>F</td>\n",
       "      <td>...</td>\n",
       "      <td>-1</td>\n",
       "      <td>8</td>\n",
       "      <td>N</td>\n",
       "      <td>NJ</td>\n",
       "    </tr>\n",
       "    <tr>\n",
       "      <th>3</th>\n",
       "      <td>6</td>\n",
       "      <td>2013-04-15</td>\n",
       "      <td>0</td>\n",
       "      <td>J</td>\n",
       "      <td>...</td>\n",
       "      <td>-1</td>\n",
       "      <td>21</td>\n",
       "      <td>N</td>\n",
       "      <td>TX</td>\n",
       "    </tr>\n",
       "    <tr>\n",
       "      <th>4</th>\n",
       "      <td>8</td>\n",
       "      <td>2014-01-25</td>\n",
       "      <td>0</td>\n",
       "      <td>E</td>\n",
       "      <td>...</td>\n",
       "      <td>-1</td>\n",
       "      <td>12</td>\n",
       "      <td>N</td>\n",
       "      <td>IL</td>\n",
       "    </tr>\n",
       "  </tbody>\n",
       "</table>\n",
       "<p>5 rows × 299 columns</p>\n",
       "</div>"
      ],
      "text/plain": [
       "   QuoteNumber Original_Quote_Date  QuoteConversion_Flag Field6  ...  \\\n",
       "0            1          2013-08-16                     0      B  ...   \n",
       "1            2          2014-04-22                     0      F  ...   \n",
       "2            4          2014-08-25                     0      F  ...   \n",
       "3            6          2013-04-15                     0      J  ...   \n",
       "4            8          2014-01-25                     0      E  ...   \n",
       "\n",
       "   GeographicField62A  GeographicField62B  GeographicField63 GeographicField64  \n",
       "0                  -1                  10                  N                CA  \n",
       "1                  -1                  20                  N                NJ  \n",
       "2                  -1                   8                  N                NJ  \n",
       "3                  -1                  21                  N                TX  \n",
       "4                  -1                  12                  N                IL  \n",
       "\n",
       "[5 rows x 299 columns]"
      ]
     },
     "execution_count": 10,
     "metadata": {
      "tags": []
     },
     "output_type": "execute_result"
    }
   ],
   "source": [
    "df = pd.read_csv(path_hqc/\"train.csv\", low_memory=False)\n",
    "df.head()"
   ]
  },
  {
   "cell_type": "markdown",
   "metadata": {
    "id": "foPwxiE1TuXG"
   },
   "source": [
    "Check how much data we have and check if `QuoteNumber` is unique"
   ]
  },
  {
   "cell_type": "code",
   "execution_count": 11,
   "metadata": {
    "colab": {
     "base_uri": "https://localhost:8080/"
    },
    "executionInfo": {
     "elapsed": 400,
     "status": "ok",
     "timestamp": 1624268305653,
     "user": {
      "displayName": "D Tim Cummings",
      "photoUrl": "https://lh3.googleusercontent.com/a-/AOh14Gja59QoA5OKdtmVF1xWKt7K93Zqm3H_ku8dCm0e5Q=s64",
      "userId": "13914181439115981974"
     },
     "user_tz": -600
    },
    "id": "nk3_a9BNtRez",
    "outputId": "46c7c280-6fd2-4f77-b1b8-bb815339412c"
   },
   "outputs": [
    {
     "data": {
      "text/plain": [
       "((260753, 299), 260753)"
      ]
     },
     "execution_count": 11,
     "metadata": {
      "tags": []
     },
     "output_type": "execute_result"
    }
   ],
   "source": [
    "df.shape, len(df['QuoteNumber'].unique())\n"
   ]
  },
  {
   "cell_type": "markdown",
   "metadata": {
    "id": "EISR2_eaT0m7"
   },
   "source": [
    "Conclusion: `QuoteNumber` ***is*** unique"
   ]
  },
  {
   "cell_type": "markdown",
   "metadata": {
    "id": "_1wNfX2_VYFH"
   },
   "source": [
    "We don't want to use `QuoteNumber` as a feature but we could use it as the index"
   ]
  },
  {
   "cell_type": "code",
   "execution_count": 12,
   "metadata": {
    "executionInfo": {
     "elapsed": 788,
     "status": "ok",
     "timestamp": 1624268316080,
     "user": {
      "displayName": "D Tim Cummings",
      "photoUrl": "https://lh3.googleusercontent.com/a-/AOh14Gja59QoA5OKdtmVF1xWKt7K93Zqm3H_ku8dCm0e5Q=s64",
      "userId": "13914181439115981974"
     },
     "user_tz": -600
    },
    "id": "ihyshN1ttc-s"
   },
   "outputs": [],
   "source": [
    "df = df.set_index('QuoteNumber')"
   ]
  },
  {
   "cell_type": "markdown",
   "metadata": {
    "id": "AWZs3ZBEVi-g"
   },
   "source": [
    "Examine data types in `train.csv`"
   ]
  },
  {
   "cell_type": "code",
   "execution_count": 13,
   "metadata": {
    "colab": {
     "base_uri": "https://localhost:8080/"
    },
    "executionInfo": {
     "elapsed": 336,
     "status": "ok",
     "timestamp": 1624268321342,
     "user": {
      "displayName": "D Tim Cummings",
      "photoUrl": "https://lh3.googleusercontent.com/a-/AOh14Gja59QoA5OKdtmVF1xWKt7K93Zqm3H_ku8dCm0e5Q=s64",
      "userId": "13914181439115981974"
     },
     "user_tz": -600
    },
    "id": "KlCqQZvawA-V",
    "outputId": "176c3229-ebd3-499f-fa7d-21c75f9ce67e"
   },
   "outputs": [
    {
     "name": "stdout",
     "output_type": "stream",
     "text": [
      "<class 'pandas.core.frame.DataFrame'>\n",
      "Int64Index: 260753 entries, 1 to 434588\n",
      "Columns: 298 entries, Original_Quote_Date to GeographicField64\n",
      "dtypes: float64(6), int64(264), object(28)\n",
      "memory usage: 594.8+ MB\n"
     ]
    }
   ],
   "source": [
    "df.info()"
   ]
  },
  {
   "cell_type": "markdown",
   "metadata": {
    "id": "2naWEYLcWRVK"
   },
   "source": [
    "Find the 28 fields which do not have numeric datatypes"
   ]
  },
  {
   "cell_type": "code",
   "execution_count": 14,
   "metadata": {
    "colab": {
     "base_uri": "https://localhost:8080/"
    },
    "executionInfo": {
     "elapsed": 334,
     "status": "ok",
     "timestamp": 1624268328942,
     "user": {
      "displayName": "D Tim Cummings",
      "photoUrl": "https://lh3.googleusercontent.com/a-/AOh14Gja59QoA5OKdtmVF1xWKt7K93Zqm3H_ku8dCm0e5Q=s64",
      "userId": "13914181439115981974"
     },
     "user_tz": -600
    },
    "id": "nJzgu0RLtl-h",
    "outputId": "a27b2dab-2b36-40a3-b3a5-15aa51f15e0d"
   },
   "outputs": [
    {
     "name": "stdout",
     "output_type": "stream",
     "text": [
      "dtypes in train.csv: dict_keys([dtype('O'), dtype('int64'), dtype('float64')])\n",
      "fields for object dtype: ['Original_Quote_Date', 'Field6', 'Field10', 'Field12', 'CoverageField8', 'CoverageField9', 'SalesField7', 'PersonalField7', 'PersonalField16', 'PersonalField17', 'PersonalField18', 'PersonalField19', 'PropertyField3', 'PropertyField4', 'PropertyField5', 'PropertyField7', 'PropertyField14', 'PropertyField28', 'PropertyField30', 'PropertyField31', 'PropertyField32', 'PropertyField33', 'PropertyField34', 'PropertyField36', 'PropertyField37', 'PropertyField38', 'GeographicField63', 'GeographicField64']\n",
      "number of fields of object dtype: 28\n"
     ]
    }
   ],
   "source": [
    "from collections import defaultdict\n",
    "dct_fields_by_dtype = defaultdict(list)\n",
    "for i, dt in enumerate(df.dtypes):\n",
    "    dct_fields_by_dtype[dt].append(df.dtypes.index[i])\n",
    "print(\"dtypes in train.csv:\", dct_fields_by_dtype.keys())\n",
    "print(\"fields for object dtype:\", dct_fields_by_dtype[np.dtype('O')])\n",
    "print(\"number of fields of object dtype:\", len(dct_fields_by_dtype[np.dtype('O')]))"
   ]
  },
  {
   "cell_type": "markdown",
   "metadata": {
    "id": "5dn4kuH4Wi_6"
   },
   "source": [
    "`Original_Quote_Date` can be converted to datetime"
   ]
  },
  {
   "cell_type": "code",
   "execution_count": 15,
   "metadata": {
    "executionInfo": {
     "elapsed": 333,
     "status": "ok",
     "timestamp": 1624268362727,
     "user": {
      "displayName": "D Tim Cummings",
      "photoUrl": "https://lh3.googleusercontent.com/a-/AOh14Gja59QoA5OKdtmVF1xWKt7K93Zqm3H_ku8dCm0e5Q=s64",
      "userId": "13914181439115981974"
     },
     "user_tz": -600
    },
    "id": "jcarCw6FEYBD"
   },
   "outputs": [],
   "source": [
    " df['Original_Quote_Date'] = pd.to_datetime(df['Original_Quote_Date'])"
   ]
  },
  {
   "cell_type": "markdown",
   "metadata": {
    "id": "-yaoiqA6WrrT"
   },
   "source": [
    "Recalculate breakdown now that we have changed dtype of `Original_Quote_Date`"
   ]
  },
  {
   "cell_type": "code",
   "execution_count": 16,
   "metadata": {
    "colab": {
     "base_uri": "https://localhost:8080/"
    },
    "executionInfo": {
     "elapsed": 322,
     "status": "ok",
     "timestamp": 1624268378883,
     "user": {
      "displayName": "D Tim Cummings",
      "photoUrl": "https://lh3.googleusercontent.com/a-/AOh14Gja59QoA5OKdtmVF1xWKt7K93Zqm3H_ku8dCm0e5Q=s64",
      "userId": "13914181439115981974"
     },
     "user_tz": -600
    },
    "id": "oU0iK4RuWxA7",
    "outputId": "1229ad6c-384f-4612-9c13-33721e464e89"
   },
   "outputs": [
    {
     "name": "stdout",
     "output_type": "stream",
     "text": [
      "<class 'pandas.core.frame.DataFrame'>\n",
      "Int64Index: 260753 entries, 1 to 434588\n",
      "Columns: 298 entries, Original_Quote_Date to GeographicField64\n",
      "dtypes: datetime64[ns](1), float64(6), int64(264), object(27)\n",
      "memory usage: 594.8+ MB\n"
     ]
    }
   ],
   "source": [
    "dct_fields_by_dtype = defaultdict(list)\n",
    "for i, dt in enumerate(df.dtypes):\n",
    "    dct_fields_by_dtype[dt].append(df.dtypes.index[i])\n",
    "\n",
    "df.info()"
   ]
  },
  {
   "cell_type": "markdown",
   "metadata": {
    "id": "yzr1tUZpXr_4"
   },
   "source": [
    "Compare `Original_Quote_Date` in `train.csv` and `test.csv`"
   ]
  },
  {
   "cell_type": "code",
   "execution_count": 17,
   "metadata": {
    "colab": {
     "base_uri": "https://localhost:8080/"
    },
    "executionInfo": {
     "elapsed": 6453,
     "status": "ok",
     "timestamp": 1624268393439,
     "user": {
      "displayName": "D Tim Cummings",
      "photoUrl": "https://lh3.googleusercontent.com/a-/AOh14Gja59QoA5OKdtmVF1xWKt7K93Zqm3H_ku8dCm0e5Q=s64",
      "userId": "13914181439115981974"
     },
     "user_tz": -600
    },
    "id": "eZ1NH8ie9G_L",
    "outputId": "5a649b53-a705-4056-992c-76e49ed7757c"
   },
   "outputs": [
    {
     "name": "stdout",
     "output_type": "stream",
     "text": [
      "train.csv 2013-01-01 00:00:00 2015-05-18 00:00:00 (260753, 298)\n",
      "test.csv  2013-01-01 00:00:00 2015-05-18 00:00:00 (173836, 298)\n"
     ]
    }
   ],
   "source": [
    "df_test = pd.read_csv(path_hqc/\"test.csv\", low_memory=False)\n",
    "df_test[\"Original_Quote_Date\"] = pd.to_datetime(df_test[\"Original_Quote_Date\"])\n",
    "print(\"train.csv\", df['Original_Quote_Date'].min(), df['Original_Quote_Date'].max(), df.shape)\n",
    "print(\"test.csv \", df_test['Original_Quote_Date'].min(), df_test['Original_Quote_Date'].max(), df_test.shape)"
   ]
  },
  {
   "cell_type": "markdown",
   "metadata": {
    "id": "iq51ZCRCXz8g"
   },
   "source": [
    "Conclusion: overlapping date ranges (in fact identical date ranges) so don't need to consider as time series problem "
   ]
  },
  {
   "cell_type": "markdown",
   "metadata": {
    "id": "gH02R4SsX9dR"
   },
   "source": [
    "Check the non-numeric values in other object fields"
   ]
  },
  {
   "cell_type": "code",
   "execution_count": 18,
   "metadata": {
    "colab": {
     "base_uri": "https://localhost:8080/"
    },
    "executionInfo": {
     "elapsed": 344,
     "status": "ok",
     "timestamp": 1624268409339,
     "user": {
      "displayName": "D Tim Cummings",
      "photoUrl": "https://lh3.googleusercontent.com/a-/AOh14Gja59QoA5OKdtmVF1xWKt7K93Zqm3H_ku8dCm0e5Q=s64",
      "userId": "13914181439115981974"
     },
     "user_tz": -600
    },
    "id": "LjvZjzQr3z09",
    "outputId": "7d6b4d56-09b4-4018-86b9-d89839bfae2b"
   },
   "outputs": [
    {
     "name": "stdout",
     "output_type": "stream",
     "text": [
      "Field6               ['B' 'F' 'J' 'E' 'C' 'K' 'A' 'D']\n",
      "Field10              ['965' '548' '1,165' '1,487' '935' '564' '1,113' '1,480']\n",
      "Field12              ['N' 'Y']\n",
      "CoverageField8       ['T' 'Y' 'X' 'W' 'V' 'U' 'Z']\n",
      "CoverageField9       ['D' 'E' 'J' 'F' 'A' 'G' 'K' 'C' 'L' 'B' 'I' 'H']\n",
      "SalesField7          ['V' 'P' 'K' 'R' 'T' 'Q' 'M']\n",
      "PersonalField7       ['N' 'Y' nan]\n",
      "PersonalField16      ['ZA' 'XB' 'ZH' 'XO' 'YE' 'XR' 'ZG' 'ZF' 'XW' 'XS' 'ZT' 'XD' 'XH' 'XM' 'YH' 'ZD' 'XJ' 'ZN' 'YF' 'XX' 'XL' 'XQ' 'ZJ' 'ZR' 'ZW' 'XE' 'XC' 'ZK' 'XK' 'ZC' 'XZ' 'XI' 'ZE' 'ZU' 'YI' 'XP' 'ZO' 'ZP' 'ZB'\n",
      " 'XF' 'ZS' 'XT' 'XY' 'ZQ' 'ZI' 'XV' 'XU' 'XN' 'ZV' 'ZL']\n",
      "PersonalField17      ['ZE' 'YJ' 'XS' 'XE' 'XU' 'ZQ' 'YY' 'XV' 'ZF' 'XK' 'YS' 'ZK' 'YF' 'YV' 'XG' 'ZL' 'ZH' 'ZW' 'XH' 'ZU' 'YH' 'XC' 'ZV' 'XR' 'ZI' 'XX' 'YR' 'XW' 'ZC' 'YZ' 'YU' 'YX' 'ZA' 'ZP' 'XI' 'YN' 'YL' 'YK' 'ZN'\n",
      " 'XT' 'ZT' 'XQ' 'XB' 'YI' 'YM' 'XL' 'YQ' 'ZG' 'ZS' 'YT' 'ZO' 'YE' 'XN' 'ZM' 'XM' 'YG' 'YP' 'XD' 'ZD' 'YW' 'XJ' 'ZB' 'XP' 'XO' 'ZR' 'XY']\n",
      "PersonalField18      ['XR' 'YE' 'YP' 'YI' 'XQ' 'ZW' 'XT' 'XF' 'XS' 'YG' 'ZF' 'XZ' 'XI' 'XK' 'YF' 'ZE' 'YQ' 'ZP' 'YL' 'ZD' 'XW' 'YN' 'YK' 'ZJ' 'ZK' 'ZC' 'XU' 'ZN' 'XP' 'XL' 'XM' 'ZL' 'XC' 'ZH' 'XG' 'XN' 'XY' 'ZQ' 'XO'\n",
      " 'ZT' 'XJ' 'ZA' 'ZU' 'XE' 'ZV' 'ZS' 'YR' 'YH' 'YJ' 'ZR' 'ZO' 'YO' 'ZM' 'XD' 'YM' 'XX' 'ZB' 'XH' 'XV' 'ZG' 'ZI']\n",
      "PersonalField19      ['XD' 'XT' 'XC' 'XX' 'ZQ' 'ZT' 'ZO' 'YJ' 'ZN' 'YH' 'ZI' 'YN' 'YF' 'YK' 'XY' 'XI' 'ZA' 'ZW' 'ZV' 'XU' 'ZL' 'XK' 'XW' 'XF' 'ZK' 'YE' 'XB' 'XZ' 'XP' 'ZJ' 'YM' 'XO' 'YG' 'XN' 'ZR' 'ZE' 'ZB' 'ZG' 'YL'\n",
      " 'ZF' 'XR' 'XJ' 'XM' 'ZP' 'XQ' 'XV' 'ZH' 'XE' 'ZU' 'ZM' 'XG' 'ZD' 'XH' 'XL' 'YI' 'XS' 'ZC']\n",
      "PropertyField3       ['N' 'Y' nan]\n",
      "PropertyField4       ['N' 'Y' nan]\n",
      "PropertyField5       ['Y' 'N']\n",
      "PropertyField7       ['O' 'N' 'R' 'D' 'S' 'J' 'I' 'Q' 'A' 'K' 'G' 'F' 'H' 'E' 'L' 'C' 'P' 'M' 'B']\n",
      "PropertyField14      ['C' 'B' 'A' 'D']\n",
      "PropertyField28      ['B' 'D' 'A' 'C']\n",
      "PropertyField30      ['N' 'Y']\n",
      "PropertyField31      ['N' 'O' 'K' 'M']\n",
      "PropertyField32      ['Y' 'N' nan]\n",
      "PropertyField33      ['G' 'H' 'E' 'F']\n",
      "PropertyField34      ['Y' 'N' nan]\n",
      "PropertyField36      ['N' 'Y' nan]\n",
      "PropertyField37      ['N' 'Y']\n",
      "PropertyField38      ['N' 'Y' nan]\n",
      "GeographicField63    ['N' 'Y' ' ']\n",
      "GeographicField64    ['CA' 'NJ' 'TX' 'IL']\n"
     ]
    }
   ],
   "source": [
    "for col in dct_fields_by_dtype[np.dtype('O')]:\n",
    "    print(f\"{col:20s} {df[col].unique()}\")"
   ]
  },
  {
   "cell_type": "markdown",
   "metadata": {
    "id": "ypIbdRCtYFoX"
   },
   "source": [
    "`Field10` looks like integers stored as strings so convert to `int`s"
   ]
  },
  {
   "cell_type": "code",
   "execution_count": 19,
   "metadata": {
    "executionInfo": {
     "elapsed": 373,
     "status": "ok",
     "timestamp": 1624268450965,
     "user": {
      "displayName": "D Tim Cummings",
      "photoUrl": "https://lh3.googleusercontent.com/a-/AOh14Gja59QoA5OKdtmVF1xWKt7K93Zqm3H_ku8dCm0e5Q=s64",
      "userId": "13914181439115981974"
     },
     "user_tz": -600
    },
    "id": "ldlfUY4XE4zp"
   },
   "outputs": [],
   "source": [
    "df['Field10'] = df['Field10'].str.replace(\",\", \"\").astype(int)"
   ]
  },
  {
   "cell_type": "markdown",
   "metadata": {
    "id": "D2cG6He5YX0F"
   },
   "source": [
    "Recalculate breakdown now that we have changed dtype of `Field10`"
   ]
  },
  {
   "cell_type": "code",
   "execution_count": 20,
   "metadata": {
    "colab": {
     "base_uri": "https://localhost:8080/"
    },
    "executionInfo": {
     "elapsed": 579,
     "status": "ok",
     "timestamp": 1624268464832,
     "user": {
      "displayName": "D Tim Cummings",
      "photoUrl": "https://lh3.googleusercontent.com/a-/AOh14Gja59QoA5OKdtmVF1xWKt7K93Zqm3H_ku8dCm0e5Q=s64",
      "userId": "13914181439115981974"
     },
     "user_tz": -600
    },
    "id": "j1bjq2C9Bv4Z",
    "outputId": "c973bda1-4cb4-4829-e55b-9af4cc7a0af9"
   },
   "outputs": [
    {
     "name": "stdout",
     "output_type": "stream",
     "text": [
      "<class 'pandas.core.frame.DataFrame'>\n",
      "Int64Index: 260753 entries, 1 to 434588\n",
      "Columns: 298 entries, Original_Quote_Date to GeographicField64\n",
      "dtypes: datetime64[ns](1), float64(6), int64(265), object(26)\n",
      "memory usage: 594.8+ MB\n"
     ]
    }
   ],
   "source": [
    "dct_fields_by_dtype = defaultdict(list)\n",
    "for i, dt in enumerate(df.dtypes):\n",
    "    dct_fields_by_dtype[dt].append(df.dtypes.index[i])\n",
    "df.info()"
   ]
  },
  {
   "cell_type": "code",
   "execution_count": null,
   "metadata": {
    "id": "Xq0svW6gHhuM"
   },
   "outputs": [],
   "source": []
  }
 ],
 "metadata": {
  "accelerator": "GPU",
  "colab": {
   "collapsed_sections": [],
   "name": "2021-06-20-Identify-problem-type.ipynb",
   "provenance": []
  },
  "kernelspec": {
   "display_name": "Python 3",
   "language": "python",
   "name": "python3"
  },
  "language_info": {
   "codemirror_mode": {
    "name": "ipython",
    "version": 3
   },
   "file_extension": ".py",
   "mimetype": "text/x-python",
   "name": "python",
   "nbconvert_exporter": "python",
   "pygments_lexer": "ipython3",
   "version": "3.9.6"
  },
  "widgets": {
   "application/vnd.jupyter.widget-state+json": {
    "0cd968ccee1148789bcb16763f548674": {
     "model_module": "@jupyter-widgets/controls",
     "model_name": "ButtonStyleModel",
     "state": {
      "_model_module": "@jupyter-widgets/controls",
      "_model_module_version": "1.5.0",
      "_model_name": "ButtonStyleModel",
      "_view_count": null,
      "_view_module": "@jupyter-widgets/base",
      "_view_module_version": "1.2.0",
      "_view_name": "StyleView",
      "button_color": null,
      "font_weight": ""
     }
    },
    "7e72ee5ba3d8411da4d216c4f1eb9e2e": {
     "model_module": "@jupyter-widgets/controls",
     "model_name": "FileUploadModel",
     "state": {
      "_counter": 1,
      "_dom_classes": [],
      "_model_module": "@jupyter-widgets/controls",
      "_model_module_version": "1.5.0",
      "_model_name": "FileUploadModel",
      "_view_count": null,
      "_view_module": "@jupyter-widgets/controls",
      "_view_module_version": "1.5.0",
      "_view_name": "FileUploadView",
      "accept": "",
      "button_style": "",
      "data": [
       null
      ],
      "description": "kaggle.json",
      "description_tooltip": null,
      "disabled": false,
      "error": "",
      "icon": "upload",
      "layout": "IPY_MODEL_863ef3c3341741ecb7aaeeb137dfc0b6",
      "metadata": [
       {
        "lastModified": 1623143484266,
        "name": "kaggle.json",
        "size": 68,
        "type": "application/json"
       }
      ],
      "multiple": false,
      "style": "IPY_MODEL_0cd968ccee1148789bcb16763f548674"
     }
    },
    "863ef3c3341741ecb7aaeeb137dfc0b6": {
     "model_module": "@jupyter-widgets/base",
     "model_name": "LayoutModel",
     "state": {
      "_model_module": "@jupyter-widgets/base",
      "_model_module_version": "1.2.0",
      "_model_name": "LayoutModel",
      "_view_count": null,
      "_view_module": "@jupyter-widgets/base",
      "_view_module_version": "1.2.0",
      "_view_name": "LayoutView",
      "align_content": null,
      "align_items": null,
      "align_self": null,
      "border": null,
      "bottom": null,
      "display": null,
      "flex": null,
      "flex_flow": null,
      "grid_area": null,
      "grid_auto_columns": null,
      "grid_auto_flow": null,
      "grid_auto_rows": null,
      "grid_column": null,
      "grid_gap": null,
      "grid_row": null,
      "grid_template_areas": null,
      "grid_template_columns": null,
      "grid_template_rows": null,
      "height": null,
      "justify_content": null,
      "justify_items": null,
      "left": null,
      "margin": null,
      "max_height": null,
      "max_width": null,
      "min_height": null,
      "min_width": null,
      "object_fit": null,
      "object_position": null,
      "order": null,
      "overflow": null,
      "overflow_x": null,
      "overflow_y": null,
      "padding": null,
      "right": null,
      "top": null,
      "visibility": null,
      "width": null
     }
    }
   }
  }
 },
 "nbformat": 4,
 "nbformat_minor": 1
}
