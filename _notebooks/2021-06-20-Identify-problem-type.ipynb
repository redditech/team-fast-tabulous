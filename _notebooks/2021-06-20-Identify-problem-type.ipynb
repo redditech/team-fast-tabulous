{
  "nbformat": 4,
  "nbformat_minor": 0,
  "metadata": {
    "colab": {
      "name": "2021-06-20-Identify-problem-type.ipynb",
      "provenance": [],
      "collapsed_sections": []
    },
    "kernelspec": {
      "name": "python3",
      "display_name": "Python 3"
    },
    "language_info": {
      "name": "python"
    },
    "accelerator": "GPU",
    "widgets": {
      "application/vnd.jupyter.widget-state+json": {
        "3661454ba9bb4468ba4fc22f488819d6": {
          "model_module": "@jupyter-widgets/controls",
          "model_name": "FileUploadModel",
          "state": {
            "_view_name": "FileUploadView",
            "_counter": 1,
            "style": "IPY_MODEL_16e3a636035347aaa77254f120c9d34f",
            "_dom_classes": [],
            "description": "kaggle.json",
            "multiple": false,
            "_model_name": "FileUploadModel",
            "data": [
              null
            ],
            "button_style": "",
            "_view_module": "@jupyter-widgets/controls",
            "_model_module_version": "1.5.0",
            "accept": "",
            "_view_count": null,
            "disabled": false,
            "_view_module_version": "1.5.0",
            "error": "",
            "description_tooltip": null,
            "metadata": [
              {
                "name": "kaggle.json",
                "type": "application/json",
                "size": 68,
                "lastModified": 1623143484266
              }
            ],
            "_model_module": "@jupyter-widgets/controls",
            "layout": "IPY_MODEL_cfc6f6281932403ca570b23bca591325",
            "icon": "upload"
          }
        },
        "16e3a636035347aaa77254f120c9d34f": {
          "model_module": "@jupyter-widgets/controls",
          "model_name": "ButtonStyleModel",
          "state": {
            "_view_name": "StyleView",
            "_model_name": "ButtonStyleModel",
            "_view_module": "@jupyter-widgets/base",
            "_model_module_version": "1.5.0",
            "_view_count": null,
            "button_color": null,
            "font_weight": "",
            "_view_module_version": "1.2.0",
            "_model_module": "@jupyter-widgets/controls"
          }
        },
        "cfc6f6281932403ca570b23bca591325": {
          "model_module": "@jupyter-widgets/base",
          "model_name": "LayoutModel",
          "state": {
            "_view_name": "LayoutView",
            "grid_template_rows": null,
            "right": null,
            "justify_content": null,
            "_view_module": "@jupyter-widgets/base",
            "overflow": null,
            "_model_module_version": "1.2.0",
            "_view_count": null,
            "flex_flow": null,
            "width": null,
            "min_width": null,
            "border": null,
            "align_items": null,
            "bottom": null,
            "_model_module": "@jupyter-widgets/base",
            "top": null,
            "grid_column": null,
            "overflow_y": null,
            "overflow_x": null,
            "grid_auto_flow": null,
            "grid_area": null,
            "grid_template_columns": null,
            "flex": null,
            "_model_name": "LayoutModel",
            "justify_items": null,
            "grid_row": null,
            "max_height": null,
            "align_content": null,
            "visibility": null,
            "align_self": null,
            "height": null,
            "min_height": null,
            "padding": null,
            "grid_auto_rows": null,
            "grid_gap": null,
            "max_width": null,
            "order": null,
            "_view_module_version": "1.2.0",
            "grid_template_areas": null,
            "object_position": null,
            "object_fit": null,
            "grid_auto_columns": null,
            "margin": null,
            "display": null,
            "left": null
          }
        }
      }
    }
  },
  "cells": [
    {
      "cell_type": "markdown",
      "metadata": {
        "id": "PtT2_8IFENkf"
      },
      "source": [
        "# Identify problem type\n",
        "\n",
        "> This notebook works in Google Colab. It gets data from kaggle's homesite-quote-conversion, cleans dates and ints stored as str, checks quote date in training data and test data to see if time series\n",
        "\n",
        "- toc: true \n",
        "- badges: true\n",
        "- comments: true\n",
        "- categories: [jupyter]\n"
      ]
    },
    {
      "cell_type": "code",
      "metadata": {
        "colab": {
          "base_uri": "https://localhost:8080/"
        },
        "id": "pKhJhnxH1Vp0",
        "outputId": "4d3ec30d-5c61-4525-d526-fab6120d14e3"
      },
      "source": [
        "#\n",
        "# Install packages recommended in fastbook Ch09\n",
        "!pip install -Uqq fastbook kaggle waterfallcharts treeinterpreter dtreeviz"
      ],
      "execution_count": null,
      "outputs": [
        {
          "output_type": "stream",
          "text": [
            "\u001b[K     |████████████████████████████████| 727kB 7.5MB/s \n",
            "\u001b[K     |████████████████████████████████| 61kB 8.9MB/s \n",
            "\u001b[K     |████████████████████████████████| 1.2MB 15.7MB/s \n",
            "\u001b[K     |████████████████████████████████| 194kB 37.5MB/s \n",
            "\u001b[K     |████████████████████████████████| 51kB 9.3MB/s \n",
            "\u001b[K     |████████████████████████████████| 61kB 10.4MB/s \n",
            "\u001b[K     |████████████████████████████████| 61kB 10.5MB/s \n",
            "\u001b[?25h  Building wheel for waterfallcharts (setup.py) ... \u001b[?25l\u001b[?25hdone\n",
            "  Building wheel for dtreeviz (setup.py) ... \u001b[?25l\u001b[?25hdone\n"
          ],
          "name": "stdout"
        }
      ]
    },
    {
      "cell_type": "code",
      "metadata": {
        "colab": {
          "base_uri": "https://localhost:8080/"
        },
        "id": "itdp9FTX1aDK",
        "outputId": "bc3c1631-3ccb-4442-e100-e6f23da9a092"
      },
      "source": [
        "import fastbook\n",
        "fastbook.setup_book()"
      ],
      "execution_count": null,
      "outputs": [
        {
          "output_type": "stream",
          "text": [
            "Mounted at /content/gdrive\n"
          ],
          "name": "stdout"
        }
      ]
    },
    {
      "cell_type": "code",
      "metadata": {
        "id": "WbAU3peRGoSB"
      },
      "source": [
        "from fastbook import *\n",
        "from fastai.vision.widgets import *\n",
        "from pandas.api.types import is_string_dtype, is_numeric_dtype, is_categorical_dtype\n",
        "from fastai.tabular.all import *\n",
        "from sklearn.ensemble import RandomForestRegressor\n",
        "from sklearn.tree import DecisionTreeRegressor\n",
        "from dtreeviz.trees import *\n",
        "from IPython.display import Image, display_svg, SVG\n",
        "\n",
        "pd.options.display.max_rows = 20\n",
        "pd.options.display.max_columns = 8"
      ],
      "execution_count": null,
      "outputs": []
    },
    {
      "cell_type": "code",
      "metadata": {
        "colab": {
          "base_uri": "https://localhost:8080/",
          "height": 49,
          "referenced_widgets": [
            "3661454ba9bb4468ba4fc22f488819d6",
            "16e3a636035347aaa77254f120c9d34f",
            "cfc6f6281932403ca570b23bca591325"
          ]
        },
        "id": "oxQuda7q2Y4m",
        "outputId": "c7e5f289-3af0-4ce3-8695-e0cc360c3c5b"
      },
      "source": [
        "#\n",
        "# Upload your kaggle.json API key\n",
        "btn_upload = widgets.FileUpload(description=\"kaggle.json\")\n",
        "btn_upload"
      ],
      "execution_count": null,
      "outputs": [
        {
          "output_type": "display_data",
          "data": {
            "application/vnd.jupyter.widget-view+json": {
              "model_id": "3661454ba9bb4468ba4fc22f488819d6",
              "version_minor": 0,
              "version_major": 2
            },
            "text/plain": [
              "FileUpload(value={}, description='kaggle.json')"
            ]
          },
          "metadata": {
            "tags": []
          }
        }
      ]
    },
    {
      "cell_type": "code",
      "metadata": {
        "id": "G-SP_j5B2xxK"
      },
      "source": [
        "#\n",
        "# Save credentials\n",
        "cred_path = Path('~/.kaggle/kaggle.json').expanduser()\n",
        "if not cred_path.parent.exists():\n",
        "    cred_path.parent.mkdir()\n",
        "if len(btn_upload.data) > 0:\n",
        "    with open(cred_path, mode=\"wb\") as cred_file:\n",
        "        cred_file.write(btn_upload.data[-1])\n",
        "cred_path.chmod(0o600)"
      ],
      "execution_count": null,
      "outputs": []
    },
    {
      "cell_type": "code",
      "metadata": {
        "id": "3WAg0gGojRD2"
      },
      "source": [
        "from kaggle import api"
      ],
      "execution_count": null,
      "outputs": []
    },
    {
      "cell_type": "code",
      "metadata": {
        "colab": {
          "base_uri": "https://localhost:8080/"
        },
        "id": "hK1f5S2DoAxH",
        "outputId": "8269f938-9960-4903-9173-4b19f112c742"
      },
      "source": [
        "#\n",
        "# Note that '!pip install kaggle' does not update cli kaggle in Google colab\n",
        "# and is only v1.5.4 while kaggle.api is v1.5.12\n",
        "!kaggle --version"
      ],
      "execution_count": null,
      "outputs": [
        {
          "output_type": "stream",
          "text": [
            "Kaggle API 1.5.4\n"
          ],
          "name": "stdout"
        }
      ]
    },
    {
      "cell_type": "code",
      "metadata": {
        "colab": {
          "base_uri": "https://localhost:8080/",
          "height": 36
        },
        "id": "VxluQM2C7W8q",
        "outputId": "c1ebea30-862c-496f-9157-4ffaf80884d0"
      },
      "source": [
        "#\n",
        "# python kaggle.api is using a more recent version\n",
        "api.__version__"
      ],
      "execution_count": null,
      "outputs": [
        {
          "output_type": "execute_result",
          "data": {
            "application/vnd.google.colaboratory.intrinsic+json": {
              "type": "string"
            },
            "text/plain": [
              "'1.5.12'"
            ]
          },
          "metadata": {
            "tags": []
          },
          "execution_count": 8
        }
      ]
    },
    {
      "cell_type": "code",
      "metadata": {
        "colab": {
          "base_uri": "https://localhost:8080/"
        },
        "id": "2qlROgC-maOf",
        "outputId": "45569d3e-9445-4349-da69-c6390ba35ef2"
      },
      "source": [
        "#\n",
        "# Get data from kaggle, extract and store in _data\n",
        "path_hqc = (Path.cwd()/\"_data\")\n",
        "path_hqc.mkdir(exist_ok=True)\n",
        "Path.BASE_PATH = path_hqc\n",
        "api.competition_download_cli('homesite-quote-conversion', path=path_hqc)\n",
        "file_extract(path_hqc/\"homesite-quote-conversion.zip\")\n",
        "file_extract(path_hqc/\"train.csv.zip\")\n",
        "file_extract(path_hqc/\"test.csv.zip\")"
      ],
      "execution_count": null,
      "outputs": [
        {
          "output_type": "stream",
          "text": [
            "\r  0%|          | 0.00/62.0M [00:00<?, ?B/s]"
          ],
          "name": "stderr"
        },
        {
          "output_type": "stream",
          "text": [
            "Downloading homesite-quote-conversion.zip to /content/_data\n"
          ],
          "name": "stdout"
        },
        {
          "output_type": "stream",
          "text": [
            "100%|██████████| 62.0M/62.0M [00:00<00:00, 75.9MB/s]\n"
          ],
          "name": "stderr"
        },
        {
          "output_type": "stream",
          "text": [
            "\n"
          ],
          "name": "stdout"
        }
      ]
    },
    {
      "cell_type": "code",
      "metadata": {
        "colab": {
          "base_uri": "https://localhost:8080/",
          "height": 256
        },
        "id": "EV41_08dscfb",
        "outputId": "d34e1cbb-4e5b-4c5f-e391-7330733d90fc"
      },
      "source": [
        "#\n",
        "# Check what the data looks like\n",
        "df = pd.read_csv(path_hqc/\"train.csv\", low_memory=False)\n",
        "df.head()"
      ],
      "execution_count": null,
      "outputs": [
        {
          "output_type": "execute_result",
          "data": {
            "text/html": [
              "<div>\n",
              "<style scoped>\n",
              "    .dataframe tbody tr th:only-of-type {\n",
              "        vertical-align: middle;\n",
              "    }\n",
              "\n",
              "    .dataframe tbody tr th {\n",
              "        vertical-align: top;\n",
              "    }\n",
              "\n",
              "    .dataframe thead th {\n",
              "        text-align: right;\n",
              "    }\n",
              "</style>\n",
              "<table border=\"1\" class=\"dataframe\">\n",
              "  <thead>\n",
              "    <tr style=\"text-align: right;\">\n",
              "      <th></th>\n",
              "      <th>QuoteNumber</th>\n",
              "      <th>Original_Quote_Date</th>\n",
              "      <th>QuoteConversion_Flag</th>\n",
              "      <th>Field6</th>\n",
              "      <th>...</th>\n",
              "      <th>GeographicField62A</th>\n",
              "      <th>GeographicField62B</th>\n",
              "      <th>GeographicField63</th>\n",
              "      <th>GeographicField64</th>\n",
              "    </tr>\n",
              "  </thead>\n",
              "  <tbody>\n",
              "    <tr>\n",
              "      <th>0</th>\n",
              "      <td>1</td>\n",
              "      <td>2013-08-16</td>\n",
              "      <td>0</td>\n",
              "      <td>B</td>\n",
              "      <td>...</td>\n",
              "      <td>-1</td>\n",
              "      <td>10</td>\n",
              "      <td>N</td>\n",
              "      <td>CA</td>\n",
              "    </tr>\n",
              "    <tr>\n",
              "      <th>1</th>\n",
              "      <td>2</td>\n",
              "      <td>2014-04-22</td>\n",
              "      <td>0</td>\n",
              "      <td>F</td>\n",
              "      <td>...</td>\n",
              "      <td>-1</td>\n",
              "      <td>20</td>\n",
              "      <td>N</td>\n",
              "      <td>NJ</td>\n",
              "    </tr>\n",
              "    <tr>\n",
              "      <th>2</th>\n",
              "      <td>4</td>\n",
              "      <td>2014-08-25</td>\n",
              "      <td>0</td>\n",
              "      <td>F</td>\n",
              "      <td>...</td>\n",
              "      <td>-1</td>\n",
              "      <td>8</td>\n",
              "      <td>N</td>\n",
              "      <td>NJ</td>\n",
              "    </tr>\n",
              "    <tr>\n",
              "      <th>3</th>\n",
              "      <td>6</td>\n",
              "      <td>2013-04-15</td>\n",
              "      <td>0</td>\n",
              "      <td>J</td>\n",
              "      <td>...</td>\n",
              "      <td>-1</td>\n",
              "      <td>21</td>\n",
              "      <td>N</td>\n",
              "      <td>TX</td>\n",
              "    </tr>\n",
              "    <tr>\n",
              "      <th>4</th>\n",
              "      <td>8</td>\n",
              "      <td>2014-01-25</td>\n",
              "      <td>0</td>\n",
              "      <td>E</td>\n",
              "      <td>...</td>\n",
              "      <td>-1</td>\n",
              "      <td>12</td>\n",
              "      <td>N</td>\n",
              "      <td>IL</td>\n",
              "    </tr>\n",
              "  </tbody>\n",
              "</table>\n",
              "<p>5 rows × 299 columns</p>\n",
              "</div>"
            ],
            "text/plain": [
              "   QuoteNumber Original_Quote_Date  QuoteConversion_Flag Field6  ...  \\\n",
              "0            1          2013-08-16                     0      B  ...   \n",
              "1            2          2014-04-22                     0      F  ...   \n",
              "2            4          2014-08-25                     0      F  ...   \n",
              "3            6          2013-04-15                     0      J  ...   \n",
              "4            8          2014-01-25                     0      E  ...   \n",
              "\n",
              "   GeographicField62A  GeographicField62B  GeographicField63 GeographicField64  \n",
              "0                  -1                  10                  N                CA  \n",
              "1                  -1                  20                  N                NJ  \n",
              "2                  -1                   8                  N                NJ  \n",
              "3                  -1                  21                  N                TX  \n",
              "4                  -1                  12                  N                IL  \n",
              "\n",
              "[5 rows x 299 columns]"
            ]
          },
          "metadata": {
            "tags": []
          },
          "execution_count": 10
        }
      ]
    },
    {
      "cell_type": "code",
      "metadata": {
        "colab": {
          "base_uri": "https://localhost:8080/"
        },
        "id": "nk3_a9BNtRez",
        "outputId": "f209a705-6cd4-43c1-b5c0-8b15037e8c55"
      },
      "source": [
        "#\n",
        "# Check how much data we have and check if QuoteNumber is unique\n",
        "df.shape, len(df['QuoteNumber'].unique())\n",
        "# Conclusion: QuoteNumber is unique"
      ],
      "execution_count": null,
      "outputs": [
        {
          "output_type": "execute_result",
          "data": {
            "text/plain": [
              "((260753, 299), 260753)"
            ]
          },
          "metadata": {
            "tags": []
          },
          "execution_count": 11
        }
      ]
    },
    {
      "cell_type": "code",
      "metadata": {
        "id": "ihyshN1ttc-s"
      },
      "source": [
        "#\n",
        "# We don't want to use QuoteNumber as a feature but we could use it as the index\n",
        "df = df.set_index('QuoteNumber')"
      ],
      "execution_count": null,
      "outputs": []
    },
    {
      "cell_type": "code",
      "metadata": {
        "colab": {
          "base_uri": "https://localhost:8080/"
        },
        "id": "KlCqQZvawA-V",
        "outputId": "ba0c2b01-b84b-437a-eeaa-8b2076808a55"
      },
      "source": [
        "#\n",
        "# Examine data types in train.csv\n",
        "df.info()"
      ],
      "execution_count": null,
      "outputs": [
        {
          "output_type": "stream",
          "text": [
            "<class 'pandas.core.frame.DataFrame'>\n",
            "Int64Index: 260753 entries, 1 to 434588\n",
            "Columns: 298 entries, Original_Quote_Date to GeographicField64\n",
            "dtypes: float64(6), int64(264), object(28)\n",
            "memory usage: 594.8+ MB\n"
          ],
          "name": "stdout"
        }
      ]
    },
    {
      "cell_type": "code",
      "metadata": {
        "colab": {
          "base_uri": "https://localhost:8080/"
        },
        "id": "nJzgu0RLtl-h",
        "outputId": "6ce309ab-3399-4149-f5f8-1facadf6fccf"
      },
      "source": [
        "#\n",
        "# Find the 28 fields which do not have numeric datatypes\n",
        "from collections import defaultdict\n",
        "dct_fields_by_dtype = defaultdict(list)\n",
        "for i, dt in enumerate(df.dtypes):\n",
        "    dct_fields_by_dtype[dt].append(df.dtypes.index[i])\n",
        "print(\"dtypes in train.csv:\", dct_fields_by_dtype.keys())\n",
        "print(\"fields for object dtype:\", dct_fields_by_dtype[np.dtype('O')])\n",
        "print(\"number of fields of object dtype:\", len(dct_fields_by_dtype[np.dtype('O')]))"
      ],
      "execution_count": null,
      "outputs": [
        {
          "output_type": "stream",
          "text": [
            "dtypes in train.csv: dict_keys([dtype('O'), dtype('int64'), dtype('float64')])\n",
            "fields for object dtype: ['Original_Quote_Date', 'Field6', 'Field10', 'Field12', 'CoverageField8', 'CoverageField9', 'SalesField7', 'PersonalField7', 'PersonalField16', 'PersonalField17', 'PersonalField18', 'PersonalField19', 'PropertyField3', 'PropertyField4', 'PropertyField5', 'PropertyField7', 'PropertyField14', 'PropertyField28', 'PropertyField30', 'PropertyField31', 'PropertyField32', 'PropertyField33', 'PropertyField34', 'PropertyField36', 'PropertyField37', 'PropertyField38', 'GeographicField63', 'GeographicField64']\n",
            "number of fields of object dtype: 28\n"
          ],
          "name": "stdout"
        }
      ]
    },
    {
      "cell_type": "code",
      "metadata": {
        "colab": {
          "base_uri": "https://localhost:8080/"
        },
        "id": "jcarCw6FEYBD",
        "outputId": "1399fe69-08b8-48a0-e952-5948f7c3b5fe"
      },
      "source": [
        "#\n",
        "# Original_Quote_Date can be converted to datetime\n",
        "df['Original_Quote_Date'] = pd.to_datetime(df['Original_Quote_Date'])\n",
        "# recalculate breakdown now that we have changed dtype of Original_Quote_Date\n",
        "dct_fields_by_dtype = defaultdict(list)\n",
        "for i, dt in enumerate(df.dtypes):\n",
        "    dct_fields_by_dtype[dt].append(df.dtypes.index[i])\n",
        "\n",
        "df.info()"
      ],
      "execution_count": null,
      "outputs": [
        {
          "output_type": "stream",
          "text": [
            "<class 'pandas.core.frame.DataFrame'>\n",
            "Int64Index: 260753 entries, 1 to 434588\n",
            "Columns: 298 entries, Original_Quote_Date to GeographicField64\n",
            "dtypes: datetime64[ns](1), float64(6), int64(264), object(27)\n",
            "memory usage: 594.8+ MB\n"
          ],
          "name": "stdout"
        }
      ]
    },
    {
      "cell_type": "code",
      "metadata": {
        "id": "eZ1NH8ie9G_L",
        "colab": {
          "base_uri": "https://localhost:8080/"
        },
        "outputId": "63f21bae-b23a-4daf-8e0e-4d6042f0d35f"
      },
      "source": [
        "#\n",
        "# Compare Original_Quote_Date in train.csv and test.csv\n",
        "df_test = pd.read_csv(path_hqc/\"test.csv\", low_memory=False)\n",
        "df_test[\"Original_Quote_Date\"] = pd.to_datetime(df_test[\"Original_Quote_Date\"])\n",
        "print(\"train.csv\", df['Original_Quote_Date'].min(), df['Original_Quote_Date'].max(), df.shape)\n",
        "print(\"test.csv \", df_test['Original_Quote_Date'].min(), df_test['Original_Quote_Date'].max(), df_test.shape)\n",
        "# Conclusion: overlapping date ranges (in fact identical date ranges) so \n",
        "# don't need to consider as time series problem "
      ],
      "execution_count": null,
      "outputs": [
        {
          "output_type": "stream",
          "text": [
            "train.csv 2013-01-01 00:00:00 2015-05-18 00:00:00 (260753, 298)\n",
            "test.csv  2013-01-01 00:00:00 2015-05-18 00:00:00 (173836, 298)\n"
          ],
          "name": "stdout"
        }
      ]
    },
    {
      "cell_type": "code",
      "metadata": {
        "colab": {
          "base_uri": "https://localhost:8080/"
        },
        "id": "LjvZjzQr3z09",
        "outputId": "09a5b0e2-cbec-4ac1-874a-22230336c7ff"
      },
      "source": [
        "#\n",
        "# Check the non-numeric values in other object fields\n",
        "for col in dct_fields_by_dtype[np.dtype('O')]:\n",
        "    print(f\"{col:20s} {df[col].unique()}\")"
      ],
      "execution_count": null,
      "outputs": [
        {
          "output_type": "stream",
          "text": [
            "Field6               ['B' 'F' 'J' 'E' 'C' 'K' 'A' 'D']\n",
            "Field10              ['965' '548' '1,165' '1,487' '935' '564' '1,113' '1,480']\n",
            "Field12              ['N' 'Y']\n",
            "CoverageField8       ['T' 'Y' 'X' 'W' 'V' 'U' 'Z']\n",
            "CoverageField9       ['D' 'E' 'J' 'F' 'A' 'G' 'K' 'C' 'L' 'B' 'I' 'H']\n",
            "SalesField7          ['V' 'P' 'K' 'R' 'T' 'Q' 'M']\n",
            "PersonalField7       ['N' 'Y' nan]\n",
            "PersonalField16      ['ZA' 'XB' 'ZH' 'XO' 'YE' 'XR' 'ZG' 'ZF' 'XW' 'XS' 'ZT' 'XD' 'XH' 'XM' 'YH' 'ZD' 'XJ' 'ZN' 'YF' 'XX' 'XL' 'XQ' 'ZJ' 'ZR' 'ZW' 'XE' 'XC' 'ZK' 'XK' 'ZC' 'XZ' 'XI' 'ZE' 'ZU' 'YI' 'XP' 'ZO' 'ZP' 'ZB'\n",
            " 'XF' 'ZS' 'XT' 'XY' 'ZQ' 'ZI' 'XV' 'XU' 'XN' 'ZV' 'ZL']\n",
            "PersonalField17      ['ZE' 'YJ' 'XS' 'XE' 'XU' 'ZQ' 'YY' 'XV' 'ZF' 'XK' 'YS' 'ZK' 'YF' 'YV' 'XG' 'ZL' 'ZH' 'ZW' 'XH' 'ZU' 'YH' 'XC' 'ZV' 'XR' 'ZI' 'XX' 'YR' 'XW' 'ZC' 'YZ' 'YU' 'YX' 'ZA' 'ZP' 'XI' 'YN' 'YL' 'YK' 'ZN'\n",
            " 'XT' 'ZT' 'XQ' 'XB' 'YI' 'YM' 'XL' 'YQ' 'ZG' 'ZS' 'YT' 'ZO' 'YE' 'XN' 'ZM' 'XM' 'YG' 'YP' 'XD' 'ZD' 'YW' 'XJ' 'ZB' 'XP' 'XO' 'ZR' 'XY']\n",
            "PersonalField18      ['XR' 'YE' 'YP' 'YI' 'XQ' 'ZW' 'XT' 'XF' 'XS' 'YG' 'ZF' 'XZ' 'XI' 'XK' 'YF' 'ZE' 'YQ' 'ZP' 'YL' 'ZD' 'XW' 'YN' 'YK' 'ZJ' 'ZK' 'ZC' 'XU' 'ZN' 'XP' 'XL' 'XM' 'ZL' 'XC' 'ZH' 'XG' 'XN' 'XY' 'ZQ' 'XO'\n",
            " 'ZT' 'XJ' 'ZA' 'ZU' 'XE' 'ZV' 'ZS' 'YR' 'YH' 'YJ' 'ZR' 'ZO' 'YO' 'ZM' 'XD' 'YM' 'XX' 'ZB' 'XH' 'XV' 'ZG' 'ZI']\n",
            "PersonalField19      ['XD' 'XT' 'XC' 'XX' 'ZQ' 'ZT' 'ZO' 'YJ' 'ZN' 'YH' 'ZI' 'YN' 'YF' 'YK' 'XY' 'XI' 'ZA' 'ZW' 'ZV' 'XU' 'ZL' 'XK' 'XW' 'XF' 'ZK' 'YE' 'XB' 'XZ' 'XP' 'ZJ' 'YM' 'XO' 'YG' 'XN' 'ZR' 'ZE' 'ZB' 'ZG' 'YL'\n",
            " 'ZF' 'XR' 'XJ' 'XM' 'ZP' 'XQ' 'XV' 'ZH' 'XE' 'ZU' 'ZM' 'XG' 'ZD' 'XH' 'XL' 'YI' 'XS' 'ZC']\n",
            "PropertyField3       ['N' 'Y' nan]\n",
            "PropertyField4       ['N' 'Y' nan]\n",
            "PropertyField5       ['Y' 'N']\n",
            "PropertyField7       ['O' 'N' 'R' 'D' 'S' 'J' 'I' 'Q' 'A' 'K' 'G' 'F' 'H' 'E' 'L' 'C' 'P' 'M' 'B']\n",
            "PropertyField14      ['C' 'B' 'A' 'D']\n",
            "PropertyField28      ['B' 'D' 'A' 'C']\n",
            "PropertyField30      ['N' 'Y']\n",
            "PropertyField31      ['N' 'O' 'K' 'M']\n",
            "PropertyField32      ['Y' 'N' nan]\n",
            "PropertyField33      ['G' 'H' 'E' 'F']\n",
            "PropertyField34      ['Y' 'N' nan]\n",
            "PropertyField36      ['N' 'Y' nan]\n",
            "PropertyField37      ['N' 'Y']\n",
            "PropertyField38      ['N' 'Y' nan]\n",
            "GeographicField63    ['N' 'Y' ' ']\n",
            "GeographicField64    ['CA' 'NJ' 'TX' 'IL']\n"
          ],
          "name": "stdout"
        }
      ]
    },
    {
      "cell_type": "code",
      "metadata": {
        "colab": {
          "base_uri": "https://localhost:8080/"
        },
        "id": "ldlfUY4XE4zp",
        "outputId": "08a7007a-ff61-48db-a3ab-20c3ab740894"
      },
      "source": [
        "#\n",
        "# Field10 looks like integers stored as strings so convert to ints\n",
        "df['Field10'] = df['Field10'].str.replace(\",\", \"\").astype(int)\n",
        "df.info()"
      ],
      "execution_count": null,
      "outputs": [
        {
          "output_type": "stream",
          "text": [
            "<class 'pandas.core.frame.DataFrame'>\n",
            "Int64Index: 260753 entries, 1 to 434588\n",
            "Columns: 298 entries, Original_Quote_Date to GeographicField64\n",
            "dtypes: datetime64[ns](1), float64(6), int64(265), object(26)\n",
            "memory usage: 594.8+ MB\n"
          ],
          "name": "stdout"
        }
      ]
    },
    {
      "cell_type": "code",
      "metadata": {
        "id": "j1bjq2C9Bv4Z"
      },
      "source": [
        "#\n",
        "# recalculate breakdown now that we have changed dtype of Field10\n",
        "dct_fields_by_dtype = defaultdict(list)\n",
        "for i, dt in enumerate(df.dtypes):\n",
        "    dct_fields_by_dtype[dt].append(df.dtypes.index[i])"
      ],
      "execution_count": null,
      "outputs": []
    },
    {
      "cell_type": "code",
      "metadata": {
        "id": "Xq0svW6gHhuM"
      },
      "source": [
        ""
      ],
      "execution_count": null,
      "outputs": []
    }
  ]
}