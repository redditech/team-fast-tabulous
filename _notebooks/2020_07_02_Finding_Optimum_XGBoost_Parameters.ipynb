{
  "nbformat": 4,
  "nbformat_minor": 5,
  "metadata": {
    "colab": {
      "name": "2020-07-02-Finding-Optimum-XGBoost-Parameters.ipynb",
      "provenance": [],
      "collapsed_sections": []
    },
    "kernelspec": {
      "display_name": "Python 3",
      "language": "python",
      "name": "python3"
    },
    "language_info": {
      "codemirror_mode": {
        "name": "ipython",
        "version": 3
      },
      "file_extension": ".py",
      "mimetype": "text/x-python",
      "name": "python",
      "nbconvert_exporter": "python",
      "pygments_lexer": "ipython3",
      "version": "3.9.5"
    },
    "accelerator": "GPU"
  },
  "cells": [
    {
      "cell_type": "markdown",
      "metadata": {
        "id": "365551fa-4973-48d4-be68-1227dddd1669"
      },
      "source": [
        "# Finding Optimum XGBoost Parameters for Tabular For Homesite Competition\n",
        "> Building on the work of the previous notebook, which referenced [Zach's notebook](https://github.com/muellerzr/Practical-Deep-Learning-for-Coders-2.0/blob/master/Tabular%20Notebooks/02_Ensembling.ipynb) to apply his techniques for permutation importance and ensemble learning to the Homesite Competition problem set, we will deep dive into optimizing the XGBoost parameters to see if an improved model can be generated, and what effect this has for our resulting ensemble model's predictions\n",
        "\n",
        "- toc: true \n",
        "- badges: true\n",
        "- comments: true\n",
        "- categories: [kaggle, fastai]\n",
        "- author: Nissan Dookeran\n",
        "- image: images/chart-preview.png"
      ],
      "id": "365551fa-4973-48d4-be68-1227dddd1669"
    },
    {
      "cell_type": "markdown",
      "metadata": {
        "id": "bc1f57d1-29fb-421b-aef5-def71857c4fa"
      },
      "source": [
        "## Introduction\n",
        "Using the [code here] we will look at the optimal number of estimators, depth, and then combination of the two when using XGBoost to generate a model\n",
        "\n",
        "Notes:\n",
        "- Changed the categorize functions from [last notebook](https://redditech.github.io/team-fast-tabulous/kaggle/fastai/2021/06/27/Improving-Fastai-split-choices.html) to exclude any columns in y_names from being evaluated since these shouldn't be part of the model training as a parameter\n",
        "- Added code to save all models to reuse in another notebook that submits to Kaggle for test evaluation"
      ],
      "id": "bc1f57d1-29fb-421b-aef5-def71857c4fa"
    },
    {
      "cell_type": "markdown",
      "metadata": {
        "id": "e6651bcd-4e16-461c-ad9f-8e14aca0f164"
      },
      "source": [
        "## Setup"
      ],
      "id": "e6651bcd-4e16-461c-ad9f-8e14aca0f164"
    },
    {
      "cell_type": "markdown",
      "metadata": {
        "id": "Eaa7ZAV41err"
      },
      "source": [
        ">> Adding based on [tutorial](https://github.com/fastai/course-v3/blob/master/nbs/dl1/00_notebook_tutorial.ipynb) for notebooks"
      ],
      "id": "Eaa7ZAV41err"
    },
    {
      "cell_type": "code",
      "metadata": {
        "id": "l-9f1Ear1cWw"
      },
      "source": [
        "%matplotlib inline\n",
        "%reload_ext autoreload\n",
        "%autoreload 2"
      ],
      "id": "l-9f1Ear1cWw",
      "execution_count": null,
      "outputs": []
    },
    {
      "cell_type": "code",
      "metadata": {
        "id": "a7b2e9a9-0d75-47e1-b98c-cd31cbe66000"
      },
      "source": [
        "!pip install -Uqq fastai"
      ],
      "id": "a7b2e9a9-0d75-47e1-b98c-cd31cbe66000",
      "execution_count": 27,
      "outputs": []
    },
    {
      "cell_type": "code",
      "metadata": {
        "colab": {
          "base_uri": "https://localhost:8080/"
        },
        "id": "5751d422-f368-4e32-b3bb-a12ae2f728e4",
        "outputId": "0b220bfb-a35a-40a0-fe4c-49e4fead4e92"
      },
      "source": [
        "!pip install kaggle"
      ],
      "id": "5751d422-f368-4e32-b3bb-a12ae2f728e4",
      "execution_count": 2,
      "outputs": [
        {
          "output_type": "stream",
          "text": [
            "Requirement already satisfied: kaggle in /usr/local/lib/python3.7/dist-packages (1.5.12)\n",
            "Requirement already satisfied: urllib3 in /usr/local/lib/python3.7/dist-packages (from kaggle) (1.24.3)\n",
            "Requirement already satisfied: tqdm in /usr/local/lib/python3.7/dist-packages (from kaggle) (4.41.1)\n",
            "Requirement already satisfied: certifi in /usr/local/lib/python3.7/dist-packages (from kaggle) (2021.5.30)\n",
            "Requirement already satisfied: requests in /usr/local/lib/python3.7/dist-packages (from kaggle) (2.23.0)\n",
            "Requirement already satisfied: python-dateutil in /usr/local/lib/python3.7/dist-packages (from kaggle) (2.8.1)\n",
            "Requirement already satisfied: python-slugify in /usr/local/lib/python3.7/dist-packages (from kaggle) (5.0.2)\n",
            "Requirement already satisfied: six>=1.10 in /usr/local/lib/python3.7/dist-packages (from kaggle) (1.15.0)\n",
            "Requirement already satisfied: chardet<4,>=3.0.2 in /usr/local/lib/python3.7/dist-packages (from requests->kaggle) (3.0.4)\n",
            "Requirement already satisfied: idna<3,>=2.5 in /usr/local/lib/python3.7/dist-packages (from requests->kaggle) (2.10)\n",
            "Requirement already satisfied: text-unidecode>=1.3 in /usr/local/lib/python3.7/dist-packages (from python-slugify->kaggle) (1.3)\n"
          ],
          "name": "stdout"
        }
      ]
    },
    {
      "cell_type": "code",
      "metadata": {
        "id": "HAYPbS7zApXy"
      },
      "source": [
        "from fastai.tabular.all import *"
      ],
      "id": "HAYPbS7zApXy",
      "execution_count": 3,
      "outputs": []
    },
    {
      "cell_type": "code",
      "metadata": {
        "id": "-of_3lHmASEN",
        "colab": {
          "base_uri": "https://localhost:8080/"
        },
        "outputId": "53fcde79-b1e1-4ccf-c1fa-0d33f17ac1c7"
      },
      "source": [
        "global gdrive #colab only code block\n",
        "gdrive = Path('/content/gdrive/My Drive')\n",
        "from google.colab import drive\n",
        "if not gdrive.exists(): drive.mount(str(gdrive.parent))\n",
        "!mkdir -p ~/.kaggle\n",
        "!cp /content/gdrive/MyDrive/Kaggle/kaggle.json ~/.kaggle/\n",
        "!chmod 600 ~/.kaggle/kaggle.json"
      ],
      "id": "-of_3lHmASEN",
      "execution_count": 4,
      "outputs": [
        {
          "output_type": "stream",
          "text": [
            "Mounted at /content/gdrive\n"
          ],
          "name": "stdout"
        }
      ]
    },
    {
      "cell_type": "code",
      "metadata": {
        "id": "1884b0f7-7cae-4d51-9885-d83388ff7471"
      },
      "source": [
        "from kaggle import api"
      ],
      "id": "1884b0f7-7cae-4d51-9885-d83388ff7471",
      "execution_count": 5,
      "outputs": []
    },
    {
      "cell_type": "code",
      "metadata": {
        "colab": {
          "base_uri": "https://localhost:8080/"
        },
        "id": "9b7fd4cf-cb0c-49ce-85d0-afe495afc059",
        "outputId": "7f114d87-9409-4ae9-b493-bbdbdba5785b"
      },
      "source": [
        "path = Path.cwd()\n",
        "path.ls()"
      ],
      "id": "9b7fd4cf-cb0c-49ce-85d0-afe495afc059",
      "execution_count": 6,
      "outputs": [
        {
          "output_type": "execute_result",
          "data": {
            "text/plain": [
              "(#3) [Path('/content/.config'),Path('/content/gdrive'),Path('/content/sample_data')]"
            ]
          },
          "metadata": {
            "tags": []
          },
          "execution_count": 6
        }
      ]
    },
    {
      "cell_type": "markdown",
      "metadata": {
        "id": "37f02749-f62f-4597-8133-57cfb1f9d0e7"
      },
      "source": [
        "> Only run the next three lines the first time if in a local repository. This will prevent large training data files and model files being checked into Github"
      ],
      "id": "37f02749-f62f-4597-8133-57cfb1f9d0e7"
    },
    {
      "cell_type": "code",
      "metadata": {
        "id": "c92a1495-ba58-44bd-9145-52c78dde1fdc"
      },
      "source": [
        "!touch .gitignore"
      ],
      "id": "c92a1495-ba58-44bd-9145-52c78dde1fdc",
      "execution_count": null,
      "outputs": []
    },
    {
      "cell_type": "code",
      "metadata": {
        "id": "44693a7f-2a48-4ed5-8cbd-44b2ea4a771c"
      },
      "source": [
        "!echo \"_data\" > .gitignore"
      ],
      "id": "44693a7f-2a48-4ed5-8cbd-44b2ea4a771c",
      "execution_count": null,
      "outputs": []
    },
    {
      "cell_type": "code",
      "metadata": {
        "id": "0480c25d-b21f-43e0-bdb8-355cbe58f3f0"
      },
      "source": [
        "!mkdir _data"
      ],
      "id": "0480c25d-b21f-43e0-bdb8-355cbe58f3f0",
      "execution_count": null,
      "outputs": []
    },
    {
      "cell_type": "code",
      "metadata": {
        "colab": {
          "base_uri": "https://localhost:8080/"
        },
        "id": "d8abd520-fbc2-4c2e-a7c9-bfcdc2822a34",
        "outputId": "0dd04f9a-fe50-4a34-eecf-ed85679e02fe"
      },
      "source": [
        "os.chdir('_data')\n",
        "Path.cwd()"
      ],
      "id": "d8abd520-fbc2-4c2e-a7c9-bfcdc2822a34",
      "execution_count": null,
      "outputs": [
        {
          "output_type": "execute_result",
          "data": {
            "text/plain": [
              "Path('/mnt/d/Code/GitHub/team-fast-tabulous/_notebooks/_data')"
            ]
          },
          "metadata": {
            "tags": []
          },
          "execution_count": 6
        }
      ]
    },
    {
      "cell_type": "markdown",
      "metadata": {
        "id": "dd3a9675-1264-4115-9c1e-19aecf133806"
      },
      "source": [
        "> Back to it"
      ],
      "id": "dd3a9675-1264-4115-9c1e-19aecf133806"
    },
    {
      "cell_type": "code",
      "metadata": {
        "colab": {
          "base_uri": "https://localhost:8080/"
        },
        "id": "DFLLH-p2CTT_",
        "outputId": "281a8cdd-6662-4781-f182-0f4a854bd842"
      },
      "source": [
        "os.chdir(path/\"gdrive/MyDrive/Kaggle/\") # colab only code\n",
        "Path.cwd()"
      ],
      "id": "DFLLH-p2CTT_",
      "execution_count": 7,
      "outputs": [
        {
          "output_type": "execute_result",
          "data": {
            "text/plain": [
              "Path('/content/gdrive/MyDrive/Kaggle')"
            ]
          },
          "metadata": {
            "tags": []
          },
          "execution_count": 7
        }
      ]
    },
    {
      "cell_type": "code",
      "metadata": {
        "colab": {
          "base_uri": "https://localhost:8080/"
        },
        "id": "7e82921f-d0e6-43a9-b88a-75617e2247df",
        "outputId": "b20928ba-ba51-4a64-e89e-7a81bbdb2b68"
      },
      "source": [
        "path = Path.cwd()/\"homesite_competition_data\"\n",
        "path.mkdir(exist_ok=True)\n",
        "Path.BASE_PATH = path\n",
        "api.competition_download_cli('homesite-quote-conversion', path=path)\n",
        "file_extract(path/\"homesite-quote-conversion.zip\")\n",
        "file_extract(path/\"train.csv.zip\")\n",
        "file_extract(path/\"test.csv.zip\")\n",
        "path.ls()"
      ],
      "id": "7e82921f-d0e6-43a9-b88a-75617e2247df",
      "execution_count": 8,
      "outputs": [
        {
          "output_type": "stream",
          "text": [
            "homesite-quote-conversion.zip: Skipping, found more recently modified local copy (use --force to force download)\n"
          ],
          "name": "stdout"
        },
        {
          "output_type": "execute_result",
          "data": {
            "text/plain": [
              "(#6) [Path('homesite-quote-conversion.zip'),Path('sample_submission.csv.zip'),Path('test.csv.zip'),Path('train.csv.zip'),Path('train.csv'),Path('test.csv')]"
            ]
          },
          "metadata": {
            "tags": []
          },
          "execution_count": 8
        }
      ]
    },
    {
      "cell_type": "markdown",
      "metadata": {
        "id": "a38ab884-7034-438f-aa47-8c86889b44eb"
      },
      "source": [
        "Settings"
      ],
      "id": "a38ab884-7034-438f-aa47-8c86889b44eb"
    },
    {
      "cell_type": "code",
      "metadata": {
        "id": "4b9da21b-39d6-4e2e-ba2b-1b5c463e8481"
      },
      "source": [
        "test_size = 0.3\n",
        "y_block=CategoryBlock()\n",
        "# n_estimators = [50, 100, 150, 200]\n",
        "# max_depth = [2, 4, 6, 8]\n",
        "n_estimators_range = range(50,400,50)\n",
        "max_depth_range = range(1, 11, 2)\n",
        "random_seed =42\n",
        "n_splits = 10 # 10 folds\n",
        "scoring = \"roc_auc\""
      ],
      "id": "4b9da21b-39d6-4e2e-ba2b-1b5c463e8481",
      "execution_count": 9,
      "outputs": []
    },
    {
      "cell_type": "code",
      "metadata": {
        "id": "q-NxoxFyGCyi"
      },
      "source": [
        "from sklearn.metrics import roc_auc_score\n",
        "# valid_score = roc_auc_score(to_np(targs), to_np(preds[:,1]))\n",
        "# valid_score"
      ],
      "id": "q-NxoxFyGCyi",
      "execution_count": 10,
      "outputs": []
    },
    {
      "cell_type": "markdown",
      "metadata": {
        "id": "GaBL3Oe3-olm"
      },
      "source": [
        "## The [GridsearchCV](https://scikit-learn.org/stable/modules/generated/sklearn.model_selection.GridSearchCV.html) functions"
      ],
      "id": "GaBL3Oe3-olm"
    },
    {
      "cell_type": "markdown",
      "metadata": {
        "id": "b2660e8e-7c8e-4afe-a65f-6e8a770ccec0"
      },
      "source": [
        "Customising functions from [this page](https://machinelearningmastery.com/tune-number-size-decision-trees-xgboost-python/) to work with our dataset"
      ],
      "id": "b2660e8e-7c8e-4afe-a65f-6e8a770ccec0"
    },
    {
      "cell_type": "code",
      "metadata": {
        "id": "7587901a-c22d-4af0-832b-8aa86666bb2b"
      },
      "source": [
        "import xgboost as xgb\n",
        "import matplotlib\n",
        "from xgboost import XGBClassifier\n",
        "from sklearn.model_selection import StratifiedKFold\n",
        "from sklearn.model_selection import GridSearchCV\n",
        "from sklearn.preprocessing import LabelEncoder\n",
        "from matplotlib import pyplot"
      ],
      "id": "7587901a-c22d-4af0-832b-8aa86666bb2b",
      "execution_count": 11,
      "outputs": []
    },
    {
      "cell_type": "markdown",
      "metadata": {
        "id": "6466783e-1675-4f74-b6a3-0706f8f035c5"
      },
      "source": [
        "This function will tune the n_estimators only\n",
        "\n",
        "**Notes**\n",
        "- Used https://scikit-learn.org/stable/modules/model_evaluation.html#scoring to find correct `scoring` string\n",
        "- Reading more on [StratifiedKFold](https://scikit-learn.org/stable/modules/generated/sklearn.model_selection.StratifiedKFold.html) to understand if I used the `n_splits` correctly, I chose 10 based on [this article](https://machinelearningmastery.com/k-fold-cross-validation/)"
      ],
      "id": "6466783e-1675-4f74-b6a3-0706f8f035c5"
    },
    {
      "cell_type": "code",
      "metadata": {
        "id": "7ae48f62-7c80-497b-96e8-e6d59412d27d"
      },
      "source": [
        "# XGBoost, Tune n_estimators\n",
        "\n",
        "def xgboost_tune_estimators(X, y, n_estimators_range, n_splits, random_seed, scoring):\n",
        "    matplotlib.use('Agg')\n",
        "    label_encoded_y = LabelEncoder().fit_transform(y)\n",
        "    # grid search\n",
        "    model = XGBClassifier(tree_method='gpu_hist', gpu_id=0, verbosity=2)\n",
        "    param_grid = dict(n_estimators=n_estimators_range)\n",
        "    kfold = StratifiedKFold(n_splits=n_splits, shuffle=True, random_state=random_seed)\n",
        "    grid_search = GridSearchCV(model, param_grid, scoring=scoring, n_jobs=-1, cv=kfold, verbose=4)\n",
        "    grid_result = grid_search.fit(X, label_encoded_y)\n",
        "    # summarize results\n",
        "    print(\"Best: %f using %s\" % (grid_result.best_score_, grid_result.best_params_))\n",
        "    means = grid_result.cv_results_['mean_test_score']\n",
        "    stds = grid_result.cv_results_['std_test_score']\n",
        "    params = grid_result.cv_results_['params']\n",
        "    for mean, stdev, param in zip(means, stds, params):\n",
        "        print(\"%f (%f) with: %r\" % (mean, stdev, param))\n",
        "    # plot\n",
        "    pyplot.errorbar(n_estimators_range, means, yerr=stds)\n",
        "    pyplot.title(\"XGBoost n_estimators vs Log Loss\")\n",
        "    pyplot.xlabel('n_estimators')\n",
        "    pyplot.ylabel('Log Loss')\n",
        "    pyplot.savefig('n_estimators.png')"
      ],
      "id": "7ae48f62-7c80-497b-96e8-e6d59412d27d",
      "execution_count": 12,
      "outputs": []
    },
    {
      "cell_type": "markdown",
      "metadata": {
        "id": "2c6b6879-d795-4e27-a67d-a66d2c203d54"
      },
      "source": [
        "This function will tune the max_depth value only"
      ],
      "id": "2c6b6879-d795-4e27-a67d-a66d2c203d54"
    },
    {
      "cell_type": "code",
      "metadata": {
        "id": "212b7cec-9de5-4e9a-8a15-605331f31a70"
      },
      "source": [
        "# XGBoost, Tune max_depth\n",
        "def xgboost_tune_max_depth(X,y, max_depth_range, n_splits, random_seed, scoring):\n",
        "    matplotlib.use('Agg')\n",
        "    # encode string class values as integers\n",
        "    label_encoded_y = LabelEncoder().fit_transform(y)\n",
        "    # grid search\n",
        "    model = XGBClassifier(tree_method='gpu_hist', gpu_id=0, verbosity=2)\n",
        "    print(max_depth_range)\n",
        "    param_grid = dict(max_depth=max_depth_range)\n",
        "    kfold = StratifiedKFold(n_splits=n_splits, shuffle=True, random_state=random_seed)\n",
        "    grid_search = GridSearchCV(model, param_grid, scoring=scoring, n_jobs=-1, cv=kfold, verbose=4)\n",
        "    grid_result = grid_search.fit(X, label_encoded_y)\n",
        "    # summarize results\n",
        "    print(\"Best: %f using %s\" % (grid_result.best_score_, grid_result.best_params_))\n",
        "    means = grid_result.cv_results_['mean_test_score']\n",
        "    stds = grid_result.cv_results_['std_test_score']\n",
        "    params = grid_result.cv_results_['params']\n",
        "    for mean, stdev, param in zip(means, stds, params):\n",
        "        print(\"%f (%f) with: %r\" % (mean, stdev, param))\n",
        "    # plot\n",
        "    pyplot.errorbar(max_depth_range, means, yerr=stds)\n",
        "    pyplot.title(\"XGBoost max_depth vs Log Loss\")\n",
        "    pyplot.xlabel('max_depth')\n",
        "    pyplot.ylabel('Log Loss')\n",
        "    pyplot.savefig('max_depth.png')"
      ],
      "id": "212b7cec-9de5-4e9a-8a15-605331f31a70",
      "execution_count": 13,
      "outputs": []
    },
    {
      "cell_type": "markdown",
      "metadata": {
        "id": "efab18b3-2e32-4c8f-98bc-001adf80c6ab"
      },
      "source": [
        "This function will tune for both n_estimators and max_depth in combination (takes really long to run)"
      ],
      "id": "efab18b3-2e32-4c8f-98bc-001adf80c6ab"
    },
    {
      "cell_type": "code",
      "metadata": {
        "id": "e200d154-d4f2-4aa2-87f3-c03ca39f35aa"
      },
      "source": [
        "# XGBoost, Tune n_estimators and max_depth\n",
        "def xgboost_tune_n_estimators_and_max_depth(X, y, n_estimators_range, max_depth_range, n_splits, random_seed, scoring):\n",
        "    matplotlib.use('Agg')\n",
        "    # encode string class values as integers\n",
        "    label_encoded_y = LabelEncoder().fit_transform(y)\n",
        "    # grid search\n",
        "    model = XGBClassifier(tree_method='gpu_hist', gpu_id=0, verbosity=2)\n",
        "    print(max_depth_range)\n",
        "    param_grid = dict(max_depth=max_depth_range, n_estimators=n_estimators_range)\n",
        "    kfold = StratifiedKFold(n_splits=n_splits, shuffle=True, random_state=random_seed)\n",
        "    grid_search = GridSearchCV(model, param_grid, scoring=scoring, n_jobs=-1, cv=kfold, verbose=4)\n",
        "    grid_result = grid_search.fit(X, label_encoded_y)\n",
        "    # summarize results\n",
        "    print(\"Best: %f using %s\" % (grid_result.best_score_, grid_result.best_params_))\n",
        "    means = grid_result.cv_results_['mean_test_score']\n",
        "    stds = grid_result.cv_results_['std_test_score']\n",
        "    params = grid_result.cv_results_['params']\n",
        "    for mean, stdev, param in zip(means, stds, params):\n",
        "        print(\"%f (%f) with: %r\" % (mean, stdev, param))\n",
        "    # plot results\n",
        "    scores = np.array(means).reshape(len(max_depth_range), len(n_estimators_range))\n",
        "    for i, value in enumerate(max_depth_range):\n",
        "      pyplot.plot(n_estimators_range, scores[i], label='depth: ' + str(value))\n",
        "    pyplot.legend()\n",
        "    pyplot.xlabel('n_estimators')\n",
        "    pyplot.ylabel('Log Loss')\n",
        "    pyplot.savefig('n_estimators_vs_max_depth.png')"
      ],
      "id": "e200d154-d4f2-4aa2-87f3-c03ca39f35aa",
      "execution_count": 14,
      "outputs": []
    },
    {
      "cell_type": "markdown",
      "metadata": {
        "id": "2c1c9dd6-9a9d-4ace-a29e-2a42b79146fe"
      },
      "source": [
        "### My useful functions"
      ],
      "id": "2c1c9dd6-9a9d-4ace-a29e-2a42b79146fe"
    },
    {
      "cell_type": "code",
      "metadata": {
        "id": "4020a287-f9c6-4573-be77-216ffe5ae104"
      },
      "source": [
        "def reassign_to_categorical(field, df, y_names, continuous, categorical, triage):\n",
        "  if ((df[field].isna().sum()==0) and (field not in y_names)):\n",
        "    field_categories = df[field].unique()\n",
        "    df[field] = df[field].astype('category')\n",
        "    df[field].cat.set_categories(field_categories, inplace=True)\n",
        "    if field in continuous: continuous.remove(field)\n",
        "    if field not in categorical: categorical.append(field)\n",
        "  else:\n",
        "    if field in continuous: continuous.remove(field)\n",
        "    if field in categorical: categorical.remove(field)\n",
        "    triage.append(field)\n",
        "\n",
        "  return df, continuous, categorical, triage"
      ],
      "id": "4020a287-f9c6-4573-be77-216ffe5ae104",
      "execution_count": 15,
      "outputs": []
    },
    {
      "cell_type": "code",
      "metadata": {
        "id": "6cd5ea65-57a1-410e-879b-f8992b97529c"
      },
      "source": [
        "def categorize( df, y_names, cont_names, cat_names, triage, category_threshold):\n",
        "  for field in df.columns:\n",
        "    if ((len(df[field].unique()) <= category_threshold) and (type(df[field].dtype) != pd.core.dtypes.dtypes.CategoricalDtype)):\n",
        "      reassign_to_categorical(field, df, y_names, cont_names, cat_names, triage)\n",
        "  return df, cont_names, cat_names, triage"
      ],
      "id": "6cd5ea65-57a1-410e-879b-f8992b97529c",
      "execution_count": 16,
      "outputs": []
    },
    {
      "cell_type": "code",
      "metadata": {
        "id": "746861ca-eb5d-4697-9597-f423b724e62a"
      },
      "source": [
        "def homesite_prep(df_train, df_test, y_names):\n",
        "    df_train.QuoteConversion_Flag = df_train.QuoteConversion_Flag.astype(dtype='boolean')\n",
        "    df_train = df_train.set_index('QuoteNumber')\n",
        "    df_test = df_test.set_index('QuoteNumber')\n",
        "    df_train['Original_Quote_Date'] = pd.to_datetime(df_train['Original_Quote_Date'])\n",
        "    df_test['Original_Quote_Date'] = pd.to_datetime(df_test['Original_Quote_Date'])\n",
        "    df_train = add_datepart(df_train, 'Original_Quote_Date')\n",
        "    df_test = add_datepart(df_test, 'Original_Quote_Date')\n",
        "    cont_names, cat_names = cont_cat_split(df_train, dep_var=y_names)\n",
        "    triage = L()\n",
        "    df_train, cont_names, cat_names, triage = categorize(df_train, y_names, cont_names, cat_names, triage, 100)\n",
        "    return df_train, df_test, cont_names, cat_names, triage"
      ],
      "id": "746861ca-eb5d-4697-9597-f423b724e62a",
      "execution_count": 17,
      "outputs": []
    },
    {
      "cell_type": "code",
      "metadata": {
        "id": "f8bb0182-38db-4480-b157-4d3f65ac66a3"
      },
      "source": [
        "def find_y_columns(df_train, df_test):\n",
        "    y_columns = df_train.columns.difference(df_test.columns)\n",
        "    return y_columns"
      ],
      "id": "f8bb0182-38db-4480-b157-4d3f65ac66a3",
      "execution_count": 18,
      "outputs": []
    },
    {
      "cell_type": "markdown",
      "metadata": {
        "id": "ecc5c275-4893-4af5-ab13-6a28e3f2b93a"
      },
      "source": [
        "### Load the data"
      ],
      "id": "ecc5c275-4893-4af5-ab13-6a28e3f2b93a"
    },
    {
      "cell_type": "code",
      "metadata": {
        "colab": {
          "base_uri": "https://localhost:8080/",
          "height": 160
        },
        "id": "9d191131-6d37-43c3-ac1f-9d5ea4aa8a11",
        "outputId": "eeea08ee-4c23-44e3-a299-7c487932637f"
      },
      "source": [
        "df_train = pd.read_csv(path/\"train.csv\", low_memory=False)\n",
        "df_train.head(2)"
      ],
      "id": "9d191131-6d37-43c3-ac1f-9d5ea4aa8a11",
      "execution_count": 19,
      "outputs": [
        {
          "output_type": "execute_result",
          "data": {
            "text/html": [
              "<div>\n",
              "<style scoped>\n",
              "    .dataframe tbody tr th:only-of-type {\n",
              "        vertical-align: middle;\n",
              "    }\n",
              "\n",
              "    .dataframe tbody tr th {\n",
              "        vertical-align: top;\n",
              "    }\n",
              "\n",
              "    .dataframe thead th {\n",
              "        text-align: right;\n",
              "    }\n",
              "</style>\n",
              "<table border=\"1\" class=\"dataframe\">\n",
              "  <thead>\n",
              "    <tr style=\"text-align: right;\">\n",
              "      <th></th>\n",
              "      <th>QuoteNumber</th>\n",
              "      <th>Original_Quote_Date</th>\n",
              "      <th>QuoteConversion_Flag</th>\n",
              "      <th>Field6</th>\n",
              "      <th>Field7</th>\n",
              "      <th>Field8</th>\n",
              "      <th>Field9</th>\n",
              "      <th>Field10</th>\n",
              "      <th>Field11</th>\n",
              "      <th>Field12</th>\n",
              "      <th>CoverageField1A</th>\n",
              "      <th>CoverageField1B</th>\n",
              "      <th>CoverageField2A</th>\n",
              "      <th>CoverageField2B</th>\n",
              "      <th>CoverageField3A</th>\n",
              "      <th>CoverageField3B</th>\n",
              "      <th>CoverageField4A</th>\n",
              "      <th>CoverageField4B</th>\n",
              "      <th>CoverageField5A</th>\n",
              "      <th>CoverageField5B</th>\n",
              "      <th>CoverageField6A</th>\n",
              "      <th>CoverageField6B</th>\n",
              "      <th>CoverageField8</th>\n",
              "      <th>CoverageField9</th>\n",
              "      <th>CoverageField11A</th>\n",
              "      <th>CoverageField11B</th>\n",
              "      <th>SalesField1A</th>\n",
              "      <th>SalesField1B</th>\n",
              "      <th>SalesField2A</th>\n",
              "      <th>SalesField2B</th>\n",
              "      <th>SalesField3</th>\n",
              "      <th>SalesField4</th>\n",
              "      <th>SalesField5</th>\n",
              "      <th>SalesField6</th>\n",
              "      <th>SalesField7</th>\n",
              "      <th>SalesField8</th>\n",
              "      <th>SalesField9</th>\n",
              "      <th>SalesField10</th>\n",
              "      <th>SalesField11</th>\n",
              "      <th>SalesField12</th>\n",
              "      <th>...</th>\n",
              "      <th>GeographicField44A</th>\n",
              "      <th>GeographicField44B</th>\n",
              "      <th>GeographicField45A</th>\n",
              "      <th>GeographicField45B</th>\n",
              "      <th>GeographicField46A</th>\n",
              "      <th>GeographicField46B</th>\n",
              "      <th>GeographicField47A</th>\n",
              "      <th>GeographicField47B</th>\n",
              "      <th>GeographicField48A</th>\n",
              "      <th>GeographicField48B</th>\n",
              "      <th>GeographicField49A</th>\n",
              "      <th>GeographicField49B</th>\n",
              "      <th>GeographicField50A</th>\n",
              "      <th>GeographicField50B</th>\n",
              "      <th>GeographicField51A</th>\n",
              "      <th>GeographicField51B</th>\n",
              "      <th>GeographicField52A</th>\n",
              "      <th>GeographicField52B</th>\n",
              "      <th>GeographicField53A</th>\n",
              "      <th>GeographicField53B</th>\n",
              "      <th>GeographicField54A</th>\n",
              "      <th>GeographicField54B</th>\n",
              "      <th>GeographicField55A</th>\n",
              "      <th>GeographicField55B</th>\n",
              "      <th>GeographicField56A</th>\n",
              "      <th>GeographicField56B</th>\n",
              "      <th>GeographicField57A</th>\n",
              "      <th>GeographicField57B</th>\n",
              "      <th>GeographicField58A</th>\n",
              "      <th>GeographicField58B</th>\n",
              "      <th>GeographicField59A</th>\n",
              "      <th>GeographicField59B</th>\n",
              "      <th>GeographicField60A</th>\n",
              "      <th>GeographicField60B</th>\n",
              "      <th>GeographicField61A</th>\n",
              "      <th>GeographicField61B</th>\n",
              "      <th>GeographicField62A</th>\n",
              "      <th>GeographicField62B</th>\n",
              "      <th>GeographicField63</th>\n",
              "      <th>GeographicField64</th>\n",
              "    </tr>\n",
              "  </thead>\n",
              "  <tbody>\n",
              "    <tr>\n",
              "      <th>0</th>\n",
              "      <td>1</td>\n",
              "      <td>2013-08-16</td>\n",
              "      <td>0</td>\n",
              "      <td>B</td>\n",
              "      <td>23</td>\n",
              "      <td>0.9403</td>\n",
              "      <td>0.0006</td>\n",
              "      <td>965</td>\n",
              "      <td>1.0200</td>\n",
              "      <td>N</td>\n",
              "      <td>17</td>\n",
              "      <td>23</td>\n",
              "      <td>17</td>\n",
              "      <td>23</td>\n",
              "      <td>15</td>\n",
              "      <td>22</td>\n",
              "      <td>16</td>\n",
              "      <td>22</td>\n",
              "      <td>13</td>\n",
              "      <td>22</td>\n",
              "      <td>13</td>\n",
              "      <td>23</td>\n",
              "      <td>T</td>\n",
              "      <td>D</td>\n",
              "      <td>2</td>\n",
              "      <td>1</td>\n",
              "      <td>7</td>\n",
              "      <td>18</td>\n",
              "      <td>3</td>\n",
              "      <td>8</td>\n",
              "      <td>0</td>\n",
              "      <td>5</td>\n",
              "      <td>5</td>\n",
              "      <td>24</td>\n",
              "      <td>V</td>\n",
              "      <td>48649</td>\n",
              "      <td>0</td>\n",
              "      <td>0</td>\n",
              "      <td>0</td>\n",
              "      <td>0</td>\n",
              "      <td>...</td>\n",
              "      <td>8</td>\n",
              "      <td>4</td>\n",
              "      <td>20</td>\n",
              "      <td>22</td>\n",
              "      <td>10</td>\n",
              "      <td>8</td>\n",
              "      <td>6</td>\n",
              "      <td>5</td>\n",
              "      <td>15</td>\n",
              "      <td>13</td>\n",
              "      <td>19</td>\n",
              "      <td>18</td>\n",
              "      <td>16</td>\n",
              "      <td>14</td>\n",
              "      <td>21</td>\n",
              "      <td>23</td>\n",
              "      <td>21</td>\n",
              "      <td>23</td>\n",
              "      <td>16</td>\n",
              "      <td>11</td>\n",
              "      <td>22</td>\n",
              "      <td>24</td>\n",
              "      <td>7</td>\n",
              "      <td>14</td>\n",
              "      <td>-1</td>\n",
              "      <td>17</td>\n",
              "      <td>15</td>\n",
              "      <td>17</td>\n",
              "      <td>14</td>\n",
              "      <td>18</td>\n",
              "      <td>9</td>\n",
              "      <td>9</td>\n",
              "      <td>-1</td>\n",
              "      <td>8</td>\n",
              "      <td>-1</td>\n",
              "      <td>18</td>\n",
              "      <td>-1</td>\n",
              "      <td>10</td>\n",
              "      <td>N</td>\n",
              "      <td>CA</td>\n",
              "    </tr>\n",
              "    <tr>\n",
              "      <th>1</th>\n",
              "      <td>2</td>\n",
              "      <td>2014-04-22</td>\n",
              "      <td>0</td>\n",
              "      <td>F</td>\n",
              "      <td>7</td>\n",
              "      <td>1.0006</td>\n",
              "      <td>0.0040</td>\n",
              "      <td>548</td>\n",
              "      <td>1.2433</td>\n",
              "      <td>N</td>\n",
              "      <td>6</td>\n",
              "      <td>8</td>\n",
              "      <td>6</td>\n",
              "      <td>8</td>\n",
              "      <td>5</td>\n",
              "      <td>7</td>\n",
              "      <td>5</td>\n",
              "      <td>8</td>\n",
              "      <td>13</td>\n",
              "      <td>22</td>\n",
              "      <td>13</td>\n",
              "      <td>23</td>\n",
              "      <td>T</td>\n",
              "      <td>E</td>\n",
              "      <td>5</td>\n",
              "      <td>9</td>\n",
              "      <td>5</td>\n",
              "      <td>14</td>\n",
              "      <td>6</td>\n",
              "      <td>18</td>\n",
              "      <td>1</td>\n",
              "      <td>5</td>\n",
              "      <td>5</td>\n",
              "      <td>11</td>\n",
              "      <td>P</td>\n",
              "      <td>26778</td>\n",
              "      <td>0</td>\n",
              "      <td>0</td>\n",
              "      <td>1</td>\n",
              "      <td>1</td>\n",
              "      <td>...</td>\n",
              "      <td>23</td>\n",
              "      <td>24</td>\n",
              "      <td>11</td>\n",
              "      <td>15</td>\n",
              "      <td>21</td>\n",
              "      <td>24</td>\n",
              "      <td>6</td>\n",
              "      <td>11</td>\n",
              "      <td>21</td>\n",
              "      <td>21</td>\n",
              "      <td>18</td>\n",
              "      <td>15</td>\n",
              "      <td>20</td>\n",
              "      <td>20</td>\n",
              "      <td>13</td>\n",
              "      <td>12</td>\n",
              "      <td>12</td>\n",
              "      <td>12</td>\n",
              "      <td>15</td>\n",
              "      <td>9</td>\n",
              "      <td>13</td>\n",
              "      <td>11</td>\n",
              "      <td>11</td>\n",
              "      <td>20</td>\n",
              "      <td>-1</td>\n",
              "      <td>9</td>\n",
              "      <td>18</td>\n",
              "      <td>21</td>\n",
              "      <td>8</td>\n",
              "      <td>7</td>\n",
              "      <td>10</td>\n",
              "      <td>10</td>\n",
              "      <td>-1</td>\n",
              "      <td>11</td>\n",
              "      <td>-1</td>\n",
              "      <td>17</td>\n",
              "      <td>-1</td>\n",
              "      <td>20</td>\n",
              "      <td>N</td>\n",
              "      <td>NJ</td>\n",
              "    </tr>\n",
              "  </tbody>\n",
              "</table>\n",
              "<p>2 rows × 299 columns</p>\n",
              "</div>"
            ],
            "text/plain": [
              "   QuoteNumber Original_Quote_Date  ...  GeographicField63 GeographicField64\n",
              "0            1          2013-08-16  ...                  N                CA\n",
              "1            2          2014-04-22  ...                  N                NJ\n",
              "\n",
              "[2 rows x 299 columns]"
            ]
          },
          "metadata": {
            "tags": []
          },
          "execution_count": 19
        }
      ]
    },
    {
      "cell_type": "code",
      "metadata": {
        "colab": {
          "base_uri": "https://localhost:8080/",
          "height": 160
        },
        "id": "e48f9c29-0470-4f7f-813a-be785e067951",
        "outputId": "1a9c75df-775a-4170-be21-afe55cf5087d"
      },
      "source": [
        "df_test = pd.read_csv(path/\"test.csv\", low_memory=False)\n",
        "df_test.head(2)"
      ],
      "id": "e48f9c29-0470-4f7f-813a-be785e067951",
      "execution_count": 20,
      "outputs": [
        {
          "output_type": "execute_result",
          "data": {
            "text/html": [
              "<div>\n",
              "<style scoped>\n",
              "    .dataframe tbody tr th:only-of-type {\n",
              "        vertical-align: middle;\n",
              "    }\n",
              "\n",
              "    .dataframe tbody tr th {\n",
              "        vertical-align: top;\n",
              "    }\n",
              "\n",
              "    .dataframe thead th {\n",
              "        text-align: right;\n",
              "    }\n",
              "</style>\n",
              "<table border=\"1\" class=\"dataframe\">\n",
              "  <thead>\n",
              "    <tr style=\"text-align: right;\">\n",
              "      <th></th>\n",
              "      <th>QuoteNumber</th>\n",
              "      <th>Original_Quote_Date</th>\n",
              "      <th>Field6</th>\n",
              "      <th>Field7</th>\n",
              "      <th>Field8</th>\n",
              "      <th>Field9</th>\n",
              "      <th>Field10</th>\n",
              "      <th>Field11</th>\n",
              "      <th>Field12</th>\n",
              "      <th>CoverageField1A</th>\n",
              "      <th>CoverageField1B</th>\n",
              "      <th>CoverageField2A</th>\n",
              "      <th>CoverageField2B</th>\n",
              "      <th>CoverageField3A</th>\n",
              "      <th>CoverageField3B</th>\n",
              "      <th>CoverageField4A</th>\n",
              "      <th>CoverageField4B</th>\n",
              "      <th>CoverageField5A</th>\n",
              "      <th>CoverageField5B</th>\n",
              "      <th>CoverageField6A</th>\n",
              "      <th>CoverageField6B</th>\n",
              "      <th>CoverageField8</th>\n",
              "      <th>CoverageField9</th>\n",
              "      <th>CoverageField11A</th>\n",
              "      <th>CoverageField11B</th>\n",
              "      <th>SalesField1A</th>\n",
              "      <th>SalesField1B</th>\n",
              "      <th>SalesField2A</th>\n",
              "      <th>SalesField2B</th>\n",
              "      <th>SalesField3</th>\n",
              "      <th>SalesField4</th>\n",
              "      <th>SalesField5</th>\n",
              "      <th>SalesField6</th>\n",
              "      <th>SalesField7</th>\n",
              "      <th>SalesField8</th>\n",
              "      <th>SalesField9</th>\n",
              "      <th>SalesField10</th>\n",
              "      <th>SalesField11</th>\n",
              "      <th>SalesField12</th>\n",
              "      <th>SalesField13</th>\n",
              "      <th>...</th>\n",
              "      <th>GeographicField44A</th>\n",
              "      <th>GeographicField44B</th>\n",
              "      <th>GeographicField45A</th>\n",
              "      <th>GeographicField45B</th>\n",
              "      <th>GeographicField46A</th>\n",
              "      <th>GeographicField46B</th>\n",
              "      <th>GeographicField47A</th>\n",
              "      <th>GeographicField47B</th>\n",
              "      <th>GeographicField48A</th>\n",
              "      <th>GeographicField48B</th>\n",
              "      <th>GeographicField49A</th>\n",
              "      <th>GeographicField49B</th>\n",
              "      <th>GeographicField50A</th>\n",
              "      <th>GeographicField50B</th>\n",
              "      <th>GeographicField51A</th>\n",
              "      <th>GeographicField51B</th>\n",
              "      <th>GeographicField52A</th>\n",
              "      <th>GeographicField52B</th>\n",
              "      <th>GeographicField53A</th>\n",
              "      <th>GeographicField53B</th>\n",
              "      <th>GeographicField54A</th>\n",
              "      <th>GeographicField54B</th>\n",
              "      <th>GeographicField55A</th>\n",
              "      <th>GeographicField55B</th>\n",
              "      <th>GeographicField56A</th>\n",
              "      <th>GeographicField56B</th>\n",
              "      <th>GeographicField57A</th>\n",
              "      <th>GeographicField57B</th>\n",
              "      <th>GeographicField58A</th>\n",
              "      <th>GeographicField58B</th>\n",
              "      <th>GeographicField59A</th>\n",
              "      <th>GeographicField59B</th>\n",
              "      <th>GeographicField60A</th>\n",
              "      <th>GeographicField60B</th>\n",
              "      <th>GeographicField61A</th>\n",
              "      <th>GeographicField61B</th>\n",
              "      <th>GeographicField62A</th>\n",
              "      <th>GeographicField62B</th>\n",
              "      <th>GeographicField63</th>\n",
              "      <th>GeographicField64</th>\n",
              "    </tr>\n",
              "  </thead>\n",
              "  <tbody>\n",
              "    <tr>\n",
              "      <th>0</th>\n",
              "      <td>3</td>\n",
              "      <td>2014-08-12</td>\n",
              "      <td>E</td>\n",
              "      <td>16</td>\n",
              "      <td>0.9364</td>\n",
              "      <td>0.0006</td>\n",
              "      <td>1,487</td>\n",
              "      <td>1.3045</td>\n",
              "      <td>N</td>\n",
              "      <td>4</td>\n",
              "      <td>4</td>\n",
              "      <td>4</td>\n",
              "      <td>4</td>\n",
              "      <td>3</td>\n",
              "      <td>3</td>\n",
              "      <td>3</td>\n",
              "      <td>4</td>\n",
              "      <td>13</td>\n",
              "      <td>22</td>\n",
              "      <td>13</td>\n",
              "      <td>23</td>\n",
              "      <td>Y</td>\n",
              "      <td>K</td>\n",
              "      <td>13</td>\n",
              "      <td>22</td>\n",
              "      <td>6</td>\n",
              "      <td>16</td>\n",
              "      <td>9</td>\n",
              "      <td>21</td>\n",
              "      <td>0</td>\n",
              "      <td>5</td>\n",
              "      <td>5</td>\n",
              "      <td>11</td>\n",
              "      <td>P</td>\n",
              "      <td>67052</td>\n",
              "      <td>0</td>\n",
              "      <td>0</td>\n",
              "      <td>0</td>\n",
              "      <td>0</td>\n",
              "      <td>0</td>\n",
              "      <td>...</td>\n",
              "      <td>22</td>\n",
              "      <td>23</td>\n",
              "      <td>9</td>\n",
              "      <td>12</td>\n",
              "      <td>25</td>\n",
              "      <td>25</td>\n",
              "      <td>6</td>\n",
              "      <td>9</td>\n",
              "      <td>4</td>\n",
              "      <td>2</td>\n",
              "      <td>16</td>\n",
              "      <td>12</td>\n",
              "      <td>20</td>\n",
              "      <td>20</td>\n",
              "      <td>2</td>\n",
              "      <td>2</td>\n",
              "      <td>2</td>\n",
              "      <td>1</td>\n",
              "      <td>1</td>\n",
              "      <td>1</td>\n",
              "      <td>10</td>\n",
              "      <td>7</td>\n",
              "      <td>25</td>\n",
              "      <td>25</td>\n",
              "      <td>-1</td>\n",
              "      <td>19</td>\n",
              "      <td>19</td>\n",
              "      <td>22</td>\n",
              "      <td>12</td>\n",
              "      <td>15</td>\n",
              "      <td>1</td>\n",
              "      <td>1</td>\n",
              "      <td>-1</td>\n",
              "      <td>1</td>\n",
              "      <td>-1</td>\n",
              "      <td>20</td>\n",
              "      <td>-1</td>\n",
              "      <td>25</td>\n",
              "      <td>Y</td>\n",
              "      <td>IL</td>\n",
              "    </tr>\n",
              "    <tr>\n",
              "      <th>1</th>\n",
              "      <td>5</td>\n",
              "      <td>2013-09-07</td>\n",
              "      <td>F</td>\n",
              "      <td>11</td>\n",
              "      <td>0.9919</td>\n",
              "      <td>0.0038</td>\n",
              "      <td>564</td>\n",
              "      <td>1.1886</td>\n",
              "      <td>N</td>\n",
              "      <td>8</td>\n",
              "      <td>14</td>\n",
              "      <td>8</td>\n",
              "      <td>14</td>\n",
              "      <td>7</td>\n",
              "      <td>12</td>\n",
              "      <td>8</td>\n",
              "      <td>13</td>\n",
              "      <td>13</td>\n",
              "      <td>22</td>\n",
              "      <td>13</td>\n",
              "      <td>23</td>\n",
              "      <td>T</td>\n",
              "      <td>E</td>\n",
              "      <td>4</td>\n",
              "      <td>5</td>\n",
              "      <td>3</td>\n",
              "      <td>6</td>\n",
              "      <td>3</td>\n",
              "      <td>6</td>\n",
              "      <td>1</td>\n",
              "      <td>5</td>\n",
              "      <td>5</td>\n",
              "      <td>4</td>\n",
              "      <td>R</td>\n",
              "      <td>27288</td>\n",
              "      <td>1</td>\n",
              "      <td>0</td>\n",
              "      <td>0</td>\n",
              "      <td>0</td>\n",
              "      <td>0</td>\n",
              "      <td>...</td>\n",
              "      <td>23</td>\n",
              "      <td>24</td>\n",
              "      <td>12</td>\n",
              "      <td>21</td>\n",
              "      <td>23</td>\n",
              "      <td>25</td>\n",
              "      <td>7</td>\n",
              "      <td>11</td>\n",
              "      <td>16</td>\n",
              "      <td>14</td>\n",
              "      <td>13</td>\n",
              "      <td>6</td>\n",
              "      <td>17</td>\n",
              "      <td>15</td>\n",
              "      <td>7</td>\n",
              "      <td>5</td>\n",
              "      <td>7</td>\n",
              "      <td>5</td>\n",
              "      <td>13</td>\n",
              "      <td>7</td>\n",
              "      <td>14</td>\n",
              "      <td>14</td>\n",
              "      <td>7</td>\n",
              "      <td>14</td>\n",
              "      <td>-1</td>\n",
              "      <td>4</td>\n",
              "      <td>1</td>\n",
              "      <td>1</td>\n",
              "      <td>5</td>\n",
              "      <td>3</td>\n",
              "      <td>10</td>\n",
              "      <td>10</td>\n",
              "      <td>-1</td>\n",
              "      <td>5</td>\n",
              "      <td>-1</td>\n",
              "      <td>5</td>\n",
              "      <td>-1</td>\n",
              "      <td>21</td>\n",
              "      <td>N</td>\n",
              "      <td>NJ</td>\n",
              "    </tr>\n",
              "  </tbody>\n",
              "</table>\n",
              "<p>2 rows × 298 columns</p>\n",
              "</div>"
            ],
            "text/plain": [
              "   QuoteNumber Original_Quote_Date  ... GeographicField63  GeographicField64\n",
              "0            3          2014-08-12  ...                 Y                 IL\n",
              "1            5          2013-09-07  ...                 N                 NJ\n",
              "\n",
              "[2 rows x 298 columns]"
            ]
          },
          "metadata": {
            "tags": []
          },
          "execution_count": 20
        }
      ]
    },
    {
      "cell_type": "code",
      "metadata": {
        "id": "0a27a0d3-4c25-4374-9239-4adfc9d5a453"
      },
      "source": [
        "y_names = find_y_columns(df_train, df_test)[0]\n",
        "df_train, df_test, cont_names, cat_names, triage = homesite_prep(df_train, df_test, y_names)"
      ],
      "id": "0a27a0d3-4c25-4374-9239-4adfc9d5a453",
      "execution_count": 21,
      "outputs": []
    },
    {
      "cell_type": "code",
      "metadata": {
        "id": "be328797-a1af-4136-aecc-7006e443328e"
      },
      "source": [
        "procs = [Categorify, FillMissing, Normalize]\n",
        "splits = TrainTestSplitter(test_size=test_size, stratify=df_train[y_names])(df_train)"
      ],
      "id": "be328797-a1af-4136-aecc-7006e443328e",
      "execution_count": 22,
      "outputs": []
    },
    {
      "cell_type": "code",
      "metadata": {
        "id": "ad7a983a-ca4f-4e5f-9adc-037c3abc96f0"
      },
      "source": [
        "to = TabularPandas(df=df_train, procs=procs, cat_names=cat_names, \n",
        "                   cont_names=cont_names, y_names=y_names,splits=splits,\n",
        "                  y_block=y_block)"
      ],
      "id": "ad7a983a-ca4f-4e5f-9adc-037c3abc96f0",
      "execution_count": 23,
      "outputs": []
    },
    {
      "cell_type": "code",
      "metadata": {
        "colab": {
          "base_uri": "https://localhost:8080/"
        },
        "id": "5368e3ad-8652-4d8a-b5d1-4eae6c97ce08",
        "outputId": "a0e70003-b13f-4026-bee8-85747f799991"
      },
      "source": [
        "%%timeit\n",
        "xgboost_tune_estimators(to.xs, to.ys.values.ravel(), n_estimators_range, n_splits, random_seed, scoring)"
      ],
      "id": "5368e3ad-8652-4d8a-b5d1-4eae6c97ce08",
      "execution_count": 24,
      "outputs": [
        {
          "output_type": "stream",
          "text": [
            "Fitting 10 folds for each of 7 candidates, totalling 70 fits\n"
          ],
          "name": "stdout"
        },
        {
          "output_type": "stream",
          "text": [
            "[Parallel(n_jobs=-1)]: Using backend LokyBackend with 2 concurrent workers.\n",
            "[Parallel(n_jobs=-1)]: Done  21 tasks      | elapsed:  1.0min\n",
            "[Parallel(n_jobs=-1)]: Done  70 out of  70 | elapsed:  5.2min finished\n"
          ],
          "name": "stderr"
        },
        {
          "output_type": "stream",
          "text": [
            "Best: 0.962075 using {'n_estimators': 350}\n",
            "0.949272 (0.000827) with: {'n_estimators': 50}\n",
            "0.956429 (0.000913) with: {'n_estimators': 100}\n",
            "0.958695 (0.000955) with: {'n_estimators': 150}\n",
            "0.960027 (0.000919) with: {'n_estimators': 200}\n",
            "0.960983 (0.000810) with: {'n_estimators': 250}\n",
            "0.961640 (0.000799) with: {'n_estimators': 300}\n",
            "0.962075 (0.000810) with: {'n_estimators': 350}\n"
          ],
          "name": "stdout"
        }
      ]
    },
    {
      "cell_type": "code",
      "metadata": {
        "id": "hDs8PaVLQMQ1",
        "colab": {
          "base_uri": "https://localhost:8080/"
        },
        "outputId": "863da489-7bfc-4acb-fc89-b64ce88badcf"
      },
      "source": [
        "%%timeit\n",
        "xgboost_tune_max_depth(to.xs,to.ys.values.ravel(), max_depth_range, n_splits, random_seed, scoring)"
      ],
      "id": "hDs8PaVLQMQ1",
      "execution_count": 25,
      "outputs": [
        {
          "output_type": "stream",
          "text": [
            "CPU times: user 3 µs, sys: 1 µs, total: 4 µs\n",
            "Wall time: 6.68 µs\n",
            "range(1, 11, 2)\n",
            "Fitting 10 folds for each of 5 candidates, totalling 50 fits\n"
          ],
          "name": "stdout"
        },
        {
          "output_type": "stream",
          "text": [
            "[Parallel(n_jobs=-1)]: Using backend LokyBackend with 2 concurrent workers.\n",
            "[Parallel(n_jobs=-1)]: Done  21 tasks      | elapsed:   57.4s\n",
            "[Parallel(n_jobs=-1)]: Done  50 out of  50 | elapsed:  3.1min finished\n"
          ],
          "name": "stderr"
        },
        {
          "output_type": "stream",
          "text": [
            "Best: 0.962843 using {'max_depth': 9}\n",
            "0.921006 (0.001579) with: {'max_depth': 1}\n",
            "0.956429 (0.000913) with: {'max_depth': 3}\n",
            "0.960726 (0.000844) with: {'max_depth': 5}\n",
            "0.962370 (0.000775) with: {'max_depth': 7}\n",
            "0.962843 (0.000782) with: {'max_depth': 9}\n"
          ],
          "name": "stdout"
        }
      ]
    },
    {
      "cell_type": "code",
      "metadata": {
        "id": "171e1d9f-70a3-45e5-9a9b-05bb6ae1e5d7",
        "colab": {
          "base_uri": "https://localhost:8080/"
        },
        "outputId": "e2477736-0c17-40b5-e093-df5316d2c9d1"
      },
      "source": [
        "%%timeit\n",
        "xgboost_tune_n_estimators_and_max_depth(to.xs, to.ys.values.ravel(), n_estimators_range, max_depth_range, n_splits, random_seed, scoring)"
      ],
      "id": "171e1d9f-70a3-45e5-9a9b-05bb6ae1e5d7",
      "execution_count": 26,
      "outputs": [
        {
          "output_type": "stream",
          "text": [
            "range(1, 11, 2)\n",
            "Fitting 10 folds for each of 35 candidates, totalling 350 fits\n"
          ],
          "name": "stdout"
        },
        {
          "output_type": "stream",
          "text": [
            "[Parallel(n_jobs=-1)]: Using backend LokyBackend with 2 concurrent workers.\n",
            "[Parallel(n_jobs=-1)]: Done  21 tasks      | elapsed:   51.2s\n",
            "[Parallel(n_jobs=-1)]: Done  94 tasks      | elapsed:  4.8min\n",
            "[Parallel(n_jobs=-1)]: Done 217 tasks      | elapsed: 15.2min\n",
            "[Parallel(n_jobs=-1)]: Done 350 out of 350 | elapsed: 40.4min finished\n"
          ],
          "name": "stderr"
        },
        {
          "output_type": "stream",
          "text": [
            "Best: 0.963909 using {'max_depth': 5, 'n_estimators': 350}\n",
            "0.891124 (0.002553) with: {'max_depth': 1, 'n_estimators': 50}\n",
            "0.921006 (0.001579) with: {'max_depth': 1, 'n_estimators': 100}\n",
            "0.932049 (0.000957) with: {'max_depth': 1, 'n_estimators': 150}\n",
            "0.937615 (0.000854) with: {'max_depth': 1, 'n_estimators': 200}\n",
            "0.940647 (0.000889) with: {'max_depth': 1, 'n_estimators': 250}\n",
            "0.943563 (0.000848) with: {'max_depth': 1, 'n_estimators': 300}\n",
            "0.945651 (0.000866) with: {'max_depth': 1, 'n_estimators': 350}\n",
            "0.949272 (0.000827) with: {'max_depth': 3, 'n_estimators': 50}\n",
            "0.956429 (0.000913) with: {'max_depth': 3, 'n_estimators': 100}\n",
            "0.958695 (0.000955) with: {'max_depth': 3, 'n_estimators': 150}\n",
            "0.960027 (0.000919) with: {'max_depth': 3, 'n_estimators': 200}\n",
            "0.960983 (0.000810) with: {'max_depth': 3, 'n_estimators': 250}\n",
            "0.961640 (0.000799) with: {'max_depth': 3, 'n_estimators': 300}\n",
            "0.962075 (0.000810) with: {'max_depth': 3, 'n_estimators': 350}\n",
            "0.956793 (0.000763) with: {'max_depth': 5, 'n_estimators': 50}\n",
            "0.960726 (0.000844) with: {'max_depth': 5, 'n_estimators': 100}\n",
            "0.962289 (0.000895) with: {'max_depth': 5, 'n_estimators': 150}\n",
            "0.963040 (0.000850) with: {'max_depth': 5, 'n_estimators': 200}\n",
            "0.963472 (0.000822) with: {'max_depth': 5, 'n_estimators': 250}\n",
            "0.963734 (0.000790) with: {'max_depth': 5, 'n_estimators': 300}\n",
            "0.963909 (0.000766) with: {'max_depth': 5, 'n_estimators': 350}\n",
            "0.959571 (0.000804) with: {'max_depth': 7, 'n_estimators': 50}\n",
            "0.962370 (0.000775) with: {'max_depth': 7, 'n_estimators': 100}\n",
            "0.963243 (0.000743) with: {'max_depth': 7, 'n_estimators': 150}\n",
            "0.963504 (0.000739) with: {'max_depth': 7, 'n_estimators': 200}\n",
            "0.963579 (0.000780) with: {'max_depth': 7, 'n_estimators': 250}\n",
            "0.963567 (0.000786) with: {'max_depth': 7, 'n_estimators': 300}\n",
            "0.963535 (0.000786) with: {'max_depth': 7, 'n_estimators': 350}\n",
            "0.961271 (0.000883) with: {'max_depth': 9, 'n_estimators': 50}\n",
            "0.962843 (0.000782) with: {'max_depth': 9, 'n_estimators': 100}\n",
            "0.963098 (0.000730) with: {'max_depth': 9, 'n_estimators': 150}\n",
            "0.963036 (0.000696) with: {'max_depth': 9, 'n_estimators': 200}\n",
            "0.962904 (0.000593) with: {'max_depth': 9, 'n_estimators': 250}\n",
            "0.962701 (0.000602) with: {'max_depth': 9, 'n_estimators': 300}\n",
            "0.962519 (0.000599) with: {'max_depth': 9, 'n_estimators': 350}\n"
          ],
          "name": "stdout"
        }
      ]
    },
    {
      "cell_type": "markdown",
      "metadata": {
        "id": "IuK1SHMF50-n"
      },
      "source": [
        "As we can see the most optimal parameters using XGBoost would be to do `n_estimators=350` with `max_depth=5`. Let's run both and compare results side by side"
      ],
      "id": "IuK1SHMF50-n"
    },
    {
      "cell_type": "code",
      "metadata": {
        "id": "zXKvBXU76EUO"
      },
      "source": [
        "n_estimators_original = 100\n",
        "max_depth_original = 8\n",
        "n_estimators_recommended = 350\n",
        "max_depth_recommended = 5\n",
        "learning_rate = 0.1\n",
        "subsample = 0.5"
      ],
      "id": "zXKvBXU76EUO",
      "execution_count": 28,
      "outputs": []
    },
    {
      "cell_type": "code",
      "metadata": {
        "id": "f2xie4-X6bQz"
      },
      "source": [
        "X_train, y_train = to.train.xs, to.train.ys.values.ravel()\n",
        "X_valid, y_valid = to.valid.xs, to.valid.ys.values.ravel()"
      ],
      "id": "f2xie4-X6bQz",
      "execution_count": 29,
      "outputs": []
    },
    {
      "cell_type": "code",
      "metadata": {
        "id": "1RxgCDVi6nXF"
      },
      "source": [
        "model_original = xgb.XGBClassifier(n_estimators = n_estimators_original, max_depth=max_depth_original, learning_rate=learning_rate, subsample=subsample, \n",
        "                                   tree_method='gpu_hist', gpu_id=0, verbosity=2)\n",
        "xgb_model_original = model_original.fit(X_train, y_train)\n",
        "xgb_preds_original = xgb_model_original.predict_proba(X_valid)\n",
        "\n"
      ],
      "id": "1RxgCDVi6nXF",
      "execution_count": 40,
      "outputs": []
    },
    {
      "cell_type": "code",
      "metadata": {
        "id": "dGoo4lQa7i-d"
      },
      "source": [
        "model_recommended = xgb.XGBClassifier(n_estimators = n_estimators_recommended, max_depth=max_depth_recommended, learning_rate=learning_rate, subsample=subsample,\n",
        "                                      tree_method='gpu_hist', gpu_id=0, verbosity=2)\n",
        "xgb_model_recommended = model_recommended.fit(X_train, y_train)\n",
        "xgb_preds_recommended = xgb_model_recommended.predict_proba(X_valid)"
      ],
      "id": "dGoo4lQa7i-d",
      "execution_count": 43,
      "outputs": []
    },
    {
      "cell_type": "code",
      "metadata": {
        "colab": {
          "base_uri": "https://localhost:8080/"
        },
        "id": "tWdLGC0t7PfP",
        "outputId": "99716f88-dfaf-4351-8b78-24bfa34afb40"
      },
      "source": [
        "accuracy(tensor(xgb_preds_original), tensor(y_valid)), accuracy(tensor(xgb_preds_recommended), tensor(y_valid))"
      ],
      "id": "tWdLGC0t7PfP",
      "execution_count": 45,
      "outputs": [
        {
          "output_type": "execute_result",
          "data": {
            "text/plain": [
              "(TensorBase(0.9243), TensorBase(0.9244))"
            ]
          },
          "metadata": {
            "tags": []
          },
          "execution_count": 45
        }
      ]
    },
    {
      "cell_type": "markdown",
      "metadata": {
        "id": "E6A9ISXW-M_Q"
      },
      "source": [
        "So as we can see, we get a slightly better performance when we tune the `n_estimators` and `max_depth` values based on the recommendation"
      ],
      "id": "E6A9ISXW-M_Q"
    },
    {
      "cell_type": "code",
      "metadata": {
        "id": "d8tV3D34-GCT"
      },
      "source": [
        ""
      ],
      "id": "d8tV3D34-GCT",
      "execution_count": null,
      "outputs": []
    }
  ]
}