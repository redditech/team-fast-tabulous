{
 "cells": [
  {
   "cell_type": "markdown",
   "metadata": {},
   "source": [
    "# Getting Kaggle Data for Homesite\n",
    "> Just a rehash of documentation on Kaggle, for getting Homesite competition Data.\n",
    "\n",
    "- toc: true \n",
    "- badges: true\n",
    "- comments: true\n",
    "- categories: [jupyter]\n",
    "- image: images/chart-preview.png"
   ]
  },
  {
   "cell_type": "markdown",
   "metadata": {},
   "source": [
    "# Introduction\n",
    "\n",
    "This notebook is a demonstration of what I did to get the [Homesite competition data from Kaggle](https://www.kaggle.com/c/homesite-quote-conversion/data).\n"
   ]
  },
  {
   "cell_type": "markdown",
   "metadata": {},
   "source": [
    "## Tools\n",
    "\n",
    "If you haven't installed the Kaggle tools, you would need to do so like this\n"
   ]
  },
  {
   "cell_type": "code",
   "execution_count": 1,
   "metadata": {},
   "outputs": [
    {
     "name": "stdout",
     "output_type": "stream",
     "text": [
      "Requirement already satisfied: kaggle in /usr/local/anaconda3/envs/fastai/lib/python3.8/site-packages (1.5.12)\n",
      "Requirement already satisfied: python-dateutil in /usr/local/anaconda3/envs/fastai/lib/python3.8/site-packages (from kaggle) (2.8.1)\n",
      "Requirement already satisfied: certifi in /usr/local/anaconda3/envs/fastai/lib/python3.8/site-packages (from kaggle) (2021.5.30)\n",
      "Requirement already satisfied: requests in /usr/local/anaconda3/envs/fastai/lib/python3.8/site-packages (from kaggle) (2.25.1)\n",
      "Requirement already satisfied: tqdm in /usr/local/anaconda3/envs/fastai/lib/python3.8/site-packages (from kaggle) (4.59.0)\n",
      "Requirement already satisfied: urllib3 in /usr/local/anaconda3/envs/fastai/lib/python3.8/site-packages (from kaggle) (1.26.4)\n",
      "Requirement already satisfied: python-slugify in /usr/local/anaconda3/envs/fastai/lib/python3.8/site-packages (from kaggle) (5.0.2)\n",
      "Requirement already satisfied: six>=1.10 in /usr/local/anaconda3/envs/fastai/lib/python3.8/site-packages (from kaggle) (1.16.0)\n",
      "Requirement already satisfied: text-unidecode>=1.3 in /usr/local/anaconda3/envs/fastai/lib/python3.8/site-packages (from python-slugify->kaggle) (1.3)\n",
      "Requirement already satisfied: chardet<5,>=3.0.2 in /usr/local/anaconda3/envs/fastai/lib/python3.8/site-packages (from requests->kaggle) (4.0.0)\n",
      "Requirement already satisfied: idna<3,>=2.5 in /usr/local/anaconda3/envs/fastai/lib/python3.8/site-packages (from requests->kaggle) (2.10)\n"
     ]
    }
   ],
   "source": [
    "!pip install kaggle --upgrade"
   ]
  },
  {
   "cell_type": "markdown",
   "metadata": {},
   "source": [
    "Then you need to download your Kaggle key following the instructions [here](https://github.com/Kaggle/kaggle-api#api-credentials)\n",
    "> You may need to create the `~/.kaggle` directory manually before copying the downloaded file `kaggle.json` file to that folder."
   ]
  },
  {
   "cell_type": "markdown",
   "metadata": {},
   "source": [
    "Follow the instructions as coded to download the kaggle data. For me, I use a `_data` folder that is excluded from checkins in the `.gitignore` to make sure I do not inadvertently upload it when I check in any changes to the repository, since I'm writing this blog post as I am coding. I'm not using any of the tabular stuff from `fastai` library *yet*, but I want to use some of the nice utility functions it gives me to make sure I do the command line stuff correctly and capture it in the notebook. So I need to install it."
   ]
  },
  {
   "cell_type": "code",
   "execution_count": 21,
   "metadata": {},
   "outputs": [
    {
     "name": "stdout",
     "output_type": "stream",
     "text": [
      "\n",
      "                  __    __    __    __\n",
      "                 /  \\  /  \\  /  \\  /  \\\n",
      "                /    \\/    \\/    \\/    \\\n",
      "███████████████/  /██/  /██/  /██/  /████████████████████████\n",
      "              /  / \\   / \\   / \\   / \\  \\____\n",
      "             /  /   \\_/   \\_/   \\_/   \\    o \\__,\n",
      "            / _/                       \\_____/  `\n",
      "            |/\n",
      "        ███╗   ███╗ █████╗ ███╗   ███╗██████╗  █████╗\n",
      "        ████╗ ████║██╔══██╗████╗ ████║██╔══██╗██╔══██╗\n",
      "        ██╔████╔██║███████║██╔████╔██║██████╔╝███████║\n",
      "        ██║╚██╔╝██║██╔══██║██║╚██╔╝██║██╔══██╗██╔══██║\n",
      "        ██║ ╚═╝ ██║██║  ██║██║ ╚═╝ ██║██████╔╝██║  ██║\n",
      "        ╚═╝     ╚═╝╚═╝  ╚═╝╚═╝     ╚═╝╚═════╝ ╚═╝  ╚═╝\n",
      "\n",
      "        mamba (0.13.0) supported by @QuantStack\n",
      "\n",
      "        GitHub:  https://github.com/mamba-org/mamba\n",
      "        Twitter: https://twitter.com/QuantStack\n",
      "\n",
      "█████████████████████████████████████████████████████████████\n",
      "\n",
      "\n",
      "Looking for: ['fastai']\n",
      "\n",
      "pkgs/main/noarch         [>                   ] (--:--) No change\n",
      "pkgs/main/noarch         [====================] (00m:00s) No change\n",
      "pkgs/main/osx-64         [>                   ] (--:--) No change\n",
      "pkgs/main/osx-64         [====================] (00m:00s) No change\n",
      "pkgs/r/osx-64            [=>                  ] (--:--) No change\n",
      "pkgs/r/osx-64            [====================] (00m:00s) No change\n",
      "pkgs/r/noarch            [=>                  ] (--:--) No change\n",
      "pkgs/r/noarch            [====================] (00m:00s) No change\n",
      "fastchan/osx-64          [=>                  ] (--:--) No change\n",
      "fastchan/osx-64          [====================] (00m:00s) No change\n",
      "fastchan/noarch          [>                   ] (--:--) No change\n",
      "fastchan/noarch          [====================] (00m:00s) No change\n",
      "Transaction\n",
      "\n",
      "  Prefix: /usr/local/anaconda3/envs/fastai\n",
      "\n",
      "  Updating specs:\n",
      "\n",
      "   - fastai\n",
      "\n",
      "\n",
      "  Package  Version  Build  Channel               Size\n",
      "───────────────────────────────────────────────────────\n",
      "  Install:\n",
      "───────────────────────────────────────────────────────\n",
      "\n",
      "\u001b[32m  fastai \u001b[00m      2.4  py_0   fastchan/noarch\u001b[32m     Cached\u001b[00m\n",
      "\n",
      "  Summary:\n",
      "\n",
      "  Install: 1 packages\n",
      "\n",
      "  Total download: 0  B\n",
      "\n",
      "───────────────────────────────────────────────────────\n",
      "\n",
      "Preparing transaction: done\n",
      "Verifying transaction: done\n",
      "Executing transaction: done\n"
     ]
    }
   ],
   "source": [
    "!mamba install -c fastchan fastai -y"
   ]
  },
  {
   "cell_type": "markdown",
   "metadata": {},
   "source": [
    "Now I have to load fastai and I can get the utilities I want."
   ]
  },
  {
   "cell_type": "code",
   "execution_count": 22,
   "metadata": {},
   "outputs": [],
   "source": [
    "from fastai.tabular.all import *\n"
   ]
  },
  {
   "cell_type": "code",
   "execution_count": 25,
   "metadata": {},
   "outputs": [
    {
     "data": {
      "text/plain": [
       "Path('/Users/nissan/code/team-fast-tabulous/_notebooks')"
      ]
     },
     "execution_count": 25,
     "metadata": {},
     "output_type": "execute_result"
    }
   ],
   "source": [
    "Path.cwd()"
   ]
  },
  {
   "cell_type": "code",
   "execution_count": 26,
   "metadata": {},
   "outputs": [
    {
     "data": {
      "text/plain": [
       "Path('/Users/nissan/code/team-fast-tabulous/_data')"
      ]
     },
     "execution_count": 26,
     "metadata": {},
     "output_type": "execute_result"
    }
   ],
   "source": [
    "os.chdir('../_data')\n",
    "Path.cwd()"
   ]
  },
  {
   "cell_type": "code",
   "execution_count": 7,
   "metadata": {},
   "outputs": [
    {
     "name": "stdout",
     "output_type": "stream",
     "text": [
      "Warning: Your Kaggle API key is readable by other users on this system! To fix this, you can run 'chmod 600 /Users/nissan/.kaggle/kaggle.json'\n",
      "Downloading homesite-quote-conversion.zip to /Users/nissan/code/team-fast-tabulous/_data\n",
      "100%|█████████████████████████████████████▉| 62.0M/62.0M [00:05<00:00, 11.3MB/s]\n",
      "100%|██████████████████████████████████████| 62.0M/62.0M [00:05<00:00, 11.0MB/s]\n"
     ]
    }
   ],
   "source": [
    "!kaggle competitions download -c homesite-quote-conversion"
   ]
  },
  {
   "cell_type": "code",
   "execution_count": 27,
   "metadata": {},
   "outputs": [
    {
     "data": {
      "text/plain": [
       "(#1) [Path('/Users/nissan/code/team-fast-tabulous/_data/homesite-quote-conversion.zip')]"
      ]
     },
     "execution_count": 27,
     "metadata": {},
     "output_type": "execute_result"
    }
   ],
   "source": [
    "path.ls()"
   ]
  },
  {
   "cell_type": "markdown",
   "metadata": {},
   "source": [
    "Unfortunately, `untar_data` doesn't support zip format, so we need another tool, `file_extract` for this"
   ]
  },
  {
   "cell_type": "code",
   "execution_count": 28,
   "metadata": {},
   "outputs": [],
   "source": [
    "file_extract('homesite-quote-conversion.zip')"
   ]
  },
  {
   "cell_type": "code",
   "execution_count": 30,
   "metadata": {},
   "outputs": [
    {
     "data": {
      "text/plain": [
       "(#4) [Path('/Users/nissan/code/team-fast-tabulous/_data/homesite-quote-conversion.zip'),Path('/Users/nissan/code/team-fast-tabulous/_data/test.csv.zip'),Path('/Users/nissan/code/team-fast-tabulous/_data/train.csv.zip'),Path('/Users/nissan/code/team-fast-tabulous/_data/sample_submission.csv.zip')]"
      ]
     },
     "execution_count": 30,
     "metadata": {},
     "output_type": "execute_result"
    }
   ],
   "source": [
    "path.ls()"
   ]
  },
  {
   "cell_type": "code",
   "execution_count": 32,
   "metadata": {},
   "outputs": [
    {
     "data": {
      "text/plain": [
       "(#7) [Path('/Users/nissan/code/team-fast-tabulous/_data/test.csv'),Path('/Users/nissan/code/team-fast-tabulous/_data/homesite-quote-conversion.zip'),Path('/Users/nissan/code/team-fast-tabulous/_data/train.csv'),Path('/Users/nissan/code/team-fast-tabulous/_data/test.csv.zip'),Path('/Users/nissan/code/team-fast-tabulous/_data/train.csv.zip'),Path('/Users/nissan/code/team-fast-tabulous/_data/sample_submission.csv.zip'),Path('/Users/nissan/code/team-fast-tabulous/_data/sample_submission.csv')]"
      ]
     },
     "execution_count": 32,
     "metadata": {},
     "output_type": "execute_result"
    }
   ],
   "source": [
    "file_extract('test.csv.zip')\n",
    "file_extract('train.csv.zip')\n",
    "file_extract('sample_submission.csv.zip')\n",
    "path.ls()"
   ]
  },
  {
   "cell_type": "markdown",
   "metadata": {},
   "source": [
    "And there you have it. I have the uncompressed data available, and can now start doing some exploratory data analysis on it."
   ]
  },
  {
   "cell_type": "code",
   "execution_count": null,
   "metadata": {},
   "outputs": [],
   "source": []
  }
 ],
 "metadata": {
  "kernelspec": {
   "display_name": "Python 3",
   "language": "python",
   "name": "python3"
  },
  "language_info": {
   "codemirror_mode": {
    "name": "ipython",
    "version": 3
   },
   "file_extension": ".py",
   "mimetype": "text/x-python",
   "name": "python",
   "nbconvert_exporter": "python",
   "pygments_lexer": "ipython3",
   "version": "3.8.10"
  },
  "varInspector": {
   "cols": {
    "lenName": 16,
    "lenType": 16,
    "lenVar": 40
   },
   "kernels_config": {
    "python": {
     "delete_cmd_postfix": "",
     "delete_cmd_prefix": "del ",
     "library": "var_list.py",
     "varRefreshCmd": "print(var_dic_list())"
    },
    "r": {
     "delete_cmd_postfix": ") ",
     "delete_cmd_prefix": "rm(",
     "library": "var_list.r",
     "varRefreshCmd": "cat(var_dic_list()) "
    }
   },
   "types_to_exclude": [
    "module",
    "function",
    "builtin_function_or_method",
    "instance",
    "_Feature"
   ],
   "window_display": false
  }
 },
 "nbformat": 4,
 "nbformat_minor": 4
}
